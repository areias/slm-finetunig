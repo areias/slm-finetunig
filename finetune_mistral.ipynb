{
  "nbformat": 4,
  "nbformat_minor": 0,
  "metadata": {
    "colab": {
      "provenance": [],
      "gpuType": "T4",
      "include_colab_link": true
    },
    "kernelspec": {
      "name": "python3",
      "display_name": "Python 3"
    },
    "language_info": {
      "name": "python"
    },
    "widgets": {
      "application/vnd.jupyter.widget-state+json": {
        "f5b0f8e7507f40cca3bef8d695598bba": {
          "model_module": "@jupyter-widgets/controls",
          "model_name": "HBoxModel",
          "model_module_version": "1.5.0",
          "state": {
            "_dom_classes": [],
            "_model_module": "@jupyter-widgets/controls",
            "_model_module_version": "1.5.0",
            "_model_name": "HBoxModel",
            "_view_count": null,
            "_view_module": "@jupyter-widgets/controls",
            "_view_module_version": "1.5.0",
            "_view_name": "HBoxView",
            "box_style": "",
            "children": [
              "IPY_MODEL_f9f292decd83476197eef6ca714a52a2",
              "IPY_MODEL_9099cb3d34534d59ba7430dadf22d46a",
              "IPY_MODEL_38ca203a982a41d6819d706348de9ab0"
            ],
            "layout": "IPY_MODEL_f9f6736b86624411afb9311357f98be1"
          }
        },
        "f9f292decd83476197eef6ca714a52a2": {
          "model_module": "@jupyter-widgets/controls",
          "model_name": "HTMLModel",
          "model_module_version": "1.5.0",
          "state": {
            "_dom_classes": [],
            "_model_module": "@jupyter-widgets/controls",
            "_model_module_version": "1.5.0",
            "_model_name": "HTMLModel",
            "_view_count": null,
            "_view_module": "@jupyter-widgets/controls",
            "_view_module_version": "1.5.0",
            "_view_name": "HTMLView",
            "description": "",
            "description_tooltip": null,
            "layout": "IPY_MODEL_db5164af48f4423397e02c85a2900aaa",
            "placeholder": "​",
            "style": "IPY_MODEL_9e89c37f28fd49f6a579217199d9ddde",
            "value": "config.json: 100%"
          }
        },
        "9099cb3d34534d59ba7430dadf22d46a": {
          "model_module": "@jupyter-widgets/controls",
          "model_name": "FloatProgressModel",
          "model_module_version": "1.5.0",
          "state": {
            "_dom_classes": [],
            "_model_module": "@jupyter-widgets/controls",
            "_model_module_version": "1.5.0",
            "_model_name": "FloatProgressModel",
            "_view_count": null,
            "_view_module": "@jupyter-widgets/controls",
            "_view_module_version": "1.5.0",
            "_view_name": "ProgressView",
            "bar_style": "success",
            "description": "",
            "description_tooltip": null,
            "layout": "IPY_MODEL_b5dac522b77e46ff9368885d9e919248",
            "max": 596,
            "min": 0,
            "orientation": "horizontal",
            "style": "IPY_MODEL_9149f366f9d946fc81b1e2040106ac37",
            "value": 596
          }
        },
        "38ca203a982a41d6819d706348de9ab0": {
          "model_module": "@jupyter-widgets/controls",
          "model_name": "HTMLModel",
          "model_module_version": "1.5.0",
          "state": {
            "_dom_classes": [],
            "_model_module": "@jupyter-widgets/controls",
            "_model_module_version": "1.5.0",
            "_model_name": "HTMLModel",
            "_view_count": null,
            "_view_module": "@jupyter-widgets/controls",
            "_view_module_version": "1.5.0",
            "_view_name": "HTMLView",
            "description": "",
            "description_tooltip": null,
            "layout": "IPY_MODEL_8318d7428d15478d80f17976e76403b3",
            "placeholder": "​",
            "style": "IPY_MODEL_7f9729ebe3204ceaba67380a2008b0b3",
            "value": " 596/596 [00:00&lt;00:00, 29.3kB/s]"
          }
        },
        "f9f6736b86624411afb9311357f98be1": {
          "model_module": "@jupyter-widgets/base",
          "model_name": "LayoutModel",
          "model_module_version": "1.2.0",
          "state": {
            "_model_module": "@jupyter-widgets/base",
            "_model_module_version": "1.2.0",
            "_model_name": "LayoutModel",
            "_view_count": null,
            "_view_module": "@jupyter-widgets/base",
            "_view_module_version": "1.2.0",
            "_view_name": "LayoutView",
            "align_content": null,
            "align_items": null,
            "align_self": null,
            "border": null,
            "bottom": null,
            "display": null,
            "flex": null,
            "flex_flow": null,
            "grid_area": null,
            "grid_auto_columns": null,
            "grid_auto_flow": null,
            "grid_auto_rows": null,
            "grid_column": null,
            "grid_gap": null,
            "grid_row": null,
            "grid_template_areas": null,
            "grid_template_columns": null,
            "grid_template_rows": null,
            "height": null,
            "justify_content": null,
            "justify_items": null,
            "left": null,
            "margin": null,
            "max_height": null,
            "max_width": null,
            "min_height": null,
            "min_width": null,
            "object_fit": null,
            "object_position": null,
            "order": null,
            "overflow": null,
            "overflow_x": null,
            "overflow_y": null,
            "padding": null,
            "right": null,
            "top": null,
            "visibility": null,
            "width": null
          }
        },
        "db5164af48f4423397e02c85a2900aaa": {
          "model_module": "@jupyter-widgets/base",
          "model_name": "LayoutModel",
          "model_module_version": "1.2.0",
          "state": {
            "_model_module": "@jupyter-widgets/base",
            "_model_module_version": "1.2.0",
            "_model_name": "LayoutModel",
            "_view_count": null,
            "_view_module": "@jupyter-widgets/base",
            "_view_module_version": "1.2.0",
            "_view_name": "LayoutView",
            "align_content": null,
            "align_items": null,
            "align_self": null,
            "border": null,
            "bottom": null,
            "display": null,
            "flex": null,
            "flex_flow": null,
            "grid_area": null,
            "grid_auto_columns": null,
            "grid_auto_flow": null,
            "grid_auto_rows": null,
            "grid_column": null,
            "grid_gap": null,
            "grid_row": null,
            "grid_template_areas": null,
            "grid_template_columns": null,
            "grid_template_rows": null,
            "height": null,
            "justify_content": null,
            "justify_items": null,
            "left": null,
            "margin": null,
            "max_height": null,
            "max_width": null,
            "min_height": null,
            "min_width": null,
            "object_fit": null,
            "object_position": null,
            "order": null,
            "overflow": null,
            "overflow_x": null,
            "overflow_y": null,
            "padding": null,
            "right": null,
            "top": null,
            "visibility": null,
            "width": null
          }
        },
        "9e89c37f28fd49f6a579217199d9ddde": {
          "model_module": "@jupyter-widgets/controls",
          "model_name": "DescriptionStyleModel",
          "model_module_version": "1.5.0",
          "state": {
            "_model_module": "@jupyter-widgets/controls",
            "_model_module_version": "1.5.0",
            "_model_name": "DescriptionStyleModel",
            "_view_count": null,
            "_view_module": "@jupyter-widgets/base",
            "_view_module_version": "1.2.0",
            "_view_name": "StyleView",
            "description_width": ""
          }
        },
        "b5dac522b77e46ff9368885d9e919248": {
          "model_module": "@jupyter-widgets/base",
          "model_name": "LayoutModel",
          "model_module_version": "1.2.0",
          "state": {
            "_model_module": "@jupyter-widgets/base",
            "_model_module_version": "1.2.0",
            "_model_name": "LayoutModel",
            "_view_count": null,
            "_view_module": "@jupyter-widgets/base",
            "_view_module_version": "1.2.0",
            "_view_name": "LayoutView",
            "align_content": null,
            "align_items": null,
            "align_self": null,
            "border": null,
            "bottom": null,
            "display": null,
            "flex": null,
            "flex_flow": null,
            "grid_area": null,
            "grid_auto_columns": null,
            "grid_auto_flow": null,
            "grid_auto_rows": null,
            "grid_column": null,
            "grid_gap": null,
            "grid_row": null,
            "grid_template_areas": null,
            "grid_template_columns": null,
            "grid_template_rows": null,
            "height": null,
            "justify_content": null,
            "justify_items": null,
            "left": null,
            "margin": null,
            "max_height": null,
            "max_width": null,
            "min_height": null,
            "min_width": null,
            "object_fit": null,
            "object_position": null,
            "order": null,
            "overflow": null,
            "overflow_x": null,
            "overflow_y": null,
            "padding": null,
            "right": null,
            "top": null,
            "visibility": null,
            "width": null
          }
        },
        "9149f366f9d946fc81b1e2040106ac37": {
          "model_module": "@jupyter-widgets/controls",
          "model_name": "ProgressStyleModel",
          "model_module_version": "1.5.0",
          "state": {
            "_model_module": "@jupyter-widgets/controls",
            "_model_module_version": "1.5.0",
            "_model_name": "ProgressStyleModel",
            "_view_count": null,
            "_view_module": "@jupyter-widgets/base",
            "_view_module_version": "1.2.0",
            "_view_name": "StyleView",
            "bar_color": null,
            "description_width": ""
          }
        },
        "8318d7428d15478d80f17976e76403b3": {
          "model_module": "@jupyter-widgets/base",
          "model_name": "LayoutModel",
          "model_module_version": "1.2.0",
          "state": {
            "_model_module": "@jupyter-widgets/base",
            "_model_module_version": "1.2.0",
            "_model_name": "LayoutModel",
            "_view_count": null,
            "_view_module": "@jupyter-widgets/base",
            "_view_module_version": "1.2.0",
            "_view_name": "LayoutView",
            "align_content": null,
            "align_items": null,
            "align_self": null,
            "border": null,
            "bottom": null,
            "display": null,
            "flex": null,
            "flex_flow": null,
            "grid_area": null,
            "grid_auto_columns": null,
            "grid_auto_flow": null,
            "grid_auto_rows": null,
            "grid_column": null,
            "grid_gap": null,
            "grid_row": null,
            "grid_template_areas": null,
            "grid_template_columns": null,
            "grid_template_rows": null,
            "height": null,
            "justify_content": null,
            "justify_items": null,
            "left": null,
            "margin": null,
            "max_height": null,
            "max_width": null,
            "min_height": null,
            "min_width": null,
            "object_fit": null,
            "object_position": null,
            "order": null,
            "overflow": null,
            "overflow_x": null,
            "overflow_y": null,
            "padding": null,
            "right": null,
            "top": null,
            "visibility": null,
            "width": null
          }
        },
        "7f9729ebe3204ceaba67380a2008b0b3": {
          "model_module": "@jupyter-widgets/controls",
          "model_name": "DescriptionStyleModel",
          "model_module_version": "1.5.0",
          "state": {
            "_model_module": "@jupyter-widgets/controls",
            "_model_module_version": "1.5.0",
            "_model_name": "DescriptionStyleModel",
            "_view_count": null,
            "_view_module": "@jupyter-widgets/base",
            "_view_module_version": "1.2.0",
            "_view_name": "StyleView",
            "description_width": ""
          }
        },
        "067e9d7916b64e27a5a8204f9ba9159c": {
          "model_module": "@jupyter-widgets/controls",
          "model_name": "HBoxModel",
          "model_module_version": "1.5.0",
          "state": {
            "_dom_classes": [],
            "_model_module": "@jupyter-widgets/controls",
            "_model_module_version": "1.5.0",
            "_model_name": "HBoxModel",
            "_view_count": null,
            "_view_module": "@jupyter-widgets/controls",
            "_view_module_version": "1.5.0",
            "_view_name": "HBoxView",
            "box_style": "",
            "children": [
              "IPY_MODEL_36bf699863f5467589be5d68c6888115",
              "IPY_MODEL_1b0aed69693048629869c0cbcb649d70",
              "IPY_MODEL_0f9061fa690448c5b78ce9f56a0d7341"
            ],
            "layout": "IPY_MODEL_f2a2b8e0fec547039ad8be0f075e8668"
          }
        },
        "36bf699863f5467589be5d68c6888115": {
          "model_module": "@jupyter-widgets/controls",
          "model_name": "HTMLModel",
          "model_module_version": "1.5.0",
          "state": {
            "_dom_classes": [],
            "_model_module": "@jupyter-widgets/controls",
            "_model_module_version": "1.5.0",
            "_model_name": "HTMLModel",
            "_view_count": null,
            "_view_module": "@jupyter-widgets/controls",
            "_view_module_version": "1.5.0",
            "_view_name": "HTMLView",
            "description": "",
            "description_tooltip": null,
            "layout": "IPY_MODEL_d68f5e06479b424cb5747fe7604b0628",
            "placeholder": "​",
            "style": "IPY_MODEL_95b63ad7b5494ab0ae05da81e14a3f54",
            "value": "model.safetensors.index.json: 100%"
          }
        },
        "1b0aed69693048629869c0cbcb649d70": {
          "model_module": "@jupyter-widgets/controls",
          "model_name": "FloatProgressModel",
          "model_module_version": "1.5.0",
          "state": {
            "_dom_classes": [],
            "_model_module": "@jupyter-widgets/controls",
            "_model_module_version": "1.5.0",
            "_model_name": "FloatProgressModel",
            "_view_count": null,
            "_view_module": "@jupyter-widgets/controls",
            "_view_module_version": "1.5.0",
            "_view_name": "ProgressView",
            "bar_style": "success",
            "description": "",
            "description_tooltip": null,
            "layout": "IPY_MODEL_49d531d0b980489381e791370071e714",
            "max": 25125,
            "min": 0,
            "orientation": "horizontal",
            "style": "IPY_MODEL_0bfe52d5f857432ba13501da821a5fa7",
            "value": 25125
          }
        },
        "0f9061fa690448c5b78ce9f56a0d7341": {
          "model_module": "@jupyter-widgets/controls",
          "model_name": "HTMLModel",
          "model_module_version": "1.5.0",
          "state": {
            "_dom_classes": [],
            "_model_module": "@jupyter-widgets/controls",
            "_model_module_version": "1.5.0",
            "_model_name": "HTMLModel",
            "_view_count": null,
            "_view_module": "@jupyter-widgets/controls",
            "_view_module_version": "1.5.0",
            "_view_name": "HTMLView",
            "description": "",
            "description_tooltip": null,
            "layout": "IPY_MODEL_3b333c0a2d9d442c96e8a5976772fe84",
            "placeholder": "​",
            "style": "IPY_MODEL_ad9686f766e141b7954c10cbfb5582ec",
            "value": " 25.1k/25.1k [00:00&lt;00:00, 1.63MB/s]"
          }
        },
        "f2a2b8e0fec547039ad8be0f075e8668": {
          "model_module": "@jupyter-widgets/base",
          "model_name": "LayoutModel",
          "model_module_version": "1.2.0",
          "state": {
            "_model_module": "@jupyter-widgets/base",
            "_model_module_version": "1.2.0",
            "_model_name": "LayoutModel",
            "_view_count": null,
            "_view_module": "@jupyter-widgets/base",
            "_view_module_version": "1.2.0",
            "_view_name": "LayoutView",
            "align_content": null,
            "align_items": null,
            "align_self": null,
            "border": null,
            "bottom": null,
            "display": null,
            "flex": null,
            "flex_flow": null,
            "grid_area": null,
            "grid_auto_columns": null,
            "grid_auto_flow": null,
            "grid_auto_rows": null,
            "grid_column": null,
            "grid_gap": null,
            "grid_row": null,
            "grid_template_areas": null,
            "grid_template_columns": null,
            "grid_template_rows": null,
            "height": null,
            "justify_content": null,
            "justify_items": null,
            "left": null,
            "margin": null,
            "max_height": null,
            "max_width": null,
            "min_height": null,
            "min_width": null,
            "object_fit": null,
            "object_position": null,
            "order": null,
            "overflow": null,
            "overflow_x": null,
            "overflow_y": null,
            "padding": null,
            "right": null,
            "top": null,
            "visibility": null,
            "width": null
          }
        },
        "d68f5e06479b424cb5747fe7604b0628": {
          "model_module": "@jupyter-widgets/base",
          "model_name": "LayoutModel",
          "model_module_version": "1.2.0",
          "state": {
            "_model_module": "@jupyter-widgets/base",
            "_model_module_version": "1.2.0",
            "_model_name": "LayoutModel",
            "_view_count": null,
            "_view_module": "@jupyter-widgets/base",
            "_view_module_version": "1.2.0",
            "_view_name": "LayoutView",
            "align_content": null,
            "align_items": null,
            "align_self": null,
            "border": null,
            "bottom": null,
            "display": null,
            "flex": null,
            "flex_flow": null,
            "grid_area": null,
            "grid_auto_columns": null,
            "grid_auto_flow": null,
            "grid_auto_rows": null,
            "grid_column": null,
            "grid_gap": null,
            "grid_row": null,
            "grid_template_areas": null,
            "grid_template_columns": null,
            "grid_template_rows": null,
            "height": null,
            "justify_content": null,
            "justify_items": null,
            "left": null,
            "margin": null,
            "max_height": null,
            "max_width": null,
            "min_height": null,
            "min_width": null,
            "object_fit": null,
            "object_position": null,
            "order": null,
            "overflow": null,
            "overflow_x": null,
            "overflow_y": null,
            "padding": null,
            "right": null,
            "top": null,
            "visibility": null,
            "width": null
          }
        },
        "95b63ad7b5494ab0ae05da81e14a3f54": {
          "model_module": "@jupyter-widgets/controls",
          "model_name": "DescriptionStyleModel",
          "model_module_version": "1.5.0",
          "state": {
            "_model_module": "@jupyter-widgets/controls",
            "_model_module_version": "1.5.0",
            "_model_name": "DescriptionStyleModel",
            "_view_count": null,
            "_view_module": "@jupyter-widgets/base",
            "_view_module_version": "1.2.0",
            "_view_name": "StyleView",
            "description_width": ""
          }
        },
        "49d531d0b980489381e791370071e714": {
          "model_module": "@jupyter-widgets/base",
          "model_name": "LayoutModel",
          "model_module_version": "1.2.0",
          "state": {
            "_model_module": "@jupyter-widgets/base",
            "_model_module_version": "1.2.0",
            "_model_name": "LayoutModel",
            "_view_count": null,
            "_view_module": "@jupyter-widgets/base",
            "_view_module_version": "1.2.0",
            "_view_name": "LayoutView",
            "align_content": null,
            "align_items": null,
            "align_self": null,
            "border": null,
            "bottom": null,
            "display": null,
            "flex": null,
            "flex_flow": null,
            "grid_area": null,
            "grid_auto_columns": null,
            "grid_auto_flow": null,
            "grid_auto_rows": null,
            "grid_column": null,
            "grid_gap": null,
            "grid_row": null,
            "grid_template_areas": null,
            "grid_template_columns": null,
            "grid_template_rows": null,
            "height": null,
            "justify_content": null,
            "justify_items": null,
            "left": null,
            "margin": null,
            "max_height": null,
            "max_width": null,
            "min_height": null,
            "min_width": null,
            "object_fit": null,
            "object_position": null,
            "order": null,
            "overflow": null,
            "overflow_x": null,
            "overflow_y": null,
            "padding": null,
            "right": null,
            "top": null,
            "visibility": null,
            "width": null
          }
        },
        "0bfe52d5f857432ba13501da821a5fa7": {
          "model_module": "@jupyter-widgets/controls",
          "model_name": "ProgressStyleModel",
          "model_module_version": "1.5.0",
          "state": {
            "_model_module": "@jupyter-widgets/controls",
            "_model_module_version": "1.5.0",
            "_model_name": "ProgressStyleModel",
            "_view_count": null,
            "_view_module": "@jupyter-widgets/base",
            "_view_module_version": "1.2.0",
            "_view_name": "StyleView",
            "bar_color": null,
            "description_width": ""
          }
        },
        "3b333c0a2d9d442c96e8a5976772fe84": {
          "model_module": "@jupyter-widgets/base",
          "model_name": "LayoutModel",
          "model_module_version": "1.2.0",
          "state": {
            "_model_module": "@jupyter-widgets/base",
            "_model_module_version": "1.2.0",
            "_model_name": "LayoutModel",
            "_view_count": null,
            "_view_module": "@jupyter-widgets/base",
            "_view_module_version": "1.2.0",
            "_view_name": "LayoutView",
            "align_content": null,
            "align_items": null,
            "align_self": null,
            "border": null,
            "bottom": null,
            "display": null,
            "flex": null,
            "flex_flow": null,
            "grid_area": null,
            "grid_auto_columns": null,
            "grid_auto_flow": null,
            "grid_auto_rows": null,
            "grid_column": null,
            "grid_gap": null,
            "grid_row": null,
            "grid_template_areas": null,
            "grid_template_columns": null,
            "grid_template_rows": null,
            "height": null,
            "justify_content": null,
            "justify_items": null,
            "left": null,
            "margin": null,
            "max_height": null,
            "max_width": null,
            "min_height": null,
            "min_width": null,
            "object_fit": null,
            "object_position": null,
            "order": null,
            "overflow": null,
            "overflow_x": null,
            "overflow_y": null,
            "padding": null,
            "right": null,
            "top": null,
            "visibility": null,
            "width": null
          }
        },
        "ad9686f766e141b7954c10cbfb5582ec": {
          "model_module": "@jupyter-widgets/controls",
          "model_name": "DescriptionStyleModel",
          "model_module_version": "1.5.0",
          "state": {
            "_model_module": "@jupyter-widgets/controls",
            "_model_module_version": "1.5.0",
            "_model_name": "DescriptionStyleModel",
            "_view_count": null,
            "_view_module": "@jupyter-widgets/base",
            "_view_module_version": "1.2.0",
            "_view_name": "StyleView",
            "description_width": ""
          }
        },
        "f15ff8bea12040719dd1e7efb7a46803": {
          "model_module": "@jupyter-widgets/controls",
          "model_name": "HBoxModel",
          "model_module_version": "1.5.0",
          "state": {
            "_dom_classes": [],
            "_model_module": "@jupyter-widgets/controls",
            "_model_module_version": "1.5.0",
            "_model_name": "HBoxModel",
            "_view_count": null,
            "_view_module": "@jupyter-widgets/controls",
            "_view_module_version": "1.5.0",
            "_view_name": "HBoxView",
            "box_style": "",
            "children": [
              "IPY_MODEL_0cf32fe4be6b420a97e328cb031c4a3e",
              "IPY_MODEL_a1768c004c8445398dcc43e2bf95e99c",
              "IPY_MODEL_2ca63cd9e43a4412a56dfd14dfbc085c"
            ],
            "layout": "IPY_MODEL_c0a1e2e9f7334b9f8cf3a95335880675"
          }
        },
        "0cf32fe4be6b420a97e328cb031c4a3e": {
          "model_module": "@jupyter-widgets/controls",
          "model_name": "HTMLModel",
          "model_module_version": "1.5.0",
          "state": {
            "_dom_classes": [],
            "_model_module": "@jupyter-widgets/controls",
            "_model_module_version": "1.5.0",
            "_model_name": "HTMLModel",
            "_view_count": null,
            "_view_module": "@jupyter-widgets/controls",
            "_view_module_version": "1.5.0",
            "_view_name": "HTMLView",
            "description": "",
            "description_tooltip": null,
            "layout": "IPY_MODEL_49baf2502f2f435c964f5600b04ad348",
            "placeholder": "​",
            "style": "IPY_MODEL_109be322213044489a8378150b027947",
            "value": "Downloading shards: 100%"
          }
        },
        "a1768c004c8445398dcc43e2bf95e99c": {
          "model_module": "@jupyter-widgets/controls",
          "model_name": "FloatProgressModel",
          "model_module_version": "1.5.0",
          "state": {
            "_dom_classes": [],
            "_model_module": "@jupyter-widgets/controls",
            "_model_module_version": "1.5.0",
            "_model_name": "FloatProgressModel",
            "_view_count": null,
            "_view_module": "@jupyter-widgets/controls",
            "_view_module_version": "1.5.0",
            "_view_name": "ProgressView",
            "bar_style": "success",
            "description": "",
            "description_tooltip": null,
            "layout": "IPY_MODEL_c7a3dae34d094ff8a3c0b2d8ce3914fb",
            "max": 3,
            "min": 0,
            "orientation": "horizontal",
            "style": "IPY_MODEL_0f31b7e60686468aabb3eaddd7f0c53d",
            "value": 3
          }
        },
        "2ca63cd9e43a4412a56dfd14dfbc085c": {
          "model_module": "@jupyter-widgets/controls",
          "model_name": "HTMLModel",
          "model_module_version": "1.5.0",
          "state": {
            "_dom_classes": [],
            "_model_module": "@jupyter-widgets/controls",
            "_model_module_version": "1.5.0",
            "_model_name": "HTMLModel",
            "_view_count": null,
            "_view_module": "@jupyter-widgets/controls",
            "_view_module_version": "1.5.0",
            "_view_name": "HTMLView",
            "description": "",
            "description_tooltip": null,
            "layout": "IPY_MODEL_8a1cf296102d4facb940a4b8b1488803",
            "placeholder": "​",
            "style": "IPY_MODEL_5b2cefa996224927875672ebc8cddc53",
            "value": " 3/3 [02:16&lt;00:00, 43.43s/it]"
          }
        },
        "c0a1e2e9f7334b9f8cf3a95335880675": {
          "model_module": "@jupyter-widgets/base",
          "model_name": "LayoutModel",
          "model_module_version": "1.2.0",
          "state": {
            "_model_module": "@jupyter-widgets/base",
            "_model_module_version": "1.2.0",
            "_model_name": "LayoutModel",
            "_view_count": null,
            "_view_module": "@jupyter-widgets/base",
            "_view_module_version": "1.2.0",
            "_view_name": "LayoutView",
            "align_content": null,
            "align_items": null,
            "align_self": null,
            "border": null,
            "bottom": null,
            "display": null,
            "flex": null,
            "flex_flow": null,
            "grid_area": null,
            "grid_auto_columns": null,
            "grid_auto_flow": null,
            "grid_auto_rows": null,
            "grid_column": null,
            "grid_gap": null,
            "grid_row": null,
            "grid_template_areas": null,
            "grid_template_columns": null,
            "grid_template_rows": null,
            "height": null,
            "justify_content": null,
            "justify_items": null,
            "left": null,
            "margin": null,
            "max_height": null,
            "max_width": null,
            "min_height": null,
            "min_width": null,
            "object_fit": null,
            "object_position": null,
            "order": null,
            "overflow": null,
            "overflow_x": null,
            "overflow_y": null,
            "padding": null,
            "right": null,
            "top": null,
            "visibility": null,
            "width": null
          }
        },
        "49baf2502f2f435c964f5600b04ad348": {
          "model_module": "@jupyter-widgets/base",
          "model_name": "LayoutModel",
          "model_module_version": "1.2.0",
          "state": {
            "_model_module": "@jupyter-widgets/base",
            "_model_module_version": "1.2.0",
            "_model_name": "LayoutModel",
            "_view_count": null,
            "_view_module": "@jupyter-widgets/base",
            "_view_module_version": "1.2.0",
            "_view_name": "LayoutView",
            "align_content": null,
            "align_items": null,
            "align_self": null,
            "border": null,
            "bottom": null,
            "display": null,
            "flex": null,
            "flex_flow": null,
            "grid_area": null,
            "grid_auto_columns": null,
            "grid_auto_flow": null,
            "grid_auto_rows": null,
            "grid_column": null,
            "grid_gap": null,
            "grid_row": null,
            "grid_template_areas": null,
            "grid_template_columns": null,
            "grid_template_rows": null,
            "height": null,
            "justify_content": null,
            "justify_items": null,
            "left": null,
            "margin": null,
            "max_height": null,
            "max_width": null,
            "min_height": null,
            "min_width": null,
            "object_fit": null,
            "object_position": null,
            "order": null,
            "overflow": null,
            "overflow_x": null,
            "overflow_y": null,
            "padding": null,
            "right": null,
            "top": null,
            "visibility": null,
            "width": null
          }
        },
        "109be322213044489a8378150b027947": {
          "model_module": "@jupyter-widgets/controls",
          "model_name": "DescriptionStyleModel",
          "model_module_version": "1.5.0",
          "state": {
            "_model_module": "@jupyter-widgets/controls",
            "_model_module_version": "1.5.0",
            "_model_name": "DescriptionStyleModel",
            "_view_count": null,
            "_view_module": "@jupyter-widgets/base",
            "_view_module_version": "1.2.0",
            "_view_name": "StyleView",
            "description_width": ""
          }
        },
        "c7a3dae34d094ff8a3c0b2d8ce3914fb": {
          "model_module": "@jupyter-widgets/base",
          "model_name": "LayoutModel",
          "model_module_version": "1.2.0",
          "state": {
            "_model_module": "@jupyter-widgets/base",
            "_model_module_version": "1.2.0",
            "_model_name": "LayoutModel",
            "_view_count": null,
            "_view_module": "@jupyter-widgets/base",
            "_view_module_version": "1.2.0",
            "_view_name": "LayoutView",
            "align_content": null,
            "align_items": null,
            "align_self": null,
            "border": null,
            "bottom": null,
            "display": null,
            "flex": null,
            "flex_flow": null,
            "grid_area": null,
            "grid_auto_columns": null,
            "grid_auto_flow": null,
            "grid_auto_rows": null,
            "grid_column": null,
            "grid_gap": null,
            "grid_row": null,
            "grid_template_areas": null,
            "grid_template_columns": null,
            "grid_template_rows": null,
            "height": null,
            "justify_content": null,
            "justify_items": null,
            "left": null,
            "margin": null,
            "max_height": null,
            "max_width": null,
            "min_height": null,
            "min_width": null,
            "object_fit": null,
            "object_position": null,
            "order": null,
            "overflow": null,
            "overflow_x": null,
            "overflow_y": null,
            "padding": null,
            "right": null,
            "top": null,
            "visibility": null,
            "width": null
          }
        },
        "0f31b7e60686468aabb3eaddd7f0c53d": {
          "model_module": "@jupyter-widgets/controls",
          "model_name": "ProgressStyleModel",
          "model_module_version": "1.5.0",
          "state": {
            "_model_module": "@jupyter-widgets/controls",
            "_model_module_version": "1.5.0",
            "_model_name": "ProgressStyleModel",
            "_view_count": null,
            "_view_module": "@jupyter-widgets/base",
            "_view_module_version": "1.2.0",
            "_view_name": "StyleView",
            "bar_color": null,
            "description_width": ""
          }
        },
        "8a1cf296102d4facb940a4b8b1488803": {
          "model_module": "@jupyter-widgets/base",
          "model_name": "LayoutModel",
          "model_module_version": "1.2.0",
          "state": {
            "_model_module": "@jupyter-widgets/base",
            "_model_module_version": "1.2.0",
            "_model_name": "LayoutModel",
            "_view_count": null,
            "_view_module": "@jupyter-widgets/base",
            "_view_module_version": "1.2.0",
            "_view_name": "LayoutView",
            "align_content": null,
            "align_items": null,
            "align_self": null,
            "border": null,
            "bottom": null,
            "display": null,
            "flex": null,
            "flex_flow": null,
            "grid_area": null,
            "grid_auto_columns": null,
            "grid_auto_flow": null,
            "grid_auto_rows": null,
            "grid_column": null,
            "grid_gap": null,
            "grid_row": null,
            "grid_template_areas": null,
            "grid_template_columns": null,
            "grid_template_rows": null,
            "height": null,
            "justify_content": null,
            "justify_items": null,
            "left": null,
            "margin": null,
            "max_height": null,
            "max_width": null,
            "min_height": null,
            "min_width": null,
            "object_fit": null,
            "object_position": null,
            "order": null,
            "overflow": null,
            "overflow_x": null,
            "overflow_y": null,
            "padding": null,
            "right": null,
            "top": null,
            "visibility": null,
            "width": null
          }
        },
        "5b2cefa996224927875672ebc8cddc53": {
          "model_module": "@jupyter-widgets/controls",
          "model_name": "DescriptionStyleModel",
          "model_module_version": "1.5.0",
          "state": {
            "_model_module": "@jupyter-widgets/controls",
            "_model_module_version": "1.5.0",
            "_model_name": "DescriptionStyleModel",
            "_view_count": null,
            "_view_module": "@jupyter-widgets/base",
            "_view_module_version": "1.2.0",
            "_view_name": "StyleView",
            "description_width": ""
          }
        },
        "3fb85c2714354dcfa6736058b10dabe5": {
          "model_module": "@jupyter-widgets/controls",
          "model_name": "HBoxModel",
          "model_module_version": "1.5.0",
          "state": {
            "_dom_classes": [],
            "_model_module": "@jupyter-widgets/controls",
            "_model_module_version": "1.5.0",
            "_model_name": "HBoxModel",
            "_view_count": null,
            "_view_module": "@jupyter-widgets/controls",
            "_view_module_version": "1.5.0",
            "_view_name": "HBoxView",
            "box_style": "",
            "children": [
              "IPY_MODEL_6e82912c166d45a0ab9b98526692895e",
              "IPY_MODEL_0f5cc8f61dd5428abe06dc4f9e41ebd7",
              "IPY_MODEL_f12413ed187e408f835f5d61d0036372"
            ],
            "layout": "IPY_MODEL_048f4a6e22f143a299a1299f08c90f8c"
          }
        },
        "6e82912c166d45a0ab9b98526692895e": {
          "model_module": "@jupyter-widgets/controls",
          "model_name": "HTMLModel",
          "model_module_version": "1.5.0",
          "state": {
            "_dom_classes": [],
            "_model_module": "@jupyter-widgets/controls",
            "_model_module_version": "1.5.0",
            "_model_name": "HTMLModel",
            "_view_count": null,
            "_view_module": "@jupyter-widgets/controls",
            "_view_module_version": "1.5.0",
            "_view_name": "HTMLView",
            "description": "",
            "description_tooltip": null,
            "layout": "IPY_MODEL_bbe85ce65d8145798a52fcfb888c982b",
            "placeholder": "​",
            "style": "IPY_MODEL_da9c6babe9be4147a5438ebe57d9a7a6",
            "value": "model-00001-of-00003.safetensors: 100%"
          }
        },
        "0f5cc8f61dd5428abe06dc4f9e41ebd7": {
          "model_module": "@jupyter-widgets/controls",
          "model_name": "FloatProgressModel",
          "model_module_version": "1.5.0",
          "state": {
            "_dom_classes": [],
            "_model_module": "@jupyter-widgets/controls",
            "_model_module_version": "1.5.0",
            "_model_name": "FloatProgressModel",
            "_view_count": null,
            "_view_module": "@jupyter-widgets/controls",
            "_view_module_version": "1.5.0",
            "_view_name": "ProgressView",
            "bar_style": "success",
            "description": "",
            "description_tooltip": null,
            "layout": "IPY_MODEL_3095ff7841a442ef8b93460c05aff5e9",
            "max": 4943162336,
            "min": 0,
            "orientation": "horizontal",
            "style": "IPY_MODEL_2a733fb36585404b9362f25fe42cafa1",
            "value": 4943162336
          }
        },
        "f12413ed187e408f835f5d61d0036372": {
          "model_module": "@jupyter-widgets/controls",
          "model_name": "HTMLModel",
          "model_module_version": "1.5.0",
          "state": {
            "_dom_classes": [],
            "_model_module": "@jupyter-widgets/controls",
            "_model_module_version": "1.5.0",
            "_model_name": "HTMLModel",
            "_view_count": null,
            "_view_module": "@jupyter-widgets/controls",
            "_view_module_version": "1.5.0",
            "_view_name": "HTMLView",
            "description": "",
            "description_tooltip": null,
            "layout": "IPY_MODEL_1ff9e0dff5a1413aa22aad7758e61cf0",
            "placeholder": "​",
            "style": "IPY_MODEL_10532673d85f4ea38a64a3dc42aba3f0",
            "value": " 4.94G/4.94G [00:53&lt;00:00, 100MB/s]"
          }
        },
        "048f4a6e22f143a299a1299f08c90f8c": {
          "model_module": "@jupyter-widgets/base",
          "model_name": "LayoutModel",
          "model_module_version": "1.2.0",
          "state": {
            "_model_module": "@jupyter-widgets/base",
            "_model_module_version": "1.2.0",
            "_model_name": "LayoutModel",
            "_view_count": null,
            "_view_module": "@jupyter-widgets/base",
            "_view_module_version": "1.2.0",
            "_view_name": "LayoutView",
            "align_content": null,
            "align_items": null,
            "align_self": null,
            "border": null,
            "bottom": null,
            "display": null,
            "flex": null,
            "flex_flow": null,
            "grid_area": null,
            "grid_auto_columns": null,
            "grid_auto_flow": null,
            "grid_auto_rows": null,
            "grid_column": null,
            "grid_gap": null,
            "grid_row": null,
            "grid_template_areas": null,
            "grid_template_columns": null,
            "grid_template_rows": null,
            "height": null,
            "justify_content": null,
            "justify_items": null,
            "left": null,
            "margin": null,
            "max_height": null,
            "max_width": null,
            "min_height": null,
            "min_width": null,
            "object_fit": null,
            "object_position": null,
            "order": null,
            "overflow": null,
            "overflow_x": null,
            "overflow_y": null,
            "padding": null,
            "right": null,
            "top": null,
            "visibility": null,
            "width": null
          }
        },
        "bbe85ce65d8145798a52fcfb888c982b": {
          "model_module": "@jupyter-widgets/base",
          "model_name": "LayoutModel",
          "model_module_version": "1.2.0",
          "state": {
            "_model_module": "@jupyter-widgets/base",
            "_model_module_version": "1.2.0",
            "_model_name": "LayoutModel",
            "_view_count": null,
            "_view_module": "@jupyter-widgets/base",
            "_view_module_version": "1.2.0",
            "_view_name": "LayoutView",
            "align_content": null,
            "align_items": null,
            "align_self": null,
            "border": null,
            "bottom": null,
            "display": null,
            "flex": null,
            "flex_flow": null,
            "grid_area": null,
            "grid_auto_columns": null,
            "grid_auto_flow": null,
            "grid_auto_rows": null,
            "grid_column": null,
            "grid_gap": null,
            "grid_row": null,
            "grid_template_areas": null,
            "grid_template_columns": null,
            "grid_template_rows": null,
            "height": null,
            "justify_content": null,
            "justify_items": null,
            "left": null,
            "margin": null,
            "max_height": null,
            "max_width": null,
            "min_height": null,
            "min_width": null,
            "object_fit": null,
            "object_position": null,
            "order": null,
            "overflow": null,
            "overflow_x": null,
            "overflow_y": null,
            "padding": null,
            "right": null,
            "top": null,
            "visibility": null,
            "width": null
          }
        },
        "da9c6babe9be4147a5438ebe57d9a7a6": {
          "model_module": "@jupyter-widgets/controls",
          "model_name": "DescriptionStyleModel",
          "model_module_version": "1.5.0",
          "state": {
            "_model_module": "@jupyter-widgets/controls",
            "_model_module_version": "1.5.0",
            "_model_name": "DescriptionStyleModel",
            "_view_count": null,
            "_view_module": "@jupyter-widgets/base",
            "_view_module_version": "1.2.0",
            "_view_name": "StyleView",
            "description_width": ""
          }
        },
        "3095ff7841a442ef8b93460c05aff5e9": {
          "model_module": "@jupyter-widgets/base",
          "model_name": "LayoutModel",
          "model_module_version": "1.2.0",
          "state": {
            "_model_module": "@jupyter-widgets/base",
            "_model_module_version": "1.2.0",
            "_model_name": "LayoutModel",
            "_view_count": null,
            "_view_module": "@jupyter-widgets/base",
            "_view_module_version": "1.2.0",
            "_view_name": "LayoutView",
            "align_content": null,
            "align_items": null,
            "align_self": null,
            "border": null,
            "bottom": null,
            "display": null,
            "flex": null,
            "flex_flow": null,
            "grid_area": null,
            "grid_auto_columns": null,
            "grid_auto_flow": null,
            "grid_auto_rows": null,
            "grid_column": null,
            "grid_gap": null,
            "grid_row": null,
            "grid_template_areas": null,
            "grid_template_columns": null,
            "grid_template_rows": null,
            "height": null,
            "justify_content": null,
            "justify_items": null,
            "left": null,
            "margin": null,
            "max_height": null,
            "max_width": null,
            "min_height": null,
            "min_width": null,
            "object_fit": null,
            "object_position": null,
            "order": null,
            "overflow": null,
            "overflow_x": null,
            "overflow_y": null,
            "padding": null,
            "right": null,
            "top": null,
            "visibility": null,
            "width": null
          }
        },
        "2a733fb36585404b9362f25fe42cafa1": {
          "model_module": "@jupyter-widgets/controls",
          "model_name": "ProgressStyleModel",
          "model_module_version": "1.5.0",
          "state": {
            "_model_module": "@jupyter-widgets/controls",
            "_model_module_version": "1.5.0",
            "_model_name": "ProgressStyleModel",
            "_view_count": null,
            "_view_module": "@jupyter-widgets/base",
            "_view_module_version": "1.2.0",
            "_view_name": "StyleView",
            "bar_color": null,
            "description_width": ""
          }
        },
        "1ff9e0dff5a1413aa22aad7758e61cf0": {
          "model_module": "@jupyter-widgets/base",
          "model_name": "LayoutModel",
          "model_module_version": "1.2.0",
          "state": {
            "_model_module": "@jupyter-widgets/base",
            "_model_module_version": "1.2.0",
            "_model_name": "LayoutModel",
            "_view_count": null,
            "_view_module": "@jupyter-widgets/base",
            "_view_module_version": "1.2.0",
            "_view_name": "LayoutView",
            "align_content": null,
            "align_items": null,
            "align_self": null,
            "border": null,
            "bottom": null,
            "display": null,
            "flex": null,
            "flex_flow": null,
            "grid_area": null,
            "grid_auto_columns": null,
            "grid_auto_flow": null,
            "grid_auto_rows": null,
            "grid_column": null,
            "grid_gap": null,
            "grid_row": null,
            "grid_template_areas": null,
            "grid_template_columns": null,
            "grid_template_rows": null,
            "height": null,
            "justify_content": null,
            "justify_items": null,
            "left": null,
            "margin": null,
            "max_height": null,
            "max_width": null,
            "min_height": null,
            "min_width": null,
            "object_fit": null,
            "object_position": null,
            "order": null,
            "overflow": null,
            "overflow_x": null,
            "overflow_y": null,
            "padding": null,
            "right": null,
            "top": null,
            "visibility": null,
            "width": null
          }
        },
        "10532673d85f4ea38a64a3dc42aba3f0": {
          "model_module": "@jupyter-widgets/controls",
          "model_name": "DescriptionStyleModel",
          "model_module_version": "1.5.0",
          "state": {
            "_model_module": "@jupyter-widgets/controls",
            "_model_module_version": "1.5.0",
            "_model_name": "DescriptionStyleModel",
            "_view_count": null,
            "_view_module": "@jupyter-widgets/base",
            "_view_module_version": "1.2.0",
            "_view_name": "StyleView",
            "description_width": ""
          }
        },
        "b76894b00e8b4eff8729fd2ebaf264ae": {
          "model_module": "@jupyter-widgets/controls",
          "model_name": "HBoxModel",
          "model_module_version": "1.5.0",
          "state": {
            "_dom_classes": [],
            "_model_module": "@jupyter-widgets/controls",
            "_model_module_version": "1.5.0",
            "_model_name": "HBoxModel",
            "_view_count": null,
            "_view_module": "@jupyter-widgets/controls",
            "_view_module_version": "1.5.0",
            "_view_name": "HBoxView",
            "box_style": "",
            "children": [
              "IPY_MODEL_1e207371d80047f89b7bb29efcec2bc3",
              "IPY_MODEL_b2e56e519ad2426cbf20978673421d68",
              "IPY_MODEL_080d97eaf5d24381a1c3fdf73b2721d9"
            ],
            "layout": "IPY_MODEL_cd8855d398f94ba1b8e2f88e5acc1f03"
          }
        },
        "1e207371d80047f89b7bb29efcec2bc3": {
          "model_module": "@jupyter-widgets/controls",
          "model_name": "HTMLModel",
          "model_module_version": "1.5.0",
          "state": {
            "_dom_classes": [],
            "_model_module": "@jupyter-widgets/controls",
            "_model_module_version": "1.5.0",
            "_model_name": "HTMLModel",
            "_view_count": null,
            "_view_module": "@jupyter-widgets/controls",
            "_view_module_version": "1.5.0",
            "_view_name": "HTMLView",
            "description": "",
            "description_tooltip": null,
            "layout": "IPY_MODEL_c3fdb4613f364320919215b2be9bcf35",
            "placeholder": "​",
            "style": "IPY_MODEL_495d73743b064ef69ae9019262f5f8d9",
            "value": "model-00002-of-00003.safetensors: 100%"
          }
        },
        "b2e56e519ad2426cbf20978673421d68": {
          "model_module": "@jupyter-widgets/controls",
          "model_name": "FloatProgressModel",
          "model_module_version": "1.5.0",
          "state": {
            "_dom_classes": [],
            "_model_module": "@jupyter-widgets/controls",
            "_model_module_version": "1.5.0",
            "_model_name": "FloatProgressModel",
            "_view_count": null,
            "_view_module": "@jupyter-widgets/controls",
            "_view_module_version": "1.5.0",
            "_view_name": "ProgressView",
            "bar_style": "success",
            "description": "",
            "description_tooltip": null,
            "layout": "IPY_MODEL_f49c711a63bb4acebbb5afd65d831cf8",
            "max": 4999819336,
            "min": 0,
            "orientation": "horizontal",
            "style": "IPY_MODEL_5bdad4a7ec1e443d99884920d4d41df9",
            "value": 4999819336
          }
        },
        "080d97eaf5d24381a1c3fdf73b2721d9": {
          "model_module": "@jupyter-widgets/controls",
          "model_name": "HTMLModel",
          "model_module_version": "1.5.0",
          "state": {
            "_dom_classes": [],
            "_model_module": "@jupyter-widgets/controls",
            "_model_module_version": "1.5.0",
            "_model_name": "HTMLModel",
            "_view_count": null,
            "_view_module": "@jupyter-widgets/controls",
            "_view_module_version": "1.5.0",
            "_view_name": "HTMLView",
            "description": "",
            "description_tooltip": null,
            "layout": "IPY_MODEL_42837151799d445a82438381b403f9d9",
            "placeholder": "​",
            "style": "IPY_MODEL_205b6ab943ae491ea4a7966dd6af2909",
            "value": " 5.00G/5.00G [00:47&lt;00:00, 108MB/s]"
          }
        },
        "cd8855d398f94ba1b8e2f88e5acc1f03": {
          "model_module": "@jupyter-widgets/base",
          "model_name": "LayoutModel",
          "model_module_version": "1.2.0",
          "state": {
            "_model_module": "@jupyter-widgets/base",
            "_model_module_version": "1.2.0",
            "_model_name": "LayoutModel",
            "_view_count": null,
            "_view_module": "@jupyter-widgets/base",
            "_view_module_version": "1.2.0",
            "_view_name": "LayoutView",
            "align_content": null,
            "align_items": null,
            "align_self": null,
            "border": null,
            "bottom": null,
            "display": null,
            "flex": null,
            "flex_flow": null,
            "grid_area": null,
            "grid_auto_columns": null,
            "grid_auto_flow": null,
            "grid_auto_rows": null,
            "grid_column": null,
            "grid_gap": null,
            "grid_row": null,
            "grid_template_areas": null,
            "grid_template_columns": null,
            "grid_template_rows": null,
            "height": null,
            "justify_content": null,
            "justify_items": null,
            "left": null,
            "margin": null,
            "max_height": null,
            "max_width": null,
            "min_height": null,
            "min_width": null,
            "object_fit": null,
            "object_position": null,
            "order": null,
            "overflow": null,
            "overflow_x": null,
            "overflow_y": null,
            "padding": null,
            "right": null,
            "top": null,
            "visibility": null,
            "width": null
          }
        },
        "c3fdb4613f364320919215b2be9bcf35": {
          "model_module": "@jupyter-widgets/base",
          "model_name": "LayoutModel",
          "model_module_version": "1.2.0",
          "state": {
            "_model_module": "@jupyter-widgets/base",
            "_model_module_version": "1.2.0",
            "_model_name": "LayoutModel",
            "_view_count": null,
            "_view_module": "@jupyter-widgets/base",
            "_view_module_version": "1.2.0",
            "_view_name": "LayoutView",
            "align_content": null,
            "align_items": null,
            "align_self": null,
            "border": null,
            "bottom": null,
            "display": null,
            "flex": null,
            "flex_flow": null,
            "grid_area": null,
            "grid_auto_columns": null,
            "grid_auto_flow": null,
            "grid_auto_rows": null,
            "grid_column": null,
            "grid_gap": null,
            "grid_row": null,
            "grid_template_areas": null,
            "grid_template_columns": null,
            "grid_template_rows": null,
            "height": null,
            "justify_content": null,
            "justify_items": null,
            "left": null,
            "margin": null,
            "max_height": null,
            "max_width": null,
            "min_height": null,
            "min_width": null,
            "object_fit": null,
            "object_position": null,
            "order": null,
            "overflow": null,
            "overflow_x": null,
            "overflow_y": null,
            "padding": null,
            "right": null,
            "top": null,
            "visibility": null,
            "width": null
          }
        },
        "495d73743b064ef69ae9019262f5f8d9": {
          "model_module": "@jupyter-widgets/controls",
          "model_name": "DescriptionStyleModel",
          "model_module_version": "1.5.0",
          "state": {
            "_model_module": "@jupyter-widgets/controls",
            "_model_module_version": "1.5.0",
            "_model_name": "DescriptionStyleModel",
            "_view_count": null,
            "_view_module": "@jupyter-widgets/base",
            "_view_module_version": "1.2.0",
            "_view_name": "StyleView",
            "description_width": ""
          }
        },
        "f49c711a63bb4acebbb5afd65d831cf8": {
          "model_module": "@jupyter-widgets/base",
          "model_name": "LayoutModel",
          "model_module_version": "1.2.0",
          "state": {
            "_model_module": "@jupyter-widgets/base",
            "_model_module_version": "1.2.0",
            "_model_name": "LayoutModel",
            "_view_count": null,
            "_view_module": "@jupyter-widgets/base",
            "_view_module_version": "1.2.0",
            "_view_name": "LayoutView",
            "align_content": null,
            "align_items": null,
            "align_self": null,
            "border": null,
            "bottom": null,
            "display": null,
            "flex": null,
            "flex_flow": null,
            "grid_area": null,
            "grid_auto_columns": null,
            "grid_auto_flow": null,
            "grid_auto_rows": null,
            "grid_column": null,
            "grid_gap": null,
            "grid_row": null,
            "grid_template_areas": null,
            "grid_template_columns": null,
            "grid_template_rows": null,
            "height": null,
            "justify_content": null,
            "justify_items": null,
            "left": null,
            "margin": null,
            "max_height": null,
            "max_width": null,
            "min_height": null,
            "min_width": null,
            "object_fit": null,
            "object_position": null,
            "order": null,
            "overflow": null,
            "overflow_x": null,
            "overflow_y": null,
            "padding": null,
            "right": null,
            "top": null,
            "visibility": null,
            "width": null
          }
        },
        "5bdad4a7ec1e443d99884920d4d41df9": {
          "model_module": "@jupyter-widgets/controls",
          "model_name": "ProgressStyleModel",
          "model_module_version": "1.5.0",
          "state": {
            "_model_module": "@jupyter-widgets/controls",
            "_model_module_version": "1.5.0",
            "_model_name": "ProgressStyleModel",
            "_view_count": null,
            "_view_module": "@jupyter-widgets/base",
            "_view_module_version": "1.2.0",
            "_view_name": "StyleView",
            "bar_color": null,
            "description_width": ""
          }
        },
        "42837151799d445a82438381b403f9d9": {
          "model_module": "@jupyter-widgets/base",
          "model_name": "LayoutModel",
          "model_module_version": "1.2.0",
          "state": {
            "_model_module": "@jupyter-widgets/base",
            "_model_module_version": "1.2.0",
            "_model_name": "LayoutModel",
            "_view_count": null,
            "_view_module": "@jupyter-widgets/base",
            "_view_module_version": "1.2.0",
            "_view_name": "LayoutView",
            "align_content": null,
            "align_items": null,
            "align_self": null,
            "border": null,
            "bottom": null,
            "display": null,
            "flex": null,
            "flex_flow": null,
            "grid_area": null,
            "grid_auto_columns": null,
            "grid_auto_flow": null,
            "grid_auto_rows": null,
            "grid_column": null,
            "grid_gap": null,
            "grid_row": null,
            "grid_template_areas": null,
            "grid_template_columns": null,
            "grid_template_rows": null,
            "height": null,
            "justify_content": null,
            "justify_items": null,
            "left": null,
            "margin": null,
            "max_height": null,
            "max_width": null,
            "min_height": null,
            "min_width": null,
            "object_fit": null,
            "object_position": null,
            "order": null,
            "overflow": null,
            "overflow_x": null,
            "overflow_y": null,
            "padding": null,
            "right": null,
            "top": null,
            "visibility": null,
            "width": null
          }
        },
        "205b6ab943ae491ea4a7966dd6af2909": {
          "model_module": "@jupyter-widgets/controls",
          "model_name": "DescriptionStyleModel",
          "model_module_version": "1.5.0",
          "state": {
            "_model_module": "@jupyter-widgets/controls",
            "_model_module_version": "1.5.0",
            "_model_name": "DescriptionStyleModel",
            "_view_count": null,
            "_view_module": "@jupyter-widgets/base",
            "_view_module_version": "1.2.0",
            "_view_name": "StyleView",
            "description_width": ""
          }
        },
        "eac422dd2630451d9d35b174586e8c7b": {
          "model_module": "@jupyter-widgets/controls",
          "model_name": "HBoxModel",
          "model_module_version": "1.5.0",
          "state": {
            "_dom_classes": [],
            "_model_module": "@jupyter-widgets/controls",
            "_model_module_version": "1.5.0",
            "_model_name": "HBoxModel",
            "_view_count": null,
            "_view_module": "@jupyter-widgets/controls",
            "_view_module_version": "1.5.0",
            "_view_name": "HBoxView",
            "box_style": "",
            "children": [
              "IPY_MODEL_b03b7f0b0ba14073b720c95199b13e29",
              "IPY_MODEL_fe265448aeb843f6b4bb6d32ba40df21",
              "IPY_MODEL_6798c50484834884b9aca1946f113290"
            ],
            "layout": "IPY_MODEL_f6631538207c453c804ef3a3c5b11ccb"
          }
        },
        "b03b7f0b0ba14073b720c95199b13e29": {
          "model_module": "@jupyter-widgets/controls",
          "model_name": "HTMLModel",
          "model_module_version": "1.5.0",
          "state": {
            "_dom_classes": [],
            "_model_module": "@jupyter-widgets/controls",
            "_model_module_version": "1.5.0",
            "_model_name": "HTMLModel",
            "_view_count": null,
            "_view_module": "@jupyter-widgets/controls",
            "_view_module_version": "1.5.0",
            "_view_name": "HTMLView",
            "description": "",
            "description_tooltip": null,
            "layout": "IPY_MODEL_15a0b23534684862a1967553846b6368",
            "placeholder": "​",
            "style": "IPY_MODEL_02cd5b7774214b9693f4d09f8d27082b",
            "value": "model-00003-of-00003.safetensors: 100%"
          }
        },
        "fe265448aeb843f6b4bb6d32ba40df21": {
          "model_module": "@jupyter-widgets/controls",
          "model_name": "FloatProgressModel",
          "model_module_version": "1.5.0",
          "state": {
            "_dom_classes": [],
            "_model_module": "@jupyter-widgets/controls",
            "_model_module_version": "1.5.0",
            "_model_name": "FloatProgressModel",
            "_view_count": null,
            "_view_module": "@jupyter-widgets/controls",
            "_view_module_version": "1.5.0",
            "_view_name": "ProgressView",
            "bar_style": "success",
            "description": "",
            "description_tooltip": null,
            "layout": "IPY_MODEL_c9012ef4b35949338f7bbf865c2d19e6",
            "max": 4540516344,
            "min": 0,
            "orientation": "horizontal",
            "style": "IPY_MODEL_d54d0e85a2bc4946ad6dc8c6cfdcbe49",
            "value": 4540516344
          }
        },
        "6798c50484834884b9aca1946f113290": {
          "model_module": "@jupyter-widgets/controls",
          "model_name": "HTMLModel",
          "model_module_version": "1.5.0",
          "state": {
            "_dom_classes": [],
            "_model_module": "@jupyter-widgets/controls",
            "_model_module_version": "1.5.0",
            "_model_name": "HTMLModel",
            "_view_count": null,
            "_view_module": "@jupyter-widgets/controls",
            "_view_module_version": "1.5.0",
            "_view_name": "HTMLView",
            "description": "",
            "description_tooltip": null,
            "layout": "IPY_MODEL_cc6608bbd2db41e589d4c21056d8a6ce",
            "placeholder": "​",
            "style": "IPY_MODEL_0d0bb0b4c55946aaaabb5411b7a19492",
            "value": " 4.54G/4.54G [00:35&lt;00:00, 175MB/s]"
          }
        },
        "f6631538207c453c804ef3a3c5b11ccb": {
          "model_module": "@jupyter-widgets/base",
          "model_name": "LayoutModel",
          "model_module_version": "1.2.0",
          "state": {
            "_model_module": "@jupyter-widgets/base",
            "_model_module_version": "1.2.0",
            "_model_name": "LayoutModel",
            "_view_count": null,
            "_view_module": "@jupyter-widgets/base",
            "_view_module_version": "1.2.0",
            "_view_name": "LayoutView",
            "align_content": null,
            "align_items": null,
            "align_self": null,
            "border": null,
            "bottom": null,
            "display": null,
            "flex": null,
            "flex_flow": null,
            "grid_area": null,
            "grid_auto_columns": null,
            "grid_auto_flow": null,
            "grid_auto_rows": null,
            "grid_column": null,
            "grid_gap": null,
            "grid_row": null,
            "grid_template_areas": null,
            "grid_template_columns": null,
            "grid_template_rows": null,
            "height": null,
            "justify_content": null,
            "justify_items": null,
            "left": null,
            "margin": null,
            "max_height": null,
            "max_width": null,
            "min_height": null,
            "min_width": null,
            "object_fit": null,
            "object_position": null,
            "order": null,
            "overflow": null,
            "overflow_x": null,
            "overflow_y": null,
            "padding": null,
            "right": null,
            "top": null,
            "visibility": null,
            "width": null
          }
        },
        "15a0b23534684862a1967553846b6368": {
          "model_module": "@jupyter-widgets/base",
          "model_name": "LayoutModel",
          "model_module_version": "1.2.0",
          "state": {
            "_model_module": "@jupyter-widgets/base",
            "_model_module_version": "1.2.0",
            "_model_name": "LayoutModel",
            "_view_count": null,
            "_view_module": "@jupyter-widgets/base",
            "_view_module_version": "1.2.0",
            "_view_name": "LayoutView",
            "align_content": null,
            "align_items": null,
            "align_self": null,
            "border": null,
            "bottom": null,
            "display": null,
            "flex": null,
            "flex_flow": null,
            "grid_area": null,
            "grid_auto_columns": null,
            "grid_auto_flow": null,
            "grid_auto_rows": null,
            "grid_column": null,
            "grid_gap": null,
            "grid_row": null,
            "grid_template_areas": null,
            "grid_template_columns": null,
            "grid_template_rows": null,
            "height": null,
            "justify_content": null,
            "justify_items": null,
            "left": null,
            "margin": null,
            "max_height": null,
            "max_width": null,
            "min_height": null,
            "min_width": null,
            "object_fit": null,
            "object_position": null,
            "order": null,
            "overflow": null,
            "overflow_x": null,
            "overflow_y": null,
            "padding": null,
            "right": null,
            "top": null,
            "visibility": null,
            "width": null
          }
        },
        "02cd5b7774214b9693f4d09f8d27082b": {
          "model_module": "@jupyter-widgets/controls",
          "model_name": "DescriptionStyleModel",
          "model_module_version": "1.5.0",
          "state": {
            "_model_module": "@jupyter-widgets/controls",
            "_model_module_version": "1.5.0",
            "_model_name": "DescriptionStyleModel",
            "_view_count": null,
            "_view_module": "@jupyter-widgets/base",
            "_view_module_version": "1.2.0",
            "_view_name": "StyleView",
            "description_width": ""
          }
        },
        "c9012ef4b35949338f7bbf865c2d19e6": {
          "model_module": "@jupyter-widgets/base",
          "model_name": "LayoutModel",
          "model_module_version": "1.2.0",
          "state": {
            "_model_module": "@jupyter-widgets/base",
            "_model_module_version": "1.2.0",
            "_model_name": "LayoutModel",
            "_view_count": null,
            "_view_module": "@jupyter-widgets/base",
            "_view_module_version": "1.2.0",
            "_view_name": "LayoutView",
            "align_content": null,
            "align_items": null,
            "align_self": null,
            "border": null,
            "bottom": null,
            "display": null,
            "flex": null,
            "flex_flow": null,
            "grid_area": null,
            "grid_auto_columns": null,
            "grid_auto_flow": null,
            "grid_auto_rows": null,
            "grid_column": null,
            "grid_gap": null,
            "grid_row": null,
            "grid_template_areas": null,
            "grid_template_columns": null,
            "grid_template_rows": null,
            "height": null,
            "justify_content": null,
            "justify_items": null,
            "left": null,
            "margin": null,
            "max_height": null,
            "max_width": null,
            "min_height": null,
            "min_width": null,
            "object_fit": null,
            "object_position": null,
            "order": null,
            "overflow": null,
            "overflow_x": null,
            "overflow_y": null,
            "padding": null,
            "right": null,
            "top": null,
            "visibility": null,
            "width": null
          }
        },
        "d54d0e85a2bc4946ad6dc8c6cfdcbe49": {
          "model_module": "@jupyter-widgets/controls",
          "model_name": "ProgressStyleModel",
          "model_module_version": "1.5.0",
          "state": {
            "_model_module": "@jupyter-widgets/controls",
            "_model_module_version": "1.5.0",
            "_model_name": "ProgressStyleModel",
            "_view_count": null,
            "_view_module": "@jupyter-widgets/base",
            "_view_module_version": "1.2.0",
            "_view_name": "StyleView",
            "bar_color": null,
            "description_width": ""
          }
        },
        "cc6608bbd2db41e589d4c21056d8a6ce": {
          "model_module": "@jupyter-widgets/base",
          "model_name": "LayoutModel",
          "model_module_version": "1.2.0",
          "state": {
            "_model_module": "@jupyter-widgets/base",
            "_model_module_version": "1.2.0",
            "_model_name": "LayoutModel",
            "_view_count": null,
            "_view_module": "@jupyter-widgets/base",
            "_view_module_version": "1.2.0",
            "_view_name": "LayoutView",
            "align_content": null,
            "align_items": null,
            "align_self": null,
            "border": null,
            "bottom": null,
            "display": null,
            "flex": null,
            "flex_flow": null,
            "grid_area": null,
            "grid_auto_columns": null,
            "grid_auto_flow": null,
            "grid_auto_rows": null,
            "grid_column": null,
            "grid_gap": null,
            "grid_row": null,
            "grid_template_areas": null,
            "grid_template_columns": null,
            "grid_template_rows": null,
            "height": null,
            "justify_content": null,
            "justify_items": null,
            "left": null,
            "margin": null,
            "max_height": null,
            "max_width": null,
            "min_height": null,
            "min_width": null,
            "object_fit": null,
            "object_position": null,
            "order": null,
            "overflow": null,
            "overflow_x": null,
            "overflow_y": null,
            "padding": null,
            "right": null,
            "top": null,
            "visibility": null,
            "width": null
          }
        },
        "0d0bb0b4c55946aaaabb5411b7a19492": {
          "model_module": "@jupyter-widgets/controls",
          "model_name": "DescriptionStyleModel",
          "model_module_version": "1.5.0",
          "state": {
            "_model_module": "@jupyter-widgets/controls",
            "_model_module_version": "1.5.0",
            "_model_name": "DescriptionStyleModel",
            "_view_count": null,
            "_view_module": "@jupyter-widgets/base",
            "_view_module_version": "1.2.0",
            "_view_name": "StyleView",
            "description_width": ""
          }
        },
        "eae53eec06934bb2b9f6c42f52245575": {
          "model_module": "@jupyter-widgets/controls",
          "model_name": "HBoxModel",
          "model_module_version": "1.5.0",
          "state": {
            "_dom_classes": [],
            "_model_module": "@jupyter-widgets/controls",
            "_model_module_version": "1.5.0",
            "_model_name": "HBoxModel",
            "_view_count": null,
            "_view_module": "@jupyter-widgets/controls",
            "_view_module_version": "1.5.0",
            "_view_name": "HBoxView",
            "box_style": "",
            "children": [
              "IPY_MODEL_bf46418484c1470aae1d00172fcb3b15",
              "IPY_MODEL_82e678319b51408bbcc1b6afce3a780e",
              "IPY_MODEL_584ea271fcbf42618412734de94a2879"
            ],
            "layout": "IPY_MODEL_15b84205c5a249fb814085e2491dcb35"
          }
        },
        "bf46418484c1470aae1d00172fcb3b15": {
          "model_module": "@jupyter-widgets/controls",
          "model_name": "HTMLModel",
          "model_module_version": "1.5.0",
          "state": {
            "_dom_classes": [],
            "_model_module": "@jupyter-widgets/controls",
            "_model_module_version": "1.5.0",
            "_model_name": "HTMLModel",
            "_view_count": null,
            "_view_module": "@jupyter-widgets/controls",
            "_view_module_version": "1.5.0",
            "_view_name": "HTMLView",
            "description": "",
            "description_tooltip": null,
            "layout": "IPY_MODEL_6c0bc23c5af74366896df4e9b2736e06",
            "placeholder": "​",
            "style": "IPY_MODEL_554ac9f3c6e64afeb972511617abad93",
            "value": "Loading checkpoint shards: 100%"
          }
        },
        "82e678319b51408bbcc1b6afce3a780e": {
          "model_module": "@jupyter-widgets/controls",
          "model_name": "FloatProgressModel",
          "model_module_version": "1.5.0",
          "state": {
            "_dom_classes": [],
            "_model_module": "@jupyter-widgets/controls",
            "_model_module_version": "1.5.0",
            "_model_name": "FloatProgressModel",
            "_view_count": null,
            "_view_module": "@jupyter-widgets/controls",
            "_view_module_version": "1.5.0",
            "_view_name": "ProgressView",
            "bar_style": "success",
            "description": "",
            "description_tooltip": null,
            "layout": "IPY_MODEL_dd0cd0c3348a488a88fe3832123a5aaa",
            "max": 3,
            "min": 0,
            "orientation": "horizontal",
            "style": "IPY_MODEL_b5ae75ecfce44664a44199012bac2f00",
            "value": 3
          }
        },
        "584ea271fcbf42618412734de94a2879": {
          "model_module": "@jupyter-widgets/controls",
          "model_name": "HTMLModel",
          "model_module_version": "1.5.0",
          "state": {
            "_dom_classes": [],
            "_model_module": "@jupyter-widgets/controls",
            "_model_module_version": "1.5.0",
            "_model_name": "HTMLModel",
            "_view_count": null,
            "_view_module": "@jupyter-widgets/controls",
            "_view_module_version": "1.5.0",
            "_view_name": "HTMLView",
            "description": "",
            "description_tooltip": null,
            "layout": "IPY_MODEL_2e452c67f50f47b59fbf50f85b7d0e25",
            "placeholder": "​",
            "style": "IPY_MODEL_d2cbc7f6e5f943f9a425cb5bfb825db1",
            "value": " 3/3 [01:11&lt;00:00, 23.60s/it]"
          }
        },
        "15b84205c5a249fb814085e2491dcb35": {
          "model_module": "@jupyter-widgets/base",
          "model_name": "LayoutModel",
          "model_module_version": "1.2.0",
          "state": {
            "_model_module": "@jupyter-widgets/base",
            "_model_module_version": "1.2.0",
            "_model_name": "LayoutModel",
            "_view_count": null,
            "_view_module": "@jupyter-widgets/base",
            "_view_module_version": "1.2.0",
            "_view_name": "LayoutView",
            "align_content": null,
            "align_items": null,
            "align_self": null,
            "border": null,
            "bottom": null,
            "display": null,
            "flex": null,
            "flex_flow": null,
            "grid_area": null,
            "grid_auto_columns": null,
            "grid_auto_flow": null,
            "grid_auto_rows": null,
            "grid_column": null,
            "grid_gap": null,
            "grid_row": null,
            "grid_template_areas": null,
            "grid_template_columns": null,
            "grid_template_rows": null,
            "height": null,
            "justify_content": null,
            "justify_items": null,
            "left": null,
            "margin": null,
            "max_height": null,
            "max_width": null,
            "min_height": null,
            "min_width": null,
            "object_fit": null,
            "object_position": null,
            "order": null,
            "overflow": null,
            "overflow_x": null,
            "overflow_y": null,
            "padding": null,
            "right": null,
            "top": null,
            "visibility": null,
            "width": null
          }
        },
        "6c0bc23c5af74366896df4e9b2736e06": {
          "model_module": "@jupyter-widgets/base",
          "model_name": "LayoutModel",
          "model_module_version": "1.2.0",
          "state": {
            "_model_module": "@jupyter-widgets/base",
            "_model_module_version": "1.2.0",
            "_model_name": "LayoutModel",
            "_view_count": null,
            "_view_module": "@jupyter-widgets/base",
            "_view_module_version": "1.2.0",
            "_view_name": "LayoutView",
            "align_content": null,
            "align_items": null,
            "align_self": null,
            "border": null,
            "bottom": null,
            "display": null,
            "flex": null,
            "flex_flow": null,
            "grid_area": null,
            "grid_auto_columns": null,
            "grid_auto_flow": null,
            "grid_auto_rows": null,
            "grid_column": null,
            "grid_gap": null,
            "grid_row": null,
            "grid_template_areas": null,
            "grid_template_columns": null,
            "grid_template_rows": null,
            "height": null,
            "justify_content": null,
            "justify_items": null,
            "left": null,
            "margin": null,
            "max_height": null,
            "max_width": null,
            "min_height": null,
            "min_width": null,
            "object_fit": null,
            "object_position": null,
            "order": null,
            "overflow": null,
            "overflow_x": null,
            "overflow_y": null,
            "padding": null,
            "right": null,
            "top": null,
            "visibility": null,
            "width": null
          }
        },
        "554ac9f3c6e64afeb972511617abad93": {
          "model_module": "@jupyter-widgets/controls",
          "model_name": "DescriptionStyleModel",
          "model_module_version": "1.5.0",
          "state": {
            "_model_module": "@jupyter-widgets/controls",
            "_model_module_version": "1.5.0",
            "_model_name": "DescriptionStyleModel",
            "_view_count": null,
            "_view_module": "@jupyter-widgets/base",
            "_view_module_version": "1.2.0",
            "_view_name": "StyleView",
            "description_width": ""
          }
        },
        "dd0cd0c3348a488a88fe3832123a5aaa": {
          "model_module": "@jupyter-widgets/base",
          "model_name": "LayoutModel",
          "model_module_version": "1.2.0",
          "state": {
            "_model_module": "@jupyter-widgets/base",
            "_model_module_version": "1.2.0",
            "_model_name": "LayoutModel",
            "_view_count": null,
            "_view_module": "@jupyter-widgets/base",
            "_view_module_version": "1.2.0",
            "_view_name": "LayoutView",
            "align_content": null,
            "align_items": null,
            "align_self": null,
            "border": null,
            "bottom": null,
            "display": null,
            "flex": null,
            "flex_flow": null,
            "grid_area": null,
            "grid_auto_columns": null,
            "grid_auto_flow": null,
            "grid_auto_rows": null,
            "grid_column": null,
            "grid_gap": null,
            "grid_row": null,
            "grid_template_areas": null,
            "grid_template_columns": null,
            "grid_template_rows": null,
            "height": null,
            "justify_content": null,
            "justify_items": null,
            "left": null,
            "margin": null,
            "max_height": null,
            "max_width": null,
            "min_height": null,
            "min_width": null,
            "object_fit": null,
            "object_position": null,
            "order": null,
            "overflow": null,
            "overflow_x": null,
            "overflow_y": null,
            "padding": null,
            "right": null,
            "top": null,
            "visibility": null,
            "width": null
          }
        },
        "b5ae75ecfce44664a44199012bac2f00": {
          "model_module": "@jupyter-widgets/controls",
          "model_name": "ProgressStyleModel",
          "model_module_version": "1.5.0",
          "state": {
            "_model_module": "@jupyter-widgets/controls",
            "_model_module_version": "1.5.0",
            "_model_name": "ProgressStyleModel",
            "_view_count": null,
            "_view_module": "@jupyter-widgets/base",
            "_view_module_version": "1.2.0",
            "_view_name": "StyleView",
            "bar_color": null,
            "description_width": ""
          }
        },
        "2e452c67f50f47b59fbf50f85b7d0e25": {
          "model_module": "@jupyter-widgets/base",
          "model_name": "LayoutModel",
          "model_module_version": "1.2.0",
          "state": {
            "_model_module": "@jupyter-widgets/base",
            "_model_module_version": "1.2.0",
            "_model_name": "LayoutModel",
            "_view_count": null,
            "_view_module": "@jupyter-widgets/base",
            "_view_module_version": "1.2.0",
            "_view_name": "LayoutView",
            "align_content": null,
            "align_items": null,
            "align_self": null,
            "border": null,
            "bottom": null,
            "display": null,
            "flex": null,
            "flex_flow": null,
            "grid_area": null,
            "grid_auto_columns": null,
            "grid_auto_flow": null,
            "grid_auto_rows": null,
            "grid_column": null,
            "grid_gap": null,
            "grid_row": null,
            "grid_template_areas": null,
            "grid_template_columns": null,
            "grid_template_rows": null,
            "height": null,
            "justify_content": null,
            "justify_items": null,
            "left": null,
            "margin": null,
            "max_height": null,
            "max_width": null,
            "min_height": null,
            "min_width": null,
            "object_fit": null,
            "object_position": null,
            "order": null,
            "overflow": null,
            "overflow_x": null,
            "overflow_y": null,
            "padding": null,
            "right": null,
            "top": null,
            "visibility": null,
            "width": null
          }
        },
        "d2cbc7f6e5f943f9a425cb5bfb825db1": {
          "model_module": "@jupyter-widgets/controls",
          "model_name": "DescriptionStyleModel",
          "model_module_version": "1.5.0",
          "state": {
            "_model_module": "@jupyter-widgets/controls",
            "_model_module_version": "1.5.0",
            "_model_name": "DescriptionStyleModel",
            "_view_count": null,
            "_view_module": "@jupyter-widgets/base",
            "_view_module_version": "1.2.0",
            "_view_name": "StyleView",
            "description_width": ""
          }
        },
        "39ce1b1327a64579855aa9bb6c8d3341": {
          "model_module": "@jupyter-widgets/controls",
          "model_name": "HBoxModel",
          "model_module_version": "1.5.0",
          "state": {
            "_dom_classes": [],
            "_model_module": "@jupyter-widgets/controls",
            "_model_module_version": "1.5.0",
            "_model_name": "HBoxModel",
            "_view_count": null,
            "_view_module": "@jupyter-widgets/controls",
            "_view_module_version": "1.5.0",
            "_view_name": "HBoxView",
            "box_style": "",
            "children": [
              "IPY_MODEL_32cfb2a369874a8f9b379ea336744d8e",
              "IPY_MODEL_738cde6262a0400e8ebf7af3b6f4b14d",
              "IPY_MODEL_610d3405f44a4d24b63abbd71ccc0aca"
            ],
            "layout": "IPY_MODEL_4f0021d85bd34d2a986dea2c508c3fdd"
          }
        },
        "32cfb2a369874a8f9b379ea336744d8e": {
          "model_module": "@jupyter-widgets/controls",
          "model_name": "HTMLModel",
          "model_module_version": "1.5.0",
          "state": {
            "_dom_classes": [],
            "_model_module": "@jupyter-widgets/controls",
            "_model_module_version": "1.5.0",
            "_model_name": "HTMLModel",
            "_view_count": null,
            "_view_module": "@jupyter-widgets/controls",
            "_view_module_version": "1.5.0",
            "_view_name": "HTMLView",
            "description": "",
            "description_tooltip": null,
            "layout": "IPY_MODEL_b58a5084b2974d47b985ee27e8b37656",
            "placeholder": "​",
            "style": "IPY_MODEL_ea71b440cd454f8d9c24a8a93144bf05",
            "value": "generation_config.json: 100%"
          }
        },
        "738cde6262a0400e8ebf7af3b6f4b14d": {
          "model_module": "@jupyter-widgets/controls",
          "model_name": "FloatProgressModel",
          "model_module_version": "1.5.0",
          "state": {
            "_dom_classes": [],
            "_model_module": "@jupyter-widgets/controls",
            "_model_module_version": "1.5.0",
            "_model_name": "FloatProgressModel",
            "_view_count": null,
            "_view_module": "@jupyter-widgets/controls",
            "_view_module_version": "1.5.0",
            "_view_name": "ProgressView",
            "bar_style": "success",
            "description": "",
            "description_tooltip": null,
            "layout": "IPY_MODEL_8552e266990142a7bf8280742b84e3dc",
            "max": 111,
            "min": 0,
            "orientation": "horizontal",
            "style": "IPY_MODEL_bd079811fb364129bf85c6ff4f78fd18",
            "value": 111
          }
        },
        "610d3405f44a4d24b63abbd71ccc0aca": {
          "model_module": "@jupyter-widgets/controls",
          "model_name": "HTMLModel",
          "model_module_version": "1.5.0",
          "state": {
            "_dom_classes": [],
            "_model_module": "@jupyter-widgets/controls",
            "_model_module_version": "1.5.0",
            "_model_name": "HTMLModel",
            "_view_count": null,
            "_view_module": "@jupyter-widgets/controls",
            "_view_module_version": "1.5.0",
            "_view_name": "HTMLView",
            "description": "",
            "description_tooltip": null,
            "layout": "IPY_MODEL_069fc5875e094147ae47898a2b1679de",
            "placeholder": "​",
            "style": "IPY_MODEL_d2221c44b9a64fbb830c815539d44103",
            "value": " 111/111 [00:00&lt;00:00, 6.89kB/s]"
          }
        },
        "4f0021d85bd34d2a986dea2c508c3fdd": {
          "model_module": "@jupyter-widgets/base",
          "model_name": "LayoutModel",
          "model_module_version": "1.2.0",
          "state": {
            "_model_module": "@jupyter-widgets/base",
            "_model_module_version": "1.2.0",
            "_model_name": "LayoutModel",
            "_view_count": null,
            "_view_module": "@jupyter-widgets/base",
            "_view_module_version": "1.2.0",
            "_view_name": "LayoutView",
            "align_content": null,
            "align_items": null,
            "align_self": null,
            "border": null,
            "bottom": null,
            "display": null,
            "flex": null,
            "flex_flow": null,
            "grid_area": null,
            "grid_auto_columns": null,
            "grid_auto_flow": null,
            "grid_auto_rows": null,
            "grid_column": null,
            "grid_gap": null,
            "grid_row": null,
            "grid_template_areas": null,
            "grid_template_columns": null,
            "grid_template_rows": null,
            "height": null,
            "justify_content": null,
            "justify_items": null,
            "left": null,
            "margin": null,
            "max_height": null,
            "max_width": null,
            "min_height": null,
            "min_width": null,
            "object_fit": null,
            "object_position": null,
            "order": null,
            "overflow": null,
            "overflow_x": null,
            "overflow_y": null,
            "padding": null,
            "right": null,
            "top": null,
            "visibility": null,
            "width": null
          }
        },
        "b58a5084b2974d47b985ee27e8b37656": {
          "model_module": "@jupyter-widgets/base",
          "model_name": "LayoutModel",
          "model_module_version": "1.2.0",
          "state": {
            "_model_module": "@jupyter-widgets/base",
            "_model_module_version": "1.2.0",
            "_model_name": "LayoutModel",
            "_view_count": null,
            "_view_module": "@jupyter-widgets/base",
            "_view_module_version": "1.2.0",
            "_view_name": "LayoutView",
            "align_content": null,
            "align_items": null,
            "align_self": null,
            "border": null,
            "bottom": null,
            "display": null,
            "flex": null,
            "flex_flow": null,
            "grid_area": null,
            "grid_auto_columns": null,
            "grid_auto_flow": null,
            "grid_auto_rows": null,
            "grid_column": null,
            "grid_gap": null,
            "grid_row": null,
            "grid_template_areas": null,
            "grid_template_columns": null,
            "grid_template_rows": null,
            "height": null,
            "justify_content": null,
            "justify_items": null,
            "left": null,
            "margin": null,
            "max_height": null,
            "max_width": null,
            "min_height": null,
            "min_width": null,
            "object_fit": null,
            "object_position": null,
            "order": null,
            "overflow": null,
            "overflow_x": null,
            "overflow_y": null,
            "padding": null,
            "right": null,
            "top": null,
            "visibility": null,
            "width": null
          }
        },
        "ea71b440cd454f8d9c24a8a93144bf05": {
          "model_module": "@jupyter-widgets/controls",
          "model_name": "DescriptionStyleModel",
          "model_module_version": "1.5.0",
          "state": {
            "_model_module": "@jupyter-widgets/controls",
            "_model_module_version": "1.5.0",
            "_model_name": "DescriptionStyleModel",
            "_view_count": null,
            "_view_module": "@jupyter-widgets/base",
            "_view_module_version": "1.2.0",
            "_view_name": "StyleView",
            "description_width": ""
          }
        },
        "8552e266990142a7bf8280742b84e3dc": {
          "model_module": "@jupyter-widgets/base",
          "model_name": "LayoutModel",
          "model_module_version": "1.2.0",
          "state": {
            "_model_module": "@jupyter-widgets/base",
            "_model_module_version": "1.2.0",
            "_model_name": "LayoutModel",
            "_view_count": null,
            "_view_module": "@jupyter-widgets/base",
            "_view_module_version": "1.2.0",
            "_view_name": "LayoutView",
            "align_content": null,
            "align_items": null,
            "align_self": null,
            "border": null,
            "bottom": null,
            "display": null,
            "flex": null,
            "flex_flow": null,
            "grid_area": null,
            "grid_auto_columns": null,
            "grid_auto_flow": null,
            "grid_auto_rows": null,
            "grid_column": null,
            "grid_gap": null,
            "grid_row": null,
            "grid_template_areas": null,
            "grid_template_columns": null,
            "grid_template_rows": null,
            "height": null,
            "justify_content": null,
            "justify_items": null,
            "left": null,
            "margin": null,
            "max_height": null,
            "max_width": null,
            "min_height": null,
            "min_width": null,
            "object_fit": null,
            "object_position": null,
            "order": null,
            "overflow": null,
            "overflow_x": null,
            "overflow_y": null,
            "padding": null,
            "right": null,
            "top": null,
            "visibility": null,
            "width": null
          }
        },
        "bd079811fb364129bf85c6ff4f78fd18": {
          "model_module": "@jupyter-widgets/controls",
          "model_name": "ProgressStyleModel",
          "model_module_version": "1.5.0",
          "state": {
            "_model_module": "@jupyter-widgets/controls",
            "_model_module_version": "1.5.0",
            "_model_name": "ProgressStyleModel",
            "_view_count": null,
            "_view_module": "@jupyter-widgets/base",
            "_view_module_version": "1.2.0",
            "_view_name": "StyleView",
            "bar_color": null,
            "description_width": ""
          }
        },
        "069fc5875e094147ae47898a2b1679de": {
          "model_module": "@jupyter-widgets/base",
          "model_name": "LayoutModel",
          "model_module_version": "1.2.0",
          "state": {
            "_model_module": "@jupyter-widgets/base",
            "_model_module_version": "1.2.0",
            "_model_name": "LayoutModel",
            "_view_count": null,
            "_view_module": "@jupyter-widgets/base",
            "_view_module_version": "1.2.0",
            "_view_name": "LayoutView",
            "align_content": null,
            "align_items": null,
            "align_self": null,
            "border": null,
            "bottom": null,
            "display": null,
            "flex": null,
            "flex_flow": null,
            "grid_area": null,
            "grid_auto_columns": null,
            "grid_auto_flow": null,
            "grid_auto_rows": null,
            "grid_column": null,
            "grid_gap": null,
            "grid_row": null,
            "grid_template_areas": null,
            "grid_template_columns": null,
            "grid_template_rows": null,
            "height": null,
            "justify_content": null,
            "justify_items": null,
            "left": null,
            "margin": null,
            "max_height": null,
            "max_width": null,
            "min_height": null,
            "min_width": null,
            "object_fit": null,
            "object_position": null,
            "order": null,
            "overflow": null,
            "overflow_x": null,
            "overflow_y": null,
            "padding": null,
            "right": null,
            "top": null,
            "visibility": null,
            "width": null
          }
        },
        "d2221c44b9a64fbb830c815539d44103": {
          "model_module": "@jupyter-widgets/controls",
          "model_name": "DescriptionStyleModel",
          "model_module_version": "1.5.0",
          "state": {
            "_model_module": "@jupyter-widgets/controls",
            "_model_module_version": "1.5.0",
            "_model_name": "DescriptionStyleModel",
            "_view_count": null,
            "_view_module": "@jupyter-widgets/base",
            "_view_module_version": "1.2.0",
            "_view_name": "StyleView",
            "description_width": ""
          }
        },
        "05a0c633056243789bf3bd50a0c4b369": {
          "model_module": "@jupyter-widgets/controls",
          "model_name": "HBoxModel",
          "model_module_version": "1.5.0",
          "state": {
            "_dom_classes": [],
            "_model_module": "@jupyter-widgets/controls",
            "_model_module_version": "1.5.0",
            "_model_name": "HBoxModel",
            "_view_count": null,
            "_view_module": "@jupyter-widgets/controls",
            "_view_module_version": "1.5.0",
            "_view_name": "HBoxView",
            "box_style": "",
            "children": [
              "IPY_MODEL_66c26d19caeb4bf3b588d99ea31d925e",
              "IPY_MODEL_a76ee26661084da08013a4dabd44d26d",
              "IPY_MODEL_ad80da6073784c74bcc1c6f85606822f"
            ],
            "layout": "IPY_MODEL_1ace64d82aa64ff99773012cafb3177a"
          }
        },
        "66c26d19caeb4bf3b588d99ea31d925e": {
          "model_module": "@jupyter-widgets/controls",
          "model_name": "HTMLModel",
          "model_module_version": "1.5.0",
          "state": {
            "_dom_classes": [],
            "_model_module": "@jupyter-widgets/controls",
            "_model_module_version": "1.5.0",
            "_model_name": "HTMLModel",
            "_view_count": null,
            "_view_module": "@jupyter-widgets/controls",
            "_view_module_version": "1.5.0",
            "_view_name": "HTMLView",
            "description": "",
            "description_tooltip": null,
            "layout": "IPY_MODEL_ea754ed111fe48d9aa075a60fd904faa",
            "placeholder": "​",
            "style": "IPY_MODEL_90294085872f422d90c46c3c4e9ce185",
            "value": "tokenizer_config.json: 100%"
          }
        },
        "a76ee26661084da08013a4dabd44d26d": {
          "model_module": "@jupyter-widgets/controls",
          "model_name": "FloatProgressModel",
          "model_module_version": "1.5.0",
          "state": {
            "_dom_classes": [],
            "_model_module": "@jupyter-widgets/controls",
            "_model_module_version": "1.5.0",
            "_model_name": "FloatProgressModel",
            "_view_count": null,
            "_view_module": "@jupyter-widgets/controls",
            "_view_module_version": "1.5.0",
            "_view_name": "ProgressView",
            "bar_style": "success",
            "description": "",
            "description_tooltip": null,
            "layout": "IPY_MODEL_fd4b7676c4a444e7830e05ad5c110bed",
            "max": 1460,
            "min": 0,
            "orientation": "horizontal",
            "style": "IPY_MODEL_8fbaffc07eea486e9e43738957c086b7",
            "value": 1460
          }
        },
        "ad80da6073784c74bcc1c6f85606822f": {
          "model_module": "@jupyter-widgets/controls",
          "model_name": "HTMLModel",
          "model_module_version": "1.5.0",
          "state": {
            "_dom_classes": [],
            "_model_module": "@jupyter-widgets/controls",
            "_model_module_version": "1.5.0",
            "_model_name": "HTMLModel",
            "_view_count": null,
            "_view_module": "@jupyter-widgets/controls",
            "_view_module_version": "1.5.0",
            "_view_name": "HTMLView",
            "description": "",
            "description_tooltip": null,
            "layout": "IPY_MODEL_944467cd14574f18a6e3214f0b13bbb5",
            "placeholder": "​",
            "style": "IPY_MODEL_bd809d52664f45a29feacb402d9eab10",
            "value": " 1.46k/1.46k [00:00&lt;00:00, 98.1kB/s]"
          }
        },
        "1ace64d82aa64ff99773012cafb3177a": {
          "model_module": "@jupyter-widgets/base",
          "model_name": "LayoutModel",
          "model_module_version": "1.2.0",
          "state": {
            "_model_module": "@jupyter-widgets/base",
            "_model_module_version": "1.2.0",
            "_model_name": "LayoutModel",
            "_view_count": null,
            "_view_module": "@jupyter-widgets/base",
            "_view_module_version": "1.2.0",
            "_view_name": "LayoutView",
            "align_content": null,
            "align_items": null,
            "align_self": null,
            "border": null,
            "bottom": null,
            "display": null,
            "flex": null,
            "flex_flow": null,
            "grid_area": null,
            "grid_auto_columns": null,
            "grid_auto_flow": null,
            "grid_auto_rows": null,
            "grid_column": null,
            "grid_gap": null,
            "grid_row": null,
            "grid_template_areas": null,
            "grid_template_columns": null,
            "grid_template_rows": null,
            "height": null,
            "justify_content": null,
            "justify_items": null,
            "left": null,
            "margin": null,
            "max_height": null,
            "max_width": null,
            "min_height": null,
            "min_width": null,
            "object_fit": null,
            "object_position": null,
            "order": null,
            "overflow": null,
            "overflow_x": null,
            "overflow_y": null,
            "padding": null,
            "right": null,
            "top": null,
            "visibility": null,
            "width": null
          }
        },
        "ea754ed111fe48d9aa075a60fd904faa": {
          "model_module": "@jupyter-widgets/base",
          "model_name": "LayoutModel",
          "model_module_version": "1.2.0",
          "state": {
            "_model_module": "@jupyter-widgets/base",
            "_model_module_version": "1.2.0",
            "_model_name": "LayoutModel",
            "_view_count": null,
            "_view_module": "@jupyter-widgets/base",
            "_view_module_version": "1.2.0",
            "_view_name": "LayoutView",
            "align_content": null,
            "align_items": null,
            "align_self": null,
            "border": null,
            "bottom": null,
            "display": null,
            "flex": null,
            "flex_flow": null,
            "grid_area": null,
            "grid_auto_columns": null,
            "grid_auto_flow": null,
            "grid_auto_rows": null,
            "grid_column": null,
            "grid_gap": null,
            "grid_row": null,
            "grid_template_areas": null,
            "grid_template_columns": null,
            "grid_template_rows": null,
            "height": null,
            "justify_content": null,
            "justify_items": null,
            "left": null,
            "margin": null,
            "max_height": null,
            "max_width": null,
            "min_height": null,
            "min_width": null,
            "object_fit": null,
            "object_position": null,
            "order": null,
            "overflow": null,
            "overflow_x": null,
            "overflow_y": null,
            "padding": null,
            "right": null,
            "top": null,
            "visibility": null,
            "width": null
          }
        },
        "90294085872f422d90c46c3c4e9ce185": {
          "model_module": "@jupyter-widgets/controls",
          "model_name": "DescriptionStyleModel",
          "model_module_version": "1.5.0",
          "state": {
            "_model_module": "@jupyter-widgets/controls",
            "_model_module_version": "1.5.0",
            "_model_name": "DescriptionStyleModel",
            "_view_count": null,
            "_view_module": "@jupyter-widgets/base",
            "_view_module_version": "1.2.0",
            "_view_name": "StyleView",
            "description_width": ""
          }
        },
        "fd4b7676c4a444e7830e05ad5c110bed": {
          "model_module": "@jupyter-widgets/base",
          "model_name": "LayoutModel",
          "model_module_version": "1.2.0",
          "state": {
            "_model_module": "@jupyter-widgets/base",
            "_model_module_version": "1.2.0",
            "_model_name": "LayoutModel",
            "_view_count": null,
            "_view_module": "@jupyter-widgets/base",
            "_view_module_version": "1.2.0",
            "_view_name": "LayoutView",
            "align_content": null,
            "align_items": null,
            "align_self": null,
            "border": null,
            "bottom": null,
            "display": null,
            "flex": null,
            "flex_flow": null,
            "grid_area": null,
            "grid_auto_columns": null,
            "grid_auto_flow": null,
            "grid_auto_rows": null,
            "grid_column": null,
            "grid_gap": null,
            "grid_row": null,
            "grid_template_areas": null,
            "grid_template_columns": null,
            "grid_template_rows": null,
            "height": null,
            "justify_content": null,
            "justify_items": null,
            "left": null,
            "margin": null,
            "max_height": null,
            "max_width": null,
            "min_height": null,
            "min_width": null,
            "object_fit": null,
            "object_position": null,
            "order": null,
            "overflow": null,
            "overflow_x": null,
            "overflow_y": null,
            "padding": null,
            "right": null,
            "top": null,
            "visibility": null,
            "width": null
          }
        },
        "8fbaffc07eea486e9e43738957c086b7": {
          "model_module": "@jupyter-widgets/controls",
          "model_name": "ProgressStyleModel",
          "model_module_version": "1.5.0",
          "state": {
            "_model_module": "@jupyter-widgets/controls",
            "_model_module_version": "1.5.0",
            "_model_name": "ProgressStyleModel",
            "_view_count": null,
            "_view_module": "@jupyter-widgets/base",
            "_view_module_version": "1.2.0",
            "_view_name": "StyleView",
            "bar_color": null,
            "description_width": ""
          }
        },
        "944467cd14574f18a6e3214f0b13bbb5": {
          "model_module": "@jupyter-widgets/base",
          "model_name": "LayoutModel",
          "model_module_version": "1.2.0",
          "state": {
            "_model_module": "@jupyter-widgets/base",
            "_model_module_version": "1.2.0",
            "_model_name": "LayoutModel",
            "_view_count": null,
            "_view_module": "@jupyter-widgets/base",
            "_view_module_version": "1.2.0",
            "_view_name": "LayoutView",
            "align_content": null,
            "align_items": null,
            "align_self": null,
            "border": null,
            "bottom": null,
            "display": null,
            "flex": null,
            "flex_flow": null,
            "grid_area": null,
            "grid_auto_columns": null,
            "grid_auto_flow": null,
            "grid_auto_rows": null,
            "grid_column": null,
            "grid_gap": null,
            "grid_row": null,
            "grid_template_areas": null,
            "grid_template_columns": null,
            "grid_template_rows": null,
            "height": null,
            "justify_content": null,
            "justify_items": null,
            "left": null,
            "margin": null,
            "max_height": null,
            "max_width": null,
            "min_height": null,
            "min_width": null,
            "object_fit": null,
            "object_position": null,
            "order": null,
            "overflow": null,
            "overflow_x": null,
            "overflow_y": null,
            "padding": null,
            "right": null,
            "top": null,
            "visibility": null,
            "width": null
          }
        },
        "bd809d52664f45a29feacb402d9eab10": {
          "model_module": "@jupyter-widgets/controls",
          "model_name": "DescriptionStyleModel",
          "model_module_version": "1.5.0",
          "state": {
            "_model_module": "@jupyter-widgets/controls",
            "_model_module_version": "1.5.0",
            "_model_name": "DescriptionStyleModel",
            "_view_count": null,
            "_view_module": "@jupyter-widgets/base",
            "_view_module_version": "1.2.0",
            "_view_name": "StyleView",
            "description_width": ""
          }
        },
        "166453f3a7204df09dd737e00d46c787": {
          "model_module": "@jupyter-widgets/controls",
          "model_name": "HBoxModel",
          "model_module_version": "1.5.0",
          "state": {
            "_dom_classes": [],
            "_model_module": "@jupyter-widgets/controls",
            "_model_module_version": "1.5.0",
            "_model_name": "HBoxModel",
            "_view_count": null,
            "_view_module": "@jupyter-widgets/controls",
            "_view_module_version": "1.5.0",
            "_view_name": "HBoxView",
            "box_style": "",
            "children": [
              "IPY_MODEL_88d67f7e31554eb4b8f570945cb9a1d2",
              "IPY_MODEL_8879763f36a34a56b7d901d7fd75dea6",
              "IPY_MODEL_8487a995eec24403a14658b104704ae9"
            ],
            "layout": "IPY_MODEL_4f26bfffdca6457581aeebf706b4b84f"
          }
        },
        "88d67f7e31554eb4b8f570945cb9a1d2": {
          "model_module": "@jupyter-widgets/controls",
          "model_name": "HTMLModel",
          "model_module_version": "1.5.0",
          "state": {
            "_dom_classes": [],
            "_model_module": "@jupyter-widgets/controls",
            "_model_module_version": "1.5.0",
            "_model_name": "HTMLModel",
            "_view_count": null,
            "_view_module": "@jupyter-widgets/controls",
            "_view_module_version": "1.5.0",
            "_view_name": "HTMLView",
            "description": "",
            "description_tooltip": null,
            "layout": "IPY_MODEL_a51f73b07daf4f4fa3a352c841c892f5",
            "placeholder": "​",
            "style": "IPY_MODEL_328eca4b30cf4ec183aead8ff12b9c35",
            "value": "tokenizer.model: 100%"
          }
        },
        "8879763f36a34a56b7d901d7fd75dea6": {
          "model_module": "@jupyter-widgets/controls",
          "model_name": "FloatProgressModel",
          "model_module_version": "1.5.0",
          "state": {
            "_dom_classes": [],
            "_model_module": "@jupyter-widgets/controls",
            "_model_module_version": "1.5.0",
            "_model_name": "FloatProgressModel",
            "_view_count": null,
            "_view_module": "@jupyter-widgets/controls",
            "_view_module_version": "1.5.0",
            "_view_name": "ProgressView",
            "bar_style": "success",
            "description": "",
            "description_tooltip": null,
            "layout": "IPY_MODEL_d07c5694ee064b9ea0568f719a73cc6e",
            "max": 493443,
            "min": 0,
            "orientation": "horizontal",
            "style": "IPY_MODEL_44a91a42069842b78b3d63874a02f803",
            "value": 493443
          }
        },
        "8487a995eec24403a14658b104704ae9": {
          "model_module": "@jupyter-widgets/controls",
          "model_name": "HTMLModel",
          "model_module_version": "1.5.0",
          "state": {
            "_dom_classes": [],
            "_model_module": "@jupyter-widgets/controls",
            "_model_module_version": "1.5.0",
            "_model_name": "HTMLModel",
            "_view_count": null,
            "_view_module": "@jupyter-widgets/controls",
            "_view_module_version": "1.5.0",
            "_view_name": "HTMLView",
            "description": "",
            "description_tooltip": null,
            "layout": "IPY_MODEL_69f200d3718846eb99cebff92f277270",
            "placeholder": "​",
            "style": "IPY_MODEL_ac86047a894542e4a8a9743fe872bbd8",
            "value": " 493k/493k [00:00&lt;00:00, 25.9MB/s]"
          }
        },
        "4f26bfffdca6457581aeebf706b4b84f": {
          "model_module": "@jupyter-widgets/base",
          "model_name": "LayoutModel",
          "model_module_version": "1.2.0",
          "state": {
            "_model_module": "@jupyter-widgets/base",
            "_model_module_version": "1.2.0",
            "_model_name": "LayoutModel",
            "_view_count": null,
            "_view_module": "@jupyter-widgets/base",
            "_view_module_version": "1.2.0",
            "_view_name": "LayoutView",
            "align_content": null,
            "align_items": null,
            "align_self": null,
            "border": null,
            "bottom": null,
            "display": null,
            "flex": null,
            "flex_flow": null,
            "grid_area": null,
            "grid_auto_columns": null,
            "grid_auto_flow": null,
            "grid_auto_rows": null,
            "grid_column": null,
            "grid_gap": null,
            "grid_row": null,
            "grid_template_areas": null,
            "grid_template_columns": null,
            "grid_template_rows": null,
            "height": null,
            "justify_content": null,
            "justify_items": null,
            "left": null,
            "margin": null,
            "max_height": null,
            "max_width": null,
            "min_height": null,
            "min_width": null,
            "object_fit": null,
            "object_position": null,
            "order": null,
            "overflow": null,
            "overflow_x": null,
            "overflow_y": null,
            "padding": null,
            "right": null,
            "top": null,
            "visibility": null,
            "width": null
          }
        },
        "a51f73b07daf4f4fa3a352c841c892f5": {
          "model_module": "@jupyter-widgets/base",
          "model_name": "LayoutModel",
          "model_module_version": "1.2.0",
          "state": {
            "_model_module": "@jupyter-widgets/base",
            "_model_module_version": "1.2.0",
            "_model_name": "LayoutModel",
            "_view_count": null,
            "_view_module": "@jupyter-widgets/base",
            "_view_module_version": "1.2.0",
            "_view_name": "LayoutView",
            "align_content": null,
            "align_items": null,
            "align_self": null,
            "border": null,
            "bottom": null,
            "display": null,
            "flex": null,
            "flex_flow": null,
            "grid_area": null,
            "grid_auto_columns": null,
            "grid_auto_flow": null,
            "grid_auto_rows": null,
            "grid_column": null,
            "grid_gap": null,
            "grid_row": null,
            "grid_template_areas": null,
            "grid_template_columns": null,
            "grid_template_rows": null,
            "height": null,
            "justify_content": null,
            "justify_items": null,
            "left": null,
            "margin": null,
            "max_height": null,
            "max_width": null,
            "min_height": null,
            "min_width": null,
            "object_fit": null,
            "object_position": null,
            "order": null,
            "overflow": null,
            "overflow_x": null,
            "overflow_y": null,
            "padding": null,
            "right": null,
            "top": null,
            "visibility": null,
            "width": null
          }
        },
        "328eca4b30cf4ec183aead8ff12b9c35": {
          "model_module": "@jupyter-widgets/controls",
          "model_name": "DescriptionStyleModel",
          "model_module_version": "1.5.0",
          "state": {
            "_model_module": "@jupyter-widgets/controls",
            "_model_module_version": "1.5.0",
            "_model_name": "DescriptionStyleModel",
            "_view_count": null,
            "_view_module": "@jupyter-widgets/base",
            "_view_module_version": "1.2.0",
            "_view_name": "StyleView",
            "description_width": ""
          }
        },
        "d07c5694ee064b9ea0568f719a73cc6e": {
          "model_module": "@jupyter-widgets/base",
          "model_name": "LayoutModel",
          "model_module_version": "1.2.0",
          "state": {
            "_model_module": "@jupyter-widgets/base",
            "_model_module_version": "1.2.0",
            "_model_name": "LayoutModel",
            "_view_count": null,
            "_view_module": "@jupyter-widgets/base",
            "_view_module_version": "1.2.0",
            "_view_name": "LayoutView",
            "align_content": null,
            "align_items": null,
            "align_self": null,
            "border": null,
            "bottom": null,
            "display": null,
            "flex": null,
            "flex_flow": null,
            "grid_area": null,
            "grid_auto_columns": null,
            "grid_auto_flow": null,
            "grid_auto_rows": null,
            "grid_column": null,
            "grid_gap": null,
            "grid_row": null,
            "grid_template_areas": null,
            "grid_template_columns": null,
            "grid_template_rows": null,
            "height": null,
            "justify_content": null,
            "justify_items": null,
            "left": null,
            "margin": null,
            "max_height": null,
            "max_width": null,
            "min_height": null,
            "min_width": null,
            "object_fit": null,
            "object_position": null,
            "order": null,
            "overflow": null,
            "overflow_x": null,
            "overflow_y": null,
            "padding": null,
            "right": null,
            "top": null,
            "visibility": null,
            "width": null
          }
        },
        "44a91a42069842b78b3d63874a02f803": {
          "model_module": "@jupyter-widgets/controls",
          "model_name": "ProgressStyleModel",
          "model_module_version": "1.5.0",
          "state": {
            "_model_module": "@jupyter-widgets/controls",
            "_model_module_version": "1.5.0",
            "_model_name": "ProgressStyleModel",
            "_view_count": null,
            "_view_module": "@jupyter-widgets/base",
            "_view_module_version": "1.2.0",
            "_view_name": "StyleView",
            "bar_color": null,
            "description_width": ""
          }
        },
        "69f200d3718846eb99cebff92f277270": {
          "model_module": "@jupyter-widgets/base",
          "model_name": "LayoutModel",
          "model_module_version": "1.2.0",
          "state": {
            "_model_module": "@jupyter-widgets/base",
            "_model_module_version": "1.2.0",
            "_model_name": "LayoutModel",
            "_view_count": null,
            "_view_module": "@jupyter-widgets/base",
            "_view_module_version": "1.2.0",
            "_view_name": "LayoutView",
            "align_content": null,
            "align_items": null,
            "align_self": null,
            "border": null,
            "bottom": null,
            "display": null,
            "flex": null,
            "flex_flow": null,
            "grid_area": null,
            "grid_auto_columns": null,
            "grid_auto_flow": null,
            "grid_auto_rows": null,
            "grid_column": null,
            "grid_gap": null,
            "grid_row": null,
            "grid_template_areas": null,
            "grid_template_columns": null,
            "grid_template_rows": null,
            "height": null,
            "justify_content": null,
            "justify_items": null,
            "left": null,
            "margin": null,
            "max_height": null,
            "max_width": null,
            "min_height": null,
            "min_width": null,
            "object_fit": null,
            "object_position": null,
            "order": null,
            "overflow": null,
            "overflow_x": null,
            "overflow_y": null,
            "padding": null,
            "right": null,
            "top": null,
            "visibility": null,
            "width": null
          }
        },
        "ac86047a894542e4a8a9743fe872bbd8": {
          "model_module": "@jupyter-widgets/controls",
          "model_name": "DescriptionStyleModel",
          "model_module_version": "1.5.0",
          "state": {
            "_model_module": "@jupyter-widgets/controls",
            "_model_module_version": "1.5.0",
            "_model_name": "DescriptionStyleModel",
            "_view_count": null,
            "_view_module": "@jupyter-widgets/base",
            "_view_module_version": "1.2.0",
            "_view_name": "StyleView",
            "description_width": ""
          }
        },
        "597c3bcf231441e4a5258eb870c7b4da": {
          "model_module": "@jupyter-widgets/controls",
          "model_name": "HBoxModel",
          "model_module_version": "1.5.0",
          "state": {
            "_dom_classes": [],
            "_model_module": "@jupyter-widgets/controls",
            "_model_module_version": "1.5.0",
            "_model_name": "HBoxModel",
            "_view_count": null,
            "_view_module": "@jupyter-widgets/controls",
            "_view_module_version": "1.5.0",
            "_view_name": "HBoxView",
            "box_style": "",
            "children": [
              "IPY_MODEL_89047b09ed5d45ac9826cd2bdfa241e9",
              "IPY_MODEL_2bdb04a0d89048fc8230035577cff472",
              "IPY_MODEL_d2823c7a9bed4c4fbf28d08829ccfa7f"
            ],
            "layout": "IPY_MODEL_0a533524b6a74453abd3cf5874d4f850"
          }
        },
        "89047b09ed5d45ac9826cd2bdfa241e9": {
          "model_module": "@jupyter-widgets/controls",
          "model_name": "HTMLModel",
          "model_module_version": "1.5.0",
          "state": {
            "_dom_classes": [],
            "_model_module": "@jupyter-widgets/controls",
            "_model_module_version": "1.5.0",
            "_model_name": "HTMLModel",
            "_view_count": null,
            "_view_module": "@jupyter-widgets/controls",
            "_view_module_version": "1.5.0",
            "_view_name": "HTMLView",
            "description": "",
            "description_tooltip": null,
            "layout": "IPY_MODEL_5ef3a3c8e35441a6bbd0fa61863682c3",
            "placeholder": "​",
            "style": "IPY_MODEL_f0012f44dd434b32b4db4386309be303",
            "value": "tokenizer.json: 100%"
          }
        },
        "2bdb04a0d89048fc8230035577cff472": {
          "model_module": "@jupyter-widgets/controls",
          "model_name": "FloatProgressModel",
          "model_module_version": "1.5.0",
          "state": {
            "_dom_classes": [],
            "_model_module": "@jupyter-widgets/controls",
            "_model_module_version": "1.5.0",
            "_model_name": "FloatProgressModel",
            "_view_count": null,
            "_view_module": "@jupyter-widgets/controls",
            "_view_module_version": "1.5.0",
            "_view_name": "ProgressView",
            "bar_style": "success",
            "description": "",
            "description_tooltip": null,
            "layout": "IPY_MODEL_f8f4308273f84a61bbc1471b8489dcaa",
            "max": 1795303,
            "min": 0,
            "orientation": "horizontal",
            "style": "IPY_MODEL_a457ef6302674926a25a0dddc8a7ba4d",
            "value": 1795303
          }
        },
        "d2823c7a9bed4c4fbf28d08829ccfa7f": {
          "model_module": "@jupyter-widgets/controls",
          "model_name": "HTMLModel",
          "model_module_version": "1.5.0",
          "state": {
            "_dom_classes": [],
            "_model_module": "@jupyter-widgets/controls",
            "_model_module_version": "1.5.0",
            "_model_name": "HTMLModel",
            "_view_count": null,
            "_view_module": "@jupyter-widgets/controls",
            "_view_module_version": "1.5.0",
            "_view_name": "HTMLView",
            "description": "",
            "description_tooltip": null,
            "layout": "IPY_MODEL_d916bf42586f4a369b66eef96eae22b9",
            "placeholder": "​",
            "style": "IPY_MODEL_7bfca5e577eb4c189a5993dfa60d663e",
            "value": " 1.80M/1.80M [00:00&lt;00:00, 26.7MB/s]"
          }
        },
        "0a533524b6a74453abd3cf5874d4f850": {
          "model_module": "@jupyter-widgets/base",
          "model_name": "LayoutModel",
          "model_module_version": "1.2.0",
          "state": {
            "_model_module": "@jupyter-widgets/base",
            "_model_module_version": "1.2.0",
            "_model_name": "LayoutModel",
            "_view_count": null,
            "_view_module": "@jupyter-widgets/base",
            "_view_module_version": "1.2.0",
            "_view_name": "LayoutView",
            "align_content": null,
            "align_items": null,
            "align_self": null,
            "border": null,
            "bottom": null,
            "display": null,
            "flex": null,
            "flex_flow": null,
            "grid_area": null,
            "grid_auto_columns": null,
            "grid_auto_flow": null,
            "grid_auto_rows": null,
            "grid_column": null,
            "grid_gap": null,
            "grid_row": null,
            "grid_template_areas": null,
            "grid_template_columns": null,
            "grid_template_rows": null,
            "height": null,
            "justify_content": null,
            "justify_items": null,
            "left": null,
            "margin": null,
            "max_height": null,
            "max_width": null,
            "min_height": null,
            "min_width": null,
            "object_fit": null,
            "object_position": null,
            "order": null,
            "overflow": null,
            "overflow_x": null,
            "overflow_y": null,
            "padding": null,
            "right": null,
            "top": null,
            "visibility": null,
            "width": null
          }
        },
        "5ef3a3c8e35441a6bbd0fa61863682c3": {
          "model_module": "@jupyter-widgets/base",
          "model_name": "LayoutModel",
          "model_module_version": "1.2.0",
          "state": {
            "_model_module": "@jupyter-widgets/base",
            "_model_module_version": "1.2.0",
            "_model_name": "LayoutModel",
            "_view_count": null,
            "_view_module": "@jupyter-widgets/base",
            "_view_module_version": "1.2.0",
            "_view_name": "LayoutView",
            "align_content": null,
            "align_items": null,
            "align_self": null,
            "border": null,
            "bottom": null,
            "display": null,
            "flex": null,
            "flex_flow": null,
            "grid_area": null,
            "grid_auto_columns": null,
            "grid_auto_flow": null,
            "grid_auto_rows": null,
            "grid_column": null,
            "grid_gap": null,
            "grid_row": null,
            "grid_template_areas": null,
            "grid_template_columns": null,
            "grid_template_rows": null,
            "height": null,
            "justify_content": null,
            "justify_items": null,
            "left": null,
            "margin": null,
            "max_height": null,
            "max_width": null,
            "min_height": null,
            "min_width": null,
            "object_fit": null,
            "object_position": null,
            "order": null,
            "overflow": null,
            "overflow_x": null,
            "overflow_y": null,
            "padding": null,
            "right": null,
            "top": null,
            "visibility": null,
            "width": null
          }
        },
        "f0012f44dd434b32b4db4386309be303": {
          "model_module": "@jupyter-widgets/controls",
          "model_name": "DescriptionStyleModel",
          "model_module_version": "1.5.0",
          "state": {
            "_model_module": "@jupyter-widgets/controls",
            "_model_module_version": "1.5.0",
            "_model_name": "DescriptionStyleModel",
            "_view_count": null,
            "_view_module": "@jupyter-widgets/base",
            "_view_module_version": "1.2.0",
            "_view_name": "StyleView",
            "description_width": ""
          }
        },
        "f8f4308273f84a61bbc1471b8489dcaa": {
          "model_module": "@jupyter-widgets/base",
          "model_name": "LayoutModel",
          "model_module_version": "1.2.0",
          "state": {
            "_model_module": "@jupyter-widgets/base",
            "_model_module_version": "1.2.0",
            "_model_name": "LayoutModel",
            "_view_count": null,
            "_view_module": "@jupyter-widgets/base",
            "_view_module_version": "1.2.0",
            "_view_name": "LayoutView",
            "align_content": null,
            "align_items": null,
            "align_self": null,
            "border": null,
            "bottom": null,
            "display": null,
            "flex": null,
            "flex_flow": null,
            "grid_area": null,
            "grid_auto_columns": null,
            "grid_auto_flow": null,
            "grid_auto_rows": null,
            "grid_column": null,
            "grid_gap": null,
            "grid_row": null,
            "grid_template_areas": null,
            "grid_template_columns": null,
            "grid_template_rows": null,
            "height": null,
            "justify_content": null,
            "justify_items": null,
            "left": null,
            "margin": null,
            "max_height": null,
            "max_width": null,
            "min_height": null,
            "min_width": null,
            "object_fit": null,
            "object_position": null,
            "order": null,
            "overflow": null,
            "overflow_x": null,
            "overflow_y": null,
            "padding": null,
            "right": null,
            "top": null,
            "visibility": null,
            "width": null
          }
        },
        "a457ef6302674926a25a0dddc8a7ba4d": {
          "model_module": "@jupyter-widgets/controls",
          "model_name": "ProgressStyleModel",
          "model_module_version": "1.5.0",
          "state": {
            "_model_module": "@jupyter-widgets/controls",
            "_model_module_version": "1.5.0",
            "_model_name": "ProgressStyleModel",
            "_view_count": null,
            "_view_module": "@jupyter-widgets/base",
            "_view_module_version": "1.2.0",
            "_view_name": "StyleView",
            "bar_color": null,
            "description_width": ""
          }
        },
        "d916bf42586f4a369b66eef96eae22b9": {
          "model_module": "@jupyter-widgets/base",
          "model_name": "LayoutModel",
          "model_module_version": "1.2.0",
          "state": {
            "_model_module": "@jupyter-widgets/base",
            "_model_module_version": "1.2.0",
            "_model_name": "LayoutModel",
            "_view_count": null,
            "_view_module": "@jupyter-widgets/base",
            "_view_module_version": "1.2.0",
            "_view_name": "LayoutView",
            "align_content": null,
            "align_items": null,
            "align_self": null,
            "border": null,
            "bottom": null,
            "display": null,
            "flex": null,
            "flex_flow": null,
            "grid_area": null,
            "grid_auto_columns": null,
            "grid_auto_flow": null,
            "grid_auto_rows": null,
            "grid_column": null,
            "grid_gap": null,
            "grid_row": null,
            "grid_template_areas": null,
            "grid_template_columns": null,
            "grid_template_rows": null,
            "height": null,
            "justify_content": null,
            "justify_items": null,
            "left": null,
            "margin": null,
            "max_height": null,
            "max_width": null,
            "min_height": null,
            "min_width": null,
            "object_fit": null,
            "object_position": null,
            "order": null,
            "overflow": null,
            "overflow_x": null,
            "overflow_y": null,
            "padding": null,
            "right": null,
            "top": null,
            "visibility": null,
            "width": null
          }
        },
        "7bfca5e577eb4c189a5993dfa60d663e": {
          "model_module": "@jupyter-widgets/controls",
          "model_name": "DescriptionStyleModel",
          "model_module_version": "1.5.0",
          "state": {
            "_model_module": "@jupyter-widgets/controls",
            "_model_module_version": "1.5.0",
            "_model_name": "DescriptionStyleModel",
            "_view_count": null,
            "_view_module": "@jupyter-widgets/base",
            "_view_module_version": "1.2.0",
            "_view_name": "StyleView",
            "description_width": ""
          }
        },
        "73065e507b65480987941e1653ca5255": {
          "model_module": "@jupyter-widgets/controls",
          "model_name": "HBoxModel",
          "model_module_version": "1.5.0",
          "state": {
            "_dom_classes": [],
            "_model_module": "@jupyter-widgets/controls",
            "_model_module_version": "1.5.0",
            "_model_name": "HBoxModel",
            "_view_count": null,
            "_view_module": "@jupyter-widgets/controls",
            "_view_module_version": "1.5.0",
            "_view_name": "HBoxView",
            "box_style": "",
            "children": [
              "IPY_MODEL_1c055e78d489492fae384f6c276bff01",
              "IPY_MODEL_261f08b1782344efa00acf310fceec9e",
              "IPY_MODEL_ea1a952f8c0b425b9e14e22a91045cc5"
            ],
            "layout": "IPY_MODEL_8de37cb9c0314171872eacc91693e903"
          }
        },
        "1c055e78d489492fae384f6c276bff01": {
          "model_module": "@jupyter-widgets/controls",
          "model_name": "HTMLModel",
          "model_module_version": "1.5.0",
          "state": {
            "_dom_classes": [],
            "_model_module": "@jupyter-widgets/controls",
            "_model_module_version": "1.5.0",
            "_model_name": "HTMLModel",
            "_view_count": null,
            "_view_module": "@jupyter-widgets/controls",
            "_view_module_version": "1.5.0",
            "_view_name": "HTMLView",
            "description": "",
            "description_tooltip": null,
            "layout": "IPY_MODEL_b26693a47f754a379c3ac1ae91bb055e",
            "placeholder": "​",
            "style": "IPY_MODEL_4b032e4c874a4e1c8ee943ac24019e5e",
            "value": "special_tokens_map.json: 100%"
          }
        },
        "261f08b1782344efa00acf310fceec9e": {
          "model_module": "@jupyter-widgets/controls",
          "model_name": "FloatProgressModel",
          "model_module_version": "1.5.0",
          "state": {
            "_dom_classes": [],
            "_model_module": "@jupyter-widgets/controls",
            "_model_module_version": "1.5.0",
            "_model_name": "FloatProgressModel",
            "_view_count": null,
            "_view_module": "@jupyter-widgets/controls",
            "_view_module_version": "1.5.0",
            "_view_name": "ProgressView",
            "bar_style": "success",
            "description": "",
            "description_tooltip": null,
            "layout": "IPY_MODEL_25c8e799085d4443ace90fbc7cb647b2",
            "max": 72,
            "min": 0,
            "orientation": "horizontal",
            "style": "IPY_MODEL_76c9d455bb1f4e7e8de5c04d0ffeca54",
            "value": 72
          }
        },
        "ea1a952f8c0b425b9e14e22a91045cc5": {
          "model_module": "@jupyter-widgets/controls",
          "model_name": "HTMLModel",
          "model_module_version": "1.5.0",
          "state": {
            "_dom_classes": [],
            "_model_module": "@jupyter-widgets/controls",
            "_model_module_version": "1.5.0",
            "_model_name": "HTMLModel",
            "_view_count": null,
            "_view_module": "@jupyter-widgets/controls",
            "_view_module_version": "1.5.0",
            "_view_name": "HTMLView",
            "description": "",
            "description_tooltip": null,
            "layout": "IPY_MODEL_e9a7b2baec5e462d962f502a1d51f128",
            "placeholder": "​",
            "style": "IPY_MODEL_aacf9cd28a88401f937df0949fb95c53",
            "value": " 72.0/72.0 [00:00&lt;00:00, 5.57kB/s]"
          }
        },
        "8de37cb9c0314171872eacc91693e903": {
          "model_module": "@jupyter-widgets/base",
          "model_name": "LayoutModel",
          "model_module_version": "1.2.0",
          "state": {
            "_model_module": "@jupyter-widgets/base",
            "_model_module_version": "1.2.0",
            "_model_name": "LayoutModel",
            "_view_count": null,
            "_view_module": "@jupyter-widgets/base",
            "_view_module_version": "1.2.0",
            "_view_name": "LayoutView",
            "align_content": null,
            "align_items": null,
            "align_self": null,
            "border": null,
            "bottom": null,
            "display": null,
            "flex": null,
            "flex_flow": null,
            "grid_area": null,
            "grid_auto_columns": null,
            "grid_auto_flow": null,
            "grid_auto_rows": null,
            "grid_column": null,
            "grid_gap": null,
            "grid_row": null,
            "grid_template_areas": null,
            "grid_template_columns": null,
            "grid_template_rows": null,
            "height": null,
            "justify_content": null,
            "justify_items": null,
            "left": null,
            "margin": null,
            "max_height": null,
            "max_width": null,
            "min_height": null,
            "min_width": null,
            "object_fit": null,
            "object_position": null,
            "order": null,
            "overflow": null,
            "overflow_x": null,
            "overflow_y": null,
            "padding": null,
            "right": null,
            "top": null,
            "visibility": null,
            "width": null
          }
        },
        "b26693a47f754a379c3ac1ae91bb055e": {
          "model_module": "@jupyter-widgets/base",
          "model_name": "LayoutModel",
          "model_module_version": "1.2.0",
          "state": {
            "_model_module": "@jupyter-widgets/base",
            "_model_module_version": "1.2.0",
            "_model_name": "LayoutModel",
            "_view_count": null,
            "_view_module": "@jupyter-widgets/base",
            "_view_module_version": "1.2.0",
            "_view_name": "LayoutView",
            "align_content": null,
            "align_items": null,
            "align_self": null,
            "border": null,
            "bottom": null,
            "display": null,
            "flex": null,
            "flex_flow": null,
            "grid_area": null,
            "grid_auto_columns": null,
            "grid_auto_flow": null,
            "grid_auto_rows": null,
            "grid_column": null,
            "grid_gap": null,
            "grid_row": null,
            "grid_template_areas": null,
            "grid_template_columns": null,
            "grid_template_rows": null,
            "height": null,
            "justify_content": null,
            "justify_items": null,
            "left": null,
            "margin": null,
            "max_height": null,
            "max_width": null,
            "min_height": null,
            "min_width": null,
            "object_fit": null,
            "object_position": null,
            "order": null,
            "overflow": null,
            "overflow_x": null,
            "overflow_y": null,
            "padding": null,
            "right": null,
            "top": null,
            "visibility": null,
            "width": null
          }
        },
        "4b032e4c874a4e1c8ee943ac24019e5e": {
          "model_module": "@jupyter-widgets/controls",
          "model_name": "DescriptionStyleModel",
          "model_module_version": "1.5.0",
          "state": {
            "_model_module": "@jupyter-widgets/controls",
            "_model_module_version": "1.5.0",
            "_model_name": "DescriptionStyleModel",
            "_view_count": null,
            "_view_module": "@jupyter-widgets/base",
            "_view_module_version": "1.2.0",
            "_view_name": "StyleView",
            "description_width": ""
          }
        },
        "25c8e799085d4443ace90fbc7cb647b2": {
          "model_module": "@jupyter-widgets/base",
          "model_name": "LayoutModel",
          "model_module_version": "1.2.0",
          "state": {
            "_model_module": "@jupyter-widgets/base",
            "_model_module_version": "1.2.0",
            "_model_name": "LayoutModel",
            "_view_count": null,
            "_view_module": "@jupyter-widgets/base",
            "_view_module_version": "1.2.0",
            "_view_name": "LayoutView",
            "align_content": null,
            "align_items": null,
            "align_self": null,
            "border": null,
            "bottom": null,
            "display": null,
            "flex": null,
            "flex_flow": null,
            "grid_area": null,
            "grid_auto_columns": null,
            "grid_auto_flow": null,
            "grid_auto_rows": null,
            "grid_column": null,
            "grid_gap": null,
            "grid_row": null,
            "grid_template_areas": null,
            "grid_template_columns": null,
            "grid_template_rows": null,
            "height": null,
            "justify_content": null,
            "justify_items": null,
            "left": null,
            "margin": null,
            "max_height": null,
            "max_width": null,
            "min_height": null,
            "min_width": null,
            "object_fit": null,
            "object_position": null,
            "order": null,
            "overflow": null,
            "overflow_x": null,
            "overflow_y": null,
            "padding": null,
            "right": null,
            "top": null,
            "visibility": null,
            "width": null
          }
        },
        "76c9d455bb1f4e7e8de5c04d0ffeca54": {
          "model_module": "@jupyter-widgets/controls",
          "model_name": "ProgressStyleModel",
          "model_module_version": "1.5.0",
          "state": {
            "_model_module": "@jupyter-widgets/controls",
            "_model_module_version": "1.5.0",
            "_model_name": "ProgressStyleModel",
            "_view_count": null,
            "_view_module": "@jupyter-widgets/base",
            "_view_module_version": "1.2.0",
            "_view_name": "StyleView",
            "bar_color": null,
            "description_width": ""
          }
        },
        "e9a7b2baec5e462d962f502a1d51f128": {
          "model_module": "@jupyter-widgets/base",
          "model_name": "LayoutModel",
          "model_module_version": "1.2.0",
          "state": {
            "_model_module": "@jupyter-widgets/base",
            "_model_module_version": "1.2.0",
            "_model_name": "LayoutModel",
            "_view_count": null,
            "_view_module": "@jupyter-widgets/base",
            "_view_module_version": "1.2.0",
            "_view_name": "LayoutView",
            "align_content": null,
            "align_items": null,
            "align_self": null,
            "border": null,
            "bottom": null,
            "display": null,
            "flex": null,
            "flex_flow": null,
            "grid_area": null,
            "grid_auto_columns": null,
            "grid_auto_flow": null,
            "grid_auto_rows": null,
            "grid_column": null,
            "grid_gap": null,
            "grid_row": null,
            "grid_template_areas": null,
            "grid_template_columns": null,
            "grid_template_rows": null,
            "height": null,
            "justify_content": null,
            "justify_items": null,
            "left": null,
            "margin": null,
            "max_height": null,
            "max_width": null,
            "min_height": null,
            "min_width": null,
            "object_fit": null,
            "object_position": null,
            "order": null,
            "overflow": null,
            "overflow_x": null,
            "overflow_y": null,
            "padding": null,
            "right": null,
            "top": null,
            "visibility": null,
            "width": null
          }
        },
        "aacf9cd28a88401f937df0949fb95c53": {
          "model_module": "@jupyter-widgets/controls",
          "model_name": "DescriptionStyleModel",
          "model_module_version": "1.5.0",
          "state": {
            "_model_module": "@jupyter-widgets/controls",
            "_model_module_version": "1.5.0",
            "_model_name": "DescriptionStyleModel",
            "_view_count": null,
            "_view_module": "@jupyter-widgets/base",
            "_view_module_version": "1.2.0",
            "_view_name": "StyleView",
            "description_width": ""
          }
        },
        "dda84c7428e04e3c9105885704f2ab91": {
          "model_module": "@jupyter-widgets/controls",
          "model_name": "HBoxModel",
          "model_module_version": "1.5.0",
          "state": {
            "_dom_classes": [],
            "_model_module": "@jupyter-widgets/controls",
            "_model_module_version": "1.5.0",
            "_model_name": "HBoxModel",
            "_view_count": null,
            "_view_module": "@jupyter-widgets/controls",
            "_view_module_version": "1.5.0",
            "_view_name": "HBoxView",
            "box_style": "",
            "children": [
              "IPY_MODEL_76f96ae32aaf47df8d6f3dde2e872343",
              "IPY_MODEL_7c06d16cbffb4afe869c42d8612b7bc9",
              "IPY_MODEL_842bd3d153f6445db493be3af96ca8b0"
            ],
            "layout": "IPY_MODEL_c4a796482c4f4a1192f85e607e1ef152"
          }
        },
        "76f96ae32aaf47df8d6f3dde2e872343": {
          "model_module": "@jupyter-widgets/controls",
          "model_name": "HTMLModel",
          "model_module_version": "1.5.0",
          "state": {
            "_dom_classes": [],
            "_model_module": "@jupyter-widgets/controls",
            "_model_module_version": "1.5.0",
            "_model_name": "HTMLModel",
            "_view_count": null,
            "_view_module": "@jupyter-widgets/controls",
            "_view_module_version": "1.5.0",
            "_view_name": "HTMLView",
            "description": "",
            "description_tooltip": null,
            "layout": "IPY_MODEL_0faedbcd43734417aec24a48b681594a",
            "placeholder": "​",
            "style": "IPY_MODEL_922c27116c1e4b08bec3d85462d0df6e",
            "value": "Map: 100%"
          }
        },
        "7c06d16cbffb4afe869c42d8612b7bc9": {
          "model_module": "@jupyter-widgets/controls",
          "model_name": "FloatProgressModel",
          "model_module_version": "1.5.0",
          "state": {
            "_dom_classes": [],
            "_model_module": "@jupyter-widgets/controls",
            "_model_module_version": "1.5.0",
            "_model_name": "FloatProgressModel",
            "_view_count": null,
            "_view_module": "@jupyter-widgets/controls",
            "_view_module_version": "1.5.0",
            "_view_name": "ProgressView",
            "bar_style": "success",
            "description": "",
            "description_tooltip": null,
            "layout": "IPY_MODEL_c836c5ebc1bf446d93db5741cdbccba2",
            "max": 779,
            "min": 0,
            "orientation": "horizontal",
            "style": "IPY_MODEL_1b454ff138f64f5393ee2844e3babfbe",
            "value": 779
          }
        },
        "842bd3d153f6445db493be3af96ca8b0": {
          "model_module": "@jupyter-widgets/controls",
          "model_name": "HTMLModel",
          "model_module_version": "1.5.0",
          "state": {
            "_dom_classes": [],
            "_model_module": "@jupyter-widgets/controls",
            "_model_module_version": "1.5.0",
            "_model_name": "HTMLModel",
            "_view_count": null,
            "_view_module": "@jupyter-widgets/controls",
            "_view_module_version": "1.5.0",
            "_view_name": "HTMLView",
            "description": "",
            "description_tooltip": null,
            "layout": "IPY_MODEL_68beec455d7c4760b3e046623a2a7691",
            "placeholder": "​",
            "style": "IPY_MODEL_f3fa979f615646d59e51e48a7e885d4b",
            "value": " 779/779 [00:00&lt;00:00, 1059.33 examples/s]"
          }
        },
        "c4a796482c4f4a1192f85e607e1ef152": {
          "model_module": "@jupyter-widgets/base",
          "model_name": "LayoutModel",
          "model_module_version": "1.2.0",
          "state": {
            "_model_module": "@jupyter-widgets/base",
            "_model_module_version": "1.2.0",
            "_model_name": "LayoutModel",
            "_view_count": null,
            "_view_module": "@jupyter-widgets/base",
            "_view_module_version": "1.2.0",
            "_view_name": "LayoutView",
            "align_content": null,
            "align_items": null,
            "align_self": null,
            "border": null,
            "bottom": null,
            "display": null,
            "flex": null,
            "flex_flow": null,
            "grid_area": null,
            "grid_auto_columns": null,
            "grid_auto_flow": null,
            "grid_auto_rows": null,
            "grid_column": null,
            "grid_gap": null,
            "grid_row": null,
            "grid_template_areas": null,
            "grid_template_columns": null,
            "grid_template_rows": null,
            "height": null,
            "justify_content": null,
            "justify_items": null,
            "left": null,
            "margin": null,
            "max_height": null,
            "max_width": null,
            "min_height": null,
            "min_width": null,
            "object_fit": null,
            "object_position": null,
            "order": null,
            "overflow": null,
            "overflow_x": null,
            "overflow_y": null,
            "padding": null,
            "right": null,
            "top": null,
            "visibility": null,
            "width": null
          }
        },
        "0faedbcd43734417aec24a48b681594a": {
          "model_module": "@jupyter-widgets/base",
          "model_name": "LayoutModel",
          "model_module_version": "1.2.0",
          "state": {
            "_model_module": "@jupyter-widgets/base",
            "_model_module_version": "1.2.0",
            "_model_name": "LayoutModel",
            "_view_count": null,
            "_view_module": "@jupyter-widgets/base",
            "_view_module_version": "1.2.0",
            "_view_name": "LayoutView",
            "align_content": null,
            "align_items": null,
            "align_self": null,
            "border": null,
            "bottom": null,
            "display": null,
            "flex": null,
            "flex_flow": null,
            "grid_area": null,
            "grid_auto_columns": null,
            "grid_auto_flow": null,
            "grid_auto_rows": null,
            "grid_column": null,
            "grid_gap": null,
            "grid_row": null,
            "grid_template_areas": null,
            "grid_template_columns": null,
            "grid_template_rows": null,
            "height": null,
            "justify_content": null,
            "justify_items": null,
            "left": null,
            "margin": null,
            "max_height": null,
            "max_width": null,
            "min_height": null,
            "min_width": null,
            "object_fit": null,
            "object_position": null,
            "order": null,
            "overflow": null,
            "overflow_x": null,
            "overflow_y": null,
            "padding": null,
            "right": null,
            "top": null,
            "visibility": null,
            "width": null
          }
        },
        "922c27116c1e4b08bec3d85462d0df6e": {
          "model_module": "@jupyter-widgets/controls",
          "model_name": "DescriptionStyleModel",
          "model_module_version": "1.5.0",
          "state": {
            "_model_module": "@jupyter-widgets/controls",
            "_model_module_version": "1.5.0",
            "_model_name": "DescriptionStyleModel",
            "_view_count": null,
            "_view_module": "@jupyter-widgets/base",
            "_view_module_version": "1.2.0",
            "_view_name": "StyleView",
            "description_width": ""
          }
        },
        "c836c5ebc1bf446d93db5741cdbccba2": {
          "model_module": "@jupyter-widgets/base",
          "model_name": "LayoutModel",
          "model_module_version": "1.2.0",
          "state": {
            "_model_module": "@jupyter-widgets/base",
            "_model_module_version": "1.2.0",
            "_model_name": "LayoutModel",
            "_view_count": null,
            "_view_module": "@jupyter-widgets/base",
            "_view_module_version": "1.2.0",
            "_view_name": "LayoutView",
            "align_content": null,
            "align_items": null,
            "align_self": null,
            "border": null,
            "bottom": null,
            "display": null,
            "flex": null,
            "flex_flow": null,
            "grid_area": null,
            "grid_auto_columns": null,
            "grid_auto_flow": null,
            "grid_auto_rows": null,
            "grid_column": null,
            "grid_gap": null,
            "grid_row": null,
            "grid_template_areas": null,
            "grid_template_columns": null,
            "grid_template_rows": null,
            "height": null,
            "justify_content": null,
            "justify_items": null,
            "left": null,
            "margin": null,
            "max_height": null,
            "max_width": null,
            "min_height": null,
            "min_width": null,
            "object_fit": null,
            "object_position": null,
            "order": null,
            "overflow": null,
            "overflow_x": null,
            "overflow_y": null,
            "padding": null,
            "right": null,
            "top": null,
            "visibility": null,
            "width": null
          }
        },
        "1b454ff138f64f5393ee2844e3babfbe": {
          "model_module": "@jupyter-widgets/controls",
          "model_name": "ProgressStyleModel",
          "model_module_version": "1.5.0",
          "state": {
            "_model_module": "@jupyter-widgets/controls",
            "_model_module_version": "1.5.0",
            "_model_name": "ProgressStyleModel",
            "_view_count": null,
            "_view_module": "@jupyter-widgets/base",
            "_view_module_version": "1.2.0",
            "_view_name": "StyleView",
            "bar_color": null,
            "description_width": ""
          }
        },
        "68beec455d7c4760b3e046623a2a7691": {
          "model_module": "@jupyter-widgets/base",
          "model_name": "LayoutModel",
          "model_module_version": "1.2.0",
          "state": {
            "_model_module": "@jupyter-widgets/base",
            "_model_module_version": "1.2.0",
            "_model_name": "LayoutModel",
            "_view_count": null,
            "_view_module": "@jupyter-widgets/base",
            "_view_module_version": "1.2.0",
            "_view_name": "LayoutView",
            "align_content": null,
            "align_items": null,
            "align_self": null,
            "border": null,
            "bottom": null,
            "display": null,
            "flex": null,
            "flex_flow": null,
            "grid_area": null,
            "grid_auto_columns": null,
            "grid_auto_flow": null,
            "grid_auto_rows": null,
            "grid_column": null,
            "grid_gap": null,
            "grid_row": null,
            "grid_template_areas": null,
            "grid_template_columns": null,
            "grid_template_rows": null,
            "height": null,
            "justify_content": null,
            "justify_items": null,
            "left": null,
            "margin": null,
            "max_height": null,
            "max_width": null,
            "min_height": null,
            "min_width": null,
            "object_fit": null,
            "object_position": null,
            "order": null,
            "overflow": null,
            "overflow_x": null,
            "overflow_y": null,
            "padding": null,
            "right": null,
            "top": null,
            "visibility": null,
            "width": null
          }
        },
        "f3fa979f615646d59e51e48a7e885d4b": {
          "model_module": "@jupyter-widgets/controls",
          "model_name": "DescriptionStyleModel",
          "model_module_version": "1.5.0",
          "state": {
            "_model_module": "@jupyter-widgets/controls",
            "_model_module_version": "1.5.0",
            "_model_name": "DescriptionStyleModel",
            "_view_count": null,
            "_view_module": "@jupyter-widgets/base",
            "_view_module_version": "1.2.0",
            "_view_name": "StyleView",
            "description_width": ""
          }
        },
        "6272e58a507742bcb56a38c46bda959e": {
          "model_module": "@jupyter-widgets/controls",
          "model_name": "HBoxModel",
          "model_module_version": "1.5.0",
          "state": {
            "_dom_classes": [],
            "_model_module": "@jupyter-widgets/controls",
            "_model_module_version": "1.5.0",
            "_model_name": "HBoxModel",
            "_view_count": null,
            "_view_module": "@jupyter-widgets/controls",
            "_view_module_version": "1.5.0",
            "_view_name": "HBoxView",
            "box_style": "",
            "children": [
              "IPY_MODEL_5c9f7e0beae44f698c15fbde39c03e34",
              "IPY_MODEL_bc80c86b3fb54a24ba4deb982d5b8f18",
              "IPY_MODEL_212eed04e4ce42eb9520ada43974d123"
            ],
            "layout": "IPY_MODEL_ddc915bd716244f2931304384dbb5d52"
          }
        },
        "5c9f7e0beae44f698c15fbde39c03e34": {
          "model_module": "@jupyter-widgets/controls",
          "model_name": "HTMLModel",
          "model_module_version": "1.5.0",
          "state": {
            "_dom_classes": [],
            "_model_module": "@jupyter-widgets/controls",
            "_model_module_version": "1.5.0",
            "_model_name": "HTMLModel",
            "_view_count": null,
            "_view_module": "@jupyter-widgets/controls",
            "_view_module_version": "1.5.0",
            "_view_name": "HTMLView",
            "description": "",
            "description_tooltip": null,
            "layout": "IPY_MODEL_cf741a34cc914f7387502d163c17cd00",
            "placeholder": "​",
            "style": "IPY_MODEL_f106d666a6b440fdbf2fcf11e226cf20",
            "value": "Map: 100%"
          }
        },
        "bc80c86b3fb54a24ba4deb982d5b8f18": {
          "model_module": "@jupyter-widgets/controls",
          "model_name": "FloatProgressModel",
          "model_module_version": "1.5.0",
          "state": {
            "_dom_classes": [],
            "_model_module": "@jupyter-widgets/controls",
            "_model_module_version": "1.5.0",
            "_model_name": "FloatProgressModel",
            "_view_count": null,
            "_view_module": "@jupyter-widgets/controls",
            "_view_module_version": "1.5.0",
            "_view_name": "ProgressView",
            "bar_style": "success",
            "description": "",
            "description_tooltip": null,
            "layout": "IPY_MODEL_6669324e323d43e78d0830acbffb55e2",
            "max": 195,
            "min": 0,
            "orientation": "horizontal",
            "style": "IPY_MODEL_4f5ef7b6bd97431eb6f65f9043beb236",
            "value": 195
          }
        },
        "212eed04e4ce42eb9520ada43974d123": {
          "model_module": "@jupyter-widgets/controls",
          "model_name": "HTMLModel",
          "model_module_version": "1.5.0",
          "state": {
            "_dom_classes": [],
            "_model_module": "@jupyter-widgets/controls",
            "_model_module_version": "1.5.0",
            "_model_name": "HTMLModel",
            "_view_count": null,
            "_view_module": "@jupyter-widgets/controls",
            "_view_module_version": "1.5.0",
            "_view_name": "HTMLView",
            "description": "",
            "description_tooltip": null,
            "layout": "IPY_MODEL_e63eb32be098453bb325238aa08d26b7",
            "placeholder": "​",
            "style": "IPY_MODEL_cce1e6d6c60a4def8d9a814afdab71a5",
            "value": " 195/195 [00:00&lt;00:00, 856.25 examples/s]"
          }
        },
        "ddc915bd716244f2931304384dbb5d52": {
          "model_module": "@jupyter-widgets/base",
          "model_name": "LayoutModel",
          "model_module_version": "1.2.0",
          "state": {
            "_model_module": "@jupyter-widgets/base",
            "_model_module_version": "1.2.0",
            "_model_name": "LayoutModel",
            "_view_count": null,
            "_view_module": "@jupyter-widgets/base",
            "_view_module_version": "1.2.0",
            "_view_name": "LayoutView",
            "align_content": null,
            "align_items": null,
            "align_self": null,
            "border": null,
            "bottom": null,
            "display": null,
            "flex": null,
            "flex_flow": null,
            "grid_area": null,
            "grid_auto_columns": null,
            "grid_auto_flow": null,
            "grid_auto_rows": null,
            "grid_column": null,
            "grid_gap": null,
            "grid_row": null,
            "grid_template_areas": null,
            "grid_template_columns": null,
            "grid_template_rows": null,
            "height": null,
            "justify_content": null,
            "justify_items": null,
            "left": null,
            "margin": null,
            "max_height": null,
            "max_width": null,
            "min_height": null,
            "min_width": null,
            "object_fit": null,
            "object_position": null,
            "order": null,
            "overflow": null,
            "overflow_x": null,
            "overflow_y": null,
            "padding": null,
            "right": null,
            "top": null,
            "visibility": null,
            "width": null
          }
        },
        "cf741a34cc914f7387502d163c17cd00": {
          "model_module": "@jupyter-widgets/base",
          "model_name": "LayoutModel",
          "model_module_version": "1.2.0",
          "state": {
            "_model_module": "@jupyter-widgets/base",
            "_model_module_version": "1.2.0",
            "_model_name": "LayoutModel",
            "_view_count": null,
            "_view_module": "@jupyter-widgets/base",
            "_view_module_version": "1.2.0",
            "_view_name": "LayoutView",
            "align_content": null,
            "align_items": null,
            "align_self": null,
            "border": null,
            "bottom": null,
            "display": null,
            "flex": null,
            "flex_flow": null,
            "grid_area": null,
            "grid_auto_columns": null,
            "grid_auto_flow": null,
            "grid_auto_rows": null,
            "grid_column": null,
            "grid_gap": null,
            "grid_row": null,
            "grid_template_areas": null,
            "grid_template_columns": null,
            "grid_template_rows": null,
            "height": null,
            "justify_content": null,
            "justify_items": null,
            "left": null,
            "margin": null,
            "max_height": null,
            "max_width": null,
            "min_height": null,
            "min_width": null,
            "object_fit": null,
            "object_position": null,
            "order": null,
            "overflow": null,
            "overflow_x": null,
            "overflow_y": null,
            "padding": null,
            "right": null,
            "top": null,
            "visibility": null,
            "width": null
          }
        },
        "f106d666a6b440fdbf2fcf11e226cf20": {
          "model_module": "@jupyter-widgets/controls",
          "model_name": "DescriptionStyleModel",
          "model_module_version": "1.5.0",
          "state": {
            "_model_module": "@jupyter-widgets/controls",
            "_model_module_version": "1.5.0",
            "_model_name": "DescriptionStyleModel",
            "_view_count": null,
            "_view_module": "@jupyter-widgets/base",
            "_view_module_version": "1.2.0",
            "_view_name": "StyleView",
            "description_width": ""
          }
        },
        "6669324e323d43e78d0830acbffb55e2": {
          "model_module": "@jupyter-widgets/base",
          "model_name": "LayoutModel",
          "model_module_version": "1.2.0",
          "state": {
            "_model_module": "@jupyter-widgets/base",
            "_model_module_version": "1.2.0",
            "_model_name": "LayoutModel",
            "_view_count": null,
            "_view_module": "@jupyter-widgets/base",
            "_view_module_version": "1.2.0",
            "_view_name": "LayoutView",
            "align_content": null,
            "align_items": null,
            "align_self": null,
            "border": null,
            "bottom": null,
            "display": null,
            "flex": null,
            "flex_flow": null,
            "grid_area": null,
            "grid_auto_columns": null,
            "grid_auto_flow": null,
            "grid_auto_rows": null,
            "grid_column": null,
            "grid_gap": null,
            "grid_row": null,
            "grid_template_areas": null,
            "grid_template_columns": null,
            "grid_template_rows": null,
            "height": null,
            "justify_content": null,
            "justify_items": null,
            "left": null,
            "margin": null,
            "max_height": null,
            "max_width": null,
            "min_height": null,
            "min_width": null,
            "object_fit": null,
            "object_position": null,
            "order": null,
            "overflow": null,
            "overflow_x": null,
            "overflow_y": null,
            "padding": null,
            "right": null,
            "top": null,
            "visibility": null,
            "width": null
          }
        },
        "4f5ef7b6bd97431eb6f65f9043beb236": {
          "model_module": "@jupyter-widgets/controls",
          "model_name": "ProgressStyleModel",
          "model_module_version": "1.5.0",
          "state": {
            "_model_module": "@jupyter-widgets/controls",
            "_model_module_version": "1.5.0",
            "_model_name": "ProgressStyleModel",
            "_view_count": null,
            "_view_module": "@jupyter-widgets/base",
            "_view_module_version": "1.2.0",
            "_view_name": "StyleView",
            "bar_color": null,
            "description_width": ""
          }
        },
        "e63eb32be098453bb325238aa08d26b7": {
          "model_module": "@jupyter-widgets/base",
          "model_name": "LayoutModel",
          "model_module_version": "1.2.0",
          "state": {
            "_model_module": "@jupyter-widgets/base",
            "_model_module_version": "1.2.0",
            "_model_name": "LayoutModel",
            "_view_count": null,
            "_view_module": "@jupyter-widgets/base",
            "_view_module_version": "1.2.0",
            "_view_name": "LayoutView",
            "align_content": null,
            "align_items": null,
            "align_self": null,
            "border": null,
            "bottom": null,
            "display": null,
            "flex": null,
            "flex_flow": null,
            "grid_area": null,
            "grid_auto_columns": null,
            "grid_auto_flow": null,
            "grid_auto_rows": null,
            "grid_column": null,
            "grid_gap": null,
            "grid_row": null,
            "grid_template_areas": null,
            "grid_template_columns": null,
            "grid_template_rows": null,
            "height": null,
            "justify_content": null,
            "justify_items": null,
            "left": null,
            "margin": null,
            "max_height": null,
            "max_width": null,
            "min_height": null,
            "min_width": null,
            "object_fit": null,
            "object_position": null,
            "order": null,
            "overflow": null,
            "overflow_x": null,
            "overflow_y": null,
            "padding": null,
            "right": null,
            "top": null,
            "visibility": null,
            "width": null
          }
        },
        "cce1e6d6c60a4def8d9a814afdab71a5": {
          "model_module": "@jupyter-widgets/controls",
          "model_name": "DescriptionStyleModel",
          "model_module_version": "1.5.0",
          "state": {
            "_model_module": "@jupyter-widgets/controls",
            "_model_module_version": "1.5.0",
            "_model_name": "DescriptionStyleModel",
            "_view_count": null,
            "_view_module": "@jupyter-widgets/base",
            "_view_module_version": "1.2.0",
            "_view_name": "StyleView",
            "description_width": ""
          }
        },
        "4788ad5243474cc58733fd97d86140ca": {
          "model_module": "@jupyter-widgets/controls",
          "model_name": "HBoxModel",
          "model_module_version": "1.5.0",
          "state": {
            "_dom_classes": [],
            "_model_module": "@jupyter-widgets/controls",
            "_model_module_version": "1.5.0",
            "_model_name": "HBoxModel",
            "_view_count": null,
            "_view_module": "@jupyter-widgets/controls",
            "_view_module_version": "1.5.0",
            "_view_name": "HBoxView",
            "box_style": "",
            "children": [
              "IPY_MODEL_fd82d55ad2f94805b37cdf7a076d2f7e",
              "IPY_MODEL_957304ebfce2401280010c4324cb3ea8",
              "IPY_MODEL_b6f75848e4454185821775784bcd866b"
            ],
            "layout": "IPY_MODEL_b3d1b04d9b4643aa9b06072e8e76e843"
          }
        },
        "fd82d55ad2f94805b37cdf7a076d2f7e": {
          "model_module": "@jupyter-widgets/controls",
          "model_name": "HTMLModel",
          "model_module_version": "1.5.0",
          "state": {
            "_dom_classes": [],
            "_model_module": "@jupyter-widgets/controls",
            "_model_module_version": "1.5.0",
            "_model_name": "HTMLModel",
            "_view_count": null,
            "_view_module": "@jupyter-widgets/controls",
            "_view_module_version": "1.5.0",
            "_view_name": "HTMLView",
            "description": "",
            "description_tooltip": null,
            "layout": "IPY_MODEL_a75c112da2714e12b2996b5084fd27f6",
            "placeholder": "​",
            "style": "IPY_MODEL_bdafdfb92209478d9f6611783abdb407",
            "value": "Loading checkpoint shards: 100%"
          }
        },
        "957304ebfce2401280010c4324cb3ea8": {
          "model_module": "@jupyter-widgets/controls",
          "model_name": "FloatProgressModel",
          "model_module_version": "1.5.0",
          "state": {
            "_dom_classes": [],
            "_model_module": "@jupyter-widgets/controls",
            "_model_module_version": "1.5.0",
            "_model_name": "FloatProgressModel",
            "_view_count": null,
            "_view_module": "@jupyter-widgets/controls",
            "_view_module_version": "1.5.0",
            "_view_name": "ProgressView",
            "bar_style": "success",
            "description": "",
            "description_tooltip": null,
            "layout": "IPY_MODEL_bc65fc2695e34006a922580b78bdb03b",
            "max": 3,
            "min": 0,
            "orientation": "horizontal",
            "style": "IPY_MODEL_62fc2127f1ee465d9bae6c06aa457e75",
            "value": 3
          }
        },
        "b6f75848e4454185821775784bcd866b": {
          "model_module": "@jupyter-widgets/controls",
          "model_name": "HTMLModel",
          "model_module_version": "1.5.0",
          "state": {
            "_dom_classes": [],
            "_model_module": "@jupyter-widgets/controls",
            "_model_module_version": "1.5.0",
            "_model_name": "HTMLModel",
            "_view_count": null,
            "_view_module": "@jupyter-widgets/controls",
            "_view_module_version": "1.5.0",
            "_view_name": "HTMLView",
            "description": "",
            "description_tooltip": null,
            "layout": "IPY_MODEL_d2a4e4e9694548dd974e211d966e8e03",
            "placeholder": "​",
            "style": "IPY_MODEL_f169dc9690c64720a14455b25ab2e05c",
            "value": " 3/3 [01:32&lt;00:00, 29.86s/it]"
          }
        },
        "b3d1b04d9b4643aa9b06072e8e76e843": {
          "model_module": "@jupyter-widgets/base",
          "model_name": "LayoutModel",
          "model_module_version": "1.2.0",
          "state": {
            "_model_module": "@jupyter-widgets/base",
            "_model_module_version": "1.2.0",
            "_model_name": "LayoutModel",
            "_view_count": null,
            "_view_module": "@jupyter-widgets/base",
            "_view_module_version": "1.2.0",
            "_view_name": "LayoutView",
            "align_content": null,
            "align_items": null,
            "align_self": null,
            "border": null,
            "bottom": null,
            "display": null,
            "flex": null,
            "flex_flow": null,
            "grid_area": null,
            "grid_auto_columns": null,
            "grid_auto_flow": null,
            "grid_auto_rows": null,
            "grid_column": null,
            "grid_gap": null,
            "grid_row": null,
            "grid_template_areas": null,
            "grid_template_columns": null,
            "grid_template_rows": null,
            "height": null,
            "justify_content": null,
            "justify_items": null,
            "left": null,
            "margin": null,
            "max_height": null,
            "max_width": null,
            "min_height": null,
            "min_width": null,
            "object_fit": null,
            "object_position": null,
            "order": null,
            "overflow": null,
            "overflow_x": null,
            "overflow_y": null,
            "padding": null,
            "right": null,
            "top": null,
            "visibility": null,
            "width": null
          }
        },
        "a75c112da2714e12b2996b5084fd27f6": {
          "model_module": "@jupyter-widgets/base",
          "model_name": "LayoutModel",
          "model_module_version": "1.2.0",
          "state": {
            "_model_module": "@jupyter-widgets/base",
            "_model_module_version": "1.2.0",
            "_model_name": "LayoutModel",
            "_view_count": null,
            "_view_module": "@jupyter-widgets/base",
            "_view_module_version": "1.2.0",
            "_view_name": "LayoutView",
            "align_content": null,
            "align_items": null,
            "align_self": null,
            "border": null,
            "bottom": null,
            "display": null,
            "flex": null,
            "flex_flow": null,
            "grid_area": null,
            "grid_auto_columns": null,
            "grid_auto_flow": null,
            "grid_auto_rows": null,
            "grid_column": null,
            "grid_gap": null,
            "grid_row": null,
            "grid_template_areas": null,
            "grid_template_columns": null,
            "grid_template_rows": null,
            "height": null,
            "justify_content": null,
            "justify_items": null,
            "left": null,
            "margin": null,
            "max_height": null,
            "max_width": null,
            "min_height": null,
            "min_width": null,
            "object_fit": null,
            "object_position": null,
            "order": null,
            "overflow": null,
            "overflow_x": null,
            "overflow_y": null,
            "padding": null,
            "right": null,
            "top": null,
            "visibility": null,
            "width": null
          }
        },
        "bdafdfb92209478d9f6611783abdb407": {
          "model_module": "@jupyter-widgets/controls",
          "model_name": "DescriptionStyleModel",
          "model_module_version": "1.5.0",
          "state": {
            "_model_module": "@jupyter-widgets/controls",
            "_model_module_version": "1.5.0",
            "_model_name": "DescriptionStyleModel",
            "_view_count": null,
            "_view_module": "@jupyter-widgets/base",
            "_view_module_version": "1.2.0",
            "_view_name": "StyleView",
            "description_width": ""
          }
        },
        "bc65fc2695e34006a922580b78bdb03b": {
          "model_module": "@jupyter-widgets/base",
          "model_name": "LayoutModel",
          "model_module_version": "1.2.0",
          "state": {
            "_model_module": "@jupyter-widgets/base",
            "_model_module_version": "1.2.0",
            "_model_name": "LayoutModel",
            "_view_count": null,
            "_view_module": "@jupyter-widgets/base",
            "_view_module_version": "1.2.0",
            "_view_name": "LayoutView",
            "align_content": null,
            "align_items": null,
            "align_self": null,
            "border": null,
            "bottom": null,
            "display": null,
            "flex": null,
            "flex_flow": null,
            "grid_area": null,
            "grid_auto_columns": null,
            "grid_auto_flow": null,
            "grid_auto_rows": null,
            "grid_column": null,
            "grid_gap": null,
            "grid_row": null,
            "grid_template_areas": null,
            "grid_template_columns": null,
            "grid_template_rows": null,
            "height": null,
            "justify_content": null,
            "justify_items": null,
            "left": null,
            "margin": null,
            "max_height": null,
            "max_width": null,
            "min_height": null,
            "min_width": null,
            "object_fit": null,
            "object_position": null,
            "order": null,
            "overflow": null,
            "overflow_x": null,
            "overflow_y": null,
            "padding": null,
            "right": null,
            "top": null,
            "visibility": null,
            "width": null
          }
        },
        "62fc2127f1ee465d9bae6c06aa457e75": {
          "model_module": "@jupyter-widgets/controls",
          "model_name": "ProgressStyleModel",
          "model_module_version": "1.5.0",
          "state": {
            "_model_module": "@jupyter-widgets/controls",
            "_model_module_version": "1.5.0",
            "_model_name": "ProgressStyleModel",
            "_view_count": null,
            "_view_module": "@jupyter-widgets/base",
            "_view_module_version": "1.2.0",
            "_view_name": "StyleView",
            "bar_color": null,
            "description_width": ""
          }
        },
        "d2a4e4e9694548dd974e211d966e8e03": {
          "model_module": "@jupyter-widgets/base",
          "model_name": "LayoutModel",
          "model_module_version": "1.2.0",
          "state": {
            "_model_module": "@jupyter-widgets/base",
            "_model_module_version": "1.2.0",
            "_model_name": "LayoutModel",
            "_view_count": null,
            "_view_module": "@jupyter-widgets/base",
            "_view_module_version": "1.2.0",
            "_view_name": "LayoutView",
            "align_content": null,
            "align_items": null,
            "align_self": null,
            "border": null,
            "bottom": null,
            "display": null,
            "flex": null,
            "flex_flow": null,
            "grid_area": null,
            "grid_auto_columns": null,
            "grid_auto_flow": null,
            "grid_auto_rows": null,
            "grid_column": null,
            "grid_gap": null,
            "grid_row": null,
            "grid_template_areas": null,
            "grid_template_columns": null,
            "grid_template_rows": null,
            "height": null,
            "justify_content": null,
            "justify_items": null,
            "left": null,
            "margin": null,
            "max_height": null,
            "max_width": null,
            "min_height": null,
            "min_width": null,
            "object_fit": null,
            "object_position": null,
            "order": null,
            "overflow": null,
            "overflow_x": null,
            "overflow_y": null,
            "padding": null,
            "right": null,
            "top": null,
            "visibility": null,
            "width": null
          }
        },
        "f169dc9690c64720a14455b25ab2e05c": {
          "model_module": "@jupyter-widgets/controls",
          "model_name": "DescriptionStyleModel",
          "model_module_version": "1.5.0",
          "state": {
            "_model_module": "@jupyter-widgets/controls",
            "_model_module_version": "1.5.0",
            "_model_name": "DescriptionStyleModel",
            "_view_count": null,
            "_view_module": "@jupyter-widgets/base",
            "_view_module_version": "1.2.0",
            "_view_name": "StyleView",
            "description_width": ""
          }
        },
        "f0e0cf3cb8ff4c5c91437947500cb6b6": {
          "model_module": "@jupyter-widgets/controls",
          "model_name": "HBoxModel",
          "model_module_version": "1.5.0",
          "state": {
            "_dom_classes": [],
            "_model_module": "@jupyter-widgets/controls",
            "_model_module_version": "1.5.0",
            "_model_name": "HBoxModel",
            "_view_count": null,
            "_view_module": "@jupyter-widgets/controls",
            "_view_module_version": "1.5.0",
            "_view_name": "HBoxView",
            "box_style": "",
            "children": [
              "IPY_MODEL_9b1e428613d144189712442f7a41ad11",
              "IPY_MODEL_1a31a93adcad483eb1763660bf36d739",
              "IPY_MODEL_4b2497aeb6a44ecbb45bbefeba22c6d4"
            ],
            "layout": "IPY_MODEL_586f6cbf6f714fdab46ea7702fb0eb69"
          }
        },
        "9b1e428613d144189712442f7a41ad11": {
          "model_module": "@jupyter-widgets/controls",
          "model_name": "HTMLModel",
          "model_module_version": "1.5.0",
          "state": {
            "_dom_classes": [],
            "_model_module": "@jupyter-widgets/controls",
            "_model_module_version": "1.5.0",
            "_model_name": "HTMLModel",
            "_view_count": null,
            "_view_module": "@jupyter-widgets/controls",
            "_view_module_version": "1.5.0",
            "_view_name": "HTMLView",
            "description": "",
            "description_tooltip": null,
            "layout": "IPY_MODEL_d0b68fcef80347a88fda3c4ca63348df",
            "placeholder": "​",
            "style": "IPY_MODEL_3a4d8cee1c59439f81669653b41dc169",
            "value": "model.safetensors.index.json: 100%"
          }
        },
        "1a31a93adcad483eb1763660bf36d739": {
          "model_module": "@jupyter-widgets/controls",
          "model_name": "FloatProgressModel",
          "model_module_version": "1.5.0",
          "state": {
            "_dom_classes": [],
            "_model_module": "@jupyter-widgets/controls",
            "_model_module_version": "1.5.0",
            "_model_name": "FloatProgressModel",
            "_view_count": null,
            "_view_module": "@jupyter-widgets/controls",
            "_view_module_version": "1.5.0",
            "_view_name": "ProgressView",
            "bar_style": "success",
            "description": "",
            "description_tooltip": null,
            "layout": "IPY_MODEL_b6135337d603408abfb45de5056b669e",
            "max": 25125,
            "min": 0,
            "orientation": "horizontal",
            "style": "IPY_MODEL_70b3fe90b39c49e3b08d48c9d7977537",
            "value": 25125
          }
        },
        "4b2497aeb6a44ecbb45bbefeba22c6d4": {
          "model_module": "@jupyter-widgets/controls",
          "model_name": "HTMLModel",
          "model_module_version": "1.5.0",
          "state": {
            "_dom_classes": [],
            "_model_module": "@jupyter-widgets/controls",
            "_model_module_version": "1.5.0",
            "_model_name": "HTMLModel",
            "_view_count": null,
            "_view_module": "@jupyter-widgets/controls",
            "_view_module_version": "1.5.0",
            "_view_name": "HTMLView",
            "description": "",
            "description_tooltip": null,
            "layout": "IPY_MODEL_90e0eacf8af54b508c0dcd2d00b142f5",
            "placeholder": "​",
            "style": "IPY_MODEL_ad1d70b734e440f1aed3026bb1bf8b38",
            "value": " 25.1k/25.1k [00:00&lt;00:00, 276kB/s]"
          }
        },
        "586f6cbf6f714fdab46ea7702fb0eb69": {
          "model_module": "@jupyter-widgets/base",
          "model_name": "LayoutModel",
          "model_module_version": "1.2.0",
          "state": {
            "_model_module": "@jupyter-widgets/base",
            "_model_module_version": "1.2.0",
            "_model_name": "LayoutModel",
            "_view_count": null,
            "_view_module": "@jupyter-widgets/base",
            "_view_module_version": "1.2.0",
            "_view_name": "LayoutView",
            "align_content": null,
            "align_items": null,
            "align_self": null,
            "border": null,
            "bottom": null,
            "display": null,
            "flex": null,
            "flex_flow": null,
            "grid_area": null,
            "grid_auto_columns": null,
            "grid_auto_flow": null,
            "grid_auto_rows": null,
            "grid_column": null,
            "grid_gap": null,
            "grid_row": null,
            "grid_template_areas": null,
            "grid_template_columns": null,
            "grid_template_rows": null,
            "height": null,
            "justify_content": null,
            "justify_items": null,
            "left": null,
            "margin": null,
            "max_height": null,
            "max_width": null,
            "min_height": null,
            "min_width": null,
            "object_fit": null,
            "object_position": null,
            "order": null,
            "overflow": null,
            "overflow_x": null,
            "overflow_y": null,
            "padding": null,
            "right": null,
            "top": null,
            "visibility": null,
            "width": null
          }
        },
        "d0b68fcef80347a88fda3c4ca63348df": {
          "model_module": "@jupyter-widgets/base",
          "model_name": "LayoutModel",
          "model_module_version": "1.2.0",
          "state": {
            "_model_module": "@jupyter-widgets/base",
            "_model_module_version": "1.2.0",
            "_model_name": "LayoutModel",
            "_view_count": null,
            "_view_module": "@jupyter-widgets/base",
            "_view_module_version": "1.2.0",
            "_view_name": "LayoutView",
            "align_content": null,
            "align_items": null,
            "align_self": null,
            "border": null,
            "bottom": null,
            "display": null,
            "flex": null,
            "flex_flow": null,
            "grid_area": null,
            "grid_auto_columns": null,
            "grid_auto_flow": null,
            "grid_auto_rows": null,
            "grid_column": null,
            "grid_gap": null,
            "grid_row": null,
            "grid_template_areas": null,
            "grid_template_columns": null,
            "grid_template_rows": null,
            "height": null,
            "justify_content": null,
            "justify_items": null,
            "left": null,
            "margin": null,
            "max_height": null,
            "max_width": null,
            "min_height": null,
            "min_width": null,
            "object_fit": null,
            "object_position": null,
            "order": null,
            "overflow": null,
            "overflow_x": null,
            "overflow_y": null,
            "padding": null,
            "right": null,
            "top": null,
            "visibility": null,
            "width": null
          }
        },
        "3a4d8cee1c59439f81669653b41dc169": {
          "model_module": "@jupyter-widgets/controls",
          "model_name": "DescriptionStyleModel",
          "model_module_version": "1.5.0",
          "state": {
            "_model_module": "@jupyter-widgets/controls",
            "_model_module_version": "1.5.0",
            "_model_name": "DescriptionStyleModel",
            "_view_count": null,
            "_view_module": "@jupyter-widgets/base",
            "_view_module_version": "1.2.0",
            "_view_name": "StyleView",
            "description_width": ""
          }
        },
        "b6135337d603408abfb45de5056b669e": {
          "model_module": "@jupyter-widgets/base",
          "model_name": "LayoutModel",
          "model_module_version": "1.2.0",
          "state": {
            "_model_module": "@jupyter-widgets/base",
            "_model_module_version": "1.2.0",
            "_model_name": "LayoutModel",
            "_view_count": null,
            "_view_module": "@jupyter-widgets/base",
            "_view_module_version": "1.2.0",
            "_view_name": "LayoutView",
            "align_content": null,
            "align_items": null,
            "align_self": null,
            "border": null,
            "bottom": null,
            "display": null,
            "flex": null,
            "flex_flow": null,
            "grid_area": null,
            "grid_auto_columns": null,
            "grid_auto_flow": null,
            "grid_auto_rows": null,
            "grid_column": null,
            "grid_gap": null,
            "grid_row": null,
            "grid_template_areas": null,
            "grid_template_columns": null,
            "grid_template_rows": null,
            "height": null,
            "justify_content": null,
            "justify_items": null,
            "left": null,
            "margin": null,
            "max_height": null,
            "max_width": null,
            "min_height": null,
            "min_width": null,
            "object_fit": null,
            "object_position": null,
            "order": null,
            "overflow": null,
            "overflow_x": null,
            "overflow_y": null,
            "padding": null,
            "right": null,
            "top": null,
            "visibility": null,
            "width": null
          }
        },
        "70b3fe90b39c49e3b08d48c9d7977537": {
          "model_module": "@jupyter-widgets/controls",
          "model_name": "ProgressStyleModel",
          "model_module_version": "1.5.0",
          "state": {
            "_model_module": "@jupyter-widgets/controls",
            "_model_module_version": "1.5.0",
            "_model_name": "ProgressStyleModel",
            "_view_count": null,
            "_view_module": "@jupyter-widgets/base",
            "_view_module_version": "1.2.0",
            "_view_name": "StyleView",
            "bar_color": null,
            "description_width": ""
          }
        },
        "90e0eacf8af54b508c0dcd2d00b142f5": {
          "model_module": "@jupyter-widgets/base",
          "model_name": "LayoutModel",
          "model_module_version": "1.2.0",
          "state": {
            "_model_module": "@jupyter-widgets/base",
            "_model_module_version": "1.2.0",
            "_model_name": "LayoutModel",
            "_view_count": null,
            "_view_module": "@jupyter-widgets/base",
            "_view_module_version": "1.2.0",
            "_view_name": "LayoutView",
            "align_content": null,
            "align_items": null,
            "align_self": null,
            "border": null,
            "bottom": null,
            "display": null,
            "flex": null,
            "flex_flow": null,
            "grid_area": null,
            "grid_auto_columns": null,
            "grid_auto_flow": null,
            "grid_auto_rows": null,
            "grid_column": null,
            "grid_gap": null,
            "grid_row": null,
            "grid_template_areas": null,
            "grid_template_columns": null,
            "grid_template_rows": null,
            "height": null,
            "justify_content": null,
            "justify_items": null,
            "left": null,
            "margin": null,
            "max_height": null,
            "max_width": null,
            "min_height": null,
            "min_width": null,
            "object_fit": null,
            "object_position": null,
            "order": null,
            "overflow": null,
            "overflow_x": null,
            "overflow_y": null,
            "padding": null,
            "right": null,
            "top": null,
            "visibility": null,
            "width": null
          }
        },
        "ad1d70b734e440f1aed3026bb1bf8b38": {
          "model_module": "@jupyter-widgets/controls",
          "model_name": "DescriptionStyleModel",
          "model_module_version": "1.5.0",
          "state": {
            "_model_module": "@jupyter-widgets/controls",
            "_model_module_version": "1.5.0",
            "_model_name": "DescriptionStyleModel",
            "_view_count": null,
            "_view_module": "@jupyter-widgets/base",
            "_view_module_version": "1.2.0",
            "_view_name": "StyleView",
            "description_width": ""
          }
        },
        "8646e1039a364ad398e71763f245f1e3": {
          "model_module": "@jupyter-widgets/controls",
          "model_name": "HBoxModel",
          "model_module_version": "1.5.0",
          "state": {
            "_dom_classes": [],
            "_model_module": "@jupyter-widgets/controls",
            "_model_module_version": "1.5.0",
            "_model_name": "HBoxModel",
            "_view_count": null,
            "_view_module": "@jupyter-widgets/controls",
            "_view_module_version": "1.5.0",
            "_view_name": "HBoxView",
            "box_style": "",
            "children": [
              "IPY_MODEL_661da0b5d98f431395f4a499b71c7e0a",
              "IPY_MODEL_16641bdb42064fb58d3d98a3a6f2821c",
              "IPY_MODEL_c6498d58d0af4ebab8d5e14feee400c8"
            ],
            "layout": "IPY_MODEL_45da380f659f4b6e8affdf6d1bc8dab2"
          }
        },
        "661da0b5d98f431395f4a499b71c7e0a": {
          "model_module": "@jupyter-widgets/controls",
          "model_name": "HTMLModel",
          "model_module_version": "1.5.0",
          "state": {
            "_dom_classes": [],
            "_model_module": "@jupyter-widgets/controls",
            "_model_module_version": "1.5.0",
            "_model_name": "HTMLModel",
            "_view_count": null,
            "_view_module": "@jupyter-widgets/controls",
            "_view_module_version": "1.5.0",
            "_view_name": "HTMLView",
            "description": "",
            "description_tooltip": null,
            "layout": "IPY_MODEL_a61258a06f6c481ca4984021181ddebe",
            "placeholder": "​",
            "style": "IPY_MODEL_1daeb69e551e431f97b11e10c439ebcc",
            "value": "Downloading shards: 100%"
          }
        },
        "16641bdb42064fb58d3d98a3a6f2821c": {
          "model_module": "@jupyter-widgets/controls",
          "model_name": "FloatProgressModel",
          "model_module_version": "1.5.0",
          "state": {
            "_dom_classes": [],
            "_model_module": "@jupyter-widgets/controls",
            "_model_module_version": "1.5.0",
            "_model_name": "FloatProgressModel",
            "_view_count": null,
            "_view_module": "@jupyter-widgets/controls",
            "_view_module_version": "1.5.0",
            "_view_name": "ProgressView",
            "bar_style": "success",
            "description": "",
            "description_tooltip": null,
            "layout": "IPY_MODEL_1e8fb8772fa34cf080ee2bd92b40a4ea",
            "max": 3,
            "min": 0,
            "orientation": "horizontal",
            "style": "IPY_MODEL_b6c6e2c7dfc747fb8d57ef0ac623c211",
            "value": 3
          }
        },
        "c6498d58d0af4ebab8d5e14feee400c8": {
          "model_module": "@jupyter-widgets/controls",
          "model_name": "HTMLModel",
          "model_module_version": "1.5.0",
          "state": {
            "_dom_classes": [],
            "_model_module": "@jupyter-widgets/controls",
            "_model_module_version": "1.5.0",
            "_model_name": "HTMLModel",
            "_view_count": null,
            "_view_module": "@jupyter-widgets/controls",
            "_view_module_version": "1.5.0",
            "_view_name": "HTMLView",
            "description": "",
            "description_tooltip": null,
            "layout": "IPY_MODEL_e60f2986bf2e4db6b6706c09c4a5d5f5",
            "placeholder": "​",
            "style": "IPY_MODEL_de12ae650e9341d8b19d0d34fbc3ec07",
            "value": " 3/3 [02:11&lt;00:00, 42.17s/it]"
          }
        },
        "45da380f659f4b6e8affdf6d1bc8dab2": {
          "model_module": "@jupyter-widgets/base",
          "model_name": "LayoutModel",
          "model_module_version": "1.2.0",
          "state": {
            "_model_module": "@jupyter-widgets/base",
            "_model_module_version": "1.2.0",
            "_model_name": "LayoutModel",
            "_view_count": null,
            "_view_module": "@jupyter-widgets/base",
            "_view_module_version": "1.2.0",
            "_view_name": "LayoutView",
            "align_content": null,
            "align_items": null,
            "align_self": null,
            "border": null,
            "bottom": null,
            "display": null,
            "flex": null,
            "flex_flow": null,
            "grid_area": null,
            "grid_auto_columns": null,
            "grid_auto_flow": null,
            "grid_auto_rows": null,
            "grid_column": null,
            "grid_gap": null,
            "grid_row": null,
            "grid_template_areas": null,
            "grid_template_columns": null,
            "grid_template_rows": null,
            "height": null,
            "justify_content": null,
            "justify_items": null,
            "left": null,
            "margin": null,
            "max_height": null,
            "max_width": null,
            "min_height": null,
            "min_width": null,
            "object_fit": null,
            "object_position": null,
            "order": null,
            "overflow": null,
            "overflow_x": null,
            "overflow_y": null,
            "padding": null,
            "right": null,
            "top": null,
            "visibility": null,
            "width": null
          }
        },
        "a61258a06f6c481ca4984021181ddebe": {
          "model_module": "@jupyter-widgets/base",
          "model_name": "LayoutModel",
          "model_module_version": "1.2.0",
          "state": {
            "_model_module": "@jupyter-widgets/base",
            "_model_module_version": "1.2.0",
            "_model_name": "LayoutModel",
            "_view_count": null,
            "_view_module": "@jupyter-widgets/base",
            "_view_module_version": "1.2.0",
            "_view_name": "LayoutView",
            "align_content": null,
            "align_items": null,
            "align_self": null,
            "border": null,
            "bottom": null,
            "display": null,
            "flex": null,
            "flex_flow": null,
            "grid_area": null,
            "grid_auto_columns": null,
            "grid_auto_flow": null,
            "grid_auto_rows": null,
            "grid_column": null,
            "grid_gap": null,
            "grid_row": null,
            "grid_template_areas": null,
            "grid_template_columns": null,
            "grid_template_rows": null,
            "height": null,
            "justify_content": null,
            "justify_items": null,
            "left": null,
            "margin": null,
            "max_height": null,
            "max_width": null,
            "min_height": null,
            "min_width": null,
            "object_fit": null,
            "object_position": null,
            "order": null,
            "overflow": null,
            "overflow_x": null,
            "overflow_y": null,
            "padding": null,
            "right": null,
            "top": null,
            "visibility": null,
            "width": null
          }
        },
        "1daeb69e551e431f97b11e10c439ebcc": {
          "model_module": "@jupyter-widgets/controls",
          "model_name": "DescriptionStyleModel",
          "model_module_version": "1.5.0",
          "state": {
            "_model_module": "@jupyter-widgets/controls",
            "_model_module_version": "1.5.0",
            "_model_name": "DescriptionStyleModel",
            "_view_count": null,
            "_view_module": "@jupyter-widgets/base",
            "_view_module_version": "1.2.0",
            "_view_name": "StyleView",
            "description_width": ""
          }
        },
        "1e8fb8772fa34cf080ee2bd92b40a4ea": {
          "model_module": "@jupyter-widgets/base",
          "model_name": "LayoutModel",
          "model_module_version": "1.2.0",
          "state": {
            "_model_module": "@jupyter-widgets/base",
            "_model_module_version": "1.2.0",
            "_model_name": "LayoutModel",
            "_view_count": null,
            "_view_module": "@jupyter-widgets/base",
            "_view_module_version": "1.2.0",
            "_view_name": "LayoutView",
            "align_content": null,
            "align_items": null,
            "align_self": null,
            "border": null,
            "bottom": null,
            "display": null,
            "flex": null,
            "flex_flow": null,
            "grid_area": null,
            "grid_auto_columns": null,
            "grid_auto_flow": null,
            "grid_auto_rows": null,
            "grid_column": null,
            "grid_gap": null,
            "grid_row": null,
            "grid_template_areas": null,
            "grid_template_columns": null,
            "grid_template_rows": null,
            "height": null,
            "justify_content": null,
            "justify_items": null,
            "left": null,
            "margin": null,
            "max_height": null,
            "max_width": null,
            "min_height": null,
            "min_width": null,
            "object_fit": null,
            "object_position": null,
            "order": null,
            "overflow": null,
            "overflow_x": null,
            "overflow_y": null,
            "padding": null,
            "right": null,
            "top": null,
            "visibility": null,
            "width": null
          }
        },
        "b6c6e2c7dfc747fb8d57ef0ac623c211": {
          "model_module": "@jupyter-widgets/controls",
          "model_name": "ProgressStyleModel",
          "model_module_version": "1.5.0",
          "state": {
            "_model_module": "@jupyter-widgets/controls",
            "_model_module_version": "1.5.0",
            "_model_name": "ProgressStyleModel",
            "_view_count": null,
            "_view_module": "@jupyter-widgets/base",
            "_view_module_version": "1.2.0",
            "_view_name": "StyleView",
            "bar_color": null,
            "description_width": ""
          }
        },
        "e60f2986bf2e4db6b6706c09c4a5d5f5": {
          "model_module": "@jupyter-widgets/base",
          "model_name": "LayoutModel",
          "model_module_version": "1.2.0",
          "state": {
            "_model_module": "@jupyter-widgets/base",
            "_model_module_version": "1.2.0",
            "_model_name": "LayoutModel",
            "_view_count": null,
            "_view_module": "@jupyter-widgets/base",
            "_view_module_version": "1.2.0",
            "_view_name": "LayoutView",
            "align_content": null,
            "align_items": null,
            "align_self": null,
            "border": null,
            "bottom": null,
            "display": null,
            "flex": null,
            "flex_flow": null,
            "grid_area": null,
            "grid_auto_columns": null,
            "grid_auto_flow": null,
            "grid_auto_rows": null,
            "grid_column": null,
            "grid_gap": null,
            "grid_row": null,
            "grid_template_areas": null,
            "grid_template_columns": null,
            "grid_template_rows": null,
            "height": null,
            "justify_content": null,
            "justify_items": null,
            "left": null,
            "margin": null,
            "max_height": null,
            "max_width": null,
            "min_height": null,
            "min_width": null,
            "object_fit": null,
            "object_position": null,
            "order": null,
            "overflow": null,
            "overflow_x": null,
            "overflow_y": null,
            "padding": null,
            "right": null,
            "top": null,
            "visibility": null,
            "width": null
          }
        },
        "de12ae650e9341d8b19d0d34fbc3ec07": {
          "model_module": "@jupyter-widgets/controls",
          "model_name": "DescriptionStyleModel",
          "model_module_version": "1.5.0",
          "state": {
            "_model_module": "@jupyter-widgets/controls",
            "_model_module_version": "1.5.0",
            "_model_name": "DescriptionStyleModel",
            "_view_count": null,
            "_view_module": "@jupyter-widgets/base",
            "_view_module_version": "1.2.0",
            "_view_name": "StyleView",
            "description_width": ""
          }
        },
        "f0ddd685dc0e41de874478395983104a": {
          "model_module": "@jupyter-widgets/controls",
          "model_name": "HBoxModel",
          "model_module_version": "1.5.0",
          "state": {
            "_dom_classes": [],
            "_model_module": "@jupyter-widgets/controls",
            "_model_module_version": "1.5.0",
            "_model_name": "HBoxModel",
            "_view_count": null,
            "_view_module": "@jupyter-widgets/controls",
            "_view_module_version": "1.5.0",
            "_view_name": "HBoxView",
            "box_style": "",
            "children": [
              "IPY_MODEL_90b00b5e9bd245f4bf1edcb9e39aeda6",
              "IPY_MODEL_f7b0ce913fed41a7ad3746abef07c1ae",
              "IPY_MODEL_8dfcc3d2796f4d87a44869734b145e23"
            ],
            "layout": "IPY_MODEL_edf71385ff1949f3a4a0567d028dadb6"
          }
        },
        "90b00b5e9bd245f4bf1edcb9e39aeda6": {
          "model_module": "@jupyter-widgets/controls",
          "model_name": "HTMLModel",
          "model_module_version": "1.5.0",
          "state": {
            "_dom_classes": [],
            "_model_module": "@jupyter-widgets/controls",
            "_model_module_version": "1.5.0",
            "_model_name": "HTMLModel",
            "_view_count": null,
            "_view_module": "@jupyter-widgets/controls",
            "_view_module_version": "1.5.0",
            "_view_name": "HTMLView",
            "description": "",
            "description_tooltip": null,
            "layout": "IPY_MODEL_3efeff419ce54a5db375f60ef256f6e8",
            "placeholder": "​",
            "style": "IPY_MODEL_70b9f55c2adc44a8ab4e0ca541b7d026",
            "value": "model-00001-of-00003.safetensors: 100%"
          }
        },
        "f7b0ce913fed41a7ad3746abef07c1ae": {
          "model_module": "@jupyter-widgets/controls",
          "model_name": "FloatProgressModel",
          "model_module_version": "1.5.0",
          "state": {
            "_dom_classes": [],
            "_model_module": "@jupyter-widgets/controls",
            "_model_module_version": "1.5.0",
            "_model_name": "FloatProgressModel",
            "_view_count": null,
            "_view_module": "@jupyter-widgets/controls",
            "_view_module_version": "1.5.0",
            "_view_name": "ProgressView",
            "bar_style": "success",
            "description": "",
            "description_tooltip": null,
            "layout": "IPY_MODEL_146b2a28eead4ebc848ce9ca4d3caa07",
            "max": 4943162336,
            "min": 0,
            "orientation": "horizontal",
            "style": "IPY_MODEL_d811bf3dd4234c62ac6f2cb242bcf679",
            "value": 4943162336
          }
        },
        "8dfcc3d2796f4d87a44869734b145e23": {
          "model_module": "@jupyter-widgets/controls",
          "model_name": "HTMLModel",
          "model_module_version": "1.5.0",
          "state": {
            "_dom_classes": [],
            "_model_module": "@jupyter-widgets/controls",
            "_model_module_version": "1.5.0",
            "_model_name": "HTMLModel",
            "_view_count": null,
            "_view_module": "@jupyter-widgets/controls",
            "_view_module_version": "1.5.0",
            "_view_name": "HTMLView",
            "description": "",
            "description_tooltip": null,
            "layout": "IPY_MODEL_eae39c5553e64b8c9073bc9f311dc076",
            "placeholder": "​",
            "style": "IPY_MODEL_37257202bd284cadb7478fc2e27538e3",
            "value": " 4.94G/4.94G [00:47&lt;00:00, 189MB/s]"
          }
        },
        "edf71385ff1949f3a4a0567d028dadb6": {
          "model_module": "@jupyter-widgets/base",
          "model_name": "LayoutModel",
          "model_module_version": "1.2.0",
          "state": {
            "_model_module": "@jupyter-widgets/base",
            "_model_module_version": "1.2.0",
            "_model_name": "LayoutModel",
            "_view_count": null,
            "_view_module": "@jupyter-widgets/base",
            "_view_module_version": "1.2.0",
            "_view_name": "LayoutView",
            "align_content": null,
            "align_items": null,
            "align_self": null,
            "border": null,
            "bottom": null,
            "display": null,
            "flex": null,
            "flex_flow": null,
            "grid_area": null,
            "grid_auto_columns": null,
            "grid_auto_flow": null,
            "grid_auto_rows": null,
            "grid_column": null,
            "grid_gap": null,
            "grid_row": null,
            "grid_template_areas": null,
            "grid_template_columns": null,
            "grid_template_rows": null,
            "height": null,
            "justify_content": null,
            "justify_items": null,
            "left": null,
            "margin": null,
            "max_height": null,
            "max_width": null,
            "min_height": null,
            "min_width": null,
            "object_fit": null,
            "object_position": null,
            "order": null,
            "overflow": null,
            "overflow_x": null,
            "overflow_y": null,
            "padding": null,
            "right": null,
            "top": null,
            "visibility": null,
            "width": null
          }
        },
        "3efeff419ce54a5db375f60ef256f6e8": {
          "model_module": "@jupyter-widgets/base",
          "model_name": "LayoutModel",
          "model_module_version": "1.2.0",
          "state": {
            "_model_module": "@jupyter-widgets/base",
            "_model_module_version": "1.2.0",
            "_model_name": "LayoutModel",
            "_view_count": null,
            "_view_module": "@jupyter-widgets/base",
            "_view_module_version": "1.2.0",
            "_view_name": "LayoutView",
            "align_content": null,
            "align_items": null,
            "align_self": null,
            "border": null,
            "bottom": null,
            "display": null,
            "flex": null,
            "flex_flow": null,
            "grid_area": null,
            "grid_auto_columns": null,
            "grid_auto_flow": null,
            "grid_auto_rows": null,
            "grid_column": null,
            "grid_gap": null,
            "grid_row": null,
            "grid_template_areas": null,
            "grid_template_columns": null,
            "grid_template_rows": null,
            "height": null,
            "justify_content": null,
            "justify_items": null,
            "left": null,
            "margin": null,
            "max_height": null,
            "max_width": null,
            "min_height": null,
            "min_width": null,
            "object_fit": null,
            "object_position": null,
            "order": null,
            "overflow": null,
            "overflow_x": null,
            "overflow_y": null,
            "padding": null,
            "right": null,
            "top": null,
            "visibility": null,
            "width": null
          }
        },
        "70b9f55c2adc44a8ab4e0ca541b7d026": {
          "model_module": "@jupyter-widgets/controls",
          "model_name": "DescriptionStyleModel",
          "model_module_version": "1.5.0",
          "state": {
            "_model_module": "@jupyter-widgets/controls",
            "_model_module_version": "1.5.0",
            "_model_name": "DescriptionStyleModel",
            "_view_count": null,
            "_view_module": "@jupyter-widgets/base",
            "_view_module_version": "1.2.0",
            "_view_name": "StyleView",
            "description_width": ""
          }
        },
        "146b2a28eead4ebc848ce9ca4d3caa07": {
          "model_module": "@jupyter-widgets/base",
          "model_name": "LayoutModel",
          "model_module_version": "1.2.0",
          "state": {
            "_model_module": "@jupyter-widgets/base",
            "_model_module_version": "1.2.0",
            "_model_name": "LayoutModel",
            "_view_count": null,
            "_view_module": "@jupyter-widgets/base",
            "_view_module_version": "1.2.0",
            "_view_name": "LayoutView",
            "align_content": null,
            "align_items": null,
            "align_self": null,
            "border": null,
            "bottom": null,
            "display": null,
            "flex": null,
            "flex_flow": null,
            "grid_area": null,
            "grid_auto_columns": null,
            "grid_auto_flow": null,
            "grid_auto_rows": null,
            "grid_column": null,
            "grid_gap": null,
            "grid_row": null,
            "grid_template_areas": null,
            "grid_template_columns": null,
            "grid_template_rows": null,
            "height": null,
            "justify_content": null,
            "justify_items": null,
            "left": null,
            "margin": null,
            "max_height": null,
            "max_width": null,
            "min_height": null,
            "min_width": null,
            "object_fit": null,
            "object_position": null,
            "order": null,
            "overflow": null,
            "overflow_x": null,
            "overflow_y": null,
            "padding": null,
            "right": null,
            "top": null,
            "visibility": null,
            "width": null
          }
        },
        "d811bf3dd4234c62ac6f2cb242bcf679": {
          "model_module": "@jupyter-widgets/controls",
          "model_name": "ProgressStyleModel",
          "model_module_version": "1.5.0",
          "state": {
            "_model_module": "@jupyter-widgets/controls",
            "_model_module_version": "1.5.0",
            "_model_name": "ProgressStyleModel",
            "_view_count": null,
            "_view_module": "@jupyter-widgets/base",
            "_view_module_version": "1.2.0",
            "_view_name": "StyleView",
            "bar_color": null,
            "description_width": ""
          }
        },
        "eae39c5553e64b8c9073bc9f311dc076": {
          "model_module": "@jupyter-widgets/base",
          "model_name": "LayoutModel",
          "model_module_version": "1.2.0",
          "state": {
            "_model_module": "@jupyter-widgets/base",
            "_model_module_version": "1.2.0",
            "_model_name": "LayoutModel",
            "_view_count": null,
            "_view_module": "@jupyter-widgets/base",
            "_view_module_version": "1.2.0",
            "_view_name": "LayoutView",
            "align_content": null,
            "align_items": null,
            "align_self": null,
            "border": null,
            "bottom": null,
            "display": null,
            "flex": null,
            "flex_flow": null,
            "grid_area": null,
            "grid_auto_columns": null,
            "grid_auto_flow": null,
            "grid_auto_rows": null,
            "grid_column": null,
            "grid_gap": null,
            "grid_row": null,
            "grid_template_areas": null,
            "grid_template_columns": null,
            "grid_template_rows": null,
            "height": null,
            "justify_content": null,
            "justify_items": null,
            "left": null,
            "margin": null,
            "max_height": null,
            "max_width": null,
            "min_height": null,
            "min_width": null,
            "object_fit": null,
            "object_position": null,
            "order": null,
            "overflow": null,
            "overflow_x": null,
            "overflow_y": null,
            "padding": null,
            "right": null,
            "top": null,
            "visibility": null,
            "width": null
          }
        },
        "37257202bd284cadb7478fc2e27538e3": {
          "model_module": "@jupyter-widgets/controls",
          "model_name": "DescriptionStyleModel",
          "model_module_version": "1.5.0",
          "state": {
            "_model_module": "@jupyter-widgets/controls",
            "_model_module_version": "1.5.0",
            "_model_name": "DescriptionStyleModel",
            "_view_count": null,
            "_view_module": "@jupyter-widgets/base",
            "_view_module_version": "1.2.0",
            "_view_name": "StyleView",
            "description_width": ""
          }
        },
        "1584699af5e54c8398b0a5d8d9d2d5a2": {
          "model_module": "@jupyter-widgets/controls",
          "model_name": "HBoxModel",
          "model_module_version": "1.5.0",
          "state": {
            "_dom_classes": [],
            "_model_module": "@jupyter-widgets/controls",
            "_model_module_version": "1.5.0",
            "_model_name": "HBoxModel",
            "_view_count": null,
            "_view_module": "@jupyter-widgets/controls",
            "_view_module_version": "1.5.0",
            "_view_name": "HBoxView",
            "box_style": "",
            "children": [
              "IPY_MODEL_f153e84fc6d04717aee12aff6926204d",
              "IPY_MODEL_fa4a918660b441fb93c51c9376fd4676",
              "IPY_MODEL_14ccbf26008143408d47e498ed72ece3"
            ],
            "layout": "IPY_MODEL_eae0414946db453e9d41078ebbe723de"
          }
        },
        "f153e84fc6d04717aee12aff6926204d": {
          "model_module": "@jupyter-widgets/controls",
          "model_name": "HTMLModel",
          "model_module_version": "1.5.0",
          "state": {
            "_dom_classes": [],
            "_model_module": "@jupyter-widgets/controls",
            "_model_module_version": "1.5.0",
            "_model_name": "HTMLModel",
            "_view_count": null,
            "_view_module": "@jupyter-widgets/controls",
            "_view_module_version": "1.5.0",
            "_view_name": "HTMLView",
            "description": "",
            "description_tooltip": null,
            "layout": "IPY_MODEL_e13aac364b9e47ecb27051409225a28f",
            "placeholder": "​",
            "style": "IPY_MODEL_eb59862593c04291a0aef4f4b4c22483",
            "value": "model-00002-of-00003.safetensors: 100%"
          }
        },
        "fa4a918660b441fb93c51c9376fd4676": {
          "model_module": "@jupyter-widgets/controls",
          "model_name": "FloatProgressModel",
          "model_module_version": "1.5.0",
          "state": {
            "_dom_classes": [],
            "_model_module": "@jupyter-widgets/controls",
            "_model_module_version": "1.5.0",
            "_model_name": "FloatProgressModel",
            "_view_count": null,
            "_view_module": "@jupyter-widgets/controls",
            "_view_module_version": "1.5.0",
            "_view_name": "ProgressView",
            "bar_style": "success",
            "description": "",
            "description_tooltip": null,
            "layout": "IPY_MODEL_0a6bc0c39a4042648d5b06e48cdbd237",
            "max": 4999819336,
            "min": 0,
            "orientation": "horizontal",
            "style": "IPY_MODEL_3690e62d82dc47689ab642a6f39b9dbe",
            "value": 4999819336
          }
        },
        "14ccbf26008143408d47e498ed72ece3": {
          "model_module": "@jupyter-widgets/controls",
          "model_name": "HTMLModel",
          "model_module_version": "1.5.0",
          "state": {
            "_dom_classes": [],
            "_model_module": "@jupyter-widgets/controls",
            "_model_module_version": "1.5.0",
            "_model_name": "HTMLModel",
            "_view_count": null,
            "_view_module": "@jupyter-widgets/controls",
            "_view_module_version": "1.5.0",
            "_view_name": "HTMLView",
            "description": "",
            "description_tooltip": null,
            "layout": "IPY_MODEL_c26245a19e4e48ffa1eaef7ec9dde136",
            "placeholder": "​",
            "style": "IPY_MODEL_d68f8aabb3564f3899008da7299e092c",
            "value": " 5.00G/5.00G [00:49&lt;00:00, 181MB/s]"
          }
        },
        "eae0414946db453e9d41078ebbe723de": {
          "model_module": "@jupyter-widgets/base",
          "model_name": "LayoutModel",
          "model_module_version": "1.2.0",
          "state": {
            "_model_module": "@jupyter-widgets/base",
            "_model_module_version": "1.2.0",
            "_model_name": "LayoutModel",
            "_view_count": null,
            "_view_module": "@jupyter-widgets/base",
            "_view_module_version": "1.2.0",
            "_view_name": "LayoutView",
            "align_content": null,
            "align_items": null,
            "align_self": null,
            "border": null,
            "bottom": null,
            "display": null,
            "flex": null,
            "flex_flow": null,
            "grid_area": null,
            "grid_auto_columns": null,
            "grid_auto_flow": null,
            "grid_auto_rows": null,
            "grid_column": null,
            "grid_gap": null,
            "grid_row": null,
            "grid_template_areas": null,
            "grid_template_columns": null,
            "grid_template_rows": null,
            "height": null,
            "justify_content": null,
            "justify_items": null,
            "left": null,
            "margin": null,
            "max_height": null,
            "max_width": null,
            "min_height": null,
            "min_width": null,
            "object_fit": null,
            "object_position": null,
            "order": null,
            "overflow": null,
            "overflow_x": null,
            "overflow_y": null,
            "padding": null,
            "right": null,
            "top": null,
            "visibility": null,
            "width": null
          }
        },
        "e13aac364b9e47ecb27051409225a28f": {
          "model_module": "@jupyter-widgets/base",
          "model_name": "LayoutModel",
          "model_module_version": "1.2.0",
          "state": {
            "_model_module": "@jupyter-widgets/base",
            "_model_module_version": "1.2.0",
            "_model_name": "LayoutModel",
            "_view_count": null,
            "_view_module": "@jupyter-widgets/base",
            "_view_module_version": "1.2.0",
            "_view_name": "LayoutView",
            "align_content": null,
            "align_items": null,
            "align_self": null,
            "border": null,
            "bottom": null,
            "display": null,
            "flex": null,
            "flex_flow": null,
            "grid_area": null,
            "grid_auto_columns": null,
            "grid_auto_flow": null,
            "grid_auto_rows": null,
            "grid_column": null,
            "grid_gap": null,
            "grid_row": null,
            "grid_template_areas": null,
            "grid_template_columns": null,
            "grid_template_rows": null,
            "height": null,
            "justify_content": null,
            "justify_items": null,
            "left": null,
            "margin": null,
            "max_height": null,
            "max_width": null,
            "min_height": null,
            "min_width": null,
            "object_fit": null,
            "object_position": null,
            "order": null,
            "overflow": null,
            "overflow_x": null,
            "overflow_y": null,
            "padding": null,
            "right": null,
            "top": null,
            "visibility": null,
            "width": null
          }
        },
        "eb59862593c04291a0aef4f4b4c22483": {
          "model_module": "@jupyter-widgets/controls",
          "model_name": "DescriptionStyleModel",
          "model_module_version": "1.5.0",
          "state": {
            "_model_module": "@jupyter-widgets/controls",
            "_model_module_version": "1.5.0",
            "_model_name": "DescriptionStyleModel",
            "_view_count": null,
            "_view_module": "@jupyter-widgets/base",
            "_view_module_version": "1.2.0",
            "_view_name": "StyleView",
            "description_width": ""
          }
        },
        "0a6bc0c39a4042648d5b06e48cdbd237": {
          "model_module": "@jupyter-widgets/base",
          "model_name": "LayoutModel",
          "model_module_version": "1.2.0",
          "state": {
            "_model_module": "@jupyter-widgets/base",
            "_model_module_version": "1.2.0",
            "_model_name": "LayoutModel",
            "_view_count": null,
            "_view_module": "@jupyter-widgets/base",
            "_view_module_version": "1.2.0",
            "_view_name": "LayoutView",
            "align_content": null,
            "align_items": null,
            "align_self": null,
            "border": null,
            "bottom": null,
            "display": null,
            "flex": null,
            "flex_flow": null,
            "grid_area": null,
            "grid_auto_columns": null,
            "grid_auto_flow": null,
            "grid_auto_rows": null,
            "grid_column": null,
            "grid_gap": null,
            "grid_row": null,
            "grid_template_areas": null,
            "grid_template_columns": null,
            "grid_template_rows": null,
            "height": null,
            "justify_content": null,
            "justify_items": null,
            "left": null,
            "margin": null,
            "max_height": null,
            "max_width": null,
            "min_height": null,
            "min_width": null,
            "object_fit": null,
            "object_position": null,
            "order": null,
            "overflow": null,
            "overflow_x": null,
            "overflow_y": null,
            "padding": null,
            "right": null,
            "top": null,
            "visibility": null,
            "width": null
          }
        },
        "3690e62d82dc47689ab642a6f39b9dbe": {
          "model_module": "@jupyter-widgets/controls",
          "model_name": "ProgressStyleModel",
          "model_module_version": "1.5.0",
          "state": {
            "_model_module": "@jupyter-widgets/controls",
            "_model_module_version": "1.5.0",
            "_model_name": "ProgressStyleModel",
            "_view_count": null,
            "_view_module": "@jupyter-widgets/base",
            "_view_module_version": "1.2.0",
            "_view_name": "StyleView",
            "bar_color": null,
            "description_width": ""
          }
        },
        "c26245a19e4e48ffa1eaef7ec9dde136": {
          "model_module": "@jupyter-widgets/base",
          "model_name": "LayoutModel",
          "model_module_version": "1.2.0",
          "state": {
            "_model_module": "@jupyter-widgets/base",
            "_model_module_version": "1.2.0",
            "_model_name": "LayoutModel",
            "_view_count": null,
            "_view_module": "@jupyter-widgets/base",
            "_view_module_version": "1.2.0",
            "_view_name": "LayoutView",
            "align_content": null,
            "align_items": null,
            "align_self": null,
            "border": null,
            "bottom": null,
            "display": null,
            "flex": null,
            "flex_flow": null,
            "grid_area": null,
            "grid_auto_columns": null,
            "grid_auto_flow": null,
            "grid_auto_rows": null,
            "grid_column": null,
            "grid_gap": null,
            "grid_row": null,
            "grid_template_areas": null,
            "grid_template_columns": null,
            "grid_template_rows": null,
            "height": null,
            "justify_content": null,
            "justify_items": null,
            "left": null,
            "margin": null,
            "max_height": null,
            "max_width": null,
            "min_height": null,
            "min_width": null,
            "object_fit": null,
            "object_position": null,
            "order": null,
            "overflow": null,
            "overflow_x": null,
            "overflow_y": null,
            "padding": null,
            "right": null,
            "top": null,
            "visibility": null,
            "width": null
          }
        },
        "d68f8aabb3564f3899008da7299e092c": {
          "model_module": "@jupyter-widgets/controls",
          "model_name": "DescriptionStyleModel",
          "model_module_version": "1.5.0",
          "state": {
            "_model_module": "@jupyter-widgets/controls",
            "_model_module_version": "1.5.0",
            "_model_name": "DescriptionStyleModel",
            "_view_count": null,
            "_view_module": "@jupyter-widgets/base",
            "_view_module_version": "1.2.0",
            "_view_name": "StyleView",
            "description_width": ""
          }
        },
        "4c21347e19c8487f9a0b372e05cc3c0b": {
          "model_module": "@jupyter-widgets/controls",
          "model_name": "HBoxModel",
          "model_module_version": "1.5.0",
          "state": {
            "_dom_classes": [],
            "_model_module": "@jupyter-widgets/controls",
            "_model_module_version": "1.5.0",
            "_model_name": "HBoxModel",
            "_view_count": null,
            "_view_module": "@jupyter-widgets/controls",
            "_view_module_version": "1.5.0",
            "_view_name": "HBoxView",
            "box_style": "",
            "children": [
              "IPY_MODEL_c07adfc398074bafb4aec84c47c11c25",
              "IPY_MODEL_0782aab22b334cb4bc0b8c93644b324f",
              "IPY_MODEL_b6b3c6c6ad6a4e8981aa83c664d29c52"
            ],
            "layout": "IPY_MODEL_af7c43b81a48410cb6d1cbaceac81da1"
          }
        },
        "c07adfc398074bafb4aec84c47c11c25": {
          "model_module": "@jupyter-widgets/controls",
          "model_name": "HTMLModel",
          "model_module_version": "1.5.0",
          "state": {
            "_dom_classes": [],
            "_model_module": "@jupyter-widgets/controls",
            "_model_module_version": "1.5.0",
            "_model_name": "HTMLModel",
            "_view_count": null,
            "_view_module": "@jupyter-widgets/controls",
            "_view_module_version": "1.5.0",
            "_view_name": "HTMLView",
            "description": "",
            "description_tooltip": null,
            "layout": "IPY_MODEL_98584fbdea2c4f1284e1c84da72d84ea",
            "placeholder": "​",
            "style": "IPY_MODEL_1ff34cf8b9ff4c59981750b0968fc8ac",
            "value": "model-00003-of-00003.safetensors: 100%"
          }
        },
        "0782aab22b334cb4bc0b8c93644b324f": {
          "model_module": "@jupyter-widgets/controls",
          "model_name": "FloatProgressModel",
          "model_module_version": "1.5.0",
          "state": {
            "_dom_classes": [],
            "_model_module": "@jupyter-widgets/controls",
            "_model_module_version": "1.5.0",
            "_model_name": "FloatProgressModel",
            "_view_count": null,
            "_view_module": "@jupyter-widgets/controls",
            "_view_module_version": "1.5.0",
            "_view_name": "ProgressView",
            "bar_style": "success",
            "description": "",
            "description_tooltip": null,
            "layout": "IPY_MODEL_c11264588689471288540bd3ba5d2dfd",
            "max": 4540516344,
            "min": 0,
            "orientation": "horizontal",
            "style": "IPY_MODEL_3147b2d7fc03400c8cf42fac18726f78",
            "value": 4540516344
          }
        },
        "b6b3c6c6ad6a4e8981aa83c664d29c52": {
          "model_module": "@jupyter-widgets/controls",
          "model_name": "HTMLModel",
          "model_module_version": "1.5.0",
          "state": {
            "_dom_classes": [],
            "_model_module": "@jupyter-widgets/controls",
            "_model_module_version": "1.5.0",
            "_model_name": "HTMLModel",
            "_view_count": null,
            "_view_module": "@jupyter-widgets/controls",
            "_view_module_version": "1.5.0",
            "_view_name": "HTMLView",
            "description": "",
            "description_tooltip": null,
            "layout": "IPY_MODEL_8ebec1a0b2e342a4a11a64a75615d894",
            "placeholder": "​",
            "style": "IPY_MODEL_f7f0231e4e37499b9e1bf2672a37890a",
            "value": " 4.54G/4.54G [00:33&lt;00:00, 141MB/s]"
          }
        },
        "af7c43b81a48410cb6d1cbaceac81da1": {
          "model_module": "@jupyter-widgets/base",
          "model_name": "LayoutModel",
          "model_module_version": "1.2.0",
          "state": {
            "_model_module": "@jupyter-widgets/base",
            "_model_module_version": "1.2.0",
            "_model_name": "LayoutModel",
            "_view_count": null,
            "_view_module": "@jupyter-widgets/base",
            "_view_module_version": "1.2.0",
            "_view_name": "LayoutView",
            "align_content": null,
            "align_items": null,
            "align_self": null,
            "border": null,
            "bottom": null,
            "display": null,
            "flex": null,
            "flex_flow": null,
            "grid_area": null,
            "grid_auto_columns": null,
            "grid_auto_flow": null,
            "grid_auto_rows": null,
            "grid_column": null,
            "grid_gap": null,
            "grid_row": null,
            "grid_template_areas": null,
            "grid_template_columns": null,
            "grid_template_rows": null,
            "height": null,
            "justify_content": null,
            "justify_items": null,
            "left": null,
            "margin": null,
            "max_height": null,
            "max_width": null,
            "min_height": null,
            "min_width": null,
            "object_fit": null,
            "object_position": null,
            "order": null,
            "overflow": null,
            "overflow_x": null,
            "overflow_y": null,
            "padding": null,
            "right": null,
            "top": null,
            "visibility": null,
            "width": null
          }
        },
        "98584fbdea2c4f1284e1c84da72d84ea": {
          "model_module": "@jupyter-widgets/base",
          "model_name": "LayoutModel",
          "model_module_version": "1.2.0",
          "state": {
            "_model_module": "@jupyter-widgets/base",
            "_model_module_version": "1.2.0",
            "_model_name": "LayoutModel",
            "_view_count": null,
            "_view_module": "@jupyter-widgets/base",
            "_view_module_version": "1.2.0",
            "_view_name": "LayoutView",
            "align_content": null,
            "align_items": null,
            "align_self": null,
            "border": null,
            "bottom": null,
            "display": null,
            "flex": null,
            "flex_flow": null,
            "grid_area": null,
            "grid_auto_columns": null,
            "grid_auto_flow": null,
            "grid_auto_rows": null,
            "grid_column": null,
            "grid_gap": null,
            "grid_row": null,
            "grid_template_areas": null,
            "grid_template_columns": null,
            "grid_template_rows": null,
            "height": null,
            "justify_content": null,
            "justify_items": null,
            "left": null,
            "margin": null,
            "max_height": null,
            "max_width": null,
            "min_height": null,
            "min_width": null,
            "object_fit": null,
            "object_position": null,
            "order": null,
            "overflow": null,
            "overflow_x": null,
            "overflow_y": null,
            "padding": null,
            "right": null,
            "top": null,
            "visibility": null,
            "width": null
          }
        },
        "1ff34cf8b9ff4c59981750b0968fc8ac": {
          "model_module": "@jupyter-widgets/controls",
          "model_name": "DescriptionStyleModel",
          "model_module_version": "1.5.0",
          "state": {
            "_model_module": "@jupyter-widgets/controls",
            "_model_module_version": "1.5.0",
            "_model_name": "DescriptionStyleModel",
            "_view_count": null,
            "_view_module": "@jupyter-widgets/base",
            "_view_module_version": "1.2.0",
            "_view_name": "StyleView",
            "description_width": ""
          }
        },
        "c11264588689471288540bd3ba5d2dfd": {
          "model_module": "@jupyter-widgets/base",
          "model_name": "LayoutModel",
          "model_module_version": "1.2.0",
          "state": {
            "_model_module": "@jupyter-widgets/base",
            "_model_module_version": "1.2.0",
            "_model_name": "LayoutModel",
            "_view_count": null,
            "_view_module": "@jupyter-widgets/base",
            "_view_module_version": "1.2.0",
            "_view_name": "LayoutView",
            "align_content": null,
            "align_items": null,
            "align_self": null,
            "border": null,
            "bottom": null,
            "display": null,
            "flex": null,
            "flex_flow": null,
            "grid_area": null,
            "grid_auto_columns": null,
            "grid_auto_flow": null,
            "grid_auto_rows": null,
            "grid_column": null,
            "grid_gap": null,
            "grid_row": null,
            "grid_template_areas": null,
            "grid_template_columns": null,
            "grid_template_rows": null,
            "height": null,
            "justify_content": null,
            "justify_items": null,
            "left": null,
            "margin": null,
            "max_height": null,
            "max_width": null,
            "min_height": null,
            "min_width": null,
            "object_fit": null,
            "object_position": null,
            "order": null,
            "overflow": null,
            "overflow_x": null,
            "overflow_y": null,
            "padding": null,
            "right": null,
            "top": null,
            "visibility": null,
            "width": null
          }
        },
        "3147b2d7fc03400c8cf42fac18726f78": {
          "model_module": "@jupyter-widgets/controls",
          "model_name": "ProgressStyleModel",
          "model_module_version": "1.5.0",
          "state": {
            "_model_module": "@jupyter-widgets/controls",
            "_model_module_version": "1.5.0",
            "_model_name": "ProgressStyleModel",
            "_view_count": null,
            "_view_module": "@jupyter-widgets/base",
            "_view_module_version": "1.2.0",
            "_view_name": "StyleView",
            "bar_color": null,
            "description_width": ""
          }
        },
        "8ebec1a0b2e342a4a11a64a75615d894": {
          "model_module": "@jupyter-widgets/base",
          "model_name": "LayoutModel",
          "model_module_version": "1.2.0",
          "state": {
            "_model_module": "@jupyter-widgets/base",
            "_model_module_version": "1.2.0",
            "_model_name": "LayoutModel",
            "_view_count": null,
            "_view_module": "@jupyter-widgets/base",
            "_view_module_version": "1.2.0",
            "_view_name": "LayoutView",
            "align_content": null,
            "align_items": null,
            "align_self": null,
            "border": null,
            "bottom": null,
            "display": null,
            "flex": null,
            "flex_flow": null,
            "grid_area": null,
            "grid_auto_columns": null,
            "grid_auto_flow": null,
            "grid_auto_rows": null,
            "grid_column": null,
            "grid_gap": null,
            "grid_row": null,
            "grid_template_areas": null,
            "grid_template_columns": null,
            "grid_template_rows": null,
            "height": null,
            "justify_content": null,
            "justify_items": null,
            "left": null,
            "margin": null,
            "max_height": null,
            "max_width": null,
            "min_height": null,
            "min_width": null,
            "object_fit": null,
            "object_position": null,
            "order": null,
            "overflow": null,
            "overflow_x": null,
            "overflow_y": null,
            "padding": null,
            "right": null,
            "top": null,
            "visibility": null,
            "width": null
          }
        },
        "f7f0231e4e37499b9e1bf2672a37890a": {
          "model_module": "@jupyter-widgets/controls",
          "model_name": "DescriptionStyleModel",
          "model_module_version": "1.5.0",
          "state": {
            "_model_module": "@jupyter-widgets/controls",
            "_model_module_version": "1.5.0",
            "_model_name": "DescriptionStyleModel",
            "_view_count": null,
            "_view_module": "@jupyter-widgets/base",
            "_view_module_version": "1.2.0",
            "_view_name": "StyleView",
            "description_width": ""
          }
        },
        "a3d5ec2b213645beb1fe0a6e8862659c": {
          "model_module": "@jupyter-widgets/controls",
          "model_name": "HBoxModel",
          "model_module_version": "1.5.0",
          "state": {
            "_dom_classes": [],
            "_model_module": "@jupyter-widgets/controls",
            "_model_module_version": "1.5.0",
            "_model_name": "HBoxModel",
            "_view_count": null,
            "_view_module": "@jupyter-widgets/controls",
            "_view_module_version": "1.5.0",
            "_view_name": "HBoxView",
            "box_style": "",
            "children": [
              "IPY_MODEL_c4915d2055c745efbaa041437685e67a",
              "IPY_MODEL_714d23b8cda44b00a56ea00e0bb7f197",
              "IPY_MODEL_35c2279e1b624e5db2489e6e65c4d763"
            ],
            "layout": "IPY_MODEL_b727fa59ed2740dd84ba7da8c6be341b"
          }
        },
        "c4915d2055c745efbaa041437685e67a": {
          "model_module": "@jupyter-widgets/controls",
          "model_name": "HTMLModel",
          "model_module_version": "1.5.0",
          "state": {
            "_dom_classes": [],
            "_model_module": "@jupyter-widgets/controls",
            "_model_module_version": "1.5.0",
            "_model_name": "HTMLModel",
            "_view_count": null,
            "_view_module": "@jupyter-widgets/controls",
            "_view_module_version": "1.5.0",
            "_view_name": "HTMLView",
            "description": "",
            "description_tooltip": null,
            "layout": "IPY_MODEL_db44fd75aead42a192563c10346f5d34",
            "placeholder": "​",
            "style": "IPY_MODEL_78e03f5fa4344210b51eff92aaff0739",
            "value": "Loading checkpoint shards: 100%"
          }
        },
        "714d23b8cda44b00a56ea00e0bb7f197": {
          "model_module": "@jupyter-widgets/controls",
          "model_name": "FloatProgressModel",
          "model_module_version": "1.5.0",
          "state": {
            "_dom_classes": [],
            "_model_module": "@jupyter-widgets/controls",
            "_model_module_version": "1.5.0",
            "_model_name": "FloatProgressModel",
            "_view_count": null,
            "_view_module": "@jupyter-widgets/controls",
            "_view_module_version": "1.5.0",
            "_view_name": "ProgressView",
            "bar_style": "success",
            "description": "",
            "description_tooltip": null,
            "layout": "IPY_MODEL_0f4e1eb0d0254a5fbb048fbf70c74009",
            "max": 3,
            "min": 0,
            "orientation": "horizontal",
            "style": "IPY_MODEL_34013b9924f44fd8acee73384e1a3c59",
            "value": 3
          }
        },
        "35c2279e1b624e5db2489e6e65c4d763": {
          "model_module": "@jupyter-widgets/controls",
          "model_name": "HTMLModel",
          "model_module_version": "1.5.0",
          "state": {
            "_dom_classes": [],
            "_model_module": "@jupyter-widgets/controls",
            "_model_module_version": "1.5.0",
            "_model_name": "HTMLModel",
            "_view_count": null,
            "_view_module": "@jupyter-widgets/controls",
            "_view_module_version": "1.5.0",
            "_view_name": "HTMLView",
            "description": "",
            "description_tooltip": null,
            "layout": "IPY_MODEL_9dfc6ab1e4e64b84ac855341220aeee2",
            "placeholder": "​",
            "style": "IPY_MODEL_ccf10e452dc14b51a30bd1b1f8b674bd",
            "value": " 3/3 [01:13&lt;00:00, 24.22s/it]"
          }
        },
        "b727fa59ed2740dd84ba7da8c6be341b": {
          "model_module": "@jupyter-widgets/base",
          "model_name": "LayoutModel",
          "model_module_version": "1.2.0",
          "state": {
            "_model_module": "@jupyter-widgets/base",
            "_model_module_version": "1.2.0",
            "_model_name": "LayoutModel",
            "_view_count": null,
            "_view_module": "@jupyter-widgets/base",
            "_view_module_version": "1.2.0",
            "_view_name": "LayoutView",
            "align_content": null,
            "align_items": null,
            "align_self": null,
            "border": null,
            "bottom": null,
            "display": null,
            "flex": null,
            "flex_flow": null,
            "grid_area": null,
            "grid_auto_columns": null,
            "grid_auto_flow": null,
            "grid_auto_rows": null,
            "grid_column": null,
            "grid_gap": null,
            "grid_row": null,
            "grid_template_areas": null,
            "grid_template_columns": null,
            "grid_template_rows": null,
            "height": null,
            "justify_content": null,
            "justify_items": null,
            "left": null,
            "margin": null,
            "max_height": null,
            "max_width": null,
            "min_height": null,
            "min_width": null,
            "object_fit": null,
            "object_position": null,
            "order": null,
            "overflow": null,
            "overflow_x": null,
            "overflow_y": null,
            "padding": null,
            "right": null,
            "top": null,
            "visibility": null,
            "width": null
          }
        },
        "db44fd75aead42a192563c10346f5d34": {
          "model_module": "@jupyter-widgets/base",
          "model_name": "LayoutModel",
          "model_module_version": "1.2.0",
          "state": {
            "_model_module": "@jupyter-widgets/base",
            "_model_module_version": "1.2.0",
            "_model_name": "LayoutModel",
            "_view_count": null,
            "_view_module": "@jupyter-widgets/base",
            "_view_module_version": "1.2.0",
            "_view_name": "LayoutView",
            "align_content": null,
            "align_items": null,
            "align_self": null,
            "border": null,
            "bottom": null,
            "display": null,
            "flex": null,
            "flex_flow": null,
            "grid_area": null,
            "grid_auto_columns": null,
            "grid_auto_flow": null,
            "grid_auto_rows": null,
            "grid_column": null,
            "grid_gap": null,
            "grid_row": null,
            "grid_template_areas": null,
            "grid_template_columns": null,
            "grid_template_rows": null,
            "height": null,
            "justify_content": null,
            "justify_items": null,
            "left": null,
            "margin": null,
            "max_height": null,
            "max_width": null,
            "min_height": null,
            "min_width": null,
            "object_fit": null,
            "object_position": null,
            "order": null,
            "overflow": null,
            "overflow_x": null,
            "overflow_y": null,
            "padding": null,
            "right": null,
            "top": null,
            "visibility": null,
            "width": null
          }
        },
        "78e03f5fa4344210b51eff92aaff0739": {
          "model_module": "@jupyter-widgets/controls",
          "model_name": "DescriptionStyleModel",
          "model_module_version": "1.5.0",
          "state": {
            "_model_module": "@jupyter-widgets/controls",
            "_model_module_version": "1.5.0",
            "_model_name": "DescriptionStyleModel",
            "_view_count": null,
            "_view_module": "@jupyter-widgets/base",
            "_view_module_version": "1.2.0",
            "_view_name": "StyleView",
            "description_width": ""
          }
        },
        "0f4e1eb0d0254a5fbb048fbf70c74009": {
          "model_module": "@jupyter-widgets/base",
          "model_name": "LayoutModel",
          "model_module_version": "1.2.0",
          "state": {
            "_model_module": "@jupyter-widgets/base",
            "_model_module_version": "1.2.0",
            "_model_name": "LayoutModel",
            "_view_count": null,
            "_view_module": "@jupyter-widgets/base",
            "_view_module_version": "1.2.0",
            "_view_name": "LayoutView",
            "align_content": null,
            "align_items": null,
            "align_self": null,
            "border": null,
            "bottom": null,
            "display": null,
            "flex": null,
            "flex_flow": null,
            "grid_area": null,
            "grid_auto_columns": null,
            "grid_auto_flow": null,
            "grid_auto_rows": null,
            "grid_column": null,
            "grid_gap": null,
            "grid_row": null,
            "grid_template_areas": null,
            "grid_template_columns": null,
            "grid_template_rows": null,
            "height": null,
            "justify_content": null,
            "justify_items": null,
            "left": null,
            "margin": null,
            "max_height": null,
            "max_width": null,
            "min_height": null,
            "min_width": null,
            "object_fit": null,
            "object_position": null,
            "order": null,
            "overflow": null,
            "overflow_x": null,
            "overflow_y": null,
            "padding": null,
            "right": null,
            "top": null,
            "visibility": null,
            "width": null
          }
        },
        "34013b9924f44fd8acee73384e1a3c59": {
          "model_module": "@jupyter-widgets/controls",
          "model_name": "ProgressStyleModel",
          "model_module_version": "1.5.0",
          "state": {
            "_model_module": "@jupyter-widgets/controls",
            "_model_module_version": "1.5.0",
            "_model_name": "ProgressStyleModel",
            "_view_count": null,
            "_view_module": "@jupyter-widgets/base",
            "_view_module_version": "1.2.0",
            "_view_name": "StyleView",
            "bar_color": null,
            "description_width": ""
          }
        },
        "9dfc6ab1e4e64b84ac855341220aeee2": {
          "model_module": "@jupyter-widgets/base",
          "model_name": "LayoutModel",
          "model_module_version": "1.2.0",
          "state": {
            "_model_module": "@jupyter-widgets/base",
            "_model_module_version": "1.2.0",
            "_model_name": "LayoutModel",
            "_view_count": null,
            "_view_module": "@jupyter-widgets/base",
            "_view_module_version": "1.2.0",
            "_view_name": "LayoutView",
            "align_content": null,
            "align_items": null,
            "align_self": null,
            "border": null,
            "bottom": null,
            "display": null,
            "flex": null,
            "flex_flow": null,
            "grid_area": null,
            "grid_auto_columns": null,
            "grid_auto_flow": null,
            "grid_auto_rows": null,
            "grid_column": null,
            "grid_gap": null,
            "grid_row": null,
            "grid_template_areas": null,
            "grid_template_columns": null,
            "grid_template_rows": null,
            "height": null,
            "justify_content": null,
            "justify_items": null,
            "left": null,
            "margin": null,
            "max_height": null,
            "max_width": null,
            "min_height": null,
            "min_width": null,
            "object_fit": null,
            "object_position": null,
            "order": null,
            "overflow": null,
            "overflow_x": null,
            "overflow_y": null,
            "padding": null,
            "right": null,
            "top": null,
            "visibility": null,
            "width": null
          }
        },
        "ccf10e452dc14b51a30bd1b1f8b674bd": {
          "model_module": "@jupyter-widgets/controls",
          "model_name": "DescriptionStyleModel",
          "model_module_version": "1.5.0",
          "state": {
            "_model_module": "@jupyter-widgets/controls",
            "_model_module_version": "1.5.0",
            "_model_name": "DescriptionStyleModel",
            "_view_count": null,
            "_view_module": "@jupyter-widgets/base",
            "_view_module_version": "1.2.0",
            "_view_name": "StyleView",
            "description_width": ""
          }
        },
        "268d4c9fa3b94e9abff8d0330c2530dd": {
          "model_module": "@jupyter-widgets/controls",
          "model_name": "HBoxModel",
          "model_module_version": "1.5.0",
          "state": {
            "_dom_classes": [],
            "_model_module": "@jupyter-widgets/controls",
            "_model_module_version": "1.5.0",
            "_model_name": "HBoxModel",
            "_view_count": null,
            "_view_module": "@jupyter-widgets/controls",
            "_view_module_version": "1.5.0",
            "_view_name": "HBoxView",
            "box_style": "",
            "children": [
              "IPY_MODEL_1d70078ee650400aa1f5259ecf94bf07",
              "IPY_MODEL_313443199f99453ebd8aa7b4bedfbf8f",
              "IPY_MODEL_27c29bfb463241b388d282696b0338d2"
            ],
            "layout": "IPY_MODEL_65fdc2ea89014ac687f2d09c4fd7d323"
          }
        },
        "1d70078ee650400aa1f5259ecf94bf07": {
          "model_module": "@jupyter-widgets/controls",
          "model_name": "HTMLModel",
          "model_module_version": "1.5.0",
          "state": {
            "_dom_classes": [],
            "_model_module": "@jupyter-widgets/controls",
            "_model_module_version": "1.5.0",
            "_model_name": "HTMLModel",
            "_view_count": null,
            "_view_module": "@jupyter-widgets/controls",
            "_view_module_version": "1.5.0",
            "_view_name": "HTMLView",
            "description": "",
            "description_tooltip": null,
            "layout": "IPY_MODEL_f5546c4871ed4801ae4509252faef1a0",
            "placeholder": "​",
            "style": "IPY_MODEL_9652005ad0d1401680b336d6f6812ce0",
            "value": "generation_config.json: 100%"
          }
        },
        "313443199f99453ebd8aa7b4bedfbf8f": {
          "model_module": "@jupyter-widgets/controls",
          "model_name": "FloatProgressModel",
          "model_module_version": "1.5.0",
          "state": {
            "_dom_classes": [],
            "_model_module": "@jupyter-widgets/controls",
            "_model_module_version": "1.5.0",
            "_model_name": "FloatProgressModel",
            "_view_count": null,
            "_view_module": "@jupyter-widgets/controls",
            "_view_module_version": "1.5.0",
            "_view_name": "ProgressView",
            "bar_style": "success",
            "description": "",
            "description_tooltip": null,
            "layout": "IPY_MODEL_c9b61c9d074b4c109dac1843bca7a1d6",
            "max": 111,
            "min": 0,
            "orientation": "horizontal",
            "style": "IPY_MODEL_a3a08c79b53b49228fd77bb7269522a3",
            "value": 111
          }
        },
        "27c29bfb463241b388d282696b0338d2": {
          "model_module": "@jupyter-widgets/controls",
          "model_name": "HTMLModel",
          "model_module_version": "1.5.0",
          "state": {
            "_dom_classes": [],
            "_model_module": "@jupyter-widgets/controls",
            "_model_module_version": "1.5.0",
            "_model_name": "HTMLModel",
            "_view_count": null,
            "_view_module": "@jupyter-widgets/controls",
            "_view_module_version": "1.5.0",
            "_view_name": "HTMLView",
            "description": "",
            "description_tooltip": null,
            "layout": "IPY_MODEL_c9b776cbfa9346c0856933290b734e26",
            "placeholder": "​",
            "style": "IPY_MODEL_a3c100bd11ab4368a191bd14eae376a0",
            "value": " 111/111 [00:00&lt;00:00, 5.82kB/s]"
          }
        },
        "65fdc2ea89014ac687f2d09c4fd7d323": {
          "model_module": "@jupyter-widgets/base",
          "model_name": "LayoutModel",
          "model_module_version": "1.2.0",
          "state": {
            "_model_module": "@jupyter-widgets/base",
            "_model_module_version": "1.2.0",
            "_model_name": "LayoutModel",
            "_view_count": null,
            "_view_module": "@jupyter-widgets/base",
            "_view_module_version": "1.2.0",
            "_view_name": "LayoutView",
            "align_content": null,
            "align_items": null,
            "align_self": null,
            "border": null,
            "bottom": null,
            "display": null,
            "flex": null,
            "flex_flow": null,
            "grid_area": null,
            "grid_auto_columns": null,
            "grid_auto_flow": null,
            "grid_auto_rows": null,
            "grid_column": null,
            "grid_gap": null,
            "grid_row": null,
            "grid_template_areas": null,
            "grid_template_columns": null,
            "grid_template_rows": null,
            "height": null,
            "justify_content": null,
            "justify_items": null,
            "left": null,
            "margin": null,
            "max_height": null,
            "max_width": null,
            "min_height": null,
            "min_width": null,
            "object_fit": null,
            "object_position": null,
            "order": null,
            "overflow": null,
            "overflow_x": null,
            "overflow_y": null,
            "padding": null,
            "right": null,
            "top": null,
            "visibility": null,
            "width": null
          }
        },
        "f5546c4871ed4801ae4509252faef1a0": {
          "model_module": "@jupyter-widgets/base",
          "model_name": "LayoutModel",
          "model_module_version": "1.2.0",
          "state": {
            "_model_module": "@jupyter-widgets/base",
            "_model_module_version": "1.2.0",
            "_model_name": "LayoutModel",
            "_view_count": null,
            "_view_module": "@jupyter-widgets/base",
            "_view_module_version": "1.2.0",
            "_view_name": "LayoutView",
            "align_content": null,
            "align_items": null,
            "align_self": null,
            "border": null,
            "bottom": null,
            "display": null,
            "flex": null,
            "flex_flow": null,
            "grid_area": null,
            "grid_auto_columns": null,
            "grid_auto_flow": null,
            "grid_auto_rows": null,
            "grid_column": null,
            "grid_gap": null,
            "grid_row": null,
            "grid_template_areas": null,
            "grid_template_columns": null,
            "grid_template_rows": null,
            "height": null,
            "justify_content": null,
            "justify_items": null,
            "left": null,
            "margin": null,
            "max_height": null,
            "max_width": null,
            "min_height": null,
            "min_width": null,
            "object_fit": null,
            "object_position": null,
            "order": null,
            "overflow": null,
            "overflow_x": null,
            "overflow_y": null,
            "padding": null,
            "right": null,
            "top": null,
            "visibility": null,
            "width": null
          }
        },
        "9652005ad0d1401680b336d6f6812ce0": {
          "model_module": "@jupyter-widgets/controls",
          "model_name": "DescriptionStyleModel",
          "model_module_version": "1.5.0",
          "state": {
            "_model_module": "@jupyter-widgets/controls",
            "_model_module_version": "1.5.0",
            "_model_name": "DescriptionStyleModel",
            "_view_count": null,
            "_view_module": "@jupyter-widgets/base",
            "_view_module_version": "1.2.0",
            "_view_name": "StyleView",
            "description_width": ""
          }
        },
        "c9b61c9d074b4c109dac1843bca7a1d6": {
          "model_module": "@jupyter-widgets/base",
          "model_name": "LayoutModel",
          "model_module_version": "1.2.0",
          "state": {
            "_model_module": "@jupyter-widgets/base",
            "_model_module_version": "1.2.0",
            "_model_name": "LayoutModel",
            "_view_count": null,
            "_view_module": "@jupyter-widgets/base",
            "_view_module_version": "1.2.0",
            "_view_name": "LayoutView",
            "align_content": null,
            "align_items": null,
            "align_self": null,
            "border": null,
            "bottom": null,
            "display": null,
            "flex": null,
            "flex_flow": null,
            "grid_area": null,
            "grid_auto_columns": null,
            "grid_auto_flow": null,
            "grid_auto_rows": null,
            "grid_column": null,
            "grid_gap": null,
            "grid_row": null,
            "grid_template_areas": null,
            "grid_template_columns": null,
            "grid_template_rows": null,
            "height": null,
            "justify_content": null,
            "justify_items": null,
            "left": null,
            "margin": null,
            "max_height": null,
            "max_width": null,
            "min_height": null,
            "min_width": null,
            "object_fit": null,
            "object_position": null,
            "order": null,
            "overflow": null,
            "overflow_x": null,
            "overflow_y": null,
            "padding": null,
            "right": null,
            "top": null,
            "visibility": null,
            "width": null
          }
        },
        "a3a08c79b53b49228fd77bb7269522a3": {
          "model_module": "@jupyter-widgets/controls",
          "model_name": "ProgressStyleModel",
          "model_module_version": "1.5.0",
          "state": {
            "_model_module": "@jupyter-widgets/controls",
            "_model_module_version": "1.5.0",
            "_model_name": "ProgressStyleModel",
            "_view_count": null,
            "_view_module": "@jupyter-widgets/base",
            "_view_module_version": "1.2.0",
            "_view_name": "StyleView",
            "bar_color": null,
            "description_width": ""
          }
        },
        "c9b776cbfa9346c0856933290b734e26": {
          "model_module": "@jupyter-widgets/base",
          "model_name": "LayoutModel",
          "model_module_version": "1.2.0",
          "state": {
            "_model_module": "@jupyter-widgets/base",
            "_model_module_version": "1.2.0",
            "_model_name": "LayoutModel",
            "_view_count": null,
            "_view_module": "@jupyter-widgets/base",
            "_view_module_version": "1.2.0",
            "_view_name": "LayoutView",
            "align_content": null,
            "align_items": null,
            "align_self": null,
            "border": null,
            "bottom": null,
            "display": null,
            "flex": null,
            "flex_flow": null,
            "grid_area": null,
            "grid_auto_columns": null,
            "grid_auto_flow": null,
            "grid_auto_rows": null,
            "grid_column": null,
            "grid_gap": null,
            "grid_row": null,
            "grid_template_areas": null,
            "grid_template_columns": null,
            "grid_template_rows": null,
            "height": null,
            "justify_content": null,
            "justify_items": null,
            "left": null,
            "margin": null,
            "max_height": null,
            "max_width": null,
            "min_height": null,
            "min_width": null,
            "object_fit": null,
            "object_position": null,
            "order": null,
            "overflow": null,
            "overflow_x": null,
            "overflow_y": null,
            "padding": null,
            "right": null,
            "top": null,
            "visibility": null,
            "width": null
          }
        },
        "a3c100bd11ab4368a191bd14eae376a0": {
          "model_module": "@jupyter-widgets/controls",
          "model_name": "DescriptionStyleModel",
          "model_module_version": "1.5.0",
          "state": {
            "_model_module": "@jupyter-widgets/controls",
            "_model_module_version": "1.5.0",
            "_model_name": "DescriptionStyleModel",
            "_view_count": null,
            "_view_module": "@jupyter-widgets/base",
            "_view_module_version": "1.2.0",
            "_view_name": "StyleView",
            "description_width": ""
          }
        },
        "431ccf312f684a0a8e6e231407682f53": {
          "model_module": "@jupyter-widgets/controls",
          "model_name": "HBoxModel",
          "model_module_version": "1.5.0",
          "state": {
            "_dom_classes": [],
            "_model_module": "@jupyter-widgets/controls",
            "_model_module_version": "1.5.0",
            "_model_name": "HBoxModel",
            "_view_count": null,
            "_view_module": "@jupyter-widgets/controls",
            "_view_module_version": "1.5.0",
            "_view_name": "HBoxView",
            "box_style": "",
            "children": [
              "IPY_MODEL_75e1ecd20a5b4daeb21f498487520f93",
              "IPY_MODEL_e1d8cc13200a496ebc53311cfeadfd93",
              "IPY_MODEL_c0b27526aaf2448c8aecbca30dbb8d87"
            ],
            "layout": "IPY_MODEL_285c8caf45b0444db132340e82f3f4d3"
          }
        },
        "75e1ecd20a5b4daeb21f498487520f93": {
          "model_module": "@jupyter-widgets/controls",
          "model_name": "HTMLModel",
          "model_module_version": "1.5.0",
          "state": {
            "_dom_classes": [],
            "_model_module": "@jupyter-widgets/controls",
            "_model_module_version": "1.5.0",
            "_model_name": "HTMLModel",
            "_view_count": null,
            "_view_module": "@jupyter-widgets/controls",
            "_view_module_version": "1.5.0",
            "_view_name": "HTMLView",
            "description": "",
            "description_tooltip": null,
            "layout": "IPY_MODEL_343e7b1949be43b38bd55e458f07cc79",
            "placeholder": "​",
            "style": "IPY_MODEL_059d383601ca4506a4a5e9fa1bca4c85",
            "value": "tokenizer_config.json: 100%"
          }
        },
        "e1d8cc13200a496ebc53311cfeadfd93": {
          "model_module": "@jupyter-widgets/controls",
          "model_name": "FloatProgressModel",
          "model_module_version": "1.5.0",
          "state": {
            "_dom_classes": [],
            "_model_module": "@jupyter-widgets/controls",
            "_model_module_version": "1.5.0",
            "_model_name": "FloatProgressModel",
            "_view_count": null,
            "_view_module": "@jupyter-widgets/controls",
            "_view_module_version": "1.5.0",
            "_view_name": "ProgressView",
            "bar_style": "success",
            "description": "",
            "description_tooltip": null,
            "layout": "IPY_MODEL_41c458b544b8437aacad4a08d77fccf8",
            "max": 1460,
            "min": 0,
            "orientation": "horizontal",
            "style": "IPY_MODEL_764efc1594f646b896b4d3dfda52f1b1",
            "value": 1460
          }
        },
        "c0b27526aaf2448c8aecbca30dbb8d87": {
          "model_module": "@jupyter-widgets/controls",
          "model_name": "HTMLModel",
          "model_module_version": "1.5.0",
          "state": {
            "_dom_classes": [],
            "_model_module": "@jupyter-widgets/controls",
            "_model_module_version": "1.5.0",
            "_model_name": "HTMLModel",
            "_view_count": null,
            "_view_module": "@jupyter-widgets/controls",
            "_view_module_version": "1.5.0",
            "_view_name": "HTMLView",
            "description": "",
            "description_tooltip": null,
            "layout": "IPY_MODEL_475da7f51a8649248288824a82bb1ba8",
            "placeholder": "​",
            "style": "IPY_MODEL_6f041c058338420fa090229882b12445",
            "value": " 1.46k/1.46k [00:00&lt;00:00, 76.2kB/s]"
          }
        },
        "285c8caf45b0444db132340e82f3f4d3": {
          "model_module": "@jupyter-widgets/base",
          "model_name": "LayoutModel",
          "model_module_version": "1.2.0",
          "state": {
            "_model_module": "@jupyter-widgets/base",
            "_model_module_version": "1.2.0",
            "_model_name": "LayoutModel",
            "_view_count": null,
            "_view_module": "@jupyter-widgets/base",
            "_view_module_version": "1.2.0",
            "_view_name": "LayoutView",
            "align_content": null,
            "align_items": null,
            "align_self": null,
            "border": null,
            "bottom": null,
            "display": null,
            "flex": null,
            "flex_flow": null,
            "grid_area": null,
            "grid_auto_columns": null,
            "grid_auto_flow": null,
            "grid_auto_rows": null,
            "grid_column": null,
            "grid_gap": null,
            "grid_row": null,
            "grid_template_areas": null,
            "grid_template_columns": null,
            "grid_template_rows": null,
            "height": null,
            "justify_content": null,
            "justify_items": null,
            "left": null,
            "margin": null,
            "max_height": null,
            "max_width": null,
            "min_height": null,
            "min_width": null,
            "object_fit": null,
            "object_position": null,
            "order": null,
            "overflow": null,
            "overflow_x": null,
            "overflow_y": null,
            "padding": null,
            "right": null,
            "top": null,
            "visibility": null,
            "width": null
          }
        },
        "343e7b1949be43b38bd55e458f07cc79": {
          "model_module": "@jupyter-widgets/base",
          "model_name": "LayoutModel",
          "model_module_version": "1.2.0",
          "state": {
            "_model_module": "@jupyter-widgets/base",
            "_model_module_version": "1.2.0",
            "_model_name": "LayoutModel",
            "_view_count": null,
            "_view_module": "@jupyter-widgets/base",
            "_view_module_version": "1.2.0",
            "_view_name": "LayoutView",
            "align_content": null,
            "align_items": null,
            "align_self": null,
            "border": null,
            "bottom": null,
            "display": null,
            "flex": null,
            "flex_flow": null,
            "grid_area": null,
            "grid_auto_columns": null,
            "grid_auto_flow": null,
            "grid_auto_rows": null,
            "grid_column": null,
            "grid_gap": null,
            "grid_row": null,
            "grid_template_areas": null,
            "grid_template_columns": null,
            "grid_template_rows": null,
            "height": null,
            "justify_content": null,
            "justify_items": null,
            "left": null,
            "margin": null,
            "max_height": null,
            "max_width": null,
            "min_height": null,
            "min_width": null,
            "object_fit": null,
            "object_position": null,
            "order": null,
            "overflow": null,
            "overflow_x": null,
            "overflow_y": null,
            "padding": null,
            "right": null,
            "top": null,
            "visibility": null,
            "width": null
          }
        },
        "059d383601ca4506a4a5e9fa1bca4c85": {
          "model_module": "@jupyter-widgets/controls",
          "model_name": "DescriptionStyleModel",
          "model_module_version": "1.5.0",
          "state": {
            "_model_module": "@jupyter-widgets/controls",
            "_model_module_version": "1.5.0",
            "_model_name": "DescriptionStyleModel",
            "_view_count": null,
            "_view_module": "@jupyter-widgets/base",
            "_view_module_version": "1.2.0",
            "_view_name": "StyleView",
            "description_width": ""
          }
        },
        "41c458b544b8437aacad4a08d77fccf8": {
          "model_module": "@jupyter-widgets/base",
          "model_name": "LayoutModel",
          "model_module_version": "1.2.0",
          "state": {
            "_model_module": "@jupyter-widgets/base",
            "_model_module_version": "1.2.0",
            "_model_name": "LayoutModel",
            "_view_count": null,
            "_view_module": "@jupyter-widgets/base",
            "_view_module_version": "1.2.0",
            "_view_name": "LayoutView",
            "align_content": null,
            "align_items": null,
            "align_self": null,
            "border": null,
            "bottom": null,
            "display": null,
            "flex": null,
            "flex_flow": null,
            "grid_area": null,
            "grid_auto_columns": null,
            "grid_auto_flow": null,
            "grid_auto_rows": null,
            "grid_column": null,
            "grid_gap": null,
            "grid_row": null,
            "grid_template_areas": null,
            "grid_template_columns": null,
            "grid_template_rows": null,
            "height": null,
            "justify_content": null,
            "justify_items": null,
            "left": null,
            "margin": null,
            "max_height": null,
            "max_width": null,
            "min_height": null,
            "min_width": null,
            "object_fit": null,
            "object_position": null,
            "order": null,
            "overflow": null,
            "overflow_x": null,
            "overflow_y": null,
            "padding": null,
            "right": null,
            "top": null,
            "visibility": null,
            "width": null
          }
        },
        "764efc1594f646b896b4d3dfda52f1b1": {
          "model_module": "@jupyter-widgets/controls",
          "model_name": "ProgressStyleModel",
          "model_module_version": "1.5.0",
          "state": {
            "_model_module": "@jupyter-widgets/controls",
            "_model_module_version": "1.5.0",
            "_model_name": "ProgressStyleModel",
            "_view_count": null,
            "_view_module": "@jupyter-widgets/base",
            "_view_module_version": "1.2.0",
            "_view_name": "StyleView",
            "bar_color": null,
            "description_width": ""
          }
        },
        "475da7f51a8649248288824a82bb1ba8": {
          "model_module": "@jupyter-widgets/base",
          "model_name": "LayoutModel",
          "model_module_version": "1.2.0",
          "state": {
            "_model_module": "@jupyter-widgets/base",
            "_model_module_version": "1.2.0",
            "_model_name": "LayoutModel",
            "_view_count": null,
            "_view_module": "@jupyter-widgets/base",
            "_view_module_version": "1.2.0",
            "_view_name": "LayoutView",
            "align_content": null,
            "align_items": null,
            "align_self": null,
            "border": null,
            "bottom": null,
            "display": null,
            "flex": null,
            "flex_flow": null,
            "grid_area": null,
            "grid_auto_columns": null,
            "grid_auto_flow": null,
            "grid_auto_rows": null,
            "grid_column": null,
            "grid_gap": null,
            "grid_row": null,
            "grid_template_areas": null,
            "grid_template_columns": null,
            "grid_template_rows": null,
            "height": null,
            "justify_content": null,
            "justify_items": null,
            "left": null,
            "margin": null,
            "max_height": null,
            "max_width": null,
            "min_height": null,
            "min_width": null,
            "object_fit": null,
            "object_position": null,
            "order": null,
            "overflow": null,
            "overflow_x": null,
            "overflow_y": null,
            "padding": null,
            "right": null,
            "top": null,
            "visibility": null,
            "width": null
          }
        },
        "6f041c058338420fa090229882b12445": {
          "model_module": "@jupyter-widgets/controls",
          "model_name": "DescriptionStyleModel",
          "model_module_version": "1.5.0",
          "state": {
            "_model_module": "@jupyter-widgets/controls",
            "_model_module_version": "1.5.0",
            "_model_name": "DescriptionStyleModel",
            "_view_count": null,
            "_view_module": "@jupyter-widgets/base",
            "_view_module_version": "1.2.0",
            "_view_name": "StyleView",
            "description_width": ""
          }
        },
        "7222747635514772a687105f915f6309": {
          "model_module": "@jupyter-widgets/controls",
          "model_name": "HBoxModel",
          "model_module_version": "1.5.0",
          "state": {
            "_dom_classes": [],
            "_model_module": "@jupyter-widgets/controls",
            "_model_module_version": "1.5.0",
            "_model_name": "HBoxModel",
            "_view_count": null,
            "_view_module": "@jupyter-widgets/controls",
            "_view_module_version": "1.5.0",
            "_view_name": "HBoxView",
            "box_style": "",
            "children": [
              "IPY_MODEL_af602d92585a407ba1d7cdca39320702",
              "IPY_MODEL_5470383c2f664ae5b4d3639ca68734e5",
              "IPY_MODEL_30ddd729635448acabce1415ea732eab"
            ],
            "layout": "IPY_MODEL_3c2cd7c3bf144ed4b40bd6b731e51514"
          }
        },
        "af602d92585a407ba1d7cdca39320702": {
          "model_module": "@jupyter-widgets/controls",
          "model_name": "HTMLModel",
          "model_module_version": "1.5.0",
          "state": {
            "_dom_classes": [],
            "_model_module": "@jupyter-widgets/controls",
            "_model_module_version": "1.5.0",
            "_model_name": "HTMLModel",
            "_view_count": null,
            "_view_module": "@jupyter-widgets/controls",
            "_view_module_version": "1.5.0",
            "_view_name": "HTMLView",
            "description": "",
            "description_tooltip": null,
            "layout": "IPY_MODEL_024bc57e38244ebbb16f40131f2e4c72",
            "placeholder": "​",
            "style": "IPY_MODEL_68eb2420ad6c40c18400500fe6d6cbeb",
            "value": "tokenizer.model: 100%"
          }
        },
        "5470383c2f664ae5b4d3639ca68734e5": {
          "model_module": "@jupyter-widgets/controls",
          "model_name": "FloatProgressModel",
          "model_module_version": "1.5.0",
          "state": {
            "_dom_classes": [],
            "_model_module": "@jupyter-widgets/controls",
            "_model_module_version": "1.5.0",
            "_model_name": "FloatProgressModel",
            "_view_count": null,
            "_view_module": "@jupyter-widgets/controls",
            "_view_module_version": "1.5.0",
            "_view_name": "ProgressView",
            "bar_style": "success",
            "description": "",
            "description_tooltip": null,
            "layout": "IPY_MODEL_c72082face6b469cab8ae7942cc2b452",
            "max": 493443,
            "min": 0,
            "orientation": "horizontal",
            "style": "IPY_MODEL_3d1f8c1e316b410fafaea644c752943f",
            "value": 493443
          }
        },
        "30ddd729635448acabce1415ea732eab": {
          "model_module": "@jupyter-widgets/controls",
          "model_name": "HTMLModel",
          "model_module_version": "1.5.0",
          "state": {
            "_dom_classes": [],
            "_model_module": "@jupyter-widgets/controls",
            "_model_module_version": "1.5.0",
            "_model_name": "HTMLModel",
            "_view_count": null,
            "_view_module": "@jupyter-widgets/controls",
            "_view_module_version": "1.5.0",
            "_view_name": "HTMLView",
            "description": "",
            "description_tooltip": null,
            "layout": "IPY_MODEL_24d316528ad64807bd904b86e67f0586",
            "placeholder": "​",
            "style": "IPY_MODEL_c49f1b9a513945dc91e3316ee59131fe",
            "value": " 493k/493k [00:00&lt;00:00, 16.4MB/s]"
          }
        },
        "3c2cd7c3bf144ed4b40bd6b731e51514": {
          "model_module": "@jupyter-widgets/base",
          "model_name": "LayoutModel",
          "model_module_version": "1.2.0",
          "state": {
            "_model_module": "@jupyter-widgets/base",
            "_model_module_version": "1.2.0",
            "_model_name": "LayoutModel",
            "_view_count": null,
            "_view_module": "@jupyter-widgets/base",
            "_view_module_version": "1.2.0",
            "_view_name": "LayoutView",
            "align_content": null,
            "align_items": null,
            "align_self": null,
            "border": null,
            "bottom": null,
            "display": null,
            "flex": null,
            "flex_flow": null,
            "grid_area": null,
            "grid_auto_columns": null,
            "grid_auto_flow": null,
            "grid_auto_rows": null,
            "grid_column": null,
            "grid_gap": null,
            "grid_row": null,
            "grid_template_areas": null,
            "grid_template_columns": null,
            "grid_template_rows": null,
            "height": null,
            "justify_content": null,
            "justify_items": null,
            "left": null,
            "margin": null,
            "max_height": null,
            "max_width": null,
            "min_height": null,
            "min_width": null,
            "object_fit": null,
            "object_position": null,
            "order": null,
            "overflow": null,
            "overflow_x": null,
            "overflow_y": null,
            "padding": null,
            "right": null,
            "top": null,
            "visibility": null,
            "width": null
          }
        },
        "024bc57e38244ebbb16f40131f2e4c72": {
          "model_module": "@jupyter-widgets/base",
          "model_name": "LayoutModel",
          "model_module_version": "1.2.0",
          "state": {
            "_model_module": "@jupyter-widgets/base",
            "_model_module_version": "1.2.0",
            "_model_name": "LayoutModel",
            "_view_count": null,
            "_view_module": "@jupyter-widgets/base",
            "_view_module_version": "1.2.0",
            "_view_name": "LayoutView",
            "align_content": null,
            "align_items": null,
            "align_self": null,
            "border": null,
            "bottom": null,
            "display": null,
            "flex": null,
            "flex_flow": null,
            "grid_area": null,
            "grid_auto_columns": null,
            "grid_auto_flow": null,
            "grid_auto_rows": null,
            "grid_column": null,
            "grid_gap": null,
            "grid_row": null,
            "grid_template_areas": null,
            "grid_template_columns": null,
            "grid_template_rows": null,
            "height": null,
            "justify_content": null,
            "justify_items": null,
            "left": null,
            "margin": null,
            "max_height": null,
            "max_width": null,
            "min_height": null,
            "min_width": null,
            "object_fit": null,
            "object_position": null,
            "order": null,
            "overflow": null,
            "overflow_x": null,
            "overflow_y": null,
            "padding": null,
            "right": null,
            "top": null,
            "visibility": null,
            "width": null
          }
        },
        "68eb2420ad6c40c18400500fe6d6cbeb": {
          "model_module": "@jupyter-widgets/controls",
          "model_name": "DescriptionStyleModel",
          "model_module_version": "1.5.0",
          "state": {
            "_model_module": "@jupyter-widgets/controls",
            "_model_module_version": "1.5.0",
            "_model_name": "DescriptionStyleModel",
            "_view_count": null,
            "_view_module": "@jupyter-widgets/base",
            "_view_module_version": "1.2.0",
            "_view_name": "StyleView",
            "description_width": ""
          }
        },
        "c72082face6b469cab8ae7942cc2b452": {
          "model_module": "@jupyter-widgets/base",
          "model_name": "LayoutModel",
          "model_module_version": "1.2.0",
          "state": {
            "_model_module": "@jupyter-widgets/base",
            "_model_module_version": "1.2.0",
            "_model_name": "LayoutModel",
            "_view_count": null,
            "_view_module": "@jupyter-widgets/base",
            "_view_module_version": "1.2.0",
            "_view_name": "LayoutView",
            "align_content": null,
            "align_items": null,
            "align_self": null,
            "border": null,
            "bottom": null,
            "display": null,
            "flex": null,
            "flex_flow": null,
            "grid_area": null,
            "grid_auto_columns": null,
            "grid_auto_flow": null,
            "grid_auto_rows": null,
            "grid_column": null,
            "grid_gap": null,
            "grid_row": null,
            "grid_template_areas": null,
            "grid_template_columns": null,
            "grid_template_rows": null,
            "height": null,
            "justify_content": null,
            "justify_items": null,
            "left": null,
            "margin": null,
            "max_height": null,
            "max_width": null,
            "min_height": null,
            "min_width": null,
            "object_fit": null,
            "object_position": null,
            "order": null,
            "overflow": null,
            "overflow_x": null,
            "overflow_y": null,
            "padding": null,
            "right": null,
            "top": null,
            "visibility": null,
            "width": null
          }
        },
        "3d1f8c1e316b410fafaea644c752943f": {
          "model_module": "@jupyter-widgets/controls",
          "model_name": "ProgressStyleModel",
          "model_module_version": "1.5.0",
          "state": {
            "_model_module": "@jupyter-widgets/controls",
            "_model_module_version": "1.5.0",
            "_model_name": "ProgressStyleModel",
            "_view_count": null,
            "_view_module": "@jupyter-widgets/base",
            "_view_module_version": "1.2.0",
            "_view_name": "StyleView",
            "bar_color": null,
            "description_width": ""
          }
        },
        "24d316528ad64807bd904b86e67f0586": {
          "model_module": "@jupyter-widgets/base",
          "model_name": "LayoutModel",
          "model_module_version": "1.2.0",
          "state": {
            "_model_module": "@jupyter-widgets/base",
            "_model_module_version": "1.2.0",
            "_model_name": "LayoutModel",
            "_view_count": null,
            "_view_module": "@jupyter-widgets/base",
            "_view_module_version": "1.2.0",
            "_view_name": "LayoutView",
            "align_content": null,
            "align_items": null,
            "align_self": null,
            "border": null,
            "bottom": null,
            "display": null,
            "flex": null,
            "flex_flow": null,
            "grid_area": null,
            "grid_auto_columns": null,
            "grid_auto_flow": null,
            "grid_auto_rows": null,
            "grid_column": null,
            "grid_gap": null,
            "grid_row": null,
            "grid_template_areas": null,
            "grid_template_columns": null,
            "grid_template_rows": null,
            "height": null,
            "justify_content": null,
            "justify_items": null,
            "left": null,
            "margin": null,
            "max_height": null,
            "max_width": null,
            "min_height": null,
            "min_width": null,
            "object_fit": null,
            "object_position": null,
            "order": null,
            "overflow": null,
            "overflow_x": null,
            "overflow_y": null,
            "padding": null,
            "right": null,
            "top": null,
            "visibility": null,
            "width": null
          }
        },
        "c49f1b9a513945dc91e3316ee59131fe": {
          "model_module": "@jupyter-widgets/controls",
          "model_name": "DescriptionStyleModel",
          "model_module_version": "1.5.0",
          "state": {
            "_model_module": "@jupyter-widgets/controls",
            "_model_module_version": "1.5.0",
            "_model_name": "DescriptionStyleModel",
            "_view_count": null,
            "_view_module": "@jupyter-widgets/base",
            "_view_module_version": "1.2.0",
            "_view_name": "StyleView",
            "description_width": ""
          }
        },
        "a12ced8e04ab4f15819bf2b8b9577742": {
          "model_module": "@jupyter-widgets/controls",
          "model_name": "HBoxModel",
          "model_module_version": "1.5.0",
          "state": {
            "_dom_classes": [],
            "_model_module": "@jupyter-widgets/controls",
            "_model_module_version": "1.5.0",
            "_model_name": "HBoxModel",
            "_view_count": null,
            "_view_module": "@jupyter-widgets/controls",
            "_view_module_version": "1.5.0",
            "_view_name": "HBoxView",
            "box_style": "",
            "children": [
              "IPY_MODEL_c20d13acb3df4cad883b52ab7d84abc6",
              "IPY_MODEL_cfe2be15b16d45f79b7eeffcfd5a791d",
              "IPY_MODEL_4cc29c7be5b84591938a5f8fd426224b"
            ],
            "layout": "IPY_MODEL_bedb8b9b248e46eca337feaf560375eb"
          }
        },
        "c20d13acb3df4cad883b52ab7d84abc6": {
          "model_module": "@jupyter-widgets/controls",
          "model_name": "HTMLModel",
          "model_module_version": "1.5.0",
          "state": {
            "_dom_classes": [],
            "_model_module": "@jupyter-widgets/controls",
            "_model_module_version": "1.5.0",
            "_model_name": "HTMLModel",
            "_view_count": null,
            "_view_module": "@jupyter-widgets/controls",
            "_view_module_version": "1.5.0",
            "_view_name": "HTMLView",
            "description": "",
            "description_tooltip": null,
            "layout": "IPY_MODEL_b48fc5b43b8d44d88f9506c311153a7b",
            "placeholder": "​",
            "style": "IPY_MODEL_332084a287fb4a39b9844ef752cf4c42",
            "value": "tokenizer.json: 100%"
          }
        },
        "cfe2be15b16d45f79b7eeffcfd5a791d": {
          "model_module": "@jupyter-widgets/controls",
          "model_name": "FloatProgressModel",
          "model_module_version": "1.5.0",
          "state": {
            "_dom_classes": [],
            "_model_module": "@jupyter-widgets/controls",
            "_model_module_version": "1.5.0",
            "_model_name": "FloatProgressModel",
            "_view_count": null,
            "_view_module": "@jupyter-widgets/controls",
            "_view_module_version": "1.5.0",
            "_view_name": "ProgressView",
            "bar_style": "success",
            "description": "",
            "description_tooltip": null,
            "layout": "IPY_MODEL_361505b9be1547f6bda2c9d8d87db965",
            "max": 1795303,
            "min": 0,
            "orientation": "horizontal",
            "style": "IPY_MODEL_7f7abea1afe940d38823ef64d1064b53",
            "value": 1795303
          }
        },
        "4cc29c7be5b84591938a5f8fd426224b": {
          "model_module": "@jupyter-widgets/controls",
          "model_name": "HTMLModel",
          "model_module_version": "1.5.0",
          "state": {
            "_dom_classes": [],
            "_model_module": "@jupyter-widgets/controls",
            "_model_module_version": "1.5.0",
            "_model_name": "HTMLModel",
            "_view_count": null,
            "_view_module": "@jupyter-widgets/controls",
            "_view_module_version": "1.5.0",
            "_view_name": "HTMLView",
            "description": "",
            "description_tooltip": null,
            "layout": "IPY_MODEL_c01605ed86e74725bd2011595870c66c",
            "placeholder": "​",
            "style": "IPY_MODEL_6e4c5ee161b741ddb4e6fc85a26f59a2",
            "value": " 1.80M/1.80M [00:00&lt;00:00, 15.5MB/s]"
          }
        },
        "bedb8b9b248e46eca337feaf560375eb": {
          "model_module": "@jupyter-widgets/base",
          "model_name": "LayoutModel",
          "model_module_version": "1.2.0",
          "state": {
            "_model_module": "@jupyter-widgets/base",
            "_model_module_version": "1.2.0",
            "_model_name": "LayoutModel",
            "_view_count": null,
            "_view_module": "@jupyter-widgets/base",
            "_view_module_version": "1.2.0",
            "_view_name": "LayoutView",
            "align_content": null,
            "align_items": null,
            "align_self": null,
            "border": null,
            "bottom": null,
            "display": null,
            "flex": null,
            "flex_flow": null,
            "grid_area": null,
            "grid_auto_columns": null,
            "grid_auto_flow": null,
            "grid_auto_rows": null,
            "grid_column": null,
            "grid_gap": null,
            "grid_row": null,
            "grid_template_areas": null,
            "grid_template_columns": null,
            "grid_template_rows": null,
            "height": null,
            "justify_content": null,
            "justify_items": null,
            "left": null,
            "margin": null,
            "max_height": null,
            "max_width": null,
            "min_height": null,
            "min_width": null,
            "object_fit": null,
            "object_position": null,
            "order": null,
            "overflow": null,
            "overflow_x": null,
            "overflow_y": null,
            "padding": null,
            "right": null,
            "top": null,
            "visibility": null,
            "width": null
          }
        },
        "b48fc5b43b8d44d88f9506c311153a7b": {
          "model_module": "@jupyter-widgets/base",
          "model_name": "LayoutModel",
          "model_module_version": "1.2.0",
          "state": {
            "_model_module": "@jupyter-widgets/base",
            "_model_module_version": "1.2.0",
            "_model_name": "LayoutModel",
            "_view_count": null,
            "_view_module": "@jupyter-widgets/base",
            "_view_module_version": "1.2.0",
            "_view_name": "LayoutView",
            "align_content": null,
            "align_items": null,
            "align_self": null,
            "border": null,
            "bottom": null,
            "display": null,
            "flex": null,
            "flex_flow": null,
            "grid_area": null,
            "grid_auto_columns": null,
            "grid_auto_flow": null,
            "grid_auto_rows": null,
            "grid_column": null,
            "grid_gap": null,
            "grid_row": null,
            "grid_template_areas": null,
            "grid_template_columns": null,
            "grid_template_rows": null,
            "height": null,
            "justify_content": null,
            "justify_items": null,
            "left": null,
            "margin": null,
            "max_height": null,
            "max_width": null,
            "min_height": null,
            "min_width": null,
            "object_fit": null,
            "object_position": null,
            "order": null,
            "overflow": null,
            "overflow_x": null,
            "overflow_y": null,
            "padding": null,
            "right": null,
            "top": null,
            "visibility": null,
            "width": null
          }
        },
        "332084a287fb4a39b9844ef752cf4c42": {
          "model_module": "@jupyter-widgets/controls",
          "model_name": "DescriptionStyleModel",
          "model_module_version": "1.5.0",
          "state": {
            "_model_module": "@jupyter-widgets/controls",
            "_model_module_version": "1.5.0",
            "_model_name": "DescriptionStyleModel",
            "_view_count": null,
            "_view_module": "@jupyter-widgets/base",
            "_view_module_version": "1.2.0",
            "_view_name": "StyleView",
            "description_width": ""
          }
        },
        "361505b9be1547f6bda2c9d8d87db965": {
          "model_module": "@jupyter-widgets/base",
          "model_name": "LayoutModel",
          "model_module_version": "1.2.0",
          "state": {
            "_model_module": "@jupyter-widgets/base",
            "_model_module_version": "1.2.0",
            "_model_name": "LayoutModel",
            "_view_count": null,
            "_view_module": "@jupyter-widgets/base",
            "_view_module_version": "1.2.0",
            "_view_name": "LayoutView",
            "align_content": null,
            "align_items": null,
            "align_self": null,
            "border": null,
            "bottom": null,
            "display": null,
            "flex": null,
            "flex_flow": null,
            "grid_area": null,
            "grid_auto_columns": null,
            "grid_auto_flow": null,
            "grid_auto_rows": null,
            "grid_column": null,
            "grid_gap": null,
            "grid_row": null,
            "grid_template_areas": null,
            "grid_template_columns": null,
            "grid_template_rows": null,
            "height": null,
            "justify_content": null,
            "justify_items": null,
            "left": null,
            "margin": null,
            "max_height": null,
            "max_width": null,
            "min_height": null,
            "min_width": null,
            "object_fit": null,
            "object_position": null,
            "order": null,
            "overflow": null,
            "overflow_x": null,
            "overflow_y": null,
            "padding": null,
            "right": null,
            "top": null,
            "visibility": null,
            "width": null
          }
        },
        "7f7abea1afe940d38823ef64d1064b53": {
          "model_module": "@jupyter-widgets/controls",
          "model_name": "ProgressStyleModel",
          "model_module_version": "1.5.0",
          "state": {
            "_model_module": "@jupyter-widgets/controls",
            "_model_module_version": "1.5.0",
            "_model_name": "ProgressStyleModel",
            "_view_count": null,
            "_view_module": "@jupyter-widgets/base",
            "_view_module_version": "1.2.0",
            "_view_name": "StyleView",
            "bar_color": null,
            "description_width": ""
          }
        },
        "c01605ed86e74725bd2011595870c66c": {
          "model_module": "@jupyter-widgets/base",
          "model_name": "LayoutModel",
          "model_module_version": "1.2.0",
          "state": {
            "_model_module": "@jupyter-widgets/base",
            "_model_module_version": "1.2.0",
            "_model_name": "LayoutModel",
            "_view_count": null,
            "_view_module": "@jupyter-widgets/base",
            "_view_module_version": "1.2.0",
            "_view_name": "LayoutView",
            "align_content": null,
            "align_items": null,
            "align_self": null,
            "border": null,
            "bottom": null,
            "display": null,
            "flex": null,
            "flex_flow": null,
            "grid_area": null,
            "grid_auto_columns": null,
            "grid_auto_flow": null,
            "grid_auto_rows": null,
            "grid_column": null,
            "grid_gap": null,
            "grid_row": null,
            "grid_template_areas": null,
            "grid_template_columns": null,
            "grid_template_rows": null,
            "height": null,
            "justify_content": null,
            "justify_items": null,
            "left": null,
            "margin": null,
            "max_height": null,
            "max_width": null,
            "min_height": null,
            "min_width": null,
            "object_fit": null,
            "object_position": null,
            "order": null,
            "overflow": null,
            "overflow_x": null,
            "overflow_y": null,
            "padding": null,
            "right": null,
            "top": null,
            "visibility": null,
            "width": null
          }
        },
        "6e4c5ee161b741ddb4e6fc85a26f59a2": {
          "model_module": "@jupyter-widgets/controls",
          "model_name": "DescriptionStyleModel",
          "model_module_version": "1.5.0",
          "state": {
            "_model_module": "@jupyter-widgets/controls",
            "_model_module_version": "1.5.0",
            "_model_name": "DescriptionStyleModel",
            "_view_count": null,
            "_view_module": "@jupyter-widgets/base",
            "_view_module_version": "1.2.0",
            "_view_name": "StyleView",
            "description_width": ""
          }
        },
        "a2c49013380742c5aaad312dfbfe2adb": {
          "model_module": "@jupyter-widgets/controls",
          "model_name": "HBoxModel",
          "model_module_version": "1.5.0",
          "state": {
            "_dom_classes": [],
            "_model_module": "@jupyter-widgets/controls",
            "_model_module_version": "1.5.0",
            "_model_name": "HBoxModel",
            "_view_count": null,
            "_view_module": "@jupyter-widgets/controls",
            "_view_module_version": "1.5.0",
            "_view_name": "HBoxView",
            "box_style": "",
            "children": [
              "IPY_MODEL_800447a72a9148c994e5f70ca5eb89d7",
              "IPY_MODEL_e07847a619004c808ceda03b31de601c",
              "IPY_MODEL_555f32b8428b45469567cd2885e3d341"
            ],
            "layout": "IPY_MODEL_0b1d74ce77004067960dd6e74dbabe42"
          }
        },
        "800447a72a9148c994e5f70ca5eb89d7": {
          "model_module": "@jupyter-widgets/controls",
          "model_name": "HTMLModel",
          "model_module_version": "1.5.0",
          "state": {
            "_dom_classes": [],
            "_model_module": "@jupyter-widgets/controls",
            "_model_module_version": "1.5.0",
            "_model_name": "HTMLModel",
            "_view_count": null,
            "_view_module": "@jupyter-widgets/controls",
            "_view_module_version": "1.5.0",
            "_view_name": "HTMLView",
            "description": "",
            "description_tooltip": null,
            "layout": "IPY_MODEL_ee8f3d0102f34600affbad9003cc2534",
            "placeholder": "​",
            "style": "IPY_MODEL_40c484ef43384b13aaf25e4bddd86951",
            "value": "special_tokens_map.json: 100%"
          }
        },
        "e07847a619004c808ceda03b31de601c": {
          "model_module": "@jupyter-widgets/controls",
          "model_name": "FloatProgressModel",
          "model_module_version": "1.5.0",
          "state": {
            "_dom_classes": [],
            "_model_module": "@jupyter-widgets/controls",
            "_model_module_version": "1.5.0",
            "_model_name": "FloatProgressModel",
            "_view_count": null,
            "_view_module": "@jupyter-widgets/controls",
            "_view_module_version": "1.5.0",
            "_view_name": "ProgressView",
            "bar_style": "success",
            "description": "",
            "description_tooltip": null,
            "layout": "IPY_MODEL_b42bda9cbb4c4540a81c00bebff9aa57",
            "max": 72,
            "min": 0,
            "orientation": "horizontal",
            "style": "IPY_MODEL_33ef80da77744de39e81e1e4bb74a635",
            "value": 72
          }
        },
        "555f32b8428b45469567cd2885e3d341": {
          "model_module": "@jupyter-widgets/controls",
          "model_name": "HTMLModel",
          "model_module_version": "1.5.0",
          "state": {
            "_dom_classes": [],
            "_model_module": "@jupyter-widgets/controls",
            "_model_module_version": "1.5.0",
            "_model_name": "HTMLModel",
            "_view_count": null,
            "_view_module": "@jupyter-widgets/controls",
            "_view_module_version": "1.5.0",
            "_view_name": "HTMLView",
            "description": "",
            "description_tooltip": null,
            "layout": "IPY_MODEL_33052d845e344b02bf51718afd1677c0",
            "placeholder": "​",
            "style": "IPY_MODEL_d90165de08c64a8c8033004dd6cb6d16",
            "value": " 72.0/72.0 [00:00&lt;00:00, 2.69kB/s]"
          }
        },
        "0b1d74ce77004067960dd6e74dbabe42": {
          "model_module": "@jupyter-widgets/base",
          "model_name": "LayoutModel",
          "model_module_version": "1.2.0",
          "state": {
            "_model_module": "@jupyter-widgets/base",
            "_model_module_version": "1.2.0",
            "_model_name": "LayoutModel",
            "_view_count": null,
            "_view_module": "@jupyter-widgets/base",
            "_view_module_version": "1.2.0",
            "_view_name": "LayoutView",
            "align_content": null,
            "align_items": null,
            "align_self": null,
            "border": null,
            "bottom": null,
            "display": null,
            "flex": null,
            "flex_flow": null,
            "grid_area": null,
            "grid_auto_columns": null,
            "grid_auto_flow": null,
            "grid_auto_rows": null,
            "grid_column": null,
            "grid_gap": null,
            "grid_row": null,
            "grid_template_areas": null,
            "grid_template_columns": null,
            "grid_template_rows": null,
            "height": null,
            "justify_content": null,
            "justify_items": null,
            "left": null,
            "margin": null,
            "max_height": null,
            "max_width": null,
            "min_height": null,
            "min_width": null,
            "object_fit": null,
            "object_position": null,
            "order": null,
            "overflow": null,
            "overflow_x": null,
            "overflow_y": null,
            "padding": null,
            "right": null,
            "top": null,
            "visibility": null,
            "width": null
          }
        },
        "ee8f3d0102f34600affbad9003cc2534": {
          "model_module": "@jupyter-widgets/base",
          "model_name": "LayoutModel",
          "model_module_version": "1.2.0",
          "state": {
            "_model_module": "@jupyter-widgets/base",
            "_model_module_version": "1.2.0",
            "_model_name": "LayoutModel",
            "_view_count": null,
            "_view_module": "@jupyter-widgets/base",
            "_view_module_version": "1.2.0",
            "_view_name": "LayoutView",
            "align_content": null,
            "align_items": null,
            "align_self": null,
            "border": null,
            "bottom": null,
            "display": null,
            "flex": null,
            "flex_flow": null,
            "grid_area": null,
            "grid_auto_columns": null,
            "grid_auto_flow": null,
            "grid_auto_rows": null,
            "grid_column": null,
            "grid_gap": null,
            "grid_row": null,
            "grid_template_areas": null,
            "grid_template_columns": null,
            "grid_template_rows": null,
            "height": null,
            "justify_content": null,
            "justify_items": null,
            "left": null,
            "margin": null,
            "max_height": null,
            "max_width": null,
            "min_height": null,
            "min_width": null,
            "object_fit": null,
            "object_position": null,
            "order": null,
            "overflow": null,
            "overflow_x": null,
            "overflow_y": null,
            "padding": null,
            "right": null,
            "top": null,
            "visibility": null,
            "width": null
          }
        },
        "40c484ef43384b13aaf25e4bddd86951": {
          "model_module": "@jupyter-widgets/controls",
          "model_name": "DescriptionStyleModel",
          "model_module_version": "1.5.0",
          "state": {
            "_model_module": "@jupyter-widgets/controls",
            "_model_module_version": "1.5.0",
            "_model_name": "DescriptionStyleModel",
            "_view_count": null,
            "_view_module": "@jupyter-widgets/base",
            "_view_module_version": "1.2.0",
            "_view_name": "StyleView",
            "description_width": ""
          }
        },
        "b42bda9cbb4c4540a81c00bebff9aa57": {
          "model_module": "@jupyter-widgets/base",
          "model_name": "LayoutModel",
          "model_module_version": "1.2.0",
          "state": {
            "_model_module": "@jupyter-widgets/base",
            "_model_module_version": "1.2.0",
            "_model_name": "LayoutModel",
            "_view_count": null,
            "_view_module": "@jupyter-widgets/base",
            "_view_module_version": "1.2.0",
            "_view_name": "LayoutView",
            "align_content": null,
            "align_items": null,
            "align_self": null,
            "border": null,
            "bottom": null,
            "display": null,
            "flex": null,
            "flex_flow": null,
            "grid_area": null,
            "grid_auto_columns": null,
            "grid_auto_flow": null,
            "grid_auto_rows": null,
            "grid_column": null,
            "grid_gap": null,
            "grid_row": null,
            "grid_template_areas": null,
            "grid_template_columns": null,
            "grid_template_rows": null,
            "height": null,
            "justify_content": null,
            "justify_items": null,
            "left": null,
            "margin": null,
            "max_height": null,
            "max_width": null,
            "min_height": null,
            "min_width": null,
            "object_fit": null,
            "object_position": null,
            "order": null,
            "overflow": null,
            "overflow_x": null,
            "overflow_y": null,
            "padding": null,
            "right": null,
            "top": null,
            "visibility": null,
            "width": null
          }
        },
        "33ef80da77744de39e81e1e4bb74a635": {
          "model_module": "@jupyter-widgets/controls",
          "model_name": "ProgressStyleModel",
          "model_module_version": "1.5.0",
          "state": {
            "_model_module": "@jupyter-widgets/controls",
            "_model_module_version": "1.5.0",
            "_model_name": "ProgressStyleModel",
            "_view_count": null,
            "_view_module": "@jupyter-widgets/base",
            "_view_module_version": "1.2.0",
            "_view_name": "StyleView",
            "bar_color": null,
            "description_width": ""
          }
        },
        "33052d845e344b02bf51718afd1677c0": {
          "model_module": "@jupyter-widgets/base",
          "model_name": "LayoutModel",
          "model_module_version": "1.2.0",
          "state": {
            "_model_module": "@jupyter-widgets/base",
            "_model_module_version": "1.2.0",
            "_model_name": "LayoutModel",
            "_view_count": null,
            "_view_module": "@jupyter-widgets/base",
            "_view_module_version": "1.2.0",
            "_view_name": "LayoutView",
            "align_content": null,
            "align_items": null,
            "align_self": null,
            "border": null,
            "bottom": null,
            "display": null,
            "flex": null,
            "flex_flow": null,
            "grid_area": null,
            "grid_auto_columns": null,
            "grid_auto_flow": null,
            "grid_auto_rows": null,
            "grid_column": null,
            "grid_gap": null,
            "grid_row": null,
            "grid_template_areas": null,
            "grid_template_columns": null,
            "grid_template_rows": null,
            "height": null,
            "justify_content": null,
            "justify_items": null,
            "left": null,
            "margin": null,
            "max_height": null,
            "max_width": null,
            "min_height": null,
            "min_width": null,
            "object_fit": null,
            "object_position": null,
            "order": null,
            "overflow": null,
            "overflow_x": null,
            "overflow_y": null,
            "padding": null,
            "right": null,
            "top": null,
            "visibility": null,
            "width": null
          }
        },
        "d90165de08c64a8c8033004dd6cb6d16": {
          "model_module": "@jupyter-widgets/controls",
          "model_name": "DescriptionStyleModel",
          "model_module_version": "1.5.0",
          "state": {
            "_model_module": "@jupyter-widgets/controls",
            "_model_module_version": "1.5.0",
            "_model_name": "DescriptionStyleModel",
            "_view_count": null,
            "_view_module": "@jupyter-widgets/base",
            "_view_module_version": "1.2.0",
            "_view_name": "StyleView",
            "description_width": ""
          }
        }
      }
    },
    "accelerator": "GPU"
  },
  "cells": [
    {
      "cell_type": "markdown",
      "metadata": {
        "id": "view-in-github",
        "colab_type": "text"
      },
      "source": [
        "<a href=\"https://colab.research.google.com/github/areias/slm-finetunig/blob/main/finetune_mistral.ipynb\" target=\"_parent\"><img src=\"https://colab.research.google.com/assets/colab-badge.svg\" alt=\"Open In Colab\"/></a>"
      ]
    },
    {
      "cell_type": "markdown",
      "source": [
        "#Fine-tuning Mistral-7b for relationship extraction\n",
        "\n",
        "See how mistral-7b performs at relationship extraction task before and after fine-tuning on 1000 examples."
      ],
      "metadata": {
        "id": "MSds52ZvCWLz"
      }
    },
    {
      "cell_type": "markdown",
      "source": [
        "based on\n",
        "\n",
        "[Fine-tune large models using 🤗 peft adapters, transformers & bitsandbytes](https://colab.research.google.com/drive/1jCkpikz0J2o20FBQmYmAGdiKmJGOMo-o?usp=sharing#scrollTo=WE5GJ6s7y0Xo)\n",
        "\n",
        "\n",
        "[transformers meets bitsandbytes for democratzing Large Language Models (LLMs) through 4bit quantization](https://colab.research.google.com/drive/1VoYNfYDKcKRQRor98Zbf2-9VQTtGJ24k#scrollTo=jq0nX33BmfaC)\n",
        "\n",
        "[Fine-tuning Mistral on your own data](https://github.com/brevdev/notebooks/blob/main/mistral-finetune-own-data.ipynb)\n",
        "\n",
        "[Fine-tuning Large Language Models](https://learn.deeplearning.ai/finetuning-large-language-models/lesson/1/introduction)\n",
        "\n",
        "\n",
        "[Ollama: Running GGUF Models from Hugging Face](https://www.markhneedham.com/blog/2023/10/18/ollama-hugging-face-gguf-models/)\n",
        "\n",
        "\n",
        "\n"
      ],
      "metadata": {
        "id": "KYy-QW1jstyf"
      }
    },
    {
      "cell_type": "markdown",
      "source": [
        "## Load our fine-tuning data"
      ],
      "metadata": {
        "id": "ol6dhVSPDN8M"
      }
    },
    {
      "cell_type": "code",
      "source": [
        "! pip install -q peft\n",
        "! pip install -q git+https://github.com/huggingface/accelerate.git\n",
        "! pip install -q bitsandbytes\n",
        "! pip install -q transformers datasets"
      ],
      "metadata": {
        "colab": {
          "base_uri": "https://localhost:8080/"
        },
        "id": "pCSw2a-Uc6-2",
        "outputId": "9b31e6aa-5e71-4a21-d930-277b868706c3"
      },
      "execution_count": 4,
      "outputs": [
        {
          "output_type": "stream",
          "name": "stdout",
          "text": [
            "\u001b[2K     \u001b[90m━━━━━━━━━━━━━━━━━━━━━━━━━━━━━━━━━━━━━━━━\u001b[0m \u001b[32m183.4/183.4 kB\u001b[0m \u001b[31m1.6 MB/s\u001b[0m eta \u001b[36m0:00:00\u001b[0m\n",
            "\u001b[2K     \u001b[90m━━━━━━━━━━━━━━━━━━━━━━━━━━━━━━━━━━━━━━━━\u001b[0m \u001b[32m280.0/280.0 kB\u001b[0m \u001b[31m5.0 MB/s\u001b[0m eta \u001b[36m0:00:00\u001b[0m\n",
            "\u001b[?25h  Installing build dependencies ... \u001b[?25l\u001b[?25hdone\n",
            "  Getting requirements to build wheel ... \u001b[?25l\u001b[?25hdone\n",
            "  Preparing metadata (pyproject.toml) ... \u001b[?25l\u001b[?25hdone\n",
            "  Building wheel for accelerate (pyproject.toml) ... \u001b[?25l\u001b[?25hdone\n",
            "\u001b[2K     \u001b[90m━━━━━━━━━━━━━━━━━━━━━━━━━━━━━━━━━━━━━━━━\u001b[0m \u001b[32m105.0/105.0 MB\u001b[0m \u001b[31m9.3 MB/s\u001b[0m eta \u001b[36m0:00:00\u001b[0m\n",
            "\u001b[2K     \u001b[90m━━━━━━━━━━━━━━━━━━━━━━━━━━━━━━━━━━━━━━━━\u001b[0m \u001b[32m536.7/536.7 kB\u001b[0m \u001b[31m3.1 MB/s\u001b[0m eta \u001b[36m0:00:00\u001b[0m\n",
            "\u001b[2K     \u001b[90m━━━━━━━━━━━━━━━━━━━━━━━━━━━━━━━━━━━━━━━━\u001b[0m \u001b[32m116.3/116.3 kB\u001b[0m \u001b[31m15.2 MB/s\u001b[0m eta \u001b[36m0:00:00\u001b[0m\n",
            "\u001b[2K     \u001b[90m━━━━━━━━━━━━━━━━━━━━━━━━━━━━━━━━━━━━━━━━\u001b[0m \u001b[32m134.8/134.8 kB\u001b[0m \u001b[31m15.5 MB/s\u001b[0m eta \u001b[36m0:00:00\u001b[0m\n",
            "\u001b[?25h"
          ]
        }
      ]
    },
    {
      "cell_type": "code",
      "source": [
        "import sys\n",
        "sys.path.append('drive/My Drive/mistral-finetune/')"
      ],
      "metadata": {
        "id": "xX7DSX6Tf5U6"
      },
      "execution_count": 7,
      "outputs": []
    },
    {
      "cell_type": "code",
      "source": [
        "from google.colab import drive\n",
        "\n",
        "# This will prompt for authorization.\n",
        "drive.mount('/content/drive')\n"
      ],
      "metadata": {
        "colab": {
          "base_uri": "https://localhost:8080/"
        },
        "id": "CImq57GrNSpk",
        "outputId": "191a76b2-3f76-49b2-e677-9fb67ab5389d"
      },
      "execution_count": 1,
      "outputs": [
        {
          "output_type": "stream",
          "name": "stdout",
          "text": [
            "Mounted at /content/drive\n"
          ]
        }
      ]
    },
    {
      "cell_type": "code",
      "source": [
        "! ls drive/MyDrive/mistral-finetune/data"
      ],
      "metadata": {
        "colab": {
          "base_uri": "https://localhost:8080/"
        },
        "id": "M8s-mxJ2NSnO",
        "outputId": "32218b62-497d-4860-e1e2-5ddc348d5c55"
      },
      "execution_count": null,
      "outputs": [
        {
          "output_type": "stream",
          "name": "stdout",
          "text": [
            "nyt10m_finetuning-balanced.csv\tnyt10m_finetuning.csv  nyt10m_test.csv\n"
          ]
        }
      ]
    },
    {
      "cell_type": "code",
      "source": [
        "import pandas as pd\n",
        "df = pd.read_csv(\"drive/MyDrive/mistral-finetune/data/nyt10m_finetuning-balanced.csv\")"
      ],
      "metadata": {
        "id": "0ROtsw5ENSk0"
      },
      "execution_count": null,
      "outputs": []
    },
    {
      "cell_type": "code",
      "source": [
        "len(df['text'].unique())"
      ],
      "metadata": {
        "colab": {
          "base_uri": "https://localhost:8080/"
        },
        "id": "TiCQF6lbu9Yj",
        "outputId": "ac84e743-3839-4fc3-e89f-6a120cf2a22f"
      },
      "execution_count": null,
      "outputs": [
        {
          "output_type": "execute_result",
          "data": {
            "text/plain": [
              "974"
            ]
          },
          "metadata": {},
          "execution_count": 20
        }
      ]
    },
    {
      "cell_type": "code",
      "source": [
        "len(df)"
      ],
      "metadata": {
        "colab": {
          "base_uri": "https://localhost:8080/"
        },
        "id": "XBDbTBVKeDdc",
        "outputId": "113ce21c-b5f6-4e62-b6cc-26d7042f5582"
      },
      "execution_count": null,
      "outputs": [
        {
          "output_type": "execute_result",
          "data": {
            "text/plain": [
              "1452"
            ]
          },
          "metadata": {},
          "execution_count": 21
        }
      ]
    },
    {
      "cell_type": "code",
      "source": [
        "df.head()"
      ],
      "metadata": {
        "colab": {
          "base_uri": "https://localhost:8080/",
          "height": 293
        },
        "id": "aypHxSxKNSek",
        "outputId": "05e75ec9-648f-4943-a2e2-7c8bca9794c6"
      },
      "execution_count": null,
      "outputs": [
        {
          "output_type": "execute_result",
          "data": {
            "text/plain": [
              "                                                text         h_name  \\\n",
              "0  There were also performers who were born in Lo...  Johnny Rivers   \n",
              "1  Indeed , Mr. Chávez said Sunday that he wished...    Evo Morales   \n",
              "2  Indeed , Mr. Chávez said Sunday that he wished...    Evo Morales   \n",
              "3  Analysts contrast Mr. Chávez 's success at con...    Evo Morales   \n",
              "4  Ecuador 's new president , Rafael Correa , joi...    Evo Morales   \n",
              "\n",
              "      t_name                       relation  \n",
              "0  Louisiana  /people/person/place_of_birth  \n",
              "1    Bolivia     /people/person/nationality  \n",
              "2    Bolivia     /people/person/place_lived  \n",
              "3    Bolivia     /people/person/nationality  \n",
              "4    Bolivia     /people/person/nationality  "
            ],
            "text/html": [
              "\n",
              "  <div id=\"df-b61220df-a718-4e2f-b112-60ebb6e08af9\" class=\"colab-df-container\">\n",
              "    <div>\n",
              "<style scoped>\n",
              "    .dataframe tbody tr th:only-of-type {\n",
              "        vertical-align: middle;\n",
              "    }\n",
              "\n",
              "    .dataframe tbody tr th {\n",
              "        vertical-align: top;\n",
              "    }\n",
              "\n",
              "    .dataframe thead th {\n",
              "        text-align: right;\n",
              "    }\n",
              "</style>\n",
              "<table border=\"1\" class=\"dataframe\">\n",
              "  <thead>\n",
              "    <tr style=\"text-align: right;\">\n",
              "      <th></th>\n",
              "      <th>text</th>\n",
              "      <th>h_name</th>\n",
              "      <th>t_name</th>\n",
              "      <th>relation</th>\n",
              "    </tr>\n",
              "  </thead>\n",
              "  <tbody>\n",
              "    <tr>\n",
              "      <th>0</th>\n",
              "      <td>There were also performers who were born in Lo...</td>\n",
              "      <td>Johnny Rivers</td>\n",
              "      <td>Louisiana</td>\n",
              "      <td>/people/person/place_of_birth</td>\n",
              "    </tr>\n",
              "    <tr>\n",
              "      <th>1</th>\n",
              "      <td>Indeed , Mr. Chávez said Sunday that he wished...</td>\n",
              "      <td>Evo Morales</td>\n",
              "      <td>Bolivia</td>\n",
              "      <td>/people/person/nationality</td>\n",
              "    </tr>\n",
              "    <tr>\n",
              "      <th>2</th>\n",
              "      <td>Indeed , Mr. Chávez said Sunday that he wished...</td>\n",
              "      <td>Evo Morales</td>\n",
              "      <td>Bolivia</td>\n",
              "      <td>/people/person/place_lived</td>\n",
              "    </tr>\n",
              "    <tr>\n",
              "      <th>3</th>\n",
              "      <td>Analysts contrast Mr. Chávez 's success at con...</td>\n",
              "      <td>Evo Morales</td>\n",
              "      <td>Bolivia</td>\n",
              "      <td>/people/person/nationality</td>\n",
              "    </tr>\n",
              "    <tr>\n",
              "      <th>4</th>\n",
              "      <td>Ecuador 's new president , Rafael Correa , joi...</td>\n",
              "      <td>Evo Morales</td>\n",
              "      <td>Bolivia</td>\n",
              "      <td>/people/person/nationality</td>\n",
              "    </tr>\n",
              "  </tbody>\n",
              "</table>\n",
              "</div>\n",
              "    <div class=\"colab-df-buttons\">\n",
              "\n",
              "  <div class=\"colab-df-container\">\n",
              "    <button class=\"colab-df-convert\" onclick=\"convertToInteractive('df-b61220df-a718-4e2f-b112-60ebb6e08af9')\"\n",
              "            title=\"Convert this dataframe to an interactive table.\"\n",
              "            style=\"display:none;\">\n",
              "\n",
              "  <svg xmlns=\"http://www.w3.org/2000/svg\" height=\"24px\" viewBox=\"0 -960 960 960\">\n",
              "    <path d=\"M120-120v-720h720v720H120Zm60-500h600v-160H180v160Zm220 220h160v-160H400v160Zm0 220h160v-160H400v160ZM180-400h160v-160H180v160Zm440 0h160v-160H620v160ZM180-180h160v-160H180v160Zm440 0h160v-160H620v160Z\"/>\n",
              "  </svg>\n",
              "    </button>\n",
              "\n",
              "  <style>\n",
              "    .colab-df-container {\n",
              "      display:flex;\n",
              "      gap: 12px;\n",
              "    }\n",
              "\n",
              "    .colab-df-convert {\n",
              "      background-color: #E8F0FE;\n",
              "      border: none;\n",
              "      border-radius: 50%;\n",
              "      cursor: pointer;\n",
              "      display: none;\n",
              "      fill: #1967D2;\n",
              "      height: 32px;\n",
              "      padding: 0 0 0 0;\n",
              "      width: 32px;\n",
              "    }\n",
              "\n",
              "    .colab-df-convert:hover {\n",
              "      background-color: #E2EBFA;\n",
              "      box-shadow: 0px 1px 2px rgba(60, 64, 67, 0.3), 0px 1px 3px 1px rgba(60, 64, 67, 0.15);\n",
              "      fill: #174EA6;\n",
              "    }\n",
              "\n",
              "    .colab-df-buttons div {\n",
              "      margin-bottom: 4px;\n",
              "    }\n",
              "\n",
              "    [theme=dark] .colab-df-convert {\n",
              "      background-color: #3B4455;\n",
              "      fill: #D2E3FC;\n",
              "    }\n",
              "\n",
              "    [theme=dark] .colab-df-convert:hover {\n",
              "      background-color: #434B5C;\n",
              "      box-shadow: 0px 1px 3px 1px rgba(0, 0, 0, 0.15);\n",
              "      filter: drop-shadow(0px 1px 2px rgba(0, 0, 0, 0.3));\n",
              "      fill: #FFFFFF;\n",
              "    }\n",
              "  </style>\n",
              "\n",
              "    <script>\n",
              "      const buttonEl =\n",
              "        document.querySelector('#df-b61220df-a718-4e2f-b112-60ebb6e08af9 button.colab-df-convert');\n",
              "      buttonEl.style.display =\n",
              "        google.colab.kernel.accessAllowed ? 'block' : 'none';\n",
              "\n",
              "      async function convertToInteractive(key) {\n",
              "        const element = document.querySelector('#df-b61220df-a718-4e2f-b112-60ebb6e08af9');\n",
              "        const dataTable =\n",
              "          await google.colab.kernel.invokeFunction('convertToInteractive',\n",
              "                                                    [key], {});\n",
              "        if (!dataTable) return;\n",
              "\n",
              "        const docLinkHtml = 'Like what you see? Visit the ' +\n",
              "          '<a target=\"_blank\" href=https://colab.research.google.com/notebooks/data_table.ipynb>data table notebook</a>'\n",
              "          + ' to learn more about interactive tables.';\n",
              "        element.innerHTML = '';\n",
              "        dataTable['output_type'] = 'display_data';\n",
              "        await google.colab.output.renderOutput(dataTable, element);\n",
              "        const docLink = document.createElement('div');\n",
              "        docLink.innerHTML = docLinkHtml;\n",
              "        element.appendChild(docLink);\n",
              "      }\n",
              "    </script>\n",
              "  </div>\n",
              "\n",
              "\n",
              "<div id=\"df-9f7e9671-ad5d-4e89-b0c6-e30dc3215f1d\">\n",
              "  <button class=\"colab-df-quickchart\" onclick=\"quickchart('df-9f7e9671-ad5d-4e89-b0c6-e30dc3215f1d')\"\n",
              "            title=\"Suggest charts\"\n",
              "            style=\"display:none;\">\n",
              "\n",
              "<svg xmlns=\"http://www.w3.org/2000/svg\" height=\"24px\"viewBox=\"0 0 24 24\"\n",
              "     width=\"24px\">\n",
              "    <g>\n",
              "        <path d=\"M19 3H5c-1.1 0-2 .9-2 2v14c0 1.1.9 2 2 2h14c1.1 0 2-.9 2-2V5c0-1.1-.9-2-2-2zM9 17H7v-7h2v7zm4 0h-2V7h2v10zm4 0h-2v-4h2v4z\"/>\n",
              "    </g>\n",
              "</svg>\n",
              "  </button>\n",
              "\n",
              "<style>\n",
              "  .colab-df-quickchart {\n",
              "      --bg-color: #E8F0FE;\n",
              "      --fill-color: #1967D2;\n",
              "      --hover-bg-color: #E2EBFA;\n",
              "      --hover-fill-color: #174EA6;\n",
              "      --disabled-fill-color: #AAA;\n",
              "      --disabled-bg-color: #DDD;\n",
              "  }\n",
              "\n",
              "  [theme=dark] .colab-df-quickchart {\n",
              "      --bg-color: #3B4455;\n",
              "      --fill-color: #D2E3FC;\n",
              "      --hover-bg-color: #434B5C;\n",
              "      --hover-fill-color: #FFFFFF;\n",
              "      --disabled-bg-color: #3B4455;\n",
              "      --disabled-fill-color: #666;\n",
              "  }\n",
              "\n",
              "  .colab-df-quickchart {\n",
              "    background-color: var(--bg-color);\n",
              "    border: none;\n",
              "    border-radius: 50%;\n",
              "    cursor: pointer;\n",
              "    display: none;\n",
              "    fill: var(--fill-color);\n",
              "    height: 32px;\n",
              "    padding: 0;\n",
              "    width: 32px;\n",
              "  }\n",
              "\n",
              "  .colab-df-quickchart:hover {\n",
              "    background-color: var(--hover-bg-color);\n",
              "    box-shadow: 0 1px 2px rgba(60, 64, 67, 0.3), 0 1px 3px 1px rgba(60, 64, 67, 0.15);\n",
              "    fill: var(--button-hover-fill-color);\n",
              "  }\n",
              "\n",
              "  .colab-df-quickchart-complete:disabled,\n",
              "  .colab-df-quickchart-complete:disabled:hover {\n",
              "    background-color: var(--disabled-bg-color);\n",
              "    fill: var(--disabled-fill-color);\n",
              "    box-shadow: none;\n",
              "  }\n",
              "\n",
              "  .colab-df-spinner {\n",
              "    border: 2px solid var(--fill-color);\n",
              "    border-color: transparent;\n",
              "    border-bottom-color: var(--fill-color);\n",
              "    animation:\n",
              "      spin 1s steps(1) infinite;\n",
              "  }\n",
              "\n",
              "  @keyframes spin {\n",
              "    0% {\n",
              "      border-color: transparent;\n",
              "      border-bottom-color: var(--fill-color);\n",
              "      border-left-color: var(--fill-color);\n",
              "    }\n",
              "    20% {\n",
              "      border-color: transparent;\n",
              "      border-left-color: var(--fill-color);\n",
              "      border-top-color: var(--fill-color);\n",
              "    }\n",
              "    30% {\n",
              "      border-color: transparent;\n",
              "      border-left-color: var(--fill-color);\n",
              "      border-top-color: var(--fill-color);\n",
              "      border-right-color: var(--fill-color);\n",
              "    }\n",
              "    40% {\n",
              "      border-color: transparent;\n",
              "      border-right-color: var(--fill-color);\n",
              "      border-top-color: var(--fill-color);\n",
              "    }\n",
              "    60% {\n",
              "      border-color: transparent;\n",
              "      border-right-color: var(--fill-color);\n",
              "    }\n",
              "    80% {\n",
              "      border-color: transparent;\n",
              "      border-right-color: var(--fill-color);\n",
              "      border-bottom-color: var(--fill-color);\n",
              "    }\n",
              "    90% {\n",
              "      border-color: transparent;\n",
              "      border-bottom-color: var(--fill-color);\n",
              "    }\n",
              "  }\n",
              "</style>\n",
              "\n",
              "  <script>\n",
              "    async function quickchart(key) {\n",
              "      const quickchartButtonEl =\n",
              "        document.querySelector('#' + key + ' button');\n",
              "      quickchartButtonEl.disabled = true;  // To prevent multiple clicks.\n",
              "      quickchartButtonEl.classList.add('colab-df-spinner');\n",
              "      try {\n",
              "        const charts = await google.colab.kernel.invokeFunction(\n",
              "            'suggestCharts', [key], {});\n",
              "      } catch (error) {\n",
              "        console.error('Error during call to suggestCharts:', error);\n",
              "      }\n",
              "      quickchartButtonEl.classList.remove('colab-df-spinner');\n",
              "      quickchartButtonEl.classList.add('colab-df-quickchart-complete');\n",
              "    }\n",
              "    (() => {\n",
              "      let quickchartButtonEl =\n",
              "        document.querySelector('#df-9f7e9671-ad5d-4e89-b0c6-e30dc3215f1d button');\n",
              "      quickchartButtonEl.style.display =\n",
              "        google.colab.kernel.accessAllowed ? 'block' : 'none';\n",
              "    })();\n",
              "  </script>\n",
              "</div>\n",
              "    </div>\n",
              "  </div>\n"
            ],
            "application/vnd.google.colaboratory.intrinsic+json": {
              "type": "dataframe",
              "variable_name": "df",
              "summary": "{\n  \"name\": \"df\",\n  \"rows\": 1452,\n  \"fields\": [\n    {\n      \"column\": \"text\",\n      \"properties\": {\n        \"dtype\": \"string\",\n        \"num_unique_values\": 974,\n        \"samples\": [\n          \"And in Mexico , rumors abound about development in a remote area of Baja California known as Scorpion Bay .\",\n          \"Hassan Dahir , the vice president of Puntland , a semiautonomous region of Somalia , said eight Islamist militants had been killed , including one who was an American citizen , according to documents found on his body .\",\n          \"PUNAK -- Randy M. , 53 of NYC died March 5 , 2007 in Paris , France .\"\n        ],\n        \"semantic_type\": \"\",\n        \"description\": \"\"\n      }\n    },\n    {\n      \"column\": \"h_name\",\n      \"properties\": {\n        \"dtype\": \"string\",\n        \"num_unique_values\": 734,\n        \"samples\": [\n          \"Equinix\",\n          \"Havana\",\n          \"Oceanport\"\n        ],\n        \"semantic_type\": \"\",\n        \"description\": \"\"\n      }\n    },\n    {\n      \"column\": \"t_name\",\n      \"properties\": {\n        \"dtype\": \"category\",\n        \"num_unique_values\": 442,\n        \"samples\": [\n          \"PCCW\",\n          \"Troma Entertainment\",\n          \"Ontario\"\n        ],\n        \"semantic_type\": \"\",\n        \"description\": \"\"\n      }\n    },\n    {\n      \"column\": \"relation\",\n      \"properties\": {\n        \"dtype\": \"category\",\n        \"num_unique_values\": 10,\n        \"samples\": [\n          \"/location/administrative_division/country\",\n          \"/people/person/nationality\",\n          \"/business/company/advisors\"\n        ],\n        \"semantic_type\": \"\",\n        \"description\": \"\"\n      }\n    }\n  ]\n}"
            }
          },
          "metadata": {},
          "execution_count": 22
        }
      ]
    },
    {
      "cell_type": "code",
      "source": [
        "df.loc[df['relation'].isna(),'relation']=\"None\""
      ],
      "metadata": {
        "id": "agWiWweV1KSF"
      },
      "execution_count": null,
      "outputs": []
    },
    {
      "cell_type": "code",
      "source": [
        "sentence=df['text'].unique()[31]\n",
        "sentence"
      ],
      "metadata": {
        "colab": {
          "base_uri": "https://localhost:8080/",
          "height": 87
        },
        "id": "HOEsvRNrvEAL",
        "outputId": "15b9c98a-1757-4779-f7fc-f61840e0552c"
      },
      "execution_count": null,
      "outputs": [
        {
          "output_type": "execute_result",
          "data": {
            "text/plain": [
              "\"Among the mourners were Queen Sofía of Spain and Bernadette Chirac , the wife of President Jacques Chirac of France , President Ilham Aliyev of Azerbaijan and young cellists , bearing witness to Mr. Rostropovich 's reputation as a man of the world whose appeal cut across class lines .\""
            ],
            "application/vnd.google.colaboratory.intrinsic+json": {
              "type": "string"
            }
          },
          "metadata": {},
          "execution_count": 24
        }
      ]
    },
    {
      "cell_type": "code",
      "source": [
        "df.relation.value_counts() / len(df)"
      ],
      "metadata": {
        "colab": {
          "base_uri": "https://localhost:8080/"
        },
        "id": "uGQDXpcSbV40",
        "outputId": "3134e93e-9831-462e-8155-c44b68f08053"
      },
      "execution_count": null,
      "outputs": [
        {
          "output_type": "execute_result",
          "data": {
            "text/plain": [
              "/people/person/place_lived                    0.176997\n",
              "/location/located_in                          0.153581\n",
              "/business/person/company                      0.125344\n",
              "/location/administrative_division/country     0.082645\n",
              "/people/person/nationality                    0.081956\n",
              "None                                          0.081956\n",
              "/business/location                            0.079890\n",
              "/location/country/administrative_divisions    0.066804\n",
              "/people/person/place_of_birth                 0.058540\n",
              "/business/company/advisors                    0.048898\n",
              "/people/deceasedperson/place_of_death         0.043388\n",
              "Name: relation, dtype: float64"
            ]
          },
          "metadata": {},
          "execution_count": 25
        }
      ]
    },
    {
      "cell_type": "code",
      "source": [
        "df[df['text']==sentence]"
      ],
      "metadata": {
        "id": "IoJvU-u6yJnw",
        "outputId": "591a3e16-bae6-4f13-efd1-31291ab7a647",
        "colab": {
          "base_uri": "https://localhost:8080/",
          "height": 244
        }
      },
      "execution_count": null,
      "outputs": [
        {
          "output_type": "execute_result",
          "data": {
            "text/plain": [
              "                                                  text             h_name  \\\n",
              "45   Among the mourners were Queen Sofía of Spain a...     Jacques Chirac   \n",
              "46   Among the mourners were Queen Sofía of Spain a...     Jacques Chirac   \n",
              "798  Among the mourners were Queen Sofía of Spain a...  Bernadette Chirac   \n",
              "799  Among the mourners were Queen Sofía of Spain a...  Bernadette Chirac   \n",
              "\n",
              "     t_name                    relation  \n",
              "45   France  /people/person/nationality  \n",
              "46   France  /people/person/place_lived  \n",
              "798  France  /people/person/nationality  \n",
              "799  France  /people/person/place_lived  "
            ],
            "text/html": [
              "\n",
              "  <div id=\"df-8155e10b-130a-4618-b38f-7bb3b2e25eb5\" class=\"colab-df-container\">\n",
              "    <div>\n",
              "<style scoped>\n",
              "    .dataframe tbody tr th:only-of-type {\n",
              "        vertical-align: middle;\n",
              "    }\n",
              "\n",
              "    .dataframe tbody tr th {\n",
              "        vertical-align: top;\n",
              "    }\n",
              "\n",
              "    .dataframe thead th {\n",
              "        text-align: right;\n",
              "    }\n",
              "</style>\n",
              "<table border=\"1\" class=\"dataframe\">\n",
              "  <thead>\n",
              "    <tr style=\"text-align: right;\">\n",
              "      <th></th>\n",
              "      <th>text</th>\n",
              "      <th>h_name</th>\n",
              "      <th>t_name</th>\n",
              "      <th>relation</th>\n",
              "    </tr>\n",
              "  </thead>\n",
              "  <tbody>\n",
              "    <tr>\n",
              "      <th>45</th>\n",
              "      <td>Among the mourners were Queen Sofía of Spain a...</td>\n",
              "      <td>Jacques Chirac</td>\n",
              "      <td>France</td>\n",
              "      <td>/people/person/nationality</td>\n",
              "    </tr>\n",
              "    <tr>\n",
              "      <th>46</th>\n",
              "      <td>Among the mourners were Queen Sofía of Spain a...</td>\n",
              "      <td>Jacques Chirac</td>\n",
              "      <td>France</td>\n",
              "      <td>/people/person/place_lived</td>\n",
              "    </tr>\n",
              "    <tr>\n",
              "      <th>798</th>\n",
              "      <td>Among the mourners were Queen Sofía of Spain a...</td>\n",
              "      <td>Bernadette Chirac</td>\n",
              "      <td>France</td>\n",
              "      <td>/people/person/nationality</td>\n",
              "    </tr>\n",
              "    <tr>\n",
              "      <th>799</th>\n",
              "      <td>Among the mourners were Queen Sofía of Spain a...</td>\n",
              "      <td>Bernadette Chirac</td>\n",
              "      <td>France</td>\n",
              "      <td>/people/person/place_lived</td>\n",
              "    </tr>\n",
              "  </tbody>\n",
              "</table>\n",
              "</div>\n",
              "    <div class=\"colab-df-buttons\">\n",
              "\n",
              "  <div class=\"colab-df-container\">\n",
              "    <button class=\"colab-df-convert\" onclick=\"convertToInteractive('df-8155e10b-130a-4618-b38f-7bb3b2e25eb5')\"\n",
              "            title=\"Convert this dataframe to an interactive table.\"\n",
              "            style=\"display:none;\">\n",
              "\n",
              "  <svg xmlns=\"http://www.w3.org/2000/svg\" height=\"24px\" viewBox=\"0 -960 960 960\">\n",
              "    <path d=\"M120-120v-720h720v720H120Zm60-500h600v-160H180v160Zm220 220h160v-160H400v160Zm0 220h160v-160H400v160ZM180-400h160v-160H180v160Zm440 0h160v-160H620v160ZM180-180h160v-160H180v160Zm440 0h160v-160H620v160Z\"/>\n",
              "  </svg>\n",
              "    </button>\n",
              "\n",
              "  <style>\n",
              "    .colab-df-container {\n",
              "      display:flex;\n",
              "      gap: 12px;\n",
              "    }\n",
              "\n",
              "    .colab-df-convert {\n",
              "      background-color: #E8F0FE;\n",
              "      border: none;\n",
              "      border-radius: 50%;\n",
              "      cursor: pointer;\n",
              "      display: none;\n",
              "      fill: #1967D2;\n",
              "      height: 32px;\n",
              "      padding: 0 0 0 0;\n",
              "      width: 32px;\n",
              "    }\n",
              "\n",
              "    .colab-df-convert:hover {\n",
              "      background-color: #E2EBFA;\n",
              "      box-shadow: 0px 1px 2px rgba(60, 64, 67, 0.3), 0px 1px 3px 1px rgba(60, 64, 67, 0.15);\n",
              "      fill: #174EA6;\n",
              "    }\n",
              "\n",
              "    .colab-df-buttons div {\n",
              "      margin-bottom: 4px;\n",
              "    }\n",
              "\n",
              "    [theme=dark] .colab-df-convert {\n",
              "      background-color: #3B4455;\n",
              "      fill: #D2E3FC;\n",
              "    }\n",
              "\n",
              "    [theme=dark] .colab-df-convert:hover {\n",
              "      background-color: #434B5C;\n",
              "      box-shadow: 0px 1px 3px 1px rgba(0, 0, 0, 0.15);\n",
              "      filter: drop-shadow(0px 1px 2px rgba(0, 0, 0, 0.3));\n",
              "      fill: #FFFFFF;\n",
              "    }\n",
              "  </style>\n",
              "\n",
              "    <script>\n",
              "      const buttonEl =\n",
              "        document.querySelector('#df-8155e10b-130a-4618-b38f-7bb3b2e25eb5 button.colab-df-convert');\n",
              "      buttonEl.style.display =\n",
              "        google.colab.kernel.accessAllowed ? 'block' : 'none';\n",
              "\n",
              "      async function convertToInteractive(key) {\n",
              "        const element = document.querySelector('#df-8155e10b-130a-4618-b38f-7bb3b2e25eb5');\n",
              "        const dataTable =\n",
              "          await google.colab.kernel.invokeFunction('convertToInteractive',\n",
              "                                                    [key], {});\n",
              "        if (!dataTable) return;\n",
              "\n",
              "        const docLinkHtml = 'Like what you see? Visit the ' +\n",
              "          '<a target=\"_blank\" href=https://colab.research.google.com/notebooks/data_table.ipynb>data table notebook</a>'\n",
              "          + ' to learn more about interactive tables.';\n",
              "        element.innerHTML = '';\n",
              "        dataTable['output_type'] = 'display_data';\n",
              "        await google.colab.output.renderOutput(dataTable, element);\n",
              "        const docLink = document.createElement('div');\n",
              "        docLink.innerHTML = docLinkHtml;\n",
              "        element.appendChild(docLink);\n",
              "      }\n",
              "    </script>\n",
              "  </div>\n",
              "\n",
              "\n",
              "<div id=\"df-f3fdb4f7-8e50-496f-892e-310c31f288f9\">\n",
              "  <button class=\"colab-df-quickchart\" onclick=\"quickchart('df-f3fdb4f7-8e50-496f-892e-310c31f288f9')\"\n",
              "            title=\"Suggest charts\"\n",
              "            style=\"display:none;\">\n",
              "\n",
              "<svg xmlns=\"http://www.w3.org/2000/svg\" height=\"24px\"viewBox=\"0 0 24 24\"\n",
              "     width=\"24px\">\n",
              "    <g>\n",
              "        <path d=\"M19 3H5c-1.1 0-2 .9-2 2v14c0 1.1.9 2 2 2h14c1.1 0 2-.9 2-2V5c0-1.1-.9-2-2-2zM9 17H7v-7h2v7zm4 0h-2V7h2v10zm4 0h-2v-4h2v4z\"/>\n",
              "    </g>\n",
              "</svg>\n",
              "  </button>\n",
              "\n",
              "<style>\n",
              "  .colab-df-quickchart {\n",
              "      --bg-color: #E8F0FE;\n",
              "      --fill-color: #1967D2;\n",
              "      --hover-bg-color: #E2EBFA;\n",
              "      --hover-fill-color: #174EA6;\n",
              "      --disabled-fill-color: #AAA;\n",
              "      --disabled-bg-color: #DDD;\n",
              "  }\n",
              "\n",
              "  [theme=dark] .colab-df-quickchart {\n",
              "      --bg-color: #3B4455;\n",
              "      --fill-color: #D2E3FC;\n",
              "      --hover-bg-color: #434B5C;\n",
              "      --hover-fill-color: #FFFFFF;\n",
              "      --disabled-bg-color: #3B4455;\n",
              "      --disabled-fill-color: #666;\n",
              "  }\n",
              "\n",
              "  .colab-df-quickchart {\n",
              "    background-color: var(--bg-color);\n",
              "    border: none;\n",
              "    border-radius: 50%;\n",
              "    cursor: pointer;\n",
              "    display: none;\n",
              "    fill: var(--fill-color);\n",
              "    height: 32px;\n",
              "    padding: 0;\n",
              "    width: 32px;\n",
              "  }\n",
              "\n",
              "  .colab-df-quickchart:hover {\n",
              "    background-color: var(--hover-bg-color);\n",
              "    box-shadow: 0 1px 2px rgba(60, 64, 67, 0.3), 0 1px 3px 1px rgba(60, 64, 67, 0.15);\n",
              "    fill: var(--button-hover-fill-color);\n",
              "  }\n",
              "\n",
              "  .colab-df-quickchart-complete:disabled,\n",
              "  .colab-df-quickchart-complete:disabled:hover {\n",
              "    background-color: var(--disabled-bg-color);\n",
              "    fill: var(--disabled-fill-color);\n",
              "    box-shadow: none;\n",
              "  }\n",
              "\n",
              "  .colab-df-spinner {\n",
              "    border: 2px solid var(--fill-color);\n",
              "    border-color: transparent;\n",
              "    border-bottom-color: var(--fill-color);\n",
              "    animation:\n",
              "      spin 1s steps(1) infinite;\n",
              "  }\n",
              "\n",
              "  @keyframes spin {\n",
              "    0% {\n",
              "      border-color: transparent;\n",
              "      border-bottom-color: var(--fill-color);\n",
              "      border-left-color: var(--fill-color);\n",
              "    }\n",
              "    20% {\n",
              "      border-color: transparent;\n",
              "      border-left-color: var(--fill-color);\n",
              "      border-top-color: var(--fill-color);\n",
              "    }\n",
              "    30% {\n",
              "      border-color: transparent;\n",
              "      border-left-color: var(--fill-color);\n",
              "      border-top-color: var(--fill-color);\n",
              "      border-right-color: var(--fill-color);\n",
              "    }\n",
              "    40% {\n",
              "      border-color: transparent;\n",
              "      border-right-color: var(--fill-color);\n",
              "      border-top-color: var(--fill-color);\n",
              "    }\n",
              "    60% {\n",
              "      border-color: transparent;\n",
              "      border-right-color: var(--fill-color);\n",
              "    }\n",
              "    80% {\n",
              "      border-color: transparent;\n",
              "      border-right-color: var(--fill-color);\n",
              "      border-bottom-color: var(--fill-color);\n",
              "    }\n",
              "    90% {\n",
              "      border-color: transparent;\n",
              "      border-bottom-color: var(--fill-color);\n",
              "    }\n",
              "  }\n",
              "</style>\n",
              "\n",
              "  <script>\n",
              "    async function quickchart(key) {\n",
              "      const quickchartButtonEl =\n",
              "        document.querySelector('#' + key + ' button');\n",
              "      quickchartButtonEl.disabled = true;  // To prevent multiple clicks.\n",
              "      quickchartButtonEl.classList.add('colab-df-spinner');\n",
              "      try {\n",
              "        const charts = await google.colab.kernel.invokeFunction(\n",
              "            'suggestCharts', [key], {});\n",
              "      } catch (error) {\n",
              "        console.error('Error during call to suggestCharts:', error);\n",
              "      }\n",
              "      quickchartButtonEl.classList.remove('colab-df-spinner');\n",
              "      quickchartButtonEl.classList.add('colab-df-quickchart-complete');\n",
              "    }\n",
              "    (() => {\n",
              "      let quickchartButtonEl =\n",
              "        document.querySelector('#df-f3fdb4f7-8e50-496f-892e-310c31f288f9 button');\n",
              "      quickchartButtonEl.style.display =\n",
              "        google.colab.kernel.accessAllowed ? 'block' : 'none';\n",
              "    })();\n",
              "  </script>\n",
              "</div>\n",
              "    </div>\n",
              "  </div>\n"
            ],
            "application/vnd.google.colaboratory.intrinsic+json": {
              "type": "dataframe",
              "summary": "{\n  \"name\": \"df[df['text']==sentence]\",\n  \"rows\": 4,\n  \"fields\": [\n    {\n      \"column\": \"text\",\n      \"properties\": {\n        \"dtype\": \"category\",\n        \"num_unique_values\": 1,\n        \"samples\": [\n          \"Among the mourners were Queen Sof\\u00eda of Spain and Bernadette Chirac , the wife of President Jacques Chirac of France , President Ilham Aliyev of Azerbaijan and young cellists , bearing witness to Mr. Rostropovich 's reputation as a man of the world whose appeal cut across class lines .\"\n        ],\n        \"semantic_type\": \"\",\n        \"description\": \"\"\n      }\n    },\n    {\n      \"column\": \"h_name\",\n      \"properties\": {\n        \"dtype\": \"string\",\n        \"num_unique_values\": 2,\n        \"samples\": [\n          \"Bernadette Chirac\"\n        ],\n        \"semantic_type\": \"\",\n        \"description\": \"\"\n      }\n    },\n    {\n      \"column\": \"t_name\",\n      \"properties\": {\n        \"dtype\": \"category\",\n        \"num_unique_values\": 1,\n        \"samples\": [\n          \"France\"\n        ],\n        \"semantic_type\": \"\",\n        \"description\": \"\"\n      }\n    },\n    {\n      \"column\": \"relation\",\n      \"properties\": {\n        \"dtype\": \"string\",\n        \"num_unique_values\": 2,\n        \"samples\": [\n          \"/people/person/place_lived\"\n        ],\n        \"semantic_type\": \"\",\n        \"description\": \"\"\n      }\n    }\n  ]\n}"
            }
          },
          "metadata": {},
          "execution_count": 26
        }
      ]
    },
    {
      "cell_type": "code",
      "source": [
        "import numpy as np\n",
        "from helper_functions import preprocess"
      ],
      "metadata": {
        "id": "kS-7Srfjvs6H"
      },
      "execution_count": null,
      "outputs": []
    },
    {
      "cell_type": "code",
      "source": [
        "# make sure works for example with no relations\n",
        "data = preprocess(df)\n",
        "data[400]"
      ],
      "metadata": {
        "colab": {
          "base_uri": "https://localhost:8080/"
        },
        "id": "oRV-deeM3yoe",
        "outputId": "ce9e28ad-f0c4-404d-cbc5-8e0613fce95b"
      },
      "execution_count": null,
      "outputs": [
        {
          "output_type": "execute_result",
          "data": {
            "text/plain": [
              "{'input': 'Yesterday , Mr. Sulzberger received support when Donald E. Graham , the chairman and chief executive of the Washington Post Company , urged investors to support the Times Company .',\n",
              " 'output': \"('Washington Post Company', '/business/company/advisors', 'Donald E. Graham'), ('Donald E. Graham', '/business/person/company', 'Washington Post Company')\"}"
            ]
          },
          "metadata": {},
          "execution_count": 29
        }
      ]
    },
    {
      "cell_type": "code",
      "source": [
        "# and exapmle with multiple relations\n",
        "data[230]"
      ],
      "metadata": {
        "colab": {
          "base_uri": "https://localhost:8080/"
        },
        "id": "O9P6cQoG2_SW",
        "outputId": "2209c994-7cc3-4706-f918-2cee578dba7c"
      },
      "execution_count": null,
      "outputs": [
        {
          "output_type": "execute_result",
          "data": {
            "text/plain": [
              "{'input': 'The Real Estate Market Though prices have risen sharply in recent years , real estate agents and developers still talk up Port St. Lucie as a Florida bargain .',\n",
              " 'output': \"('St. Lucie', '/location/located_in', 'Florida')\"}"
            ]
          },
          "metadata": {},
          "execution_count": 30
        }
      ]
    },
    {
      "cell_type": "code",
      "source": [
        "# as well as your single relation\n",
        "data[:4]"
      ],
      "metadata": {
        "colab": {
          "base_uri": "https://localhost:8080/"
        },
        "id": "LxqA50iDxOXc",
        "outputId": "edeeb0e5-a8db-432f-857f-2bdb35d5f89c"
      },
      "execution_count": null,
      "outputs": [
        {
          "output_type": "execute_result",
          "data": {
            "text/plain": [
              "[{'input': \"There were also performers who were born in Louisiana , including Lucinda Williams , Jerry Lee Lewis and Johnny Rivers , whose '' Secret Agent Man '' had a touch of bayou-country swamp-pop .\",\n",
              "  'output': \"('Johnny Rivers', '/people/person/place_of_birth', 'Louisiana'), ('Jerry Lee Lewis', '/people/person/place_of_birth', 'Louisiana')\"},\n",
              " {'input': \"Indeed , Mr. Chávez said Sunday that he wished Mr. Correa the '' best of luck '' from Venezuela , where he appeared on television with President Evo Morales of Bolivia to commemorate the opening of a milk processing plant built in western Venezuela with financing from Iran .\",\n",
              "  'output': \"('Evo Morales', '/people/person/nationality', 'Bolivia'), ('Evo Morales', '/people/person/place_lived', 'Bolivia')\"},\n",
              " {'input': \"Analysts contrast Mr. Chávez 's success at consolidating power in Venezuela with the troubles faced by President Evo Morales in Bolivia , where a constitution-writing assembly has been stalled by fractious delegates and regional power struggles .\",\n",
              "  'output': \"('Evo Morales', '/people/person/nationality', 'Bolivia')\"},\n",
              " {'input': \"Ecuador 's new president , Rafael Correa , joins not only Chávez but also Evo Morales of Bolivia and Daniel Ortega in Nicaragua .\",\n",
              "  'output': \"('Evo Morales', '/people/person/nationality', 'Bolivia')\"}]"
            ]
          },
          "metadata": {},
          "execution_count": 32
        }
      ]
    },
    {
      "cell_type": "code",
      "source": [
        "df.relation.value_counts(dropna=False)"
      ],
      "metadata": {
        "id": "EihweA1iVuWC",
        "colab": {
          "base_uri": "https://localhost:8080/"
        },
        "outputId": "e5658924-94e5-4ead-ed31-d60e62dc54c8"
      },
      "execution_count": null,
      "outputs": [
        {
          "output_type": "execute_result",
          "data": {
            "text/plain": [
              "/people/person/place_lived                    257\n",
              "/location/located_in                          223\n",
              "/business/person/company                      182\n",
              "/location/administrative_division/country     120\n",
              "/people/person/nationality                    119\n",
              "None                                          119\n",
              "/business/location                            116\n",
              "/location/country/administrative_divisions     97\n",
              "/people/person/place_of_birth                  85\n",
              "/business/company/advisors                     71\n",
              "/people/deceasedperson/place_of_death          63\n",
              "Name: relation, dtype: int64"
            ]
          },
          "metadata": {},
          "execution_count": 33
        }
      ]
    },
    {
      "cell_type": "code",
      "source": [
        "relations = np.sort(list(df.relation.unique()))\n",
        "relations = list(relations[:len(relations)-1])\n",
        "relations\n"
      ],
      "metadata": {
        "colab": {
          "base_uri": "https://localhost:8080/"
        },
        "id": "bPam1FbUbrJ9",
        "outputId": "f9fe6479-9847-40b5-9f51-be09403808e9"
      },
      "execution_count": null,
      "outputs": [
        {
          "output_type": "execute_result",
          "data": {
            "text/plain": [
              "['/business/company/advisors',\n",
              " '/business/location',\n",
              " '/business/person/company',\n",
              " '/location/administrative_division/country',\n",
              " '/location/country/administrative_divisions',\n",
              " '/location/located_in',\n",
              " '/people/deceasedperson/place_of_death',\n",
              " '/people/person/nationality',\n",
              " '/people/person/place_lived',\n",
              " '/people/person/place_of_birth']"
            ]
          },
          "metadata": {},
          "execution_count": 36
        }
      ]
    },
    {
      "cell_type": "code",
      "source": [
        "from helper_functions import formatting_func"
      ],
      "metadata": {
        "id": "6bzq7NFj7U4r"
      },
      "execution_count": null,
      "outputs": []
    },
    {
      "cell_type": "code",
      "source": [
        "print(formatting_func(data[0]))"
      ],
      "metadata": {
        "id": "MCT6ILZ7VuMO",
        "colab": {
          "base_uri": "https://localhost:8080/"
        },
        "outputId": "5119fcea-9a47-4b8c-8e86-29e340d6183c"
      },
      "execution_count": null,
      "outputs": [
        {
          "output_type": "stream",
          "name": "stdout",
          "text": [
            "[INST] You are an NLP expert tasked with entity and relation extraction. Here is a list of potential relation types: ['/business/company/advisors', '/business/location', '/business/person/company', '/location/administrative_division/country', '/location/country/administrative_divisions', '/location/located_in', '/people/deceasedperson/place_of_death', '/people/person/nationality', '/people/person/place_lived', '/people/person/place_of_birth'] \n",
            "What relations in the given list might be included in the given sentence? Make sure to use only relations from the list provided!\n",
            "The given sentence is: 'There were also performers who were born in Louisiana , including Lucinda Williams , Jerry Lee Lewis and Johnny Rivers , whose '' Secret Agent Man '' had a touch of bayou-country swamp-pop .'\n",
            "If none present, answer: None.\n",
            "Respond with relationship triples, e.g. (head entity 1, relation 1, tail entity 1), (head entity 2, relation 2, tail entity 2), (...) \n",
            "Take care, your answer is only valid if it follows the correct format! [\\INST]\n"
          ]
        }
      ]
    },
    {
      "cell_type": "code",
      "source": [
        "! pip install -q peft"
      ],
      "metadata": {
        "colab": {
          "base_uri": "https://localhost:8080/"
        },
        "id": "J-7LpotX1IFf",
        "outputId": "73bd3178-a573-49df-cb1c-a912aaeb9e24"
      },
      "execution_count": null,
      "outputs": [
        {
          "output_type": "stream",
          "name": "stdout",
          "text": [
            "\u001b[2K     \u001b[90m━━━━━━━━━━━━━━━━━━━━━━━━━━━━━━━━━━━━━━━━\u001b[0m \u001b[32m183.4/183.4 kB\u001b[0m \u001b[31m1.7 MB/s\u001b[0m eta \u001b[36m0:00:00\u001b[0m\n",
            "\u001b[2K     \u001b[90m━━━━━━━━━━━━━━━━━━━━━━━━━━━━━━━━━━━━━━━━\u001b[0m \u001b[32m280.0/280.0 kB\u001b[0m \u001b[31m5.6 MB/s\u001b[0m eta \u001b[36m0:00:00\u001b[0m\n",
            "\u001b[?25h"
          ]
        }
      ]
    },
    {
      "cell_type": "code",
      "source": [
        "pip install -q git+https://github.com/huggingface/accelerate.git\n",
        "! pip install -q bitsandbytes\n",
        "! pip install -q transformers datasets"
      ],
      "metadata": {
        "colab": {
          "base_uri": "https://localhost:8080/",
          "height": 106
        },
        "id": "UQDfdk1FzaFX",
        "outputId": "ba10017e-d9d5-43d6-a11e-aeb0566a3746"
      },
      "execution_count": 3,
      "outputs": [
        {
          "output_type": "error",
          "ename": "SyntaxError",
          "evalue": "invalid syntax (<ipython-input-3-a21bc8b0819b>, line 1)",
          "traceback": [
            "\u001b[0;36m  File \u001b[0;32m\"<ipython-input-3-a21bc8b0819b>\"\u001b[0;36m, line \u001b[0;32m1\u001b[0m\n\u001b[0;31m    pip install -q git+https://github.com/huggingface/accelerate.git\u001b[0m\n\u001b[0m        ^\u001b[0m\n\u001b[0;31mSyntaxError\u001b[0m\u001b[0;31m:\u001b[0m invalid syntax\n"
          ]
        }
      ]
    },
    {
      "cell_type": "code",
      "source": [
        "! pip install -q bitsandbytes"
      ],
      "metadata": {
        "colab": {
          "base_uri": "https://localhost:8080/"
        },
        "id": "Y0Yo2ELGzb0C",
        "outputId": "b1dea618-ed40-47aa-9973-54ee40ce65c3"
      },
      "execution_count": null,
      "outputs": [
        {
          "output_type": "stream",
          "name": "stdout",
          "text": [
            "\u001b[2K     \u001b[90m━━━━━━━━━━━━━━━━━━━━━━━━━━━━━━━━━━━━━━━━\u001b[0m \u001b[32m105.0/105.0 MB\u001b[0m \u001b[31m3.8 MB/s\u001b[0m eta \u001b[36m0:00:00\u001b[0m\n",
            "\u001b[?25h"
          ]
        }
      ]
    },
    {
      "cell_type": "code",
      "execution_count": null,
      "metadata": {
        "id": "RAiwUCYBphRV",
        "colab": {
          "base_uri": "https://localhost:8080/"
        },
        "outputId": "29cb3877-dd27-4d55-e422-38d5f71308e3"
      },
      "outputs": [
        {
          "output_type": "stream",
          "name": "stdout",
          "text": [
            "\u001b[2K     \u001b[90m━━━━━━━━━━━━━━━━━━━━━━━━━━━━━━━━━━━━━━━━\u001b[0m \u001b[32m536.7/536.7 kB\u001b[0m \u001b[31m4.0 MB/s\u001b[0m eta \u001b[36m0:00:00\u001b[0m\n",
            "\u001b[2K     \u001b[90m━━━━━━━━━━━━━━━━━━━━━━━━━━━━━━━━━━━━━━━━\u001b[0m \u001b[32m116.3/116.3 kB\u001b[0m \u001b[31m14.8 MB/s\u001b[0m eta \u001b[36m0:00:00\u001b[0m\n",
            "\u001b[2K     \u001b[90m━━━━━━━━━━━━━━━━━━━━━━━━━━━━━━━━━━━━━━━━\u001b[0m \u001b[32m134.8/134.8 kB\u001b[0m \u001b[31m17.9 MB/s\u001b[0m eta \u001b[36m0:00:00\u001b[0m\n",
            "\u001b[?25h"
          ]
        }
      ],
      "source": [
        "! pip install -q transformers datasets"
      ]
    },
    {
      "cell_type": "markdown",
      "source": [
        "## Load a quantized Mistral:instruct model"
      ],
      "metadata": {
        "id": "kuWZqB3JRUS9"
      }
    },
    {
      "cell_type": "markdown",
      "source": [
        "https://huggingface.co/docs/peft/main/en/developer_guides/quantization\n",
        "\n",
        "\n",
        "...since PEFT methods only add extra trainable parameters, this allows you to train a quantized model with a PEFT adapter on top! Combining quantization with PEFT can be a good strategy for training even the largest models on a single GPU. For example, QLoRA is a method that quantizes a model to 4-bits and then trains it with LoRA.\n",
        "\n",
        "\n",
        "bitsandbytes is a quantization library with a Transformers integration. With this integration, you can quantize a model to 8 or 4-bits and enable many other options by configuring the BitsAndBytesConfig class. For example, you can:"
      ],
      "metadata": {
        "id": "wmmB-bubPSDf"
      }
    },
    {
      "cell_type": "code",
      "source": [
        "from transformers import AutoTokenizer, AutoModelForCausalLM, BitsAndBytesConfig\n",
        "import torch"
      ],
      "metadata": {
        "id": "5h83krKnsKG-"
      },
      "execution_count": null,
      "outputs": []
    },
    {
      "cell_type": "markdown",
      "source": [
        " https://huggingface.co/docs/peft/main/en/developer_guides/quantization\n",
        "\n",
        "...For example, you can:\n",
        "\n",
        "* set load_in_4bit=True to quantize the model to 4-bits when you load it\n",
        "* set bnb_4bit_quant_type=\"nf4\" to use a special 4-bit data type for weights initialized from a normal distribution\n",
        "* set bnb_4bit_use_double_quant=True to use a nested quantization scheme to quantize the already quantized weights\n",
        "* set bnb_4bit_compute_dtype=torch.bfloat16 to use bfloat16 for faster computation"
      ],
      "metadata": {
        "id": "nummh5EBQwX1"
      }
    },
    {
      "cell_type": "code",
      "source": [
        "model_id = \"mistralai/Mistral-7B-Instruct-v0.2\"\n",
        "\n",
        "bnb_config = BitsAndBytesConfig(\n",
        "    load_in_4bit=True,\n",
        "    bnb_4bit_use_double_quant=True,\n",
        "    bnb_4bit_quant_type=\"nf4\",\n",
        "    bnb_4bit_compute_dtype=torch.bfloat16\n",
        ")\n"
      ],
      "metadata": {
        "id": "bBGal5Uz0Dpi"
      },
      "execution_count": null,
      "outputs": []
    },
    {
      "cell_type": "markdown",
      "source": [
        "Pass the config to the from_pretrained method."
      ],
      "metadata": {
        "id": "pqjzb8TkQ7rZ"
      }
    },
    {
      "cell_type": "code",
      "source": [
        "model = AutoModelForCausalLM.from_pretrained(model_id, quantization_config=bnb_config, device_map=\"auto\")"
      ],
      "metadata": {
        "colab": {
          "base_uri": "https://localhost:8080/",
          "height": 509,
          "referenced_widgets": [
            "f5b0f8e7507f40cca3bef8d695598bba",
            "f9f292decd83476197eef6ca714a52a2",
            "9099cb3d34534d59ba7430dadf22d46a",
            "38ca203a982a41d6819d706348de9ab0",
            "f9f6736b86624411afb9311357f98be1",
            "db5164af48f4423397e02c85a2900aaa",
            "9e89c37f28fd49f6a579217199d9ddde",
            "b5dac522b77e46ff9368885d9e919248",
            "9149f366f9d946fc81b1e2040106ac37",
            "8318d7428d15478d80f17976e76403b3",
            "7f9729ebe3204ceaba67380a2008b0b3",
            "067e9d7916b64e27a5a8204f9ba9159c",
            "36bf699863f5467589be5d68c6888115",
            "1b0aed69693048629869c0cbcb649d70",
            "0f9061fa690448c5b78ce9f56a0d7341",
            "f2a2b8e0fec547039ad8be0f075e8668",
            "d68f5e06479b424cb5747fe7604b0628",
            "95b63ad7b5494ab0ae05da81e14a3f54",
            "49d531d0b980489381e791370071e714",
            "0bfe52d5f857432ba13501da821a5fa7",
            "3b333c0a2d9d442c96e8a5976772fe84",
            "ad9686f766e141b7954c10cbfb5582ec",
            "f15ff8bea12040719dd1e7efb7a46803",
            "0cf32fe4be6b420a97e328cb031c4a3e",
            "a1768c004c8445398dcc43e2bf95e99c",
            "2ca63cd9e43a4412a56dfd14dfbc085c",
            "c0a1e2e9f7334b9f8cf3a95335880675",
            "49baf2502f2f435c964f5600b04ad348",
            "109be322213044489a8378150b027947",
            "c7a3dae34d094ff8a3c0b2d8ce3914fb",
            "0f31b7e60686468aabb3eaddd7f0c53d",
            "8a1cf296102d4facb940a4b8b1488803",
            "5b2cefa996224927875672ebc8cddc53",
            "3fb85c2714354dcfa6736058b10dabe5",
            "6e82912c166d45a0ab9b98526692895e",
            "0f5cc8f61dd5428abe06dc4f9e41ebd7",
            "f12413ed187e408f835f5d61d0036372",
            "048f4a6e22f143a299a1299f08c90f8c",
            "bbe85ce65d8145798a52fcfb888c982b",
            "da9c6babe9be4147a5438ebe57d9a7a6",
            "3095ff7841a442ef8b93460c05aff5e9",
            "2a733fb36585404b9362f25fe42cafa1",
            "1ff9e0dff5a1413aa22aad7758e61cf0",
            "10532673d85f4ea38a64a3dc42aba3f0",
            "b76894b00e8b4eff8729fd2ebaf264ae",
            "1e207371d80047f89b7bb29efcec2bc3",
            "b2e56e519ad2426cbf20978673421d68",
            "080d97eaf5d24381a1c3fdf73b2721d9",
            "cd8855d398f94ba1b8e2f88e5acc1f03",
            "c3fdb4613f364320919215b2be9bcf35",
            "495d73743b064ef69ae9019262f5f8d9",
            "f49c711a63bb4acebbb5afd65d831cf8",
            "5bdad4a7ec1e443d99884920d4d41df9",
            "42837151799d445a82438381b403f9d9",
            "205b6ab943ae491ea4a7966dd6af2909",
            "eac422dd2630451d9d35b174586e8c7b",
            "b03b7f0b0ba14073b720c95199b13e29",
            "fe265448aeb843f6b4bb6d32ba40df21",
            "6798c50484834884b9aca1946f113290",
            "f6631538207c453c804ef3a3c5b11ccb",
            "15a0b23534684862a1967553846b6368",
            "02cd5b7774214b9693f4d09f8d27082b",
            "c9012ef4b35949338f7bbf865c2d19e6",
            "d54d0e85a2bc4946ad6dc8c6cfdcbe49",
            "cc6608bbd2db41e589d4c21056d8a6ce",
            "0d0bb0b4c55946aaaabb5411b7a19492",
            "eae53eec06934bb2b9f6c42f52245575",
            "bf46418484c1470aae1d00172fcb3b15",
            "82e678319b51408bbcc1b6afce3a780e",
            "584ea271fcbf42618412734de94a2879",
            "15b84205c5a249fb814085e2491dcb35",
            "6c0bc23c5af74366896df4e9b2736e06",
            "554ac9f3c6e64afeb972511617abad93",
            "dd0cd0c3348a488a88fe3832123a5aaa",
            "b5ae75ecfce44664a44199012bac2f00",
            "2e452c67f50f47b59fbf50f85b7d0e25",
            "d2cbc7f6e5f943f9a425cb5bfb825db1",
            "39ce1b1327a64579855aa9bb6c8d3341",
            "32cfb2a369874a8f9b379ea336744d8e",
            "738cde6262a0400e8ebf7af3b6f4b14d",
            "610d3405f44a4d24b63abbd71ccc0aca",
            "4f0021d85bd34d2a986dea2c508c3fdd",
            "b58a5084b2974d47b985ee27e8b37656",
            "ea71b440cd454f8d9c24a8a93144bf05",
            "8552e266990142a7bf8280742b84e3dc",
            "bd079811fb364129bf85c6ff4f78fd18",
            "069fc5875e094147ae47898a2b1679de",
            "d2221c44b9a64fbb830c815539d44103"
          ]
        },
        "id": "K2iMaEKB5N7C",
        "outputId": "5a384363-ccf3-4be8-bf15-27c9fcc45cd0"
      },
      "execution_count": null,
      "outputs": [
        {
          "output_type": "stream",
          "name": "stderr",
          "text": [
            "/usr/local/lib/python3.10/dist-packages/huggingface_hub/utils/_token.py:88: UserWarning: \n",
            "The secret `HF_TOKEN` does not exist in your Colab secrets.\n",
            "To authenticate with the Hugging Face Hub, create a token in your settings tab (https://huggingface.co/settings/tokens), set it as secret in your Google Colab and restart your session.\n",
            "You will be able to reuse this secret in all of your notebooks.\n",
            "Please note that authentication is recommended but still optional to access public models or datasets.\n",
            "  warnings.warn(\n"
          ]
        },
        {
          "output_type": "display_data",
          "data": {
            "text/plain": [
              "config.json:   0%|          | 0.00/596 [00:00<?, ?B/s]"
            ],
            "application/vnd.jupyter.widget-view+json": {
              "version_major": 2,
              "version_minor": 0,
              "model_id": "f5b0f8e7507f40cca3bef8d695598bba"
            }
          },
          "metadata": {}
        },
        {
          "output_type": "display_data",
          "data": {
            "text/plain": [
              "model.safetensors.index.json:   0%|          | 0.00/25.1k [00:00<?, ?B/s]"
            ],
            "application/vnd.jupyter.widget-view+json": {
              "version_major": 2,
              "version_minor": 0,
              "model_id": "067e9d7916b64e27a5a8204f9ba9159c"
            }
          },
          "metadata": {}
        },
        {
          "output_type": "display_data",
          "data": {
            "text/plain": [
              "Downloading shards:   0%|          | 0/3 [00:00<?, ?it/s]"
            ],
            "application/vnd.jupyter.widget-view+json": {
              "version_major": 2,
              "version_minor": 0,
              "model_id": "f15ff8bea12040719dd1e7efb7a46803"
            }
          },
          "metadata": {}
        },
        {
          "output_type": "display_data",
          "data": {
            "text/plain": [
              "model-00001-of-00003.safetensors:   0%|          | 0.00/4.94G [00:00<?, ?B/s]"
            ],
            "application/vnd.jupyter.widget-view+json": {
              "version_major": 2,
              "version_minor": 0,
              "model_id": "3fb85c2714354dcfa6736058b10dabe5"
            }
          },
          "metadata": {}
        },
        {
          "output_type": "display_data",
          "data": {
            "text/plain": [
              "model-00002-of-00003.safetensors:   0%|          | 0.00/5.00G [00:00<?, ?B/s]"
            ],
            "application/vnd.jupyter.widget-view+json": {
              "version_major": 2,
              "version_minor": 0,
              "model_id": "b76894b00e8b4eff8729fd2ebaf264ae"
            }
          },
          "metadata": {}
        },
        {
          "output_type": "display_data",
          "data": {
            "text/plain": [
              "model-00003-of-00003.safetensors:   0%|          | 0.00/4.54G [00:00<?, ?B/s]"
            ],
            "application/vnd.jupyter.widget-view+json": {
              "version_major": 2,
              "version_minor": 0,
              "model_id": "eac422dd2630451d9d35b174586e8c7b"
            }
          },
          "metadata": {}
        },
        {
          "output_type": "display_data",
          "data": {
            "text/plain": [
              "Loading checkpoint shards:   0%|          | 0/3 [00:00<?, ?it/s]"
            ],
            "application/vnd.jupyter.widget-view+json": {
              "version_major": 2,
              "version_minor": 0,
              "model_id": "eae53eec06934bb2b9f6c42f52245575"
            }
          },
          "metadata": {}
        },
        {
          "output_type": "display_data",
          "data": {
            "text/plain": [
              "generation_config.json:   0%|          | 0.00/111 [00:00<?, ?B/s]"
            ],
            "application/vnd.jupyter.widget-view+json": {
              "version_major": 2,
              "version_minor": 0,
              "model_id": "39ce1b1327a64579855aa9bb6c8d3341"
            }
          },
          "metadata": {}
        }
      ]
    },
    {
      "cell_type": "markdown",
      "source": [
        "## Load tokenizer"
      ],
      "metadata": {
        "id": "G_mjxEvYRcLI"
      }
    },
    {
      "cell_type": "markdown",
      "source": [
        "https://huggingface.co/docs/transformers/en/llm_tutorial#wrong-padding-side\n",
        "\n",
        "LLMs are decoder-only architectures, meaning they continue to iterate on your input prompt. If your inputs do not have the same length, they need to be padded. Since LLMs are not trained to continue from pad tokens, your input needs to be left-padded. Make sure you also don’t forget to pass the attention mask to generate!\n",
        "\n",
        "tokenizer.pad_token = tokenizer.eos_token  # Most LLMs don't have a pad token by default\n"
      ],
      "metadata": {
        "id": "Gb3knHaXjgx7"
      }
    },
    {
      "cell_type": "code",
      "source": [
        "tokenizer = AutoTokenizer.from_pretrained(model_id,\n",
        "                                        padding_side=\"left\") # padding on left from brewdev notebook\n",
        "tokenizer.pad_token = tokenizer.eos_token\n"
      ],
      "metadata": {
        "id": "oGD3jrkqsWUe",
        "colab": {
          "base_uri": "https://localhost:8080/",
          "height": 201,
          "referenced_widgets": [
            "05a0c633056243789bf3bd50a0c4b369",
            "66c26d19caeb4bf3b588d99ea31d925e",
            "a76ee26661084da08013a4dabd44d26d",
            "ad80da6073784c74bcc1c6f85606822f",
            "1ace64d82aa64ff99773012cafb3177a",
            "ea754ed111fe48d9aa075a60fd904faa",
            "90294085872f422d90c46c3c4e9ce185",
            "fd4b7676c4a444e7830e05ad5c110bed",
            "8fbaffc07eea486e9e43738957c086b7",
            "944467cd14574f18a6e3214f0b13bbb5",
            "bd809d52664f45a29feacb402d9eab10",
            "166453f3a7204df09dd737e00d46c787",
            "88d67f7e31554eb4b8f570945cb9a1d2",
            "8879763f36a34a56b7d901d7fd75dea6",
            "8487a995eec24403a14658b104704ae9",
            "4f26bfffdca6457581aeebf706b4b84f",
            "a51f73b07daf4f4fa3a352c841c892f5",
            "328eca4b30cf4ec183aead8ff12b9c35",
            "d07c5694ee064b9ea0568f719a73cc6e",
            "44a91a42069842b78b3d63874a02f803",
            "69f200d3718846eb99cebff92f277270",
            "ac86047a894542e4a8a9743fe872bbd8",
            "597c3bcf231441e4a5258eb870c7b4da",
            "89047b09ed5d45ac9826cd2bdfa241e9",
            "2bdb04a0d89048fc8230035577cff472",
            "d2823c7a9bed4c4fbf28d08829ccfa7f",
            "0a533524b6a74453abd3cf5874d4f850",
            "5ef3a3c8e35441a6bbd0fa61863682c3",
            "f0012f44dd434b32b4db4386309be303",
            "f8f4308273f84a61bbc1471b8489dcaa",
            "a457ef6302674926a25a0dddc8a7ba4d",
            "d916bf42586f4a369b66eef96eae22b9",
            "7bfca5e577eb4c189a5993dfa60d663e",
            "73065e507b65480987941e1653ca5255",
            "1c055e78d489492fae384f6c276bff01",
            "261f08b1782344efa00acf310fceec9e",
            "ea1a952f8c0b425b9e14e22a91045cc5",
            "8de37cb9c0314171872eacc91693e903",
            "b26693a47f754a379c3ac1ae91bb055e",
            "4b032e4c874a4e1c8ee943ac24019e5e",
            "25c8e799085d4443ace90fbc7cb647b2",
            "76c9d455bb1f4e7e8de5c04d0ffeca54",
            "e9a7b2baec5e462d962f502a1d51f128",
            "aacf9cd28a88401f937df0949fb95c53"
          ]
        },
        "outputId": "c33d077c-01c7-4b5f-ce61-b4905fa1b23e"
      },
      "execution_count": null,
      "outputs": [
        {
          "output_type": "display_data",
          "data": {
            "text/plain": [
              "tokenizer_config.json:   0%|          | 0.00/1.46k [00:00<?, ?B/s]"
            ],
            "application/vnd.jupyter.widget-view+json": {
              "version_major": 2,
              "version_minor": 0,
              "model_id": "05a0c633056243789bf3bd50a0c4b369"
            }
          },
          "metadata": {}
        },
        {
          "output_type": "display_data",
          "data": {
            "text/plain": [
              "tokenizer.model:   0%|          | 0.00/493k [00:00<?, ?B/s]"
            ],
            "application/vnd.jupyter.widget-view+json": {
              "version_major": 2,
              "version_minor": 0,
              "model_id": "166453f3a7204df09dd737e00d46c787"
            }
          },
          "metadata": {}
        },
        {
          "output_type": "display_data",
          "data": {
            "text/plain": [
              "tokenizer.json:   0%|          | 0.00/1.80M [00:00<?, ?B/s]"
            ],
            "application/vnd.jupyter.widget-view+json": {
              "version_major": 2,
              "version_minor": 0,
              "model_id": "597c3bcf231441e4a5258eb870c7b4da"
            }
          },
          "metadata": {}
        },
        {
          "output_type": "display_data",
          "data": {
            "text/plain": [
              "special_tokens_map.json:   0%|          | 0.00/72.0 [00:00<?, ?B/s]"
            ],
            "application/vnd.jupyter.widget-view+json": {
              "version_major": 2,
              "version_minor": 0,
              "model_id": "73065e507b65480987941e1653ca5255"
            }
          },
          "metadata": {}
        }
      ]
    },
    {
      "cell_type": "markdown",
      "source": [
        "\n",
        "\n",
        "Now let's tokenize again with padding and truncation, and set up the tokenize function to make labels and input_ids the same. This is basically what self-supervised fine-tuning is.\n"
      ],
      "metadata": {
        "id": "bXwxRdlBgVe5"
      }
    },
    {
      "cell_type": "code",
      "source": [
        "max_length = 512 # This was an appropriate max length for my dataset\n",
        "\n",
        "def generate_and_tokenize_prompt(prompt):\n",
        "    result = tokenizer(\n",
        "        formatting_func(prompt),\n",
        "        truncation=True,\n",
        "        max_length=max_length,\n",
        "        padding=\"max_length\",\n",
        "    )\n",
        "    result[\"labels\"] = result[\"input_ids\"].copy()\n",
        "    return result"
      ],
      "metadata": {
        "id": "y6yXX_RafK-M"
      },
      "execution_count": null,
      "outputs": []
    },
    {
      "cell_type": "code",
      "source": [
        "def generate_and_tokenize_prompt(prompt):\n",
        "    return tokenizer(formatting_func(prompt))"
      ],
      "metadata": {
        "id": "I0_ZtZoBfK2D"
      },
      "execution_count": null,
      "outputs": []
    },
    {
      "cell_type": "markdown",
      "source": [
        "## Evaluate model out of the box\n",
        "\n"
      ],
      "metadata": {
        "id": "eUbYapyPbHJG"
      }
    },
    {
      "cell_type": "code",
      "source": [
        "from helper_functions import get_relations, get_tuples, get_scores"
      ],
      "metadata": {
        "id": "r8s88sMcT20R"
      },
      "execution_count": null,
      "outputs": []
    },
    {
      "cell_type": "code",
      "source": [
        "eval_prompt = formatting_func(data[230])\n",
        "print(eval_prompt)"
      ],
      "metadata": {
        "colab": {
          "base_uri": "https://localhost:8080/"
        },
        "id": "JRCuFLzPb4DK",
        "outputId": "cfc19982-65db-473e-9811-4cc41ecc090a"
      },
      "execution_count": null,
      "outputs": [
        {
          "output_type": "stream",
          "name": "stdout",
          "text": [
            "[INST] You are an NLP expert tasked with entity and relation extraction. Here is a list of potential relation types: ['/business/company/advisors', '/business/location', '/business/person/company', '/location/administrative_division/country', '/location/country/administrative_divisions', '/location/located_in', '/people/deceasedperson/place_of_death', '/people/person/nationality', '/people/person/place_lived', '/people/person/place_of_birth'] \n",
            "What relations in the given list might be included in the given sentence? Make sure to use only relations from the list provided!\n",
            "The given sentence is: 'The Real Estate Market Though prices have risen sharply in recent years , real estate agents and developers still talk up Port St. Lucie as a Florida bargain .'\n",
            "If none present, answer: None.\n",
            "Respond with relationship triples, e.g. (head entity 1, relation 1, tail entity 1), (head entity 2, relation 2, tail entity 2), (...) \n",
            "Take care, your answer is only valid if it follows the correct format! [\\INST]\n"
          ]
        }
      ]
    },
    {
      "cell_type": "code",
      "source": [
        "# Init an eval tokenizer that doesn't add padding or eos token\n",
        "eval_tokenizer = AutoTokenizer.from_pretrained(\n",
        "    model_id,\n",
        "    add_bos_token=True,\n",
        ")\n"
      ],
      "metadata": {
        "id": "6T3tB41lcGjT"
      },
      "execution_count": null,
      "outputs": []
    },
    {
      "cell_type": "markdown",
      "source": [
        "https://huggingface.co/docs/transformers/en/generation_strategies\n",
        "\n"
      ],
      "metadata": {
        "id": "SK21Hxe0k5uV"
      }
    },
    {
      "cell_type": "code",
      "source": [
        "model_input = eval_tokenizer(eval_prompt, return_tensors=\"pt\").to(\"cuda\")\n",
        "\n",
        "model.eval()\n",
        "with torch.no_grad():\n",
        "    response  = eval_tokenizer.decode(model.generate(**model_input,\n",
        "                    max_new_tokens=256, repetition_penalty=1.15,\n",
        "                    pad_token_id=eval_tokenizer.eos_token_id)[0], skip_special_tokens=True)\n",
        "    response = response.replace(eval_prompt, \"\")\n",
        "    print(response)"
      ],
      "metadata": {
        "colab": {
          "base_uri": "https://localhost:8080/"
        },
        "id": "Vq8CtOhQcMEU",
        "outputId": "e54bb2e4-b413-4ace-f2cb-655320f4c254"
      },
      "execution_count": null,
      "outputs": [
        {
          "output_type": "stream",
          "name": "stdout",
          "text": [
            " Based on the given sentence, there doesn't seem to be any explicit mention of entities or their relationships using the provided relation types. Therefore, no relation triples can be extracted directly from this sentence.\n",
            "However, we could infer that 'Port St. Lucie' is mentioned as a location within the state of 'Florida'. So, based on background knowledge, one possible relation triple could be:\n",
            "(Location: 'Port St. Lucie', relation: '/location/located_in', TailEntity: Location: 'Florida')\n"
          ]
        }
      ]
    },
    {
      "cell_type": "code",
      "source": [
        "predicted_relations = get_tuples(response.replace(eval_prompt, \"\"))\n",
        "predicted_relations"
      ],
      "metadata": {
        "id": "rMEy0M8X8kQW",
        "colab": {
          "base_uri": "https://localhost:8080/"
        },
        "outputId": "75a90b03-95c1-429f-8230-69714f53bbc0"
      },
      "execution_count": null,
      "outputs": [
        {
          "output_type": "execute_result",
          "data": {
            "text/plain": [
              "[(\"Location: 'Port St. Lucie\",\n",
              "  \"relation: '/location/located_in\",\n",
              "  \"TailEntity: Location: 'Florida\")]"
            ]
          },
          "metadata": {},
          "execution_count": 53
        }
      ]
    },
    {
      "cell_type": "code",
      "source": [
        "#predicted_relations.append(('Evo Morales', '/people/person/nationality', 'Bolivia'))"
      ],
      "metadata": {
        "id": "VxBQ0tmQ8cLX"
      },
      "execution_count": null,
      "outputs": []
    },
    {
      "cell_type": "code",
      "source": [
        "#predicted_relations"
      ],
      "metadata": {
        "id": "85hTg1a8Ig10"
      },
      "execution_count": null,
      "outputs": []
    },
    {
      "cell_type": "code",
      "source": [
        "\"\"\"import helper_functions\n",
        "from importlib import reload\n",
        "reload(helper_functions)\"\"\""
      ],
      "metadata": {
        "colab": {
          "base_uri": "https://localhost:8080/",
          "height": 35
        },
        "id": "8U6ZVf47I6bf",
        "outputId": "4924004f-16c1-4468-a95c-b0856eb9bcb8"
      },
      "execution_count": null,
      "outputs": [
        {
          "output_type": "execute_result",
          "data": {
            "text/plain": [
              "'import helper_functions\\nfrom importlib import reload\\nreload(helper_functions)'"
            ],
            "application/vnd.google.colaboratory.intrinsic+json": {
              "type": "string"
            }
          },
          "metadata": {},
          "execution_count": 58
        }
      ]
    },
    {
      "cell_type": "code",
      "source": [
        "expected_relations =helper_functions.get_relations(data[400])\n",
        "expected_relations"
      ],
      "metadata": {
        "colab": {
          "base_uri": "https://localhost:8080/"
        },
        "id": "ZanLDyNxS42r",
        "outputId": "d3c4ab12-3ae3-41aa-e4bd-29bdca494031"
      },
      "execution_count": null,
      "outputs": [
        {
          "output_type": "execute_result",
          "data": {
            "text/plain": [
              "(('Washington Post Company', '/business/company/advisors', 'Donald E. Graham'),\n",
              " ('Donald E. Graham', '/business/person/company', 'Washington Post Company'))"
            ]
          },
          "metadata": {},
          "execution_count": 59
        }
      ]
    },
    {
      "cell_type": "code",
      "source": [
        "get_scores(expected_relations, [\"None\"])"
      ],
      "metadata": {
        "colab": {
          "base_uri": "https://localhost:8080/"
        },
        "id": "XxJfWFEm8Ti9",
        "outputId": "b549081c-be36-4972-ce8e-ded74d81aec6"
      },
      "execution_count": null,
      "outputs": [
        {
          "output_type": "execute_result",
          "data": {
            "text/plain": [
              "(0.0, 0.0, 0)"
            ]
          },
          "metadata": {},
          "execution_count": 60
        }
      ]
    },
    {
      "cell_type": "code",
      "source": [
        "import locale\n",
        "def getpreferredencoding(do_setlocale = True):\n",
        "    return \"UTF-8\"\n",
        "locale.getpreferredencoding = getpreferredencoding"
      ],
      "metadata": {
        "id": "ehFFvcJwDA03"
      },
      "execution_count": null,
      "outputs": []
    },
    {
      "cell_type": "code",
      "source": [
        "\"\"\"pip install pyarrow==11.0.0\"\"\""
      ],
      "metadata": {
        "colab": {
          "base_uri": "https://localhost:8080/",
          "height": 35
        },
        "id": "0zRs-43KC6jW",
        "outputId": "161c2aff-8a7e-4445-c488-4327985161ac"
      },
      "execution_count": null,
      "outputs": [
        {
          "output_type": "execute_result",
          "data": {
            "text/plain": [
              "'pip install pyarrow==11.0.0'"
            ],
            "application/vnd.google.colaboratory.intrinsic+json": {
              "type": "string"
            }
          },
          "metadata": {},
          "execution_count": 62
        }
      ]
    },
    {
      "cell_type": "code",
      "source": [
        "from sklearn.model_selection import train_test_split\n",
        "from datasets import Dataset\n",
        "\n",
        "# Convert list of dictionaries to DataFrame\n",
        "df = pd.DataFrame(data)\n",
        "\n",
        "# Split DataFrame into train and test\n",
        "train_df, test_df = train_test_split(df, test_size=0.2, random_state=42)\n",
        "\n",
        "# Convert back to datasets\n",
        "train_dataset = Dataset.from_pandas(train_df)\n",
        "test_dataset = Dataset.from_pandas(test_df)\n",
        "\n"
      ],
      "metadata": {
        "id": "tD_mBzpgg7rY"
      },
      "execution_count": null,
      "outputs": []
    },
    {
      "cell_type": "code",
      "source": [
        "# Optionally, you can remove the pandas index column\n",
        "train_dataset = train_dataset.remove_columns('__index_level_0__')\n",
        "test_dataset = test_dataset.remove_columns('__index_level_0__')\n",
        "\n"
      ],
      "metadata": {
        "id": "M5M1JkSahu5v"
      },
      "execution_count": null,
      "outputs": []
    },
    {
      "cell_type": "code",
      "source": [
        "train_dataset"
      ],
      "metadata": {
        "colab": {
          "base_uri": "https://localhost:8080/"
        },
        "id": "yAeevXzRhBn4",
        "outputId": "20c7f206-20ee-4f08-eaa2-78f2314cf3ba"
      },
      "execution_count": null,
      "outputs": [
        {
          "output_type": "execute_result",
          "data": {
            "text/plain": [
              "Dataset({\n",
              "    features: ['input', 'output'],\n",
              "    num_rows: 779\n",
              "})"
            ]
          },
          "metadata": {},
          "execution_count": 65
        }
      ]
    },
    {
      "cell_type": "code",
      "source": [
        "tokenized_train_dataset = train_dataset.map(generate_and_tokenize_prompt)\n",
        "tokenized_test_dataset = test_dataset.map(generate_and_tokenize_prompt)"
      ],
      "metadata": {
        "colab": {
          "base_uri": "https://localhost:8080/",
          "height": 81,
          "referenced_widgets": [
            "dda84c7428e04e3c9105885704f2ab91",
            "76f96ae32aaf47df8d6f3dde2e872343",
            "7c06d16cbffb4afe869c42d8612b7bc9",
            "842bd3d153f6445db493be3af96ca8b0",
            "c4a796482c4f4a1192f85e607e1ef152",
            "0faedbcd43734417aec24a48b681594a",
            "922c27116c1e4b08bec3d85462d0df6e",
            "c836c5ebc1bf446d93db5741cdbccba2",
            "1b454ff138f64f5393ee2844e3babfbe",
            "68beec455d7c4760b3e046623a2a7691",
            "f3fa979f615646d59e51e48a7e885d4b",
            "6272e58a507742bcb56a38c46bda959e",
            "5c9f7e0beae44f698c15fbde39c03e34",
            "bc80c86b3fb54a24ba4deb982d5b8f18",
            "212eed04e4ce42eb9520ada43974d123",
            "ddc915bd716244f2931304384dbb5d52",
            "cf741a34cc914f7387502d163c17cd00",
            "f106d666a6b440fdbf2fcf11e226cf20",
            "6669324e323d43e78d0830acbffb55e2",
            "4f5ef7b6bd97431eb6f65f9043beb236",
            "e63eb32be098453bb325238aa08d26b7",
            "cce1e6d6c60a4def8d9a814afdab71a5"
          ]
        },
        "id": "q4ccG3Rrh0Y9",
        "outputId": "f7afef74-b566-4e4e-c95d-d330d1bf7d6f"
      },
      "execution_count": null,
      "outputs": [
        {
          "output_type": "display_data",
          "data": {
            "text/plain": [
              "Map:   0%|          | 0/779 [00:00<?, ? examples/s]"
            ],
            "application/vnd.jupyter.widget-view+json": {
              "version_major": 2,
              "version_minor": 0,
              "model_id": "dda84c7428e04e3c9105885704f2ab91"
            }
          },
          "metadata": {}
        },
        {
          "output_type": "display_data",
          "data": {
            "text/plain": [
              "Map:   0%|          | 0/195 [00:00<?, ? examples/s]"
            ],
            "application/vnd.jupyter.widget-view+json": {
              "version_major": 2,
              "version_minor": 0,
              "model_id": "6272e58a507742bcb56a38c46bda959e"
            }
          },
          "metadata": {}
        }
      ]
    },
    {
      "cell_type": "code",
      "source": [
        "tokenizer.decode(tokenized_train_dataset[1]['input_ids'])"
      ],
      "metadata": {
        "colab": {
          "base_uri": "https://localhost:8080/",
          "height": 226
        },
        "id": "zQQeuH6iiG1Y",
        "outputId": "1eecc3d2-7a57-490d-fbb3-399eaaa56a51"
      },
      "execution_count": null,
      "outputs": [
        {
          "output_type": "execute_result",
          "data": {
            "text/plain": [
              "\"<s> [INST] You are an NLP expert tasked with entity and relation extraction. Here is a list of potential relation types: ['/business/company/advisors', '/business/location', '/business/person/company', '/location/administrative_division/country', '/location/country/administrative_divisions', '/location/located_in', '/people/deceasedperson/place_of_death', '/people/person/nationality', '/people/person/place_lived', '/people/person/place_of_birth'] \\nWhat relations in the given list might be included in the given sentence? Make sure to use only relations from the list provided!\\nThe given sentence is: 'In 2002 , a government investigation found that Jack B. Grubman , then an analyst with Citigroup , had bragged in an e-mail message that his boss , Sanford I. Weill , had helped get his twins into the Y 's nursery school after Mr. Grubman upgraded his rating on a stock as a favor to Mr. Weill .'\\nIf none present, answer: None.\\nRespond with relationship triples, e.g. (head entity 1, relation 1, tail entity 1), (head entity 2, relation 2, tail entity 2), (...) \\nTake care, your answer is only valid if it follows the correct format! [\\\\INST]\""
            ],
            "application/vnd.google.colaboratory.intrinsic+json": {
              "type": "string"
            }
          },
          "metadata": {},
          "execution_count": 67
        }
      ]
    },
    {
      "cell_type": "code",
      "source": [
        "len(tokenized_train_dataset[1]['input_ids'])"
      ],
      "metadata": {
        "id": "LRQ4KG-QE29y",
        "colab": {
          "base_uri": "https://localhost:8080/"
        },
        "outputId": "5c94985a-23ac-4c80-9d7e-bb637dadd54a"
      },
      "execution_count": null,
      "outputs": [
        {
          "output_type": "execute_result",
          "data": {
            "text/plain": [
              "319"
            ]
          },
          "metadata": {},
          "execution_count": 68
        }
      ]
    },
    {
      "cell_type": "code",
      "source": [
        "print(tokenized_train_dataset[1]['input_ids'])"
      ],
      "metadata": {
        "colab": {
          "base_uri": "https://localhost:8080/"
        },
        "id": "sme20yTfjVTA",
        "outputId": "4d5d1b43-e1ba-46b5-fd5f-03adc42b6133"
      },
      "execution_count": null,
      "outputs": [
        {
          "output_type": "stream",
          "name": "stdout",
          "text": [
            "[1, 733, 16289, 28793, 995, 460, 396, 418, 11661, 7583, 3638, 286, 395, 9040, 304, 9378, 9237, 1774, 28723, 4003, 349, 264, 1274, 302, 4628, 9378, 4514, 28747, 5936, 28748, 25443, 28748, 17998, 28748, 316, 3225, 734, 647, 7377, 25443, 28748, 2733, 647, 7377, 25443, 28748, 9701, 28748, 17998, 647, 7377, 2733, 28748, 28181, 1197, 28730, 1538, 1522, 28748, 16912, 647, 7377, 2733, 28748, 16912, 28748, 28181, 1197, 28730, 1538, 5662, 647, 7377, 2733, 28748, 1614, 601, 28730, 262, 647, 7377, 21721, 28748, 450, 358, 1293, 9701, 28748, 2912, 28730, 1009, 28730, 450, 498, 647, 7377, 21721, 28748, 9701, 28748, 28711, 1249, 472, 647, 7377, 21721, 28748, 9701, 28748, 2912, 28730, 28714, 1975, 647, 7377, 21721, 28748, 9701, 28748, 2912, 28730, 1009, 28730, 28726, 4633, 1421, 28705, 13, 3195, 3136, 297, 272, 2078, 1274, 1659, 347, 4658, 297, 272, 2078, 12271, 28804, 6746, 1864, 298, 938, 865, 3136, 477, 272, 1274, 3857, 28808, 13, 1014, 2078, 12271, 349, 28747, 464, 657, 28705, 28750, 28734, 28734, 28750, 1200, 264, 3058, 11597, 1419, 369, 4299, 365, 28723, 1778, 437, 1294, 1200, 868, 396, 22275, 395, 16334, 326, 1099, 1200, 553, 1170, 357, 2560, 297, 396, 317, 28733, 6645, 2928, 369, 516, 10949, 1200, 3652, 4401, 315, 28723, 816, 425, 1200, 553, 6481, 625, 516, 2323, 1126, 778, 272, 627, 464, 28713, 7475, 457, 28724, 2052, 1024, 2964, 28723, 1778, 437, 1294, 582, 23189, 516, 15470, 356, 264, 5756, 390, 264, 4268, 298, 2964, 28723, 816, 425, 842, 28742, 13, 3381, 6547, 2169, 28725, 4372, 28747, 3635, 28723, 13, 1146, 19571, 395, 3758, 2629, 2815, 28725, 317, 28723, 28721, 28723, 325, 1811, 9040, 28705, 28740, 28725, 9378, 28705, 28740, 28725, 8675, 9040, 28705, 28740, 557, 325, 1811, 9040, 28705, 28750, 28725, 9378, 28705, 28750, 28725, 8675, 9040, 28705, 28750, 557, 325, 16381, 28705, 13, 19850, 1656, 28725, 574, 4372, 349, 865, 3716, 513, 378, 6104, 272, 4714, 5032, 28808, 26239, 16289, 28793]\n"
          ]
        }
      ]
    },
    {
      "cell_type": "code",
      "source": [
        "import matplotlib.pyplot as plt\n",
        "\n",
        "def plot_data_lengths(tokenized_train_dataset, tokenized_test_dataset):\n",
        "    lengths = [len(x['input_ids']) for x in tokenized_train_dataset]\n",
        "    lengths += [len(x['input_ids']) for x in tokenized_test_dataset]\n",
        "    print(len(lengths))\n",
        "\n",
        "    # Plotting the histogram\n",
        "    plt.figure(figsize=(10, 6))\n",
        "    plt.hist(lengths, bins=20, alpha=0.7, color='blue')\n",
        "    plt.xlabel('Length of input_ids')\n",
        "    plt.ylabel('Frequency')\n",
        "    plt.title('Distribution of Lengths of input_ids')\n",
        "    plt.show()\n",
        "\n",
        "plot_data_lengths(tokenized_train_dataset, tokenized_test_dataset)"
      ],
      "metadata": {
        "colab": {
          "base_uri": "https://localhost:8080/",
          "height": 520
        },
        "id": "A1SZhKDvFIOO",
        "outputId": "9901317e-6c0c-40b8-f4fc-033da29016ba"
      },
      "execution_count": null,
      "outputs": [
        {
          "output_type": "stream",
          "name": "stdout",
          "text": [
            "974\n"
          ]
        },
        {
          "output_type": "display_data",
          "data": {
            "text/plain": [
              "<Figure size 1000x600 with 1 Axes>"
            ],
            "image/png": "[encoded data removed]"
          },
          "metadata": {}
        }
      ]
    },
    {
      "cell_type": "markdown",
      "source": [
        "## Set up LoRA"
      ],
      "metadata": {
        "id": "mL2nzAnfdTMy"
      }
    },
    {
      "cell_type": "markdown",
      "source": [
        "https://www.datacamp.com/tutorial/mastering-low-rank-adaptation-lora-enhancing-large-language-models-for-efficient-adaptation\n",
        "\n",
        "LoRA is built on the understanding that large models inherently possess a low-dimensional structure. By leveraging low-rank matrices, LoRA adapts these models effectively. This method focuses on the core concept that significant model changes can be represented with fewer parameters, thus making the adaptation process more efficient.\n",
        "\n",
        "First, we decompose the large weight matrices into smaller matrices using the lower-rank matrix technique, as explained above. This drastically reduces the number of trainable parameters. For a model like GPT-3, trainable parameters are reduced by 10000 times. This means instead of training 175 billion parameters, if you apply LoRA, you only have 17.5 million trainable parameters.\n",
        "\n",
        "We do not change any parameters for a pre-trained model. Instead, only train lower-rank matrices, which happen relatively very quickly because of fewer parameters.\n",
        "\n",
        "The weights are additive. This means for inference, we just add the weights of lower-rank matrices to pre-trained weights without any additional latency. The lower-rank matrices are very small in size as well so it is very easy to load and unload them for different tasks and different users\n",
        "\n",
        "LoRA does not introduce any additional latency during inference. While low-rank matrices are used during training, they are merged with the original parameters for inference, ensuring no slowdown\n",
        "\n",
        "\n",
        "\n"
      ],
      "metadata": {
        "id": "l4mgobltgSMx"
      }
    },
    {
      "cell_type": "markdown",
      "source": [
        "Next, you should call the prepare_model_for_kbit_training() function to preprocess the quantized model for traininng."
      ],
      "metadata": {
        "id": "HRfpTV95K_G0"
      }
    },
    {
      "cell_type": "code",
      "source": [
        "from peft import prepare_model_for_kbit_training\n",
        "\n",
        "#model.gradient_checkpointing_enable()\n",
        "model = prepare_model_for_kbit_training(model)"
      ],
      "metadata": {
        "id": "WEmyEUeJrzZc"
      },
      "execution_count": null,
      "outputs": []
    },
    {
      "cell_type": "markdown",
      "source": [
        "https://huggingface.co/docs/peft/main/en/developer_guides/lora#qlora-style-training\n",
        "\n",
        "However, in QLoRA, it was found that adding trainable weights to all the linear layers of a transformer model is beneficial to match full-finetuning performance. Since the list of modules to add will vary depending on the architecture, we provided a convenient shorthand : simple specify target_modules='all-linear' and let 🤗PEFT handle the rest:"
      ],
      "metadata": {
        "id": "3EhoQo1FPb41"
      }
    },
    {
      "cell_type": "markdown",
      "source": [
        "https://huggingface.co/blog/4bit-transformers-bitsandbytes\n"
      ],
      "metadata": {
        "id": "VOkw-eBMnm7p"
      }
    },
    {
      "cell_type": "markdown",
      "source": [],
      "metadata": {
        "id": "9S_20KTJmX6W"
      }
    },
    {
      "cell_type": "code",
      "source": [
        "from peft import LoraConfig, get_peft_model\n",
        "\n",
        "config = LoraConfig(\n",
        "    r=32,\n",
        "    lora_alpha=64,\n",
        "    target_modules=\"all-linear\",\n",
        "    lora_dropout=0.05,\n",
        "    bias=\"none\",\n",
        "    task_type=\"CAUSAL_LM\"\n",
        ")\n"
      ],
      "metadata": {
        "id": "ScHXgXNU1emg"
      },
      "execution_count": null,
      "outputs": []
    },
    {
      "cell_type": "code",
      "source": [
        "def print_trainable_parameters(model):\n",
        "    \"\"\"\n",
        "    Prints the number of trainable parameters in the model.\n",
        "    \"\"\"\n",
        "    trainable_params = 0\n",
        "    all_param = 0\n",
        "    for _, param in model.named_parameters():\n",
        "        all_param += param.numel()\n",
        "        if param.requires_grad:\n",
        "            trainable_params += param.numel()\n",
        "    print(\n",
        "        f\"trainable params: {trainable_params} || all params: {all_param} || trainable%: {100 * trainable_params / all_param}\"\n",
        "    )"
      ],
      "metadata": {
        "id": "IsKDeTi61GeM"
      },
      "execution_count": null,
      "outputs": []
    },
    {
      "cell_type": "markdown",
      "source": [
        "\n",
        "\n",
        "Let's print the model to examine its layers, as we will apply QLoRA to all the linear layers of the model. Those layers are q_proj, k_proj, v_proj, o_proj, gate_proj, up_proj, down_proj, and lm_head.\n"
      ],
      "metadata": {
        "id": "2mhQAL_DaoPR"
      }
    },
    {
      "cell_type": "code",
      "source": [
        "model = get_peft_model(model, config)"
      ],
      "metadata": {
        "id": "iyhMZl1V1iwk"
      },
      "execution_count": null,
      "outputs": []
    },
    {
      "cell_type": "markdown",
      "source": [
        "https://github.com/huggingface/transformers/blob/main/src/transformers/models/mistral/modeling_mistral.py"
      ],
      "metadata": {
        "id": "WDGAhJSY2nu6"
      }
    },
    {
      "cell_type": "code",
      "source": [
        "print_trainable_parameters(model)"
      ],
      "metadata": {
        "colab": {
          "base_uri": "https://localhost:8080/"
        },
        "id": "DLtmZtxw1noF",
        "outputId": "fd6fa58e-3af5-4864-8fcb-6936915fc83f"
      },
      "execution_count": null,
      "outputs": [
        {
          "output_type": "stream",
          "name": "stdout",
          "text": [
            "trainable params: 83886080 || all params: 3835957248 || trainable%: 2.186835633888691\n"
          ]
        }
      ]
    },
    {
      "cell_type": "code",
      "source": [
        "print(model)"
      ],
      "metadata": {
        "colab": {
          "base_uri": "https://localhost:8080/"
        },
        "id": "YM2kDYOjLv_4",
        "outputId": "c18b2be6-f665-4a68-9928-87e6db6c2a4e"
      },
      "execution_count": null,
      "outputs": [
        {
          "output_type": "stream",
          "name": "stdout",
          "text": [
            "PeftModelForCausalLM(\n",
            "  (base_model): LoraModel(\n",
            "    (model): MistralForCausalLM(\n",
            "      (model): MistralModel(\n",
            "        (embed_tokens): Embedding(32000, 4096)\n",
            "        (layers): ModuleList(\n",
            "          (0-31): 32 x MistralDecoderLayer(\n",
            "            (self_attn): MistralAttention(\n",
            "              (q_proj): lora.Linear4bit(\n",
            "                (base_layer): Linear4bit(in_features=4096, out_features=4096, bias=False)\n",
            "                (lora_dropout): ModuleDict(\n",
            "                  (default): Dropout(p=0.05, inplace=False)\n",
            "                )\n",
            "                (lora_A): ModuleDict(\n",
            "                  (default): Linear(in_features=4096, out_features=32, bias=False)\n",
            "                )\n",
            "                (lora_B): ModuleDict(\n",
            "                  (default): Linear(in_features=32, out_features=4096, bias=False)\n",
            "                )\n",
            "                (lora_embedding_A): ParameterDict()\n",
            "                (lora_embedding_B): ParameterDict()\n",
            "              )\n",
            "              (k_proj): lora.Linear4bit(\n",
            "                (base_layer): Linear4bit(in_features=4096, out_features=1024, bias=False)\n",
            "                (lora_dropout): ModuleDict(\n",
            "                  (default): Dropout(p=0.05, inplace=False)\n",
            "                )\n",
            "                (lora_A): ModuleDict(\n",
            "                  (default): Linear(in_features=4096, out_features=32, bias=False)\n",
            "                )\n",
            "                (lora_B): ModuleDict(\n",
            "                  (default): Linear(in_features=32, out_features=1024, bias=False)\n",
            "                )\n",
            "                (lora_embedding_A): ParameterDict()\n",
            "                (lora_embedding_B): ParameterDict()\n",
            "              )\n",
            "              (v_proj): lora.Linear4bit(\n",
            "                (base_layer): Linear4bit(in_features=4096, out_features=1024, bias=False)\n",
            "                (lora_dropout): ModuleDict(\n",
            "                  (default): Dropout(p=0.05, inplace=False)\n",
            "                )\n",
            "                (lora_A): ModuleDict(\n",
            "                  (default): Linear(in_features=4096, out_features=32, bias=False)\n",
            "                )\n",
            "                (lora_B): ModuleDict(\n",
            "                  (default): Linear(in_features=32, out_features=1024, bias=False)\n",
            "                )\n",
            "                (lora_embedding_A): ParameterDict()\n",
            "                (lora_embedding_B): ParameterDict()\n",
            "              )\n",
            "              (o_proj): lora.Linear4bit(\n",
            "                (base_layer): Linear4bit(in_features=4096, out_features=4096, bias=False)\n",
            "                (lora_dropout): ModuleDict(\n",
            "                  (default): Dropout(p=0.05, inplace=False)\n",
            "                )\n",
            "                (lora_A): ModuleDict(\n",
            "                  (default): Linear(in_features=4096, out_features=32, bias=False)\n",
            "                )\n",
            "                (lora_B): ModuleDict(\n",
            "                  (default): Linear(in_features=32, out_features=4096, bias=False)\n",
            "                )\n",
            "                (lora_embedding_A): ParameterDict()\n",
            "                (lora_embedding_B): ParameterDict()\n",
            "              )\n",
            "              (rotary_emb): MistralRotaryEmbedding()\n",
            "            )\n",
            "            (mlp): MistralMLP(\n",
            "              (gate_proj): lora.Linear4bit(\n",
            "                (base_layer): Linear4bit(in_features=4096, out_features=14336, bias=False)\n",
            "                (lora_dropout): ModuleDict(\n",
            "                  (default): Dropout(p=0.05, inplace=False)\n",
            "                )\n",
            "                (lora_A): ModuleDict(\n",
            "                  (default): Linear(in_features=4096, out_features=32, bias=False)\n",
            "                )\n",
            "                (lora_B): ModuleDict(\n",
            "                  (default): Linear(in_features=32, out_features=14336, bias=False)\n",
            "                )\n",
            "                (lora_embedding_A): ParameterDict()\n",
            "                (lora_embedding_B): ParameterDict()\n",
            "              )\n",
            "              (up_proj): lora.Linear4bit(\n",
            "                (base_layer): Linear4bit(in_features=4096, out_features=14336, bias=False)\n",
            "                (lora_dropout): ModuleDict(\n",
            "                  (default): Dropout(p=0.05, inplace=False)\n",
            "                )\n",
            "                (lora_A): ModuleDict(\n",
            "                  (default): Linear(in_features=4096, out_features=32, bias=False)\n",
            "                )\n",
            "                (lora_B): ModuleDict(\n",
            "                  (default): Linear(in_features=32, out_features=14336, bias=False)\n",
            "                )\n",
            "                (lora_embedding_A): ParameterDict()\n",
            "                (lora_embedding_B): ParameterDict()\n",
            "              )\n",
            "              (down_proj): lora.Linear4bit(\n",
            "                (base_layer): Linear4bit(in_features=14336, out_features=4096, bias=False)\n",
            "                (lora_dropout): ModuleDict(\n",
            "                  (default): Dropout(p=0.05, inplace=False)\n",
            "                )\n",
            "                (lora_A): ModuleDict(\n",
            "                  (default): Linear(in_features=14336, out_features=32, bias=False)\n",
            "                )\n",
            "                (lora_B): ModuleDict(\n",
            "                  (default): Linear(in_features=32, out_features=4096, bias=False)\n",
            "                )\n",
            "                (lora_embedding_A): ParameterDict()\n",
            "                (lora_embedding_B): ParameterDict()\n",
            "              )\n",
            "              (act_fn): SiLU()\n",
            "            )\n",
            "            (input_layernorm): MistralRMSNorm()\n",
            "            (post_attention_layernorm): MistralRMSNorm()\n",
            "          )\n",
            "        )\n",
            "        (norm): MistralRMSNorm()\n",
            "      )\n",
            "      (lm_head): Linear(in_features=4096, out_features=32000, bias=False)\n",
            "    )\n",
            "  )\n",
            ")\n"
          ]
        }
      ]
    },
    {
      "cell_type": "markdown",
      "source": [
        "https://huggingface.co/docs/transformers/peft"
      ],
      "metadata": {
        "id": "QW_Azaqb38Mi"
      }
    },
    {
      "cell_type": "code",
      "source": [
        "!pip install -q wandb -U\n",
        "\n",
        "import wandb, os\n",
        "wandb.login()\n",
        "\n",
        "wandb_project = \"mistral-finetune\"\n",
        "if len(wandb_project) > 0:\n",
        "    os.environ[\"WANDB_PROJECT\"] = wandb_project"
      ],
      "metadata": {
        "colab": {
          "base_uri": "https://localhost:8080/",
          "height": 193
        },
        "id": "QQO_NaAvF8QH",
        "outputId": "88800ce0-901a-4e68-d8c0-c424bb71ce30"
      },
      "execution_count": null,
      "outputs": [
        {
          "output_type": "stream",
          "name": "stdout",
          "text": [
            "\u001b[2K     \u001b[90m━━━━━━━━━━━━━━━━━━━━━━━━━━━━━━━━━━━━━━━━\u001b[0m \u001b[32m2.2/2.2 MB\u001b[0m \u001b[31m9.8 MB/s\u001b[0m eta \u001b[36m0:00:00\u001b[0m\n",
            "\u001b[2K     \u001b[90m━━━━━━━━━━━━━━━━━━━━━━━━━━━━━━━━━━━━━━━━\u001b[0m \u001b[32m195.4/195.4 kB\u001b[0m \u001b[31m18.5 MB/s\u001b[0m eta \u001b[36m0:00:00\u001b[0m\n",
            "\u001b[2K     \u001b[90m━━━━━━━━━━━━━━━━━━━━━━━━━━━━━━━━━━━━━━━━\u001b[0m \u001b[32m258.5/258.5 kB\u001b[0m \u001b[31m18.7 MB/s\u001b[0m eta \u001b[36m0:00:00\u001b[0m\n",
            "\u001b[2K     \u001b[90m━━━━━━━━━━━━━━━━━━━━━━━━━━━━━━━━━━━━━━━━\u001b[0m \u001b[32m62.7/62.7 kB\u001b[0m \u001b[31m7.4 MB/s\u001b[0m eta \u001b[36m0:00:00\u001b[0m\n",
            "\u001b[?25h"
          ]
        },
        {
          "output_type": "display_data",
          "data": {
            "text/plain": [
              "<IPython.core.display.Javascript object>"
            ],
            "application/javascript": [
              "\n",
              "        window._wandbApiKey = new Promise((resolve, reject) => {\n",
              "            function loadScript(url) {\n",
              "            return new Promise(function(resolve, reject) {\n",
              "                let newScript = document.createElement(\"script\");\n",
              "                newScript.onerror = reject;\n",
              "                newScript.onload = resolve;\n",
              "                document.body.appendChild(newScript);\n",
              "                newScript.src = url;\n",
              "            });\n",
              "            }\n",
              "            loadScript(\"https://cdn.jsdelivr.net/npm/postmate/build/postmate.min.js\").then(() => {\n",
              "            const iframe = document.createElement('iframe')\n",
              "            iframe.style.cssText = \"width:0;height:0;border:none\"\n",
              "            document.body.appendChild(iframe)\n",
              "            const handshake = new Postmate({\n",
              "                container: iframe,\n",
              "                url: 'https://wandb.ai/authorize'\n",
              "            });\n",
              "            const timeout = setTimeout(() => reject(\"Couldn't auto authenticate\"), 5000)\n",
              "            handshake.then(function(child) {\n",
              "                child.on('authorize', data => {\n",
              "                    clearTimeout(timeout)\n",
              "                    resolve(data)\n",
              "                });\n",
              "            });\n",
              "            })\n",
              "        });\n",
              "    "
            ]
          },
          "metadata": {}
        },
        {
          "output_type": "stream",
          "name": "stderr",
          "text": [
            "\u001b[34m\u001b[1mwandb\u001b[0m: Logging into wandb.ai. (Learn how to deploy a W&B server locally: https://wandb.me/wandb-server)\n",
            "\u001b[34m\u001b[1mwandb\u001b[0m: You can find your API key in your browser here: https://wandb.ai/authorize\n",
            "wandb: Paste an API key from your profile and hit enter, or press ctrl+c to quit:"
          ]
        },
        {
          "name": "stdout",
          "output_type": "stream",
          "text": [
            " ··········\n"
          ]
        },
        {
          "output_type": "stream",
          "name": "stderr",
          "text": [
            "\u001b[34m\u001b[1mwandb\u001b[0m: Appending key for api.wandb.ai to your netrc file: /root/.netrc\n"
          ]
        }
      ]
    },
    {
      "cell_type": "code",
      "source": [
        "! ls drive/MyDrive/mistral-finetune/"
      ],
      "metadata": {
        "colab": {
          "base_uri": "https://localhost:8080/"
        },
        "id": "EjkYxg_WHCIa",
        "outputId": "5bdcfdba-15a7-42bc-c534-8b210901523e"
      },
      "execution_count": null,
      "outputs": [
        {
          "output_type": "stream",
          "name": "stdout",
          "text": [
            "checkpoint-500\thelper_functions.py\t       mistral-finetuning-data.json\n",
            "data\t\tmistral-finetuning-data2.json  __pycache__\n"
          ]
        }
      ]
    },
    {
      "cell_type": "code",
      "source": [
        "#mkdir drive/MyDrive/mistral-finetune/runs"
      ],
      "metadata": {
        "id": "Q61w65e6HOqq"
      },
      "execution_count": null,
      "outputs": []
    },
    {
      "cell_type": "code",
      "source": [
        "#mkdir drive/MyDrive/mistral-finetune/runs/logs"
      ],
      "metadata": {
        "id": "5pdDpUXUHyXE"
      },
      "execution_count": null,
      "outputs": []
    },
    {
      "cell_type": "code",
      "source": [
        "\n",
        "project = \"relation-extraction-finetune\"\n",
        "base_model_name = \"mistral7b\"\n",
        "run_name = base_model_name + \"-\" + project + \"_3\"\n",
        "output_dir = \"drive/MyDrive/mistral-finetune/runs/\" + run_name\n"
      ],
      "metadata": {
        "id": "Xwnxw2lPGKxX"
      },
      "execution_count": null,
      "outputs": []
    },
    {
      "cell_type": "markdown",
      "source": [
        "https://huggingface.co/docs/peft/main/en/conceptual_guides/lora#common-lora-parameters-in-peft\n",
        "\n"
      ],
      "metadata": {
        "id": "3Z9BHtfRK9_2"
      }
    },
    {
      "cell_type": "code",
      "source": [
        "output_dir"
      ],
      "metadata": {
        "colab": {
          "base_uri": "https://localhost:8080/",
          "height": 35
        },
        "id": "dnbC8NLAK9sm",
        "outputId": "00ca50ad-86c0-424a-9b18-338044018396"
      },
      "execution_count": null,
      "outputs": [
        {
          "output_type": "execute_result",
          "data": {
            "text/plain": [
              "'drive/MyDrive/mistral-finetune/runs/mistral7b-relation-extraction-finetune_3'"
            ],
            "application/vnd.google.colaboratory.intrinsic+json": {
              "type": "string"
            }
          },
          "metadata": {},
          "execution_count": 82
        }
      ]
    },
    {
      "cell_type": "markdown",
      "source": [
        "bf16 gives error ValueError: Your setup doesn't support bf16/gpu. You need torch>=1.10, using Ampere GPU with cuda>=11.0"
      ],
      "metadata": {
        "id": "j7Bw0NJVRCbU"
      }
    },
    {
      "cell_type": "markdown",
      "source": [
        "https://ai.google.dev/gemma/docs/lora_tuning#lora_fine-tuning\n",
        "\n",
        "The LoRA rank determines the dimensionality of the trainable matrices that are added to the original weights of the LLM. It controls the expressiveness and precision of the fine-tuning adjustments.\n",
        "\n",
        "A higher rank means more detailed changes are possible, but also means more trainable parameters. A lower rank means less computational overhead, but potentially less precise adaptation.\n",
        "\n",
        "This tutorial uses a LoRA rank of 4. In practice, begin with a relatively small rank (such as 4, 8, 16). This is computationally efficient for experimentation. Train your model with this rank and evaluate the performance improvement on your task. Gradually increase the rank in subsequent trials and see if that further boosts performance."
      ],
      "metadata": {
        "id": "YipIp6repJKH"
      }
    },
    {
      "cell_type": "code",
      "source": [
        "from datetime import datetime\n",
        "import transformers\n",
        "\n",
        "trainer = transformers.Trainer(\n",
        "    model=model,\n",
        "    train_dataset=tokenized_train_dataset,\n",
        "    eval_dataset=tokenized_test_dataset,\n",
        "    args=transformers.TrainingArguments(\n",
        "        output_dir=output_dir,\n",
        "        warmup_steps=1,\n",
        "        per_device_train_batch_size=2,\n",
        "        gradient_accumulation_steps=1,\n",
        "        gradient_checkpointing=True,\n",
        "        max_steps=500,\n",
        "        learning_rate=2.5e-5, # Want a small lr for finetuning\n",
        "        fp16=True,\n",
        "        logging_steps=25,\n",
        "        optim=\"paged_adamw_8bit\",\n",
        "        logging_dir=\"drive/MyDrive/mistral-finetune/runs/logs\",        # Directory for storing logs\n",
        "        save_strategy=\"steps\",       # Save the model checkpoint every logging step\n",
        "        save_steps=25,                # Save checkpoints every 50 steps\n",
        "        evaluation_strategy=\"steps\", # Evaluate the model every logging step\n",
        "        eval_steps=25,               # Evaluate and save checkpoints every 50 steps\n",
        "        do_eval=True,                # Perform evaluation at the end of training\n",
        "        report_to=\"wandb\",           # Comment this out if you don't want to use weights & baises\n",
        "        run_name=f\"{run_name}-{datetime.now().strftime('%Y-%m-%d-%H-%M')}\"          # Name of the W&B run (optional)\n",
        "    ),\n",
        "    data_collator=transformers.DataCollatorForLanguageModeling(tokenizer, mlm=False),\n",
        ")\n",
        "model.config.use_cache = False  # silence the warnings. Please re-enable for inference!\n",
        "trainer.train()\n",
        "\n"
      ],
      "metadata": {
        "id": "OJfu-NDg3Oy8",
        "colab": {
          "base_uri": "https://localhost:8080/",
          "height": 1000
        },
        "outputId": "8c7f3e4b-ceed-44fd-b29a-533bbd12d2e2"
      },
      "execution_count": null,
      "outputs": [
        {
          "output_type": "stream",
          "name": "stderr",
          "text": [
            "/usr/local/lib/python3.10/dist-packages/accelerate/accelerator.py:437: FutureWarning: Passing the following arguments to `Accelerator` is deprecated and will be removed in version 1.0 of Accelerate: dict_keys(['dispatch_batches', 'split_batches']). Please pass an `accelerate.DataLoaderConfiguration` instead: \n",
            "dataloader_config = DataLoaderConfiguration(dispatch_batches=None, split_batches=False)\n",
            "  warnings.warn(\n"
          ]
        },
        {
          "output_type": "display_data",
          "data": {
            "text/plain": [
              "<IPython.core.display.HTML object>"
            ],
            "text/html": [
              "Changes to your `wandb` environment variables will be ignored because your `wandb` session has already started. For more information on how to modify your settings with `wandb.init()` arguments, please refer to <a href='https://wandb.me/wandb-init' target=\"_blank\">the W&B docs</a>."
            ]
          },
          "metadata": {}
        },
        {
          "output_type": "stream",
          "name": "stderr",
          "text": [
            "\u001b[34m\u001b[1mwandb\u001b[0m: Currently logged in as: \u001b[33maareias\u001b[0m. Use \u001b[1m`wandb login --relogin`\u001b[0m to force relogin\n"
          ]
        },
        {
          "output_type": "display_data",
          "data": {
            "text/plain": [
              "<IPython.core.display.HTML object>"
            ],
            "text/html": [
              "Tracking run with wandb version 0.16.3"
            ]
          },
          "metadata": {}
        },
        {
          "output_type": "display_data",
          "data": {
            "text/plain": [
              "<IPython.core.display.HTML object>"
            ],
            "text/html": [
              "Run data is saved locally in <code>/content/wandb/run-20240221_165152-silihs0x</code>"
            ]
          },
          "metadata": {}
        },
        {
          "output_type": "display_data",
          "data": {
            "text/plain": [
              "<IPython.core.display.HTML object>"
            ],
            "text/html": [
              "Syncing run <strong><a href='https://wandb.ai/aareias/mistral-finetune/runs/silihs0x' target=\"_blank\">mistral7b-relation-extraction-finetune_3-2024-02-21-16-51</a></strong> to <a href='https://wandb.ai/aareias/mistral-finetune' target=\"_blank\">Weights & Biases</a> (<a href='https://wandb.me/run' target=\"_blank\">docs</a>)<br/>"
            ]
          },
          "metadata": {}
        },
        {
          "output_type": "display_data",
          "data": {
            "text/plain": [
              "<IPython.core.display.HTML object>"
            ],
            "text/html": [
              " View project at <a href='https://wandb.ai/aareias/mistral-finetune' target=\"_blank\">https://wandb.ai/aareias/mistral-finetune</a>"
            ]
          },
          "metadata": {}
        },
        {
          "output_type": "display_data",
          "data": {
            "text/plain": [
              "<IPython.core.display.HTML object>"
            ],
            "text/html": [
              " View run at <a href='https://wandb.ai/aareias/mistral-finetune/runs/silihs0x' target=\"_blank\">https://wandb.ai/aareias/mistral-finetune/runs/silihs0x</a>"
            ]
          },
          "metadata": {}
        },
        {
          "output_type": "stream",
          "name": "stderr",
          "text": [
            "/usr/local/lib/python3.10/dist-packages/torch/utils/checkpoint.py:429: UserWarning: torch.utils.checkpoint: please pass in use_reentrant=True or use_reentrant=False explicitly. The default value of use_reentrant will be updated to be False in the future. To maintain current behavior, pass use_reentrant=True. It is recommended that you use use_reentrant=False. Refer to docs for more details on the differences between the two variants.\n",
            "  warnings.warn(\n"
          ]
        },
        {
          "output_type": "display_data",
          "data": {
            "text/plain": [
              "<IPython.core.display.HTML object>"
            ],
            "text/html": [
              "\n",
              "    <div>\n",
              "      \n",
              "      <progress value='240' max='500' style='width:300px; height:20px; vertical-align: middle;'></progress>\n",
              "      [240/500 24:41 < 26:58, 0.16 it/s, Epoch 0.61/2]\n",
              "    </div>\n",
              "    <table border=\"1\" class=\"dataframe\">\n",
              "  <thead>\n",
              " <tr style=\"text-align: left;\">\n",
              "      <th>Step</th>\n",
              "      <th>Training Loss</th>\n",
              "      <th>Validation Loss</th>\n",
              "    </tr>\n",
              "  </thead>\n",
              "  <tbody>\n",
              "    <tr>\n",
              "      <td>25</td>\n",
              "      <td>0.950500</td>\n",
              "      <td>0.429678</td>\n",
              "    </tr>\n",
              "    <tr>\n",
              "      <td>50</td>\n",
              "      <td>0.423300</td>\n",
              "      <td>0.410709</td>\n",
              "    </tr>\n",
              "    <tr>\n",
              "      <td>75</td>\n",
              "      <td>0.399900</td>\n",
              "      <td>0.398258</td>\n",
              "    </tr>\n",
              "    <tr>\n",
              "      <td>100</td>\n",
              "      <td>0.429900</td>\n",
              "      <td>0.384874</td>\n",
              "    </tr>\n",
              "    <tr>\n",
              "      <td>125</td>\n",
              "      <td>0.408100</td>\n",
              "      <td>0.377251</td>\n",
              "    </tr>\n",
              "    <tr>\n",
              "      <td>150</td>\n",
              "      <td>0.387800</td>\n",
              "      <td>0.380560</td>\n",
              "    </tr>\n",
              "    <tr>\n",
              "      <td>175</td>\n",
              "      <td>0.416800</td>\n",
              "      <td>0.374592</td>\n",
              "    </tr>\n",
              "    <tr>\n",
              "      <td>200</td>\n",
              "      <td>0.371900</td>\n",
              "      <td>0.373711</td>\n",
              "    </tr>\n",
              "    <tr>\n",
              "      <td>225</td>\n",
              "      <td>0.373000</td>\n",
              "      <td>0.373183</td>\n",
              "    </tr>\n",
              "  </tbody>\n",
              "</table><p>"
            ]
          },
          "metadata": {}
        },
        {
          "output_type": "stream",
          "name": "stderr",
          "text": [
            "/usr/local/lib/python3.10/dist-packages/torch/utils/checkpoint.py:429: UserWarning: torch.utils.checkpoint: please pass in use_reentrant=True or use_reentrant=False explicitly. The default value of use_reentrant will be updated to be False in the future. To maintain current behavior, pass use_reentrant=True. It is recommended that you use use_reentrant=False. Refer to docs for more details on the differences between the two variants.\n",
            "  warnings.warn(\n",
            "/usr/local/lib/python3.10/dist-packages/torch/utils/checkpoint.py:429: UserWarning: torch.utils.checkpoint: please pass in use_reentrant=True or use_reentrant=False explicitly. The default value of use_reentrant will be updated to be False in the future. To maintain current behavior, pass use_reentrant=True. It is recommended that you use use_reentrant=False. Refer to docs for more details on the differences between the two variants.\n",
            "  warnings.warn(\n",
            "/usr/local/lib/python3.10/dist-packages/torch/utils/checkpoint.py:429: UserWarning: torch.utils.checkpoint: please pass in use_reentrant=True or use_reentrant=False explicitly. The default value of use_reentrant will be updated to be False in the future. To maintain current behavior, pass use_reentrant=True. It is recommended that you use use_reentrant=False. Refer to docs for more details on the differences between the two variants.\n",
            "  warnings.warn(\n",
            "/usr/local/lib/python3.10/dist-packages/torch/utils/checkpoint.py:429: UserWarning: torch.utils.checkpoint: please pass in use_reentrant=True or use_reentrant=False explicitly. The default value of use_reentrant will be updated to be False in the future. To maintain current behavior, pass use_reentrant=True. It is recommended that you use use_reentrant=False. Refer to docs for more details on the differences between the two variants.\n",
            "  warnings.warn(\n",
            "/usr/local/lib/python3.10/dist-packages/torch/utils/checkpoint.py:429: UserWarning: torch.utils.checkpoint: please pass in use_reentrant=True or use_reentrant=False explicitly. The default value of use_reentrant will be updated to be False in the future. To maintain current behavior, pass use_reentrant=True. It is recommended that you use use_reentrant=False. Refer to docs for more details on the differences between the two variants.\n",
            "  warnings.warn(\n",
            "/usr/local/lib/python3.10/dist-packages/torch/utils/checkpoint.py:429: UserWarning: torch.utils.checkpoint: please pass in use_reentrant=True or use_reentrant=False explicitly. The default value of use_reentrant will be updated to be False in the future. To maintain current behavior, pass use_reentrant=True. It is recommended that you use use_reentrant=False. Refer to docs for more details on the differences between the two variants.\n",
            "  warnings.warn(\n",
            "/usr/local/lib/python3.10/dist-packages/torch/utils/checkpoint.py:429: UserWarning: torch.utils.checkpoint: please pass in use_reentrant=True or use_reentrant=False explicitly. The default value of use_reentrant will be updated to be False in the future. To maintain current behavior, pass use_reentrant=True. It is recommended that you use use_reentrant=False. Refer to docs for more details on the differences between the two variants.\n",
            "  warnings.warn(\n",
            "/usr/local/lib/python3.10/dist-packages/torch/utils/checkpoint.py:429: UserWarning: torch.utils.checkpoint: please pass in use_reentrant=True or use_reentrant=False explicitly. The default value of use_reentrant will be updated to be False in the future. To maintain current behavior, pass use_reentrant=True. It is recommended that you use use_reentrant=False. Refer to docs for more details on the differences between the two variants.\n",
            "  warnings.warn(\n",
            "/usr/local/lib/python3.10/dist-packages/torch/utils/checkpoint.py:429: UserWarning: torch.utils.checkpoint: please pass in use_reentrant=True or use_reentrant=False explicitly. The default value of use_reentrant will be updated to be False in the future. To maintain current behavior, pass use_reentrant=True. It is recommended that you use use_reentrant=False. Refer to docs for more details on the differences between the two variants.\n",
            "  warnings.warn(\n"
          ]
        },
        {
          "output_type": "error",
          "ename": "KeyboardInterrupt",
          "evalue": "",
          "traceback": [
            "\u001b[0;31m---------------------------------------------------------------------------\u001b[0m",
            "\u001b[0;31mKeyboardInterrupt\u001b[0m                         Traceback (most recent call last)",
            "\u001b[0;32m<ipython-input-83-752d8dd81c3e>\u001b[0m in \u001b[0;36m<cell line: 31>\u001b[0;34m()\u001b[0m\n\u001b[1;32m     29\u001b[0m )\n\u001b[1;32m     30\u001b[0m \u001b[0mmodel\u001b[0m\u001b[0;34m.\u001b[0m\u001b[0mconfig\u001b[0m\u001b[0;34m.\u001b[0m\u001b[0muse_cache\u001b[0m \u001b[0;34m=\u001b[0m \u001b[0;32mFalse\u001b[0m  \u001b[0;31m# silence the warnings. Please re-enable for inference!\u001b[0m\u001b[0;34m\u001b[0m\u001b[0;34m\u001b[0m\u001b[0m\n\u001b[0;32m---> 31\u001b[0;31m \u001b[0mtrainer\u001b[0m\u001b[0;34m.\u001b[0m\u001b[0mtrain\u001b[0m\u001b[0;34m(\u001b[0m\u001b[0;34m)\u001b[0m\u001b[0;34m\u001b[0m\u001b[0;34m\u001b[0m\u001b[0m\n\u001b[0m\u001b[1;32m     32\u001b[0m \u001b[0;34m\u001b[0m\u001b[0m\n",
            "\u001b[0;32m/usr/local/lib/python3.10/dist-packages/transformers/trainer.py\u001b[0m in \u001b[0;36mtrain\u001b[0;34m(self, resume_from_checkpoint, trial, ignore_keys_for_eval, **kwargs)\u001b[0m\n\u001b[1;32m   1537\u001b[0m                 \u001b[0mhf_hub_utils\u001b[0m\u001b[0;34m.\u001b[0m\u001b[0menable_progress_bars\u001b[0m\u001b[0;34m(\u001b[0m\u001b[0;34m)\u001b[0m\u001b[0;34m\u001b[0m\u001b[0;34m\u001b[0m\u001b[0m\n\u001b[1;32m   1538\u001b[0m         \u001b[0;32melse\u001b[0m\u001b[0;34m:\u001b[0m\u001b[0;34m\u001b[0m\u001b[0;34m\u001b[0m\u001b[0m\n\u001b[0;32m-> 1539\u001b[0;31m             return inner_training_loop(\n\u001b[0m\u001b[1;32m   1540\u001b[0m                 \u001b[0margs\u001b[0m\u001b[0;34m=\u001b[0m\u001b[0margs\u001b[0m\u001b[0;34m,\u001b[0m\u001b[0;34m\u001b[0m\u001b[0;34m\u001b[0m\u001b[0m\n\u001b[1;32m   1541\u001b[0m                 \u001b[0mresume_from_checkpoint\u001b[0m\u001b[0;34m=\u001b[0m\u001b[0mresume_from_checkpoint\u001b[0m\u001b[0;34m,\u001b[0m\u001b[0;34m\u001b[0m\u001b[0;34m\u001b[0m\u001b[0m\n",
            "\u001b[0;32m/usr/local/lib/python3.10/dist-packages/transformers/trainer.py\u001b[0m in \u001b[0;36m_inner_training_loop\u001b[0;34m(self, batch_size, args, resume_from_checkpoint, trial, ignore_keys_for_eval)\u001b[0m\n\u001b[1;32m   1867\u001b[0m \u001b[0;34m\u001b[0m\u001b[0m\n\u001b[1;32m   1868\u001b[0m                 \u001b[0;32mwith\u001b[0m \u001b[0mself\u001b[0m\u001b[0;34m.\u001b[0m\u001b[0maccelerator\u001b[0m\u001b[0;34m.\u001b[0m\u001b[0maccumulate\u001b[0m\u001b[0;34m(\u001b[0m\u001b[0mmodel\u001b[0m\u001b[0;34m)\u001b[0m\u001b[0;34m:\u001b[0m\u001b[0;34m\u001b[0m\u001b[0;34m\u001b[0m\u001b[0m\n\u001b[0;32m-> 1869\u001b[0;31m                     \u001b[0mtr_loss_step\u001b[0m \u001b[0;34m=\u001b[0m \u001b[0mself\u001b[0m\u001b[0;34m.\u001b[0m\u001b[0mtraining_step\u001b[0m\u001b[0;34m(\u001b[0m\u001b[0mmodel\u001b[0m\u001b[0;34m,\u001b[0m \u001b[0minputs\u001b[0m\u001b[0;34m)\u001b[0m\u001b[0;34m\u001b[0m\u001b[0;34m\u001b[0m\u001b[0m\n\u001b[0m\u001b[1;32m   1870\u001b[0m \u001b[0;34m\u001b[0m\u001b[0m\n\u001b[1;32m   1871\u001b[0m                 if (\n",
            "\u001b[0;32m/usr/local/lib/python3.10/dist-packages/transformers/trainer.py\u001b[0m in \u001b[0;36mtraining_step\u001b[0;34m(self, model, inputs)\u001b[0m\n\u001b[1;32m   2779\u001b[0m                 \u001b[0mscaled_loss\u001b[0m\u001b[0;34m.\u001b[0m\u001b[0mbackward\u001b[0m\u001b[0;34m(\u001b[0m\u001b[0;34m)\u001b[0m\u001b[0;34m\u001b[0m\u001b[0;34m\u001b[0m\u001b[0m\n\u001b[1;32m   2780\u001b[0m         \u001b[0;32melse\u001b[0m\u001b[0;34m:\u001b[0m\u001b[0;34m\u001b[0m\u001b[0;34m\u001b[0m\u001b[0m\n\u001b[0;32m-> 2781\u001b[0;31m             \u001b[0mself\u001b[0m\u001b[0;34m.\u001b[0m\u001b[0maccelerator\u001b[0m\u001b[0;34m.\u001b[0m\u001b[0mbackward\u001b[0m\u001b[0;34m(\u001b[0m\u001b[0mloss\u001b[0m\u001b[0;34m)\u001b[0m\u001b[0;34m\u001b[0m\u001b[0;34m\u001b[0m\u001b[0m\n\u001b[0m\u001b[1;32m   2782\u001b[0m \u001b[0;34m\u001b[0m\u001b[0m\n\u001b[1;32m   2783\u001b[0m         \u001b[0;32mreturn\u001b[0m \u001b[0mloss\u001b[0m\u001b[0;34m.\u001b[0m\u001b[0mdetach\u001b[0m\u001b[0;34m(\u001b[0m\u001b[0;34m)\u001b[0m \u001b[0;34m/\u001b[0m \u001b[0mself\u001b[0m\u001b[0;34m.\u001b[0m\u001b[0margs\u001b[0m\u001b[0;34m.\u001b[0m\u001b[0mgradient_accumulation_steps\u001b[0m\u001b[0;34m\u001b[0m\u001b[0;34m\u001b[0m\u001b[0m\n",
            "\u001b[0;32m/usr/local/lib/python3.10/dist-packages/accelerate/accelerator.py\u001b[0m in \u001b[0;36mbackward\u001b[0;34m(self, loss, **kwargs)\u001b[0m\n\u001b[1;32m   2000\u001b[0m             \u001b[0;32mreturn\u001b[0m\u001b[0;34m\u001b[0m\u001b[0;34m\u001b[0m\u001b[0m\n\u001b[1;32m   2001\u001b[0m         \u001b[0;32melif\u001b[0m \u001b[0mself\u001b[0m\u001b[0;34m.\u001b[0m\u001b[0mscaler\u001b[0m \u001b[0;32mis\u001b[0m \u001b[0;32mnot\u001b[0m \u001b[0;32mNone\u001b[0m\u001b[0;34m:\u001b[0m\u001b[0;34m\u001b[0m\u001b[0;34m\u001b[0m\u001b[0m\n\u001b[0;32m-> 2002\u001b[0;31m             \u001b[0mself\u001b[0m\u001b[0;34m.\u001b[0m\u001b[0mscaler\u001b[0m\u001b[0;34m.\u001b[0m\u001b[0mscale\u001b[0m\u001b[0;34m(\u001b[0m\u001b[0mloss\u001b[0m\u001b[0;34m)\u001b[0m\u001b[0;34m.\u001b[0m\u001b[0mbackward\u001b[0m\u001b[0;34m(\u001b[0m\u001b[0;34m**\u001b[0m\u001b[0mkwargs\u001b[0m\u001b[0;34m)\u001b[0m\u001b[0;34m\u001b[0m\u001b[0;34m\u001b[0m\u001b[0m\n\u001b[0m\u001b[1;32m   2003\u001b[0m         \u001b[0;32melse\u001b[0m\u001b[0;34m:\u001b[0m\u001b[0;34m\u001b[0m\u001b[0;34m\u001b[0m\u001b[0m\n\u001b[1;32m   2004\u001b[0m             \u001b[0mloss\u001b[0m\u001b[0;34m.\u001b[0m\u001b[0mbackward\u001b[0m\u001b[0;34m(\u001b[0m\u001b[0;34m**\u001b[0m\u001b[0mkwargs\u001b[0m\u001b[0;34m)\u001b[0m\u001b[0;34m\u001b[0m\u001b[0;34m\u001b[0m\u001b[0m\n",
            "\u001b[0;32m/usr/local/lib/python3.10/dist-packages/torch/_tensor.py\u001b[0m in \u001b[0;36mbackward\u001b[0;34m(self, gradient, retain_graph, create_graph, inputs)\u001b[0m\n\u001b[1;32m    490\u001b[0m                 \u001b[0minputs\u001b[0m\u001b[0;34m=\u001b[0m\u001b[0minputs\u001b[0m\u001b[0;34m,\u001b[0m\u001b[0;34m\u001b[0m\u001b[0;34m\u001b[0m\u001b[0m\n\u001b[1;32m    491\u001b[0m             )\n\u001b[0;32m--> 492\u001b[0;31m         torch.autograd.backward(\n\u001b[0m\u001b[1;32m    493\u001b[0m             \u001b[0mself\u001b[0m\u001b[0;34m,\u001b[0m \u001b[0mgradient\u001b[0m\u001b[0;34m,\u001b[0m \u001b[0mretain_graph\u001b[0m\u001b[0;34m,\u001b[0m \u001b[0mcreate_graph\u001b[0m\u001b[0;34m,\u001b[0m \u001b[0minputs\u001b[0m\u001b[0;34m=\u001b[0m\u001b[0minputs\u001b[0m\u001b[0;34m\u001b[0m\u001b[0;34m\u001b[0m\u001b[0m\n\u001b[1;32m    494\u001b[0m         )\n",
            "\u001b[0;32m/usr/local/lib/python3.10/dist-packages/torch/autograd/__init__.py\u001b[0m in \u001b[0;36mbackward\u001b[0;34m(tensors, grad_tensors, retain_graph, create_graph, grad_variables, inputs)\u001b[0m\n\u001b[1;32m    249\u001b[0m     \u001b[0;31m# some Python versions print out the first line of a multi-line function\u001b[0m\u001b[0;34m\u001b[0m\u001b[0;34m\u001b[0m\u001b[0m\n\u001b[1;32m    250\u001b[0m     \u001b[0;31m# calls in the traceback and some print out the last line\u001b[0m\u001b[0;34m\u001b[0m\u001b[0;34m\u001b[0m\u001b[0m\n\u001b[0;32m--> 251\u001b[0;31m     Variable._execution_engine.run_backward(  # Calls into the C++ engine to run the backward pass\n\u001b[0m\u001b[1;32m    252\u001b[0m         \u001b[0mtensors\u001b[0m\u001b[0;34m,\u001b[0m\u001b[0;34m\u001b[0m\u001b[0;34m\u001b[0m\u001b[0m\n\u001b[1;32m    253\u001b[0m         \u001b[0mgrad_tensors_\u001b[0m\u001b[0;34m,\u001b[0m\u001b[0;34m\u001b[0m\u001b[0;34m\u001b[0m\u001b[0m\n",
            "\u001b[0;31mKeyboardInterrupt\u001b[0m: "
          ]
        }
      ]
    },
    {
      "cell_type": "code",
      "source": [
        "\n"
      ],
      "metadata": {
        "id": "aXCzmpXCRUjC"
      },
      "execution_count": null,
      "outputs": []
    },
    {
      "cell_type": "markdown",
      "source": [
        "restart session!"
      ],
      "metadata": {
        "id": "zBXAJC1MYV54"
      }
    },
    {
      "cell_type": "markdown",
      "source": [
        "## Evaluating"
      ],
      "metadata": {
        "id": "Di3sNhyhXWeU"
      }
    },
    {
      "cell_type": "code",
      "source": [
        "from google.colab import drive\n",
        "\n",
        "# This will prompt for authorization.\n",
        "drive.mount('/content/drive')\n"
      ],
      "metadata": {
        "colab": {
          "base_uri": "https://localhost:8080/"
        },
        "id": "Xp3iswxoiTHe",
        "outputId": "94ce8f65-4a10-493e-88c3-ac55022b2d7f"
      },
      "execution_count": null,
      "outputs": [
        {
          "output_type": "stream",
          "name": "stdout",
          "text": [
            "Drive already mounted at /content/drive; to attempt to forcibly remount, call drive.mount(\"/content/drive\", force_remount=True).\n"
          ]
        }
      ]
    },
    {
      "cell_type": "code",
      "source": [
        "import sys\n",
        "sys.path.append('drive/My Drive/mistral-finetune/')"
      ],
      "metadata": {
        "id": "MRLRwHrqWnuM"
      },
      "execution_count": null,
      "outputs": []
    },
    {
      "cell_type": "code",
      "source": [
        "from helper_functions import preprocess"
      ],
      "metadata": {
        "id": "A9gw5kEsWc-B"
      },
      "execution_count": 20,
      "outputs": []
    },
    {
      "cell_type": "code",
      "source": [
        "# load test data\n",
        "import pandas as pd\n",
        "df = pd.read_csv(\"./drive/MyDrive/mistral-finetune/data/nyt10m_test.csv\")\n"
      ],
      "metadata": {
        "id": "wwyfZnqw9V3t"
      },
      "execution_count": 21,
      "outputs": []
    },
    {
      "cell_type": "code",
      "source": [
        "df.loc[df['relation'].isna(),'relation']=\"None\""
      ],
      "metadata": {
        "id": "YQjD1L3zYZv1"
      },
      "execution_count": 22,
      "outputs": []
    },
    {
      "cell_type": "code",
      "source": [
        "df.relation.value_counts()/len(df)"
      ],
      "metadata": {
        "colab": {
          "base_uri": "https://localhost:8080/"
        },
        "id": "9Rp3uv0mhvj6",
        "outputId": "b4e5f16f-1f91-4e11-af11-60ef47ee744f"
      },
      "execution_count": 24,
      "outputs": [
        {
          "output_type": "execute_result",
          "data": {
            "text/plain": [
              "/people/person/place_lived                    0.229008\n",
              "/location/located_in                          0.213740\n",
              "None                                          0.190840\n",
              "/business/person/company                      0.114504\n",
              "/location/country/administrative_divisions    0.061069\n",
              "/people/person/nationality                    0.061069\n",
              "/location/administrative_division/country     0.053435\n",
              "/business/location                            0.038168\n",
              "/business/company/advisors                    0.015267\n",
              "/people/deceasedperson/place_of_death         0.015267\n",
              "/people/person/place_of_birth                 0.007634\n",
              "Name: relation, dtype: float64"
            ]
          },
          "metadata": {},
          "execution_count": 24
        }
      ]
    },
    {
      "cell_type": "code",
      "source": [
        "data = preprocess(df)"
      ],
      "metadata": {
        "id": "XfO-C3oKZ64n",
        "colab": {
          "base_uri": "https://localhost:8080/",
          "height": 141
        },
        "outputId": "906532a4-a1d1-4f9b-9dc1-0e1c22b4e8f0"
      },
      "execution_count": 18,
      "outputs": [
        {
          "output_type": "error",
          "ename": "NameError",
          "evalue": "name 'preprocess' is not defined",
          "traceback": [
            "\u001b[0;31m---------------------------------------------------------------------------\u001b[0m",
            "\u001b[0;31mNameError\u001b[0m                                 Traceback (most recent call last)",
            "\u001b[0;32m<ipython-input-18-b07bde2d116d>\u001b[0m in \u001b[0;36m<cell line: 1>\u001b[0;34m()\u001b[0m\n\u001b[0;32m----> 1\u001b[0;31m \u001b[0mdata\u001b[0m \u001b[0;34m=\u001b[0m \u001b[0mpreprocess\u001b[0m\u001b[0;34m(\u001b[0m\u001b[0mdf\u001b[0m\u001b[0;34m)\u001b[0m\u001b[0;34m\u001b[0m\u001b[0;34m\u001b[0m\u001b[0m\n\u001b[0m",
            "\u001b[0;31mNameError\u001b[0m: name 'preprocess' is not defined"
          ]
        }
      ]
    },
    {
      "cell_type": "code",
      "source": [
        "len(data)"
      ],
      "metadata": {
        "colab": {
          "base_uri": "https://localhost:8080/"
        },
        "id": "JzrcU5jiaAND",
        "outputId": "64ffb1a3-9476-4d86-df10-6abff5e8a9ff"
      },
      "execution_count": 19,
      "outputs": [
        {
          "output_type": "execute_result",
          "data": {
            "text/plain": [
              "100"
            ]
          },
          "metadata": {},
          "execution_count": 19
        }
      ]
    },
    {
      "cell_type": "code",
      "source": [
        "data[2]"
      ],
      "metadata": {
        "colab": {
          "base_uri": "https://localhost:8080/"
        },
        "id": "eOwukI0waBDW",
        "outputId": "4da5056b-a545-4228-934b-393ac33037ce"
      },
      "execution_count": null,
      "outputs": [
        {
          "output_type": "execute_result",
          "data": {
            "text/plain": [
              "{'input': 'A1 OBITUARIES A15 Mstislav Rostropovich A cellist and conductor who was renowned as one of the great instrumentalists of the 20th century and an outspoken champion of artistic freedom in the Soviet Union during the last decades of the cold war , he was 80 and lived in Paris .',\n",
              " 'output': \"('Mstislav Rostropovich', '/people/person/place_lived', 'Paris')\"}"
            ]
          },
          "metadata": {},
          "execution_count": 45
        }
      ]
    },
    {
      "cell_type": "code",
      "source": [
        "import numpy as np\n",
        "relations = np.sort(list(df.relation.unique()))\n",
        "relations = list(relations[:len(relations)-1])\n",
        "relations"
      ],
      "metadata": {
        "colab": {
          "base_uri": "https://localhost:8080/"
        },
        "id": "c4ZXfbyEaQDi",
        "outputId": "84971df4-c485-473e-d298-f5fcce31729e"
      },
      "execution_count": null,
      "outputs": [
        {
          "output_type": "execute_result",
          "data": {
            "text/plain": [
              "['/business/company/advisors',\n",
              " '/business/location',\n",
              " '/business/person/company',\n",
              " '/location/administrative_division/country',\n",
              " '/location/country/administrative_divisions',\n",
              " '/location/located_in',\n",
              " '/people/deceasedperson/place_of_death',\n",
              " '/people/person/nationality',\n",
              " '/people/person/place_lived',\n",
              " '/people/person/place_of_birth']"
            ]
          },
          "metadata": {},
          "execution_count": 46
        }
      ]
    },
    {
      "cell_type": "code",
      "source": [
        "\"\"\" double checking that fits training data same categories\n",
        "['/business/company/advisors',\n",
        " '/business/location',\n",
        " '/business/person/company',\n",
        " '/location/administrative_division/country',\n",
        " '/location/country/administrative_divisions',\n",
        " '/location/located_in',\n",
        " '/people/deceasedperson/place_of_death',\n",
        " '/people/person/nationality',\n",
        " '/people/person/place_lived',\n",
        " '/people/person/place_of_birth']\"\"\""
      ],
      "metadata": {
        "colab": {
          "base_uri": "https://localhost:8080/",
          "height": 105
        },
        "id": "e1-HUzbBaP_5",
        "outputId": "f24621a3-0f1a-4a75-a6cd-876deae2d1e7"
      },
      "execution_count": null,
      "outputs": [
        {
          "output_type": "execute_result",
          "data": {
            "text/plain": [
              "\" double checking that fits training data same categories\\n['/business/company/advisors',\\n '/business/location',\\n '/business/person/company',\\n '/location/administrative_division/country',\\n '/location/country/administrative_divisions',\\n '/location/located_in',\\n '/people/deceasedperson/place_of_death',\\n '/people/person/nationality',\\n '/people/person/place_lived',\\n '/people/person/place_of_birth']\""
            ],
            "application/vnd.google.colaboratory.intrinsic+json": {
              "type": "string"
            }
          },
          "metadata": {},
          "execution_count": 9
        }
      ]
    },
    {
      "cell_type": "code",
      "source": [],
      "metadata": {
        "id": "66GX_SwVaP89"
      },
      "execution_count": null,
      "outputs": []
    },
    {
      "cell_type": "code",
      "source": [],
      "metadata": {
        "id": "Baq6nbAIaP5W"
      },
      "execution_count": null,
      "outputs": []
    },
    {
      "cell_type": "code",
      "source": [
        "from transformers import AutoTokenizer, AutoModelForCausalLM, BitsAndBytesConfig\n",
        "import torch"
      ],
      "metadata": {
        "id": "eWvmg8OqYcoo"
      },
      "execution_count": null,
      "outputs": []
    },
    {
      "cell_type": "code",
      "source": [
        "model_id = \"mistralai/Mistral-7B-Instruct-v0.2\"\n",
        "bnb_config = BitsAndBytesConfig(\n",
        "    load_in_4bit=True,\n",
        "    bnb_4bit_use_double_quant=True,\n",
        "    bnb_4bit_quant_type=\"nf4\",\n",
        "    bnb_4bit_compute_dtype=torch.bfloat16\n",
        ")"
      ],
      "metadata": {
        "id": "zfEKgdPHY7Kx"
      },
      "execution_count": null,
      "outputs": []
    },
    {
      "cell_type": "code",
      "source": [
        "# Init an eval tokenizer that doesn't add padding or eos token\n",
        "eval_tokenizer = AutoTokenizer.from_pretrained(\n",
        "    model_id,\n",
        "    add_bos_token=True,\n",
        ")"
      ],
      "metadata": {
        "colab": {
          "base_uri": "https://localhost:8080/"
        },
        "id": "NHx6xiRyYqzV",
        "outputId": "ca3400ab-00fe-442a-c46a-335bc2aa0c31"
      },
      "execution_count": null,
      "outputs": [
        {
          "output_type": "stream",
          "name": "stderr",
          "text": [
            "/usr/local/lib/python3.10/dist-packages/huggingface_hub/utils/_token.py:88: UserWarning: \n",
            "The secret `HF_TOKEN` does not exist in your Colab secrets.\n",
            "To authenticate with the Hugging Face Hub, create a token in your settings tab (https://huggingface.co/settings/tokens), set it as secret in your Google Colab and restart your session.\n",
            "You will be able to reuse this secret in all of your notebooks.\n",
            "Please note that authentication is recommended but still optional to access public models or datasets.\n",
            "  warnings.warn(\n"
          ]
        }
      ]
    },
    {
      "cell_type": "code",
      "source": [
        "\"\"\"pip install accelerate\"\"\""
      ],
      "metadata": {
        "colab": {
          "base_uri": "https://localhost:8080/"
        },
        "id": "zoITykgknheJ",
        "outputId": "9698a352-28ab-4256-a83d-dcaa4347b6ba"
      },
      "execution_count": null,
      "outputs": [
        {
          "output_type": "stream",
          "name": "stdout",
          "text": [
            "Requirement already satisfied: accelerate in /usr/local/lib/python3.10/dist-packages (0.28.0.dev0)\n",
            "Requirement already satisfied: numpy>=1.17 in /usr/local/lib/python3.10/dist-packages (from accelerate) (1.25.2)\n",
            "Requirement already satisfied: packaging>=20.0 in /usr/local/lib/python3.10/dist-packages (from accelerate) (23.2)\n",
            "Requirement already satisfied: psutil in /usr/local/lib/python3.10/dist-packages (from accelerate) (5.9.5)\n",
            "Requirement already satisfied: pyyaml in /usr/local/lib/python3.10/dist-packages (from accelerate) (6.0.1)\n",
            "Requirement already satisfied: torch>=1.10.0 in /usr/local/lib/python3.10/dist-packages (from accelerate) (2.1.0+cu121)\n",
            "Requirement already satisfied: huggingface-hub in /usr/local/lib/python3.10/dist-packages (from accelerate) (0.20.3)\n",
            "Requirement already satisfied: safetensors>=0.3.1 in /usr/local/lib/python3.10/dist-packages (from accelerate) (0.4.2)\n",
            "Requirement already satisfied: filelock in /usr/local/lib/python3.10/dist-packages (from torch>=1.10.0->accelerate) (3.13.1)\n",
            "Requirement already satisfied: typing-extensions in /usr/local/lib/python3.10/dist-packages (from torch>=1.10.0->accelerate) (4.9.0)\n",
            "Requirement already satisfied: sympy in /usr/local/lib/python3.10/dist-packages (from torch>=1.10.0->accelerate) (1.12)\n",
            "Requirement already satisfied: networkx in /usr/local/lib/python3.10/dist-packages (from torch>=1.10.0->accelerate) (3.2.1)\n",
            "Requirement already satisfied: jinja2 in /usr/local/lib/python3.10/dist-packages (from torch>=1.10.0->accelerate) (3.1.3)\n",
            "Requirement already satisfied: fsspec in /usr/local/lib/python3.10/dist-packages (from torch>=1.10.0->accelerate) (2023.6.0)\n",
            "Requirement already satisfied: triton==2.1.0 in /usr/local/lib/python3.10/dist-packages (from torch>=1.10.0->accelerate) (2.1.0)\n",
            "Requirement already satisfied: requests in /usr/local/lib/python3.10/dist-packages (from huggingface-hub->accelerate) (2.31.0)\n",
            "Requirement already satisfied: tqdm>=4.42.1 in /usr/local/lib/python3.10/dist-packages (from huggingface-hub->accelerate) (4.66.2)\n",
            "Requirement already satisfied: MarkupSafe>=2.0 in /usr/local/lib/python3.10/dist-packages (from jinja2->torch>=1.10.0->accelerate) (2.1.5)\n",
            "Requirement already satisfied: charset-normalizer<4,>=2 in /usr/local/lib/python3.10/dist-packages (from requests->huggingface-hub->accelerate) (3.3.2)\n",
            "Requirement already satisfied: idna<4,>=2.5 in /usr/local/lib/python3.10/dist-packages (from requests->huggingface-hub->accelerate) (3.6)\n",
            "Requirement already satisfied: urllib3<3,>=1.21.1 in /usr/local/lib/python3.10/dist-packages (from requests->huggingface-hub->accelerate) (2.0.7)\n",
            "Requirement already satisfied: certifi>=2017.4.17 in /usr/local/lib/python3.10/dist-packages (from requests->huggingface-hub->accelerate) (2024.2.2)\n",
            "Requirement already satisfied: mpmath>=0.19 in /usr/local/lib/python3.10/dist-packages (from sympy->torch>=1.10.0->accelerate) (1.3.0)\n",
            "\u001b[31mERROR: Operation cancelled by user\u001b[0m\u001b[31m\n",
            "\u001b[0m"
          ]
        }
      ]
    },
    {
      "cell_type": "code",
      "source": [
        "model = AutoModelForCausalLM.from_pretrained(model_id, quantization_config=bnb_config, device_map=\"auto\")"
      ],
      "metadata": {
        "colab": {
          "base_uri": "https://localhost:8080/",
          "height": 49,
          "referenced_widgets": [
            "4788ad5243474cc58733fd97d86140ca",
            "fd82d55ad2f94805b37cdf7a076d2f7e",
            "957304ebfce2401280010c4324cb3ea8",
            "b6f75848e4454185821775784bcd866b",
            "b3d1b04d9b4643aa9b06072e8e76e843",
            "a75c112da2714e12b2996b5084fd27f6",
            "bdafdfb92209478d9f6611783abdb407",
            "bc65fc2695e34006a922580b78bdb03b",
            "62fc2127f1ee465d9bae6c06aa457e75",
            "d2a4e4e9694548dd974e211d966e8e03",
            "f169dc9690c64720a14455b25ab2e05c"
          ]
        },
        "id": "WDdGT_8VYzbc",
        "outputId": "c14bc398-d761-4d4a-ee70-a98878bb06ba"
      },
      "execution_count": null,
      "outputs": [
        {
          "output_type": "display_data",
          "data": {
            "text/plain": [
              "Loading checkpoint shards:   0%|          | 0/3 [00:00<?, ?it/s]"
            ],
            "application/vnd.jupyter.widget-view+json": {
              "version_major": 2,
              "version_minor": 0,
              "model_id": "4788ad5243474cc58733fd97d86140ca"
            }
          },
          "metadata": {}
        }
      ]
    },
    {
      "cell_type": "code",
      "source": [
        "eval_prompt = formatting_func(data[2])\n"
      ],
      "metadata": {
        "id": "d7FtAP9jZyBe"
      },
      "execution_count": null,
      "outputs": []
    },
    {
      "cell_type": "code",
      "source": [
        "eval_prompt"
      ],
      "metadata": {
        "colab": {
          "base_uri": "https://localhost:8080/",
          "height": 209
        },
        "id": "_ZAogIsGaIvY",
        "outputId": "fcf2e98d-222a-42a5-93be-7bea29748a7a"
      },
      "execution_count": null,
      "outputs": [
        {
          "output_type": "execute_result",
          "data": {
            "text/plain": [
              "\"[INST] You are an NLP expert tasked with entity and relation extraction. Here is a list of potential relation types: ['/business/company/advisors', '/business/location', '/business/person/company', '/location/administrative_division/country', '/location/country/administrative_divisions', '/location/located_in', '/people/deceasedperson/place_of_death', '/people/person/nationality', '/people/person/place_lived', '/people/person/place_of_birth'] \\nWhat relations in the given list might be included in the given sentence? Make sure to use only relations from the list provided!\\nThe given sentence is: 'A1 OBITUARIES A15 Mstislav Rostropovich A cellist and conductor who was renowned as one of the great instrumentalists of the 20th century and an outspoken champion of artistic freedom in the Soviet Union during the last decades of the cold war , he was 80 and lived in Paris .'\\nIf none present, answer: None.\\nRespond with relationship triples, e.g. (head entity 1, relation 1, tail entity 1), (head entity 2, relation 2, tail entity 2), (...) \\nTake care, your answer is only valid if it follows the correct format! [\\\\INST]\""
            ],
            "application/vnd.google.colaboratory.intrinsic+json": {
              "type": "string"
            }
          },
          "metadata": {},
          "execution_count": 18
        }
      ]
    },
    {
      "cell_type": "code",
      "source": [
        "model_input = eval_tokenizer(eval_prompt, return_tensors=\"pt\").to(\"cuda\")\n",
        "\n",
        "model.eval()\n",
        "with torch.no_grad():\n",
        "    response  = eval_tokenizer.decode(model.generate(**model_input, max_new_tokens=256, repetition_penalty=1.15)[0], skip_special_tokens=True)\n",
        "    response = response.replace(eval_prompt, \"\")\n",
        "    print(response)"
      ],
      "metadata": {
        "colab": {
          "base_uri": "https://localhost:8080/"
        },
        "id": "FXKZaeaVah2Q",
        "outputId": "3b2b35e9-80f0-4abe-cc2e-20df1b4329de"
      },
      "execution_count": null,
      "outputs": [
        {
          "output_type": "stream",
          "name": "stderr",
          "text": [
            "Setting `pad_token_id` to `eos_token_id`:2 for open-end generation.\n"
          ]
        },
        {
          "output_type": "stream",
          "name": "stdout",
          "text": [
            " Based on the given sentence, the following relation triple can be extracted:\n",
            "(Mstislav Rostropovich, /people/person/place_lived, Paris)\n"
          ]
        }
      ]
    },
    {
      "cell_type": "code",
      "source": [
        "predicted_relations = get_tuples(response)\n",
        "predicted_relations"
      ],
      "metadata": {
        "colab": {
          "base_uri": "https://localhost:8080/"
        },
        "id": "0gmVETQBa_am",
        "outputId": "eb64fe65-b5d3-4af1-ec99-68e1d66d65b8"
      },
      "execution_count": null,
      "outputs": [
        {
          "output_type": "execute_result",
          "data": {
            "text/plain": [
              "[('Mstislav Rostropovich', '/people/person/place_lived', 'Paris')]"
            ]
          },
          "metadata": {},
          "execution_count": 21
        }
      ]
    },
    {
      "cell_type": "code",
      "source": [
        "expected_relations = get_relations(data[10])\n",
        "expected_relations"
      ],
      "metadata": {
        "colab": {
          "base_uri": "https://localhost:8080/"
        },
        "id": "YRUuEMzsbLbF",
        "outputId": "f095fef4-ef39-4c56-8eca-f81272a1d5cc"
      },
      "execution_count": null,
      "outputs": [
        {
          "output_type": "execute_result",
          "data": {
            "text/plain": [
              "['None']"
            ]
          },
          "metadata": {},
          "execution_count": 66
        }
      ]
    },
    {
      "cell_type": "code",
      "source": [
        "expected_set = set(expected_relations)\n",
        "expected_set"
      ],
      "metadata": {
        "id": "ryRown3XfP8i",
        "colab": {
          "base_uri": "https://localhost:8080/"
        },
        "outputId": "8ef4c97e-0d67-464e-c8e0-8116e59d3f08"
      },
      "execution_count": null,
      "outputs": [
        {
          "output_type": "execute_result",
          "data": {
            "text/plain": [
              "{'None'}"
            ]
          },
          "metadata": {},
          "execution_count": 67
        }
      ]
    },
    {
      "cell_type": "code",
      "source": [],
      "metadata": {
        "id": "09K_v_40fP3r"
      },
      "execution_count": null,
      "outputs": []
    },
    {
      "cell_type": "code",
      "source": [],
      "metadata": {
        "id": "LuX4rpr7fPsL"
      },
      "execution_count": null,
      "outputs": []
    },
    {
      "cell_type": "code",
      "source": [
        "precision, recall,f1 = get_scores(expected_relations, predicted_relations)"
      ],
      "metadata": {
        "id": "DZm2J8P5bXr6"
      },
      "execution_count": null,
      "outputs": []
    },
    {
      "cell_type": "code",
      "source": [
        "precision,recall,f1"
      ],
      "metadata": {
        "colab": {
          "base_uri": "https://localhost:8080/"
        },
        "id": "kyMXIgFibaVx",
        "outputId": "fac4908f-8cd4-422a-b7db-2af8edf58101"
      },
      "execution_count": null,
      "outputs": [
        {
          "output_type": "execute_result",
          "data": {
            "text/plain": [
              "(1.0, 1.0, 1.0)"
            ]
          },
          "metadata": {},
          "execution_count": 31
        }
      ]
    },
    {
      "cell_type": "code",
      "source": [
        "data[0].update({'base_model' : {'predicted_relations':predicted_relations,\n",
        "                                'precision': precision,\n",
        "                                'recall': recall,\n",
        "                                'f1': f1}})"
      ],
      "metadata": {
        "id": "L8w5yhXZbgJc"
      },
      "execution_count": null,
      "outputs": []
    },
    {
      "cell_type": "code",
      "source": [
        "data[1:3]"
      ],
      "metadata": {
        "colab": {
          "base_uri": "https://localhost:8080/"
        },
        "id": "-R9O-Pcxbm6w",
        "outputId": "fd2f17ff-53c8-4710-fed9-14230b777160"
      },
      "execution_count": null,
      "outputs": [
        {
          "output_type": "execute_result",
          "data": {
            "text/plain": [
              "[{'input': \"9:30 P.M. (13) THE WILD PARROTS OF TELEGRAPH HILL -- '' Independent Lens '' follows Mark Bittner , a homeless street musician in San Francisco , as he literally goes to the birds -- and finds meaning in his life -- by taking up with a flock of wild red and green parrots .\",\n",
              "  'output': \"('Mark Bittner', '/people/person/place_lived', 'San Francisco')\"},\n",
              " {'input': 'A1 OBITUARIES A15 Mstislav Rostropovich A cellist and conductor who was renowned as one of the great instrumentalists of the 20th century and an outspoken champion of artistic freedom in the Soviet Union during the last decades of the cold war , he was 80 and lived in Paris .',\n",
              "  'output': \"('Mstislav Rostropovich', '/people/person/place_lived', 'Paris')\"}]"
            ]
          },
          "metadata": {},
          "execution_count": 48
        }
      ]
    },
    {
      "cell_type": "code",
      "source": [
        "list(range(1,3))"
      ],
      "metadata": {
        "colab": {
          "base_uri": "https://localhost:8080/"
        },
        "id": "D9rpInOndVCy",
        "outputId": "7d14b511-9a90-44a7-cf52-e4a6a247fec6"
      },
      "execution_count": null,
      "outputs": [
        {
          "output_type": "execute_result",
          "data": {
            "text/plain": [
              "[1, 2]"
            ]
          },
          "metadata": {},
          "execution_count": 56
        }
      ]
    },
    {
      "cell_type": "code",
      "source": [
        "from tqdm import tqdm\n",
        "\n",
        "progress_bar = tqdm(total=len(data), desc='Progress')\n",
        "\n",
        "for idx, example in zip(list(range(len(data))), data):\n",
        "\n",
        "    eval_prompt = formatting_func(example)\n",
        "\n",
        "    model_input = eval_tokenizer(eval_prompt, return_tensors=\"pt\").to(\"cuda\")\n",
        "\n",
        "    model.eval()\n",
        "    with torch.no_grad():\n",
        "        response  = eval_tokenizer.decode(model.generate(**model_input, max_new_tokens=256,\n",
        "                                                         repetition_penalty=1.15,\n",
        "                                                         pad_token_id=eval_tokenizer.eos_token_id)[0],\n",
        "                                          skip_special_tokens=True)\n",
        "        response = response.replace(eval_prompt, \"\")\n",
        "\n",
        "    predicted_relations = get_tuples(response)\n",
        "\n",
        "    expected_relations = get_relations(example)\n",
        "\n",
        "    precision, recall,f1 = get_scores(expected_relations, predicted_relations)\n",
        "\n",
        "    data[idx].update({'base_model':\n",
        "                        {'response': response,\n",
        "                         'predicted_relations':predicted_relations,\n",
        "                        'precision': precision,\n",
        "                        'recall': recall,\n",
        "                        'f1': f1}\n",
        "                    })\n",
        "    progress_bar.update(1)\n",
        "\n",
        "progress_bar.close()"
      ],
      "metadata": {
        "colab": {
          "base_uri": "https://localhost:8080/"
        },
        "id": "KzAeMdk_b0Kk",
        "outputId": "1ac14b31-da29-4874-a393-e7e122596278"
      },
      "execution_count": null,
      "outputs": [
        {
          "output_type": "stream",
          "name": "stderr",
          "text": [
            "Progress: 100%|██████████| 100/100 [22:17<00:00, 13.38s/it]\n"
          ]
        }
      ]
    },
    {
      "cell_type": "code",
      "source": [
        "data[:4]"
      ],
      "metadata": {
        "colab": {
          "base_uri": "https://localhost:8080/"
        },
        "id": "2oNWgsOZxger",
        "outputId": "1e460f91-063e-4886-a521-377c151aab7f"
      },
      "execution_count": null,
      "outputs": [
        {
          "output_type": "execute_result",
          "data": {
            "text/plain": [
              "[{'input': '-LRB- AP -RRB- WEST VIRGINIA 67 , VILLANOVA 56 -- Frank Young scored a career-high 25 points , including eight 3-pointers , for No. 25 West Virginia -LRB- 12-1 , 2-0 -RRB- in a Big East game .',\n",
              "  'output': \"('Frank Young', '/people/person/place_lived', 'West Virginia')\",\n",
              "  'base_model': {'response': \" Based on the given sentence, there do not seem to be any explicit relations mentioned that can be directly extracted using the provided list. The sentence primarily describes an event (a basketball game) involving entities 'West Virginia' and 'Villanova'. However, no specific relations between these entities or other mentioned entities ('Frank Young') are explicitly stated in the sentence. Therefore, the answer would be: None.\",\n",
              "   'predicted_relations': 'None',\n",
              "   'precision': 0.0,\n",
              "   'recall': 0.0,\n",
              "   'f1': 0}},\n",
              " {'input': \"9:30 P.M. (13) THE WILD PARROTS OF TELEGRAPH HILL -- '' Independent Lens '' follows Mark Bittner , a homeless street musician in San Francisco , as he literally goes to the birds -- and finds meaning in his life -- by taking up with a flock of wild red and green parrots .\",\n",
              "  'output': \"('Mark Bittner', '/people/person/place_lived', 'San Francisco')\",\n",
              "  'base_model': {'response': \" Based on the given sentence, there don't seem to be any explicit relations mentioned that can be directly extracted using the provided list. The sentence describes Mark Bittner being a homeless street musician in San Francisco who connects with a flock of wild parrots, but it does not explicitly state any location or company relationships between these entities. Therefore, none.\",\n",
              "   'predicted_relations': 'None',\n",
              "   'precision': 0.0,\n",
              "   'recall': 0.0,\n",
              "   'f1': 0}},\n",
              " {'input': 'A1 OBITUARIES A15 Mstislav Rostropovich A cellist and conductor who was renowned as one of the great instrumentalists of the 20th century and an outspoken champion of artistic freedom in the Soviet Union during the last decades of the cold war , he was 80 and lived in Paris .',\n",
              "  'output': \"('Mstislav Rostropovich', '/people/person/place_lived', 'Paris')\",\n",
              "  'base_model': {'response': ' Based on the given sentence, the following relation triple can be extracted:\\n(Mstislav Rostropovich, /people/person/place_lived, Paris)',\n",
              "   'predicted_relations': [('Mstislav Rostropovich',\n",
              "     '/people/person/place_lived',\n",
              "     'Paris')],\n",
              "   'precision': 1.0,\n",
              "   'recall': 1.0,\n",
              "   'f1': 1.0}},\n",
              " {'input': 'About 2.4 million people live within a 10-mile radius of the Westfield Garden State Plaza in Paramus , which is the largest shopping mall in the state and draws 20 million visitors a year .',\n",
              "  'output': 'None',\n",
              "  'base_model': {'response': \" Based on the given sentence, the following relation triple can be extracted: ('Westfield Garden State Plaza', '/location/located_in', 'Paramus')\",\n",
              "   'predicted_relations': [('Westfield Garden State Plaza',\n",
              "     '/location/located_in',\n",
              "     'Paramus')],\n",
              "   'precision': 0.0,\n",
              "   'recall': 0.0,\n",
              "   'f1': 0}}]"
            ]
          },
          "metadata": {},
          "execution_count": 52
        }
      ]
    },
    {
      "cell_type": "code",
      "source": [
        "import json\n",
        "# Define the file path\n",
        "file_path = \"./mistral-finetuning-data.json\"\n",
        "\n",
        "# Save the data to a JSON file\n",
        "with open(file_path, \"w\") as json_file:\n",
        "    json.dump(data, json_file)\n",
        "\n",
        "print(f\"Data saved to {file_path}\")\n"
      ],
      "metadata": {
        "colab": {
          "base_uri": "https://localhost:8080/"
        },
        "id": "kfNwgMzvcczB",
        "outputId": "ccfe495c-b1b8-48c7-8aef-7abc2b3bc0ed"
      },
      "execution_count": null,
      "outputs": [
        {
          "output_type": "stream",
          "name": "stdout",
          "text": [
            "Data saved to ./mistral-finetuning-data.json\n"
          ]
        }
      ]
    },
    {
      "cell_type": "code",
      "source": [
        "# Calculate average metrics\n",
        "avg_precision, avg_recall, avg_f1 = calculate_average_metrics(data)\n",
        "\n",
        "print(\"Average Precision:\", avg_precision)\n",
        "print(\"Average Recall:\", avg_recall)\n",
        "print(\"Average F1-score:\", avg_f1)\n"
      ],
      "metadata": {
        "colab": {
          "base_uri": "https://localhost:8080/",
          "height": 332
        },
        "id": "sUmpdYgGyJn6",
        "outputId": "945b9124-f11a-45f8-a38d-bc0266020974"
      },
      "execution_count": null,
      "outputs": [
        {
          "output_type": "error",
          "ename": "KeyError",
          "evalue": "'base_model'",
          "traceback": [
            "\u001b[0;31m---------------------------------------------------------------------------\u001b[0m",
            "\u001b[0;31mKeyError\u001b[0m                                  Traceback (most recent call last)",
            "\u001b[0;32m<ipython-input-92-37c36adb265b>\u001b[0m in \u001b[0;36m<cell line: 19>\u001b[0;34m()\u001b[0m\n\u001b[1;32m     17\u001b[0m \u001b[0;34m\u001b[0m\u001b[0m\n\u001b[1;32m     18\u001b[0m \u001b[0;31m# Calculate average metrics\u001b[0m\u001b[0;34m\u001b[0m\u001b[0;34m\u001b[0m\u001b[0m\n\u001b[0;32m---> 19\u001b[0;31m \u001b[0mavg_precision\u001b[0m\u001b[0;34m,\u001b[0m \u001b[0mavg_recall\u001b[0m\u001b[0;34m,\u001b[0m \u001b[0mavg_f1\u001b[0m \u001b[0;34m=\u001b[0m \u001b[0mcalculate_average_metrics\u001b[0m\u001b[0;34m(\u001b[0m\u001b[0mdata\u001b[0m\u001b[0;34m)\u001b[0m\u001b[0;34m\u001b[0m\u001b[0;34m\u001b[0m\u001b[0m\n\u001b[0m\u001b[1;32m     20\u001b[0m \u001b[0;34m\u001b[0m\u001b[0m\n\u001b[1;32m     21\u001b[0m \u001b[0mprint\u001b[0m\u001b[0;34m(\u001b[0m\u001b[0;34m\"Average Precision:\"\u001b[0m\u001b[0;34m,\u001b[0m \u001b[0mavg_precision\u001b[0m\u001b[0;34m)\u001b[0m\u001b[0;34m\u001b[0m\u001b[0;34m\u001b[0m\u001b[0m\n",
            "\u001b[0;32m<ipython-input-92-37c36adb265b>\u001b[0m in \u001b[0;36mcalculate_average_metrics\u001b[0;34m(data)\u001b[0m\n\u001b[1;32m      6\u001b[0m \u001b[0;34m\u001b[0m\u001b[0m\n\u001b[1;32m      7\u001b[0m     \u001b[0;32mfor\u001b[0m \u001b[0mitem\u001b[0m \u001b[0;32min\u001b[0m \u001b[0mdata\u001b[0m\u001b[0;34m:\u001b[0m\u001b[0;34m\u001b[0m\u001b[0;34m\u001b[0m\u001b[0m\n\u001b[0;32m----> 8\u001b[0;31m         \u001b[0mtotal_precision\u001b[0m \u001b[0;34m+=\u001b[0m \u001b[0mitem\u001b[0m\u001b[0;34m[\u001b[0m\u001b[0;34m'base_model'\u001b[0m\u001b[0;34m]\u001b[0m\u001b[0;34m[\u001b[0m\u001b[0;34m'precision'\u001b[0m\u001b[0;34m]\u001b[0m\u001b[0;34m\u001b[0m\u001b[0;34m\u001b[0m\u001b[0m\n\u001b[0m\u001b[1;32m      9\u001b[0m         \u001b[0mtotal_recall\u001b[0m \u001b[0;34m+=\u001b[0m \u001b[0mitem\u001b[0m\u001b[0;34m[\u001b[0m\u001b[0;34m'base_model'\u001b[0m\u001b[0;34m]\u001b[0m\u001b[0;34m[\u001b[0m\u001b[0;34m'recall'\u001b[0m\u001b[0;34m]\u001b[0m\u001b[0;34m\u001b[0m\u001b[0;34m\u001b[0m\u001b[0m\n\u001b[1;32m     10\u001b[0m         \u001b[0mtotal_f1\u001b[0m \u001b[0;34m+=\u001b[0m \u001b[0mitem\u001b[0m\u001b[0;34m[\u001b[0m\u001b[0;34m'base_model'\u001b[0m\u001b[0;34m]\u001b[0m\u001b[0;34m[\u001b[0m\u001b[0;34m'f1'\u001b[0m\u001b[0;34m]\u001b[0m\u001b[0;34m\u001b[0m\u001b[0;34m\u001b[0m\u001b[0m\n",
            "\u001b[0;31mKeyError\u001b[0m: 'base_model'"
          ]
        }
      ]
    },
    {
      "cell_type": "markdown",
      "source": [
        "## load finetuned model"
      ],
      "metadata": {
        "id": "phWDBZmlx8EK"
      }
    },
    {
      "cell_type": "code",
      "source": [
        "! ls drive/MyDrive/mistral-finetune/checkpoint-500"
      ],
      "metadata": {
        "colab": {
          "base_uri": "https://localhost:8080/"
        },
        "id": "N0jW3AfvzZjO",
        "outputId": "13aec5f7-af9e-4a8c-faec-a158af2170dc"
      },
      "execution_count": null,
      "outputs": [
        {
          "output_type": "stream",
          "name": "stdout",
          "text": [
            "adapter_config.json\t   optimizer.pt  rng_state.pth\ttrainer_state.json\n",
            "adapter_model.safetensors  README.md\t scheduler.pt\ttraining_args.bin\n"
          ]
        }
      ]
    },
    {
      "cell_type": "code",
      "source": [
        "import torch\n",
        "from transformers import AutoTokenizer, AutoModelForCausalLM, BitsAndBytesConfig\n",
        "\n",
        "model_id = \"mistralai/Mistral-7B-Instruct-v0.2\"\n",
        "bnb_config = BitsAndBytesConfig(\n",
        "    load_in_4bit=True,\n",
        "    bnb_4bit_use_double_quant=True,\n",
        "    bnb_4bit_quant_type=\"nf4\",\n",
        "    bnb_4bit_compute_dtype=torch.bfloat16\n",
        ")\n",
        "\n",
        "model = AutoModelForCausalLM.from_pretrained(\n",
        "    model_id,  # Mistral, same as before\n",
        "    quantization_config=bnb_config,  # Same quantization config as before\n",
        "    device_map=\"auto\",\n",
        "    trust_remote_code=True,\n",
        ")\n"
      ],
      "metadata": {
        "colab": {
          "base_uri": "https://localhost:8080/",
          "height": 345,
          "referenced_widgets": [
            "f0e0cf3cb8ff4c5c91437947500cb6b6",
            "9b1e428613d144189712442f7a41ad11",
            "1a31a93adcad483eb1763660bf36d739",
            "4b2497aeb6a44ecbb45bbefeba22c6d4",
            "586f6cbf6f714fdab46ea7702fb0eb69",
            "d0b68fcef80347a88fda3c4ca63348df",
            "3a4d8cee1c59439f81669653b41dc169",
            "b6135337d603408abfb45de5056b669e",
            "70b3fe90b39c49e3b08d48c9d7977537",
            "90e0eacf8af54b508c0dcd2d00b142f5",
            "ad1d70b734e440f1aed3026bb1bf8b38",
            "8646e1039a364ad398e71763f245f1e3",
            "661da0b5d98f431395f4a499b71c7e0a",
            "16641bdb42064fb58d3d98a3a6f2821c",
            "c6498d58d0af4ebab8d5e14feee400c8",
            "45da380f659f4b6e8affdf6d1bc8dab2",
            "a61258a06f6c481ca4984021181ddebe",
            "1daeb69e551e431f97b11e10c439ebcc",
            "1e8fb8772fa34cf080ee2bd92b40a4ea",
            "b6c6e2c7dfc747fb8d57ef0ac623c211",
            "e60f2986bf2e4db6b6706c09c4a5d5f5",
            "de12ae650e9341d8b19d0d34fbc3ec07",
            "f0ddd685dc0e41de874478395983104a",
            "90b00b5e9bd245f4bf1edcb9e39aeda6",
            "f7b0ce913fed41a7ad3746abef07c1ae",
            "8dfcc3d2796f4d87a44869734b145e23",
            "edf71385ff1949f3a4a0567d028dadb6",
            "3efeff419ce54a5db375f60ef256f6e8",
            "70b9f55c2adc44a8ab4e0ca541b7d026",
            "146b2a28eead4ebc848ce9ca4d3caa07",
            "d811bf3dd4234c62ac6f2cb242bcf679",
            "eae39c5553e64b8c9073bc9f311dc076",
            "37257202bd284cadb7478fc2e27538e3",
            "1584699af5e54c8398b0a5d8d9d2d5a2",
            "f153e84fc6d04717aee12aff6926204d",
            "fa4a918660b441fb93c51c9376fd4676",
            "14ccbf26008143408d47e498ed72ece3",
            "eae0414946db453e9d41078ebbe723de",
            "e13aac364b9e47ecb27051409225a28f",
            "eb59862593c04291a0aef4f4b4c22483",
            "0a6bc0c39a4042648d5b06e48cdbd237",
            "3690e62d82dc47689ab642a6f39b9dbe",
            "c26245a19e4e48ffa1eaef7ec9dde136",
            "d68f8aabb3564f3899008da7299e092c",
            "4c21347e19c8487f9a0b372e05cc3c0b",
            "c07adfc398074bafb4aec84c47c11c25",
            "0782aab22b334cb4bc0b8c93644b324f",
            "b6b3c6c6ad6a4e8981aa83c664d29c52",
            "af7c43b81a48410cb6d1cbaceac81da1",
            "98584fbdea2c4f1284e1c84da72d84ea",
            "1ff34cf8b9ff4c59981750b0968fc8ac",
            "c11264588689471288540bd3ba5d2dfd",
            "3147b2d7fc03400c8cf42fac18726f78",
            "8ebec1a0b2e342a4a11a64a75615d894",
            "f7f0231e4e37499b9e1bf2672a37890a",
            "a3d5ec2b213645beb1fe0a6e8862659c",
            "c4915d2055c745efbaa041437685e67a",
            "714d23b8cda44b00a56ea00e0bb7f197",
            "35c2279e1b624e5db2489e6e65c4d763",
            "b727fa59ed2740dd84ba7da8c6be341b",
            "db44fd75aead42a192563c10346f5d34",
            "78e03f5fa4344210b51eff92aaff0739",
            "0f4e1eb0d0254a5fbb048fbf70c74009",
            "34013b9924f44fd8acee73384e1a3c59",
            "9dfc6ab1e4e64b84ac855341220aeee2",
            "ccf10e452dc14b51a30bd1b1f8b674bd",
            "268d4c9fa3b94e9abff8d0330c2530dd",
            "1d70078ee650400aa1f5259ecf94bf07",
            "313443199f99453ebd8aa7b4bedfbf8f",
            "27c29bfb463241b388d282696b0338d2",
            "65fdc2ea89014ac687f2d09c4fd7d323",
            "f5546c4871ed4801ae4509252faef1a0",
            "9652005ad0d1401680b336d6f6812ce0",
            "c9b61c9d074b4c109dac1843bca7a1d6",
            "a3a08c79b53b49228fd77bb7269522a3",
            "c9b776cbfa9346c0856933290b734e26",
            "a3c100bd11ab4368a191bd14eae376a0"
          ]
        },
        "id": "mZauCEiyznw_",
        "outputId": "48242aaa-32b7-4d32-a622-eeb20cf6d9e3"
      },
      "execution_count": 1,
      "outputs": [
        {
          "output_type": "stream",
          "name": "stderr",
          "text": [
            "/usr/local/lib/python3.10/dist-packages/huggingface_hub/utils/_token.py:88: UserWarning: \n",
            "The secret `HF_TOKEN` does not exist in your Colab secrets.\n",
            "To authenticate with the Hugging Face Hub, create a token in your settings tab (https://huggingface.co/settings/tokens), set it as secret in your Google Colab and restart your session.\n",
            "You will be able to reuse this secret in all of your notebooks.\n",
            "Please note that authentication is recommended but still optional to access public models or datasets.\n",
            "  warnings.warn(\n"
          ]
        },
        {
          "output_type": "display_data",
          "data": {
            "text/plain": [
              "model.safetensors.index.json:   0%|          | 0.00/25.1k [00:00<?, ?B/s]"
            ],
            "application/vnd.jupyter.widget-view+json": {
              "version_major": 2,
              "version_minor": 0,
              "model_id": "f0e0cf3cb8ff4c5c91437947500cb6b6"
            }
          },
          "metadata": {}
        },
        {
          "output_type": "display_data",
          "data": {
            "text/plain": [
              "Downloading shards:   0%|          | 0/3 [00:00<?, ?it/s]"
            ],
            "application/vnd.jupyter.widget-view+json": {
              "version_major": 2,
              "version_minor": 0,
              "model_id": "8646e1039a364ad398e71763f245f1e3"
            }
          },
          "metadata": {}
        },
        {
          "output_type": "display_data",
          "data": {
            "text/plain": [
              "model-00001-of-00003.safetensors:   0%|          | 0.00/4.94G [00:00<?, ?B/s]"
            ],
            "application/vnd.jupyter.widget-view+json": {
              "version_major": 2,
              "version_minor": 0,
              "model_id": "f0ddd685dc0e41de874478395983104a"
            }
          },
          "metadata": {}
        },
        {
          "output_type": "display_data",
          "data": {
            "text/plain": [
              "model-00002-of-00003.safetensors:   0%|          | 0.00/5.00G [00:00<?, ?B/s]"
            ],
            "application/vnd.jupyter.widget-view+json": {
              "version_major": 2,
              "version_minor": 0,
              "model_id": "1584699af5e54c8398b0a5d8d9d2d5a2"
            }
          },
          "metadata": {}
        },
        {
          "output_type": "display_data",
          "data": {
            "text/plain": [
              "model-00003-of-00003.safetensors:   0%|          | 0.00/4.54G [00:00<?, ?B/s]"
            ],
            "application/vnd.jupyter.widget-view+json": {
              "version_major": 2,
              "version_minor": 0,
              "model_id": "4c21347e19c8487f9a0b372e05cc3c0b"
            }
          },
          "metadata": {}
        },
        {
          "output_type": "display_data",
          "data": {
            "text/plain": [
              "Loading checkpoint shards:   0%|          | 0/3 [00:00<?, ?it/s]"
            ],
            "application/vnd.jupyter.widget-view+json": {
              "version_major": 2,
              "version_minor": 0,
              "model_id": "a3d5ec2b213645beb1fe0a6e8862659c"
            }
          },
          "metadata": {}
        },
        {
          "output_type": "display_data",
          "data": {
            "text/plain": [
              "generation_config.json:   0%|          | 0.00/111 [00:00<?, ?B/s]"
            ],
            "application/vnd.jupyter.widget-view+json": {
              "version_major": 2,
              "version_minor": 0,
              "model_id": "268d4c9fa3b94e9abff8d0330c2530dd"
            }
          },
          "metadata": {}
        }
      ]
    },
    {
      "cell_type": "code",
      "source": [
        "eval_tokenizer = AutoTokenizer.from_pretrained(model_id, add_bos_token=True, trust_remote_code=True)\n"
      ],
      "metadata": {
        "id": "lRDZONbC2-zT",
        "colab": {
          "base_uri": "https://localhost:8080/",
          "height": 145,
          "referenced_widgets": [
            "431ccf312f684a0a8e6e231407682f53",
            "75e1ecd20a5b4daeb21f498487520f93",
            "e1d8cc13200a496ebc53311cfeadfd93",
            "c0b27526aaf2448c8aecbca30dbb8d87",
            "285c8caf45b0444db132340e82f3f4d3",
            "343e7b1949be43b38bd55e458f07cc79",
            "059d383601ca4506a4a5e9fa1bca4c85",
            "41c458b544b8437aacad4a08d77fccf8",
            "764efc1594f646b896b4d3dfda52f1b1",
            "475da7f51a8649248288824a82bb1ba8",
            "6f041c058338420fa090229882b12445",
            "7222747635514772a687105f915f6309",
            "af602d92585a407ba1d7cdca39320702",
            "5470383c2f664ae5b4d3639ca68734e5",
            "30ddd729635448acabce1415ea732eab",
            "3c2cd7c3bf144ed4b40bd6b731e51514",
            "024bc57e38244ebbb16f40131f2e4c72",
            "68eb2420ad6c40c18400500fe6d6cbeb",
            "c72082face6b469cab8ae7942cc2b452",
            "3d1f8c1e316b410fafaea644c752943f",
            "24d316528ad64807bd904b86e67f0586",
            "c49f1b9a513945dc91e3316ee59131fe",
            "a12ced8e04ab4f15819bf2b8b9577742",
            "c20d13acb3df4cad883b52ab7d84abc6",
            "cfe2be15b16d45f79b7eeffcfd5a791d",
            "4cc29c7be5b84591938a5f8fd426224b",
            "bedb8b9b248e46eca337feaf560375eb",
            "b48fc5b43b8d44d88f9506c311153a7b",
            "332084a287fb4a39b9844ef752cf4c42",
            "361505b9be1547f6bda2c9d8d87db965",
            "7f7abea1afe940d38823ef64d1064b53",
            "c01605ed86e74725bd2011595870c66c",
            "6e4c5ee161b741ddb4e6fc85a26f59a2",
            "a2c49013380742c5aaad312dfbfe2adb",
            "800447a72a9148c994e5f70ca5eb89d7",
            "e07847a619004c808ceda03b31de601c",
            "555f32b8428b45469567cd2885e3d341",
            "0b1d74ce77004067960dd6e74dbabe42",
            "ee8f3d0102f34600affbad9003cc2534",
            "40c484ef43384b13aaf25e4bddd86951",
            "b42bda9cbb4c4540a81c00bebff9aa57",
            "33ef80da77744de39e81e1e4bb74a635",
            "33052d845e344b02bf51718afd1677c0",
            "d90165de08c64a8c8033004dd6cb6d16"
          ]
        },
        "outputId": "e58a0133-d7f8-47c9-c304-0cf25ac0f3e4"
      },
      "execution_count": 2,
      "outputs": [
        {
          "output_type": "display_data",
          "data": {
            "text/plain": [
              "tokenizer_config.json:   0%|          | 0.00/1.46k [00:00<?, ?B/s]"
            ],
            "application/vnd.jupyter.widget-view+json": {
              "version_major": 2,
              "version_minor": 0,
              "model_id": "431ccf312f684a0a8e6e231407682f53"
            }
          },
          "metadata": {}
        },
        {
          "output_type": "display_data",
          "data": {
            "text/plain": [
              "tokenizer.model:   0%|          | 0.00/493k [00:00<?, ?B/s]"
            ],
            "application/vnd.jupyter.widget-view+json": {
              "version_major": 2,
              "version_minor": 0,
              "model_id": "7222747635514772a687105f915f6309"
            }
          },
          "metadata": {}
        },
        {
          "output_type": "display_data",
          "data": {
            "text/plain": [
              "tokenizer.json:   0%|          | 0.00/1.80M [00:00<?, ?B/s]"
            ],
            "application/vnd.jupyter.widget-view+json": {
              "version_major": 2,
              "version_minor": 0,
              "model_id": "a12ced8e04ab4f15819bf2b8b9577742"
            }
          },
          "metadata": {}
        },
        {
          "output_type": "display_data",
          "data": {
            "text/plain": [
              "special_tokens_map.json:   0%|          | 0.00/72.0 [00:00<?, ?B/s]"
            ],
            "application/vnd.jupyter.widget-view+json": {
              "version_major": 2,
              "version_minor": 0,
              "model_id": "a2c49013380742c5aaad312dfbfe2adb"
            }
          },
          "metadata": {}
        }
      ]
    },
    {
      "cell_type": "code",
      "source": [
        "from peft import PeftModel\n",
        "\n",
        "ft_model = PeftModel.from_pretrained(model, \"drive/MyDrive/mistral-finetune/runs/mistral7b-relation-extraction-finetune_3/checkpoint-225\")\n"
      ],
      "metadata": {
        "id": "690eVjXyy_nx"
      },
      "execution_count": 3,
      "outputs": []
    },
    {
      "cell_type": "code",
      "source": [
        "import json\n",
        "with open(\"drive/MyDrive/mistral-finetune/mistral-finetuning-data.json\", \"r\") as json_file:\n",
        "    data = json.load(json_file)"
      ],
      "metadata": {
        "id": "RVD-Ay2H5Y6D"
      },
      "execution_count": 4,
      "outputs": []
    },
    {
      "cell_type": "code",
      "source": [
        "data"
      ],
      "metadata": {
        "colab": {
          "base_uri": "https://localhost:8080/"
        },
        "id": "U58uUXs25nd7",
        "outputId": "3434e56b-a06d-4cfe-9f72-30616b087aeb"
      },
      "execution_count": 25,
      "outputs": [
        {
          "output_type": "execute_result",
          "data": {
            "text/plain": [
              "[{'input': '-LRB- AP -RRB- WEST VIRGINIA 67 , VILLANOVA 56 -- Frank Young scored a career-high 25 points , including eight 3-pointers , for No. 25 West Virginia -LRB- 12-1 , 2-0 -RRB- in a Big East game .',\n",
              "  'output': \"('Frank Young', '/people/person/place_lived', 'West Virginia')\",\n",
              "  'base_model': {'response': \" Based on the given sentence, there do not seem to be any explicit relations mentioned that can be directly extracted using the provided list. The sentence primarily describes an event (a basketball game) involving entities 'West Virginia' and 'Villanova'. However, no specific relations between these entities or other mentioned entities ('Frank Young') are explicitly stated in the sentence. Therefore, the answer would be: None.\",\n",
              "   'predicted_relations': 'None',\n",
              "   'precision': 0.0,\n",
              "   'recall': 0.0,\n",
              "   'f1': 0},\n",
              "  'ft_model': {'response': ' None.',\n",
              "   'predicted_relations': ['None'],\n",
              "   'precision': 0.0,\n",
              "   'recall': 0.0,\n",
              "   'f1': 0}},\n",
              " {'input': \"9:30 P.M. (13) THE WILD PARROTS OF TELEGRAPH HILL -- '' Independent Lens '' follows Mark Bittner , a homeless street musician in San Francisco , as he literally goes to the birds -- and finds meaning in his life -- by taking up with a flock of wild red and green parrots .\",\n",
              "  'output': \"('Mark Bittner', '/people/person/place_lived', 'San Francisco')\",\n",
              "  'base_model': {'response': \" Based on the given sentence, there don't seem to be any explicit relations mentioned that can be directly extracted using the provided list. The sentence describes Mark Bittner being a homeless street musician in San Francisco who connects with a flock of wild parrots, but it does not explicitly state any location or company relationships between these entities. Therefore, none.\",\n",
              "   'predicted_relations': 'None',\n",
              "   'precision': 0.0,\n",
              "   'recall': 0.0,\n",
              "   'f1': 0},\n",
              "  'ft_model': {'response': ' None.',\n",
              "   'predicted_relations': ['None'],\n",
              "   'precision': 0.0,\n",
              "   'recall': 0.0,\n",
              "   'f1': 0}},\n",
              " {'input': 'A1 OBITUARIES A15 Mstislav Rostropovich A cellist and conductor who was renowned as one of the great instrumentalists of the 20th century and an outspoken champion of artistic freedom in the Soviet Union during the last decades of the cold war , he was 80 and lived in Paris .',\n",
              "  'output': \"('Mstislav Rostropovich', '/people/person/place_lived', 'Paris')\",\n",
              "  'base_model': {'response': ' Based on the given sentence, the following relation triple can be extracted:\\n(Mstislav Rostropovich, /people/person/place_lived, Paris)',\n",
              "   'predicted_relations': [['Mstislav Rostropovich',\n",
              "     '/people/person/place_lived',\n",
              "     'Paris']],\n",
              "   'precision': 1.0,\n",
              "   'recall': 1.0,\n",
              "   'f1': 1.0},\n",
              "  'ft_model': {'response': ' None.',\n",
              "   'predicted_relations': ['None'],\n",
              "   'precision': 0.0,\n",
              "   'recall': 0.0,\n",
              "   'f1': 0}},\n",
              " {'input': 'About 2.4 million people live within a 10-mile radius of the Westfield Garden State Plaza in Paramus , which is the largest shopping mall in the state and draws 20 million visitors a year .',\n",
              "  'output': 'None',\n",
              "  'base_model': {'response': \" Based on the given sentence, the following relation triple can be extracted: ('Westfield Garden State Plaza', '/location/located_in', 'Paramus')\",\n",
              "   'predicted_relations': [['Westfield Garden State Plaza',\n",
              "     '/location/located_in',\n",
              "     'Paramus']],\n",
              "   'precision': 0.0,\n",
              "   'recall': 0.0,\n",
              "   'f1': 0},\n",
              "  'ft_model': {'response': \" (/'business/location', '/location/country/administrative_divisions', '/business/location')\\n(Paramus , '/location/country/administrative_divisions', New Jersey)\\n(Westfield Garden State Plaza , '/business/location' , Paramus )\",\n",
              "   'predicted_relations': [(\"/'business/location\",\n",
              "     '/location/country/administrative_divisions',\n",
              "     '/business/location'),\n",
              "    ('Paramus ', '/location/country/administrative_divisions', 'New Jersey'),\n",
              "    ('Westfield Garden State Plaza ', \"/business/location' \", 'Paramus ')],\n",
              "   'precision': 0.0,\n",
              "   'recall': 0.0,\n",
              "   'f1': 0}},\n",
              " {'input': \"According to Glazer , Philadelphia 's Brian Dawkins and Jacksonville 's Donovin Darius have trained at a mixed martial arts gym .\",\n",
              "  'output': 'None',\n",
              "  'base_model': {'response': \" Based on the given sentence, there isn't a clear head entity or tail entity for any relation type in the list provided. However, we can infer that 'Philadelphia's Brian Dawkins' and 'Jacksonville's Donovin Darius' are people who have lived or reside in certain locations ('Philadelphia' and 'Jacksonville' respectively). We could potentially consider the relation '/people/person/place_lived'. But since this information is not explicitly stated in the sentence, it would be speculative to include it as a relation triple. Therefore, based on the given sentence alone, no relation triples can be definitively extracted using the provided list.\",\n",
              "   'predicted_relations': [],\n",
              "   'precision': 0,\n",
              "   'recall': 0.0,\n",
              "   'f1': 0},\n",
              "  'ft_model': {'response': ' None.',\n",
              "   'predicted_relations': ['None'],\n",
              "   'precision': 1.0,\n",
              "   'recall': 1.0,\n",
              "   'f1': 1.0}},\n",
              " {'input': 'American officials said it was possible that he is the same man who they acknowledged last week was in custody at Guantánamo Bay , Cuba .',\n",
              "  'output': \"('Guantánamo Bay', '/location/located_in', 'Cuba')\",\n",
              "  'base_model': {'response': ' Based on the given sentence, there aren\\'t any explicit entities or relations mentioned from the list provided. However, we can infer some implicit relations as follows:\\n\\n(people/person/nationality, /, American)\\n(people/person/place_lived, /, Cuba)\\n\\nThese relations are implied by the mention of \"American officials\" and \"Cuba\" in the sentence. But please note that these relations don\\'t directly relate to the entities mentioned in the sentence itself.',\n",
              "   'predicted_relations': [['people/person/nationality', '/', 'American'],\n",
              "    ['people/person/place_lived', '/', 'Cuba']],\n",
              "   'precision': 0.0,\n",
              "   'recall': 0.0,\n",
              "   'f1': 0},\n",
              "  'ft_model': {'response': ' None.',\n",
              "   'predicted_relations': ['None'],\n",
              "   'precision': 0.0,\n",
              "   'recall': 0.0,\n",
              "   'f1': 0}},\n",
              " {'input': \"Among the industry players who have contributed are Peter A. Chernin , chairman and chief executive of News Corporation 's Fox Group ; Ron Meyer , the president of Universal Studios ; Richard Cook , chairman of Walt Disney Studios ; and Brad Grey , chairman of Paramount Pictures .\",\n",
              "  'output': \"('Brad Grey', '/business/person/company', 'Paramount Pictures')\",\n",
              "  'base_model': {'response': \" Based on the given sentence, the following relation triples can be extracted:\\n(Peter A. Chernin, /business/person/company, News Corporation's Fox Group)\\n(Ron Meyer, /business/person/company, Universal Studios)\\n(Richard Cook, /business/person/company, Walt Disney Studios)\\n(Brad Grey, /business/person/company, Paramount Pictures)\\nEach person is associated with their respective company.\",\n",
              "   'predicted_relations': [['Peter A. Chernin',\n",
              "     '/business/person/company',\n",
              "     \"News Corporation's Fox Group\"],\n",
              "    ['Ron Meyer', '/business/person/company', 'Universal Studios'],\n",
              "    ['Richard Cook', '/business/person/company', 'Walt Disney Studios'],\n",
              "    ['Brad Grey', '/business/person/company', 'Paramount Pictures']],\n",
              "   'precision': 0.25,\n",
              "   'recall': 1.0,\n",
              "   'f1': 0.4},\n",
              "  'ft_model': {'response': ' (Peter A. Chernin , /business/person/company/, Fox Group ), (Ron Meyer , /business/person/company/, Universal Studios ), (Richard Cook , /business/person/company/, Walt Disney Studios ), (Brad Grey , /business/person/company/, Paramount Pictures )',\n",
              "   'predicted_relations': [('Peter A. Chernin ',\n",
              "     '/business/person/company/',\n",
              "     'Fox Group '),\n",
              "    ('Ron Meyer ', '/business/person/company/', 'Universal Studios '),\n",
              "    ('Richard Cook ', '/business/person/company/', 'Walt Disney Studios '),\n",
              "    ('Brad Grey ', '/business/person/company/', 'Paramount Pictures ')],\n",
              "   'precision': 0.0,\n",
              "   'recall': 0.0,\n",
              "   'f1': 0}},\n",
              " {'input': 'An Albert telecast has snarky notes in the key of the old David Letterman show on NBC , where Albert and his sports bloopers were frequent guests .',\n",
              "  'output': \"('David Letterman', '/business/person/company', 'NBC')\",\n",
              "  'base_model': {'response': \" Based on the given sentence, there do not seem to be any explicit entities or relationships that can be extracted using the provided relation types. The sentence mentions 'Albert', 'NBC', and 'old David Letterman show', but no clear relation between them can be determined based on the information provided alone. Therefore, the answer would be: None.\",\n",
              "   'predicted_relations': 'None',\n",
              "   'precision': 0.0,\n",
              "   'recall': 0.0,\n",
              "   'f1': 0},\n",
              "  'ft_model': {'response': ' None.',\n",
              "   'predicted_relations': ['None'],\n",
              "   'precision': 0.0,\n",
              "   'recall': 0.0,\n",
              "   'f1': 0}},\n",
              " {'input': 'Another winner was Terra Industries , an agricultural and industrial chemical company in Sioux City , Iowa .',\n",
              "  'output': \"('Sioux City', '/location/located_in', 'Iowa')\",\n",
              "  'base_model': {'response': \" Based on the given sentence, the following relation triples can be extracted:\\n(Terra Industries, /business/company, None) - This triple represents Terra Industries being identified as a company.\\n(Terra Industries, /business/industry/sector, 'agricultural and industrial chemical') - This triple represents Terra Industries being an agricultural and industrial chemical company.\\n(Sioux City, /location, None) - This triple represents Sioux City being identified as a location.\\n(Sioux City, /location/city, None) - This triple represents Sioux City being identified as a city.\\n(Sioux City, /location/addressable_location/city, None) - This triple represents Sioux City being identified as a city in this context.\\n(Sioux City, /location/located_in, Iowa) - This triple represents Sioux City located in Iowa.\\n(Iowa, /location/country, None) - This triple represents Iowa being identified as a country.\\nTherefore, the final set of relation triples would look like:\\n[(Terra Industries, /business/company, None), (Terra Industries, /business/indust\",\n",
              "   'predicted_relations': 'None',\n",
              "   'precision': 0.0,\n",
              "   'recall': 0.0,\n",
              "   'f1': 0},\n",
              "  'ft_model': {'response': ' None.',\n",
              "   'predicted_relations': ['None'],\n",
              "   'precision': 0.0,\n",
              "   'recall': 0.0,\n",
              "   'f1': 0}},\n",
              " {'input': 'As Ms. Qin spoke on the eve of the holiday at the Jade Buddha Temple in central Shanghai , scores of worshipers strolled through the temple complex .',\n",
              "  'output': \"('Jade Buddha Temple', '/location/located_in', 'Shanghai')\",\n",
              "  'base_model': {'response': ' Based on the given sentence, the following relation might be extracted:\\n(/location/location_name/temple, /location/located_in, /location/city/shanghai)\\n(Ms. Qin, /people/person/place_lived, /location/city/shanghai)\\n(Jade Buddha Temple, /business/location, /location/location_name/temple)\\nNote that there seems to be no clear head entity for the relation \"/location/country\" or any other country-related relation as the sentence does not provide enough context about the location being in a specific country. Therefore, I would not include such relations in my answer.',\n",
              "   'predicted_relations': [['/location/location_name/temple',\n",
              "     '/location/located_in',\n",
              "     '/location/city/shanghai'],\n",
              "    ['Ms. Qin', '/people/person/place_lived', '/location/city/shanghai'],\n",
              "    ['Jade Buddha Temple',\n",
              "     '/business/location',\n",
              "     '/location/location_name/temple']],\n",
              "   'precision': 0.0,\n",
              "   'recall': 0.0,\n",
              "   'f1': 0},\n",
              "  'ft_model': {'response': ' None.',\n",
              "   'predicted_relations': ['None'],\n",
              "   'precision': 0.0,\n",
              "   'recall': 0.0,\n",
              "   'f1': 0}},\n",
              " {'input': 'As the new face of the L.P.G.A. Tour , and as a star in Mexico and elsewhere , Ochoa seems to have taken to the job of being a role model .',\n",
              "  'output': 'None',\n",
              "  'base_model': {'response': ' Based on the given sentence, there do not seem to be any explicit relations mentioned that can be extracted using the provided list. Therefore, the answer would be: None.',\n",
              "   'predicted_relations': 'None',\n",
              "   'precision': 1.0,\n",
              "   'recall': 1.0,\n",
              "   'f1': 1.0},\n",
              "  'ft_model': {'response': ' None.',\n",
              "   'predicted_relations': ['None'],\n",
              "   'precision': 1.0,\n",
              "   'recall': 1.0,\n",
              "   'f1': 1.0}},\n",
              " {'input': \"At this point , he added , '' all the information we have is that it is a localized situation to Seoul , South Korea . ''\",\n",
              "  'output': \"('Seoul', '/location/located_in', 'South Korea'), ('South Korea', '/location/country/administrative_divisions', 'Seoul'), ('Seoul', '/location/administrative_division/country', 'South Korea')\",\n",
              "  'base_model': {'response': \" Based on the given sentence, the following relation might be extracted:\\n('/location/located_in', 'it', 'Seoul')\\n('/location/country/administrative_divisions', 'Seoul', 'South Korea')\\nTherefore, the relation triples would look like:\\n(it, '/location/located_in', Seoul)\\n(Seoul, '/location/country/administrative_divisions', South Korea)\",\n",
              "   'predicted_relations': [['/location/located_in', 'it', 'Seoul'],\n",
              "    ['/location/country/administrative_divisions', 'Seoul', 'South Korea'],\n",
              "    ['it', '/location/located_in', 'Seoul'],\n",
              "    ['Seoul', '/location/country/administrative_divisions', 'South Korea']],\n",
              "   'precision': 0.0,\n",
              "   'recall': 0.0,\n",
              "   'f1': 0},\n",
              "  'ft_model': {'response': ' None.',\n",
              "   'predicted_relations': ['None'],\n",
              "   'precision': 0.0,\n",
              "   'recall': 0.0,\n",
              "   'f1': 0}},\n",
              " {'input': \"Avi Dichter , a former Shin Bet director and now public security minister , said that Khaled Meshal , the political director of Hamas who is in exile in Damascus , Syria , would not be immune from Israeli attack . ''\",\n",
              "  'output': \"('Syria', '/location/country/administrative_divisions', 'Damascus'), ('Damascus', '/location/located_in', 'Syria'), ('Damascus', '/location/administrative_division/country', 'Syria')\",\n",
              "  'base_model': {'response': ' Based on the given sentence, the following relation triples can be extracted:\\n(Avi Dichter, /people/person/nationality, Israeli)\\n(Avi Dichter, /business/person/role, former Shin Bet director)\\n(Avi Dichter, /business/person/role, public security minister)\\n(Khaled Meshal, /people/person/nationality, Palestinian)\\n(Khaled Meshal, /organization/political_entity/position, political director of Hamas)\\n(Hamas, /business/location, Damascus, Syria)\\n(Khaled Meshal, /people/deceasedperson/place_of_death, Unknown)\\n(Khaled Meshal, /location/country/administrative_divisions, Syria)\\n(Khaled Meshal, /location/located_in, Damascus, Syria)',\n",
              "   'predicted_relations': [['Avi Dichter',\n",
              "     '/people/person/nationality',\n",
              "     'Israeli'],\n",
              "    ['Avi Dichter', '/business/person/role', 'former Shin Bet director'],\n",
              "    ['Avi Dichter', '/business/person/role', 'public security minister'],\n",
              "    ['Khaled Meshal', '/people/person/nationality', 'Palestinian'],\n",
              "    ['Khaled Meshal',\n",
              "     '/organization/political_entity/position',\n",
              "     'political director of Hamas'],\n",
              "    ['Hamas', '/business/location', 'Damascus, Syria'],\n",
              "    ['Khaled Meshal', '/people/deceasedperson/place_of_death', 'Unknown'],\n",
              "    ['Khaled Meshal', '/location/country/administrative_divisions', 'Syria'],\n",
              "    ['Khaled Meshal', '/location/located_in', 'Damascus, Syria']],\n",
              "   'precision': 0.0,\n",
              "   'recall': 0.0,\n",
              "   'f1': 0},\n",
              "  'ft_model': {'response': ' None.',\n",
              "   'predicted_relations': ['None'],\n",
              "   'precision': 0.0,\n",
              "   'recall': 0.0,\n",
              "   'f1': 0}},\n",
              " {'input': 'Beth Lee , President Rabbi David J. Gelfand $ -LRB- 6 $ -RRB- RESNICK -- Mildred Rothstein , of Ellenville , New York and Aventura , Florida passed away on January 8 , 2007 at age 90 .',\n",
              "  'output': \"('Aventura', '/location/located_in', 'Florida')\",\n",
              "  'base_model': {'response': ' Based on the given sentence, the following relation triple can be extracted:\\n(Mildred Rothstein, /people/person/place_lived, \"Ellenville\")\\n(Mildred Rothstein, /people/person/place_lived, \"Aventura\")\\nThere are no other relations that can be directly extracted from this sentence using the given list.',\n",
              "   'predicted_relations': [['Mildred Rothstein',\n",
              "     '/people/person/place_lived',\n",
              "     'Ellenville'],\n",
              "    ['Mildred Rothstein', '/people/person/place_lived', 'Aventura']],\n",
              "   'precision': 0.0,\n",
              "   'recall': 0.0,\n",
              "   'f1': 0},\n",
              "  'ft_model': {'response': ' None.',\n",
              "   'predicted_relations': ['None'],\n",
              "   'precision': 0.0,\n",
              "   'recall': 0.0,\n",
              "   'f1': 0}},\n",
              " {'input': \"Billy Donovan , who coached the Florida men 's team to its second consecutive N.C.A.A. title last month , and Pat Summitt , who coached the Tennessee women to their seventh title in her 33 years on the job , received the annual Winged Foot Awards last night at a dinner at the New York Athletic Club .\",\n",
              "  'output': \"('Billy Donovan', '/people/person/place_lived', 'Florida')\",\n",
              "  'base_model': {'response': \" Based on the given sentence, there are no explicit location or company entities mentioned. Therefore, the following relations cannot be extracted directly from the text: ['/business/company/advisors', '/business/location', '/business/person/company', '/location/administrative_division/country', '/location/country/administrative_divisions', '/location/located_in', '/people/deceasedperson/place_of_death', '/people/person/nationality', '/people/person/place_lived', '/people/person/place_of_birth']. However, we can infer that the New York Athletic Club is a location where the event took place. So, one possible relation would be: ('New York Athletic Club', '/location/venue', None)\",\n",
              "   'predicted_relations': 'None',\n",
              "   'precision': 0.0,\n",
              "   'recall': 0.0,\n",
              "   'f1': 0},\n",
              "  'ft_model': {'response': ' None.',\n",
              "   'predicted_relations': ['None'],\n",
              "   'precision': 0.0,\n",
              "   'recall': 0.0,\n",
              "   'f1': 0}},\n",
              " {'input': 'Born in California in 1969 , Kara Walker seems young for a full-scale museum survey .',\n",
              "  'output': \"('Kara Walker', '/people/person/place_of_birth', 'California')\",\n",
              "  'base_model': {'response': ' Based on the given sentence, the following relation can be extracted:\\n(head entity: \"Kara Walker\", relation: \"/people/person/place_of_birth\", tail entity: \"California\")',\n",
              "   'predicted_relations': [['head entity: \"Kara Walker',\n",
              "     'relation: \"/people/person/place_of_birth',\n",
              "     'tail entity: \"California']],\n",
              "   'precision': 0.0,\n",
              "   'recall': 0.0,\n",
              "   'f1': 0},\n",
              "  'ft_model': {'response': ' None.',\n",
              "   'predicted_relations': ['None'],\n",
              "   'precision': 0.0,\n",
              "   'recall': 0.0,\n",
              "   'f1': 0}},\n",
              " {'input': \"But when Frederick Ashton did this in his 1955 production for the Royal Danish Ballet -LRB- presumably the version the Danish-born Mr. Martins grew up with -RRB- , he made the men 's mysterious arrival fateful , like that of the three characters who come masked to the ball in Mozart 's '' Don Giovanni . ''\",\n",
              "  'output': \"('Frederick Ashton', '/business/person/company', 'Royal Danish Ballet')\",\n",
              "  'base_model': {'response': ' None.\\nIn the given sentence, there are no explicit mentions of companies, locations, or people with specified relationships using the provided relation types. The sentence primarily discusses the actions and productions of individuals (Frederick Ashton) and their associations with ballets and countries (Royal Danish Ballet, Denmark). However, there is no clear indication of advisory roles, nationalities, places lived, or places of birth mentioned explicitly in the text.',\n",
              "   'predicted_relations': 'None',\n",
              "   'precision': 0.0,\n",
              "   'recall': 0.0,\n",
              "   'f1': 0},\n",
              "  'ft_model': {'response': ' None.',\n",
              "   'predicted_relations': ['None'],\n",
              "   'precision': 0.0,\n",
              "   'recall': 0.0,\n",
              "   'f1': 0}},\n",
              " {'input': \"By noon , Byron York , a correspondent for the conservative National Review , had written in an online analysis that it had been '' a disastrous morning '' for Mr. Gonzales .\",\n",
              "  'output': \"('Byron York', '/business/person/company', 'National Review')\",\n",
              "  'base_model': {'response': \" None.\\nIn this sentence, there are no explicit mentions of locations, companies or countries associated with the entities 'Byron York' or 'Mr. Gonzales'. Therefore, no relation from the given list can be extracted from this sentence.\",\n",
              "   'predicted_relations': 'None',\n",
              "   'precision': 0.0,\n",
              "   'recall': 0.0,\n",
              "   'f1': 0},\n",
              "  'ft_model': {'response': ' None.',\n",
              "   'predicted_relations': ['None'],\n",
              "   'precision': 0.0,\n",
              "   'recall': 0.0,\n",
              "   'f1': 0}},\n",
              " {'input': \"Cleveland 's quarterback -- Frank Ryan , who was studying for a doctorate in math from Rice University during his playing days -- threw three touchdown passes , all to Gary Collins .\",\n",
              "  'output': \"('Frank Ryan', '/business/person/company', 'Cleveland')\",\n",
              "  'base_model': {'response': \" Based on the given sentence, there aren't any explicit relations mentioned that can be directly extracted using the provided list. However, we can infer some implicit relations as follows:\\n\\n(Frank Ryan, /people/person/place_lived, Cleveland)\\n(Frank Ryan, /business/person/company, Rice University)\\n(Rice University, /location/country/administrative_divisions, United States)\\n\\nThese relations represent that Frank Ryan lived in Cleveland, studied at Rice University which is located in the United States. Note that these relations are derived from the information given in the sentence and not explicitly stated.\",\n",
              "   'predicted_relations': [['Frank Ryan',\n",
              "     '/people/person/place_lived',\n",
              "     'Cleveland'],\n",
              "    ['Frank Ryan', '/business/person/company', 'Rice University'],\n",
              "    ['Rice University',\n",
              "     '/location/country/administrative_divisions',\n",
              "     'United States']],\n",
              "   'precision': 0.0,\n",
              "   'recall': 0.0,\n",
              "   'f1': 0},\n",
              "  'ft_model': {'response': ' None.',\n",
              "   'predicted_relations': ['None'],\n",
              "   'precision': 0.0,\n",
              "   'recall': 0.0,\n",
              "   'f1': 0}},\n",
              " {'input': \"Coincidentally , the movie Mr. Starkweather inspired , Terrence Malick 's '' Badlands , '' involves a flight to Saskatchewan .\",\n",
              "  'output': 'None',\n",
              "  'base_model': {'response': \" Based on the given sentence, there doesn't seem to be any clear-cut relation that can be extracted using the entities and relation types provided in the list. Therefore, the answer would be: None.\",\n",
              "   'predicted_relations': 'None',\n",
              "   'precision': 1.0,\n",
              "   'recall': 1.0,\n",
              "   'f1': 1.0},\n",
              "  'ft_model': {'response': ' None.',\n",
              "   'predicted_relations': ['None'],\n",
              "   'precision': 1.0,\n",
              "   'recall': 1.0,\n",
              "   'f1': 1.0}},\n",
              " {'input': \"Correction : June 9 , 2007 , Saturday An article in Business Day on May 29 about Russia 's strategy to gain a monopoly in natural gas exports to Asia through Gazprom misstated the percentage of ownership in the Kovykta gas field by TNK-BP , which is being accused by the Kremlin of having failed to meet license requirements .\",\n",
              "  'output': 'None',\n",
              "  'base_model': {'response': \" None.\\nThe given sentence does not provide sufficient information for any relation from the list to be extracted. It mentions entities such as 'Business Day', 'Russia', 'Gazprom', 'Kovykta gas field', 'TNK-BP', and 'May 29'. However, no explicit relationships between these entities are stated in the sentence.\",\n",
              "   'predicted_relations': 'None',\n",
              "   'precision': 1.0,\n",
              "   'recall': 1.0,\n",
              "   'f1': 1.0},\n",
              "  'ft_model': {'response': ' None.',\n",
              "   'predicted_relations': ['None'],\n",
              "   'precision': 1.0,\n",
              "   'recall': 1.0,\n",
              "   'f1': 1.0}},\n",
              " {'input': \"Correction : March 7 , 2007 , Wednesday An article on Sunday about an antigovernment protest in Russia referred incorrectly to Garry Kasparov , a former world chess champion , who is also a member of Russia 's liberal political opposition and who spoke to the crowd .\",\n",
              "  'output': \"('Garry Kasparov', '/people/person/nationality', 'Russia')\",\n",
              "  'base_model': {'response': \" None.\\nThe sentence mentions entities 'March 7, 2007', 'Sunday', 'Russia', 'Garry Kasparov', 'world chess champion', 'former world chess champion', 'antigovernment protest', 'Russia's liberal political opposition', 'crowd'. However, there are no explicit relationships mentioned between these entities in the sentence that can be extracted using the provided relation types.\",\n",
              "   'predicted_relations': 'None',\n",
              "   'precision': 0.0,\n",
              "   'recall': 0.0,\n",
              "   'f1': 0},\n",
              "  'ft_model': {'response': ' None.',\n",
              "   'predicted_relations': ['None'],\n",
              "   'precision': 0.0,\n",
              "   'recall': 0.0,\n",
              "   'f1': 0}},\n",
              " {'input': \"Dr. Hawking announced on his 65th birthday , in January , that he hoped to take a longer , higher flight in 2009 on a space plane being developed by Richard Branson 's company Virgin Galactic , which seeks to take six passengers to an altitude of 70 miles .\",\n",
              "  'output': \"('Virgin Galactic', '/business/company/advisors', 'Richard Branson'), ('Richard Branson', '/business/person/company', 'Virgin Galactic')\",\n",
              "  'base_model': {'response': ' Based on the given sentence, the following relation triples can be extracted:\\n(Dr. Hawking, /people/person/place_lived, January)\\n(Dr. Hawking, /people/person/place_lived, \"his 65th birthday\")\\n(Virgin Galactic, /business/company/advisors, Dr. Hawking)\\n(Virgin Galactic, /business/location/located_in, \"space\")\\n(Richard Branson, /people/person/nationality, British)\\n(Virgin Galactic, /business/person/company, Richard Branson)',\n",
              "   'predicted_relations': [['Dr. Hawking',\n",
              "     '/people/person/place_lived',\n",
              "     'January'],\n",
              "    ['Dr. Hawking', '/people/person/place_lived', 'his 65th birthday'],\n",
              "    ['Virgin Galactic', '/business/company/advisors', 'Dr. Hawking'],\n",
              "    ['Virgin Galactic', '/business/location/located_in', 'space'],\n",
              "    ['Richard Branson', '/people/person/nationality', 'British'],\n",
              "    ['Virgin Galactic', '/business/person/company', 'Richard Branson']],\n",
              "   'precision': 0.0,\n",
              "   'recall': 0.0,\n",
              "   'f1': 0},\n",
              "  'ft_model': {'response': ' None.',\n",
              "   'predicted_relations': ['None'],\n",
              "   'precision': 0.0,\n",
              "   'recall': 0.0,\n",
              "   'f1': 0}},\n",
              " {'input': 'Evan Almighty Hilarity ensues when God -LRB- Morgan Freeman -RRB- commands a newly elected congressman -LRB- Steve Carell -RRB- to start building an ark in his Virginia backyard .',\n",
              "  'output': \"('Morgan Freeman', '/people/person/place_lived', 'Virginia'), ('Steve Carell', '/people/person/place_lived', 'Virginia')\",\n",
              "  'base_model': {'response': \" Based on the given sentence, there aren't any explicit relations mentioned that can be directly extracted using the provided list. Therefore, the answer would be: None.\",\n",
              "   'predicted_relations': 'None',\n",
              "   'precision': 0.0,\n",
              "   'recall': 0.0,\n",
              "   'f1': 0},\n",
              "  'ft_model': {'response': ' None.',\n",
              "   'predicted_relations': ['None'],\n",
              "   'precision': 0.0,\n",
              "   'recall': 0.0,\n",
              "   'f1': 0}},\n",
              " {'input': 'Even with the $ 7.6 billion in donations and pledges , Mr. Siniora will still return to Lebanon with a battle on his hands as he tries to establish an international tribunal that could eventually implicate Syria in the assassination of Rafik Hariri , a former Lebanese prime minister who was an outspoken critic of Syria .',\n",
              "  'output': \"('Rafik Hariri', '/people/person/place_lived', 'Lebanon'), ('Rafik Hariri', '/people/person/nationality', 'Lebanon')\",\n",
              "  'base_model': {'response': ' None.\\nIn this sentence, there are no explicit mentions of companies, locations, or people with specified relationships using the provided relation types. The sentence primarily discusses monetary amounts, political actions, and geographical references without specifying entities in a relational context according to the given relation types.',\n",
              "   'predicted_relations': 'None',\n",
              "   'precision': 0.0,\n",
              "   'recall': 0.0,\n",
              "   'f1': 0},\n",
              "  'ft_model': {'response': ' None.',\n",
              "   'predicted_relations': ['None'],\n",
              "   'precision': 0.0,\n",
              "   'recall': 0.0,\n",
              "   'f1': 0}},\n",
              " {'input': \"For the powers at the Creative Artists Agency , Hollywood 's pre-eminent talent representative , the coming blockbuster '' Transformers '' has already brought a lesson in the cold-hearted ways of corporate entertainment .\",\n",
              "  'output': \"('Creative Artists Agency', '/business/location', 'Hollywood')\",\n",
              "  'base_model': {'response': \" None.\\nIn this sentence, there are no explicit mentions of entities or their relationships that can be extracted using the provided relation types. The sentence discusses the Creative Artists Agency being Hollywood's pre-eminent talent representative and the impact of the Transformers blockbuster on them, but it does not provide enough information for extracting specific entities and their relationships based on the given relation types.\",\n",
              "   'predicted_relations': 'None',\n",
              "   'precision': 0.0,\n",
              "   'recall': 0.0,\n",
              "   'f1': 0},\n",
              "  'ft_model': {'response': ' None.',\n",
              "   'predicted_relations': ['None'],\n",
              "   'precision': 0.0,\n",
              "   'recall': 0.0,\n",
              "   'f1': 0}},\n",
              " {'input': 'From 1981 to 1983 , Mr. Kline was a Fulbright scholar in Cracow , Poland , doing research on Stanislaw Wyspianski , the Polish painter and poet , and teaching English as a second language at Jagiellonian University .',\n",
              "  'output': \"('Cracow', '/location/located_in', 'Poland'), ('Poland', '/location/country/administrative_divisions', 'Cracow')\",\n",
              "  'base_model': {'response': ' Based on the given sentence, the following relation triples can be extracted:\\n(Mr. Kline, /people/person/place_lived, Cracow)\\n(Mr. Kline, /business/location, Jagiellonian University)\\n(Cracow, /location/country/administrative_divisions, Poland)\\n(Poland, /location/country, None)\\n(Mr. Kline, /business/company/advisors, Fulbright Scholarship)\\n(Fulbright Scholarship, /people/person, Mr. Kline)\\n(Stanislaw Wyspianski, /people/person, None)\\n(Stanislaw Wyspianski, /business/artist, None)\\n(Jagiellonian University, /business/educational_institution, None)\\n\\nThese relation triples represent that Mr. Kline lived in Cracow, he worked at Jagiellonian University, Cracow is located in Poland, and Mr. Kline was a Fulbright scholar. Note that some entities in the sentence do not have clear relationships with others based on the given',\n",
              "   'predicted_relations': 'None',\n",
              "   'precision': 0.0,\n",
              "   'recall': 0.0,\n",
              "   'f1': 0},\n",
              "  'ft_model': {'response': ' None.',\n",
              "   'predicted_relations': ['None'],\n",
              "   'precision': 0.0,\n",
              "   'recall': 0.0,\n",
              "   'f1': 0}},\n",
              " {'input': \"George Zoritch , in his youth an Adonis the Ballets Russes alumnae still rhapsodize about , ended his career on the dance faculty at the University of Arizona in Tucson . ''\",\n",
              "  'output': \"('University of Arizona', '/location/located_in', 'Tucson')\",\n",
              "  'base_model': {'response': ' Based on the given sentence, the following relation triple may be extracted:\\n(George Zoritch, /people/person/place_lived, University of Arizona in Tucson)',\n",
              "   'predicted_relations': [['George Zoritch',\n",
              "     '/people/person/place_lived',\n",
              "     'University of Arizona in Tucson']],\n",
              "   'precision': 0.0,\n",
              "   'recall': 0.0,\n",
              "   'f1': 0},\n",
              "  'ft_model': {'response': ' None.',\n",
              "   'predicted_relations': ['None'],\n",
              "   'precision': 0.0,\n",
              "   'recall': 0.0,\n",
              "   'f1': 0}},\n",
              " {'input': 'He had tested positive for a banned substance three months earlier at a tournament in Acapulco , Mexico .',\n",
              "  'output': \"('Acapulco', '/location/located_in', 'Mexico')\",\n",
              "  'base_model': {'response': \" Based on the given sentence, there isn't a clear head entity or tail entity identified directly from the text that can be associated with any relation type from the list provided. However, we can infer some implicit entities and their relationships as follows:\\n\\n(Location 'Acapulco', relation '/location/located_in', Country 'Mexico')\\n\\nThis relation indicates that 'Acapulco' is located in 'Mexico'. While this information is not explicitly stated in the sentence, it is implied by mentioning 'Acapulco, Mexico' together. This relation does not involve any named person mentioned in the sentence. Therefore, no direct relation between people or companies can be determined based on the given sentence alone.\\n\\nSo, the final answer would be:\\n[(Location 'Acapulco'), ('/location/located_in', Country 'Mexico')]\",\n",
              "   'predicted_relations': [[\"Location 'Acapulco\",\n",
              "     \"relation '/location/located_in\",\n",
              "     \"Country 'Mexico\"],\n",
              "    [\"Location 'Acapulco')\", \"('/location/located_in\", \"Country 'Mexico\"]],\n",
              "   'precision': 0.0,\n",
              "   'recall': 0.0,\n",
              "   'f1': 0},\n",
              "  'ft_model': {'response': ' None.',\n",
              "   'predicted_relations': ['None'],\n",
              "   'precision': 0.0,\n",
              "   'recall': 0.0,\n",
              "   'f1': 0}},\n",
              " {'input': \"He plans to name the Connecticut attorney general , Richard Blumenthal , as his state campaign chairman , and Representative Rosa DeLauro of Connecticut , who was once Mr. Dodd 's chief of staff , as a national chairwoman .\",\n",
              "  'output': \"('Rosa DeLauro', '/people/person/place_lived', 'Connecticut')\",\n",
              "  'base_model': {'response': \" Based on the given sentence, the following relation triples can be extracted:\\n(Richard Blumenthal, /business/person/company, State campaign chairman)\\n(Richard Blumenthal, /business/person/company, He)\\n(Rosa DeLauro, /business/person/company, National chairwoman)\\n(Rosa DeLauro, /business/person/company, He)\\n(Rosa DeLauro, /location/located_in, Connecticut)\\nTherefore, the relations that might be included in the given sentence are: ['/business/person/company'].\",\n",
              "   'predicted_relations': [['Richard Blumenthal',\n",
              "     '/business/person/company',\n",
              "     'State campaign chairman'],\n",
              "    ['Richard Blumenthal', '/business/person/company', 'He'],\n",
              "    ['Rosa DeLauro', '/business/person/company', 'National chairwoman'],\n",
              "    ['Rosa DeLauro', '/business/person/company', 'He'],\n",
              "    ['Rosa DeLauro', '/location/located_in', 'Connecticut']],\n",
              "   'precision': 0.0,\n",
              "   'recall': 0.0,\n",
              "   'f1': 0},\n",
              "  'ft_model': {'response': ' None.',\n",
              "   'predicted_relations': ['None'],\n",
              "   'precision': 0.0,\n",
              "   'recall': 0.0,\n",
              "   'f1': 0}},\n",
              " {'input': 'He was referring to coverage in the mainstream newspaper Hurriyet that said Mr. Asgari arrived at the Istanbul airport on Feb. 7 after moving his family to safety in Damascus , Syria .',\n",
              "  'output': \"('Damascus', '/location/located_in', 'Syria'), ('Syria', '/location/country/administrative_divisions', 'Damascus'), ('Damascus', '/location/administrative_division/country', 'Syria')\",\n",
              "  'base_model': {'response': ' Based on the given sentence, the following relation triple can be extracted:\\n(Mr. Asgari, /people/person/place_lived, Damascus)\\n(Damascus, /location/country/administrative_divisions, Syria)\\n(Hurriyet, /business/media/newspaper, None)\\n(Istanbul airport, /location/airport, None)\\n(Mr. Asgari, /people/person/place_arrived, Istanbul airport)\\n(Date \"Feb. 7\", /time/date, None)\\n\\nThese triples represent that Mr. Asgari lived in Damascus, which is located in Syria, and he arrived at the Istanbul airport on February 7th. The newspaper Hurriyet is represented as a media organization without any specific location or relation mentioned in the sentence.',\n",
              "   'predicted_relations': 'None',\n",
              "   'precision': 0.0,\n",
              "   'recall': 0.0,\n",
              "   'f1': 0},\n",
              "  'ft_model': {'response': ' None.',\n",
              "   'predicted_relations': ['None'],\n",
              "   'precision': 0.0,\n",
              "   'recall': 0.0,\n",
              "   'f1': 0}},\n",
              " {'input': \"Her mother , Sarah Edwards , grew up in a town house a few doors down , where Virginia 's grandmother still lives .\",\n",
              "  'output': \"('Sarah Edwards', '/people/person/place_lived', 'Virginia')\",\n",
              "  'base_model': {'response': ' Based on the given sentence, the following relation triple can be extracted:\\n(person \"Sarah Edwards\", relation \"/location/person/place_lived\", location \"a town house\")\\n(location \"a town house\", relation \"/location/located_in\", location \"where Virginia \\'s grandmother still lives\")',\n",
              "   'predicted_relations': [['person \"Sarah Edwards',\n",
              "     'relation \"/location/person/place_lived',\n",
              "     'location \"a town house'],\n",
              "    ['location \"a town house',\n",
              "     'relation \"/location/located_in',\n",
              "     'location \"where Virginia \\'s grandmother still lives']],\n",
              "   'precision': 0.0,\n",
              "   'recall': 0.0,\n",
              "   'f1': 0},\n",
              "  'ft_model': {'response': ' None.',\n",
              "   'predicted_relations': ['None'],\n",
              "   'precision': 0.0,\n",
              "   'recall': 0.0,\n",
              "   'f1': 0}},\n",
              " {'input': 'Her mother is an assistant treasurer of the NewAlliance Bank based in New Haven and is the manager of branches in Storrs and Hebron , Conn. .',\n",
              "  'output': \"('NewAlliance Bank', '/business/location', 'New Haven')\",\n",
              "  'base_model': {'response': ' Based on the given sentence, the following relation triples can be extracted:\\n(person \"mother\", /business/person/employee/position, newalliance_bank)\\n(newalliance_bank, /business/company/location, new_haven)\\n(newalliance_bank, /business/company/location, storrss)\\n(newalliance_bank, /business/company/location, hebron_conn)\\nTherefore, the mother is an employee of NewAlliance Bank, which has locations in New Haven, Storrs, and Hebron, Connecticut.',\n",
              "   'predicted_relations': [['person \"mother',\n",
              "     '/business/person/employee/position',\n",
              "     'newalliance_bank'],\n",
              "    ['newalliance_bank', '/business/company/location', 'new_haven'],\n",
              "    ['newalliance_bank', '/business/company/location', 'storrss'],\n",
              "    ['newalliance_bank', '/business/company/location', 'hebron_conn']],\n",
              "   'precision': 0.0,\n",
              "   'recall': 0.0,\n",
              "   'f1': 0},\n",
              "  'ft_model': {'response': ' None.',\n",
              "   'predicted_relations': ['None'],\n",
              "   'precision': 0.0,\n",
              "   'recall': 0.0,\n",
              "   'f1': 0}},\n",
              " {'input': 'However the legal case turns out , the Yellowstone Club is likely to leave a lasting impression across the mountains of southern Montana , with its massive , stylish and , some say , excessive version of good living .',\n",
              "  'output': 'None',\n",
              "  'base_model': {'response': \" Based on the given sentence, the following relation might be applicable:\\n['/business/location': 'Yellowstone Club', '/location/located_in': {'Montana', 'southern Montana'} ]\\nThis relation indicates that the 'Yellowstone Club' is located in 'Montana' or more specifically, 'southern Montana'.\",\n",
              "   'predicted_relations': [],\n",
              "   'precision': 0,\n",
              "   'recall': 0.0,\n",
              "   'f1': 0},\n",
              "  'ft_model': {'response': ' None.',\n",
              "   'predicted_relations': ['None'],\n",
              "   'precision': 1.0,\n",
              "   'recall': 1.0,\n",
              "   'f1': 1.0}},\n",
              " {'input': 'INDIAN EXCHANGES DIVERSIFY -- The Bombay Stock Exchange sold a 5 percent stake to the Singapore Stock Exchange for 1.89 billion India rupees , or $ 42.6 million , and the exchange in Calcutta said it planned to sell 51 percent of its shares to partners and strategic investors .',\n",
              "  'output': \"('Calcutta', '/location/located_in', 'India')\",\n",
              "  'base_model': {'response': ' Based on the given sentence, the following relation triples can be extracted:\\n(Bombay Stock Exchange, /business/company/sold_stake, Singapore Stock Exchange)\\n(Calcutta Exchange, /business/company/planned_to_sell, Partners and strategic investors)\\n(Singapore Stock Exchange, /location/country/from, India)\\n(Bombay Stock Exchange, /location/country/from, India)\\n(Calcutta Exchange, /location/country/from, India)\\nTherefore, the answer is: [(Bombay Stock Exchange, /business/company/sold_stake, Singapore Stock Exchange), (Calcutta Exchange, /business/company/planned_to_sell, Partners and strategic investors), (Singapore Stock Exchange, /location/country/from, India), (Bombay Stock Exchange, /location/country/from, India), (Calcutta Exchange, /location/country/from, India)]',\n",
              "   'predicted_relations': [['Bombay Stock Exchange',\n",
              "     '/business/company/sold_stake',\n",
              "     'Singapore Stock Exchange'],\n",
              "    ['Calcutta Exchange',\n",
              "     '/business/company/planned_to_sell',\n",
              "     'Partners and strategic investors'],\n",
              "    ['Singapore Stock Exchange', '/location/country/from', 'India'],\n",
              "    ['Bombay Stock Exchange', '/location/country/from', 'India'],\n",
              "    ['Calcutta Exchange', '/location/country/from', 'India'],\n",
              "    ['Bombay Stock Exchange',\n",
              "     '/business/company/sold_stake',\n",
              "     'Singapore Stock Exchange'],\n",
              "    ['Calcutta Exchange',\n",
              "     '/business/company/planned_to_sell',\n",
              "     'Partners and strategic investors'],\n",
              "    ['Singapore Stock Exchange', '/location/country/from', 'India'],\n",
              "    ['Bombay Stock Exchange', '/location/country/from', 'India'],\n",
              "    ['Calcutta Exchange', '/location/country/from', 'India']],\n",
              "   'precision': 0.0,\n",
              "   'recall': 0.0,\n",
              "   'f1': 0},\n",
              "  'ft_model': {'response': ' (None.)',\n",
              "   'predicted_relations': ['None'],\n",
              "   'precision': 0.0,\n",
              "   'recall': 0.0,\n",
              "   'f1': 0}},\n",
              " {'input': \"In Amman , Mr. Ban 's plane left him at Queen Alia International Airport while his welcoming party awaited him 20 miles away at Amman Airport .\",\n",
              "  'output': \"('Queen Alia International Airport', '/location/located_in', 'Amman')\",\n",
              "  'base_model': {'response': ' Based on the given sentence, the following relation triples can be extracted:\\n(Queen Alia International Airport, /location/located_in, Amman)\\n(Amman, /location/administrative_division/country, Jordan)\\n(Mr. Ban, /people/person/place_of_birth, Unknown) % This information is not explicitly stated in the sentence but assumed based on the mention of his name\\n(Mr. Ban, /people/person/place_lived, Unknown) % Same as above\\n(Mr. Ban, /business/person/place_of_death, Unknown) % Same as above\\n(Queen Alia International Airport, /business/location, Amman Airport) % Assuming \"Airport\" refers to a specific location named \"Amman Airport\"\\n(Mr. Ban, /people/person, Mr. Ban\\'s welcoming party) % Implicit relation between Mr. Ban and his welcoming party\\n(Mr. Ban\\'s welcoming party, /business/person/company, Unknown) % We don\\'t have enough information to determine the company affiliation of Mr. Ban\\'s welcoming party.',\n",
              "   'predicted_relations': [['Queen Alia International Airport',\n",
              "     '/location/located_in',\n",
              "     'Amman'],\n",
              "    ['Amman', '/location/administrative_division/country', 'Jordan'],\n",
              "    ['Mr. Ban', '/people/person/place_of_birth', 'Unknown'],\n",
              "    ['Mr. Ban', '/people/person/place_lived', 'Unknown'],\n",
              "    ['Mr. Ban', '/business/person/place_of_death', 'Unknown'],\n",
              "    ['Queen Alia International Airport',\n",
              "     '/business/location',\n",
              "     'Amman Airport'],\n",
              "    ['Mr. Ban', '/people/person', \"Mr. Ban's welcoming party\"],\n",
              "    [\"Mr. Ban's welcoming party\", '/business/person/company', 'Unknown']],\n",
              "   'precision': 0.125,\n",
              "   'recall': 1.0,\n",
              "   'f1': 0.2222222222222222},\n",
              "  'ft_model': {'response': ' None.',\n",
              "   'predicted_relations': ['None'],\n",
              "   'precision': 0.0,\n",
              "   'recall': 0.0,\n",
              "   'f1': 0}},\n",
              " {'input': \"In a telephone interview from Khartoum on Tuesday , as she and a three-member camera crew prepared for a two-hour flight on a small plane into Darfur , Ms. Curry was asked why she had felt compelled to return to Sudan twice since her first visit . ''\",\n",
              "  'output': 'None',\n",
              "  'base_model': {'response': \" Based on the given sentence, there do not seem to be any explicit entities or relationships that can be extracted using the provided relation types. The sentence mentions 'Ms. Curry' who is a person, 'Khartoum' which is a location, and 'Darfur' which is also a location. However, the relation types provided do not include simple 'person-location' or 'location-location' relationships like 'person/place_lived' or 'location/located_in'. Therefore, no relationship triples can be extracted directly from this sentence using the given relation types.\\n\\nNone.\",\n",
              "   'predicted_relations': 'None',\n",
              "   'precision': 1.0,\n",
              "   'recall': 1.0,\n",
              "   'f1': 1.0},\n",
              "  'ft_model': {'response': ' None.',\n",
              "   'predicted_relations': ['None'],\n",
              "   'precision': 1.0,\n",
              "   'recall': 1.0,\n",
              "   'f1': 1.0}},\n",
              " {'input': \"In another development , Mr. Olmert has asked security officials to examine the possibility of re-routing part of Israel 's West Bank separation barrier to bring two additional Jewish settlements inside its walls , his office said Wednesday .\",\n",
              "  'output': \"('West Bank', '/location/located_in', 'Israel')\",\n",
              "  'base_model': {'response': \" Based on the given sentence, there do not seem to be any explicit entities or relationships mentioned that can be directly extracted using the provided relation types. The sentence primarily discusses actions taken by Mr. Olmert and mentions locations (Israel's West Bank separation barrier) but does not provide enough information for extracting specific entities or their relationships according to the given relation types. Therefore, the answer would be: None.\",\n",
              "   'predicted_relations': 'None',\n",
              "   'precision': 0.0,\n",
              "   'recall': 0.0,\n",
              "   'f1': 0},\n",
              "  'ft_model': {'response': ' None.',\n",
              "   'predicted_relations': ['None'],\n",
              "   'precision': 0.0,\n",
              "   'recall': 0.0,\n",
              "   'f1': 0}},\n",
              " {'input': 'In the 1960s the town of Jindabyne was intentionally flooded by the damming of a river and left at the bottom of a newly created lake in the middle of the Snowy Mountains in southeastern Australia .',\n",
              "  'output': \"('Jindabyne', '/location/located_in', 'Australia')\",\n",
              "  'base_model': {'response': \" Based on the given sentence, the following relation triples can be extracted:\\n(entity: 'Jindabyne', relation: '/location/located_in', entity: 'a newly created lake')\\n(entity: 'Jindabyne', relation: '/location/is_part_of', entity: 'the Snowy Mountains')\\n(entity: 'Snowy Mountains', relation: '/location/is_part_of', entity: 'southeastern Australia')\\n(entity: 'Australia', relation: '/location/country', entity: 'southeastern Australia')\",\n",
              "   'predicted_relations': [[\"entity: 'Jindabyne\",\n",
              "     \"relation: '/location/located_in\",\n",
              "     \"entity: 'a newly created lake\"],\n",
              "    [\"entity: 'Jindabyne\",\n",
              "     \"relation: '/location/is_part_of\",\n",
              "     \"entity: 'the Snowy Mountains\"],\n",
              "    [\"entity: 'Snowy Mountains\",\n",
              "     \"relation: '/location/is_part_of\",\n",
              "     \"entity: 'southeastern Australia\"],\n",
              "    [\"entity: 'Australia\",\n",
              "     \"relation: '/location/country\",\n",
              "     \"entity: 'southeastern Australia\"]],\n",
              "   'precision': 0.0,\n",
              "   'recall': 0.0,\n",
              "   'f1': 0},\n",
              "  'ft_model': {'response': ' None.',\n",
              "   'predicted_relations': ['None'],\n",
              "   'precision': 0.0,\n",
              "   'recall': 0.0,\n",
              "   'f1': 0}},\n",
              " {'input': 'In the next several years , dams on the Elwha and White Salmon Rivers in Washington and the Sandy River in Oregon are scheduled to be removed .',\n",
              "  'output': \"('Elwha', '/location/located_in', 'Washington')\",\n",
              "  'base_model': {'response': ' None.\\nThe given sentence does not provide enough information for any relation from the list to be extracted. It mentions rivers and states but there are no specific entities or people mentioned that could be related by these relations.',\n",
              "   'predicted_relations': 'None',\n",
              "   'precision': 0.0,\n",
              "   'recall': 0.0,\n",
              "   'f1': 0},\n",
              "  'ft_model': {'response': ' None.',\n",
              "   'predicted_relations': ['None'],\n",
              "   'precision': 0.0,\n",
              "   'recall': 0.0,\n",
              "   'f1': 0}},\n",
              " {'input': \"Israel 's head of military intelligence , Amos Yadlin , told cabinet officials on Sunday that Israeli intelligence had seen signs of defensive planning by Syria , Iran and the Lebanese militant group Hezbollah , all seemingly bracing for a possible attack by the United States in the coming months .\",\n",
              "  'output': \"('Amos Yadlin', '/people/person/nationality', 'Israel')\",\n",
              "  'base_model': {'response': \" Based on the given sentence, there are no explicit relations mentioned between entities in the provided list. However, we can infer some implicit relations as follows:\\n(Israel, /location/country/administrative_divisions, 'Israel')\\n(Amos Yadlin, /people/person/nationality, 'Israel')\\n(Syria, /business/location, 'Syria')\\n(Iran, /business/location, 'Iran')\\n(Lebanon, /business/location, 'Lebanon')\\n(Hezbollah, /organization/militant_group/name, 'Hezbollah')\\n(Hezbollah, /business/location, 'Lebanon')\\n(United States, /business/country, 'United States')\\nThese relations are inferred based on the context of the sentence and do not directly appear in the sentence itself.\",\n",
              "   'predicted_relations': [['Israel',\n",
              "     '/location/country/administrative_divisions',\n",
              "     'Israel'],\n",
              "    ['Amos Yadlin', '/people/person/nationality', 'Israel'],\n",
              "    ['Syria', '/business/location', 'Syria'],\n",
              "    ['Iran', '/business/location', 'Iran'],\n",
              "    ['Lebanon', '/business/location', 'Lebanon'],\n",
              "    ['Hezbollah', '/organization/militant_group/name', 'Hezbollah'],\n",
              "    ['Hezbollah', '/business/location', 'Lebanon'],\n",
              "    ['United States', '/business/country', 'United States']],\n",
              "   'precision': 0.125,\n",
              "   'recall': 1.0,\n",
              "   'f1': 0.2222222222222222},\n",
              "  'ft_model': {'response': ' None.',\n",
              "   'predicted_relations': ['None'],\n",
              "   'precision': 0.0,\n",
              "   'recall': 0.0,\n",
              "   'f1': 0}},\n",
              " {'input': \"Israel annexed Jerusalem in 1967 and offered full citizenship at the time to all of Jerusalem 's residents .\",\n",
              "  'output': \"('Jerusalem', '/location/located_in', 'Israel')\",\n",
              "  'base_model': {'response': \" Based on the given sentence, there isn't any direct relation that can be extracted using the provided list. The sentence mentions 'Israel' and 'Jerusalem', but it doesn't explicitly state that Jerusalem is a location 'administered by' or 'located in' Israel, nor does it mention any specific person or company. Therefore, no relation triples can be derived from this sentence based on the given list.\\n\\nNone.\",\n",
              "   'predicted_relations': 'None',\n",
              "   'precision': 0.0,\n",
              "   'recall': 0.0,\n",
              "   'f1': 0},\n",
              "  'ft_model': {'response': ' None.',\n",
              "   'predicted_relations': ['None'],\n",
              "   'precision': 0.0,\n",
              "   'recall': 0.0,\n",
              "   'f1': 0}},\n",
              " {'input': \"It 's a pain , '' said Eli Gold , 17 , a high school student from Piedmont , Calif. , who was staying in New York with 16 other students for a conference and was told early yesterday morning that his 8 p.m. flight had been canceled . ''\",\n",
              "  'output': \"('Eli Gold', '/people/person/place_lived', 'Piedmont')\",\n",
              "  'base_model': {'response': ' Based on the given sentence, there are no explicit entities or relations mentioned from the provided list. Therefore, the answer would be: None.',\n",
              "   'predicted_relations': 'None',\n",
              "   'precision': 0.0,\n",
              "   'recall': 0.0,\n",
              "   'f1': 0},\n",
              "  'ft_model': {'response': ' None.',\n",
              "   'predicted_relations': ['None'],\n",
              "   'precision': 0.0,\n",
              "   'recall': 0.0,\n",
              "   'f1': 0}},\n",
              " {'input': \"It is in the interest of Europe , its member states and its citizens to bring this process to a successful conclusion , '' she told Parliament 's assembly in Strasbourg , France , referring to the stalemate over the constitution , which was rejected in referendums in the Netherlands and France in 2005 . ''\",\n",
              "  'output': \"('France', '/location/country/administrative_divisions', 'Strasbourg'), ('Strasbourg', '/location/located_in', 'France')\",\n",
              "  'base_model': {'response': ' Based on the given sentence, the following relation triple can be extracted:\\n(Europe, /location/country/administrative_divisions, France)\\nExplanation: In the sentence, \"Parliament\\'s assembly in Strasbourg, France\" implies that Strasbourg is located in France, making France an administrative division of Europe according to the given relation type \"/location/country/administrative_divisions\".',\n",
              "   'predicted_relations': [['Europe',\n",
              "     '/location/country/administrative_divisions',\n",
              "     'France']],\n",
              "   'precision': 0.0,\n",
              "   'recall': 0.0,\n",
              "   'f1': 0},\n",
              "  'ft_model': {'response': ' None.',\n",
              "   'predicted_relations': ['None'],\n",
              "   'precision': 0.0,\n",
              "   'recall': 0.0,\n",
              "   'f1': 0}},\n",
              " {'input': \"Its parent , DaimlerChrysler of Germany , said in February that it would consider selling Chrysler , and board members are expected to receive a barrage of questions from shareholders about a sale at the company 's annual meeting in Berlin today .\",\n",
              "  'output': \"('Berlin', '/location/administrative_division/country', 'Germany'), ('Berlin', '/location/located_in', 'Germany'), ('Germany', '/location/country/administrative_divisions', 'Berlin')\",\n",
              "  'base_model': {'response': ' Based on the given sentence, the following relation triple can be extracted:\\n(DaimlerChrysler, /business/person/company/parent_company, Its parent)\\n(DaimlerChrysler, /location/country, Germany)\\n(Germany, /location/administrative_division/country, None)\\n(Berlin, /location/city, None)\\n(Chrysler, /business/person/company, Its parent)\\n(Its parent, /business/location/located_in, Berlin)\\nTherefore, the relations extracted from the sentence are: parent_company, country, located_in.',\n",
              "   'predicted_relations': 'None',\n",
              "   'precision': 0.0,\n",
              "   'recall': 0.0,\n",
              "   'f1': 0},\n",
              "  'ft_model': {'response': ' None.',\n",
              "   'predicted_relations': ['None'],\n",
              "   'precision': 0.0,\n",
              "   'recall': 0.0,\n",
              "   'f1': 0}},\n",
              " {'input': 'Its portfolio is concentrated in some of the best neighborhoods in Washington , Southern California , New York , the San Francisco Bay area , Boston and Seattle .',\n",
              "  'output': 'None',\n",
              "  'base_model': {'response': \" Based on the given sentence, there seems to be no explicit mention of companies or specific people. However, we can infer that we're dealing with some entities related to locations. The sentence mentions several cities and regions in the United States.\\n\\nRelation: '/location/located_in'\\n\\nTriple 1: ('Washington', '/location/located_in', SomeCompanyOrRegion)\\nTriple 2: ('Southern California', '/location/located_in', SomeCompanyOrRegion)\\nTriple 3: ('New York', '/location/located_in', SomeCompanyOrRegion)\\nTriple 4: ('San Francisco Bay area', '/location/located_in', SomeCompanyOrRegion)\\nTriple 5: ('Boston', '/location/located_in', SomeCompanyOrRegion)\\nTriple 6: ('Seattle', '/location/located_in', SomeCompanyOrRegion)\\n\\nThese triples represent that the portfolio is located in these respective areas.\",\n",
              "   'predicted_relations': [['Washington',\n",
              "     '/location/located_in',\n",
              "     'SomeCompanyOrRegion'],\n",
              "    ['Southern California', '/location/located_in', 'SomeCompanyOrRegion'],\n",
              "    ['New York', '/location/located_in', 'SomeCompanyOrRegion'],\n",
              "    ['San Francisco Bay area', '/location/located_in', 'SomeCompanyOrRegion'],\n",
              "    ['Boston', '/location/located_in', 'SomeCompanyOrRegion'],\n",
              "    ['Seattle', '/location/located_in', 'SomeCompanyOrRegion']],\n",
              "   'precision': 0.0,\n",
              "   'recall': 0.0,\n",
              "   'f1': 0},\n",
              "  'ft_model': {'response': ' None.',\n",
              "   'predicted_relations': ['None'],\n",
              "   'precision': 1.0,\n",
              "   'recall': 1.0,\n",
              "   'f1': 1.0}},\n",
              " {'input': 'Its properties in Provence , France , start at $ 6,600 to $ 22,000 a week , depending on size and location .',\n",
              "  'output': \"('Provence', '/location/administrative_division/country', 'France')\",\n",
              "  'base_model': {'response': \" Based on the given sentence, the following relation might be present:\\n['/location/located_in', '/location/location_name/provence', '/location/location_name/france']\\nThis relation indicates that the locations 'Provence' and 'France' are located in each other. However, this may not be the intended meaning of the sentence as it mentions 'its properties' which could refer to buildings or establishments rather than locations per se. Therefore, this relation should be considered with caution and further context would be needed for accurate extraction.\",\n",
              "   'predicted_relations': [],\n",
              "   'precision': 0,\n",
              "   'recall': 0.0,\n",
              "   'f1': 0},\n",
              "  'ft_model': {'response': ' None.',\n",
              "   'predicted_relations': ['None'],\n",
              "   'precision': 0.0,\n",
              "   'recall': 0.0,\n",
              "   'f1': 0}},\n",
              " {'input': \"Jane Hobson New Orleans It seems curiously selective to discuss Pierre Vidal-Naquet 's writings on anti-Semitism at such length without mentioning the courageous positions he took on Israel and the Middle East -LRB- '' Denying the Deniers , '' Paul Berman -RRB- .\",\n",
              "  'output': \"('Israel', '/location/located_in', 'Middle East')\",\n",
              "  'base_model': {'response': \" None.\\nIn this sentence, there are no explicit mentions of companies, locations, or people with their relationships as per the given list. The sentence primarily focuses on discussing Pierre Vidal-Naquet's writings and his courageous positions on Israel and the Middle East.\",\n",
              "   'predicted_relations': 'None',\n",
              "   'precision': 0.0,\n",
              "   'recall': 0.0,\n",
              "   'f1': 0},\n",
              "  'ft_model': {'response': ' None.',\n",
              "   'predicted_relations': ['None'],\n",
              "   'precision': 0.0,\n",
              "   'recall': 0.0,\n",
              "   'f1': 0}},\n",
              " {'input': \"Jessica Lopez She is 43 , with a sociology degree from Sweet Briar , a women 's college in Virginia .\",\n",
              "  'output': \"('Sweet Briar', '/location/located_in', 'Virginia')\",\n",
              "  'base_model': {'response': \" Based on the given sentence, there isn't any clear relation that can be extracted using the provided list. The sentence mentions Jessica Lopez, her age, and the location of her alma mater, Sweet Briar, which is in Virginia. However, no explicit relation between these entities is stated in the sentence. Therefore, none.\",\n",
              "   'predicted_relations': 'None',\n",
              "   'precision': 0.0,\n",
              "   'recall': 0.0,\n",
              "   'f1': 0},\n",
              "  'ft_model': {'response': ' None.',\n",
              "   'predicted_relations': ['None'],\n",
              "   'precision': 0.0,\n",
              "   'recall': 0.0,\n",
              "   'f1': 0}},\n",
              " {'input': 'Jets \\\\* James Farrior , LB -LRB- Virginia -RRB- WHAT HAPPENED : After five years with the Jets , he has flourished with the Steelers , starting for the 2005 Super Bowl champions .',\n",
              "  'output': \"('James Farrior', '/people/person/place_lived', 'Virginia')\",\n",
              "  'base_model': {'response': \" Based on the given sentence, there is one possible relation that can be extracted:\\n(head entity: 'Jets', relation: '/business/person/company', tail entity: '[James Farrier]')\\nThis relation signifies that James Farrior was a person who was part of the company 'Jets'. However, no other relations from the given list appear explicitly in the sentence.\",\n",
              "   'predicted_relations': [[\"head entity: 'Jets\",\n",
              "     \"relation: '/business/person/company\",\n",
              "     \"tail entity: '[James Farrier]\"]],\n",
              "   'precision': 0.0,\n",
              "   'recall': 0.0,\n",
              "   'f1': 0},\n",
              "  'ft_model': {'response': ' None.',\n",
              "   'predicted_relations': ['None'],\n",
              "   'precision': 0.0,\n",
              "   'recall': 0.0,\n",
              "   'f1': 0}},\n",
              " {'input': 'Kuhn and his wife Luisa relocated to Ponte Vedra Beach , Florida in 1990 , where he continued his many charitable and philanthropic activities .',\n",
              "  'output': \"('Ponte Vedra Beach', '/location/located_in', 'Florida')\",\n",
              "  'base_model': {'response': ' Based on the given sentence, the following relation triple can be extracted:\\n(Kuhn, /people/person/place_lived, Ponte Vedra Beach)\\n(Ponte Vedra Beach, /location/located_in, Florida)',\n",
              "   'predicted_relations': [['Kuhn',\n",
              "     '/people/person/place_lived',\n",
              "     'Ponte Vedra Beach'],\n",
              "    ['Ponte Vedra Beach', '/location/located_in', 'Florida']],\n",
              "   'precision': 0.5,\n",
              "   'recall': 1.0,\n",
              "   'f1': 0.6666666666666666},\n",
              "  'ft_model': {'response': ' None.',\n",
              "   'predicted_relations': ['None'],\n",
              "   'precision': 0.0,\n",
              "   'recall': 0.0,\n",
              "   'f1': 0}},\n",
              " {'input': 'Lamar , Tex. , Independent School District , $ 150 million of debt securities for Fort Bend County , Tex. .',\n",
              "  'output': 'None',\n",
              "  'base_model': {'response': \" Based on the given sentence, the following relation triple can be extracted: ('Fort Bend County, Tex.', '/business/location/located_in', 'Fort Bend County School District, Lamar, Tex.'). This indicates that Fort Bend County is located in Fort Bend County School District, which is further specified as being in Lamar, Tex. However, no other relations from the given list appear explicitly in the sentence.\",\n",
              "   'predicted_relations': [['Fort Bend County',\n",
              "     'Tex.',\n",
              "     \"/business/location/located_in', 'Fort Bend County School District, Lamar, Tex.\"]],\n",
              "   'precision': 0.0,\n",
              "   'recall': 0.0,\n",
              "   'f1': 0},\n",
              "  'ft_model': {'response': ' None.',\n",
              "   'predicted_relations': ['None'],\n",
              "   'precision': 1.0,\n",
              "   'recall': 1.0,\n",
              "   'f1': 1.0}},\n",
              " {'input': \"Laure Manaudou of France won her latest gold medal in the women 's 400 freestyle , looking less than elated after she realized that she had failed to break her own world record .\",\n",
              "  'output': \"('Laure Manaudou', '/people/person/nationality', 'France'), ('Laure Manaudou', '/people/person/place_lived', 'France')\",\n",
              "  'base_model': {'response': \" None.\\nIn this sentence, we have mentioned 'Laure Manaudou of France' which can be considered as a person entity. However, no explicit location or company entities or their relationships are mentioned in the sentence.\",\n",
              "   'predicted_relations': 'None',\n",
              "   'precision': 0.0,\n",
              "   'recall': 0.0,\n",
              "   'f1': 0},\n",
              "  'ft_model': {'response': ' None.',\n",
              "   'predicted_relations': ['None'],\n",
              "   'precision': 0.0,\n",
              "   'recall': 0.0,\n",
              "   'f1': 0}},\n",
              " {'input': \"MIRAZUR At the Côte d'Azur 's most-talked-about new restaurant , the chef Mauro Colagreco -- from Alain Passard 's L'Arp ège in Paris -- trains his monklike reverence for fresh ingredients on local markets .\",\n",
              "  'output': \"('Alain Passard', '/people/person/place_lived', 'Paris')\",\n",
              "  'base_model': {'response': \" Based on the given sentence, the following relation triple can be extracted:\\n(MIRAZUR, /business/restaurant/type, most-talked-about new restaurant)\\n(chef Mauro Colagreco, /people/person/nationality, French) - This information is not explicitly stated in the sentence but assumed based on the context that he is from Paris, France.\\n(Mauro Colagreco, /business/person/occupation, chef)\\n(MIRAZUR, /location/region, Côte d'Azur)\\nTherefore, the final answer would look like this:\\n[(MIRAZUR, /business/restaurant/type, most-talked-about new restaurant),\\n (chef Mauro Colagreco, /people/person/nationality, French),\\n (Mauro Colagreco, /business/person/occupation, chef),\\n (MIRAZUR, /location/region, Côte d'Azur)]\",\n",
              "   'predicted_relations': [['MIRAZUR',\n",
              "     '/business/restaurant/type',\n",
              "     'most-talked-about new restaurant'],\n",
              "    ['chef Mauro Colagreco', '/people/person/nationality', 'French'],\n",
              "    ['Mauro Colagreco', '/business/person/occupation', 'chef'],\n",
              "    ['MIRAZUR', '/location/region', \"Côte d'Azur\"],\n",
              "    ['MIRAZUR',\n",
              "     '/business/restaurant/type',\n",
              "     'most-talked-about new restaurant'],\n",
              "    ['chef Mauro Colagreco', '/people/person/nationality', 'French'],\n",
              "    ['Mauro Colagreco', '/business/person/occupation', 'chef'],\n",
              "    ['MIRAZUR', '/location/region', \"Côte d'Azur\"]],\n",
              "   'precision': 0.0,\n",
              "   'recall': 0.0,\n",
              "   'f1': 0},\n",
              "  'ft_model': {'response': ' None.',\n",
              "   'predicted_relations': ['None'],\n",
              "   'precision': 0.0,\n",
              "   'recall': 0.0,\n",
              "   'f1': 0}},\n",
              " {'input': 'MORE than 60 years ago , as she awaited the final horrors of the Holocaust in the Bedzin ghetto of Poland , a 14-year-old Jewish girl named Rutka Laskier committed her thoughts to a diary .',\n",
              "  'output': \"('Rutka Laskier', '/people/person/place_lived', 'Poland')\",\n",
              "  'base_model': {'response': ' None.\\nThe sentence mentions a Jewish girl named Rutka Laskier who wrote a diary during the Holocaust in the Bedzin ghetto of Poland. However, no explicit business or location entities or their relationships are mentioned in the sentence.',\n",
              "   'predicted_relations': 'None',\n",
              "   'precision': 0.0,\n",
              "   'recall': 0.0,\n",
              "   'f1': 0},\n",
              "  'ft_model': {'response': ' None.',\n",
              "   'predicted_relations': ['None'],\n",
              "   'precision': 0.0,\n",
              "   'recall': 0.0,\n",
              "   'f1': 0}},\n",
              " {'input': 'Marie in 1991 and found a savior in Ted Nolan , also a member of the Ojibwa tribe .',\n",
              "  'output': \"('Ted Nolan', '/people/person/place_lived', 'Ojibwa')\",\n",
              "  'base_model': {'response': \" Based on the given sentence, there isn't enough information to extract any specific relation from the list provided. The sentence mentions Marie, Ted Nolan, and the fact that they were both members of the Ojibwa tribe at some point in time. However, no business entities or locations are mentioned, so we cannot extract any relations related to those concepts. Therefore, the answer would be: None.\",\n",
              "   'predicted_relations': 'None',\n",
              "   'precision': 0.0,\n",
              "   'recall': 0.0,\n",
              "   'f1': 0},\n",
              "  'ft_model': {'response': ' None.',\n",
              "   'predicted_relations': ['None'],\n",
              "   'precision': 0.0,\n",
              "   'recall': 0.0,\n",
              "   'f1': 0}},\n",
              " {'input': \"Martina McBride Waking Up Laughing -LRB- RCA\\\\/Sony BMG Nashville -RRB- '' I got pitched every social issue song on the planet . ''\",\n",
              "  'output': 'None',\n",
              "  'base_model': {'response': \" Based on the given sentence, there doesn't seem to be any explicit mention of entities or their relationships according to the provided list. Therefore, no relation triples can be extracted directly from this sentence.\\n\\nNone.\",\n",
              "   'predicted_relations': 'None',\n",
              "   'precision': 1.0,\n",
              "   'recall': 1.0,\n",
              "   'f1': 1.0},\n",
              "  'ft_model': {'response': ' None.',\n",
              "   'predicted_relations': ['None'],\n",
              "   'precision': 1.0,\n",
              "   'recall': 1.0,\n",
              "   'f1': 1.0}},\n",
              " {'input': 'Mr. Edwards tried to joke it off while campaigning in Adel , Iowa .',\n",
              "  'output': \"('Adel', '/location/located_in', 'Iowa')\",\n",
              "  'base_model': {'response': ' Based on the given sentence, there seems to be no explicit mention of any company or person advisor, location administrative division or country, deceased person, or place of birth or death. Therefore, none of the relations in the given list appear to be directly applicable to this sentence.',\n",
              "   'predicted_relations': 'None',\n",
              "   'precision': 0.0,\n",
              "   'recall': 0.0,\n",
              "   'f1': 0},\n",
              "  'ft_model': {'response': ' None.',\n",
              "   'predicted_relations': ['None'],\n",
              "   'precision': 0.0,\n",
              "   'recall': 0.0,\n",
              "   'f1': 0}},\n",
              " {'input': \"Nelly Furtado 's Weekend The pop singer Nelly Furtado was the big winner -LRB- and the host -RRB- when the Junos , Canada 's equivalent of the Grammys , were awarded in Toronto on Sunday , Reuters reported .\",\n",
              "  'output': \"('Canada', '/location/country/administrative_divisions', 'Toronto'), ('Toronto', '/location/located_in', 'Canada')\",\n",
              "  'base_model': {'response': ' Based on the given sentence, there are no explicit relations mentioned between entities that can be extracted using the provided relation types. Therefore, the answer would be: None.',\n",
              "   'predicted_relations': 'None',\n",
              "   'precision': 0.0,\n",
              "   'recall': 0.0,\n",
              "   'f1': 0},\n",
              "  'ft_model': {'response': ' None.',\n",
              "   'predicted_relations': ['None'],\n",
              "   'precision': 0.0,\n",
              "   'recall': 0.0,\n",
              "   'f1': 0}},\n",
              " {'input': 'Now that may not be necessary , with Israel and the West embracing the idea of a non-Hamas government , even if its powers are limited to the West Bank .',\n",
              "  'output': 'None',\n",
              "  'base_model': {'response': ' None.\\nIn this sentence, there are no explicit mentions of companies, locations, or people with their relationships as per the provided list. The sentence discusses the ideas and actions related to Israel and the West, but it does not provide sufficient information for extracting any specific entities or relations using the given list.',\n",
              "   'predicted_relations': 'None',\n",
              "   'precision': 1.0,\n",
              "   'recall': 1.0,\n",
              "   'f1': 1.0},\n",
              "  'ft_model': {'response': ' None.',\n",
              "   'predicted_relations': ['None'],\n",
              "   'precision': 1.0,\n",
              "   'recall': 1.0,\n",
              "   'f1': 1.0}},\n",
              " {'input': 'One by Loring Brinckerhoff , director of disability policy at the Educational Testing Service , highlights colleges with good comprehensive programs , including the University of Arizona in Tucson , Curry College in Massachusetts , Stanford and the University of North Carolina , Chapel Hill .',\n",
              "  'output': \"('University of Arizona', '/location/located_in', 'Tucson')\",\n",
              "  'base_model': {'response': ' Based on the given sentence, the following relation triples can be extracted:\\n(Educational Testing Service, /business/company/employee/has_employee, Loring Brinckerhoff)\\n(Loring Brinckerhoff, /people/person/occupation/is_occupation_of, director of disability policy)\\n(University of Arizona, /location/located_in, Tucson)\\n(Curry College, /location/located_in, Massachusetts)\\n(Stanford, None) % This entity doesn\\'t have any explicit relation mentioned in the text\\n(University of North Carolina, Chapel Hill, /location/located_in)\\n(University of North Carolina, Chapel Hill, /business/educational_institution/has_campus)\\nNote that for entities like \"Stanford\" which don\\'t have any explicit relation mentioned in the text but still need to be recognized as entities, we assign them a relation of type \\'None\\'.',\n",
              "   'predicted_relations': 'None',\n",
              "   'precision': 0.0,\n",
              "   'recall': 0.0,\n",
              "   'f1': 0},\n",
              "  'ft_model': {'response': ' None.',\n",
              "   'predicted_relations': ['None'],\n",
              "   'precision': 0.0,\n",
              "   'recall': 0.0,\n",
              "   'f1': 0}},\n",
              " {'input': 'Paul Secon , who in 1949 loaded the family station wagon with discontinued and slightly damaged ceramics from an upstate New York factory , drove to Manhattan and opened the first Pottery Barn store , died Feb. 24 at his home in Rochester .',\n",
              "  'output': \"('Paul Secon', '/people/deceasedperson/place_of_death', 'Rochester'), ('Paul Secon', '/people/person/place_lived', 'Rochester')\",\n",
              "  'base_model': {'response': ' Based on the given sentence, the following relation triples can be extracted:\\n(Paul Secon, /people/person/place_lived, Upstate New York)\\n(Paul Secon, /business/person/company, Pottery Barn)\\n(Pottery Barn, /location/located_in, Manhattan)\\n(Paul Secon, /people/person/place_of_death, Rochester)',\n",
              "   'predicted_relations': [['Paul Secon',\n",
              "     '/people/person/place_lived',\n",
              "     'Upstate New York'],\n",
              "    ['Paul Secon', '/business/person/company', 'Pottery Barn'],\n",
              "    ['Pottery Barn', '/location/located_in', 'Manhattan'],\n",
              "    ['Paul Secon', '/people/person/place_of_death', 'Rochester']],\n",
              "   'precision': 0.0,\n",
              "   'recall': 0.0,\n",
              "   'f1': 0},\n",
              "  'ft_model': {'response': ' None.',\n",
              "   'predicted_relations': ['None'],\n",
              "   'precision': 0.0,\n",
              "   'recall': 0.0,\n",
              "   'f1': 0}},\n",
              " {'input': 'Paul Touvier , the chief of the wartime paramilitary militia in Lyon , was sentenced to life in prison in 1994 after being convicted of ordering the execution of seven Jews .',\n",
              "  'output': \"('Paul Touvier', '/people/person/place_lived', 'Lyon')\",\n",
              "  'base_model': {'response': \" Based on the given sentence, the following relation triples can be extracted:\\n(Paul Touvier, /people/person/place_of_birth, Unknown) - Paul Touvier is a person, but no specific place of birth is mentioned in the sentence.\\n(Paul Touvier, /business/company/roles/chief, Wartime paramilitary militia in Lyon) - Paul Touvier is the chief of the wartime paramilitary militia in Lyon.\\n(Wartime paramilitary militia in Lyon, /location/located_in, Lyon) - The wartime paramilitary militia in Lyon is located in Lyon.\\n(Paul Touvier, /people/person/place_lived, Lyon) - Paul Touvier lived in Lyon.\\n(Paul Touvier, /people/deceasedperson/place_of_death, Unknown) - No information about Paul Touvier's place of death is mentioned in the sentence.\\n(Paul Touvier, /business/person/convicted_for, Execution of seven Jews) - Paul Touvier\",\n",
              "   'predicted_relations': [['Paul Touvier',\n",
              "     '/people/person/place_of_birth',\n",
              "     'Unknown'],\n",
              "    ['Paul Touvier',\n",
              "     '/business/company/roles/chief',\n",
              "     'Wartime paramilitary militia in Lyon'],\n",
              "    ['Wartime paramilitary militia in Lyon', '/location/located_in', 'Lyon'],\n",
              "    ['Paul Touvier', '/people/person/place_lived', 'Lyon'],\n",
              "    ['Paul Touvier', '/people/deceasedperson/place_of_death', 'Unknown'],\n",
              "    ['Paul Touvier',\n",
              "     '/business/person/convicted_for',\n",
              "     'Execution of seven Jews']],\n",
              "   'precision': 0.16666666666666666,\n",
              "   'recall': 1.0,\n",
              "   'f1': 0.2857142857142857},\n",
              "  'ft_model': {'response': ' None.',\n",
              "   'predicted_relations': ['None'],\n",
              "   'precision': 0.0,\n",
              "   'recall': 0.0,\n",
              "   'f1': 0}},\n",
              " {'input': 'Peter Munk , founder and chairman of Barrick Gold in Toronto , has warned that an exodus of head offices to other countries will cause , among other things , lower levels of charitable donations and fewer opportunities for skilled workers .',\n",
              "  'output': \"('Peter Munk', '/people/person/place_lived', 'Toronto'), ('Barrick Gold', '/business/location', 'Toronto'), ('Barrick Gold', '/people/person/place_lived', 'Toronto'), ('Peter Munk', '/business/person/company', 'Barrick Gold'), ('Barrick Gold', '/business/company/advisors', 'Peter Munk'), ('Barrick Gold', '/business/person/company', 'Peter Munk')\",\n",
              "  'base_model': {'response': ' Based on the given sentence, the following relation triples can be extracted:\\n(Peter Munk, /people/person/place_lived, Toronto)\\n(Barrick Gold, /business/company/headquarter_location, Toronto)\\n(/business/city/Toronto, /location/country/administrative_divisions, Canada)\\n(Peter Munk, /business/person/company, Barrick Gold)\\n(Peter Munk, /people/person/occupation, founder)\\n(Peter Munk, /people/person/occupation, chairman)\\nNote: The relation \"/business/company/advisors\" is not applicable as there is no mention of any advisor in the sentence. Also, the relation \"/location/located_in\" could potentially apply between \"Toronto\" and \"Canada\", but since we already have a triple stating that Toronto is in Canada, we do not need another one.',\n",
              "   'predicted_relations': [['Peter Munk',\n",
              "     '/people/person/place_lived',\n",
              "     'Toronto'],\n",
              "    ['Barrick Gold', '/business/company/headquarter_location', 'Toronto'],\n",
              "    ['/business/city/Toronto',\n",
              "     '/location/country/administrative_divisions',\n",
              "     'Canada'],\n",
              "    ['Peter Munk', '/business/person/company', 'Barrick Gold'],\n",
              "    ['Peter Munk', '/people/person/occupation', 'founder'],\n",
              "    ['Peter Munk', '/people/person/occupation', 'chairman']],\n",
              "   'precision': 0.0,\n",
              "   'recall': 0.0,\n",
              "   'f1': 0},\n",
              "  'ft_model': {'response': ' None.',\n",
              "   'predicted_relations': ['None'],\n",
              "   'precision': 0.0,\n",
              "   'recall': 0.0,\n",
              "   'f1': 0}},\n",
              " {'input': \"Philip Rylands , director of the Peggy Guggenheim Collection in Venice , said that the terms of the competition had been altered during the process , '' so the vision for the Punta della Dogana changed from a dynamic center of contemporary art to a static museum of modern art . ''\",\n",
              "  'output': 'None',\n",
              "  'base_model': {'response': ' Based on the given sentence, the following relation triple can be extracted:\\n(Philip Rylands, /people/person/occupation, director)\\n(Peggy Guggenheim Collection, /business/company, company)\\n(Peggy Guggenheim Collection, /location/located_in, Venice)\\n(vision for the Punta della Dogana, /people/person/concept, dynamic center of contemporary art)\\n(punta della Dogana, /business/company, company)\\n(punta della Dogana, /people/person/concept, static museum of modern art)\\n\\nThese relations represent that Philip Rylands is a person who is the director of the Peggy Guggenheim Collection, which is a company located in Venice. The vision for the Punta della Dogana was initially conceptualized as a dynamic center of contemporary art but later changed to a static museum of modern art.',\n",
              "   'predicted_relations': [['Philip Rylands',\n",
              "     '/people/person/occupation',\n",
              "     'director'],\n",
              "    ['Peggy Guggenheim Collection', '/business/company', 'company'],\n",
              "    ['Peggy Guggenheim Collection', '/location/located_in', 'Venice'],\n",
              "    ['vision for the Punta della Dogana',\n",
              "     '/people/person/concept',\n",
              "     'dynamic center of contemporary art'],\n",
              "    ['punta della Dogana', '/business/company', 'company'],\n",
              "    ['punta della Dogana',\n",
              "     '/people/person/concept',\n",
              "     'static museum of modern art']],\n",
              "   'precision': 0.0,\n",
              "   'recall': 0.0,\n",
              "   'f1': 0},\n",
              "  'ft_model': {'response': ' None.',\n",
              "   'predicted_relations': ['None'],\n",
              "   'precision': 1.0,\n",
              "   'recall': 1.0,\n",
              "   'f1': 1.0}},\n",
              " {'input': \"Second and third place went to Fritz Strobl of Austria (1:14.62) and Bruno Kernen of Switzerland (1:14.92) , a pair of 34-year-olds , each the last to qualify for his nation 's four-man race quota .\",\n",
              "  'output': \"('Bruno Kernen', '/people/person/nationality', 'Switzerland')\",\n",
              "  'base_model': {'response': ' Based on the given sentence, the following relation triple can be extracted:\\n(person \"Fritz Strobl\", /people/person/nationality, country \"Austria\")\\n(person \"Bruno Kernen\", /people/person/nationality, country \"Switzerland\")',\n",
              "   'predicted_relations': [['person \"Fritz Strobl',\n",
              "     '/people/person/nationality',\n",
              "     'country \"Austria'],\n",
              "    ['person \"Bruno Kernen',\n",
              "     '/people/person/nationality',\n",
              "     'country \"Switzerland']],\n",
              "   'precision': 0.0,\n",
              "   'recall': 0.0,\n",
              "   'f1': 0},\n",
              "  'ft_model': {'response': ' None.',\n",
              "   'predicted_relations': ['None'],\n",
              "   'precision': 0.0,\n",
              "   'recall': 0.0,\n",
              "   'f1': 0}},\n",
              " {'input': \"Senator Jim DeMint of South Carolina , a critic of the measure , said he had heard from people who were upset not only with the legislation , but also with his Republican colleague from the state , Senator Lindsey Graham , one of the measure 's architects . ''\",\n",
              "  'output': 'None',\n",
              "  'base_model': {'response': ' Based on the given sentence, there aren\\'t any explicit relations mentioned between entities that can be directly extracted using the provided relation types. However, we can infer some implicit relationships based on the context:\\n\\n1. (Person/Jim DeMint, Person/place_of_birth, Location/South_Carolina) - This can be inferred as Jim DeMint is described as being \"from South Carolina\".\\n2. (Person/Lindsey_Graham, Person/person, Person/Jim_DeMint) - They are both persons and mentioned in the same sentence as colleagues.\\n3. (Location/South_Carolina, location/located_in, Country/) - South Carolina is located in a country, although this isn\\'t explicitly stated in the sentence.\\n4. (Person/Jim_DeMint, /business/person/politician, Organization/Republican_Party) - Jim DeMint is identified as a senator and a Republican, implying membership in the Republican Party.\\n5. (Person/Jim_DeMint, /business/person/critic, Legislation/) - He is described as a critic',\n",
              "   'predicted_relations': [['Person/Jim DeMint',\n",
              "     'Person/place_of_birth',\n",
              "     'Location/South_Carolina'],\n",
              "    ['Person/Lindsey_Graham', 'Person/person', 'Person/Jim_DeMint'],\n",
              "    ['Location/South_Carolina', 'location/located_in', 'Country/'],\n",
              "    ['Person/Jim_DeMint',\n",
              "     '/business/person/politician',\n",
              "     'Organization/Republican_Party'],\n",
              "    ['Person/Jim_DeMint', '/business/person/critic', 'Legislation/']],\n",
              "   'precision': 0.0,\n",
              "   'recall': 0.0,\n",
              "   'f1': 0},\n",
              "  'ft_model': {'response': ' None.',\n",
              "   'predicted_relations': ['None'],\n",
              "   'precision': 1.0,\n",
              "   'recall': 1.0,\n",
              "   'f1': 1.0}},\n",
              " {'input': \"Several Italian politicians have criticized Pirelli 's plan to sell most of Olimpia to the two North American companies , and the chief executive of one of Italy 's largest banks made a thinly veiled call for a group of domestic companies to band together to buy control of Telecom Italia .\",\n",
              "  'output': 'None',\n",
              "  'base_model': {'response': \" Based on the given sentence, the following relation triple may be extracted:\\n(head entity: 'Pirelli', relation: '/business/company/plan', tail entity: 'to sell most of Olimpia')\\n(head entity: 'Italian politicians', relation: '/people/person/nationality', tail entity: 'Italy')\\n(head entity: 'one of Italy ’s largest banks', relation: '/business/bank/CEO', tail entity: 'chief executive')\\n(head entity: 'North American companies', relation: '/business/company/type', tail entity: 'North American')\\n(head entity: 'group of domestic companies', relation: '/business/person/company', tail entity: 'domestic companies')\\n(head entity: 'Telecom Italia ', relation: '/business/company/target', tail entity: 'control of')\\nHowever, there isn't any direct relation mentioned between entities 'Pirelli' and 'domestic companies'. The sentence implies that they are involved in some sort of competition or conflict over ownership of 'Telecom Italia', but it does not explicitly state that 'domestic companies' aim to buy 'Pirelli's shares\",\n",
              "   'predicted_relations': [[\"head entity: 'Pirelli\",\n",
              "     \"relation: '/business/company/plan\",\n",
              "     \"tail entity: 'to sell most of Olimpia\"],\n",
              "    [\"head entity: 'Italian politicians\",\n",
              "     \"relation: '/people/person/nationality\",\n",
              "     \"tail entity: 'Italy\"],\n",
              "    [\"head entity: 'one of Italy ’s largest banks\",\n",
              "     \"relation: '/business/bank/CEO\",\n",
              "     \"tail entity: 'chief executive\"],\n",
              "    [\"head entity: 'North American companies\",\n",
              "     \"relation: '/business/company/type\",\n",
              "     \"tail entity: 'North American\"],\n",
              "    [\"head entity: 'group of domestic companies\",\n",
              "     \"relation: '/business/person/company\",\n",
              "     \"tail entity: 'domestic companies\"],\n",
              "    [\"head entity: 'Telecom Italia \",\n",
              "     \"relation: '/business/company/target\",\n",
              "     \"tail entity: 'control of\"]],\n",
              "   'precision': 0.0,\n",
              "   'recall': 0.0,\n",
              "   'f1': 0},\n",
              "  'ft_model': {'response': ' None.',\n",
              "   'predicted_relations': ['None'],\n",
              "   'precision': 1.0,\n",
              "   'recall': 1.0,\n",
              "   'f1': 1.0}},\n",
              " {'input': 'She is survived by her brother Stanley H. Rumbough and her sisters Nina Rumbough of Greenwich , Connecticut and Stephanie Saunders of Charlesston , South Carolina .',\n",
              "  'output': \"('Greenwich', '/location/located_in', 'Connecticut')\",\n",
              "  'base_model': {'response': ' Based on the given sentence, the following relation triples can be extracted:\\n(persons/she, relations/people/person/survived_by, persons/stanley_h_rumbough)\\n(persons/she, relations/people/person/sister_of, persons/nina_rumbough)\\n(persons/she, relations/people/person/sister_of, persons/stephanie_saunders)\\n(locations/greenwich,_connecticut, relations/location/located_in, persons/nina_rumbaugh)\\n(locations/charlesston,_south_carolina, relations/location/located_in, persons/stephanie_saunders)',\n",
              "   'predicted_relations': [['persons/she',\n",
              "     'relations/people/person/survived_by',\n",
              "     'persons/stanley_h_rumbough'],\n",
              "    ['persons/she',\n",
              "     'relations/people/person/sister_of',\n",
              "     'persons/nina_rumbough'],\n",
              "    ['persons/she',\n",
              "     'relations/people/person/sister_of',\n",
              "     'persons/stephanie_saunders']],\n",
              "   'precision': 0.0,\n",
              "   'recall': 0.0,\n",
              "   'f1': 0},\n",
              "  'ft_model': {'response': ' None.',\n",
              "   'predicted_relations': ['None'],\n",
              "   'precision': 0.0,\n",
              "   'recall': 0.0,\n",
              "   'f1': 0}},\n",
              " {'input': \"Shortly after he won the Nobel , the Bogotá daily newspaper El Tiempo sent a reporter here , and he described Aracataca as '' a ruined , backward town , without the tiniest attraction . ''\",\n",
              "  'output': 'None',\n",
              "  'base_model': {'response': ' Based on the given sentence, there doesn\\'t seem to be any explicit mention of companies or locations being related to each other or to people. Therefore, no relations from the given list would directly apply to this sentence. However, we can infer that \"here\" refers to Colombia based on context, so we could potentially have the following relation for the person mentioned: (\\'Aracataca\\', /location/country/\\'Colombia\\', /people/person/\\'him\\') for representing the fact that \\'he\\' is from Colombia. But keep in mind that this is not explicitly stated in the sentence and is an inference made based on context. So, the final answer would be: None.',\n",
              "   'predicted_relations': 'None',\n",
              "   'precision': 1.0,\n",
              "   'recall': 1.0,\n",
              "   'f1': 1.0},\n",
              "  'ft_model': {'response': ' None.',\n",
              "   'predicted_relations': ['None'],\n",
              "   'precision': 1.0,\n",
              "   'recall': 1.0,\n",
              "   'f1': 1.0}},\n",
              " {'input': \"Some of the biggest creative names in Canada are choosing to introduce their new works in Calgary . ''\",\n",
              "  'output': \"('Calgary', '/location/located_in', 'Canada')\",\n",
              "  'base_model': {'response': \" Based on the given sentence, the following relation might be extracted:\\n('/people/person': head entity 1, '/location/located_in': relation 1, 'Calgary' : tail entity 1)\",\n",
              "   'predicted_relations': [[\"/people/person': head entity 1\",\n",
              "     \"/location/located_in': relation 1\",\n",
              "     \"Calgary' : tail entity 1\"]],\n",
              "   'precision': 0.0,\n",
              "   'recall': 0.0,\n",
              "   'f1': 0},\n",
              "  'ft_model': {'response': ' None.',\n",
              "   'predicted_relations': ['None'],\n",
              "   'precision': 0.0,\n",
              "   'recall': 0.0,\n",
              "   'f1': 0}},\n",
              " {'input': \"Songs From ` Here Lies Love ' '' offered 20 selections from his forthcoming multimedia production about Imelda Marcos , the former first lady of the Philippines and an enduring symbol of despotic extravagance and shoe love .\",\n",
              "  'output': \"('Imelda Marcos', '/people/person/place_lived', 'Philippines'), ('Imelda Marcos', '/people/person/nationality', 'Philippines')\",\n",
              "  'base_model': {'response': \" None.\\nIn this sentence, there are no explicit mentions of specific entities or locations that can be related using the provided relation types. The sentence primarily talks about 'Songs From Here Lies Love', which is a multimedia production by an unspecified 'he'. There is also a reference to Imelda Marcos as the former first lady of the Philippines, but no location or company is explicitly mentioned in relation to her. Therefore, no relation triples can be extracted from this sentence based on the given list.\",\n",
              "   'predicted_relations': 'None',\n",
              "   'precision': 0.0,\n",
              "   'recall': 0.0,\n",
              "   'f1': 0},\n",
              "  'ft_model': {'response': ' None.',\n",
              "   'predicted_relations': ['None'],\n",
              "   'precision': 0.0,\n",
              "   'recall': 0.0,\n",
              "   'f1': 0}},\n",
              " {'input': 'Stallone Fined for Hormone Imports Sylvester Stallone , right , officially became a convict in Australia yesterday .',\n",
              "  'output': \"('Sylvester Stallone', '/people/person/place_lived', 'Australia')\",\n",
              "  'base_model': {'response': \" Based on the given sentence, there doesn't seem to be any explicit mention of companies or locations involved. Therefore, none of the relations from the given list would directly apply to this sentence. However, if we make some assumptions based on context, we could potentially infer that 'Australia' is a location where an event occurred ('/location/country/location'), and 'Sylvester Stallone' is a person who was in a specific country ('/people/person/place_lived'). But these inferences would require additional context or background knowledge not provided in the sentence itself. So, the answer remains: None.\",\n",
              "   'predicted_relations': 'None',\n",
              "   'precision': 0.0,\n",
              "   'recall': 0.0,\n",
              "   'f1': 0},\n",
              "  'ft_model': {'response': ' None.',\n",
              "   'predicted_relations': ['None'],\n",
              "   'precision': 0.0,\n",
              "   'recall': 0.0,\n",
              "   'f1': 0}},\n",
              " {'input': 'That changed in 1994 , when voters in North Carolina and South Carolina elected Republican majorities in their Houses , and Florida elected a Republican majority in its Senate , according to the National Conference of State Legislatures .',\n",
              "  'output': 'None',\n",
              "  'base_model': {'response': ' Based on the given sentence, the following relation triple may be extracted:\\n(National_Conference_of_State_Legislatures, /business/organization/reports, That)\\n(North_Carolina, /location/country/administrative_divisions/state, United_States)\\n(South_Carolina, /location/country/administrative_divisions/state, United_States)\\n(Florida, /location/country/administrative_divisions/state, United_States)\\n(North_Carolina, /location/located_in, Eastern_United_States)\\n(South_Carolina, /location/located_in, Southeastern_United_States)\\n(Florida, /location/located_in, Southeastern_United_States)\\n(Republican_majorities, /business/company/political_party, Republicans)\\n(Voters_in_North_Carolina_and_South_Carolina, /people/group, Voters)\\n(Voters_in_Florida, /people/group,',\n",
              "   'predicted_relations': [['National_Conference_of_State_Legislatures',\n",
              "     '/business/organization/reports',\n",
              "     'That'],\n",
              "    ['North_Carolina',\n",
              "     '/location/country/administrative_divisions/state',\n",
              "     'United_States'],\n",
              "    ['South_Carolina',\n",
              "     '/location/country/administrative_divisions/state',\n",
              "     'United_States'],\n",
              "    ['Florida',\n",
              "     '/location/country/administrative_divisions/state',\n",
              "     'United_States'],\n",
              "    ['North_Carolina', '/location/located_in', 'Eastern_United_States'],\n",
              "    ['South_Carolina', '/location/located_in', 'Southeastern_United_States'],\n",
              "    ['Florida', '/location/located_in', 'Southeastern_United_States'],\n",
              "    ['Republican_majorities',\n",
              "     '/business/company/political_party',\n",
              "     'Republicans'],\n",
              "    ['Voters_in_North_Carolina_and_South_Carolina',\n",
              "     '/people/group',\n",
              "     'Voters']],\n",
              "   'precision': 0.0,\n",
              "   'recall': 0.0,\n",
              "   'f1': 0},\n",
              "  'ft_model': {'response': ' None.',\n",
              "   'predicted_relations': ['None'],\n",
              "   'precision': 1.0,\n",
              "   'recall': 1.0,\n",
              "   'f1': 1.0}},\n",
              " {'input': 'That was underscored when 10 Consol miners traveled to California to shoot the commercial at Zoic Studios , bringing along their equipment and gear .',\n",
              "  'output': \"('Zoic Studios', '/business/location', 'California')\",\n",
              "  'base_model': {'response': \" Based on the given sentence, there do not seem to be any explicit entities or relationships that can be extracted using the provided list. The sentence mentions '10 Consol miners' and 'California' as locations, but no clear business or person entities or their relationships are mentioned. Therefore, the answer would be: None.\",\n",
              "   'predicted_relations': 'None',\n",
              "   'precision': 0.0,\n",
              "   'recall': 0.0,\n",
              "   'f1': 0},\n",
              "  'ft_model': {'response': ' None.',\n",
              "   'predicted_relations': ['None'],\n",
              "   'precision': 0.0,\n",
              "   'recall': 0.0,\n",
              "   'f1': 0}},\n",
              " {'input': \"The Faculty Senate at Southern Methodist University in Dallas rejected a proposal yesterday for a faculty referendum on plans for an independent policy institute on campus that would accompany President Bush 's future library and museum .\",\n",
              "  'output': 'None',\n",
              "  'base_model': {'response': \" Based on the given sentence, the following relation triple may be extracted:\\n(Entity: 'Faculty Senate at Southern Methodist University', Relation: '/business/organization/meeting', Tail Entity: 'rejected a proposal')\\n(Entity: 'Southern Methodist University in Dallas', Relation: '/location/city', Tail Entity: None)\\n(Entity: 'Southern Methodist University in Dallas', Relation: '/business/educational_institution/campus', Tail Entity: None)\\n(Entity: 'President Bush ', Relation: '/people/person/politician', Tail Entity: None)\\nThere isn't any relation directly mentioned in the sentence between entities related to companies or locations and entities related to countries, deceased persons, or places of birth/living. Therefore, no triples involving those relation types can be derived from this sentence.\",\n",
              "   'predicted_relations': 'None',\n",
              "   'precision': 1.0,\n",
              "   'recall': 1.0,\n",
              "   'f1': 1.0},\n",
              "  'ft_model': {'response': ' None.',\n",
              "   'predicted_relations': ['None'],\n",
              "   'precision': 1.0,\n",
              "   'recall': 1.0,\n",
              "   'f1': 1.0}},\n",
              " {'input': 'The United Nations mediator Martti Ahtisaari presented his proposals for the final status of Kosovo on Friday , most likely setting the tiny war-torn territory on its way toward independence .',\n",
              "  'output': \"('Martti Ahtisaari', '/business/person/company', 'United Nations')\",\n",
              "  'base_model': {'response': ' None.\\nIn this sentence, there are no explicit mentions of companies, locations, or people having specific relationships as defined by the provided relation types. The sentence primarily discusses the role of Martti Ahtisaari as the UN mediator and the proposed path towards independence for Kosovo.',\n",
              "   'predicted_relations': 'None',\n",
              "   'precision': 0.0,\n",
              "   'recall': 0.0,\n",
              "   'f1': 0},\n",
              "  'ft_model': {'response': ' None.',\n",
              "   'predicted_relations': ['None'],\n",
              "   'precision': 0.0,\n",
              "   'recall': 0.0,\n",
              "   'f1': 0}},\n",
              " {'input': 'The craft that is to replace the space shuttle could be delayed because of recent budget reductions , pushing its first missions into 2015 instead of 2014 , the NASA administrator , Michael D. Griffin , told a Senate committee on Wednesday .',\n",
              "  'output': \"('Michael D. Griffin', '/business/person/company', 'NASA')\",\n",
              "  'base_model': {'response': ' None.\\nIn this sentence, there are no explicit mentions of companies, locations, or people with specific relationships as defined by the provided relation types. The sentence primarily discusses events related to the NASA administrator and the spacecraft replacement project, but it does not establish any direct relationships between entities using the specified relation types.',\n",
              "   'predicted_relations': 'None',\n",
              "   'precision': 0.0,\n",
              "   'recall': 0.0,\n",
              "   'f1': 0},\n",
              "  'ft_model': {'response': ' None.',\n",
              "   'predicted_relations': ['None'],\n",
              "   'precision': 0.0,\n",
              "   'recall': 0.0,\n",
              "   'f1': 0}},\n",
              " {'input': \"The crew chief Tony Eury Jr. was fined $ 100,000 and suspended until July 4 after Earnhardt Jr. 's car was found to have been altered before a race at Darlington Raceway in South Carolina .\",\n",
              "  'output': 'None',\n",
              "  'base_model': {'response': ' Based on the given sentence, the following relation triple can be extracted:\\n(Tony Eury Jr., /business/person/company, Earnhardt Jr.\\'s car)\\n(Earnhardt Jr.\\'s car, /location/country/administrative_divisions, South Carolina)\\nNote that these relations are based on the assumption that \"Earnhardt Jr.\\'s car\" can be considered as an entity representing a vehicle involved in a business context. Additionally, \"South Carolina\" is assumed to represent a location within a country context.',\n",
              "   'predicted_relations': [['Tony Eury Jr.',\n",
              "     '/business/person/company',\n",
              "     \"Earnhardt Jr.'s car\"],\n",
              "    [\"Earnhardt Jr.'s car\",\n",
              "     '/location/country/administrative_divisions',\n",
              "     'South Carolina']],\n",
              "   'precision': 0.0,\n",
              "   'recall': 0.0,\n",
              "   'f1': 0},\n",
              "  'ft_model': {'response': ' None.',\n",
              "   'predicted_relations': ['None'],\n",
              "   'precision': 1.0,\n",
              "   'recall': 1.0,\n",
              "   'f1': 1.0}},\n",
              " {'input': 'The explosives stored in his basement were similar to those that have been used to destabilize Lebanon since the assassination of the former prime minister Rafik Hariri in February 2005 .',\n",
              "  'output': \"('Rafik Hariri', '/people/person/nationality', 'Lebanon'), ('Rafik Hariri', '/people/person/place_lived', 'Lebanon')\",\n",
              "  'base_model': {'response': ' Based on the given sentence, there do not seem to be any explicit entities or relationships mentioned that can be extracted using the provided relation types. Therefore, the answer would be: None.',\n",
              "   'predicted_relations': 'None',\n",
              "   'precision': 0.0,\n",
              "   'recall': 0.0,\n",
              "   'f1': 0},\n",
              "  'ft_model': {'response': ' None.',\n",
              "   'predicted_relations': ['None'],\n",
              "   'precision': 0.0,\n",
              "   'recall': 0.0,\n",
              "   'f1': 0}},\n",
              " {'input': 'The hours each day of the pilgrimage will be 10 a.m. to 5 p.m. Admission for each day of the tour , $ 25 , at any of the sites and pilgrimage headquarters , 1105-A Providence Road , behind the Maryland Presbyterian Church in Towson .',\n",
              "  'output': 'None',\n",
              "  'base_model': {'response': \" Based on the given sentence, the following relation triple can be extracted:\\n(head entity: 'Maryland Presbyterian Church in Towson', relation: '/location/address/street_address', tail entity: '1105-A Providence Road')\",\n",
              "   'predicted_relations': [[\"head entity: 'Maryland Presbyterian Church in Towson\",\n",
              "     \"relation: '/location/address/street_address\",\n",
              "     \"tail entity: '1105-A Providence Road\"]],\n",
              "   'precision': 0.0,\n",
              "   'recall': 0.0,\n",
              "   'f1': 0},\n",
              "  'ft_model': {'response': ' None.',\n",
              "   'predicted_relations': ['None'],\n",
              "   'precision': 1.0,\n",
              "   'recall': 1.0,\n",
              "   'f1': 1.0}},\n",
              " {'input': 'The list of the top 10 companies requesting H-1B visas in fiscal 2006 , the most recent government data available , was dominated by Indian-based technology outsourcing companies like Infosys Technologies , Wipro Technologies and Tata Consultancy Services , and a few other companies that offer outsourced services and have sizable operations in India like Cognizant Technology Solutions , Accenture and Deloitte & Touche , according to a paper last month by Mr. Hira , which was published by the Economic Policy Institute , a liberal research group .',\n",
              "  'output': \"('Wipro Technologies', '/business/location', 'India')\",\n",
              "  'base_model': {'response': ' Based on the given sentence, the following relation triples can be extracted:\\n(Economic Policy Institute, /business/organization/publisher, Paper)\\n(Paper, /relation/has_author, Mr. Hira)\\n(/business/company/Indian_technology_outsourcing_companies/{Infosys_Technologies, Wipro_Technologies, Tata_Consultancy_Services}, /business/company/requested_H1B_visas, Fiscal_2006)\\n(/business/company/Indian_technology_outsourcing_companies/{Cognizant_Technology_Solutions, Accenture, Deloitte_&_Touche}, /business/company/offered_outsourced_services, NA)\\n(/business/company/Indian_technology_outsourcing_companies/{Infosys_Technologies, Wipro_Technologies, Tata_Consultancy_Services, Cognizant_Technology_Solutions, Accenture, Deloitte_&_Touche}, /location/',\n",
              "   'predicted_relations': [['Economic Policy Institute',\n",
              "     '/business/organization/publisher',\n",
              "     'Paper'],\n",
              "    ['Paper', '/relation/has_author', 'Mr. Hira'],\n",
              "    ['/business/company/Indian_technology_outsourcing_companies/{Infosys_Technologies',\n",
              "     'Wipro_Technologies',\n",
              "     'Tata_Consultancy_Services}, /business/company/requested_H1B_visas, Fiscal_2006'],\n",
              "    ['/business/company/Indian_technology_outsourcing_companies/{Cognizant_Technology_Solutions',\n",
              "     'Accenture',\n",
              "     'Deloitte_&_Touche}, /business/company/offered_outsourced_services, NA']],\n",
              "   'precision': 0.0,\n",
              "   'recall': 0.0,\n",
              "   'f1': 0},\n",
              "  'ft_model': {'response': \" (Infosys Technologies, /business/company/organization/, Wipro Technologies) ('Wipro Technologies', /business/company/organization/, Tata Consultancy Services) ('Tata Consultancy Services', /business/company/organization/, Cognizant Technology Solutions) ('Cognizant Technology Solutions', /business/company/organization/, Accenture) ('Accenture', /business/company/organization/, Deloitte & Touche)\",\n",
              "   'predicted_relations': [('Infosys Technologies',\n",
              "     '/business/company/organization/',\n",
              "     'Wipro Technologies'),\n",
              "    ('Wipro Technologies',\n",
              "     '/business/company/organization/',\n",
              "     'Tata Consultancy Services'),\n",
              "    ('Tata Consultancy Services',\n",
              "     '/business/company/organization/',\n",
              "     'Cognizant Technology Solutions'),\n",
              "    ('Cognizant Technology Solutions',\n",
              "     '/business/company/organization/',\n",
              "     'Accenture'),\n",
              "    ('Accenture', '/business/company/organization/', 'Deloitte & Touche')],\n",
              "   'precision': 0.0,\n",
              "   'recall': 0.0,\n",
              "   'f1': 0}},\n",
              " {'input': 'The move came less than a week after it hired the independent producer Ben Silverman as a co-chairman , with Marc Graboff , of the television group , with authority over both the entertainment division of the NBC network and the television studio .',\n",
              "  'output': \"('Ben Silverman', '/business/person/company', 'NBC')\",\n",
              "  'base_model': {'response': ' Based on the given sentence, the following relation triple can be extracted:\\n(Marc Graboff, /business/person/company, NBC network)\\n(Marc Graboff, /business/person/company, Television studio)\\n(Ben Silverman, /business/person/company, NBC network and Television studio)\\n(NBC network, /location/located_in, Location unspecified in the sentence)\\nNote that no country or specific administrative divisions were mentioned in the sentence, so no relations related to those entities were identified.',\n",
              "   'predicted_relations': [['Marc Graboff',\n",
              "     '/business/person/company',\n",
              "     'NBC network'],\n",
              "    ['Marc Graboff', '/business/person/company', 'Television studio'],\n",
              "    ['Ben Silverman',\n",
              "     '/business/person/company',\n",
              "     'NBC network and Television studio'],\n",
              "    ['NBC network',\n",
              "     '/location/located_in',\n",
              "     'Location unspecified in the sentence']],\n",
              "   'precision': 0.0,\n",
              "   'recall': 0.0,\n",
              "   'f1': 0},\n",
              "  'ft_model': {'response': ' None.',\n",
              "   'predicted_relations': ['None'],\n",
              "   'precision': 0.0,\n",
              "   'recall': 0.0,\n",
              "   'f1': 0}},\n",
              " {'input': 'The shooting in Midland occurred hours after a 16-year-old boy in Greenville , Tex. , fatally shot himself shortly after 7 a.m. in the band hall of Greenville High School , according to a statement by the Greenville Independent School District .',\n",
              "  'output': 'None',\n",
              "  'base_model': {'response': \" Based on the given sentence, the following relation triples can be extracted:\\n(Greenville, /location/city, Tex.)\\n(Greenville, /location/located_in, Tex.)\\n(Greenville High School, /business/educational_institution/school, Greenville)\\n(Greenville, /event/crime/shooting, Midland)\\n(Greenville High School, /location/building, band hall)\\n(16-year-old boy, /people/person/age, 16)\\n(16-year-old boy, /people/person, self)\\n(16-year-old boy, /people/deceasedperson, himself)\\n(Greenville, /time/starts_at, 7 a.m.)\\n(Midland, /location/city)\\nNote that there seems to be a missing location for the shooting incident in the sentence, which should be added as a new head entity or modified as an existing one. The current triples assume that 'Midland' is the city where the shooting occurred. If this is not the case, then the relation type for the third triple should be changed accordingly\",\n",
              "   'predicted_relations': [['Greenville', '/location/city', 'Tex.'],\n",
              "    ['Greenville', '/location/located_in', 'Tex.'],\n",
              "    ['Greenville High School',\n",
              "     '/business/educational_institution/school',\n",
              "     'Greenville'],\n",
              "    ['Greenville', '/event/crime/shooting', 'Midland'],\n",
              "    ['Greenville High School', '/location/building', 'band hall'],\n",
              "    ['16-year-old boy', '/people/person/age', '16'],\n",
              "    ['16-year-old boy', '/people/person', 'self'],\n",
              "    ['16-year-old boy', '/people/deceasedperson', 'himself'],\n",
              "    ['Greenville', '/time/starts_at', '7 a.m.']],\n",
              "   'precision': 0.0,\n",
              "   'recall': 0.0,\n",
              "   'f1': 0},\n",
              "  'ft_model': {'response': ' None.',\n",
              "   'predicted_relations': ['None'],\n",
              "   'precision': 1.0,\n",
              "   'recall': 1.0,\n",
              "   'f1': 1.0}},\n",
              " {'input': \"The war was reaching a climax by the time Mr. Papon left Algeria in 1958 , telling superiors in Paris : '' France is on the offensive on all fronts .\",\n",
              "  'output': \"('Paris', '/location/administrative_division/country', 'France')\",\n",
              "  'base_model': {'response': ' Based on the given sentence, the following relation triple may be extracted:\\n(Mr. Papon, /people/person/place_lived, Algeria)\\n(Algeria, /location/country/administrative_divisions, France)\\n(France, /business/company/advisors, superiors)\\nNote that these entities and relations are inferred from the context of the sentence and may not necessarily be explicitly mentioned. The first relation indicates that Mr. Papon lived in Algeria. The second relation indicates that Algeria is a division of France. The third relation indicates that the superiors are advisors of France.',\n",
              "   'predicted_relations': [['Mr. Papon',\n",
              "     '/people/person/place_lived',\n",
              "     'Algeria'],\n",
              "    ['Algeria', '/location/country/administrative_divisions', 'France'],\n",
              "    ['France', '/business/company/advisors', 'superiors']],\n",
              "   'precision': 0.0,\n",
              "   'recall': 0.0,\n",
              "   'f1': 0},\n",
              "  'ft_model': {'response': ' None.',\n",
              "   'predicted_relations': ['None'],\n",
              "   'precision': 0.0,\n",
              "   'recall': 0.0,\n",
              "   'f1': 0}},\n",
              " {'input': \"Then Senator Russ Feingold , Democrat of Wisconsin , read a news release issued by the Republican Party in Missouri just after the case was filed , which accused the voter registration group of trying '' to cause chaos and controversy at the polls in order to help Democrats to try to steal next week 's elections . '' ''\",\n",
              "  'output': \"('Russ Feingold', '/people/person/place_lived', 'Wisconsin')\",\n",
              "  'base_model': {'response': ' Based on the given sentence, there aren\\'t any direct relationships that can be extracted using the provided relation types. The sentence mentions entities such as \"Senator Russ Feingold\", \"Republican Party in Missouri\", and \"voter registration group\" but does not explicitly state any location or nationality information for these entities, nor does it mention any advisory roles or administrative divisions. Therefore, no relationship triples can be derived from this sentence using the given relation types.\\n\\nNone.',\n",
              "   'predicted_relations': 'None',\n",
              "   'precision': 0.0,\n",
              "   'recall': 0.0,\n",
              "   'f1': 0},\n",
              "  'ft_model': {'response': ' None.',\n",
              "   'predicted_relations': ['None'],\n",
              "   'precision': 0.0,\n",
              "   'recall': 0.0,\n",
              "   'f1': 0}},\n",
              " {'input': \"This is the most important labor issue facing New York City and it must be resolved , '' Police Commissioner Raymond W. Kelly said at a City Council hearing on Monday .\",\n",
              "  'output': \"('Raymond W. Kelly', '/people/person/place_lived', 'New York City')\",\n",
              "  'base_model': {'response': ' None.\\nIn this sentence, there are no explicit mentions of companies, locations, or people with specified relationships according to the provided list. The mention of \"New York City\" could potentially be related to the \\'/location/\\' type, but without further context or entities involved in a relation to it, no valid triples can be extracted from this sentence.',\n",
              "   'predicted_relations': 'None',\n",
              "   'precision': 0.0,\n",
              "   'recall': 0.0,\n",
              "   'f1': 0},\n",
              "  'ft_model': {'response': ' None.',\n",
              "   'predicted_relations': ['None'],\n",
              "   'precision': 0.0,\n",
              "   'recall': 0.0,\n",
              "   'f1': 0}},\n",
              " {'input': 'This time in Yonkers , where eight million gallons from a broken pipe spewed into the Hudson River last weekend in what officials called the worst such incident in the history of Westchester County .',\n",
              "  'output': 'None',\n",
              "  'base_model': {'response': \" Based on the given sentence, the following relation might be applicable:\\n['/location/located_in', '/location/location', 'Yonkers']\\n(Yonkers, located_in, location)\\nThis relation indicates that Yonkers is a location that contains or is the location of another location or entity. In this case, it is the location where the incident occurred.\",\n",
              "   'predicted_relations': [['Yonkers', 'located_in', 'location']],\n",
              "   'precision': 0.0,\n",
              "   'recall': 0.0,\n",
              "   'f1': 0},\n",
              "  'ft_model': {'response': ' None.',\n",
              "   'predicted_relations': ['None'],\n",
              "   'precision': 1.0,\n",
              "   'recall': 1.0,\n",
              "   'f1': 1.0}},\n",
              " {'input': 'This week , Senator Chuck Hagel , Republican of Nebraska , said Mr. Gonzales should leave .',\n",
              "  'output': \"('Chuck Hagel', '/people/person/place_lived', 'Nebraska')\",\n",
              "  'base_model': {'response': \" None.\\nIn this sentence, we have mention of two persons ('Senator Chuck Hagel' and 'Mr. Gonzales') but no explicit mentions of businesses or locations. Therefore, there are no relations that can be extracted from this sentence based on the provided list.\",\n",
              "   'predicted_relations': 'None',\n",
              "   'precision': 0.0,\n",
              "   'recall': 0.0,\n",
              "   'f1': 0},\n",
              "  'ft_model': {'response': ' None.',\n",
              "   'predicted_relations': ['None'],\n",
              "   'precision': 0.0,\n",
              "   'recall': 0.0,\n",
              "   'f1': 0}},\n",
              " {'input': 'Thorpe , a Sac and Fox Indian reared in Oklahoma , was a remarkably versatile athlete in the early 20th century .',\n",
              "  'output': \"('Oklahoma', '/people/person/place_lived', 'Thorpe')\",\n",
              "  'base_model': {'response': ' Based on the given sentence, the following relation might be extracted:\\n(person \"Thorpe\", person/place_of_birth \"Oklahoma\")',\n",
              "   'predicted_relations': [],\n",
              "   'precision': 0,\n",
              "   'recall': 0.0,\n",
              "   'f1': 0},\n",
              "  'ft_model': {'response': ' None.',\n",
              "   'predicted_relations': ['None'],\n",
              "   'precision': 0.0,\n",
              "   'recall': 0.0,\n",
              "   'f1': 0}},\n",
              " {'input': 'Those visitors can pass a barbershop on 181st Street and see a customer who happens to be the nephew of Joaquín Balaguer , a former president of the Dominican Republic .',\n",
              "  'output': \"('Joaquín Balaguer', '/people/person/place_lived', 'Dominican Republic'), ('Joaquín Balaguer', '/people/person/nationality', 'Dominican Republic')\",\n",
              "  'base_model': {'response': \" Based on the given sentence, the following relation triple could be extracted: ('barbershop', '/location/address/street', '181st Street')\\n('customer', '/people/person/relatives/nephew', 'Joaquín Balaguer')\\n('Joaquín Balaguer', '/business/person/jobtitle/former_president', 'Dominican Republic')\\n\\nThese relations are derived as follows:\\n- The first relation identifies the location of the barbershop.\\n- The second relation establishes that the customer is the nephew of Joaquín Balaguer.\\n- The third relation indicates that Joaquín Balaguer was a former president of the Dominican Republic.\",\n",
              "   'predicted_relations': [['barbershop',\n",
              "     '/location/address/street',\n",
              "     '181st Street'],\n",
              "    ['customer', '/people/person/relatives/nephew', 'Joaquín Balaguer'],\n",
              "    ['Joaquín Balaguer',\n",
              "     '/business/person/jobtitle/former_president',\n",
              "     'Dominican Republic']],\n",
              "   'precision': 0.0,\n",
              "   'recall': 0.0,\n",
              "   'f1': 0},\n",
              "  'ft_model': {'response': ' None.',\n",
              "   'predicted_relations': ['None'],\n",
              "   'precision': 0.0,\n",
              "   'recall': 0.0,\n",
              "   'f1': 0}},\n",
              " {'input': 'To illustrate , he walked me through some of the dizzying complexities of the pay for Peter R. Dolan , the former chief executive of Bristol-Myers Squibb , who was fired last September .',\n",
              "  'output': \"('Peter R. Dolan', '/business/person/company', 'Bristol-Myers Squibb'), ('Bristol-Myers Squibb', '/business/person/company', 'Peter R. Dolan')\",\n",
              "  'base_model': {'response': ' Based on the given sentence, there do not seem to be any explicit relations mentioned that can be directly extracted using the provided list. The sentence primarily focuses on the identity of Peter R. Dolan as the former CEO of Bristol-Myers Squibb and the fact that he was fired last September. Therefore, no relation triples can be derived from this sentence based on the given list.\\n\\nNone.',\n",
              "   'predicted_relations': 'None',\n",
              "   'precision': 0.0,\n",
              "   'recall': 0.0,\n",
              "   'f1': 0},\n",
              "  'ft_model': {'response': ' None.',\n",
              "   'predicted_relations': ['None'],\n",
              "   'precision': 0.0,\n",
              "   'recall': 0.0,\n",
              "   'f1': 0}},\n",
              " {'input': \"To the Editor : Re '' Documents From Vast Nazi Archive to Be Made Available to Scholars '' -LRB- news article , May 16 -RRB- : The 11-nation board governing the International Tracing Service archives at Bad Arolsen , Germany , announced an agreement allowing the transfer of digitized documents to archives around the world while the formal treaty ratification process continues .\",\n",
              "  'output': \"('Bad Arolsen', '/location/located_in', 'Germany')\",\n",
              "  'base_model': {'response': ' Based on the given sentence, the following relation might be extracted:\\n(International Tracing Service archives at Bad Arolsen, /location/country/located_in, Germany)',\n",
              "   'predicted_relations': [['International Tracing Service archives at Bad Arolsen',\n",
              "     '/location/country/located_in',\n",
              "     'Germany']],\n",
              "   'precision': 0.0,\n",
              "   'recall': 0.0,\n",
              "   'f1': 0},\n",
              "  'ft_model': {'response': ' None.',\n",
              "   'predicted_relations': ['None'],\n",
              "   'precision': 0.0,\n",
              "   'recall': 0.0,\n",
              "   'f1': 0}},\n",
              " {'input': 'Two Democratic Senators , Ben Nelson of Nebraska and Mark Pryor of Arkansas , crossed party lines to oppose the withdrawal plan .',\n",
              "  'output': \"('Mark Pryor', '/people/person/place_lived', 'Arkansas'), ('Ben Nelson', '/business/person/company', 'Nebraska'), ('Ben Nelson', '/people/person/place_lived', 'Nebraska')\",\n",
              "  'base_model': {'response': ' None.\\nIn this sentence, we have mention of two Democratic Senators, Ben Nelson and Mark Pryor, but there is no explicit information about their companies, locations, or nationalities mentioned. Therefore, no relation from the given list can be extracted from this sentence.',\n",
              "   'predicted_relations': 'None',\n",
              "   'precision': 0.0,\n",
              "   'recall': 0.0,\n",
              "   'f1': 0},\n",
              "  'ft_model': {'response': ' None.',\n",
              "   'predicted_relations': ['None'],\n",
              "   'precision': 0.0,\n",
              "   'recall': 0.0,\n",
              "   'f1': 0}},\n",
              " {'input': \"Two independent experts -- William K. Reilly , who represented the first President Bush in the 1992 negotiations , and David G. Victor , a Stanford University law professor whose writings helped provide the underpinnings for Thursday 's speech -- said that Mr. Bush 's plan had merit .\",\n",
              "  'output': 'None',\n",
              "  'base_model': {'response': ' Based on the given sentence, the following relation triple can be extracted:\\n(William_K_Reilly, /business/person/company/employer, First_President_Bush)\\n(David_G_Victor, /location/country/nationality, United_States)\\n(William_K_Reilly, /business/person/company, Stanford_University)\\n(William_K_Reilly, /people/person/occupation, independent_experts)\\n(David_G_Victor, /people/person/occupation, Stanford_University_law_professor)\\n(First_President_Bush, /business/company/advisors, William_K_Reilly)\\n(First_President_Bush, /business/company/advisors, David_G_Victor)\\nNote: The exact names or entities mentioned in the sentence may vary slightly depending on how they are named or referred to in real-world sources. These mappings are based on the information given in the sentence itself.',\n",
              "   'predicted_relations': [['William_K_Reilly',\n",
              "     '/business/person/company/employer',\n",
              "     'First_President_Bush'],\n",
              "    ['David_G_Victor', '/location/country/nationality', 'United_States'],\n",
              "    ['William_K_Reilly', '/business/person/company', 'Stanford_University'],\n",
              "    ['William_K_Reilly', '/people/person/occupation', 'independent_experts'],\n",
              "    ['David_G_Victor',\n",
              "     '/people/person/occupation',\n",
              "     'Stanford_University_law_professor'],\n",
              "    ['First_President_Bush', '/business/company/advisors', 'William_K_Reilly'],\n",
              "    ['First_President_Bush', '/business/company/advisors', 'David_G_Victor']],\n",
              "   'precision': 0.0,\n",
              "   'recall': 0.0,\n",
              "   'f1': 0},\n",
              "  'ft_model': {'response': ' None.',\n",
              "   'predicted_relations': ['None'],\n",
              "   'precision': 1.0,\n",
              "   'recall': 1.0,\n",
              "   'f1': 1.0}},\n",
              " {'input': 'Under its empire-building director , Thomas Krens , the Solomon R. Guggenheim Foundation in New York led the way , first by adding the Guggenheim Bilbao in northern Spain to its traditional outpost in Venice , where it houses the Peggy Guggenheim Collection .',\n",
              "  'output': 'None',\n",
              "  'base_model': {'response': ' Based on the given sentence, the following relation triples can be extracted:\\n(Solomon R. Guggenheim Foundation, /business/person/company/employee, Thomas Krens)\\n(Solomon R. Guggenheim Foundation, /business/location/located_in, New York)\\n(Solomon R. Guggenheim Foundation, /business/location/located_or_established_in, Venice)\\n(Solomon R. Guggenheim Foundation, /business/location/located_or_established_in, Bilbao)\\nThese relations represent that Thomas Krens is an employee of the Solomon R. Guggenheim Foundation, the foundation is located in New York, and it has established or located outposts in both Venice and Bilbao.',\n",
              "   'predicted_relations': [['Solomon R. Guggenheim Foundation',\n",
              "     '/business/person/company/employee',\n",
              "     'Thomas Krens'],\n",
              "    ['Solomon R. Guggenheim Foundation',\n",
              "     '/business/location/located_in',\n",
              "     'New York'],\n",
              "    ['Solomon R. Guggenheim Foundation',\n",
              "     '/business/location/located_or_established_in',\n",
              "     'Venice'],\n",
              "    ['Solomon R. Guggenheim Foundation',\n",
              "     '/business/location/located_or_established_in',\n",
              "     'Bilbao']],\n",
              "   'precision': 0.0,\n",
              "   'recall': 0.0,\n",
              "   'f1': 0},\n",
              "  'ft_model': {'response': \" (['Guggenheim Bilbao', '/business/location', 'Spain'], ['Solomon R. Guggenheim Foundation', '/business/company', 'New York'])\",\n",
              "   'predicted_relations': [(\"['Guggenheim Bilbao\",\n",
              "     '/business/location',\n",
              "     \"Spain'], ['Solomon R. Guggenheim Foundation', '/business/company', 'New York']\")],\n",
              "   'precision': 0.0,\n",
              "   'recall': 0.0,\n",
              "   'f1': 0}},\n",
              " {'input': 'WITH : Abhishek Bachchan -LRB- Rikki Thukral -RRB- , Preity Zinta -LRB- Alvira Khan -RRB- , Lara Dutta -LRB- Anaida -RRB- , Bobby Deol -LRB- Steve -RRB- and in a special appearance , Amitabh Bachchan .',\n",
              "  'output': 'None, None',\n",
              "  'base_model': {'response': ' Based on the given sentence, there do not seem to be any explicit relations mentioned that can be directly extracted using the provided list. The sentence mentions names of people and their possible associates or co-stars, but it does not provide enough context for determining business affiliations, locations, nationalities, or places of birth/lived for these entities. Therefore, no relationship triples can be derived from this sentence based on the given list.',\n",
              "   'predicted_relations': [],\n",
              "   'precision': 0,\n",
              "   'recall': 0.0,\n",
              "   'f1': 0},\n",
              "  'ft_model': {'response': ' None.',\n",
              "   'predicted_relations': ['None'],\n",
              "   'precision': 0.0,\n",
              "   'recall': 0.0,\n",
              "   'f1': 0}},\n",
              " {'input': 'When James Dimon took over at Bank One in March 2000 , he signed a contract that gave him a guaranteed $ 9.5 million bonus in cash and stock for at least his first five years at the helm .',\n",
              "  'output': \"('James Dimon', '/business/person/company', 'Bank')\",\n",
              "  'base_model': {'response': ' Based on the given sentence, the following relation might be extracted:\\n(James Dimon, /business/person/company, Bank One)\\nThis relation indicates that James Dimon is a person who has been associated with the company Bank One. However, no other relations from the given list appear explicitly in the sentence. Therefore, the answer is:\\n[(James Dimon, /business/person/company, Bank One)]',\n",
              "   'predicted_relations': [['James Dimon',\n",
              "     '/business/person/company',\n",
              "     'Bank One'],\n",
              "    ['James Dimon', '/business/person/company', 'Bank One']],\n",
              "   'precision': 0.0,\n",
              "   'recall': 0.0,\n",
              "   'f1': 0},\n",
              "  'ft_model': {'response': ' None.',\n",
              "   'predicted_relations': ['None'],\n",
              "   'precision': 0.0,\n",
              "   'recall': 0.0,\n",
              "   'f1': 0}},\n",
              " {'input': \"When Kyle was 5 , his mother organized a local prayer vigil for Amadou Diallo , the African immigrant shot to death by the police in New York City . ''\",\n",
              "  'output': \"('Amadou Diallo', '/people/deceasedperson/place_of_death', 'New York City'), ('Amadou Diallo', '/people/person/place_lived', 'New York City')\",\n",
              "  'base_model': {'response': \" Based on the given sentence, the following relation might be present:\\n['/people/person/place_lived' : (Kyle, relation, New York City)]\\n['/people/person/nationality' : (Amadou Diallo, relation, Africa)]\\n['/location/located_in' : (New York City, relation, United States)]\\n\\nTherefore, the relation triples would look like this:\\n(Kyle, /people/person/place_lived, New York City)\\n(Amadio Diallo, /people/person/nationality, Africa)\\n(New York City, /location/located_in, United States)\",\n",
              "   'predicted_relations': [['Kyle', 'relation', 'New York City'],\n",
              "    ['Amadou Diallo', 'relation', 'Africa'],\n",
              "    ['New York City', 'relation', 'United States'],\n",
              "    ['Kyle', '/people/person/place_lived', 'New York City'],\n",
              "    ['Amadio Diallo', '/people/person/nationality', 'Africa'],\n",
              "    ['New York City', '/location/located_in', 'United States']],\n",
              "   'precision': 0.0,\n",
              "   'recall': 0.0,\n",
              "   'f1': 0},\n",
              "  'ft_model': {'response': ' None.',\n",
              "   'predicted_relations': ['None'],\n",
              "   'precision': 0.0,\n",
              "   'recall': 0.0,\n",
              "   'f1': 0}},\n",
              " {'input': \"Yun Zhao , 31 , a bright woman who works in a large insurance company here , was drawn back here after studying in Toronto and becoming a legal resident of Canada , something that has long been close to an irresistible dream for many Chinese . ''\",\n",
              "  'output': \"('Canada', '/location/country/administrative_divisions', 'Toronto'), ('Toronto', '/location/administrative_division/country', 'Canada'), ('Toronto', '/location/located_in', 'Canada')\",\n",
              "  'base_model': {'response': ' Based on the given sentence, the following relation triple can be extracted:\\n(Yun Zhao, /business/person/company, large insurance company here)',\n",
              "   'predicted_relations': [['Yun Zhao',\n",
              "     '/business/person/company',\n",
              "     'large insurance company here']],\n",
              "   'precision': 0.0,\n",
              "   'recall': 0.0,\n",
              "   'f1': 0},\n",
              "  'ft_model': {'response': ' None.',\n",
              "   'predicted_relations': ['None'],\n",
              "   'precision': 0.0,\n",
              "   'recall': 0.0,\n",
              "   'f1': 0}}]"
            ]
          },
          "metadata": {},
          "execution_count": 25
        }
      ]
    },
    {
      "cell_type": "code",
      "source": [
        "from helper_functions import formatting_func, get_tuples, get_relations, get_scores"
      ],
      "metadata": {
        "id": "YGTVx5KqXhlT"
      },
      "execution_count": 8,
      "outputs": []
    },
    {
      "cell_type": "code",
      "source": [
        "from tqdm import tqdm\n",
        "\n",
        "progress_bar = tqdm(total=len(data), desc='Progress')\n",
        "\n",
        "for idx, example in zip(list(range(len(data))), data):\n",
        "\n",
        "    eval_prompt = formatting_func(example)\n",
        "\n",
        "    model_input = eval_tokenizer(eval_prompt, return_tensors=\"pt\").to(\"cuda\")\n",
        "\n",
        "    ft_model.eval()\n",
        "    with torch.no_grad():\n",
        "        response  = eval_tokenizer.decode(ft_model.generate(**model_input, max_new_tokens=256,\n",
        "                                                         repetition_penalty=1.15,\n",
        "                                                         pad_token_id=eval_tokenizer.eos_token_id)[0],\n",
        "                                          skip_special_tokens=True)\n",
        "        response = response.replace(eval_prompt, \"\")\n",
        "\n",
        "    predicted_relations = get_tuples(response)\n",
        "\n",
        "    expected_relations = get_relations(example)\n",
        "\n",
        "    precision, recall,f1 = get_scores(expected_relations, predicted_relations)\n",
        "\n",
        "    data[idx].update({'ft_model':\n",
        "                        {'response': response,\n",
        "                         'predicted_relations':predicted_relations,\n",
        "                        'precision': precision,\n",
        "                        'recall': recall,\n",
        "                        'f1': f1}\n",
        "                    })\n",
        "    progress_bar.update(1)\n",
        "\n",
        "progress_bar.close()"
      ],
      "metadata": {
        "colab": {
          "base_uri": "https://localhost:8080/"
        },
        "id": "L6wlakd_zHLx",
        "outputId": "cbf3ec1f-6a58-479d-dab3-217597bf8eb9"
      },
      "execution_count": 9,
      "outputs": [
        {
          "output_type": "stream",
          "name": "stderr",
          "text": [
            "Progress: 100%|██████████| 100/100 [05:02<00:00,  3.02s/it]\n"
          ]
        }
      ]
    },
    {
      "cell_type": "code",
      "source": [
        "data[:3]"
      ],
      "metadata": {
        "colab": {
          "base_uri": "https://localhost:8080/"
        },
        "id": "0YD4Fh0pM9Da",
        "outputId": "23c23d54-6f63-4f8c-eacf-fef85c57c890"
      },
      "execution_count": 10,
      "outputs": [
        {
          "output_type": "execute_result",
          "data": {
            "text/plain": [
              "[{'input': '-LRB- AP -RRB- WEST VIRGINIA 67 , VILLANOVA 56 -- Frank Young scored a career-high 25 points , including eight 3-pointers , for No. 25 West Virginia -LRB- 12-1 , 2-0 -RRB- in a Big East game .',\n",
              "  'output': \"('Frank Young', '/people/person/place_lived', 'West Virginia')\",\n",
              "  'base_model': {'response': \" Based on the given sentence, there do not seem to be any explicit relations mentioned that can be directly extracted using the provided list. The sentence primarily describes an event (a basketball game) involving entities 'West Virginia' and 'Villanova'. However, no specific relations between these entities or other mentioned entities ('Frank Young') are explicitly stated in the sentence. Therefore, the answer would be: None.\",\n",
              "   'predicted_relations': 'None',\n",
              "   'precision': 0.0,\n",
              "   'recall': 0.0,\n",
              "   'f1': 0},\n",
              "  'ft_model': {'response': ' None.',\n",
              "   'predicted_relations': ['None'],\n",
              "   'precision': 0.0,\n",
              "   'recall': 0.0,\n",
              "   'f1': 0}},\n",
              " {'input': \"9:30 P.M. (13) THE WILD PARROTS OF TELEGRAPH HILL -- '' Independent Lens '' follows Mark Bittner , a homeless street musician in San Francisco , as he literally goes to the birds -- and finds meaning in his life -- by taking up with a flock of wild red and green parrots .\",\n",
              "  'output': \"('Mark Bittner', '/people/person/place_lived', 'San Francisco')\",\n",
              "  'base_model': {'response': \" Based on the given sentence, there don't seem to be any explicit relations mentioned that can be directly extracted using the provided list. The sentence describes Mark Bittner being a homeless street musician in San Francisco who connects with a flock of wild parrots, but it does not explicitly state any location or company relationships between these entities. Therefore, none.\",\n",
              "   'predicted_relations': 'None',\n",
              "   'precision': 0.0,\n",
              "   'recall': 0.0,\n",
              "   'f1': 0},\n",
              "  'ft_model': {'response': ' None.',\n",
              "   'predicted_relations': ['None'],\n",
              "   'precision': 0.0,\n",
              "   'recall': 0.0,\n",
              "   'f1': 0}},\n",
              " {'input': 'A1 OBITUARIES A15 Mstislav Rostropovich A cellist and conductor who was renowned as one of the great instrumentalists of the 20th century and an outspoken champion of artistic freedom in the Soviet Union during the last decades of the cold war , he was 80 and lived in Paris .',\n",
              "  'output': \"('Mstislav Rostropovich', '/people/person/place_lived', 'Paris')\",\n",
              "  'base_model': {'response': ' Based on the given sentence, the following relation triple can be extracted:\\n(Mstislav Rostropovich, /people/person/place_lived, Paris)',\n",
              "   'predicted_relations': [['Mstislav Rostropovich',\n",
              "     '/people/person/place_lived',\n",
              "     'Paris']],\n",
              "   'precision': 1.0,\n",
              "   'recall': 1.0,\n",
              "   'f1': 1.0},\n",
              "  'ft_model': {'response': ' None.',\n",
              "   'predicted_relations': ['None'],\n",
              "   'precision': 0.0,\n",
              "   'recall': 0.0,\n",
              "   'f1': 0}}]"
            ]
          },
          "metadata": {},
          "execution_count": 10
        }
      ]
    },
    {
      "cell_type": "code",
      "source": [
        "! tail \"drive/MyDrive/mistral-finetune/mistral-finetuning-data-balanced.json\""
      ],
      "metadata": {
        "id": "q9-ws3sp9VTj"
      },
      "execution_count": null,
      "outputs": []
    },
    {
      "cell_type": "code",
      "source": [],
      "metadata": {
        "id": "9rS-EkED9Wv1"
      },
      "execution_count": null,
      "outputs": []
    },
    {
      "cell_type": "code",
      "source": [
        "# Define the file path\n",
        "file_path = \"drive/MyDrive/mistral-finetune/mistral-finetuning-data-balanced.json\"\n",
        "\n",
        "# Save the data to a JSON file\n",
        "with open(file_path, \"w\") as json_file:\n",
        "    json.dump(data, json_file)\n",
        "\n",
        "print(f\"Data saved to {file_path}\")\n"
      ],
      "metadata": {
        "colab": {
          "base_uri": "https://localhost:8080/"
        },
        "id": "LXgRdI3p5QSb",
        "outputId": "4d6fc778-e5ad-4d7c-b167-8121da2c0373"
      },
      "execution_count": 11,
      "outputs": [
        {
          "output_type": "stream",
          "name": "stdout",
          "text": [
            "Data saved to drive/MyDrive/mistral-finetune/mistral-finetuning-data-balanced.json\n"
          ]
        }
      ]
    },
    {
      "cell_type": "code",
      "source": [
        "# Define the file path\n",
        "import json\n",
        "file_path = \"drive/MyDrive/mistral-finetune/mistral-finetuning-data-balanced.json\"\n",
        "\n",
        "# Save the data to a JSON file\n",
        "with open(file_path, \"r\") as json_file:\n",
        "    data = json.load(json_file)\n"
      ],
      "metadata": {
        "colab": {
          "base_uri": "https://localhost:8080/",
          "height": 304
        },
        "id": "S6zCRjFH9FN-",
        "outputId": "e18485f6-7308-4c83-d055-c8de49d85870"
      },
      "execution_count": null,
      "outputs": [
        {
          "output_type": "error",
          "ename": "JSONDecodeError",
          "evalue": "Expecting value: line 1 column 1 (char 0)",
          "traceback": [
            "\u001b[0;31m---------------------------------------------------------------------------\u001b[0m",
            "\u001b[0;31mJSONDecodeError\u001b[0m                           Traceback (most recent call last)",
            "\u001b[0;32m<ipython-input-34-15cbd5f3873b>\u001b[0m in \u001b[0;36m<cell line: 6>\u001b[0;34m()\u001b[0m\n\u001b[1;32m      5\u001b[0m \u001b[0;31m# Save the data to a JSON file\u001b[0m\u001b[0;34m\u001b[0m\u001b[0;34m\u001b[0m\u001b[0m\n\u001b[1;32m      6\u001b[0m \u001b[0;32mwith\u001b[0m \u001b[0mopen\u001b[0m\u001b[0;34m(\u001b[0m\u001b[0mfile_path\u001b[0m\u001b[0;34m,\u001b[0m \u001b[0;34m\"r\"\u001b[0m\u001b[0;34m)\u001b[0m \u001b[0;32mas\u001b[0m \u001b[0mjson_file\u001b[0m\u001b[0;34m:\u001b[0m\u001b[0;34m\u001b[0m\u001b[0;34m\u001b[0m\u001b[0m\n\u001b[0;32m----> 7\u001b[0;31m     \u001b[0mdata\u001b[0m \u001b[0;34m=\u001b[0m \u001b[0mjson\u001b[0m\u001b[0;34m.\u001b[0m\u001b[0mload\u001b[0m\u001b[0;34m(\u001b[0m\u001b[0mjson_file\u001b[0m\u001b[0;34m)\u001b[0m\u001b[0;34m\u001b[0m\u001b[0;34m\u001b[0m\u001b[0m\n\u001b[0m",
            "\u001b[0;32m/usr/lib/python3.10/json/__init__.py\u001b[0m in \u001b[0;36mload\u001b[0;34m(fp, cls, object_hook, parse_float, parse_int, parse_constant, object_pairs_hook, **kw)\u001b[0m\n\u001b[1;32m    291\u001b[0m     \u001b[0mkwarg\u001b[0m\u001b[0;34m;\u001b[0m \u001b[0motherwise\u001b[0m\u001b[0;31m \u001b[0m\u001b[0;31m`\u001b[0m\u001b[0;31m`\u001b[0m\u001b[0mJSONDecoder\u001b[0m\u001b[0;31m`\u001b[0m\u001b[0;31m`\u001b[0m \u001b[0;32mis\u001b[0m \u001b[0mused\u001b[0m\u001b[0;34m.\u001b[0m\u001b[0;34m\u001b[0m\u001b[0;34m\u001b[0m\u001b[0m\n\u001b[1;32m    292\u001b[0m     \"\"\"\n\u001b[0;32m--> 293\u001b[0;31m     return loads(fp.read(),\n\u001b[0m\u001b[1;32m    294\u001b[0m         \u001b[0mcls\u001b[0m\u001b[0;34m=\u001b[0m\u001b[0mcls\u001b[0m\u001b[0;34m,\u001b[0m \u001b[0mobject_hook\u001b[0m\u001b[0;34m=\u001b[0m\u001b[0mobject_hook\u001b[0m\u001b[0;34m,\u001b[0m\u001b[0;34m\u001b[0m\u001b[0;34m\u001b[0m\u001b[0m\n\u001b[1;32m    295\u001b[0m         \u001b[0mparse_float\u001b[0m\u001b[0;34m=\u001b[0m\u001b[0mparse_float\u001b[0m\u001b[0;34m,\u001b[0m \u001b[0mparse_int\u001b[0m\u001b[0;34m=\u001b[0m\u001b[0mparse_int\u001b[0m\u001b[0;34m,\u001b[0m\u001b[0;34m\u001b[0m\u001b[0;34m\u001b[0m\u001b[0m\n",
            "\u001b[0;32m/usr/lib/python3.10/json/__init__.py\u001b[0m in \u001b[0;36mloads\u001b[0;34m(s, cls, object_hook, parse_float, parse_int, parse_constant, object_pairs_hook, **kw)\u001b[0m\n\u001b[1;32m    344\u001b[0m             \u001b[0mparse_int\u001b[0m \u001b[0;32mis\u001b[0m \u001b[0;32mNone\u001b[0m \u001b[0;32mand\u001b[0m \u001b[0mparse_float\u001b[0m \u001b[0;32mis\u001b[0m \u001b[0;32mNone\u001b[0m \u001b[0;32mand\u001b[0m\u001b[0;34m\u001b[0m\u001b[0;34m\u001b[0m\u001b[0m\n\u001b[1;32m    345\u001b[0m             parse_constant is None and object_pairs_hook is None and not kw):\n\u001b[0;32m--> 346\u001b[0;31m         \u001b[0;32mreturn\u001b[0m \u001b[0m_default_decoder\u001b[0m\u001b[0;34m.\u001b[0m\u001b[0mdecode\u001b[0m\u001b[0;34m(\u001b[0m\u001b[0ms\u001b[0m\u001b[0;34m)\u001b[0m\u001b[0;34m\u001b[0m\u001b[0;34m\u001b[0m\u001b[0m\n\u001b[0m\u001b[1;32m    347\u001b[0m     \u001b[0;32mif\u001b[0m \u001b[0mcls\u001b[0m \u001b[0;32mis\u001b[0m \u001b[0;32mNone\u001b[0m\u001b[0;34m:\u001b[0m\u001b[0;34m\u001b[0m\u001b[0;34m\u001b[0m\u001b[0m\n\u001b[1;32m    348\u001b[0m         \u001b[0mcls\u001b[0m \u001b[0;34m=\u001b[0m \u001b[0mJSONDecoder\u001b[0m\u001b[0;34m\u001b[0m\u001b[0;34m\u001b[0m\u001b[0m\n",
            "\u001b[0;32m/usr/lib/python3.10/json/decoder.py\u001b[0m in \u001b[0;36mdecode\u001b[0;34m(self, s, _w)\u001b[0m\n\u001b[1;32m    335\u001b[0m \u001b[0;34m\u001b[0m\u001b[0m\n\u001b[1;32m    336\u001b[0m         \"\"\"\n\u001b[0;32m--> 337\u001b[0;31m         \u001b[0mobj\u001b[0m\u001b[0;34m,\u001b[0m \u001b[0mend\u001b[0m \u001b[0;34m=\u001b[0m \u001b[0mself\u001b[0m\u001b[0;34m.\u001b[0m\u001b[0mraw_decode\u001b[0m\u001b[0;34m(\u001b[0m\u001b[0ms\u001b[0m\u001b[0;34m,\u001b[0m \u001b[0midx\u001b[0m\u001b[0;34m=\u001b[0m\u001b[0m_w\u001b[0m\u001b[0;34m(\u001b[0m\u001b[0ms\u001b[0m\u001b[0;34m,\u001b[0m \u001b[0;36m0\u001b[0m\u001b[0;34m)\u001b[0m\u001b[0;34m.\u001b[0m\u001b[0mend\u001b[0m\u001b[0;34m(\u001b[0m\u001b[0;34m)\u001b[0m\u001b[0;34m)\u001b[0m\u001b[0;34m\u001b[0m\u001b[0;34m\u001b[0m\u001b[0m\n\u001b[0m\u001b[1;32m    338\u001b[0m         \u001b[0mend\u001b[0m \u001b[0;34m=\u001b[0m \u001b[0m_w\u001b[0m\u001b[0;34m(\u001b[0m\u001b[0ms\u001b[0m\u001b[0;34m,\u001b[0m \u001b[0mend\u001b[0m\u001b[0;34m)\u001b[0m\u001b[0;34m.\u001b[0m\u001b[0mend\u001b[0m\u001b[0;34m(\u001b[0m\u001b[0;34m)\u001b[0m\u001b[0;34m\u001b[0m\u001b[0;34m\u001b[0m\u001b[0m\n\u001b[1;32m    339\u001b[0m         \u001b[0;32mif\u001b[0m \u001b[0mend\u001b[0m \u001b[0;34m!=\u001b[0m \u001b[0mlen\u001b[0m\u001b[0;34m(\u001b[0m\u001b[0ms\u001b[0m\u001b[0;34m)\u001b[0m\u001b[0;34m:\u001b[0m\u001b[0;34m\u001b[0m\u001b[0;34m\u001b[0m\u001b[0m\n",
            "\u001b[0;32m/usr/lib/python3.10/json/decoder.py\u001b[0m in \u001b[0;36mraw_decode\u001b[0;34m(self, s, idx)\u001b[0m\n\u001b[1;32m    353\u001b[0m             \u001b[0mobj\u001b[0m\u001b[0;34m,\u001b[0m \u001b[0mend\u001b[0m \u001b[0;34m=\u001b[0m \u001b[0mself\u001b[0m\u001b[0;34m.\u001b[0m\u001b[0mscan_once\u001b[0m\u001b[0;34m(\u001b[0m\u001b[0ms\u001b[0m\u001b[0;34m,\u001b[0m \u001b[0midx\u001b[0m\u001b[0;34m)\u001b[0m\u001b[0;34m\u001b[0m\u001b[0;34m\u001b[0m\u001b[0m\n\u001b[1;32m    354\u001b[0m         \u001b[0;32mexcept\u001b[0m \u001b[0mStopIteration\u001b[0m \u001b[0;32mas\u001b[0m \u001b[0merr\u001b[0m\u001b[0;34m:\u001b[0m\u001b[0;34m\u001b[0m\u001b[0;34m\u001b[0m\u001b[0m\n\u001b[0;32m--> 355\u001b[0;31m             \u001b[0;32mraise\u001b[0m \u001b[0mJSONDecodeError\u001b[0m\u001b[0;34m(\u001b[0m\u001b[0;34m\"Expecting value\"\u001b[0m\u001b[0;34m,\u001b[0m \u001b[0ms\u001b[0m\u001b[0;34m,\u001b[0m \u001b[0merr\u001b[0m\u001b[0;34m.\u001b[0m\u001b[0mvalue\u001b[0m\u001b[0;34m)\u001b[0m \u001b[0;32mfrom\u001b[0m \u001b[0;32mNone\u001b[0m\u001b[0;34m\u001b[0m\u001b[0;34m\u001b[0m\u001b[0m\n\u001b[0m\u001b[1;32m    356\u001b[0m         \u001b[0;32mreturn\u001b[0m \u001b[0mobj\u001b[0m\u001b[0;34m,\u001b[0m \u001b[0mend\u001b[0m\u001b[0;34m\u001b[0m\u001b[0;34m\u001b[0m\u001b[0m\n",
            "\u001b[0;31mJSONDecodeError\u001b[0m: Expecting value: line 1 column 1 (char 0)"
          ]
        }
      ]
    },
    {
      "cell_type": "code",
      "source": [
        "for idx, entry in enumerate(data):\n",
        "    if entry['output']==\"None\":\n",
        "        print(idx)\n",
        "        break"
      ],
      "metadata": {
        "colab": {
          "base_uri": "https://localhost:8080/"
        },
        "id": "xfvLZvwGZnpM",
        "outputId": "24e92b6d-fcee-4a68-f343-50cdc09d50a7"
      },
      "execution_count": null,
      "outputs": [
        {
          "output_type": "stream",
          "name": "stdout",
          "text": [
            "3\n"
          ]
        }
      ]
    },
    {
      "cell_type": "code",
      "source": [
        "total_precision = 0.0\n",
        "total_recall = 0.0\n",
        "total_f1 = 0.0\n",
        "total_samples = len(data)\n",
        "\n",
        "for item in data:\n",
        "    total_precision += item['ft_model']['precision']\n",
        "    total_recall += item['ft_model']['recall']\n",
        "    total_f1 += item['ft_model']['f1']"
      ],
      "metadata": {
        "id": "XhPI2OtdaXBr"
      },
      "execution_count": null,
      "outputs": []
    },
    {
      "cell_type": "code",
      "source": [
        "total_f1"
      ],
      "metadata": {
        "colab": {
          "base_uri": "https://localhost:8080/"
        },
        "id": "TEHXr953uOTY",
        "outputId": "8af62b54-fbf7-4998-c580-8aa1f9a7981f"
      },
      "execution_count": null,
      "outputs": [
        {
          "output_type": "execute_result",
          "data": {
            "text/plain": [
              "21.0"
            ]
          },
          "metadata": {},
          "execution_count": 31
        }
      ]
    },
    {
      "cell_type": "code",
      "source": [
        "for idx, item in enumerate(data):\n",
        "    if item['ft_model']['precision']==1:\n",
        "        print(idx)"
      ],
      "metadata": {
        "colab": {
          "base_uri": "https://localhost:8080/"
        },
        "id": "KT33b1ZvaZjy",
        "outputId": "e8939c48-3c5a-418b-843e-bd4cb29c11e2"
      },
      "execution_count": null,
      "outputs": [
        {
          "output_type": "stream",
          "name": "stdout",
          "text": [
            "4\n",
            "10\n",
            "19\n",
            "20\n",
            "33\n",
            "36\n",
            "45\n",
            "51\n",
            "56\n",
            "59\n",
            "64\n",
            "66\n",
            "67\n",
            "69\n",
            "73\n",
            "75\n",
            "78\n",
            "80\n",
            "83\n",
            "87\n",
            "94\n"
          ]
        }
      ]
    },
    {
      "cell_type": "code",
      "source": [
        "[x for x in data if (x['output'] == \"None\" and x['base_model']['predicted_relations'] == \"None\")]\n"
      ],
      "metadata": {
        "colab": {
          "base_uri": "https://localhost:8080/"
        },
        "id": "NVd0gLM4cM87",
        "outputId": "407b8097-dad9-4043-9a88-14f5d7b3fdb1"
      },
      "execution_count": null,
      "outputs": [
        {
          "output_type": "execute_result",
          "data": {
            "text/plain": [
              "[{'input': 'As the new face of the L.P.G.A. Tour , and as a star in Mexico and elsewhere , Ochoa seems to have taken to the job of being a role model .',\n",
              "  'output': 'None',\n",
              "  'base_model': {'response': ' Based on the given sentence, there do not seem to be any explicit relations mentioned that can be extracted using the provided list. Therefore, the answer would be: None.',\n",
              "   'predicted_relations': 'None',\n",
              "   'precision': 1.0,\n",
              "   'recall': 1.0,\n",
              "   'f1': 1.0},\n",
              "  'ft_model': {'response': ' None.',\n",
              "   'predicted_relations': ['None'],\n",
              "   'precision': 1.0,\n",
              "   'recall': 1.0,\n",
              "   'f1': 1.0}},\n",
              " {'input': \"Coincidentally , the movie Mr. Starkweather inspired , Terrence Malick 's '' Badlands , '' involves a flight to Saskatchewan .\",\n",
              "  'output': 'None',\n",
              "  'base_model': {'response': \" Based on the given sentence, there doesn't seem to be any clear-cut relation that can be extracted using the entities and relation types provided in the list. Therefore, the answer would be: None.\",\n",
              "   'predicted_relations': 'None',\n",
              "   'precision': 1.0,\n",
              "   'recall': 1.0,\n",
              "   'f1': 1.0},\n",
              "  'ft_model': {'response': ' None.',\n",
              "   'predicted_relations': ['None'],\n",
              "   'precision': 1.0,\n",
              "   'recall': 1.0,\n",
              "   'f1': 1.0}},\n",
              " {'input': \"Correction : June 9 , 2007 , Saturday An article in Business Day on May 29 about Russia 's strategy to gain a monopoly in natural gas exports to Asia through Gazprom misstated the percentage of ownership in the Kovykta gas field by TNK-BP , which is being accused by the Kremlin of having failed to meet license requirements .\",\n",
              "  'output': 'None',\n",
              "  'base_model': {'response': \" None.\\nThe given sentence does not provide sufficient information for any relation from the list to be extracted. It mentions entities such as 'Business Day', 'Russia', 'Gazprom', 'Kovykta gas field', 'TNK-BP', and 'May 29'. However, no explicit relationships between these entities are stated in the sentence.\",\n",
              "   'predicted_relations': 'None',\n",
              "   'precision': 1.0,\n",
              "   'recall': 1.0,\n",
              "   'f1': 1.0},\n",
              "  'ft_model': {'response': ' None.',\n",
              "   'predicted_relations': ['None'],\n",
              "   'precision': 1.0,\n",
              "   'recall': 1.0,\n",
              "   'f1': 1.0}},\n",
              " {'input': \"In a telephone interview from Khartoum on Tuesday , as she and a three-member camera crew prepared for a two-hour flight on a small plane into Darfur , Ms. Curry was asked why she had felt compelled to return to Sudan twice since her first visit . ''\",\n",
              "  'output': 'None',\n",
              "  'base_model': {'response': \" Based on the given sentence, there do not seem to be any explicit entities or relationships that can be extracted using the provided relation types. The sentence mentions 'Ms. Curry' who is a person, 'Khartoum' which is a location, and 'Darfur' which is also a location. However, the relation types provided do not include simple 'person-location' or 'location-location' relationships like 'person/place_lived' or 'location/located_in'. Therefore, no relationship triples can be extracted directly from this sentence using the given relation types.\\n\\nNone.\",\n",
              "   'predicted_relations': 'None',\n",
              "   'precision': 1.0,\n",
              "   'recall': 1.0,\n",
              "   'f1': 1.0},\n",
              "  'ft_model': {'response': ' None.',\n",
              "   'predicted_relations': ['None'],\n",
              "   'precision': 1.0,\n",
              "   'recall': 1.0,\n",
              "   'f1': 1.0}},\n",
              " {'input': \"Martina McBride Waking Up Laughing -LRB- RCA\\\\/Sony BMG Nashville -RRB- '' I got pitched every social issue song on the planet . ''\",\n",
              "  'output': 'None',\n",
              "  'base_model': {'response': \" Based on the given sentence, there doesn't seem to be any explicit mention of entities or their relationships according to the provided list. Therefore, no relation triples can be extracted directly from this sentence.\\n\\nNone.\",\n",
              "   'predicted_relations': 'None',\n",
              "   'precision': 1.0,\n",
              "   'recall': 1.0,\n",
              "   'f1': 1.0},\n",
              "  'ft_model': {'response': ' None.',\n",
              "   'predicted_relations': ['None'],\n",
              "   'precision': 1.0,\n",
              "   'recall': 1.0,\n",
              "   'f1': 1.0}},\n",
              " {'input': 'Now that may not be necessary , with Israel and the West embracing the idea of a non-Hamas government , even if its powers are limited to the West Bank .',\n",
              "  'output': 'None',\n",
              "  'base_model': {'response': ' None.\\nIn this sentence, there are no explicit mentions of companies, locations, or people with their relationships as per the provided list. The sentence discusses the ideas and actions related to Israel and the West, but it does not provide sufficient information for extracting any specific entities or relations using the given list.',\n",
              "   'predicted_relations': 'None',\n",
              "   'precision': 1.0,\n",
              "   'recall': 1.0,\n",
              "   'f1': 1.0},\n",
              "  'ft_model': {'response': ' None.',\n",
              "   'predicted_relations': ['None'],\n",
              "   'precision': 1.0,\n",
              "   'recall': 1.0,\n",
              "   'f1': 1.0}},\n",
              " {'input': \"Shortly after he won the Nobel , the Bogotá daily newspaper El Tiempo sent a reporter here , and he described Aracataca as '' a ruined , backward town , without the tiniest attraction . ''\",\n",
              "  'output': 'None',\n",
              "  'base_model': {'response': ' Based on the given sentence, there doesn\\'t seem to be any explicit mention of companies or locations being related to each other or to people. Therefore, no relations from the given list would directly apply to this sentence. However, we can infer that \"here\" refers to Colombia based on context, so we could potentially have the following relation for the person mentioned: (\\'Aracataca\\', /location/country/\\'Colombia\\', /people/person/\\'him\\') for representing the fact that \\'he\\' is from Colombia. But keep in mind that this is not explicitly stated in the sentence and is an inference made based on context. So, the final answer would be: None.',\n",
              "   'predicted_relations': 'None',\n",
              "   'precision': 1.0,\n",
              "   'recall': 1.0,\n",
              "   'f1': 1.0},\n",
              "  'ft_model': {'response': ' None.',\n",
              "   'predicted_relations': ['None'],\n",
              "   'precision': 1.0,\n",
              "   'recall': 1.0,\n",
              "   'f1': 1.0}},\n",
              " {'input': \"The Faculty Senate at Southern Methodist University in Dallas rejected a proposal yesterday for a faculty referendum on plans for an independent policy institute on campus that would accompany President Bush 's future library and museum .\",\n",
              "  'output': 'None',\n",
              "  'base_model': {'response': \" Based on the given sentence, the following relation triple may be extracted:\\n(Entity: 'Faculty Senate at Southern Methodist University', Relation: '/business/organization/meeting', Tail Entity: 'rejected a proposal')\\n(Entity: 'Southern Methodist University in Dallas', Relation: '/location/city', Tail Entity: None)\\n(Entity: 'Southern Methodist University in Dallas', Relation: '/business/educational_institution/campus', Tail Entity: None)\\n(Entity: 'President Bush ', Relation: '/people/person/politician', Tail Entity: None)\\nThere isn't any relation directly mentioned in the sentence between entities related to companies or locations and entities related to countries, deceased persons, or places of birth/living. Therefore, no triples involving those relation types can be derived from this sentence.\",\n",
              "   'predicted_relations': 'None',\n",
              "   'precision': 1.0,\n",
              "   'recall': 1.0,\n",
              "   'f1': 1.0},\n",
              "  'ft_model': {'response': ' None.',\n",
              "   'predicted_relations': ['None'],\n",
              "   'precision': 1.0,\n",
              "   'recall': 1.0,\n",
              "   'f1': 1.0}}]"
            ]
          },
          "metadata": {},
          "execution_count": 58
        }
      ]
    },
    {
      "cell_type": "code",
      "source": [
        "[item['ft_model']['predicted_relations'] for item in data]"
      ],
      "metadata": {
        "colab": {
          "base_uri": "https://localhost:8080/"
        },
        "id": "mub3QSIrayYH",
        "outputId": "a8c15a7e-a0e8-4a5e-d5d1-bfa23ebb8943"
      },
      "execution_count": 12,
      "outputs": [
        {
          "output_type": "execute_result",
          "data": {
            "text/plain": [
              "[['None'],\n",
              " ['None'],\n",
              " ['None'],\n",
              " [(\"/'business/location\",\n",
              "   '/location/country/administrative_divisions',\n",
              "   '/business/location'),\n",
              "  ('Paramus ', '/location/country/administrative_divisions', 'New Jersey'),\n",
              "  ('Westfield Garden State Plaza ', \"/business/location' \", 'Paramus ')],\n",
              " ['None'],\n",
              " ['None'],\n",
              " [('Peter A. Chernin ', '/business/person/company/', 'Fox Group '),\n",
              "  ('Ron Meyer ', '/business/person/company/', 'Universal Studios '),\n",
              "  ('Richard Cook ', '/business/person/company/', 'Walt Disney Studios '),\n",
              "  ('Brad Grey ', '/business/person/company/', 'Paramount Pictures ')],\n",
              " ['None'],\n",
              " ['None'],\n",
              " ['None'],\n",
              " ['None'],\n",
              " ['None'],\n",
              " ['None'],\n",
              " ['None'],\n",
              " ['None'],\n",
              " ['None'],\n",
              " ['None'],\n",
              " ['None'],\n",
              " ['None'],\n",
              " ['None'],\n",
              " ['None'],\n",
              " ['None'],\n",
              " ['None'],\n",
              " ['None'],\n",
              " ['None'],\n",
              " ['None'],\n",
              " ['None'],\n",
              " ['None'],\n",
              " ['None'],\n",
              " ['None'],\n",
              " ['None'],\n",
              " ['None'],\n",
              " ['None'],\n",
              " ['None'],\n",
              " ['None'],\n",
              " ['None'],\n",
              " ['None'],\n",
              " ['None'],\n",
              " ['None'],\n",
              " ['None'],\n",
              " ['None'],\n",
              " ['None'],\n",
              " ['None'],\n",
              " ['None'],\n",
              " ['None'],\n",
              " ['None'],\n",
              " ['None'],\n",
              " ['None'],\n",
              " ['None'],\n",
              " ['None'],\n",
              " ['None'],\n",
              " ['None'],\n",
              " ['None'],\n",
              " ['None'],\n",
              " ['None'],\n",
              " ['None'],\n",
              " ['None'],\n",
              " ['None'],\n",
              " ['None'],\n",
              " ['None'],\n",
              " ['None'],\n",
              " ['None'],\n",
              " ['None'],\n",
              " ['None'],\n",
              " ['None'],\n",
              " ['None'],\n",
              " ['None'],\n",
              " ['None'],\n",
              " ['None'],\n",
              " ['None'],\n",
              " ['None'],\n",
              " ['None'],\n",
              " ['None'],\n",
              " ['None'],\n",
              " ['None'],\n",
              " ['None'],\n",
              " ['None'],\n",
              " ['None'],\n",
              " ['None'],\n",
              " ['None'],\n",
              " ['None'],\n",
              " [('Infosys Technologies',\n",
              "   '/business/company/organization/',\n",
              "   'Wipro Technologies'),\n",
              "  ('Wipro Technologies',\n",
              "   '/business/company/organization/',\n",
              "   'Tata Consultancy Services'),\n",
              "  ('Tata Consultancy Services',\n",
              "   '/business/company/organization/',\n",
              "   'Cognizant Technology Solutions'),\n",
              "  ('Cognizant Technology Solutions',\n",
              "   '/business/company/organization/',\n",
              "   'Accenture'),\n",
              "  ('Accenture', '/business/company/organization/', 'Deloitte & Touche')],\n",
              " ['None'],\n",
              " ['None'],\n",
              " ['None'],\n",
              " ['None'],\n",
              " ['None'],\n",
              " ['None'],\n",
              " ['None'],\n",
              " ['None'],\n",
              " ['None'],\n",
              " ['None'],\n",
              " ['None'],\n",
              " ['None'],\n",
              " ['None'],\n",
              " [(\"['Guggenheim Bilbao\",\n",
              "   '/business/location',\n",
              "   \"Spain'], ['Solomon R. Guggenheim Foundation', '/business/company', 'New York']\")],\n",
              " ['None'],\n",
              " ['None'],\n",
              " ['None'],\n",
              " ['None']]"
            ]
          },
          "metadata": {},
          "execution_count": 12
        }
      ]
    },
    {
      "cell_type": "code",
      "source": [
        "def calculate_average_metrics2(data):\n",
        "    total_precision = 0.0\n",
        "    total_recall = 0.0\n",
        "    total_f1 = 0.0\n",
        "    total_samples = len(data)\n",
        "\n",
        "    for item in data:\n",
        "        total_precision += item['ft_model']['precision']\n",
        "        total_recall += item['ft_model']['recall']\n",
        "        total_f1 += item['ft_model']['f1']\n",
        "\n",
        "    average_precision = total_precision / total_samples\n",
        "    average_recall = total_recall / total_samples\n",
        "    average_f1 = total_f1 / total_samples\n",
        "\n",
        "    return average_precision, average_recall, average_f1\n",
        "\n",
        "# Calculate average metrics\n",
        "avg_precision, avg_recall, avg_f1 = calculate_average_metrics2(data)\n",
        "\n",
        "print(\"Average Precision:\", avg_precision)\n",
        "print(\"Average Recall:\", avg_recall)\n",
        "print(\"Average F1-score:\", avg_f1)\n"
      ],
      "metadata": {
        "colab": {
          "base_uri": "https://localhost:8080/"
        },
        "id": "Q05XVcYD5Q_D",
        "outputId": "1203983b-7842-4b46-a1e1-79aaa9fcdd70"
      },
      "execution_count": 13,
      "outputs": [
        {
          "output_type": "stream",
          "name": "stdout",
          "text": [
            "Average Precision: 0.21\n",
            "Average Recall: 0.21\n",
            "Average F1-score: 0.21\n"
          ]
        }
      ]
    },
    {
      "cell_type": "code",
      "source": [
        "data[24]['base_model']"
      ],
      "metadata": {
        "colab": {
          "base_uri": "https://localhost:8080/"
        },
        "id": "Q7v21z-SCG3t",
        "outputId": "21034882-0411-4116-b2fb-9923219899c7"
      },
      "execution_count": 14,
      "outputs": [
        {
          "output_type": "execute_result",
          "data": {
            "text/plain": [
              "{'response': ' None.\\nIn this sentence, there are no explicit mentions of companies, locations, or people with specified relationships using the provided relation types. The sentence primarily discusses monetary amounts, political actions, and geographical references without specifying entities in a relational context according to the given relation types.',\n",
              " 'predicted_relations': 'None',\n",
              " 'precision': 0.0,\n",
              " 'recall': 0.0,\n",
              " 'f1': 0}"
            ]
          },
          "metadata": {},
          "execution_count": 14
        }
      ]
    },
    {
      "cell_type": "code",
      "source": [
        "data[24]['ft_model']"
      ],
      "metadata": {
        "colab": {
          "base_uri": "https://localhost:8080/"
        },
        "id": "8cyVchLICNsN",
        "outputId": "f5bff044-8e4d-4890-dd8b-ee5f689bc292"
      },
      "execution_count": 15,
      "outputs": [
        {
          "output_type": "execute_result",
          "data": {
            "text/plain": [
              "{'response': ' None.',\n",
              " 'predicted_relations': ['None'],\n",
              " 'precision': 0.0,\n",
              " 'recall': 0.0,\n",
              " 'f1': 0}"
            ]
          },
          "metadata": {},
          "execution_count": 15
        }
      ]
    },
    {
      "cell_type": "code",
      "source": [
        "data[0]"
      ],
      "metadata": {
        "colab": {
          "base_uri": "https://localhost:8080/"
        },
        "id": "Hf7AlxAtCm-e",
        "outputId": "4396021d-8ad7-45a2-9aaf-452c13ccf665"
      },
      "execution_count": null,
      "outputs": [
        {
          "output_type": "execute_result",
          "data": {
            "text/plain": [
              "{'input': '-LRB- AP -RRB- WEST VIRGINIA 67 , VILLANOVA 56 -- Frank Young scored a career-high 25 points , including eight 3-pointers , for No. 25 West Virginia -LRB- 12-1 , 2-0 -RRB- in a Big East game .',\n",
              " 'output': \"('Frank Young', '/people/person/place_lived', 'West Virginia')\",\n",
              " 'base_model': {'response': \" Based on the given sentence, there do not seem to be any explicit relations mentioned that can be directly extracted using the provided list. The sentence primarily describes an event (a basketball game) involving entities 'West Virginia' and 'Villanova'. However, no specific relations between these entities or other mentioned entities ('Frank Young') are explicitly stated in the sentence. Therefore, the answer would be: None.\",\n",
              "  'predicted_relations': 'None',\n",
              "  'precision': 0.0,\n",
              "  'recall': 0.0,\n",
              "  'f1': 0},\n",
              " 'ft_model': {'response': \" Based on the given sentence, there do not seem to be any explicit relations mentioned that can be directly extracted using the provided list. The sentence primarily describes an event (a basketball game) involving entities 'West Virginia' and 'Villanova'. However, no specific relations between these entities or other mentioned entities ('Frank Young') are explicitly stated in the sentence. Therefore, the answer would be: None.\",\n",
              "  'predicted_relations': 'None',\n",
              "  'precision': 0.0,\n",
              "  'recall': 0.0,\n",
              "  'f1': 0}}"
            ]
          },
          "metadata": {},
          "execution_count": 36
        }
      ]
    },
    {
      "cell_type": "markdown",
      "source": [
        "https://huggingface.co/docs/transformers/en/llm_tutorial\n",
        "\n",
        "### common pitfalls\n",
        "\n",
        "Wrong padding side\n",
        "\n",
        "LLMs are decoder-only architectures, meaning they continue to iterate on your input prompt. If your inputs do not have the same length, they need to be padded. Since LLMs are not trained to continue from pad tokens, your input needs to be left-padded. Make sure you also don’t forget to pass the attention mask to generate!\n",
        "\n",
        "\n"
      ],
      "metadata": {
        "id": "NbZl2xq8icRZ"
      }
    },
    {
      "cell_type": "code",
      "source": [
        "\n"
      ],
      "metadata": {
        "id": "zlVbVqe7C_BN"
      },
      "execution_count": null,
      "outputs": []
    }
  ]
}