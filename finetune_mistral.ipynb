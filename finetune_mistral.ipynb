{
  "nbformat": 4,
  "nbformat_minor": 0,
  "metadata": {
    "colab": {
      "provenance": [],
      "gpuType": "A100",
      "toc_visible": true,
      "include_colab_link": true
    },
    "kernelspec": {
      "name": "python3",
      "display_name": "Python 3"
    },
    "language_info": {
      "name": "python"
    },
    "widgets": {
      "application/vnd.jupyter.widget-state+json": {
        "4788ad5243474cc58733fd97d86140ca": {
          "model_module": "@jupyter-widgets/controls",
          "model_name": "HBoxModel",
          "model_module_version": "1.5.0",
          "state": {
            "_dom_classes": [],
            "_model_module": "@jupyter-widgets/controls",
            "_model_module_version": "1.5.0",
            "_model_name": "HBoxModel",
            "_view_count": null,
            "_view_module": "@jupyter-widgets/controls",
            "_view_module_version": "1.5.0",
            "_view_name": "HBoxView",
            "box_style": "",
            "children": [
              "IPY_MODEL_fd82d55ad2f94805b37cdf7a076d2f7e",
              "IPY_MODEL_957304ebfce2401280010c4324cb3ea8",
              "IPY_MODEL_b6f75848e4454185821775784bcd866b"
            ],
            "layout": "IPY_MODEL_b3d1b04d9b4643aa9b06072e8e76e843"
          }
        },
        "fd82d55ad2f94805b37cdf7a076d2f7e": {
          "model_module": "@jupyter-widgets/controls",
          "model_name": "HTMLModel",
          "model_module_version": "1.5.0",
          "state": {
            "_dom_classes": [],
            "_model_module": "@jupyter-widgets/controls",
            "_model_module_version": "1.5.0",
            "_model_name": "HTMLModel",
            "_view_count": null,
            "_view_module": "@jupyter-widgets/controls",
            "_view_module_version": "1.5.0",
            "_view_name": "HTMLView",
            "description": "",
            "description_tooltip": null,
            "layout": "IPY_MODEL_a75c112da2714e12b2996b5084fd27f6",
            "placeholder": "​",
            "style": "IPY_MODEL_bdafdfb92209478d9f6611783abdb407",
            "value": "Loading checkpoint shards: 100%"
          }
        },
        "957304ebfce2401280010c4324cb3ea8": {
          "model_module": "@jupyter-widgets/controls",
          "model_name": "FloatProgressModel",
          "model_module_version": "1.5.0",
          "state": {
            "_dom_classes": [],
            "_model_module": "@jupyter-widgets/controls",
            "_model_module_version": "1.5.0",
            "_model_name": "FloatProgressModel",
            "_view_count": null,
            "_view_module": "@jupyter-widgets/controls",
            "_view_module_version": "1.5.0",
            "_view_name": "ProgressView",
            "bar_style": "success",
            "description": "",
            "description_tooltip": null,
            "layout": "IPY_MODEL_bc65fc2695e34006a922580b78bdb03b",
            "max": 3,
            "min": 0,
            "orientation": "horizontal",
            "style": "IPY_MODEL_62fc2127f1ee465d9bae6c06aa457e75",
            "value": 3
          }
        },
        "b6f75848e4454185821775784bcd866b": {
          "model_module": "@jupyter-widgets/controls",
          "model_name": "HTMLModel",
          "model_module_version": "1.5.0",
          "state": {
            "_dom_classes": [],
            "_model_module": "@jupyter-widgets/controls",
            "_model_module_version": "1.5.0",
            "_model_name": "HTMLModel",
            "_view_count": null,
            "_view_module": "@jupyter-widgets/controls",
            "_view_module_version": "1.5.0",
            "_view_name": "HTMLView",
            "description": "",
            "description_tooltip": null,
            "layout": "IPY_MODEL_d2a4e4e9694548dd974e211d966e8e03",
            "placeholder": "​",
            "style": "IPY_MODEL_f169dc9690c64720a14455b25ab2e05c",
            "value": " 3/3 [01:32&lt;00:00, 29.86s/it]"
          }
        },
        "b3d1b04d9b4643aa9b06072e8e76e843": {
          "model_module": "@jupyter-widgets/base",
          "model_name": "LayoutModel",
          "model_module_version": "1.2.0",
          "state": {
            "_model_module": "@jupyter-widgets/base",
            "_model_module_version": "1.2.0",
            "_model_name": "LayoutModel",
            "_view_count": null,
            "_view_module": "@jupyter-widgets/base",
            "_view_module_version": "1.2.0",
            "_view_name": "LayoutView",
            "align_content": null,
            "align_items": null,
            "align_self": null,
            "border": null,
            "bottom": null,
            "display": null,
            "flex": null,
            "flex_flow": null,
            "grid_area": null,
            "grid_auto_columns": null,
            "grid_auto_flow": null,
            "grid_auto_rows": null,
            "grid_column": null,
            "grid_gap": null,
            "grid_row": null,
            "grid_template_areas": null,
            "grid_template_columns": null,
            "grid_template_rows": null,
            "height": null,
            "justify_content": null,
            "justify_items": null,
            "left": null,
            "margin": null,
            "max_height": null,
            "max_width": null,
            "min_height": null,
            "min_width": null,
            "object_fit": null,
            "object_position": null,
            "order": null,
            "overflow": null,
            "overflow_x": null,
            "overflow_y": null,
            "padding": null,
            "right": null,
            "top": null,
            "visibility": null,
            "width": null
          }
        },
        "a75c112da2714e12b2996b5084fd27f6": {
          "model_module": "@jupyter-widgets/base",
          "model_name": "LayoutModel",
          "model_module_version": "1.2.0",
          "state": {
            "_model_module": "@jupyter-widgets/base",
            "_model_module_version": "1.2.0",
            "_model_name": "LayoutModel",
            "_view_count": null,
            "_view_module": "@jupyter-widgets/base",
            "_view_module_version": "1.2.0",
            "_view_name": "LayoutView",
            "align_content": null,
            "align_items": null,
            "align_self": null,
            "border": null,
            "bottom": null,
            "display": null,
            "flex": null,
            "flex_flow": null,
            "grid_area": null,
            "grid_auto_columns": null,
            "grid_auto_flow": null,
            "grid_auto_rows": null,
            "grid_column": null,
            "grid_gap": null,
            "grid_row": null,
            "grid_template_areas": null,
            "grid_template_columns": null,
            "grid_template_rows": null,
            "height": null,
            "justify_content": null,
            "justify_items": null,
            "left": null,
            "margin": null,
            "max_height": null,
            "max_width": null,
            "min_height": null,
            "min_width": null,
            "object_fit": null,
            "object_position": null,
            "order": null,
            "overflow": null,
            "overflow_x": null,
            "overflow_y": null,
            "padding": null,
            "right": null,
            "top": null,
            "visibility": null,
            "width": null
          }
        },
        "bdafdfb92209478d9f6611783abdb407": {
          "model_module": "@jupyter-widgets/controls",
          "model_name": "DescriptionStyleModel",
          "model_module_version": "1.5.0",
          "state": {
            "_model_module": "@jupyter-widgets/controls",
            "_model_module_version": "1.5.0",
            "_model_name": "DescriptionStyleModel",
            "_view_count": null,
            "_view_module": "@jupyter-widgets/base",
            "_view_module_version": "1.2.0",
            "_view_name": "StyleView",
            "description_width": ""
          }
        },
        "bc65fc2695e34006a922580b78bdb03b": {
          "model_module": "@jupyter-widgets/base",
          "model_name": "LayoutModel",
          "model_module_version": "1.2.0",
          "state": {
            "_model_module": "@jupyter-widgets/base",
            "_model_module_version": "1.2.0",
            "_model_name": "LayoutModel",
            "_view_count": null,
            "_view_module": "@jupyter-widgets/base",
            "_view_module_version": "1.2.0",
            "_view_name": "LayoutView",
            "align_content": null,
            "align_items": null,
            "align_self": null,
            "border": null,
            "bottom": null,
            "display": null,
            "flex": null,
            "flex_flow": null,
            "grid_area": null,
            "grid_auto_columns": null,
            "grid_auto_flow": null,
            "grid_auto_rows": null,
            "grid_column": null,
            "grid_gap": null,
            "grid_row": null,
            "grid_template_areas": null,
            "grid_template_columns": null,
            "grid_template_rows": null,
            "height": null,
            "justify_content": null,
            "justify_items": null,
            "left": null,
            "margin": null,
            "max_height": null,
            "max_width": null,
            "min_height": null,
            "min_width": null,
            "object_fit": null,
            "object_position": null,
            "order": null,
            "overflow": null,
            "overflow_x": null,
            "overflow_y": null,
            "padding": null,
            "right": null,
            "top": null,
            "visibility": null,
            "width": null
          }
        },
        "62fc2127f1ee465d9bae6c06aa457e75": {
          "model_module": "@jupyter-widgets/controls",
          "model_name": "ProgressStyleModel",
          "model_module_version": "1.5.0",
          "state": {
            "_model_module": "@jupyter-widgets/controls",
            "_model_module_version": "1.5.0",
            "_model_name": "ProgressStyleModel",
            "_view_count": null,
            "_view_module": "@jupyter-widgets/base",
            "_view_module_version": "1.2.0",
            "_view_name": "StyleView",
            "bar_color": null,
            "description_width": ""
          }
        },
        "d2a4e4e9694548dd974e211d966e8e03": {
          "model_module": "@jupyter-widgets/base",
          "model_name": "LayoutModel",
          "model_module_version": "1.2.0",
          "state": {
            "_model_module": "@jupyter-widgets/base",
            "_model_module_version": "1.2.0",
            "_model_name": "LayoutModel",
            "_view_count": null,
            "_view_module": "@jupyter-widgets/base",
            "_view_module_version": "1.2.0",
            "_view_name": "LayoutView",
            "align_content": null,
            "align_items": null,
            "align_self": null,
            "border": null,
            "bottom": null,
            "display": null,
            "flex": null,
            "flex_flow": null,
            "grid_area": null,
            "grid_auto_columns": null,
            "grid_auto_flow": null,
            "grid_auto_rows": null,
            "grid_column": null,
            "grid_gap": null,
            "grid_row": null,
            "grid_template_areas": null,
            "grid_template_columns": null,
            "grid_template_rows": null,
            "height": null,
            "justify_content": null,
            "justify_items": null,
            "left": null,
            "margin": null,
            "max_height": null,
            "max_width": null,
            "min_height": null,
            "min_width": null,
            "object_fit": null,
            "object_position": null,
            "order": null,
            "overflow": null,
            "overflow_x": null,
            "overflow_y": null,
            "padding": null,
            "right": null,
            "top": null,
            "visibility": null,
            "width": null
          }
        },
        "f169dc9690c64720a14455b25ab2e05c": {
          "model_module": "@jupyter-widgets/controls",
          "model_name": "DescriptionStyleModel",
          "model_module_version": "1.5.0",
          "state": {
            "_model_module": "@jupyter-widgets/controls",
            "_model_module_version": "1.5.0",
            "_model_name": "DescriptionStyleModel",
            "_view_count": null,
            "_view_module": "@jupyter-widgets/base",
            "_view_module_version": "1.2.0",
            "_view_name": "StyleView",
            "description_width": ""
          }
        },
        "25ce777a0f1c4596a5a434a00a1dcb8c": {
          "model_module": "@jupyter-widgets/controls",
          "model_name": "HBoxModel",
          "model_module_version": "1.5.0",
          "state": {
            "_dom_classes": [],
            "_model_module": "@jupyter-widgets/controls",
            "_model_module_version": "1.5.0",
            "_model_name": "HBoxModel",
            "_view_count": null,
            "_view_module": "@jupyter-widgets/controls",
            "_view_module_version": "1.5.0",
            "_view_name": "HBoxView",
            "box_style": "",
            "children": [
              "IPY_MODEL_da0d191ebe284fb7bc44030369df8742",
              "IPY_MODEL_4b10a5ce933248fd9e6667f53e79a8c7",
              "IPY_MODEL_18a2aba8d8bf410c85ef9cb86c5d91c1"
            ],
            "layout": "IPY_MODEL_7b104a54327943e5a516825f209f113f"
          }
        },
        "da0d191ebe284fb7bc44030369df8742": {
          "model_module": "@jupyter-widgets/controls",
          "model_name": "HTMLModel",
          "model_module_version": "1.5.0",
          "state": {
            "_dom_classes": [],
            "_model_module": "@jupyter-widgets/controls",
            "_model_module_version": "1.5.0",
            "_model_name": "HTMLModel",
            "_view_count": null,
            "_view_module": "@jupyter-widgets/controls",
            "_view_module_version": "1.5.0",
            "_view_name": "HTMLView",
            "description": "",
            "description_tooltip": null,
            "layout": "IPY_MODEL_04881b03f5eb4168b159fc22d0ccd201",
            "placeholder": "​",
            "style": "IPY_MODEL_cc8a95b2861b4f84bbae1c822e7b8f35",
            "value": "config.json: 100%"
          }
        },
        "4b10a5ce933248fd9e6667f53e79a8c7": {
          "model_module": "@jupyter-widgets/controls",
          "model_name": "FloatProgressModel",
          "model_module_version": "1.5.0",
          "state": {
            "_dom_classes": [],
            "_model_module": "@jupyter-widgets/controls",
            "_model_module_version": "1.5.0",
            "_model_name": "FloatProgressModel",
            "_view_count": null,
            "_view_module": "@jupyter-widgets/controls",
            "_view_module_version": "1.5.0",
            "_view_name": "ProgressView",
            "bar_style": "success",
            "description": "",
            "description_tooltip": null,
            "layout": "IPY_MODEL_f62f9526f84b40d5bcc94c4b46bc7d6e",
            "max": 596,
            "min": 0,
            "orientation": "horizontal",
            "style": "IPY_MODEL_fccb9cd52c88473e97392b73046bf328",
            "value": 596
          }
        },
        "18a2aba8d8bf410c85ef9cb86c5d91c1": {
          "model_module": "@jupyter-widgets/controls",
          "model_name": "HTMLModel",
          "model_module_version": "1.5.0",
          "state": {
            "_dom_classes": [],
            "_model_module": "@jupyter-widgets/controls",
            "_model_module_version": "1.5.0",
            "_model_name": "HTMLModel",
            "_view_count": null,
            "_view_module": "@jupyter-widgets/controls",
            "_view_module_version": "1.5.0",
            "_view_name": "HTMLView",
            "description": "",
            "description_tooltip": null,
            "layout": "IPY_MODEL_321d1bbf366d4a76b8bef3a415699f48",
            "placeholder": "​",
            "style": "IPY_MODEL_2164d58ba5c54e13ac3e69e806a2cad7",
            "value": " 596/596 [00:00&lt;00:00, 46.0kB/s]"
          }
        },
        "7b104a54327943e5a516825f209f113f": {
          "model_module": "@jupyter-widgets/base",
          "model_name": "LayoutModel",
          "model_module_version": "1.2.0",
          "state": {
            "_model_module": "@jupyter-widgets/base",
            "_model_module_version": "1.2.0",
            "_model_name": "LayoutModel",
            "_view_count": null,
            "_view_module": "@jupyter-widgets/base",
            "_view_module_version": "1.2.0",
            "_view_name": "LayoutView",
            "align_content": null,
            "align_items": null,
            "align_self": null,
            "border": null,
            "bottom": null,
            "display": null,
            "flex": null,
            "flex_flow": null,
            "grid_area": null,
            "grid_auto_columns": null,
            "grid_auto_flow": null,
            "grid_auto_rows": null,
            "grid_column": null,
            "grid_gap": null,
            "grid_row": null,
            "grid_template_areas": null,
            "grid_template_columns": null,
            "grid_template_rows": null,
            "height": null,
            "justify_content": null,
            "justify_items": null,
            "left": null,
            "margin": null,
            "max_height": null,
            "max_width": null,
            "min_height": null,
            "min_width": null,
            "object_fit": null,
            "object_position": null,
            "order": null,
            "overflow": null,
            "overflow_x": null,
            "overflow_y": null,
            "padding": null,
            "right": null,
            "top": null,
            "visibility": null,
            "width": null
          }
        },
        "04881b03f5eb4168b159fc22d0ccd201": {
          "model_module": "@jupyter-widgets/base",
          "model_name": "LayoutModel",
          "model_module_version": "1.2.0",
          "state": {
            "_model_module": "@jupyter-widgets/base",
            "_model_module_version": "1.2.0",
            "_model_name": "LayoutModel",
            "_view_count": null,
            "_view_module": "@jupyter-widgets/base",
            "_view_module_version": "1.2.0",
            "_view_name": "LayoutView",
            "align_content": null,
            "align_items": null,
            "align_self": null,
            "border": null,
            "bottom": null,
            "display": null,
            "flex": null,
            "flex_flow": null,
            "grid_area": null,
            "grid_auto_columns": null,
            "grid_auto_flow": null,
            "grid_auto_rows": null,
            "grid_column": null,
            "grid_gap": null,
            "grid_row": null,
            "grid_template_areas": null,
            "grid_template_columns": null,
            "grid_template_rows": null,
            "height": null,
            "justify_content": null,
            "justify_items": null,
            "left": null,
            "margin": null,
            "max_height": null,
            "max_width": null,
            "min_height": null,
            "min_width": null,
            "object_fit": null,
            "object_position": null,
            "order": null,
            "overflow": null,
            "overflow_x": null,
            "overflow_y": null,
            "padding": null,
            "right": null,
            "top": null,
            "visibility": null,
            "width": null
          }
        },
        "cc8a95b2861b4f84bbae1c822e7b8f35": {
          "model_module": "@jupyter-widgets/controls",
          "model_name": "DescriptionStyleModel",
          "model_module_version": "1.5.0",
          "state": {
            "_model_module": "@jupyter-widgets/controls",
            "_model_module_version": "1.5.0",
            "_model_name": "DescriptionStyleModel",
            "_view_count": null,
            "_view_module": "@jupyter-widgets/base",
            "_view_module_version": "1.2.0",
            "_view_name": "StyleView",
            "description_width": ""
          }
        },
        "f62f9526f84b40d5bcc94c4b46bc7d6e": {
          "model_module": "@jupyter-widgets/base",
          "model_name": "LayoutModel",
          "model_module_version": "1.2.0",
          "state": {
            "_model_module": "@jupyter-widgets/base",
            "_model_module_version": "1.2.0",
            "_model_name": "LayoutModel",
            "_view_count": null,
            "_view_module": "@jupyter-widgets/base",
            "_view_module_version": "1.2.0",
            "_view_name": "LayoutView",
            "align_content": null,
            "align_items": null,
            "align_self": null,
            "border": null,
            "bottom": null,
            "display": null,
            "flex": null,
            "flex_flow": null,
            "grid_area": null,
            "grid_auto_columns": null,
            "grid_auto_flow": null,
            "grid_auto_rows": null,
            "grid_column": null,
            "grid_gap": null,
            "grid_row": null,
            "grid_template_areas": null,
            "grid_template_columns": null,
            "grid_template_rows": null,
            "height": null,
            "justify_content": null,
            "justify_items": null,
            "left": null,
            "margin": null,
            "max_height": null,
            "max_width": null,
            "min_height": null,
            "min_width": null,
            "object_fit": null,
            "object_position": null,
            "order": null,
            "overflow": null,
            "overflow_x": null,
            "overflow_y": null,
            "padding": null,
            "right": null,
            "top": null,
            "visibility": null,
            "width": null
          }
        },
        "fccb9cd52c88473e97392b73046bf328": {
          "model_module": "@jupyter-widgets/controls",
          "model_name": "ProgressStyleModel",
          "model_module_version": "1.5.0",
          "state": {
            "_model_module": "@jupyter-widgets/controls",
            "_model_module_version": "1.5.0",
            "_model_name": "ProgressStyleModel",
            "_view_count": null,
            "_view_module": "@jupyter-widgets/base",
            "_view_module_version": "1.2.0",
            "_view_name": "StyleView",
            "bar_color": null,
            "description_width": ""
          }
        },
        "321d1bbf366d4a76b8bef3a415699f48": {
          "model_module": "@jupyter-widgets/base",
          "model_name": "LayoutModel",
          "model_module_version": "1.2.0",
          "state": {
            "_model_module": "@jupyter-widgets/base",
            "_model_module_version": "1.2.0",
            "_model_name": "LayoutModel",
            "_view_count": null,
            "_view_module": "@jupyter-widgets/base",
            "_view_module_version": "1.2.0",
            "_view_name": "LayoutView",
            "align_content": null,
            "align_items": null,
            "align_self": null,
            "border": null,
            "bottom": null,
            "display": null,
            "flex": null,
            "flex_flow": null,
            "grid_area": null,
            "grid_auto_columns": null,
            "grid_auto_flow": null,
            "grid_auto_rows": null,
            "grid_column": null,
            "grid_gap": null,
            "grid_row": null,
            "grid_template_areas": null,
            "grid_template_columns": null,
            "grid_template_rows": null,
            "height": null,
            "justify_content": null,
            "justify_items": null,
            "left": null,
            "margin": null,
            "max_height": null,
            "max_width": null,
            "min_height": null,
            "min_width": null,
            "object_fit": null,
            "object_position": null,
            "order": null,
            "overflow": null,
            "overflow_x": null,
            "overflow_y": null,
            "padding": null,
            "right": null,
            "top": null,
            "visibility": null,
            "width": null
          }
        },
        "2164d58ba5c54e13ac3e69e806a2cad7": {
          "model_module": "@jupyter-widgets/controls",
          "model_name": "DescriptionStyleModel",
          "model_module_version": "1.5.0",
          "state": {
            "_model_module": "@jupyter-widgets/controls",
            "_model_module_version": "1.5.0",
            "_model_name": "DescriptionStyleModel",
            "_view_count": null,
            "_view_module": "@jupyter-widgets/base",
            "_view_module_version": "1.2.0",
            "_view_name": "StyleView",
            "description_width": ""
          }
        },
        "5fe4c7753ff24a3296625bd6970279d0": {
          "model_module": "@jupyter-widgets/controls",
          "model_name": "HBoxModel",
          "model_module_version": "1.5.0",
          "state": {
            "_dom_classes": [],
            "_model_module": "@jupyter-widgets/controls",
            "_model_module_version": "1.5.0",
            "_model_name": "HBoxModel",
            "_view_count": null,
            "_view_module": "@jupyter-widgets/controls",
            "_view_module_version": "1.5.0",
            "_view_name": "HBoxView",
            "box_style": "",
            "children": [
              "IPY_MODEL_66725c3fff2f4945ab1eed1a7e831b23",
              "IPY_MODEL_c8d14d67ae7e4deeb9052f8765935c90",
              "IPY_MODEL_55d2799bfd90482ba9e66d4dcacd324f"
            ],
            "layout": "IPY_MODEL_2ce20eeec79c4e2dbdcac7e36e3ba278"
          }
        },
        "66725c3fff2f4945ab1eed1a7e831b23": {
          "model_module": "@jupyter-widgets/controls",
          "model_name": "HTMLModel",
          "model_module_version": "1.5.0",
          "state": {
            "_dom_classes": [],
            "_model_module": "@jupyter-widgets/controls",
            "_model_module_version": "1.5.0",
            "_model_name": "HTMLModel",
            "_view_count": null,
            "_view_module": "@jupyter-widgets/controls",
            "_view_module_version": "1.5.0",
            "_view_name": "HTMLView",
            "description": "",
            "description_tooltip": null,
            "layout": "IPY_MODEL_8863402a89ff4db791d39be4f97da0d5",
            "placeholder": "​",
            "style": "IPY_MODEL_e33ffb07f8c746a19775ad423c13969f",
            "value": "model.safetensors.index.json: 100%"
          }
        },
        "c8d14d67ae7e4deeb9052f8765935c90": {
          "model_module": "@jupyter-widgets/controls",
          "model_name": "FloatProgressModel",
          "model_module_version": "1.5.0",
          "state": {
            "_dom_classes": [],
            "_model_module": "@jupyter-widgets/controls",
            "_model_module_version": "1.5.0",
            "_model_name": "FloatProgressModel",
            "_view_count": null,
            "_view_module": "@jupyter-widgets/controls",
            "_view_module_version": "1.5.0",
            "_view_name": "ProgressView",
            "bar_style": "success",
            "description": "",
            "description_tooltip": null,
            "layout": "IPY_MODEL_7163964e36954c7aa6a2d7dec93a8db1",
            "max": 25125,
            "min": 0,
            "orientation": "horizontal",
            "style": "IPY_MODEL_a943bff8917946f9a477efdc19f3f4c5",
            "value": 25125
          }
        },
        "55d2799bfd90482ba9e66d4dcacd324f": {
          "model_module": "@jupyter-widgets/controls",
          "model_name": "HTMLModel",
          "model_module_version": "1.5.0",
          "state": {
            "_dom_classes": [],
            "_model_module": "@jupyter-widgets/controls",
            "_model_module_version": "1.5.0",
            "_model_name": "HTMLModel",
            "_view_count": null,
            "_view_module": "@jupyter-widgets/controls",
            "_view_module_version": "1.5.0",
            "_view_name": "HTMLView",
            "description": "",
            "description_tooltip": null,
            "layout": "IPY_MODEL_8172f06b54ae477a8c40681a362b125a",
            "placeholder": "​",
            "style": "IPY_MODEL_01366a7cd3714e5eb161470de86fa9ed",
            "value": " 25.1k/25.1k [00:00&lt;00:00, 1.86MB/s]"
          }
        },
        "2ce20eeec79c4e2dbdcac7e36e3ba278": {
          "model_module": "@jupyter-widgets/base",
          "model_name": "LayoutModel",
          "model_module_version": "1.2.0",
          "state": {
            "_model_module": "@jupyter-widgets/base",
            "_model_module_version": "1.2.0",
            "_model_name": "LayoutModel",
            "_view_count": null,
            "_view_module": "@jupyter-widgets/base",
            "_view_module_version": "1.2.0",
            "_view_name": "LayoutView",
            "align_content": null,
            "align_items": null,
            "align_self": null,
            "border": null,
            "bottom": null,
            "display": null,
            "flex": null,
            "flex_flow": null,
            "grid_area": null,
            "grid_auto_columns": null,
            "grid_auto_flow": null,
            "grid_auto_rows": null,
            "grid_column": null,
            "grid_gap": null,
            "grid_row": null,
            "grid_template_areas": null,
            "grid_template_columns": null,
            "grid_template_rows": null,
            "height": null,
            "justify_content": null,
            "justify_items": null,
            "left": null,
            "margin": null,
            "max_height": null,
            "max_width": null,
            "min_height": null,
            "min_width": null,
            "object_fit": null,
            "object_position": null,
            "order": null,
            "overflow": null,
            "overflow_x": null,
            "overflow_y": null,
            "padding": null,
            "right": null,
            "top": null,
            "visibility": null,
            "width": null
          }
        },
        "8863402a89ff4db791d39be4f97da0d5": {
          "model_module": "@jupyter-widgets/base",
          "model_name": "LayoutModel",
          "model_module_version": "1.2.0",
          "state": {
            "_model_module": "@jupyter-widgets/base",
            "_model_module_version": "1.2.0",
            "_model_name": "LayoutModel",
            "_view_count": null,
            "_view_module": "@jupyter-widgets/base",
            "_view_module_version": "1.2.0",
            "_view_name": "LayoutView",
            "align_content": null,
            "align_items": null,
            "align_self": null,
            "border": null,
            "bottom": null,
            "display": null,
            "flex": null,
            "flex_flow": null,
            "grid_area": null,
            "grid_auto_columns": null,
            "grid_auto_flow": null,
            "grid_auto_rows": null,
            "grid_column": null,
            "grid_gap": null,
            "grid_row": null,
            "grid_template_areas": null,
            "grid_template_columns": null,
            "grid_template_rows": null,
            "height": null,
            "justify_content": null,
            "justify_items": null,
            "left": null,
            "margin": null,
            "max_height": null,
            "max_width": null,
            "min_height": null,
            "min_width": null,
            "object_fit": null,
            "object_position": null,
            "order": null,
            "overflow": null,
            "overflow_x": null,
            "overflow_y": null,
            "padding": null,
            "right": null,
            "top": null,
            "visibility": null,
            "width": null
          }
        },
        "e33ffb07f8c746a19775ad423c13969f": {
          "model_module": "@jupyter-widgets/controls",
          "model_name": "DescriptionStyleModel",
          "model_module_version": "1.5.0",
          "state": {
            "_model_module": "@jupyter-widgets/controls",
            "_model_module_version": "1.5.0",
            "_model_name": "DescriptionStyleModel",
            "_view_count": null,
            "_view_module": "@jupyter-widgets/base",
            "_view_module_version": "1.2.0",
            "_view_name": "StyleView",
            "description_width": ""
          }
        },
        "7163964e36954c7aa6a2d7dec93a8db1": {
          "model_module": "@jupyter-widgets/base",
          "model_name": "LayoutModel",
          "model_module_version": "1.2.0",
          "state": {
            "_model_module": "@jupyter-widgets/base",
            "_model_module_version": "1.2.0",
            "_model_name": "LayoutModel",
            "_view_count": null,
            "_view_module": "@jupyter-widgets/base",
            "_view_module_version": "1.2.0",
            "_view_name": "LayoutView",
            "align_content": null,
            "align_items": null,
            "align_self": null,
            "border": null,
            "bottom": null,
            "display": null,
            "flex": null,
            "flex_flow": null,
            "grid_area": null,
            "grid_auto_columns": null,
            "grid_auto_flow": null,
            "grid_auto_rows": null,
            "grid_column": null,
            "grid_gap": null,
            "grid_row": null,
            "grid_template_areas": null,
            "grid_template_columns": null,
            "grid_template_rows": null,
            "height": null,
            "justify_content": null,
            "justify_items": null,
            "left": null,
            "margin": null,
            "max_height": null,
            "max_width": null,
            "min_height": null,
            "min_width": null,
            "object_fit": null,
            "object_position": null,
            "order": null,
            "overflow": null,
            "overflow_x": null,
            "overflow_y": null,
            "padding": null,
            "right": null,
            "top": null,
            "visibility": null,
            "width": null
          }
        },
        "a943bff8917946f9a477efdc19f3f4c5": {
          "model_module": "@jupyter-widgets/controls",
          "model_name": "ProgressStyleModel",
          "model_module_version": "1.5.0",
          "state": {
            "_model_module": "@jupyter-widgets/controls",
            "_model_module_version": "1.5.0",
            "_model_name": "ProgressStyleModel",
            "_view_count": null,
            "_view_module": "@jupyter-widgets/base",
            "_view_module_version": "1.2.0",
            "_view_name": "StyleView",
            "bar_color": null,
            "description_width": ""
          }
        },
        "8172f06b54ae477a8c40681a362b125a": {
          "model_module": "@jupyter-widgets/base",
          "model_name": "LayoutModel",
          "model_module_version": "1.2.0",
          "state": {
            "_model_module": "@jupyter-widgets/base",
            "_model_module_version": "1.2.0",
            "_model_name": "LayoutModel",
            "_view_count": null,
            "_view_module": "@jupyter-widgets/base",
            "_view_module_version": "1.2.0",
            "_view_name": "LayoutView",
            "align_content": null,
            "align_items": null,
            "align_self": null,
            "border": null,
            "bottom": null,
            "display": null,
            "flex": null,
            "flex_flow": null,
            "grid_area": null,
            "grid_auto_columns": null,
            "grid_auto_flow": null,
            "grid_auto_rows": null,
            "grid_column": null,
            "grid_gap": null,
            "grid_row": null,
            "grid_template_areas": null,
            "grid_template_columns": null,
            "grid_template_rows": null,
            "height": null,
            "justify_content": null,
            "justify_items": null,
            "left": null,
            "margin": null,
            "max_height": null,
            "max_width": null,
            "min_height": null,
            "min_width": null,
            "object_fit": null,
            "object_position": null,
            "order": null,
            "overflow": null,
            "overflow_x": null,
            "overflow_y": null,
            "padding": null,
            "right": null,
            "top": null,
            "visibility": null,
            "width": null
          }
        },
        "01366a7cd3714e5eb161470de86fa9ed": {
          "model_module": "@jupyter-widgets/controls",
          "model_name": "DescriptionStyleModel",
          "model_module_version": "1.5.0",
          "state": {
            "_model_module": "@jupyter-widgets/controls",
            "_model_module_version": "1.5.0",
            "_model_name": "DescriptionStyleModel",
            "_view_count": null,
            "_view_module": "@jupyter-widgets/base",
            "_view_module_version": "1.2.0",
            "_view_name": "StyleView",
            "description_width": ""
          }
        },
        "af25340aacca4e9385d244a7be0f1de5": {
          "model_module": "@jupyter-widgets/controls",
          "model_name": "HBoxModel",
          "model_module_version": "1.5.0",
          "state": {
            "_dom_classes": [],
            "_model_module": "@jupyter-widgets/controls",
            "_model_module_version": "1.5.0",
            "_model_name": "HBoxModel",
            "_view_count": null,
            "_view_module": "@jupyter-widgets/controls",
            "_view_module_version": "1.5.0",
            "_view_name": "HBoxView",
            "box_style": "",
            "children": [
              "IPY_MODEL_d22dc5207e1e459aabc5907d40419d8f",
              "IPY_MODEL_56efcc11ce0c4ac2bc889a7eb51bee8e",
              "IPY_MODEL_4533a1f6e98948abb03eb00f5ab3b815"
            ],
            "layout": "IPY_MODEL_ded07dc55e1f434b8205c5e22e0149da"
          }
        },
        "d22dc5207e1e459aabc5907d40419d8f": {
          "model_module": "@jupyter-widgets/controls",
          "model_name": "HTMLModel",
          "model_module_version": "1.5.0",
          "state": {
            "_dom_classes": [],
            "_model_module": "@jupyter-widgets/controls",
            "_model_module_version": "1.5.0",
            "_model_name": "HTMLModel",
            "_view_count": null,
            "_view_module": "@jupyter-widgets/controls",
            "_view_module_version": "1.5.0",
            "_view_name": "HTMLView",
            "description": "",
            "description_tooltip": null,
            "layout": "IPY_MODEL_adf0029073644adca65efa1ecc99ec91",
            "placeholder": "​",
            "style": "IPY_MODEL_280ef18bd4cb429aaf872975088e316d",
            "value": "Downloading shards: 100%"
          }
        },
        "56efcc11ce0c4ac2bc889a7eb51bee8e": {
          "model_module": "@jupyter-widgets/controls",
          "model_name": "FloatProgressModel",
          "model_module_version": "1.5.0",
          "state": {
            "_dom_classes": [],
            "_model_module": "@jupyter-widgets/controls",
            "_model_module_version": "1.5.0",
            "_model_name": "FloatProgressModel",
            "_view_count": null,
            "_view_module": "@jupyter-widgets/controls",
            "_view_module_version": "1.5.0",
            "_view_name": "ProgressView",
            "bar_style": "success",
            "description": "",
            "description_tooltip": null,
            "layout": "IPY_MODEL_97c5ac249a2e4667be3fca0d874cae7f",
            "max": 3,
            "min": 0,
            "orientation": "horizontal",
            "style": "IPY_MODEL_bf496782f5594c549c5f200f704e0aad",
            "value": 3
          }
        },
        "4533a1f6e98948abb03eb00f5ab3b815": {
          "model_module": "@jupyter-widgets/controls",
          "model_name": "HTMLModel",
          "model_module_version": "1.5.0",
          "state": {
            "_dom_classes": [],
            "_model_module": "@jupyter-widgets/controls",
            "_model_module_version": "1.5.0",
            "_model_name": "HTMLModel",
            "_view_count": null,
            "_view_module": "@jupyter-widgets/controls",
            "_view_module_version": "1.5.0",
            "_view_name": "HTMLView",
            "description": "",
            "description_tooltip": null,
            "layout": "IPY_MODEL_cf771093597e40e6bdecbcc64711feab",
            "placeholder": "​",
            "style": "IPY_MODEL_e032196821044993971e312883868774",
            "value": " 3/3 [00:56&lt;00:00, 19.08s/it]"
          }
        },
        "ded07dc55e1f434b8205c5e22e0149da": {
          "model_module": "@jupyter-widgets/base",
          "model_name": "LayoutModel",
          "model_module_version": "1.2.0",
          "state": {
            "_model_module": "@jupyter-widgets/base",
            "_model_module_version": "1.2.0",
            "_model_name": "LayoutModel",
            "_view_count": null,
            "_view_module": "@jupyter-widgets/base",
            "_view_module_version": "1.2.0",
            "_view_name": "LayoutView",
            "align_content": null,
            "align_items": null,
            "align_self": null,
            "border": null,
            "bottom": null,
            "display": null,
            "flex": null,
            "flex_flow": null,
            "grid_area": null,
            "grid_auto_columns": null,
            "grid_auto_flow": null,
            "grid_auto_rows": null,
            "grid_column": null,
            "grid_gap": null,
            "grid_row": null,
            "grid_template_areas": null,
            "grid_template_columns": null,
            "grid_template_rows": null,
            "height": null,
            "justify_content": null,
            "justify_items": null,
            "left": null,
            "margin": null,
            "max_height": null,
            "max_width": null,
            "min_height": null,
            "min_width": null,
            "object_fit": null,
            "object_position": null,
            "order": null,
            "overflow": null,
            "overflow_x": null,
            "overflow_y": null,
            "padding": null,
            "right": null,
            "top": null,
            "visibility": null,
            "width": null
          }
        },
        "adf0029073644adca65efa1ecc99ec91": {
          "model_module": "@jupyter-widgets/base",
          "model_name": "LayoutModel",
          "model_module_version": "1.2.0",
          "state": {
            "_model_module": "@jupyter-widgets/base",
            "_model_module_version": "1.2.0",
            "_model_name": "LayoutModel",
            "_view_count": null,
            "_view_module": "@jupyter-widgets/base",
            "_view_module_version": "1.2.0",
            "_view_name": "LayoutView",
            "align_content": null,
            "align_items": null,
            "align_self": null,
            "border": null,
            "bottom": null,
            "display": null,
            "flex": null,
            "flex_flow": null,
            "grid_area": null,
            "grid_auto_columns": null,
            "grid_auto_flow": null,
            "grid_auto_rows": null,
            "grid_column": null,
            "grid_gap": null,
            "grid_row": null,
            "grid_template_areas": null,
            "grid_template_columns": null,
            "grid_template_rows": null,
            "height": null,
            "justify_content": null,
            "justify_items": null,
            "left": null,
            "margin": null,
            "max_height": null,
            "max_width": null,
            "min_height": null,
            "min_width": null,
            "object_fit": null,
            "object_position": null,
            "order": null,
            "overflow": null,
            "overflow_x": null,
            "overflow_y": null,
            "padding": null,
            "right": null,
            "top": null,
            "visibility": null,
            "width": null
          }
        },
        "280ef18bd4cb429aaf872975088e316d": {
          "model_module": "@jupyter-widgets/controls",
          "model_name": "DescriptionStyleModel",
          "model_module_version": "1.5.0",
          "state": {
            "_model_module": "@jupyter-widgets/controls",
            "_model_module_version": "1.5.0",
            "_model_name": "DescriptionStyleModel",
            "_view_count": null,
            "_view_module": "@jupyter-widgets/base",
            "_view_module_version": "1.2.0",
            "_view_name": "StyleView",
            "description_width": ""
          }
        },
        "97c5ac249a2e4667be3fca0d874cae7f": {
          "model_module": "@jupyter-widgets/base",
          "model_name": "LayoutModel",
          "model_module_version": "1.2.0",
          "state": {
            "_model_module": "@jupyter-widgets/base",
            "_model_module_version": "1.2.0",
            "_model_name": "LayoutModel",
            "_view_count": null,
            "_view_module": "@jupyter-widgets/base",
            "_view_module_version": "1.2.0",
            "_view_name": "LayoutView",
            "align_content": null,
            "align_items": null,
            "align_self": null,
            "border": null,
            "bottom": null,
            "display": null,
            "flex": null,
            "flex_flow": null,
            "grid_area": null,
            "grid_auto_columns": null,
            "grid_auto_flow": null,
            "grid_auto_rows": null,
            "grid_column": null,
            "grid_gap": null,
            "grid_row": null,
            "grid_template_areas": null,
            "grid_template_columns": null,
            "grid_template_rows": null,
            "height": null,
            "justify_content": null,
            "justify_items": null,
            "left": null,
            "margin": null,
            "max_height": null,
            "max_width": null,
            "min_height": null,
            "min_width": null,
            "object_fit": null,
            "object_position": null,
            "order": null,
            "overflow": null,
            "overflow_x": null,
            "overflow_y": null,
            "padding": null,
            "right": null,
            "top": null,
            "visibility": null,
            "width": null
          }
        },
        "bf496782f5594c549c5f200f704e0aad": {
          "model_module": "@jupyter-widgets/controls",
          "model_name": "ProgressStyleModel",
          "model_module_version": "1.5.0",
          "state": {
            "_model_module": "@jupyter-widgets/controls",
            "_model_module_version": "1.5.0",
            "_model_name": "ProgressStyleModel",
            "_view_count": null,
            "_view_module": "@jupyter-widgets/base",
            "_view_module_version": "1.2.0",
            "_view_name": "StyleView",
            "bar_color": null,
            "description_width": ""
          }
        },
        "cf771093597e40e6bdecbcc64711feab": {
          "model_module": "@jupyter-widgets/base",
          "model_name": "LayoutModel",
          "model_module_version": "1.2.0",
          "state": {
            "_model_module": "@jupyter-widgets/base",
            "_model_module_version": "1.2.0",
            "_model_name": "LayoutModel",
            "_view_count": null,
            "_view_module": "@jupyter-widgets/base",
            "_view_module_version": "1.2.0",
            "_view_name": "LayoutView",
            "align_content": null,
            "align_items": null,
            "align_self": null,
            "border": null,
            "bottom": null,
            "display": null,
            "flex": null,
            "flex_flow": null,
            "grid_area": null,
            "grid_auto_columns": null,
            "grid_auto_flow": null,
            "grid_auto_rows": null,
            "grid_column": null,
            "grid_gap": null,
            "grid_row": null,
            "grid_template_areas": null,
            "grid_template_columns": null,
            "grid_template_rows": null,
            "height": null,
            "justify_content": null,
            "justify_items": null,
            "left": null,
            "margin": null,
            "max_height": null,
            "max_width": null,
            "min_height": null,
            "min_width": null,
            "object_fit": null,
            "object_position": null,
            "order": null,
            "overflow": null,
            "overflow_x": null,
            "overflow_y": null,
            "padding": null,
            "right": null,
            "top": null,
            "visibility": null,
            "width": null
          }
        },
        "e032196821044993971e312883868774": {
          "model_module": "@jupyter-widgets/controls",
          "model_name": "DescriptionStyleModel",
          "model_module_version": "1.5.0",
          "state": {
            "_model_module": "@jupyter-widgets/controls",
            "_model_module_version": "1.5.0",
            "_model_name": "DescriptionStyleModel",
            "_view_count": null,
            "_view_module": "@jupyter-widgets/base",
            "_view_module_version": "1.2.0",
            "_view_name": "StyleView",
            "description_width": ""
          }
        },
        "ef75358d438c4959b4132e6399eed7e9": {
          "model_module": "@jupyter-widgets/controls",
          "model_name": "HBoxModel",
          "model_module_version": "1.5.0",
          "state": {
            "_dom_classes": [],
            "_model_module": "@jupyter-widgets/controls",
            "_model_module_version": "1.5.0",
            "_model_name": "HBoxModel",
            "_view_count": null,
            "_view_module": "@jupyter-widgets/controls",
            "_view_module_version": "1.5.0",
            "_view_name": "HBoxView",
            "box_style": "",
            "children": [
              "IPY_MODEL_09d56862fc294f51b67e920d20408687",
              "IPY_MODEL_df20c00a31484fd5917f7fcb188a73d8",
              "IPY_MODEL_7522fbc18c8440eebe6454df59dd86cd"
            ],
            "layout": "IPY_MODEL_80514a9ea87d40739c03a6dbff491145"
          }
        },
        "09d56862fc294f51b67e920d20408687": {
          "model_module": "@jupyter-widgets/controls",
          "model_name": "HTMLModel",
          "model_module_version": "1.5.0",
          "state": {
            "_dom_classes": [],
            "_model_module": "@jupyter-widgets/controls",
            "_model_module_version": "1.5.0",
            "_model_name": "HTMLModel",
            "_view_count": null,
            "_view_module": "@jupyter-widgets/controls",
            "_view_module_version": "1.5.0",
            "_view_name": "HTMLView",
            "description": "",
            "description_tooltip": null,
            "layout": "IPY_MODEL_a0e526be402f469e9ffa9783fa841559",
            "placeholder": "​",
            "style": "IPY_MODEL_505cde94eaf64b69bcae7ae9e4cb22a3",
            "value": "model-00001-of-00003.safetensors: 100%"
          }
        },
        "df20c00a31484fd5917f7fcb188a73d8": {
          "model_module": "@jupyter-widgets/controls",
          "model_name": "FloatProgressModel",
          "model_module_version": "1.5.0",
          "state": {
            "_dom_classes": [],
            "_model_module": "@jupyter-widgets/controls",
            "_model_module_version": "1.5.0",
            "_model_name": "FloatProgressModel",
            "_view_count": null,
            "_view_module": "@jupyter-widgets/controls",
            "_view_module_version": "1.5.0",
            "_view_name": "ProgressView",
            "bar_style": "success",
            "description": "",
            "description_tooltip": null,
            "layout": "IPY_MODEL_799f3dfc7875416eb62e01b0331a2aa3",
            "max": 4943162336,
            "min": 0,
            "orientation": "horizontal",
            "style": "IPY_MODEL_abc595c8aa454aa1af9982e570853b05",
            "value": 4943162336
          }
        },
        "7522fbc18c8440eebe6454df59dd86cd": {
          "model_module": "@jupyter-widgets/controls",
          "model_name": "HTMLModel",
          "model_module_version": "1.5.0",
          "state": {
            "_dom_classes": [],
            "_model_module": "@jupyter-widgets/controls",
            "_model_module_version": "1.5.0",
            "_model_name": "HTMLModel",
            "_view_count": null,
            "_view_module": "@jupyter-widgets/controls",
            "_view_module_version": "1.5.0",
            "_view_name": "HTMLView",
            "description": "",
            "description_tooltip": null,
            "layout": "IPY_MODEL_14dae2a9cb894ce1a188f18e679e52e2",
            "placeholder": "​",
            "style": "IPY_MODEL_c05e409b246847c6a9defd92ce63c910",
            "value": " 4.94G/4.94G [00:15&lt;00:00, 367MB/s]"
          }
        },
        "80514a9ea87d40739c03a6dbff491145": {
          "model_module": "@jupyter-widgets/base",
          "model_name": "LayoutModel",
          "model_module_version": "1.2.0",
          "state": {
            "_model_module": "@jupyter-widgets/base",
            "_model_module_version": "1.2.0",
            "_model_name": "LayoutModel",
            "_view_count": null,
            "_view_module": "@jupyter-widgets/base",
            "_view_module_version": "1.2.0",
            "_view_name": "LayoutView",
            "align_content": null,
            "align_items": null,
            "align_self": null,
            "border": null,
            "bottom": null,
            "display": null,
            "flex": null,
            "flex_flow": null,
            "grid_area": null,
            "grid_auto_columns": null,
            "grid_auto_flow": null,
            "grid_auto_rows": null,
            "grid_column": null,
            "grid_gap": null,
            "grid_row": null,
            "grid_template_areas": null,
            "grid_template_columns": null,
            "grid_template_rows": null,
            "height": null,
            "justify_content": null,
            "justify_items": null,
            "left": null,
            "margin": null,
            "max_height": null,
            "max_width": null,
            "min_height": null,
            "min_width": null,
            "object_fit": null,
            "object_position": null,
            "order": null,
            "overflow": null,
            "overflow_x": null,
            "overflow_y": null,
            "padding": null,
            "right": null,
            "top": null,
            "visibility": null,
            "width": null
          }
        },
        "a0e526be402f469e9ffa9783fa841559": {
          "model_module": "@jupyter-widgets/base",
          "model_name": "LayoutModel",
          "model_module_version": "1.2.0",
          "state": {
            "_model_module": "@jupyter-widgets/base",
            "_model_module_version": "1.2.0",
            "_model_name": "LayoutModel",
            "_view_count": null,
            "_view_module": "@jupyter-widgets/base",
            "_view_module_version": "1.2.0",
            "_view_name": "LayoutView",
            "align_content": null,
            "align_items": null,
            "align_self": null,
            "border": null,
            "bottom": null,
            "display": null,
            "flex": null,
            "flex_flow": null,
            "grid_area": null,
            "grid_auto_columns": null,
            "grid_auto_flow": null,
            "grid_auto_rows": null,
            "grid_column": null,
            "grid_gap": null,
            "grid_row": null,
            "grid_template_areas": null,
            "grid_template_columns": null,
            "grid_template_rows": null,
            "height": null,
            "justify_content": null,
            "justify_items": null,
            "left": null,
            "margin": null,
            "max_height": null,
            "max_width": null,
            "min_height": null,
            "min_width": null,
            "object_fit": null,
            "object_position": null,
            "order": null,
            "overflow": null,
            "overflow_x": null,
            "overflow_y": null,
            "padding": null,
            "right": null,
            "top": null,
            "visibility": null,
            "width": null
          }
        },
        "505cde94eaf64b69bcae7ae9e4cb22a3": {
          "model_module": "@jupyter-widgets/controls",
          "model_name": "DescriptionStyleModel",
          "model_module_version": "1.5.0",
          "state": {
            "_model_module": "@jupyter-widgets/controls",
            "_model_module_version": "1.5.0",
            "_model_name": "DescriptionStyleModel",
            "_view_count": null,
            "_view_module": "@jupyter-widgets/base",
            "_view_module_version": "1.2.0",
            "_view_name": "StyleView",
            "description_width": ""
          }
        },
        "799f3dfc7875416eb62e01b0331a2aa3": {
          "model_module": "@jupyter-widgets/base",
          "model_name": "LayoutModel",
          "model_module_version": "1.2.0",
          "state": {
            "_model_module": "@jupyter-widgets/base",
            "_model_module_version": "1.2.0",
            "_model_name": "LayoutModel",
            "_view_count": null,
            "_view_module": "@jupyter-widgets/base",
            "_view_module_version": "1.2.0",
            "_view_name": "LayoutView",
            "align_content": null,
            "align_items": null,
            "align_self": null,
            "border": null,
            "bottom": null,
            "display": null,
            "flex": null,
            "flex_flow": null,
            "grid_area": null,
            "grid_auto_columns": null,
            "grid_auto_flow": null,
            "grid_auto_rows": null,
            "grid_column": null,
            "grid_gap": null,
            "grid_row": null,
            "grid_template_areas": null,
            "grid_template_columns": null,
            "grid_template_rows": null,
            "height": null,
            "justify_content": null,
            "justify_items": null,
            "left": null,
            "margin": null,
            "max_height": null,
            "max_width": null,
            "min_height": null,
            "min_width": null,
            "object_fit": null,
            "object_position": null,
            "order": null,
            "overflow": null,
            "overflow_x": null,
            "overflow_y": null,
            "padding": null,
            "right": null,
            "top": null,
            "visibility": null,
            "width": null
          }
        },
        "abc595c8aa454aa1af9982e570853b05": {
          "model_module": "@jupyter-widgets/controls",
          "model_name": "ProgressStyleModel",
          "model_module_version": "1.5.0",
          "state": {
            "_model_module": "@jupyter-widgets/controls",
            "_model_module_version": "1.5.0",
            "_model_name": "ProgressStyleModel",
            "_view_count": null,
            "_view_module": "@jupyter-widgets/base",
            "_view_module_version": "1.2.0",
            "_view_name": "StyleView",
            "bar_color": null,
            "description_width": ""
          }
        },
        "14dae2a9cb894ce1a188f18e679e52e2": {
          "model_module": "@jupyter-widgets/base",
          "model_name": "LayoutModel",
          "model_module_version": "1.2.0",
          "state": {
            "_model_module": "@jupyter-widgets/base",
            "_model_module_version": "1.2.0",
            "_model_name": "LayoutModel",
            "_view_count": null,
            "_view_module": "@jupyter-widgets/base",
            "_view_module_version": "1.2.0",
            "_view_name": "LayoutView",
            "align_content": null,
            "align_items": null,
            "align_self": null,
            "border": null,
            "bottom": null,
            "display": null,
            "flex": null,
            "flex_flow": null,
            "grid_area": null,
            "grid_auto_columns": null,
            "grid_auto_flow": null,
            "grid_auto_rows": null,
            "grid_column": null,
            "grid_gap": null,
            "grid_row": null,
            "grid_template_areas": null,
            "grid_template_columns": null,
            "grid_template_rows": null,
            "height": null,
            "justify_content": null,
            "justify_items": null,
            "left": null,
            "margin": null,
            "max_height": null,
            "max_width": null,
            "min_height": null,
            "min_width": null,
            "object_fit": null,
            "object_position": null,
            "order": null,
            "overflow": null,
            "overflow_x": null,
            "overflow_y": null,
            "padding": null,
            "right": null,
            "top": null,
            "visibility": null,
            "width": null
          }
        },
        "c05e409b246847c6a9defd92ce63c910": {
          "model_module": "@jupyter-widgets/controls",
          "model_name": "DescriptionStyleModel",
          "model_module_version": "1.5.0",
          "state": {
            "_model_module": "@jupyter-widgets/controls",
            "_model_module_version": "1.5.0",
            "_model_name": "DescriptionStyleModel",
            "_view_count": null,
            "_view_module": "@jupyter-widgets/base",
            "_view_module_version": "1.2.0",
            "_view_name": "StyleView",
            "description_width": ""
          }
        },
        "15077345a57341f99724ea5a906ec51a": {
          "model_module": "@jupyter-widgets/controls",
          "model_name": "HBoxModel",
          "model_module_version": "1.5.0",
          "state": {
            "_dom_classes": [],
            "_model_module": "@jupyter-widgets/controls",
            "_model_module_version": "1.5.0",
            "_model_name": "HBoxModel",
            "_view_count": null,
            "_view_module": "@jupyter-widgets/controls",
            "_view_module_version": "1.5.0",
            "_view_name": "HBoxView",
            "box_style": "",
            "children": [
              "IPY_MODEL_be9d2d15685c44e5857c025ae0d03794",
              "IPY_MODEL_ee59109474af48199a9ddad4ebc4b693",
              "IPY_MODEL_014b5a5793ae4db7aa07d84bcdbf2faf"
            ],
            "layout": "IPY_MODEL_2cf6c6f2eec44983835201b6b2ce3544"
          }
        },
        "be9d2d15685c44e5857c025ae0d03794": {
          "model_module": "@jupyter-widgets/controls",
          "model_name": "HTMLModel",
          "model_module_version": "1.5.0",
          "state": {
            "_dom_classes": [],
            "_model_module": "@jupyter-widgets/controls",
            "_model_module_version": "1.5.0",
            "_model_name": "HTMLModel",
            "_view_count": null,
            "_view_module": "@jupyter-widgets/controls",
            "_view_module_version": "1.5.0",
            "_view_name": "HTMLView",
            "description": "",
            "description_tooltip": null,
            "layout": "IPY_MODEL_ebff982201d745c78d32e5d6fc32f91d",
            "placeholder": "​",
            "style": "IPY_MODEL_f73151bf6bee4f08bb62b28291d9c06c",
            "value": "model-00002-of-00003.safetensors: 100%"
          }
        },
        "ee59109474af48199a9ddad4ebc4b693": {
          "model_module": "@jupyter-widgets/controls",
          "model_name": "FloatProgressModel",
          "model_module_version": "1.5.0",
          "state": {
            "_dom_classes": [],
            "_model_module": "@jupyter-widgets/controls",
            "_model_module_version": "1.5.0",
            "_model_name": "FloatProgressModel",
            "_view_count": null,
            "_view_module": "@jupyter-widgets/controls",
            "_view_module_version": "1.5.0",
            "_view_name": "ProgressView",
            "bar_style": "success",
            "description": "",
            "description_tooltip": null,
            "layout": "IPY_MODEL_2e2b4f69965342dba192e02b7d20474b",
            "max": 4999819336,
            "min": 0,
            "orientation": "horizontal",
            "style": "IPY_MODEL_d39cf4900bae41debb7983bfe2060685",
            "value": 4999819336
          }
        },
        "014b5a5793ae4db7aa07d84bcdbf2faf": {
          "model_module": "@jupyter-widgets/controls",
          "model_name": "HTMLModel",
          "model_module_version": "1.5.0",
          "state": {
            "_dom_classes": [],
            "_model_module": "@jupyter-widgets/controls",
            "_model_module_version": "1.5.0",
            "_model_name": "HTMLModel",
            "_view_count": null,
            "_view_module": "@jupyter-widgets/controls",
            "_view_module_version": "1.5.0",
            "_view_name": "HTMLView",
            "description": "",
            "description_tooltip": null,
            "layout": "IPY_MODEL_2c81f70244de4f2cac635d26d6d566ec",
            "placeholder": "​",
            "style": "IPY_MODEL_8f05e0ddcd434afea41f254a3295fcfb",
            "value": " 5.00G/5.00G [00:23&lt;00:00, 386MB/s]"
          }
        },
        "2cf6c6f2eec44983835201b6b2ce3544": {
          "model_module": "@jupyter-widgets/base",
          "model_name": "LayoutModel",
          "model_module_version": "1.2.0",
          "state": {
            "_model_module": "@jupyter-widgets/base",
            "_model_module_version": "1.2.0",
            "_model_name": "LayoutModel",
            "_view_count": null,
            "_view_module": "@jupyter-widgets/base",
            "_view_module_version": "1.2.0",
            "_view_name": "LayoutView",
            "align_content": null,
            "align_items": null,
            "align_self": null,
            "border": null,
            "bottom": null,
            "display": null,
            "flex": null,
            "flex_flow": null,
            "grid_area": null,
            "grid_auto_columns": null,
            "grid_auto_flow": null,
            "grid_auto_rows": null,
            "grid_column": null,
            "grid_gap": null,
            "grid_row": null,
            "grid_template_areas": null,
            "grid_template_columns": null,
            "grid_template_rows": null,
            "height": null,
            "justify_content": null,
            "justify_items": null,
            "left": null,
            "margin": null,
            "max_height": null,
            "max_width": null,
            "min_height": null,
            "min_width": null,
            "object_fit": null,
            "object_position": null,
            "order": null,
            "overflow": null,
            "overflow_x": null,
            "overflow_y": null,
            "padding": null,
            "right": null,
            "top": null,
            "visibility": null,
            "width": null
          }
        },
        "ebff982201d745c78d32e5d6fc32f91d": {
          "model_module": "@jupyter-widgets/base",
          "model_name": "LayoutModel",
          "model_module_version": "1.2.0",
          "state": {
            "_model_module": "@jupyter-widgets/base",
            "_model_module_version": "1.2.0",
            "_model_name": "LayoutModel",
            "_view_count": null,
            "_view_module": "@jupyter-widgets/base",
            "_view_module_version": "1.2.0",
            "_view_name": "LayoutView",
            "align_content": null,
            "align_items": null,
            "align_self": null,
            "border": null,
            "bottom": null,
            "display": null,
            "flex": null,
            "flex_flow": null,
            "grid_area": null,
            "grid_auto_columns": null,
            "grid_auto_flow": null,
            "grid_auto_rows": null,
            "grid_column": null,
            "grid_gap": null,
            "grid_row": null,
            "grid_template_areas": null,
            "grid_template_columns": null,
            "grid_template_rows": null,
            "height": null,
            "justify_content": null,
            "justify_items": null,
            "left": null,
            "margin": null,
            "max_height": null,
            "max_width": null,
            "min_height": null,
            "min_width": null,
            "object_fit": null,
            "object_position": null,
            "order": null,
            "overflow": null,
            "overflow_x": null,
            "overflow_y": null,
            "padding": null,
            "right": null,
            "top": null,
            "visibility": null,
            "width": null
          }
        },
        "f73151bf6bee4f08bb62b28291d9c06c": {
          "model_module": "@jupyter-widgets/controls",
          "model_name": "DescriptionStyleModel",
          "model_module_version": "1.5.0",
          "state": {
            "_model_module": "@jupyter-widgets/controls",
            "_model_module_version": "1.5.0",
            "_model_name": "DescriptionStyleModel",
            "_view_count": null,
            "_view_module": "@jupyter-widgets/base",
            "_view_module_version": "1.2.0",
            "_view_name": "StyleView",
            "description_width": ""
          }
        },
        "2e2b4f69965342dba192e02b7d20474b": {
          "model_module": "@jupyter-widgets/base",
          "model_name": "LayoutModel",
          "model_module_version": "1.2.0",
          "state": {
            "_model_module": "@jupyter-widgets/base",
            "_model_module_version": "1.2.0",
            "_model_name": "LayoutModel",
            "_view_count": null,
            "_view_module": "@jupyter-widgets/base",
            "_view_module_version": "1.2.0",
            "_view_name": "LayoutView",
            "align_content": null,
            "align_items": null,
            "align_self": null,
            "border": null,
            "bottom": null,
            "display": null,
            "flex": null,
            "flex_flow": null,
            "grid_area": null,
            "grid_auto_columns": null,
            "grid_auto_flow": null,
            "grid_auto_rows": null,
            "grid_column": null,
            "grid_gap": null,
            "grid_row": null,
            "grid_template_areas": null,
            "grid_template_columns": null,
            "grid_template_rows": null,
            "height": null,
            "justify_content": null,
            "justify_items": null,
            "left": null,
            "margin": null,
            "max_height": null,
            "max_width": null,
            "min_height": null,
            "min_width": null,
            "object_fit": null,
            "object_position": null,
            "order": null,
            "overflow": null,
            "overflow_x": null,
            "overflow_y": null,
            "padding": null,
            "right": null,
            "top": null,
            "visibility": null,
            "width": null
          }
        },
        "d39cf4900bae41debb7983bfe2060685": {
          "model_module": "@jupyter-widgets/controls",
          "model_name": "ProgressStyleModel",
          "model_module_version": "1.5.0",
          "state": {
            "_model_module": "@jupyter-widgets/controls",
            "_model_module_version": "1.5.0",
            "_model_name": "ProgressStyleModel",
            "_view_count": null,
            "_view_module": "@jupyter-widgets/base",
            "_view_module_version": "1.2.0",
            "_view_name": "StyleView",
            "bar_color": null,
            "description_width": ""
          }
        },
        "2c81f70244de4f2cac635d26d6d566ec": {
          "model_module": "@jupyter-widgets/base",
          "model_name": "LayoutModel",
          "model_module_version": "1.2.0",
          "state": {
            "_model_module": "@jupyter-widgets/base",
            "_model_module_version": "1.2.0",
            "_model_name": "LayoutModel",
            "_view_count": null,
            "_view_module": "@jupyter-widgets/base",
            "_view_module_version": "1.2.0",
            "_view_name": "LayoutView",
            "align_content": null,
            "align_items": null,
            "align_self": null,
            "border": null,
            "bottom": null,
            "display": null,
            "flex": null,
            "flex_flow": null,
            "grid_area": null,
            "grid_auto_columns": null,
            "grid_auto_flow": null,
            "grid_auto_rows": null,
            "grid_column": null,
            "grid_gap": null,
            "grid_row": null,
            "grid_template_areas": null,
            "grid_template_columns": null,
            "grid_template_rows": null,
            "height": null,
            "justify_content": null,
            "justify_items": null,
            "left": null,
            "margin": null,
            "max_height": null,
            "max_width": null,
            "min_height": null,
            "min_width": null,
            "object_fit": null,
            "object_position": null,
            "order": null,
            "overflow": null,
            "overflow_x": null,
            "overflow_y": null,
            "padding": null,
            "right": null,
            "top": null,
            "visibility": null,
            "width": null
          }
        },
        "8f05e0ddcd434afea41f254a3295fcfb": {
          "model_module": "@jupyter-widgets/controls",
          "model_name": "DescriptionStyleModel",
          "model_module_version": "1.5.0",
          "state": {
            "_model_module": "@jupyter-widgets/controls",
            "_model_module_version": "1.5.0",
            "_model_name": "DescriptionStyleModel",
            "_view_count": null,
            "_view_module": "@jupyter-widgets/base",
            "_view_module_version": "1.2.0",
            "_view_name": "StyleView",
            "description_width": ""
          }
        },
        "fc7dd68b709540659e7dc1b09acba39a": {
          "model_module": "@jupyter-widgets/controls",
          "model_name": "HBoxModel",
          "model_module_version": "1.5.0",
          "state": {
            "_dom_classes": [],
            "_model_module": "@jupyter-widgets/controls",
            "_model_module_version": "1.5.0",
            "_model_name": "HBoxModel",
            "_view_count": null,
            "_view_module": "@jupyter-widgets/controls",
            "_view_module_version": "1.5.0",
            "_view_name": "HBoxView",
            "box_style": "",
            "children": [
              "IPY_MODEL_fff25752a3d64ded96731a5c04a96996",
              "IPY_MODEL_7db1db184d7a44a0a5af3456eb2a4a6c",
              "IPY_MODEL_783442179cce423386b3b704103d7be3"
            ],
            "layout": "IPY_MODEL_82a3af029275430c8e3c83d780272c90"
          }
        },
        "fff25752a3d64ded96731a5c04a96996": {
          "model_module": "@jupyter-widgets/controls",
          "model_name": "HTMLModel",
          "model_module_version": "1.5.0",
          "state": {
            "_dom_classes": [],
            "_model_module": "@jupyter-widgets/controls",
            "_model_module_version": "1.5.0",
            "_model_name": "HTMLModel",
            "_view_count": null,
            "_view_module": "@jupyter-widgets/controls",
            "_view_module_version": "1.5.0",
            "_view_name": "HTMLView",
            "description": "",
            "description_tooltip": null,
            "layout": "IPY_MODEL_d3e1f9b344684c80ab005d1628d7b067",
            "placeholder": "​",
            "style": "IPY_MODEL_8ee45f7d4dcb4360bbf2ef3cdf1d44fd",
            "value": "model-00003-of-00003.safetensors: 100%"
          }
        },
        "7db1db184d7a44a0a5af3456eb2a4a6c": {
          "model_module": "@jupyter-widgets/controls",
          "model_name": "FloatProgressModel",
          "model_module_version": "1.5.0",
          "state": {
            "_dom_classes": [],
            "_model_module": "@jupyter-widgets/controls",
            "_model_module_version": "1.5.0",
            "_model_name": "FloatProgressModel",
            "_view_count": null,
            "_view_module": "@jupyter-widgets/controls",
            "_view_module_version": "1.5.0",
            "_view_name": "ProgressView",
            "bar_style": "success",
            "description": "",
            "description_tooltip": null,
            "layout": "IPY_MODEL_be319fb5b70d4692985eb3434c17fde1",
            "max": 4540516344,
            "min": 0,
            "orientation": "horizontal",
            "style": "IPY_MODEL_fd4254d5d79d4b23a3a4c2776c643e86",
            "value": 4540516344
          }
        },
        "783442179cce423386b3b704103d7be3": {
          "model_module": "@jupyter-widgets/controls",
          "model_name": "HTMLModel",
          "model_module_version": "1.5.0",
          "state": {
            "_dom_classes": [],
            "_model_module": "@jupyter-widgets/controls",
            "_model_module_version": "1.5.0",
            "_model_name": "HTMLModel",
            "_view_count": null,
            "_view_module": "@jupyter-widgets/controls",
            "_view_module_version": "1.5.0",
            "_view_name": "HTMLView",
            "description": "",
            "description_tooltip": null,
            "layout": "IPY_MODEL_43431603150a4631af99a81f7b5aa2a4",
            "placeholder": "​",
            "style": "IPY_MODEL_c426f8a40d5f47f2bb6059a2fa0a916d",
            "value": " 4.54G/4.54G [00:17&lt;00:00, 203MB/s]"
          }
        },
        "82a3af029275430c8e3c83d780272c90": {
          "model_module": "@jupyter-widgets/base",
          "model_name": "LayoutModel",
          "model_module_version": "1.2.0",
          "state": {
            "_model_module": "@jupyter-widgets/base",
            "_model_module_version": "1.2.0",
            "_model_name": "LayoutModel",
            "_view_count": null,
            "_view_module": "@jupyter-widgets/base",
            "_view_module_version": "1.2.0",
            "_view_name": "LayoutView",
            "align_content": null,
            "align_items": null,
            "align_self": null,
            "border": null,
            "bottom": null,
            "display": null,
            "flex": null,
            "flex_flow": null,
            "grid_area": null,
            "grid_auto_columns": null,
            "grid_auto_flow": null,
            "grid_auto_rows": null,
            "grid_column": null,
            "grid_gap": null,
            "grid_row": null,
            "grid_template_areas": null,
            "grid_template_columns": null,
            "grid_template_rows": null,
            "height": null,
            "justify_content": null,
            "justify_items": null,
            "left": null,
            "margin": null,
            "max_height": null,
            "max_width": null,
            "min_height": null,
            "min_width": null,
            "object_fit": null,
            "object_position": null,
            "order": null,
            "overflow": null,
            "overflow_x": null,
            "overflow_y": null,
            "padding": null,
            "right": null,
            "top": null,
            "visibility": null,
            "width": null
          }
        },
        "d3e1f9b344684c80ab005d1628d7b067": {
          "model_module": "@jupyter-widgets/base",
          "model_name": "LayoutModel",
          "model_module_version": "1.2.0",
          "state": {
            "_model_module": "@jupyter-widgets/base",
            "_model_module_version": "1.2.0",
            "_model_name": "LayoutModel",
            "_view_count": null,
            "_view_module": "@jupyter-widgets/base",
            "_view_module_version": "1.2.0",
            "_view_name": "LayoutView",
            "align_content": null,
            "align_items": null,
            "align_self": null,
            "border": null,
            "bottom": null,
            "display": null,
            "flex": null,
            "flex_flow": null,
            "grid_area": null,
            "grid_auto_columns": null,
            "grid_auto_flow": null,
            "grid_auto_rows": null,
            "grid_column": null,
            "grid_gap": null,
            "grid_row": null,
            "grid_template_areas": null,
            "grid_template_columns": null,
            "grid_template_rows": null,
            "height": null,
            "justify_content": null,
            "justify_items": null,
            "left": null,
            "margin": null,
            "max_height": null,
            "max_width": null,
            "min_height": null,
            "min_width": null,
            "object_fit": null,
            "object_position": null,
            "order": null,
            "overflow": null,
            "overflow_x": null,
            "overflow_y": null,
            "padding": null,
            "right": null,
            "top": null,
            "visibility": null,
            "width": null
          }
        },
        "8ee45f7d4dcb4360bbf2ef3cdf1d44fd": {
          "model_module": "@jupyter-widgets/controls",
          "model_name": "DescriptionStyleModel",
          "model_module_version": "1.5.0",
          "state": {
            "_model_module": "@jupyter-widgets/controls",
            "_model_module_version": "1.5.0",
            "_model_name": "DescriptionStyleModel",
            "_view_count": null,
            "_view_module": "@jupyter-widgets/base",
            "_view_module_version": "1.2.0",
            "_view_name": "StyleView",
            "description_width": ""
          }
        },
        "be319fb5b70d4692985eb3434c17fde1": {
          "model_module": "@jupyter-widgets/base",
          "model_name": "LayoutModel",
          "model_module_version": "1.2.0",
          "state": {
            "_model_module": "@jupyter-widgets/base",
            "_model_module_version": "1.2.0",
            "_model_name": "LayoutModel",
            "_view_count": null,
            "_view_module": "@jupyter-widgets/base",
            "_view_module_version": "1.2.0",
            "_view_name": "LayoutView",
            "align_content": null,
            "align_items": null,
            "align_self": null,
            "border": null,
            "bottom": null,
            "display": null,
            "flex": null,
            "flex_flow": null,
            "grid_area": null,
            "grid_auto_columns": null,
            "grid_auto_flow": null,
            "grid_auto_rows": null,
            "grid_column": null,
            "grid_gap": null,
            "grid_row": null,
            "grid_template_areas": null,
            "grid_template_columns": null,
            "grid_template_rows": null,
            "height": null,
            "justify_content": null,
            "justify_items": null,
            "left": null,
            "margin": null,
            "max_height": null,
            "max_width": null,
            "min_height": null,
            "min_width": null,
            "object_fit": null,
            "object_position": null,
            "order": null,
            "overflow": null,
            "overflow_x": null,
            "overflow_y": null,
            "padding": null,
            "right": null,
            "top": null,
            "visibility": null,
            "width": null
          }
        },
        "fd4254d5d79d4b23a3a4c2776c643e86": {
          "model_module": "@jupyter-widgets/controls",
          "model_name": "ProgressStyleModel",
          "model_module_version": "1.5.0",
          "state": {
            "_model_module": "@jupyter-widgets/controls",
            "_model_module_version": "1.5.0",
            "_model_name": "ProgressStyleModel",
            "_view_count": null,
            "_view_module": "@jupyter-widgets/base",
            "_view_module_version": "1.2.0",
            "_view_name": "StyleView",
            "bar_color": null,
            "description_width": ""
          }
        },
        "43431603150a4631af99a81f7b5aa2a4": {
          "model_module": "@jupyter-widgets/base",
          "model_name": "LayoutModel",
          "model_module_version": "1.2.0",
          "state": {
            "_model_module": "@jupyter-widgets/base",
            "_model_module_version": "1.2.0",
            "_model_name": "LayoutModel",
            "_view_count": null,
            "_view_module": "@jupyter-widgets/base",
            "_view_module_version": "1.2.0",
            "_view_name": "LayoutView",
            "align_content": null,
            "align_items": null,
            "align_self": null,
            "border": null,
            "bottom": null,
            "display": null,
            "flex": null,
            "flex_flow": null,
            "grid_area": null,
            "grid_auto_columns": null,
            "grid_auto_flow": null,
            "grid_auto_rows": null,
            "grid_column": null,
            "grid_gap": null,
            "grid_row": null,
            "grid_template_areas": null,
            "grid_template_columns": null,
            "grid_template_rows": null,
            "height": null,
            "justify_content": null,
            "justify_items": null,
            "left": null,
            "margin": null,
            "max_height": null,
            "max_width": null,
            "min_height": null,
            "min_width": null,
            "object_fit": null,
            "object_position": null,
            "order": null,
            "overflow": null,
            "overflow_x": null,
            "overflow_y": null,
            "padding": null,
            "right": null,
            "top": null,
            "visibility": null,
            "width": null
          }
        },
        "c426f8a40d5f47f2bb6059a2fa0a916d": {
          "model_module": "@jupyter-widgets/controls",
          "model_name": "DescriptionStyleModel",
          "model_module_version": "1.5.0",
          "state": {
            "_model_module": "@jupyter-widgets/controls",
            "_model_module_version": "1.5.0",
            "_model_name": "DescriptionStyleModel",
            "_view_count": null,
            "_view_module": "@jupyter-widgets/base",
            "_view_module_version": "1.2.0",
            "_view_name": "StyleView",
            "description_width": ""
          }
        },
        "9ac52387b7a64f41a5d564ee87ce839c": {
          "model_module": "@jupyter-widgets/controls",
          "model_name": "HBoxModel",
          "model_module_version": "1.5.0",
          "state": {
            "_dom_classes": [],
            "_model_module": "@jupyter-widgets/controls",
            "_model_module_version": "1.5.0",
            "_model_name": "HBoxModel",
            "_view_count": null,
            "_view_module": "@jupyter-widgets/controls",
            "_view_module_version": "1.5.0",
            "_view_name": "HBoxView",
            "box_style": "",
            "children": [
              "IPY_MODEL_af831843daea4cac96a003a7ad5e94e8",
              "IPY_MODEL_22db0539a2cc4167b98976a35d2a13b5",
              "IPY_MODEL_a2dbe72cf9914384a224e53dfc941e76"
            ],
            "layout": "IPY_MODEL_530f0e99916d472592b064950bb9260f"
          }
        },
        "af831843daea4cac96a003a7ad5e94e8": {
          "model_module": "@jupyter-widgets/controls",
          "model_name": "HTMLModel",
          "model_module_version": "1.5.0",
          "state": {
            "_dom_classes": [],
            "_model_module": "@jupyter-widgets/controls",
            "_model_module_version": "1.5.0",
            "_model_name": "HTMLModel",
            "_view_count": null,
            "_view_module": "@jupyter-widgets/controls",
            "_view_module_version": "1.5.0",
            "_view_name": "HTMLView",
            "description": "",
            "description_tooltip": null,
            "layout": "IPY_MODEL_c018249ce2ba47c7a98be801d212f6e4",
            "placeholder": "​",
            "style": "IPY_MODEL_a70f65bb928544dcb4e923ff5ed67026",
            "value": "Loading checkpoint shards: 100%"
          }
        },
        "22db0539a2cc4167b98976a35d2a13b5": {
          "model_module": "@jupyter-widgets/controls",
          "model_name": "FloatProgressModel",
          "model_module_version": "1.5.0",
          "state": {
            "_dom_classes": [],
            "_model_module": "@jupyter-widgets/controls",
            "_model_module_version": "1.5.0",
            "_model_name": "FloatProgressModel",
            "_view_count": null,
            "_view_module": "@jupyter-widgets/controls",
            "_view_module_version": "1.5.0",
            "_view_name": "ProgressView",
            "bar_style": "success",
            "description": "",
            "description_tooltip": null,
            "layout": "IPY_MODEL_1c25b4156fc74ea98f045ea3d34a80d5",
            "max": 3,
            "min": 0,
            "orientation": "horizontal",
            "style": "IPY_MODEL_616b763a29394451a6f500cc3552eece",
            "value": 3
          }
        },
        "a2dbe72cf9914384a224e53dfc941e76": {
          "model_module": "@jupyter-widgets/controls",
          "model_name": "HTMLModel",
          "model_module_version": "1.5.0",
          "state": {
            "_dom_classes": [],
            "_model_module": "@jupyter-widgets/controls",
            "_model_module_version": "1.5.0",
            "_model_name": "HTMLModel",
            "_view_count": null,
            "_view_module": "@jupyter-widgets/controls",
            "_view_module_version": "1.5.0",
            "_view_name": "HTMLView",
            "description": "",
            "description_tooltip": null,
            "layout": "IPY_MODEL_3f01baadaa644eb895325e73ca414fe3",
            "placeholder": "​",
            "style": "IPY_MODEL_ead7d48ef91642cc97f8389df998db5d",
            "value": " 3/3 [00:07&lt;00:00,  2.48s/it]"
          }
        },
        "530f0e99916d472592b064950bb9260f": {
          "model_module": "@jupyter-widgets/base",
          "model_name": "LayoutModel",
          "model_module_version": "1.2.0",
          "state": {
            "_model_module": "@jupyter-widgets/base",
            "_model_module_version": "1.2.0",
            "_model_name": "LayoutModel",
            "_view_count": null,
            "_view_module": "@jupyter-widgets/base",
            "_view_module_version": "1.2.0",
            "_view_name": "LayoutView",
            "align_content": null,
            "align_items": null,
            "align_self": null,
            "border": null,
            "bottom": null,
            "display": null,
            "flex": null,
            "flex_flow": null,
            "grid_area": null,
            "grid_auto_columns": null,
            "grid_auto_flow": null,
            "grid_auto_rows": null,
            "grid_column": null,
            "grid_gap": null,
            "grid_row": null,
            "grid_template_areas": null,
            "grid_template_columns": null,
            "grid_template_rows": null,
            "height": null,
            "justify_content": null,
            "justify_items": null,
            "left": null,
            "margin": null,
            "max_height": null,
            "max_width": null,
            "min_height": null,
            "min_width": null,
            "object_fit": null,
            "object_position": null,
            "order": null,
            "overflow": null,
            "overflow_x": null,
            "overflow_y": null,
            "padding": null,
            "right": null,
            "top": null,
            "visibility": null,
            "width": null
          }
        },
        "c018249ce2ba47c7a98be801d212f6e4": {
          "model_module": "@jupyter-widgets/base",
          "model_name": "LayoutModel",
          "model_module_version": "1.2.0",
          "state": {
            "_model_module": "@jupyter-widgets/base",
            "_model_module_version": "1.2.0",
            "_model_name": "LayoutModel",
            "_view_count": null,
            "_view_module": "@jupyter-widgets/base",
            "_view_module_version": "1.2.0",
            "_view_name": "LayoutView",
            "align_content": null,
            "align_items": null,
            "align_self": null,
            "border": null,
            "bottom": null,
            "display": null,
            "flex": null,
            "flex_flow": null,
            "grid_area": null,
            "grid_auto_columns": null,
            "grid_auto_flow": null,
            "grid_auto_rows": null,
            "grid_column": null,
            "grid_gap": null,
            "grid_row": null,
            "grid_template_areas": null,
            "grid_template_columns": null,
            "grid_template_rows": null,
            "height": null,
            "justify_content": null,
            "justify_items": null,
            "left": null,
            "margin": null,
            "max_height": null,
            "max_width": null,
            "min_height": null,
            "min_width": null,
            "object_fit": null,
            "object_position": null,
            "order": null,
            "overflow": null,
            "overflow_x": null,
            "overflow_y": null,
            "padding": null,
            "right": null,
            "top": null,
            "visibility": null,
            "width": null
          }
        },
        "a70f65bb928544dcb4e923ff5ed67026": {
          "model_module": "@jupyter-widgets/controls",
          "model_name": "DescriptionStyleModel",
          "model_module_version": "1.5.0",
          "state": {
            "_model_module": "@jupyter-widgets/controls",
            "_model_module_version": "1.5.0",
            "_model_name": "DescriptionStyleModel",
            "_view_count": null,
            "_view_module": "@jupyter-widgets/base",
            "_view_module_version": "1.2.0",
            "_view_name": "StyleView",
            "description_width": ""
          }
        },
        "1c25b4156fc74ea98f045ea3d34a80d5": {
          "model_module": "@jupyter-widgets/base",
          "model_name": "LayoutModel",
          "model_module_version": "1.2.0",
          "state": {
            "_model_module": "@jupyter-widgets/base",
            "_model_module_version": "1.2.0",
            "_model_name": "LayoutModel",
            "_view_count": null,
            "_view_module": "@jupyter-widgets/base",
            "_view_module_version": "1.2.0",
            "_view_name": "LayoutView",
            "align_content": null,
            "align_items": null,
            "align_self": null,
            "border": null,
            "bottom": null,
            "display": null,
            "flex": null,
            "flex_flow": null,
            "grid_area": null,
            "grid_auto_columns": null,
            "grid_auto_flow": null,
            "grid_auto_rows": null,
            "grid_column": null,
            "grid_gap": null,
            "grid_row": null,
            "grid_template_areas": null,
            "grid_template_columns": null,
            "grid_template_rows": null,
            "height": null,
            "justify_content": null,
            "justify_items": null,
            "left": null,
            "margin": null,
            "max_height": null,
            "max_width": null,
            "min_height": null,
            "min_width": null,
            "object_fit": null,
            "object_position": null,
            "order": null,
            "overflow": null,
            "overflow_x": null,
            "overflow_y": null,
            "padding": null,
            "right": null,
            "top": null,
            "visibility": null,
            "width": null
          }
        },
        "616b763a29394451a6f500cc3552eece": {
          "model_module": "@jupyter-widgets/controls",
          "model_name": "ProgressStyleModel",
          "model_module_version": "1.5.0",
          "state": {
            "_model_module": "@jupyter-widgets/controls",
            "_model_module_version": "1.5.0",
            "_model_name": "ProgressStyleModel",
            "_view_count": null,
            "_view_module": "@jupyter-widgets/base",
            "_view_module_version": "1.2.0",
            "_view_name": "StyleView",
            "bar_color": null,
            "description_width": ""
          }
        },
        "3f01baadaa644eb895325e73ca414fe3": {
          "model_module": "@jupyter-widgets/base",
          "model_name": "LayoutModel",
          "model_module_version": "1.2.0",
          "state": {
            "_model_module": "@jupyter-widgets/base",
            "_model_module_version": "1.2.0",
            "_model_name": "LayoutModel",
            "_view_count": null,
            "_view_module": "@jupyter-widgets/base",
            "_view_module_version": "1.2.0",
            "_view_name": "LayoutView",
            "align_content": null,
            "align_items": null,
            "align_self": null,
            "border": null,
            "bottom": null,
            "display": null,
            "flex": null,
            "flex_flow": null,
            "grid_area": null,
            "grid_auto_columns": null,
            "grid_auto_flow": null,
            "grid_auto_rows": null,
            "grid_column": null,
            "grid_gap": null,
            "grid_row": null,
            "grid_template_areas": null,
            "grid_template_columns": null,
            "grid_template_rows": null,
            "height": null,
            "justify_content": null,
            "justify_items": null,
            "left": null,
            "margin": null,
            "max_height": null,
            "max_width": null,
            "min_height": null,
            "min_width": null,
            "object_fit": null,
            "object_position": null,
            "order": null,
            "overflow": null,
            "overflow_x": null,
            "overflow_y": null,
            "padding": null,
            "right": null,
            "top": null,
            "visibility": null,
            "width": null
          }
        },
        "ead7d48ef91642cc97f8389df998db5d": {
          "model_module": "@jupyter-widgets/controls",
          "model_name": "DescriptionStyleModel",
          "model_module_version": "1.5.0",
          "state": {
            "_model_module": "@jupyter-widgets/controls",
            "_model_module_version": "1.5.0",
            "_model_name": "DescriptionStyleModel",
            "_view_count": null,
            "_view_module": "@jupyter-widgets/base",
            "_view_module_version": "1.2.0",
            "_view_name": "StyleView",
            "description_width": ""
          }
        },
        "62fffcbc96c74f6fbd1167302fbcb994": {
          "model_module": "@jupyter-widgets/controls",
          "model_name": "HBoxModel",
          "model_module_version": "1.5.0",
          "state": {
            "_dom_classes": [],
            "_model_module": "@jupyter-widgets/controls",
            "_model_module_version": "1.5.0",
            "_model_name": "HBoxModel",
            "_view_count": null,
            "_view_module": "@jupyter-widgets/controls",
            "_view_module_version": "1.5.0",
            "_view_name": "HBoxView",
            "box_style": "",
            "children": [
              "IPY_MODEL_b85e951f138746fd8d98079b69929e36",
              "IPY_MODEL_4a85562633714f49960e0ddf76e6cc0b",
              "IPY_MODEL_14647cd09f8b435f8aa3ae5c17065532"
            ],
            "layout": "IPY_MODEL_70b1b5e7387a47ee8b0ce2129ea8ca17"
          }
        },
        "b85e951f138746fd8d98079b69929e36": {
          "model_module": "@jupyter-widgets/controls",
          "model_name": "HTMLModel",
          "model_module_version": "1.5.0",
          "state": {
            "_dom_classes": [],
            "_model_module": "@jupyter-widgets/controls",
            "_model_module_version": "1.5.0",
            "_model_name": "HTMLModel",
            "_view_count": null,
            "_view_module": "@jupyter-widgets/controls",
            "_view_module_version": "1.5.0",
            "_view_name": "HTMLView",
            "description": "",
            "description_tooltip": null,
            "layout": "IPY_MODEL_e987d217be2843e2a8e5f644b84e185b",
            "placeholder": "​",
            "style": "IPY_MODEL_46bb0f3f451e47e0bca972c9d3ae1159",
            "value": "generation_config.json: 100%"
          }
        },
        "4a85562633714f49960e0ddf76e6cc0b": {
          "model_module": "@jupyter-widgets/controls",
          "model_name": "FloatProgressModel",
          "model_module_version": "1.5.0",
          "state": {
            "_dom_classes": [],
            "_model_module": "@jupyter-widgets/controls",
            "_model_module_version": "1.5.0",
            "_model_name": "FloatProgressModel",
            "_view_count": null,
            "_view_module": "@jupyter-widgets/controls",
            "_view_module_version": "1.5.0",
            "_view_name": "ProgressView",
            "bar_style": "success",
            "description": "",
            "description_tooltip": null,
            "layout": "IPY_MODEL_d2f792271e1c4ac694543c22c9e72df1",
            "max": 111,
            "min": 0,
            "orientation": "horizontal",
            "style": "IPY_MODEL_4e4cc36febe4484dbf748b9c540e4591",
            "value": 111
          }
        },
        "14647cd09f8b435f8aa3ae5c17065532": {
          "model_module": "@jupyter-widgets/controls",
          "model_name": "HTMLModel",
          "model_module_version": "1.5.0",
          "state": {
            "_dom_classes": [],
            "_model_module": "@jupyter-widgets/controls",
            "_model_module_version": "1.5.0",
            "_model_name": "HTMLModel",
            "_view_count": null,
            "_view_module": "@jupyter-widgets/controls",
            "_view_module_version": "1.5.0",
            "_view_name": "HTMLView",
            "description": "",
            "description_tooltip": null,
            "layout": "IPY_MODEL_734d42c286224040b6138882e83fe0e6",
            "placeholder": "​",
            "style": "IPY_MODEL_ae5a480eab1d467f81cd37fccd5e9bde",
            "value": " 111/111 [00:00&lt;00:00, 8.92kB/s]"
          }
        },
        "70b1b5e7387a47ee8b0ce2129ea8ca17": {
          "model_module": "@jupyter-widgets/base",
          "model_name": "LayoutModel",
          "model_module_version": "1.2.0",
          "state": {
            "_model_module": "@jupyter-widgets/base",
            "_model_module_version": "1.2.0",
            "_model_name": "LayoutModel",
            "_view_count": null,
            "_view_module": "@jupyter-widgets/base",
            "_view_module_version": "1.2.0",
            "_view_name": "LayoutView",
            "align_content": null,
            "align_items": null,
            "align_self": null,
            "border": null,
            "bottom": null,
            "display": null,
            "flex": null,
            "flex_flow": null,
            "grid_area": null,
            "grid_auto_columns": null,
            "grid_auto_flow": null,
            "grid_auto_rows": null,
            "grid_column": null,
            "grid_gap": null,
            "grid_row": null,
            "grid_template_areas": null,
            "grid_template_columns": null,
            "grid_template_rows": null,
            "height": null,
            "justify_content": null,
            "justify_items": null,
            "left": null,
            "margin": null,
            "max_height": null,
            "max_width": null,
            "min_height": null,
            "min_width": null,
            "object_fit": null,
            "object_position": null,
            "order": null,
            "overflow": null,
            "overflow_x": null,
            "overflow_y": null,
            "padding": null,
            "right": null,
            "top": null,
            "visibility": null,
            "width": null
          }
        },
        "e987d217be2843e2a8e5f644b84e185b": {
          "model_module": "@jupyter-widgets/base",
          "model_name": "LayoutModel",
          "model_module_version": "1.2.0",
          "state": {
            "_model_module": "@jupyter-widgets/base",
            "_model_module_version": "1.2.0",
            "_model_name": "LayoutModel",
            "_view_count": null,
            "_view_module": "@jupyter-widgets/base",
            "_view_module_version": "1.2.0",
            "_view_name": "LayoutView",
            "align_content": null,
            "align_items": null,
            "align_self": null,
            "border": null,
            "bottom": null,
            "display": null,
            "flex": null,
            "flex_flow": null,
            "grid_area": null,
            "grid_auto_columns": null,
            "grid_auto_flow": null,
            "grid_auto_rows": null,
            "grid_column": null,
            "grid_gap": null,
            "grid_row": null,
            "grid_template_areas": null,
            "grid_template_columns": null,
            "grid_template_rows": null,
            "height": null,
            "justify_content": null,
            "justify_items": null,
            "left": null,
            "margin": null,
            "max_height": null,
            "max_width": null,
            "min_height": null,
            "min_width": null,
            "object_fit": null,
            "object_position": null,
            "order": null,
            "overflow": null,
            "overflow_x": null,
            "overflow_y": null,
            "padding": null,
            "right": null,
            "top": null,
            "visibility": null,
            "width": null
          }
        },
        "46bb0f3f451e47e0bca972c9d3ae1159": {
          "model_module": "@jupyter-widgets/controls",
          "model_name": "DescriptionStyleModel",
          "model_module_version": "1.5.0",
          "state": {
            "_model_module": "@jupyter-widgets/controls",
            "_model_module_version": "1.5.0",
            "_model_name": "DescriptionStyleModel",
            "_view_count": null,
            "_view_module": "@jupyter-widgets/base",
            "_view_module_version": "1.2.0",
            "_view_name": "StyleView",
            "description_width": ""
          }
        },
        "d2f792271e1c4ac694543c22c9e72df1": {
          "model_module": "@jupyter-widgets/base",
          "model_name": "LayoutModel",
          "model_module_version": "1.2.0",
          "state": {
            "_model_module": "@jupyter-widgets/base",
            "_model_module_version": "1.2.0",
            "_model_name": "LayoutModel",
            "_view_count": null,
            "_view_module": "@jupyter-widgets/base",
            "_view_module_version": "1.2.0",
            "_view_name": "LayoutView",
            "align_content": null,
            "align_items": null,
            "align_self": null,
            "border": null,
            "bottom": null,
            "display": null,
            "flex": null,
            "flex_flow": null,
            "grid_area": null,
            "grid_auto_columns": null,
            "grid_auto_flow": null,
            "grid_auto_rows": null,
            "grid_column": null,
            "grid_gap": null,
            "grid_row": null,
            "grid_template_areas": null,
            "grid_template_columns": null,
            "grid_template_rows": null,
            "height": null,
            "justify_content": null,
            "justify_items": null,
            "left": null,
            "margin": null,
            "max_height": null,
            "max_width": null,
            "min_height": null,
            "min_width": null,
            "object_fit": null,
            "object_position": null,
            "order": null,
            "overflow": null,
            "overflow_x": null,
            "overflow_y": null,
            "padding": null,
            "right": null,
            "top": null,
            "visibility": null,
            "width": null
          }
        },
        "4e4cc36febe4484dbf748b9c540e4591": {
          "model_module": "@jupyter-widgets/controls",
          "model_name": "ProgressStyleModel",
          "model_module_version": "1.5.0",
          "state": {
            "_model_module": "@jupyter-widgets/controls",
            "_model_module_version": "1.5.0",
            "_model_name": "ProgressStyleModel",
            "_view_count": null,
            "_view_module": "@jupyter-widgets/base",
            "_view_module_version": "1.2.0",
            "_view_name": "StyleView",
            "bar_color": null,
            "description_width": ""
          }
        },
        "734d42c286224040b6138882e83fe0e6": {
          "model_module": "@jupyter-widgets/base",
          "model_name": "LayoutModel",
          "model_module_version": "1.2.0",
          "state": {
            "_model_module": "@jupyter-widgets/base",
            "_model_module_version": "1.2.0",
            "_model_name": "LayoutModel",
            "_view_count": null,
            "_view_module": "@jupyter-widgets/base",
            "_view_module_version": "1.2.0",
            "_view_name": "LayoutView",
            "align_content": null,
            "align_items": null,
            "align_self": null,
            "border": null,
            "bottom": null,
            "display": null,
            "flex": null,
            "flex_flow": null,
            "grid_area": null,
            "grid_auto_columns": null,
            "grid_auto_flow": null,
            "grid_auto_rows": null,
            "grid_column": null,
            "grid_gap": null,
            "grid_row": null,
            "grid_template_areas": null,
            "grid_template_columns": null,
            "grid_template_rows": null,
            "height": null,
            "justify_content": null,
            "justify_items": null,
            "left": null,
            "margin": null,
            "max_height": null,
            "max_width": null,
            "min_height": null,
            "min_width": null,
            "object_fit": null,
            "object_position": null,
            "order": null,
            "overflow": null,
            "overflow_x": null,
            "overflow_y": null,
            "padding": null,
            "right": null,
            "top": null,
            "visibility": null,
            "width": null
          }
        },
        "ae5a480eab1d467f81cd37fccd5e9bde": {
          "model_module": "@jupyter-widgets/controls",
          "model_name": "DescriptionStyleModel",
          "model_module_version": "1.5.0",
          "state": {
            "_model_module": "@jupyter-widgets/controls",
            "_model_module_version": "1.5.0",
            "_model_name": "DescriptionStyleModel",
            "_view_count": null,
            "_view_module": "@jupyter-widgets/base",
            "_view_module_version": "1.2.0",
            "_view_name": "StyleView",
            "description_width": ""
          }
        },
        "373ca522c2bf4497891187ee10a9d801": {
          "model_module": "@jupyter-widgets/controls",
          "model_name": "HBoxModel",
          "model_module_version": "1.5.0",
          "state": {
            "_dom_classes": [],
            "_model_module": "@jupyter-widgets/controls",
            "_model_module_version": "1.5.0",
            "_model_name": "HBoxModel",
            "_view_count": null,
            "_view_module": "@jupyter-widgets/controls",
            "_view_module_version": "1.5.0",
            "_view_name": "HBoxView",
            "box_style": "",
            "children": [
              "IPY_MODEL_fb6e7d388c4041f68d7af35587703390",
              "IPY_MODEL_4d9d1ee4db1d4e9a869ab1c2d58ad0dc",
              "IPY_MODEL_fcf400cf30cb4dfd823e469f42cc4a11"
            ],
            "layout": "IPY_MODEL_88b3e86d8cbb432e97d57e2a8e5df5de"
          }
        },
        "fb6e7d388c4041f68d7af35587703390": {
          "model_module": "@jupyter-widgets/controls",
          "model_name": "HTMLModel",
          "model_module_version": "1.5.0",
          "state": {
            "_dom_classes": [],
            "_model_module": "@jupyter-widgets/controls",
            "_model_module_version": "1.5.0",
            "_model_name": "HTMLModel",
            "_view_count": null,
            "_view_module": "@jupyter-widgets/controls",
            "_view_module_version": "1.5.0",
            "_view_name": "HTMLView",
            "description": "",
            "description_tooltip": null,
            "layout": "IPY_MODEL_8f81adc799a944088b272619167898ae",
            "placeholder": "​",
            "style": "IPY_MODEL_f94ee01d3cb24c7eb773e2aadda5d627",
            "value": "tokenizer_config.json: 100%"
          }
        },
        "4d9d1ee4db1d4e9a869ab1c2d58ad0dc": {
          "model_module": "@jupyter-widgets/controls",
          "model_name": "FloatProgressModel",
          "model_module_version": "1.5.0",
          "state": {
            "_dom_classes": [],
            "_model_module": "@jupyter-widgets/controls",
            "_model_module_version": "1.5.0",
            "_model_name": "FloatProgressModel",
            "_view_count": null,
            "_view_module": "@jupyter-widgets/controls",
            "_view_module_version": "1.5.0",
            "_view_name": "ProgressView",
            "bar_style": "success",
            "description": "",
            "description_tooltip": null,
            "layout": "IPY_MODEL_ef5d4e3d960540258ccec19ce27a7624",
            "max": 1460,
            "min": 0,
            "orientation": "horizontal",
            "style": "IPY_MODEL_0279b4590fa54488b4c98552dd9eb97c",
            "value": 1460
          }
        },
        "fcf400cf30cb4dfd823e469f42cc4a11": {
          "model_module": "@jupyter-widgets/controls",
          "model_name": "HTMLModel",
          "model_module_version": "1.5.0",
          "state": {
            "_dom_classes": [],
            "_model_module": "@jupyter-widgets/controls",
            "_model_module_version": "1.5.0",
            "_model_name": "HTMLModel",
            "_view_count": null,
            "_view_module": "@jupyter-widgets/controls",
            "_view_module_version": "1.5.0",
            "_view_name": "HTMLView",
            "description": "",
            "description_tooltip": null,
            "layout": "IPY_MODEL_4472f5e4616943a0aef21b440078aa10",
            "placeholder": "​",
            "style": "IPY_MODEL_7a5709cab7514179977cb7581550eeb3",
            "value": " 1.46k/1.46k [00:00&lt;00:00, 135kB/s]"
          }
        },
        "88b3e86d8cbb432e97d57e2a8e5df5de": {
          "model_module": "@jupyter-widgets/base",
          "model_name": "LayoutModel",
          "model_module_version": "1.2.0",
          "state": {
            "_model_module": "@jupyter-widgets/base",
            "_model_module_version": "1.2.0",
            "_model_name": "LayoutModel",
            "_view_count": null,
            "_view_module": "@jupyter-widgets/base",
            "_view_module_version": "1.2.0",
            "_view_name": "LayoutView",
            "align_content": null,
            "align_items": null,
            "align_self": null,
            "border": null,
            "bottom": null,
            "display": null,
            "flex": null,
            "flex_flow": null,
            "grid_area": null,
            "grid_auto_columns": null,
            "grid_auto_flow": null,
            "grid_auto_rows": null,
            "grid_column": null,
            "grid_gap": null,
            "grid_row": null,
            "grid_template_areas": null,
            "grid_template_columns": null,
            "grid_template_rows": null,
            "height": null,
            "justify_content": null,
            "justify_items": null,
            "left": null,
            "margin": null,
            "max_height": null,
            "max_width": null,
            "min_height": null,
            "min_width": null,
            "object_fit": null,
            "object_position": null,
            "order": null,
            "overflow": null,
            "overflow_x": null,
            "overflow_y": null,
            "padding": null,
            "right": null,
            "top": null,
            "visibility": null,
            "width": null
          }
        },
        "8f81adc799a944088b272619167898ae": {
          "model_module": "@jupyter-widgets/base",
          "model_name": "LayoutModel",
          "model_module_version": "1.2.0",
          "state": {
            "_model_module": "@jupyter-widgets/base",
            "_model_module_version": "1.2.0",
            "_model_name": "LayoutModel",
            "_view_count": null,
            "_view_module": "@jupyter-widgets/base",
            "_view_module_version": "1.2.0",
            "_view_name": "LayoutView",
            "align_content": null,
            "align_items": null,
            "align_self": null,
            "border": null,
            "bottom": null,
            "display": null,
            "flex": null,
            "flex_flow": null,
            "grid_area": null,
            "grid_auto_columns": null,
            "grid_auto_flow": null,
            "grid_auto_rows": null,
            "grid_column": null,
            "grid_gap": null,
            "grid_row": null,
            "grid_template_areas": null,
            "grid_template_columns": null,
            "grid_template_rows": null,
            "height": null,
            "justify_content": null,
            "justify_items": null,
            "left": null,
            "margin": null,
            "max_height": null,
            "max_width": null,
            "min_height": null,
            "min_width": null,
            "object_fit": null,
            "object_position": null,
            "order": null,
            "overflow": null,
            "overflow_x": null,
            "overflow_y": null,
            "padding": null,
            "right": null,
            "top": null,
            "visibility": null,
            "width": null
          }
        },
        "f94ee01d3cb24c7eb773e2aadda5d627": {
          "model_module": "@jupyter-widgets/controls",
          "model_name": "DescriptionStyleModel",
          "model_module_version": "1.5.0",
          "state": {
            "_model_module": "@jupyter-widgets/controls",
            "_model_module_version": "1.5.0",
            "_model_name": "DescriptionStyleModel",
            "_view_count": null,
            "_view_module": "@jupyter-widgets/base",
            "_view_module_version": "1.2.0",
            "_view_name": "StyleView",
            "description_width": ""
          }
        },
        "ef5d4e3d960540258ccec19ce27a7624": {
          "model_module": "@jupyter-widgets/base",
          "model_name": "LayoutModel",
          "model_module_version": "1.2.0",
          "state": {
            "_model_module": "@jupyter-widgets/base",
            "_model_module_version": "1.2.0",
            "_model_name": "LayoutModel",
            "_view_count": null,
            "_view_module": "@jupyter-widgets/base",
            "_view_module_version": "1.2.0",
            "_view_name": "LayoutView",
            "align_content": null,
            "align_items": null,
            "align_self": null,
            "border": null,
            "bottom": null,
            "display": null,
            "flex": null,
            "flex_flow": null,
            "grid_area": null,
            "grid_auto_columns": null,
            "grid_auto_flow": null,
            "grid_auto_rows": null,
            "grid_column": null,
            "grid_gap": null,
            "grid_row": null,
            "grid_template_areas": null,
            "grid_template_columns": null,
            "grid_template_rows": null,
            "height": null,
            "justify_content": null,
            "justify_items": null,
            "left": null,
            "margin": null,
            "max_height": null,
            "max_width": null,
            "min_height": null,
            "min_width": null,
            "object_fit": null,
            "object_position": null,
            "order": null,
            "overflow": null,
            "overflow_x": null,
            "overflow_y": null,
            "padding": null,
            "right": null,
            "top": null,
            "visibility": null,
            "width": null
          }
        },
        "0279b4590fa54488b4c98552dd9eb97c": {
          "model_module": "@jupyter-widgets/controls",
          "model_name": "ProgressStyleModel",
          "model_module_version": "1.5.0",
          "state": {
            "_model_module": "@jupyter-widgets/controls",
            "_model_module_version": "1.5.0",
            "_model_name": "ProgressStyleModel",
            "_view_count": null,
            "_view_module": "@jupyter-widgets/base",
            "_view_module_version": "1.2.0",
            "_view_name": "StyleView",
            "bar_color": null,
            "description_width": ""
          }
        },
        "4472f5e4616943a0aef21b440078aa10": {
          "model_module": "@jupyter-widgets/base",
          "model_name": "LayoutModel",
          "model_module_version": "1.2.0",
          "state": {
            "_model_module": "@jupyter-widgets/base",
            "_model_module_version": "1.2.0",
            "_model_name": "LayoutModel",
            "_view_count": null,
            "_view_module": "@jupyter-widgets/base",
            "_view_module_version": "1.2.0",
            "_view_name": "LayoutView",
            "align_content": null,
            "align_items": null,
            "align_self": null,
            "border": null,
            "bottom": null,
            "display": null,
            "flex": null,
            "flex_flow": null,
            "grid_area": null,
            "grid_auto_columns": null,
            "grid_auto_flow": null,
            "grid_auto_rows": null,
            "grid_column": null,
            "grid_gap": null,
            "grid_row": null,
            "grid_template_areas": null,
            "grid_template_columns": null,
            "grid_template_rows": null,
            "height": null,
            "justify_content": null,
            "justify_items": null,
            "left": null,
            "margin": null,
            "max_height": null,
            "max_width": null,
            "min_height": null,
            "min_width": null,
            "object_fit": null,
            "object_position": null,
            "order": null,
            "overflow": null,
            "overflow_x": null,
            "overflow_y": null,
            "padding": null,
            "right": null,
            "top": null,
            "visibility": null,
            "width": null
          }
        },
        "7a5709cab7514179977cb7581550eeb3": {
          "model_module": "@jupyter-widgets/controls",
          "model_name": "DescriptionStyleModel",
          "model_module_version": "1.5.0",
          "state": {
            "_model_module": "@jupyter-widgets/controls",
            "_model_module_version": "1.5.0",
            "_model_name": "DescriptionStyleModel",
            "_view_count": null,
            "_view_module": "@jupyter-widgets/base",
            "_view_module_version": "1.2.0",
            "_view_name": "StyleView",
            "description_width": ""
          }
        },
        "1c75b453b1c149d28e6cd1df35564597": {
          "model_module": "@jupyter-widgets/controls",
          "model_name": "HBoxModel",
          "model_module_version": "1.5.0",
          "state": {
            "_dom_classes": [],
            "_model_module": "@jupyter-widgets/controls",
            "_model_module_version": "1.5.0",
            "_model_name": "HBoxModel",
            "_view_count": null,
            "_view_module": "@jupyter-widgets/controls",
            "_view_module_version": "1.5.0",
            "_view_name": "HBoxView",
            "box_style": "",
            "children": [
              "IPY_MODEL_664e134cdb1d4c1191ef893cc6879896",
              "IPY_MODEL_f350b1369d8b4480b41feecc2bdd0e13",
              "IPY_MODEL_c6a1e4158c604f2ba4eb15af23c7beca"
            ],
            "layout": "IPY_MODEL_8d1ffc8bd60242de90e90b8717a70536"
          }
        },
        "664e134cdb1d4c1191ef893cc6879896": {
          "model_module": "@jupyter-widgets/controls",
          "model_name": "HTMLModel",
          "model_module_version": "1.5.0",
          "state": {
            "_dom_classes": [],
            "_model_module": "@jupyter-widgets/controls",
            "_model_module_version": "1.5.0",
            "_model_name": "HTMLModel",
            "_view_count": null,
            "_view_module": "@jupyter-widgets/controls",
            "_view_module_version": "1.5.0",
            "_view_name": "HTMLView",
            "description": "",
            "description_tooltip": null,
            "layout": "IPY_MODEL_d7598b9f43c94901814cf139d77cfa61",
            "placeholder": "​",
            "style": "IPY_MODEL_14a1bb32543d46d9a0364f7a6689d93d",
            "value": "tokenizer.model: 100%"
          }
        },
        "f350b1369d8b4480b41feecc2bdd0e13": {
          "model_module": "@jupyter-widgets/controls",
          "model_name": "FloatProgressModel",
          "model_module_version": "1.5.0",
          "state": {
            "_dom_classes": [],
            "_model_module": "@jupyter-widgets/controls",
            "_model_module_version": "1.5.0",
            "_model_name": "FloatProgressModel",
            "_view_count": null,
            "_view_module": "@jupyter-widgets/controls",
            "_view_module_version": "1.5.0",
            "_view_name": "ProgressView",
            "bar_style": "success",
            "description": "",
            "description_tooltip": null,
            "layout": "IPY_MODEL_19c52a1ee24c4eb1a787f1b8fb9bf157",
            "max": 493443,
            "min": 0,
            "orientation": "horizontal",
            "style": "IPY_MODEL_f2dd82a1df534f578fe867dad855938e",
            "value": 493443
          }
        },
        "c6a1e4158c604f2ba4eb15af23c7beca": {
          "model_module": "@jupyter-widgets/controls",
          "model_name": "HTMLModel",
          "model_module_version": "1.5.0",
          "state": {
            "_dom_classes": [],
            "_model_module": "@jupyter-widgets/controls",
            "_model_module_version": "1.5.0",
            "_model_name": "HTMLModel",
            "_view_count": null,
            "_view_module": "@jupyter-widgets/controls",
            "_view_module_version": "1.5.0",
            "_view_name": "HTMLView",
            "description": "",
            "description_tooltip": null,
            "layout": "IPY_MODEL_84cdf011c0534742942c41c5629af7b0",
            "placeholder": "​",
            "style": "IPY_MODEL_ed8d32a3f3fb439dbea6374ed5dc4994",
            "value": " 493k/493k [00:00&lt;00:00, 37.9MB/s]"
          }
        },
        "8d1ffc8bd60242de90e90b8717a70536": {
          "model_module": "@jupyter-widgets/base",
          "model_name": "LayoutModel",
          "model_module_version": "1.2.0",
          "state": {
            "_model_module": "@jupyter-widgets/base",
            "_model_module_version": "1.2.0",
            "_model_name": "LayoutModel",
            "_view_count": null,
            "_view_module": "@jupyter-widgets/base",
            "_view_module_version": "1.2.0",
            "_view_name": "LayoutView",
            "align_content": null,
            "align_items": null,
            "align_self": null,
            "border": null,
            "bottom": null,
            "display": null,
            "flex": null,
            "flex_flow": null,
            "grid_area": null,
            "grid_auto_columns": null,
            "grid_auto_flow": null,
            "grid_auto_rows": null,
            "grid_column": null,
            "grid_gap": null,
            "grid_row": null,
            "grid_template_areas": null,
            "grid_template_columns": null,
            "grid_template_rows": null,
            "height": null,
            "justify_content": null,
            "justify_items": null,
            "left": null,
            "margin": null,
            "max_height": null,
            "max_width": null,
            "min_height": null,
            "min_width": null,
            "object_fit": null,
            "object_position": null,
            "order": null,
            "overflow": null,
            "overflow_x": null,
            "overflow_y": null,
            "padding": null,
            "right": null,
            "top": null,
            "visibility": null,
            "width": null
          }
        },
        "d7598b9f43c94901814cf139d77cfa61": {
          "model_module": "@jupyter-widgets/base",
          "model_name": "LayoutModel",
          "model_module_version": "1.2.0",
          "state": {
            "_model_module": "@jupyter-widgets/base",
            "_model_module_version": "1.2.0",
            "_model_name": "LayoutModel",
            "_view_count": null,
            "_view_module": "@jupyter-widgets/base",
            "_view_module_version": "1.2.0",
            "_view_name": "LayoutView",
            "align_content": null,
            "align_items": null,
            "align_self": null,
            "border": null,
            "bottom": null,
            "display": null,
            "flex": null,
            "flex_flow": null,
            "grid_area": null,
            "grid_auto_columns": null,
            "grid_auto_flow": null,
            "grid_auto_rows": null,
            "grid_column": null,
            "grid_gap": null,
            "grid_row": null,
            "grid_template_areas": null,
            "grid_template_columns": null,
            "grid_template_rows": null,
            "height": null,
            "justify_content": null,
            "justify_items": null,
            "left": null,
            "margin": null,
            "max_height": null,
            "max_width": null,
            "min_height": null,
            "min_width": null,
            "object_fit": null,
            "object_position": null,
            "order": null,
            "overflow": null,
            "overflow_x": null,
            "overflow_y": null,
            "padding": null,
            "right": null,
            "top": null,
            "visibility": null,
            "width": null
          }
        },
        "14a1bb32543d46d9a0364f7a6689d93d": {
          "model_module": "@jupyter-widgets/controls",
          "model_name": "DescriptionStyleModel",
          "model_module_version": "1.5.0",
          "state": {
            "_model_module": "@jupyter-widgets/controls",
            "_model_module_version": "1.5.0",
            "_model_name": "DescriptionStyleModel",
            "_view_count": null,
            "_view_module": "@jupyter-widgets/base",
            "_view_module_version": "1.2.0",
            "_view_name": "StyleView",
            "description_width": ""
          }
        },
        "19c52a1ee24c4eb1a787f1b8fb9bf157": {
          "model_module": "@jupyter-widgets/base",
          "model_name": "LayoutModel",
          "model_module_version": "1.2.0",
          "state": {
            "_model_module": "@jupyter-widgets/base",
            "_model_module_version": "1.2.0",
            "_model_name": "LayoutModel",
            "_view_count": null,
            "_view_module": "@jupyter-widgets/base",
            "_view_module_version": "1.2.0",
            "_view_name": "LayoutView",
            "align_content": null,
            "align_items": null,
            "align_self": null,
            "border": null,
            "bottom": null,
            "display": null,
            "flex": null,
            "flex_flow": null,
            "grid_area": null,
            "grid_auto_columns": null,
            "grid_auto_flow": null,
            "grid_auto_rows": null,
            "grid_column": null,
            "grid_gap": null,
            "grid_row": null,
            "grid_template_areas": null,
            "grid_template_columns": null,
            "grid_template_rows": null,
            "height": null,
            "justify_content": null,
            "justify_items": null,
            "left": null,
            "margin": null,
            "max_height": null,
            "max_width": null,
            "min_height": null,
            "min_width": null,
            "object_fit": null,
            "object_position": null,
            "order": null,
            "overflow": null,
            "overflow_x": null,
            "overflow_y": null,
            "padding": null,
            "right": null,
            "top": null,
            "visibility": null,
            "width": null
          }
        },
        "f2dd82a1df534f578fe867dad855938e": {
          "model_module": "@jupyter-widgets/controls",
          "model_name": "ProgressStyleModel",
          "model_module_version": "1.5.0",
          "state": {
            "_model_module": "@jupyter-widgets/controls",
            "_model_module_version": "1.5.0",
            "_model_name": "ProgressStyleModel",
            "_view_count": null,
            "_view_module": "@jupyter-widgets/base",
            "_view_module_version": "1.2.0",
            "_view_name": "StyleView",
            "bar_color": null,
            "description_width": ""
          }
        },
        "84cdf011c0534742942c41c5629af7b0": {
          "model_module": "@jupyter-widgets/base",
          "model_name": "LayoutModel",
          "model_module_version": "1.2.0",
          "state": {
            "_model_module": "@jupyter-widgets/base",
            "_model_module_version": "1.2.0",
            "_model_name": "LayoutModel",
            "_view_count": null,
            "_view_module": "@jupyter-widgets/base",
            "_view_module_version": "1.2.0",
            "_view_name": "LayoutView",
            "align_content": null,
            "align_items": null,
            "align_self": null,
            "border": null,
            "bottom": null,
            "display": null,
            "flex": null,
            "flex_flow": null,
            "grid_area": null,
            "grid_auto_columns": null,
            "grid_auto_flow": null,
            "grid_auto_rows": null,
            "grid_column": null,
            "grid_gap": null,
            "grid_row": null,
            "grid_template_areas": null,
            "grid_template_columns": null,
            "grid_template_rows": null,
            "height": null,
            "justify_content": null,
            "justify_items": null,
            "left": null,
            "margin": null,
            "max_height": null,
            "max_width": null,
            "min_height": null,
            "min_width": null,
            "object_fit": null,
            "object_position": null,
            "order": null,
            "overflow": null,
            "overflow_x": null,
            "overflow_y": null,
            "padding": null,
            "right": null,
            "top": null,
            "visibility": null,
            "width": null
          }
        },
        "ed8d32a3f3fb439dbea6374ed5dc4994": {
          "model_module": "@jupyter-widgets/controls",
          "model_name": "DescriptionStyleModel",
          "model_module_version": "1.5.0",
          "state": {
            "_model_module": "@jupyter-widgets/controls",
            "_model_module_version": "1.5.0",
            "_model_name": "DescriptionStyleModel",
            "_view_count": null,
            "_view_module": "@jupyter-widgets/base",
            "_view_module_version": "1.2.0",
            "_view_name": "StyleView",
            "description_width": ""
          }
        },
        "69eba7a83cce41b6a8d43a1d9c4620f7": {
          "model_module": "@jupyter-widgets/controls",
          "model_name": "HBoxModel",
          "model_module_version": "1.5.0",
          "state": {
            "_dom_classes": [],
            "_model_module": "@jupyter-widgets/controls",
            "_model_module_version": "1.5.0",
            "_model_name": "HBoxModel",
            "_view_count": null,
            "_view_module": "@jupyter-widgets/controls",
            "_view_module_version": "1.5.0",
            "_view_name": "HBoxView",
            "box_style": "",
            "children": [
              "IPY_MODEL_3b4d8227579b457793bc0de71b08b955",
              "IPY_MODEL_fa373cdb609f4eee9e972d6ede3f15a0",
              "IPY_MODEL_da4fe369ad8840ef9ad82fb279f0ebef"
            ],
            "layout": "IPY_MODEL_ca19f75a54b74ded88f1488aae3a012b"
          }
        },
        "3b4d8227579b457793bc0de71b08b955": {
          "model_module": "@jupyter-widgets/controls",
          "model_name": "HTMLModel",
          "model_module_version": "1.5.0",
          "state": {
            "_dom_classes": [],
            "_model_module": "@jupyter-widgets/controls",
            "_model_module_version": "1.5.0",
            "_model_name": "HTMLModel",
            "_view_count": null,
            "_view_module": "@jupyter-widgets/controls",
            "_view_module_version": "1.5.0",
            "_view_name": "HTMLView",
            "description": "",
            "description_tooltip": null,
            "layout": "IPY_MODEL_855001756d0440b29265685c82249121",
            "placeholder": "​",
            "style": "IPY_MODEL_c95c2e12ef45408692d071627f2aefeb",
            "value": "tokenizer.json: 100%"
          }
        },
        "fa373cdb609f4eee9e972d6ede3f15a0": {
          "model_module": "@jupyter-widgets/controls",
          "model_name": "FloatProgressModel",
          "model_module_version": "1.5.0",
          "state": {
            "_dom_classes": [],
            "_model_module": "@jupyter-widgets/controls",
            "_model_module_version": "1.5.0",
            "_model_name": "FloatProgressModel",
            "_view_count": null,
            "_view_module": "@jupyter-widgets/controls",
            "_view_module_version": "1.5.0",
            "_view_name": "ProgressView",
            "bar_style": "success",
            "description": "",
            "description_tooltip": null,
            "layout": "IPY_MODEL_9ea708a9cde64c4483edb9f779017361",
            "max": 1795303,
            "min": 0,
            "orientation": "horizontal",
            "style": "IPY_MODEL_4c281b3ba26d4b35b70e6f642126ac1f",
            "value": 1795303
          }
        },
        "da4fe369ad8840ef9ad82fb279f0ebef": {
          "model_module": "@jupyter-widgets/controls",
          "model_name": "HTMLModel",
          "model_module_version": "1.5.0",
          "state": {
            "_dom_classes": [],
            "_model_module": "@jupyter-widgets/controls",
            "_model_module_version": "1.5.0",
            "_model_name": "HTMLModel",
            "_view_count": null,
            "_view_module": "@jupyter-widgets/controls",
            "_view_module_version": "1.5.0",
            "_view_name": "HTMLView",
            "description": "",
            "description_tooltip": null,
            "layout": "IPY_MODEL_b0b68e41c9b34cc28c9a90d8224f691d",
            "placeholder": "​",
            "style": "IPY_MODEL_9bec37e3adc7430da5d9d544f3485fe7",
            "value": " 1.80M/1.80M [00:00&lt;00:00, 2.36MB/s]"
          }
        },
        "ca19f75a54b74ded88f1488aae3a012b": {
          "model_module": "@jupyter-widgets/base",
          "model_name": "LayoutModel",
          "model_module_version": "1.2.0",
          "state": {
            "_model_module": "@jupyter-widgets/base",
            "_model_module_version": "1.2.0",
            "_model_name": "LayoutModel",
            "_view_count": null,
            "_view_module": "@jupyter-widgets/base",
            "_view_module_version": "1.2.0",
            "_view_name": "LayoutView",
            "align_content": null,
            "align_items": null,
            "align_self": null,
            "border": null,
            "bottom": null,
            "display": null,
            "flex": null,
            "flex_flow": null,
            "grid_area": null,
            "grid_auto_columns": null,
            "grid_auto_flow": null,
            "grid_auto_rows": null,
            "grid_column": null,
            "grid_gap": null,
            "grid_row": null,
            "grid_template_areas": null,
            "grid_template_columns": null,
            "grid_template_rows": null,
            "height": null,
            "justify_content": null,
            "justify_items": null,
            "left": null,
            "margin": null,
            "max_height": null,
            "max_width": null,
            "min_height": null,
            "min_width": null,
            "object_fit": null,
            "object_position": null,
            "order": null,
            "overflow": null,
            "overflow_x": null,
            "overflow_y": null,
            "padding": null,
            "right": null,
            "top": null,
            "visibility": null,
            "width": null
          }
        },
        "855001756d0440b29265685c82249121": {
          "model_module": "@jupyter-widgets/base",
          "model_name": "LayoutModel",
          "model_module_version": "1.2.0",
          "state": {
            "_model_module": "@jupyter-widgets/base",
            "_model_module_version": "1.2.0",
            "_model_name": "LayoutModel",
            "_view_count": null,
            "_view_module": "@jupyter-widgets/base",
            "_view_module_version": "1.2.0",
            "_view_name": "LayoutView",
            "align_content": null,
            "align_items": null,
            "align_self": null,
            "border": null,
            "bottom": null,
            "display": null,
            "flex": null,
            "flex_flow": null,
            "grid_area": null,
            "grid_auto_columns": null,
            "grid_auto_flow": null,
            "grid_auto_rows": null,
            "grid_column": null,
            "grid_gap": null,
            "grid_row": null,
            "grid_template_areas": null,
            "grid_template_columns": null,
            "grid_template_rows": null,
            "height": null,
            "justify_content": null,
            "justify_items": null,
            "left": null,
            "margin": null,
            "max_height": null,
            "max_width": null,
            "min_height": null,
            "min_width": null,
            "object_fit": null,
            "object_position": null,
            "order": null,
            "overflow": null,
            "overflow_x": null,
            "overflow_y": null,
            "padding": null,
            "right": null,
            "top": null,
            "visibility": null,
            "width": null
          }
        },
        "c95c2e12ef45408692d071627f2aefeb": {
          "model_module": "@jupyter-widgets/controls",
          "model_name": "DescriptionStyleModel",
          "model_module_version": "1.5.0",
          "state": {
            "_model_module": "@jupyter-widgets/controls",
            "_model_module_version": "1.5.0",
            "_model_name": "DescriptionStyleModel",
            "_view_count": null,
            "_view_module": "@jupyter-widgets/base",
            "_view_module_version": "1.2.0",
            "_view_name": "StyleView",
            "description_width": ""
          }
        },
        "9ea708a9cde64c4483edb9f779017361": {
          "model_module": "@jupyter-widgets/base",
          "model_name": "LayoutModel",
          "model_module_version": "1.2.0",
          "state": {
            "_model_module": "@jupyter-widgets/base",
            "_model_module_version": "1.2.0",
            "_model_name": "LayoutModel",
            "_view_count": null,
            "_view_module": "@jupyter-widgets/base",
            "_view_module_version": "1.2.0",
            "_view_name": "LayoutView",
            "align_content": null,
            "align_items": null,
            "align_self": null,
            "border": null,
            "bottom": null,
            "display": null,
            "flex": null,
            "flex_flow": null,
            "grid_area": null,
            "grid_auto_columns": null,
            "grid_auto_flow": null,
            "grid_auto_rows": null,
            "grid_column": null,
            "grid_gap": null,
            "grid_row": null,
            "grid_template_areas": null,
            "grid_template_columns": null,
            "grid_template_rows": null,
            "height": null,
            "justify_content": null,
            "justify_items": null,
            "left": null,
            "margin": null,
            "max_height": null,
            "max_width": null,
            "min_height": null,
            "min_width": null,
            "object_fit": null,
            "object_position": null,
            "order": null,
            "overflow": null,
            "overflow_x": null,
            "overflow_y": null,
            "padding": null,
            "right": null,
            "top": null,
            "visibility": null,
            "width": null
          }
        },
        "4c281b3ba26d4b35b70e6f642126ac1f": {
          "model_module": "@jupyter-widgets/controls",
          "model_name": "ProgressStyleModel",
          "model_module_version": "1.5.0",
          "state": {
            "_model_module": "@jupyter-widgets/controls",
            "_model_module_version": "1.5.0",
            "_model_name": "ProgressStyleModel",
            "_view_count": null,
            "_view_module": "@jupyter-widgets/base",
            "_view_module_version": "1.2.0",
            "_view_name": "StyleView",
            "bar_color": null,
            "description_width": ""
          }
        },
        "b0b68e41c9b34cc28c9a90d8224f691d": {
          "model_module": "@jupyter-widgets/base",
          "model_name": "LayoutModel",
          "model_module_version": "1.2.0",
          "state": {
            "_model_module": "@jupyter-widgets/base",
            "_model_module_version": "1.2.0",
            "_model_name": "LayoutModel",
            "_view_count": null,
            "_view_module": "@jupyter-widgets/base",
            "_view_module_version": "1.2.0",
            "_view_name": "LayoutView",
            "align_content": null,
            "align_items": null,
            "align_self": null,
            "border": null,
            "bottom": null,
            "display": null,
            "flex": null,
            "flex_flow": null,
            "grid_area": null,
            "grid_auto_columns": null,
            "grid_auto_flow": null,
            "grid_auto_rows": null,
            "grid_column": null,
            "grid_gap": null,
            "grid_row": null,
            "grid_template_areas": null,
            "grid_template_columns": null,
            "grid_template_rows": null,
            "height": null,
            "justify_content": null,
            "justify_items": null,
            "left": null,
            "margin": null,
            "max_height": null,
            "max_width": null,
            "min_height": null,
            "min_width": null,
            "object_fit": null,
            "object_position": null,
            "order": null,
            "overflow": null,
            "overflow_x": null,
            "overflow_y": null,
            "padding": null,
            "right": null,
            "top": null,
            "visibility": null,
            "width": null
          }
        },
        "9bec37e3adc7430da5d9d544f3485fe7": {
          "model_module": "@jupyter-widgets/controls",
          "model_name": "DescriptionStyleModel",
          "model_module_version": "1.5.0",
          "state": {
            "_model_module": "@jupyter-widgets/controls",
            "_model_module_version": "1.5.0",
            "_model_name": "DescriptionStyleModel",
            "_view_count": null,
            "_view_module": "@jupyter-widgets/base",
            "_view_module_version": "1.2.0",
            "_view_name": "StyleView",
            "description_width": ""
          }
        },
        "9baca09503474f3caf34e42b8d36a402": {
          "model_module": "@jupyter-widgets/controls",
          "model_name": "HBoxModel",
          "model_module_version": "1.5.0",
          "state": {
            "_dom_classes": [],
            "_model_module": "@jupyter-widgets/controls",
            "_model_module_version": "1.5.0",
            "_model_name": "HBoxModel",
            "_view_count": null,
            "_view_module": "@jupyter-widgets/controls",
            "_view_module_version": "1.5.0",
            "_view_name": "HBoxView",
            "box_style": "",
            "children": [
              "IPY_MODEL_054127af5c244bbd80002cd66a6e9957",
              "IPY_MODEL_ea9b8dc143494691bd51a12cc6264dba",
              "IPY_MODEL_6e49a38142744e6eb556be2f239b41e5"
            ],
            "layout": "IPY_MODEL_64beb1dd016a45d195cee762b53a0eee"
          }
        },
        "054127af5c244bbd80002cd66a6e9957": {
          "model_module": "@jupyter-widgets/controls",
          "model_name": "HTMLModel",
          "model_module_version": "1.5.0",
          "state": {
            "_dom_classes": [],
            "_model_module": "@jupyter-widgets/controls",
            "_model_module_version": "1.5.0",
            "_model_name": "HTMLModel",
            "_view_count": null,
            "_view_module": "@jupyter-widgets/controls",
            "_view_module_version": "1.5.0",
            "_view_name": "HTMLView",
            "description": "",
            "description_tooltip": null,
            "layout": "IPY_MODEL_90930b3814db40a2af1962cef8716581",
            "placeholder": "​",
            "style": "IPY_MODEL_5830f4e206be44cca1e9027230c40930",
            "value": "special_tokens_map.json: 100%"
          }
        },
        "ea9b8dc143494691bd51a12cc6264dba": {
          "model_module": "@jupyter-widgets/controls",
          "model_name": "FloatProgressModel",
          "model_module_version": "1.5.0",
          "state": {
            "_dom_classes": [],
            "_model_module": "@jupyter-widgets/controls",
            "_model_module_version": "1.5.0",
            "_model_name": "FloatProgressModel",
            "_view_count": null,
            "_view_module": "@jupyter-widgets/controls",
            "_view_module_version": "1.5.0",
            "_view_name": "ProgressView",
            "bar_style": "success",
            "description": "",
            "description_tooltip": null,
            "layout": "IPY_MODEL_3e9b8c2b5ab7488a99f08b692eb83963",
            "max": 72,
            "min": 0,
            "orientation": "horizontal",
            "style": "IPY_MODEL_79298d7a48b94d1a9098e7835f736d0b",
            "value": 72
          }
        },
        "6e49a38142744e6eb556be2f239b41e5": {
          "model_module": "@jupyter-widgets/controls",
          "model_name": "HTMLModel",
          "model_module_version": "1.5.0",
          "state": {
            "_dom_classes": [],
            "_model_module": "@jupyter-widgets/controls",
            "_model_module_version": "1.5.0",
            "_model_name": "HTMLModel",
            "_view_count": null,
            "_view_module": "@jupyter-widgets/controls",
            "_view_module_version": "1.5.0",
            "_view_name": "HTMLView",
            "description": "",
            "description_tooltip": null,
            "layout": "IPY_MODEL_cf89682bc0e445cf92cefa177d6040fe",
            "placeholder": "​",
            "style": "IPY_MODEL_7ff045c2dded49ea8598ad0688140952",
            "value": " 72.0/72.0 [00:00&lt;00:00, 5.91kB/s]"
          }
        },
        "64beb1dd016a45d195cee762b53a0eee": {
          "model_module": "@jupyter-widgets/base",
          "model_name": "LayoutModel",
          "model_module_version": "1.2.0",
          "state": {
            "_model_module": "@jupyter-widgets/base",
            "_model_module_version": "1.2.0",
            "_model_name": "LayoutModel",
            "_view_count": null,
            "_view_module": "@jupyter-widgets/base",
            "_view_module_version": "1.2.0",
            "_view_name": "LayoutView",
            "align_content": null,
            "align_items": null,
            "align_self": null,
            "border": null,
            "bottom": null,
            "display": null,
            "flex": null,
            "flex_flow": null,
            "grid_area": null,
            "grid_auto_columns": null,
            "grid_auto_flow": null,
            "grid_auto_rows": null,
            "grid_column": null,
            "grid_gap": null,
            "grid_row": null,
            "grid_template_areas": null,
            "grid_template_columns": null,
            "grid_template_rows": null,
            "height": null,
            "justify_content": null,
            "justify_items": null,
            "left": null,
            "margin": null,
            "max_height": null,
            "max_width": null,
            "min_height": null,
            "min_width": null,
            "object_fit": null,
            "object_position": null,
            "order": null,
            "overflow": null,
            "overflow_x": null,
            "overflow_y": null,
            "padding": null,
            "right": null,
            "top": null,
            "visibility": null,
            "width": null
          }
        },
        "90930b3814db40a2af1962cef8716581": {
          "model_module": "@jupyter-widgets/base",
          "model_name": "LayoutModel",
          "model_module_version": "1.2.0",
          "state": {
            "_model_module": "@jupyter-widgets/base",
            "_model_module_version": "1.2.0",
            "_model_name": "LayoutModel",
            "_view_count": null,
            "_view_module": "@jupyter-widgets/base",
            "_view_module_version": "1.2.0",
            "_view_name": "LayoutView",
            "align_content": null,
            "align_items": null,
            "align_self": null,
            "border": null,
            "bottom": null,
            "display": null,
            "flex": null,
            "flex_flow": null,
            "grid_area": null,
            "grid_auto_columns": null,
            "grid_auto_flow": null,
            "grid_auto_rows": null,
            "grid_column": null,
            "grid_gap": null,
            "grid_row": null,
            "grid_template_areas": null,
            "grid_template_columns": null,
            "grid_template_rows": null,
            "height": null,
            "justify_content": null,
            "justify_items": null,
            "left": null,
            "margin": null,
            "max_height": null,
            "max_width": null,
            "min_height": null,
            "min_width": null,
            "object_fit": null,
            "object_position": null,
            "order": null,
            "overflow": null,
            "overflow_x": null,
            "overflow_y": null,
            "padding": null,
            "right": null,
            "top": null,
            "visibility": null,
            "width": null
          }
        },
        "5830f4e206be44cca1e9027230c40930": {
          "model_module": "@jupyter-widgets/controls",
          "model_name": "DescriptionStyleModel",
          "model_module_version": "1.5.0",
          "state": {
            "_model_module": "@jupyter-widgets/controls",
            "_model_module_version": "1.5.0",
            "_model_name": "DescriptionStyleModel",
            "_view_count": null,
            "_view_module": "@jupyter-widgets/base",
            "_view_module_version": "1.2.0",
            "_view_name": "StyleView",
            "description_width": ""
          }
        },
        "3e9b8c2b5ab7488a99f08b692eb83963": {
          "model_module": "@jupyter-widgets/base",
          "model_name": "LayoutModel",
          "model_module_version": "1.2.0",
          "state": {
            "_model_module": "@jupyter-widgets/base",
            "_model_module_version": "1.2.0",
            "_model_name": "LayoutModel",
            "_view_count": null,
            "_view_module": "@jupyter-widgets/base",
            "_view_module_version": "1.2.0",
            "_view_name": "LayoutView",
            "align_content": null,
            "align_items": null,
            "align_self": null,
            "border": null,
            "bottom": null,
            "display": null,
            "flex": null,
            "flex_flow": null,
            "grid_area": null,
            "grid_auto_columns": null,
            "grid_auto_flow": null,
            "grid_auto_rows": null,
            "grid_column": null,
            "grid_gap": null,
            "grid_row": null,
            "grid_template_areas": null,
            "grid_template_columns": null,
            "grid_template_rows": null,
            "height": null,
            "justify_content": null,
            "justify_items": null,
            "left": null,
            "margin": null,
            "max_height": null,
            "max_width": null,
            "min_height": null,
            "min_width": null,
            "object_fit": null,
            "object_position": null,
            "order": null,
            "overflow": null,
            "overflow_x": null,
            "overflow_y": null,
            "padding": null,
            "right": null,
            "top": null,
            "visibility": null,
            "width": null
          }
        },
        "79298d7a48b94d1a9098e7835f736d0b": {
          "model_module": "@jupyter-widgets/controls",
          "model_name": "ProgressStyleModel",
          "model_module_version": "1.5.0",
          "state": {
            "_model_module": "@jupyter-widgets/controls",
            "_model_module_version": "1.5.0",
            "_model_name": "ProgressStyleModel",
            "_view_count": null,
            "_view_module": "@jupyter-widgets/base",
            "_view_module_version": "1.2.0",
            "_view_name": "StyleView",
            "bar_color": null,
            "description_width": ""
          }
        },
        "cf89682bc0e445cf92cefa177d6040fe": {
          "model_module": "@jupyter-widgets/base",
          "model_name": "LayoutModel",
          "model_module_version": "1.2.0",
          "state": {
            "_model_module": "@jupyter-widgets/base",
            "_model_module_version": "1.2.0",
            "_model_name": "LayoutModel",
            "_view_count": null,
            "_view_module": "@jupyter-widgets/base",
            "_view_module_version": "1.2.0",
            "_view_name": "LayoutView",
            "align_content": null,
            "align_items": null,
            "align_self": null,
            "border": null,
            "bottom": null,
            "display": null,
            "flex": null,
            "flex_flow": null,
            "grid_area": null,
            "grid_auto_columns": null,
            "grid_auto_flow": null,
            "grid_auto_rows": null,
            "grid_column": null,
            "grid_gap": null,
            "grid_row": null,
            "grid_template_areas": null,
            "grid_template_columns": null,
            "grid_template_rows": null,
            "height": null,
            "justify_content": null,
            "justify_items": null,
            "left": null,
            "margin": null,
            "max_height": null,
            "max_width": null,
            "min_height": null,
            "min_width": null,
            "object_fit": null,
            "object_position": null,
            "order": null,
            "overflow": null,
            "overflow_x": null,
            "overflow_y": null,
            "padding": null,
            "right": null,
            "top": null,
            "visibility": null,
            "width": null
          }
        },
        "7ff045c2dded49ea8598ad0688140952": {
          "model_module": "@jupyter-widgets/controls",
          "model_name": "DescriptionStyleModel",
          "model_module_version": "1.5.0",
          "state": {
            "_model_module": "@jupyter-widgets/controls",
            "_model_module_version": "1.5.0",
            "_model_name": "DescriptionStyleModel",
            "_view_count": null,
            "_view_module": "@jupyter-widgets/base",
            "_view_module_version": "1.2.0",
            "_view_name": "StyleView",
            "description_width": ""
          }
        },
        "2c313a52d7aa48bb8bc45d4ce0140535": {
          "model_module": "@jupyter-widgets/controls",
          "model_name": "HBoxModel",
          "model_module_version": "1.5.0",
          "state": {
            "_dom_classes": [],
            "_model_module": "@jupyter-widgets/controls",
            "_model_module_version": "1.5.0",
            "_model_name": "HBoxModel",
            "_view_count": null,
            "_view_module": "@jupyter-widgets/controls",
            "_view_module_version": "1.5.0",
            "_view_name": "HBoxView",
            "box_style": "",
            "children": [
              "IPY_MODEL_b3c3cac018db49ff88716f8467a40382",
              "IPY_MODEL_98d0f4b9e3d54365abdb83e9efbedb57",
              "IPY_MODEL_5d224f985819431f86bc9e9e844561f7"
            ],
            "layout": "IPY_MODEL_796968e5cdce4e31a452401327fe20ca"
          }
        },
        "b3c3cac018db49ff88716f8467a40382": {
          "model_module": "@jupyter-widgets/controls",
          "model_name": "HTMLModel",
          "model_module_version": "1.5.0",
          "state": {
            "_dom_classes": [],
            "_model_module": "@jupyter-widgets/controls",
            "_model_module_version": "1.5.0",
            "_model_name": "HTMLModel",
            "_view_count": null,
            "_view_module": "@jupyter-widgets/controls",
            "_view_module_version": "1.5.0",
            "_view_name": "HTMLView",
            "description": "",
            "description_tooltip": null,
            "layout": "IPY_MODEL_97811774c57943188d32b971f85aed13",
            "placeholder": "​",
            "style": "IPY_MODEL_96e6a026bc284db5892d8b57a55bd0d7",
            "value": "Map: 100%"
          }
        },
        "98d0f4b9e3d54365abdb83e9efbedb57": {
          "model_module": "@jupyter-widgets/controls",
          "model_name": "FloatProgressModel",
          "model_module_version": "1.5.0",
          "state": {
            "_dom_classes": [],
            "_model_module": "@jupyter-widgets/controls",
            "_model_module_version": "1.5.0",
            "_model_name": "FloatProgressModel",
            "_view_count": null,
            "_view_module": "@jupyter-widgets/controls",
            "_view_module_version": "1.5.0",
            "_view_name": "ProgressView",
            "bar_style": "success",
            "description": "",
            "description_tooltip": null,
            "layout": "IPY_MODEL_cea673a249b04ab6b8ae0bd45e1e2be1",
            "max": 779,
            "min": 0,
            "orientation": "horizontal",
            "style": "IPY_MODEL_86adef103b01498f902e17b069a4bb3c",
            "value": 779
          }
        },
        "5d224f985819431f86bc9e9e844561f7": {
          "model_module": "@jupyter-widgets/controls",
          "model_name": "HTMLModel",
          "model_module_version": "1.5.0",
          "state": {
            "_dom_classes": [],
            "_model_module": "@jupyter-widgets/controls",
            "_model_module_version": "1.5.0",
            "_model_name": "HTMLModel",
            "_view_count": null,
            "_view_module": "@jupyter-widgets/controls",
            "_view_module_version": "1.5.0",
            "_view_name": "HTMLView",
            "description": "",
            "description_tooltip": null,
            "layout": "IPY_MODEL_772e6fe5e6d24a0fa17f96d091adb686",
            "placeholder": "​",
            "style": "IPY_MODEL_b7a9e9b3daa6446b8b9a898dfff6e691",
            "value": " 779/779 [00:00&lt;00:00, 1273.23 examples/s]"
          }
        },
        "796968e5cdce4e31a452401327fe20ca": {
          "model_module": "@jupyter-widgets/base",
          "model_name": "LayoutModel",
          "model_module_version": "1.2.0",
          "state": {
            "_model_module": "@jupyter-widgets/base",
            "_model_module_version": "1.2.0",
            "_model_name": "LayoutModel",
            "_view_count": null,
            "_view_module": "@jupyter-widgets/base",
            "_view_module_version": "1.2.0",
            "_view_name": "LayoutView",
            "align_content": null,
            "align_items": null,
            "align_self": null,
            "border": null,
            "bottom": null,
            "display": null,
            "flex": null,
            "flex_flow": null,
            "grid_area": null,
            "grid_auto_columns": null,
            "grid_auto_flow": null,
            "grid_auto_rows": null,
            "grid_column": null,
            "grid_gap": null,
            "grid_row": null,
            "grid_template_areas": null,
            "grid_template_columns": null,
            "grid_template_rows": null,
            "height": null,
            "justify_content": null,
            "justify_items": null,
            "left": null,
            "margin": null,
            "max_height": null,
            "max_width": null,
            "min_height": null,
            "min_width": null,
            "object_fit": null,
            "object_position": null,
            "order": null,
            "overflow": null,
            "overflow_x": null,
            "overflow_y": null,
            "padding": null,
            "right": null,
            "top": null,
            "visibility": null,
            "width": null
          }
        },
        "97811774c57943188d32b971f85aed13": {
          "model_module": "@jupyter-widgets/base",
          "model_name": "LayoutModel",
          "model_module_version": "1.2.0",
          "state": {
            "_model_module": "@jupyter-widgets/base",
            "_model_module_version": "1.2.0",
            "_model_name": "LayoutModel",
            "_view_count": null,
            "_view_module": "@jupyter-widgets/base",
            "_view_module_version": "1.2.0",
            "_view_name": "LayoutView",
            "align_content": null,
            "align_items": null,
            "align_self": null,
            "border": null,
            "bottom": null,
            "display": null,
            "flex": null,
            "flex_flow": null,
            "grid_area": null,
            "grid_auto_columns": null,
            "grid_auto_flow": null,
            "grid_auto_rows": null,
            "grid_column": null,
            "grid_gap": null,
            "grid_row": null,
            "grid_template_areas": null,
            "grid_template_columns": null,
            "grid_template_rows": null,
            "height": null,
            "justify_content": null,
            "justify_items": null,
            "left": null,
            "margin": null,
            "max_height": null,
            "max_width": null,
            "min_height": null,
            "min_width": null,
            "object_fit": null,
            "object_position": null,
            "order": null,
            "overflow": null,
            "overflow_x": null,
            "overflow_y": null,
            "padding": null,
            "right": null,
            "top": null,
            "visibility": null,
            "width": null
          }
        },
        "96e6a026bc284db5892d8b57a55bd0d7": {
          "model_module": "@jupyter-widgets/controls",
          "model_name": "DescriptionStyleModel",
          "model_module_version": "1.5.0",
          "state": {
            "_model_module": "@jupyter-widgets/controls",
            "_model_module_version": "1.5.0",
            "_model_name": "DescriptionStyleModel",
            "_view_count": null,
            "_view_module": "@jupyter-widgets/base",
            "_view_module_version": "1.2.0",
            "_view_name": "StyleView",
            "description_width": ""
          }
        },
        "cea673a249b04ab6b8ae0bd45e1e2be1": {
          "model_module": "@jupyter-widgets/base",
          "model_name": "LayoutModel",
          "model_module_version": "1.2.0",
          "state": {
            "_model_module": "@jupyter-widgets/base",
            "_model_module_version": "1.2.0",
            "_model_name": "LayoutModel",
            "_view_count": null,
            "_view_module": "@jupyter-widgets/base",
            "_view_module_version": "1.2.0",
            "_view_name": "LayoutView",
            "align_content": null,
            "align_items": null,
            "align_self": null,
            "border": null,
            "bottom": null,
            "display": null,
            "flex": null,
            "flex_flow": null,
            "grid_area": null,
            "grid_auto_columns": null,
            "grid_auto_flow": null,
            "grid_auto_rows": null,
            "grid_column": null,
            "grid_gap": null,
            "grid_row": null,
            "grid_template_areas": null,
            "grid_template_columns": null,
            "grid_template_rows": null,
            "height": null,
            "justify_content": null,
            "justify_items": null,
            "left": null,
            "margin": null,
            "max_height": null,
            "max_width": null,
            "min_height": null,
            "min_width": null,
            "object_fit": null,
            "object_position": null,
            "order": null,
            "overflow": null,
            "overflow_x": null,
            "overflow_y": null,
            "padding": null,
            "right": null,
            "top": null,
            "visibility": null,
            "width": null
          }
        },
        "86adef103b01498f902e17b069a4bb3c": {
          "model_module": "@jupyter-widgets/controls",
          "model_name": "ProgressStyleModel",
          "model_module_version": "1.5.0",
          "state": {
            "_model_module": "@jupyter-widgets/controls",
            "_model_module_version": "1.5.0",
            "_model_name": "ProgressStyleModel",
            "_view_count": null,
            "_view_module": "@jupyter-widgets/base",
            "_view_module_version": "1.2.0",
            "_view_name": "StyleView",
            "bar_color": null,
            "description_width": ""
          }
        },
        "772e6fe5e6d24a0fa17f96d091adb686": {
          "model_module": "@jupyter-widgets/base",
          "model_name": "LayoutModel",
          "model_module_version": "1.2.0",
          "state": {
            "_model_module": "@jupyter-widgets/base",
            "_model_module_version": "1.2.0",
            "_model_name": "LayoutModel",
            "_view_count": null,
            "_view_module": "@jupyter-widgets/base",
            "_view_module_version": "1.2.0",
            "_view_name": "LayoutView",
            "align_content": null,
            "align_items": null,
            "align_self": null,
            "border": null,
            "bottom": null,
            "display": null,
            "flex": null,
            "flex_flow": null,
            "grid_area": null,
            "grid_auto_columns": null,
            "grid_auto_flow": null,
            "grid_auto_rows": null,
            "grid_column": null,
            "grid_gap": null,
            "grid_row": null,
            "grid_template_areas": null,
            "grid_template_columns": null,
            "grid_template_rows": null,
            "height": null,
            "justify_content": null,
            "justify_items": null,
            "left": null,
            "margin": null,
            "max_height": null,
            "max_width": null,
            "min_height": null,
            "min_width": null,
            "object_fit": null,
            "object_position": null,
            "order": null,
            "overflow": null,
            "overflow_x": null,
            "overflow_y": null,
            "padding": null,
            "right": null,
            "top": null,
            "visibility": null,
            "width": null
          }
        },
        "b7a9e9b3daa6446b8b9a898dfff6e691": {
          "model_module": "@jupyter-widgets/controls",
          "model_name": "DescriptionStyleModel",
          "model_module_version": "1.5.0",
          "state": {
            "_model_module": "@jupyter-widgets/controls",
            "_model_module_version": "1.5.0",
            "_model_name": "DescriptionStyleModel",
            "_view_count": null,
            "_view_module": "@jupyter-widgets/base",
            "_view_module_version": "1.2.0",
            "_view_name": "StyleView",
            "description_width": ""
          }
        },
        "d284a93912cb4a75b34dc176f247b6b2": {
          "model_module": "@jupyter-widgets/controls",
          "model_name": "HBoxModel",
          "model_module_version": "1.5.0",
          "state": {
            "_dom_classes": [],
            "_model_module": "@jupyter-widgets/controls",
            "_model_module_version": "1.5.0",
            "_model_name": "HBoxModel",
            "_view_count": null,
            "_view_module": "@jupyter-widgets/controls",
            "_view_module_version": "1.5.0",
            "_view_name": "HBoxView",
            "box_style": "",
            "children": [
              "IPY_MODEL_3da2f895d20e47759dde7314cef523ed",
              "IPY_MODEL_6d7301a4e42e481d93ee485aa66eadd0",
              "IPY_MODEL_41514fb833a048179fddb225fcdb4832"
            ],
            "layout": "IPY_MODEL_1dcb33ebc30d4bea91ac5273d082824a"
          }
        },
        "3da2f895d20e47759dde7314cef523ed": {
          "model_module": "@jupyter-widgets/controls",
          "model_name": "HTMLModel",
          "model_module_version": "1.5.0",
          "state": {
            "_dom_classes": [],
            "_model_module": "@jupyter-widgets/controls",
            "_model_module_version": "1.5.0",
            "_model_name": "HTMLModel",
            "_view_count": null,
            "_view_module": "@jupyter-widgets/controls",
            "_view_module_version": "1.5.0",
            "_view_name": "HTMLView",
            "description": "",
            "description_tooltip": null,
            "layout": "IPY_MODEL_f9bc9323863e4a589ebe79a26052b28a",
            "placeholder": "​",
            "style": "IPY_MODEL_abd1d3832fbc48c4b448d1913d2b4724",
            "value": "Map: 100%"
          }
        },
        "6d7301a4e42e481d93ee485aa66eadd0": {
          "model_module": "@jupyter-widgets/controls",
          "model_name": "FloatProgressModel",
          "model_module_version": "1.5.0",
          "state": {
            "_dom_classes": [],
            "_model_module": "@jupyter-widgets/controls",
            "_model_module_version": "1.5.0",
            "_model_name": "FloatProgressModel",
            "_view_count": null,
            "_view_module": "@jupyter-widgets/controls",
            "_view_module_version": "1.5.0",
            "_view_name": "ProgressView",
            "bar_style": "success",
            "description": "",
            "description_tooltip": null,
            "layout": "IPY_MODEL_fa82511651a243cfb4e56443797ada9b",
            "max": 195,
            "min": 0,
            "orientation": "horizontal",
            "style": "IPY_MODEL_15c2b69f365e4fb68707ad97a7359525",
            "value": 195
          }
        },
        "41514fb833a048179fddb225fcdb4832": {
          "model_module": "@jupyter-widgets/controls",
          "model_name": "HTMLModel",
          "model_module_version": "1.5.0",
          "state": {
            "_dom_classes": [],
            "_model_module": "@jupyter-widgets/controls",
            "_model_module_version": "1.5.0",
            "_model_name": "HTMLModel",
            "_view_count": null,
            "_view_module": "@jupyter-widgets/controls",
            "_view_module_version": "1.5.0",
            "_view_name": "HTMLView",
            "description": "",
            "description_tooltip": null,
            "layout": "IPY_MODEL_4d95c0e377e2446183bd808b125f599a",
            "placeholder": "​",
            "style": "IPY_MODEL_1ffa93bfa0654d44a8026aec956cb27e",
            "value": " 195/195 [00:00&lt;00:00, 1144.22 examples/s]"
          }
        },
        "1dcb33ebc30d4bea91ac5273d082824a": {
          "model_module": "@jupyter-widgets/base",
          "model_name": "LayoutModel",
          "model_module_version": "1.2.0",
          "state": {
            "_model_module": "@jupyter-widgets/base",
            "_model_module_version": "1.2.0",
            "_model_name": "LayoutModel",
            "_view_count": null,
            "_view_module": "@jupyter-widgets/base",
            "_view_module_version": "1.2.0",
            "_view_name": "LayoutView",
            "align_content": null,
            "align_items": null,
            "align_self": null,
            "border": null,
            "bottom": null,
            "display": null,
            "flex": null,
            "flex_flow": null,
            "grid_area": null,
            "grid_auto_columns": null,
            "grid_auto_flow": null,
            "grid_auto_rows": null,
            "grid_column": null,
            "grid_gap": null,
            "grid_row": null,
            "grid_template_areas": null,
            "grid_template_columns": null,
            "grid_template_rows": null,
            "height": null,
            "justify_content": null,
            "justify_items": null,
            "left": null,
            "margin": null,
            "max_height": null,
            "max_width": null,
            "min_height": null,
            "min_width": null,
            "object_fit": null,
            "object_position": null,
            "order": null,
            "overflow": null,
            "overflow_x": null,
            "overflow_y": null,
            "padding": null,
            "right": null,
            "top": null,
            "visibility": null,
            "width": null
          }
        },
        "f9bc9323863e4a589ebe79a26052b28a": {
          "model_module": "@jupyter-widgets/base",
          "model_name": "LayoutModel",
          "model_module_version": "1.2.0",
          "state": {
            "_model_module": "@jupyter-widgets/base",
            "_model_module_version": "1.2.0",
            "_model_name": "LayoutModel",
            "_view_count": null,
            "_view_module": "@jupyter-widgets/base",
            "_view_module_version": "1.2.0",
            "_view_name": "LayoutView",
            "align_content": null,
            "align_items": null,
            "align_self": null,
            "border": null,
            "bottom": null,
            "display": null,
            "flex": null,
            "flex_flow": null,
            "grid_area": null,
            "grid_auto_columns": null,
            "grid_auto_flow": null,
            "grid_auto_rows": null,
            "grid_column": null,
            "grid_gap": null,
            "grid_row": null,
            "grid_template_areas": null,
            "grid_template_columns": null,
            "grid_template_rows": null,
            "height": null,
            "justify_content": null,
            "justify_items": null,
            "left": null,
            "margin": null,
            "max_height": null,
            "max_width": null,
            "min_height": null,
            "min_width": null,
            "object_fit": null,
            "object_position": null,
            "order": null,
            "overflow": null,
            "overflow_x": null,
            "overflow_y": null,
            "padding": null,
            "right": null,
            "top": null,
            "visibility": null,
            "width": null
          }
        },
        "abd1d3832fbc48c4b448d1913d2b4724": {
          "model_module": "@jupyter-widgets/controls",
          "model_name": "DescriptionStyleModel",
          "model_module_version": "1.5.0",
          "state": {
            "_model_module": "@jupyter-widgets/controls",
            "_model_module_version": "1.5.0",
            "_model_name": "DescriptionStyleModel",
            "_view_count": null,
            "_view_module": "@jupyter-widgets/base",
            "_view_module_version": "1.2.0",
            "_view_name": "StyleView",
            "description_width": ""
          }
        },
        "fa82511651a243cfb4e56443797ada9b": {
          "model_module": "@jupyter-widgets/base",
          "model_name": "LayoutModel",
          "model_module_version": "1.2.0",
          "state": {
            "_model_module": "@jupyter-widgets/base",
            "_model_module_version": "1.2.0",
            "_model_name": "LayoutModel",
            "_view_count": null,
            "_view_module": "@jupyter-widgets/base",
            "_view_module_version": "1.2.0",
            "_view_name": "LayoutView",
            "align_content": null,
            "align_items": null,
            "align_self": null,
            "border": null,
            "bottom": null,
            "display": null,
            "flex": null,
            "flex_flow": null,
            "grid_area": null,
            "grid_auto_columns": null,
            "grid_auto_flow": null,
            "grid_auto_rows": null,
            "grid_column": null,
            "grid_gap": null,
            "grid_row": null,
            "grid_template_areas": null,
            "grid_template_columns": null,
            "grid_template_rows": null,
            "height": null,
            "justify_content": null,
            "justify_items": null,
            "left": null,
            "margin": null,
            "max_height": null,
            "max_width": null,
            "min_height": null,
            "min_width": null,
            "object_fit": null,
            "object_position": null,
            "order": null,
            "overflow": null,
            "overflow_x": null,
            "overflow_y": null,
            "padding": null,
            "right": null,
            "top": null,
            "visibility": null,
            "width": null
          }
        },
        "15c2b69f365e4fb68707ad97a7359525": {
          "model_module": "@jupyter-widgets/controls",
          "model_name": "ProgressStyleModel",
          "model_module_version": "1.5.0",
          "state": {
            "_model_module": "@jupyter-widgets/controls",
            "_model_module_version": "1.5.0",
            "_model_name": "ProgressStyleModel",
            "_view_count": null,
            "_view_module": "@jupyter-widgets/base",
            "_view_module_version": "1.2.0",
            "_view_name": "StyleView",
            "bar_color": null,
            "description_width": ""
          }
        },
        "4d95c0e377e2446183bd808b125f599a": {
          "model_module": "@jupyter-widgets/base",
          "model_name": "LayoutModel",
          "model_module_version": "1.2.0",
          "state": {
            "_model_module": "@jupyter-widgets/base",
            "_model_module_version": "1.2.0",
            "_model_name": "LayoutModel",
            "_view_count": null,
            "_view_module": "@jupyter-widgets/base",
            "_view_module_version": "1.2.0",
            "_view_name": "LayoutView",
            "align_content": null,
            "align_items": null,
            "align_self": null,
            "border": null,
            "bottom": null,
            "display": null,
            "flex": null,
            "flex_flow": null,
            "grid_area": null,
            "grid_auto_columns": null,
            "grid_auto_flow": null,
            "grid_auto_rows": null,
            "grid_column": null,
            "grid_gap": null,
            "grid_row": null,
            "grid_template_areas": null,
            "grid_template_columns": null,
            "grid_template_rows": null,
            "height": null,
            "justify_content": null,
            "justify_items": null,
            "left": null,
            "margin": null,
            "max_height": null,
            "max_width": null,
            "min_height": null,
            "min_width": null,
            "object_fit": null,
            "object_position": null,
            "order": null,
            "overflow": null,
            "overflow_x": null,
            "overflow_y": null,
            "padding": null,
            "right": null,
            "top": null,
            "visibility": null,
            "width": null
          }
        },
        "1ffa93bfa0654d44a8026aec956cb27e": {
          "model_module": "@jupyter-widgets/controls",
          "model_name": "DescriptionStyleModel",
          "model_module_version": "1.5.0",
          "state": {
            "_model_module": "@jupyter-widgets/controls",
            "_model_module_version": "1.5.0",
            "_model_name": "DescriptionStyleModel",
            "_view_count": null,
            "_view_module": "@jupyter-widgets/base",
            "_view_module_version": "1.2.0",
            "_view_name": "StyleView",
            "description_width": ""
          }
        },
        "e89916e3a7504282958e6e9f188338f8": {
          "model_module": "@jupyter-widgets/controls",
          "model_name": "HBoxModel",
          "model_module_version": "1.5.0",
          "state": {
            "_dom_classes": [],
            "_model_module": "@jupyter-widgets/controls",
            "_model_module_version": "1.5.0",
            "_model_name": "HBoxModel",
            "_view_count": null,
            "_view_module": "@jupyter-widgets/controls",
            "_view_module_version": "1.5.0",
            "_view_name": "HBoxView",
            "box_style": "",
            "children": [
              "IPY_MODEL_4b26b40c04b94e7c909472b01443bcee",
              "IPY_MODEL_343c98497c7048bbb3ca7d0c2490e39a",
              "IPY_MODEL_b50dc5f66b9b45ff8cf3067a9de602c8"
            ],
            "layout": "IPY_MODEL_e52fafbdbd894820a79cc3c4ee5201d4"
          }
        },
        "4b26b40c04b94e7c909472b01443bcee": {
          "model_module": "@jupyter-widgets/controls",
          "model_name": "HTMLModel",
          "model_module_version": "1.5.0",
          "state": {
            "_dom_classes": [],
            "_model_module": "@jupyter-widgets/controls",
            "_model_module_version": "1.5.0",
            "_model_name": "HTMLModel",
            "_view_count": null,
            "_view_module": "@jupyter-widgets/controls",
            "_view_module_version": "1.5.0",
            "_view_name": "HTMLView",
            "description": "",
            "description_tooltip": null,
            "layout": "IPY_MODEL_3cf7c0372ccd414ea3ba5ada6d0697ab",
            "placeholder": "​",
            "style": "IPY_MODEL_f1308fda0cec4f82a4ed87756cfd9c1d",
            "value": "Loading checkpoint shards: 100%"
          }
        },
        "343c98497c7048bbb3ca7d0c2490e39a": {
          "model_module": "@jupyter-widgets/controls",
          "model_name": "FloatProgressModel",
          "model_module_version": "1.5.0",
          "state": {
            "_dom_classes": [],
            "_model_module": "@jupyter-widgets/controls",
            "_model_module_version": "1.5.0",
            "_model_name": "FloatProgressModel",
            "_view_count": null,
            "_view_module": "@jupyter-widgets/controls",
            "_view_module_version": "1.5.0",
            "_view_name": "ProgressView",
            "bar_style": "success",
            "description": "",
            "description_tooltip": null,
            "layout": "IPY_MODEL_ff577f296abd4473bbba7a1127519463",
            "max": 3,
            "min": 0,
            "orientation": "horizontal",
            "style": "IPY_MODEL_0d96ad0028a6425a9d51a5be3b4ce05b",
            "value": 3
          }
        },
        "b50dc5f66b9b45ff8cf3067a9de602c8": {
          "model_module": "@jupyter-widgets/controls",
          "model_name": "HTMLModel",
          "model_module_version": "1.5.0",
          "state": {
            "_dom_classes": [],
            "_model_module": "@jupyter-widgets/controls",
            "_model_module_version": "1.5.0",
            "_model_name": "HTMLModel",
            "_view_count": null,
            "_view_module": "@jupyter-widgets/controls",
            "_view_module_version": "1.5.0",
            "_view_name": "HTMLView",
            "description": "",
            "description_tooltip": null,
            "layout": "IPY_MODEL_1f0ca2db38d54d44a434b560ddb8b20d",
            "placeholder": "​",
            "style": "IPY_MODEL_4b603be5f3fa4f6aa57b8b4d119527e5",
            "value": " 3/3 [01:23&lt;00:00, 27.06s/it]"
          }
        },
        "e52fafbdbd894820a79cc3c4ee5201d4": {
          "model_module": "@jupyter-widgets/base",
          "model_name": "LayoutModel",
          "model_module_version": "1.2.0",
          "state": {
            "_model_module": "@jupyter-widgets/base",
            "_model_module_version": "1.2.0",
            "_model_name": "LayoutModel",
            "_view_count": null,
            "_view_module": "@jupyter-widgets/base",
            "_view_module_version": "1.2.0",
            "_view_name": "LayoutView",
            "align_content": null,
            "align_items": null,
            "align_self": null,
            "border": null,
            "bottom": null,
            "display": null,
            "flex": null,
            "flex_flow": null,
            "grid_area": null,
            "grid_auto_columns": null,
            "grid_auto_flow": null,
            "grid_auto_rows": null,
            "grid_column": null,
            "grid_gap": null,
            "grid_row": null,
            "grid_template_areas": null,
            "grid_template_columns": null,
            "grid_template_rows": null,
            "height": null,
            "justify_content": null,
            "justify_items": null,
            "left": null,
            "margin": null,
            "max_height": null,
            "max_width": null,
            "min_height": null,
            "min_width": null,
            "object_fit": null,
            "object_position": null,
            "order": null,
            "overflow": null,
            "overflow_x": null,
            "overflow_y": null,
            "padding": null,
            "right": null,
            "top": null,
            "visibility": null,
            "width": null
          }
        },
        "3cf7c0372ccd414ea3ba5ada6d0697ab": {
          "model_module": "@jupyter-widgets/base",
          "model_name": "LayoutModel",
          "model_module_version": "1.2.0",
          "state": {
            "_model_module": "@jupyter-widgets/base",
            "_model_module_version": "1.2.0",
            "_model_name": "LayoutModel",
            "_view_count": null,
            "_view_module": "@jupyter-widgets/base",
            "_view_module_version": "1.2.0",
            "_view_name": "LayoutView",
            "align_content": null,
            "align_items": null,
            "align_self": null,
            "border": null,
            "bottom": null,
            "display": null,
            "flex": null,
            "flex_flow": null,
            "grid_area": null,
            "grid_auto_columns": null,
            "grid_auto_flow": null,
            "grid_auto_rows": null,
            "grid_column": null,
            "grid_gap": null,
            "grid_row": null,
            "grid_template_areas": null,
            "grid_template_columns": null,
            "grid_template_rows": null,
            "height": null,
            "justify_content": null,
            "justify_items": null,
            "left": null,
            "margin": null,
            "max_height": null,
            "max_width": null,
            "min_height": null,
            "min_width": null,
            "object_fit": null,
            "object_position": null,
            "order": null,
            "overflow": null,
            "overflow_x": null,
            "overflow_y": null,
            "padding": null,
            "right": null,
            "top": null,
            "visibility": null,
            "width": null
          }
        },
        "f1308fda0cec4f82a4ed87756cfd9c1d": {
          "model_module": "@jupyter-widgets/controls",
          "model_name": "DescriptionStyleModel",
          "model_module_version": "1.5.0",
          "state": {
            "_model_module": "@jupyter-widgets/controls",
            "_model_module_version": "1.5.0",
            "_model_name": "DescriptionStyleModel",
            "_view_count": null,
            "_view_module": "@jupyter-widgets/base",
            "_view_module_version": "1.2.0",
            "_view_name": "StyleView",
            "description_width": ""
          }
        },
        "ff577f296abd4473bbba7a1127519463": {
          "model_module": "@jupyter-widgets/base",
          "model_name": "LayoutModel",
          "model_module_version": "1.2.0",
          "state": {
            "_model_module": "@jupyter-widgets/base",
            "_model_module_version": "1.2.0",
            "_model_name": "LayoutModel",
            "_view_count": null,
            "_view_module": "@jupyter-widgets/base",
            "_view_module_version": "1.2.0",
            "_view_name": "LayoutView",
            "align_content": null,
            "align_items": null,
            "align_self": null,
            "border": null,
            "bottom": null,
            "display": null,
            "flex": null,
            "flex_flow": null,
            "grid_area": null,
            "grid_auto_columns": null,
            "grid_auto_flow": null,
            "grid_auto_rows": null,
            "grid_column": null,
            "grid_gap": null,
            "grid_row": null,
            "grid_template_areas": null,
            "grid_template_columns": null,
            "grid_template_rows": null,
            "height": null,
            "justify_content": null,
            "justify_items": null,
            "left": null,
            "margin": null,
            "max_height": null,
            "max_width": null,
            "min_height": null,
            "min_width": null,
            "object_fit": null,
            "object_position": null,
            "order": null,
            "overflow": null,
            "overflow_x": null,
            "overflow_y": null,
            "padding": null,
            "right": null,
            "top": null,
            "visibility": null,
            "width": null
          }
        },
        "0d96ad0028a6425a9d51a5be3b4ce05b": {
          "model_module": "@jupyter-widgets/controls",
          "model_name": "ProgressStyleModel",
          "model_module_version": "1.5.0",
          "state": {
            "_model_module": "@jupyter-widgets/controls",
            "_model_module_version": "1.5.0",
            "_model_name": "ProgressStyleModel",
            "_view_count": null,
            "_view_module": "@jupyter-widgets/base",
            "_view_module_version": "1.2.0",
            "_view_name": "StyleView",
            "bar_color": null,
            "description_width": ""
          }
        },
        "1f0ca2db38d54d44a434b560ddb8b20d": {
          "model_module": "@jupyter-widgets/base",
          "model_name": "LayoutModel",
          "model_module_version": "1.2.0",
          "state": {
            "_model_module": "@jupyter-widgets/base",
            "_model_module_version": "1.2.0",
            "_model_name": "LayoutModel",
            "_view_count": null,
            "_view_module": "@jupyter-widgets/base",
            "_view_module_version": "1.2.0",
            "_view_name": "LayoutView",
            "align_content": null,
            "align_items": null,
            "align_self": null,
            "border": null,
            "bottom": null,
            "display": null,
            "flex": null,
            "flex_flow": null,
            "grid_area": null,
            "grid_auto_columns": null,
            "grid_auto_flow": null,
            "grid_auto_rows": null,
            "grid_column": null,
            "grid_gap": null,
            "grid_row": null,
            "grid_template_areas": null,
            "grid_template_columns": null,
            "grid_template_rows": null,
            "height": null,
            "justify_content": null,
            "justify_items": null,
            "left": null,
            "margin": null,
            "max_height": null,
            "max_width": null,
            "min_height": null,
            "min_width": null,
            "object_fit": null,
            "object_position": null,
            "order": null,
            "overflow": null,
            "overflow_x": null,
            "overflow_y": null,
            "padding": null,
            "right": null,
            "top": null,
            "visibility": null,
            "width": null
          }
        },
        "4b603be5f3fa4f6aa57b8b4d119527e5": {
          "model_module": "@jupyter-widgets/controls",
          "model_name": "DescriptionStyleModel",
          "model_module_version": "1.5.0",
          "state": {
            "_model_module": "@jupyter-widgets/controls",
            "_model_module_version": "1.5.0",
            "_model_name": "DescriptionStyleModel",
            "_view_count": null,
            "_view_module": "@jupyter-widgets/base",
            "_view_module_version": "1.2.0",
            "_view_name": "StyleView",
            "description_width": ""
          }
        }
      }
    },
    "accelerator": "GPU"
  },
  "cells": [
    {
      "cell_type": "markdown",
      "metadata": {
        "id": "view-in-github",
        "colab_type": "text"
      },
      "source": [
        "<a href=\"https://colab.research.google.com/github/areias/slm-finetunig/blob/main/finetune_mistral.ipynb\" target=\"_parent\"><img src=\"https://colab.research.google.com/assets/colab-badge.svg\" alt=\"Open In Colab\"/></a>"
      ]
    },
    {
      "cell_type": "markdown",
      "source": [
        "#Fine-tuning Mistral-7b for relationship extraction\n",
        "\n",
        "See how mistral-7b performs at relationship extraction task before and after fine-tuning on 1000 examples."
      ],
      "metadata": {
        "id": "MSds52ZvCWLz"
      }
    },
    {
      "cell_type": "markdown",
      "source": [
        "based on\n",
        "\n",
        "[Fine-tune large models using 🤗 peft adapters, transformers & bitsandbytes](https://colab.research.google.com/drive/1jCkpikz0J2o20FBQmYmAGdiKmJGOMo-o?usp=sharing#scrollTo=WE5GJ6s7y0Xo)\n",
        "\n",
        "\n",
        "[transformers meets bitsandbytes for democratzing Large Language Models (LLMs) through 4bit quantization](https://colab.research.google.com/drive/1VoYNfYDKcKRQRor98Zbf2-9VQTtGJ24k#scrollTo=jq0nX33BmfaC)\n",
        "\n",
        "[Fine-tuning Mistral on your own data](https://github.com/brevdev/notebooks/blob/main/mistral-finetune-own-data.ipynb)\n",
        "\n",
        "[Fine-tuning Large Language Models](https://learn.deeplearning.ai/finetuning-large-language-models/lesson/1/introduction)\n",
        "\n",
        "\n",
        "[Ollama: Running GGUF Models from Hugging Face](https://www.markhneedham.com/blog/2023/10/18/ollama-hugging-face-gguf-models/)\n",
        "\n",
        "\n",
        "\n"
      ],
      "metadata": {
        "id": "KYy-QW1jstyf"
      }
    },
    {
      "cell_type": "markdown",
      "source": [
        "## Load our fine-tuning data"
      ],
      "metadata": {
        "id": "ol6dhVSPDN8M"
      }
    },
    {
      "cell_type": "code",
      "source": [
        "! pip install -q peft\n",
        "! pip install -q git+https://github.com/huggingface/accelerate.git\n",
        "! pip install -q bitsandbytes\n",
        "! pip install -q transformers datasets"
      ],
      "metadata": {
        "colab": {
          "base_uri": "https://localhost:8080/"
        },
        "id": "pCSw2a-Uc6-2",
        "outputId": "ea846335-bb80-471a-c785-43f4e2cc9b4a"
      },
      "execution_count": 1,
      "outputs": [
        {
          "output_type": "stream",
          "name": "stdout",
          "text": [
            "\u001b[?25l     \u001b[90m━━━━━━━━━━━━━━━━━━━━━━━━━━━━━━━━━━━━━━━━\u001b[0m \u001b[32m0.0/183.4 kB\u001b[0m \u001b[31m?\u001b[0m eta \u001b[36m-:--:--\u001b[0m\r\u001b[2K     \u001b[91m━━━━━━━━━━━━━━━━━━━━━━━━━━━━━━━━━━━━━\u001b[0m\u001b[91m╸\u001b[0m\u001b[90m━━\u001b[0m \u001b[32m174.1/183.4 kB\u001b[0m \u001b[31m5.6 MB/s\u001b[0m eta \u001b[36m0:00:01\u001b[0m\r\u001b[2K     \u001b[90m━━━━━━━━━━━━━━━━━━━━━━━━━━━━━━━━━━━━━━━━\u001b[0m \u001b[32m183.4/183.4 kB\u001b[0m \u001b[31m4.8 MB/s\u001b[0m eta \u001b[36m0:00:00\u001b[0m\n",
            "\u001b[?25h\u001b[?25l     \u001b[90m━━━━━━━━━━━━━━━━━━━━━━━━━━━━━━━━━━━━━━━━\u001b[0m \u001b[32m0.0/280.0 kB\u001b[0m \u001b[31m?\u001b[0m eta \u001b[36m-:--:--\u001b[0m\r\u001b[2K     \u001b[90m━━━━━━━━━━━━━━━━━━━━━━━━━━━━━━━━━━━━━━━━\u001b[0m \u001b[32m280.0/280.0 kB\u001b[0m \u001b[31m19.2 MB/s\u001b[0m eta \u001b[36m0:00:00\u001b[0m\n",
            "\u001b[?25h  Installing build dependencies ... \u001b[?25l\u001b[?25hdone\n",
            "  Getting requirements to build wheel ... \u001b[?25l\u001b[?25hdone\n",
            "  Preparing metadata (pyproject.toml) ... \u001b[?25l\u001b[?25hdone\n",
            "  Building wheel for accelerate (pyproject.toml) ... \u001b[?25l\u001b[?25hdone\n",
            "\u001b[2K     \u001b[90m━━━━━━━━━━━━━━━━━━━━━━━━━━━━━━━━━━━━━━━━\u001b[0m \u001b[32m105.0/105.0 MB\u001b[0m \u001b[31m15.0 MB/s\u001b[0m eta \u001b[36m0:00:00\u001b[0m\n",
            "\u001b[2K     \u001b[90m━━━━━━━━━━━━━━━━━━━━━━━━━━━━━━━━━━━━━━━━\u001b[0m \u001b[32m536.7/536.7 kB\u001b[0m \u001b[31m11.5 MB/s\u001b[0m eta \u001b[36m0:00:00\u001b[0m\n",
            "\u001b[2K     \u001b[90m━━━━━━━━━━━━━━━━━━━━━━━━━━━━━━━━━━━━━━━━\u001b[0m \u001b[32m116.3/116.3 kB\u001b[0m \u001b[31m16.7 MB/s\u001b[0m eta \u001b[36m0:00:00\u001b[0m\n",
            "\u001b[2K     \u001b[90m━━━━━━━━━━━━━━━━━━━━━━━━━━━━━━━━━━━━━━━━\u001b[0m \u001b[32m134.8/134.8 kB\u001b[0m \u001b[31m19.3 MB/s\u001b[0m eta \u001b[36m0:00:00\u001b[0m\n",
            "\u001b[?25h"
          ]
        }
      ]
    },
    {
      "cell_type": "code",
      "source": [
        "import sys\n",
        "sys.path.append('drive/My Drive/mistral-finetune/')"
      ],
      "metadata": {
        "id": "xX7DSX6Tf5U6"
      },
      "execution_count": 2,
      "outputs": []
    },
    {
      "cell_type": "markdown",
      "source": [],
      "metadata": {
        "id": "Q6OPzWAkdQuM"
      }
    },
    {
      "cell_type": "code",
      "source": [
        "from google.colab import drive\n",
        "\n",
        "# This will prompt for authorization.\n",
        "drive.mount('/content/drive')\n"
      ],
      "metadata": {
        "colab": {
          "base_uri": "https://localhost:8080/"
        },
        "id": "CImq57GrNSpk",
        "outputId": "49adcbe8-a4a9-4c9b-e3eb-c9212415f0eb"
      },
      "execution_count": 3,
      "outputs": [
        {
          "output_type": "stream",
          "name": "stdout",
          "text": [
            "Mounted at /content/drive\n"
          ]
        }
      ]
    },
    {
      "cell_type": "code",
      "source": [
        "import pandas as pd\n",
        "df = pd.read_csv(\"drive/MyDrive/mistral-finetune/data/nyt10m_finetuning-balanced.csv\")"
      ],
      "metadata": {
        "id": "0ROtsw5ENSk0"
      },
      "execution_count": 5,
      "outputs": []
    },
    {
      "cell_type": "code",
      "source": [
        "len(df['text'].unique())"
      ],
      "metadata": {
        "colab": {
          "base_uri": "https://localhost:8080/"
        },
        "id": "TiCQF6lbu9Yj",
        "outputId": "d7e8f27f-8f18-4ee5-a1cd-e478c8d9e25a"
      },
      "execution_count": 6,
      "outputs": [
        {
          "output_type": "execute_result",
          "data": {
            "text/plain": [
              "974"
            ]
          },
          "metadata": {},
          "execution_count": 6
        }
      ]
    },
    {
      "cell_type": "code",
      "source": [
        "len(df)"
      ],
      "metadata": {
        "colab": {
          "base_uri": "https://localhost:8080/"
        },
        "id": "XBDbTBVKeDdc",
        "outputId": "caf12932-4940-49ca-9901-bc9d436e6c3f"
      },
      "execution_count": 7,
      "outputs": [
        {
          "output_type": "execute_result",
          "data": {
            "text/plain": [
              "1452"
            ]
          },
          "metadata": {},
          "execution_count": 7
        }
      ]
    },
    {
      "cell_type": "code",
      "source": [
        "df.head()"
      ],
      "metadata": {
        "colab": {
          "base_uri": "https://localhost:8080/",
          "height": 206
        },
        "id": "aypHxSxKNSek",
        "outputId": "90660cda-7e22-42b0-bfd7-9ad751f78a04"
      },
      "execution_count": 8,
      "outputs": [
        {
          "output_type": "execute_result",
          "data": {
            "text/plain": [
              "                                                text         h_name  \\\n",
              "0  There were also performers who were born in Lo...  Johnny Rivers   \n",
              "1  Indeed , Mr. Chávez said Sunday that he wished...    Evo Morales   \n",
              "2  Indeed , Mr. Chávez said Sunday that he wished...    Evo Morales   \n",
              "3  Analysts contrast Mr. Chávez 's success at con...    Evo Morales   \n",
              "4  Ecuador 's new president , Rafael Correa , joi...    Evo Morales   \n",
              "\n",
              "      t_name                       relation  \n",
              "0  Louisiana  /people/person/place_of_birth  \n",
              "1    Bolivia     /people/person/nationality  \n",
              "2    Bolivia     /people/person/place_lived  \n",
              "3    Bolivia     /people/person/nationality  \n",
              "4    Bolivia     /people/person/nationality  "
            ],
            "text/html": [
              "\n",
              "  <div id=\"df-91d1f6db-528e-4a1b-be4a-d014c687e580\" class=\"colab-df-container\">\n",
              "    <div>\n",
              "<style scoped>\n",
              "    .dataframe tbody tr th:only-of-type {\n",
              "        vertical-align: middle;\n",
              "    }\n",
              "\n",
              "    .dataframe tbody tr th {\n",
              "        vertical-align: top;\n",
              "    }\n",
              "\n",
              "    .dataframe thead th {\n",
              "        text-align: right;\n",
              "    }\n",
              "</style>\n",
              "<table border=\"1\" class=\"dataframe\">\n",
              "  <thead>\n",
              "    <tr style=\"text-align: right;\">\n",
              "      <th></th>\n",
              "      <th>text</th>\n",
              "      <th>h_name</th>\n",
              "      <th>t_name</th>\n",
              "      <th>relation</th>\n",
              "    </tr>\n",
              "  </thead>\n",
              "  <tbody>\n",
              "    <tr>\n",
              "      <th>0</th>\n",
              "      <td>There were also performers who were born in Lo...</td>\n",
              "      <td>Johnny Rivers</td>\n",
              "      <td>Louisiana</td>\n",
              "      <td>/people/person/place_of_birth</td>\n",
              "    </tr>\n",
              "    <tr>\n",
              "      <th>1</th>\n",
              "      <td>Indeed , Mr. Chávez said Sunday that he wished...</td>\n",
              "      <td>Evo Morales</td>\n",
              "      <td>Bolivia</td>\n",
              "      <td>/people/person/nationality</td>\n",
              "    </tr>\n",
              "    <tr>\n",
              "      <th>2</th>\n",
              "      <td>Indeed , Mr. Chávez said Sunday that he wished...</td>\n",
              "      <td>Evo Morales</td>\n",
              "      <td>Bolivia</td>\n",
              "      <td>/people/person/place_lived</td>\n",
              "    </tr>\n",
              "    <tr>\n",
              "      <th>3</th>\n",
              "      <td>Analysts contrast Mr. Chávez 's success at con...</td>\n",
              "      <td>Evo Morales</td>\n",
              "      <td>Bolivia</td>\n",
              "      <td>/people/person/nationality</td>\n",
              "    </tr>\n",
              "    <tr>\n",
              "      <th>4</th>\n",
              "      <td>Ecuador 's new president , Rafael Correa , joi...</td>\n",
              "      <td>Evo Morales</td>\n",
              "      <td>Bolivia</td>\n",
              "      <td>/people/person/nationality</td>\n",
              "    </tr>\n",
              "  </tbody>\n",
              "</table>\n",
              "</div>\n",
              "    <div class=\"colab-df-buttons\">\n",
              "\n",
              "  <div class=\"colab-df-container\">\n",
              "    <button class=\"colab-df-convert\" onclick=\"convertToInteractive('df-91d1f6db-528e-4a1b-be4a-d014c687e580')\"\n",
              "            title=\"Convert this dataframe to an interactive table.\"\n",
              "            style=\"display:none;\">\n",
              "\n",
              "  <svg xmlns=\"http://www.w3.org/2000/svg\" height=\"24px\" viewBox=\"0 -960 960 960\">\n",
              "    <path d=\"M120-120v-720h720v720H120Zm60-500h600v-160H180v160Zm220 220h160v-160H400v160Zm0 220h160v-160H400v160ZM180-400h160v-160H180v160Zm440 0h160v-160H620v160ZM180-180h160v-160H180v160Zm440 0h160v-160H620v160Z\"/>\n",
              "  </svg>\n",
              "    </button>\n",
              "\n",
              "  <style>\n",
              "    .colab-df-container {\n",
              "      display:flex;\n",
              "      gap: 12px;\n",
              "    }\n",
              "\n",
              "    .colab-df-convert {\n",
              "      background-color: #E8F0FE;\n",
              "      border: none;\n",
              "      border-radius: 50%;\n",
              "      cursor: pointer;\n",
              "      display: none;\n",
              "      fill: #1967D2;\n",
              "      height: 32px;\n",
              "      padding: 0 0 0 0;\n",
              "      width: 32px;\n",
              "    }\n",
              "\n",
              "    .colab-df-convert:hover {\n",
              "      background-color: #E2EBFA;\n",
              "      box-shadow: 0px 1px 2px rgba(60, 64, 67, 0.3), 0px 1px 3px 1px rgba(60, 64, 67, 0.15);\n",
              "      fill: #174EA6;\n",
              "    }\n",
              "\n",
              "    .colab-df-buttons div {\n",
              "      margin-bottom: 4px;\n",
              "    }\n",
              "\n",
              "    [theme=dark] .colab-df-convert {\n",
              "      background-color: #3B4455;\n",
              "      fill: #D2E3FC;\n",
              "    }\n",
              "\n",
              "    [theme=dark] .colab-df-convert:hover {\n",
              "      background-color: #434B5C;\n",
              "      box-shadow: 0px 1px 3px 1px rgba(0, 0, 0, 0.15);\n",
              "      filter: drop-shadow(0px 1px 2px rgba(0, 0, 0, 0.3));\n",
              "      fill: #FFFFFF;\n",
              "    }\n",
              "  </style>\n",
              "\n",
              "    <script>\n",
              "      const buttonEl =\n",
              "        document.querySelector('#df-91d1f6db-528e-4a1b-be4a-d014c687e580 button.colab-df-convert');\n",
              "      buttonEl.style.display =\n",
              "        google.colab.kernel.accessAllowed ? 'block' : 'none';\n",
              "\n",
              "      async function convertToInteractive(key) {\n",
              "        const element = document.querySelector('#df-91d1f6db-528e-4a1b-be4a-d014c687e580');\n",
              "        const dataTable =\n",
              "          await google.colab.kernel.invokeFunction('convertToInteractive',\n",
              "                                                    [key], {});\n",
              "        if (!dataTable) return;\n",
              "\n",
              "        const docLinkHtml = 'Like what you see? Visit the ' +\n",
              "          '<a target=\"_blank\" href=https://colab.research.google.com/notebooks/data_table.ipynb>data table notebook</a>'\n",
              "          + ' to learn more about interactive tables.';\n",
              "        element.innerHTML = '';\n",
              "        dataTable['output_type'] = 'display_data';\n",
              "        await google.colab.output.renderOutput(dataTable, element);\n",
              "        const docLink = document.createElement('div');\n",
              "        docLink.innerHTML = docLinkHtml;\n",
              "        element.appendChild(docLink);\n",
              "      }\n",
              "    </script>\n",
              "  </div>\n",
              "\n",
              "\n",
              "<div id=\"df-d7831085-cca3-426e-b20b-6ce359747d31\">\n",
              "  <button class=\"colab-df-quickchart\" onclick=\"quickchart('df-d7831085-cca3-426e-b20b-6ce359747d31')\"\n",
              "            title=\"Suggest charts\"\n",
              "            style=\"display:none;\">\n",
              "\n",
              "<svg xmlns=\"http://www.w3.org/2000/svg\" height=\"24px\"viewBox=\"0 0 24 24\"\n",
              "     width=\"24px\">\n",
              "    <g>\n",
              "        <path d=\"M19 3H5c-1.1 0-2 .9-2 2v14c0 1.1.9 2 2 2h14c1.1 0 2-.9 2-2V5c0-1.1-.9-2-2-2zM9 17H7v-7h2v7zm4 0h-2V7h2v10zm4 0h-2v-4h2v4z\"/>\n",
              "    </g>\n",
              "</svg>\n",
              "  </button>\n",
              "\n",
              "<style>\n",
              "  .colab-df-quickchart {\n",
              "      --bg-color: #E8F0FE;\n",
              "      --fill-color: #1967D2;\n",
              "      --hover-bg-color: #E2EBFA;\n",
              "      --hover-fill-color: #174EA6;\n",
              "      --disabled-fill-color: #AAA;\n",
              "      --disabled-bg-color: #DDD;\n",
              "  }\n",
              "\n",
              "  [theme=dark] .colab-df-quickchart {\n",
              "      --bg-color: #3B4455;\n",
              "      --fill-color: #D2E3FC;\n",
              "      --hover-bg-color: #434B5C;\n",
              "      --hover-fill-color: #FFFFFF;\n",
              "      --disabled-bg-color: #3B4455;\n",
              "      --disabled-fill-color: #666;\n",
              "  }\n",
              "\n",
              "  .colab-df-quickchart {\n",
              "    background-color: var(--bg-color);\n",
              "    border: none;\n",
              "    border-radius: 50%;\n",
              "    cursor: pointer;\n",
              "    display: none;\n",
              "    fill: var(--fill-color);\n",
              "    height: 32px;\n",
              "    padding: 0;\n",
              "    width: 32px;\n",
              "  }\n",
              "\n",
              "  .colab-df-quickchart:hover {\n",
              "    background-color: var(--hover-bg-color);\n",
              "    box-shadow: 0 1px 2px rgba(60, 64, 67, 0.3), 0 1px 3px 1px rgba(60, 64, 67, 0.15);\n",
              "    fill: var(--button-hover-fill-color);\n",
              "  }\n",
              "\n",
              "  .colab-df-quickchart-complete:disabled,\n",
              "  .colab-df-quickchart-complete:disabled:hover {\n",
              "    background-color: var(--disabled-bg-color);\n",
              "    fill: var(--disabled-fill-color);\n",
              "    box-shadow: none;\n",
              "  }\n",
              "\n",
              "  .colab-df-spinner {\n",
              "    border: 2px solid var(--fill-color);\n",
              "    border-color: transparent;\n",
              "    border-bottom-color: var(--fill-color);\n",
              "    animation:\n",
              "      spin 1s steps(1) infinite;\n",
              "  }\n",
              "\n",
              "  @keyframes spin {\n",
              "    0% {\n",
              "      border-color: transparent;\n",
              "      border-bottom-color: var(--fill-color);\n",
              "      border-left-color: var(--fill-color);\n",
              "    }\n",
              "    20% {\n",
              "      border-color: transparent;\n",
              "      border-left-color: var(--fill-color);\n",
              "      border-top-color: var(--fill-color);\n",
              "    }\n",
              "    30% {\n",
              "      border-color: transparent;\n",
              "      border-left-color: var(--fill-color);\n",
              "      border-top-color: var(--fill-color);\n",
              "      border-right-color: var(--fill-color);\n",
              "    }\n",
              "    40% {\n",
              "      border-color: transparent;\n",
              "      border-right-color: var(--fill-color);\n",
              "      border-top-color: var(--fill-color);\n",
              "    }\n",
              "    60% {\n",
              "      border-color: transparent;\n",
              "      border-right-color: var(--fill-color);\n",
              "    }\n",
              "    80% {\n",
              "      border-color: transparent;\n",
              "      border-right-color: var(--fill-color);\n",
              "      border-bottom-color: var(--fill-color);\n",
              "    }\n",
              "    90% {\n",
              "      border-color: transparent;\n",
              "      border-bottom-color: var(--fill-color);\n",
              "    }\n",
              "  }\n",
              "</style>\n",
              "\n",
              "  <script>\n",
              "    async function quickchart(key) {\n",
              "      const quickchartButtonEl =\n",
              "        document.querySelector('#' + key + ' button');\n",
              "      quickchartButtonEl.disabled = true;  // To prevent multiple clicks.\n",
              "      quickchartButtonEl.classList.add('colab-df-spinner');\n",
              "      try {\n",
              "        const charts = await google.colab.kernel.invokeFunction(\n",
              "            'suggestCharts', [key], {});\n",
              "      } catch (error) {\n",
              "        console.error('Error during call to suggestCharts:', error);\n",
              "      }\n",
              "      quickchartButtonEl.classList.remove('colab-df-spinner');\n",
              "      quickchartButtonEl.classList.add('colab-df-quickchart-complete');\n",
              "    }\n",
              "    (() => {\n",
              "      let quickchartButtonEl =\n",
              "        document.querySelector('#df-d7831085-cca3-426e-b20b-6ce359747d31 button');\n",
              "      quickchartButtonEl.style.display =\n",
              "        google.colab.kernel.accessAllowed ? 'block' : 'none';\n",
              "    })();\n",
              "  </script>\n",
              "</div>\n",
              "    </div>\n",
              "  </div>\n"
            ],
            "application/vnd.google.colaboratory.intrinsic+json": {
              "type": "dataframe",
              "variable_name": "df",
              "summary": "{\n  \"name\": \"df\",\n  \"rows\": 1452,\n  \"fields\": [\n    {\n      \"column\": \"text\",\n      \"properties\": {\n        \"dtype\": \"string\",\n        \"num_unique_values\": 974,\n        \"samples\": [\n          \"And in Mexico , rumors abound about development in a remote area of Baja California known as Scorpion Bay .\",\n          \"Hassan Dahir , the vice president of Puntland , a semiautonomous region of Somalia , said eight Islamist militants had been killed , including one who was an American citizen , according to documents found on his body .\",\n          \"PUNAK -- Randy M. , 53 of NYC died March 5 , 2007 in Paris , France .\"\n        ],\n        \"semantic_type\": \"\",\n        \"description\": \"\"\n      }\n    },\n    {\n      \"column\": \"h_name\",\n      \"properties\": {\n        \"dtype\": \"string\",\n        \"num_unique_values\": 734,\n        \"samples\": [\n          \"Equinix\",\n          \"Havana\",\n          \"Oceanport\"\n        ],\n        \"semantic_type\": \"\",\n        \"description\": \"\"\n      }\n    },\n    {\n      \"column\": \"t_name\",\n      \"properties\": {\n        \"dtype\": \"category\",\n        \"num_unique_values\": 442,\n        \"samples\": [\n          \"PCCW\",\n          \"Troma Entertainment\",\n          \"Ontario\"\n        ],\n        \"semantic_type\": \"\",\n        \"description\": \"\"\n      }\n    },\n    {\n      \"column\": \"relation\",\n      \"properties\": {\n        \"dtype\": \"category\",\n        \"num_unique_values\": 10,\n        \"samples\": [\n          \"/location/administrative_division/country\",\n          \"/people/person/nationality\",\n          \"/business/company/advisors\"\n        ],\n        \"semantic_type\": \"\",\n        \"description\": \"\"\n      }\n    }\n  ]\n}"
            }
          },
          "metadata": {},
          "execution_count": 8
        }
      ]
    },
    {
      "cell_type": "code",
      "source": [
        "df.loc[df['relation'].isna(),'relation']=\"None\"\n",
        "#df = df.loc[~df['relation'].isna()] #remove Nones\n"
      ],
      "metadata": {
        "id": "agWiWweV1KSF"
      },
      "execution_count": 9,
      "outputs": []
    },
    {
      "cell_type": "code",
      "source": [
        "sentence=df['text'].unique()[31]\n",
        "sentence"
      ],
      "metadata": {
        "colab": {
          "base_uri": "https://localhost:8080/",
          "height": 70
        },
        "id": "HOEsvRNrvEAL",
        "outputId": "8da97af4-c081-4b73-cdad-771316d1fd5e"
      },
      "execution_count": 10,
      "outputs": [
        {
          "output_type": "execute_result",
          "data": {
            "text/plain": [
              "\"Among the mourners were Queen Sofía of Spain and Bernadette Chirac , the wife of President Jacques Chirac of France , President Ilham Aliyev of Azerbaijan and young cellists , bearing witness to Mr. Rostropovich 's reputation as a man of the world whose appeal cut across class lines .\""
            ],
            "application/vnd.google.colaboratory.intrinsic+json": {
              "type": "string"
            }
          },
          "metadata": {},
          "execution_count": 10
        }
      ]
    },
    {
      "cell_type": "code",
      "source": [
        "df.relation.value_counts() / len(df)"
      ],
      "metadata": {
        "colab": {
          "base_uri": "https://localhost:8080/"
        },
        "id": "uGQDXpcSbV40",
        "outputId": "4a677216-098b-4dda-b1da-8f2df9c5f87e"
      },
      "execution_count": 11,
      "outputs": [
        {
          "output_type": "execute_result",
          "data": {
            "text/plain": [
              "/people/person/place_lived                    0.176997\n",
              "/location/located_in                          0.153581\n",
              "/business/person/company                      0.125344\n",
              "/location/administrative_division/country     0.082645\n",
              "/people/person/nationality                    0.081956\n",
              "None                                          0.081956\n",
              "/business/location                            0.079890\n",
              "/location/country/administrative_divisions    0.066804\n",
              "/people/person/place_of_birth                 0.058540\n",
              "/business/company/advisors                    0.048898\n",
              "/people/deceasedperson/place_of_death         0.043388\n",
              "Name: relation, dtype: float64"
            ]
          },
          "metadata": {},
          "execution_count": 11
        }
      ]
    },
    {
      "cell_type": "code",
      "source": [
        "df[df['text']==sentence]"
      ],
      "metadata": {
        "id": "IoJvU-u6yJnw",
        "outputId": "6d179387-00f8-4a6b-d663-d9fbf793e68a",
        "colab": {
          "base_uri": "https://localhost:8080/",
          "height": 175
        }
      },
      "execution_count": 12,
      "outputs": [
        {
          "output_type": "execute_result",
          "data": {
            "text/plain": [
              "                                                  text             h_name  \\\n",
              "45   Among the mourners were Queen Sofía of Spain a...     Jacques Chirac   \n",
              "46   Among the mourners were Queen Sofía of Spain a...     Jacques Chirac   \n",
              "798  Among the mourners were Queen Sofía of Spain a...  Bernadette Chirac   \n",
              "799  Among the mourners were Queen Sofía of Spain a...  Bernadette Chirac   \n",
              "\n",
              "     t_name                    relation  \n",
              "45   France  /people/person/nationality  \n",
              "46   France  /people/person/place_lived  \n",
              "798  France  /people/person/nationality  \n",
              "799  France  /people/person/place_lived  "
            ],
            "text/html": [
              "\n",
              "  <div id=\"df-90eb2f2c-2aea-41c3-b788-668e9523809e\" class=\"colab-df-container\">\n",
              "    <div>\n",
              "<style scoped>\n",
              "    .dataframe tbody tr th:only-of-type {\n",
              "        vertical-align: middle;\n",
              "    }\n",
              "\n",
              "    .dataframe tbody tr th {\n",
              "        vertical-align: top;\n",
              "    }\n",
              "\n",
              "    .dataframe thead th {\n",
              "        text-align: right;\n",
              "    }\n",
              "</style>\n",
              "<table border=\"1\" class=\"dataframe\">\n",
              "  <thead>\n",
              "    <tr style=\"text-align: right;\">\n",
              "      <th></th>\n",
              "      <th>text</th>\n",
              "      <th>h_name</th>\n",
              "      <th>t_name</th>\n",
              "      <th>relation</th>\n",
              "    </tr>\n",
              "  </thead>\n",
              "  <tbody>\n",
              "    <tr>\n",
              "      <th>45</th>\n",
              "      <td>Among the mourners were Queen Sofía of Spain a...</td>\n",
              "      <td>Jacques Chirac</td>\n",
              "      <td>France</td>\n",
              "      <td>/people/person/nationality</td>\n",
              "    </tr>\n",
              "    <tr>\n",
              "      <th>46</th>\n",
              "      <td>Among the mourners were Queen Sofía of Spain a...</td>\n",
              "      <td>Jacques Chirac</td>\n",
              "      <td>France</td>\n",
              "      <td>/people/person/place_lived</td>\n",
              "    </tr>\n",
              "    <tr>\n",
              "      <th>798</th>\n",
              "      <td>Among the mourners were Queen Sofía of Spain a...</td>\n",
              "      <td>Bernadette Chirac</td>\n",
              "      <td>France</td>\n",
              "      <td>/people/person/nationality</td>\n",
              "    </tr>\n",
              "    <tr>\n",
              "      <th>799</th>\n",
              "      <td>Among the mourners were Queen Sofía of Spain a...</td>\n",
              "      <td>Bernadette Chirac</td>\n",
              "      <td>France</td>\n",
              "      <td>/people/person/place_lived</td>\n",
              "    </tr>\n",
              "  </tbody>\n",
              "</table>\n",
              "</div>\n",
              "    <div class=\"colab-df-buttons\">\n",
              "\n",
              "  <div class=\"colab-df-container\">\n",
              "    <button class=\"colab-df-convert\" onclick=\"convertToInteractive('df-90eb2f2c-2aea-41c3-b788-668e9523809e')\"\n",
              "            title=\"Convert this dataframe to an interactive table.\"\n",
              "            style=\"display:none;\">\n",
              "\n",
              "  <svg xmlns=\"http://www.w3.org/2000/svg\" height=\"24px\" viewBox=\"0 -960 960 960\">\n",
              "    <path d=\"M120-120v-720h720v720H120Zm60-500h600v-160H180v160Zm220 220h160v-160H400v160Zm0 220h160v-160H400v160ZM180-400h160v-160H180v160Zm440 0h160v-160H620v160ZM180-180h160v-160H180v160Zm440 0h160v-160H620v160Z\"/>\n",
              "  </svg>\n",
              "    </button>\n",
              "\n",
              "  <style>\n",
              "    .colab-df-container {\n",
              "      display:flex;\n",
              "      gap: 12px;\n",
              "    }\n",
              "\n",
              "    .colab-df-convert {\n",
              "      background-color: #E8F0FE;\n",
              "      border: none;\n",
              "      border-radius: 50%;\n",
              "      cursor: pointer;\n",
              "      display: none;\n",
              "      fill: #1967D2;\n",
              "      height: 32px;\n",
              "      padding: 0 0 0 0;\n",
              "      width: 32px;\n",
              "    }\n",
              "\n",
              "    .colab-df-convert:hover {\n",
              "      background-color: #E2EBFA;\n",
              "      box-shadow: 0px 1px 2px rgba(60, 64, 67, 0.3), 0px 1px 3px 1px rgba(60, 64, 67, 0.15);\n",
              "      fill: #174EA6;\n",
              "    }\n",
              "\n",
              "    .colab-df-buttons div {\n",
              "      margin-bottom: 4px;\n",
              "    }\n",
              "\n",
              "    [theme=dark] .colab-df-convert {\n",
              "      background-color: #3B4455;\n",
              "      fill: #D2E3FC;\n",
              "    }\n",
              "\n",
              "    [theme=dark] .colab-df-convert:hover {\n",
              "      background-color: #434B5C;\n",
              "      box-shadow: 0px 1px 3px 1px rgba(0, 0, 0, 0.15);\n",
              "      filter: drop-shadow(0px 1px 2px rgba(0, 0, 0, 0.3));\n",
              "      fill: #FFFFFF;\n",
              "    }\n",
              "  </style>\n",
              "\n",
              "    <script>\n",
              "      const buttonEl =\n",
              "        document.querySelector('#df-90eb2f2c-2aea-41c3-b788-668e9523809e button.colab-df-convert');\n",
              "      buttonEl.style.display =\n",
              "        google.colab.kernel.accessAllowed ? 'block' : 'none';\n",
              "\n",
              "      async function convertToInteractive(key) {\n",
              "        const element = document.querySelector('#df-90eb2f2c-2aea-41c3-b788-668e9523809e');\n",
              "        const dataTable =\n",
              "          await google.colab.kernel.invokeFunction('convertToInteractive',\n",
              "                                                    [key], {});\n",
              "        if (!dataTable) return;\n",
              "\n",
              "        const docLinkHtml = 'Like what you see? Visit the ' +\n",
              "          '<a target=\"_blank\" href=https://colab.research.google.com/notebooks/data_table.ipynb>data table notebook</a>'\n",
              "          + ' to learn more about interactive tables.';\n",
              "        element.innerHTML = '';\n",
              "        dataTable['output_type'] = 'display_data';\n",
              "        await google.colab.output.renderOutput(dataTable, element);\n",
              "        const docLink = document.createElement('div');\n",
              "        docLink.innerHTML = docLinkHtml;\n",
              "        element.appendChild(docLink);\n",
              "      }\n",
              "    </script>\n",
              "  </div>\n",
              "\n",
              "\n",
              "<div id=\"df-b2e0804b-7a34-4246-a88d-5adc1ffffc04\">\n",
              "  <button class=\"colab-df-quickchart\" onclick=\"quickchart('df-b2e0804b-7a34-4246-a88d-5adc1ffffc04')\"\n",
              "            title=\"Suggest charts\"\n",
              "            style=\"display:none;\">\n",
              "\n",
              "<svg xmlns=\"http://www.w3.org/2000/svg\" height=\"24px\"viewBox=\"0 0 24 24\"\n",
              "     width=\"24px\">\n",
              "    <g>\n",
              "        <path d=\"M19 3H5c-1.1 0-2 .9-2 2v14c0 1.1.9 2 2 2h14c1.1 0 2-.9 2-2V5c0-1.1-.9-2-2-2zM9 17H7v-7h2v7zm4 0h-2V7h2v10zm4 0h-2v-4h2v4z\"/>\n",
              "    </g>\n",
              "</svg>\n",
              "  </button>\n",
              "\n",
              "<style>\n",
              "  .colab-df-quickchart {\n",
              "      --bg-color: #E8F0FE;\n",
              "      --fill-color: #1967D2;\n",
              "      --hover-bg-color: #E2EBFA;\n",
              "      --hover-fill-color: #174EA6;\n",
              "      --disabled-fill-color: #AAA;\n",
              "      --disabled-bg-color: #DDD;\n",
              "  }\n",
              "\n",
              "  [theme=dark] .colab-df-quickchart {\n",
              "      --bg-color: #3B4455;\n",
              "      --fill-color: #D2E3FC;\n",
              "      --hover-bg-color: #434B5C;\n",
              "      --hover-fill-color: #FFFFFF;\n",
              "      --disabled-bg-color: #3B4455;\n",
              "      --disabled-fill-color: #666;\n",
              "  }\n",
              "\n",
              "  .colab-df-quickchart {\n",
              "    background-color: var(--bg-color);\n",
              "    border: none;\n",
              "    border-radius: 50%;\n",
              "    cursor: pointer;\n",
              "    display: none;\n",
              "    fill: var(--fill-color);\n",
              "    height: 32px;\n",
              "    padding: 0;\n",
              "    width: 32px;\n",
              "  }\n",
              "\n",
              "  .colab-df-quickchart:hover {\n",
              "    background-color: var(--hover-bg-color);\n",
              "    box-shadow: 0 1px 2px rgba(60, 64, 67, 0.3), 0 1px 3px 1px rgba(60, 64, 67, 0.15);\n",
              "    fill: var(--button-hover-fill-color);\n",
              "  }\n",
              "\n",
              "  .colab-df-quickchart-complete:disabled,\n",
              "  .colab-df-quickchart-complete:disabled:hover {\n",
              "    background-color: var(--disabled-bg-color);\n",
              "    fill: var(--disabled-fill-color);\n",
              "    box-shadow: none;\n",
              "  }\n",
              "\n",
              "  .colab-df-spinner {\n",
              "    border: 2px solid var(--fill-color);\n",
              "    border-color: transparent;\n",
              "    border-bottom-color: var(--fill-color);\n",
              "    animation:\n",
              "      spin 1s steps(1) infinite;\n",
              "  }\n",
              "\n",
              "  @keyframes spin {\n",
              "    0% {\n",
              "      border-color: transparent;\n",
              "      border-bottom-color: var(--fill-color);\n",
              "      border-left-color: var(--fill-color);\n",
              "    }\n",
              "    20% {\n",
              "      border-color: transparent;\n",
              "      border-left-color: var(--fill-color);\n",
              "      border-top-color: var(--fill-color);\n",
              "    }\n",
              "    30% {\n",
              "      border-color: transparent;\n",
              "      border-left-color: var(--fill-color);\n",
              "      border-top-color: var(--fill-color);\n",
              "      border-right-color: var(--fill-color);\n",
              "    }\n",
              "    40% {\n",
              "      border-color: transparent;\n",
              "      border-right-color: var(--fill-color);\n",
              "      border-top-color: var(--fill-color);\n",
              "    }\n",
              "    60% {\n",
              "      border-color: transparent;\n",
              "      border-right-color: var(--fill-color);\n",
              "    }\n",
              "    80% {\n",
              "      border-color: transparent;\n",
              "      border-right-color: var(--fill-color);\n",
              "      border-bottom-color: var(--fill-color);\n",
              "    }\n",
              "    90% {\n",
              "      border-color: transparent;\n",
              "      border-bottom-color: var(--fill-color);\n",
              "    }\n",
              "  }\n",
              "</style>\n",
              "\n",
              "  <script>\n",
              "    async function quickchart(key) {\n",
              "      const quickchartButtonEl =\n",
              "        document.querySelector('#' + key + ' button');\n",
              "      quickchartButtonEl.disabled = true;  // To prevent multiple clicks.\n",
              "      quickchartButtonEl.classList.add('colab-df-spinner');\n",
              "      try {\n",
              "        const charts = await google.colab.kernel.invokeFunction(\n",
              "            'suggestCharts', [key], {});\n",
              "      } catch (error) {\n",
              "        console.error('Error during call to suggestCharts:', error);\n",
              "      }\n",
              "      quickchartButtonEl.classList.remove('colab-df-spinner');\n",
              "      quickchartButtonEl.classList.add('colab-df-quickchart-complete');\n",
              "    }\n",
              "    (() => {\n",
              "      let quickchartButtonEl =\n",
              "        document.querySelector('#df-b2e0804b-7a34-4246-a88d-5adc1ffffc04 button');\n",
              "      quickchartButtonEl.style.display =\n",
              "        google.colab.kernel.accessAllowed ? 'block' : 'none';\n",
              "    })();\n",
              "  </script>\n",
              "</div>\n",
              "    </div>\n",
              "  </div>\n"
            ],
            "application/vnd.google.colaboratory.intrinsic+json": {
              "type": "dataframe",
              "summary": "{\n  \"name\": \"df[df['text']==sentence]\",\n  \"rows\": 4,\n  \"fields\": [\n    {\n      \"column\": \"text\",\n      \"properties\": {\n        \"dtype\": \"category\",\n        \"num_unique_values\": 1,\n        \"samples\": [\n          \"Among the mourners were Queen Sof\\u00eda of Spain and Bernadette Chirac , the wife of President Jacques Chirac of France , President Ilham Aliyev of Azerbaijan and young cellists , bearing witness to Mr. Rostropovich 's reputation as a man of the world whose appeal cut across class lines .\"\n        ],\n        \"semantic_type\": \"\",\n        \"description\": \"\"\n      }\n    },\n    {\n      \"column\": \"h_name\",\n      \"properties\": {\n        \"dtype\": \"string\",\n        \"num_unique_values\": 2,\n        \"samples\": [\n          \"Bernadette Chirac\"\n        ],\n        \"semantic_type\": \"\",\n        \"description\": \"\"\n      }\n    },\n    {\n      \"column\": \"t_name\",\n      \"properties\": {\n        \"dtype\": \"category\",\n        \"num_unique_values\": 1,\n        \"samples\": [\n          \"France\"\n        ],\n        \"semantic_type\": \"\",\n        \"description\": \"\"\n      }\n    },\n    {\n      \"column\": \"relation\",\n      \"properties\": {\n        \"dtype\": \"string\",\n        \"num_unique_values\": 2,\n        \"samples\": [\n          \"/people/person/place_lived\"\n        ],\n        \"semantic_type\": \"\",\n        \"description\": \"\"\n      }\n    }\n  ]\n}"
            }
          },
          "metadata": {},
          "execution_count": 12
        }
      ]
    },
    {
      "cell_type": "code",
      "source": [
        "len(df)"
      ],
      "metadata": {
        "colab": {
          "base_uri": "https://localhost:8080/"
        },
        "id": "1FgaZrFWoccn",
        "outputId": "2213a957-a2ad-4c3e-9ff2-5b9b52990638"
      },
      "execution_count": 13,
      "outputs": [
        {
          "output_type": "execute_result",
          "data": {
            "text/plain": [
              "1452"
            ]
          },
          "metadata": {},
          "execution_count": 13
        }
      ]
    },
    {
      "cell_type": "code",
      "source": [
        "df.text.nunique()"
      ],
      "metadata": {
        "colab": {
          "base_uri": "https://localhost:8080/"
        },
        "id": "2zfqs6a1odL0",
        "outputId": "1aeedbd9-f311-4eb5-f42d-3c784e48ce96"
      },
      "execution_count": 14,
      "outputs": [
        {
          "output_type": "execute_result",
          "data": {
            "text/plain": [
              "974"
            ]
          },
          "metadata": {},
          "execution_count": 14
        }
      ]
    },
    {
      "cell_type": "code",
      "source": [
        "import numpy as np\n",
        "from helper_functions import preprocess"
      ],
      "metadata": {
        "id": "kS-7Srfjvs6H"
      },
      "execution_count": 15,
      "outputs": []
    },
    {
      "cell_type": "code",
      "source": [
        "# make sure works for example with no relations\n",
        "data = preprocess(df)\n",
        "data[400]"
      ],
      "metadata": {
        "colab": {
          "base_uri": "https://localhost:8080/"
        },
        "id": "oRV-deeM3yoe",
        "outputId": "010d52cb-7635-4935-ef5d-9ffe1e457985"
      },
      "execution_count": 16,
      "outputs": [
        {
          "output_type": "execute_result",
          "data": {
            "text/plain": [
              "{'input': 'Yesterday , Mr. Sulzberger received support when Donald E. Graham , the chairman and chief executive of the Washington Post Company , urged investors to support the Times Company .',\n",
              " 'output': \"('Washington Post Company', '/business/company/advisors', 'Donald E. Graham'), ('Donald E. Graham', '/business/person/company', 'Washington Post Company')\"}"
            ]
          },
          "metadata": {},
          "execution_count": 16
        }
      ]
    },
    {
      "cell_type": "code",
      "source": [
        "# and exapmle with multiple relations\n",
        "data[230]"
      ],
      "metadata": {
        "colab": {
          "base_uri": "https://localhost:8080/"
        },
        "id": "O9P6cQoG2_SW",
        "outputId": "cb2c022d-7b02-4974-c572-9ae1a09ed9a5"
      },
      "execution_count": 17,
      "outputs": [
        {
          "output_type": "execute_result",
          "data": {
            "text/plain": [
              "{'input': 'The Real Estate Market Though prices have risen sharply in recent years , real estate agents and developers still talk up Port St. Lucie as a Florida bargain .',\n",
              " 'output': \"('St. Lucie', '/location/located_in', 'Florida')\"}"
            ]
          },
          "metadata": {},
          "execution_count": 17
        }
      ]
    },
    {
      "cell_type": "code",
      "source": [
        "# as well as your single relation\n",
        "data[:4]"
      ],
      "metadata": {
        "colab": {
          "base_uri": "https://localhost:8080/"
        },
        "id": "LxqA50iDxOXc",
        "outputId": "42c901a9-124f-4d11-bd86-0e7a99eabf81"
      },
      "execution_count": 18,
      "outputs": [
        {
          "output_type": "execute_result",
          "data": {
            "text/plain": [
              "[{'input': \"There were also performers who were born in Louisiana , including Lucinda Williams , Jerry Lee Lewis and Johnny Rivers , whose '' Secret Agent Man '' had a touch of bayou-country swamp-pop .\",\n",
              "  'output': \"('Johnny Rivers', '/people/person/place_of_birth', 'Louisiana'), ('Jerry Lee Lewis', '/people/person/place_of_birth', 'Louisiana')\"},\n",
              " {'input': \"Indeed , Mr. Chávez said Sunday that he wished Mr. Correa the '' best of luck '' from Venezuela , where he appeared on television with President Evo Morales of Bolivia to commemorate the opening of a milk processing plant built in western Venezuela with financing from Iran .\",\n",
              "  'output': \"('Evo Morales', '/people/person/nationality', 'Bolivia'), ('Evo Morales', '/people/person/place_lived', 'Bolivia')\"},\n",
              " {'input': \"Analysts contrast Mr. Chávez 's success at consolidating power in Venezuela with the troubles faced by President Evo Morales in Bolivia , where a constitution-writing assembly has been stalled by fractious delegates and regional power struggles .\",\n",
              "  'output': \"('Evo Morales', '/people/person/nationality', 'Bolivia')\"},\n",
              " {'input': \"Ecuador 's new president , Rafael Correa , joins not only Chávez but also Evo Morales of Bolivia and Daniel Ortega in Nicaragua .\",\n",
              "  'output': \"('Evo Morales', '/people/person/nationality', 'Bolivia')\"}]"
            ]
          },
          "metadata": {},
          "execution_count": 18
        }
      ]
    },
    {
      "cell_type": "code",
      "source": [
        "df.relation.value_counts(dropna=False)"
      ],
      "metadata": {
        "id": "EihweA1iVuWC",
        "colab": {
          "base_uri": "https://localhost:8080/"
        },
        "outputId": "e56053df-31ff-4874-a4e9-a75376a39923"
      },
      "execution_count": 19,
      "outputs": [
        {
          "output_type": "execute_result",
          "data": {
            "text/plain": [
              "/people/person/place_lived                    257\n",
              "/location/located_in                          223\n",
              "/business/person/company                      182\n",
              "/location/administrative_division/country     120\n",
              "/people/person/nationality                    119\n",
              "None                                          119\n",
              "/business/location                            116\n",
              "/location/country/administrative_divisions     97\n",
              "/people/person/place_of_birth                  85\n",
              "/business/company/advisors                     71\n",
              "/people/deceasedperson/place_of_death          63\n",
              "Name: relation, dtype: int64"
            ]
          },
          "metadata": {},
          "execution_count": 19
        }
      ]
    },
    {
      "cell_type": "code",
      "source": [
        "relations = np.sort(list(df.relation.unique()))\n",
        "relations = list(relations[:len(relations)-1])\n",
        "relations\n"
      ],
      "metadata": {
        "colab": {
          "base_uri": "https://localhost:8080/"
        },
        "id": "bPam1FbUbrJ9",
        "outputId": "69844b74-f3b9-4446-ed4b-81e6dfde2b67"
      },
      "execution_count": 20,
      "outputs": [
        {
          "output_type": "execute_result",
          "data": {
            "text/plain": [
              "['/business/company/advisors',\n",
              " '/business/location',\n",
              " '/business/person/company',\n",
              " '/location/administrative_division/country',\n",
              " '/location/country/administrative_divisions',\n",
              " '/location/located_in',\n",
              " '/people/deceasedperson/place_of_death',\n",
              " '/people/person/nationality',\n",
              " '/people/person/place_lived',\n",
              " '/people/person/place_of_birth']"
            ]
          },
          "metadata": {},
          "execution_count": 20
        }
      ]
    },
    {
      "cell_type": "code",
      "source": [
        "from helper_functions import formatting_func"
      ],
      "metadata": {
        "id": "6bzq7NFj7U4r"
      },
      "execution_count": 21,
      "outputs": []
    },
    {
      "cell_type": "code",
      "source": [
        "print(formatting_func(data[0]))"
      ],
      "metadata": {
        "id": "MCT6ILZ7VuMO",
        "colab": {
          "base_uri": "https://localhost:8080/"
        },
        "outputId": "978b7f4f-5cfe-4eac-f0c4-3055f14fb7b9"
      },
      "execution_count": 22,
      "outputs": [
        {
          "output_type": "stream",
          "name": "stdout",
          "text": [
            "[INST] You are an NLP expert tasked with entity and relation extraction. Here is a list of potential relation types: ['/business/company/advisors', '/business/location', '/business/person/company', '/location/administrative_division/country', '/location/country/administrative_divisions', '/location/located_in', '/people/deceasedperson/place_of_death', '/people/person/nationality', '/people/person/place_lived', '/people/person/place_of_birth'] \n",
            "What relations in the given list might be included in the given sentence? Make sure to use only relations from the list provided!\n",
            "The given sentence is: 'There were also performers who were born in Louisiana , including Lucinda Williams , Jerry Lee Lewis and Johnny Rivers , whose '' Secret Agent Man '' had a touch of bayou-country swamp-pop .'\n",
            "If none present, answer: None.\n",
            "Respond with relationship triples, e.g. (head entity 1, relation 1, tail entity 1), (head entity 2, relation 2, tail entity 2), (...) \n",
            "Take care, your answer is only valid if it follows the correct format! [\\INST]\n"
          ]
        }
      ]
    },
    {
      "cell_type": "markdown",
      "source": [
        "## Load a quantized Mistral:instruct model"
      ],
      "metadata": {
        "id": "kuWZqB3JRUS9"
      }
    },
    {
      "cell_type": "markdown",
      "source": [
        "https://huggingface.co/docs/peft/main/en/developer_guides/quantization\n",
        "\n",
        "\n",
        "...since PEFT methods only add extra trainable parameters, this allows you to train a quantized model with a PEFT adapter on top! Combining quantization with PEFT can be a good strategy for training even the largest models on a single GPU. For example, QLoRA is a method that quantizes a model to 4-bits and then trains it with LoRA.\n",
        "\n",
        "\n",
        "bitsandbytes is a quantization library with a Transformers integration. With this integration, you can quantize a model to 8 or 4-bits and enable many other options by configuring the BitsAndBytesConfig class. For example, you can:"
      ],
      "metadata": {
        "id": "wmmB-bubPSDf"
      }
    },
    {
      "cell_type": "code",
      "source": [
        "from transformers import AutoTokenizer, AutoModelForCausalLM, BitsAndBytesConfig\n",
        "import torch"
      ],
      "metadata": {
        "id": "5h83krKnsKG-"
      },
      "execution_count": 23,
      "outputs": []
    },
    {
      "cell_type": "markdown",
      "source": [
        " https://huggingface.co/docs/peft/main/en/developer_guides/quantization\n",
        "\n",
        "...For example, you can:\n",
        "\n",
        "* set load_in_4bit=True to quantize the model to 4-bits when you load it\n",
        "* set bnb_4bit_quant_type=\"nf4\" to use a special 4-bit data type for weights initialized from a normal distribution\n",
        "* set bnb_4bit_use_double_quant=True to use a nested quantization scheme to quantize the already quantized weights\n",
        "* set bnb_4bit_compute_dtype=torch.bfloat16 to use bfloat16 for faster computation"
      ],
      "metadata": {
        "id": "nummh5EBQwX1"
      }
    },
    {
      "cell_type": "code",
      "source": [
        "model_id = \"mistralai/Mistral-7B-Instruct-v0.2\"\n",
        "\n",
        "bnb_config = BitsAndBytesConfig(\n",
        "    load_in_4bit=True,\n",
        "    bnb_4bit_use_double_quant=True,\n",
        "    bnb_4bit_quant_type=\"nf4\",\n",
        "    bnb_4bit_compute_dtype=torch.bfloat16\n",
        ")\n"
      ],
      "metadata": {
        "id": "bBGal5Uz0Dpi"
      },
      "execution_count": 24,
      "outputs": []
    },
    {
      "cell_type": "markdown",
      "source": [
        "Pass the config to the from_pretrained method."
      ],
      "metadata": {
        "id": "pqjzb8TkQ7rZ"
      }
    },
    {
      "cell_type": "code",
      "source": [
        "model = AutoModelForCausalLM.from_pretrained(model_id, quantization_config=bnb_config, device_map=\"auto\")"
      ],
      "metadata": {
        "colab": {
          "base_uri": "https://localhost:8080/",
          "height": 397,
          "referenced_widgets": [
            "25ce777a0f1c4596a5a434a00a1dcb8c",
            "da0d191ebe284fb7bc44030369df8742",
            "4b10a5ce933248fd9e6667f53e79a8c7",
            "18a2aba8d8bf410c85ef9cb86c5d91c1",
            "7b104a54327943e5a516825f209f113f",
            "04881b03f5eb4168b159fc22d0ccd201",
            "cc8a95b2861b4f84bbae1c822e7b8f35",
            "f62f9526f84b40d5bcc94c4b46bc7d6e",
            "fccb9cd52c88473e97392b73046bf328",
            "321d1bbf366d4a76b8bef3a415699f48",
            "2164d58ba5c54e13ac3e69e806a2cad7",
            "5fe4c7753ff24a3296625bd6970279d0",
            "66725c3fff2f4945ab1eed1a7e831b23",
            "c8d14d67ae7e4deeb9052f8765935c90",
            "55d2799bfd90482ba9e66d4dcacd324f",
            "2ce20eeec79c4e2dbdcac7e36e3ba278",
            "8863402a89ff4db791d39be4f97da0d5",
            "e33ffb07f8c746a19775ad423c13969f",
            "7163964e36954c7aa6a2d7dec93a8db1",
            "a943bff8917946f9a477efdc19f3f4c5",
            "8172f06b54ae477a8c40681a362b125a",
            "01366a7cd3714e5eb161470de86fa9ed",
            "af25340aacca4e9385d244a7be0f1de5",
            "d22dc5207e1e459aabc5907d40419d8f",
            "56efcc11ce0c4ac2bc889a7eb51bee8e",
            "4533a1f6e98948abb03eb00f5ab3b815",
            "ded07dc55e1f434b8205c5e22e0149da",
            "adf0029073644adca65efa1ecc99ec91",
            "280ef18bd4cb429aaf872975088e316d",
            "97c5ac249a2e4667be3fca0d874cae7f",
            "bf496782f5594c549c5f200f704e0aad",
            "cf771093597e40e6bdecbcc64711feab",
            "e032196821044993971e312883868774",
            "ef75358d438c4959b4132e6399eed7e9",
            "09d56862fc294f51b67e920d20408687",
            "df20c00a31484fd5917f7fcb188a73d8",
            "7522fbc18c8440eebe6454df59dd86cd",
            "80514a9ea87d40739c03a6dbff491145",
            "a0e526be402f469e9ffa9783fa841559",
            "505cde94eaf64b69bcae7ae9e4cb22a3",
            "799f3dfc7875416eb62e01b0331a2aa3",
            "abc595c8aa454aa1af9982e570853b05",
            "14dae2a9cb894ce1a188f18e679e52e2",
            "c05e409b246847c6a9defd92ce63c910",
            "15077345a57341f99724ea5a906ec51a",
            "be9d2d15685c44e5857c025ae0d03794",
            "ee59109474af48199a9ddad4ebc4b693",
            "014b5a5793ae4db7aa07d84bcdbf2faf",
            "2cf6c6f2eec44983835201b6b2ce3544",
            "ebff982201d745c78d32e5d6fc32f91d",
            "f73151bf6bee4f08bb62b28291d9c06c",
            "2e2b4f69965342dba192e02b7d20474b",
            "d39cf4900bae41debb7983bfe2060685",
            "2c81f70244de4f2cac635d26d6d566ec",
            "8f05e0ddcd434afea41f254a3295fcfb",
            "fc7dd68b709540659e7dc1b09acba39a",
            "fff25752a3d64ded96731a5c04a96996",
            "7db1db184d7a44a0a5af3456eb2a4a6c",
            "783442179cce423386b3b704103d7be3",
            "82a3af029275430c8e3c83d780272c90",
            "d3e1f9b344684c80ab005d1628d7b067",
            "8ee45f7d4dcb4360bbf2ef3cdf1d44fd",
            "be319fb5b70d4692985eb3434c17fde1",
            "fd4254d5d79d4b23a3a4c2776c643e86",
            "43431603150a4631af99a81f7b5aa2a4",
            "c426f8a40d5f47f2bb6059a2fa0a916d",
            "9ac52387b7a64f41a5d564ee87ce839c",
            "af831843daea4cac96a003a7ad5e94e8",
            "22db0539a2cc4167b98976a35d2a13b5",
            "a2dbe72cf9914384a224e53dfc941e76",
            "530f0e99916d472592b064950bb9260f",
            "c018249ce2ba47c7a98be801d212f6e4",
            "a70f65bb928544dcb4e923ff5ed67026",
            "1c25b4156fc74ea98f045ea3d34a80d5",
            "616b763a29394451a6f500cc3552eece",
            "3f01baadaa644eb895325e73ca414fe3",
            "ead7d48ef91642cc97f8389df998db5d",
            "62fffcbc96c74f6fbd1167302fbcb994",
            "b85e951f138746fd8d98079b69929e36",
            "4a85562633714f49960e0ddf76e6cc0b",
            "14647cd09f8b435f8aa3ae5c17065532",
            "70b1b5e7387a47ee8b0ce2129ea8ca17",
            "e987d217be2843e2a8e5f644b84e185b",
            "46bb0f3f451e47e0bca972c9d3ae1159",
            "d2f792271e1c4ac694543c22c9e72df1",
            "4e4cc36febe4484dbf748b9c540e4591",
            "734d42c286224040b6138882e83fe0e6",
            "ae5a480eab1d467f81cd37fccd5e9bde"
          ]
        },
        "id": "K2iMaEKB5N7C",
        "outputId": "92960c4d-b51f-47b9-c2c3-66f626901177"
      },
      "execution_count": 25,
      "outputs": [
        {
          "output_type": "stream",
          "name": "stderr",
          "text": [
            "/usr/local/lib/python3.10/dist-packages/huggingface_hub/utils/_token.py:88: UserWarning: \n",
            "The secret `HF_TOKEN` does not exist in your Colab secrets.\n",
            "To authenticate with the Hugging Face Hub, create a token in your settings tab (https://huggingface.co/settings/tokens), set it as secret in your Google Colab and restart your session.\n",
            "You will be able to reuse this secret in all of your notebooks.\n",
            "Please note that authentication is recommended but still optional to access public models or datasets.\n",
            "  warnings.warn(\n"
          ]
        },
        {
          "output_type": "display_data",
          "data": {
            "text/plain": [
              "config.json:   0%|          | 0.00/596 [00:00<?, ?B/s]"
            ],
            "application/vnd.jupyter.widget-view+json": {
              "version_major": 2,
              "version_minor": 0,
              "model_id": "25ce777a0f1c4596a5a434a00a1dcb8c"
            }
          },
          "metadata": {}
        },
        {
          "output_type": "display_data",
          "data": {
            "text/plain": [
              "model.safetensors.index.json:   0%|          | 0.00/25.1k [00:00<?, ?B/s]"
            ],
            "application/vnd.jupyter.widget-view+json": {
              "version_major": 2,
              "version_minor": 0,
              "model_id": "5fe4c7753ff24a3296625bd6970279d0"
            }
          },
          "metadata": {}
        },
        {
          "output_type": "display_data",
          "data": {
            "text/plain": [
              "Downloading shards:   0%|          | 0/3 [00:00<?, ?it/s]"
            ],
            "application/vnd.jupyter.widget-view+json": {
              "version_major": 2,
              "version_minor": 0,
              "model_id": "af25340aacca4e9385d244a7be0f1de5"
            }
          },
          "metadata": {}
        },
        {
          "output_type": "display_data",
          "data": {
            "text/plain": [
              "model-00001-of-00003.safetensors:   0%|          | 0.00/4.94G [00:00<?, ?B/s]"
            ],
            "application/vnd.jupyter.widget-view+json": {
              "version_major": 2,
              "version_minor": 0,
              "model_id": "ef75358d438c4959b4132e6399eed7e9"
            }
          },
          "metadata": {}
        },
        {
          "output_type": "display_data",
          "data": {
            "text/plain": [
              "model-00002-of-00003.safetensors:   0%|          | 0.00/5.00G [00:00<?, ?B/s]"
            ],
            "application/vnd.jupyter.widget-view+json": {
              "version_major": 2,
              "version_minor": 0,
              "model_id": "15077345a57341f99724ea5a906ec51a"
            }
          },
          "metadata": {}
        },
        {
          "output_type": "display_data",
          "data": {
            "text/plain": [
              "model-00003-of-00003.safetensors:   0%|          | 0.00/4.54G [00:00<?, ?B/s]"
            ],
            "application/vnd.jupyter.widget-view+json": {
              "version_major": 2,
              "version_minor": 0,
              "model_id": "fc7dd68b709540659e7dc1b09acba39a"
            }
          },
          "metadata": {}
        },
        {
          "output_type": "display_data",
          "data": {
            "text/plain": [
              "Loading checkpoint shards:   0%|          | 0/3 [00:00<?, ?it/s]"
            ],
            "application/vnd.jupyter.widget-view+json": {
              "version_major": 2,
              "version_minor": 0,
              "model_id": "9ac52387b7a64f41a5d564ee87ce839c"
            }
          },
          "metadata": {}
        },
        {
          "output_type": "display_data",
          "data": {
            "text/plain": [
              "generation_config.json:   0%|          | 0.00/111 [00:00<?, ?B/s]"
            ],
            "application/vnd.jupyter.widget-view+json": {
              "version_major": 2,
              "version_minor": 0,
              "model_id": "62fffcbc96c74f6fbd1167302fbcb994"
            }
          },
          "metadata": {}
        }
      ]
    },
    {
      "cell_type": "markdown",
      "source": [
        "## Load tokenizer"
      ],
      "metadata": {
        "id": "G_mjxEvYRcLI"
      }
    },
    {
      "cell_type": "markdown",
      "source": [
        "https://huggingface.co/docs/transformers/en/llm_tutorial#wrong-padding-side\n",
        "\n",
        "LLMs are decoder-only architectures, meaning they continue to iterate on your input prompt. If your inputs do not have the same length, they need to be padded. Since LLMs are not trained to continue from pad tokens, your input needs to be left-padded. Make sure you also don’t forget to pass the attention mask to generate!\n",
        "\n",
        "tokenizer.pad_token = tokenizer.eos_token  # Most LLMs don't have a pad token by default\n"
      ],
      "metadata": {
        "id": "Gb3knHaXjgx7"
      }
    },
    {
      "cell_type": "code",
      "source": [
        "tokenizer = AutoTokenizer.from_pretrained(model_id,\n",
        "                                        padding_side=\"left\") # padding on left from brewdev notebook\n",
        "tokenizer.pad_token = tokenizer.eos_token\n"
      ],
      "metadata": {
        "id": "oGD3jrkqsWUe",
        "colab": {
          "base_uri": "https://localhost:8080/",
          "height": 145,
          "referenced_widgets": [
            "373ca522c2bf4497891187ee10a9d801",
            "fb6e7d388c4041f68d7af35587703390",
            "4d9d1ee4db1d4e9a869ab1c2d58ad0dc",
            "fcf400cf30cb4dfd823e469f42cc4a11",
            "88b3e86d8cbb432e97d57e2a8e5df5de",
            "8f81adc799a944088b272619167898ae",
            "f94ee01d3cb24c7eb773e2aadda5d627",
            "ef5d4e3d960540258ccec19ce27a7624",
            "0279b4590fa54488b4c98552dd9eb97c",
            "4472f5e4616943a0aef21b440078aa10",
            "7a5709cab7514179977cb7581550eeb3",
            "1c75b453b1c149d28e6cd1df35564597",
            "664e134cdb1d4c1191ef893cc6879896",
            "f350b1369d8b4480b41feecc2bdd0e13",
            "c6a1e4158c604f2ba4eb15af23c7beca",
            "8d1ffc8bd60242de90e90b8717a70536",
            "d7598b9f43c94901814cf139d77cfa61",
            "14a1bb32543d46d9a0364f7a6689d93d",
            "19c52a1ee24c4eb1a787f1b8fb9bf157",
            "f2dd82a1df534f578fe867dad855938e",
            "84cdf011c0534742942c41c5629af7b0",
            "ed8d32a3f3fb439dbea6374ed5dc4994",
            "69eba7a83cce41b6a8d43a1d9c4620f7",
            "3b4d8227579b457793bc0de71b08b955",
            "fa373cdb609f4eee9e972d6ede3f15a0",
            "da4fe369ad8840ef9ad82fb279f0ebef",
            "ca19f75a54b74ded88f1488aae3a012b",
            "855001756d0440b29265685c82249121",
            "c95c2e12ef45408692d071627f2aefeb",
            "9ea708a9cde64c4483edb9f779017361",
            "4c281b3ba26d4b35b70e6f642126ac1f",
            "b0b68e41c9b34cc28c9a90d8224f691d",
            "9bec37e3adc7430da5d9d544f3485fe7",
            "9baca09503474f3caf34e42b8d36a402",
            "054127af5c244bbd80002cd66a6e9957",
            "ea9b8dc143494691bd51a12cc6264dba",
            "6e49a38142744e6eb556be2f239b41e5",
            "64beb1dd016a45d195cee762b53a0eee",
            "90930b3814db40a2af1962cef8716581",
            "5830f4e206be44cca1e9027230c40930",
            "3e9b8c2b5ab7488a99f08b692eb83963",
            "79298d7a48b94d1a9098e7835f736d0b",
            "cf89682bc0e445cf92cefa177d6040fe",
            "7ff045c2dded49ea8598ad0688140952"
          ]
        },
        "outputId": "9725dda6-b39f-491a-b2d3-afbd69b1d718"
      },
      "execution_count": 26,
      "outputs": [
        {
          "output_type": "display_data",
          "data": {
            "text/plain": [
              "tokenizer_config.json:   0%|          | 0.00/1.46k [00:00<?, ?B/s]"
            ],
            "application/vnd.jupyter.widget-view+json": {
              "version_major": 2,
              "version_minor": 0,
              "model_id": "373ca522c2bf4497891187ee10a9d801"
            }
          },
          "metadata": {}
        },
        {
          "output_type": "display_data",
          "data": {
            "text/plain": [
              "tokenizer.model:   0%|          | 0.00/493k [00:00<?, ?B/s]"
            ],
            "application/vnd.jupyter.widget-view+json": {
              "version_major": 2,
              "version_minor": 0,
              "model_id": "1c75b453b1c149d28e6cd1df35564597"
            }
          },
          "metadata": {}
        },
        {
          "output_type": "display_data",
          "data": {
            "text/plain": [
              "tokenizer.json:   0%|          | 0.00/1.80M [00:00<?, ?B/s]"
            ],
            "application/vnd.jupyter.widget-view+json": {
              "version_major": 2,
              "version_minor": 0,
              "model_id": "69eba7a83cce41b6a8d43a1d9c4620f7"
            }
          },
          "metadata": {}
        },
        {
          "output_type": "display_data",
          "data": {
            "text/plain": [
              "special_tokens_map.json:   0%|          | 0.00/72.0 [00:00<?, ?B/s]"
            ],
            "application/vnd.jupyter.widget-view+json": {
              "version_major": 2,
              "version_minor": 0,
              "model_id": "9baca09503474f3caf34e42b8d36a402"
            }
          },
          "metadata": {}
        }
      ]
    },
    {
      "cell_type": "markdown",
      "source": [
        "\n",
        "\n",
        "Now let's tokenize again with padding and truncation, and set up the tokenize function to make labels and input_ids the same. This is basically what self-supervised fine-tuning is.\n"
      ],
      "metadata": {
        "id": "bXwxRdlBgVe5"
      }
    },
    {
      "cell_type": "code",
      "source": [
        "max_length = 512 # This was an appropriate max length for my dataset\n",
        "\n",
        "def generate_and_tokenize_prompt(prompt):\n",
        "    result = tokenizer(\n",
        "        formatting_func(prompt),\n",
        "        truncation=True,\n",
        "        max_length=max_length,\n",
        "        padding=\"max_length\",\n",
        "    )\n",
        "    result[\"labels\"] = result[\"input_ids\"].copy()\n",
        "    return result"
      ],
      "metadata": {
        "id": "y6yXX_RafK-M"
      },
      "execution_count": 27,
      "outputs": []
    },
    {
      "cell_type": "code",
      "source": [
        "def generate_and_tokenize_prompt(prompt):\n",
        "    return tokenizer(formatting_func(prompt))"
      ],
      "metadata": {
        "id": "I0_ZtZoBfK2D"
      },
      "execution_count": 28,
      "outputs": []
    },
    {
      "cell_type": "markdown",
      "source": [
        "## Evaluate model out of the box\n",
        "\n"
      ],
      "metadata": {
        "id": "eUbYapyPbHJG"
      }
    },
    {
      "cell_type": "code",
      "source": [
        "from helper_functions import get_relations, get_tuples, get_scores"
      ],
      "metadata": {
        "id": "r8s88sMcT20R"
      },
      "execution_count": 29,
      "outputs": []
    },
    {
      "cell_type": "code",
      "source": [
        "\"\"\"eval_prompt = formatting_func(data[230])\n",
        "print(eval_prompt)\"\"\""
      ],
      "metadata": {
        "colab": {
          "base_uri": "https://localhost:8080/",
          "height": 35
        },
        "id": "JRCuFLzPb4DK",
        "outputId": "038602eb-61f5-4563-d83d-4555f32d108e"
      },
      "execution_count": 30,
      "outputs": [
        {
          "output_type": "execute_result",
          "data": {
            "text/plain": [
              "'eval_prompt = formatting_func(data[230])\\nprint(eval_prompt)'"
            ],
            "application/vnd.google.colaboratory.intrinsic+json": {
              "type": "string"
            }
          },
          "metadata": {},
          "execution_count": 30
        }
      ]
    },
    {
      "cell_type": "code",
      "source": [
        "# Init an eval tokenizer that doesn't add padding or eos token\n",
        "eval_tokenizer = AutoTokenizer.from_pretrained(\n",
        "    model_id,\n",
        "    add_bos_token=True,\n",
        ")\n"
      ],
      "metadata": {
        "id": "6T3tB41lcGjT"
      },
      "execution_count": 31,
      "outputs": []
    },
    {
      "cell_type": "markdown",
      "source": [
        "https://huggingface.co/docs/transformers/en/generation_strategies\n",
        "\n"
      ],
      "metadata": {
        "id": "SK21Hxe0k5uV"
      }
    },
    {
      "cell_type": "code",
      "source": [
        "\"\"\"model_input = eval_tokenizer(eval_prompt, return_tensors=\"pt\").to(\"cuda\")\n",
        "\n",
        "model.eval()\n",
        "with torch.no_grad():\n",
        "    response  = eval_tokenizer.decode(model.generate(**model_input,\n",
        "                    max_new_tokens=256, repetition_penalty=1.15,\n",
        "                    pad_token_id=eval_tokenizer.eos_token_id)[0], skip_special_tokens=True)\n",
        "    response = response.replace(eval_prompt, \"\")\n",
        "    print(response)\"\"\""
      ],
      "metadata": {
        "colab": {
          "base_uri": "https://localhost:8080/",
          "height": 70
        },
        "id": "Vq8CtOhQcMEU",
        "outputId": "2cf20f33-f658-445d-9765-cc1589b60172"
      },
      "execution_count": 32,
      "outputs": [
        {
          "output_type": "execute_result",
          "data": {
            "text/plain": [
              "'model_input = eval_tokenizer(eval_prompt, return_tensors=\"pt\").to(\"cuda\")\\n\\nmodel.eval()\\nwith torch.no_grad():\\n    response  = eval_tokenizer.decode(model.generate(**model_input,\\n                    max_new_tokens=256, repetition_penalty=1.15,\\n                    pad_token_id=eval_tokenizer.eos_token_id)[0], skip_special_tokens=True)\\n    response = response.replace(eval_prompt, \"\")\\n    print(response)'"
            ],
            "application/vnd.google.colaboratory.intrinsic+json": {
              "type": "string"
            }
          },
          "metadata": {},
          "execution_count": 32
        }
      ]
    },
    {
      "cell_type": "code",
      "source": [
        "\"\"\"response\"\"\""
      ],
      "metadata": {
        "colab": {
          "base_uri": "https://localhost:8080/",
          "height": 35
        },
        "id": "_XcYI1pO068C",
        "outputId": "b8b7a87b-26ab-445a-dd5b-26598f721cd3"
      },
      "execution_count": 33,
      "outputs": [
        {
          "output_type": "execute_result",
          "data": {
            "text/plain": [
              "'response'"
            ],
            "application/vnd.google.colaboratory.intrinsic+json": {
              "type": "string"
            }
          },
          "metadata": {},
          "execution_count": 33
        }
      ]
    },
    {
      "cell_type": "code",
      "source": [
        "\"\"\"predicted_relations = get_tuples(response.replace(eval_prompt, \"\"))\n",
        "predicted_relations\"\"\""
      ],
      "metadata": {
        "id": "rMEy0M8X8kQW",
        "colab": {
          "base_uri": "https://localhost:8080/",
          "height": 35
        },
        "outputId": "2978fea4-1cb1-4214-c964-fd92e43d0c49"
      },
      "execution_count": 34,
      "outputs": [
        {
          "output_type": "execute_result",
          "data": {
            "text/plain": [
              "'predicted_relations = get_tuples(response.replace(eval_prompt, \"\"))\\npredicted_relations'"
            ],
            "application/vnd.google.colaboratory.intrinsic+json": {
              "type": "string"
            }
          },
          "metadata": {},
          "execution_count": 34
        }
      ]
    },
    {
      "cell_type": "code",
      "source": [
        "#predicted_relations.append(('Evo Morales', '/people/person/nationality', 'Bolivia'))"
      ],
      "metadata": {
        "id": "VxBQ0tmQ8cLX"
      },
      "execution_count": 35,
      "outputs": []
    },
    {
      "cell_type": "code",
      "source": [
        "#predicted_relations"
      ],
      "metadata": {
        "id": "85hTg1a8Ig10"
      },
      "execution_count": 36,
      "outputs": []
    },
    {
      "cell_type": "code",
      "source": [
        "\"\"\"import helper_functions\n",
        "from importlib import reload\n",
        "reload(helper_functions)\"\"\""
      ],
      "metadata": {
        "colab": {
          "base_uri": "https://localhost:8080/",
          "height": 35
        },
        "id": "8U6ZVf47I6bf",
        "outputId": "4975f23f-cc52-4aff-fe46-b1bf1b17e8c6"
      },
      "execution_count": 37,
      "outputs": [
        {
          "output_type": "execute_result",
          "data": {
            "text/plain": [
              "'import helper_functions\\nfrom importlib import reload\\nreload(helper_functions)'"
            ],
            "application/vnd.google.colaboratory.intrinsic+json": {
              "type": "string"
            }
          },
          "metadata": {},
          "execution_count": 37
        }
      ]
    },
    {
      "cell_type": "code",
      "source": [
        "\"\"\"expected_relations = get_relations(data[230])\n",
        "expected_relations\"\"\""
      ],
      "metadata": {
        "colab": {
          "base_uri": "https://localhost:8080/",
          "height": 35
        },
        "id": "ZanLDyNxS42r",
        "outputId": "10c44222-c597-4de2-a436-661cc7c938ae"
      },
      "execution_count": 38,
      "outputs": [
        {
          "output_type": "execute_result",
          "data": {
            "text/plain": [
              "'expected_relations = get_relations(data[230])\\nexpected_relations'"
            ],
            "application/vnd.google.colaboratory.intrinsic+json": {
              "type": "string"
            }
          },
          "metadata": {},
          "execution_count": 38
        }
      ]
    },
    {
      "cell_type": "code",
      "source": [
        "\"\"\"get_scores(expected_relations, [\"None\"])\"\"\""
      ],
      "metadata": {
        "colab": {
          "base_uri": "https://localhost:8080/",
          "height": 35
        },
        "id": "XxJfWFEm8Ti9",
        "outputId": "e835107b-774d-4753-b1b8-951c8d34376b"
      },
      "execution_count": 39,
      "outputs": [
        {
          "output_type": "execute_result",
          "data": {
            "text/plain": [
              "'get_scores(expected_relations, [\"None\"])'"
            ],
            "application/vnd.google.colaboratory.intrinsic+json": {
              "type": "string"
            }
          },
          "metadata": {},
          "execution_count": 39
        }
      ]
    },
    {
      "cell_type": "code",
      "source": [
        "\"\"\"import locale\n",
        "def getpreferredencoding(do_setlocale = True):\n",
        "    return \"UTF-8\"\n",
        "locale.getpreferredencoding = getpreferredencoding\"\"\""
      ],
      "metadata": {
        "id": "ehFFvcJwDA03",
        "colab": {
          "base_uri": "https://localhost:8080/",
          "height": 35
        },
        "outputId": "eb95d2bf-7552-4035-d25b-d6a933414794"
      },
      "execution_count": 40,
      "outputs": [
        {
          "output_type": "execute_result",
          "data": {
            "text/plain": [
              "'import locale\\ndef getpreferredencoding(do_setlocale = True):\\n    return \"UTF-8\"\\nlocale.getpreferredencoding = getpreferredencoding'"
            ],
            "application/vnd.google.colaboratory.intrinsic+json": {
              "type": "string"
            }
          },
          "metadata": {},
          "execution_count": 40
        }
      ]
    },
    {
      "cell_type": "code",
      "source": [
        "\"\"\"pip install pyarrow==11.0.0\"\"\""
      ],
      "metadata": {
        "colab": {
          "base_uri": "https://localhost:8080/",
          "height": 35
        },
        "id": "0zRs-43KC6jW",
        "outputId": "ed1638cd-76cc-41c9-b687-e63d6fd8b4f1"
      },
      "execution_count": 41,
      "outputs": [
        {
          "output_type": "execute_result",
          "data": {
            "text/plain": [
              "'pip install pyarrow==11.0.0'"
            ],
            "application/vnd.google.colaboratory.intrinsic+json": {
              "type": "string"
            }
          },
          "metadata": {},
          "execution_count": 41
        }
      ]
    },
    {
      "cell_type": "code",
      "source": [
        "from sklearn.model_selection import train_test_split\n",
        "from datasets import Dataset\n",
        "\n",
        "# Convert list of dictionaries to DataFrame\n",
        "df = pd.DataFrame(data)\n",
        "\n",
        "# Split DataFrame into train and test\n",
        "train_df, test_df = train_test_split(df, test_size=0.2, random_state=42)\n",
        "\n",
        "# Convert back to datasets\n",
        "train_dataset = Dataset.from_pandas(train_df)\n",
        "test_dataset = Dataset.from_pandas(test_df)\n",
        "\n"
      ],
      "metadata": {
        "id": "tD_mBzpgg7rY"
      },
      "execution_count": 42,
      "outputs": []
    },
    {
      "cell_type": "code",
      "source": [
        "# Optionally, you can remove the pandas index column\n",
        "train_dataset = train_dataset.remove_columns('__index_level_0__')\n",
        "test_dataset = test_dataset.remove_columns('__index_level_0__')\n",
        "\n"
      ],
      "metadata": {
        "id": "M5M1JkSahu5v"
      },
      "execution_count": 43,
      "outputs": []
    },
    {
      "cell_type": "code",
      "source": [
        "train_dataset"
      ],
      "metadata": {
        "colab": {
          "base_uri": "https://localhost:8080/"
        },
        "id": "yAeevXzRhBn4",
        "outputId": "dc7d075f-e45b-49f7-f80b-fc370f867fb4"
      },
      "execution_count": 44,
      "outputs": [
        {
          "output_type": "execute_result",
          "data": {
            "text/plain": [
              "Dataset({\n",
              "    features: ['input', 'output'],\n",
              "    num_rows: 779\n",
              "})"
            ]
          },
          "metadata": {},
          "execution_count": 44
        }
      ]
    },
    {
      "cell_type": "code",
      "source": [
        "tokenized_train_dataset = train_dataset.map(generate_and_tokenize_prompt)\n",
        "tokenized_test_dataset = test_dataset.map(generate_and_tokenize_prompt)"
      ],
      "metadata": {
        "colab": {
          "base_uri": "https://localhost:8080/",
          "height": 81,
          "referenced_widgets": [
            "2c313a52d7aa48bb8bc45d4ce0140535",
            "b3c3cac018db49ff88716f8467a40382",
            "98d0f4b9e3d54365abdb83e9efbedb57",
            "5d224f985819431f86bc9e9e844561f7",
            "796968e5cdce4e31a452401327fe20ca",
            "97811774c57943188d32b971f85aed13",
            "96e6a026bc284db5892d8b57a55bd0d7",
            "cea673a249b04ab6b8ae0bd45e1e2be1",
            "86adef103b01498f902e17b069a4bb3c",
            "772e6fe5e6d24a0fa17f96d091adb686",
            "b7a9e9b3daa6446b8b9a898dfff6e691",
            "d284a93912cb4a75b34dc176f247b6b2",
            "3da2f895d20e47759dde7314cef523ed",
            "6d7301a4e42e481d93ee485aa66eadd0",
            "41514fb833a048179fddb225fcdb4832",
            "1dcb33ebc30d4bea91ac5273d082824a",
            "f9bc9323863e4a589ebe79a26052b28a",
            "abd1d3832fbc48c4b448d1913d2b4724",
            "fa82511651a243cfb4e56443797ada9b",
            "15c2b69f365e4fb68707ad97a7359525",
            "4d95c0e377e2446183bd808b125f599a",
            "1ffa93bfa0654d44a8026aec956cb27e"
          ]
        },
        "id": "q4ccG3Rrh0Y9",
        "outputId": "658e09c0-49dc-4303-957d-7223bd5b417a"
      },
      "execution_count": 45,
      "outputs": [
        {
          "output_type": "display_data",
          "data": {
            "text/plain": [
              "Map:   0%|          | 0/779 [00:00<?, ? examples/s]"
            ],
            "application/vnd.jupyter.widget-view+json": {
              "version_major": 2,
              "version_minor": 0,
              "model_id": "2c313a52d7aa48bb8bc45d4ce0140535"
            }
          },
          "metadata": {}
        },
        {
          "output_type": "display_data",
          "data": {
            "text/plain": [
              "Map:   0%|          | 0/195 [00:00<?, ? examples/s]"
            ],
            "application/vnd.jupyter.widget-view+json": {
              "version_major": 2,
              "version_minor": 0,
              "model_id": "d284a93912cb4a75b34dc176f247b6b2"
            }
          },
          "metadata": {}
        }
      ]
    },
    {
      "cell_type": "code",
      "source": [
        "\"\"\"tokenizer.decode(tokenized_train_dataset[1]['input_ids'])\"\"\""
      ],
      "metadata": {
        "colab": {
          "base_uri": "https://localhost:8080/",
          "height": 35
        },
        "id": "zQQeuH6iiG1Y",
        "outputId": "8debc62f-bb19-4315-9aec-092edb085a9b"
      },
      "execution_count": 46,
      "outputs": [
        {
          "output_type": "execute_result",
          "data": {
            "text/plain": [
              "\"tokenizer.decode(tokenized_train_dataset[1]['input_ids'])\""
            ],
            "application/vnd.google.colaboratory.intrinsic+json": {
              "type": "string"
            }
          },
          "metadata": {},
          "execution_count": 46
        }
      ]
    },
    {
      "cell_type": "code",
      "source": [
        "\"\"\"len(tokenized_train_dataset[1]['input_ids'])\"\"\""
      ],
      "metadata": {
        "id": "LRQ4KG-QE29y",
        "colab": {
          "base_uri": "https://localhost:8080/",
          "height": 35
        },
        "outputId": "c851654c-7dbd-4ecd-f168-f5e247ea5c87"
      },
      "execution_count": 47,
      "outputs": [
        {
          "output_type": "execute_result",
          "data": {
            "text/plain": [
              "\"len(tokenized_train_dataset[1]['input_ids'])\""
            ],
            "application/vnd.google.colaboratory.intrinsic+json": {
              "type": "string"
            }
          },
          "metadata": {},
          "execution_count": 47
        }
      ]
    },
    {
      "cell_type": "code",
      "source": [
        "\"\"\"print(tokenized_train_dataset[1]['input_ids'])\"\"\""
      ],
      "metadata": {
        "colab": {
          "base_uri": "https://localhost:8080/",
          "height": 35
        },
        "id": "sme20yTfjVTA",
        "outputId": "d00a44ea-cbfe-4619-bff7-2bcaf4a009d6"
      },
      "execution_count": 48,
      "outputs": [
        {
          "output_type": "execute_result",
          "data": {
            "text/plain": [
              "\"print(tokenized_train_dataset[1]['input_ids'])\""
            ],
            "application/vnd.google.colaboratory.intrinsic+json": {
              "type": "string"
            }
          },
          "metadata": {},
          "execution_count": 48
        }
      ]
    },
    {
      "cell_type": "code",
      "source": [
        "\"\"\"import matplotlib.pyplot as plt\n",
        "\n",
        "def plot_data_lengths(tokenized_train_dataset, tokenized_test_dataset):\n",
        "    lengths = [len(x['input_ids']) for x in tokenized_train_dataset]\n",
        "    lengths += [len(x['input_ids']) for x in tokenized_test_dataset]\n",
        "    print(len(lengths))\n",
        "\n",
        "    # Plotting the histogram\n",
        "    plt.figure(figsize=(10, 6))\n",
        "    plt.hist(lengths, bins=20, alpha=0.7, color='blue')\n",
        "    plt.xlabel('Length of input_ids')\n",
        "    plt.ylabel('Frequency')\n",
        "    plt.title('Distribution of Lengths of input_ids')\n",
        "    plt.show()\n",
        "\n",
        "plot_data_lengths(tokenized_train_dataset, tokenized_test_dataset)\"\"\""
      ],
      "metadata": {
        "colab": {
          "base_uri": "https://localhost:8080/",
          "height": 105
        },
        "id": "A1SZhKDvFIOO",
        "outputId": "deb9cb8d-f115-4087-fe90-248f9aa0a849"
      },
      "execution_count": 49,
      "outputs": [
        {
          "output_type": "execute_result",
          "data": {
            "text/plain": [
              "\"import matplotlib.pyplot as plt\\n\\ndef plot_data_lengths(tokenized_train_dataset, tokenized_test_dataset):\\n    lengths = [len(x['input_ids']) for x in tokenized_train_dataset]\\n    lengths += [len(x['input_ids']) for x in tokenized_test_dataset]\\n    print(len(lengths))\\n\\n    # Plotting the histogram\\n    plt.figure(figsize=(10, 6))\\n    plt.hist(lengths, bins=20, alpha=0.7, color='blue')\\n    plt.xlabel('Length of input_ids')\\n    plt.ylabel('Frequency')\\n    plt.title('Distribution of Lengths of input_ids')\\n    plt.show()\\n\\nplot_data_lengths(tokenized_train_dataset, tokenized_test_dataset)\""
            ],
            "application/vnd.google.colaboratory.intrinsic+json": {
              "type": "string"
            }
          },
          "metadata": {},
          "execution_count": 49
        }
      ]
    },
    {
      "cell_type": "markdown",
      "source": [
        "## Set up LoRA"
      ],
      "metadata": {
        "id": "mL2nzAnfdTMy"
      }
    },
    {
      "cell_type": "markdown",
      "source": [
        "https://www.datacamp.com/tutorial/mastering-low-rank-adaptation-lora-enhancing-large-language-models-for-efficient-adaptation\n",
        "\n",
        "LoRA is built on the understanding that large models inherently possess a low-dimensional structure. By leveraging low-rank matrices, LoRA adapts these models effectively. This method focuses on the core concept that significant model changes can be represented with fewer parameters, thus making the adaptation process more efficient.\n",
        "\n",
        "First, we decompose the large weight matrices into smaller matrices using the lower-rank matrix technique, as explained above. This drastically reduces the number of trainable parameters. For a model like GPT-3, trainable parameters are reduced by 10000 times. This means instead of training 175 billion parameters, if you apply LoRA, you only have 17.5 million trainable parameters.\n",
        "\n",
        "We do not change any parameters for a pre-trained model. Instead, only train lower-rank matrices, which happen relatively very quickly because of fewer parameters.\n",
        "\n",
        "The weights are additive. This means for inference, we just add the weights of lower-rank matrices to pre-trained weights without any additional latency. The lower-rank matrices are very small in size as well so it is very easy to load and unload them for different tasks and different users\n",
        "\n",
        "LoRA does not introduce any additional latency during inference. While low-rank matrices are used during training, they are merged with the original parameters for inference, ensuring no slowdown\n",
        "\n",
        "\n",
        "\n"
      ],
      "metadata": {
        "id": "l4mgobltgSMx"
      }
    },
    {
      "cell_type": "markdown",
      "source": [
        "Next, you should call the prepare_model_for_kbit_training() function to preprocess the quantized model for traininng."
      ],
      "metadata": {
        "id": "HRfpTV95K_G0"
      }
    },
    {
      "cell_type": "code",
      "source": [
        "from peft import prepare_model_for_kbit_training\n",
        "\n",
        "#model.gradient_checkpointing_enable()\n",
        "model = prepare_model_for_kbit_training(model)"
      ],
      "metadata": {
        "id": "WEmyEUeJrzZc"
      },
      "execution_count": 50,
      "outputs": []
    },
    {
      "cell_type": "markdown",
      "source": [
        "https://huggingface.co/docs/peft/main/en/developer_guides/lora#qlora-style-training\n",
        "\n",
        "However, in QLoRA, it was found that adding trainable weights to all the linear layers of a transformer model is beneficial to match full-finetuning performance. Since the list of modules to add will vary depending on the architecture, we provided a convenient shorthand : simple specify target_modules='all-linear' and let 🤗PEFT handle the rest:"
      ],
      "metadata": {
        "id": "3EhoQo1FPb41"
      }
    },
    {
      "cell_type": "markdown",
      "source": [
        "https://huggingface.co/blog/4bit-transformers-bitsandbytes\n"
      ],
      "metadata": {
        "id": "VOkw-eBMnm7p"
      }
    },
    {
      "cell_type": "markdown",
      "source": [],
      "metadata": {
        "id": "9S_20KTJmX6W"
      }
    },
    {
      "cell_type": "markdown",
      "source": [
        "## opinions on LoRA params\n",
        "\n",
        "https://medium.com/@fartypantsham/what-rank-r-and-alpha-to-use-in-lora-in-llm-1b4f025fd133\n",
        "\n",
        "Generally ranks bellow 32 are more like a smudges on a glass with a dirty rag. Very low values like 8 or 4 are basically just telling the model a style of how you want the output to be formatted to but not care about the details as there isn’t enough parameters to distinguish much more.\n",
        "\n",
        "Alpha is a scaling parameter.\n",
        "\n",
        "alpha = rank is scaling weights at 1.0\n",
        "\n",
        "What you train in LORA weights will be then merged with the main weights of model at x 1.0\n",
        "\n",
        "Previously people were suggesting alpha = (2 x rank), which is like yelling at your model really loud — all in order to make the newly learned weights “louder” than the model’s own. That requires a really good and large dataset, otherwise you are just amplifying nonsense.\n",
        "\n",
        "The model knows how to speak well already, while your dataset is too small to teach (or scream at) the model any language fundamentals. Increasing alpha amplifies everything, not just the stuff you wish the model learns from it.\n",
        "\n",
        "I would suggest rank = alpha, most of the time as your base — because it is very easily to attenuate the LORA data after the training is done if it appears to be too “loud”, overtaking the entire model.\n",
        "\n",
        "\n",
        "\n",
        "https://www.anyscale.com/blog/fine-tuning-llms-lora-or-full-parameter-an-in-depth-analysis-with-llama-2\n",
        "\n",
        "* Rank: 8 Choosing a higher rank for our decomposition matrices would counteract LoRA's efficiency gains. Our preliminary tests suggested minimal performance boosts when increasing the rank to, for instance, 16. As a result, we settled on a rank of 8 to maintain smaller checkpoint sizes and to avoid artificially inflating our checkpoint files.\n",
        "* Alpha: 16 Alpha scales the learned weights. Existing literature, including the original LoRA paper, generally advises fixing Alpha—often at 16—rather than treating it as a tunable hyperparameter.\n",
        "* Base learning rate: 1e-4\n",
        "A learning rate of 1e-4 has become the standard when fine-tuning LLMs with LoRA. Although we occasionally encountered training loss instabilities, reducing the learning rate to lower values like 3e-5 proved effective in stabilizing the process—more on this will follow."
      ],
      "metadata": {
        "id": "wxdkvd6Op4EG"
      }
    },
    {
      "cell_type": "code",
      "source": [
        "import math\n",
        "math.sqrt(32)"
      ],
      "metadata": {
        "colab": {
          "base_uri": "https://localhost:8080/"
        },
        "id": "nJhp3A4dLEPq",
        "outputId": "8b5c9f63-008c-44a4-ea84-0d60b112c902"
      },
      "execution_count": 50,
      "outputs": [
        {
          "output_type": "execute_result",
          "data": {
            "text/plain": [
              "5.656854249492381"
            ]
          },
          "metadata": {},
          "execution_count": 50
        }
      ]
    },
    {
      "cell_type": "code",
      "source": [
        "from peft import LoraConfig, get_peft_model\n",
        "\n",
        "config = LoraConfig(\n",
        "    r=128,\n",
        "    lora_alpha=64,\n",
        "    target_modules=\"all-linear\",\n",
        "    lora_dropout=0.05,\n",
        "    bias=\"none\",\n",
        "    task_type=\"CAUSAL_LM\"\n",
        ")\n"
      ],
      "metadata": {
        "id": "ScHXgXNU1emg"
      },
      "execution_count": 51,
      "outputs": []
    },
    {
      "cell_type": "code",
      "source": [
        "def print_trainable_parameters(model):\n",
        "    \"\"\"\n",
        "    Prints the number of trainable parameters in the model.\n",
        "    \"\"\"\n",
        "    trainable_params = 0\n",
        "    all_param = 0\n",
        "    for _, param in model.named_parameters():\n",
        "        all_param += param.numel()\n",
        "        if param.requires_grad:\n",
        "            trainable_params += param.numel()\n",
        "    print(\n",
        "        f\"trainable params: {trainable_params} || all params: {all_param} || trainable%: {100 * trainable_params / all_param}\"\n",
        "    )"
      ],
      "metadata": {
        "id": "IsKDeTi61GeM"
      },
      "execution_count": 52,
      "outputs": []
    },
    {
      "cell_type": "markdown",
      "source": [
        "\n",
        "\n",
        "Let's print the model to examine its layers, as we will apply QLoRA to all the linear layers of the model. Those layers are q_proj, k_proj, v_proj, o_proj, gate_proj, up_proj, down_proj, and lm_head.\n"
      ],
      "metadata": {
        "id": "2mhQAL_DaoPR"
      }
    },
    {
      "cell_type": "code",
      "source": [
        "model = get_peft_model(model, config)"
      ],
      "metadata": {
        "id": "iyhMZl1V1iwk"
      },
      "execution_count": 53,
      "outputs": []
    },
    {
      "cell_type": "markdown",
      "source": [
        "https://github.com/huggingface/transformers/blob/main/src/transformers/models/mistral/modeling_mistral.py"
      ],
      "metadata": {
        "id": "WDGAhJSY2nu6"
      }
    },
    {
      "cell_type": "code",
      "source": [
        "print_trainable_parameters(model)"
      ],
      "metadata": {
        "colab": {
          "base_uri": "https://localhost:8080/"
        },
        "id": "DLtmZtxw1noF",
        "outputId": "27ee0bed-a7a8-48d7-e2c9-b6c9b3eaa17b"
      },
      "execution_count": 54,
      "outputs": [
        {
          "output_type": "stream",
          "name": "stdout",
          "text": [
            "trainable params: 335544320 || all params: 4087615488 || trainable%: 8.208803420601972\n"
          ]
        }
      ]
    },
    {
      "cell_type": "code",
      "source": [
        "print(model)"
      ],
      "metadata": {
        "colab": {
          "base_uri": "https://localhost:8080/"
        },
        "id": "YM2kDYOjLv_4",
        "outputId": "b1ab1f6b-bde5-4dc4-f4be-db4f5b084ff7"
      },
      "execution_count": 55,
      "outputs": [
        {
          "output_type": "stream",
          "name": "stdout",
          "text": [
            "PeftModelForCausalLM(\n",
            "  (base_model): LoraModel(\n",
            "    (model): MistralForCausalLM(\n",
            "      (model): MistralModel(\n",
            "        (embed_tokens): Embedding(32000, 4096)\n",
            "        (layers): ModuleList(\n",
            "          (0-31): 32 x MistralDecoderLayer(\n",
            "            (self_attn): MistralAttention(\n",
            "              (q_proj): lora.Linear4bit(\n",
            "                (base_layer): Linear4bit(in_features=4096, out_features=4096, bias=False)\n",
            "                (lora_dropout): ModuleDict(\n",
            "                  (default): Dropout(p=0.05, inplace=False)\n",
            "                )\n",
            "                (lora_A): ModuleDict(\n",
            "                  (default): Linear(in_features=4096, out_features=128, bias=False)\n",
            "                )\n",
            "                (lora_B): ModuleDict(\n",
            "                  (default): Linear(in_features=128, out_features=4096, bias=False)\n",
            "                )\n",
            "                (lora_embedding_A): ParameterDict()\n",
            "                (lora_embedding_B): ParameterDict()\n",
            "              )\n",
            "              (k_proj): lora.Linear4bit(\n",
            "                (base_layer): Linear4bit(in_features=4096, out_features=1024, bias=False)\n",
            "                (lora_dropout): ModuleDict(\n",
            "                  (default): Dropout(p=0.05, inplace=False)\n",
            "                )\n",
            "                (lora_A): ModuleDict(\n",
            "                  (default): Linear(in_features=4096, out_features=128, bias=False)\n",
            "                )\n",
            "                (lora_B): ModuleDict(\n",
            "                  (default): Linear(in_features=128, out_features=1024, bias=False)\n",
            "                )\n",
            "                (lora_embedding_A): ParameterDict()\n",
            "                (lora_embedding_B): ParameterDict()\n",
            "              )\n",
            "              (v_proj): lora.Linear4bit(\n",
            "                (base_layer): Linear4bit(in_features=4096, out_features=1024, bias=False)\n",
            "                (lora_dropout): ModuleDict(\n",
            "                  (default): Dropout(p=0.05, inplace=False)\n",
            "                )\n",
            "                (lora_A): ModuleDict(\n",
            "                  (default): Linear(in_features=4096, out_features=128, bias=False)\n",
            "                )\n",
            "                (lora_B): ModuleDict(\n",
            "                  (default): Linear(in_features=128, out_features=1024, bias=False)\n",
            "                )\n",
            "                (lora_embedding_A): ParameterDict()\n",
            "                (lora_embedding_B): ParameterDict()\n",
            "              )\n",
            "              (o_proj): lora.Linear4bit(\n",
            "                (base_layer): Linear4bit(in_features=4096, out_features=4096, bias=False)\n",
            "                (lora_dropout): ModuleDict(\n",
            "                  (default): Dropout(p=0.05, inplace=False)\n",
            "                )\n",
            "                (lora_A): ModuleDict(\n",
            "                  (default): Linear(in_features=4096, out_features=128, bias=False)\n",
            "                )\n",
            "                (lora_B): ModuleDict(\n",
            "                  (default): Linear(in_features=128, out_features=4096, bias=False)\n",
            "                )\n",
            "                (lora_embedding_A): ParameterDict()\n",
            "                (lora_embedding_B): ParameterDict()\n",
            "              )\n",
            "              (rotary_emb): MistralRotaryEmbedding()\n",
            "            )\n",
            "            (mlp): MistralMLP(\n",
            "              (gate_proj): lora.Linear4bit(\n",
            "                (base_layer): Linear4bit(in_features=4096, out_features=14336, bias=False)\n",
            "                (lora_dropout): ModuleDict(\n",
            "                  (default): Dropout(p=0.05, inplace=False)\n",
            "                )\n",
            "                (lora_A): ModuleDict(\n",
            "                  (default): Linear(in_features=4096, out_features=128, bias=False)\n",
            "                )\n",
            "                (lora_B): ModuleDict(\n",
            "                  (default): Linear(in_features=128, out_features=14336, bias=False)\n",
            "                )\n",
            "                (lora_embedding_A): ParameterDict()\n",
            "                (lora_embedding_B): ParameterDict()\n",
            "              )\n",
            "              (up_proj): lora.Linear4bit(\n",
            "                (base_layer): Linear4bit(in_features=4096, out_features=14336, bias=False)\n",
            "                (lora_dropout): ModuleDict(\n",
            "                  (default): Dropout(p=0.05, inplace=False)\n",
            "                )\n",
            "                (lora_A): ModuleDict(\n",
            "                  (default): Linear(in_features=4096, out_features=128, bias=False)\n",
            "                )\n",
            "                (lora_B): ModuleDict(\n",
            "                  (default): Linear(in_features=128, out_features=14336, bias=False)\n",
            "                )\n",
            "                (lora_embedding_A): ParameterDict()\n",
            "                (lora_embedding_B): ParameterDict()\n",
            "              )\n",
            "              (down_proj): lora.Linear4bit(\n",
            "                (base_layer): Linear4bit(in_features=14336, out_features=4096, bias=False)\n",
            "                (lora_dropout): ModuleDict(\n",
            "                  (default): Dropout(p=0.05, inplace=False)\n",
            "                )\n",
            "                (lora_A): ModuleDict(\n",
            "                  (default): Linear(in_features=14336, out_features=128, bias=False)\n",
            "                )\n",
            "                (lora_B): ModuleDict(\n",
            "                  (default): Linear(in_features=128, out_features=4096, bias=False)\n",
            "                )\n",
            "                (lora_embedding_A): ParameterDict()\n",
            "                (lora_embedding_B): ParameterDict()\n",
            "              )\n",
            "              (act_fn): SiLU()\n",
            "            )\n",
            "            (input_layernorm): MistralRMSNorm()\n",
            "            (post_attention_layernorm): MistralRMSNorm()\n",
            "          )\n",
            "        )\n",
            "        (norm): MistralRMSNorm()\n",
            "      )\n",
            "      (lm_head): Linear(in_features=4096, out_features=32000, bias=False)\n",
            "    )\n",
            "  )\n",
            ")\n"
          ]
        }
      ]
    },
    {
      "cell_type": "markdown",
      "source": [
        "https://huggingface.co/docs/transformers/peft"
      ],
      "metadata": {
        "id": "QW_Azaqb38Mi"
      }
    },
    {
      "cell_type": "code",
      "source": [
        "!pip install -q wandb -U\n",
        "\n",
        "import wandb, os\n",
        "wandb.login()\n",
        "\n",
        "wandb_project = \"mistral-finetune\"\n",
        "if len(wandb_project) > 0:\n",
        "    os.environ[\"WANDB_PROJECT\"] = wandb_project"
      ],
      "metadata": {
        "colab": {
          "base_uri": "https://localhost:8080/",
          "height": 173
        },
        "id": "QQO_NaAvF8QH",
        "outputId": "d45392cc-b846-430d-d6cf-ac6f27286d54"
      },
      "execution_count": 56,
      "outputs": [
        {
          "output_type": "stream",
          "name": "stdout",
          "text": [
            "\u001b[2K     \u001b[90m━━━━━━━━━━━━━━━━━━━━━━━━━━━━━━━━━━━━━━━━\u001b[0m \u001b[32m2.2/2.2 MB\u001b[0m \u001b[31m34.7 MB/s\u001b[0m eta \u001b[36m0:00:00\u001b[0m\n",
            "\u001b[2K     \u001b[90m━━━━━━━━━━━━━━━━━━━━━━━━━━━━━━━━━━━━━━━━\u001b[0m \u001b[32m195.4/195.4 kB\u001b[0m \u001b[31m25.1 MB/s\u001b[0m eta \u001b[36m0:00:00\u001b[0m\n",
            "\u001b[2K     \u001b[90m━━━━━━━━━━━━━━━━━━━━━━━━━━━━━━━━━━━━━━━━\u001b[0m \u001b[32m258.5/258.5 kB\u001b[0m \u001b[31m33.1 MB/s\u001b[0m eta \u001b[36m0:00:00\u001b[0m\n",
            "\u001b[2K     \u001b[90m━━━━━━━━━━━━━━━━━━━━━━━━━━━━━━━━━━━━━━━━\u001b[0m \u001b[32m62.7/62.7 kB\u001b[0m \u001b[31m9.9 MB/s\u001b[0m eta \u001b[36m0:00:00\u001b[0m\n",
            "\u001b[?25h"
          ]
        },
        {
          "output_type": "display_data",
          "data": {
            "text/plain": [
              "<IPython.core.display.Javascript object>"
            ],
            "application/javascript": [
              "\n",
              "        window._wandbApiKey = new Promise((resolve, reject) => {\n",
              "            function loadScript(url) {\n",
              "            return new Promise(function(resolve, reject) {\n",
              "                let newScript = document.createElement(\"script\");\n",
              "                newScript.onerror = reject;\n",
              "                newScript.onload = resolve;\n",
              "                document.body.appendChild(newScript);\n",
              "                newScript.src = url;\n",
              "            });\n",
              "            }\n",
              "            loadScript(\"https://cdn.jsdelivr.net/npm/postmate/build/postmate.min.js\").then(() => {\n",
              "            const iframe = document.createElement('iframe')\n",
              "            iframe.style.cssText = \"width:0;height:0;border:none\"\n",
              "            document.body.appendChild(iframe)\n",
              "            const handshake = new Postmate({\n",
              "                container: iframe,\n",
              "                url: 'https://wandb.ai/authorize'\n",
              "            });\n",
              "            const timeout = setTimeout(() => reject(\"Couldn't auto authenticate\"), 5000)\n",
              "            handshake.then(function(child) {\n",
              "                child.on('authorize', data => {\n",
              "                    clearTimeout(timeout)\n",
              "                    resolve(data)\n",
              "                });\n",
              "            });\n",
              "            })\n",
              "        });\n",
              "    "
            ]
          },
          "metadata": {}
        },
        {
          "output_type": "stream",
          "name": "stderr",
          "text": [
            "\u001b[34m\u001b[1mwandb\u001b[0m: Logging into wandb.ai. (Learn how to deploy a W&B server locally: https://wandb.me/wandb-server)\n",
            "\u001b[34m\u001b[1mwandb\u001b[0m: You can find your API key in your browser here: https://wandb.ai/authorize\n",
            "wandb: Paste an API key from your profile and hit enter, or press ctrl+c to quit:"
          ]
        },
        {
          "name": "stdout",
          "output_type": "stream",
          "text": [
            " ··········\n"
          ]
        },
        {
          "output_type": "stream",
          "name": "stderr",
          "text": [
            "\u001b[34m\u001b[1mwandb\u001b[0m: Appending key for api.wandb.ai to your netrc file: /root/.netrc\n"
          ]
        }
      ]
    },
    {
      "cell_type": "code",
      "source": [
        "! ls drive/MyDrive/mistral-finetune/"
      ],
      "metadata": {
        "colab": {
          "base_uri": "https://localhost:8080/"
        },
        "id": "EjkYxg_WHCIa",
        "outputId": "3672990b-500a-4c3f-97b9-a82aa1e64e4c"
      },
      "execution_count": 57,
      "outputs": [
        {
          "output_type": "stream",
          "name": "stdout",
          "text": [
            "checkpoint-500\t\t\t       mistral-finetuning-data-loweralpha.json\n",
            "data\t\t\t\t       mistral-finetuning-data-nonegative.json\n",
            "helper_functions.py\t\t       mistral-finetuning-data-r32alpha16.json\n",
            "mistral-finetuning-data2.json\t       mistral-finetuning-data-r8alpha16.json\n",
            "mistral-finetuning-data3.json\t       __pycache__\n",
            "mistral-finetuning-data-balanced.json  runs\n",
            "mistral-finetuning-data.json\n"
          ]
        }
      ]
    },
    {
      "cell_type": "code",
      "source": [
        "#mkdir drive/MyDrive/mistral-finetune/runs"
      ],
      "metadata": {
        "id": "Q61w65e6HOqq"
      },
      "execution_count": 70,
      "outputs": []
    },
    {
      "cell_type": "code",
      "source": [
        "#mkdir drive/MyDrive/mistral-finetune/runs/logs"
      ],
      "metadata": {
        "id": "5pdDpUXUHyXE"
      },
      "execution_count": 71,
      "outputs": []
    },
    {
      "cell_type": "code",
      "source": [
        "\n",
        "project = \"relation-extraction-finetune\"\n",
        "base_model_name = \"mistral7b\"\n",
        "run_name = base_model_name + \"-\" + project + \"_9\" # rank 128 alpha 64 scale factor 0.5\n",
        "output_dir = \"drive/MyDrive/mistral-finetune/runs/\" + run_name\n"
      ],
      "metadata": {
        "id": "Xwnxw2lPGKxX"
      },
      "execution_count": 58,
      "outputs": []
    },
    {
      "cell_type": "markdown",
      "source": [
        "https://huggingface.co/docs/peft/main/en/conceptual_guides/lora#common-lora-parameters-in-peft\n",
        "\n"
      ],
      "metadata": {
        "id": "3Z9BHtfRK9_2"
      }
    },
    {
      "cell_type": "code",
      "source": [
        "output_dir"
      ],
      "metadata": {
        "colab": {
          "base_uri": "https://localhost:8080/",
          "height": 35
        },
        "id": "dnbC8NLAK9sm",
        "outputId": "c8d3f1e0-e336-4c2a-b1f9-6327b9d16a0b"
      },
      "execution_count": 73,
      "outputs": [
        {
          "output_type": "execute_result",
          "data": {
            "text/plain": [
              "'drive/MyDrive/mistral-finetune/runs/mistral7b-relation-extraction-finetune_9'"
            ],
            "application/vnd.google.colaboratory.intrinsic+json": {
              "type": "string"
            }
          },
          "metadata": {},
          "execution_count": 73
        }
      ]
    },
    {
      "cell_type": "markdown",
      "source": [
        "bf16 gives error ValueError: Your setup doesn't support bf16/gpu. You need torch>=1.10, using Ampere GPU with cuda>=11.0"
      ],
      "metadata": {
        "id": "j7Bw0NJVRCbU"
      }
    },
    {
      "cell_type": "markdown",
      "source": [
        "https://ai.google.dev/gemma/docs/lora_tuning#lora_fine-tuning\n",
        "\n",
        "The LoRA rank determines the dimensionality of the trainable matrices that are added to the original weights of the LLM. It controls the expressiveness and precision of the fine-tuning adjustments.\n",
        "\n",
        "A higher rank means more detailed changes are possible, but also means more trainable parameters. A lower rank means less computational overhead, but potentially less precise adaptation.\n",
        "\n",
        "This tutorial uses a LoRA rank of 4. In practice, begin with a relatively small rank (such as 4, 8, 16). This is computationally efficient for experimentation. Train your model with this rank and evaluate the performance improvement on your task. Gradually increase the rank in subsequent trials and see if that further boosts performance."
      ],
      "metadata": {
        "id": "YipIp6repJKH"
      }
    },
    {
      "cell_type": "markdown",
      "source": [
        "https://huggingface.co/transformers/v3.0.2/main_classes/trainer.html\n",
        "\n",
        "*  train_batch_size, per_device_train_batch_size (int, optional, defaults to 8) – The batch size per PU/TPU core/CPU for training.\n",
        "* learning_rate (float, optional, defaults to 5e-5) – The initial learning rate for Adam.\n",
        "* warmup_steps (int, optional, defaults to 0) – Number of steps used for a linear warmup from 0 to learning_rate.\n",
        "\n",
        "\n"
      ],
      "metadata": {
        "id": "lHoZpT0mt7Bb"
      }
    },
    {
      "cell_type": "code",
      "source": [],
      "metadata": {
        "id": "GiZJolNYuyJ5"
      },
      "execution_count": 59,
      "outputs": []
    },
    {
      "cell_type": "code",
      "source": [
        "from datetime import datetime\n",
        "import transformers\n",
        "\n",
        "trainer = transformers.Trainer(\n",
        "    model=model,\n",
        "    train_dataset=tokenized_train_dataset,\n",
        "    eval_dataset=tokenized_test_dataset,\n",
        "    args=transformers.TrainingArguments(\n",
        "        output_dir=output_dir,\n",
        "        warmup_steps=1,\n",
        "        per_device_train_batch_size=2,\n",
        "        gradient_accumulation_steps=1,\n",
        "        gradient_checkpointing=True,\n",
        "        max_steps=500,\n",
        "        learning_rate=2.5e-5, # Want a small lr for finetuning\n",
        "        fp16=True,\n",
        "        logging_steps=25,\n",
        "        optim=\"paged_adamw_8bit\",\n",
        "        logging_dir=\"drive/MyDrive/mistral-finetune/runs/logs\",        # Directory for storing logs\n",
        "        save_strategy=\"steps\",       # Save the model checkpoint every logging step\n",
        "        save_steps=25,                # Save checkpoints every 50 steps\n",
        "        evaluation_strategy=\"steps\", # Evaluate the model every logging step\n",
        "        eval_steps=25,               # Evaluate and save checkpoints every 50 steps\n",
        "        do_eval=True,                # Perform evaluation at the end of training\n",
        "        report_to=\"wandb\",           # Comment this out if you don't want to use weights & baises\n",
        "        run_name=f\"{run_name}-{datetime.now().strftime('%Y-%m-%d-%H-%M')}\"          # Name of the W&B run (optional)\n",
        "    ),\n",
        "    data_collator=transformers.DataCollatorForLanguageModeling(tokenizer, mlm=False),\n",
        ")\n",
        "model.config.use_cache = False  # silence the warnings. Please re-enable for inference!\n",
        "trainer.train()\n",
        "\n"
      ],
      "metadata": {
        "id": "OJfu-NDg3Oy8",
        "colab": {
          "base_uri": "https://localhost:8080/",
          "height": 1000
        },
        "outputId": "aebeb3d0-e90b-4963-8f4c-5d5f2c6c885f"
      },
      "execution_count": 59,
      "outputs": [
        {
          "output_type": "stream",
          "name": "stderr",
          "text": [
            "/usr/local/lib/python3.10/dist-packages/accelerate/accelerator.py:437: FutureWarning: Passing the following arguments to `Accelerator` is deprecated and will be removed in version 1.0 of Accelerate: dict_keys(['dispatch_batches', 'split_batches']). Please pass an `accelerate.DataLoaderConfiguration` instead: \n",
            "dataloader_config = DataLoaderConfiguration(dispatch_batches=None, split_batches=False)\n",
            "  warnings.warn(\n"
          ]
        },
        {
          "output_type": "display_data",
          "data": {
            "text/plain": [
              "<IPython.core.display.HTML object>"
            ],
            "text/html": [
              "Changes to your `wandb` environment variables will be ignored because your `wandb` session has already started. For more information on how to modify your settings with `wandb.init()` arguments, please refer to <a href='https://wandb.me/wandb-init' target=\"_blank\">the W&B docs</a>."
            ]
          },
          "metadata": {}
        },
        {
          "output_type": "stream",
          "name": "stderr",
          "text": [
            "\u001b[34m\u001b[1mwandb\u001b[0m: Currently logged in as: \u001b[33maareias\u001b[0m. Use \u001b[1m`wandb login --relogin`\u001b[0m to force relogin\n"
          ]
        },
        {
          "output_type": "display_data",
          "data": {
            "text/plain": [
              "<IPython.core.display.HTML object>"
            ],
            "text/html": [
              "Tracking run with wandb version 0.16.3"
            ]
          },
          "metadata": {}
        },
        {
          "output_type": "display_data",
          "data": {
            "text/plain": [
              "<IPython.core.display.HTML object>"
            ],
            "text/html": [
              "Run data is saved locally in <code>/content/wandb/run-20240224_134023-8wolfp4u</code>"
            ]
          },
          "metadata": {}
        },
        {
          "output_type": "display_data",
          "data": {
            "text/plain": [
              "<IPython.core.display.HTML object>"
            ],
            "text/html": [
              "Syncing run <strong><a href='https://wandb.ai/aareias/mistral-finetune/runs/8wolfp4u' target=\"_blank\">mistral7b-relation-extraction-finetune_9-2024-02-24-13-40</a></strong> to <a href='https://wandb.ai/aareias/mistral-finetune' target=\"_blank\">Weights & Biases</a> (<a href='https://wandb.me/run' target=\"_blank\">docs</a>)<br/>"
            ]
          },
          "metadata": {}
        },
        {
          "output_type": "display_data",
          "data": {
            "text/plain": [
              "<IPython.core.display.HTML object>"
            ],
            "text/html": [
              " View project at <a href='https://wandb.ai/aareias/mistral-finetune' target=\"_blank\">https://wandb.ai/aareias/mistral-finetune</a>"
            ]
          },
          "metadata": {}
        },
        {
          "output_type": "display_data",
          "data": {
            "text/plain": [
              "<IPython.core.display.HTML object>"
            ],
            "text/html": [
              " View run at <a href='https://wandb.ai/aareias/mistral-finetune/runs/8wolfp4u' target=\"_blank\">https://wandb.ai/aareias/mistral-finetune/runs/8wolfp4u</a>"
            ]
          },
          "metadata": {}
        },
        {
          "output_type": "stream",
          "name": "stderr",
          "text": [
            "/usr/local/lib/python3.10/dist-packages/torch/utils/checkpoint.py:429: UserWarning: torch.utils.checkpoint: please pass in use_reentrant=True or use_reentrant=False explicitly. The default value of use_reentrant will be updated to be False in the future. To maintain current behavior, pass use_reentrant=True. It is recommended that you use use_reentrant=False. Refer to docs for more details on the differences between the two variants.\n",
            "  warnings.warn(\n"
          ]
        },
        {
          "output_type": "display_data",
          "data": {
            "text/plain": [
              "<IPython.core.display.HTML object>"
            ],
            "text/html": [
              "\n",
              "    <div>\n",
              "      \n",
              "      <progress value='269' max='500' style='width:300px; height:20px; vertical-align: middle;'></progress>\n",
              "      [269/500 06:22 < 05:31, 0.70 it/s, Epoch 0.69/2]\n",
              "    </div>\n",
              "    <table border=\"1\" class=\"dataframe\">\n",
              "  <thead>\n",
              " <tr style=\"text-align: left;\">\n",
              "      <th>Step</th>\n",
              "      <th>Training Loss</th>\n",
              "      <th>Validation Loss</th>\n",
              "    </tr>\n",
              "  </thead>\n",
              "  <tbody>\n",
              "    <tr>\n",
              "      <td>25</td>\n",
              "      <td>0.951900</td>\n",
              "      <td>0.429874</td>\n",
              "    </tr>\n",
              "    <tr>\n",
              "      <td>50</td>\n",
              "      <td>0.422500</td>\n",
              "      <td>0.410544</td>\n",
              "    </tr>\n",
              "    <tr>\n",
              "      <td>75</td>\n",
              "      <td>0.399800</td>\n",
              "      <td>0.398555</td>\n",
              "    </tr>\n",
              "    <tr>\n",
              "      <td>100</td>\n",
              "      <td>0.429500</td>\n",
              "      <td>0.384418</td>\n",
              "    </tr>\n",
              "    <tr>\n",
              "      <td>125</td>\n",
              "      <td>0.408800</td>\n",
              "      <td>0.377147</td>\n",
              "    </tr>\n",
              "    <tr>\n",
              "      <td>150</td>\n",
              "      <td>0.387100</td>\n",
              "      <td>0.377238</td>\n",
              "    </tr>\n",
              "    <tr>\n",
              "      <td>175</td>\n",
              "      <td>0.416000</td>\n",
              "      <td>0.374804</td>\n",
              "    </tr>\n",
              "    <tr>\n",
              "      <td>200</td>\n",
              "      <td>0.372300</td>\n",
              "      <td>0.373439</td>\n",
              "    </tr>\n",
              "    <tr>\n",
              "      <td>225</td>\n",
              "      <td>0.372800</td>\n",
              "      <td>0.372849</td>\n",
              "    </tr>\n",
              "    <tr>\n",
              "      <td>250</td>\n",
              "      <td>0.394500</td>\n",
              "      <td>0.372522</td>\n",
              "    </tr>\n",
              "  </tbody>\n",
              "</table><p>"
            ]
          },
          "metadata": {}
        },
        {
          "output_type": "stream",
          "name": "stderr",
          "text": [
            "/usr/local/lib/python3.10/dist-packages/torch/utils/checkpoint.py:429: UserWarning: torch.utils.checkpoint: please pass in use_reentrant=True or use_reentrant=False explicitly. The default value of use_reentrant will be updated to be False in the future. To maintain current behavior, pass use_reentrant=True. It is recommended that you use use_reentrant=False. Refer to docs for more details on the differences between the two variants.\n",
            "  warnings.warn(\n",
            "/usr/local/lib/python3.10/dist-packages/torch/utils/checkpoint.py:429: UserWarning: torch.utils.checkpoint: please pass in use_reentrant=True or use_reentrant=False explicitly. The default value of use_reentrant will be updated to be False in the future. To maintain current behavior, pass use_reentrant=True. It is recommended that you use use_reentrant=False. Refer to docs for more details on the differences between the two variants.\n",
            "  warnings.warn(\n",
            "/usr/local/lib/python3.10/dist-packages/torch/utils/checkpoint.py:429: UserWarning: torch.utils.checkpoint: please pass in use_reentrant=True or use_reentrant=False explicitly. The default value of use_reentrant will be updated to be False in the future. To maintain current behavior, pass use_reentrant=True. It is recommended that you use use_reentrant=False. Refer to docs for more details on the differences between the two variants.\n",
            "  warnings.warn(\n",
            "/usr/local/lib/python3.10/dist-packages/torch/utils/checkpoint.py:429: UserWarning: torch.utils.checkpoint: please pass in use_reentrant=True or use_reentrant=False explicitly. The default value of use_reentrant will be updated to be False in the future. To maintain current behavior, pass use_reentrant=True. It is recommended that you use use_reentrant=False. Refer to docs for more details on the differences between the two variants.\n",
            "  warnings.warn(\n",
            "/usr/local/lib/python3.10/dist-packages/torch/utils/checkpoint.py:429: UserWarning: torch.utils.checkpoint: please pass in use_reentrant=True or use_reentrant=False explicitly. The default value of use_reentrant will be updated to be False in the future. To maintain current behavior, pass use_reentrant=True. It is recommended that you use use_reentrant=False. Refer to docs for more details on the differences between the two variants.\n",
            "  warnings.warn(\n",
            "/usr/local/lib/python3.10/dist-packages/torch/utils/checkpoint.py:429: UserWarning: torch.utils.checkpoint: please pass in use_reentrant=True or use_reentrant=False explicitly. The default value of use_reentrant will be updated to be False in the future. To maintain current behavior, pass use_reentrant=True. It is recommended that you use use_reentrant=False. Refer to docs for more details on the differences between the two variants.\n",
            "  warnings.warn(\n",
            "/usr/local/lib/python3.10/dist-packages/torch/utils/checkpoint.py:429: UserWarning: torch.utils.checkpoint: please pass in use_reentrant=True or use_reentrant=False explicitly. The default value of use_reentrant will be updated to be False in the future. To maintain current behavior, pass use_reentrant=True. It is recommended that you use use_reentrant=False. Refer to docs for more details on the differences between the two variants.\n",
            "  warnings.warn(\n",
            "/usr/local/lib/python3.10/dist-packages/torch/utils/checkpoint.py:429: UserWarning: torch.utils.checkpoint: please pass in use_reentrant=True or use_reentrant=False explicitly. The default value of use_reentrant will be updated to be False in the future. To maintain current behavior, pass use_reentrant=True. It is recommended that you use use_reentrant=False. Refer to docs for more details on the differences between the two variants.\n",
            "  warnings.warn(\n",
            "/usr/local/lib/python3.10/dist-packages/torch/utils/checkpoint.py:429: UserWarning: torch.utils.checkpoint: please pass in use_reentrant=True or use_reentrant=False explicitly. The default value of use_reentrant will be updated to be False in the future. To maintain current behavior, pass use_reentrant=True. It is recommended that you use use_reentrant=False. Refer to docs for more details on the differences between the two variants.\n",
            "  warnings.warn(\n",
            "/usr/local/lib/python3.10/dist-packages/torch/utils/checkpoint.py:429: UserWarning: torch.utils.checkpoint: please pass in use_reentrant=True or use_reentrant=False explicitly. The default value of use_reentrant will be updated to be False in the future. To maintain current behavior, pass use_reentrant=True. It is recommended that you use use_reentrant=False. Refer to docs for more details on the differences between the two variants.\n",
            "  warnings.warn(\n"
          ]
        },
        {
          "output_type": "error",
          "ename": "KeyboardInterrupt",
          "evalue": "",
          "traceback": [
            "\u001b[0;31m---------------------------------------------------------------------------\u001b[0m",
            "\u001b[0;31mKeyboardInterrupt\u001b[0m                         Traceback (most recent call last)",
            "\u001b[0;32m<ipython-input-59-752d8dd81c3e>\u001b[0m in \u001b[0;36m<cell line: 31>\u001b[0;34m()\u001b[0m\n\u001b[1;32m     29\u001b[0m )\n\u001b[1;32m     30\u001b[0m \u001b[0mmodel\u001b[0m\u001b[0;34m.\u001b[0m\u001b[0mconfig\u001b[0m\u001b[0;34m.\u001b[0m\u001b[0muse_cache\u001b[0m \u001b[0;34m=\u001b[0m \u001b[0;32mFalse\u001b[0m  \u001b[0;31m# silence the warnings. Please re-enable for inference!\u001b[0m\u001b[0;34m\u001b[0m\u001b[0;34m\u001b[0m\u001b[0m\n\u001b[0;32m---> 31\u001b[0;31m \u001b[0mtrainer\u001b[0m\u001b[0;34m.\u001b[0m\u001b[0mtrain\u001b[0m\u001b[0;34m(\u001b[0m\u001b[0;34m)\u001b[0m\u001b[0;34m\u001b[0m\u001b[0;34m\u001b[0m\u001b[0m\n\u001b[0m\u001b[1;32m     32\u001b[0m \u001b[0;34m\u001b[0m\u001b[0m\n",
            "\u001b[0;32m/usr/local/lib/python3.10/dist-packages/transformers/trainer.py\u001b[0m in \u001b[0;36mtrain\u001b[0;34m(self, resume_from_checkpoint, trial, ignore_keys_for_eval, **kwargs)\u001b[0m\n\u001b[1;32m   1537\u001b[0m                 \u001b[0mhf_hub_utils\u001b[0m\u001b[0;34m.\u001b[0m\u001b[0menable_progress_bars\u001b[0m\u001b[0;34m(\u001b[0m\u001b[0;34m)\u001b[0m\u001b[0;34m\u001b[0m\u001b[0;34m\u001b[0m\u001b[0m\n\u001b[1;32m   1538\u001b[0m         \u001b[0;32melse\u001b[0m\u001b[0;34m:\u001b[0m\u001b[0;34m\u001b[0m\u001b[0;34m\u001b[0m\u001b[0m\n\u001b[0;32m-> 1539\u001b[0;31m             return inner_training_loop(\n\u001b[0m\u001b[1;32m   1540\u001b[0m                 \u001b[0margs\u001b[0m\u001b[0;34m=\u001b[0m\u001b[0margs\u001b[0m\u001b[0;34m,\u001b[0m\u001b[0;34m\u001b[0m\u001b[0;34m\u001b[0m\u001b[0m\n\u001b[1;32m   1541\u001b[0m                 \u001b[0mresume_from_checkpoint\u001b[0m\u001b[0;34m=\u001b[0m\u001b[0mresume_from_checkpoint\u001b[0m\u001b[0;34m,\u001b[0m\u001b[0;34m\u001b[0m\u001b[0;34m\u001b[0m\u001b[0m\n",
            "\u001b[0;32m/usr/local/lib/python3.10/dist-packages/transformers/trainer.py\u001b[0m in \u001b[0;36m_inner_training_loop\u001b[0;34m(self, batch_size, args, resume_from_checkpoint, trial, ignore_keys_for_eval)\u001b[0m\n\u001b[1;32m   1867\u001b[0m \u001b[0;34m\u001b[0m\u001b[0m\n\u001b[1;32m   1868\u001b[0m                 \u001b[0;32mwith\u001b[0m \u001b[0mself\u001b[0m\u001b[0;34m.\u001b[0m\u001b[0maccelerator\u001b[0m\u001b[0;34m.\u001b[0m\u001b[0maccumulate\u001b[0m\u001b[0;34m(\u001b[0m\u001b[0mmodel\u001b[0m\u001b[0;34m)\u001b[0m\u001b[0;34m:\u001b[0m\u001b[0;34m\u001b[0m\u001b[0;34m\u001b[0m\u001b[0m\n\u001b[0;32m-> 1869\u001b[0;31m                     \u001b[0mtr_loss_step\u001b[0m \u001b[0;34m=\u001b[0m \u001b[0mself\u001b[0m\u001b[0;34m.\u001b[0m\u001b[0mtraining_step\u001b[0m\u001b[0;34m(\u001b[0m\u001b[0mmodel\u001b[0m\u001b[0;34m,\u001b[0m \u001b[0minputs\u001b[0m\u001b[0;34m)\u001b[0m\u001b[0;34m\u001b[0m\u001b[0;34m\u001b[0m\u001b[0m\n\u001b[0m\u001b[1;32m   1870\u001b[0m \u001b[0;34m\u001b[0m\u001b[0m\n\u001b[1;32m   1871\u001b[0m                 if (\n",
            "\u001b[0;32m/usr/local/lib/python3.10/dist-packages/transformers/trainer.py\u001b[0m in \u001b[0;36mtraining_step\u001b[0;34m(self, model, inputs)\u001b[0m\n\u001b[1;32m   2770\u001b[0m \u001b[0;34m\u001b[0m\u001b[0m\n\u001b[1;32m   2771\u001b[0m         \u001b[0;32mwith\u001b[0m \u001b[0mself\u001b[0m\u001b[0;34m.\u001b[0m\u001b[0mcompute_loss_context_manager\u001b[0m\u001b[0;34m(\u001b[0m\u001b[0;34m)\u001b[0m\u001b[0;34m:\u001b[0m\u001b[0;34m\u001b[0m\u001b[0;34m\u001b[0m\u001b[0m\n\u001b[0;32m-> 2772\u001b[0;31m             \u001b[0mloss\u001b[0m \u001b[0;34m=\u001b[0m \u001b[0mself\u001b[0m\u001b[0;34m.\u001b[0m\u001b[0mcompute_loss\u001b[0m\u001b[0;34m(\u001b[0m\u001b[0mmodel\u001b[0m\u001b[0;34m,\u001b[0m \u001b[0minputs\u001b[0m\u001b[0;34m)\u001b[0m\u001b[0;34m\u001b[0m\u001b[0;34m\u001b[0m\u001b[0m\n\u001b[0m\u001b[1;32m   2773\u001b[0m \u001b[0;34m\u001b[0m\u001b[0m\n\u001b[1;32m   2774\u001b[0m         \u001b[0;32mif\u001b[0m \u001b[0mself\u001b[0m\u001b[0;34m.\u001b[0m\u001b[0margs\u001b[0m\u001b[0;34m.\u001b[0m\u001b[0mn_gpu\u001b[0m \u001b[0;34m>\u001b[0m \u001b[0;36m1\u001b[0m\u001b[0;34m:\u001b[0m\u001b[0;34m\u001b[0m\u001b[0;34m\u001b[0m\u001b[0m\n",
            "\u001b[0;32m/usr/local/lib/python3.10/dist-packages/transformers/trainer.py\u001b[0m in \u001b[0;36mcompute_loss\u001b[0;34m(self, model, inputs, return_outputs)\u001b[0m\n\u001b[1;32m   2793\u001b[0m         \u001b[0;32melse\u001b[0m\u001b[0;34m:\u001b[0m\u001b[0;34m\u001b[0m\u001b[0;34m\u001b[0m\u001b[0m\n\u001b[1;32m   2794\u001b[0m             \u001b[0mlabels\u001b[0m \u001b[0;34m=\u001b[0m \u001b[0;32mNone\u001b[0m\u001b[0;34m\u001b[0m\u001b[0;34m\u001b[0m\u001b[0m\n\u001b[0;32m-> 2795\u001b[0;31m         \u001b[0moutputs\u001b[0m \u001b[0;34m=\u001b[0m \u001b[0mmodel\u001b[0m\u001b[0;34m(\u001b[0m\u001b[0;34m**\u001b[0m\u001b[0minputs\u001b[0m\u001b[0;34m)\u001b[0m\u001b[0;34m\u001b[0m\u001b[0;34m\u001b[0m\u001b[0m\n\u001b[0m\u001b[1;32m   2796\u001b[0m         \u001b[0;31m# Save past state if it exists\u001b[0m\u001b[0;34m\u001b[0m\u001b[0;34m\u001b[0m\u001b[0m\n\u001b[1;32m   2797\u001b[0m         \u001b[0;31m# TODO: this needs to be fixed and made cleaner later.\u001b[0m\u001b[0;34m\u001b[0m\u001b[0;34m\u001b[0m\u001b[0m\n",
            "\u001b[0;32m/usr/local/lib/python3.10/dist-packages/torch/nn/modules/module.py\u001b[0m in \u001b[0;36m_wrapped_call_impl\u001b[0;34m(self, *args, **kwargs)\u001b[0m\n\u001b[1;32m   1516\u001b[0m             \u001b[0;32mreturn\u001b[0m \u001b[0mself\u001b[0m\u001b[0;34m.\u001b[0m\u001b[0m_compiled_call_impl\u001b[0m\u001b[0;34m(\u001b[0m\u001b[0;34m*\u001b[0m\u001b[0margs\u001b[0m\u001b[0;34m,\u001b[0m \u001b[0;34m**\u001b[0m\u001b[0mkwargs\u001b[0m\u001b[0;34m)\u001b[0m  \u001b[0;31m# type: ignore[misc]\u001b[0m\u001b[0;34m\u001b[0m\u001b[0;34m\u001b[0m\u001b[0m\n\u001b[1;32m   1517\u001b[0m         \u001b[0;32melse\u001b[0m\u001b[0;34m:\u001b[0m\u001b[0;34m\u001b[0m\u001b[0;34m\u001b[0m\u001b[0m\n\u001b[0;32m-> 1518\u001b[0;31m             \u001b[0;32mreturn\u001b[0m \u001b[0mself\u001b[0m\u001b[0;34m.\u001b[0m\u001b[0m_call_impl\u001b[0m\u001b[0;34m(\u001b[0m\u001b[0;34m*\u001b[0m\u001b[0margs\u001b[0m\u001b[0;34m,\u001b[0m \u001b[0;34m**\u001b[0m\u001b[0mkwargs\u001b[0m\u001b[0;34m)\u001b[0m\u001b[0;34m\u001b[0m\u001b[0;34m\u001b[0m\u001b[0m\n\u001b[0m\u001b[1;32m   1519\u001b[0m \u001b[0;34m\u001b[0m\u001b[0m\n\u001b[1;32m   1520\u001b[0m     \u001b[0;32mdef\u001b[0m \u001b[0m_call_impl\u001b[0m\u001b[0;34m(\u001b[0m\u001b[0mself\u001b[0m\u001b[0;34m,\u001b[0m \u001b[0;34m*\u001b[0m\u001b[0margs\u001b[0m\u001b[0;34m,\u001b[0m \u001b[0;34m**\u001b[0m\u001b[0mkwargs\u001b[0m\u001b[0;34m)\u001b[0m\u001b[0;34m:\u001b[0m\u001b[0;34m\u001b[0m\u001b[0;34m\u001b[0m\u001b[0m\n",
            "\u001b[0;32m/usr/local/lib/python3.10/dist-packages/torch/nn/modules/module.py\u001b[0m in \u001b[0;36m_call_impl\u001b[0;34m(self, *args, **kwargs)\u001b[0m\n\u001b[1;32m   1525\u001b[0m                 \u001b[0;32mor\u001b[0m \u001b[0m_global_backward_pre_hooks\u001b[0m \u001b[0;32mor\u001b[0m \u001b[0m_global_backward_hooks\u001b[0m\u001b[0;34m\u001b[0m\u001b[0;34m\u001b[0m\u001b[0m\n\u001b[1;32m   1526\u001b[0m                 or _global_forward_hooks or _global_forward_pre_hooks):\n\u001b[0;32m-> 1527\u001b[0;31m             \u001b[0;32mreturn\u001b[0m \u001b[0mforward_call\u001b[0m\u001b[0;34m(\u001b[0m\u001b[0;34m*\u001b[0m\u001b[0margs\u001b[0m\u001b[0;34m,\u001b[0m \u001b[0;34m**\u001b[0m\u001b[0mkwargs\u001b[0m\u001b[0;34m)\u001b[0m\u001b[0;34m\u001b[0m\u001b[0;34m\u001b[0m\u001b[0m\n\u001b[0m\u001b[1;32m   1528\u001b[0m \u001b[0;34m\u001b[0m\u001b[0m\n\u001b[1;32m   1529\u001b[0m         \u001b[0;32mtry\u001b[0m\u001b[0;34m:\u001b[0m\u001b[0;34m\u001b[0m\u001b[0;34m\u001b[0m\u001b[0m\n",
            "\u001b[0;32m/usr/local/lib/python3.10/dist-packages/accelerate/utils/operations.py\u001b[0m in \u001b[0;36mforward\u001b[0;34m(*args, **kwargs)\u001b[0m\n\u001b[1;32m    827\u001b[0m \u001b[0;34m\u001b[0m\u001b[0m\n\u001b[1;32m    828\u001b[0m     \u001b[0;32mdef\u001b[0m \u001b[0mforward\u001b[0m\u001b[0;34m(\u001b[0m\u001b[0;34m*\u001b[0m\u001b[0margs\u001b[0m\u001b[0;34m,\u001b[0m \u001b[0;34m**\u001b[0m\u001b[0mkwargs\u001b[0m\u001b[0;34m)\u001b[0m\u001b[0;34m:\u001b[0m\u001b[0;34m\u001b[0m\u001b[0;34m\u001b[0m\u001b[0m\n\u001b[0;32m--> 829\u001b[0;31m         \u001b[0;32mreturn\u001b[0m \u001b[0mmodel_forward\u001b[0m\u001b[0;34m(\u001b[0m\u001b[0;34m*\u001b[0m\u001b[0margs\u001b[0m\u001b[0;34m,\u001b[0m \u001b[0;34m**\u001b[0m\u001b[0mkwargs\u001b[0m\u001b[0;34m)\u001b[0m\u001b[0;34m\u001b[0m\u001b[0;34m\u001b[0m\u001b[0m\n\u001b[0m\u001b[1;32m    830\u001b[0m \u001b[0;34m\u001b[0m\u001b[0m\n\u001b[1;32m    831\u001b[0m     \u001b[0;31m# To act like a decorator so that it can be popped when doing `extract_model_from_parallel`\u001b[0m\u001b[0;34m\u001b[0m\u001b[0;34m\u001b[0m\u001b[0m\n",
            "\u001b[0;32m/usr/local/lib/python3.10/dist-packages/accelerate/utils/operations.py\u001b[0m in \u001b[0;36m__call__\u001b[0;34m(self, *args, **kwargs)\u001b[0m\n\u001b[1;32m    815\u001b[0m \u001b[0;34m\u001b[0m\u001b[0m\n\u001b[1;32m    816\u001b[0m     \u001b[0;32mdef\u001b[0m \u001b[0m__call__\u001b[0m\u001b[0;34m(\u001b[0m\u001b[0mself\u001b[0m\u001b[0;34m,\u001b[0m \u001b[0;34m*\u001b[0m\u001b[0margs\u001b[0m\u001b[0;34m,\u001b[0m \u001b[0;34m**\u001b[0m\u001b[0mkwargs\u001b[0m\u001b[0;34m)\u001b[0m\u001b[0;34m:\u001b[0m\u001b[0;34m\u001b[0m\u001b[0;34m\u001b[0m\u001b[0m\n\u001b[0;32m--> 817\u001b[0;31m         \u001b[0;32mreturn\u001b[0m \u001b[0mconvert_to_fp32\u001b[0m\u001b[0;34m(\u001b[0m\u001b[0mself\u001b[0m\u001b[0;34m.\u001b[0m\u001b[0mmodel_forward\u001b[0m\u001b[0;34m(\u001b[0m\u001b[0;34m*\u001b[0m\u001b[0margs\u001b[0m\u001b[0;34m,\u001b[0m \u001b[0;34m**\u001b[0m\u001b[0mkwargs\u001b[0m\u001b[0;34m)\u001b[0m\u001b[0;34m)\u001b[0m\u001b[0;34m\u001b[0m\u001b[0;34m\u001b[0m\u001b[0m\n\u001b[0m\u001b[1;32m    818\u001b[0m \u001b[0;34m\u001b[0m\u001b[0m\n\u001b[1;32m    819\u001b[0m     \u001b[0;32mdef\u001b[0m \u001b[0m__getstate__\u001b[0m\u001b[0;34m(\u001b[0m\u001b[0mself\u001b[0m\u001b[0;34m)\u001b[0m\u001b[0;34m:\u001b[0m\u001b[0;34m\u001b[0m\u001b[0;34m\u001b[0m\u001b[0m\n",
            "\u001b[0;32m/usr/local/lib/python3.10/dist-packages/torch/amp/autocast_mode.py\u001b[0m in \u001b[0;36mdecorate_autocast\u001b[0;34m(*args, **kwargs)\u001b[0m\n\u001b[1;32m     14\u001b[0m     \u001b[0;32mdef\u001b[0m \u001b[0mdecorate_autocast\u001b[0m\u001b[0;34m(\u001b[0m\u001b[0;34m*\u001b[0m\u001b[0margs\u001b[0m\u001b[0;34m,\u001b[0m \u001b[0;34m**\u001b[0m\u001b[0mkwargs\u001b[0m\u001b[0;34m)\u001b[0m\u001b[0;34m:\u001b[0m\u001b[0;34m\u001b[0m\u001b[0;34m\u001b[0m\u001b[0m\n\u001b[1;32m     15\u001b[0m         \u001b[0;32mwith\u001b[0m \u001b[0mautocast_instance\u001b[0m\u001b[0;34m:\u001b[0m\u001b[0;34m\u001b[0m\u001b[0;34m\u001b[0m\u001b[0m\n\u001b[0;32m---> 16\u001b[0;31m             \u001b[0;32mreturn\u001b[0m \u001b[0mfunc\u001b[0m\u001b[0;34m(\u001b[0m\u001b[0;34m*\u001b[0m\u001b[0margs\u001b[0m\u001b[0;34m,\u001b[0m \u001b[0;34m**\u001b[0m\u001b[0mkwargs\u001b[0m\u001b[0;34m)\u001b[0m\u001b[0;34m\u001b[0m\u001b[0;34m\u001b[0m\u001b[0m\n\u001b[0m\u001b[1;32m     17\u001b[0m \u001b[0;34m\u001b[0m\u001b[0m\n\u001b[1;32m     18\u001b[0m     \u001b[0mdecorate_autocast\u001b[0m\u001b[0;34m.\u001b[0m\u001b[0m__script_unsupported\u001b[0m \u001b[0;34m=\u001b[0m \u001b[0;34m\"@autocast() decorator is not supported in script mode\"\u001b[0m  \u001b[0;31m# type: ignore[attr-defined]\u001b[0m\u001b[0;34m\u001b[0m\u001b[0;34m\u001b[0m\u001b[0m\n",
            "\u001b[0;32m/usr/local/lib/python3.10/dist-packages/peft/peft_model.py\u001b[0m in \u001b[0;36mforward\u001b[0;34m(self, input_ids, attention_mask, inputs_embeds, labels, output_attentions, output_hidden_states, return_dict, task_ids, **kwargs)\u001b[0m\n\u001b[1;32m   1081\u001b[0m             \u001b[0;32mif\u001b[0m \u001b[0mpeft_config\u001b[0m\u001b[0;34m.\u001b[0m\u001b[0mpeft_type\u001b[0m \u001b[0;34m==\u001b[0m \u001b[0mPeftType\u001b[0m\u001b[0;34m.\u001b[0m\u001b[0mPOLY\u001b[0m\u001b[0;34m:\u001b[0m\u001b[0;34m\u001b[0m\u001b[0;34m\u001b[0m\u001b[0m\n\u001b[1;32m   1082\u001b[0m                 \u001b[0mkwargs\u001b[0m\u001b[0;34m[\u001b[0m\u001b[0;34m\"task_ids\"\u001b[0m\u001b[0;34m]\u001b[0m \u001b[0;34m=\u001b[0m \u001b[0mtask_ids\u001b[0m\u001b[0;34m\u001b[0m\u001b[0;34m\u001b[0m\u001b[0m\n\u001b[0;32m-> 1083\u001b[0;31m             return self.base_model(\n\u001b[0m\u001b[1;32m   1084\u001b[0m                 \u001b[0minput_ids\u001b[0m\u001b[0;34m=\u001b[0m\u001b[0minput_ids\u001b[0m\u001b[0;34m,\u001b[0m\u001b[0;34m\u001b[0m\u001b[0;34m\u001b[0m\u001b[0m\n\u001b[1;32m   1085\u001b[0m                 \u001b[0mattention_mask\u001b[0m\u001b[0;34m=\u001b[0m\u001b[0mattention_mask\u001b[0m\u001b[0;34m,\u001b[0m\u001b[0;34m\u001b[0m\u001b[0;34m\u001b[0m\u001b[0m\n",
            "\u001b[0;32m/usr/local/lib/python3.10/dist-packages/torch/nn/modules/module.py\u001b[0m in \u001b[0;36m_wrapped_call_impl\u001b[0;34m(self, *args, **kwargs)\u001b[0m\n\u001b[1;32m   1516\u001b[0m             \u001b[0;32mreturn\u001b[0m \u001b[0mself\u001b[0m\u001b[0;34m.\u001b[0m\u001b[0m_compiled_call_impl\u001b[0m\u001b[0;34m(\u001b[0m\u001b[0;34m*\u001b[0m\u001b[0margs\u001b[0m\u001b[0;34m,\u001b[0m \u001b[0;34m**\u001b[0m\u001b[0mkwargs\u001b[0m\u001b[0;34m)\u001b[0m  \u001b[0;31m# type: ignore[misc]\u001b[0m\u001b[0;34m\u001b[0m\u001b[0;34m\u001b[0m\u001b[0m\n\u001b[1;32m   1517\u001b[0m         \u001b[0;32melse\u001b[0m\u001b[0;34m:\u001b[0m\u001b[0;34m\u001b[0m\u001b[0;34m\u001b[0m\u001b[0m\n\u001b[0;32m-> 1518\u001b[0;31m             \u001b[0;32mreturn\u001b[0m \u001b[0mself\u001b[0m\u001b[0;34m.\u001b[0m\u001b[0m_call_impl\u001b[0m\u001b[0;34m(\u001b[0m\u001b[0;34m*\u001b[0m\u001b[0margs\u001b[0m\u001b[0;34m,\u001b[0m \u001b[0;34m**\u001b[0m\u001b[0mkwargs\u001b[0m\u001b[0;34m)\u001b[0m\u001b[0;34m\u001b[0m\u001b[0;34m\u001b[0m\u001b[0m\n\u001b[0m\u001b[1;32m   1519\u001b[0m \u001b[0;34m\u001b[0m\u001b[0m\n\u001b[1;32m   1520\u001b[0m     \u001b[0;32mdef\u001b[0m \u001b[0m_call_impl\u001b[0m\u001b[0;34m(\u001b[0m\u001b[0mself\u001b[0m\u001b[0;34m,\u001b[0m \u001b[0;34m*\u001b[0m\u001b[0margs\u001b[0m\u001b[0;34m,\u001b[0m \u001b[0;34m**\u001b[0m\u001b[0mkwargs\u001b[0m\u001b[0;34m)\u001b[0m\u001b[0;34m:\u001b[0m\u001b[0;34m\u001b[0m\u001b[0;34m\u001b[0m\u001b[0m\n",
            "\u001b[0;32m/usr/local/lib/python3.10/dist-packages/torch/nn/modules/module.py\u001b[0m in \u001b[0;36m_call_impl\u001b[0;34m(self, *args, **kwargs)\u001b[0m\n\u001b[1;32m   1525\u001b[0m                 \u001b[0;32mor\u001b[0m \u001b[0m_global_backward_pre_hooks\u001b[0m \u001b[0;32mor\u001b[0m \u001b[0m_global_backward_hooks\u001b[0m\u001b[0;34m\u001b[0m\u001b[0;34m\u001b[0m\u001b[0m\n\u001b[1;32m   1526\u001b[0m                 or _global_forward_hooks or _global_forward_pre_hooks):\n\u001b[0;32m-> 1527\u001b[0;31m             \u001b[0;32mreturn\u001b[0m \u001b[0mforward_call\u001b[0m\u001b[0;34m(\u001b[0m\u001b[0;34m*\u001b[0m\u001b[0margs\u001b[0m\u001b[0;34m,\u001b[0m \u001b[0;34m**\u001b[0m\u001b[0mkwargs\u001b[0m\u001b[0;34m)\u001b[0m\u001b[0;34m\u001b[0m\u001b[0;34m\u001b[0m\u001b[0m\n\u001b[0m\u001b[1;32m   1528\u001b[0m \u001b[0;34m\u001b[0m\u001b[0m\n\u001b[1;32m   1529\u001b[0m         \u001b[0;32mtry\u001b[0m\u001b[0;34m:\u001b[0m\u001b[0;34m\u001b[0m\u001b[0;34m\u001b[0m\u001b[0m\n",
            "\u001b[0;32m/usr/local/lib/python3.10/dist-packages/peft/tuners/tuners_utils.py\u001b[0m in \u001b[0;36mforward\u001b[0;34m(self, *args, **kwargs)\u001b[0m\n\u001b[1;32m    159\u001b[0m \u001b[0;34m\u001b[0m\u001b[0m\n\u001b[1;32m    160\u001b[0m     \u001b[0;32mdef\u001b[0m \u001b[0mforward\u001b[0m\u001b[0;34m(\u001b[0m\u001b[0mself\u001b[0m\u001b[0;34m,\u001b[0m \u001b[0;34m*\u001b[0m\u001b[0margs\u001b[0m\u001b[0;34m:\u001b[0m \u001b[0mAny\u001b[0m\u001b[0;34m,\u001b[0m \u001b[0;34m**\u001b[0m\u001b[0mkwargs\u001b[0m\u001b[0;34m:\u001b[0m \u001b[0mAny\u001b[0m\u001b[0;34m)\u001b[0m\u001b[0;34m:\u001b[0m\u001b[0;34m\u001b[0m\u001b[0;34m\u001b[0m\u001b[0m\n\u001b[0;32m--> 161\u001b[0;31m         \u001b[0;32mreturn\u001b[0m \u001b[0mself\u001b[0m\u001b[0;34m.\u001b[0m\u001b[0mmodel\u001b[0m\u001b[0;34m.\u001b[0m\u001b[0mforward\u001b[0m\u001b[0;34m(\u001b[0m\u001b[0;34m*\u001b[0m\u001b[0margs\u001b[0m\u001b[0;34m,\u001b[0m \u001b[0;34m**\u001b[0m\u001b[0mkwargs\u001b[0m\u001b[0;34m)\u001b[0m\u001b[0;34m\u001b[0m\u001b[0;34m\u001b[0m\u001b[0m\n\u001b[0m\u001b[1;32m    162\u001b[0m \u001b[0;34m\u001b[0m\u001b[0m\n\u001b[1;32m    163\u001b[0m     \u001b[0;34m@\u001b[0m\u001b[0mabstractmethod\u001b[0m\u001b[0;34m\u001b[0m\u001b[0;34m\u001b[0m\u001b[0m\n",
            "\u001b[0;32m/usr/local/lib/python3.10/dist-packages/accelerate/hooks.py\u001b[0m in \u001b[0;36mnew_forward\u001b[0;34m(module, *args, **kwargs)\u001b[0m\n\u001b[1;32m    164\u001b[0m                 \u001b[0moutput\u001b[0m \u001b[0;34m=\u001b[0m \u001b[0mmodule\u001b[0m\u001b[0;34m.\u001b[0m\u001b[0m_old_forward\u001b[0m\u001b[0;34m(\u001b[0m\u001b[0;34m*\u001b[0m\u001b[0margs\u001b[0m\u001b[0;34m,\u001b[0m \u001b[0;34m**\u001b[0m\u001b[0mkwargs\u001b[0m\u001b[0;34m)\u001b[0m\u001b[0;34m\u001b[0m\u001b[0;34m\u001b[0m\u001b[0m\n\u001b[1;32m    165\u001b[0m         \u001b[0;32melse\u001b[0m\u001b[0;34m:\u001b[0m\u001b[0;34m\u001b[0m\u001b[0;34m\u001b[0m\u001b[0m\n\u001b[0;32m--> 166\u001b[0;31m             \u001b[0moutput\u001b[0m \u001b[0;34m=\u001b[0m \u001b[0mmodule\u001b[0m\u001b[0;34m.\u001b[0m\u001b[0m_old_forward\u001b[0m\u001b[0;34m(\u001b[0m\u001b[0;34m*\u001b[0m\u001b[0margs\u001b[0m\u001b[0;34m,\u001b[0m \u001b[0;34m**\u001b[0m\u001b[0mkwargs\u001b[0m\u001b[0;34m)\u001b[0m\u001b[0;34m\u001b[0m\u001b[0;34m\u001b[0m\u001b[0m\n\u001b[0m\u001b[1;32m    167\u001b[0m         \u001b[0;32mreturn\u001b[0m \u001b[0mmodule\u001b[0m\u001b[0;34m.\u001b[0m\u001b[0m_hf_hook\u001b[0m\u001b[0;34m.\u001b[0m\u001b[0mpost_forward\u001b[0m\u001b[0;34m(\u001b[0m\u001b[0mmodule\u001b[0m\u001b[0;34m,\u001b[0m \u001b[0moutput\u001b[0m\u001b[0;34m)\u001b[0m\u001b[0;34m\u001b[0m\u001b[0;34m\u001b[0m\u001b[0m\n\u001b[1;32m    168\u001b[0m \u001b[0;34m\u001b[0m\u001b[0m\n",
            "\u001b[0;32m/usr/local/lib/python3.10/dist-packages/transformers/models/mistral/modeling_mistral.py\u001b[0m in \u001b[0;36mforward\u001b[0;34m(self, input_ids, attention_mask, position_ids, past_key_values, inputs_embeds, labels, use_cache, output_attentions, output_hidden_states, return_dict)\u001b[0m\n\u001b[1;32m   1152\u001b[0m \u001b[0;34m\u001b[0m\u001b[0m\n\u001b[1;32m   1153\u001b[0m         \u001b[0;31m# decoder outputs consists of (dec_features, layer_state, dec_hidden, dec_attn)\u001b[0m\u001b[0;34m\u001b[0m\u001b[0;34m\u001b[0m\u001b[0m\n\u001b[0;32m-> 1154\u001b[0;31m         outputs = self.model(\n\u001b[0m\u001b[1;32m   1155\u001b[0m             \u001b[0minput_ids\u001b[0m\u001b[0;34m=\u001b[0m\u001b[0minput_ids\u001b[0m\u001b[0;34m,\u001b[0m\u001b[0;34m\u001b[0m\u001b[0;34m\u001b[0m\u001b[0m\n\u001b[1;32m   1156\u001b[0m             \u001b[0mattention_mask\u001b[0m\u001b[0;34m=\u001b[0m\u001b[0mattention_mask\u001b[0m\u001b[0;34m,\u001b[0m\u001b[0;34m\u001b[0m\u001b[0;34m\u001b[0m\u001b[0m\n",
            "\u001b[0;32m/usr/local/lib/python3.10/dist-packages/torch/nn/modules/module.py\u001b[0m in \u001b[0;36m_wrapped_call_impl\u001b[0;34m(self, *args, **kwargs)\u001b[0m\n\u001b[1;32m   1516\u001b[0m             \u001b[0;32mreturn\u001b[0m \u001b[0mself\u001b[0m\u001b[0;34m.\u001b[0m\u001b[0m_compiled_call_impl\u001b[0m\u001b[0;34m(\u001b[0m\u001b[0;34m*\u001b[0m\u001b[0margs\u001b[0m\u001b[0;34m,\u001b[0m \u001b[0;34m**\u001b[0m\u001b[0mkwargs\u001b[0m\u001b[0;34m)\u001b[0m  \u001b[0;31m# type: ignore[misc]\u001b[0m\u001b[0;34m\u001b[0m\u001b[0;34m\u001b[0m\u001b[0m\n\u001b[1;32m   1517\u001b[0m         \u001b[0;32melse\u001b[0m\u001b[0;34m:\u001b[0m\u001b[0;34m\u001b[0m\u001b[0;34m\u001b[0m\u001b[0m\n\u001b[0;32m-> 1518\u001b[0;31m             \u001b[0;32mreturn\u001b[0m \u001b[0mself\u001b[0m\u001b[0;34m.\u001b[0m\u001b[0m_call_impl\u001b[0m\u001b[0;34m(\u001b[0m\u001b[0;34m*\u001b[0m\u001b[0margs\u001b[0m\u001b[0;34m,\u001b[0m \u001b[0;34m**\u001b[0m\u001b[0mkwargs\u001b[0m\u001b[0;34m)\u001b[0m\u001b[0;34m\u001b[0m\u001b[0;34m\u001b[0m\u001b[0m\n\u001b[0m\u001b[1;32m   1519\u001b[0m \u001b[0;34m\u001b[0m\u001b[0m\n\u001b[1;32m   1520\u001b[0m     \u001b[0;32mdef\u001b[0m \u001b[0m_call_impl\u001b[0m\u001b[0;34m(\u001b[0m\u001b[0mself\u001b[0m\u001b[0;34m,\u001b[0m \u001b[0;34m*\u001b[0m\u001b[0margs\u001b[0m\u001b[0;34m,\u001b[0m \u001b[0;34m**\u001b[0m\u001b[0mkwargs\u001b[0m\u001b[0;34m)\u001b[0m\u001b[0;34m:\u001b[0m\u001b[0;34m\u001b[0m\u001b[0;34m\u001b[0m\u001b[0m\n",
            "\u001b[0;32m/usr/local/lib/python3.10/dist-packages/torch/nn/modules/module.py\u001b[0m in \u001b[0;36m_call_impl\u001b[0;34m(self, *args, **kwargs)\u001b[0m\n\u001b[1;32m   1525\u001b[0m                 \u001b[0;32mor\u001b[0m \u001b[0m_global_backward_pre_hooks\u001b[0m \u001b[0;32mor\u001b[0m \u001b[0m_global_backward_hooks\u001b[0m\u001b[0;34m\u001b[0m\u001b[0;34m\u001b[0m\u001b[0m\n\u001b[1;32m   1526\u001b[0m                 or _global_forward_hooks or _global_forward_pre_hooks):\n\u001b[0;32m-> 1527\u001b[0;31m             \u001b[0;32mreturn\u001b[0m \u001b[0mforward_call\u001b[0m\u001b[0;34m(\u001b[0m\u001b[0;34m*\u001b[0m\u001b[0margs\u001b[0m\u001b[0;34m,\u001b[0m \u001b[0;34m**\u001b[0m\u001b[0mkwargs\u001b[0m\u001b[0;34m)\u001b[0m\u001b[0;34m\u001b[0m\u001b[0;34m\u001b[0m\u001b[0m\n\u001b[0m\u001b[1;32m   1528\u001b[0m \u001b[0;34m\u001b[0m\u001b[0m\n\u001b[1;32m   1529\u001b[0m         \u001b[0;32mtry\u001b[0m\u001b[0;34m:\u001b[0m\u001b[0;34m\u001b[0m\u001b[0;34m\u001b[0m\u001b[0m\n",
            "\u001b[0;32m/usr/local/lib/python3.10/dist-packages/accelerate/hooks.py\u001b[0m in \u001b[0;36mnew_forward\u001b[0;34m(module, *args, **kwargs)\u001b[0m\n\u001b[1;32m    164\u001b[0m                 \u001b[0moutput\u001b[0m \u001b[0;34m=\u001b[0m \u001b[0mmodule\u001b[0m\u001b[0;34m.\u001b[0m\u001b[0m_old_forward\u001b[0m\u001b[0;34m(\u001b[0m\u001b[0;34m*\u001b[0m\u001b[0margs\u001b[0m\u001b[0;34m,\u001b[0m \u001b[0;34m**\u001b[0m\u001b[0mkwargs\u001b[0m\u001b[0;34m)\u001b[0m\u001b[0;34m\u001b[0m\u001b[0;34m\u001b[0m\u001b[0m\n\u001b[1;32m    165\u001b[0m         \u001b[0;32melse\u001b[0m\u001b[0;34m:\u001b[0m\u001b[0;34m\u001b[0m\u001b[0;34m\u001b[0m\u001b[0m\n\u001b[0;32m--> 166\u001b[0;31m             \u001b[0moutput\u001b[0m \u001b[0;34m=\u001b[0m \u001b[0mmodule\u001b[0m\u001b[0;34m.\u001b[0m\u001b[0m_old_forward\u001b[0m\u001b[0;34m(\u001b[0m\u001b[0;34m*\u001b[0m\u001b[0margs\u001b[0m\u001b[0;34m,\u001b[0m \u001b[0;34m**\u001b[0m\u001b[0mkwargs\u001b[0m\u001b[0;34m)\u001b[0m\u001b[0;34m\u001b[0m\u001b[0;34m\u001b[0m\u001b[0m\n\u001b[0m\u001b[1;32m    167\u001b[0m         \u001b[0;32mreturn\u001b[0m \u001b[0mmodule\u001b[0m\u001b[0;34m.\u001b[0m\u001b[0m_hf_hook\u001b[0m\u001b[0;34m.\u001b[0m\u001b[0mpost_forward\u001b[0m\u001b[0;34m(\u001b[0m\u001b[0mmodule\u001b[0m\u001b[0;34m,\u001b[0m \u001b[0moutput\u001b[0m\u001b[0;34m)\u001b[0m\u001b[0;34m\u001b[0m\u001b[0;34m\u001b[0m\u001b[0m\n\u001b[1;32m    168\u001b[0m \u001b[0;34m\u001b[0m\u001b[0m\n",
            "\u001b[0;32m/usr/local/lib/python3.10/dist-packages/transformers/models/mistral/modeling_mistral.py\u001b[0m in \u001b[0;36mforward\u001b[0;34m(self, input_ids, attention_mask, position_ids, past_key_values, inputs_embeds, use_cache, output_attentions, output_hidden_states, return_dict)\u001b[0m\n\u001b[1;32m   1027\u001b[0m \u001b[0;34m\u001b[0m\u001b[0m\n\u001b[1;32m   1028\u001b[0m             \u001b[0;32mif\u001b[0m \u001b[0mself\u001b[0m\u001b[0;34m.\u001b[0m\u001b[0mgradient_checkpointing\u001b[0m \u001b[0;32mand\u001b[0m \u001b[0mself\u001b[0m\u001b[0;34m.\u001b[0m\u001b[0mtraining\u001b[0m\u001b[0;34m:\u001b[0m\u001b[0;34m\u001b[0m\u001b[0;34m\u001b[0m\u001b[0m\n\u001b[0;32m-> 1029\u001b[0;31m                 layer_outputs = self._gradient_checkpointing_func(\n\u001b[0m\u001b[1;32m   1030\u001b[0m                     \u001b[0mdecoder_layer\u001b[0m\u001b[0;34m.\u001b[0m\u001b[0m__call__\u001b[0m\u001b[0;34m,\u001b[0m\u001b[0;34m\u001b[0m\u001b[0;34m\u001b[0m\u001b[0m\n\u001b[1;32m   1031\u001b[0m                     \u001b[0mhidden_states\u001b[0m\u001b[0;34m,\u001b[0m\u001b[0;34m\u001b[0m\u001b[0;34m\u001b[0m\u001b[0m\n",
            "\u001b[0;32m/usr/local/lib/python3.10/dist-packages/torch/_compile.py\u001b[0m in \u001b[0;36minner\u001b[0;34m(*args, **kwargs)\u001b[0m\n\u001b[1;32m     22\u001b[0m             \u001b[0;32mimport\u001b[0m \u001b[0mtorch\u001b[0m\u001b[0;34m.\u001b[0m\u001b[0m_dynamo\u001b[0m\u001b[0;34m\u001b[0m\u001b[0;34m\u001b[0m\u001b[0m\n\u001b[1;32m     23\u001b[0m \u001b[0;34m\u001b[0m\u001b[0m\n\u001b[0;32m---> 24\u001b[0;31m             \u001b[0;32mreturn\u001b[0m \u001b[0mtorch\u001b[0m\u001b[0;34m.\u001b[0m\u001b[0m_dynamo\u001b[0m\u001b[0;34m.\u001b[0m\u001b[0mdisable\u001b[0m\u001b[0;34m(\u001b[0m\u001b[0mfn\u001b[0m\u001b[0;34m,\u001b[0m \u001b[0mrecursive\u001b[0m\u001b[0;34m)\u001b[0m\u001b[0;34m(\u001b[0m\u001b[0;34m*\u001b[0m\u001b[0margs\u001b[0m\u001b[0;34m,\u001b[0m \u001b[0;34m**\u001b[0m\u001b[0mkwargs\u001b[0m\u001b[0;34m)\u001b[0m\u001b[0;34m\u001b[0m\u001b[0;34m\u001b[0m\u001b[0m\n\u001b[0m\u001b[1;32m     25\u001b[0m \u001b[0;34m\u001b[0m\u001b[0m\n\u001b[1;32m     26\u001b[0m         \u001b[0;32mreturn\u001b[0m \u001b[0minner\u001b[0m\u001b[0;34m\u001b[0m\u001b[0;34m\u001b[0m\u001b[0m\n",
            "\u001b[0;32m/usr/local/lib/python3.10/dist-packages/torch/_dynamo/eval_frame.py\u001b[0m in \u001b[0;36m_fn\u001b[0;34m(*args, **kwargs)\u001b[0m\n\u001b[1;32m    326\u001b[0m             \u001b[0mdynamic_ctx\u001b[0m\u001b[0;34m.\u001b[0m\u001b[0m__enter__\u001b[0m\u001b[0;34m(\u001b[0m\u001b[0;34m)\u001b[0m\u001b[0;34m\u001b[0m\u001b[0;34m\u001b[0m\u001b[0m\n\u001b[1;32m    327\u001b[0m             \u001b[0;32mtry\u001b[0m\u001b[0;34m:\u001b[0m\u001b[0;34m\u001b[0m\u001b[0;34m\u001b[0m\u001b[0m\n\u001b[0;32m--> 328\u001b[0;31m                 \u001b[0;32mreturn\u001b[0m \u001b[0mfn\u001b[0m\u001b[0;34m(\u001b[0m\u001b[0;34m*\u001b[0m\u001b[0margs\u001b[0m\u001b[0;34m,\u001b[0m \u001b[0;34m**\u001b[0m\u001b[0mkwargs\u001b[0m\u001b[0;34m)\u001b[0m\u001b[0;34m\u001b[0m\u001b[0;34m\u001b[0m\u001b[0m\n\u001b[0m\u001b[1;32m    329\u001b[0m             \u001b[0;32mfinally\u001b[0m\u001b[0;34m:\u001b[0m\u001b[0;34m\u001b[0m\u001b[0;34m\u001b[0m\u001b[0m\n\u001b[1;32m    330\u001b[0m                 \u001b[0mset_eval_frame\u001b[0m\u001b[0;34m(\u001b[0m\u001b[0mprior\u001b[0m\u001b[0;34m)\u001b[0m\u001b[0;34m\u001b[0m\u001b[0;34m\u001b[0m\u001b[0m\n",
            "\u001b[0;32m/usr/local/lib/python3.10/dist-packages/torch/_dynamo/external_utils.py\u001b[0m in \u001b[0;36minner\u001b[0;34m(*args, **kwargs)\u001b[0m\n\u001b[1;32m     15\u001b[0m     \u001b[0;34m@\u001b[0m\u001b[0mfunctools\u001b[0m\u001b[0;34m.\u001b[0m\u001b[0mwraps\u001b[0m\u001b[0;34m(\u001b[0m\u001b[0mfn\u001b[0m\u001b[0;34m)\u001b[0m\u001b[0;34m\u001b[0m\u001b[0;34m\u001b[0m\u001b[0m\n\u001b[1;32m     16\u001b[0m     \u001b[0;32mdef\u001b[0m \u001b[0minner\u001b[0m\u001b[0;34m(\u001b[0m\u001b[0;34m*\u001b[0m\u001b[0margs\u001b[0m\u001b[0;34m,\u001b[0m \u001b[0;34m**\u001b[0m\u001b[0mkwargs\u001b[0m\u001b[0;34m)\u001b[0m\u001b[0;34m:\u001b[0m\u001b[0;34m\u001b[0m\u001b[0;34m\u001b[0m\u001b[0m\n\u001b[0;32m---> 17\u001b[0;31m         \u001b[0;32mreturn\u001b[0m \u001b[0mfn\u001b[0m\u001b[0;34m(\u001b[0m\u001b[0;34m*\u001b[0m\u001b[0margs\u001b[0m\u001b[0;34m,\u001b[0m \u001b[0;34m**\u001b[0m\u001b[0mkwargs\u001b[0m\u001b[0;34m)\u001b[0m\u001b[0;34m\u001b[0m\u001b[0;34m\u001b[0m\u001b[0m\n\u001b[0m\u001b[1;32m     18\u001b[0m \u001b[0;34m\u001b[0m\u001b[0m\n\u001b[1;32m     19\u001b[0m     \u001b[0;32mreturn\u001b[0m \u001b[0minner\u001b[0m\u001b[0;34m\u001b[0m\u001b[0;34m\u001b[0m\u001b[0m\n",
            "\u001b[0;32m/usr/local/lib/python3.10/dist-packages/torch/utils/checkpoint.py\u001b[0m in \u001b[0;36mcheckpoint\u001b[0;34m(function, use_reentrant, context_fn, determinism_check, debug, *args, **kwargs)\u001b[0m\n\u001b[1;32m    449\u001b[0m                 \u001b[0;34m\"use_reentrant=False.\"\u001b[0m\u001b[0;34m\u001b[0m\u001b[0;34m\u001b[0m\u001b[0m\n\u001b[1;32m    450\u001b[0m             )\n\u001b[0;32m--> 451\u001b[0;31m         \u001b[0;32mreturn\u001b[0m \u001b[0mCheckpointFunction\u001b[0m\u001b[0;34m.\u001b[0m\u001b[0mapply\u001b[0m\u001b[0;34m(\u001b[0m\u001b[0mfunction\u001b[0m\u001b[0;34m,\u001b[0m \u001b[0mpreserve\u001b[0m\u001b[0;34m,\u001b[0m \u001b[0;34m*\u001b[0m\u001b[0margs\u001b[0m\u001b[0;34m)\u001b[0m\u001b[0;34m\u001b[0m\u001b[0;34m\u001b[0m\u001b[0m\n\u001b[0m\u001b[1;32m    452\u001b[0m     \u001b[0;32melse\u001b[0m\u001b[0;34m:\u001b[0m\u001b[0;34m\u001b[0m\u001b[0;34m\u001b[0m\u001b[0m\n\u001b[1;32m    453\u001b[0m         gen = _checkpoint_without_reentrant_generator(\n",
            "\u001b[0;32m/usr/local/lib/python3.10/dist-packages/torch/autograd/function.py\u001b[0m in \u001b[0;36mapply\u001b[0;34m(cls, *args, **kwargs)\u001b[0m\n\u001b[1;32m    537\u001b[0m             \u001b[0;31m# See NOTE: [functorch vjp and autograd interaction]\u001b[0m\u001b[0;34m\u001b[0m\u001b[0;34m\u001b[0m\u001b[0m\n\u001b[1;32m    538\u001b[0m             \u001b[0margs\u001b[0m \u001b[0;34m=\u001b[0m \u001b[0m_functorch\u001b[0m\u001b[0;34m.\u001b[0m\u001b[0mutils\u001b[0m\u001b[0;34m.\u001b[0m\u001b[0munwrap_dead_wrappers\u001b[0m\u001b[0;34m(\u001b[0m\u001b[0margs\u001b[0m\u001b[0;34m)\u001b[0m\u001b[0;34m\u001b[0m\u001b[0;34m\u001b[0m\u001b[0m\n\u001b[0;32m--> 539\u001b[0;31m             \u001b[0;32mreturn\u001b[0m \u001b[0msuper\u001b[0m\u001b[0;34m(\u001b[0m\u001b[0;34m)\u001b[0m\u001b[0;34m.\u001b[0m\u001b[0mapply\u001b[0m\u001b[0;34m(\u001b[0m\u001b[0;34m*\u001b[0m\u001b[0margs\u001b[0m\u001b[0;34m,\u001b[0m \u001b[0;34m**\u001b[0m\u001b[0mkwargs\u001b[0m\u001b[0;34m)\u001b[0m  \u001b[0;31m# type: ignore[misc]\u001b[0m\u001b[0;34m\u001b[0m\u001b[0;34m\u001b[0m\u001b[0m\n\u001b[0m\u001b[1;32m    540\u001b[0m \u001b[0;34m\u001b[0m\u001b[0m\n\u001b[1;32m    541\u001b[0m         \u001b[0;32mif\u001b[0m \u001b[0mcls\u001b[0m\u001b[0;34m.\u001b[0m\u001b[0msetup_context\u001b[0m \u001b[0;34m==\u001b[0m \u001b[0m_SingleLevelFunction\u001b[0m\u001b[0;34m.\u001b[0m\u001b[0msetup_context\u001b[0m\u001b[0;34m:\u001b[0m\u001b[0;34m\u001b[0m\u001b[0;34m\u001b[0m\u001b[0m\n",
            "\u001b[0;32m/usr/local/lib/python3.10/dist-packages/torch/utils/checkpoint.py\u001b[0m in \u001b[0;36mforward\u001b[0;34m(ctx, run_function, preserve_rng_state, *args)\u001b[0m\n\u001b[1;32m    228\u001b[0m \u001b[0;34m\u001b[0m\u001b[0m\n\u001b[1;32m    229\u001b[0m         \u001b[0;32mwith\u001b[0m \u001b[0mtorch\u001b[0m\u001b[0;34m.\u001b[0m\u001b[0mno_grad\u001b[0m\u001b[0;34m(\u001b[0m\u001b[0;34m)\u001b[0m\u001b[0;34m:\u001b[0m\u001b[0;34m\u001b[0m\u001b[0;34m\u001b[0m\u001b[0m\n\u001b[0;32m--> 230\u001b[0;31m             \u001b[0moutputs\u001b[0m \u001b[0;34m=\u001b[0m \u001b[0mrun_function\u001b[0m\u001b[0;34m(\u001b[0m\u001b[0;34m*\u001b[0m\u001b[0margs\u001b[0m\u001b[0;34m)\u001b[0m\u001b[0;34m\u001b[0m\u001b[0;34m\u001b[0m\u001b[0m\n\u001b[0m\u001b[1;32m    231\u001b[0m         \u001b[0;32mreturn\u001b[0m \u001b[0moutputs\u001b[0m\u001b[0;34m\u001b[0m\u001b[0;34m\u001b[0m\u001b[0m\n\u001b[1;32m    232\u001b[0m \u001b[0;34m\u001b[0m\u001b[0m\n",
            "\u001b[0;32m/usr/local/lib/python3.10/dist-packages/torch/nn/modules/module.py\u001b[0m in \u001b[0;36m_wrapped_call_impl\u001b[0;34m(self, *args, **kwargs)\u001b[0m\n\u001b[1;32m   1516\u001b[0m             \u001b[0;32mreturn\u001b[0m \u001b[0mself\u001b[0m\u001b[0;34m.\u001b[0m\u001b[0m_compiled_call_impl\u001b[0m\u001b[0;34m(\u001b[0m\u001b[0;34m*\u001b[0m\u001b[0margs\u001b[0m\u001b[0;34m,\u001b[0m \u001b[0;34m**\u001b[0m\u001b[0mkwargs\u001b[0m\u001b[0;34m)\u001b[0m  \u001b[0;31m# type: ignore[misc]\u001b[0m\u001b[0;34m\u001b[0m\u001b[0;34m\u001b[0m\u001b[0m\n\u001b[1;32m   1517\u001b[0m         \u001b[0;32melse\u001b[0m\u001b[0;34m:\u001b[0m\u001b[0;34m\u001b[0m\u001b[0;34m\u001b[0m\u001b[0m\n\u001b[0;32m-> 1518\u001b[0;31m             \u001b[0;32mreturn\u001b[0m \u001b[0mself\u001b[0m\u001b[0;34m.\u001b[0m\u001b[0m_call_impl\u001b[0m\u001b[0;34m(\u001b[0m\u001b[0;34m*\u001b[0m\u001b[0margs\u001b[0m\u001b[0;34m,\u001b[0m \u001b[0;34m**\u001b[0m\u001b[0mkwargs\u001b[0m\u001b[0;34m)\u001b[0m\u001b[0;34m\u001b[0m\u001b[0;34m\u001b[0m\u001b[0m\n\u001b[0m\u001b[1;32m   1519\u001b[0m \u001b[0;34m\u001b[0m\u001b[0m\n\u001b[1;32m   1520\u001b[0m     \u001b[0;32mdef\u001b[0m \u001b[0m_call_impl\u001b[0m\u001b[0;34m(\u001b[0m\u001b[0mself\u001b[0m\u001b[0;34m,\u001b[0m \u001b[0;34m*\u001b[0m\u001b[0margs\u001b[0m\u001b[0;34m,\u001b[0m \u001b[0;34m**\u001b[0m\u001b[0mkwargs\u001b[0m\u001b[0;34m)\u001b[0m\u001b[0;34m:\u001b[0m\u001b[0;34m\u001b[0m\u001b[0;34m\u001b[0m\u001b[0m\n",
            "\u001b[0;32m/usr/local/lib/python3.10/dist-packages/torch/nn/modules/module.py\u001b[0m in \u001b[0;36m_call_impl\u001b[0;34m(self, *args, **kwargs)\u001b[0m\n\u001b[1;32m   1525\u001b[0m                 \u001b[0;32mor\u001b[0m \u001b[0m_global_backward_pre_hooks\u001b[0m \u001b[0;32mor\u001b[0m \u001b[0m_global_backward_hooks\u001b[0m\u001b[0;34m\u001b[0m\u001b[0;34m\u001b[0m\u001b[0m\n\u001b[1;32m   1526\u001b[0m                 or _global_forward_hooks or _global_forward_pre_hooks):\n\u001b[0;32m-> 1527\u001b[0;31m             \u001b[0;32mreturn\u001b[0m \u001b[0mforward_call\u001b[0m\u001b[0;34m(\u001b[0m\u001b[0;34m*\u001b[0m\u001b[0margs\u001b[0m\u001b[0;34m,\u001b[0m \u001b[0;34m**\u001b[0m\u001b[0mkwargs\u001b[0m\u001b[0;34m)\u001b[0m\u001b[0;34m\u001b[0m\u001b[0;34m\u001b[0m\u001b[0m\n\u001b[0m\u001b[1;32m   1528\u001b[0m \u001b[0;34m\u001b[0m\u001b[0m\n\u001b[1;32m   1529\u001b[0m         \u001b[0;32mtry\u001b[0m\u001b[0;34m:\u001b[0m\u001b[0;34m\u001b[0m\u001b[0;34m\u001b[0m\u001b[0m\n",
            "\u001b[0;32m/usr/local/lib/python3.10/dist-packages/accelerate/hooks.py\u001b[0m in \u001b[0;36mnew_forward\u001b[0;34m(module, *args, **kwargs)\u001b[0m\n\u001b[1;32m    164\u001b[0m                 \u001b[0moutput\u001b[0m \u001b[0;34m=\u001b[0m \u001b[0mmodule\u001b[0m\u001b[0;34m.\u001b[0m\u001b[0m_old_forward\u001b[0m\u001b[0;34m(\u001b[0m\u001b[0;34m*\u001b[0m\u001b[0margs\u001b[0m\u001b[0;34m,\u001b[0m \u001b[0;34m**\u001b[0m\u001b[0mkwargs\u001b[0m\u001b[0;34m)\u001b[0m\u001b[0;34m\u001b[0m\u001b[0;34m\u001b[0m\u001b[0m\n\u001b[1;32m    165\u001b[0m         \u001b[0;32melse\u001b[0m\u001b[0;34m:\u001b[0m\u001b[0;34m\u001b[0m\u001b[0;34m\u001b[0m\u001b[0m\n\u001b[0;32m--> 166\u001b[0;31m             \u001b[0moutput\u001b[0m \u001b[0;34m=\u001b[0m \u001b[0mmodule\u001b[0m\u001b[0;34m.\u001b[0m\u001b[0m_old_forward\u001b[0m\u001b[0;34m(\u001b[0m\u001b[0;34m*\u001b[0m\u001b[0margs\u001b[0m\u001b[0;34m,\u001b[0m \u001b[0;34m**\u001b[0m\u001b[0mkwargs\u001b[0m\u001b[0;34m)\u001b[0m\u001b[0;34m\u001b[0m\u001b[0;34m\u001b[0m\u001b[0m\n\u001b[0m\u001b[1;32m    167\u001b[0m         \u001b[0;32mreturn\u001b[0m \u001b[0mmodule\u001b[0m\u001b[0;34m.\u001b[0m\u001b[0m_hf_hook\u001b[0m\u001b[0;34m.\u001b[0m\u001b[0mpost_forward\u001b[0m\u001b[0;34m(\u001b[0m\u001b[0mmodule\u001b[0m\u001b[0;34m,\u001b[0m \u001b[0moutput\u001b[0m\u001b[0;34m)\u001b[0m\u001b[0;34m\u001b[0m\u001b[0;34m\u001b[0m\u001b[0m\n\u001b[1;32m    168\u001b[0m \u001b[0;34m\u001b[0m\u001b[0m\n",
            "\u001b[0;32m/usr/local/lib/python3.10/dist-packages/transformers/models/mistral/modeling_mistral.py\u001b[0m in \u001b[0;36mforward\u001b[0;34m(self, hidden_states, attention_mask, position_ids, past_key_value, output_attentions, use_cache, **kwargs)\u001b[0m\n\u001b[1;32m    752\u001b[0m \u001b[0;34m\u001b[0m\u001b[0m\n\u001b[1;32m    753\u001b[0m         \u001b[0;31m# Self Attention\u001b[0m\u001b[0;34m\u001b[0m\u001b[0;34m\u001b[0m\u001b[0m\n\u001b[0;32m--> 754\u001b[0;31m         hidden_states, self_attn_weights, present_key_value = self.self_attn(\n\u001b[0m\u001b[1;32m    755\u001b[0m             \u001b[0mhidden_states\u001b[0m\u001b[0;34m=\u001b[0m\u001b[0mhidden_states\u001b[0m\u001b[0;34m,\u001b[0m\u001b[0;34m\u001b[0m\u001b[0;34m\u001b[0m\u001b[0m\n\u001b[1;32m    756\u001b[0m             \u001b[0mattention_mask\u001b[0m\u001b[0;34m=\u001b[0m\u001b[0mattention_mask\u001b[0m\u001b[0;34m,\u001b[0m\u001b[0;34m\u001b[0m\u001b[0;34m\u001b[0m\u001b[0m\n",
            "\u001b[0;32m/usr/local/lib/python3.10/dist-packages/torch/nn/modules/module.py\u001b[0m in \u001b[0;36m_wrapped_call_impl\u001b[0;34m(self, *args, **kwargs)\u001b[0m\n\u001b[1;32m   1516\u001b[0m             \u001b[0;32mreturn\u001b[0m \u001b[0mself\u001b[0m\u001b[0;34m.\u001b[0m\u001b[0m_compiled_call_impl\u001b[0m\u001b[0;34m(\u001b[0m\u001b[0;34m*\u001b[0m\u001b[0margs\u001b[0m\u001b[0;34m,\u001b[0m \u001b[0;34m**\u001b[0m\u001b[0mkwargs\u001b[0m\u001b[0;34m)\u001b[0m  \u001b[0;31m# type: ignore[misc]\u001b[0m\u001b[0;34m\u001b[0m\u001b[0;34m\u001b[0m\u001b[0m\n\u001b[1;32m   1517\u001b[0m         \u001b[0;32melse\u001b[0m\u001b[0;34m:\u001b[0m\u001b[0;34m\u001b[0m\u001b[0;34m\u001b[0m\u001b[0m\n\u001b[0;32m-> 1518\u001b[0;31m             \u001b[0;32mreturn\u001b[0m \u001b[0mself\u001b[0m\u001b[0;34m.\u001b[0m\u001b[0m_call_impl\u001b[0m\u001b[0;34m(\u001b[0m\u001b[0;34m*\u001b[0m\u001b[0margs\u001b[0m\u001b[0;34m,\u001b[0m \u001b[0;34m**\u001b[0m\u001b[0mkwargs\u001b[0m\u001b[0;34m)\u001b[0m\u001b[0;34m\u001b[0m\u001b[0;34m\u001b[0m\u001b[0m\n\u001b[0m\u001b[1;32m   1519\u001b[0m \u001b[0;34m\u001b[0m\u001b[0m\n\u001b[1;32m   1520\u001b[0m     \u001b[0;32mdef\u001b[0m \u001b[0m_call_impl\u001b[0m\u001b[0;34m(\u001b[0m\u001b[0mself\u001b[0m\u001b[0;34m,\u001b[0m \u001b[0;34m*\u001b[0m\u001b[0margs\u001b[0m\u001b[0;34m,\u001b[0m \u001b[0;34m**\u001b[0m\u001b[0mkwargs\u001b[0m\u001b[0;34m)\u001b[0m\u001b[0;34m:\u001b[0m\u001b[0;34m\u001b[0m\u001b[0;34m\u001b[0m\u001b[0m\n",
            "\u001b[0;32m/usr/local/lib/python3.10/dist-packages/torch/nn/modules/module.py\u001b[0m in \u001b[0;36m_call_impl\u001b[0;34m(self, *args, **kwargs)\u001b[0m\n\u001b[1;32m   1525\u001b[0m                 \u001b[0;32mor\u001b[0m \u001b[0m_global_backward_pre_hooks\u001b[0m \u001b[0;32mor\u001b[0m \u001b[0m_global_backward_hooks\u001b[0m\u001b[0;34m\u001b[0m\u001b[0;34m\u001b[0m\u001b[0m\n\u001b[1;32m   1526\u001b[0m                 or _global_forward_hooks or _global_forward_pre_hooks):\n\u001b[0;32m-> 1527\u001b[0;31m             \u001b[0;32mreturn\u001b[0m \u001b[0mforward_call\u001b[0m\u001b[0;34m(\u001b[0m\u001b[0;34m*\u001b[0m\u001b[0margs\u001b[0m\u001b[0;34m,\u001b[0m \u001b[0;34m**\u001b[0m\u001b[0mkwargs\u001b[0m\u001b[0;34m)\u001b[0m\u001b[0;34m\u001b[0m\u001b[0;34m\u001b[0m\u001b[0m\n\u001b[0m\u001b[1;32m   1528\u001b[0m \u001b[0;34m\u001b[0m\u001b[0m\n\u001b[1;32m   1529\u001b[0m         \u001b[0;32mtry\u001b[0m\u001b[0;34m:\u001b[0m\u001b[0;34m\u001b[0m\u001b[0;34m\u001b[0m\u001b[0m\n",
            "\u001b[0;32m/usr/local/lib/python3.10/dist-packages/accelerate/hooks.py\u001b[0m in \u001b[0;36mnew_forward\u001b[0;34m(module, *args, **kwargs)\u001b[0m\n\u001b[1;32m    164\u001b[0m                 \u001b[0moutput\u001b[0m \u001b[0;34m=\u001b[0m \u001b[0mmodule\u001b[0m\u001b[0;34m.\u001b[0m\u001b[0m_old_forward\u001b[0m\u001b[0;34m(\u001b[0m\u001b[0;34m*\u001b[0m\u001b[0margs\u001b[0m\u001b[0;34m,\u001b[0m \u001b[0;34m**\u001b[0m\u001b[0mkwargs\u001b[0m\u001b[0;34m)\u001b[0m\u001b[0;34m\u001b[0m\u001b[0;34m\u001b[0m\u001b[0m\n\u001b[1;32m    165\u001b[0m         \u001b[0;32melse\u001b[0m\u001b[0;34m:\u001b[0m\u001b[0;34m\u001b[0m\u001b[0;34m\u001b[0m\u001b[0m\n\u001b[0;32m--> 166\u001b[0;31m             \u001b[0moutput\u001b[0m \u001b[0;34m=\u001b[0m \u001b[0mmodule\u001b[0m\u001b[0;34m.\u001b[0m\u001b[0m_old_forward\u001b[0m\u001b[0;34m(\u001b[0m\u001b[0;34m*\u001b[0m\u001b[0margs\u001b[0m\u001b[0;34m,\u001b[0m \u001b[0;34m**\u001b[0m\u001b[0mkwargs\u001b[0m\u001b[0;34m)\u001b[0m\u001b[0;34m\u001b[0m\u001b[0;34m\u001b[0m\u001b[0m\n\u001b[0m\u001b[1;32m    167\u001b[0m         \u001b[0;32mreturn\u001b[0m \u001b[0mmodule\u001b[0m\u001b[0;34m.\u001b[0m\u001b[0m_hf_hook\u001b[0m\u001b[0;34m.\u001b[0m\u001b[0mpost_forward\u001b[0m\u001b[0;34m(\u001b[0m\u001b[0mmodule\u001b[0m\u001b[0;34m,\u001b[0m \u001b[0moutput\u001b[0m\u001b[0;34m)\u001b[0m\u001b[0;34m\u001b[0m\u001b[0;34m\u001b[0m\u001b[0m\n\u001b[1;32m    168\u001b[0m \u001b[0;34m\u001b[0m\u001b[0m\n",
            "\u001b[0;32m/usr/local/lib/python3.10/dist-packages/transformers/models/mistral/modeling_mistral.py\u001b[0m in \u001b[0;36mforward\u001b[0;34m(self, hidden_states, attention_mask, position_ids, past_key_value, output_attentions, use_cache, **kwargs)\u001b[0m\n\u001b[1;32m    254\u001b[0m \u001b[0;34m\u001b[0m\u001b[0m\n\u001b[1;32m    255\u001b[0m         \u001b[0mquery_states\u001b[0m \u001b[0;34m=\u001b[0m \u001b[0mself\u001b[0m\u001b[0;34m.\u001b[0m\u001b[0mq_proj\u001b[0m\u001b[0;34m(\u001b[0m\u001b[0mhidden_states\u001b[0m\u001b[0;34m)\u001b[0m\u001b[0;34m\u001b[0m\u001b[0;34m\u001b[0m\u001b[0m\n\u001b[0;32m--> 256\u001b[0;31m         \u001b[0mkey_states\u001b[0m \u001b[0;34m=\u001b[0m \u001b[0mself\u001b[0m\u001b[0;34m.\u001b[0m\u001b[0mk_proj\u001b[0m\u001b[0;34m(\u001b[0m\u001b[0mhidden_states\u001b[0m\u001b[0;34m)\u001b[0m\u001b[0;34m\u001b[0m\u001b[0;34m\u001b[0m\u001b[0m\n\u001b[0m\u001b[1;32m    257\u001b[0m         \u001b[0mvalue_states\u001b[0m \u001b[0;34m=\u001b[0m \u001b[0mself\u001b[0m\u001b[0;34m.\u001b[0m\u001b[0mv_proj\u001b[0m\u001b[0;34m(\u001b[0m\u001b[0mhidden_states\u001b[0m\u001b[0;34m)\u001b[0m\u001b[0;34m\u001b[0m\u001b[0;34m\u001b[0m\u001b[0m\n\u001b[1;32m    258\u001b[0m \u001b[0;34m\u001b[0m\u001b[0m\n",
            "\u001b[0;32m/usr/local/lib/python3.10/dist-packages/torch/nn/modules/module.py\u001b[0m in \u001b[0;36m_wrapped_call_impl\u001b[0;34m(self, *args, **kwargs)\u001b[0m\n\u001b[1;32m   1516\u001b[0m             \u001b[0;32mreturn\u001b[0m \u001b[0mself\u001b[0m\u001b[0;34m.\u001b[0m\u001b[0m_compiled_call_impl\u001b[0m\u001b[0;34m(\u001b[0m\u001b[0;34m*\u001b[0m\u001b[0margs\u001b[0m\u001b[0;34m,\u001b[0m \u001b[0;34m**\u001b[0m\u001b[0mkwargs\u001b[0m\u001b[0;34m)\u001b[0m  \u001b[0;31m# type: ignore[misc]\u001b[0m\u001b[0;34m\u001b[0m\u001b[0;34m\u001b[0m\u001b[0m\n\u001b[1;32m   1517\u001b[0m         \u001b[0;32melse\u001b[0m\u001b[0;34m:\u001b[0m\u001b[0;34m\u001b[0m\u001b[0;34m\u001b[0m\u001b[0m\n\u001b[0;32m-> 1518\u001b[0;31m             \u001b[0;32mreturn\u001b[0m \u001b[0mself\u001b[0m\u001b[0;34m.\u001b[0m\u001b[0m_call_impl\u001b[0m\u001b[0;34m(\u001b[0m\u001b[0;34m*\u001b[0m\u001b[0margs\u001b[0m\u001b[0;34m,\u001b[0m \u001b[0;34m**\u001b[0m\u001b[0mkwargs\u001b[0m\u001b[0;34m)\u001b[0m\u001b[0;34m\u001b[0m\u001b[0;34m\u001b[0m\u001b[0m\n\u001b[0m\u001b[1;32m   1519\u001b[0m \u001b[0;34m\u001b[0m\u001b[0m\n\u001b[1;32m   1520\u001b[0m     \u001b[0;32mdef\u001b[0m \u001b[0m_call_impl\u001b[0m\u001b[0;34m(\u001b[0m\u001b[0mself\u001b[0m\u001b[0;34m,\u001b[0m \u001b[0;34m*\u001b[0m\u001b[0margs\u001b[0m\u001b[0;34m,\u001b[0m \u001b[0;34m**\u001b[0m\u001b[0mkwargs\u001b[0m\u001b[0;34m)\u001b[0m\u001b[0;34m:\u001b[0m\u001b[0;34m\u001b[0m\u001b[0;34m\u001b[0m\u001b[0m\n",
            "\u001b[0;32m/usr/local/lib/python3.10/dist-packages/torch/nn/modules/module.py\u001b[0m in \u001b[0;36m_call_impl\u001b[0;34m(self, *args, **kwargs)\u001b[0m\n\u001b[1;32m   1525\u001b[0m                 \u001b[0;32mor\u001b[0m \u001b[0m_global_backward_pre_hooks\u001b[0m \u001b[0;32mor\u001b[0m \u001b[0m_global_backward_hooks\u001b[0m\u001b[0;34m\u001b[0m\u001b[0;34m\u001b[0m\u001b[0m\n\u001b[1;32m   1526\u001b[0m                 or _global_forward_hooks or _global_forward_pre_hooks):\n\u001b[0;32m-> 1527\u001b[0;31m             \u001b[0;32mreturn\u001b[0m \u001b[0mforward_call\u001b[0m\u001b[0;34m(\u001b[0m\u001b[0;34m*\u001b[0m\u001b[0margs\u001b[0m\u001b[0;34m,\u001b[0m \u001b[0;34m**\u001b[0m\u001b[0mkwargs\u001b[0m\u001b[0;34m)\u001b[0m\u001b[0;34m\u001b[0m\u001b[0;34m\u001b[0m\u001b[0m\n\u001b[0m\u001b[1;32m   1528\u001b[0m \u001b[0;34m\u001b[0m\u001b[0m\n\u001b[1;32m   1529\u001b[0m         \u001b[0;32mtry\u001b[0m\u001b[0;34m:\u001b[0m\u001b[0;34m\u001b[0m\u001b[0;34m\u001b[0m\u001b[0m\n",
            "\u001b[0;32m/usr/local/lib/python3.10/dist-packages/peft/tuners/lora/bnb.py\u001b[0m in \u001b[0;36mforward\u001b[0;34m(self, x, *args, **kwargs)\u001b[0m\n\u001b[1;32m    309\u001b[0m                 \u001b[0mresult\u001b[0m \u001b[0;34m=\u001b[0m \u001b[0mself\u001b[0m\u001b[0;34m.\u001b[0m\u001b[0mbase_layer\u001b[0m\u001b[0;34m(\u001b[0m\u001b[0mx\u001b[0m\u001b[0;34m,\u001b[0m \u001b[0;34m*\u001b[0m\u001b[0margs\u001b[0m\u001b[0;34m,\u001b[0m \u001b[0;34m**\u001b[0m\u001b[0mkwargs\u001b[0m\u001b[0;34m)\u001b[0m\u001b[0;34m\u001b[0m\u001b[0;34m\u001b[0m\u001b[0m\n\u001b[1;32m    310\u001b[0m             \u001b[0;32melse\u001b[0m\u001b[0;34m:\u001b[0m\u001b[0;34m\u001b[0m\u001b[0;34m\u001b[0m\u001b[0m\n\u001b[0;32m--> 311\u001b[0;31m                 \u001b[0mresult\u001b[0m \u001b[0;34m=\u001b[0m \u001b[0mself\u001b[0m\u001b[0;34m.\u001b[0m\u001b[0mbase_layer\u001b[0m\u001b[0;34m(\u001b[0m\u001b[0mx\u001b[0m\u001b[0;34m,\u001b[0m \u001b[0;34m*\u001b[0m\u001b[0margs\u001b[0m\u001b[0;34m,\u001b[0m \u001b[0;34m**\u001b[0m\u001b[0mkwargs\u001b[0m\u001b[0;34m)\u001b[0m\u001b[0;34m\u001b[0m\u001b[0;34m\u001b[0m\u001b[0m\n\u001b[0m\u001b[1;32m    312\u001b[0m                 \u001b[0;31m# As per Tim Dettmers, for 4bit, we need to defensively clone here.\u001b[0m\u001b[0;34m\u001b[0m\u001b[0;34m\u001b[0m\u001b[0m\n\u001b[1;32m    313\u001b[0m                 \u001b[0;31m# The reason is that in some cases, an error can occur that backprop\u001b[0m\u001b[0;34m\u001b[0m\u001b[0;34m\u001b[0m\u001b[0m\n",
            "\u001b[0;32m/usr/local/lib/python3.10/dist-packages/torch/nn/modules/module.py\u001b[0m in \u001b[0;36m_wrapped_call_impl\u001b[0;34m(self, *args, **kwargs)\u001b[0m\n\u001b[1;32m   1516\u001b[0m             \u001b[0;32mreturn\u001b[0m \u001b[0mself\u001b[0m\u001b[0;34m.\u001b[0m\u001b[0m_compiled_call_impl\u001b[0m\u001b[0;34m(\u001b[0m\u001b[0;34m*\u001b[0m\u001b[0margs\u001b[0m\u001b[0;34m,\u001b[0m \u001b[0;34m**\u001b[0m\u001b[0mkwargs\u001b[0m\u001b[0;34m)\u001b[0m  \u001b[0;31m# type: ignore[misc]\u001b[0m\u001b[0;34m\u001b[0m\u001b[0;34m\u001b[0m\u001b[0m\n\u001b[1;32m   1517\u001b[0m         \u001b[0;32melse\u001b[0m\u001b[0;34m:\u001b[0m\u001b[0;34m\u001b[0m\u001b[0;34m\u001b[0m\u001b[0m\n\u001b[0;32m-> 1518\u001b[0;31m             \u001b[0;32mreturn\u001b[0m \u001b[0mself\u001b[0m\u001b[0;34m.\u001b[0m\u001b[0m_call_impl\u001b[0m\u001b[0;34m(\u001b[0m\u001b[0;34m*\u001b[0m\u001b[0margs\u001b[0m\u001b[0;34m,\u001b[0m \u001b[0;34m**\u001b[0m\u001b[0mkwargs\u001b[0m\u001b[0;34m)\u001b[0m\u001b[0;34m\u001b[0m\u001b[0;34m\u001b[0m\u001b[0m\n\u001b[0m\u001b[1;32m   1519\u001b[0m \u001b[0;34m\u001b[0m\u001b[0m\n\u001b[1;32m   1520\u001b[0m     \u001b[0;32mdef\u001b[0m \u001b[0m_call_impl\u001b[0m\u001b[0;34m(\u001b[0m\u001b[0mself\u001b[0m\u001b[0;34m,\u001b[0m \u001b[0;34m*\u001b[0m\u001b[0margs\u001b[0m\u001b[0;34m,\u001b[0m \u001b[0;34m**\u001b[0m\u001b[0mkwargs\u001b[0m\u001b[0;34m)\u001b[0m\u001b[0;34m:\u001b[0m\u001b[0;34m\u001b[0m\u001b[0;34m\u001b[0m\u001b[0m\n",
            "\u001b[0;32m/usr/local/lib/python3.10/dist-packages/torch/nn/modules/module.py\u001b[0m in \u001b[0;36m_call_impl\u001b[0;34m(self, *args, **kwargs)\u001b[0m\n\u001b[1;32m   1525\u001b[0m                 \u001b[0;32mor\u001b[0m \u001b[0m_global_backward_pre_hooks\u001b[0m \u001b[0;32mor\u001b[0m \u001b[0m_global_backward_hooks\u001b[0m\u001b[0;34m\u001b[0m\u001b[0;34m\u001b[0m\u001b[0m\n\u001b[1;32m   1526\u001b[0m                 or _global_forward_hooks or _global_forward_pre_hooks):\n\u001b[0;32m-> 1527\u001b[0;31m             \u001b[0;32mreturn\u001b[0m \u001b[0mforward_call\u001b[0m\u001b[0;34m(\u001b[0m\u001b[0;34m*\u001b[0m\u001b[0margs\u001b[0m\u001b[0;34m,\u001b[0m \u001b[0;34m**\u001b[0m\u001b[0mkwargs\u001b[0m\u001b[0;34m)\u001b[0m\u001b[0;34m\u001b[0m\u001b[0;34m\u001b[0m\u001b[0m\n\u001b[0m\u001b[1;32m   1528\u001b[0m \u001b[0;34m\u001b[0m\u001b[0m\n\u001b[1;32m   1529\u001b[0m         \u001b[0;32mtry\u001b[0m\u001b[0;34m:\u001b[0m\u001b[0;34m\u001b[0m\u001b[0;34m\u001b[0m\u001b[0m\n",
            "\u001b[0;32m/usr/local/lib/python3.10/dist-packages/accelerate/hooks.py\u001b[0m in \u001b[0;36mnew_forward\u001b[0;34m(module, *args, **kwargs)\u001b[0m\n\u001b[1;32m    164\u001b[0m                 \u001b[0moutput\u001b[0m \u001b[0;34m=\u001b[0m \u001b[0mmodule\u001b[0m\u001b[0;34m.\u001b[0m\u001b[0m_old_forward\u001b[0m\u001b[0;34m(\u001b[0m\u001b[0;34m*\u001b[0m\u001b[0margs\u001b[0m\u001b[0;34m,\u001b[0m \u001b[0;34m**\u001b[0m\u001b[0mkwargs\u001b[0m\u001b[0;34m)\u001b[0m\u001b[0;34m\u001b[0m\u001b[0;34m\u001b[0m\u001b[0m\n\u001b[1;32m    165\u001b[0m         \u001b[0;32melse\u001b[0m\u001b[0;34m:\u001b[0m\u001b[0;34m\u001b[0m\u001b[0;34m\u001b[0m\u001b[0m\n\u001b[0;32m--> 166\u001b[0;31m             \u001b[0moutput\u001b[0m \u001b[0;34m=\u001b[0m \u001b[0mmodule\u001b[0m\u001b[0;34m.\u001b[0m\u001b[0m_old_forward\u001b[0m\u001b[0;34m(\u001b[0m\u001b[0;34m*\u001b[0m\u001b[0margs\u001b[0m\u001b[0;34m,\u001b[0m \u001b[0;34m**\u001b[0m\u001b[0mkwargs\u001b[0m\u001b[0;34m)\u001b[0m\u001b[0;34m\u001b[0m\u001b[0;34m\u001b[0m\u001b[0m\n\u001b[0m\u001b[1;32m    167\u001b[0m         \u001b[0;32mreturn\u001b[0m \u001b[0mmodule\u001b[0m\u001b[0;34m.\u001b[0m\u001b[0m_hf_hook\u001b[0m\u001b[0;34m.\u001b[0m\u001b[0mpost_forward\u001b[0m\u001b[0;34m(\u001b[0m\u001b[0mmodule\u001b[0m\u001b[0;34m,\u001b[0m \u001b[0moutput\u001b[0m\u001b[0;34m)\u001b[0m\u001b[0;34m\u001b[0m\u001b[0;34m\u001b[0m\u001b[0m\n\u001b[1;32m    168\u001b[0m \u001b[0;34m\u001b[0m\u001b[0m\n",
            "\u001b[0;32m/usr/local/lib/python3.10/dist-packages/bitsandbytes/nn/modules.py\u001b[0m in \u001b[0;36mforward\u001b[0;34m(self, x)\u001b[0m\n\u001b[1;32m    254\u001b[0m \u001b[0;34m\u001b[0m\u001b[0m\n\u001b[1;32m    255\u001b[0m         \u001b[0mbias\u001b[0m \u001b[0;34m=\u001b[0m \u001b[0;32mNone\u001b[0m \u001b[0;32mif\u001b[0m \u001b[0mself\u001b[0m\u001b[0;34m.\u001b[0m\u001b[0mbias\u001b[0m \u001b[0;32mis\u001b[0m \u001b[0;32mNone\u001b[0m \u001b[0;32melse\u001b[0m \u001b[0mself\u001b[0m\u001b[0;34m.\u001b[0m\u001b[0mbias\u001b[0m\u001b[0;34m.\u001b[0m\u001b[0mto\u001b[0m\u001b[0;34m(\u001b[0m\u001b[0mself\u001b[0m\u001b[0;34m.\u001b[0m\u001b[0mcompute_dtype\u001b[0m\u001b[0;34m)\u001b[0m\u001b[0;34m\u001b[0m\u001b[0;34m\u001b[0m\u001b[0m\n\u001b[0;32m--> 256\u001b[0;31m         \u001b[0mout\u001b[0m \u001b[0;34m=\u001b[0m \u001b[0mbnb\u001b[0m\u001b[0;34m.\u001b[0m\u001b[0mmatmul_4bit\u001b[0m\u001b[0;34m(\u001b[0m\u001b[0mx\u001b[0m\u001b[0;34m,\u001b[0m \u001b[0mself\u001b[0m\u001b[0;34m.\u001b[0m\u001b[0mweight\u001b[0m\u001b[0;34m.\u001b[0m\u001b[0mt\u001b[0m\u001b[0;34m(\u001b[0m\u001b[0;34m)\u001b[0m\u001b[0;34m,\u001b[0m \u001b[0mbias\u001b[0m\u001b[0;34m=\u001b[0m\u001b[0mbias\u001b[0m\u001b[0;34m,\u001b[0m \u001b[0mquant_state\u001b[0m\u001b[0;34m=\u001b[0m\u001b[0mself\u001b[0m\u001b[0;34m.\u001b[0m\u001b[0mweight\u001b[0m\u001b[0;34m.\u001b[0m\u001b[0mquant_state\u001b[0m\u001b[0;34m)\u001b[0m\u001b[0;34m\u001b[0m\u001b[0;34m\u001b[0m\u001b[0m\n\u001b[0m\u001b[1;32m    257\u001b[0m \u001b[0;34m\u001b[0m\u001b[0m\n\u001b[1;32m    258\u001b[0m         \u001b[0mout\u001b[0m \u001b[0;34m=\u001b[0m \u001b[0mout\u001b[0m\u001b[0;34m.\u001b[0m\u001b[0mto\u001b[0m\u001b[0;34m(\u001b[0m\u001b[0minp_dtype\u001b[0m\u001b[0;34m)\u001b[0m\u001b[0;34m\u001b[0m\u001b[0;34m\u001b[0m\u001b[0m\n",
            "\u001b[0;32m/usr/local/lib/python3.10/dist-packages/bitsandbytes/autograd/_functions.py\u001b[0m in \u001b[0;36mmatmul_4bit\u001b[0;34m(A, B, quant_state, out, bias)\u001b[0m\n\u001b[1;32m    575\u001b[0m             \u001b[0;32mreturn\u001b[0m \u001b[0mout\u001b[0m\u001b[0;34m\u001b[0m\u001b[0;34m\u001b[0m\u001b[0m\n\u001b[1;32m    576\u001b[0m     \u001b[0;32melse\u001b[0m\u001b[0;34m:\u001b[0m\u001b[0;34m\u001b[0m\u001b[0;34m\u001b[0m\u001b[0m\n\u001b[0;32m--> 577\u001b[0;31m         \u001b[0;32mreturn\u001b[0m \u001b[0mMatMul4Bit\u001b[0m\u001b[0;34m.\u001b[0m\u001b[0mapply\u001b[0m\u001b[0;34m(\u001b[0m\u001b[0mA\u001b[0m\u001b[0;34m,\u001b[0m \u001b[0mB\u001b[0m\u001b[0;34m,\u001b[0m \u001b[0mout\u001b[0m\u001b[0;34m,\u001b[0m \u001b[0mbias\u001b[0m\u001b[0;34m,\u001b[0m \u001b[0mquant_state\u001b[0m\u001b[0;34m)\u001b[0m\u001b[0;34m\u001b[0m\u001b[0;34m\u001b[0m\u001b[0m\n\u001b[0m",
            "\u001b[0;32m/usr/local/lib/python3.10/dist-packages/torch/autograd/function.py\u001b[0m in \u001b[0;36mapply\u001b[0;34m(cls, *args, **kwargs)\u001b[0m\n\u001b[1;32m    537\u001b[0m             \u001b[0;31m# See NOTE: [functorch vjp and autograd interaction]\u001b[0m\u001b[0;34m\u001b[0m\u001b[0;34m\u001b[0m\u001b[0m\n\u001b[1;32m    538\u001b[0m             \u001b[0margs\u001b[0m \u001b[0;34m=\u001b[0m \u001b[0m_functorch\u001b[0m\u001b[0;34m.\u001b[0m\u001b[0mutils\u001b[0m\u001b[0;34m.\u001b[0m\u001b[0munwrap_dead_wrappers\u001b[0m\u001b[0;34m(\u001b[0m\u001b[0margs\u001b[0m\u001b[0;34m)\u001b[0m\u001b[0;34m\u001b[0m\u001b[0;34m\u001b[0m\u001b[0m\n\u001b[0;32m--> 539\u001b[0;31m             \u001b[0;32mreturn\u001b[0m \u001b[0msuper\u001b[0m\u001b[0;34m(\u001b[0m\u001b[0;34m)\u001b[0m\u001b[0;34m.\u001b[0m\u001b[0mapply\u001b[0m\u001b[0;34m(\u001b[0m\u001b[0;34m*\u001b[0m\u001b[0margs\u001b[0m\u001b[0;34m,\u001b[0m \u001b[0;34m**\u001b[0m\u001b[0mkwargs\u001b[0m\u001b[0;34m)\u001b[0m  \u001b[0;31m# type: ignore[misc]\u001b[0m\u001b[0;34m\u001b[0m\u001b[0;34m\u001b[0m\u001b[0m\n\u001b[0m\u001b[1;32m    540\u001b[0m \u001b[0;34m\u001b[0m\u001b[0m\n\u001b[1;32m    541\u001b[0m         \u001b[0;32mif\u001b[0m \u001b[0mcls\u001b[0m\u001b[0;34m.\u001b[0m\u001b[0msetup_context\u001b[0m \u001b[0;34m==\u001b[0m \u001b[0m_SingleLevelFunction\u001b[0m\u001b[0;34m.\u001b[0m\u001b[0msetup_context\u001b[0m\u001b[0;34m:\u001b[0m\u001b[0;34m\u001b[0m\u001b[0;34m\u001b[0m\u001b[0m\n",
            "\u001b[0;32m/usr/local/lib/python3.10/dist-packages/bitsandbytes/autograd/_functions.py\u001b[0m in \u001b[0;36mforward\u001b[0;34m(ctx, A, B, out, bias, quant_state)\u001b[0m\n\u001b[1;32m    514\u001b[0m         \u001b[0;31m# 1. Dequantize\u001b[0m\u001b[0;34m\u001b[0m\u001b[0;34m\u001b[0m\u001b[0m\n\u001b[1;32m    515\u001b[0m         \u001b[0;31m# 2. MatmulnN\u001b[0m\u001b[0;34m\u001b[0m\u001b[0;34m\u001b[0m\u001b[0m\n\u001b[0;32m--> 516\u001b[0;31m         \u001b[0moutput\u001b[0m \u001b[0;34m=\u001b[0m \u001b[0mtorch\u001b[0m\u001b[0;34m.\u001b[0m\u001b[0mnn\u001b[0m\u001b[0;34m.\u001b[0m\u001b[0mfunctional\u001b[0m\u001b[0;34m.\u001b[0m\u001b[0mlinear\u001b[0m\u001b[0;34m(\u001b[0m\u001b[0mA\u001b[0m\u001b[0;34m,\u001b[0m \u001b[0mF\u001b[0m\u001b[0;34m.\u001b[0m\u001b[0mdequantize_4bit\u001b[0m\u001b[0;34m(\u001b[0m\u001b[0mB\u001b[0m\u001b[0;34m,\u001b[0m \u001b[0mquant_state\u001b[0m\u001b[0;34m)\u001b[0m\u001b[0;34m.\u001b[0m\u001b[0mto\u001b[0m\u001b[0;34m(\u001b[0m\u001b[0mA\u001b[0m\u001b[0;34m.\u001b[0m\u001b[0mdtype\u001b[0m\u001b[0;34m)\u001b[0m\u001b[0;34m.\u001b[0m\u001b[0mt\u001b[0m\u001b[0;34m(\u001b[0m\u001b[0;34m)\u001b[0m\u001b[0;34m,\u001b[0m \u001b[0mbias\u001b[0m\u001b[0;34m)\u001b[0m\u001b[0;34m\u001b[0m\u001b[0;34m\u001b[0m\u001b[0m\n\u001b[0m\u001b[1;32m    517\u001b[0m \u001b[0;34m\u001b[0m\u001b[0m\n\u001b[1;32m    518\u001b[0m         \u001b[0;31m# 3. Save state\u001b[0m\u001b[0;34m\u001b[0m\u001b[0;34m\u001b[0m\u001b[0m\n",
            "\u001b[0;31mKeyboardInterrupt\u001b[0m: "
          ]
        }
      ]
    },
    {
      "cell_type": "markdown",
      "source": [
        "https://magazine.sebastianraschka.com/p/practical-tips-for-finetuning-llms"
      ],
      "metadata": {
        "id": "8A93t3xtR3XO"
      }
    },
    {
      "cell_type": "code",
      "source": [
        "\n"
      ],
      "metadata": {
        "id": "aXCzmpXCRUjC"
      },
      "execution_count": null,
      "outputs": []
    },
    {
      "cell_type": "markdown",
      "source": [
        "restart session!"
      ],
      "metadata": {
        "id": "zBXAJC1MYV54"
      }
    },
    {
      "cell_type": "markdown",
      "source": [
        "## Evaluating"
      ],
      "metadata": {
        "id": "Di3sNhyhXWeU"
      }
    },
    {
      "cell_type": "code",
      "source": [
        "from google.colab import drive\n",
        "\n",
        "# This will prompt for authorization.\n",
        "drive.mount('/content/drive')\n"
      ],
      "metadata": {
        "colab": {
          "base_uri": "https://localhost:8080/"
        },
        "id": "Xp3iswxoiTHe",
        "outputId": "94ce8f65-4a10-493e-88c3-ac55022b2d7f"
      },
      "execution_count": null,
      "outputs": [
        {
          "output_type": "stream",
          "name": "stdout",
          "text": [
            "Drive already mounted at /content/drive; to attempt to forcibly remount, call drive.mount(\"/content/drive\", force_remount=True).\n"
          ]
        }
      ]
    },
    {
      "cell_type": "code",
      "source": [
        "import sys\n",
        "sys.path.append('drive/My Drive/mistral-finetune/')"
      ],
      "metadata": {
        "id": "MRLRwHrqWnuM"
      },
      "execution_count": null,
      "outputs": []
    },
    {
      "cell_type": "code",
      "source": [
        "from helper_functions import preprocess"
      ],
      "metadata": {
        "id": "A9gw5kEsWc-B"
      },
      "execution_count": null,
      "outputs": []
    },
    {
      "cell_type": "code",
      "source": [
        "# load test data\n",
        "import pandas as pd\n",
        "df = pd.read_csv(\"./drive/MyDrive/mistral-finetune/data/nyt10m_test.csv\")\n"
      ],
      "metadata": {
        "id": "wwyfZnqw9V3t"
      },
      "execution_count": null,
      "outputs": []
    },
    {
      "cell_type": "code",
      "source": [
        "df.loc[df['relation'].isna(),'relation']=\"None\""
      ],
      "metadata": {
        "id": "YQjD1L3zYZv1"
      },
      "execution_count": null,
      "outputs": []
    },
    {
      "cell_type": "code",
      "source": [
        "df.relation.value_counts()/len(df)"
      ],
      "metadata": {
        "colab": {
          "base_uri": "https://localhost:8080/"
        },
        "id": "9Rp3uv0mhvj6",
        "outputId": "60cdb127-ed83-47d0-b28a-6aca4ece22ec"
      },
      "execution_count": null,
      "outputs": [
        {
          "output_type": "execute_result",
          "data": {
            "text/plain": [
              "/people/person/place_lived                    0.229008\n",
              "/location/located_in                          0.213740\n",
              "None                                          0.190840\n",
              "/business/person/company                      0.114504\n",
              "/location/country/administrative_divisions    0.061069\n",
              "/people/person/nationality                    0.061069\n",
              "/location/administrative_division/country     0.053435\n",
              "/business/location                            0.038168\n",
              "/business/company/advisors                    0.015267\n",
              "/people/deceasedperson/place_of_death         0.015267\n",
              "/people/person/place_of_birth                 0.007634\n",
              "Name: relation, dtype: float64"
            ]
          },
          "metadata": {},
          "execution_count": 5
        }
      ]
    },
    {
      "cell_type": "code",
      "source": [
        "data = preprocess(df)"
      ],
      "metadata": {
        "id": "XfO-C3oKZ64n"
      },
      "execution_count": null,
      "outputs": []
    },
    {
      "cell_type": "code",
      "source": [
        "len(data)"
      ],
      "metadata": {
        "colab": {
          "base_uri": "https://localhost:8080/"
        },
        "id": "JzrcU5jiaAND",
        "outputId": "dafe7475-e23c-4210-c446-108adcc46ad0"
      },
      "execution_count": null,
      "outputs": [
        {
          "output_type": "execute_result",
          "data": {
            "text/plain": [
              "100"
            ]
          },
          "metadata": {},
          "execution_count": 7
        }
      ]
    },
    {
      "cell_type": "code",
      "source": [
        "data[2]"
      ],
      "metadata": {
        "colab": {
          "base_uri": "https://localhost:8080/"
        },
        "id": "eOwukI0waBDW",
        "outputId": "71b0dbb2-fac9-4fe9-b89a-cfb05ea3cc43"
      },
      "execution_count": null,
      "outputs": [
        {
          "output_type": "execute_result",
          "data": {
            "text/plain": [
              "{'input': 'A1 OBITUARIES A15 Mstislav Rostropovich A cellist and conductor who was renowned as one of the great instrumentalists of the 20th century and an outspoken champion of artistic freedom in the Soviet Union during the last decades of the cold war , he was 80 and lived in Paris .',\n",
              " 'output': \"('Mstislav Rostropovich', '/people/person/place_lived', 'Paris')\"}"
            ]
          },
          "metadata": {},
          "execution_count": 8
        }
      ]
    },
    {
      "cell_type": "code",
      "source": [
        "import numpy as np\n",
        "relations = np.sort(list(df.relation.unique()))\n",
        "relations = list(relations[:len(relations)-1])\n",
        "relations"
      ],
      "metadata": {
        "colab": {
          "base_uri": "https://localhost:8080/"
        },
        "id": "c4ZXfbyEaQDi",
        "outputId": "97d6f05c-2094-44ab-eb7d-479d02fdb508"
      },
      "execution_count": null,
      "outputs": [
        {
          "output_type": "execute_result",
          "data": {
            "text/plain": [
              "['/business/company/advisors',\n",
              " '/business/location',\n",
              " '/business/person/company',\n",
              " '/location/administrative_division/country',\n",
              " '/location/country/administrative_divisions',\n",
              " '/location/located_in',\n",
              " '/people/deceasedperson/place_of_death',\n",
              " '/people/person/nationality',\n",
              " '/people/person/place_lived',\n",
              " '/people/person/place_of_birth']"
            ]
          },
          "metadata": {},
          "execution_count": 9
        }
      ]
    },
    {
      "cell_type": "code",
      "source": [
        "\"\"\" double checking that fits training data same categories\n",
        "['/business/company/advisors',\n",
        " '/business/location',\n",
        " '/business/person/company',\n",
        " '/location/administrative_division/country',\n",
        " '/location/country/administrative_divisions',\n",
        " '/location/located_in',\n",
        " '/people/deceasedperson/place_of_death',\n",
        " '/people/person/nationality',\n",
        " '/people/person/place_lived',\n",
        " '/people/person/place_of_birth']\"\"\""
      ],
      "metadata": {
        "colab": {
          "base_uri": "https://localhost:8080/",
          "height": 105
        },
        "id": "e1-HUzbBaP_5",
        "outputId": "f24621a3-0f1a-4a75-a6cd-876deae2d1e7"
      },
      "execution_count": null,
      "outputs": [
        {
          "output_type": "execute_result",
          "data": {
            "text/plain": [
              "\" double checking that fits training data same categories\\n['/business/company/advisors',\\n '/business/location',\\n '/business/person/company',\\n '/location/administrative_division/country',\\n '/location/country/administrative_divisions',\\n '/location/located_in',\\n '/people/deceasedperson/place_of_death',\\n '/people/person/nationality',\\n '/people/person/place_lived',\\n '/people/person/place_of_birth']\""
            ],
            "application/vnd.google.colaboratory.intrinsic+json": {
              "type": "string"
            }
          },
          "metadata": {},
          "execution_count": 9
        }
      ]
    },
    {
      "cell_type": "code",
      "source": [],
      "metadata": {
        "id": "66GX_SwVaP89"
      },
      "execution_count": null,
      "outputs": []
    },
    {
      "cell_type": "code",
      "source": [],
      "metadata": {
        "id": "Baq6nbAIaP5W"
      },
      "execution_count": null,
      "outputs": []
    },
    {
      "cell_type": "code",
      "source": [
        "from transformers import AutoTokenizer, AutoModelForCausalLM, BitsAndBytesConfig\n",
        "import torch"
      ],
      "metadata": {
        "id": "eWvmg8OqYcoo"
      },
      "execution_count": null,
      "outputs": []
    },
    {
      "cell_type": "code",
      "source": [
        "model_id = \"mistralai/Mistral-7B-Instruct-v0.2\"\n",
        "bnb_config = BitsAndBytesConfig(\n",
        "    load_in_4bit=True,\n",
        "    bnb_4bit_use_double_quant=True,\n",
        "    bnb_4bit_quant_type=\"nf4\",\n",
        "    bnb_4bit_compute_dtype=torch.bfloat16\n",
        ")"
      ],
      "metadata": {
        "id": "zfEKgdPHY7Kx"
      },
      "execution_count": null,
      "outputs": []
    },
    {
      "cell_type": "code",
      "source": [
        "# Init an eval tokenizer that doesn't add padding or eos token\n",
        "eval_tokenizer = AutoTokenizer.from_pretrained(\n",
        "    model_id,\n",
        "    add_bos_token=True,\n",
        ")"
      ],
      "metadata": {
        "colab": {
          "base_uri": "https://localhost:8080/"
        },
        "id": "NHx6xiRyYqzV",
        "outputId": "ca3400ab-00fe-442a-c46a-335bc2aa0c31"
      },
      "execution_count": null,
      "outputs": [
        {
          "output_type": "stream",
          "name": "stderr",
          "text": [
            "/usr/local/lib/python3.10/dist-packages/huggingface_hub/utils/_token.py:88: UserWarning: \n",
            "The secret `HF_TOKEN` does not exist in your Colab secrets.\n",
            "To authenticate with the Hugging Face Hub, create a token in your settings tab (https://huggingface.co/settings/tokens), set it as secret in your Google Colab and restart your session.\n",
            "You will be able to reuse this secret in all of your notebooks.\n",
            "Please note that authentication is recommended but still optional to access public models or datasets.\n",
            "  warnings.warn(\n"
          ]
        }
      ]
    },
    {
      "cell_type": "code",
      "source": [
        "\"\"\"pip install accelerate\"\"\""
      ],
      "metadata": {
        "colab": {
          "base_uri": "https://localhost:8080/"
        },
        "id": "zoITykgknheJ",
        "outputId": "9698a352-28ab-4256-a83d-dcaa4347b6ba"
      },
      "execution_count": null,
      "outputs": [
        {
          "output_type": "stream",
          "name": "stdout",
          "text": [
            "Requirement already satisfied: accelerate in /usr/local/lib/python3.10/dist-packages (0.28.0.dev0)\n",
            "Requirement already satisfied: numpy>=1.17 in /usr/local/lib/python3.10/dist-packages (from accelerate) (1.25.2)\n",
            "Requirement already satisfied: packaging>=20.0 in /usr/local/lib/python3.10/dist-packages (from accelerate) (23.2)\n",
            "Requirement already satisfied: psutil in /usr/local/lib/python3.10/dist-packages (from accelerate) (5.9.5)\n",
            "Requirement already satisfied: pyyaml in /usr/local/lib/python3.10/dist-packages (from accelerate) (6.0.1)\n",
            "Requirement already satisfied: torch>=1.10.0 in /usr/local/lib/python3.10/dist-packages (from accelerate) (2.1.0+cu121)\n",
            "Requirement already satisfied: huggingface-hub in /usr/local/lib/python3.10/dist-packages (from accelerate) (0.20.3)\n",
            "Requirement already satisfied: safetensors>=0.3.1 in /usr/local/lib/python3.10/dist-packages (from accelerate) (0.4.2)\n",
            "Requirement already satisfied: filelock in /usr/local/lib/python3.10/dist-packages (from torch>=1.10.0->accelerate) (3.13.1)\n",
            "Requirement already satisfied: typing-extensions in /usr/local/lib/python3.10/dist-packages (from torch>=1.10.0->accelerate) (4.9.0)\n",
            "Requirement already satisfied: sympy in /usr/local/lib/python3.10/dist-packages (from torch>=1.10.0->accelerate) (1.12)\n",
            "Requirement already satisfied: networkx in /usr/local/lib/python3.10/dist-packages (from torch>=1.10.0->accelerate) (3.2.1)\n",
            "Requirement already satisfied: jinja2 in /usr/local/lib/python3.10/dist-packages (from torch>=1.10.0->accelerate) (3.1.3)\n",
            "Requirement already satisfied: fsspec in /usr/local/lib/python3.10/dist-packages (from torch>=1.10.0->accelerate) (2023.6.0)\n",
            "Requirement already satisfied: triton==2.1.0 in /usr/local/lib/python3.10/dist-packages (from torch>=1.10.0->accelerate) (2.1.0)\n",
            "Requirement already satisfied: requests in /usr/local/lib/python3.10/dist-packages (from huggingface-hub->accelerate) (2.31.0)\n",
            "Requirement already satisfied: tqdm>=4.42.1 in /usr/local/lib/python3.10/dist-packages (from huggingface-hub->accelerate) (4.66.2)\n",
            "Requirement already satisfied: MarkupSafe>=2.0 in /usr/local/lib/python3.10/dist-packages (from jinja2->torch>=1.10.0->accelerate) (2.1.5)\n",
            "Requirement already satisfied: charset-normalizer<4,>=2 in /usr/local/lib/python3.10/dist-packages (from requests->huggingface-hub->accelerate) (3.3.2)\n",
            "Requirement already satisfied: idna<4,>=2.5 in /usr/local/lib/python3.10/dist-packages (from requests->huggingface-hub->accelerate) (3.6)\n",
            "Requirement already satisfied: urllib3<3,>=1.21.1 in /usr/local/lib/python3.10/dist-packages (from requests->huggingface-hub->accelerate) (2.0.7)\n",
            "Requirement already satisfied: certifi>=2017.4.17 in /usr/local/lib/python3.10/dist-packages (from requests->huggingface-hub->accelerate) (2024.2.2)\n",
            "Requirement already satisfied: mpmath>=0.19 in /usr/local/lib/python3.10/dist-packages (from sympy->torch>=1.10.0->accelerate) (1.3.0)\n",
            "\u001b[31mERROR: Operation cancelled by user\u001b[0m\u001b[31m\n",
            "\u001b[0m"
          ]
        }
      ]
    },
    {
      "cell_type": "code",
      "source": [
        "model = AutoModelForCausalLM.from_pretrained(model_id, quantization_config=bnb_config, device_map=\"auto\")"
      ],
      "metadata": {
        "colab": {
          "base_uri": "https://localhost:8080/",
          "height": 49,
          "referenced_widgets": [
            "4788ad5243474cc58733fd97d86140ca",
            "fd82d55ad2f94805b37cdf7a076d2f7e",
            "957304ebfce2401280010c4324cb3ea8",
            "b6f75848e4454185821775784bcd866b",
            "b3d1b04d9b4643aa9b06072e8e76e843",
            "a75c112da2714e12b2996b5084fd27f6",
            "bdafdfb92209478d9f6611783abdb407",
            "bc65fc2695e34006a922580b78bdb03b",
            "62fc2127f1ee465d9bae6c06aa457e75",
            "d2a4e4e9694548dd974e211d966e8e03",
            "f169dc9690c64720a14455b25ab2e05c"
          ]
        },
        "id": "WDdGT_8VYzbc",
        "outputId": "c14bc398-d761-4d4a-ee70-a98878bb06ba"
      },
      "execution_count": null,
      "outputs": [
        {
          "output_type": "display_data",
          "data": {
            "text/plain": [
              "Loading checkpoint shards:   0%|          | 0/3 [00:00<?, ?it/s]"
            ],
            "application/vnd.jupyter.widget-view+json": {
              "version_major": 2,
              "version_minor": 0,
              "model_id": "4788ad5243474cc58733fd97d86140ca"
            }
          },
          "metadata": {}
        }
      ]
    },
    {
      "cell_type": "code",
      "source": [
        "eval_prompt = formatting_func(data[2])\n"
      ],
      "metadata": {
        "id": "d7FtAP9jZyBe"
      },
      "execution_count": null,
      "outputs": []
    },
    {
      "cell_type": "code",
      "source": [
        "eval_prompt"
      ],
      "metadata": {
        "colab": {
          "base_uri": "https://localhost:8080/",
          "height": 209
        },
        "id": "_ZAogIsGaIvY",
        "outputId": "fcf2e98d-222a-42a5-93be-7bea29748a7a"
      },
      "execution_count": null,
      "outputs": [
        {
          "output_type": "execute_result",
          "data": {
            "text/plain": [
              "\"[INST] You are an NLP expert tasked with entity and relation extraction. Here is a list of potential relation types: ['/business/company/advisors', '/business/location', '/business/person/company', '/location/administrative_division/country', '/location/country/administrative_divisions', '/location/located_in', '/people/deceasedperson/place_of_death', '/people/person/nationality', '/people/person/place_lived', '/people/person/place_of_birth'] \\nWhat relations in the given list might be included in the given sentence? Make sure to use only relations from the list provided!\\nThe given sentence is: 'A1 OBITUARIES A15 Mstislav Rostropovich A cellist and conductor who was renowned as one of the great instrumentalists of the 20th century and an outspoken champion of artistic freedom in the Soviet Union during the last decades of the cold war , he was 80 and lived in Paris .'\\nIf none present, answer: None.\\nRespond with relationship triples, e.g. (head entity 1, relation 1, tail entity 1), (head entity 2, relation 2, tail entity 2), (...) \\nTake care, your answer is only valid if it follows the correct format! [\\\\INST]\""
            ],
            "application/vnd.google.colaboratory.intrinsic+json": {
              "type": "string"
            }
          },
          "metadata": {},
          "execution_count": 18
        }
      ]
    },
    {
      "cell_type": "code",
      "source": [
        "model_input = eval_tokenizer(eval_prompt, return_tensors=\"pt\").to(\"cuda\")\n",
        "\n",
        "model.eval()\n",
        "with torch.no_grad():\n",
        "    response  = eval_tokenizer.decode(model.generate(**model_input, max_new_tokens=256, repetition_penalty=1.15)[0], skip_special_tokens=True)\n",
        "    response = response.replace(eval_prompt, \"\")\n",
        "    print(response)"
      ],
      "metadata": {
        "colab": {
          "base_uri": "https://localhost:8080/"
        },
        "id": "FXKZaeaVah2Q",
        "outputId": "3b2b35e9-80f0-4abe-cc2e-20df1b4329de"
      },
      "execution_count": null,
      "outputs": [
        {
          "output_type": "stream",
          "name": "stderr",
          "text": [
            "Setting `pad_token_id` to `eos_token_id`:2 for open-end generation.\n"
          ]
        },
        {
          "output_type": "stream",
          "name": "stdout",
          "text": [
            " Based on the given sentence, the following relation triple can be extracted:\n",
            "(Mstislav Rostropovich, /people/person/place_lived, Paris)\n"
          ]
        }
      ]
    },
    {
      "cell_type": "code",
      "source": [
        "predicted_relations = get_tuples(response)\n",
        "predicted_relations"
      ],
      "metadata": {
        "colab": {
          "base_uri": "https://localhost:8080/"
        },
        "id": "0gmVETQBa_am",
        "outputId": "eb64fe65-b5d3-4af1-ec99-68e1d66d65b8"
      },
      "execution_count": null,
      "outputs": [
        {
          "output_type": "execute_result",
          "data": {
            "text/plain": [
              "[('Mstislav Rostropovich', '/people/person/place_lived', 'Paris')]"
            ]
          },
          "metadata": {},
          "execution_count": 21
        }
      ]
    },
    {
      "cell_type": "code",
      "source": [
        "expected_relations = get_relations(data[10])\n",
        "expected_relations"
      ],
      "metadata": {
        "colab": {
          "base_uri": "https://localhost:8080/"
        },
        "id": "YRUuEMzsbLbF",
        "outputId": "f095fef4-ef39-4c56-8eca-f81272a1d5cc"
      },
      "execution_count": null,
      "outputs": [
        {
          "output_type": "execute_result",
          "data": {
            "text/plain": [
              "['None']"
            ]
          },
          "metadata": {},
          "execution_count": 66
        }
      ]
    },
    {
      "cell_type": "code",
      "source": [
        "expected_set = set(expected_relations)\n",
        "expected_set"
      ],
      "metadata": {
        "id": "ryRown3XfP8i",
        "colab": {
          "base_uri": "https://localhost:8080/"
        },
        "outputId": "8ef4c97e-0d67-464e-c8e0-8116e59d3f08"
      },
      "execution_count": null,
      "outputs": [
        {
          "output_type": "execute_result",
          "data": {
            "text/plain": [
              "{'None'}"
            ]
          },
          "metadata": {},
          "execution_count": 67
        }
      ]
    },
    {
      "cell_type": "code",
      "source": [],
      "metadata": {
        "id": "09K_v_40fP3r"
      },
      "execution_count": null,
      "outputs": []
    },
    {
      "cell_type": "code",
      "source": [],
      "metadata": {
        "id": "LuX4rpr7fPsL"
      },
      "execution_count": null,
      "outputs": []
    },
    {
      "cell_type": "code",
      "source": [
        "precision, recall,f1 = get_scores(expected_relations, predicted_relations)"
      ],
      "metadata": {
        "id": "DZm2J8P5bXr6"
      },
      "execution_count": null,
      "outputs": []
    },
    {
      "cell_type": "code",
      "source": [
        "precision,recall,f1"
      ],
      "metadata": {
        "colab": {
          "base_uri": "https://localhost:8080/"
        },
        "id": "kyMXIgFibaVx",
        "outputId": "fac4908f-8cd4-422a-b7db-2af8edf58101"
      },
      "execution_count": null,
      "outputs": [
        {
          "output_type": "execute_result",
          "data": {
            "text/plain": [
              "(1.0, 1.0, 1.0)"
            ]
          },
          "metadata": {},
          "execution_count": 31
        }
      ]
    },
    {
      "cell_type": "code",
      "source": [
        "data[0].update({'base_model' : {'predicted_relations':predicted_relations,\n",
        "                                'precision': precision,\n",
        "                                'recall': recall,\n",
        "                                'f1': f1}})"
      ],
      "metadata": {
        "id": "L8w5yhXZbgJc"
      },
      "execution_count": null,
      "outputs": []
    },
    {
      "cell_type": "code",
      "source": [
        "data[1:3]"
      ],
      "metadata": {
        "colab": {
          "base_uri": "https://localhost:8080/"
        },
        "id": "-R9O-Pcxbm6w",
        "outputId": "fd2f17ff-53c8-4710-fed9-14230b777160"
      },
      "execution_count": null,
      "outputs": [
        {
          "output_type": "execute_result",
          "data": {
            "text/plain": [
              "[{'input': \"9:30 P.M. (13) THE WILD PARROTS OF TELEGRAPH HILL -- '' Independent Lens '' follows Mark Bittner , a homeless street musician in San Francisco , as he literally goes to the birds -- and finds meaning in his life -- by taking up with a flock of wild red and green parrots .\",\n",
              "  'output': \"('Mark Bittner', '/people/person/place_lived', 'San Francisco')\"},\n",
              " {'input': 'A1 OBITUARIES A15 Mstislav Rostropovich A cellist and conductor who was renowned as one of the great instrumentalists of the 20th century and an outspoken champion of artistic freedom in the Soviet Union during the last decades of the cold war , he was 80 and lived in Paris .',\n",
              "  'output': \"('Mstislav Rostropovich', '/people/person/place_lived', 'Paris')\"}]"
            ]
          },
          "metadata": {},
          "execution_count": 48
        }
      ]
    },
    {
      "cell_type": "code",
      "source": [
        "list(range(1,3))"
      ],
      "metadata": {
        "colab": {
          "base_uri": "https://localhost:8080/"
        },
        "id": "D9rpInOndVCy",
        "outputId": "7d14b511-9a90-44a7-cf52-e4a6a247fec6"
      },
      "execution_count": null,
      "outputs": [
        {
          "output_type": "execute_result",
          "data": {
            "text/plain": [
              "[1, 2]"
            ]
          },
          "metadata": {},
          "execution_count": 56
        }
      ]
    },
    {
      "cell_type": "code",
      "source": [
        "from tqdm import tqdm\n",
        "\n",
        "progress_bar = tqdm(total=len(data), desc='Progress')\n",
        "\n",
        "for idx, example in zip(list(range(len(data))), data):\n",
        "\n",
        "    eval_prompt = formatting_func(example)\n",
        "\n",
        "    model_input = eval_tokenizer(eval_prompt, return_tensors=\"pt\").to(\"cuda\")\n",
        "\n",
        "    model.eval()\n",
        "    with torch.no_grad():\n",
        "        response  = eval_tokenizer.decode(model.generate(**model_input, max_new_tokens=256,\n",
        "                                                         repetition_penalty=1.15,\n",
        "                                                         pad_token_id=eval_tokenizer.eos_token_id)[0],\n",
        "                                          skip_special_tokens=True)\n",
        "        response = response.replace(eval_prompt, \"\")\n",
        "\n",
        "    predicted_relations = get_tuples(response)\n",
        "\n",
        "    expected_relations = get_relations(example)\n",
        "\n",
        "    precision, recall,f1 = get_scores(expected_relations, predicted_relations)\n",
        "\n",
        "    data[idx].update({'base_model':\n",
        "                        {'response': response,\n",
        "                         'predicted_relations':predicted_relations,\n",
        "                        'precision': precision,\n",
        "                        'recall': recall,\n",
        "                        'f1': f1}\n",
        "                    })\n",
        "    progress_bar.update(1)\n",
        "\n",
        "progress_bar.close()"
      ],
      "metadata": {
        "colab": {
          "base_uri": "https://localhost:8080/"
        },
        "id": "KzAeMdk_b0Kk",
        "outputId": "1ac14b31-da29-4874-a393-e7e122596278"
      },
      "execution_count": null,
      "outputs": [
        {
          "output_type": "stream",
          "name": "stderr",
          "text": [
            "Progress: 100%|██████████| 100/100 [22:17<00:00, 13.38s/it]\n"
          ]
        }
      ]
    },
    {
      "cell_type": "code",
      "source": [
        "data[:4]"
      ],
      "metadata": {
        "colab": {
          "base_uri": "https://localhost:8080/"
        },
        "id": "2oNWgsOZxger",
        "outputId": "1e460f91-063e-4886-a521-377c151aab7f"
      },
      "execution_count": null,
      "outputs": [
        {
          "output_type": "execute_result",
          "data": {
            "text/plain": [
              "[{'input': '-LRB- AP -RRB- WEST VIRGINIA 67 , VILLANOVA 56 -- Frank Young scored a career-high 25 points , including eight 3-pointers , for No. 25 West Virginia -LRB- 12-1 , 2-0 -RRB- in a Big East game .',\n",
              "  'output': \"('Frank Young', '/people/person/place_lived', 'West Virginia')\",\n",
              "  'base_model': {'response': \" Based on the given sentence, there do not seem to be any explicit relations mentioned that can be directly extracted using the provided list. The sentence primarily describes an event (a basketball game) involving entities 'West Virginia' and 'Villanova'. However, no specific relations between these entities or other mentioned entities ('Frank Young') are explicitly stated in the sentence. Therefore, the answer would be: None.\",\n",
              "   'predicted_relations': 'None',\n",
              "   'precision': 0.0,\n",
              "   'recall': 0.0,\n",
              "   'f1': 0}},\n",
              " {'input': \"9:30 P.M. (13) THE WILD PARROTS OF TELEGRAPH HILL -- '' Independent Lens '' follows Mark Bittner , a homeless street musician in San Francisco , as he literally goes to the birds -- and finds meaning in his life -- by taking up with a flock of wild red and green parrots .\",\n",
              "  'output': \"('Mark Bittner', '/people/person/place_lived', 'San Francisco')\",\n",
              "  'base_model': {'response': \" Based on the given sentence, there don't seem to be any explicit relations mentioned that can be directly extracted using the provided list. The sentence describes Mark Bittner being a homeless street musician in San Francisco who connects with a flock of wild parrots, but it does not explicitly state any location or company relationships between these entities. Therefore, none.\",\n",
              "   'predicted_relations': 'None',\n",
              "   'precision': 0.0,\n",
              "   'recall': 0.0,\n",
              "   'f1': 0}},\n",
              " {'input': 'A1 OBITUARIES A15 Mstislav Rostropovich A cellist and conductor who was renowned as one of the great instrumentalists of the 20th century and an outspoken champion of artistic freedom in the Soviet Union during the last decades of the cold war , he was 80 and lived in Paris .',\n",
              "  'output': \"('Mstislav Rostropovich', '/people/person/place_lived', 'Paris')\",\n",
              "  'base_model': {'response': ' Based on the given sentence, the following relation triple can be extracted:\\n(Mstislav Rostropovich, /people/person/place_lived, Paris)',\n",
              "   'predicted_relations': [('Mstislav Rostropovich',\n",
              "     '/people/person/place_lived',\n",
              "     'Paris')],\n",
              "   'precision': 1.0,\n",
              "   'recall': 1.0,\n",
              "   'f1': 1.0}},\n",
              " {'input': 'About 2.4 million people live within a 10-mile radius of the Westfield Garden State Plaza in Paramus , which is the largest shopping mall in the state and draws 20 million visitors a year .',\n",
              "  'output': 'None',\n",
              "  'base_model': {'response': \" Based on the given sentence, the following relation triple can be extracted: ('Westfield Garden State Plaza', '/location/located_in', 'Paramus')\",\n",
              "   'predicted_relations': [('Westfield Garden State Plaza',\n",
              "     '/location/located_in',\n",
              "     'Paramus')],\n",
              "   'precision': 0.0,\n",
              "   'recall': 0.0,\n",
              "   'f1': 0}}]"
            ]
          },
          "metadata": {},
          "execution_count": 52
        }
      ]
    },
    {
      "cell_type": "code",
      "source": [
        "import json\n",
        "# Define the file path\n",
        "file_path = \"./mistral-finetuning-data.json\"\n",
        "\n",
        "# Save the data to a JSON file\n",
        "with open(file_path, \"w\") as json_file:\n",
        "    json.dump(data, json_file)\n",
        "\n",
        "print(f\"Data saved to {file_path}\")\n"
      ],
      "metadata": {
        "colab": {
          "base_uri": "https://localhost:8080/"
        },
        "id": "kfNwgMzvcczB",
        "outputId": "ccfe495c-b1b8-48c7-8aef-7abc2b3bc0ed"
      },
      "execution_count": null,
      "outputs": [
        {
          "output_type": "stream",
          "name": "stdout",
          "text": [
            "Data saved to ./mistral-finetuning-data.json\n"
          ]
        }
      ]
    },
    {
      "cell_type": "code",
      "source": [
        "# Calculate average metrics\n",
        "avg_precision, avg_recall, avg_f1 = calculate_average_metrics(data)\n",
        "\n",
        "print(\"Average Precision:\", avg_precision)\n",
        "print(\"Average Recall:\", avg_recall)\n",
        "print(\"Average F1-score:\", avg_f1)\n"
      ],
      "metadata": {
        "colab": {
          "base_uri": "https://localhost:8080/",
          "height": 332
        },
        "id": "sUmpdYgGyJn6",
        "outputId": "945b9124-f11a-45f8-a38d-bc0266020974"
      },
      "execution_count": null,
      "outputs": [
        {
          "output_type": "error",
          "ename": "KeyError",
          "evalue": "'base_model'",
          "traceback": [
            "\u001b[0;31m---------------------------------------------------------------------------\u001b[0m",
            "\u001b[0;31mKeyError\u001b[0m                                  Traceback (most recent call last)",
            "\u001b[0;32m<ipython-input-92-37c36adb265b>\u001b[0m in \u001b[0;36m<cell line: 19>\u001b[0;34m()\u001b[0m\n\u001b[1;32m     17\u001b[0m \u001b[0;34m\u001b[0m\u001b[0m\n\u001b[1;32m     18\u001b[0m \u001b[0;31m# Calculate average metrics\u001b[0m\u001b[0;34m\u001b[0m\u001b[0;34m\u001b[0m\u001b[0m\n\u001b[0;32m---> 19\u001b[0;31m \u001b[0mavg_precision\u001b[0m\u001b[0;34m,\u001b[0m \u001b[0mavg_recall\u001b[0m\u001b[0;34m,\u001b[0m \u001b[0mavg_f1\u001b[0m \u001b[0;34m=\u001b[0m \u001b[0mcalculate_average_metrics\u001b[0m\u001b[0;34m(\u001b[0m\u001b[0mdata\u001b[0m\u001b[0;34m)\u001b[0m\u001b[0;34m\u001b[0m\u001b[0;34m\u001b[0m\u001b[0m\n\u001b[0m\u001b[1;32m     20\u001b[0m \u001b[0;34m\u001b[0m\u001b[0m\n\u001b[1;32m     21\u001b[0m \u001b[0mprint\u001b[0m\u001b[0;34m(\u001b[0m\u001b[0;34m\"Average Precision:\"\u001b[0m\u001b[0;34m,\u001b[0m \u001b[0mavg_precision\u001b[0m\u001b[0;34m)\u001b[0m\u001b[0;34m\u001b[0m\u001b[0;34m\u001b[0m\u001b[0m\n",
            "\u001b[0;32m<ipython-input-92-37c36adb265b>\u001b[0m in \u001b[0;36mcalculate_average_metrics\u001b[0;34m(data)\u001b[0m\n\u001b[1;32m      6\u001b[0m \u001b[0;34m\u001b[0m\u001b[0m\n\u001b[1;32m      7\u001b[0m     \u001b[0;32mfor\u001b[0m \u001b[0mitem\u001b[0m \u001b[0;32min\u001b[0m \u001b[0mdata\u001b[0m\u001b[0;34m:\u001b[0m\u001b[0;34m\u001b[0m\u001b[0;34m\u001b[0m\u001b[0m\n\u001b[0;32m----> 8\u001b[0;31m         \u001b[0mtotal_precision\u001b[0m \u001b[0;34m+=\u001b[0m \u001b[0mitem\u001b[0m\u001b[0;34m[\u001b[0m\u001b[0;34m'base_model'\u001b[0m\u001b[0;34m]\u001b[0m\u001b[0;34m[\u001b[0m\u001b[0;34m'precision'\u001b[0m\u001b[0;34m]\u001b[0m\u001b[0;34m\u001b[0m\u001b[0;34m\u001b[0m\u001b[0m\n\u001b[0m\u001b[1;32m      9\u001b[0m         \u001b[0mtotal_recall\u001b[0m \u001b[0;34m+=\u001b[0m \u001b[0mitem\u001b[0m\u001b[0;34m[\u001b[0m\u001b[0;34m'base_model'\u001b[0m\u001b[0;34m]\u001b[0m\u001b[0;34m[\u001b[0m\u001b[0;34m'recall'\u001b[0m\u001b[0;34m]\u001b[0m\u001b[0;34m\u001b[0m\u001b[0;34m\u001b[0m\u001b[0m\n\u001b[1;32m     10\u001b[0m         \u001b[0mtotal_f1\u001b[0m \u001b[0;34m+=\u001b[0m \u001b[0mitem\u001b[0m\u001b[0;34m[\u001b[0m\u001b[0;34m'base_model'\u001b[0m\u001b[0;34m]\u001b[0m\u001b[0;34m[\u001b[0m\u001b[0;34m'f1'\u001b[0m\u001b[0;34m]\u001b[0m\u001b[0;34m\u001b[0m\u001b[0;34m\u001b[0m\u001b[0m\n",
            "\u001b[0;31mKeyError\u001b[0m: 'base_model'"
          ]
        }
      ]
    },
    {
      "cell_type": "markdown",
      "source": [
        "## load finetuned model"
      ],
      "metadata": {
        "id": "phWDBZmlx8EK"
      }
    },
    {
      "cell_type": "code",
      "source": [
        "! ls drive/MyDrive/mistral-finetune/runs"
      ],
      "metadata": {
        "colab": {
          "base_uri": "https://localhost:8080/"
        },
        "id": "N0jW3AfvzZjO",
        "outputId": "4e188755-1bbb-43ef-dc00-4b779327d338"
      },
      "execution_count": 5,
      "outputs": [
        {
          "output_type": "stream",
          "name": "stdout",
          "text": [
            "checkpoint-500\t\t\t       mistral-finetuning-data.json\n",
            "data\t\t\t\t       mistral-finetuning-data-loweralpha.json\n",
            "helper_functions.py\t\t       mistral-finetuning-data-nonegative.json\n",
            "mistral-finetuning-data2.json\t       __pycache__\n",
            "mistral-finetuning-data3.json\t       runs\n",
            "mistral-finetuning-data-balanced.json\n"
          ]
        }
      ]
    },
    {
      "cell_type": "code",
      "source": [
        "import torch\n",
        "from transformers import AutoTokenizer, AutoModelForCausalLM, BitsAndBytesConfig\n",
        "\n",
        "model_id = \"mistralai/Mistral-7B-Instruct-v0.2\"\n",
        "bnb_config = BitsAndBytesConfig(\n",
        "    load_in_4bit=True,\n",
        "    bnb_4bit_use_double_quant=True,\n",
        "    bnb_4bit_quant_type=\"nf4\",\n",
        "    bnb_4bit_compute_dtype=torch.bfloat16\n",
        ")\n",
        "\n",
        "model = AutoModelForCausalLM.from_pretrained(\n",
        "    model_id,  # Mistral, same as before\n",
        "    quantization_config=bnb_config,  # Same quantization config as before\n",
        "    device_map=\"auto\",\n",
        "    trust_remote_code=True,\n",
        ")\n"
      ],
      "metadata": {
        "colab": {
          "base_uri": "https://localhost:8080/",
          "height": 173,
          "referenced_widgets": [
            "e89916e3a7504282958e6e9f188338f8",
            "4b26b40c04b94e7c909472b01443bcee",
            "343c98497c7048bbb3ca7d0c2490e39a",
            "b50dc5f66b9b45ff8cf3067a9de602c8",
            "e52fafbdbd894820a79cc3c4ee5201d4",
            "3cf7c0372ccd414ea3ba5ada6d0697ab",
            "f1308fda0cec4f82a4ed87756cfd9c1d",
            "ff577f296abd4473bbba7a1127519463",
            "0d96ad0028a6425a9d51a5be3b4ce05b",
            "1f0ca2db38d54d44a434b560ddb8b20d",
            "4b603be5f3fa4f6aa57b8b4d119527e5"
          ]
        },
        "id": "mZauCEiyznw_",
        "outputId": "42a07d98-0cb0-434e-8b4c-c351e5ef00fc"
      },
      "execution_count": 1,
      "outputs": [
        {
          "output_type": "stream",
          "name": "stderr",
          "text": [
            "/usr/local/lib/python3.10/dist-packages/huggingface_hub/utils/_token.py:88: UserWarning: \n",
            "The secret `HF_TOKEN` does not exist in your Colab secrets.\n",
            "To authenticate with the Hugging Face Hub, create a token in your settings tab (https://huggingface.co/settings/tokens), set it as secret in your Google Colab and restart your session.\n",
            "You will be able to reuse this secret in all of your notebooks.\n",
            "Please note that authentication is recommended but still optional to access public models or datasets.\n",
            "  warnings.warn(\n"
          ]
        },
        {
          "output_type": "display_data",
          "data": {
            "text/plain": [
              "Loading checkpoint shards:   0%|          | 0/3 [00:00<?, ?it/s]"
            ],
            "application/vnd.jupyter.widget-view+json": {
              "version_major": 2,
              "version_minor": 0,
              "model_id": "e89916e3a7504282958e6e9f188338f8"
            }
          },
          "metadata": {}
        }
      ]
    },
    {
      "cell_type": "code",
      "source": [
        "eval_tokenizer = AutoTokenizer.from_pretrained(model_id, add_bos_token=True, trust_remote_code=True)\n"
      ],
      "metadata": {
        "id": "lRDZONbC2-zT"
      },
      "execution_count": 2,
      "outputs": []
    },
    {
      "cell_type": "code",
      "source": [
        "! ls drive/MyDrive/mistral-finetune/runs/mistral7b-relation-extraction-finetune_7"
      ],
      "metadata": {
        "colab": {
          "base_uri": "https://localhost:8080/"
        },
        "id": "93vW05-t74vK",
        "outputId": "1904eb7c-73f7-496d-ae72-813b4db222f8"
      },
      "execution_count": 3,
      "outputs": [
        {
          "output_type": "stream",
          "name": "stdout",
          "text": [
            "checkpoint-100\tcheckpoint-200\tcheckpoint-275\tcheckpoint-375\tcheckpoint-475\n",
            "checkpoint-125\tcheckpoint-225\tcheckpoint-300\tcheckpoint-400\tcheckpoint-50\n",
            "checkpoint-150\tcheckpoint-25\tcheckpoint-325\tcheckpoint-425\tcheckpoint-75\n",
            "checkpoint-175\tcheckpoint-250\tcheckpoint-350\tcheckpoint-450\n"
          ]
        }
      ]
    },
    {
      "cell_type": "code",
      "source": [
        "from peft import PeftModel\n",
        "\n",
        "ft_model = PeftModel.from_pretrained(model, \"drive/MyDrive/mistral-finetune/runs/mistral7b-relation-extraction-finetune_7/checkpoint-475\")\n"
      ],
      "metadata": {
        "id": "690eVjXyy_nx"
      },
      "execution_count": 4,
      "outputs": []
    },
    {
      "cell_type": "code",
      "source": [
        "import json\n",
        "with open(\"drive/MyDrive/mistral-finetune/mistral-finetuning-data.json\", \"r\") as json_file:\n",
        "    data = json.load(json_file)"
      ],
      "metadata": {
        "id": "RVD-Ay2H5Y6D"
      },
      "execution_count": 5,
      "outputs": []
    },
    {
      "cell_type": "code",
      "source": [
        "data"
      ],
      "metadata": {
        "colab": {
          "base_uri": "https://localhost:8080/"
        },
        "id": "U58uUXs25nd7",
        "outputId": "8b73d34e-d815-485e-81ba-dd5baaf56de8"
      },
      "execution_count": 6,
      "outputs": [
        {
          "output_type": "execute_result",
          "data": {
            "text/plain": [
              "[{'input': '-LRB- AP -RRB- WEST VIRGINIA 67 , VILLANOVA 56 -- Frank Young scored a career-high 25 points , including eight 3-pointers , for No. 25 West Virginia -LRB- 12-1 , 2-0 -RRB- in a Big East game .',\n",
              "  'output': \"('Frank Young', '/people/person/place_lived', 'West Virginia')\",\n",
              "  'base_model': {'response': \" Based on the given sentence, there do not seem to be any explicit relations mentioned that can be directly extracted using the provided list. The sentence primarily describes an event (a basketball game) involving entities 'West Virginia' and 'Villanova'. However, no specific relations between these entities or other mentioned entities ('Frank Young') are explicitly stated in the sentence. Therefore, the answer would be: None.\",\n",
              "   'predicted_relations': 'None',\n",
              "   'precision': 0.0,\n",
              "   'recall': 0.0,\n",
              "   'f1': 0}},\n",
              " {'input': \"9:30 P.M. (13) THE WILD PARROTS OF TELEGRAPH HILL -- '' Independent Lens '' follows Mark Bittner , a homeless street musician in San Francisco , as he literally goes to the birds -- and finds meaning in his life -- by taking up with a flock of wild red and green parrots .\",\n",
              "  'output': \"('Mark Bittner', '/people/person/place_lived', 'San Francisco')\",\n",
              "  'base_model': {'response': \" Based on the given sentence, there don't seem to be any explicit relations mentioned that can be directly extracted using the provided list. The sentence describes Mark Bittner being a homeless street musician in San Francisco who connects with a flock of wild parrots, but it does not explicitly state any location or company relationships between these entities. Therefore, none.\",\n",
              "   'predicted_relations': 'None',\n",
              "   'precision': 0.0,\n",
              "   'recall': 0.0,\n",
              "   'f1': 0}},\n",
              " {'input': 'A1 OBITUARIES A15 Mstislav Rostropovich A cellist and conductor who was renowned as one of the great instrumentalists of the 20th century and an outspoken champion of artistic freedom in the Soviet Union during the last decades of the cold war , he was 80 and lived in Paris .',\n",
              "  'output': \"('Mstislav Rostropovich', '/people/person/place_lived', 'Paris')\",\n",
              "  'base_model': {'response': ' Based on the given sentence, the following relation triple can be extracted:\\n(Mstislav Rostropovich, /people/person/place_lived, Paris)',\n",
              "   'predicted_relations': [['Mstislav Rostropovich',\n",
              "     '/people/person/place_lived',\n",
              "     'Paris']],\n",
              "   'precision': 1.0,\n",
              "   'recall': 1.0,\n",
              "   'f1': 1.0}},\n",
              " {'input': 'About 2.4 million people live within a 10-mile radius of the Westfield Garden State Plaza in Paramus , which is the largest shopping mall in the state and draws 20 million visitors a year .',\n",
              "  'output': 'None',\n",
              "  'base_model': {'response': \" Based on the given sentence, the following relation triple can be extracted: ('Westfield Garden State Plaza', '/location/located_in', 'Paramus')\",\n",
              "   'predicted_relations': [['Westfield Garden State Plaza',\n",
              "     '/location/located_in',\n",
              "     'Paramus']],\n",
              "   'precision': 0.0,\n",
              "   'recall': 0.0,\n",
              "   'f1': 0}},\n",
              " {'input': \"According to Glazer , Philadelphia 's Brian Dawkins and Jacksonville 's Donovin Darius have trained at a mixed martial arts gym .\",\n",
              "  'output': 'None',\n",
              "  'base_model': {'response': \" Based on the given sentence, there isn't a clear head entity or tail entity for any relation type in the list provided. However, we can infer that 'Philadelphia's Brian Dawkins' and 'Jacksonville's Donovin Darius' are people who have lived or reside in certain locations ('Philadelphia' and 'Jacksonville' respectively). We could potentially consider the relation '/people/person/place_lived'. But since this information is not explicitly stated in the sentence, it would be speculative to include it as a relation triple. Therefore, based on the given sentence alone, no relation triples can be definitively extracted using the provided list.\",\n",
              "   'predicted_relations': [],\n",
              "   'precision': 0,\n",
              "   'recall': 0.0,\n",
              "   'f1': 0}},\n",
              " {'input': 'American officials said it was possible that he is the same man who they acknowledged last week was in custody at Guantánamo Bay , Cuba .',\n",
              "  'output': \"('Guantánamo Bay', '/location/located_in', 'Cuba')\",\n",
              "  'base_model': {'response': ' Based on the given sentence, there aren\\'t any explicit entities or relations mentioned from the list provided. However, we can infer some implicit relations as follows:\\n\\n(people/person/nationality, /, American)\\n(people/person/place_lived, /, Cuba)\\n\\nThese relations are implied by the mention of \"American officials\" and \"Cuba\" in the sentence. But please note that these relations don\\'t directly relate to the entities mentioned in the sentence itself.',\n",
              "   'predicted_relations': [['people/person/nationality', '/', 'American'],\n",
              "    ['people/person/place_lived', '/', 'Cuba']],\n",
              "   'precision': 0.0,\n",
              "   'recall': 0.0,\n",
              "   'f1': 0}},\n",
              " {'input': \"Among the industry players who have contributed are Peter A. Chernin , chairman and chief executive of News Corporation 's Fox Group ; Ron Meyer , the president of Universal Studios ; Richard Cook , chairman of Walt Disney Studios ; and Brad Grey , chairman of Paramount Pictures .\",\n",
              "  'output': \"('Brad Grey', '/business/person/company', 'Paramount Pictures')\",\n",
              "  'base_model': {'response': \" Based on the given sentence, the following relation triples can be extracted:\\n(Peter A. Chernin, /business/person/company, News Corporation's Fox Group)\\n(Ron Meyer, /business/person/company, Universal Studios)\\n(Richard Cook, /business/person/company, Walt Disney Studios)\\n(Brad Grey, /business/person/company, Paramount Pictures)\\nEach person is associated with their respective company.\",\n",
              "   'predicted_relations': [['Peter A. Chernin',\n",
              "     '/business/person/company',\n",
              "     \"News Corporation's Fox Group\"],\n",
              "    ['Ron Meyer', '/business/person/company', 'Universal Studios'],\n",
              "    ['Richard Cook', '/business/person/company', 'Walt Disney Studios'],\n",
              "    ['Brad Grey', '/business/person/company', 'Paramount Pictures']],\n",
              "   'precision': 0.25,\n",
              "   'recall': 1.0,\n",
              "   'f1': 0.4}},\n",
              " {'input': 'An Albert telecast has snarky notes in the key of the old David Letterman show on NBC , where Albert and his sports bloopers were frequent guests .',\n",
              "  'output': \"('David Letterman', '/business/person/company', 'NBC')\",\n",
              "  'base_model': {'response': \" Based on the given sentence, there do not seem to be any explicit entities or relationships that can be extracted using the provided relation types. The sentence mentions 'Albert', 'NBC', and 'old David Letterman show', but no clear relation between them can be determined based on the information provided alone. Therefore, the answer would be: None.\",\n",
              "   'predicted_relations': 'None',\n",
              "   'precision': 0.0,\n",
              "   'recall': 0.0,\n",
              "   'f1': 0}},\n",
              " {'input': 'Another winner was Terra Industries , an agricultural and industrial chemical company in Sioux City , Iowa .',\n",
              "  'output': \"('Sioux City', '/location/located_in', 'Iowa')\",\n",
              "  'base_model': {'response': \" Based on the given sentence, the following relation triples can be extracted:\\n(Terra Industries, /business/company, None) - This triple represents Terra Industries being identified as a company.\\n(Terra Industries, /business/industry/sector, 'agricultural and industrial chemical') - This triple represents Terra Industries being an agricultural and industrial chemical company.\\n(Sioux City, /location, None) - This triple represents Sioux City being identified as a location.\\n(Sioux City, /location/city, None) - This triple represents Sioux City being identified as a city.\\n(Sioux City, /location/addressable_location/city, None) - This triple represents Sioux City being identified as a city in this context.\\n(Sioux City, /location/located_in, Iowa) - This triple represents Sioux City located in Iowa.\\n(Iowa, /location/country, None) - This triple represents Iowa being identified as a country.\\nTherefore, the final set of relation triples would look like:\\n[(Terra Industries, /business/company, None), (Terra Industries, /business/indust\",\n",
              "   'predicted_relations': 'None',\n",
              "   'precision': 0.0,\n",
              "   'recall': 0.0,\n",
              "   'f1': 0}},\n",
              " {'input': 'As Ms. Qin spoke on the eve of the holiday at the Jade Buddha Temple in central Shanghai , scores of worshipers strolled through the temple complex .',\n",
              "  'output': \"('Jade Buddha Temple', '/location/located_in', 'Shanghai')\",\n",
              "  'base_model': {'response': ' Based on the given sentence, the following relation might be extracted:\\n(/location/location_name/temple, /location/located_in, /location/city/shanghai)\\n(Ms. Qin, /people/person/place_lived, /location/city/shanghai)\\n(Jade Buddha Temple, /business/location, /location/location_name/temple)\\nNote that there seems to be no clear head entity for the relation \"/location/country\" or any other country-related relation as the sentence does not provide enough context about the location being in a specific country. Therefore, I would not include such relations in my answer.',\n",
              "   'predicted_relations': [['/location/location_name/temple',\n",
              "     '/location/located_in',\n",
              "     '/location/city/shanghai'],\n",
              "    ['Ms. Qin', '/people/person/place_lived', '/location/city/shanghai'],\n",
              "    ['Jade Buddha Temple',\n",
              "     '/business/location',\n",
              "     '/location/location_name/temple']],\n",
              "   'precision': 0.0,\n",
              "   'recall': 0.0,\n",
              "   'f1': 0}},\n",
              " {'input': 'As the new face of the L.P.G.A. Tour , and as a star in Mexico and elsewhere , Ochoa seems to have taken to the job of being a role model .',\n",
              "  'output': 'None',\n",
              "  'base_model': {'response': ' Based on the given sentence, there do not seem to be any explicit relations mentioned that can be extracted using the provided list. Therefore, the answer would be: None.',\n",
              "   'predicted_relations': 'None',\n",
              "   'precision': 1.0,\n",
              "   'recall': 1.0,\n",
              "   'f1': 1.0}},\n",
              " {'input': \"At this point , he added , '' all the information we have is that it is a localized situation to Seoul , South Korea . ''\",\n",
              "  'output': \"('Seoul', '/location/located_in', 'South Korea'), ('South Korea', '/location/country/administrative_divisions', 'Seoul'), ('Seoul', '/location/administrative_division/country', 'South Korea')\",\n",
              "  'base_model': {'response': \" Based on the given sentence, the following relation might be extracted:\\n('/location/located_in', 'it', 'Seoul')\\n('/location/country/administrative_divisions', 'Seoul', 'South Korea')\\nTherefore, the relation triples would look like:\\n(it, '/location/located_in', Seoul)\\n(Seoul, '/location/country/administrative_divisions', South Korea)\",\n",
              "   'predicted_relations': [['/location/located_in', 'it', 'Seoul'],\n",
              "    ['/location/country/administrative_divisions', 'Seoul', 'South Korea'],\n",
              "    ['it', '/location/located_in', 'Seoul'],\n",
              "    ['Seoul', '/location/country/administrative_divisions', 'South Korea']],\n",
              "   'precision': 0.0,\n",
              "   'recall': 0.0,\n",
              "   'f1': 0}},\n",
              " {'input': \"Avi Dichter , a former Shin Bet director and now public security minister , said that Khaled Meshal , the political director of Hamas who is in exile in Damascus , Syria , would not be immune from Israeli attack . ''\",\n",
              "  'output': \"('Syria', '/location/country/administrative_divisions', 'Damascus'), ('Damascus', '/location/located_in', 'Syria'), ('Damascus', '/location/administrative_division/country', 'Syria')\",\n",
              "  'base_model': {'response': ' Based on the given sentence, the following relation triples can be extracted:\\n(Avi Dichter, /people/person/nationality, Israeli)\\n(Avi Dichter, /business/person/role, former Shin Bet director)\\n(Avi Dichter, /business/person/role, public security minister)\\n(Khaled Meshal, /people/person/nationality, Palestinian)\\n(Khaled Meshal, /organization/political_entity/position, political director of Hamas)\\n(Hamas, /business/location, Damascus, Syria)\\n(Khaled Meshal, /people/deceasedperson/place_of_death, Unknown)\\n(Khaled Meshal, /location/country/administrative_divisions, Syria)\\n(Khaled Meshal, /location/located_in, Damascus, Syria)',\n",
              "   'predicted_relations': [['Avi Dichter',\n",
              "     '/people/person/nationality',\n",
              "     'Israeli'],\n",
              "    ['Avi Dichter', '/business/person/role', 'former Shin Bet director'],\n",
              "    ['Avi Dichter', '/business/person/role', 'public security minister'],\n",
              "    ['Khaled Meshal', '/people/person/nationality', 'Palestinian'],\n",
              "    ['Khaled Meshal',\n",
              "     '/organization/political_entity/position',\n",
              "     'political director of Hamas'],\n",
              "    ['Hamas', '/business/location', 'Damascus, Syria'],\n",
              "    ['Khaled Meshal', '/people/deceasedperson/place_of_death', 'Unknown'],\n",
              "    ['Khaled Meshal', '/location/country/administrative_divisions', 'Syria'],\n",
              "    ['Khaled Meshal', '/location/located_in', 'Damascus, Syria']],\n",
              "   'precision': 0.0,\n",
              "   'recall': 0.0,\n",
              "   'f1': 0}},\n",
              " {'input': 'Beth Lee , President Rabbi David J. Gelfand $ -LRB- 6 $ -RRB- RESNICK -- Mildred Rothstein , of Ellenville , New York and Aventura , Florida passed away on January 8 , 2007 at age 90 .',\n",
              "  'output': \"('Aventura', '/location/located_in', 'Florida')\",\n",
              "  'base_model': {'response': ' Based on the given sentence, the following relation triple can be extracted:\\n(Mildred Rothstein, /people/person/place_lived, \"Ellenville\")\\n(Mildred Rothstein, /people/person/place_lived, \"Aventura\")\\nThere are no other relations that can be directly extracted from this sentence using the given list.',\n",
              "   'predicted_relations': [['Mildred Rothstein',\n",
              "     '/people/person/place_lived',\n",
              "     'Ellenville'],\n",
              "    ['Mildred Rothstein', '/people/person/place_lived', 'Aventura']],\n",
              "   'precision': 0.0,\n",
              "   'recall': 0.0,\n",
              "   'f1': 0}},\n",
              " {'input': \"Billy Donovan , who coached the Florida men 's team to its second consecutive N.C.A.A. title last month , and Pat Summitt , who coached the Tennessee women to their seventh title in her 33 years on the job , received the annual Winged Foot Awards last night at a dinner at the New York Athletic Club .\",\n",
              "  'output': \"('Billy Donovan', '/people/person/place_lived', 'Florida')\",\n",
              "  'base_model': {'response': \" Based on the given sentence, there are no explicit location or company entities mentioned. Therefore, the following relations cannot be extracted directly from the text: ['/business/company/advisors', '/business/location', '/business/person/company', '/location/administrative_division/country', '/location/country/administrative_divisions', '/location/located_in', '/people/deceasedperson/place_of_death', '/people/person/nationality', '/people/person/place_lived', '/people/person/place_of_birth']. However, we can infer that the New York Athletic Club is a location where the event took place. So, one possible relation would be: ('New York Athletic Club', '/location/venue', None)\",\n",
              "   'predicted_relations': 'None',\n",
              "   'precision': 0.0,\n",
              "   'recall': 0.0,\n",
              "   'f1': 0}},\n",
              " {'input': 'Born in California in 1969 , Kara Walker seems young for a full-scale museum survey .',\n",
              "  'output': \"('Kara Walker', '/people/person/place_of_birth', 'California')\",\n",
              "  'base_model': {'response': ' Based on the given sentence, the following relation can be extracted:\\n(head entity: \"Kara Walker\", relation: \"/people/person/place_of_birth\", tail entity: \"California\")',\n",
              "   'predicted_relations': [['head entity: \"Kara Walker',\n",
              "     'relation: \"/people/person/place_of_birth',\n",
              "     'tail entity: \"California']],\n",
              "   'precision': 0.0,\n",
              "   'recall': 0.0,\n",
              "   'f1': 0}},\n",
              " {'input': \"But when Frederick Ashton did this in his 1955 production for the Royal Danish Ballet -LRB- presumably the version the Danish-born Mr. Martins grew up with -RRB- , he made the men 's mysterious arrival fateful , like that of the three characters who come masked to the ball in Mozart 's '' Don Giovanni . ''\",\n",
              "  'output': \"('Frederick Ashton', '/business/person/company', 'Royal Danish Ballet')\",\n",
              "  'base_model': {'response': ' None.\\nIn the given sentence, there are no explicit mentions of companies, locations, or people with specified relationships using the provided relation types. The sentence primarily discusses the actions and productions of individuals (Frederick Ashton) and their associations with ballets and countries (Royal Danish Ballet, Denmark). However, there is no clear indication of advisory roles, nationalities, places lived, or places of birth mentioned explicitly in the text.',\n",
              "   'predicted_relations': 'None',\n",
              "   'precision': 0.0,\n",
              "   'recall': 0.0,\n",
              "   'f1': 0}},\n",
              " {'input': \"By noon , Byron York , a correspondent for the conservative National Review , had written in an online analysis that it had been '' a disastrous morning '' for Mr. Gonzales .\",\n",
              "  'output': \"('Byron York', '/business/person/company', 'National Review')\",\n",
              "  'base_model': {'response': \" None.\\nIn this sentence, there are no explicit mentions of locations, companies or countries associated with the entities 'Byron York' or 'Mr. Gonzales'. Therefore, no relation from the given list can be extracted from this sentence.\",\n",
              "   'predicted_relations': 'None',\n",
              "   'precision': 0.0,\n",
              "   'recall': 0.0,\n",
              "   'f1': 0}},\n",
              " {'input': \"Cleveland 's quarterback -- Frank Ryan , who was studying for a doctorate in math from Rice University during his playing days -- threw three touchdown passes , all to Gary Collins .\",\n",
              "  'output': \"('Frank Ryan', '/business/person/company', 'Cleveland')\",\n",
              "  'base_model': {'response': \" Based on the given sentence, there aren't any explicit relations mentioned that can be directly extracted using the provided list. However, we can infer some implicit relations as follows:\\n\\n(Frank Ryan, /people/person/place_lived, Cleveland)\\n(Frank Ryan, /business/person/company, Rice University)\\n(Rice University, /location/country/administrative_divisions, United States)\\n\\nThese relations represent that Frank Ryan lived in Cleveland, studied at Rice University which is located in the United States. Note that these relations are derived from the information given in the sentence and not explicitly stated.\",\n",
              "   'predicted_relations': [['Frank Ryan',\n",
              "     '/people/person/place_lived',\n",
              "     'Cleveland'],\n",
              "    ['Frank Ryan', '/business/person/company', 'Rice University'],\n",
              "    ['Rice University',\n",
              "     '/location/country/administrative_divisions',\n",
              "     'United States']],\n",
              "   'precision': 0.0,\n",
              "   'recall': 0.0,\n",
              "   'f1': 0}},\n",
              " {'input': \"Coincidentally , the movie Mr. Starkweather inspired , Terrence Malick 's '' Badlands , '' involves a flight to Saskatchewan .\",\n",
              "  'output': 'None',\n",
              "  'base_model': {'response': \" Based on the given sentence, there doesn't seem to be any clear-cut relation that can be extracted using the entities and relation types provided in the list. Therefore, the answer would be: None.\",\n",
              "   'predicted_relations': 'None',\n",
              "   'precision': 1.0,\n",
              "   'recall': 1.0,\n",
              "   'f1': 1.0}},\n",
              " {'input': \"Correction : June 9 , 2007 , Saturday An article in Business Day on May 29 about Russia 's strategy to gain a monopoly in natural gas exports to Asia through Gazprom misstated the percentage of ownership in the Kovykta gas field by TNK-BP , which is being accused by the Kremlin of having failed to meet license requirements .\",\n",
              "  'output': 'None',\n",
              "  'base_model': {'response': \" None.\\nThe given sentence does not provide sufficient information for any relation from the list to be extracted. It mentions entities such as 'Business Day', 'Russia', 'Gazprom', 'Kovykta gas field', 'TNK-BP', and 'May 29'. However, no explicit relationships between these entities are stated in the sentence.\",\n",
              "   'predicted_relations': 'None',\n",
              "   'precision': 1.0,\n",
              "   'recall': 1.0,\n",
              "   'f1': 1.0}},\n",
              " {'input': \"Correction : March 7 , 2007 , Wednesday An article on Sunday about an antigovernment protest in Russia referred incorrectly to Garry Kasparov , a former world chess champion , who is also a member of Russia 's liberal political opposition and who spoke to the crowd .\",\n",
              "  'output': \"('Garry Kasparov', '/people/person/nationality', 'Russia')\",\n",
              "  'base_model': {'response': \" None.\\nThe sentence mentions entities 'March 7, 2007', 'Sunday', 'Russia', 'Garry Kasparov', 'world chess champion', 'former world chess champion', 'antigovernment protest', 'Russia's liberal political opposition', 'crowd'. However, there are no explicit relationships mentioned between these entities in the sentence that can be extracted using the provided relation types.\",\n",
              "   'predicted_relations': 'None',\n",
              "   'precision': 0.0,\n",
              "   'recall': 0.0,\n",
              "   'f1': 0}},\n",
              " {'input': \"Dr. Hawking announced on his 65th birthday , in January , that he hoped to take a longer , higher flight in 2009 on a space plane being developed by Richard Branson 's company Virgin Galactic , which seeks to take six passengers to an altitude of 70 miles .\",\n",
              "  'output': \"('Virgin Galactic', '/business/company/advisors', 'Richard Branson'), ('Richard Branson', '/business/person/company', 'Virgin Galactic')\",\n",
              "  'base_model': {'response': ' Based on the given sentence, the following relation triples can be extracted:\\n(Dr. Hawking, /people/person/place_lived, January)\\n(Dr. Hawking, /people/person/place_lived, \"his 65th birthday\")\\n(Virgin Galactic, /business/company/advisors, Dr. Hawking)\\n(Virgin Galactic, /business/location/located_in, \"space\")\\n(Richard Branson, /people/person/nationality, British)\\n(Virgin Galactic, /business/person/company, Richard Branson)',\n",
              "   'predicted_relations': [['Dr. Hawking',\n",
              "     '/people/person/place_lived',\n",
              "     'January'],\n",
              "    ['Dr. Hawking', '/people/person/place_lived', 'his 65th birthday'],\n",
              "    ['Virgin Galactic', '/business/company/advisors', 'Dr. Hawking'],\n",
              "    ['Virgin Galactic', '/business/location/located_in', 'space'],\n",
              "    ['Richard Branson', '/people/person/nationality', 'British'],\n",
              "    ['Virgin Galactic', '/business/person/company', 'Richard Branson']],\n",
              "   'precision': 0.0,\n",
              "   'recall': 0.0,\n",
              "   'f1': 0}},\n",
              " {'input': 'Evan Almighty Hilarity ensues when God -LRB- Morgan Freeman -RRB- commands a newly elected congressman -LRB- Steve Carell -RRB- to start building an ark in his Virginia backyard .',\n",
              "  'output': \"('Morgan Freeman', '/people/person/place_lived', 'Virginia'), ('Steve Carell', '/people/person/place_lived', 'Virginia')\",\n",
              "  'base_model': {'response': \" Based on the given sentence, there aren't any explicit relations mentioned that can be directly extracted using the provided list. Therefore, the answer would be: None.\",\n",
              "   'predicted_relations': 'None',\n",
              "   'precision': 0.0,\n",
              "   'recall': 0.0,\n",
              "   'f1': 0}},\n",
              " {'input': 'Even with the $ 7.6 billion in donations and pledges , Mr. Siniora will still return to Lebanon with a battle on his hands as he tries to establish an international tribunal that could eventually implicate Syria in the assassination of Rafik Hariri , a former Lebanese prime minister who was an outspoken critic of Syria .',\n",
              "  'output': \"('Rafik Hariri', '/people/person/place_lived', 'Lebanon'), ('Rafik Hariri', '/people/person/nationality', 'Lebanon')\",\n",
              "  'base_model': {'response': ' None.\\nIn this sentence, there are no explicit mentions of companies, locations, or people with specified relationships using the provided relation types. The sentence primarily discusses monetary amounts, political actions, and geographical references without specifying entities in a relational context according to the given relation types.',\n",
              "   'predicted_relations': 'None',\n",
              "   'precision': 0.0,\n",
              "   'recall': 0.0,\n",
              "   'f1': 0}},\n",
              " {'input': \"For the powers at the Creative Artists Agency , Hollywood 's pre-eminent talent representative , the coming blockbuster '' Transformers '' has already brought a lesson in the cold-hearted ways of corporate entertainment .\",\n",
              "  'output': \"('Creative Artists Agency', '/business/location', 'Hollywood')\",\n",
              "  'base_model': {'response': \" None.\\nIn this sentence, there are no explicit mentions of entities or their relationships that can be extracted using the provided relation types. The sentence discusses the Creative Artists Agency being Hollywood's pre-eminent talent representative and the impact of the Transformers blockbuster on them, but it does not provide enough information for extracting specific entities and their relationships based on the given relation types.\",\n",
              "   'predicted_relations': 'None',\n",
              "   'precision': 0.0,\n",
              "   'recall': 0.0,\n",
              "   'f1': 0}},\n",
              " {'input': 'From 1981 to 1983 , Mr. Kline was a Fulbright scholar in Cracow , Poland , doing research on Stanislaw Wyspianski , the Polish painter and poet , and teaching English as a second language at Jagiellonian University .',\n",
              "  'output': \"('Cracow', '/location/located_in', 'Poland'), ('Poland', '/location/country/administrative_divisions', 'Cracow')\",\n",
              "  'base_model': {'response': ' Based on the given sentence, the following relation triples can be extracted:\\n(Mr. Kline, /people/person/place_lived, Cracow)\\n(Mr. Kline, /business/location, Jagiellonian University)\\n(Cracow, /location/country/administrative_divisions, Poland)\\n(Poland, /location/country, None)\\n(Mr. Kline, /business/company/advisors, Fulbright Scholarship)\\n(Fulbright Scholarship, /people/person, Mr. Kline)\\n(Stanislaw Wyspianski, /people/person, None)\\n(Stanislaw Wyspianski, /business/artist, None)\\n(Jagiellonian University, /business/educational_institution, None)\\n\\nThese relation triples represent that Mr. Kline lived in Cracow, he worked at Jagiellonian University, Cracow is located in Poland, and Mr. Kline was a Fulbright scholar. Note that some entities in the sentence do not have clear relationships with others based on the given',\n",
              "   'predicted_relations': 'None',\n",
              "   'precision': 0.0,\n",
              "   'recall': 0.0,\n",
              "   'f1': 0}},\n",
              " {'input': \"George Zoritch , in his youth an Adonis the Ballets Russes alumnae still rhapsodize about , ended his career on the dance faculty at the University of Arizona in Tucson . ''\",\n",
              "  'output': \"('University of Arizona', '/location/located_in', 'Tucson')\",\n",
              "  'base_model': {'response': ' Based on the given sentence, the following relation triple may be extracted:\\n(George Zoritch, /people/person/place_lived, University of Arizona in Tucson)',\n",
              "   'predicted_relations': [['George Zoritch',\n",
              "     '/people/person/place_lived',\n",
              "     'University of Arizona in Tucson']],\n",
              "   'precision': 0.0,\n",
              "   'recall': 0.0,\n",
              "   'f1': 0}},\n",
              " {'input': 'He had tested positive for a banned substance three months earlier at a tournament in Acapulco , Mexico .',\n",
              "  'output': \"('Acapulco', '/location/located_in', 'Mexico')\",\n",
              "  'base_model': {'response': \" Based on the given sentence, there isn't a clear head entity or tail entity identified directly from the text that can be associated with any relation type from the list provided. However, we can infer some implicit entities and their relationships as follows:\\n\\n(Location 'Acapulco', relation '/location/located_in', Country 'Mexico')\\n\\nThis relation indicates that 'Acapulco' is located in 'Mexico'. While this information is not explicitly stated in the sentence, it is implied by mentioning 'Acapulco, Mexico' together. This relation does not involve any named person mentioned in the sentence. Therefore, no direct relation between people or companies can be determined based on the given sentence alone.\\n\\nSo, the final answer would be:\\n[(Location 'Acapulco'), ('/location/located_in', Country 'Mexico')]\",\n",
              "   'predicted_relations': [[\"Location 'Acapulco\",\n",
              "     \"relation '/location/located_in\",\n",
              "     \"Country 'Mexico\"],\n",
              "    [\"Location 'Acapulco')\", \"('/location/located_in\", \"Country 'Mexico\"]],\n",
              "   'precision': 0.0,\n",
              "   'recall': 0.0,\n",
              "   'f1': 0}},\n",
              " {'input': \"He plans to name the Connecticut attorney general , Richard Blumenthal , as his state campaign chairman , and Representative Rosa DeLauro of Connecticut , who was once Mr. Dodd 's chief of staff , as a national chairwoman .\",\n",
              "  'output': \"('Rosa DeLauro', '/people/person/place_lived', 'Connecticut')\",\n",
              "  'base_model': {'response': \" Based on the given sentence, the following relation triples can be extracted:\\n(Richard Blumenthal, /business/person/company, State campaign chairman)\\n(Richard Blumenthal, /business/person/company, He)\\n(Rosa DeLauro, /business/person/company, National chairwoman)\\n(Rosa DeLauro, /business/person/company, He)\\n(Rosa DeLauro, /location/located_in, Connecticut)\\nTherefore, the relations that might be included in the given sentence are: ['/business/person/company'].\",\n",
              "   'predicted_relations': [['Richard Blumenthal',\n",
              "     '/business/person/company',\n",
              "     'State campaign chairman'],\n",
              "    ['Richard Blumenthal', '/business/person/company', 'He'],\n",
              "    ['Rosa DeLauro', '/business/person/company', 'National chairwoman'],\n",
              "    ['Rosa DeLauro', '/business/person/company', 'He'],\n",
              "    ['Rosa DeLauro', '/location/located_in', 'Connecticut']],\n",
              "   'precision': 0.0,\n",
              "   'recall': 0.0,\n",
              "   'f1': 0}},\n",
              " {'input': 'He was referring to coverage in the mainstream newspaper Hurriyet that said Mr. Asgari arrived at the Istanbul airport on Feb. 7 after moving his family to safety in Damascus , Syria .',\n",
              "  'output': \"('Damascus', '/location/located_in', 'Syria'), ('Syria', '/location/country/administrative_divisions', 'Damascus'), ('Damascus', '/location/administrative_division/country', 'Syria')\",\n",
              "  'base_model': {'response': ' Based on the given sentence, the following relation triple can be extracted:\\n(Mr. Asgari, /people/person/place_lived, Damascus)\\n(Damascus, /location/country/administrative_divisions, Syria)\\n(Hurriyet, /business/media/newspaper, None)\\n(Istanbul airport, /location/airport, None)\\n(Mr. Asgari, /people/person/place_arrived, Istanbul airport)\\n(Date \"Feb. 7\", /time/date, None)\\n\\nThese triples represent that Mr. Asgari lived in Damascus, which is located in Syria, and he arrived at the Istanbul airport on February 7th. The newspaper Hurriyet is represented as a media organization without any specific location or relation mentioned in the sentence.',\n",
              "   'predicted_relations': 'None',\n",
              "   'precision': 0.0,\n",
              "   'recall': 0.0,\n",
              "   'f1': 0}},\n",
              " {'input': \"Her mother , Sarah Edwards , grew up in a town house a few doors down , where Virginia 's grandmother still lives .\",\n",
              "  'output': \"('Sarah Edwards', '/people/person/place_lived', 'Virginia')\",\n",
              "  'base_model': {'response': ' Based on the given sentence, the following relation triple can be extracted:\\n(person \"Sarah Edwards\", relation \"/location/person/place_lived\", location \"a town house\")\\n(location \"a town house\", relation \"/location/located_in\", location \"where Virginia \\'s grandmother still lives\")',\n",
              "   'predicted_relations': [['person \"Sarah Edwards',\n",
              "     'relation \"/location/person/place_lived',\n",
              "     'location \"a town house'],\n",
              "    ['location \"a town house',\n",
              "     'relation \"/location/located_in',\n",
              "     'location \"where Virginia \\'s grandmother still lives']],\n",
              "   'precision': 0.0,\n",
              "   'recall': 0.0,\n",
              "   'f1': 0}},\n",
              " {'input': 'Her mother is an assistant treasurer of the NewAlliance Bank based in New Haven and is the manager of branches in Storrs and Hebron , Conn. .',\n",
              "  'output': \"('NewAlliance Bank', '/business/location', 'New Haven')\",\n",
              "  'base_model': {'response': ' Based on the given sentence, the following relation triples can be extracted:\\n(person \"mother\", /business/person/employee/position, newalliance_bank)\\n(newalliance_bank, /business/company/location, new_haven)\\n(newalliance_bank, /business/company/location, storrss)\\n(newalliance_bank, /business/company/location, hebron_conn)\\nTherefore, the mother is an employee of NewAlliance Bank, which has locations in New Haven, Storrs, and Hebron, Connecticut.',\n",
              "   'predicted_relations': [['person \"mother',\n",
              "     '/business/person/employee/position',\n",
              "     'newalliance_bank'],\n",
              "    ['newalliance_bank', '/business/company/location', 'new_haven'],\n",
              "    ['newalliance_bank', '/business/company/location', 'storrss'],\n",
              "    ['newalliance_bank', '/business/company/location', 'hebron_conn']],\n",
              "   'precision': 0.0,\n",
              "   'recall': 0.0,\n",
              "   'f1': 0}},\n",
              " {'input': 'However the legal case turns out , the Yellowstone Club is likely to leave a lasting impression across the mountains of southern Montana , with its massive , stylish and , some say , excessive version of good living .',\n",
              "  'output': 'None',\n",
              "  'base_model': {'response': \" Based on the given sentence, the following relation might be applicable:\\n['/business/location': 'Yellowstone Club', '/location/located_in': {'Montana', 'southern Montana'} ]\\nThis relation indicates that the 'Yellowstone Club' is located in 'Montana' or more specifically, 'southern Montana'.\",\n",
              "   'predicted_relations': [],\n",
              "   'precision': 0,\n",
              "   'recall': 0.0,\n",
              "   'f1': 0}},\n",
              " {'input': 'INDIAN EXCHANGES DIVERSIFY -- The Bombay Stock Exchange sold a 5 percent stake to the Singapore Stock Exchange for 1.89 billion India rupees , or $ 42.6 million , and the exchange in Calcutta said it planned to sell 51 percent of its shares to partners and strategic investors .',\n",
              "  'output': \"('Calcutta', '/location/located_in', 'India')\",\n",
              "  'base_model': {'response': ' Based on the given sentence, the following relation triples can be extracted:\\n(Bombay Stock Exchange, /business/company/sold_stake, Singapore Stock Exchange)\\n(Calcutta Exchange, /business/company/planned_to_sell, Partners and strategic investors)\\n(Singapore Stock Exchange, /location/country/from, India)\\n(Bombay Stock Exchange, /location/country/from, India)\\n(Calcutta Exchange, /location/country/from, India)\\nTherefore, the answer is: [(Bombay Stock Exchange, /business/company/sold_stake, Singapore Stock Exchange), (Calcutta Exchange, /business/company/planned_to_sell, Partners and strategic investors), (Singapore Stock Exchange, /location/country/from, India), (Bombay Stock Exchange, /location/country/from, India), (Calcutta Exchange, /location/country/from, India)]',\n",
              "   'predicted_relations': [['Bombay Stock Exchange',\n",
              "     '/business/company/sold_stake',\n",
              "     'Singapore Stock Exchange'],\n",
              "    ['Calcutta Exchange',\n",
              "     '/business/company/planned_to_sell',\n",
              "     'Partners and strategic investors'],\n",
              "    ['Singapore Stock Exchange', '/location/country/from', 'India'],\n",
              "    ['Bombay Stock Exchange', '/location/country/from', 'India'],\n",
              "    ['Calcutta Exchange', '/location/country/from', 'India'],\n",
              "    ['Bombay Stock Exchange',\n",
              "     '/business/company/sold_stake',\n",
              "     'Singapore Stock Exchange'],\n",
              "    ['Calcutta Exchange',\n",
              "     '/business/company/planned_to_sell',\n",
              "     'Partners and strategic investors'],\n",
              "    ['Singapore Stock Exchange', '/location/country/from', 'India'],\n",
              "    ['Bombay Stock Exchange', '/location/country/from', 'India'],\n",
              "    ['Calcutta Exchange', '/location/country/from', 'India']],\n",
              "   'precision': 0.0,\n",
              "   'recall': 0.0,\n",
              "   'f1': 0}},\n",
              " {'input': \"In Amman , Mr. Ban 's plane left him at Queen Alia International Airport while his welcoming party awaited him 20 miles away at Amman Airport .\",\n",
              "  'output': \"('Queen Alia International Airport', '/location/located_in', 'Amman')\",\n",
              "  'base_model': {'response': ' Based on the given sentence, the following relation triples can be extracted:\\n(Queen Alia International Airport, /location/located_in, Amman)\\n(Amman, /location/administrative_division/country, Jordan)\\n(Mr. Ban, /people/person/place_of_birth, Unknown) % This information is not explicitly stated in the sentence but assumed based on the mention of his name\\n(Mr. Ban, /people/person/place_lived, Unknown) % Same as above\\n(Mr. Ban, /business/person/place_of_death, Unknown) % Same as above\\n(Queen Alia International Airport, /business/location, Amman Airport) % Assuming \"Airport\" refers to a specific location named \"Amman Airport\"\\n(Mr. Ban, /people/person, Mr. Ban\\'s welcoming party) % Implicit relation between Mr. Ban and his welcoming party\\n(Mr. Ban\\'s welcoming party, /business/person/company, Unknown) % We don\\'t have enough information to determine the company affiliation of Mr. Ban\\'s welcoming party.',\n",
              "   'predicted_relations': [['Queen Alia International Airport',\n",
              "     '/location/located_in',\n",
              "     'Amman'],\n",
              "    ['Amman', '/location/administrative_division/country', 'Jordan'],\n",
              "    ['Mr. Ban', '/people/person/place_of_birth', 'Unknown'],\n",
              "    ['Mr. Ban', '/people/person/place_lived', 'Unknown'],\n",
              "    ['Mr. Ban', '/business/person/place_of_death', 'Unknown'],\n",
              "    ['Queen Alia International Airport',\n",
              "     '/business/location',\n",
              "     'Amman Airport'],\n",
              "    ['Mr. Ban', '/people/person', \"Mr. Ban's welcoming party\"],\n",
              "    [\"Mr. Ban's welcoming party\", '/business/person/company', 'Unknown']],\n",
              "   'precision': 0.125,\n",
              "   'recall': 1.0,\n",
              "   'f1': 0.2222222222222222}},\n",
              " {'input': \"In a telephone interview from Khartoum on Tuesday , as she and a three-member camera crew prepared for a two-hour flight on a small plane into Darfur , Ms. Curry was asked why she had felt compelled to return to Sudan twice since her first visit . ''\",\n",
              "  'output': 'None',\n",
              "  'base_model': {'response': \" Based on the given sentence, there do not seem to be any explicit entities or relationships that can be extracted using the provided relation types. The sentence mentions 'Ms. Curry' who is a person, 'Khartoum' which is a location, and 'Darfur' which is also a location. However, the relation types provided do not include simple 'person-location' or 'location-location' relationships like 'person/place_lived' or 'location/located_in'. Therefore, no relationship triples can be extracted directly from this sentence using the given relation types.\\n\\nNone.\",\n",
              "   'predicted_relations': 'None',\n",
              "   'precision': 1.0,\n",
              "   'recall': 1.0,\n",
              "   'f1': 1.0}},\n",
              " {'input': \"In another development , Mr. Olmert has asked security officials to examine the possibility of re-routing part of Israel 's West Bank separation barrier to bring two additional Jewish settlements inside its walls , his office said Wednesday .\",\n",
              "  'output': \"('West Bank', '/location/located_in', 'Israel')\",\n",
              "  'base_model': {'response': \" Based on the given sentence, there do not seem to be any explicit entities or relationships mentioned that can be directly extracted using the provided relation types. The sentence primarily discusses actions taken by Mr. Olmert and mentions locations (Israel's West Bank separation barrier) but does not provide enough information for extracting specific entities or their relationships according to the given relation types. Therefore, the answer would be: None.\",\n",
              "   'predicted_relations': 'None',\n",
              "   'precision': 0.0,\n",
              "   'recall': 0.0,\n",
              "   'f1': 0}},\n",
              " {'input': 'In the 1960s the town of Jindabyne was intentionally flooded by the damming of a river and left at the bottom of a newly created lake in the middle of the Snowy Mountains in southeastern Australia .',\n",
              "  'output': \"('Jindabyne', '/location/located_in', 'Australia')\",\n",
              "  'base_model': {'response': \" Based on the given sentence, the following relation triples can be extracted:\\n(entity: 'Jindabyne', relation: '/location/located_in', entity: 'a newly created lake')\\n(entity: 'Jindabyne', relation: '/location/is_part_of', entity: 'the Snowy Mountains')\\n(entity: 'Snowy Mountains', relation: '/location/is_part_of', entity: 'southeastern Australia')\\n(entity: 'Australia', relation: '/location/country', entity: 'southeastern Australia')\",\n",
              "   'predicted_relations': [[\"entity: 'Jindabyne\",\n",
              "     \"relation: '/location/located_in\",\n",
              "     \"entity: 'a newly created lake\"],\n",
              "    [\"entity: 'Jindabyne\",\n",
              "     \"relation: '/location/is_part_of\",\n",
              "     \"entity: 'the Snowy Mountains\"],\n",
              "    [\"entity: 'Snowy Mountains\",\n",
              "     \"relation: '/location/is_part_of\",\n",
              "     \"entity: 'southeastern Australia\"],\n",
              "    [\"entity: 'Australia\",\n",
              "     \"relation: '/location/country\",\n",
              "     \"entity: 'southeastern Australia\"]],\n",
              "   'precision': 0.0,\n",
              "   'recall': 0.0,\n",
              "   'f1': 0}},\n",
              " {'input': 'In the next several years , dams on the Elwha and White Salmon Rivers in Washington and the Sandy River in Oregon are scheduled to be removed .',\n",
              "  'output': \"('Elwha', '/location/located_in', 'Washington')\",\n",
              "  'base_model': {'response': ' None.\\nThe given sentence does not provide enough information for any relation from the list to be extracted. It mentions rivers and states but there are no specific entities or people mentioned that could be related by these relations.',\n",
              "   'predicted_relations': 'None',\n",
              "   'precision': 0.0,\n",
              "   'recall': 0.0,\n",
              "   'f1': 0}},\n",
              " {'input': \"Israel 's head of military intelligence , Amos Yadlin , told cabinet officials on Sunday that Israeli intelligence had seen signs of defensive planning by Syria , Iran and the Lebanese militant group Hezbollah , all seemingly bracing for a possible attack by the United States in the coming months .\",\n",
              "  'output': \"('Amos Yadlin', '/people/person/nationality', 'Israel')\",\n",
              "  'base_model': {'response': \" Based on the given sentence, there are no explicit relations mentioned between entities in the provided list. However, we can infer some implicit relations as follows:\\n(Israel, /location/country/administrative_divisions, 'Israel')\\n(Amos Yadlin, /people/person/nationality, 'Israel')\\n(Syria, /business/location, 'Syria')\\n(Iran, /business/location, 'Iran')\\n(Lebanon, /business/location, 'Lebanon')\\n(Hezbollah, /organization/militant_group/name, 'Hezbollah')\\n(Hezbollah, /business/location, 'Lebanon')\\n(United States, /business/country, 'United States')\\nThese relations are inferred based on the context of the sentence and do not directly appear in the sentence itself.\",\n",
              "   'predicted_relations': [['Israel',\n",
              "     '/location/country/administrative_divisions',\n",
              "     'Israel'],\n",
              "    ['Amos Yadlin', '/people/person/nationality', 'Israel'],\n",
              "    ['Syria', '/business/location', 'Syria'],\n",
              "    ['Iran', '/business/location', 'Iran'],\n",
              "    ['Lebanon', '/business/location', 'Lebanon'],\n",
              "    ['Hezbollah', '/organization/militant_group/name', 'Hezbollah'],\n",
              "    ['Hezbollah', '/business/location', 'Lebanon'],\n",
              "    ['United States', '/business/country', 'United States']],\n",
              "   'precision': 0.125,\n",
              "   'recall': 1.0,\n",
              "   'f1': 0.2222222222222222}},\n",
              " {'input': \"Israel annexed Jerusalem in 1967 and offered full citizenship at the time to all of Jerusalem 's residents .\",\n",
              "  'output': \"('Jerusalem', '/location/located_in', 'Israel')\",\n",
              "  'base_model': {'response': \" Based on the given sentence, there isn't any direct relation that can be extracted using the provided list. The sentence mentions 'Israel' and 'Jerusalem', but it doesn't explicitly state that Jerusalem is a location 'administered by' or 'located in' Israel, nor does it mention any specific person or company. Therefore, no relation triples can be derived from this sentence based on the given list.\\n\\nNone.\",\n",
              "   'predicted_relations': 'None',\n",
              "   'precision': 0.0,\n",
              "   'recall': 0.0,\n",
              "   'f1': 0}},\n",
              " {'input': \"It 's a pain , '' said Eli Gold , 17 , a high school student from Piedmont , Calif. , who was staying in New York with 16 other students for a conference and was told early yesterday morning that his 8 p.m. flight had been canceled . ''\",\n",
              "  'output': \"('Eli Gold', '/people/person/place_lived', 'Piedmont')\",\n",
              "  'base_model': {'response': ' Based on the given sentence, there are no explicit entities or relations mentioned from the provided list. Therefore, the answer would be: None.',\n",
              "   'predicted_relations': 'None',\n",
              "   'precision': 0.0,\n",
              "   'recall': 0.0,\n",
              "   'f1': 0}},\n",
              " {'input': \"It is in the interest of Europe , its member states and its citizens to bring this process to a successful conclusion , '' she told Parliament 's assembly in Strasbourg , France , referring to the stalemate over the constitution , which was rejected in referendums in the Netherlands and France in 2005 . ''\",\n",
              "  'output': \"('France', '/location/country/administrative_divisions', 'Strasbourg'), ('Strasbourg', '/location/located_in', 'France')\",\n",
              "  'base_model': {'response': ' Based on the given sentence, the following relation triple can be extracted:\\n(Europe, /location/country/administrative_divisions, France)\\nExplanation: In the sentence, \"Parliament\\'s assembly in Strasbourg, France\" implies that Strasbourg is located in France, making France an administrative division of Europe according to the given relation type \"/location/country/administrative_divisions\".',\n",
              "   'predicted_relations': [['Europe',\n",
              "     '/location/country/administrative_divisions',\n",
              "     'France']],\n",
              "   'precision': 0.0,\n",
              "   'recall': 0.0,\n",
              "   'f1': 0}},\n",
              " {'input': \"Its parent , DaimlerChrysler of Germany , said in February that it would consider selling Chrysler , and board members are expected to receive a barrage of questions from shareholders about a sale at the company 's annual meeting in Berlin today .\",\n",
              "  'output': \"('Berlin', '/location/administrative_division/country', 'Germany'), ('Berlin', '/location/located_in', 'Germany'), ('Germany', '/location/country/administrative_divisions', 'Berlin')\",\n",
              "  'base_model': {'response': ' Based on the given sentence, the following relation triple can be extracted:\\n(DaimlerChrysler, /business/person/company/parent_company, Its parent)\\n(DaimlerChrysler, /location/country, Germany)\\n(Germany, /location/administrative_division/country, None)\\n(Berlin, /location/city, None)\\n(Chrysler, /business/person/company, Its parent)\\n(Its parent, /business/location/located_in, Berlin)\\nTherefore, the relations extracted from the sentence are: parent_company, country, located_in.',\n",
              "   'predicted_relations': 'None',\n",
              "   'precision': 0.0,\n",
              "   'recall': 0.0,\n",
              "   'f1': 0}},\n",
              " {'input': 'Its portfolio is concentrated in some of the best neighborhoods in Washington , Southern California , New York , the San Francisco Bay area , Boston and Seattle .',\n",
              "  'output': 'None',\n",
              "  'base_model': {'response': \" Based on the given sentence, there seems to be no explicit mention of companies or specific people. However, we can infer that we're dealing with some entities related to locations. The sentence mentions several cities and regions in the United States.\\n\\nRelation: '/location/located_in'\\n\\nTriple 1: ('Washington', '/location/located_in', SomeCompanyOrRegion)\\nTriple 2: ('Southern California', '/location/located_in', SomeCompanyOrRegion)\\nTriple 3: ('New York', '/location/located_in', SomeCompanyOrRegion)\\nTriple 4: ('San Francisco Bay area', '/location/located_in', SomeCompanyOrRegion)\\nTriple 5: ('Boston', '/location/located_in', SomeCompanyOrRegion)\\nTriple 6: ('Seattle', '/location/located_in', SomeCompanyOrRegion)\\n\\nThese triples represent that the portfolio is located in these respective areas.\",\n",
              "   'predicted_relations': [['Washington',\n",
              "     '/location/located_in',\n",
              "     'SomeCompanyOrRegion'],\n",
              "    ['Southern California', '/location/located_in', 'SomeCompanyOrRegion'],\n",
              "    ['New York', '/location/located_in', 'SomeCompanyOrRegion'],\n",
              "    ['San Francisco Bay area', '/location/located_in', 'SomeCompanyOrRegion'],\n",
              "    ['Boston', '/location/located_in', 'SomeCompanyOrRegion'],\n",
              "    ['Seattle', '/location/located_in', 'SomeCompanyOrRegion']],\n",
              "   'precision': 0.0,\n",
              "   'recall': 0.0,\n",
              "   'f1': 0}},\n",
              " {'input': 'Its properties in Provence , France , start at $ 6,600 to $ 22,000 a week , depending on size and location .',\n",
              "  'output': \"('Provence', '/location/administrative_division/country', 'France')\",\n",
              "  'base_model': {'response': \" Based on the given sentence, the following relation might be present:\\n['/location/located_in', '/location/location_name/provence', '/location/location_name/france']\\nThis relation indicates that the locations 'Provence' and 'France' are located in each other. However, this may not be the intended meaning of the sentence as it mentions 'its properties' which could refer to buildings or establishments rather than locations per se. Therefore, this relation should be considered with caution and further context would be needed for accurate extraction.\",\n",
              "   'predicted_relations': [],\n",
              "   'precision': 0,\n",
              "   'recall': 0.0,\n",
              "   'f1': 0}},\n",
              " {'input': \"Jane Hobson New Orleans It seems curiously selective to discuss Pierre Vidal-Naquet 's writings on anti-Semitism at such length without mentioning the courageous positions he took on Israel and the Middle East -LRB- '' Denying the Deniers , '' Paul Berman -RRB- .\",\n",
              "  'output': \"('Israel', '/location/located_in', 'Middle East')\",\n",
              "  'base_model': {'response': \" None.\\nIn this sentence, there are no explicit mentions of companies, locations, or people with their relationships as per the given list. The sentence primarily focuses on discussing Pierre Vidal-Naquet's writings and his courageous positions on Israel and the Middle East.\",\n",
              "   'predicted_relations': 'None',\n",
              "   'precision': 0.0,\n",
              "   'recall': 0.0,\n",
              "   'f1': 0}},\n",
              " {'input': \"Jessica Lopez She is 43 , with a sociology degree from Sweet Briar , a women 's college in Virginia .\",\n",
              "  'output': \"('Sweet Briar', '/location/located_in', 'Virginia')\",\n",
              "  'base_model': {'response': \" Based on the given sentence, there isn't any clear relation that can be extracted using the provided list. The sentence mentions Jessica Lopez, her age, and the location of her alma mater, Sweet Briar, which is in Virginia. However, no explicit relation between these entities is stated in the sentence. Therefore, none.\",\n",
              "   'predicted_relations': 'None',\n",
              "   'precision': 0.0,\n",
              "   'recall': 0.0,\n",
              "   'f1': 0}},\n",
              " {'input': 'Jets \\\\* James Farrior , LB -LRB- Virginia -RRB- WHAT HAPPENED : After five years with the Jets , he has flourished with the Steelers , starting for the 2005 Super Bowl champions .',\n",
              "  'output': \"('James Farrior', '/people/person/place_lived', 'Virginia')\",\n",
              "  'base_model': {'response': \" Based on the given sentence, there is one possible relation that can be extracted:\\n(head entity: 'Jets', relation: '/business/person/company', tail entity: '[James Farrier]')\\nThis relation signifies that James Farrior was a person who was part of the company 'Jets'. However, no other relations from the given list appear explicitly in the sentence.\",\n",
              "   'predicted_relations': [[\"head entity: 'Jets\",\n",
              "     \"relation: '/business/person/company\",\n",
              "     \"tail entity: '[James Farrier]\"]],\n",
              "   'precision': 0.0,\n",
              "   'recall': 0.0,\n",
              "   'f1': 0}},\n",
              " {'input': 'Kuhn and his wife Luisa relocated to Ponte Vedra Beach , Florida in 1990 , where he continued his many charitable and philanthropic activities .',\n",
              "  'output': \"('Ponte Vedra Beach', '/location/located_in', 'Florida')\",\n",
              "  'base_model': {'response': ' Based on the given sentence, the following relation triple can be extracted:\\n(Kuhn, /people/person/place_lived, Ponte Vedra Beach)\\n(Ponte Vedra Beach, /location/located_in, Florida)',\n",
              "   'predicted_relations': [['Kuhn',\n",
              "     '/people/person/place_lived',\n",
              "     'Ponte Vedra Beach'],\n",
              "    ['Ponte Vedra Beach', '/location/located_in', 'Florida']],\n",
              "   'precision': 0.5,\n",
              "   'recall': 1.0,\n",
              "   'f1': 0.6666666666666666}},\n",
              " {'input': 'Lamar , Tex. , Independent School District , $ 150 million of debt securities for Fort Bend County , Tex. .',\n",
              "  'output': 'None',\n",
              "  'base_model': {'response': \" Based on the given sentence, the following relation triple can be extracted: ('Fort Bend County, Tex.', '/business/location/located_in', 'Fort Bend County School District, Lamar, Tex.'). This indicates that Fort Bend County is located in Fort Bend County School District, which is further specified as being in Lamar, Tex. However, no other relations from the given list appear explicitly in the sentence.\",\n",
              "   'predicted_relations': [['Fort Bend County',\n",
              "     'Tex.',\n",
              "     \"/business/location/located_in', 'Fort Bend County School District, Lamar, Tex.\"]],\n",
              "   'precision': 0.0,\n",
              "   'recall': 0.0,\n",
              "   'f1': 0}},\n",
              " {'input': \"Laure Manaudou of France won her latest gold medal in the women 's 400 freestyle , looking less than elated after she realized that she had failed to break her own world record .\",\n",
              "  'output': \"('Laure Manaudou', '/people/person/nationality', 'France'), ('Laure Manaudou', '/people/person/place_lived', 'France')\",\n",
              "  'base_model': {'response': \" None.\\nIn this sentence, we have mentioned 'Laure Manaudou of France' which can be considered as a person entity. However, no explicit location or company entities or their relationships are mentioned in the sentence.\",\n",
              "   'predicted_relations': 'None',\n",
              "   'precision': 0.0,\n",
              "   'recall': 0.0,\n",
              "   'f1': 0}},\n",
              " {'input': \"MIRAZUR At the Côte d'Azur 's most-talked-about new restaurant , the chef Mauro Colagreco -- from Alain Passard 's L'Arp ège in Paris -- trains his monklike reverence for fresh ingredients on local markets .\",\n",
              "  'output': \"('Alain Passard', '/people/person/place_lived', 'Paris')\",\n",
              "  'base_model': {'response': \" Based on the given sentence, the following relation triple can be extracted:\\n(MIRAZUR, /business/restaurant/type, most-talked-about new restaurant)\\n(chef Mauro Colagreco, /people/person/nationality, French) - This information is not explicitly stated in the sentence but assumed based on the context that he is from Paris, France.\\n(Mauro Colagreco, /business/person/occupation, chef)\\n(MIRAZUR, /location/region, Côte d'Azur)\\nTherefore, the final answer would look like this:\\n[(MIRAZUR, /business/restaurant/type, most-talked-about new restaurant),\\n (chef Mauro Colagreco, /people/person/nationality, French),\\n (Mauro Colagreco, /business/person/occupation, chef),\\n (MIRAZUR, /location/region, Côte d'Azur)]\",\n",
              "   'predicted_relations': [['MIRAZUR',\n",
              "     '/business/restaurant/type',\n",
              "     'most-talked-about new restaurant'],\n",
              "    ['chef Mauro Colagreco', '/people/person/nationality', 'French'],\n",
              "    ['Mauro Colagreco', '/business/person/occupation', 'chef'],\n",
              "    ['MIRAZUR', '/location/region', \"Côte d'Azur\"],\n",
              "    ['MIRAZUR',\n",
              "     '/business/restaurant/type',\n",
              "     'most-talked-about new restaurant'],\n",
              "    ['chef Mauro Colagreco', '/people/person/nationality', 'French'],\n",
              "    ['Mauro Colagreco', '/business/person/occupation', 'chef'],\n",
              "    ['MIRAZUR', '/location/region', \"Côte d'Azur\"]],\n",
              "   'precision': 0.0,\n",
              "   'recall': 0.0,\n",
              "   'f1': 0}},\n",
              " {'input': 'MORE than 60 years ago , as she awaited the final horrors of the Holocaust in the Bedzin ghetto of Poland , a 14-year-old Jewish girl named Rutka Laskier committed her thoughts to a diary .',\n",
              "  'output': \"('Rutka Laskier', '/people/person/place_lived', 'Poland')\",\n",
              "  'base_model': {'response': ' None.\\nThe sentence mentions a Jewish girl named Rutka Laskier who wrote a diary during the Holocaust in the Bedzin ghetto of Poland. However, no explicit business or location entities or their relationships are mentioned in the sentence.',\n",
              "   'predicted_relations': 'None',\n",
              "   'precision': 0.0,\n",
              "   'recall': 0.0,\n",
              "   'f1': 0}},\n",
              " {'input': 'Marie in 1991 and found a savior in Ted Nolan , also a member of the Ojibwa tribe .',\n",
              "  'output': \"('Ted Nolan', '/people/person/place_lived', 'Ojibwa')\",\n",
              "  'base_model': {'response': \" Based on the given sentence, there isn't enough information to extract any specific relation from the list provided. The sentence mentions Marie, Ted Nolan, and the fact that they were both members of the Ojibwa tribe at some point in time. However, no business entities or locations are mentioned, so we cannot extract any relations related to those concepts. Therefore, the answer would be: None.\",\n",
              "   'predicted_relations': 'None',\n",
              "   'precision': 0.0,\n",
              "   'recall': 0.0,\n",
              "   'f1': 0}},\n",
              " {'input': \"Martina McBride Waking Up Laughing -LRB- RCA\\\\/Sony BMG Nashville -RRB- '' I got pitched every social issue song on the planet . ''\",\n",
              "  'output': 'None',\n",
              "  'base_model': {'response': \" Based on the given sentence, there doesn't seem to be any explicit mention of entities or their relationships according to the provided list. Therefore, no relation triples can be extracted directly from this sentence.\\n\\nNone.\",\n",
              "   'predicted_relations': 'None',\n",
              "   'precision': 1.0,\n",
              "   'recall': 1.0,\n",
              "   'f1': 1.0}},\n",
              " {'input': 'Mr. Edwards tried to joke it off while campaigning in Adel , Iowa .',\n",
              "  'output': \"('Adel', '/location/located_in', 'Iowa')\",\n",
              "  'base_model': {'response': ' Based on the given sentence, there seems to be no explicit mention of any company or person advisor, location administrative division or country, deceased person, or place of birth or death. Therefore, none of the relations in the given list appear to be directly applicable to this sentence.',\n",
              "   'predicted_relations': 'None',\n",
              "   'precision': 0.0,\n",
              "   'recall': 0.0,\n",
              "   'f1': 0}},\n",
              " {'input': \"Nelly Furtado 's Weekend The pop singer Nelly Furtado was the big winner -LRB- and the host -RRB- when the Junos , Canada 's equivalent of the Grammys , were awarded in Toronto on Sunday , Reuters reported .\",\n",
              "  'output': \"('Canada', '/location/country/administrative_divisions', 'Toronto'), ('Toronto', '/location/located_in', 'Canada')\",\n",
              "  'base_model': {'response': ' Based on the given sentence, there are no explicit relations mentioned between entities that can be extracted using the provided relation types. Therefore, the answer would be: None.',\n",
              "   'predicted_relations': 'None',\n",
              "   'precision': 0.0,\n",
              "   'recall': 0.0,\n",
              "   'f1': 0}},\n",
              " {'input': 'Now that may not be necessary , with Israel and the West embracing the idea of a non-Hamas government , even if its powers are limited to the West Bank .',\n",
              "  'output': 'None',\n",
              "  'base_model': {'response': ' None.\\nIn this sentence, there are no explicit mentions of companies, locations, or people with their relationships as per the provided list. The sentence discusses the ideas and actions related to Israel and the West, but it does not provide sufficient information for extracting any specific entities or relations using the given list.',\n",
              "   'predicted_relations': 'None',\n",
              "   'precision': 1.0,\n",
              "   'recall': 1.0,\n",
              "   'f1': 1.0}},\n",
              " {'input': 'One by Loring Brinckerhoff , director of disability policy at the Educational Testing Service , highlights colleges with good comprehensive programs , including the University of Arizona in Tucson , Curry College in Massachusetts , Stanford and the University of North Carolina , Chapel Hill .',\n",
              "  'output': \"('University of Arizona', '/location/located_in', 'Tucson')\",\n",
              "  'base_model': {'response': ' Based on the given sentence, the following relation triples can be extracted:\\n(Educational Testing Service, /business/company/employee/has_employee, Loring Brinckerhoff)\\n(Loring Brinckerhoff, /people/person/occupation/is_occupation_of, director of disability policy)\\n(University of Arizona, /location/located_in, Tucson)\\n(Curry College, /location/located_in, Massachusetts)\\n(Stanford, None) % This entity doesn\\'t have any explicit relation mentioned in the text\\n(University of North Carolina, Chapel Hill, /location/located_in)\\n(University of North Carolina, Chapel Hill, /business/educational_institution/has_campus)\\nNote that for entities like \"Stanford\" which don\\'t have any explicit relation mentioned in the text but still need to be recognized as entities, we assign them a relation of type \\'None\\'.',\n",
              "   'predicted_relations': 'None',\n",
              "   'precision': 0.0,\n",
              "   'recall': 0.0,\n",
              "   'f1': 0}},\n",
              " {'input': 'Paul Secon , who in 1949 loaded the family station wagon with discontinued and slightly damaged ceramics from an upstate New York factory , drove to Manhattan and opened the first Pottery Barn store , died Feb. 24 at his home in Rochester .',\n",
              "  'output': \"('Paul Secon', '/people/deceasedperson/place_of_death', 'Rochester'), ('Paul Secon', '/people/person/place_lived', 'Rochester')\",\n",
              "  'base_model': {'response': ' Based on the given sentence, the following relation triples can be extracted:\\n(Paul Secon, /people/person/place_lived, Upstate New York)\\n(Paul Secon, /business/person/company, Pottery Barn)\\n(Pottery Barn, /location/located_in, Manhattan)\\n(Paul Secon, /people/person/place_of_death, Rochester)',\n",
              "   'predicted_relations': [['Paul Secon',\n",
              "     '/people/person/place_lived',\n",
              "     'Upstate New York'],\n",
              "    ['Paul Secon', '/business/person/company', 'Pottery Barn'],\n",
              "    ['Pottery Barn', '/location/located_in', 'Manhattan'],\n",
              "    ['Paul Secon', '/people/person/place_of_death', 'Rochester']],\n",
              "   'precision': 0.0,\n",
              "   'recall': 0.0,\n",
              "   'f1': 0}},\n",
              " {'input': 'Paul Touvier , the chief of the wartime paramilitary militia in Lyon , was sentenced to life in prison in 1994 after being convicted of ordering the execution of seven Jews .',\n",
              "  'output': \"('Paul Touvier', '/people/person/place_lived', 'Lyon')\",\n",
              "  'base_model': {'response': \" Based on the given sentence, the following relation triples can be extracted:\\n(Paul Touvier, /people/person/place_of_birth, Unknown) - Paul Touvier is a person, but no specific place of birth is mentioned in the sentence.\\n(Paul Touvier, /business/company/roles/chief, Wartime paramilitary militia in Lyon) - Paul Touvier is the chief of the wartime paramilitary militia in Lyon.\\n(Wartime paramilitary militia in Lyon, /location/located_in, Lyon) - The wartime paramilitary militia in Lyon is located in Lyon.\\n(Paul Touvier, /people/person/place_lived, Lyon) - Paul Touvier lived in Lyon.\\n(Paul Touvier, /people/deceasedperson/place_of_death, Unknown) - No information about Paul Touvier's place of death is mentioned in the sentence.\\n(Paul Touvier, /business/person/convicted_for, Execution of seven Jews) - Paul Touvier\",\n",
              "   'predicted_relations': [['Paul Touvier',\n",
              "     '/people/person/place_of_birth',\n",
              "     'Unknown'],\n",
              "    ['Paul Touvier',\n",
              "     '/business/company/roles/chief',\n",
              "     'Wartime paramilitary militia in Lyon'],\n",
              "    ['Wartime paramilitary militia in Lyon', '/location/located_in', 'Lyon'],\n",
              "    ['Paul Touvier', '/people/person/place_lived', 'Lyon'],\n",
              "    ['Paul Touvier', '/people/deceasedperson/place_of_death', 'Unknown'],\n",
              "    ['Paul Touvier',\n",
              "     '/business/person/convicted_for',\n",
              "     'Execution of seven Jews']],\n",
              "   'precision': 0.16666666666666666,\n",
              "   'recall': 1.0,\n",
              "   'f1': 0.2857142857142857}},\n",
              " {'input': 'Peter Munk , founder and chairman of Barrick Gold in Toronto , has warned that an exodus of head offices to other countries will cause , among other things , lower levels of charitable donations and fewer opportunities for skilled workers .',\n",
              "  'output': \"('Peter Munk', '/people/person/place_lived', 'Toronto'), ('Barrick Gold', '/business/location', 'Toronto'), ('Barrick Gold', '/people/person/place_lived', 'Toronto'), ('Peter Munk', '/business/person/company', 'Barrick Gold'), ('Barrick Gold', '/business/company/advisors', 'Peter Munk'), ('Barrick Gold', '/business/person/company', 'Peter Munk')\",\n",
              "  'base_model': {'response': ' Based on the given sentence, the following relation triples can be extracted:\\n(Peter Munk, /people/person/place_lived, Toronto)\\n(Barrick Gold, /business/company/headquarter_location, Toronto)\\n(/business/city/Toronto, /location/country/administrative_divisions, Canada)\\n(Peter Munk, /business/person/company, Barrick Gold)\\n(Peter Munk, /people/person/occupation, founder)\\n(Peter Munk, /people/person/occupation, chairman)\\nNote: The relation \"/business/company/advisors\" is not applicable as there is no mention of any advisor in the sentence. Also, the relation \"/location/located_in\" could potentially apply between \"Toronto\" and \"Canada\", but since we already have a triple stating that Toronto is in Canada, we do not need another one.',\n",
              "   'predicted_relations': [['Peter Munk',\n",
              "     '/people/person/place_lived',\n",
              "     'Toronto'],\n",
              "    ['Barrick Gold', '/business/company/headquarter_location', 'Toronto'],\n",
              "    ['/business/city/Toronto',\n",
              "     '/location/country/administrative_divisions',\n",
              "     'Canada'],\n",
              "    ['Peter Munk', '/business/person/company', 'Barrick Gold'],\n",
              "    ['Peter Munk', '/people/person/occupation', 'founder'],\n",
              "    ['Peter Munk', '/people/person/occupation', 'chairman']],\n",
              "   'precision': 0.0,\n",
              "   'recall': 0.0,\n",
              "   'f1': 0}},\n",
              " {'input': \"Philip Rylands , director of the Peggy Guggenheim Collection in Venice , said that the terms of the competition had been altered during the process , '' so the vision for the Punta della Dogana changed from a dynamic center of contemporary art to a static museum of modern art . ''\",\n",
              "  'output': 'None',\n",
              "  'base_model': {'response': ' Based on the given sentence, the following relation triple can be extracted:\\n(Philip Rylands, /people/person/occupation, director)\\n(Peggy Guggenheim Collection, /business/company, company)\\n(Peggy Guggenheim Collection, /location/located_in, Venice)\\n(vision for the Punta della Dogana, /people/person/concept, dynamic center of contemporary art)\\n(punta della Dogana, /business/company, company)\\n(punta della Dogana, /people/person/concept, static museum of modern art)\\n\\nThese relations represent that Philip Rylands is a person who is the director of the Peggy Guggenheim Collection, which is a company located in Venice. The vision for the Punta della Dogana was initially conceptualized as a dynamic center of contemporary art but later changed to a static museum of modern art.',\n",
              "   'predicted_relations': [['Philip Rylands',\n",
              "     '/people/person/occupation',\n",
              "     'director'],\n",
              "    ['Peggy Guggenheim Collection', '/business/company', 'company'],\n",
              "    ['Peggy Guggenheim Collection', '/location/located_in', 'Venice'],\n",
              "    ['vision for the Punta della Dogana',\n",
              "     '/people/person/concept',\n",
              "     'dynamic center of contemporary art'],\n",
              "    ['punta della Dogana', '/business/company', 'company'],\n",
              "    ['punta della Dogana',\n",
              "     '/people/person/concept',\n",
              "     'static museum of modern art']],\n",
              "   'precision': 0.0,\n",
              "   'recall': 0.0,\n",
              "   'f1': 0}},\n",
              " {'input': \"Second and third place went to Fritz Strobl of Austria (1:14.62) and Bruno Kernen of Switzerland (1:14.92) , a pair of 34-year-olds , each the last to qualify for his nation 's four-man race quota .\",\n",
              "  'output': \"('Bruno Kernen', '/people/person/nationality', 'Switzerland')\",\n",
              "  'base_model': {'response': ' Based on the given sentence, the following relation triple can be extracted:\\n(person \"Fritz Strobl\", /people/person/nationality, country \"Austria\")\\n(person \"Bruno Kernen\", /people/person/nationality, country \"Switzerland\")',\n",
              "   'predicted_relations': [['person \"Fritz Strobl',\n",
              "     '/people/person/nationality',\n",
              "     'country \"Austria'],\n",
              "    ['person \"Bruno Kernen',\n",
              "     '/people/person/nationality',\n",
              "     'country \"Switzerland']],\n",
              "   'precision': 0.0,\n",
              "   'recall': 0.0,\n",
              "   'f1': 0}},\n",
              " {'input': \"Senator Jim DeMint of South Carolina , a critic of the measure , said he had heard from people who were upset not only with the legislation , but also with his Republican colleague from the state , Senator Lindsey Graham , one of the measure 's architects . ''\",\n",
              "  'output': 'None',\n",
              "  'base_model': {'response': ' Based on the given sentence, there aren\\'t any explicit relations mentioned between entities that can be directly extracted using the provided relation types. However, we can infer some implicit relationships based on the context:\\n\\n1. (Person/Jim DeMint, Person/place_of_birth, Location/South_Carolina) - This can be inferred as Jim DeMint is described as being \"from South Carolina\".\\n2. (Person/Lindsey_Graham, Person/person, Person/Jim_DeMint) - They are both persons and mentioned in the same sentence as colleagues.\\n3. (Location/South_Carolina, location/located_in, Country/) - South Carolina is located in a country, although this isn\\'t explicitly stated in the sentence.\\n4. (Person/Jim_DeMint, /business/person/politician, Organization/Republican_Party) - Jim DeMint is identified as a senator and a Republican, implying membership in the Republican Party.\\n5. (Person/Jim_DeMint, /business/person/critic, Legislation/) - He is described as a critic',\n",
              "   'predicted_relations': [['Person/Jim DeMint',\n",
              "     'Person/place_of_birth',\n",
              "     'Location/South_Carolina'],\n",
              "    ['Person/Lindsey_Graham', 'Person/person', 'Person/Jim_DeMint'],\n",
              "    ['Location/South_Carolina', 'location/located_in', 'Country/'],\n",
              "    ['Person/Jim_DeMint',\n",
              "     '/business/person/politician',\n",
              "     'Organization/Republican_Party'],\n",
              "    ['Person/Jim_DeMint', '/business/person/critic', 'Legislation/']],\n",
              "   'precision': 0.0,\n",
              "   'recall': 0.0,\n",
              "   'f1': 0}},\n",
              " {'input': \"Several Italian politicians have criticized Pirelli 's plan to sell most of Olimpia to the two North American companies , and the chief executive of one of Italy 's largest banks made a thinly veiled call for a group of domestic companies to band together to buy control of Telecom Italia .\",\n",
              "  'output': 'None',\n",
              "  'base_model': {'response': \" Based on the given sentence, the following relation triple may be extracted:\\n(head entity: 'Pirelli', relation: '/business/company/plan', tail entity: 'to sell most of Olimpia')\\n(head entity: 'Italian politicians', relation: '/people/person/nationality', tail entity: 'Italy')\\n(head entity: 'one of Italy ’s largest banks', relation: '/business/bank/CEO', tail entity: 'chief executive')\\n(head entity: 'North American companies', relation: '/business/company/type', tail entity: 'North American')\\n(head entity: 'group of domestic companies', relation: '/business/person/company', tail entity: 'domestic companies')\\n(head entity: 'Telecom Italia ', relation: '/business/company/target', tail entity: 'control of')\\nHowever, there isn't any direct relation mentioned between entities 'Pirelli' and 'domestic companies'. The sentence implies that they are involved in some sort of competition or conflict over ownership of 'Telecom Italia', but it does not explicitly state that 'domestic companies' aim to buy 'Pirelli's shares\",\n",
              "   'predicted_relations': [[\"head entity: 'Pirelli\",\n",
              "     \"relation: '/business/company/plan\",\n",
              "     \"tail entity: 'to sell most of Olimpia\"],\n",
              "    [\"head entity: 'Italian politicians\",\n",
              "     \"relation: '/people/person/nationality\",\n",
              "     \"tail entity: 'Italy\"],\n",
              "    [\"head entity: 'one of Italy ’s largest banks\",\n",
              "     \"relation: '/business/bank/CEO\",\n",
              "     \"tail entity: 'chief executive\"],\n",
              "    [\"head entity: 'North American companies\",\n",
              "     \"relation: '/business/company/type\",\n",
              "     \"tail entity: 'North American\"],\n",
              "    [\"head entity: 'group of domestic companies\",\n",
              "     \"relation: '/business/person/company\",\n",
              "     \"tail entity: 'domestic companies\"],\n",
              "    [\"head entity: 'Telecom Italia \",\n",
              "     \"relation: '/business/company/target\",\n",
              "     \"tail entity: 'control of\"]],\n",
              "   'precision': 0.0,\n",
              "   'recall': 0.0,\n",
              "   'f1': 0}},\n",
              " {'input': 'She is survived by her brother Stanley H. Rumbough and her sisters Nina Rumbough of Greenwich , Connecticut and Stephanie Saunders of Charlesston , South Carolina .',\n",
              "  'output': \"('Greenwich', '/location/located_in', 'Connecticut')\",\n",
              "  'base_model': {'response': ' Based on the given sentence, the following relation triples can be extracted:\\n(persons/she, relations/people/person/survived_by, persons/stanley_h_rumbough)\\n(persons/she, relations/people/person/sister_of, persons/nina_rumbough)\\n(persons/she, relations/people/person/sister_of, persons/stephanie_saunders)\\n(locations/greenwich,_connecticut, relations/location/located_in, persons/nina_rumbaugh)\\n(locations/charlesston,_south_carolina, relations/location/located_in, persons/stephanie_saunders)',\n",
              "   'predicted_relations': [['persons/she',\n",
              "     'relations/people/person/survived_by',\n",
              "     'persons/stanley_h_rumbough'],\n",
              "    ['persons/she',\n",
              "     'relations/people/person/sister_of',\n",
              "     'persons/nina_rumbough'],\n",
              "    ['persons/she',\n",
              "     'relations/people/person/sister_of',\n",
              "     'persons/stephanie_saunders']],\n",
              "   'precision': 0.0,\n",
              "   'recall': 0.0,\n",
              "   'f1': 0}},\n",
              " {'input': \"Shortly after he won the Nobel , the Bogotá daily newspaper El Tiempo sent a reporter here , and he described Aracataca as '' a ruined , backward town , without the tiniest attraction . ''\",\n",
              "  'output': 'None',\n",
              "  'base_model': {'response': ' Based on the given sentence, there doesn\\'t seem to be any explicit mention of companies or locations being related to each other or to people. Therefore, no relations from the given list would directly apply to this sentence. However, we can infer that \"here\" refers to Colombia based on context, so we could potentially have the following relation for the person mentioned: (\\'Aracataca\\', /location/country/\\'Colombia\\', /people/person/\\'him\\') for representing the fact that \\'he\\' is from Colombia. But keep in mind that this is not explicitly stated in the sentence and is an inference made based on context. So, the final answer would be: None.',\n",
              "   'predicted_relations': 'None',\n",
              "   'precision': 1.0,\n",
              "   'recall': 1.0,\n",
              "   'f1': 1.0}},\n",
              " {'input': \"Some of the biggest creative names in Canada are choosing to introduce their new works in Calgary . ''\",\n",
              "  'output': \"('Calgary', '/location/located_in', 'Canada')\",\n",
              "  'base_model': {'response': \" Based on the given sentence, the following relation might be extracted:\\n('/people/person': head entity 1, '/location/located_in': relation 1, 'Calgary' : tail entity 1)\",\n",
              "   'predicted_relations': [[\"/people/person': head entity 1\",\n",
              "     \"/location/located_in': relation 1\",\n",
              "     \"Calgary' : tail entity 1\"]],\n",
              "   'precision': 0.0,\n",
              "   'recall': 0.0,\n",
              "   'f1': 0}},\n",
              " {'input': \"Songs From ` Here Lies Love ' '' offered 20 selections from his forthcoming multimedia production about Imelda Marcos , the former first lady of the Philippines and an enduring symbol of despotic extravagance and shoe love .\",\n",
              "  'output': \"('Imelda Marcos', '/people/person/place_lived', 'Philippines'), ('Imelda Marcos', '/people/person/nationality', 'Philippines')\",\n",
              "  'base_model': {'response': \" None.\\nIn this sentence, there are no explicit mentions of specific entities or locations that can be related using the provided relation types. The sentence primarily talks about 'Songs From Here Lies Love', which is a multimedia production by an unspecified 'he'. There is also a reference to Imelda Marcos as the former first lady of the Philippines, but no location or company is explicitly mentioned in relation to her. Therefore, no relation triples can be extracted from this sentence based on the given list.\",\n",
              "   'predicted_relations': 'None',\n",
              "   'precision': 0.0,\n",
              "   'recall': 0.0,\n",
              "   'f1': 0}},\n",
              " {'input': 'Stallone Fined for Hormone Imports Sylvester Stallone , right , officially became a convict in Australia yesterday .',\n",
              "  'output': \"('Sylvester Stallone', '/people/person/place_lived', 'Australia')\",\n",
              "  'base_model': {'response': \" Based on the given sentence, there doesn't seem to be any explicit mention of companies or locations involved. Therefore, none of the relations from the given list would directly apply to this sentence. However, if we make some assumptions based on context, we could potentially infer that 'Australia' is a location where an event occurred ('/location/country/location'), and 'Sylvester Stallone' is a person who was in a specific country ('/people/person/place_lived'). But these inferences would require additional context or background knowledge not provided in the sentence itself. So, the answer remains: None.\",\n",
              "   'predicted_relations': 'None',\n",
              "   'precision': 0.0,\n",
              "   'recall': 0.0,\n",
              "   'f1': 0}},\n",
              " {'input': 'That changed in 1994 , when voters in North Carolina and South Carolina elected Republican majorities in their Houses , and Florida elected a Republican majority in its Senate , according to the National Conference of State Legislatures .',\n",
              "  'output': 'None',\n",
              "  'base_model': {'response': ' Based on the given sentence, the following relation triple may be extracted:\\n(National_Conference_of_State_Legislatures, /business/organization/reports, That)\\n(North_Carolina, /location/country/administrative_divisions/state, United_States)\\n(South_Carolina, /location/country/administrative_divisions/state, United_States)\\n(Florida, /location/country/administrative_divisions/state, United_States)\\n(North_Carolina, /location/located_in, Eastern_United_States)\\n(South_Carolina, /location/located_in, Southeastern_United_States)\\n(Florida, /location/located_in, Southeastern_United_States)\\n(Republican_majorities, /business/company/political_party, Republicans)\\n(Voters_in_North_Carolina_and_South_Carolina, /people/group, Voters)\\n(Voters_in_Florida, /people/group,',\n",
              "   'predicted_relations': [['National_Conference_of_State_Legislatures',\n",
              "     '/business/organization/reports',\n",
              "     'That'],\n",
              "    ['North_Carolina',\n",
              "     '/location/country/administrative_divisions/state',\n",
              "     'United_States'],\n",
              "    ['South_Carolina',\n",
              "     '/location/country/administrative_divisions/state',\n",
              "     'United_States'],\n",
              "    ['Florida',\n",
              "     '/location/country/administrative_divisions/state',\n",
              "     'United_States'],\n",
              "    ['North_Carolina', '/location/located_in', 'Eastern_United_States'],\n",
              "    ['South_Carolina', '/location/located_in', 'Southeastern_United_States'],\n",
              "    ['Florida', '/location/located_in', 'Southeastern_United_States'],\n",
              "    ['Republican_majorities',\n",
              "     '/business/company/political_party',\n",
              "     'Republicans'],\n",
              "    ['Voters_in_North_Carolina_and_South_Carolina',\n",
              "     '/people/group',\n",
              "     'Voters']],\n",
              "   'precision': 0.0,\n",
              "   'recall': 0.0,\n",
              "   'f1': 0}},\n",
              " {'input': 'That was underscored when 10 Consol miners traveled to California to shoot the commercial at Zoic Studios , bringing along their equipment and gear .',\n",
              "  'output': \"('Zoic Studios', '/business/location', 'California')\",\n",
              "  'base_model': {'response': \" Based on the given sentence, there do not seem to be any explicit entities or relationships that can be extracted using the provided list. The sentence mentions '10 Consol miners' and 'California' as locations, but no clear business or person entities or their relationships are mentioned. Therefore, the answer would be: None.\",\n",
              "   'predicted_relations': 'None',\n",
              "   'precision': 0.0,\n",
              "   'recall': 0.0,\n",
              "   'f1': 0}},\n",
              " {'input': \"The Faculty Senate at Southern Methodist University in Dallas rejected a proposal yesterday for a faculty referendum on plans for an independent policy institute on campus that would accompany President Bush 's future library and museum .\",\n",
              "  'output': 'None',\n",
              "  'base_model': {'response': \" Based on the given sentence, the following relation triple may be extracted:\\n(Entity: 'Faculty Senate at Southern Methodist University', Relation: '/business/organization/meeting', Tail Entity: 'rejected a proposal')\\n(Entity: 'Southern Methodist University in Dallas', Relation: '/location/city', Tail Entity: None)\\n(Entity: 'Southern Methodist University in Dallas', Relation: '/business/educational_institution/campus', Tail Entity: None)\\n(Entity: 'President Bush ', Relation: '/people/person/politician', Tail Entity: None)\\nThere isn't any relation directly mentioned in the sentence between entities related to companies or locations and entities related to countries, deceased persons, or places of birth/living. Therefore, no triples involving those relation types can be derived from this sentence.\",\n",
              "   'predicted_relations': 'None',\n",
              "   'precision': 1.0,\n",
              "   'recall': 1.0,\n",
              "   'f1': 1.0}},\n",
              " {'input': 'The United Nations mediator Martti Ahtisaari presented his proposals for the final status of Kosovo on Friday , most likely setting the tiny war-torn territory on its way toward independence .',\n",
              "  'output': \"('Martti Ahtisaari', '/business/person/company', 'United Nations')\",\n",
              "  'base_model': {'response': ' None.\\nIn this sentence, there are no explicit mentions of companies, locations, or people having specific relationships as defined by the provided relation types. The sentence primarily discusses the role of Martti Ahtisaari as the UN mediator and the proposed path towards independence for Kosovo.',\n",
              "   'predicted_relations': 'None',\n",
              "   'precision': 0.0,\n",
              "   'recall': 0.0,\n",
              "   'f1': 0}},\n",
              " {'input': 'The craft that is to replace the space shuttle could be delayed because of recent budget reductions , pushing its first missions into 2015 instead of 2014 , the NASA administrator , Michael D. Griffin , told a Senate committee on Wednesday .',\n",
              "  'output': \"('Michael D. Griffin', '/business/person/company', 'NASA')\",\n",
              "  'base_model': {'response': ' None.\\nIn this sentence, there are no explicit mentions of companies, locations, or people with specific relationships as defined by the provided relation types. The sentence primarily discusses events related to the NASA administrator and the spacecraft replacement project, but it does not establish any direct relationships between entities using the specified relation types.',\n",
              "   'predicted_relations': 'None',\n",
              "   'precision': 0.0,\n",
              "   'recall': 0.0,\n",
              "   'f1': 0}},\n",
              " {'input': \"The crew chief Tony Eury Jr. was fined $ 100,000 and suspended until July 4 after Earnhardt Jr. 's car was found to have been altered before a race at Darlington Raceway in South Carolina .\",\n",
              "  'output': 'None',\n",
              "  'base_model': {'response': ' Based on the given sentence, the following relation triple can be extracted:\\n(Tony Eury Jr., /business/person/company, Earnhardt Jr.\\'s car)\\n(Earnhardt Jr.\\'s car, /location/country/administrative_divisions, South Carolina)\\nNote that these relations are based on the assumption that \"Earnhardt Jr.\\'s car\" can be considered as an entity representing a vehicle involved in a business context. Additionally, \"South Carolina\" is assumed to represent a location within a country context.',\n",
              "   'predicted_relations': [['Tony Eury Jr.',\n",
              "     '/business/person/company',\n",
              "     \"Earnhardt Jr.'s car\"],\n",
              "    [\"Earnhardt Jr.'s car\",\n",
              "     '/location/country/administrative_divisions',\n",
              "     'South Carolina']],\n",
              "   'precision': 0.0,\n",
              "   'recall': 0.0,\n",
              "   'f1': 0}},\n",
              " {'input': 'The explosives stored in his basement were similar to those that have been used to destabilize Lebanon since the assassination of the former prime minister Rafik Hariri in February 2005 .',\n",
              "  'output': \"('Rafik Hariri', '/people/person/nationality', 'Lebanon'), ('Rafik Hariri', '/people/person/place_lived', 'Lebanon')\",\n",
              "  'base_model': {'response': ' Based on the given sentence, there do not seem to be any explicit entities or relationships mentioned that can be extracted using the provided relation types. Therefore, the answer would be: None.',\n",
              "   'predicted_relations': 'None',\n",
              "   'precision': 0.0,\n",
              "   'recall': 0.0,\n",
              "   'f1': 0}},\n",
              " {'input': 'The hours each day of the pilgrimage will be 10 a.m. to 5 p.m. Admission for each day of the tour , $ 25 , at any of the sites and pilgrimage headquarters , 1105-A Providence Road , behind the Maryland Presbyterian Church in Towson .',\n",
              "  'output': 'None',\n",
              "  'base_model': {'response': \" Based on the given sentence, the following relation triple can be extracted:\\n(head entity: 'Maryland Presbyterian Church in Towson', relation: '/location/address/street_address', tail entity: '1105-A Providence Road')\",\n",
              "   'predicted_relations': [[\"head entity: 'Maryland Presbyterian Church in Towson\",\n",
              "     \"relation: '/location/address/street_address\",\n",
              "     \"tail entity: '1105-A Providence Road\"]],\n",
              "   'precision': 0.0,\n",
              "   'recall': 0.0,\n",
              "   'f1': 0}},\n",
              " {'input': 'The list of the top 10 companies requesting H-1B visas in fiscal 2006 , the most recent government data available , was dominated by Indian-based technology outsourcing companies like Infosys Technologies , Wipro Technologies and Tata Consultancy Services , and a few other companies that offer outsourced services and have sizable operations in India like Cognizant Technology Solutions , Accenture and Deloitte & Touche , according to a paper last month by Mr. Hira , which was published by the Economic Policy Institute , a liberal research group .',\n",
              "  'output': \"('Wipro Technologies', '/business/location', 'India')\",\n",
              "  'base_model': {'response': ' Based on the given sentence, the following relation triples can be extracted:\\n(Economic Policy Institute, /business/organization/publisher, Paper)\\n(Paper, /relation/has_author, Mr. Hira)\\n(/business/company/Indian_technology_outsourcing_companies/{Infosys_Technologies, Wipro_Technologies, Tata_Consultancy_Services}, /business/company/requested_H1B_visas, Fiscal_2006)\\n(/business/company/Indian_technology_outsourcing_companies/{Cognizant_Technology_Solutions, Accenture, Deloitte_&_Touche}, /business/company/offered_outsourced_services, NA)\\n(/business/company/Indian_technology_outsourcing_companies/{Infosys_Technologies, Wipro_Technologies, Tata_Consultancy_Services, Cognizant_Technology_Solutions, Accenture, Deloitte_&_Touche}, /location/',\n",
              "   'predicted_relations': [['Economic Policy Institute',\n",
              "     '/business/organization/publisher',\n",
              "     'Paper'],\n",
              "    ['Paper', '/relation/has_author', 'Mr. Hira'],\n",
              "    ['/business/company/Indian_technology_outsourcing_companies/{Infosys_Technologies',\n",
              "     'Wipro_Technologies',\n",
              "     'Tata_Consultancy_Services}, /business/company/requested_H1B_visas, Fiscal_2006'],\n",
              "    ['/business/company/Indian_technology_outsourcing_companies/{Cognizant_Technology_Solutions',\n",
              "     'Accenture',\n",
              "     'Deloitte_&_Touche}, /business/company/offered_outsourced_services, NA']],\n",
              "   'precision': 0.0,\n",
              "   'recall': 0.0,\n",
              "   'f1': 0}},\n",
              " {'input': 'The move came less than a week after it hired the independent producer Ben Silverman as a co-chairman , with Marc Graboff , of the television group , with authority over both the entertainment division of the NBC network and the television studio .',\n",
              "  'output': \"('Ben Silverman', '/business/person/company', 'NBC')\",\n",
              "  'base_model': {'response': ' Based on the given sentence, the following relation triple can be extracted:\\n(Marc Graboff, /business/person/company, NBC network)\\n(Marc Graboff, /business/person/company, Television studio)\\n(Ben Silverman, /business/person/company, NBC network and Television studio)\\n(NBC network, /location/located_in, Location unspecified in the sentence)\\nNote that no country or specific administrative divisions were mentioned in the sentence, so no relations related to those entities were identified.',\n",
              "   'predicted_relations': [['Marc Graboff',\n",
              "     '/business/person/company',\n",
              "     'NBC network'],\n",
              "    ['Marc Graboff', '/business/person/company', 'Television studio'],\n",
              "    ['Ben Silverman',\n",
              "     '/business/person/company',\n",
              "     'NBC network and Television studio'],\n",
              "    ['NBC network',\n",
              "     '/location/located_in',\n",
              "     'Location unspecified in the sentence']],\n",
              "   'precision': 0.0,\n",
              "   'recall': 0.0,\n",
              "   'f1': 0}},\n",
              " {'input': 'The shooting in Midland occurred hours after a 16-year-old boy in Greenville , Tex. , fatally shot himself shortly after 7 a.m. in the band hall of Greenville High School , according to a statement by the Greenville Independent School District .',\n",
              "  'output': 'None',\n",
              "  'base_model': {'response': \" Based on the given sentence, the following relation triples can be extracted:\\n(Greenville, /location/city, Tex.)\\n(Greenville, /location/located_in, Tex.)\\n(Greenville High School, /business/educational_institution/school, Greenville)\\n(Greenville, /event/crime/shooting, Midland)\\n(Greenville High School, /location/building, band hall)\\n(16-year-old boy, /people/person/age, 16)\\n(16-year-old boy, /people/person, self)\\n(16-year-old boy, /people/deceasedperson, himself)\\n(Greenville, /time/starts_at, 7 a.m.)\\n(Midland, /location/city)\\nNote that there seems to be a missing location for the shooting incident in the sentence, which should be added as a new head entity or modified as an existing one. The current triples assume that 'Midland' is the city where the shooting occurred. If this is not the case, then the relation type for the third triple should be changed accordingly\",\n",
              "   'predicted_relations': [['Greenville', '/location/city', 'Tex.'],\n",
              "    ['Greenville', '/location/located_in', 'Tex.'],\n",
              "    ['Greenville High School',\n",
              "     '/business/educational_institution/school',\n",
              "     'Greenville'],\n",
              "    ['Greenville', '/event/crime/shooting', 'Midland'],\n",
              "    ['Greenville High School', '/location/building', 'band hall'],\n",
              "    ['16-year-old boy', '/people/person/age', '16'],\n",
              "    ['16-year-old boy', '/people/person', 'self'],\n",
              "    ['16-year-old boy', '/people/deceasedperson', 'himself'],\n",
              "    ['Greenville', '/time/starts_at', '7 a.m.']],\n",
              "   'precision': 0.0,\n",
              "   'recall': 0.0,\n",
              "   'f1': 0}},\n",
              " {'input': \"The war was reaching a climax by the time Mr. Papon left Algeria in 1958 , telling superiors in Paris : '' France is on the offensive on all fronts .\",\n",
              "  'output': \"('Paris', '/location/administrative_division/country', 'France')\",\n",
              "  'base_model': {'response': ' Based on the given sentence, the following relation triple may be extracted:\\n(Mr. Papon, /people/person/place_lived, Algeria)\\n(Algeria, /location/country/administrative_divisions, France)\\n(France, /business/company/advisors, superiors)\\nNote that these entities and relations are inferred from the context of the sentence and may not necessarily be explicitly mentioned. The first relation indicates that Mr. Papon lived in Algeria. The second relation indicates that Algeria is a division of France. The third relation indicates that the superiors are advisors of France.',\n",
              "   'predicted_relations': [['Mr. Papon',\n",
              "     '/people/person/place_lived',\n",
              "     'Algeria'],\n",
              "    ['Algeria', '/location/country/administrative_divisions', 'France'],\n",
              "    ['France', '/business/company/advisors', 'superiors']],\n",
              "   'precision': 0.0,\n",
              "   'recall': 0.0,\n",
              "   'f1': 0}},\n",
              " {'input': \"Then Senator Russ Feingold , Democrat of Wisconsin , read a news release issued by the Republican Party in Missouri just after the case was filed , which accused the voter registration group of trying '' to cause chaos and controversy at the polls in order to help Democrats to try to steal next week 's elections . '' ''\",\n",
              "  'output': \"('Russ Feingold', '/people/person/place_lived', 'Wisconsin')\",\n",
              "  'base_model': {'response': ' Based on the given sentence, there aren\\'t any direct relationships that can be extracted using the provided relation types. The sentence mentions entities such as \"Senator Russ Feingold\", \"Republican Party in Missouri\", and \"voter registration group\" but does not explicitly state any location or nationality information for these entities, nor does it mention any advisory roles or administrative divisions. Therefore, no relationship triples can be derived from this sentence using the given relation types.\\n\\nNone.',\n",
              "   'predicted_relations': 'None',\n",
              "   'precision': 0.0,\n",
              "   'recall': 0.0,\n",
              "   'f1': 0}},\n",
              " {'input': \"This is the most important labor issue facing New York City and it must be resolved , '' Police Commissioner Raymond W. Kelly said at a City Council hearing on Monday .\",\n",
              "  'output': \"('Raymond W. Kelly', '/people/person/place_lived', 'New York City')\",\n",
              "  'base_model': {'response': ' None.\\nIn this sentence, there are no explicit mentions of companies, locations, or people with specified relationships according to the provided list. The mention of \"New York City\" could potentially be related to the \\'/location/\\' type, but without further context or entities involved in a relation to it, no valid triples can be extracted from this sentence.',\n",
              "   'predicted_relations': 'None',\n",
              "   'precision': 0.0,\n",
              "   'recall': 0.0,\n",
              "   'f1': 0}},\n",
              " {'input': 'This time in Yonkers , where eight million gallons from a broken pipe spewed into the Hudson River last weekend in what officials called the worst such incident in the history of Westchester County .',\n",
              "  'output': 'None',\n",
              "  'base_model': {'response': \" Based on the given sentence, the following relation might be applicable:\\n['/location/located_in', '/location/location', 'Yonkers']\\n(Yonkers, located_in, location)\\nThis relation indicates that Yonkers is a location that contains or is the location of another location or entity. In this case, it is the location where the incident occurred.\",\n",
              "   'predicted_relations': [['Yonkers', 'located_in', 'location']],\n",
              "   'precision': 0.0,\n",
              "   'recall': 0.0,\n",
              "   'f1': 0}},\n",
              " {'input': 'This week , Senator Chuck Hagel , Republican of Nebraska , said Mr. Gonzales should leave .',\n",
              "  'output': \"('Chuck Hagel', '/people/person/place_lived', 'Nebraska')\",\n",
              "  'base_model': {'response': \" None.\\nIn this sentence, we have mention of two persons ('Senator Chuck Hagel' and 'Mr. Gonzales') but no explicit mentions of businesses or locations. Therefore, there are no relations that can be extracted from this sentence based on the provided list.\",\n",
              "   'predicted_relations': 'None',\n",
              "   'precision': 0.0,\n",
              "   'recall': 0.0,\n",
              "   'f1': 0}},\n",
              " {'input': 'Thorpe , a Sac and Fox Indian reared in Oklahoma , was a remarkably versatile athlete in the early 20th century .',\n",
              "  'output': \"('Oklahoma', '/people/person/place_lived', 'Thorpe')\",\n",
              "  'base_model': {'response': ' Based on the given sentence, the following relation might be extracted:\\n(person \"Thorpe\", person/place_of_birth \"Oklahoma\")',\n",
              "   'predicted_relations': [],\n",
              "   'precision': 0,\n",
              "   'recall': 0.0,\n",
              "   'f1': 0}},\n",
              " {'input': 'Those visitors can pass a barbershop on 181st Street and see a customer who happens to be the nephew of Joaquín Balaguer , a former president of the Dominican Republic .',\n",
              "  'output': \"('Joaquín Balaguer', '/people/person/place_lived', 'Dominican Republic'), ('Joaquín Balaguer', '/people/person/nationality', 'Dominican Republic')\",\n",
              "  'base_model': {'response': \" Based on the given sentence, the following relation triple could be extracted: ('barbershop', '/location/address/street', '181st Street')\\n('customer', '/people/person/relatives/nephew', 'Joaquín Balaguer')\\n('Joaquín Balaguer', '/business/person/jobtitle/former_president', 'Dominican Republic')\\n\\nThese relations are derived as follows:\\n- The first relation identifies the location of the barbershop.\\n- The second relation establishes that the customer is the nephew of Joaquín Balaguer.\\n- The third relation indicates that Joaquín Balaguer was a former president of the Dominican Republic.\",\n",
              "   'predicted_relations': [['barbershop',\n",
              "     '/location/address/street',\n",
              "     '181st Street'],\n",
              "    ['customer', '/people/person/relatives/nephew', 'Joaquín Balaguer'],\n",
              "    ['Joaquín Balaguer',\n",
              "     '/business/person/jobtitle/former_president',\n",
              "     'Dominican Republic']],\n",
              "   'precision': 0.0,\n",
              "   'recall': 0.0,\n",
              "   'f1': 0}},\n",
              " {'input': 'To illustrate , he walked me through some of the dizzying complexities of the pay for Peter R. Dolan , the former chief executive of Bristol-Myers Squibb , who was fired last September .',\n",
              "  'output': \"('Peter R. Dolan', '/business/person/company', 'Bristol-Myers Squibb'), ('Bristol-Myers Squibb', '/business/person/company', 'Peter R. Dolan')\",\n",
              "  'base_model': {'response': ' Based on the given sentence, there do not seem to be any explicit relations mentioned that can be directly extracted using the provided list. The sentence primarily focuses on the identity of Peter R. Dolan as the former CEO of Bristol-Myers Squibb and the fact that he was fired last September. Therefore, no relation triples can be derived from this sentence based on the given list.\\n\\nNone.',\n",
              "   'predicted_relations': 'None',\n",
              "   'precision': 0.0,\n",
              "   'recall': 0.0,\n",
              "   'f1': 0}},\n",
              " {'input': \"To the Editor : Re '' Documents From Vast Nazi Archive to Be Made Available to Scholars '' -LRB- news article , May 16 -RRB- : The 11-nation board governing the International Tracing Service archives at Bad Arolsen , Germany , announced an agreement allowing the transfer of digitized documents to archives around the world while the formal treaty ratification process continues .\",\n",
              "  'output': \"('Bad Arolsen', '/location/located_in', 'Germany')\",\n",
              "  'base_model': {'response': ' Based on the given sentence, the following relation might be extracted:\\n(International Tracing Service archives at Bad Arolsen, /location/country/located_in, Germany)',\n",
              "   'predicted_relations': [['International Tracing Service archives at Bad Arolsen',\n",
              "     '/location/country/located_in',\n",
              "     'Germany']],\n",
              "   'precision': 0.0,\n",
              "   'recall': 0.0,\n",
              "   'f1': 0}},\n",
              " {'input': 'Two Democratic Senators , Ben Nelson of Nebraska and Mark Pryor of Arkansas , crossed party lines to oppose the withdrawal plan .',\n",
              "  'output': \"('Mark Pryor', '/people/person/place_lived', 'Arkansas'), ('Ben Nelson', '/business/person/company', 'Nebraska'), ('Ben Nelson', '/people/person/place_lived', 'Nebraska')\",\n",
              "  'base_model': {'response': ' None.\\nIn this sentence, we have mention of two Democratic Senators, Ben Nelson and Mark Pryor, but there is no explicit information about their companies, locations, or nationalities mentioned. Therefore, no relation from the given list can be extracted from this sentence.',\n",
              "   'predicted_relations': 'None',\n",
              "   'precision': 0.0,\n",
              "   'recall': 0.0,\n",
              "   'f1': 0}},\n",
              " {'input': \"Two independent experts -- William K. Reilly , who represented the first President Bush in the 1992 negotiations , and David G. Victor , a Stanford University law professor whose writings helped provide the underpinnings for Thursday 's speech -- said that Mr. Bush 's plan had merit .\",\n",
              "  'output': 'None',\n",
              "  'base_model': {'response': ' Based on the given sentence, the following relation triple can be extracted:\\n(William_K_Reilly, /business/person/company/employer, First_President_Bush)\\n(David_G_Victor, /location/country/nationality, United_States)\\n(William_K_Reilly, /business/person/company, Stanford_University)\\n(William_K_Reilly, /people/person/occupation, independent_experts)\\n(David_G_Victor, /people/person/occupation, Stanford_University_law_professor)\\n(First_President_Bush, /business/company/advisors, William_K_Reilly)\\n(First_President_Bush, /business/company/advisors, David_G_Victor)\\nNote: The exact names or entities mentioned in the sentence may vary slightly depending on how they are named or referred to in real-world sources. These mappings are based on the information given in the sentence itself.',\n",
              "   'predicted_relations': [['William_K_Reilly',\n",
              "     '/business/person/company/employer',\n",
              "     'First_President_Bush'],\n",
              "    ['David_G_Victor', '/location/country/nationality', 'United_States'],\n",
              "    ['William_K_Reilly', '/business/person/company', 'Stanford_University'],\n",
              "    ['William_K_Reilly', '/people/person/occupation', 'independent_experts'],\n",
              "    ['David_G_Victor',\n",
              "     '/people/person/occupation',\n",
              "     'Stanford_University_law_professor'],\n",
              "    ['First_President_Bush', '/business/company/advisors', 'William_K_Reilly'],\n",
              "    ['First_President_Bush', '/business/company/advisors', 'David_G_Victor']],\n",
              "   'precision': 0.0,\n",
              "   'recall': 0.0,\n",
              "   'f1': 0}},\n",
              " {'input': 'Under its empire-building director , Thomas Krens , the Solomon R. Guggenheim Foundation in New York led the way , first by adding the Guggenheim Bilbao in northern Spain to its traditional outpost in Venice , where it houses the Peggy Guggenheim Collection .',\n",
              "  'output': 'None',\n",
              "  'base_model': {'response': ' Based on the given sentence, the following relation triples can be extracted:\\n(Solomon R. Guggenheim Foundation, /business/person/company/employee, Thomas Krens)\\n(Solomon R. Guggenheim Foundation, /business/location/located_in, New York)\\n(Solomon R. Guggenheim Foundation, /business/location/located_or_established_in, Venice)\\n(Solomon R. Guggenheim Foundation, /business/location/located_or_established_in, Bilbao)\\nThese relations represent that Thomas Krens is an employee of the Solomon R. Guggenheim Foundation, the foundation is located in New York, and it has established or located outposts in both Venice and Bilbao.',\n",
              "   'predicted_relations': [['Solomon R. Guggenheim Foundation',\n",
              "     '/business/person/company/employee',\n",
              "     'Thomas Krens'],\n",
              "    ['Solomon R. Guggenheim Foundation',\n",
              "     '/business/location/located_in',\n",
              "     'New York'],\n",
              "    ['Solomon R. Guggenheim Foundation',\n",
              "     '/business/location/located_or_established_in',\n",
              "     'Venice'],\n",
              "    ['Solomon R. Guggenheim Foundation',\n",
              "     '/business/location/located_or_established_in',\n",
              "     'Bilbao']],\n",
              "   'precision': 0.0,\n",
              "   'recall': 0.0,\n",
              "   'f1': 0}},\n",
              " {'input': 'WITH : Abhishek Bachchan -LRB- Rikki Thukral -RRB- , Preity Zinta -LRB- Alvira Khan -RRB- , Lara Dutta -LRB- Anaida -RRB- , Bobby Deol -LRB- Steve -RRB- and in a special appearance , Amitabh Bachchan .',\n",
              "  'output': 'None, None',\n",
              "  'base_model': {'response': ' Based on the given sentence, there do not seem to be any explicit relations mentioned that can be directly extracted using the provided list. The sentence mentions names of people and their possible associates or co-stars, but it does not provide enough context for determining business affiliations, locations, nationalities, or places of birth/lived for these entities. Therefore, no relationship triples can be derived from this sentence based on the given list.',\n",
              "   'predicted_relations': [],\n",
              "   'precision': 0,\n",
              "   'recall': 0.0,\n",
              "   'f1': 0}},\n",
              " {'input': 'When James Dimon took over at Bank One in March 2000 , he signed a contract that gave him a guaranteed $ 9.5 million bonus in cash and stock for at least his first five years at the helm .',\n",
              "  'output': \"('James Dimon', '/business/person/company', 'Bank')\",\n",
              "  'base_model': {'response': ' Based on the given sentence, the following relation might be extracted:\\n(James Dimon, /business/person/company, Bank One)\\nThis relation indicates that James Dimon is a person who has been associated with the company Bank One. However, no other relations from the given list appear explicitly in the sentence. Therefore, the answer is:\\n[(James Dimon, /business/person/company, Bank One)]',\n",
              "   'predicted_relations': [['James Dimon',\n",
              "     '/business/person/company',\n",
              "     'Bank One'],\n",
              "    ['James Dimon', '/business/person/company', 'Bank One']],\n",
              "   'precision': 0.0,\n",
              "   'recall': 0.0,\n",
              "   'f1': 0}},\n",
              " {'input': \"When Kyle was 5 , his mother organized a local prayer vigil for Amadou Diallo , the African immigrant shot to death by the police in New York City . ''\",\n",
              "  'output': \"('Amadou Diallo', '/people/deceasedperson/place_of_death', 'New York City'), ('Amadou Diallo', '/people/person/place_lived', 'New York City')\",\n",
              "  'base_model': {'response': \" Based on the given sentence, the following relation might be present:\\n['/people/person/place_lived' : (Kyle, relation, New York City)]\\n['/people/person/nationality' : (Amadou Diallo, relation, Africa)]\\n['/location/located_in' : (New York City, relation, United States)]\\n\\nTherefore, the relation triples would look like this:\\n(Kyle, /people/person/place_lived, New York City)\\n(Amadio Diallo, /people/person/nationality, Africa)\\n(New York City, /location/located_in, United States)\",\n",
              "   'predicted_relations': [['Kyle', 'relation', 'New York City'],\n",
              "    ['Amadou Diallo', 'relation', 'Africa'],\n",
              "    ['New York City', 'relation', 'United States'],\n",
              "    ['Kyle', '/people/person/place_lived', 'New York City'],\n",
              "    ['Amadio Diallo', '/people/person/nationality', 'Africa'],\n",
              "    ['New York City', '/location/located_in', 'United States']],\n",
              "   'precision': 0.0,\n",
              "   'recall': 0.0,\n",
              "   'f1': 0}},\n",
              " {'input': \"Yun Zhao , 31 , a bright woman who works in a large insurance company here , was drawn back here after studying in Toronto and becoming a legal resident of Canada , something that has long been close to an irresistible dream for many Chinese . ''\",\n",
              "  'output': \"('Canada', '/location/country/administrative_divisions', 'Toronto'), ('Toronto', '/location/administrative_division/country', 'Canada'), ('Toronto', '/location/located_in', 'Canada')\",\n",
              "  'base_model': {'response': ' Based on the given sentence, the following relation triple can be extracted:\\n(Yun Zhao, /business/person/company, large insurance company here)',\n",
              "   'predicted_relations': [['Yun Zhao',\n",
              "     '/business/person/company',\n",
              "     'large insurance company here']],\n",
              "   'precision': 0.0,\n",
              "   'recall': 0.0,\n",
              "   'f1': 0}}]"
            ]
          },
          "metadata": {},
          "execution_count": 6
        }
      ]
    },
    {
      "cell_type": "code",
      "source": [
        "import sys\n",
        "sys.path.append('drive/My Drive/mistral-finetune/')"
      ],
      "metadata": {
        "id": "wv-r2jqE967P"
      },
      "execution_count": 7,
      "outputs": []
    },
    {
      "cell_type": "code",
      "source": [
        "from helper_functions import formatting_func, get_tuples, get_relations, get_scores"
      ],
      "metadata": {
        "id": "YGTVx5KqXhlT"
      },
      "execution_count": 8,
      "outputs": []
    },
    {
      "cell_type": "code",
      "source": [
        "from tqdm import tqdm\n",
        "\n",
        "progress_bar = tqdm(total=len(data), desc='Progress')\n",
        "\n",
        "for idx, example in zip(list(range(len(data))), data):\n",
        "\n",
        "    eval_prompt = formatting_func(example)\n",
        "\n",
        "    model_input = eval_tokenizer(eval_prompt, return_tensors=\"pt\").to(\"cuda\")\n",
        "\n",
        "    ft_model.eval()\n",
        "    with torch.no_grad():\n",
        "        response  = eval_tokenizer.decode(ft_model.generate(**model_input, max_new_tokens=256,\n",
        "                                                         repetition_penalty=1.15,\n",
        "                                                         pad_token_id=eval_tokenizer.eos_token_id)[0],\n",
        "                                          skip_special_tokens=True)\n",
        "        response = response.replace(eval_prompt, \"\")\n",
        "\n",
        "    predicted_relations = get_tuples(response)\n",
        "\n",
        "    expected_relations = get_relations(example)\n",
        "\n",
        "    precision, recall,f1 = get_scores(expected_relations, predicted_relations)\n",
        "\n",
        "    data[idx].update({'ft_model':\n",
        "                        {'response': response,\n",
        "                         'predicted_relations':predicted_relations,\n",
        "                        'precision': precision,\n",
        "                        'recall': recall,\n",
        "                        'f1': f1}\n",
        "                    })\n",
        "    progress_bar.update(1)\n",
        "\n",
        "progress_bar.close()"
      ],
      "metadata": {
        "colab": {
          "base_uri": "https://localhost:8080/"
        },
        "id": "L6wlakd_zHLx",
        "outputId": "ef1509d6-aa58-44f2-e5e4-b1496d4bc163"
      },
      "execution_count": 9,
      "outputs": [
        {
          "output_type": "stream",
          "name": "stderr",
          "text": [
            "Progress: 100%|██████████| 100/100 [04:45<00:00,  2.86s/it]\n"
          ]
        }
      ]
    },
    {
      "cell_type": "code",
      "source": [
        "data[:3]"
      ],
      "metadata": {
        "colab": {
          "base_uri": "https://localhost:8080/"
        },
        "id": "0YD4Fh0pM9Da",
        "outputId": "9b692186-1dcc-437b-9184-56e043886b6e"
      },
      "execution_count": 11,
      "outputs": [
        {
          "output_type": "execute_result",
          "data": {
            "text/plain": [
              "[{'input': '-LRB- AP -RRB- WEST VIRGINIA 67 , VILLANOVA 56 -- Frank Young scored a career-high 25 points , including eight 3-pointers , for No. 25 West Virginia -LRB- 12-1 , 2-0 -RRB- in a Big East game .',\n",
              "  'output': \"('Frank Young', '/people/person/place_lived', 'West Virginia')\",\n",
              "  'base_model': {'response': \" Based on the given sentence, there do not seem to be any explicit relations mentioned that can be directly extracted using the provided list. The sentence primarily describes an event (a basketball game) involving entities 'West Virginia' and 'Villanova'. However, no specific relations between these entities or other mentioned entities ('Frank Young') are explicitly stated in the sentence. Therefore, the answer would be: None.\",\n",
              "   'predicted_relations': 'None',\n",
              "   'precision': 0.0,\n",
              "   'recall': 0.0,\n",
              "   'f1': 0},\n",
              "  'ft_model': {'response': ' None.',\n",
              "   'predicted_relations': ['None'],\n",
              "   'precision': 0.0,\n",
              "   'recall': 0.0,\n",
              "   'f1': 0}},\n",
              " {'input': \"9:30 P.M. (13) THE WILD PARROTS OF TELEGRAPH HILL -- '' Independent Lens '' follows Mark Bittner , a homeless street musician in San Francisco , as he literally goes to the birds -- and finds meaning in his life -- by taking up with a flock of wild red and green parrots .\",\n",
              "  'output': \"('Mark Bittner', '/people/person/place_lived', 'San Francisco')\",\n",
              "  'base_model': {'response': \" Based on the given sentence, there don't seem to be any explicit relations mentioned that can be directly extracted using the provided list. The sentence describes Mark Bittner being a homeless street musician in San Francisco who connects with a flock of wild parrots, but it does not explicitly state any location or company relationships between these entities. Therefore, none.\",\n",
              "   'predicted_relations': 'None',\n",
              "   'precision': 0.0,\n",
              "   'recall': 0.0,\n",
              "   'f1': 0},\n",
              "  'ft_model': {'response': ' None.',\n",
              "   'predicted_relations': ['None'],\n",
              "   'precision': 0.0,\n",
              "   'recall': 0.0,\n",
              "   'f1': 0}},\n",
              " {'input': 'A1 OBITUARIES A15 Mstislav Rostropovich A cellist and conductor who was renowned as one of the great instrumentalists of the 20th century and an outspoken champion of artistic freedom in the Soviet Union during the last decades of the cold war , he was 80 and lived in Paris .',\n",
              "  'output': \"('Mstislav Rostropovich', '/people/person/place_lived', 'Paris')\",\n",
              "  'base_model': {'response': ' Based on the given sentence, the following relation triple can be extracted:\\n(Mstislav Rostropovich, /people/person/place_lived, Paris)',\n",
              "   'predicted_relations': [['Mstislav Rostropovich',\n",
              "     '/people/person/place_lived',\n",
              "     'Paris']],\n",
              "   'precision': 1.0,\n",
              "   'recall': 1.0,\n",
              "   'f1': 1.0},\n",
              "  'ft_model': {'response': ' None.',\n",
              "   'predicted_relations': ['None'],\n",
              "   'precision': 0.0,\n",
              "   'recall': 0.0,\n",
              "   'f1': 0}}]"
            ]
          },
          "metadata": {},
          "execution_count": 11
        }
      ]
    },
    {
      "cell_type": "code",
      "source": [
        "! tail \"drive/MyDrive/mistral-finetune/mistral-finetuning-data-nonegative.json\""
      ],
      "metadata": {
        "id": "q9-ws3sp9VTj"
      },
      "execution_count": null,
      "outputs": []
    },
    {
      "cell_type": "code",
      "source": [],
      "metadata": {
        "id": "9rS-EkED9Wv1"
      },
      "execution_count": null,
      "outputs": []
    },
    {
      "cell_type": "code",
      "source": [
        "# Define the file path\n",
        "file_path = \"drive/MyDrive/mistral-finetune/mistral-finetuning-data-r32alpha16.json\"\n",
        "\n",
        "# Save the data to a JSON file\n",
        "with open(file_path, \"w\") as json_file:\n",
        "    json.dump(data, json_file)\n",
        "\n",
        "print(f\"Data saved to {file_path}\")\n"
      ],
      "metadata": {
        "colab": {
          "base_uri": "https://localhost:8080/"
        },
        "id": "LXgRdI3p5QSb",
        "outputId": "a19cc40b-a4f8-4fe5-e622-d35da63e632d"
      },
      "execution_count": 13,
      "outputs": [
        {
          "output_type": "stream",
          "name": "stdout",
          "text": [
            "Data saved to drive/MyDrive/mistral-finetune/mistral-finetuning-data-r32alpha16.json\n"
          ]
        }
      ]
    },
    {
      "cell_type": "code",
      "source": [
        "# Define the file path\n",
        "import json\n",
        "file_path = \"drive/MyDrive/mistral-finetune/mistral-finetuning-data-balanced.json\"\n",
        "\n",
        "# Save the data to a JSON file\n",
        "with open(file_path, \"r\") as json_file:\n",
        "    data = json.load(json_file)\n"
      ],
      "metadata": {
        "colab": {
          "base_uri": "https://localhost:8080/",
          "height": 304
        },
        "id": "S6zCRjFH9FN-",
        "outputId": "e18485f6-7308-4c83-d055-c8de49d85870"
      },
      "execution_count": null,
      "outputs": [
        {
          "output_type": "error",
          "ename": "JSONDecodeError",
          "evalue": "Expecting value: line 1 column 1 (char 0)",
          "traceback": [
            "\u001b[0;31m---------------------------------------------------------------------------\u001b[0m",
            "\u001b[0;31mJSONDecodeError\u001b[0m                           Traceback (most recent call last)",
            "\u001b[0;32m<ipython-input-34-15cbd5f3873b>\u001b[0m in \u001b[0;36m<cell line: 6>\u001b[0;34m()\u001b[0m\n\u001b[1;32m      5\u001b[0m \u001b[0;31m# Save the data to a JSON file\u001b[0m\u001b[0;34m\u001b[0m\u001b[0;34m\u001b[0m\u001b[0m\n\u001b[1;32m      6\u001b[0m \u001b[0;32mwith\u001b[0m \u001b[0mopen\u001b[0m\u001b[0;34m(\u001b[0m\u001b[0mfile_path\u001b[0m\u001b[0;34m,\u001b[0m \u001b[0;34m\"r\"\u001b[0m\u001b[0;34m)\u001b[0m \u001b[0;32mas\u001b[0m \u001b[0mjson_file\u001b[0m\u001b[0;34m:\u001b[0m\u001b[0;34m\u001b[0m\u001b[0;34m\u001b[0m\u001b[0m\n\u001b[0;32m----> 7\u001b[0;31m     \u001b[0mdata\u001b[0m \u001b[0;34m=\u001b[0m \u001b[0mjson\u001b[0m\u001b[0;34m.\u001b[0m\u001b[0mload\u001b[0m\u001b[0;34m(\u001b[0m\u001b[0mjson_file\u001b[0m\u001b[0;34m)\u001b[0m\u001b[0;34m\u001b[0m\u001b[0;34m\u001b[0m\u001b[0m\n\u001b[0m",
            "\u001b[0;32m/usr/lib/python3.10/json/__init__.py\u001b[0m in \u001b[0;36mload\u001b[0;34m(fp, cls, object_hook, parse_float, parse_int, parse_constant, object_pairs_hook, **kw)\u001b[0m\n\u001b[1;32m    291\u001b[0m     \u001b[0mkwarg\u001b[0m\u001b[0;34m;\u001b[0m \u001b[0motherwise\u001b[0m\u001b[0;31m \u001b[0m\u001b[0;31m`\u001b[0m\u001b[0;31m`\u001b[0m\u001b[0mJSONDecoder\u001b[0m\u001b[0;31m`\u001b[0m\u001b[0;31m`\u001b[0m \u001b[0;32mis\u001b[0m \u001b[0mused\u001b[0m\u001b[0;34m.\u001b[0m\u001b[0;34m\u001b[0m\u001b[0;34m\u001b[0m\u001b[0m\n\u001b[1;32m    292\u001b[0m     \"\"\"\n\u001b[0;32m--> 293\u001b[0;31m     return loads(fp.read(),\n\u001b[0m\u001b[1;32m    294\u001b[0m         \u001b[0mcls\u001b[0m\u001b[0;34m=\u001b[0m\u001b[0mcls\u001b[0m\u001b[0;34m,\u001b[0m \u001b[0mobject_hook\u001b[0m\u001b[0;34m=\u001b[0m\u001b[0mobject_hook\u001b[0m\u001b[0;34m,\u001b[0m\u001b[0;34m\u001b[0m\u001b[0;34m\u001b[0m\u001b[0m\n\u001b[1;32m    295\u001b[0m         \u001b[0mparse_float\u001b[0m\u001b[0;34m=\u001b[0m\u001b[0mparse_float\u001b[0m\u001b[0;34m,\u001b[0m \u001b[0mparse_int\u001b[0m\u001b[0;34m=\u001b[0m\u001b[0mparse_int\u001b[0m\u001b[0;34m,\u001b[0m\u001b[0;34m\u001b[0m\u001b[0;34m\u001b[0m\u001b[0m\n",
            "\u001b[0;32m/usr/lib/python3.10/json/__init__.py\u001b[0m in \u001b[0;36mloads\u001b[0;34m(s, cls, object_hook, parse_float, parse_int, parse_constant, object_pairs_hook, **kw)\u001b[0m\n\u001b[1;32m    344\u001b[0m             \u001b[0mparse_int\u001b[0m \u001b[0;32mis\u001b[0m \u001b[0;32mNone\u001b[0m \u001b[0;32mand\u001b[0m \u001b[0mparse_float\u001b[0m \u001b[0;32mis\u001b[0m \u001b[0;32mNone\u001b[0m \u001b[0;32mand\u001b[0m\u001b[0;34m\u001b[0m\u001b[0;34m\u001b[0m\u001b[0m\n\u001b[1;32m    345\u001b[0m             parse_constant is None and object_pairs_hook is None and not kw):\n\u001b[0;32m--> 346\u001b[0;31m         \u001b[0;32mreturn\u001b[0m \u001b[0m_default_decoder\u001b[0m\u001b[0;34m.\u001b[0m\u001b[0mdecode\u001b[0m\u001b[0;34m(\u001b[0m\u001b[0ms\u001b[0m\u001b[0;34m)\u001b[0m\u001b[0;34m\u001b[0m\u001b[0;34m\u001b[0m\u001b[0m\n\u001b[0m\u001b[1;32m    347\u001b[0m     \u001b[0;32mif\u001b[0m \u001b[0mcls\u001b[0m \u001b[0;32mis\u001b[0m \u001b[0;32mNone\u001b[0m\u001b[0;34m:\u001b[0m\u001b[0;34m\u001b[0m\u001b[0;34m\u001b[0m\u001b[0m\n\u001b[1;32m    348\u001b[0m         \u001b[0mcls\u001b[0m \u001b[0;34m=\u001b[0m \u001b[0mJSONDecoder\u001b[0m\u001b[0;34m\u001b[0m\u001b[0;34m\u001b[0m\u001b[0m\n",
            "\u001b[0;32m/usr/lib/python3.10/json/decoder.py\u001b[0m in \u001b[0;36mdecode\u001b[0;34m(self, s, _w)\u001b[0m\n\u001b[1;32m    335\u001b[0m \u001b[0;34m\u001b[0m\u001b[0m\n\u001b[1;32m    336\u001b[0m         \"\"\"\n\u001b[0;32m--> 337\u001b[0;31m         \u001b[0mobj\u001b[0m\u001b[0;34m,\u001b[0m \u001b[0mend\u001b[0m \u001b[0;34m=\u001b[0m \u001b[0mself\u001b[0m\u001b[0;34m.\u001b[0m\u001b[0mraw_decode\u001b[0m\u001b[0;34m(\u001b[0m\u001b[0ms\u001b[0m\u001b[0;34m,\u001b[0m \u001b[0midx\u001b[0m\u001b[0;34m=\u001b[0m\u001b[0m_w\u001b[0m\u001b[0;34m(\u001b[0m\u001b[0ms\u001b[0m\u001b[0;34m,\u001b[0m \u001b[0;36m0\u001b[0m\u001b[0;34m)\u001b[0m\u001b[0;34m.\u001b[0m\u001b[0mend\u001b[0m\u001b[0;34m(\u001b[0m\u001b[0;34m)\u001b[0m\u001b[0;34m)\u001b[0m\u001b[0;34m\u001b[0m\u001b[0;34m\u001b[0m\u001b[0m\n\u001b[0m\u001b[1;32m    338\u001b[0m         \u001b[0mend\u001b[0m \u001b[0;34m=\u001b[0m \u001b[0m_w\u001b[0m\u001b[0;34m(\u001b[0m\u001b[0ms\u001b[0m\u001b[0;34m,\u001b[0m \u001b[0mend\u001b[0m\u001b[0;34m)\u001b[0m\u001b[0;34m.\u001b[0m\u001b[0mend\u001b[0m\u001b[0;34m(\u001b[0m\u001b[0;34m)\u001b[0m\u001b[0;34m\u001b[0m\u001b[0;34m\u001b[0m\u001b[0m\n\u001b[1;32m    339\u001b[0m         \u001b[0;32mif\u001b[0m \u001b[0mend\u001b[0m \u001b[0;34m!=\u001b[0m \u001b[0mlen\u001b[0m\u001b[0;34m(\u001b[0m\u001b[0ms\u001b[0m\u001b[0;34m)\u001b[0m\u001b[0;34m:\u001b[0m\u001b[0;34m\u001b[0m\u001b[0;34m\u001b[0m\u001b[0m\n",
            "\u001b[0;32m/usr/lib/python3.10/json/decoder.py\u001b[0m in \u001b[0;36mraw_decode\u001b[0;34m(self, s, idx)\u001b[0m\n\u001b[1;32m    353\u001b[0m             \u001b[0mobj\u001b[0m\u001b[0;34m,\u001b[0m \u001b[0mend\u001b[0m \u001b[0;34m=\u001b[0m \u001b[0mself\u001b[0m\u001b[0;34m.\u001b[0m\u001b[0mscan_once\u001b[0m\u001b[0;34m(\u001b[0m\u001b[0ms\u001b[0m\u001b[0;34m,\u001b[0m \u001b[0midx\u001b[0m\u001b[0;34m)\u001b[0m\u001b[0;34m\u001b[0m\u001b[0;34m\u001b[0m\u001b[0m\n\u001b[1;32m    354\u001b[0m         \u001b[0;32mexcept\u001b[0m \u001b[0mStopIteration\u001b[0m \u001b[0;32mas\u001b[0m \u001b[0merr\u001b[0m\u001b[0;34m:\u001b[0m\u001b[0;34m\u001b[0m\u001b[0;34m\u001b[0m\u001b[0m\n\u001b[0;32m--> 355\u001b[0;31m             \u001b[0;32mraise\u001b[0m \u001b[0mJSONDecodeError\u001b[0m\u001b[0;34m(\u001b[0m\u001b[0;34m\"Expecting value\"\u001b[0m\u001b[0;34m,\u001b[0m \u001b[0ms\u001b[0m\u001b[0;34m,\u001b[0m \u001b[0merr\u001b[0m\u001b[0;34m.\u001b[0m\u001b[0mvalue\u001b[0m\u001b[0;34m)\u001b[0m \u001b[0;32mfrom\u001b[0m \u001b[0;32mNone\u001b[0m\u001b[0;34m\u001b[0m\u001b[0;34m\u001b[0m\u001b[0m\n\u001b[0m\u001b[1;32m    356\u001b[0m         \u001b[0;32mreturn\u001b[0m \u001b[0mobj\u001b[0m\u001b[0;34m,\u001b[0m \u001b[0mend\u001b[0m\u001b[0;34m\u001b[0m\u001b[0;34m\u001b[0m\u001b[0m\n",
            "\u001b[0;31mJSONDecodeError\u001b[0m: Expecting value: line 1 column 1 (char 0)"
          ]
        }
      ]
    },
    {
      "cell_type": "code",
      "source": [
        "for idx, entry in enumerate(data):\n",
        "    if entry['output']==\"None\":\n",
        "        print(idx)\n",
        "        break"
      ],
      "metadata": {
        "colab": {
          "base_uri": "https://localhost:8080/"
        },
        "id": "xfvLZvwGZnpM",
        "outputId": "24e92b6d-fcee-4a68-f343-50cdc09d50a7"
      },
      "execution_count": null,
      "outputs": [
        {
          "output_type": "stream",
          "name": "stdout",
          "text": [
            "3\n"
          ]
        }
      ]
    },
    {
      "cell_type": "code",
      "source": [
        "total_precision = 0.0\n",
        "total_recall = 0.0\n",
        "total_f1 = 0.0\n",
        "total_samples = len(data)\n",
        "\n",
        "for item in data:\n",
        "    total_precision += item['ft_model']['precision']\n",
        "    total_recall += item['ft_model']['recall']\n",
        "    total_f1 += item['ft_model']['f1']"
      ],
      "metadata": {
        "id": "XhPI2OtdaXBr"
      },
      "execution_count": null,
      "outputs": []
    },
    {
      "cell_type": "code",
      "source": [
        "total_f1"
      ],
      "metadata": {
        "colab": {
          "base_uri": "https://localhost:8080/"
        },
        "id": "TEHXr953uOTY",
        "outputId": "c8032dcd-ad3d-4eec-c48a-cecbb8eeb792"
      },
      "execution_count": null,
      "outputs": [
        {
          "output_type": "execute_result",
          "data": {
            "text/plain": [
              "23.0"
            ]
          },
          "metadata": {},
          "execution_count": 25
        }
      ]
    },
    {
      "cell_type": "code",
      "source": [
        "for idx, item in enumerate(data):\n",
        "    if item['ft_model']['precision']==1:\n",
        "        print(item['ft_model']['response'])"
      ],
      "metadata": {
        "colab": {
          "base_uri": "https://localhost:8080/"
        },
        "id": "KT33b1ZvaZjy",
        "outputId": "fd5bf7fe-aff2-4577-d0da-c8f519b1ab8e"
      },
      "execution_count": null,
      "outputs": [
        {
          "output_type": "stream",
          "name": "stdout",
          "text": [
            " None.\n",
            "In the given sentence, there is no triple that can be formed using relations from the list provided.\n",
            " None.\n",
            " None.\n",
            " None.\n",
            " None.\n",
            " None.\n",
            " None.\n",
            " None.\n",
            " None.\n",
            " None.\n",
            " None.\n",
            " None.\n",
            " None.\n",
            " None.\n",
            " None.\n",
            " None.\n",
            " None.\n",
            " None.\n",
            " None.\n",
            " None.\n",
            " None.\n",
            " None.\n",
            " None.\n"
          ]
        }
      ]
    },
    {
      "cell_type": "code",
      "source": [
        "[x for x in data if (x['output'] == \"None\" and x['base_model']['predicted_relations'] == \"None\")]\n"
      ],
      "metadata": {
        "colab": {
          "base_uri": "https://localhost:8080/"
        },
        "id": "NVd0gLM4cM87",
        "outputId": "28381953-6ee3-404a-dd06-49a74a23657f"
      },
      "execution_count": null,
      "outputs": [
        {
          "output_type": "execute_result",
          "data": {
            "text/plain": [
              "[{'input': 'As the new face of the L.P.G.A. Tour , and as a star in Mexico and elsewhere , Ochoa seems to have taken to the job of being a role model .',\n",
              "  'output': 'None',\n",
              "  'base_model': {'response': ' Based on the given sentence, there do not seem to be any explicit relations mentioned that can be extracted using the provided list. Therefore, the answer would be: None.',\n",
              "   'predicted_relations': 'None',\n",
              "   'precision': 1.0,\n",
              "   'recall': 1.0,\n",
              "   'f1': 1.0},\n",
              "  'ft_model': {'response': ' None.',\n",
              "   'predicted_relations': ['None'],\n",
              "   'precision': 1.0,\n",
              "   'recall': 1.0,\n",
              "   'f1': 1.0}},\n",
              " {'input': \"Coincidentally , the movie Mr. Starkweather inspired , Terrence Malick 's '' Badlands , '' involves a flight to Saskatchewan .\",\n",
              "  'output': 'None',\n",
              "  'base_model': {'response': \" Based on the given sentence, there doesn't seem to be any clear-cut relation that can be extracted using the entities and relation types provided in the list. Therefore, the answer would be: None.\",\n",
              "   'predicted_relations': 'None',\n",
              "   'precision': 1.0,\n",
              "   'recall': 1.0,\n",
              "   'f1': 1.0},\n",
              "  'ft_model': {'response': ' None.',\n",
              "   'predicted_relations': ['None'],\n",
              "   'precision': 1.0,\n",
              "   'recall': 1.0,\n",
              "   'f1': 1.0}},\n",
              " {'input': \"Correction : June 9 , 2007 , Saturday An article in Business Day on May 29 about Russia 's strategy to gain a monopoly in natural gas exports to Asia through Gazprom misstated the percentage of ownership in the Kovykta gas field by TNK-BP , which is being accused by the Kremlin of having failed to meet license requirements .\",\n",
              "  'output': 'None',\n",
              "  'base_model': {'response': \" None.\\nThe given sentence does not provide sufficient information for any relation from the list to be extracted. It mentions entities such as 'Business Day', 'Russia', 'Gazprom', 'Kovykta gas field', 'TNK-BP', and 'May 29'. However, no explicit relationships between these entities are stated in the sentence.\",\n",
              "   'predicted_relations': 'None',\n",
              "   'precision': 1.0,\n",
              "   'recall': 1.0,\n",
              "   'f1': 1.0},\n",
              "  'ft_model': {'response': ' None.',\n",
              "   'predicted_relations': ['None'],\n",
              "   'precision': 1.0,\n",
              "   'recall': 1.0,\n",
              "   'f1': 1.0}},\n",
              " {'input': \"In a telephone interview from Khartoum on Tuesday , as she and a three-member camera crew prepared for a two-hour flight on a small plane into Darfur , Ms. Curry was asked why she had felt compelled to return to Sudan twice since her first visit . ''\",\n",
              "  'output': 'None',\n",
              "  'base_model': {'response': \" Based on the given sentence, there do not seem to be any explicit entities or relationships that can be extracted using the provided relation types. The sentence mentions 'Ms. Curry' who is a person, 'Khartoum' which is a location, and 'Darfur' which is also a location. However, the relation types provided do not include simple 'person-location' or 'location-location' relationships like 'person/place_lived' or 'location/located_in'. Therefore, no relationship triples can be extracted directly from this sentence using the given relation types.\\n\\nNone.\",\n",
              "   'predicted_relations': 'None',\n",
              "   'precision': 1.0,\n",
              "   'recall': 1.0,\n",
              "   'f1': 1.0},\n",
              "  'ft_model': {'response': ' None.',\n",
              "   'predicted_relations': ['None'],\n",
              "   'precision': 1.0,\n",
              "   'recall': 1.0,\n",
              "   'f1': 1.0}},\n",
              " {'input': \"Martina McBride Waking Up Laughing -LRB- RCA\\\\/Sony BMG Nashville -RRB- '' I got pitched every social issue song on the planet . ''\",\n",
              "  'output': 'None',\n",
              "  'base_model': {'response': \" Based on the given sentence, there doesn't seem to be any explicit mention of entities or their relationships according to the provided list. Therefore, no relation triples can be extracted directly from this sentence.\\n\\nNone.\",\n",
              "   'predicted_relations': 'None',\n",
              "   'precision': 1.0,\n",
              "   'recall': 1.0,\n",
              "   'f1': 1.0},\n",
              "  'ft_model': {'response': ' None.',\n",
              "   'predicted_relations': ['None'],\n",
              "   'precision': 1.0,\n",
              "   'recall': 1.0,\n",
              "   'f1': 1.0}},\n",
              " {'input': 'Now that may not be necessary , with Israel and the West embracing the idea of a non-Hamas government , even if its powers are limited to the West Bank .',\n",
              "  'output': 'None',\n",
              "  'base_model': {'response': ' None.\\nIn this sentence, there are no explicit mentions of companies, locations, or people with their relationships as per the provided list. The sentence discusses the ideas and actions related to Israel and the West, but it does not provide sufficient information for extracting any specific entities or relations using the given list.',\n",
              "   'predicted_relations': 'None',\n",
              "   'precision': 1.0,\n",
              "   'recall': 1.0,\n",
              "   'f1': 1.0},\n",
              "  'ft_model': {'response': ' None.',\n",
              "   'predicted_relations': ['None'],\n",
              "   'precision': 1.0,\n",
              "   'recall': 1.0,\n",
              "   'f1': 1.0}},\n",
              " {'input': \"Shortly after he won the Nobel , the Bogotá daily newspaper El Tiempo sent a reporter here , and he described Aracataca as '' a ruined , backward town , without the tiniest attraction . ''\",\n",
              "  'output': 'None',\n",
              "  'base_model': {'response': ' Based on the given sentence, there doesn\\'t seem to be any explicit mention of companies or locations being related to each other or to people. Therefore, no relations from the given list would directly apply to this sentence. However, we can infer that \"here\" refers to Colombia based on context, so we could potentially have the following relation for the person mentioned: (\\'Aracataca\\', /location/country/\\'Colombia\\', /people/person/\\'him\\') for representing the fact that \\'he\\' is from Colombia. But keep in mind that this is not explicitly stated in the sentence and is an inference made based on context. So, the final answer would be: None.',\n",
              "   'predicted_relations': 'None',\n",
              "   'precision': 1.0,\n",
              "   'recall': 1.0,\n",
              "   'f1': 1.0},\n",
              "  'ft_model': {'response': ' None.',\n",
              "   'predicted_relations': ['None'],\n",
              "   'precision': 1.0,\n",
              "   'recall': 1.0,\n",
              "   'f1': 1.0}},\n",
              " {'input': \"The Faculty Senate at Southern Methodist University in Dallas rejected a proposal yesterday for a faculty referendum on plans for an independent policy institute on campus that would accompany President Bush 's future library and museum .\",\n",
              "  'output': 'None',\n",
              "  'base_model': {'response': \" Based on the given sentence, the following relation triple may be extracted:\\n(Entity: 'Faculty Senate at Southern Methodist University', Relation: '/business/organization/meeting', Tail Entity: 'rejected a proposal')\\n(Entity: 'Southern Methodist University in Dallas', Relation: '/location/city', Tail Entity: None)\\n(Entity: 'Southern Methodist University in Dallas', Relation: '/business/educational_institution/campus', Tail Entity: None)\\n(Entity: 'President Bush ', Relation: '/people/person/politician', Tail Entity: None)\\nThere isn't any relation directly mentioned in the sentence between entities related to companies or locations and entities related to countries, deceased persons, or places of birth/living. Therefore, no triples involving those relation types can be derived from this sentence.\",\n",
              "   'predicted_relations': 'None',\n",
              "   'precision': 1.0,\n",
              "   'recall': 1.0,\n",
              "   'f1': 1.0},\n",
              "  'ft_model': {'response': ' None.',\n",
              "   'predicted_relations': ['None'],\n",
              "   'precision': 1.0,\n",
              "   'recall': 1.0,\n",
              "   'f1': 1.0}}]"
            ]
          },
          "metadata": {},
          "execution_count": 23
        }
      ]
    },
    {
      "cell_type": "code",
      "source": [
        "[item['ft_model']['response'] for item in data if item['ft_model']['f1']!=0]"
      ],
      "metadata": {
        "colab": {
          "base_uri": "https://localhost:8080/"
        },
        "id": "mub3QSIrayYH",
        "outputId": "5f54006c-a888-425f-e404-dcba34269239"
      },
      "execution_count": null,
      "outputs": [
        {
          "output_type": "execute_result",
          "data": {
            "text/plain": [
              "[' None.\\nIn the given sentence, there is no triple that can be formed using relations from the list provided.',\n",
              " ' None.',\n",
              " ' None.',\n",
              " ' None.',\n",
              " ' None.',\n",
              " ' None.',\n",
              " ' None.',\n",
              " ' None.',\n",
              " ' None.',\n",
              " ' None.',\n",
              " ' None.',\n",
              " ' None.',\n",
              " ' None.',\n",
              " ' None.',\n",
              " ' None.',\n",
              " ' None.',\n",
              " ' None.',\n",
              " ' None.',\n",
              " ' None.',\n",
              " ' None.',\n",
              " ' None.',\n",
              " ' None.',\n",
              " ' None.']"
            ]
          },
          "metadata": {},
          "execution_count": 22
        }
      ]
    },
    {
      "cell_type": "code",
      "source": [
        "def calculate_average_metrics2(data):\n",
        "    total_precision = 0.0\n",
        "    total_recall = 0.0\n",
        "    total_f1 = 0.0\n",
        "    total_samples = len(data)\n",
        "\n",
        "    for item in data:\n",
        "        total_precision += item['ft_model']['precision']\n",
        "        total_recall += item['ft_model']['recall']\n",
        "        total_f1 += item['ft_model']['f1']\n",
        "\n",
        "    average_precision = total_precision / total_samples\n",
        "    average_recall = total_recall / total_samples\n",
        "    average_f1 = total_f1 / total_samples\n",
        "\n",
        "    return average_precision, average_recall, average_f1\n",
        "\n",
        "# Calculate average metrics\n",
        "avg_precision, avg_recall, avg_f1 = calculate_average_metrics2(data)\n",
        "\n",
        "print(\"Average Precision:\", avg_precision)\n",
        "print(\"Average Recall:\", avg_recall)\n",
        "print(\"Average F1-score:\", avg_f1)\n"
      ],
      "metadata": {
        "colab": {
          "base_uri": "https://localhost:8080/"
        },
        "id": "Q05XVcYD5Q_D",
        "outputId": "47cab0ae-171a-491d-85dd-41a93bc7a618"
      },
      "execution_count": 12,
      "outputs": [
        {
          "output_type": "stream",
          "name": "stdout",
          "text": [
            "Average Precision: 0.23\n",
            "Average Recall: 0.23\n",
            "Average F1-score: 0.23\n"
          ]
        }
      ]
    },
    {
      "cell_type": "code",
      "source": [
        "data[24]['base_model']"
      ],
      "metadata": {
        "colab": {
          "base_uri": "https://localhost:8080/"
        },
        "id": "Q7v21z-SCG3t",
        "outputId": "21034882-0411-4116-b2fb-9923219899c7"
      },
      "execution_count": null,
      "outputs": [
        {
          "output_type": "execute_result",
          "data": {
            "text/plain": [
              "{'response': ' None.\\nIn this sentence, there are no explicit mentions of companies, locations, or people with specified relationships using the provided relation types. The sentence primarily discusses monetary amounts, political actions, and geographical references without specifying entities in a relational context according to the given relation types.',\n",
              " 'predicted_relations': 'None',\n",
              " 'precision': 0.0,\n",
              " 'recall': 0.0,\n",
              " 'f1': 0}"
            ]
          },
          "metadata": {},
          "execution_count": 14
        }
      ]
    },
    {
      "cell_type": "code",
      "source": [
        "data[24]['ft_model']"
      ],
      "metadata": {
        "colab": {
          "base_uri": "https://localhost:8080/"
        },
        "id": "8cyVchLICNsN",
        "outputId": "92b5118c-6286-4335-8309-0836ea809939"
      },
      "execution_count": null,
      "outputs": [
        {
          "output_type": "execute_result",
          "data": {
            "text/plain": [
              "{'response': ' None.',\n",
              " 'predicted_relations': ['None'],\n",
              " 'precision': 0.0,\n",
              " 'recall': 0.0,\n",
              " 'f1': 0}"
            ]
          },
          "metadata": {},
          "execution_count": 27
        }
      ]
    },
    {
      "cell_type": "code",
      "source": [
        "data[0]"
      ],
      "metadata": {
        "colab": {
          "base_uri": "https://localhost:8080/"
        },
        "id": "Hf7AlxAtCm-e",
        "outputId": "4396021d-8ad7-45a2-9aaf-452c13ccf665"
      },
      "execution_count": null,
      "outputs": [
        {
          "output_type": "execute_result",
          "data": {
            "text/plain": [
              "{'input': '-LRB- AP -RRB- WEST VIRGINIA 67 , VILLANOVA 56 -- Frank Young scored a career-high 25 points , including eight 3-pointers , for No. 25 West Virginia -LRB- 12-1 , 2-0 -RRB- in a Big East game .',\n",
              " 'output': \"('Frank Young', '/people/person/place_lived', 'West Virginia')\",\n",
              " 'base_model': {'response': \" Based on the given sentence, there do not seem to be any explicit relations mentioned that can be directly extracted using the provided list. The sentence primarily describes an event (a basketball game) involving entities 'West Virginia' and 'Villanova'. However, no specific relations between these entities or other mentioned entities ('Frank Young') are explicitly stated in the sentence. Therefore, the answer would be: None.\",\n",
              "  'predicted_relations': 'None',\n",
              "  'precision': 0.0,\n",
              "  'recall': 0.0,\n",
              "  'f1': 0},\n",
              " 'ft_model': {'response': \" Based on the given sentence, there do not seem to be any explicit relations mentioned that can be directly extracted using the provided list. The sentence primarily describes an event (a basketball game) involving entities 'West Virginia' and 'Villanova'. However, no specific relations between these entities or other mentioned entities ('Frank Young') are explicitly stated in the sentence. Therefore, the answer would be: None.\",\n",
              "  'predicted_relations': 'None',\n",
              "  'precision': 0.0,\n",
              "  'recall': 0.0,\n",
              "  'f1': 0}}"
            ]
          },
          "metadata": {},
          "execution_count": 36
        }
      ]
    },
    {
      "cell_type": "markdown",
      "source": [
        "https://huggingface.co/docs/transformers/en/llm_tutorial\n",
        "\n",
        "### common pitfalls\n",
        "\n",
        "Wrong padding side\n",
        "\n",
        "LLMs are decoder-only architectures, meaning they continue to iterate on your input prompt. If your inputs do not have the same length, they need to be padded. Since LLMs are not trained to continue from pad tokens, your input needs to be left-padded. Make sure you also don’t forget to pass the attention mask to generate!\n",
        "\n",
        "\n"
      ],
      "metadata": {
        "id": "NbZl2xq8icRZ"
      }
    },
    {
      "cell_type": "code",
      "source": [
        "32^0.5"
      ],
      "metadata": {
        "colab": {
          "base_uri": "https://localhost:8080/",
          "height": 141
        },
        "id": "HNT1EgfUIRCV",
        "outputId": "444d1493-d6bc-4ad8-f5a9-08b1597a5467"
      },
      "execution_count": 11,
      "outputs": [
        {
          "output_type": "error",
          "ename": "TypeError",
          "evalue": "unsupported operand type(s) for ^: 'int' and 'float'",
          "traceback": [
            "\u001b[0;31m---------------------------------------------------------------------------\u001b[0m",
            "\u001b[0;31mTypeError\u001b[0m                                 Traceback (most recent call last)",
            "\u001b[0;32m<ipython-input-11-73f535772828>\u001b[0m in \u001b[0;36m<cell line: 1>\u001b[0;34m()\u001b[0m\n\u001b[0;32m----> 1\u001b[0;31m \u001b[0;36m32\u001b[0m\u001b[0;34m^\u001b[0m\u001b[0;36m0.5\u001b[0m\u001b[0;34m\u001b[0m\u001b[0;34m\u001b[0m\u001b[0m\n\u001b[0m",
            "\u001b[0;31mTypeError\u001b[0m: unsupported operand type(s) for ^: 'int' and 'float'"
          ]
        }
      ]
    },
    {
      "cell_type": "code",
      "source": [
        "\n",
        "[ x['ft_model']['response'] for x in data]"
      ],
      "metadata": {
        "id": "zlVbVqe7C_BN",
        "colab": {
          "base_uri": "https://localhost:8080/"
        },
        "outputId": "69cb1bb9-d4b1-443d-f7b9-76db6ef6201f"
      },
      "execution_count": 10,
      "outputs": [
        {
          "output_type": "execute_result",
          "data": {
            "text/plain": [
              "[' None.',\n",
              " ' None.',\n",
              " ' None.',\n",
              " \" None.\\nHere are some possible relation triples that could have been in the given sentence:\\n(Garden State Plaza ', /location/located_in , Paramus )\\n(Paramus ', /location/administrative_division/country , United States )\\n(Westfield Garden State Plaza ', /business/location , Paramus )\\n(Westfield Garden State Plaza ', /business/company/advisors , 20 million )\",\n",
              " ' None.',\n",
              " ' None.',\n",
              " ' None.\\nHere are some correct triples that could be derived from the given sentence:\\nNone.\\nIn the given sentence, there are no entities and no relationships between entities. The sentence discusses people but does not provide enough information to identify specific entities (e.g., which Peter Chernin or which Ron Meyer ). Therefore, no triples can be extracted from this sentence.',\n",
              " ' None.',\n",
              " ' None.',\n",
              " ' None.',\n",
              " ' None.',\n",
              " ' None.',\n",
              " ' None.',\n",
              " ' None.',\n",
              " ' None.',\n",
              " ' None.',\n",
              " ' None.',\n",
              " ' None.',\n",
              " ' None.',\n",
              " ' None.',\n",
              " ' None.',\n",
              " ' None.',\n",
              " ' None.',\n",
              " ' None.',\n",
              " ' None.',\n",
              " ' None.',\n",
              " ' None.',\n",
              " ' None.',\n",
              " ' None.',\n",
              " ' None.',\n",
              " ' None.',\n",
              " ' None.',\n",
              " ' None.',\n",
              " ' None.',\n",
              " ' None.',\n",
              " ' None.',\n",
              " ' None.',\n",
              " ' None.',\n",
              " ' None.',\n",
              " ' None.',\n",
              " ' None.',\n",
              " ' None.',\n",
              " ' None.',\n",
              " ' None.',\n",
              " ' None.',\n",
              " ' None.',\n",
              " ' None.',\n",
              " ' None.',\n",
              " ' None.',\n",
              " ' None.',\n",
              " ' None.',\n",
              " ' None.',\n",
              " ' None.',\n",
              " ' None.',\n",
              " ' None.',\n",
              " ' None.',\n",
              " ' None.',\n",
              " ' None.',\n",
              " ' None.',\n",
              " ' None.',\n",
              " ' None.',\n",
              " ' None.',\n",
              " ' None.',\n",
              " ' None.',\n",
              " ' None.',\n",
              " ' None.',\n",
              " ' None.',\n",
              " ' None.',\n",
              " ' None.',\n",
              " ' None.',\n",
              " ' None.',\n",
              " ' None.',\n",
              " ' None.',\n",
              " ' None.',\n",
              " ' None.',\n",
              " ' None.',\n",
              " ' None.',\n",
              " ' None.',\n",
              " ' None.',\n",
              " ' None.',\n",
              " ' None.',\n",
              " ' None.',\n",
              " ' None.',\n",
              " ' None.',\n",
              " ' None.',\n",
              " ' None.',\n",
              " ' None.',\n",
              " ' None.',\n",
              " ' None.',\n",
              " ' None.',\n",
              " ' None.',\n",
              " ' None.',\n",
              " ' None.',\n",
              " ' None.',\n",
              " ' None.',\n",
              " ' None.',\n",
              " ' None.',\n",
              " ' None.',\n",
              " ' None.',\n",
              " ' None.']"
            ]
          },
          "metadata": {},
          "execution_count": 10
        }
      ]
    },
    {
      "cell_type": "code",
      "source": [],
      "metadata": {
        "id": "fKt1A-ODa_nh"
      },
      "execution_count": null,
      "outputs": []
    }
  ]
}