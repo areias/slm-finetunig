{
  "cells": [
    {
      "cell_type": "markdown",
      "metadata": {
        "id": "view-in-github",
        "colab_type": "text"
      },
      "source": [
        "<a href=\"https://colab.research.google.com/github/areias/slm-finetunig/blob/main/fine_tune_mistral_NER.ipynb\" target=\"_parent\"><img src=\"https://colab.research.google.com/assets/colab-badge.svg\" alt=\"Open In Colab\"/></a>"
      ]
    },
    {
      "cell_type": "markdown",
      "metadata": {
        "id": "tAxYNvmCcB5D"
      },
      "source": [
        "# Fine-tuning Mistral instruct with QLoRA for Named Entity Recognition (NER)"
      ]
    },
    {
      "cell_type": "markdown",
      "metadata": {
        "id": "9qZ8Kja8L5ni"
      },
      "source": [
        "## Load and preprocess data"
      ]
    },
    {
      "cell_type": "code",
      "execution_count": null,
      "metadata": {
        "colab": {
          "base_uri": "https://localhost:8080/"
        },
        "id": "Dx5Q3_wiT3jN",
        "outputId": "2904d6c3-4415-495a-fc78-3aa255b51343"
      },
      "outputs": [
        {
          "name": "stdout",
          "output_type": "stream",
          "text": [
            "Mounted at /content/drive\n"
          ]
        }
      ],
      "source": [
        "from google.colab import drive\n",
        "drive.mount('/content/drive')\n"
      ]
    },
    {
      "cell_type": "code",
      "execution_count": null,
      "metadata": {
        "id": "87vmqXUyEdjk"
      },
      "outputs": [],
      "source": [
        "import sys\n",
        "sys.path.append('drive/My Drive/mistral-finetune/')"
      ]
    },
    {
      "cell_type": "code",
      "execution_count": 1,
      "metadata": {
        "colab": {
          "base_uri": "https://localhost:8080/"
        },
        "id": "60ku-g1qQyeq",
        "outputId": "1a7c4524-b63e-4e46-b11c-69c90ac833d9"
      },
      "outputs": [
        {
          "output_type": "stream",
          "name": "stdout",
          "text": [
            "\u001b[2K     \u001b[90m━━━━━━━━━━━━━━━━━━━━━━━━━━━━━━━━━━━━━━━━\u001b[0m \u001b[32m510.5/510.5 kB\u001b[0m \u001b[31m3.2 MB/s\u001b[0m eta \u001b[36m0:00:00\u001b[0m\n",
            "\u001b[2K     \u001b[90m━━━━━━━━━━━━━━━━━━━━━━━━━━━━━━━━━━━━━━━━\u001b[0m \u001b[32m116.3/116.3 kB\u001b[0m \u001b[31m4.7 MB/s\u001b[0m eta \u001b[36m0:00:00\u001b[0m\n",
            "\u001b[2K     \u001b[90m━━━━━━━━━━━━━━━━━━━━━━━━━━━━━━━━━━━━━━━━\u001b[0m \u001b[32m194.1/194.1 kB\u001b[0m \u001b[31m5.3 MB/s\u001b[0m eta \u001b[36m0:00:00\u001b[0m\n",
            "\u001b[2K     \u001b[90m━━━━━━━━━━━━━━━━━━━━━━━━━━━━━━━━━━━━━━━━\u001b[0m \u001b[32m134.8/134.8 kB\u001b[0m \u001b[31m4.3 MB/s\u001b[0m eta \u001b[36m0:00:00\u001b[0m\n",
            "\u001b[?25h"
          ]
        }
      ],
      "source": [
        "pip install -q datasets"
      ]
    },
    {
      "cell_type": "markdown",
      "source": [
        "See details about dataset https://huggingface.co/datasets/conll2003\n"
      ],
      "metadata": {
        "id": "_i26NlyAd1Mw"
      }
    },
    {
      "cell_type": "code",
      "execution_count": 2,
      "metadata": {
        "id": "AqKhJfKgKF5V",
        "colab": {
          "base_uri": "https://localhost:8080/",
          "height": 333,
          "referenced_widgets": [
            "838cf694a3d84ea3a9fdaadbc5ae52ae",
            "538d86328fbb44858f91ac3b64818fab",
            "df96831e46b147b38d4a7a81d107ec01",
            "811fe675880f4d3bab7857984067a6f8",
            "3075a65909ca48e3a8c1829ac5391e2c",
            "a662073db4b846d7a0c7ed92818b742d",
            "f0c6bb405cd34d438cca987cb171aee4",
            "c514834585c34d7fa79a7cde6399021d",
            "b7862382cd7c420e97e611ecafe40486",
            "b16479defa774cc3a12dd82582fca609",
            "40d62274d47145d099bc27c83897c6ff",
            "a61045a20d964d5184da5939c7809680",
            "ced8b3f7d1e24b4cb052c5dff4859610",
            "882482631fad4545bbcd84b6b1ac497e",
            "32f21f16bfaf46a7b64f5bf67c5a8a1d",
            "aebd7499d42e4f6f80fda6f0e77987e9",
            "9ef28563dd6842cb904ceefa68688895",
            "8f84183f322e487bad4e8b45f415ae21",
            "b3b3814a42f34eed950b3b9c5f8c97c4",
            "4b63b8c8511f406f8c787e72c205b208",
            "9085f412fc3a4177910d92f244a9a8fc",
            "282bbad1d83b42e28c1f893673597f49",
            "f2da8c3d8be843bb807d93b0a0edd85c",
            "fde44a37f63542be8bf339abe1f5dc18",
            "284951321d264e8187834c3d5d89b351",
            "2fa46302d3874d38bc3357f7eae4d4ee",
            "418a6c4c18784b7490cd2bc88b8a9cbe",
            "81683c17cee2459eb5405dcbd87c0a10",
            "5bdef548941040c098a20e1621b11574",
            "e6eaa698bc1a4ad2afcf5c657dc3c606",
            "863dd9fb70174e43b1c8395c88179791",
            "7773c270dd9848ba8246bf993c17bc71",
            "f9742d5eeb194d6f87479228a4aeea84",
            "36438a6c36494afeb8fddecfc957be3f",
            "6e2dbf2b8bbf4010b2dbab854e9f92e7",
            "b2d458bb789c40869e724fb9efa4ec7c",
            "703e1ef80bf949048527e3fb9b81883b",
            "e9a7a65bf2434323a181361aaef914ec",
            "6ba538b22ab74777a9418d8c7c657eae",
            "32104ad6298346e7a695753092b07fac",
            "50911ec4d5b942dca4ce90557ff7a999",
            "bd3ebc726b3d40bcb700c20545de2618",
            "141f774db3464c7494e1c819ab8466aa",
            "92f66bbce42541e3aae48a58ded6d013",
            "b41b2fc8a89f4433ab86a6401fb30950",
            "3a4d0bd386f24824914594ec6d3b22d3",
            "43b89e33b102442ba8f642bc391ee22f",
            "5e4b986ffefc40bfa9c4390c922b0706",
            "ef8bf6cec0954f709e83458dd31a9653",
            "7fe4570a86dc450082398c4dac562450",
            "bb2fdfc5aec94a7fb7a8a74ec0360f84",
            "431e70bf3a5b4cd3b6a6d9f97698a67c",
            "f8537095b56744a988642b9f086b4be6",
            "52b40d2182c34604aac7e60a1a29ded5",
            "c5231331b99e4c4e8b96b61507142ebe",
            "cb526db9a58b4c18b138c826b765c983",
            "4423a5658de14c63b403d39636e1b452",
            "7b4f414bf37345d78e42663fe9ecbf5d",
            "e0f78e8ac27c466f9d46102e22a4246e",
            "97c7d7e44d1543d8a08f5092adff666f",
            "1461ada8ffc249919fc386e8f927c9ae",
            "fea3263516db43e3a1caa8ff135ccf2e",
            "ea155591831f42c098bc18c234e132b0",
            "a69be7a142294d70ba96c21695be944c",
            "d3d21c59c6544204af8eb9c829f42d69",
            "0809161a39cc457393735f0896ef1a7b"
          ]
        },
        "outputId": "ac6cbc24-4ef3-4030-dc50-aca2dd889b84"
      },
      "outputs": [
        {
          "output_type": "stream",
          "name": "stderr",
          "text": [
            "/usr/local/lib/python3.10/dist-packages/huggingface_hub/utils/_token.py:88: UserWarning: \n",
            "The secret `HF_TOKEN` does not exist in your Colab secrets.\n",
            "To authenticate with the Hugging Face Hub, create a token in your settings tab (https://huggingface.co/settings/tokens), set it as secret in your Google Colab and restart your session.\n",
            "You will be able to reuse this secret in all of your notebooks.\n",
            "Please note that authentication is recommended but still optional to access public models or datasets.\n",
            "  warnings.warn(\n"
          ]
        },
        {
          "output_type": "display_data",
          "data": {
            "text/plain": [
              "Downloading data:   0%|          | 0.00/1.23M [00:00<?, ?B/s]"
            ],
            "application/vnd.jupyter.widget-view+json": {
              "version_major": 2,
              "version_minor": 0,
              "model_id": "838cf694a3d84ea3a9fdaadbc5ae52ae"
            }
          },
          "metadata": {}
        },
        {
          "output_type": "display_data",
          "data": {
            "text/plain": [
              "Downloading data:   0%|          | 0.00/312k [00:00<?, ?B/s]"
            ],
            "application/vnd.jupyter.widget-view+json": {
              "version_major": 2,
              "version_minor": 0,
              "model_id": "a61045a20d964d5184da5939c7809680"
            }
          },
          "metadata": {}
        },
        {
          "output_type": "display_data",
          "data": {
            "text/plain": [
              "Downloading data:   0%|          | 0.00/283k [00:00<?, ?B/s]"
            ],
            "application/vnd.jupyter.widget-view+json": {
              "version_major": 2,
              "version_minor": 0,
              "model_id": "f2da8c3d8be843bb807d93b0a0edd85c"
            }
          },
          "metadata": {}
        },
        {
          "output_type": "display_data",
          "data": {
            "text/plain": [
              "Generating train split:   0%|          | 0/14041 [00:00<?, ? examples/s]"
            ],
            "application/vnd.jupyter.widget-view+json": {
              "version_major": 2,
              "version_minor": 0,
              "model_id": "36438a6c36494afeb8fddecfc957be3f"
            }
          },
          "metadata": {}
        },
        {
          "output_type": "display_data",
          "data": {
            "text/plain": [
              "Generating validation split:   0%|          | 0/3250 [00:00<?, ? examples/s]"
            ],
            "application/vnd.jupyter.widget-view+json": {
              "version_major": 2,
              "version_minor": 0,
              "model_id": "b41b2fc8a89f4433ab86a6401fb30950"
            }
          },
          "metadata": {}
        },
        {
          "output_type": "display_data",
          "data": {
            "text/plain": [
              "Generating test split:   0%|          | 0/3453 [00:00<?, ? examples/s]"
            ],
            "application/vnd.jupyter.widget-view+json": {
              "version_major": 2,
              "version_minor": 0,
              "model_id": "cb526db9a58b4c18b138c826b765c983"
            }
          },
          "metadata": {}
        }
      ],
      "source": [
        "from datasets import load_dataset\n",
        "\n",
        "dataset = load_dataset(\"conll2003\")"
      ]
    },
    {
      "cell_type": "code",
      "execution_count": 3,
      "metadata": {
        "colab": {
          "base_uri": "https://localhost:8080/"
        },
        "id": "_Kvnwqpuz8kh",
        "outputId": "bf28261f-a157-4cad-fd8b-bb3f1bdde399"
      },
      "outputs": [
        {
          "output_type": "execute_result",
          "data": {
            "text/plain": [
              "DatasetDict({\n",
              "    train: Dataset({\n",
              "        features: ['id', 'tokens', 'pos_tags', 'chunk_tags', 'ner_tags'],\n",
              "        num_rows: 14041\n",
              "    })\n",
              "    validation: Dataset({\n",
              "        features: ['id', 'tokens', 'pos_tags', 'chunk_tags', 'ner_tags'],\n",
              "        num_rows: 3250\n",
              "    })\n",
              "    test: Dataset({\n",
              "        features: ['id', 'tokens', 'pos_tags', 'chunk_tags', 'ner_tags'],\n",
              "        num_rows: 3453\n",
              "    })\n",
              "})"
            ]
          },
          "metadata": {},
          "execution_count": 3
        }
      ],
      "source": [
        "dataset"
      ]
    },
    {
      "cell_type": "code",
      "execution_count": 4,
      "metadata": {
        "colab": {
          "base_uri": "https://localhost:8080/"
        },
        "id": "Q5VPkbNzQ0zO",
        "outputId": "71e9215b-5701-4a35-ce18-7d4b61996c94"
      },
      "outputs": [
        {
          "output_type": "execute_result",
          "data": {
            "text/plain": [
              "['EU', 'rejects', 'German', 'call', 'to', 'boycott', 'British', 'lamb', '.']"
            ]
          },
          "metadata": {},
          "execution_count": 4
        }
      ],
      "source": [
        "dataset['train'][0]['tokens']"
      ]
    },
    {
      "cell_type": "code",
      "execution_count": 5,
      "metadata": {
        "id": "rXkJt-r7Q-Uq"
      },
      "outputs": [],
      "source": [
        "ner_tags= {'O': 0, 'B-PER': 1, 'I-PER': 2, 'B-ORG': 3, 'I-ORG': 4, 'B-LOC': 5, 'I-LOC': 6, 'B-MISC': 7, 'I-MISC': 8}"
      ]
    },
    {
      "cell_type": "code",
      "execution_count": 6,
      "metadata": {
        "colab": {
          "base_uri": "https://localhost:8080/"
        },
        "id": "8KJglNRPSxob",
        "outputId": "d63eb8ad-3395-48f3-b4d4-192bc1aa6f65"
      },
      "outputs": [
        {
          "output_type": "stream",
          "name": "stdout",
          "text": [
            "{0: 'O', 1: 'B-PER', 2: 'I-PER', 3: 'B-ORG', 4: 'I-ORG', 5: 'B-LOC', 6: 'I-LOC', 7: 'B-MISC', 8: 'I-MISC'}\n"
          ]
        }
      ],
      "source": [
        "# Swap keys and values using dictionary comprehension\n",
        "swapped_dict = {v: k for k, v in ner_tags.items()}\n",
        "\n",
        "# Print the swapped dictionary\n",
        "print(swapped_dict)"
      ]
    },
    {
      "cell_type": "code",
      "execution_count": 7,
      "metadata": {
        "colab": {
          "base_uri": "https://localhost:8080/"
        },
        "id": "ytVcqdm9RU2G",
        "outputId": "86293539-8f1b-4528-c3e0-99efc27b7bbb"
      },
      "outputs": [
        {
          "output_type": "execute_result",
          "data": {
            "text/plain": [
              "['B-ORG', 'O', 'B-MISC', 'O', 'O', 'O', 'B-MISC', 'O', 'O']"
            ]
          },
          "metadata": {},
          "execution_count": 7
        }
      ],
      "source": [
        "[swapped_dict[x] for x in dataset['train'][0]['ner_tags']]"
      ]
    },
    {
      "cell_type": "code",
      "execution_count": 8,
      "metadata": {
        "colab": {
          "base_uri": "https://localhost:8080/"
        },
        "id": "r6nLNBQmgwts",
        "outputId": "bad657bf-e3dd-48e6-aa10-c3d8b78b4b3d"
      },
      "outputs": [
        {
          "output_type": "execute_result",
          "data": {
            "text/plain": [
              "{'id': '0',\n",
              " 'tokens': ['EU',\n",
              "  'rejects',\n",
              "  'German',\n",
              "  'call',\n",
              "  'to',\n",
              "  'boycott',\n",
              "  'British',\n",
              "  'lamb',\n",
              "  '.'],\n",
              " 'pos_tags': [22, 42, 16, 21, 35, 37, 16, 21, 7],\n",
              " 'chunk_tags': [11, 21, 11, 12, 21, 22, 11, 12, 0],\n",
              " 'ner_tags': [3, 0, 7, 0, 0, 0, 7, 0, 0]}"
            ]
          },
          "metadata": {},
          "execution_count": 8
        }
      ],
      "source": [
        "dataset['train'][0]"
      ]
    },
    {
      "cell_type": "code",
      "execution_count": 9,
      "metadata": {
        "id": "vIZ0mCb7FFTS"
      },
      "outputs": [],
      "source": [
        "def label_tokens(entry):\n",
        "    entry['ner_labels'] = [swapped_dict[x] for x in entry['ner_tags']]\n",
        "    return entry\n"
      ]
    },
    {
      "cell_type": "code",
      "execution_count": 10,
      "metadata": {
        "id": "zRdDwzVO0Kuh",
        "colab": {
          "base_uri": "https://localhost:8080/",
          "height": 113,
          "referenced_widgets": [
            "6a5bd569666f4206821e66d48fc23ccb",
            "18d4fc4d0bea48109a2fe8361fa369a0",
            "cd8dce8104764d24aed4b0e540af3b7d",
            "dc370843edc24f3080f938d3a205aeed",
            "f8405f21709a49dd864e405a01360af1",
            "81d69d52b0044d4ebc490662518e25d9",
            "1901991835d345e89e31d7439c5b269e",
            "270013ccb355481e9ce4fd0dda81ca4d",
            "604a936744aa43b88c823b2adeb9dcc8",
            "e984c6528c5642728db268645434bcce",
            "1fe5ed1b8d3e411685b79fd519512c30",
            "537e4d808adc4725aa41e7fbe5e17b54",
            "6eb96915b0b6405ba8cef8e9984724d7",
            "a303a4e90f9847728c74c913d02f7964",
            "8b1373476c1e4bebae0a6c1587ea29e6",
            "d5b6e52fe5b34e6b944e78d8d4fd2c11",
            "54a523d7baa5477095c592865a7f840f",
            "77227b95539f474d9b3de4f23ee1e03d",
            "7d0460549f9449e2a16c5e8b6100101d",
            "f5c2fb3b4e5f437eba824b7e5d121b6f",
            "2e7028b71b014637a97b84641e4d34c9",
            "33a6661021a14ec2929c8d1bab43b0ea",
            "13315560c513474faa034292d6401ed6",
            "7e1952f36a3e43298a7dcc70344ca7b2",
            "9a9b5f9889614b69948e373919205461",
            "767ee7033d4e4095a88f19d078d0a055",
            "3e2980f3d81d465188254feba578d999",
            "1bfd87cd225d41738e0d94be49f10c04",
            "7d60c64f1f8d41ac8f91b9d8d331e47c",
            "e3a5d0ea7b194c76a66a50adefbfe870",
            "9ec168f724b241489082cdbbe14c9bf4",
            "134f784cb89341f583907bb9577cbe10",
            "33cbceccf7e04d3f8af625caf13b7d04"
          ]
        },
        "outputId": "25b952e3-4ca6-4ef0-963c-e42237526740"
      },
      "outputs": [
        {
          "output_type": "display_data",
          "data": {
            "text/plain": [
              "Map:   0%|          | 0/14041 [00:00<?, ? examples/s]"
            ],
            "application/vnd.jupyter.widget-view+json": {
              "version_major": 2,
              "version_minor": 0,
              "model_id": "6a5bd569666f4206821e66d48fc23ccb"
            }
          },
          "metadata": {}
        },
        {
          "output_type": "display_data",
          "data": {
            "text/plain": [
              "Map:   0%|          | 0/3453 [00:00<?, ? examples/s]"
            ],
            "application/vnd.jupyter.widget-view+json": {
              "version_major": 2,
              "version_minor": 0,
              "model_id": "537e4d808adc4725aa41e7fbe5e17b54"
            }
          },
          "metadata": {}
        },
        {
          "output_type": "display_data",
          "data": {
            "text/plain": [
              "Map:   0%|          | 0/3250 [00:00<?, ? examples/s]"
            ],
            "application/vnd.jupyter.widget-view+json": {
              "version_major": 2,
              "version_minor": 0,
              "model_id": "13315560c513474faa034292d6401ed6"
            }
          },
          "metadata": {}
        }
      ],
      "source": [
        "dataset['train'] = dataset[\"train\"].map(label_tokens)\n",
        "dataset['test'] = dataset[\"test\"].map(label_tokens)\n",
        "dataset['validation'] = dataset[\"validation\"].map(label_tokens)\n"
      ]
    },
    {
      "cell_type": "code",
      "execution_count": 11,
      "metadata": {
        "id": "9CnTAQefTWiC",
        "colab": {
          "base_uri": "https://localhost:8080/",
          "height": 113,
          "referenced_widgets": [
            "e7598d2c4ade4e2784f1486018d98cda",
            "7062ddd4c3c34c938abbccb7cda55d87",
            "c8af198f85da4018b48797eccece8f0d",
            "aa56ace7f0fa4dbaaec61abe7081b4bb",
            "c8f62f3fe62d4620b0476a284ee25296",
            "a4c53e1a7a7e434eac51a2b1b2dd0311",
            "7b7ee339d00e4163a9f2f4920913ce9c",
            "282b7751e5f14244b861215b7c97bdce",
            "f6f8e41b8e174b9aa641a59bfc401c91",
            "379ce748f3184743ae9c5d3ab797ec68",
            "4a55d56730f64ff78101a58e5c0c18e8",
            "a1262f30448947ad93d6673364a9a581",
            "4c77ce7bbf134f1ca8dc35d6b3b89232",
            "6b45e923bde74f0996e00035acda0a53",
            "d5681bf86a044df4a413fd08b6bc10f6",
            "3c16ecbeea6648d8bb051d70e16cda39",
            "1c93fe41ec7249cb8578f2bc65f1c9cd",
            "14102b874562428883ee48b68a10d891",
            "c7e64a5a50784843a5b6e31d3d4da2c2",
            "bdd76be54b5949a2bcd659b2d2868505",
            "0aa4bfe2e339460cb1e9c765febcafab",
            "a229044b5bc2425db75de60018c68492",
            "2b6d49ab56c040e6979c1f6e10328d9b",
            "97b8fce0313845d4bbfbaa20444fd0d1",
            "cb58fce9eaa64610a307c6494143303c",
            "58f52b7801a54db19fd616d2a35c00a2",
            "245c6084d0a0429c8b59a72d89530a94",
            "f8a70b037da847f39feb0936673b864c",
            "c9612eff04974c6c9c3a2fe58d00ddc3",
            "618c79d18a35424b9d96520c237cde11",
            "08ac9e76d56f433c876fd209b69845ee",
            "ea14585da3b243739d14012a60905dc7",
            "bd3c5262d8224efc829d4cff0e736c44"
          ]
        },
        "outputId": "e031ea18-54e8-4f04-c3bc-3813df8add1e"
      },
      "outputs": [
        {
          "output_type": "display_data",
          "data": {
            "text/plain": [
              "Map:   0%|          | 0/14041 [00:00<?, ? examples/s]"
            ],
            "application/vnd.jupyter.widget-view+json": {
              "version_major": 2,
              "version_minor": 0,
              "model_id": "e7598d2c4ade4e2784f1486018d98cda"
            }
          },
          "metadata": {}
        },
        {
          "output_type": "display_data",
          "data": {
            "text/plain": [
              "Map:   0%|          | 0/3453 [00:00<?, ? examples/s]"
            ],
            "application/vnd.jupyter.widget-view+json": {
              "version_major": 2,
              "version_minor": 0,
              "model_id": "a1262f30448947ad93d6673364a9a581"
            }
          },
          "metadata": {}
        },
        {
          "output_type": "display_data",
          "data": {
            "text/plain": [
              "Map:   0%|          | 0/3250 [00:00<?, ? examples/s]"
            ],
            "application/vnd.jupyter.widget-view+json": {
              "version_major": 2,
              "version_minor": 0,
              "model_id": "2b6d49ab56c040e6979c1f6e10328d9b"
            }
          },
          "metadata": {}
        }
      ],
      "source": [
        "def tokens_to_sentence(entry):\n",
        "    entry['sentence'] = ' '.join(entry['tokens'])\n",
        "    return entry\n",
        "\n",
        "dataset['train'] = dataset[\"train\"].map(tokens_to_sentence)\n",
        "dataset['test'] = dataset[\"test\"].map(tokens_to_sentence)\n",
        "dataset['validation'] = dataset[\"validation\"].map(tokens_to_sentence)\n"
      ]
    },
    {
      "cell_type": "code",
      "execution_count": 12,
      "metadata": {
        "id": "DqSOe3NuEwkP",
        "colab": {
          "base_uri": "https://localhost:8080/",
          "height": 113,
          "referenced_widgets": [
            "1e1b17372b624def821b12cfd78eccf1",
            "88c68f839cef4e0ebcfdbb89005dffed",
            "04e147f472034c67aea41781902eac7f",
            "b0c1b14e2a1f4c9c9a84b5054694c495",
            "cd6fdd107a1a4b9c87e32f07f808a129",
            "63087a950c9344e6bd8cfba738b9ec7c",
            "03d2fb24fb424526999dc938d83edef5",
            "42c889e5be0043e7bc704996f79334e8",
            "4a1c8e255bd74a65ba17c96831f10129",
            "8c31fc70fc9f4bc0a3497f04f971cc12",
            "9915b66ddb6b4c99b50a39f48a109018",
            "7cb973bbeffb4fb2a7a5fbf380bd4948",
            "d9eacdf2878a47f684e68ed0c3eb0bd4",
            "c8a034f0066544e3bf07e31f230b4a68",
            "0fb681220821421395f615fc4c1f6a19",
            "0a2d1c004eaf4d168ccc51bb9917acc1",
            "29e172bad7624fad9a4a0083400de649",
            "d77ff882406a4049a0220b1b6fa34e4f",
            "f06e560d33ee4a2ea4b829351bd589f2",
            "060ea086931b4fa5b6574e1606b27f53",
            "571a2f2c2b3b4f1490c583a7f207400c",
            "031322a941824bfb823451cbf41919a8",
            "8244d074a731453bb8e071b0cfb9ca0e",
            "99e37fed0716400c971e391740ad3316",
            "417c367c4cc945a5a291123bb0431776",
            "b16cddc59b0a4334aa893852e16ce64d",
            "5da8f3e450ee4dcdb7c5a2476d07e71e",
            "b6983f0cd2fe46fca137e0b33d0f86ba",
            "9e14cc700e7e4c32bb16e5612cc715e7",
            "c03646bc87654f299b19f61d6074cbe5",
            "807094e84b03438c94da451788b06a38",
            "7f6aae0026134c79994bc6664cf928f4",
            "4519c6365fa949f9aa9d46702b0178ed"
          ]
        },
        "outputId": "b4b83f4e-2540-4997-9590-2a57c7a98861"
      },
      "outputs": [
        {
          "output_type": "display_data",
          "data": {
            "text/plain": [
              "Map:   0%|          | 0/14041 [00:00<?, ? examples/s]"
            ],
            "application/vnd.jupyter.widget-view+json": {
              "version_major": 2,
              "version_minor": 0,
              "model_id": "1e1b17372b624def821b12cfd78eccf1"
            }
          },
          "metadata": {}
        },
        {
          "output_type": "display_data",
          "data": {
            "text/plain": [
              "Map:   0%|          | 0/3453 [00:00<?, ? examples/s]"
            ],
            "application/vnd.jupyter.widget-view+json": {
              "version_major": 2,
              "version_minor": 0,
              "model_id": "7cb973bbeffb4fb2a7a5fbf380bd4948"
            }
          },
          "metadata": {}
        },
        {
          "output_type": "display_data",
          "data": {
            "text/plain": [
              "Map:   0%|          | 0/3250 [00:00<?, ? examples/s]"
            ],
            "application/vnd.jupyter.widget-view+json": {
              "version_major": 2,
              "version_minor": 0,
              "model_id": "8244d074a731453bb8e071b0cfb9ca0e"
            }
          },
          "metadata": {}
        }
      ],
      "source": [
        "def extract_entities(entry):\n",
        "    entities = {'PER': [], 'ORG': [], 'LOC': [], 'MISC': []}\n",
        "    current_entity = {\"type\": None, \"words\": []}\n",
        "    for word, label in zip(entry['sentence'].split(), entry['ner_labels']):\n",
        "        if label.startswith('B-'):\n",
        "            entity_type = label.split('-')[1]\n",
        "            if current_entity[\"type\"] == entity_type:\n",
        "                entities[entity_type].append(' '.join(current_entity[\"words\"]))\n",
        "                current_entity[\"words\"] = [word]\n",
        "            else:\n",
        "                if current_entity[\"type\"] is not None:\n",
        "                    entities[current_entity[\"type\"]].append(' '.join(current_entity[\"words\"]))\n",
        "                current_entity = {\"type\": entity_type, \"words\": [word]}\n",
        "        elif label.startswith('I-'):\n",
        "            if current_entity[\"type\"] is not None:\n",
        "                current_entity[\"words\"].append(word)\n",
        "        else:\n",
        "            if current_entity[\"type\"] is not None:\n",
        "                entities[current_entity[\"type\"]].append(' '.join(current_entity[\"words\"]))\n",
        "            current_entity = {\"type\": None, \"words\": []}\n",
        "    if current_entity[\"type\"] is not None:\n",
        "        entities[current_entity[\"type\"]].append(' '.join(current_entity[\"words\"]))\n",
        "\n",
        "    entry['entities'] = entities\n",
        "    return entry\n",
        "\n",
        "# Extract entities\n",
        "dataset['train'] = dataset[\"train\"].map(extract_entities)\n",
        "dataset['test'] = dataset[\"test\"].map(extract_entities)\n",
        "dataset['validation'] = dataset[\"validation\"].map(extract_entities)\n",
        "\n"
      ]
    },
    {
      "cell_type": "code",
      "execution_count": 13,
      "metadata": {
        "colab": {
          "base_uri": "https://localhost:8080/"
        },
        "id": "eBtvtxAghono",
        "outputId": "db14c186-79c5-4b05-b9f1-88eb8fa3064e"
      },
      "outputs": [
        {
          "output_type": "execute_result",
          "data": {
            "text/plain": [
              "('Spanish Farm Minister Loyola de Palacio had earlier accused Fischler at an EU farm ministers \\' meeting of causing unjustified alarm through \" dangerous generalisation . \"',\n",
              " {'LOC': [],\n",
              "  'MISC': ['Spanish'],\n",
              "  'ORG': ['EU'],\n",
              "  'PER': ['Loyola de Palacio', 'Fischler']})"
            ]
          },
          "metadata": {},
          "execution_count": 13
        }
      ],
      "source": [
        "dataset['train'][10]['sentence'], dataset['train'][10]['entities']"
      ]
    },
    {
      "cell_type": "code",
      "execution_count": 14,
      "metadata": {
        "id": "uhtuN0BYFgZL"
      },
      "outputs": [],
      "source": [
        "# eval formatting funciton doesnt include entities response\n",
        "# Mistral's format <s>[INST] {prompt} [/INST]</s>\n",
        "def eval_formatting_func(entry):\n",
        "    # note that tokenizer adds bos token <s> so we don't add it here\n",
        "    text = (f\"[INST] You are an NLP expert tasked with Named Entity Extraction. \"\n",
        "        f\"Identify entities of the type Person (PER), Organization (ORG), Location (LOC) and Miscellaneous (MISC) in the following sentence: '{entry['sentence']}'\\n\"\n",
        "        \"Your answer must be in the form of a dict {'PER':['person entity 1', 'person entity 2', '...'], 'ORG': [], 'LOC': [], 'MISC': []} \\n\"\n",
        "        \"Take care, your answer is only valid if it follows the correct format! [/INST]\")\n",
        "\n",
        "    return text\n"
      ]
    },
    {
      "cell_type": "code",
      "execution_count": 15,
      "metadata": {
        "colab": {
          "base_uri": "https://localhost:8080/"
        },
        "id": "LWhWQcOUCM9k",
        "outputId": "b72d0d5b-65e4-42d3-e4ff-93685e83f93c"
      },
      "outputs": [
        {
          "output_type": "stream",
          "name": "stdout",
          "text": [
            "[INST] You are an NLP expert tasked with Named Entity Extraction. Identify entities of the type Person (PER), Organization (ORG), Location (LOC) and Miscellaneous (MISC) in the following sentence: 'Spanish Farm Minister Loyola de Palacio had earlier accused Fischler at an EU farm ministers ' meeting of causing unjustified alarm through \" dangerous generalisation . \"'\n",
            "Your answer must be in the form of a dict {'PER':['person entity 1', 'person entity 2', '...'], 'ORG': [], 'LOC': [], 'MISC': []} \n",
            "Take care, your answer is only valid if it follows the correct format! [/INST]\n"
          ]
        }
      ],
      "source": [
        "print(eval_formatting_func(dataset['train'][10]))"
      ]
    },
    {
      "cell_type": "code",
      "execution_count": 16,
      "metadata": {
        "id": "p1ICF8E0EQdW"
      },
      "outputs": [],
      "source": [
        "#eval_tokenizer.decode(eval_tokenizer(eval_formatting_func(dataset['train'][10]))['input_ids'])"
      ]
    },
    {
      "cell_type": "code",
      "execution_count": 17,
      "metadata": {
        "id": "EMygv3p4BwxJ"
      },
      "outputs": [],
      "source": [
        "# formatting function used for fine-tuning includes entities response\n",
        "def formatting_func(entry):\n",
        "    #note that tokenizer add bos token <s> so we don't add it here\n",
        "    text = (f\"[INST] You are an NLP expert tasked with Named Entity Extraction. \"\n",
        "        f\"Identify entities of the type Person (PER), Organization (ORG), Location (LOC) and Miscellaneous (MISC) in the following sentence: '{entry['sentence']}'\\n\"\n",
        "        \"Your answer must be in the form of a dict {'PER':['person entity 1', 'person entity 2', '...'], 'ORG': [], 'LOC': [], 'MISC': []} \\n\"\n",
        "        \"Take care, your answer is only valid if it follows the correct format! [/INST]\\n\"\n",
        "        f\"{entry['entities']}</s>\")\n",
        "\n",
        "    return text\n"
      ]
    },
    {
      "cell_type": "code",
      "execution_count": 18,
      "metadata": {
        "colab": {
          "base_uri": "https://localhost:8080/"
        },
        "id": "ndeTHS1GJCcy",
        "outputId": "0fe2b6cb-4ff1-4eae-da97-bd7627223719"
      },
      "outputs": [
        {
          "output_type": "stream",
          "name": "stdout",
          "text": [
            "[INST] You are an NLP expert tasked with Named Entity Extraction. Identify entities of the type Person (PER), Organization (ORG), Location (LOC) and Miscellaneous (MISC) in the following sentence: 'Spanish Farm Minister Loyola de Palacio had earlier accused Fischler at an EU farm ministers ' meeting of causing unjustified alarm through \" dangerous generalisation . \"'\n",
            "Your answer must be in the form of a dict {'PER':['person entity 1', 'person entity 2', '...'], 'ORG': [], 'LOC': [], 'MISC': []} \n",
            "Take care, your answer is only valid if it follows the correct format! [/INST]\n",
            "{'LOC': [], 'MISC': ['Spanish'], 'ORG': ['EU'], 'PER': ['Loyola de Palacio', 'Fischler']}</s>\n"
          ]
        }
      ],
      "source": [
        "print(formatting_func(dataset['train'][10]))"
      ]
    },
    {
      "cell_type": "code",
      "execution_count": 19,
      "metadata": {
        "id": "9x0PVW4JK9k_"
      },
      "outputs": [],
      "source": [
        "import random\n",
        "\n",
        "# Get the length of the training split\n",
        "train_length = len(dataset['train'])\n",
        "test_length  = len(dataset['test'])\n",
        "\n",
        "# Sample 100 random indices\n",
        "random.seed(42)\n",
        "train_random_indices = random.sample(range(train_length), 1000)\n",
        "\n",
        "random.seed(42)\n",
        "test_random_indices = random.sample(range(test_length), 100)\n",
        "\n",
        "# Retrieve the sampled entries\n",
        "train_sample = [dataset['train'][idx] for idx in train_random_indices]\n",
        "\n",
        "test_sample = [dataset['test'][idx] for idx in test_random_indices]\n"
      ]
    },
    {
      "cell_type": "code",
      "source": [
        "\"\"\"\n",
        "# Take a sample of the training split\n",
        "sample_size = 1000\n",
        "train_sample = dataset[\"train\"].shuffle(seed=42).select(range(sample_size))\n",
        "\n",
        "val_sample = dataset[\"validation\"].shuffle(seed=42).select(range(200))\n",
        "\"\"\""
      ],
      "metadata": {
        "colab": {
          "base_uri": "https://localhost:8080/",
          "height": 52
        },
        "id": "EKjYeIiKe9q7",
        "outputId": "c3906eb4-19bf-45e1-dab2-edbe5667cce0"
      },
      "execution_count": 20,
      "outputs": [
        {
          "output_type": "execute_result",
          "data": {
            "text/plain": [
              "' \\n# Take a sample of the training split\\nsample_size = 1000\\ntrain_sample = dataset[\"train\"].shuffle(seed=42).select(range(sample_size))\\n\\nval_sample = dataset[\"validation\"].shuffle(seed=42).select(range(200))\\n'"
            ],
            "application/vnd.google.colaboratory.intrinsic+json": {
              "type": "string"
            }
          },
          "metadata": {},
          "execution_count": 20
        }
      ]
    },
    {
      "cell_type": "code",
      "execution_count": 22,
      "metadata": {
        "id": "5RvqtLBNNKHj"
      },
      "outputs": [],
      "source": [
        "from collections import Counter\n",
        "\n",
        "def get_count(entries):\n",
        "    # Initialize counters for each entity type\n",
        "    per_counter = Counter()\n",
        "    org_counter = Counter()\n",
        "    loc_counter = Counter()\n",
        "    misc_counter = Counter()\n",
        "\n",
        "    # Count the occurrences of each type of entity\n",
        "    for item in entries:\n",
        "        per_counter.update(item['entities']['PER'])\n",
        "        org_counter.update(item['entities']['ORG'])\n",
        "        loc_counter.update(item['entities']['LOC'])\n",
        "        misc_counter.update(item['entities']['MISC'])\n",
        "\n",
        "    # Print the counts for each type of entity\n",
        "    print(\"Total PER entities:\", sum(per_counter.values()))\n",
        "    print(\"Total ORG entities:\", sum(org_counter.values()))\n",
        "    print(\"Total LOC entities:\", sum(loc_counter.values()))\n",
        "    print(\"Total MISC entities:\", sum(misc_counter.values()))\n"
      ]
    },
    {
      "cell_type": "code",
      "execution_count": 23,
      "metadata": {
        "colab": {
          "base_uri": "https://localhost:8080/"
        },
        "id": "DPuEKmOuPjtf",
        "outputId": "9e23a5fe-a639-4824-d475-544b20d21a82"
      },
      "outputs": [
        {
          "output_type": "stream",
          "name": "stdout",
          "text": [
            "Total PER entities: 414\n",
            "Total ORG entities: 500\n",
            "Total LOC entities: 460\n",
            "Total MISC entities: 243\n"
          ]
        }
      ],
      "source": [
        "get_count(train_sample)"
      ]
    },
    {
      "cell_type": "code",
      "execution_count": 24,
      "metadata": {
        "colab": {
          "base_uri": "https://localhost:8080/"
        },
        "id": "t5rcj1VXPujx",
        "outputId": "5f7cb30a-bfff-4926-ab2a-779ce86429e4"
      },
      "outputs": [
        {
          "output_type": "stream",
          "name": "stdout",
          "text": [
            "Total PER entities: 41\n",
            "Total ORG entities: 43\n",
            "Total LOC entities: 45\n",
            "Total MISC entities: 12\n"
          ]
        }
      ],
      "source": [
        "get_count(test_sample)"
      ]
    },
    {
      "cell_type": "code",
      "execution_count": 25,
      "metadata": {
        "id": "RK88lb_yPv5k"
      },
      "outputs": [],
      "source": [
        "import json\n",
        "\n",
        "# Save train and test sample to a JSON file\n",
        "with open(\"./train_sample.json\", 'w') as f:\n",
        "    json.dump(train_sample, f, indent=4)"
      ]
    },
    {
      "cell_type": "code",
      "execution_count": 26,
      "metadata": {
        "id": "xriUBs7uQPCz"
      },
      "outputs": [],
      "source": [
        "with open(\"./test_sample.json\", 'w') as f:\n",
        "    json.dump(test_sample, f, indent=4)\n"
      ]
    },
    {
      "cell_type": "markdown",
      "metadata": {
        "id": "duV99xMLQcGV"
      },
      "source": [
        "## Evaluate model out of the box"
      ]
    },
    {
      "cell_type": "code",
      "execution_count": 27,
      "metadata": {
        "colab": {
          "base_uri": "https://localhost:8080/"
        },
        "id": "y9xGVb4zQmOq",
        "outputId": "93a323fd-0cf6-477d-8e43-aa643a489557"
      },
      "outputs": [
        {
          "output_type": "stream",
          "name": "stdout",
          "text": [
            "\u001b[2K     \u001b[90m━━━━━━━━━━━━━━━━━━━━━━━━━━━━━━━━━━━━━━━━\u001b[0m \u001b[32m199.1/199.1 kB\u001b[0m \u001b[31m1.7 MB/s\u001b[0m eta \u001b[36m0:00:00\u001b[0m\n",
            "\u001b[2K     \u001b[90m━━━━━━━━━━━━━━━━━━━━━━━━━━━━━━━━━━━━━━━━\u001b[0m \u001b[32m297.4/297.4 kB\u001b[0m \u001b[31m5.9 MB/s\u001b[0m eta \u001b[36m0:00:00\u001b[0m\n",
            "\u001b[?25h  Installing build dependencies ... \u001b[?25l\u001b[?25hdone\n",
            "  Getting requirements to build wheel ... \u001b[?25l\u001b[?25hdone\n",
            "  Preparing metadata (pyproject.toml) ... \u001b[?25l\u001b[?25hdone\n",
            "  Building wheel for accelerate (pyproject.toml) ... \u001b[?25l\u001b[?25hdone\n",
            "\u001b[2K     \u001b[90m━━━━━━━━━━━━━━━━━━━━━━━━━━━━━━━━━━━━━━━━\u001b[0m \u001b[32m119.8/119.8 MB\u001b[0m \u001b[31m2.2 MB/s\u001b[0m eta \u001b[36m0:00:00\u001b[0m\n",
            "\u001b[?25h"
          ]
        }
      ],
      "source": [
        "! pip install -q peft\n",
        "! pip install -q git+https://github.com/huggingface/accelerate.git\n",
        "! pip install -q bitsandbytes\n",
        "! pip install -q transformers"
      ]
    },
    {
      "cell_type": "code",
      "execution_count": 28,
      "metadata": {
        "id": "wyX7aUeEQa8U"
      },
      "outputs": [],
      "source": [
        "from transformers import AutoTokenizer, AutoModelForCausalLM, BitsAndBytesConfig\n",
        "import torch"
      ]
    },
    {
      "cell_type": "markdown",
      "source": [
        "### Loading quantized Mistral Instruct v.2 7B model\n",
        "\n",
        "\n",
        "\n"
      ],
      "metadata": {
        "id": "Bl-7gGD2cK2L"
      }
    },
    {
      "cell_type": "markdown",
      "source": [
        "From https://huggingface.co/blog/4bit-transformers-bitsandbytes\n",
        "\n",
        "\n",
        "> QLoRA uses 4-bit quantization to compress a pretrained language model. The LM parameters are then frozen and a relatively small number of trainable parameters are added to the model in the form of Low-Rank Adapters. During finetuning, QLoRA backpropagates gradients through the frozen 4-bit quantized pretrained language model into the Low-Rank Adapters. The LoRA layers are the only parameters being updated during training\n",
        "\n",
        "\n",
        "> The basic way to load a model in 4bit is to pass the argument load_in_4bit=True when calling the from_pretrained method by providing a device map (pass \"auto\" to get a device map that will be automatically inferred\n",
        "\n",
        ">... You can play with different variants of 4bit quantization such as NF4 (normalized float 4 (default)) or pure FP4 quantization. Based on theoretical considerations and empirical results from the paper, we recommend using NF4 quantization for better performance.\n",
        "\n",
        "> Nested quantization: Other options include bnb_4bit_use_double_quant which uses a second quantization after the first one to save an additional 0.4 bits per parameter. And finally, the compute type. While 4-bit bitsandbytes stores weights in 4-bits, the computation still happens in 16 or 32-bit and here any combination can be chosen (float16, bfloat16, float32 etc).\n",
        "\n",
        "> The matrix multiplication and training will be faster if one uses a 16-bit compute dtype (default torch.float32). One should leverage the recent BitsAndBytesConfig from transformers to change these parameters.\n",
        "\n",
        "> It is not possible to perform pure 4bit training on these models. However, you can train these models by leveraging parameter efficient fine tuning methods (PEFT) and train for example adapters on top of them\n"
      ],
      "metadata": {
        "id": "V1BKGlzKfufK"
      }
    },
    {
      "cell_type": "code",
      "execution_count": 29,
      "metadata": {
        "id": "rjv3FCx4QT6f"
      },
      "outputs": [],
      "source": [
        "model_id = \"mistralai/Mistral-7B-Instruct-v0.2\"\n",
        "\n",
        "bnb_config = BitsAndBytesConfig(\n",
        "    load_in_4bit=True,\n",
        "    bnb_4bit_use_double_quant=True,\n",
        "    bnb_4bit_quant_type=\"nf4\",\n",
        "    bnb_4bit_compute_dtype=torch.bfloat16\n",
        ")"
      ]
    },
    {
      "cell_type": "code",
      "execution_count": 30,
      "metadata": {
        "colab": {
          "base_uri": "https://localhost:8080/",
          "height": 273,
          "referenced_widgets": [
            "6edd8955d1ab4b2282a557cc87bd4169",
            "cd12447de73e4de79ee93bc3c9a33c91",
            "3b4ea0dd06ef4709b2ecb26011ee8e95",
            "b2e36c9c585e4b20a64747327998440e",
            "8cdff18316de4a10b52f30c650119377",
            "b8e1177b69ef455f9f1b41e15b76f72f",
            "6eefec44676f4b1d963d32849e0c7f8c",
            "f9c21b38d1ac43fbb04c531cea88beca",
            "18e2e63696cf4d069e3b36f7de1e05cc",
            "869139eef2a54d77aba6c9c7bdf933a1",
            "54bc5ed68afe43d28fd3f091ddebf0ad",
            "c3f06a55d62d4074b104b91887921e91",
            "2d98764ba15b4ab79f8b87a4c07b77be",
            "b2ac6deed2fc42319d6d4d6b10c72b63",
            "d3c5dba7578a412e8346560516fbde88",
            "15c05680d72546849f41c1161084a535",
            "956ed339d63b4544ac40603285914a8d",
            "2d3d28ed4fd24bb6a6e0de30b4426b17",
            "49c04bef512444c2aa43680441cfc1b9",
            "c6d2f1079bd84f61b7abd7898e9004f7",
            "5f600edef833464c955ef64f57833e1e",
            "6e3935fd43af4ccca0b827f72c15520f",
            "dfcabb583dc14e379db71e50dac9708e",
            "afec8718f6d4456dbd07eaf9537c5bd0",
            "e4bb456965c048729df3a093b5de0860",
            "8ab2829599224a0cbeaea6f96195e805",
            "c6b8c45935d84888aaba5eb421987b7e",
            "f1540081b891458694710b9bd146ece4",
            "ddde464c29f3436a9ae9ed68c39a8277",
            "4990a6afdd5e4b2f9edded399b9bc0ca",
            "cf56b937e754428c9443cf1bf91c8586",
            "aa650ba79291486489c87673de7a013a",
            "bfbeda534dfc46439d97fe787b04a12c",
            "0268811d4182427b83f3b4a716e0b366",
            "2e133da9f17d4b6b8f41c15985b1b865",
            "2fcad7c2c86c46988668d6e8dcc7dbd6",
            "5930c22f9fcf438ea52d15f4c594e3e2",
            "df94a994f71842a5984161f0349745b9",
            "74d389791a894b7ea0c02007ee8a1fc0",
            "81143113d1b94fa8994c04d34baba47a",
            "29e0551d283b49e89930b106041d4c1a",
            "e929727f5b7f4fe2a626c7f6a18fa8bd",
            "9e80b6c0bf6a46e19d9a03973bf1da76",
            "2e2cd27d509c487dbbc4df261d3d82e2",
            "79e9fb4f78ba436aa2750ae9c4649001",
            "b3936787ec37458c9a797be80581a7fe",
            "034fdda5646d4f8798ad10222afed9b6",
            "5af1095dbc2e44ec9017979ab20c800a",
            "14c186bfe4da42aa8a0b52ff4ebe4ea8",
            "671d9c162f6c41c0b42abd7fe815f1c9",
            "e0e41cc0533742d5b40fd9dd39c6944b",
            "4c31970767514767ad67c7af786ce14f",
            "a07aed32ddf54e91a03bda6e022571af",
            "d094d45953ae49f5bcbcfe117449e716",
            "4a6107e5dfb74042b4f985960db3893c",
            "55a4122faa8746c78ca2a3018168f19d",
            "f3dae34f871043ad8d60d8cf4b7cc252",
            "bee102332a2d43a0837542c3a30c8d88",
            "9ec73d71076f443c9ffb08eb7e71cf48",
            "487ae9d8588e4e559b6d5771d549f710",
            "00930c5286a24da982f3bbe7beb5ce5f",
            "796512272be84ea5807cea2ffd74eb2b",
            "d447c43b2a924f319a43b726fd6a1977",
            "a83ee346a5e947e7a4aed21fdb0d8566",
            "7884589b8e814cad83769e7b8535553e",
            "7fe8f984fb9b4ff985011dba0de68939",
            "814f81a36a2a47298d26c787d27cb8b9",
            "8a58c5b346bb4486a68cd6e0cdbe1455",
            "b3a745f3b9174cd18015295006fba0fa",
            "04422373319347f284a5afdd3bc26f8b",
            "a7e9a7367ed54af586b5ad5102d837bf",
            "141ccb9dc8f44e4ab4b370810ec3bacf",
            "ec045b645d5f4704a6a2bdf73eabc871",
            "4f2cc7fba2664c5faa184e4ff2df56d8",
            "455c34c04fa6416d9279da58f3076734",
            "e90344b099cd42af9b1c8d14bed0f8df",
            "e02750b8806a4582b6fcf7448479b8b9",
            "4647bd82e4c740e78e796a1f5977926b",
            "503ffa3174174fcfacc1e44264a00cd2",
            "4896219e39d24ebba7a8b02f4946561e",
            "601e89435451438d859e979ae5e94682",
            "16a84acb73d8448987b900ddef6b7050",
            "3ad2c0983bb24f2eaf300692bc550679",
            "d670d3902e274dc38428af6f3ed709c2",
            "2840be60febe499b82f6d55613761889",
            "733e36d561a24b1f9496c9daf56e674f",
            "93b6cb5132cd4687b75e0f2d974517b5",
            "4be28623a7e541b29c472f48eb5e4cc5"
          ]
        },
        "id": "5OQTQpKgULwX",
        "outputId": "c9e8d13c-95c7-4195-f306-8afd10fe4c8f"
      },
      "outputs": [
        {
          "output_type": "display_data",
          "data": {
            "text/plain": [
              "config.json:   0%|          | 0.00/596 [00:00<?, ?B/s]"
            ],
            "application/vnd.jupyter.widget-view+json": {
              "version_major": 2,
              "version_minor": 0,
              "model_id": "6edd8955d1ab4b2282a557cc87bd4169"
            }
          },
          "metadata": {}
        },
        {
          "output_type": "display_data",
          "data": {
            "text/plain": [
              "model.safetensors.index.json:   0%|          | 0.00/25.1k [00:00<?, ?B/s]"
            ],
            "application/vnd.jupyter.widget-view+json": {
              "version_major": 2,
              "version_minor": 0,
              "model_id": "c3f06a55d62d4074b104b91887921e91"
            }
          },
          "metadata": {}
        },
        {
          "output_type": "display_data",
          "data": {
            "text/plain": [
              "Downloading shards:   0%|          | 0/3 [00:00<?, ?it/s]"
            ],
            "application/vnd.jupyter.widget-view+json": {
              "version_major": 2,
              "version_minor": 0,
              "model_id": "dfcabb583dc14e379db71e50dac9708e"
            }
          },
          "metadata": {}
        },
        {
          "output_type": "display_data",
          "data": {
            "text/plain": [
              "model-00001-of-00003.safetensors:   0%|          | 0.00/4.94G [00:00<?, ?B/s]"
            ],
            "application/vnd.jupyter.widget-view+json": {
              "version_major": 2,
              "version_minor": 0,
              "model_id": "0268811d4182427b83f3b4a716e0b366"
            }
          },
          "metadata": {}
        },
        {
          "output_type": "display_data",
          "data": {
            "text/plain": [
              "model-00002-of-00003.safetensors:   0%|          | 0.00/5.00G [00:00<?, ?B/s]"
            ],
            "application/vnd.jupyter.widget-view+json": {
              "version_major": 2,
              "version_minor": 0,
              "model_id": "79e9fb4f78ba436aa2750ae9c4649001"
            }
          },
          "metadata": {}
        },
        {
          "output_type": "display_data",
          "data": {
            "text/plain": [
              "model-00003-of-00003.safetensors:   0%|          | 0.00/4.54G [00:00<?, ?B/s]"
            ],
            "application/vnd.jupyter.widget-view+json": {
              "version_major": 2,
              "version_minor": 0,
              "model_id": "55a4122faa8746c78ca2a3018168f19d"
            }
          },
          "metadata": {}
        },
        {
          "output_type": "display_data",
          "data": {
            "text/plain": [
              "Loading checkpoint shards:   0%|          | 0/3 [00:00<?, ?it/s]"
            ],
            "application/vnd.jupyter.widget-view+json": {
              "version_major": 2,
              "version_minor": 0,
              "model_id": "814f81a36a2a47298d26c787d27cb8b9"
            }
          },
          "metadata": {}
        },
        {
          "output_type": "display_data",
          "data": {
            "text/plain": [
              "generation_config.json:   0%|          | 0.00/111 [00:00<?, ?B/s]"
            ],
            "application/vnd.jupyter.widget-view+json": {
              "version_major": 2,
              "version_minor": 0,
              "model_id": "4647bd82e4c740e78e796a1f5977926b"
            }
          },
          "metadata": {}
        }
      ],
      "source": [
        "model = AutoModelForCausalLM.from_pretrained(model_id, quantization_config=bnb_config, device_map=\"auto\")"
      ]
    },
    {
      "cell_type": "code",
      "execution_count": 31,
      "metadata": {
        "colab": {
          "base_uri": "https://localhost:8080/",
          "height": 145,
          "referenced_widgets": [
            "cb9748be53bb4ec5a104cebc4efe942c",
            "62772c8233a649ad8ff8436394f8850f",
            "7bb8032ed3c348adbc4ee848d503eeb3",
            "f33f73d9bb5a48eebcbed6cdb7934a5a",
            "c4b05ab700ce4488915340420b8fbbb4",
            "23822bf8bf9c4c3abc8a48bcc4ea9a47",
            "21f52e7f04ff48d38bdff923be9124d3",
            "716a08df0c8c43ecbb1199b8c7c534bb",
            "43119fe33a874976a268ac7bde626be7",
            "2003856cb1e446418894721b296e7b69",
            "d96d6b87c2ad4958af4767780e3a03e0",
            "451bc431b3e940bb87de70ac026cc056",
            "80517d300b824035859790f55bf6dbb0",
            "5ddd6e8ba27d41aeb6c0e4feaf731844",
            "60b1a3540a68413cbdfd53234d2dfb96",
            "a8b64c9905634dd1b500b901ac553280",
            "fedeecaff79a410db02a3c745da77c68",
            "c166cfe10f3c4412881226aa35162369",
            "aac622fd8524434581ed785f54c50e70",
            "4207803d3f544eeebaa1decc69c5d424",
            "aaad1c458e014355b4f14fcb1d553e7d",
            "8c0dfa6c82334d749024efd046bed2ad",
            "08e9faa39f5840e29df13800c127c777",
            "5868d1e58ad244d19903eae920306fc4",
            "367ad291c0c2438e8b458f3c6a8cd4af",
            "38f838aa5d3041318ce8addddf8ab4d9",
            "275e11272cb849989203c24658f64843",
            "664058e8a1e44495b55d4bc69e1d73b3",
            "febd5098e5574dd1ab9e729509c79d4b",
            "9519665690134ee4a9d7ba4d37538c87",
            "b5286b89bf4749799af02f39540b300d",
            "513c5636638c4313bbcb3183455c31d4",
            "8aae865ec20d4566a83f409b1e0d1cb5",
            "c8b9959989fc414cab538a8491c27736",
            "a862f0b3e0b247ca9c2c6fa9ef5232e4",
            "79aaf42ec2cb47f69b0d7e3844acb3c2",
            "b66de7bc1eda480a967f79e51c1b0b87",
            "95b12a57abea4484853cbb165810e074",
            "931397a9464e417586ec7ca8a8dc294f",
            "c5412f921ee04d478eaf43845ae917b1",
            "11d1f91c50cb476ca91b529fd02a3bb8",
            "39bdbfd69e6043f0999821a117849760",
            "d3ae084717f848d3b952ac7c88a93e6a",
            "0d0c632f718b4f11ab8e9dbbcb8fc761"
          ]
        },
        "id": "gDrp5q31QirB",
        "outputId": "50cede72-2cea-45dc-83e2-adf422c043e0"
      },
      "outputs": [
        {
          "output_type": "display_data",
          "data": {
            "text/plain": [
              "tokenizer_config.json:   0%|          | 0.00/1.46k [00:00<?, ?B/s]"
            ],
            "application/vnd.jupyter.widget-view+json": {
              "version_major": 2,
              "version_minor": 0,
              "model_id": "cb9748be53bb4ec5a104cebc4efe942c"
            }
          },
          "metadata": {}
        },
        {
          "output_type": "display_data",
          "data": {
            "text/plain": [
              "tokenizer.model:   0%|          | 0.00/493k [00:00<?, ?B/s]"
            ],
            "application/vnd.jupyter.widget-view+json": {
              "version_major": 2,
              "version_minor": 0,
              "model_id": "451bc431b3e940bb87de70ac026cc056"
            }
          },
          "metadata": {}
        },
        {
          "output_type": "display_data",
          "data": {
            "text/plain": [
              "tokenizer.json:   0%|          | 0.00/1.80M [00:00<?, ?B/s]"
            ],
            "application/vnd.jupyter.widget-view+json": {
              "version_major": 2,
              "version_minor": 0,
              "model_id": "08e9faa39f5840e29df13800c127c777"
            }
          },
          "metadata": {}
        },
        {
          "output_type": "display_data",
          "data": {
            "text/plain": [
              "special_tokens_map.json:   0%|          | 0.00/72.0 [00:00<?, ?B/s]"
            ],
            "application/vnd.jupyter.widget-view+json": {
              "version_major": 2,
              "version_minor": 0,
              "model_id": "c8b9959989fc414cab538a8491c27736"
            }
          },
          "metadata": {}
        }
      ],
      "source": [
        "# Init an eval tokenizer that doesn't add padding or eos token\n",
        "eval_tokenizer = AutoTokenizer.from_pretrained(\n",
        "    model_id,\n",
        "    add_bos_token=True,\n",
        "    padding=False\n",
        ")\n"
      ]
    },
    {
      "cell_type": "code",
      "execution_count": 33,
      "metadata": {
        "colab": {
          "base_uri": "https://localhost:8080/"
        },
        "id": "t9yEl_urRPeD",
        "outputId": "7c403035-ba9f-4f9c-d7fa-ad86ad763a39"
      },
      "outputs": [
        {
          "output_type": "stream",
          "name": "stdout",
          "text": [
            "[INST] You are an NLP expert tasked with Named Entity Extraction. Identify entities of the type Person (PER), Organization (ORG), Location (LOC) and Miscellaneous (MISC) in the following sentence: 'A police spokesman said two youths believed to be supporters of President Nelson Mandela 's African National Congress ( ANC ) had been killed when unknown gunmen opened fire at the rural settlement of Izingolweni on KwaZulu-Natal province 's south coast on Thursday night .'\n",
            "Your answer must be in the form of a dict {'PER':['person entity 1', 'person entity 2', '...'], 'ORG': [], 'LOC': [], 'MISC': []} \n",
            "Take care, your answer is only valid if it follows the correct format! [/INST]\n"
          ]
        }
      ],
      "source": [
        "idx=45\n",
        "\n",
        "eval_prompt = eval_formatting_func(test_sample[idx])\n",
        "print(eval_prompt)"
      ]
    },
    {
      "cell_type": "code",
      "execution_count": 34,
      "metadata": {
        "colab": {
          "base_uri": "https://localhost:8080/"
        },
        "id": "CGKeNJihW6I9",
        "outputId": "92823648-bf4a-4533-d020-ac3aeff0439c"
      },
      "outputs": [
        {
          "output_type": "execute_result",
          "data": {
            "text/plain": [
              "{'LOC': ['Izingolweni', 'KwaZulu-Natal'],\n",
              " 'MISC': [],\n",
              " 'ORG': ['African National Congress', 'ANC'],\n",
              " 'PER': ['Nelson Mandela']}"
            ]
          },
          "metadata": {},
          "execution_count": 34
        }
      ],
      "source": [
        "ground_truth = test_sample[idx]['entities']\n",
        "ground_truth"
      ]
    },
    {
      "cell_type": "code",
      "source": [
        "# note the bos token <s> added by tokenizer\n",
        "# because we want model to generate response we don't add </s>\n",
        "model_input = eval_tokenizer(eval_prompt, return_tensors=\"pt\").to(\"cuda\")\n",
        "eval_tokenizer.decode(model_input['input_ids'][0])"
      ],
      "metadata": {
        "colab": {
          "base_uri": "https://localhost:8080/",
          "height": 104
        },
        "id": "ypgdr5jKiNlu",
        "outputId": "7c0384af-9801-4599-9666-9dd41db627a1"
      },
      "execution_count": 35,
      "outputs": [
        {
          "output_type": "execute_result",
          "data": {
            "text/plain": [
              "\"<s> [INST] You are an NLP expert tasked with Named Entity Extraction. Identify entities of the type Person (PER), Organization (ORG), Location (LOC) and Miscellaneous (MISC) in the following sentence: 'A police spokesman said two youths believed to be supporters of President Nelson Mandela 's African National Congress ( ANC ) had been killed when unknown gunmen opened fire at the rural settlement of Izingolweni on KwaZulu-Natal province 's south coast on Thursday night .'\\nYour answer must be in the form of a dict {'PER':['person entity 1', 'person entity 2', '...'], 'ORG': [], 'LOC': [], 'MISC': []} \\nTake care, your answer is only valid if it follows the correct format! [/INST]\""
            ],
            "application/vnd.google.colaboratory.intrinsic+json": {
              "type": "string"
            }
          },
          "metadata": {},
          "execution_count": 35
        }
      ]
    },
    {
      "cell_type": "code",
      "execution_count": 36,
      "metadata": {
        "colab": {
          "base_uri": "https://localhost:8080/"
        },
        "id": "xiCJAKKoRFse",
        "outputId": "492aa6dd-23a4-4a0f-b0eb-5ad67c857c0e"
      },
      "outputs": [
        {
          "output_type": "stream",
          "name": "stdout",
          "text": [
            " {'PER': ['President Nelson Mandela', 'two youths'], 'ORG': ['African National Congress (ANC)'], 'LOC': ['Izingolweni', 'KwaZulu-Natal province', 'south coast'], 'MISC': []}\n"
          ]
        }
      ],
      "source": [
        "model.eval()\n",
        "with torch.no_grad():\n",
        "    response  = eval_tokenizer.decode(model.generate(**model_input,\n",
        "                    max_new_tokens=256, repetition_penalty=1.15,\n",
        "                    pad_token_id=eval_tokenizer.eos_token_id)[0], skip_special_tokens=True)\n",
        "    response = response.replace(eval_prompt, \"\")\n",
        "    print(response)"
      ]
    },
    {
      "cell_type": "code",
      "execution_count": 37,
      "metadata": {
        "id": "TV1fTiCtRkUx"
      },
      "outputs": [],
      "source": [
        "# tranform response into dict\n",
        "import re\n",
        "def parse_response(sentence):\n",
        "    # Find the text between curly braces\n",
        "    match = re.search(r'\\{[^{}]+\\}', response)\n",
        "    # If a match is found, evaluate it as a dictionary using eval\n",
        "\n",
        "    if match:\n",
        "        entities_str = match.group(0)\n",
        "        try:\n",
        "            entities_dict = eval(entities_str)\n",
        "            return entities_dict\n",
        "        except:\n",
        "            return {'PER':[], 'ORG':[], 'LOC':[], 'MISC':[]}\n",
        "    else:\n",
        "        # If no match is found, return an empty dictionary\n",
        "        return {'PER':[], 'ORG':[], 'LOC':[], 'MISC':[]}"
      ]
    },
    {
      "cell_type": "code",
      "execution_count": 38,
      "metadata": {
        "colab": {
          "base_uri": "https://localhost:8080/"
        },
        "id": "370JZ8yRXxjh",
        "outputId": "f307dd35-71c2-44fd-dc22-f0f7a4be18fc"
      },
      "outputs": [
        {
          "output_type": "execute_result",
          "data": {
            "text/plain": [
              "{'PER': ['President Nelson Mandela', 'two youths'],\n",
              " 'ORG': ['African National Congress (ANC)'],\n",
              " 'LOC': ['Izingolweni', 'KwaZulu-Natal province', 'south coast'],\n",
              " 'MISC': []}"
            ]
          },
          "metadata": {},
          "execution_count": 38
        }
      ],
      "source": [
        "response_dict = parse_response(response)\n",
        "response_dict"
      ]
    },
    {
      "cell_type": "code",
      "execution_count": 47,
      "metadata": {
        "id": "yZ-OIx6UiiSS"
      },
      "outputs": [],
      "source": [
        "import locale\n",
        "def getpreferredencoding(do_setlocale = True):\n",
        "    return \"UTF-8\"\n",
        "locale.getpreferredencoding = getpreferredencoding"
      ]
    },
    {
      "cell_type": "code",
      "source": [],
      "metadata": {
        "id": "1x4VpwETi-nk"
      },
      "execution_count": 39,
      "outputs": []
    },
    {
      "cell_type": "markdown",
      "metadata": {
        "id": "Z8Eix_3Lc1X1"
      },
      "source": [
        "https://www.davidsbatista.net/blog/2018/05/09/Named_Entity_Evaluation/\n",
        "\n",
        "The Language-Independent Named Entity Recognition task introduced at CoNLL-2003 measures the performance of the systems in terms of precision, recall and f1-score, where:\n",
        "\n",
        "“precision is the percentage of named entities found by the learning system that are correct. Recall is the percentage of named entities in the corpus found by the system. A named entity is correct only if it is an exact match of the corresponding entity in the data file.”\n",
        "\n"
      ]
    },
    {
      "cell_type": "code",
      "execution_count": 40,
      "metadata": {
        "id": "Z8FwUegMJQfC"
      },
      "outputs": [],
      "source": [
        "def precision(actual, predicted):\n",
        "    actual_lower = [word.lower() for word in actual]\n",
        "    predicted_lower = [word.lower() for word in predicted]\n",
        "\n",
        "    if not actual_lower and not predicted_lower:\n",
        "        return 1.0  # Both lists are empty, so precision is 1 (correct prediction)\n",
        "\n",
        "    true_positives = sum(1 for p in predicted_lower if p in actual_lower)\n",
        "    predicted_positives = len(predicted_lower)\n",
        "    if predicted_positives == 0:\n",
        "        return 0  # Handle case where there are no predicted positives to avoid division by zero\n",
        "    return true_positives / predicted_positives"
      ]
    },
    {
      "cell_type": "code",
      "execution_count": 41,
      "metadata": {
        "id": "Wd6Q88zMMnnM"
      },
      "outputs": [],
      "source": [
        "def recall(actual, predicted):\n",
        "    actual_lower = [word.lower() for word in actual]\n",
        "    predicted_lower = [word.lower() for word in predicted]\n",
        "\n",
        "    if not actual_lower and not predicted_lower:\n",
        "        return 1.0  # Both lists are empty, so recall is 1 (correct prediction)\n",
        "\n",
        "    true_positives = sum(1 for p in predicted_lower if p in actual_lower)\n",
        "    actual_positives = len(actual_lower)\n",
        "    if actual_positives == 0:\n",
        "        return 0  # Handle case where there are no actual positives to avoid division by zero\n",
        "    return true_positives / actual_positives\n"
      ]
    },
    {
      "cell_type": "code",
      "execution_count": 42,
      "metadata": {
        "id": "TZx-s5N5MrHs"
      },
      "outputs": [],
      "source": [
        "def f1_score(actual, predicted):\n",
        "    prec = precision(actual, predicted)\n",
        "    rec = recall(actual, predicted)\n",
        "    if prec + rec == 0:\n",
        "        return 0  # Handle case where precision + recall is zero to avoid division by zero\n",
        "    return 2 * (prec * rec) / (prec + rec)"
      ]
    },
    {
      "cell_type": "code",
      "source": [
        "actual = []\n",
        "predicted = ['apple']\n",
        "precision(actual, predicted), recall(actual, predicted),f1_score(actual, predicted)\n",
        "\n"
      ],
      "metadata": {
        "colab": {
          "base_uri": "https://localhost:8080/"
        },
        "id": "GSCTquUrq4vC",
        "outputId": "623e9cb3-96e3-4db7-8866-eef95c0150eb"
      },
      "execution_count": 43,
      "outputs": [
        {
          "output_type": "execute_result",
          "data": {
            "text/plain": [
              "(0.0, 0, 0)"
            ]
          },
          "metadata": {},
          "execution_count": 43
        }
      ]
    },
    {
      "cell_type": "code",
      "execution_count": 44,
      "metadata": {
        "colab": {
          "base_uri": "https://localhost:8080/"
        },
        "id": "lOIGgF56MX1i",
        "outputId": "8363548e-3cc4-45e6-80a6-f49bb0a7ad9f"
      },
      "outputs": [
        {
          "output_type": "stream",
          "name": "stdout",
          "text": [
            "Test case 1:\n",
            "Actual: []\n",
            "Predicted: []\n",
            "Precision: 1.0\n",
            "Recall: 1.0\n",
            "F1 Score: 1.0\n",
            "\n",
            "Test case 2:\n",
            "Actual: ['apple', 'banana', 'cherry']\n",
            "Predicted: ['apple', 'banana', 'cherry']\n",
            "Precision: 1.0\n",
            "Recall: 1.0\n",
            "F1 Score: 1.0\n",
            "\n",
            "Test case 3:\n",
            "Actual: ['apple', 'banana', 'cherry']\n",
            "Predicted: ['banana', 'apple', 'cherry']\n",
            "Precision: 1.0\n",
            "Recall: 1.0\n",
            "F1 Score: 1.0\n",
            "\n",
            "Test case 4:\n",
            "Actual: ['apple', 'banana', 'cherry']\n",
            "Predicted: ['APPLE', 'Banana', 'CHERRY']\n",
            "Precision: 1.0\n",
            "Recall: 1.0\n",
            "F1 Score: 1.0\n",
            "\n",
            "Test case 5:\n",
            "Actual: ['apple', 'banana', 'cherry']\n",
            "Predicted: ['orange', 'grape', 'pear']\n",
            "Precision: 0.0\n",
            "Recall: 0.0\n",
            "F1 Score: 0\n",
            "\n",
            "Test case 6:\n",
            "Actual: ['apple', 'banana', 'cherry']\n",
            "Predicted: ['orange', 'grape', 'pear']\n",
            "Precision: 0.0\n",
            "Recall: 0.0\n",
            "F1 Score: 0\n",
            "\n",
            "Test case 7:\n",
            "Actual: ['apple', 'banana', 'cherry', 'apple', 'banana', 'cherry', 'apple', 'banana', 'cherry', 'apple', 'banana', 'cherry', 'apple', 'banana', 'cherry', 'apple', 'banana', 'cherry', 'apple', 'banana', 'cherry', 'apple', 'banana', 'cherry', 'apple', 'banana', 'cherry', 'apple', 'banana', 'cherry', 'apple', 'banana', 'cherry', 'apple', 'banana', 'cherry', 'apple', 'banana', 'cherry', 'apple', 'banana', 'cherry', 'apple', 'banana', 'cherry', 'apple', 'banana', 'cherry', 'apple', 'banana', 'cherry', 'apple', 'banana', 'cherry', 'apple', 'banana', 'cherry', 'apple', 'banana', 'cherry', 'apple', 'banana', 'cherry', 'apple', 'banana', 'cherry', 'apple', 'banana', 'cherry', 'apple', 'banana', 'cherry', 'apple', 'banana', 'cherry', 'apple', 'banana', 'cherry', 'apple', 'banana', 'cherry', 'apple', 'banana', 'cherry', 'apple', 'banana', 'cherry', 'apple', 'banana', 'cherry', 'apple', 'banana', 'cherry', 'apple', 'banana', 'cherry', 'apple', 'banana', 'cherry', 'apple', 'banana', 'cherry', 'apple', 'banana', 'cherry', 'apple', 'banana', 'cherry', 'apple', 'banana', 'cherry', 'apple', 'banana', 'cherry', 'apple', 'banana', 'cherry', 'apple', 'banana', 'cherry', 'apple', 'banana', 'cherry', 'apple', 'banana', 'cherry', 'apple', 'banana', 'cherry', 'apple', 'banana', 'cherry', 'apple', 'banana', 'cherry', 'apple', 'banana', 'cherry', 'apple', 'banana', 'cherry', 'apple', 'banana', 'cherry', 'apple', 'banana', 'cherry', 'apple', 'banana', 'cherry', 'apple', 'banana', 'cherry', 'apple', 'banana', 'cherry', 'apple', 'banana', 'cherry', 'apple', 'banana', 'cherry', 'apple', 'banana', 'cherry', 'apple', 'banana', 'cherry', 'apple', 'banana', 'cherry', 'apple', 'banana', 'cherry', 'apple', 'banana', 'cherry', 'apple', 'banana', 'cherry', 'apple', 'banana', 'cherry', 'apple', 'banana', 'cherry', 'apple', 'banana', 'cherry', 'apple', 'banana', 'cherry', 'apple', 'banana', 'cherry', 'apple', 'banana', 'cherry', 'apple', 'banana', 'cherry', 'apple', 'banana', 'cherry', 'apple', 'banana', 'cherry', 'apple', 'banana', 'cherry', 'apple', 'banana', 'cherry', 'apple', 'banana', 'cherry', 'apple', 'banana', 'cherry', 'apple', 'banana', 'cherry', 'apple', 'banana', 'cherry', 'apple', 'banana', 'cherry', 'apple', 'banana', 'cherry', 'apple', 'banana', 'cherry', 'apple', 'banana', 'cherry', 'apple', 'banana', 'cherry', 'apple', 'banana', 'cherry', 'apple', 'banana', 'cherry', 'apple', 'banana', 'cherry', 'apple', 'banana', 'cherry', 'apple', 'banana', 'cherry', 'apple', 'banana', 'cherry', 'apple', 'banana', 'cherry', 'apple', 'banana', 'cherry', 'apple', 'banana', 'cherry', 'apple', 'banana', 'cherry', 'apple', 'banana', 'cherry', 'apple', 'banana', 'cherry', 'apple', 'banana', 'cherry', 'apple', 'banana', 'cherry', 'apple', 'banana', 'cherry', 'apple', 'banana', 'cherry', 'apple', 'banana', 'cherry', 'apple', 'banana', 'cherry', 'apple', 'banana', 'cherry', 'apple', 'banana', 'cherry', 'apple', 'banana', 'cherry', 'apple', 'banana', 'cherry', 'apple', 'banana', 'cherry', 'apple', 'banana', 'cherry', 'apple', 'banana', 'cherry', 'apple', 'banana', 'cherry', 'apple', 'banana', 'cherry', 'apple', 'banana', 'cherry', 'apple', 'banana', 'cherry', 'apple', 'banana', 'cherry', 'apple', 'banana', 'cherry', 'apple', 'banana', 'cherry', 'apple', 'banana', 'cherry', 'apple', 'banana', 'cherry', 'apple', 'banana', 'cherry', 'apple', 'banana', 'cherry', 'apple', 'banana', 'cherry', 'apple', 'banana', 'cherry', 'apple', 'banana', 'cherry', 'apple', 'banana', 'cherry', 'apple', 'banana', 'cherry', 'apple', 'banana', 'cherry', 'apple', 'banana', 'cherry', 'apple', 'banana', 'cherry', 'apple', 'banana', 'cherry', 'apple', 'banana', 'cherry', 'apple', 'banana', 'cherry', 'apple', 'banana', 'cherry', 'apple', 'banana', 'cherry', 'apple', 'banana', 'cherry', 'apple', 'banana', 'cherry', 'apple', 'banana', 'cherry', 'apple', 'banana', 'cherry', 'apple', 'banana', 'cherry', 'apple', 'banana', 'cherry', 'apple', 'banana', 'cherry', 'apple', 'banana', 'cherry', 'apple', 'banana', 'cherry', 'apple', 'banana', 'cherry', 'apple', 'banana', 'cherry', 'apple', 'banana', 'cherry', 'apple', 'banana', 'cherry', 'apple', 'banana', 'cherry', 'apple', 'banana', 'cherry', 'apple', 'banana', 'cherry', 'apple', 'banana', 'cherry', 'apple', 'banana', 'cherry', 'apple', 'banana', 'cherry', 'apple', 'banana', 'cherry', 'apple', 'banana', 'cherry', 'apple', 'banana', 'cherry', 'apple', 'banana', 'cherry', 'apple', 'banana', 'cherry', 'apple', 'banana', 'cherry', 'apple', 'banana', 'cherry', 'apple', 'banana', 'cherry', 'apple', 'banana', 'cherry', 'apple', 'banana', 'cherry', 'apple', 'banana', 'cherry', 'apple', 'banana', 'cherry', 'apple', 'banana', 'cherry', 'apple', 'banana', 'cherry', 'apple', 'banana', 'cherry', 'apple', 'banana', 'cherry', 'apple', 'banana', 'cherry', 'apple', 'banana', 'cherry', 'apple', 'banana', 'cherry', 'apple', 'banana', 'cherry', 'apple', 'banana', 'cherry', 'apple', 'banana', 'cherry', 'apple', 'banana', 'cherry', 'apple', 'banana', 'cherry', 'apple', 'banana', 'cherry', 'apple', 'banana', 'cherry', 'apple', 'banana', 'cherry', 'apple', 'banana', 'cherry', 'apple', 'banana', 'cherry', 'apple', 'banana', 'cherry', 'apple', 'banana', 'cherry', 'apple', 'banana', 'cherry', 'apple', 'banana', 'cherry', 'apple', 'banana', 'cherry', 'apple', 'banana', 'cherry', 'apple', 'banana', 'cherry', 'apple', 'banana', 'cherry', 'apple', 'banana', 'cherry', 'apple', 'banana', 'cherry', 'apple', 'banana', 'cherry', 'apple', 'banana', 'cherry', 'apple', 'banana', 'cherry', 'apple', 'banana', 'cherry', 'apple', 'banana', 'cherry', 'apple', 'banana', 'cherry', 'apple', 'banana', 'cherry', 'apple', 'banana', 'cherry', 'apple', 'banana', 'cherry', 'apple', 'banana', 'cherry', 'apple', 'banana', 'cherry', 'apple', 'banana', 'cherry', 'apple', 'banana', 'cherry', 'apple', 'banana', 'cherry', 'apple', 'banana', 'cherry', 'apple', 'banana', 'cherry', 'apple', 'banana', 'cherry', 'apple', 'banana', 'cherry', 'apple', 'banana', 'cherry', 'apple', 'banana', 'cherry', 'apple', 'banana', 'cherry', 'apple', 'banana', 'cherry', 'apple', 'banana', 'cherry', 'apple', 'banana', 'cherry', 'apple', 'banana', 'cherry', 'apple', 'banana', 'cherry', 'apple', 'banana', 'cherry', 'apple', 'banana', 'cherry', 'apple', 'banana', 'cherry', 'apple', 'banana', 'cherry', 'apple', 'banana', 'cherry', 'apple', 'banana', 'cherry', 'apple', 'banana', 'cherry', 'apple', 'banana', 'cherry', 'apple', 'banana', 'cherry', 'apple', 'banana', 'cherry', 'apple', 'banana', 'cherry', 'apple', 'banana', 'cherry', 'apple', 'banana', 'cherry', 'apple', 'banana', 'cherry', 'apple', 'banana', 'cherry', 'apple', 'banana', 'cherry', 'apple', 'banana', 'cherry', 'apple', 'banana', 'cherry', 'apple', 'banana', 'cherry', 'apple', 'banana', 'cherry', 'apple', 'banana', 'cherry', 'apple', 'banana', 'cherry', 'apple', 'banana', 'cherry', 'apple', 'banana', 'cherry', 'apple', 'banana', 'cherry', 'apple', 'banana', 'cherry', 'apple', 'banana', 'cherry', 'apple', 'banana', 'cherry', 'apple', 'banana', 'cherry', 'apple', 'banana', 'cherry', 'apple', 'banana', 'cherry', 'apple', 'banana', 'cherry', 'apple', 'banana', 'cherry', 'apple', 'banana', 'cherry', 'apple', 'banana', 'cherry', 'apple', 'banana', 'cherry', 'apple', 'banana', 'cherry', 'apple', 'banana', 'cherry', 'apple', 'banana', 'cherry', 'apple', 'banana', 'cherry', 'apple', 'banana', 'cherry', 'apple', 'banana', 'cherry', 'apple', 'banana', 'cherry', 'apple', 'banana', 'cherry', 'apple', 'banana', 'cherry', 'apple', 'banana', 'cherry', 'apple', 'banana', 'cherry', 'apple', 'banana', 'cherry', 'apple', 'banana', 'cherry', 'apple', 'banana', 'cherry', 'apple', 'banana', 'cherry', 'apple', 'banana', 'cherry', 'apple', 'banana', 'cherry', 'apple', 'banana', 'cherry', 'apple', 'banana', 'cherry', 'apple', 'banana', 'cherry', 'apple', 'banana', 'cherry', 'apple', 'banana', 'cherry', 'apple', 'banana', 'cherry', 'apple', 'banana', 'cherry', 'apple', 'banana', 'cherry', 'apple', 'banana', 'cherry', 'apple', 'banana', 'cherry', 'apple', 'banana', 'cherry', 'apple', 'banana', 'cherry', 'apple', 'banana', 'cherry', 'apple', 'banana', 'cherry', 'apple', 'banana', 'cherry', 'apple', 'banana', 'cherry', 'apple', 'banana', 'cherry', 'apple', 'banana', 'cherry', 'apple', 'banana', 'cherry', 'apple', 'banana', 'cherry', 'apple', 'banana', 'cherry', 'apple', 'banana', 'cherry', 'apple', 'banana', 'cherry', 'apple', 'banana', 'cherry', 'apple', 'banana', 'cherry', 'apple', 'banana', 'cherry', 'apple', 'banana', 'cherry', 'apple', 'banana', 'cherry', 'apple', 'banana', 'cherry', 'apple', 'banana', 'cherry', 'apple', 'banana', 'cherry', 'apple', 'banana', 'cherry', 'apple', 'banana', 'cherry', 'apple', 'banana', 'cherry', 'apple', 'banana', 'cherry', 'apple', 'banana', 'cherry', 'apple', 'banana', 'cherry', 'apple', 'banana', 'cherry', 'apple', 'banana', 'cherry', 'apple', 'banana', 'cherry', 'apple', 'banana', 'cherry', 'apple', 'banana', 'cherry', 'apple', 'banana', 'cherry', 'apple', 'banana', 'cherry', 'apple', 'banana', 'cherry', 'apple', 'banana', 'cherry', 'apple', 'banana', 'cherry', 'apple', 'banana', 'cherry', 'apple', 'banana', 'cherry', 'apple', 'banana', 'cherry', 'apple', 'banana', 'cherry', 'apple', 'banana', 'cherry', 'apple', 'banana', 'cherry', 'apple', 'banana', 'cherry', 'apple', 'banana', 'cherry', 'apple', 'banana', 'cherry', 'apple', 'banana', 'cherry', 'apple', 'banana', 'cherry', 'apple', 'banana', 'cherry', 'apple', 'banana', 'cherry', 'apple', 'banana', 'cherry', 'apple', 'banana', 'cherry', 'apple', 'banana', 'cherry', 'apple', 'banana', 'cherry', 'apple', 'banana', 'cherry', 'apple', 'banana', 'cherry', 'apple', 'banana', 'cherry', 'apple', 'banana', 'cherry', 'apple', 'banana', 'cherry', 'apple', 'banana', 'cherry', 'apple', 'banana', 'cherry', 'apple', 'banana', 'cherry', 'apple', 'banana', 'cherry', 'apple', 'banana', 'cherry', 'apple', 'banana', 'cherry', 'apple', 'banana', 'cherry', 'apple', 'banana', 'cherry', 'apple', 'banana', 'cherry', 'apple', 'banana', 'cherry', 'apple', 'banana', 'cherry', 'apple', 'banana', 'cherry', 'apple', 'banana', 'cherry', 'apple', 'banana', 'cherry', 'apple', 'banana', 'cherry', 'apple', 'banana', 'cherry', 'apple', 'banana', 'cherry', 'apple', 'banana', 'cherry', 'apple', 'banana', 'cherry', 'apple', 'banana', 'cherry', 'apple', 'banana', 'cherry', 'apple', 'banana', 'cherry', 'apple', 'banana', 'cherry', 'apple', 'banana', 'cherry', 'apple', 'banana', 'cherry', 'apple', 'banana', 'cherry', 'apple', 'banana', 'cherry', 'apple', 'banana', 'cherry', 'apple', 'banana', 'cherry', 'apple', 'banana', 'cherry', 'apple', 'banana', 'cherry', 'apple', 'banana', 'cherry', 'apple', 'banana', 'cherry', 'apple', 'banana', 'cherry', 'apple', 'banana', 'cherry', 'apple', 'banana', 'cherry', 'apple', 'banana', 'cherry', 'apple', 'banana', 'cherry', 'apple', 'banana', 'cherry', 'apple', 'banana', 'cherry', 'apple', 'banana', 'cherry', 'apple', 'banana', 'cherry', 'apple', 'banana', 'cherry', 'apple', 'banana', 'cherry', 'apple', 'banana', 'cherry', 'apple', 'banana', 'cherry', 'apple', 'banana', 'cherry', 'apple', 'banana', 'cherry', 'apple', 'banana', 'cherry', 'apple', 'banana', 'cherry', 'apple', 'banana', 'cherry', 'apple', 'banana', 'cherry', 'apple', 'banana', 'cherry', 'apple', 'banana', 'cherry', 'apple', 'banana', 'cherry', 'apple', 'banana', 'cherry', 'apple', 'banana', 'cherry', 'apple', 'banana', 'cherry', 'apple', 'banana', 'cherry', 'apple', 'banana', 'cherry', 'apple', 'banana', 'cherry', 'apple', 'banana', 'cherry', 'apple', 'banana', 'cherry', 'apple', 'banana', 'cherry', 'apple', 'banana', 'cherry', 'apple', 'banana', 'cherry', 'apple', 'banana', 'cherry', 'apple', 'banana', 'cherry', 'apple', 'banana', 'cherry', 'apple', 'banana', 'cherry', 'apple', 'banana', 'cherry', 'apple', 'banana', 'cherry', 'apple', 'banana', 'cherry', 'apple', 'banana', 'cherry', 'apple', 'banana', 'cherry', 'apple', 'banana', 'cherry', 'apple', 'banana', 'cherry', 'apple', 'banana', 'cherry', 'apple', 'banana', 'cherry', 'apple', 'banana', 'cherry', 'apple', 'banana', 'cherry', 'apple', 'banana', 'cherry', 'apple', 'banana', 'cherry', 'apple', 'banana', 'cherry', 'apple', 'banana', 'cherry', 'apple', 'banana', 'cherry', 'apple', 'banana', 'cherry', 'apple', 'banana', 'cherry', 'apple', 'banana', 'cherry', 'apple', 'banana', 'cherry', 'apple', 'banana', 'cherry', 'apple', 'banana', 'cherry', 'apple', 'banana', 'cherry', 'apple', 'banana', 'cherry', 'apple', 'banana', 'cherry', 'apple', 'banana', 'cherry', 'apple', 'banana', 'cherry', 'apple', 'banana', 'cherry', 'apple', 'banana', 'cherry', 'apple', 'banana', 'cherry', 'apple', 'banana', 'cherry', 'apple', 'banana', 'cherry', 'apple', 'banana', 'cherry', 'apple', 'banana', 'cherry', 'apple', 'banana', 'cherry', 'apple', 'banana', 'cherry', 'apple', 'banana', 'cherry', 'apple', 'banana', 'cherry', 'apple', 'banana', 'cherry', 'apple', 'banana', 'cherry', 'apple', 'banana', 'cherry', 'apple', 'banana', 'cherry', 'apple', 'banana', 'cherry', 'apple', 'banana', 'cherry', 'apple', 'banana', 'cherry', 'apple', 'banana', 'cherry', 'apple', 'banana', 'cherry', 'apple', 'banana', 'cherry', 'apple', 'banana', 'cherry', 'apple', 'banana', 'cherry', 'apple', 'banana', 'cherry', 'apple', 'banana', 'cherry', 'apple', 'banana', 'cherry', 'apple', 'banana', 'cherry', 'apple', 'banana', 'cherry', 'apple', 'banana', 'cherry', 'apple', 'banana', 'cherry', 'apple', 'banana', 'cherry', 'apple', 'banana', 'cherry', 'apple', 'banana', 'cherry', 'apple', 'banana', 'cherry', 'apple', 'banana', 'cherry', 'apple', 'banana', 'cherry', 'apple', 'banana', 'cherry', 'apple', 'banana', 'cherry', 'apple', 'banana', 'cherry', 'apple', 'banana', 'cherry', 'apple', 'banana', 'cherry', 'apple', 'banana', 'cherry', 'apple', 'banana', 'cherry', 'apple', 'banana', 'cherry', 'apple', 'banana', 'cherry', 'apple', 'banana', 'cherry', 'apple', 'banana', 'cherry', 'apple', 'banana', 'cherry', 'apple', 'banana', 'cherry', 'apple', 'banana', 'cherry', 'apple', 'banana', 'cherry', 'apple', 'banana', 'cherry', 'apple', 'banana', 'cherry', 'apple', 'banana', 'cherry', 'apple', 'banana', 'cherry', 'apple', 'banana', 'cherry', 'apple', 'banana', 'cherry', 'apple', 'banana', 'cherry', 'apple', 'banana', 'cherry', 'apple', 'banana', 'cherry', 'apple', 'banana', 'cherry', 'apple', 'banana', 'cherry', 'apple', 'banana', 'cherry', 'apple', 'banana', 'cherry', 'apple', 'banana', 'cherry', 'apple', 'banana', 'cherry', 'apple', 'banana', 'cherry', 'apple', 'banana', 'cherry', 'apple', 'banana', 'cherry', 'apple', 'banana', 'cherry', 'apple', 'banana', 'cherry', 'apple', 'banana', 'cherry', 'apple', 'banana', 'cherry', 'apple', 'banana', 'cherry', 'apple', 'banana', 'cherry', 'apple', 'banana', 'cherry', 'apple', 'banana', 'cherry', 'apple', 'banana', 'cherry', 'apple', 'banana', 'cherry', 'apple', 'banana', 'cherry', 'apple', 'banana', 'cherry', 'apple', 'banana', 'cherry', 'apple', 'banana', 'cherry', 'apple', 'banana', 'cherry', 'apple', 'banana', 'cherry', 'apple', 'banana', 'cherry', 'apple', 'banana', 'cherry', 'apple', 'banana', 'cherry', 'apple', 'banana', 'cherry', 'apple', 'banana', 'cherry', 'apple', 'banana', 'cherry', 'apple', 'banana', 'cherry', 'apple', 'banana', 'cherry', 'apple', 'banana', 'cherry', 'apple', 'banana', 'cherry', 'apple', 'banana', 'cherry', 'apple', 'banana', 'cherry', 'apple', 'banana', 'cherry', 'apple', 'banana', 'cherry', 'apple', 'banana', 'cherry', 'apple', 'banana', 'cherry', 'apple', 'banana', 'cherry', 'apple', 'banana', 'cherry', 'apple', 'banana', 'cherry', 'apple', 'banana', 'cherry', 'apple', 'banana', 'cherry', 'apple', 'banana', 'cherry', 'apple', 'banana', 'cherry', 'apple', 'banana', 'cherry', 'apple', 'banana', 'cherry', 'apple', 'banana', 'cherry', 'apple', 'banana', 'cherry', 'apple', 'banana', 'cherry', 'apple', 'banana', 'cherry', 'apple', 'banana', 'cherry', 'apple', 'banana', 'cherry', 'apple', 'banana', 'cherry', 'apple', 'banana', 'cherry', 'apple', 'banana', 'cherry', 'apple', 'banana', 'cherry', 'apple', 'banana', 'cherry', 'apple', 'banana', 'cherry', 'apple', 'banana', 'cherry', 'apple', 'banana', 'cherry', 'apple', 'banana', 'cherry', 'apple', 'banana', 'cherry', 'apple', 'banana', 'cherry', 'apple', 'banana', 'cherry', 'apple', 'banana', 'cherry', 'apple', 'banana', 'cherry', 'apple', 'banana', 'cherry', 'apple', 'banana', 'cherry', 'apple', 'banana', 'cherry', 'apple', 'banana', 'cherry', 'apple', 'banana', 'cherry', 'apple', 'banana', 'cherry', 'apple', 'banana', 'cherry', 'apple', 'banana', 'cherry', 'apple', 'banana', 'cherry', 'apple', 'banana', 'cherry', 'apple', 'banana', 'cherry', 'apple', 'banana', 'cherry', 'apple', 'banana', 'cherry', 'apple', 'banana', 'cherry', 'apple', 'banana', 'cherry', 'apple', 'banana', 'cherry', 'apple', 'banana', 'cherry', 'apple', 'banana', 'cherry', 'apple', 'banana', 'cherry', 'apple', 'banana', 'cherry', 'apple', 'banana', 'cherry', 'apple', 'banana', 'cherry', 'apple', 'banana', 'cherry', 'apple', 'banana', 'cherry', 'apple', 'banana', 'cherry', 'apple', 'banana', 'cherry', 'apple', 'banana', 'cherry', 'apple', 'banana', 'cherry', 'apple', 'banana', 'cherry', 'apple', 'banana', 'cherry', 'apple', 'banana', 'cherry', 'apple', 'banana', 'cherry', 'apple', 'banana', 'cherry', 'apple', 'banana', 'cherry', 'apple', 'banana', 'cherry', 'apple', 'banana', 'cherry', 'apple', 'banana', 'cherry', 'apple', 'banana', 'cherry', 'apple', 'banana', 'cherry', 'apple', 'banana', 'cherry', 'apple', 'banana', 'cherry', 'apple', 'banana', 'cherry', 'apple', 'banana', 'cherry', 'apple', 'banana', 'cherry', 'apple', 'banana', 'cherry', 'apple', 'banana', 'cherry', 'apple', 'banana', 'cherry', 'apple', 'banana', 'cherry', 'apple', 'banana', 'cherry', 'apple', 'banana', 'cherry', 'apple', 'banana', 'cherry', 'apple', 'banana', 'cherry', 'apple', 'banana', 'cherry', 'apple', 'banana', 'cherry', 'apple', 'banana', 'cherry', 'apple', 'banana', 'cherry', 'apple', 'banana', 'cherry', 'apple', 'banana', 'cherry', 'apple', 'banana', 'cherry', 'apple', 'banana', 'cherry', 'apple', 'banana', 'cherry', 'apple', 'banana', 'cherry', 'apple', 'banana', 'cherry', 'apple', 'banana', 'cherry', 'apple', 'banana', 'cherry', 'apple', 'banana', 'cherry', 'apple', 'banana', 'cherry', 'apple', 'banana', 'cherry', 'apple', 'banana', 'cherry', 'apple', 'banana', 'cherry', 'apple', 'banana', 'cherry', 'apple', 'banana', 'cherry', 'apple', 'banana', 'cherry', 'apple', 'banana', 'cherry', 'apple', 'banana', 'cherry', 'apple', 'banana', 'cherry', 'apple', 'banana', 'cherry', 'apple', 'banana', 'cherry', 'apple', 'banana', 'cherry', 'apple', 'banana', 'cherry', 'apple', 'banana', 'cherry', 'apple', 'banana', 'cherry', 'apple', 'banana', 'cherry', 'apple', 'banana', 'cherry', 'apple', 'banana', 'cherry', 'apple', 'banana', 'cherry', 'apple', 'banana', 'cherry', 'apple', 'banana', 'cherry', 'apple', 'banana', 'cherry', 'apple', 'banana', 'cherry', 'apple', 'banana', 'cherry', 'apple', 'banana', 'cherry', 'apple', 'banana', 'cherry', 'apple', 'banana', 'cherry', 'apple', 'banana', 'cherry', 'apple', 'banana', 'cherry', 'apple', 'banana', 'cherry', 'apple', 'banana', 'cherry', 'apple', 'banana', 'cherry', 'apple', 'banana', 'cherry', 'apple', 'banana', 'cherry', 'apple', 'banana', 'cherry', 'apple', 'banana', 'cherry', 'apple', 'banana', 'cherry', 'apple', 'banana', 'cherry', 'apple', 'banana', 'cherry', 'apple', 'banana', 'cherry', 'apple', 'banana', 'cherry', 'apple', 'banana', 'cherry', 'apple', 'banana', 'cherry', 'apple', 'banana', 'cherry', 'apple', 'banana', 'cherry', 'apple', 'banana', 'cherry', 'apple', 'banana', 'cherry', 'apple', 'banana', 'cherry', 'apple', 'banana', 'cherry', 'apple', 'banana', 'cherry', 'apple', 'banana', 'cherry', 'apple', 'banana', 'cherry', 'apple', 'banana', 'cherry', 'apple', 'banana', 'cherry', 'apple', 'banana', 'cherry', 'apple', 'banana', 'cherry', 'apple', 'banana', 'cherry', 'apple', 'banana', 'cherry', 'apple', 'banana', 'cherry', 'apple', 'banana', 'cherry', 'apple', 'banana', 'cherry', 'apple', 'banana', 'cherry', 'apple', 'banana', 'cherry', 'apple', 'banana', 'cherry', 'apple', 'banana', 'cherry', 'apple', 'banana', 'cherry', 'apple', 'banana', 'cherry', 'apple', 'banana', 'cherry', 'apple', 'banana', 'cherry', 'apple', 'banana', 'cherry', 'apple', 'banana', 'cherry', 'apple', 'banana', 'cherry', 'apple', 'banana', 'cherry', 'apple', 'banana', 'cherry', 'apple', 'banana', 'cherry', 'apple', 'banana', 'cherry', 'apple', 'banana', 'cherry', 'apple', 'banana', 'cherry', 'apple', 'banana', 'cherry', 'apple', 'banana', 'cherry', 'apple', 'banana', 'cherry', 'apple', 'banana', 'cherry', 'apple', 'banana', 'cherry', 'apple', 'banana', 'cherry', 'apple', 'banana', 'cherry', 'apple', 'banana', 'cherry', 'apple', 'banana', 'cherry', 'apple', 'banana', 'cherry', 'apple', 'banana', 'cherry', 'apple', 'banana', 'cherry', 'apple', 'banana', 'cherry', 'apple', 'banana', 'cherry', 'apple', 'banana', 'cherry', 'apple', 'banana', 'cherry', 'apple', 'banana', 'cherry', 'apple', 'banana', 'cherry', 'apple', 'banana', 'cherry', 'apple', 'banana', 'cherry', 'apple', 'banana', 'cherry', 'apple', 'banana', 'cherry', 'apple', 'banana', 'cherry', 'apple', 'banana', 'cherry', 'apple', 'banana', 'cherry', 'apple', 'banana', 'cherry', 'apple', 'banana', 'cherry', 'apple', 'banana', 'cherry', 'apple', 'banana', 'cherry', 'apple', 'banana', 'cherry', 'apple', 'banana', 'cherry', 'apple', 'banana', 'cherry', 'apple', 'banana', 'cherry', 'apple', 'banana', 'cherry', 'apple', 'banana', 'cherry', 'apple', 'banana', 'cherry', 'apple', 'banana', 'cherry', 'apple', 'banana', 'cherry', 'apple', 'banana', 'cherry', 'apple', 'banana', 'cherry', 'apple', 'banana', 'cherry', 'apple', 'banana', 'cherry', 'apple', 'banana', 'cherry', 'apple', 'banana', 'cherry', 'apple', 'banana', 'cherry', 'apple', 'banana', 'cherry', 'apple', 'banana', 'cherry', 'apple', 'banana', 'cherry', 'apple', 'banana', 'cherry', 'apple', 'banana', 'cherry', 'apple', 'banana', 'cherry', 'apple', 'banana', 'cherry', 'apple', 'banana', 'cherry', 'apple', 'banana', 'cherry', 'apple', 'banana', 'cherry', 'apple', 'banana', 'cherry', 'apple', 'banana', 'cherry', 'apple', 'banana', 'cherry', 'apple', 'banana', 'cherry', 'apple', 'banana', 'cherry', 'apple', 'banana', 'cherry', 'apple', 'banana', 'cherry', 'apple', 'banana', 'cherry', 'apple', 'banana', 'cherry', 'apple', 'banana', 'cherry', 'apple', 'banana', 'cherry', 'apple', 'banana', 'cherry', 'apple', 'banana', 'cherry', 'apple', 'banana', 'cherry', 'apple', 'banana', 'cherry', 'apple', 'banana', 'cherry', 'apple', 'banana', 'cherry', 'apple', 'banana', 'cherry', 'apple', 'banana', 'cherry', 'apple', 'banana', 'cherry', 'apple', 'banana', 'cherry', 'apple', 'banana', 'cherry', 'apple', 'banana', 'cherry', 'apple', 'banana', 'cherry', 'apple', 'banana', 'cherry', 'apple', 'banana', 'cherry', 'apple', 'banana', 'cherry', 'apple', 'banana', 'cherry', 'apple', 'banana', 'cherry', 'apple', 'banana', 'cherry', 'apple', 'banana', 'cherry', 'apple', 'banana', 'cherry', 'apple', 'banana', 'cherry', 'apple', 'banana', 'cherry', 'apple', 'banana', 'cherry', 'apple', 'banana', 'cherry', 'apple', 'banana', 'cherry', 'apple', 'banana', 'cherry', 'apple', 'banana', 'cherry', 'apple', 'banana', 'cherry', 'apple', 'banana', 'cherry', 'apple', 'banana', 'cherry', 'apple', 'banana', 'cherry', 'apple', 'banana', 'cherry', 'apple', 'banana', 'cherry', 'apple', 'banana', 'cherry', 'apple', 'banana', 'cherry', 'apple', 'banana', 'cherry', 'apple', 'banana', 'cherry', 'apple', 'banana', 'cherry', 'apple', 'banana', 'cherry', 'apple', 'banana', 'cherry', 'apple', 'banana', 'cherry', 'apple', 'banana', 'cherry', 'apple', 'banana', 'cherry', 'apple', 'banana', 'cherry', 'apple', 'banana', 'cherry', 'apple', 'banana', 'cherry', 'apple', 'banana', 'cherry', 'apple', 'banana', 'cherry', 'apple', 'banana', 'cherry', 'apple', 'banana', 'cherry', 'apple', 'banana', 'cherry', 'apple', 'banana', 'cherry', 'apple', 'banana', 'cherry', 'apple', 'banana', 'cherry', 'apple', 'banana', 'cherry', 'apple', 'banana', 'cherry', 'apple', 'banana', 'cherry', 'apple', 'banana', 'cherry', 'apple', 'banana', 'cherry', 'apple', 'banana', 'cherry', 'apple', 'banana', 'cherry', 'apple', 'banana', 'cherry', 'apple', 'banana', 'cherry', 'apple', 'banana', 'cherry', 'apple', 'banana', 'cherry', 'apple', 'banana', 'cherry', 'apple', 'banana', 'cherry', 'apple', 'banana', 'cherry', 'apple', 'banana', 'cherry', 'apple', 'banana', 'cherry', 'apple', 'banana', 'cherry', 'apple', 'banana', 'cherry', 'apple', 'banana', 'cherry', 'apple', 'banana', 'cherry', 'apple', 'banana', 'cherry', 'apple', 'banana', 'cherry', 'apple', 'banana', 'cherry', 'apple', 'banana', 'cherry', 'apple', 'banana', 'cherry', 'apple', 'banana', 'cherry', 'apple', 'banana', 'cherry', 'apple', 'banana', 'cherry', 'apple', 'banana', 'cherry', 'apple', 'banana', 'cherry', 'apple', 'banana', 'cherry', 'apple', 'banana', 'cherry', 'apple', 'banana', 'cherry', 'apple', 'banana', 'cherry', 'apple', 'banana', 'cherry', 'apple', 'banana', 'cherry', 'apple', 'banana', 'cherry', 'apple', 'banana', 'cherry', 'apple', 'banana', 'cherry', 'apple', 'banana', 'cherry', 'apple', 'banana', 'cherry', 'apple', 'banana', 'cherry', 'apple', 'banana', 'cherry', 'apple', 'banana', 'cherry', 'apple', 'banana', 'cherry', 'apple', 'banana', 'cherry', 'apple', 'banana', 'cherry', 'apple', 'banana', 'cherry', 'apple', 'banana', 'cherry', 'apple', 'banana', 'cherry', 'apple', 'banana', 'cherry', 'apple', 'banana', 'cherry', 'apple', 'banana', 'cherry', 'apple', 'banana', 'cherry', 'apple', 'banana', 'cherry', 'apple', 'banana', 'cherry', 'apple', 'banana', 'cherry', 'apple', 'banana', 'cherry', 'apple', 'banana', 'cherry', 'apple', 'banana', 'cherry', 'apple', 'banana', 'cherry', 'apple', 'banana', 'cherry', 'apple', 'banana', 'cherry', 'apple', 'banana', 'cherry', 'apple', 'banana', 'cherry', 'apple', 'banana', 'cherry', 'apple', 'banana', 'cherry', 'apple', 'banana', 'cherry', 'apple', 'banana', 'cherry', 'apple', 'banana', 'cherry', 'apple', 'banana', 'cherry', 'apple', 'banana', 'cherry', 'apple', 'banana', 'cherry', 'apple', 'banana', 'cherry', 'apple', 'banana', 'cherry', 'apple', 'banana', 'cherry', 'apple', 'banana', 'cherry', 'apple', 'banana', 'cherry', 'apple', 'banana', 'cherry', 'apple', 'banana', 'cherry', 'apple', 'banana', 'cherry', 'apple', 'banana', 'cherry', 'apple', 'banana', 'cherry', 'apple', 'banana', 'cherry', 'apple', 'banana', 'cherry', 'apple', 'banana', 'cherry', 'apple', 'banana', 'cherry', 'apple', 'banana', 'cherry', 'apple', 'banana', 'cherry', 'apple', 'banana', 'cherry', 'apple', 'banana', 'cherry', 'apple', 'banana', 'cherry', 'apple', 'banana', 'cherry', 'apple', 'banana', 'cherry', 'apple', 'banana', 'cherry', 'apple', 'banana', 'cherry', 'apple', 'banana', 'cherry', 'apple', 'banana', 'cherry', 'apple', 'banana', 'cherry', 'apple', 'banana', 'cherry', 'apple', 'banana', 'cherry', 'apple', 'banana', 'cherry', 'apple', 'banana', 'cherry', 'apple', 'banana', 'cherry', 'apple', 'banana', 'cherry', 'apple', 'banana', 'cherry', 'apple', 'banana', 'cherry', 'apple', 'banana', 'cherry', 'apple', 'banana', 'cherry', 'apple', 'banana', 'cherry', 'apple', 'banana', 'cherry', 'apple', 'banana', 'cherry', 'apple', 'banana', 'cherry', 'apple', 'banana', 'cherry', 'apple', 'banana', 'cherry', 'apple', 'banana', 'cherry', 'apple', 'banana', 'cherry', 'apple', 'banana', 'cherry', 'apple', 'banana', 'cherry', 'apple', 'banana', 'cherry', 'apple', 'banana', 'cherry', 'apple', 'banana', 'cherry', 'apple', 'banana', 'cherry', 'apple', 'banana', 'cherry', 'apple', 'banana', 'cherry', 'apple', 'banana', 'cherry', 'apple', 'banana', 'cherry', 'apple', 'banana', 'cherry', 'apple', 'banana', 'cherry', 'apple', 'banana', 'cherry', 'apple', 'banana', 'cherry', 'apple', 'banana', 'cherry', 'apple', 'banana', 'cherry', 'apple', 'banana', 'cherry', 'apple', 'banana', 'cherry', 'apple', 'banana', 'cherry', 'apple', 'banana', 'cherry', 'apple', 'banana', 'cherry', 'apple', 'banana', 'cherry', 'apple', 'banana', 'cherry', 'apple', 'banana', 'cherry', 'apple', 'banana', 'cherry', 'apple', 'banana', 'cherry', 'apple', 'banana', 'cherry', 'apple', 'banana', 'cherry', 'apple', 'banana', 'cherry', 'apple', 'banana', 'cherry', 'apple', 'banana', 'cherry', 'apple', 'banana', 'cherry', 'apple', 'banana', 'cherry', 'apple', 'banana', 'cherry', 'apple', 'banana', 'cherry', 'apple', 'banana', 'cherry', 'apple', 'banana', 'cherry', 'apple', 'banana', 'cherry', 'apple', 'banana', 'cherry', 'apple', 'banana', 'cherry', 'apple', 'banana', 'cherry', 'apple', 'banana', 'cherry', 'apple', 'banana', 'cherry', 'apple', 'banana', 'cherry', 'apple', 'banana', 'cherry', 'apple', 'banana', 'cherry', 'apple', 'banana', 'cherry', 'apple', 'banana', 'cherry', 'apple', 'banana', 'cherry', 'apple', 'banana', 'cherry', 'apple', 'banana', 'cherry', 'apple', 'banana', 'cherry', 'apple', 'banana', 'cherry', 'apple', 'banana', 'cherry', 'apple', 'banana', 'cherry']\n",
            "Predicted: ['apple', 'pear', 'grape', 'apple', 'pear', 'grape', 'apple', 'pear', 'grape', 'apple', 'pear', 'grape', 'apple', 'pear', 'grape', 'apple', 'pear', 'grape', 'apple', 'pear', 'grape', 'apple', 'pear', 'grape', 'apple', 'pear', 'grape', 'apple', 'pear', 'grape', 'apple', 'pear', 'grape', 'apple', 'pear', 'grape', 'apple', 'pear', 'grape', 'apple', 'pear', 'grape', 'apple', 'pear', 'grape', 'apple', 'pear', 'grape', 'apple', 'pear', 'grape', 'apple', 'pear', 'grape', 'apple', 'pear', 'grape', 'apple', 'pear', 'grape', 'apple', 'pear', 'grape', 'apple', 'pear', 'grape', 'apple', 'pear', 'grape', 'apple', 'pear', 'grape', 'apple', 'pear', 'grape', 'apple', 'pear', 'grape', 'apple', 'pear', 'grape', 'apple', 'pear', 'grape', 'apple', 'pear', 'grape', 'apple', 'pear', 'grape', 'apple', 'pear', 'grape', 'apple', 'pear', 'grape', 'apple', 'pear', 'grape', 'apple', 'pear', 'grape', 'apple', 'pear', 'grape', 'apple', 'pear', 'grape', 'apple', 'pear', 'grape', 'apple', 'pear', 'grape', 'apple', 'pear', 'grape', 'apple', 'pear', 'grape', 'apple', 'pear', 'grape', 'apple', 'pear', 'grape', 'apple', 'pear', 'grape', 'apple', 'pear', 'grape', 'apple', 'pear', 'grape', 'apple', 'pear', 'grape', 'apple', 'pear', 'grape', 'apple', 'pear', 'grape', 'apple', 'pear', 'grape', 'apple', 'pear', 'grape', 'apple', 'pear', 'grape', 'apple', 'pear', 'grape', 'apple', 'pear', 'grape', 'apple', 'pear', 'grape', 'apple', 'pear', 'grape', 'apple', 'pear', 'grape', 'apple', 'pear', 'grape', 'apple', 'pear', 'grape', 'apple', 'pear', 'grape', 'apple', 'pear', 'grape', 'apple', 'pear', 'grape', 'apple', 'pear', 'grape', 'apple', 'pear', 'grape', 'apple', 'pear', 'grape', 'apple', 'pear', 'grape', 'apple', 'pear', 'grape', 'apple', 'pear', 'grape', 'apple', 'pear', 'grape', 'apple', 'pear', 'grape', 'apple', 'pear', 'grape', 'apple', 'pear', 'grape', 'apple', 'pear', 'grape', 'apple', 'pear', 'grape', 'apple', 'pear', 'grape', 'apple', 'pear', 'grape', 'apple', 'pear', 'grape', 'apple', 'pear', 'grape', 'apple', 'pear', 'grape', 'apple', 'pear', 'grape', 'apple', 'pear', 'grape', 'apple', 'pear', 'grape', 'apple', 'pear', 'grape', 'apple', 'pear', 'grape', 'apple', 'pear', 'grape', 'apple', 'pear', 'grape', 'apple', 'pear', 'grape', 'apple', 'pear', 'grape', 'apple', 'pear', 'grape', 'apple', 'pear', 'grape', 'apple', 'pear', 'grape', 'apple', 'pear', 'grape', 'apple', 'pear', 'grape', 'apple', 'pear', 'grape', 'apple', 'pear', 'grape', 'apple', 'pear', 'grape', 'apple', 'pear', 'grape', 'apple', 'pear', 'grape', 'apple', 'pear', 'grape', 'apple', 'pear', 'grape', 'apple', 'pear', 'grape', 'apple', 'pear', 'grape', 'apple', 'pear', 'grape', 'apple', 'pear', 'grape', 'apple', 'pear', 'grape', 'apple', 'pear', 'grape', 'apple', 'pear', 'grape', 'apple', 'pear', 'grape', 'apple', 'pear', 'grape', 'apple', 'pear', 'grape', 'apple', 'pear', 'grape', 'apple', 'pear', 'grape', 'apple', 'pear', 'grape', 'apple', 'pear', 'grape', 'apple', 'pear', 'grape', 'apple', 'pear', 'grape', 'apple', 'pear', 'grape', 'apple', 'pear', 'grape', 'apple', 'pear', 'grape', 'apple', 'pear', 'grape', 'apple', 'pear', 'grape', 'apple', 'pear', 'grape', 'apple', 'pear', 'grape', 'apple', 'pear', 'grape', 'apple', 'pear', 'grape', 'apple', 'pear', 'grape', 'apple', 'pear', 'grape', 'apple', 'pear', 'grape', 'apple', 'pear', 'grape', 'apple', 'pear', 'grape', 'apple', 'pear', 'grape', 'apple', 'pear', 'grape', 'apple', 'pear', 'grape', 'apple', 'pear', 'grape', 'apple', 'pear', 'grape', 'apple', 'pear', 'grape', 'apple', 'pear', 'grape', 'apple', 'pear', 'grape', 'apple', 'pear', 'grape', 'apple', 'pear', 'grape', 'apple', 'pear', 'grape', 'apple', 'pear', 'grape', 'apple', 'pear', 'grape', 'apple', 'pear', 'grape', 'apple', 'pear', 'grape', 'apple', 'pear', 'grape', 'apple', 'pear', 'grape', 'apple', 'pear', 'grape', 'apple', 'pear', 'grape', 'apple', 'pear', 'grape', 'apple', 'pear', 'grape', 'apple', 'pear', 'grape', 'apple', 'pear', 'grape', 'apple', 'pear', 'grape', 'apple', 'pear', 'grape', 'apple', 'pear', 'grape', 'apple', 'pear', 'grape', 'apple', 'pear', 'grape', 'apple', 'pear', 'grape', 'apple', 'pear', 'grape', 'apple', 'pear', 'grape', 'apple', 'pear', 'grape', 'apple', 'pear', 'grape', 'apple', 'pear', 'grape', 'apple', 'pear', 'grape', 'apple', 'pear', 'grape', 'apple', 'pear', 'grape', 'apple', 'pear', 'grape', 'apple', 'pear', 'grape', 'apple', 'pear', 'grape', 'apple', 'pear', 'grape', 'apple', 'pear', 'grape', 'apple', 'pear', 'grape', 'apple', 'pear', 'grape', 'apple', 'pear', 'grape', 'apple', 'pear', 'grape', 'apple', 'pear', 'grape', 'apple', 'pear', 'grape', 'apple', 'pear', 'grape', 'apple', 'pear', 'grape', 'apple', 'pear', 'grape', 'apple', 'pear', 'grape', 'apple', 'pear', 'grape', 'apple', 'pear', 'grape', 'apple', 'pear', 'grape', 'apple', 'pear', 'grape', 'apple', 'pear', 'grape', 'apple', 'pear', 'grape', 'apple', 'pear', 'grape', 'apple', 'pear', 'grape', 'apple', 'pear', 'grape', 'apple', 'pear', 'grape', 'apple', 'pear', 'grape', 'apple', 'pear', 'grape', 'apple', 'pear', 'grape', 'apple', 'pear', 'grape', 'apple', 'pear', 'grape', 'apple', 'pear', 'grape', 'apple', 'pear', 'grape', 'apple', 'pear', 'grape', 'apple', 'pear', 'grape', 'apple', 'pear', 'grape', 'apple', 'pear', 'grape', 'apple', 'pear', 'grape', 'apple', 'pear', 'grape', 'apple', 'pear', 'grape', 'apple', 'pear', 'grape', 'apple', 'pear', 'grape', 'apple', 'pear', 'grape', 'apple', 'pear', 'grape', 'apple', 'pear', 'grape', 'apple', 'pear', 'grape', 'apple', 'pear', 'grape', 'apple', 'pear', 'grape', 'apple', 'pear', 'grape', 'apple', 'pear', 'grape', 'apple', 'pear', 'grape', 'apple', 'pear', 'grape', 'apple', 'pear', 'grape', 'apple', 'pear', 'grape', 'apple', 'pear', 'grape', 'apple', 'pear', 'grape', 'apple', 'pear', 'grape', 'apple', 'pear', 'grape', 'apple', 'pear', 'grape', 'apple', 'pear', 'grape', 'apple', 'pear', 'grape', 'apple', 'pear', 'grape', 'apple', 'pear', 'grape', 'apple', 'pear', 'grape', 'apple', 'pear', 'grape', 'apple', 'pear', 'grape', 'apple', 'pear', 'grape', 'apple', 'pear', 'grape', 'apple', 'pear', 'grape', 'apple', 'pear', 'grape', 'apple', 'pear', 'grape', 'apple', 'pear', 'grape', 'apple', 'pear', 'grape', 'apple', 'pear', 'grape', 'apple', 'pear', 'grape', 'apple', 'pear', 'grape', 'apple', 'pear', 'grape', 'apple', 'pear', 'grape', 'apple', 'pear', 'grape', 'apple', 'pear', 'grape', 'apple', 'pear', 'grape', 'apple', 'pear', 'grape', 'apple', 'pear', 'grape', 'apple', 'pear', 'grape', 'apple', 'pear', 'grape', 'apple', 'pear', 'grape', 'apple', 'pear', 'grape', 'apple', 'pear', 'grape', 'apple', 'pear', 'grape', 'apple', 'pear', 'grape', 'apple', 'pear', 'grape', 'apple', 'pear', 'grape', 'apple', 'pear', 'grape', 'apple', 'pear', 'grape', 'apple', 'pear', 'grape', 'apple', 'pear', 'grape', 'apple', 'pear', 'grape', 'apple', 'pear', 'grape', 'apple', 'pear', 'grape', 'apple', 'pear', 'grape', 'apple', 'pear', 'grape', 'apple', 'pear', 'grape', 'apple', 'pear', 'grape', 'apple', 'pear', 'grape', 'apple', 'pear', 'grape', 'apple', 'pear', 'grape', 'apple', 'pear', 'grape', 'apple', 'pear', 'grape', 'apple', 'pear', 'grape', 'apple', 'pear', 'grape', 'apple', 'pear', 'grape', 'apple', 'pear', 'grape', 'apple', 'pear', 'grape', 'apple', 'pear', 'grape', 'apple', 'pear', 'grape', 'apple', 'pear', 'grape', 'apple', 'pear', 'grape', 'apple', 'pear', 'grape', 'apple', 'pear', 'grape', 'apple', 'pear', 'grape', 'apple', 'pear', 'grape', 'apple', 'pear', 'grape', 'apple', 'pear', 'grape', 'apple', 'pear', 'grape', 'apple', 'pear', 'grape', 'apple', 'pear', 'grape', 'apple', 'pear', 'grape', 'apple', 'pear', 'grape', 'apple', 'pear', 'grape', 'apple', 'pear', 'grape', 'apple', 'pear', 'grape', 'apple', 'pear', 'grape', 'apple', 'pear', 'grape', 'apple', 'pear', 'grape', 'apple', 'pear', 'grape', 'apple', 'pear', 'grape', 'apple', 'pear', 'grape', 'apple', 'pear', 'grape', 'apple', 'pear', 'grape', 'apple', 'pear', 'grape', 'apple', 'pear', 'grape', 'apple', 'pear', 'grape', 'apple', 'pear', 'grape', 'apple', 'pear', 'grape', 'apple', 'pear', 'grape', 'apple', 'pear', 'grape', 'apple', 'pear', 'grape', 'apple', 'pear', 'grape', 'apple', 'pear', 'grape', 'apple', 'pear', 'grape', 'apple', 'pear', 'grape', 'apple', 'pear', 'grape', 'apple', 'pear', 'grape', 'apple', 'pear', 'grape', 'apple', 'pear', 'grape', 'apple', 'pear', 'grape', 'apple', 'pear', 'grape', 'apple', 'pear', 'grape', 'apple', 'pear', 'grape', 'apple', 'pear', 'grape', 'apple', 'pear', 'grape', 'apple', 'pear', 'grape', 'apple', 'pear', 'grape', 'apple', 'pear', 'grape', 'apple', 'pear', 'grape', 'apple', 'pear', 'grape', 'apple', 'pear', 'grape', 'apple', 'pear', 'grape', 'apple', 'pear', 'grape', 'apple', 'pear', 'grape', 'apple', 'pear', 'grape', 'apple', 'pear', 'grape', 'apple', 'pear', 'grape', 'apple', 'pear', 'grape', 'apple', 'pear', 'grape', 'apple', 'pear', 'grape', 'apple', 'pear', 'grape', 'apple', 'pear', 'grape', 'apple', 'pear', 'grape', 'apple', 'pear', 'grape', 'apple', 'pear', 'grape', 'apple', 'pear', 'grape', 'apple', 'pear', 'grape', 'apple', 'pear', 'grape', 'apple', 'pear', 'grape', 'apple', 'pear', 'grape', 'apple', 'pear', 'grape', 'apple', 'pear', 'grape', 'apple', 'pear', 'grape', 'apple', 'pear', 'grape', 'apple', 'pear', 'grape', 'apple', 'pear', 'grape', 'apple', 'pear', 'grape', 'apple', 'pear', 'grape', 'apple', 'pear', 'grape', 'apple', 'pear', 'grape', 'apple', 'pear', 'grape', 'apple', 'pear', 'grape', 'apple', 'pear', 'grape', 'apple', 'pear', 'grape', 'apple', 'pear', 'grape', 'apple', 'pear', 'grape', 'apple', 'pear', 'grape', 'apple', 'pear', 'grape', 'apple', 'pear', 'grape', 'apple', 'pear', 'grape', 'apple', 'pear', 'grape', 'apple', 'pear', 'grape', 'apple', 'pear', 'grape', 'apple', 'pear', 'grape', 'apple', 'pear', 'grape', 'apple', 'pear', 'grape', 'apple', 'pear', 'grape', 'apple', 'pear', 'grape', 'apple', 'pear', 'grape', 'apple', 'pear', 'grape', 'apple', 'pear', 'grape', 'apple', 'pear', 'grape', 'apple', 'pear', 'grape', 'apple', 'pear', 'grape', 'apple', 'pear', 'grape', 'apple', 'pear', 'grape', 'apple', 'pear', 'grape', 'apple', 'pear', 'grape', 'apple', 'pear', 'grape', 'apple', 'pear', 'grape', 'apple', 'pear', 'grape', 'apple', 'pear', 'grape', 'apple', 'pear', 'grape', 'apple', 'pear', 'grape', 'apple', 'pear', 'grape', 'apple', 'pear', 'grape', 'apple', 'pear', 'grape', 'apple', 'pear', 'grape', 'apple', 'pear', 'grape', 'apple', 'pear', 'grape', 'apple', 'pear', 'grape', 'apple', 'pear', 'grape', 'apple', 'pear', 'grape', 'apple', 'pear', 'grape', 'apple', 'pear', 'grape', 'apple', 'pear', 'grape', 'apple', 'pear', 'grape', 'apple', 'pear', 'grape', 'apple', 'pear', 'grape', 'apple', 'pear', 'grape', 'apple', 'pear', 'grape', 'apple', 'pear', 'grape', 'apple', 'pear', 'grape', 'apple', 'pear', 'grape', 'apple', 'pear', 'grape', 'apple', 'pear', 'grape', 'apple', 'pear', 'grape', 'apple', 'pear', 'grape', 'apple', 'pear', 'grape', 'apple', 'pear', 'grape', 'apple', 'pear', 'grape', 'apple', 'pear', 'grape', 'apple', 'pear', 'grape', 'apple', 'pear', 'grape', 'apple', 'pear', 'grape', 'apple', 'pear', 'grape', 'apple', 'pear', 'grape', 'apple', 'pear', 'grape', 'apple', 'pear', 'grape', 'apple', 'pear', 'grape', 'apple', 'pear', 'grape', 'apple', 'pear', 'grape', 'apple', 'pear', 'grape', 'apple', 'pear', 'grape', 'apple', 'pear', 'grape', 'apple', 'pear', 'grape', 'apple', 'pear', 'grape', 'apple', 'pear', 'grape', 'apple', 'pear', 'grape', 'apple', 'pear', 'grape', 'apple', 'pear', 'grape', 'apple', 'pear', 'grape', 'apple', 'pear', 'grape', 'apple', 'pear', 'grape', 'apple', 'pear', 'grape', 'apple', 'pear', 'grape', 'apple', 'pear', 'grape', 'apple', 'pear', 'grape', 'apple', 'pear', 'grape', 'apple', 'pear', 'grape', 'apple', 'pear', 'grape', 'apple', 'pear', 'grape', 'apple', 'pear', 'grape', 'apple', 'pear', 'grape', 'apple', 'pear', 'grape', 'apple', 'pear', 'grape', 'apple', 'pear', 'grape', 'apple', 'pear', 'grape', 'apple', 'pear', 'grape', 'apple', 'pear', 'grape', 'apple', 'pear', 'grape', 'apple', 'pear', 'grape', 'apple', 'pear', 'grape', 'apple', 'pear', 'grape', 'apple', 'pear', 'grape', 'apple', 'pear', 'grape', 'apple', 'pear', 'grape', 'apple', 'pear', 'grape', 'apple', 'pear', 'grape', 'apple', 'pear', 'grape', 'apple', 'pear', 'grape', 'apple', 'pear', 'grape', 'apple', 'pear', 'grape', 'apple', 'pear', 'grape', 'apple', 'pear', 'grape', 'apple', 'pear', 'grape', 'apple', 'pear', 'grape', 'apple', 'pear', 'grape', 'apple', 'pear', 'grape', 'apple', 'pear', 'grape', 'apple', 'pear', 'grape', 'apple', 'pear', 'grape', 'apple', 'pear', 'grape', 'apple', 'pear', 'grape', 'apple', 'pear', 'grape', 'apple', 'pear', 'grape', 'apple', 'pear', 'grape', 'apple', 'pear', 'grape', 'apple', 'pear', 'grape', 'apple', 'pear', 'grape', 'apple', 'pear', 'grape', 'apple', 'pear', 'grape', 'apple', 'pear', 'grape', 'apple', 'pear', 'grape', 'apple', 'pear', 'grape', 'apple', 'pear', 'grape', 'apple', 'pear', 'grape', 'apple', 'pear', 'grape', 'apple', 'pear', 'grape', 'apple', 'pear', 'grape', 'apple', 'pear', 'grape', 'apple', 'pear', 'grape', 'apple', 'pear', 'grape', 'apple', 'pear', 'grape', 'apple', 'pear', 'grape', 'apple', 'pear', 'grape', 'apple', 'pear', 'grape', 'apple', 'pear', 'grape', 'apple', 'pear', 'grape', 'apple', 'pear', 'grape', 'apple', 'pear', 'grape', 'apple', 'pear', 'grape', 'apple', 'pear', 'grape', 'apple', 'pear', 'grape', 'apple', 'pear', 'grape', 'apple', 'pear', 'grape', 'apple', 'pear', 'grape', 'apple', 'pear', 'grape', 'apple', 'pear', 'grape', 'apple', 'pear', 'grape', 'apple', 'pear', 'grape', 'apple', 'pear', 'grape', 'apple', 'pear', 'grape', 'apple', 'pear', 'grape', 'apple', 'pear', 'grape', 'apple', 'pear', 'grape', 'apple', 'pear', 'grape', 'apple', 'pear', 'grape', 'apple', 'pear', 'grape', 'apple', 'pear', 'grape', 'apple', 'pear', 'grape', 'apple', 'pear', 'grape', 'apple', 'pear', 'grape', 'apple', 'pear', 'grape', 'apple', 'pear', 'grape', 'apple', 'pear', 'grape', 'apple', 'pear', 'grape', 'apple', 'pear', 'grape', 'apple', 'pear', 'grape', 'apple', 'pear', 'grape', 'apple', 'pear', 'grape', 'apple', 'pear', 'grape', 'apple', 'pear', 'grape', 'apple', 'pear', 'grape', 'apple', 'pear', 'grape', 'apple', 'pear', 'grape', 'apple', 'pear', 'grape', 'apple', 'pear', 'grape', 'apple', 'pear', 'grape', 'apple', 'pear', 'grape', 'apple', 'pear', 'grape', 'apple', 'pear', 'grape', 'apple', 'pear', 'grape', 'apple', 'pear', 'grape', 'apple', 'pear', 'grape', 'apple', 'pear', 'grape', 'apple', 'pear', 'grape', 'apple', 'pear', 'grape', 'apple', 'pear', 'grape', 'apple', 'pear', 'grape', 'apple', 'pear', 'grape', 'apple', 'pear', 'grape', 'apple', 'pear', 'grape', 'apple', 'pear', 'grape', 'apple', 'pear', 'grape', 'apple', 'pear', 'grape', 'apple', 'pear', 'grape', 'apple', 'pear', 'grape', 'apple', 'pear', 'grape', 'apple', 'pear', 'grape', 'apple', 'pear', 'grape', 'apple', 'pear', 'grape', 'apple', 'pear', 'grape', 'apple', 'pear', 'grape', 'apple', 'pear', 'grape', 'apple', 'pear', 'grape', 'apple', 'pear', 'grape', 'apple', 'pear', 'grape', 'apple', 'pear', 'grape', 'apple', 'pear', 'grape', 'apple', 'pear', 'grape', 'apple', 'pear', 'grape', 'apple', 'pear', 'grape', 'apple', 'pear', 'grape', 'apple', 'pear', 'grape', 'apple', 'pear', 'grape', 'apple', 'pear', 'grape', 'apple', 'pear', 'grape', 'apple', 'pear', 'grape', 'apple', 'pear', 'grape', 'apple', 'pear', 'grape', 'apple', 'pear', 'grape', 'apple', 'pear', 'grape', 'apple', 'pear', 'grape', 'apple', 'pear', 'grape', 'apple', 'pear', 'grape', 'apple', 'pear', 'grape', 'apple', 'pear', 'grape', 'apple', 'pear', 'grape', 'apple', 'pear', 'grape', 'apple', 'pear', 'grape', 'apple', 'pear', 'grape', 'apple', 'pear', 'grape', 'apple', 'pear', 'grape', 'apple', 'pear', 'grape', 'apple', 'pear', 'grape', 'apple', 'pear', 'grape', 'apple', 'pear', 'grape', 'apple', 'pear', 'grape', 'apple', 'pear', 'grape', 'apple', 'pear', 'grape', 'apple', 'pear', 'grape', 'apple', 'pear', 'grape', 'apple', 'pear', 'grape', 'apple', 'pear', 'grape', 'apple', 'pear', 'grape', 'apple', 'pear', 'grape', 'apple', 'pear', 'grape', 'apple', 'pear', 'grape', 'apple', 'pear', 'grape', 'apple', 'pear', 'grape', 'apple', 'pear', 'grape', 'apple', 'pear', 'grape', 'apple', 'pear', 'grape', 'apple', 'pear', 'grape', 'apple', 'pear', 'grape', 'apple', 'pear', 'grape', 'apple', 'pear', 'grape', 'apple', 'pear', 'grape', 'apple', 'pear', 'grape', 'apple', 'pear', 'grape', 'apple', 'pear', 'grape', 'apple', 'pear', 'grape', 'apple', 'pear', 'grape', 'apple', 'pear', 'grape', 'apple', 'pear', 'grape', 'apple', 'pear', 'grape', 'apple', 'pear', 'grape', 'apple', 'pear', 'grape', 'apple', 'pear', 'grape', 'apple', 'pear', 'grape', 'apple', 'pear', 'grape', 'apple', 'pear', 'grape', 'apple', 'pear', 'grape', 'apple', 'pear', 'grape', 'apple', 'pear', 'grape', 'apple', 'pear', 'grape', 'apple', 'pear', 'grape', 'apple', 'pear', 'grape', 'apple', 'pear', 'grape', 'apple', 'pear', 'grape', 'apple', 'pear', 'grape', 'apple', 'pear', 'grape', 'apple', 'pear', 'grape', 'apple', 'pear', 'grape', 'apple', 'pear', 'grape', 'apple', 'pear', 'grape', 'apple', 'pear', 'grape', 'apple', 'pear', 'grape', 'apple', 'pear', 'grape', 'apple', 'pear', 'grape', 'apple', 'pear', 'grape', 'apple', 'pear', 'grape', 'apple', 'pear', 'grape', 'apple', 'pear', 'grape', 'apple', 'pear', 'grape', 'apple', 'pear', 'grape', 'apple', 'pear', 'grape', 'apple', 'pear', 'grape', 'apple', 'pear', 'grape', 'apple', 'pear', 'grape', 'apple', 'pear', 'grape', 'apple', 'pear', 'grape', 'apple', 'pear', 'grape', 'apple', 'pear', 'grape', 'apple', 'pear', 'grape', 'apple', 'pear', 'grape', 'apple', 'pear', 'grape', 'apple', 'pear', 'grape', 'apple', 'pear', 'grape', 'apple', 'pear', 'grape', 'apple', 'pear', 'grape', 'apple', 'pear', 'grape', 'apple', 'pear', 'grape', 'apple', 'pear', 'grape', 'apple', 'pear', 'grape', 'apple', 'pear', 'grape', 'apple', 'pear', 'grape', 'apple', 'pear', 'grape', 'apple', 'pear', 'grape', 'apple', 'pear', 'grape', 'apple', 'pear', 'grape', 'apple', 'pear', 'grape', 'apple', 'pear', 'grape', 'apple', 'pear', 'grape', 'apple', 'pear', 'grape', 'apple', 'pear', 'grape', 'apple', 'pear', 'grape', 'apple', 'pear', 'grape', 'apple', 'pear', 'grape', 'apple', 'pear', 'grape', 'apple', 'pear', 'grape', 'apple', 'pear', 'grape', 'apple', 'pear', 'grape', 'apple', 'pear', 'grape', 'apple', 'pear', 'grape', 'apple', 'pear', 'grape', 'apple', 'pear', 'grape', 'apple', 'pear', 'grape', 'apple', 'pear', 'grape', 'apple', 'pear', 'grape', 'apple', 'pear', 'grape', 'apple', 'pear', 'grape', 'apple', 'pear', 'grape', 'apple', 'pear', 'grape', 'apple', 'pear', 'grape', 'apple', 'pear', 'grape', 'apple', 'pear', 'grape', 'apple', 'pear', 'grape', 'apple', 'pear', 'grape', 'apple', 'pear', 'grape', 'apple', 'pear', 'grape', 'apple', 'pear', 'grape', 'apple', 'pear', 'grape', 'apple', 'pear', 'grape', 'apple', 'pear', 'grape', 'apple', 'pear', 'grape', 'apple', 'pear', 'grape', 'apple', 'pear', 'grape', 'apple', 'pear', 'grape', 'apple', 'pear', 'grape', 'apple', 'pear', 'grape', 'apple', 'pear', 'grape', 'apple', 'pear', 'grape', 'apple', 'pear', 'grape', 'apple', 'pear', 'grape', 'apple', 'pear', 'grape', 'apple', 'pear', 'grape', 'apple', 'pear', 'grape', 'apple', 'pear', 'grape', 'apple', 'pear', 'grape', 'apple', 'pear', 'grape', 'apple', 'pear', 'grape', 'apple', 'pear', 'grape', 'apple', 'pear', 'grape', 'apple', 'pear', 'grape', 'apple', 'pear', 'grape', 'apple', 'pear', 'grape', 'apple', 'pear', 'grape', 'apple', 'pear', 'grape', 'apple', 'pear', 'grape', 'apple', 'pear', 'grape', 'apple', 'pear', 'grape', 'apple', 'pear', 'grape', 'apple', 'pear', 'grape', 'apple', 'pear', 'grape', 'apple', 'pear', 'grape', 'apple', 'pear', 'grape', 'apple', 'pear', 'grape', 'apple', 'pear', 'grape', 'apple', 'pear', 'grape', 'apple', 'pear', 'grape', 'apple', 'pear', 'grape', 'apple', 'pear', 'grape', 'apple', 'pear', 'grape', 'apple', 'pear', 'grape', 'apple', 'pear', 'grape', 'apple', 'pear', 'grape', 'apple', 'pear', 'grape', 'apple', 'pear', 'grape', 'apple', 'pear', 'grape', 'apple', 'pear', 'grape', 'apple', 'pear', 'grape', 'apple', 'pear', 'grape', 'apple', 'pear', 'grape', 'apple', 'pear', 'grape', 'apple', 'pear', 'grape', 'apple', 'pear', 'grape', 'apple', 'pear', 'grape', 'apple', 'pear', 'grape', 'apple', 'pear', 'grape', 'apple', 'pear', 'grape', 'apple', 'pear', 'grape', 'apple', 'pear', 'grape', 'apple', 'pear', 'grape', 'apple', 'pear', 'grape', 'apple', 'pear', 'grape', 'apple', 'pear', 'grape', 'apple', 'pear', 'grape', 'apple', 'pear', 'grape', 'apple', 'pear', 'grape', 'apple', 'pear', 'grape', 'apple', 'pear', 'grape', 'apple', 'pear', 'grape', 'apple', 'pear', 'grape', 'apple', 'pear', 'grape', 'apple', 'pear', 'grape', 'apple', 'pear', 'grape', 'apple', 'pear', 'grape', 'apple', 'pear', 'grape', 'apple', 'pear', 'grape', 'apple', 'pear', 'grape', 'apple', 'pear', 'grape', 'apple', 'pear', 'grape', 'apple', 'pear', 'grape', 'apple', 'pear', 'grape', 'apple', 'pear', 'grape', 'apple', 'pear', 'grape', 'apple', 'pear', 'grape', 'apple', 'pear', 'grape', 'apple', 'pear', 'grape', 'apple', 'pear', 'grape', 'apple', 'pear', 'grape', 'apple', 'pear', 'grape', 'apple', 'pear', 'grape', 'apple', 'pear', 'grape', 'apple', 'pear', 'grape', 'apple', 'pear', 'grape', 'apple', 'pear', 'grape', 'apple', 'pear', 'grape', 'apple', 'pear', 'grape', 'apple', 'pear', 'grape', 'apple', 'pear', 'grape', 'apple', 'pear', 'grape', 'apple', 'pear', 'grape', 'apple', 'pear', 'grape', 'apple', 'pear', 'grape', 'apple', 'pear', 'grape', 'apple', 'pear', 'grape', 'apple', 'pear', 'grape', 'apple', 'pear', 'grape', 'apple', 'pear', 'grape', 'apple', 'pear', 'grape', 'apple', 'pear', 'grape', 'apple', 'pear', 'grape', 'apple', 'pear', 'grape', 'apple', 'pear', 'grape', 'apple', 'pear', 'grape', 'apple', 'pear', 'grape', 'apple', 'pear', 'grape', 'apple', 'pear', 'grape', 'apple', 'pear', 'grape', 'apple', 'pear', 'grape', 'apple', 'pear', 'grape', 'apple', 'pear', 'grape', 'apple', 'pear', 'grape', 'apple', 'pear', 'grape', 'apple', 'pear', 'grape', 'apple', 'pear', 'grape', 'apple', 'pear', 'grape', 'apple', 'pear', 'grape', 'apple', 'pear', 'grape', 'apple', 'pear', 'grape', 'apple', 'pear', 'grape', 'apple', 'pear', 'grape', 'apple', 'pear', 'grape', 'apple', 'pear', 'grape', 'apple', 'pear', 'grape', 'apple', 'pear', 'grape', 'apple', 'pear', 'grape', 'apple', 'pear', 'grape', 'apple', 'pear', 'grape', 'apple', 'pear', 'grape', 'apple', 'pear', 'grape', 'apple', 'pear', 'grape', 'apple', 'pear', 'grape', 'apple', 'pear', 'grape', 'apple', 'pear', 'grape', 'apple', 'pear', 'grape', 'apple', 'pear', 'grape', 'apple', 'pear', 'grape', 'apple', 'pear', 'grape', 'apple', 'pear', 'grape', 'apple', 'pear', 'grape', 'apple', 'pear', 'grape', 'apple', 'pear', 'grape', 'apple', 'pear', 'grape', 'apple', 'pear', 'grape', 'apple', 'pear', 'grape', 'apple', 'pear', 'grape', 'apple', 'pear', 'grape', 'apple', 'pear', 'grape', 'apple', 'pear', 'grape', 'apple', 'pear', 'grape', 'apple', 'pear', 'grape', 'apple', 'pear', 'grape', 'apple', 'pear', 'grape', 'apple', 'pear', 'grape', 'apple', 'pear', 'grape', 'apple', 'pear', 'grape', 'apple', 'pear', 'grape', 'apple', 'pear', 'grape', 'apple', 'pear', 'grape', 'apple', 'pear', 'grape', 'apple', 'pear', 'grape', 'apple', 'pear', 'grape', 'apple', 'pear', 'grape', 'apple', 'pear', 'grape', 'apple', 'pear', 'grape', 'apple', 'pear', 'grape', 'apple', 'pear', 'grape', 'apple', 'pear', 'grape', 'apple', 'pear', 'grape', 'apple', 'pear', 'grape', 'apple', 'pear', 'grape', 'apple', 'pear', 'grape', 'apple', 'pear', 'grape', 'apple', 'pear', 'grape', 'apple', 'pear', 'grape', 'apple', 'pear', 'grape', 'apple', 'pear', 'grape', 'apple', 'pear', 'grape', 'apple', 'pear', 'grape', 'apple', 'pear', 'grape', 'apple', 'pear', 'grape', 'apple', 'pear', 'grape', 'apple', 'pear', 'grape', 'apple', 'pear', 'grape', 'apple', 'pear', 'grape', 'apple', 'pear', 'grape', 'apple', 'pear', 'grape', 'apple', 'pear', 'grape', 'apple', 'pear', 'grape', 'apple', 'pear', 'grape', 'apple', 'pear', 'grape', 'apple', 'pear', 'grape', 'apple', 'pear', 'grape', 'apple', 'pear', 'grape', 'apple', 'pear', 'grape', 'apple', 'pear', 'grape', 'apple', 'pear', 'grape', 'apple', 'pear', 'grape', 'apple', 'pear', 'grape', 'apple', 'pear', 'grape', 'apple', 'pear', 'grape', 'apple', 'pear', 'grape', 'apple', 'pear', 'grape', 'apple', 'pear', 'grape', 'apple', 'pear', 'grape', 'apple', 'pear', 'grape', 'apple', 'pear', 'grape', 'apple', 'pear', 'grape', 'apple', 'pear', 'grape', 'apple', 'pear', 'grape', 'apple', 'pear', 'grape', 'apple', 'pear', 'grape', 'apple', 'pear', 'grape', 'apple', 'pear', 'grape', 'apple', 'pear', 'grape', 'apple', 'pear', 'grape', 'apple', 'pear', 'grape', 'apple', 'pear', 'grape', 'apple', 'pear', 'grape', 'apple', 'pear', 'grape', 'apple', 'pear', 'grape', 'apple', 'pear', 'grape', 'apple', 'pear', 'grape', 'apple', 'pear', 'grape', 'apple', 'pear', 'grape', 'apple', 'pear', 'grape', 'apple', 'pear', 'grape', 'apple', 'pear', 'grape', 'apple', 'pear', 'grape', 'apple', 'pear', 'grape', 'apple', 'pear', 'grape', 'apple', 'pear', 'grape', 'apple', 'pear', 'grape', 'apple', 'pear', 'grape', 'apple', 'pear', 'grape', 'apple', 'pear', 'grape', 'apple', 'pear', 'grape', 'apple', 'pear', 'grape', 'apple', 'pear', 'grape', 'apple', 'pear', 'grape', 'apple', 'pear', 'grape', 'apple', 'pear', 'grape', 'apple', 'pear', 'grape', 'apple', 'pear', 'grape', 'apple', 'pear', 'grape', 'apple', 'pear', 'grape', 'apple', 'pear', 'grape', 'apple', 'pear', 'grape', 'apple', 'pear', 'grape', 'apple', 'pear', 'grape', 'apple', 'pear', 'grape', 'apple', 'pear', 'grape', 'apple', 'pear', 'grape', 'apple', 'pear', 'grape', 'apple', 'pear', 'grape', 'apple', 'pear', 'grape', 'apple', 'pear', 'grape', 'apple', 'pear', 'grape', 'apple', 'pear', 'grape', 'apple', 'pear', 'grape', 'apple', 'pear', 'grape', 'apple', 'pear', 'grape', 'apple', 'pear', 'grape', 'apple', 'pear', 'grape', 'apple', 'pear', 'grape']\n",
            "Precision: 0.3333333333333333\n",
            "Recall: 0.3333333333333333\n",
            "F1 Score: 0.3333333333333333\n",
            "\n",
            "Test case 8:\n",
            "Actual: ['apple', 'banana', 'cherry', 'apple', 'banana', 'cherry', 'apple', 'banana', 'cherry', 'apple', 'banana', 'cherry', 'apple', 'banana', 'cherry', 'apple', 'banana', 'cherry', 'apple', 'banana', 'cherry', 'apple', 'banana', 'cherry', 'apple', 'banana', 'cherry', 'apple', 'banana', 'cherry', 'apple', 'banana', 'cherry', 'apple', 'banana', 'cherry', 'apple', 'banana', 'cherry', 'apple', 'banana', 'cherry', 'apple', 'banana', 'cherry', 'apple', 'banana', 'cherry', 'apple', 'banana', 'cherry', 'apple', 'banana', 'cherry', 'apple', 'banana', 'cherry', 'apple', 'banana', 'cherry', 'apple', 'banana', 'cherry', 'apple', 'banana', 'cherry', 'apple', 'banana', 'cherry', 'apple', 'banana', 'cherry', 'apple', 'banana', 'cherry', 'apple', 'banana', 'cherry', 'apple', 'banana', 'cherry', 'apple', 'banana', 'cherry', 'apple', 'banana', 'cherry', 'apple', 'banana', 'cherry', 'apple', 'banana', 'cherry', 'apple', 'banana', 'cherry', 'apple', 'banana', 'cherry', 'apple', 'banana', 'cherry', 'apple', 'banana', 'cherry', 'apple', 'banana', 'cherry', 'apple', 'banana', 'cherry', 'apple', 'banana', 'cherry', 'apple', 'banana', 'cherry', 'apple', 'banana', 'cherry', 'apple', 'banana', 'cherry', 'apple', 'banana', 'cherry', 'apple', 'banana', 'cherry', 'apple', 'banana', 'cherry', 'apple', 'banana', 'cherry', 'apple', 'banana', 'cherry', 'apple', 'banana', 'cherry', 'apple', 'banana', 'cherry', 'apple', 'banana', 'cherry', 'apple', 'banana', 'cherry', 'apple', 'banana', 'cherry', 'apple', 'banana', 'cherry', 'apple', 'banana', 'cherry', 'apple', 'banana', 'cherry', 'apple', 'banana', 'cherry', 'apple', 'banana', 'cherry', 'apple', 'banana', 'cherry', 'apple', 'banana', 'cherry', 'apple', 'banana', 'cherry', 'apple', 'banana', 'cherry', 'apple', 'banana', 'cherry', 'apple', 'banana', 'cherry', 'apple', 'banana', 'cherry', 'apple', 'banana', 'cherry', 'apple', 'banana', 'cherry', 'apple', 'banana', 'cherry', 'apple', 'banana', 'cherry', 'apple', 'banana', 'cherry', 'apple', 'banana', 'cherry', 'apple', 'banana', 'cherry', 'apple', 'banana', 'cherry', 'apple', 'banana', 'cherry', 'apple', 'banana', 'cherry', 'apple', 'banana', 'cherry', 'apple', 'banana', 'cherry', 'apple', 'banana', 'cherry', 'apple', 'banana', 'cherry', 'apple', 'banana', 'cherry', 'apple', 'banana', 'cherry', 'apple', 'banana', 'cherry', 'apple', 'banana', 'cherry', 'apple', 'banana', 'cherry', 'apple', 'banana', 'cherry', 'apple', 'banana', 'cherry', 'apple', 'banana', 'cherry', 'apple', 'banana', 'cherry', 'apple', 'banana', 'cherry', 'apple', 'banana', 'cherry', 'apple', 'banana', 'cherry', 'apple', 'banana', 'cherry', 'apple', 'banana', 'cherry', 'apple', 'banana', 'cherry', 'apple', 'banana', 'cherry', 'apple', 'banana', 'cherry', 'apple', 'banana', 'cherry', 'apple', 'banana', 'cherry', 'apple', 'banana', 'cherry', 'apple', 'banana', 'cherry', 'apple', 'banana', 'cherry', 'apple', 'banana', 'cherry', 'apple', 'banana', 'cherry', 'apple', 'banana', 'cherry', 'apple', 'banana', 'cherry', 'apple', 'banana', 'cherry', 'apple', 'banana', 'cherry', 'apple', 'banana', 'cherry', 'apple', 'banana', 'cherry', 'apple', 'banana', 'cherry', 'apple', 'banana', 'cherry', 'apple', 'banana', 'cherry', 'apple', 'banana', 'cherry', 'apple', 'banana', 'cherry', 'apple', 'banana', 'cherry', 'apple', 'banana', 'cherry', 'apple', 'banana', 'cherry', 'apple', 'banana', 'cherry', 'apple', 'banana', 'cherry', 'apple', 'banana', 'cherry', 'apple', 'banana', 'cherry', 'apple', 'banana', 'cherry', 'apple', 'banana', 'cherry', 'apple', 'banana', 'cherry', 'apple', 'banana', 'cherry', 'apple', 'banana', 'cherry', 'apple', 'banana', 'cherry', 'apple', 'banana', 'cherry', 'apple', 'banana', 'cherry', 'apple', 'banana', 'cherry', 'apple', 'banana', 'cherry', 'apple', 'banana', 'cherry', 'apple', 'banana', 'cherry', 'apple', 'banana', 'cherry', 'apple', 'banana', 'cherry', 'apple', 'banana', 'cherry', 'apple', 'banana', 'cherry', 'apple', 'banana', 'cherry', 'apple', 'banana', 'cherry', 'apple', 'banana', 'cherry', 'apple', 'banana', 'cherry', 'apple', 'banana', 'cherry', 'apple', 'banana', 'cherry', 'apple', 'banana', 'cherry', 'apple', 'banana', 'cherry', 'apple', 'banana', 'cherry', 'apple', 'banana', 'cherry', 'apple', 'banana', 'cherry', 'apple', 'banana', 'cherry', 'apple', 'banana', 'cherry', 'apple', 'banana', 'cherry', 'apple', 'banana', 'cherry', 'apple', 'banana', 'cherry', 'apple', 'banana', 'cherry', 'apple', 'banana', 'cherry', 'apple', 'banana', 'cherry', 'apple', 'banana', 'cherry', 'apple', 'banana', 'cherry', 'apple', 'banana', 'cherry', 'apple', 'banana', 'cherry', 'apple', 'banana', 'cherry', 'apple', 'banana', 'cherry', 'apple', 'banana', 'cherry', 'apple', 'banana', 'cherry', 'apple', 'banana', 'cherry', 'apple', 'banana', 'cherry', 'apple', 'banana', 'cherry', 'apple', 'banana', 'cherry', 'apple', 'banana', 'cherry', 'apple', 'banana', 'cherry', 'apple', 'banana', 'cherry', 'apple', 'banana', 'cherry', 'apple', 'banana', 'cherry', 'apple', 'banana', 'cherry', 'apple', 'banana', 'cherry', 'apple', 'banana', 'cherry', 'apple', 'banana', 'cherry', 'apple', 'banana', 'cherry', 'apple', 'banana', 'cherry', 'apple', 'banana', 'cherry', 'apple', 'banana', 'cherry', 'apple', 'banana', 'cherry', 'apple', 'banana', 'cherry', 'apple', 'banana', 'cherry', 'apple', 'banana', 'cherry', 'apple', 'banana', 'cherry', 'apple', 'banana', 'cherry', 'apple', 'banana', 'cherry', 'apple', 'banana', 'cherry', 'apple', 'banana', 'cherry', 'apple', 'banana', 'cherry', 'apple', 'banana', 'cherry', 'apple', 'banana', 'cherry', 'apple', 'banana', 'cherry', 'apple', 'banana', 'cherry', 'apple', 'banana', 'cherry', 'apple', 'banana', 'cherry', 'apple', 'banana', 'cherry', 'apple', 'banana', 'cherry', 'apple', 'banana', 'cherry', 'apple', 'banana', 'cherry', 'apple', 'banana', 'cherry', 'apple', 'banana', 'cherry', 'apple', 'banana', 'cherry', 'apple', 'banana', 'cherry', 'apple', 'banana', 'cherry', 'apple', 'banana', 'cherry', 'apple', 'banana', 'cherry', 'apple', 'banana', 'cherry', 'apple', 'banana', 'cherry', 'apple', 'banana', 'cherry', 'apple', 'banana', 'cherry', 'apple', 'banana', 'cherry', 'apple', 'banana', 'cherry', 'apple', 'banana', 'cherry', 'apple', 'banana', 'cherry', 'apple', 'banana', 'cherry', 'apple', 'banana', 'cherry', 'apple', 'banana', 'cherry', 'apple', 'banana', 'cherry', 'apple', 'banana', 'cherry', 'apple', 'banana', 'cherry', 'apple', 'banana', 'cherry', 'apple', 'banana', 'cherry', 'apple', 'banana', 'cherry', 'apple', 'banana', 'cherry', 'apple', 'banana', 'cherry', 'apple', 'banana', 'cherry', 'apple', 'banana', 'cherry', 'apple', 'banana', 'cherry', 'apple', 'banana', 'cherry', 'apple', 'banana', 'cherry', 'apple', 'banana', 'cherry', 'apple', 'banana', 'cherry', 'apple', 'banana', 'cherry', 'apple', 'banana', 'cherry', 'apple', 'banana', 'cherry', 'apple', 'banana', 'cherry', 'apple', 'banana', 'cherry', 'apple', 'banana', 'cherry', 'apple', 'banana', 'cherry', 'apple', 'banana', 'cherry', 'apple', 'banana', 'cherry', 'apple', 'banana', 'cherry', 'apple', 'banana', 'cherry', 'apple', 'banana', 'cherry', 'apple', 'banana', 'cherry', 'apple', 'banana', 'cherry', 'apple', 'banana', 'cherry', 'apple', 'banana', 'cherry', 'apple', 'banana', 'cherry', 'apple', 'banana', 'cherry', 'apple', 'banana', 'cherry', 'apple', 'banana', 'cherry', 'apple', 'banana', 'cherry', 'apple', 'banana', 'cherry', 'apple', 'banana', 'cherry', 'apple', 'banana', 'cherry', 'apple', 'banana', 'cherry', 'apple', 'banana', 'cherry', 'apple', 'banana', 'cherry', 'apple', 'banana', 'cherry', 'apple', 'banana', 'cherry', 'apple', 'banana', 'cherry', 'apple', 'banana', 'cherry', 'apple', 'banana', 'cherry', 'apple', 'banana', 'cherry', 'apple', 'banana', 'cherry', 'apple', 'banana', 'cherry', 'apple', 'banana', 'cherry', 'apple', 'banana', 'cherry', 'apple', 'banana', 'cherry', 'apple', 'banana', 'cherry', 'apple', 'banana', 'cherry', 'apple', 'banana', 'cherry', 'apple', 'banana', 'cherry', 'apple', 'banana', 'cherry', 'apple', 'banana', 'cherry', 'apple', 'banana', 'cherry', 'apple', 'banana', 'cherry', 'apple', 'banana', 'cherry', 'apple', 'banana', 'cherry', 'apple', 'banana', 'cherry', 'apple', 'banana', 'cherry', 'apple', 'banana', 'cherry', 'apple', 'banana', 'cherry', 'apple', 'banana', 'cherry', 'apple', 'banana', 'cherry', 'apple', 'banana', 'cherry', 'apple', 'banana', 'cherry', 'apple', 'banana', 'cherry', 'apple', 'banana', 'cherry', 'apple', 'banana', 'cherry', 'apple', 'banana', 'cherry', 'apple', 'banana', 'cherry', 'apple', 'banana', 'cherry', 'apple', 'banana', 'cherry', 'apple', 'banana', 'cherry', 'apple', 'banana', 'cherry', 'apple', 'banana', 'cherry', 'apple', 'banana', 'cherry', 'apple', 'banana', 'cherry', 'apple', 'banana', 'cherry', 'apple', 'banana', 'cherry', 'apple', 'banana', 'cherry', 'apple', 'banana', 'cherry', 'apple', 'banana', 'cherry', 'apple', 'banana', 'cherry', 'apple', 'banana', 'cherry', 'apple', 'banana', 'cherry', 'apple', 'banana', 'cherry', 'apple', 'banana', 'cherry', 'apple', 'banana', 'cherry', 'apple', 'banana', 'cherry', 'apple', 'banana', 'cherry', 'apple', 'banana', 'cherry', 'apple', 'banana', 'cherry', 'apple', 'banana', 'cherry', 'apple', 'banana', 'cherry', 'apple', 'banana', 'cherry', 'apple', 'banana', 'cherry', 'apple', 'banana', 'cherry', 'apple', 'banana', 'cherry', 'apple', 'banana', 'cherry', 'apple', 'banana', 'cherry', 'apple', 'banana', 'cherry', 'apple', 'banana', 'cherry', 'apple', 'banana', 'cherry', 'apple', 'banana', 'cherry', 'apple', 'banana', 'cherry', 'apple', 'banana', 'cherry', 'apple', 'banana', 'cherry', 'apple', 'banana', 'cherry', 'apple', 'banana', 'cherry', 'apple', 'banana', 'cherry', 'apple', 'banana', 'cherry', 'apple', 'banana', 'cherry', 'apple', 'banana', 'cherry', 'apple', 'banana', 'cherry', 'apple', 'banana', 'cherry', 'apple', 'banana', 'cherry', 'apple', 'banana', 'cherry', 'apple', 'banana', 'cherry', 'apple', 'banana', 'cherry', 'apple', 'banana', 'cherry', 'apple', 'banana', 'cherry', 'apple', 'banana', 'cherry', 'apple', 'banana', 'cherry', 'apple', 'banana', 'cherry', 'apple', 'banana', 'cherry', 'apple', 'banana', 'cherry', 'apple', 'banana', 'cherry', 'apple', 'banana', 'cherry', 'apple', 'banana', 'cherry', 'apple', 'banana', 'cherry', 'apple', 'banana', 'cherry', 'apple', 'banana', 'cherry', 'apple', 'banana', 'cherry', 'apple', 'banana', 'cherry', 'apple', 'banana', 'cherry', 'apple', 'banana', 'cherry', 'apple', 'banana', 'cherry', 'apple', 'banana', 'cherry', 'apple', 'banana', 'cherry', 'apple', 'banana', 'cherry', 'apple', 'banana', 'cherry', 'apple', 'banana', 'cherry', 'apple', 'banana', 'cherry', 'apple', 'banana', 'cherry', 'apple', 'banana', 'cherry', 'apple', 'banana', 'cherry', 'apple', 'banana', 'cherry', 'apple', 'banana', 'cherry', 'apple', 'banana', 'cherry', 'apple', 'banana', 'cherry', 'apple', 'banana', 'cherry', 'apple', 'banana', 'cherry', 'apple', 'banana', 'cherry', 'apple', 'banana', 'cherry', 'apple', 'banana', 'cherry', 'apple', 'banana', 'cherry', 'apple', 'banana', 'cherry', 'apple', 'banana', 'cherry', 'apple', 'banana', 'cherry', 'apple', 'banana', 'cherry', 'apple', 'banana', 'cherry', 'apple', 'banana', 'cherry', 'apple', 'banana', 'cherry', 'apple', 'banana', 'cherry', 'apple', 'banana', 'cherry', 'apple', 'banana', 'cherry', 'apple', 'banana', 'cherry', 'apple', 'banana', 'cherry', 'apple', 'banana', 'cherry', 'apple', 'banana', 'cherry', 'apple', 'banana', 'cherry', 'apple', 'banana', 'cherry', 'apple', 'banana', 'cherry', 'apple', 'banana', 'cherry', 'apple', 'banana', 'cherry', 'apple', 'banana', 'cherry', 'apple', 'banana', 'cherry', 'apple', 'banana', 'cherry', 'apple', 'banana', 'cherry', 'apple', 'banana', 'cherry', 'apple', 'banana', 'cherry', 'apple', 'banana', 'cherry', 'apple', 'banana', 'cherry', 'apple', 'banana', 'cherry', 'apple', 'banana', 'cherry', 'apple', 'banana', 'cherry', 'apple', 'banana', 'cherry', 'apple', 'banana', 'cherry', 'apple', 'banana', 'cherry', 'apple', 'banana', 'cherry', 'apple', 'banana', 'cherry', 'apple', 'banana', 'cherry', 'apple', 'banana', 'cherry', 'apple', 'banana', 'cherry', 'apple', 'banana', 'cherry', 'apple', 'banana', 'cherry', 'apple', 'banana', 'cherry', 'apple', 'banana', 'cherry', 'apple', 'banana', 'cherry', 'apple', 'banana', 'cherry', 'apple', 'banana', 'cherry', 'apple', 'banana', 'cherry', 'apple', 'banana', 'cherry', 'apple', 'banana', 'cherry', 'apple', 'banana', 'cherry', 'apple', 'banana', 'cherry', 'apple', 'banana', 'cherry', 'apple', 'banana', 'cherry', 'apple', 'banana', 'cherry', 'apple', 'banana', 'cherry', 'apple', 'banana', 'cherry', 'apple', 'banana', 'cherry', 'apple', 'banana', 'cherry', 'apple', 'banana', 'cherry', 'apple', 'banana', 'cherry', 'apple', 'banana', 'cherry', 'apple', 'banana', 'cherry', 'apple', 'banana', 'cherry', 'apple', 'banana', 'cherry', 'apple', 'banana', 'cherry', 'apple', 'banana', 'cherry', 'apple', 'banana', 'cherry', 'apple', 'banana', 'cherry', 'apple', 'banana', 'cherry', 'apple', 'banana', 'cherry', 'apple', 'banana', 'cherry', 'apple', 'banana', 'cherry', 'apple', 'banana', 'cherry', 'apple', 'banana', 'cherry', 'apple', 'banana', 'cherry', 'apple', 'banana', 'cherry', 'apple', 'banana', 'cherry', 'apple', 'banana', 'cherry', 'apple', 'banana', 'cherry', 'apple', 'banana', 'cherry', 'apple', 'banana', 'cherry', 'apple', 'banana', 'cherry', 'apple', 'banana', 'cherry', 'apple', 'banana', 'cherry', 'apple', 'banana', 'cherry', 'apple', 'banana', 'cherry', 'apple', 'banana', 'cherry', 'apple', 'banana', 'cherry', 'apple', 'banana', 'cherry', 'apple', 'banana', 'cherry', 'apple', 'banana', 'cherry', 'apple', 'banana', 'cherry', 'apple', 'banana', 'cherry', 'apple', 'banana', 'cherry', 'apple', 'banana', 'cherry', 'apple', 'banana', 'cherry', 'apple', 'banana', 'cherry', 'apple', 'banana', 'cherry', 'apple', 'banana', 'cherry', 'apple', 'banana', 'cherry', 'apple', 'banana', 'cherry', 'apple', 'banana', 'cherry', 'apple', 'banana', 'cherry', 'apple', 'banana', 'cherry', 'apple', 'banana', 'cherry', 'apple', 'banana', 'cherry', 'apple', 'banana', 'cherry', 'apple', 'banana', 'cherry', 'apple', 'banana', 'cherry', 'apple', 'banana', 'cherry', 'apple', 'banana', 'cherry', 'apple', 'banana', 'cherry', 'apple', 'banana', 'cherry', 'apple', 'banana', 'cherry', 'apple', 'banana', 'cherry', 'apple', 'banana', 'cherry', 'apple', 'banana', 'cherry', 'apple', 'banana', 'cherry', 'apple', 'banana', 'cherry', 'apple', 'banana', 'cherry', 'apple', 'banana', 'cherry', 'apple', 'banana', 'cherry', 'apple', 'banana', 'cherry', 'apple', 'banana', 'cherry', 'apple', 'banana', 'cherry', 'apple', 'banana', 'cherry', 'apple', 'banana', 'cherry', 'apple', 'banana', 'cherry', 'apple', 'banana', 'cherry', 'apple', 'banana', 'cherry', 'apple', 'banana', 'cherry', 'apple', 'banana', 'cherry', 'apple', 'banana', 'cherry', 'apple', 'banana', 'cherry', 'apple', 'banana', 'cherry', 'apple', 'banana', 'cherry', 'apple', 'banana', 'cherry', 'apple', 'banana', 'cherry', 'apple', 'banana', 'cherry', 'apple', 'banana', 'cherry', 'apple', 'banana', 'cherry', 'apple', 'banana', 'cherry', 'apple', 'banana', 'cherry', 'apple', 'banana', 'cherry', 'apple', 'banana', 'cherry', 'apple', 'banana', 'cherry', 'apple', 'banana', 'cherry', 'apple', 'banana', 'cherry', 'apple', 'banana', 'cherry', 'apple', 'banana', 'cherry', 'apple', 'banana', 'cherry', 'apple', 'banana', 'cherry', 'apple', 'banana', 'cherry', 'apple', 'banana', 'cherry', 'apple', 'banana', 'cherry', 'apple', 'banana', 'cherry', 'apple', 'banana', 'cherry', 'apple', 'banana', 'cherry', 'apple', 'banana', 'cherry', 'apple', 'banana', 'cherry', 'apple', 'banana', 'cherry', 'apple', 'banana', 'cherry', 'apple', 'banana', 'cherry', 'apple', 'banana', 'cherry', 'apple', 'banana', 'cherry', 'apple', 'banana', 'cherry', 'apple', 'banana', 'cherry', 'apple', 'banana', 'cherry', 'apple', 'banana', 'cherry', 'apple', 'banana', 'cherry', 'apple', 'banana', 'cherry', 'apple', 'banana', 'cherry', 'apple', 'banana', 'cherry', 'apple', 'banana', 'cherry', 'apple', 'banana', 'cherry', 'apple', 'banana', 'cherry', 'apple', 'banana', 'cherry', 'apple', 'banana', 'cherry', 'apple', 'banana', 'cherry', 'apple', 'banana', 'cherry', 'apple', 'banana', 'cherry', 'apple', 'banana', 'cherry', 'apple', 'banana', 'cherry', 'apple', 'banana', 'cherry', 'apple', 'banana', 'cherry', 'apple', 'banana', 'cherry', 'apple', 'banana', 'cherry', 'apple', 'banana', 'cherry', 'apple', 'banana', 'cherry', 'apple', 'banana', 'cherry', 'apple', 'banana', 'cherry', 'apple', 'banana', 'cherry', 'apple', 'banana', 'cherry', 'apple', 'banana', 'cherry', 'apple', 'banana', 'cherry', 'apple', 'banana', 'cherry', 'apple', 'banana', 'cherry', 'apple', 'banana', 'cherry', 'apple', 'banana', 'cherry', 'apple', 'banana', 'cherry', 'apple', 'banana', 'cherry', 'apple', 'banana', 'cherry', 'apple', 'banana', 'cherry', 'apple', 'banana', 'cherry', 'apple', 'banana', 'cherry', 'apple', 'banana', 'cherry', 'apple', 'banana', 'cherry', 'apple', 'banana', 'cherry', 'apple', 'banana', 'cherry', 'apple', 'banana', 'cherry', 'apple', 'banana', 'cherry', 'apple', 'banana', 'cherry', 'apple', 'banana', 'cherry', 'apple', 'banana', 'cherry', 'apple', 'banana', 'cherry', 'apple', 'banana', 'cherry', 'apple', 'banana', 'cherry', 'apple', 'banana', 'cherry', 'apple', 'banana', 'cherry', 'apple', 'banana', 'cherry', 'apple', 'banana', 'cherry', 'apple', 'banana', 'cherry', 'apple', 'banana', 'cherry', 'apple', 'banana', 'cherry', 'apple', 'banana', 'cherry', 'apple', 'banana', 'cherry', 'apple', 'banana', 'cherry', 'apple', 'banana', 'cherry', 'apple', 'banana', 'cherry', 'apple', 'banana', 'cherry', 'apple', 'banana', 'cherry', 'apple', 'banana', 'cherry', 'apple', 'banana', 'cherry', 'apple', 'banana', 'cherry', 'apple', 'banana', 'cherry', 'apple', 'banana', 'cherry', 'apple', 'banana', 'cherry', 'apple', 'banana', 'cherry', 'apple', 'banana', 'cherry', 'apple', 'banana', 'cherry', 'apple', 'banana', 'cherry', 'apple', 'banana', 'cherry', 'apple', 'banana', 'cherry', 'apple', 'banana', 'cherry', 'apple', 'banana', 'cherry', 'apple', 'banana', 'cherry', 'apple', 'banana', 'cherry', 'apple', 'banana', 'cherry', 'apple', 'banana', 'cherry', 'apple', 'banana', 'cherry', 'apple', 'banana', 'cherry', 'apple', 'banana', 'cherry', 'apple', 'banana', 'cherry', 'apple', 'banana', 'cherry', 'apple', 'banana', 'cherry', 'apple', 'banana', 'cherry', 'apple', 'banana', 'cherry', 'apple', 'banana', 'cherry', 'apple', 'banana', 'cherry', 'apple', 'banana', 'cherry', 'apple', 'banana', 'cherry', 'apple', 'banana', 'cherry', 'apple', 'banana', 'cherry', 'apple', 'banana', 'cherry', 'apple', 'banana', 'cherry', 'apple', 'banana', 'cherry', 'apple', 'banana', 'cherry', 'apple', 'banana', 'cherry', 'apple', 'banana', 'cherry', 'apple', 'banana', 'cherry', 'apple', 'banana', 'cherry', 'apple', 'banana', 'cherry', 'apple', 'banana', 'cherry', 'apple', 'banana', 'cherry', 'apple', 'banana', 'cherry', 'apple', 'banana', 'cherry', 'apple', 'banana', 'cherry', 'apple', 'banana', 'cherry', 'apple', 'banana', 'cherry', 'apple', 'banana', 'cherry', 'apple', 'banana', 'cherry', 'apple', 'banana', 'cherry', 'apple', 'banana', 'cherry', 'apple', 'banana', 'cherry', 'apple', 'banana', 'cherry', 'apple', 'banana', 'cherry', 'apple', 'banana', 'cherry', 'apple', 'banana', 'cherry', 'apple', 'banana', 'cherry', 'apple', 'banana', 'cherry', 'apple', 'banana', 'cherry', 'apple', 'banana', 'cherry', 'apple', 'banana', 'cherry', 'apple', 'banana', 'cherry', 'apple', 'banana', 'cherry', 'apple', 'banana', 'cherry', 'apple', 'banana', 'cherry', 'apple', 'banana', 'cherry', 'apple', 'banana', 'cherry', 'apple', 'banana', 'cherry', 'apple', 'banana', 'cherry', 'apple', 'banana', 'cherry', 'apple', 'banana', 'cherry', 'apple', 'banana', 'cherry', 'apple', 'banana', 'cherry', 'apple', 'banana', 'cherry', 'apple', 'banana', 'cherry', 'apple', 'banana', 'cherry', 'apple', 'banana', 'cherry', 'apple', 'banana', 'cherry', 'apple', 'banana', 'cherry', 'apple', 'banana', 'cherry', 'apple', 'banana', 'cherry', 'apple', 'banana', 'cherry', 'apple', 'banana', 'cherry', 'apple', 'banana', 'cherry', 'apple', 'banana', 'cherry', 'apple', 'banana', 'cherry', 'apple', 'banana', 'cherry', 'apple', 'banana', 'cherry', 'apple', 'banana', 'cherry', 'apple', 'banana', 'cherry', 'apple', 'banana', 'cherry', 'apple', 'banana', 'cherry', 'apple', 'banana', 'cherry', 'apple', 'banana', 'cherry', 'apple', 'banana', 'cherry', 'apple', 'banana', 'cherry', 'apple', 'banana', 'cherry', 'apple', 'banana', 'cherry', 'apple', 'banana', 'cherry', 'apple', 'banana', 'cherry', 'apple', 'banana', 'cherry', 'apple', 'banana', 'cherry', 'apple', 'banana', 'cherry', 'apple', 'banana', 'cherry', 'apple', 'banana', 'cherry', 'apple', 'banana', 'cherry', 'apple', 'banana', 'cherry', 'apple', 'banana', 'cherry', 'apple', 'banana', 'cherry', 'apple', 'banana', 'cherry', 'apple', 'banana', 'cherry', 'apple', 'banana', 'cherry', 'apple', 'banana', 'cherry', 'apple', 'banana', 'cherry', 'apple', 'banana', 'cherry', 'apple', 'banana', 'cherry', 'apple', 'banana', 'cherry', 'apple', 'banana', 'cherry', 'apple', 'banana', 'cherry', 'apple', 'banana', 'cherry', 'apple', 'banana', 'cherry', 'apple', 'banana', 'cherry', 'apple', 'banana', 'cherry', 'apple', 'banana', 'cherry', 'apple', 'banana', 'cherry', 'apple', 'banana', 'cherry', 'apple', 'banana', 'cherry', 'apple', 'banana', 'cherry', 'apple', 'banana', 'cherry', 'apple', 'banana', 'cherry', 'apple', 'banana', 'cherry', 'apple', 'banana', 'cherry', 'apple', 'banana', 'cherry', 'apple', 'banana', 'cherry', 'apple', 'banana', 'cherry', 'apple', 'banana', 'cherry', 'apple', 'banana', 'cherry', 'apple', 'banana', 'cherry', 'apple', 'banana', 'cherry', 'apple', 'banana', 'cherry', 'apple', 'banana', 'cherry', 'apple', 'banana', 'cherry', 'apple', 'banana', 'cherry', 'apple', 'banana', 'cherry', 'apple', 'banana', 'cherry', 'apple', 'banana', 'cherry', 'apple', 'banana', 'cherry', 'apple', 'banana', 'cherry', 'apple', 'banana', 'cherry', 'apple', 'banana', 'cherry', 'apple', 'banana', 'cherry', 'apple', 'banana', 'cherry', 'apple', 'banana', 'cherry', 'apple', 'banana', 'cherry', 'apple', 'banana', 'cherry', 'apple', 'banana', 'cherry', 'apple', 'banana', 'cherry', 'apple', 'banana', 'cherry', 'apple', 'banana', 'cherry', 'apple', 'banana', 'cherry', 'apple', 'banana', 'cherry', 'apple', 'banana', 'cherry', 'apple', 'banana', 'cherry', 'apple', 'banana', 'cherry', 'apple', 'banana', 'cherry', 'apple', 'banana', 'cherry', 'apple', 'banana', 'cherry', 'apple', 'banana', 'cherry', 'apple', 'banana', 'cherry', 'apple', 'banana', 'cherry', 'apple', 'banana', 'cherry', 'apple', 'banana', 'cherry', 'apple', 'banana', 'cherry', 'apple', 'banana', 'cherry', 'apple', 'banana', 'cherry', 'apple', 'banana', 'cherry', 'apple', 'banana', 'cherry', 'apple', 'banana', 'cherry', 'apple', 'banana', 'cherry', 'apple', 'banana', 'cherry', 'apple', 'banana', 'cherry', 'apple', 'banana', 'cherry', 'apple', 'banana', 'cherry', 'apple', 'banana', 'cherry', 'apple', 'banana', 'cherry', 'apple', 'banana', 'cherry', 'apple', 'banana', 'cherry', 'apple', 'banana', 'cherry', 'apple', 'banana', 'cherry', 'apple', 'banana', 'cherry', 'apple', 'banana', 'cherry', 'apple', 'banana', 'cherry', 'apple', 'banana', 'cherry', 'apple', 'banana', 'cherry', 'apple', 'banana', 'cherry', 'apple', 'banana', 'cherry', 'apple', 'banana', 'cherry', 'apple', 'banana', 'cherry', 'apple', 'banana', 'cherry', 'apple', 'banana', 'cherry', 'apple', 'banana', 'cherry', 'apple', 'banana', 'cherry', 'apple', 'banana', 'cherry', 'apple', 'banana', 'cherry', 'apple', 'banana', 'cherry', 'apple', 'banana', 'cherry', 'apple', 'banana', 'cherry', 'apple', 'banana', 'cherry', 'apple', 'banana', 'cherry', 'apple', 'banana', 'cherry', 'apple', 'banana', 'cherry', 'apple', 'banana', 'cherry', 'apple', 'banana', 'cherry', 'apple', 'banana', 'cherry', 'apple', 'banana', 'cherry', 'apple', 'banana', 'cherry', 'apple', 'banana', 'cherry', 'apple', 'banana', 'cherry', 'apple', 'banana', 'cherry', 'apple', 'banana', 'cherry', 'apple', 'banana', 'cherry', 'apple', 'banana', 'cherry', 'apple', 'banana', 'cherry', 'apple', 'banana', 'cherry', 'apple', 'banana', 'cherry', 'apple', 'banana', 'cherry', 'apple', 'banana', 'cherry', 'apple', 'banana', 'cherry', 'apple', 'banana', 'cherry', 'apple', 'banana', 'cherry', 'apple', 'banana', 'cherry', 'apple', 'banana', 'cherry', 'apple', 'banana', 'cherry', 'apple', 'banana', 'cherry', 'apple', 'banana', 'cherry', 'apple', 'banana', 'cherry', 'apple', 'banana', 'cherry', 'apple', 'banana', 'cherry', 'apple', 'banana', 'cherry', 'apple', 'banana', 'cherry', 'apple', 'banana', 'cherry', 'apple', 'banana', 'cherry', 'apple', 'banana', 'cherry', 'apple', 'banana', 'cherry', 'apple', 'banana', 'cherry', 'apple', 'banana', 'cherry', 'apple', 'banana', 'cherry', 'apple', 'banana', 'cherry', 'apple', 'banana', 'cherry', 'apple', 'banana', 'cherry', 'apple', 'banana', 'cherry', 'apple', 'banana', 'cherry', 'apple', 'banana', 'cherry', 'apple', 'banana', 'cherry', 'apple', 'banana', 'cherry', 'apple', 'banana', 'cherry', 'apple', 'banana', 'cherry', 'apple', 'banana', 'cherry', 'apple', 'banana', 'cherry', 'apple', 'banana', 'cherry', 'apple', 'banana', 'cherry', 'apple', 'banana', 'cherry', 'apple', 'banana', 'cherry', 'apple', 'banana', 'cherry', 'apple', 'banana', 'cherry', 'apple', 'banana', 'cherry', 'apple', 'banana', 'cherry', 'apple', 'banana', 'cherry', 'apple', 'banana', 'cherry', 'apple', 'banana', 'cherry', 'apple', 'banana', 'cherry', 'apple', 'banana', 'cherry', 'apple', 'banana', 'cherry', 'apple', 'banana', 'cherry', 'apple', 'banana', 'cherry', 'apple', 'banana', 'cherry', 'apple', 'banana', 'cherry', 'apple', 'banana', 'cherry', 'apple', 'banana', 'cherry', 'apple', 'banana', 'cherry', 'apple', 'banana', 'cherry', 'apple', 'banana', 'cherry', 'apple', 'banana', 'cherry', 'apple', 'banana', 'cherry', 'apple', 'banana', 'cherry', 'apple', 'banana', 'cherry', 'apple', 'banana', 'cherry', 'apple', 'banana', 'cherry', 'apple', 'banana', 'cherry', 'apple', 'banana', 'cherry', 'apple', 'banana', 'cherry', 'apple', 'banana', 'cherry', 'apple', 'banana', 'cherry', 'apple', 'banana', 'cherry', 'apple', 'banana', 'cherry', 'apple', 'banana', 'cherry', 'apple', 'banana', 'cherry', 'apple', 'banana', 'cherry', 'apple', 'banana', 'cherry', 'apple', 'banana', 'cherry', 'apple', 'banana', 'cherry', 'apple', 'banana', 'cherry', 'apple', 'banana', 'cherry', 'apple', 'banana', 'cherry', 'apple', 'banana', 'cherry', 'apple', 'banana', 'cherry', 'apple', 'banana', 'cherry', 'apple', 'banana', 'cherry', 'apple', 'banana', 'cherry', 'apple', 'banana', 'cherry', 'apple', 'banana', 'cherry', 'apple', 'banana', 'cherry', 'apple', 'banana', 'cherry', 'apple', 'banana', 'cherry', 'apple', 'banana', 'cherry', 'apple', 'banana', 'cherry', 'apple', 'banana', 'cherry', 'apple', 'banana', 'cherry', 'apple', 'banana', 'cherry', 'apple', 'banana', 'cherry', 'apple', 'banana', 'cherry', 'apple', 'banana', 'cherry', 'apple', 'banana', 'cherry', 'apple', 'banana', 'cherry', 'apple', 'banana', 'cherry', 'apple', 'banana', 'cherry', 'apple', 'banana', 'cherry', 'apple', 'banana', 'cherry', 'apple', 'banana', 'cherry', 'apple', 'banana', 'cherry', 'apple', 'banana', 'cherry', 'apple', 'banana', 'cherry', 'apple', 'banana', 'cherry', 'apple', 'banana', 'cherry', 'apple', 'banana', 'cherry', 'apple', 'banana', 'cherry', 'apple', 'banana', 'cherry', 'apple', 'banana', 'cherry', 'apple', 'banana', 'cherry', 'apple', 'banana', 'cherry', 'apple', 'banana', 'cherry', 'apple', 'banana', 'cherry', 'apple', 'banana', 'cherry', 'apple', 'banana', 'cherry', 'apple', 'banana', 'cherry', 'apple', 'banana', 'cherry', 'apple', 'banana', 'cherry', 'apple', 'banana', 'cherry', 'apple', 'banana', 'cherry', 'apple', 'banana', 'cherry', 'apple', 'banana', 'cherry', 'apple', 'banana', 'cherry', 'apple', 'banana', 'cherry', 'apple', 'banana', 'cherry', 'apple', 'banana', 'cherry', 'apple', 'banana', 'cherry', 'apple', 'banana', 'cherry', 'apple', 'banana', 'cherry', 'apple', 'banana', 'cherry', 'apple', 'banana', 'cherry', 'apple', 'banana', 'cherry', 'apple', 'banana', 'cherry', 'apple', 'banana', 'cherry', 'apple', 'banana', 'cherry', 'apple', 'banana', 'cherry', 'apple', 'banana', 'cherry', 'apple', 'banana', 'cherry', 'apple', 'banana', 'cherry', 'apple', 'banana', 'cherry', 'apple', 'banana', 'cherry', 'apple', 'banana', 'cherry', 'apple', 'banana', 'cherry', 'apple', 'banana', 'cherry', 'apple', 'banana', 'cherry', 'apple', 'banana', 'cherry', 'apple', 'banana', 'cherry', 'apple', 'banana', 'cherry', 'apple', 'banana', 'cherry', 'apple', 'banana', 'cherry', 'apple', 'banana', 'cherry', 'apple', 'banana', 'cherry', 'apple', 'banana', 'cherry', 'apple', 'banana', 'cherry', 'apple', 'banana', 'cherry', 'apple', 'banana', 'cherry', 'apple', 'banana', 'cherry', 'apple', 'banana', 'cherry', 'apple', 'banana', 'cherry', 'apple', 'banana', 'cherry', 'apple', 'banana', 'cherry']\n",
            "Predicted: ['orange', 'melon', 'strawberry', 'orange', 'melon', 'strawberry', 'orange', 'melon', 'strawberry', 'orange', 'melon', 'strawberry', 'orange', 'melon', 'strawberry', 'orange', 'melon', 'strawberry', 'orange', 'melon', 'strawberry', 'orange', 'melon', 'strawberry', 'orange', 'melon', 'strawberry', 'orange', 'melon', 'strawberry', 'orange', 'melon', 'strawberry', 'orange', 'melon', 'strawberry', 'orange', 'melon', 'strawberry', 'orange', 'melon', 'strawberry', 'orange', 'melon', 'strawberry', 'orange', 'melon', 'strawberry', 'orange', 'melon', 'strawberry', 'orange', 'melon', 'strawberry', 'orange', 'melon', 'strawberry', 'orange', 'melon', 'strawberry', 'orange', 'melon', 'strawberry', 'orange', 'melon', 'strawberry', 'orange', 'melon', 'strawberry', 'orange', 'melon', 'strawberry', 'orange', 'melon', 'strawberry', 'orange', 'melon', 'strawberry', 'orange', 'melon', 'strawberry', 'orange', 'melon', 'strawberry', 'orange', 'melon', 'strawberry', 'orange', 'melon', 'strawberry', 'orange', 'melon', 'strawberry', 'orange', 'melon', 'strawberry', 'orange', 'melon', 'strawberry', 'orange', 'melon', 'strawberry', 'orange', 'melon', 'strawberry', 'orange', 'melon', 'strawberry', 'orange', 'melon', 'strawberry', 'orange', 'melon', 'strawberry', 'orange', 'melon', 'strawberry', 'orange', 'melon', 'strawberry', 'orange', 'melon', 'strawberry', 'orange', 'melon', 'strawberry', 'orange', 'melon', 'strawberry', 'orange', 'melon', 'strawberry', 'orange', 'melon', 'strawberry', 'orange', 'melon', 'strawberry', 'orange', 'melon', 'strawberry', 'orange', 'melon', 'strawberry', 'orange', 'melon', 'strawberry', 'orange', 'melon', 'strawberry', 'orange', 'melon', 'strawberry', 'orange', 'melon', 'strawberry', 'orange', 'melon', 'strawberry', 'orange', 'melon', 'strawberry', 'orange', 'melon', 'strawberry', 'orange', 'melon', 'strawberry', 'orange', 'melon', 'strawberry', 'orange', 'melon', 'strawberry', 'orange', 'melon', 'strawberry', 'orange', 'melon', 'strawberry', 'orange', 'melon', 'strawberry', 'orange', 'melon', 'strawberry', 'orange', 'melon', 'strawberry', 'orange', 'melon', 'strawberry', 'orange', 'melon', 'strawberry', 'orange', 'melon', 'strawberry', 'orange', 'melon', 'strawberry', 'orange', 'melon', 'strawberry', 'orange', 'melon', 'strawberry', 'orange', 'melon', 'strawberry', 'orange', 'melon', 'strawberry', 'orange', 'melon', 'strawberry', 'orange', 'melon', 'strawberry', 'orange', 'melon', 'strawberry', 'orange', 'melon', 'strawberry', 'orange', 'melon', 'strawberry', 'orange', 'melon', 'strawberry', 'orange', 'melon', 'strawberry', 'orange', 'melon', 'strawberry', 'orange', 'melon', 'strawberry', 'orange', 'melon', 'strawberry', 'orange', 'melon', 'strawberry', 'orange', 'melon', 'strawberry', 'orange', 'melon', 'strawberry', 'orange', 'melon', 'strawberry', 'orange', 'melon', 'strawberry', 'orange', 'melon', 'strawberry', 'orange', 'melon', 'strawberry', 'orange', 'melon', 'strawberry', 'orange', 'melon', 'strawberry', 'orange', 'melon', 'strawberry', 'orange', 'melon', 'strawberry', 'orange', 'melon', 'strawberry', 'orange', 'melon', 'strawberry', 'orange', 'melon', 'strawberry', 'orange', 'melon', 'strawberry', 'orange', 'melon', 'strawberry', 'orange', 'melon', 'strawberry', 'orange', 'melon', 'strawberry', 'orange', 'melon', 'strawberry', 'orange', 'melon', 'strawberry', 'orange', 'melon', 'strawberry', 'orange', 'melon', 'strawberry', 'orange', 'melon', 'strawberry', 'orange', 'melon', 'strawberry', 'orange', 'melon', 'strawberry', 'orange', 'melon', 'strawberry', 'orange', 'melon', 'strawberry', 'orange', 'melon', 'strawberry', 'orange', 'melon', 'strawberry', 'orange', 'melon', 'strawberry', 'orange', 'melon', 'strawberry', 'orange', 'melon', 'strawberry', 'orange', 'melon', 'strawberry', 'orange', 'melon', 'strawberry', 'orange', 'melon', 'strawberry', 'orange', 'melon', 'strawberry', 'orange', 'melon', 'strawberry', 'orange', 'melon', 'strawberry', 'orange', 'melon', 'strawberry', 'orange', 'melon', 'strawberry', 'orange', 'melon', 'strawberry', 'orange', 'melon', 'strawberry', 'orange', 'melon', 'strawberry', 'orange', 'melon', 'strawberry', 'orange', 'melon', 'strawberry', 'orange', 'melon', 'strawberry', 'orange', 'melon', 'strawberry', 'orange', 'melon', 'strawberry', 'orange', 'melon', 'strawberry', 'orange', 'melon', 'strawberry', 'orange', 'melon', 'strawberry', 'orange', 'melon', 'strawberry', 'orange', 'melon', 'strawberry', 'orange', 'melon', 'strawberry', 'orange', 'melon', 'strawberry', 'orange', 'melon', 'strawberry', 'orange', 'melon', 'strawberry', 'orange', 'melon', 'strawberry', 'orange', 'melon', 'strawberry', 'orange', 'melon', 'strawberry', 'orange', 'melon', 'strawberry', 'orange', 'melon', 'strawberry', 'orange', 'melon', 'strawberry', 'orange', 'melon', 'strawberry', 'orange', 'melon', 'strawberry', 'orange', 'melon', 'strawberry', 'orange', 'melon', 'strawberry', 'orange', 'melon', 'strawberry', 'orange', 'melon', 'strawberry', 'orange', 'melon', 'strawberry', 'orange', 'melon', 'strawberry', 'orange', 'melon', 'strawberry', 'orange', 'melon', 'strawberry', 'orange', 'melon', 'strawberry', 'orange', 'melon', 'strawberry', 'orange', 'melon', 'strawberry', 'orange', 'melon', 'strawberry', 'orange', 'melon', 'strawberry', 'orange', 'melon', 'strawberry', 'orange', 'melon', 'strawberry', 'orange', 'melon', 'strawberry', 'orange', 'melon', 'strawberry', 'orange', 'melon', 'strawberry', 'orange', 'melon', 'strawberry', 'orange', 'melon', 'strawberry', 'orange', 'melon', 'strawberry', 'orange', 'melon', 'strawberry', 'orange', 'melon', 'strawberry', 'orange', 'melon', 'strawberry', 'orange', 'melon', 'strawberry', 'orange', 'melon', 'strawberry', 'orange', 'melon', 'strawberry', 'orange', 'melon', 'strawberry', 'orange', 'melon', 'strawberry', 'orange', 'melon', 'strawberry', 'orange', 'melon', 'strawberry', 'orange', 'melon', 'strawberry', 'orange', 'melon', 'strawberry', 'orange', 'melon', 'strawberry', 'orange', 'melon', 'strawberry', 'orange', 'melon', 'strawberry', 'orange', 'melon', 'strawberry', 'orange', 'melon', 'strawberry', 'orange', 'melon', 'strawberry', 'orange', 'melon', 'strawberry', 'orange', 'melon', 'strawberry', 'orange', 'melon', 'strawberry', 'orange', 'melon', 'strawberry', 'orange', 'melon', 'strawberry', 'orange', 'melon', 'strawberry', 'orange', 'melon', 'strawberry', 'orange', 'melon', 'strawberry', 'orange', 'melon', 'strawberry', 'orange', 'melon', 'strawberry', 'orange', 'melon', 'strawberry', 'orange', 'melon', 'strawberry', 'orange', 'melon', 'strawberry', 'orange', 'melon', 'strawberry', 'orange', 'melon', 'strawberry', 'orange', 'melon', 'strawberry', 'orange', 'melon', 'strawberry', 'orange', 'melon', 'strawberry', 'orange', 'melon', 'strawberry', 'orange', 'melon', 'strawberry', 'orange', 'melon', 'strawberry', 'orange', 'melon', 'strawberry', 'orange', 'melon', 'strawberry', 'orange', 'melon', 'strawberry', 'orange', 'melon', 'strawberry', 'orange', 'melon', 'strawberry', 'orange', 'melon', 'strawberry', 'orange', 'melon', 'strawberry', 'orange', 'melon', 'strawberry', 'orange', 'melon', 'strawberry', 'orange', 'melon', 'strawberry', 'orange', 'melon', 'strawberry', 'orange', 'melon', 'strawberry', 'orange', 'melon', 'strawberry', 'orange', 'melon', 'strawberry', 'orange', 'melon', 'strawberry', 'orange', 'melon', 'strawberry', 'orange', 'melon', 'strawberry', 'orange', 'melon', 'strawberry', 'orange', 'melon', 'strawberry', 'orange', 'melon', 'strawberry', 'orange', 'melon', 'strawberry', 'orange', 'melon', 'strawberry', 'orange', 'melon', 'strawberry', 'orange', 'melon', 'strawberry', 'orange', 'melon', 'strawberry', 'orange', 'melon', 'strawberry', 'orange', 'melon', 'strawberry', 'orange', 'melon', 'strawberry', 'orange', 'melon', 'strawberry', 'orange', 'melon', 'strawberry', 'orange', 'melon', 'strawberry', 'orange', 'melon', 'strawberry', 'orange', 'melon', 'strawberry', 'orange', 'melon', 'strawberry', 'orange', 'melon', 'strawberry', 'orange', 'melon', 'strawberry', 'orange', 'melon', 'strawberry', 'orange', 'melon', 'strawberry', 'orange', 'melon', 'strawberry', 'orange', 'melon', 'strawberry', 'orange', 'melon', 'strawberry', 'orange', 'melon', 'strawberry', 'orange', 'melon', 'strawberry', 'orange', 'melon', 'strawberry', 'orange', 'melon', 'strawberry', 'orange', 'melon', 'strawberry', 'orange', 'melon', 'strawberry', 'orange', 'melon', 'strawberry', 'orange', 'melon', 'strawberry', 'orange', 'melon', 'strawberry', 'orange', 'melon', 'strawberry', 'orange', 'melon', 'strawberry', 'orange', 'melon', 'strawberry', 'orange', 'melon', 'strawberry', 'orange', 'melon', 'strawberry', 'orange', 'melon', 'strawberry', 'orange', 'melon', 'strawberry', 'orange', 'melon', 'strawberry', 'orange', 'melon', 'strawberry', 'orange', 'melon', 'strawberry', 'orange', 'melon', 'strawberry', 'orange', 'melon', 'strawberry', 'orange', 'melon', 'strawberry', 'orange', 'melon', 'strawberry', 'orange', 'melon', 'strawberry', 'orange', 'melon', 'strawberry', 'orange', 'melon', 'strawberry', 'orange', 'melon', 'strawberry', 'orange', 'melon', 'strawberry', 'orange', 'melon', 'strawberry', 'orange', 'melon', 'strawberry', 'orange', 'melon', 'strawberry', 'orange', 'melon', 'strawberry', 'orange', 'melon', 'strawberry', 'orange', 'melon', 'strawberry', 'orange', 'melon', 'strawberry', 'orange', 'melon', 'strawberry', 'orange', 'melon', 'strawberry', 'orange', 'melon', 'strawberry', 'orange', 'melon', 'strawberry', 'orange', 'melon', 'strawberry', 'orange', 'melon', 'strawberry', 'orange', 'melon', 'strawberry', 'orange', 'melon', 'strawberry', 'orange', 'melon', 'strawberry', 'orange', 'melon', 'strawberry', 'orange', 'melon', 'strawberry', 'orange', 'melon', 'strawberry', 'orange', 'melon', 'strawberry', 'orange', 'melon', 'strawberry', 'orange', 'melon', 'strawberry', 'orange', 'melon', 'strawberry', 'orange', 'melon', 'strawberry', 'orange', 'melon', 'strawberry', 'orange', 'melon', 'strawberry', 'orange', 'melon', 'strawberry', 'orange', 'melon', 'strawberry', 'orange', 'melon', 'strawberry', 'orange', 'melon', 'strawberry', 'orange', 'melon', 'strawberry', 'orange', 'melon', 'strawberry', 'orange', 'melon', 'strawberry', 'orange', 'melon', 'strawberry', 'orange', 'melon', 'strawberry', 'orange', 'melon', 'strawberry', 'orange', 'melon', 'strawberry', 'orange', 'melon', 'strawberry', 'orange', 'melon', 'strawberry', 'orange', 'melon', 'strawberry', 'orange', 'melon', 'strawberry', 'orange', 'melon', 'strawberry', 'orange', 'melon', 'strawberry', 'orange', 'melon', 'strawberry', 'orange', 'melon', 'strawberry', 'orange', 'melon', 'strawberry', 'orange', 'melon', 'strawberry', 'orange', 'melon', 'strawberry', 'orange', 'melon', 'strawberry', 'orange', 'melon', 'strawberry', 'orange', 'melon', 'strawberry', 'orange', 'melon', 'strawberry', 'orange', 'melon', 'strawberry', 'orange', 'melon', 'strawberry', 'orange', 'melon', 'strawberry', 'orange', 'melon', 'strawberry', 'orange', 'melon', 'strawberry', 'orange', 'melon', 'strawberry', 'orange', 'melon', 'strawberry', 'orange', 'melon', 'strawberry', 'orange', 'melon', 'strawberry', 'orange', 'melon', 'strawberry', 'orange', 'melon', 'strawberry', 'orange', 'melon', 'strawberry', 'orange', 'melon', 'strawberry', 'orange', 'melon', 'strawberry', 'orange', 'melon', 'strawberry', 'orange', 'melon', 'strawberry', 'orange', 'melon', 'strawberry', 'orange', 'melon', 'strawberry', 'orange', 'melon', 'strawberry', 'orange', 'melon', 'strawberry', 'orange', 'melon', 'strawberry', 'orange', 'melon', 'strawberry', 'orange', 'melon', 'strawberry', 'orange', 'melon', 'strawberry', 'orange', 'melon', 'strawberry', 'orange', 'melon', 'strawberry', 'orange', 'melon', 'strawberry', 'orange', 'melon', 'strawberry', 'orange', 'melon', 'strawberry', 'orange', 'melon', 'strawberry', 'orange', 'melon', 'strawberry', 'orange', 'melon', 'strawberry', 'orange', 'melon', 'strawberry', 'orange', 'melon', 'strawberry', 'orange', 'melon', 'strawberry', 'orange', 'melon', 'strawberry', 'orange', 'melon', 'strawberry', 'orange', 'melon', 'strawberry', 'orange', 'melon', 'strawberry', 'orange', 'melon', 'strawberry', 'orange', 'melon', 'strawberry', 'orange', 'melon', 'strawberry', 'orange', 'melon', 'strawberry', 'orange', 'melon', 'strawberry', 'orange', 'melon', 'strawberry', 'orange', 'melon', 'strawberry', 'orange', 'melon', 'strawberry', 'orange', 'melon', 'strawberry', 'orange', 'melon', 'strawberry', 'orange', 'melon', 'strawberry', 'orange', 'melon', 'strawberry', 'orange', 'melon', 'strawberry', 'orange', 'melon', 'strawberry', 'orange', 'melon', 'strawberry', 'orange', 'melon', 'strawberry', 'orange', 'melon', 'strawberry', 'orange', 'melon', 'strawberry', 'orange', 'melon', 'strawberry', 'orange', 'melon', 'strawberry', 'orange', 'melon', 'strawberry', 'orange', 'melon', 'strawberry', 'orange', 'melon', 'strawberry', 'orange', 'melon', 'strawberry', 'orange', 'melon', 'strawberry', 'orange', 'melon', 'strawberry', 'orange', 'melon', 'strawberry', 'orange', 'melon', 'strawberry', 'orange', 'melon', 'strawberry', 'orange', 'melon', 'strawberry', 'orange', 'melon', 'strawberry', 'orange', 'melon', 'strawberry', 'orange', 'melon', 'strawberry', 'orange', 'melon', 'strawberry', 'orange', 'melon', 'strawberry', 'orange', 'melon', 'strawberry', 'orange', 'melon', 'strawberry', 'orange', 'melon', 'strawberry', 'orange', 'melon', 'strawberry', 'orange', 'melon', 'strawberry', 'orange', 'melon', 'strawberry', 'orange', 'melon', 'strawberry', 'orange', 'melon', 'strawberry', 'orange', 'melon', 'strawberry', 'orange', 'melon', 'strawberry', 'orange', 'melon', 'strawberry', 'orange', 'melon', 'strawberry', 'orange', 'melon', 'strawberry', 'orange', 'melon', 'strawberry', 'orange', 'melon', 'strawberry', 'orange', 'melon', 'strawberry', 'orange', 'melon', 'strawberry', 'orange', 'melon', 'strawberry', 'orange', 'melon', 'strawberry', 'orange', 'melon', 'strawberry', 'orange', 'melon', 'strawberry', 'orange', 'melon', 'strawberry', 'orange', 'melon', 'strawberry', 'orange', 'melon', 'strawberry', 'orange', 'melon', 'strawberry', 'orange', 'melon', 'strawberry', 'orange', 'melon', 'strawberry', 'orange', 'melon', 'strawberry', 'orange', 'melon', 'strawberry', 'orange', 'melon', 'strawberry', 'orange', 'melon', 'strawberry', 'orange', 'melon', 'strawberry', 'orange', 'melon', 'strawberry', 'orange', 'melon', 'strawberry', 'orange', 'melon', 'strawberry', 'orange', 'melon', 'strawberry', 'orange', 'melon', 'strawberry', 'orange', 'melon', 'strawberry', 'orange', 'melon', 'strawberry', 'orange', 'melon', 'strawberry', 'orange', 'melon', 'strawberry', 'orange', 'melon', 'strawberry', 'orange', 'melon', 'strawberry', 'orange', 'melon', 'strawberry', 'orange', 'melon', 'strawberry', 'orange', 'melon', 'strawberry', 'orange', 'melon', 'strawberry', 'orange', 'melon', 'strawberry', 'orange', 'melon', 'strawberry', 'orange', 'melon', 'strawberry', 'orange', 'melon', 'strawberry', 'orange', 'melon', 'strawberry', 'orange', 'melon', 'strawberry', 'orange', 'melon', 'strawberry', 'orange', 'melon', 'strawberry', 'orange', 'melon', 'strawberry', 'orange', 'melon', 'strawberry', 'orange', 'melon', 'strawberry', 'orange', 'melon', 'strawberry', 'orange', 'melon', 'strawberry', 'orange', 'melon', 'strawberry', 'orange', 'melon', 'strawberry', 'orange', 'melon', 'strawberry', 'orange', 'melon', 'strawberry', 'orange', 'melon', 'strawberry', 'orange', 'melon', 'strawberry', 'orange', 'melon', 'strawberry', 'orange', 'melon', 'strawberry', 'orange', 'melon', 'strawberry', 'orange', 'melon', 'strawberry', 'orange', 'melon', 'strawberry', 'orange', 'melon', 'strawberry', 'orange', 'melon', 'strawberry', 'orange', 'melon', 'strawberry', 'orange', 'melon', 'strawberry', 'orange', 'melon', 'strawberry', 'orange', 'melon', 'strawberry', 'orange', 'melon', 'strawberry', 'orange', 'melon', 'strawberry', 'orange', 'melon', 'strawberry', 'orange', 'melon', 'strawberry', 'orange', 'melon', 'strawberry', 'orange', 'melon', 'strawberry', 'orange', 'melon', 'strawberry', 'orange', 'melon', 'strawberry', 'orange', 'melon', 'strawberry', 'orange', 'melon', 'strawberry', 'orange', 'melon', 'strawberry', 'orange', 'melon', 'strawberry', 'orange', 'melon', 'strawberry', 'orange', 'melon', 'strawberry', 'orange', 'melon', 'strawberry', 'orange', 'melon', 'strawberry', 'orange', 'melon', 'strawberry', 'orange', 'melon', 'strawberry', 'orange', 'melon', 'strawberry', 'orange', 'melon', 'strawberry', 'orange', 'melon', 'strawberry', 'orange', 'melon', 'strawberry', 'orange', 'melon', 'strawberry', 'orange', 'melon', 'strawberry', 'orange', 'melon', 'strawberry', 'orange', 'melon', 'strawberry', 'orange', 'melon', 'strawberry', 'orange', 'melon', 'strawberry', 'orange', 'melon', 'strawberry', 'orange', 'melon', 'strawberry', 'orange', 'melon', 'strawberry', 'orange', 'melon', 'strawberry', 'orange', 'melon', 'strawberry', 'orange', 'melon', 'strawberry', 'orange', 'melon', 'strawberry', 'orange', 'melon', 'strawberry', 'orange', 'melon', 'strawberry', 'orange', 'melon', 'strawberry', 'orange', 'melon', 'strawberry', 'orange', 'melon', 'strawberry', 'orange', 'melon', 'strawberry', 'orange', 'melon', 'strawberry', 'orange', 'melon', 'strawberry', 'orange', 'melon', 'strawberry', 'orange', 'melon', 'strawberry', 'orange', 'melon', 'strawberry', 'orange', 'melon', 'strawberry', 'orange', 'melon', 'strawberry', 'orange', 'melon', 'strawberry', 'orange', 'melon', 'strawberry', 'orange', 'melon', 'strawberry', 'orange', 'melon', 'strawberry', 'orange', 'melon', 'strawberry', 'orange', 'melon', 'strawberry', 'orange', 'melon', 'strawberry', 'orange', 'melon', 'strawberry', 'orange', 'melon', 'strawberry', 'orange', 'melon', 'strawberry', 'orange', 'melon', 'strawberry', 'orange', 'melon', 'strawberry', 'orange', 'melon', 'strawberry', 'orange', 'melon', 'strawberry', 'orange', 'melon', 'strawberry', 'orange', 'melon', 'strawberry', 'orange', 'melon', 'strawberry', 'orange', 'melon', 'strawberry', 'orange', 'melon', 'strawberry', 'orange', 'melon', 'strawberry', 'orange', 'melon', 'strawberry', 'orange', 'melon', 'strawberry', 'orange', 'melon', 'strawberry', 'orange', 'melon', 'strawberry', 'orange', 'melon', 'strawberry', 'orange', 'melon', 'strawberry', 'orange', 'melon', 'strawberry', 'orange', 'melon', 'strawberry', 'orange', 'melon', 'strawberry', 'orange', 'melon', 'strawberry', 'orange', 'melon', 'strawberry', 'orange', 'melon', 'strawberry', 'orange', 'melon', 'strawberry', 'orange', 'melon', 'strawberry', 'orange', 'melon', 'strawberry', 'orange', 'melon', 'strawberry', 'orange', 'melon', 'strawberry', 'orange', 'melon', 'strawberry', 'orange', 'melon', 'strawberry', 'orange', 'melon', 'strawberry', 'orange', 'melon', 'strawberry', 'orange', 'melon', 'strawberry', 'orange', 'melon', 'strawberry', 'orange', 'melon', 'strawberry', 'orange', 'melon', 'strawberry', 'orange', 'melon', 'strawberry', 'orange', 'melon', 'strawberry', 'orange', 'melon', 'strawberry', 'orange', 'melon', 'strawberry', 'orange', 'melon', 'strawberry', 'orange', 'melon', 'strawberry', 'orange', 'melon', 'strawberry', 'orange', 'melon', 'strawberry', 'orange', 'melon', 'strawberry', 'orange', 'melon', 'strawberry', 'orange', 'melon', 'strawberry', 'orange', 'melon', 'strawberry', 'orange', 'melon', 'strawberry', 'orange', 'melon', 'strawberry', 'orange', 'melon', 'strawberry', 'orange', 'melon', 'strawberry', 'orange', 'melon', 'strawberry', 'orange', 'melon', 'strawberry', 'orange', 'melon', 'strawberry', 'orange', 'melon', 'strawberry', 'orange', 'melon', 'strawberry', 'orange', 'melon', 'strawberry', 'orange', 'melon', 'strawberry', 'orange', 'melon', 'strawberry', 'orange', 'melon', 'strawberry', 'orange', 'melon', 'strawberry', 'orange', 'melon', 'strawberry', 'orange', 'melon', 'strawberry', 'orange', 'melon', 'strawberry', 'orange', 'melon', 'strawberry', 'orange', 'melon', 'strawberry', 'orange', 'melon', 'strawberry', 'orange', 'melon', 'strawberry', 'orange', 'melon', 'strawberry', 'orange', 'melon', 'strawberry', 'orange', 'melon', 'strawberry', 'orange', 'melon', 'strawberry', 'orange', 'melon', 'strawberry', 'orange', 'melon', 'strawberry', 'orange', 'melon', 'strawberry', 'orange', 'melon', 'strawberry', 'orange', 'melon', 'strawberry', 'orange', 'melon', 'strawberry', 'orange', 'melon', 'strawberry', 'orange', 'melon', 'strawberry', 'orange', 'melon', 'strawberry', 'orange', 'melon', 'strawberry', 'orange', 'melon', 'strawberry', 'orange', 'melon', 'strawberry', 'orange', 'melon', 'strawberry', 'orange', 'melon', 'strawberry', 'orange', 'melon', 'strawberry', 'orange', 'melon', 'strawberry', 'orange', 'melon', 'strawberry', 'orange', 'melon', 'strawberry', 'orange', 'melon', 'strawberry', 'orange', 'melon', 'strawberry', 'orange', 'melon', 'strawberry', 'orange', 'melon', 'strawberry', 'orange', 'melon', 'strawberry', 'orange', 'melon', 'strawberry', 'orange', 'melon', 'strawberry', 'orange', 'melon', 'strawberry', 'orange', 'melon', 'strawberry', 'orange', 'melon', 'strawberry', 'orange', 'melon', 'strawberry', 'orange', 'melon', 'strawberry', 'orange', 'melon', 'strawberry', 'orange', 'melon', 'strawberry', 'orange', 'melon', 'strawberry', 'orange', 'melon', 'strawberry', 'orange', 'melon', 'strawberry', 'orange', 'melon', 'strawberry', 'orange', 'melon', 'strawberry', 'orange', 'melon', 'strawberry', 'orange', 'melon', 'strawberry', 'orange', 'melon', 'strawberry', 'orange', 'melon', 'strawberry', 'orange', 'melon', 'strawberry', 'orange', 'melon', 'strawberry', 'orange', 'melon', 'strawberry', 'orange', 'melon', 'strawberry', 'orange', 'melon', 'strawberry', 'orange', 'melon', 'strawberry', 'orange', 'melon', 'strawberry', 'orange', 'melon', 'strawberry', 'orange', 'melon', 'strawberry', 'orange', 'melon', 'strawberry', 'orange', 'melon', 'strawberry', 'orange', 'melon', 'strawberry', 'orange', 'melon', 'strawberry', 'orange', 'melon', 'strawberry', 'orange', 'melon', 'strawberry', 'orange', 'melon', 'strawberry', 'orange', 'melon', 'strawberry', 'orange', 'melon', 'strawberry', 'orange', 'melon', 'strawberry', 'orange', 'melon', 'strawberry', 'orange', 'melon', 'strawberry', 'orange', 'melon', 'strawberry', 'orange', 'melon', 'strawberry', 'orange', 'melon', 'strawberry', 'orange', 'melon', 'strawberry', 'orange', 'melon', 'strawberry', 'orange', 'melon', 'strawberry', 'orange', 'melon', 'strawberry', 'orange', 'melon', 'strawberry', 'orange', 'melon', 'strawberry', 'orange', 'melon', 'strawberry', 'orange', 'melon', 'strawberry', 'orange', 'melon', 'strawberry', 'orange', 'melon', 'strawberry', 'orange', 'melon', 'strawberry', 'orange', 'melon', 'strawberry', 'orange', 'melon', 'strawberry', 'orange', 'melon', 'strawberry', 'orange', 'melon', 'strawberry', 'orange', 'melon', 'strawberry', 'orange', 'melon', 'strawberry', 'orange', 'melon', 'strawberry', 'orange', 'melon', 'strawberry', 'orange', 'melon', 'strawberry', 'orange', 'melon', 'strawberry', 'orange', 'melon', 'strawberry', 'orange', 'melon', 'strawberry', 'orange', 'melon', 'strawberry', 'orange', 'melon', 'strawberry', 'orange', 'melon', 'strawberry', 'orange', 'melon', 'strawberry', 'orange', 'melon', 'strawberry', 'orange', 'melon', 'strawberry', 'orange', 'melon', 'strawberry', 'orange', 'melon', 'strawberry', 'orange', 'melon', 'strawberry', 'orange', 'melon', 'strawberry', 'orange', 'melon', 'strawberry', 'orange', 'melon', 'strawberry', 'orange', 'melon', 'strawberry', 'orange', 'melon', 'strawberry', 'orange', 'melon', 'strawberry', 'orange', 'melon', 'strawberry', 'orange', 'melon', 'strawberry', 'orange', 'melon', 'strawberry', 'orange', 'melon', 'strawberry', 'orange', 'melon', 'strawberry', 'orange', 'melon', 'strawberry', 'orange', 'melon', 'strawberry', 'orange', 'melon', 'strawberry', 'orange', 'melon', 'strawberry', 'orange', 'melon', 'strawberry', 'orange', 'melon', 'strawberry', 'orange', 'melon', 'strawberry', 'orange', 'melon', 'strawberry', 'orange', 'melon', 'strawberry', 'orange', 'melon', 'strawberry', 'orange', 'melon', 'strawberry', 'orange', 'melon', 'strawberry', 'orange', 'melon', 'strawberry', 'orange', 'melon', 'strawberry', 'orange', 'melon', 'strawberry', 'orange', 'melon', 'strawberry', 'orange', 'melon', 'strawberry', 'orange', 'melon', 'strawberry', 'orange', 'melon', 'strawberry', 'orange', 'melon', 'strawberry', 'orange', 'melon', 'strawberry', 'orange', 'melon', 'strawberry', 'orange', 'melon', 'strawberry', 'orange', 'melon', 'strawberry', 'orange', 'melon', 'strawberry', 'orange', 'melon', 'strawberry', 'orange', 'melon', 'strawberry', 'orange', 'melon', 'strawberry', 'orange', 'melon', 'strawberry', 'orange', 'melon', 'strawberry', 'orange', 'melon', 'strawberry', 'orange', 'melon', 'strawberry', 'orange', 'melon', 'strawberry', 'orange', 'melon', 'strawberry', 'orange', 'melon', 'strawberry', 'orange', 'melon', 'strawberry', 'orange', 'melon', 'strawberry', 'orange', 'melon', 'strawberry', 'orange', 'melon', 'strawberry', 'orange', 'melon', 'strawberry', 'orange', 'melon', 'strawberry', 'orange', 'melon', 'strawberry', 'orange', 'melon', 'strawberry', 'orange', 'melon', 'strawberry', 'orange', 'melon', 'strawberry', 'orange', 'melon', 'strawberry', 'orange', 'melon', 'strawberry', 'orange', 'melon', 'strawberry', 'orange', 'melon', 'strawberry', 'orange', 'melon', 'strawberry', 'orange', 'melon', 'strawberry', 'orange', 'melon', 'strawberry', 'orange', 'melon', 'strawberry', 'orange', 'melon', 'strawberry', 'orange', 'melon', 'strawberry', 'orange', 'melon', 'strawberry', 'orange', 'melon', 'strawberry', 'orange', 'melon', 'strawberry', 'orange', 'melon', 'strawberry', 'orange', 'melon', 'strawberry', 'orange', 'melon', 'strawberry', 'orange', 'melon', 'strawberry', 'orange', 'melon', 'strawberry', 'orange', 'melon', 'strawberry', 'orange', 'melon', 'strawberry', 'orange', 'melon', 'strawberry', 'orange', 'melon', 'strawberry', 'orange', 'melon', 'strawberry', 'orange', 'melon', 'strawberry', 'orange', 'melon', 'strawberry', 'orange', 'melon', 'strawberry', 'orange', 'melon', 'strawberry', 'orange', 'melon', 'strawberry', 'orange', 'melon', 'strawberry', 'orange', 'melon', 'strawberry', 'orange', 'melon', 'strawberry', 'orange', 'melon', 'strawberry', 'orange', 'melon', 'strawberry', 'orange', 'melon', 'strawberry', 'orange', 'melon', 'strawberry', 'orange', 'melon', 'strawberry', 'orange', 'melon', 'strawberry', 'orange', 'melon', 'strawberry', 'orange', 'melon', 'strawberry', 'orange', 'melon', 'strawberry', 'orange', 'melon', 'strawberry', 'orange', 'melon', 'strawberry', 'orange', 'melon', 'strawberry', 'orange', 'melon', 'strawberry', 'orange', 'melon', 'strawberry', 'orange', 'melon', 'strawberry', 'orange', 'melon', 'strawberry', 'orange', 'melon', 'strawberry', 'orange', 'melon', 'strawberry', 'orange', 'melon', 'strawberry', 'orange', 'melon', 'strawberry', 'orange', 'melon', 'strawberry', 'orange', 'melon', 'strawberry', 'orange', 'melon', 'strawberry', 'orange', 'melon', 'strawberry', 'orange', 'melon', 'strawberry', 'orange', 'melon', 'strawberry', 'orange', 'melon', 'strawberry', 'orange', 'melon', 'strawberry', 'orange', 'melon', 'strawberry', 'orange', 'melon', 'strawberry', 'orange', 'melon', 'strawberry', 'orange', 'melon', 'strawberry', 'orange', 'melon', 'strawberry', 'orange', 'melon', 'strawberry', 'orange', 'melon', 'strawberry', 'orange', 'melon', 'strawberry', 'orange', 'melon', 'strawberry', 'orange', 'melon', 'strawberry', 'orange', 'melon', 'strawberry', 'orange', 'melon', 'strawberry', 'orange', 'melon', 'strawberry', 'orange', 'melon', 'strawberry', 'orange', 'melon', 'strawberry', 'orange', 'melon', 'strawberry', 'orange', 'melon', 'strawberry', 'orange', 'melon', 'strawberry', 'orange', 'melon', 'strawberry', 'orange', 'melon', 'strawberry', 'orange', 'melon', 'strawberry', 'orange', 'melon', 'strawberry', 'orange', 'melon', 'strawberry', 'orange', 'melon', 'strawberry', 'orange', 'melon', 'strawberry', 'orange', 'melon', 'strawberry', 'orange', 'melon', 'strawberry', 'orange', 'melon', 'strawberry', 'orange', 'melon', 'strawberry', 'orange', 'melon', 'strawberry', 'orange', 'melon', 'strawberry', 'orange', 'melon', 'strawberry', 'orange', 'melon', 'strawberry', 'orange', 'melon', 'strawberry', 'orange', 'melon', 'strawberry', 'orange', 'melon', 'strawberry', 'orange', 'melon', 'strawberry', 'orange', 'melon', 'strawberry', 'orange', 'melon', 'strawberry', 'orange', 'melon', 'strawberry', 'orange', 'melon', 'strawberry', 'orange', 'melon', 'strawberry', 'orange', 'melon', 'strawberry', 'orange', 'melon', 'strawberry', 'orange', 'melon', 'strawberry', 'orange', 'melon', 'strawberry', 'orange', 'melon', 'strawberry', 'orange', 'melon', 'strawberry', 'orange', 'melon', 'strawberry', 'orange', 'melon', 'strawberry', 'orange', 'melon', 'strawberry', 'orange', 'melon', 'strawberry', 'orange', 'melon', 'strawberry', 'orange', 'melon', 'strawberry', 'orange', 'melon', 'strawberry', 'orange', 'melon', 'strawberry', 'orange', 'melon', 'strawberry', 'orange', 'melon', 'strawberry', 'orange', 'melon', 'strawberry', 'orange', 'melon', 'strawberry', 'orange', 'melon', 'strawberry', 'orange', 'melon', 'strawberry', 'orange', 'melon', 'strawberry', 'orange', 'melon', 'strawberry', 'orange', 'melon', 'strawberry', 'orange', 'melon', 'strawberry', 'orange', 'melon', 'strawberry', 'orange', 'melon', 'strawberry', 'orange', 'melon', 'strawberry', 'orange', 'melon', 'strawberry', 'orange', 'melon', 'strawberry', 'orange', 'melon', 'strawberry', 'orange', 'melon', 'strawberry', 'orange', 'melon', 'strawberry', 'orange', 'melon', 'strawberry', 'orange', 'melon', 'strawberry', 'orange', 'melon', 'strawberry', 'orange', 'melon', 'strawberry', 'orange', 'melon', 'strawberry', 'orange', 'melon', 'strawberry', 'orange', 'melon', 'strawberry', 'orange', 'melon', 'strawberry', 'orange', 'melon', 'strawberry', 'orange', 'melon', 'strawberry', 'orange', 'melon', 'strawberry', 'orange', 'melon', 'strawberry', 'orange', 'melon', 'strawberry', 'orange', 'melon', 'strawberry', 'orange', 'melon', 'strawberry', 'orange', 'melon', 'strawberry', 'orange', 'melon', 'strawberry', 'orange', 'melon', 'strawberry', 'orange', 'melon', 'strawberry', 'orange', 'melon', 'strawberry', 'orange', 'melon', 'strawberry', 'orange', 'melon', 'strawberry', 'orange', 'melon', 'strawberry', 'orange', 'melon', 'strawberry', 'orange', 'melon', 'strawberry', 'orange', 'melon', 'strawberry', 'orange', 'melon', 'strawberry', 'orange', 'melon', 'strawberry', 'orange', 'melon', 'strawberry', 'orange', 'melon', 'strawberry', 'orange', 'melon', 'strawberry', 'orange', 'melon', 'strawberry', 'orange', 'melon', 'strawberry', 'orange', 'melon', 'strawberry', 'orange', 'melon', 'strawberry', 'orange', 'melon', 'strawberry', 'orange', 'melon', 'strawberry', 'orange', 'melon', 'strawberry', 'orange', 'melon', 'strawberry', 'orange', 'melon', 'strawberry', 'orange', 'melon', 'strawberry', 'orange', 'melon', 'strawberry', 'orange', 'melon', 'strawberry', 'orange', 'melon', 'strawberry', 'orange', 'melon', 'strawberry', 'orange', 'melon', 'strawberry', 'orange', 'melon', 'strawberry', 'orange', 'melon', 'strawberry', 'orange', 'melon', 'strawberry', 'orange', 'melon', 'strawberry', 'orange', 'melon', 'strawberry', 'orange', 'melon', 'strawberry', 'orange', 'melon', 'strawberry', 'orange', 'melon', 'strawberry', 'orange', 'melon', 'strawberry', 'orange', 'melon', 'strawberry', 'orange', 'melon', 'strawberry', 'orange', 'melon', 'strawberry', 'orange', 'melon', 'strawberry', 'orange', 'melon', 'strawberry', 'orange', 'melon', 'strawberry', 'orange', 'melon', 'strawberry', 'orange', 'melon', 'strawberry', 'orange', 'melon', 'strawberry', 'orange', 'melon', 'strawberry', 'orange', 'melon', 'strawberry', 'orange', 'melon', 'strawberry', 'orange', 'melon', 'strawberry', 'orange', 'melon', 'strawberry', 'orange', 'melon', 'strawberry', 'orange', 'melon', 'strawberry', 'orange', 'melon', 'strawberry', 'orange', 'melon', 'strawberry', 'orange', 'melon', 'strawberry', 'orange', 'melon', 'strawberry', 'orange', 'melon', 'strawberry', 'orange', 'melon', 'strawberry', 'orange', 'melon', 'strawberry', 'orange', 'melon', 'strawberry', 'orange', 'melon', 'strawberry', 'orange', 'melon', 'strawberry', 'orange', 'melon', 'strawberry', 'orange', 'melon', 'strawberry', 'orange', 'melon', 'strawberry', 'orange', 'melon', 'strawberry', 'orange', 'melon', 'strawberry', 'orange', 'melon', 'strawberry', 'orange', 'melon', 'strawberry', 'orange', 'melon', 'strawberry', 'orange', 'melon', 'strawberry', 'orange', 'melon', 'strawberry', 'orange', 'melon', 'strawberry', 'orange', 'melon', 'strawberry', 'orange', 'melon', 'strawberry', 'orange', 'melon', 'strawberry', 'orange', 'melon', 'strawberry', 'orange', 'melon', 'strawberry', 'orange', 'melon', 'strawberry', 'orange', 'melon', 'strawberry', 'orange', 'melon', 'strawberry', 'orange', 'melon', 'strawberry', 'orange', 'melon', 'strawberry', 'orange', 'melon', 'strawberry', 'orange', 'melon', 'strawberry', 'orange', 'melon', 'strawberry', 'orange', 'melon', 'strawberry']\n",
            "Precision: 0.0\n",
            "Recall: 0.0\n",
            "F1 Score: 0\n",
            "\n",
            "Test case 9:\n",
            "Actual: []\n",
            "Predicted: ['apple']\n",
            "Precision: 0.0\n",
            "Recall: 0\n",
            "F1 Score: 0\n",
            "\n",
            "Test case 10:\n",
            "Actual: ['apple']\n",
            "Predicted: []\n",
            "Precision: 0\n",
            "Recall: 0.0\n",
            "F1 Score: 0\n",
            "\n"
          ]
        }
      ],
      "source": [
        "# Test case 1: Both lists are empty (correct prediction)\n",
        "actual1 = []\n",
        "predicted1 = []\n",
        "# Test case 2: Both lists contain the same words in the same order (perfect prediction)\n",
        "actual2 = [\"apple\", \"banana\", \"cherry\"]\n",
        "predicted2 = [\"apple\", \"banana\", \"cherry\"]\n",
        "# Test case 3: Both lists contain the same words in different order (perfect prediction)\n",
        "actual3 = [\"apple\", \"banana\", \"cherry\"]\n",
        "predicted3 = [\"banana\", \"apple\", \"cherry\"]\n",
        "# Test case 4: Both lists contain the same words in different case (perfect prediction due to case insensitivity)\n",
        "actual4 = [\"apple\", \"banana\", \"cherry\"]\n",
        "predicted4 = [\"APPLE\", \"Banana\", \"CHERRY\"]\n",
        "# Test case 5: No predicted words match any actual words (zero precision)\n",
        "actual5 = [\"apple\", \"banana\", \"cherry\"]\n",
        "predicted5 = [\"orange\", \"grape\", \"pear\"]\n",
        "# Test case 6: No actual words match any predicted words (zero recall)\n",
        "actual6 = [\"apple\", \"banana\", \"cherry\"]\n",
        "predicted6 = [\"orange\", \"grape\", \"pear\"]\n",
        "# Test case 7: Both lists are large, contain various words, with some correct predictions (non-zero precision and recall)\n",
        "actual7 = [\"apple\", \"banana\", \"cherry\"] * 1000\n",
        "predicted7 = [\"apple\", \"pear\", \"grape\"] * 1000\n",
        "# Test case 8: Both lists are large, contain various words, with no correct predictions (zero precision and recall)\n",
        "actual8 = [\"apple\", \"banana\", \"cherry\"] * 1000\n",
        "predicted8 = [\"orange\", \"melon\", \"strawberry\"] * 1000\n",
        "\n",
        "actual9 = []\n",
        "predicted9 = ['apple']\n",
        "\n",
        "actual10 = ['apple']\n",
        "predicted10 = []\n",
        "\n",
        "# Calculate metrics for each test case\n",
        "test_cases = [\n",
        "    (actual1, predicted1),\n",
        "    (actual2, predicted2),\n",
        "    (actual3, predicted3),\n",
        "    (actual4, predicted4),\n",
        "    (actual5, predicted5),\n",
        "    (actual6, predicted6),\n",
        "    (actual7, predicted7),\n",
        "    (actual8, predicted8),\n",
        "    (actual9, predicted9),\n",
        "    (actual10,predicted10)\n",
        "]\n",
        "\n",
        "for i, (actual, predicted) in enumerate(test_cases):\n",
        "    prec = precision(actual, predicted)\n",
        "    rec = recall(actual, predicted)\n",
        "    f1 = f1_score(actual, predicted)\n",
        "    print(f\"Test case {i+1}:\")\n",
        "    print(f\"Actual: {actual}\")\n",
        "    print(f\"Predicted: {predicted}\")\n",
        "    print(f\"Precision: {prec}\")\n",
        "    print(f\"Recall: {rec}\")\n",
        "    print(f\"F1 Score: {f1}\")\n",
        "    print()\n"
      ]
    },
    {
      "cell_type": "code",
      "execution_count": 48,
      "metadata": {
        "colab": {
          "base_uri": "https://localhost:8080/"
        },
        "id": "JzGU6Rb5iWuo",
        "outputId": "4c0c7c58-da6c-41f6-99f1-81b97738968d"
      },
      "outputs": [
        {
          "output_type": "stream",
          "name": "stdout",
          "text": [
            "Requirement already satisfied: tqdm in /usr/local/lib/python3.10/dist-packages (4.66.2)\n"
          ]
        }
      ],
      "source": [
        "!pip install tqdm"
      ]
    },
    {
      "cell_type": "code",
      "source": [
        "ground_truth,\"-------------\", response_dict"
      ],
      "metadata": {
        "colab": {
          "base_uri": "https://localhost:8080/"
        },
        "id": "oFfqPL1RkrWh",
        "outputId": "cb180b2d-0681-4176-acf7-6e30546009d5"
      },
      "execution_count": 49,
      "outputs": [
        {
          "output_type": "execute_result",
          "data": {
            "text/plain": [
              "({'LOC': ['Izingolweni', 'KwaZulu-Natal'],\n",
              "  'MISC': [],\n",
              "  'ORG': ['African National Congress', 'ANC'],\n",
              "  'PER': ['Nelson Mandela']},\n",
              " '-------------',\n",
              " {'PER': ['President Nelson Mandela', 'two youths'],\n",
              "  'ORG': ['African National Congress (ANC)'],\n",
              "  'LOC': ['Izingolweni', 'KwaZulu-Natal province', 'south coast'],\n",
              "  'MISC': []})"
            ]
          },
          "metadata": {},
          "execution_count": 49
        }
      ]
    },
    {
      "cell_type": "code",
      "source": [
        "for key  in ['PER', 'LOC', 'ORG', 'MISC']:\n",
        "    print(key, precision(ground_truth[key], response_dict[key])) #precision(ground_truth['PER'], response_dict['PER'])"
      ],
      "metadata": {
        "colab": {
          "base_uri": "https://localhost:8080/"
        },
        "id": "epG7BQzDkf1M",
        "outputId": "dd068853-865c-4933-bb0f-040a368739cb"
      },
      "execution_count": 50,
      "outputs": [
        {
          "output_type": "stream",
          "name": "stdout",
          "text": [
            "PER 0.0\n",
            "LOC 0.3333333333333333\n",
            "ORG 0.0\n",
            "MISC 1.0\n"
          ]
        }
      ]
    },
    {
      "cell_type": "code",
      "source": [
        "for label in entry['entities'].keys():\n",
        "    try:\n",
        "        p = precision(entry['entities'][label], entry['base_model']['response_dict'][label])\n",
        "        r = recall(entry['entities'][label], entry['base_model']['response_dict'][label])\n",
        "        f = f1_score(entry['entities'][label], entry['base_model']['response_dict'][label])\n",
        "\n",
        "        entry['base_model']['metrics'][label] = (p,r,f)\n",
        "        print(label, entry['entities'][label], entry['base_model']['response_dict'][label], p, r, f)\n",
        "    except: # answer dict doesnt have this label\n",
        "        if entry['entities'][label]==[]: # if there is no entity for that label, then is correct\n",
        "            entry['base_model']['metrics'][label] = (1,1,1)\n",
        "        else:\n",
        "            entry['base_model']['metrics'][label] = (0,0,0) # else it is wrong\n",
        "        print(idx)\n"
      ],
      "metadata": {
        "colab": {
          "base_uri": "https://localhost:8080/",
          "height": 211
        },
        "id": "If4RgvMHlnxB",
        "outputId": "13d9b0e0-a6c9-43fc-bbf1-2e6774ae829f"
      },
      "execution_count": 60,
      "outputs": [
        {
          "output_type": "error",
          "ename": "NameError",
          "evalue": "name 'entry' is not defined",
          "traceback": [
            "\u001b[0;31m---------------------------------------------------------------------------\u001b[0m",
            "\u001b[0;31mNameError\u001b[0m                                 Traceback (most recent call last)",
            "\u001b[0;32m<ipython-input-60-f6dcb7d058b5>\u001b[0m in \u001b[0;36m<cell line: 1>\u001b[0;34m()\u001b[0m\n\u001b[0;32m----> 1\u001b[0;31m \u001b[0;32mfor\u001b[0m \u001b[0mlabel\u001b[0m \u001b[0;32min\u001b[0m \u001b[0mentry\u001b[0m\u001b[0;34m[\u001b[0m\u001b[0;34m'entities'\u001b[0m\u001b[0;34m]\u001b[0m\u001b[0;34m.\u001b[0m\u001b[0mkeys\u001b[0m\u001b[0;34m(\u001b[0m\u001b[0;34m)\u001b[0m\u001b[0;34m:\u001b[0m\u001b[0;34m\u001b[0m\u001b[0;34m\u001b[0m\u001b[0m\n\u001b[0m\u001b[1;32m      2\u001b[0m     \u001b[0;32mtry\u001b[0m\u001b[0;34m:\u001b[0m\u001b[0;34m\u001b[0m\u001b[0;34m\u001b[0m\u001b[0m\n\u001b[1;32m      3\u001b[0m         \u001b[0mp\u001b[0m \u001b[0;34m=\u001b[0m \u001b[0mprecision\u001b[0m\u001b[0;34m(\u001b[0m\u001b[0mentry\u001b[0m\u001b[0;34m[\u001b[0m\u001b[0;34m'entities'\u001b[0m\u001b[0;34m]\u001b[0m\u001b[0;34m[\u001b[0m\u001b[0mlabel\u001b[0m\u001b[0;34m]\u001b[0m\u001b[0;34m,\u001b[0m \u001b[0mentry\u001b[0m\u001b[0;34m[\u001b[0m\u001b[0;34m'base_model'\u001b[0m\u001b[0;34m]\u001b[0m\u001b[0;34m[\u001b[0m\u001b[0;34m'response_dict'\u001b[0m\u001b[0;34m]\u001b[0m\u001b[0;34m[\u001b[0m\u001b[0mlabel\u001b[0m\u001b[0;34m]\u001b[0m\u001b[0;34m)\u001b[0m\u001b[0;34m\u001b[0m\u001b[0;34m\u001b[0m\u001b[0m\n\u001b[1;32m      4\u001b[0m         \u001b[0mr\u001b[0m \u001b[0;34m=\u001b[0m \u001b[0mrecall\u001b[0m\u001b[0;34m(\u001b[0m\u001b[0mentry\u001b[0m\u001b[0;34m[\u001b[0m\u001b[0;34m'entities'\u001b[0m\u001b[0;34m]\u001b[0m\u001b[0;34m[\u001b[0m\u001b[0mlabel\u001b[0m\u001b[0;34m]\u001b[0m\u001b[0;34m,\u001b[0m \u001b[0mentry\u001b[0m\u001b[0;34m[\u001b[0m\u001b[0;34m'base_model'\u001b[0m\u001b[0;34m]\u001b[0m\u001b[0;34m[\u001b[0m\u001b[0;34m'response_dict'\u001b[0m\u001b[0;34m]\u001b[0m\u001b[0;34m[\u001b[0m\u001b[0mlabel\u001b[0m\u001b[0;34m]\u001b[0m\u001b[0;34m)\u001b[0m\u001b[0;34m\u001b[0m\u001b[0;34m\u001b[0m\u001b[0m\n\u001b[1;32m      5\u001b[0m         \u001b[0mf\u001b[0m \u001b[0;34m=\u001b[0m \u001b[0mf1_score\u001b[0m\u001b[0;34m(\u001b[0m\u001b[0mentry\u001b[0m\u001b[0;34m[\u001b[0m\u001b[0;34m'entities'\u001b[0m\u001b[0;34m]\u001b[0m\u001b[0;34m[\u001b[0m\u001b[0mlabel\u001b[0m\u001b[0;34m]\u001b[0m\u001b[0;34m,\u001b[0m \u001b[0mentry\u001b[0m\u001b[0;34m[\u001b[0m\u001b[0;34m'base_model'\u001b[0m\u001b[0;34m]\u001b[0m\u001b[0;34m[\u001b[0m\u001b[0;34m'response_dict'\u001b[0m\u001b[0;34m]\u001b[0m\u001b[0;34m[\u001b[0m\u001b[0mlabel\u001b[0m\u001b[0;34m]\u001b[0m\u001b[0;34m)\u001b[0m\u001b[0;34m\u001b[0m\u001b[0;34m\u001b[0m\u001b[0m\n",
            "\u001b[0;31mNameError\u001b[0m: name 'entry' is not defined"
          ]
        }
      ]
    },
    {
      "cell_type": "code",
      "source": [
        "eval_prompt"
      ],
      "metadata": {
        "colab": {
          "base_uri": "https://localhost:8080/",
          "height": 87
        },
        "id": "BPdfcGY9n6D_",
        "outputId": "5e38fdb8-d909-4a66-fc07-3144bacdf621"
      },
      "execution_count": 79,
      "outputs": [
        {
          "output_type": "execute_result",
          "data": {
            "text/plain": [
              "\"[INST] You are an NLP expert tasked with Named Entity Extraction. Identify entities of the type Person (PER), Organization (ORG), Location (LOC) and Miscellaneous (MISC) in the following sentence: 'WESTERN CONFERENCE'\\nYour answer must be in the form of a dict {'PER':['person entity 1', 'person entity 2', '...'], 'ORG': [], 'LOC': [], 'MISC': []} \\nTake care, your answer is only valid if it follows the correct format! [/INST]\\n{'LOC': [], 'MISC': [], 'ORG': [], 'PER': []}</s>\""
            ],
            "application/vnd.google.colaboratory.intrinsic+json": {
              "type": "string"
            }
          },
          "metadata": {},
          "execution_count": 79
        }
      ]
    },
    {
      "cell_type": "code",
      "source": [
        "test_sample[0]"
      ],
      "metadata": {
        "colab": {
          "base_uri": "https://localhost:8080/"
        },
        "id": "NH2m8AA2_LmQ",
        "outputId": "b3472498-3edd-498f-d37a-31a398e7c86d"
      },
      "execution_count": 52,
      "outputs": [
        {
          "output_type": "execute_result",
          "data": {
            "text/plain": [
              "{'id': '2619',\n",
              " 'tokens': ['(', '52.76', '/', '53.18', ')'],\n",
              " 'pos_tags': [4, 11, 34, 11, 5],\n",
              " 'chunk_tags': [9, 11, 0, 11, 0],\n",
              " 'ner_tags': [0, 0, 0, 0, 0],\n",
              " 'ner_labels': ['O', 'O', 'O', 'O', 'O'],\n",
              " 'sentence': '( 52.76 / 53.18 )',\n",
              " 'entities': {'LOC': [], 'MISC': [], 'ORG': [], 'PER': []}}"
            ]
          },
          "metadata": {},
          "execution_count": 52
        }
      ]
    },
    {
      "cell_type": "code",
      "execution_count": 56,
      "metadata": {
        "colab": {
          "base_uri": "https://localhost:8080/"
        },
        "id": "sfYqKRtQf-jE",
        "outputId": "932e9e85-d2b3-4879-b85b-472d99972449"
      },
      "outputs": [
        {
          "output_type": "stream",
          "name": "stderr",
          "text": [
            "100%|██████████| 2/2 [00:28<00:00, 14.44s/it]\n"
          ]
        }
      ],
      "source": [
        "def get_prediction(entry):\n",
        "\n",
        "    eval_prompt = eval_formatting_func(entry)\n",
        "\n",
        "    model_input = eval_tokenizer(eval_prompt, return_tensors=\"pt\").to(\"cuda\")\n",
        "\n",
        "    model.eval()\n",
        "    with torch.no_grad():\n",
        "        response  = eval_tokenizer.decode(model.generate(**model_input,\n",
        "                        max_new_tokens=256, repetition_penalty=1.15,\n",
        "                        pad_token_id=eval_tokenizer.eos_token_id)[0], skip_special_tokens=True)\n",
        "        response = response.replace(eval_prompt, \"\")\n",
        "    return response\n",
        "\n",
        "\n",
        "\n",
        "from tqdm import tqdm\n",
        "\n",
        "predictions = []\n",
        "for sample in tqdm(test_sample[:2]):\n",
        "    response = get_prediction(sample)\n",
        "    predictions.append({\"sentence\":sample['sentence'],\n",
        "                       \"entities\":sample['entities'],\n",
        "                        \"base_response\": response,\n",
        "                        \"base_response_dict\": parse_response(response)})\n"
      ]
    },
    {
      "cell_type": "code",
      "source": [
        "for idx, entry in enumerate(predictions):\n",
        "    scores = {}\n",
        "    for label in entry['entities'].keys():\n",
        "        p = precision(entry['entities'][label], entry['base_response_dict'][label])\n",
        "        r = recall(entry['entities'][label],  entry['base_response_dict'][label])\n",
        "        f = f1_score(entry['entities'][label], entry['base_response_dict'][label])\n",
        "        scores[label] =(p,r,f)\n",
        "    predictions[idx]['base_scores'] = scores"
      ],
      "metadata": {
        "id": "tQn2DAUNAAYt"
      },
      "execution_count": 58,
      "outputs": []
    },
    {
      "cell_type": "code",
      "source": [
        "predictions"
      ],
      "metadata": {
        "colab": {
          "base_uri": "https://localhost:8080/"
        },
        "id": "NmfTBvOWnnU5",
        "outputId": "d7174736-838a-4cee-de53-d6b68eb12d1d"
      },
      "execution_count": 59,
      "outputs": [
        {
          "output_type": "execute_result",
          "data": {
            "text/plain": [
              "[{'sentence': '( 52.76 / 53.18 )',\n",
              "  'entities': {'LOC': [], 'MISC': [], 'ORG': [], 'PER': []},\n",
              "  'base_response': \" Based on the given sentence, there are no identifiable named entities of types PER, ORG, LOC or MISC present. Therefore, the output should be: {'PER':[], 'ORG':[], 'LOC':[], 'MISC':[]}\",\n",
              "  'base_response_dict': {'PER': [], 'ORG': [], 'LOC': [], 'MISC': []},\n",
              "  'base_scores': {'LOC': (1.0, 1.0, 1.0),\n",
              "   'MISC': (1.0, 1.0, 1.0),\n",
              "   'ORG': (1.0, 1.0, 1.0),\n",
              "   'PER': (1.0, 1.0, 1.0)}},\n",
              " {'sentence': 'WESTERN CONFERENCE',\n",
              "  'entities': {'LOC': [], 'MISC': [], 'ORG': [], 'PER': []},\n",
              "  'base_response': \" Based on the given sentence, there do not appear to be any identifiable PERSON, ORGANIZATION, LOCATION or MISCELLANEOUS entities present. Therefore, the output should be:\\n{'PER': [], 'ORG': ['WESTERN CONFERENCE'], 'LOC': [], 'MISC': []}\\nHowever, please note that 'WESTERN CONFERENCE' is identified as an ORGANIZATION entity.\",\n",
              "  'base_response_dict': {'PER': [],\n",
              "   'ORG': ['WESTERN CONFERENCE'],\n",
              "   'LOC': [],\n",
              "   'MISC': []},\n",
              "  'base_scores': {'LOC': (1.0, 1.0, 1.0),\n",
              "   'MISC': (1.0, 1.0, 1.0),\n",
              "   'ORG': (0.0, 0, 0),\n",
              "   'PER': (1.0, 1.0, 1.0)}}]"
            ]
          },
          "metadata": {},
          "execution_count": 59
        }
      ]
    },
    {
      "cell_type": "code",
      "source": [
        "# Save the list of items to a JSON file\n",
        "with open(\"./predictions.json\", 'w') as f:\n",
        "    json.dump(predictions, f, indent=4)\n"
      ],
      "metadata": {
        "id": "A6GrXOt0_et8"
      },
      "execution_count": 55,
      "outputs": []
    },
    {
      "cell_type": "code",
      "execution_count": 62,
      "metadata": {
        "id": "yeSvHOI2t7sE"
      },
      "outputs": [],
      "source": [
        "def calculate_average_metrics(data):\n",
        "    # Initialize variables to store sum of precision, recall, and f1_score for each entity type\n",
        "    sum_precision = {'PER': 0, 'ORG': 0, 'LOC': 0, 'MISC': 0}\n",
        "    sum_recall = {'PER': 0, 'ORG': 0, 'LOC': 0, 'MISC': 0}\n",
        "    sum_f1_score = {'PER': 0, 'ORG': 0, 'LOC': 0, 'MISC': 0}\n",
        "    num_instances = len(data)\n",
        "\n",
        "    # Iterate over the list of dictionaries\n",
        "    for entry in data:\n",
        "        metrics = entry['base_scores']\n",
        "        for entity_type, (precision, recall, f1_score) in metrics.items():\n",
        "            sum_precision[entity_type] += precision\n",
        "            sum_recall[entity_type] += recall\n",
        "            sum_f1_score[entity_type] += f1_score\n",
        "\n",
        "    # Calculate average precision, recall, and f1_score for each entity type\n",
        "    avg_precision = {entity_type: sum_precision[entity_type] / num_instances for entity_type in sum_precision}\n",
        "    avg_recall = {entity_type: sum_recall[entity_type] / num_instances for entity_type in sum_recall}\n",
        "    avg_f1_score = {entity_type: sum_f1_score[entity_type] / num_instances for entity_type in sum_f1_score}\n",
        "\n",
        "    return avg_precision, avg_recall, avg_f1_score\n"
      ]
    },
    {
      "cell_type": "code",
      "execution_count": 63,
      "metadata": {
        "colab": {
          "base_uri": "https://localhost:8080/"
        },
        "id": "0d4-s8S2uPrX",
        "outputId": "14ae5ef7-a193-4f1c-ddf6-3f8585ba84f5"
      },
      "outputs": [
        {
          "output_type": "stream",
          "name": "stdout",
          "text": [
            "Average Precision: {'PER': 1.0, 'ORG': 0.5, 'LOC': 1.0, 'MISC': 1.0}\n",
            "Average Recall: {'PER': 1.0, 'ORG': 0.5, 'LOC': 1.0, 'MISC': 1.0}\n",
            "Average F1-score: {'PER': 1.0, 'ORG': 0.5, 'LOC': 1.0, 'MISC': 1.0}\n"
          ]
        }
      ],
      "source": [
        "# Calculate average precision, recall, and f1_score\n",
        "avg_precision, avg_recall, avg_f1_score = calculate_average_metrics(predictions)\n",
        "\n",
        "# Print the results\n",
        "print(\"Average Precision:\", avg_precision)\n",
        "print(\"Average Recall:\", avg_recall)\n",
        "print(\"Average F1-score:\", avg_f1_score)\n"
      ]
    },
    {
      "cell_type": "code",
      "execution_count": 64,
      "metadata": {
        "id": "Idlf72bfv0a5"
      },
      "outputs": [],
      "source": [
        "def calculate_average_for_each_position(data):\n",
        "    # Initialize variables to store sum of values for each position\n",
        "    sum_position1 = 0\n",
        "    sum_position2 = 0\n",
        "    sum_position3 = 0\n",
        "    num_instances = len(data)\n",
        "\n",
        "    # Iterate over the list of tuples\n",
        "    for tpl in data:\n",
        "        sum_position1 += tpl[0]\n",
        "        sum_position2 += tpl[1]\n",
        "        sum_position3 += tpl[2]\n",
        "\n",
        "    # Calculate average for each position\n",
        "    avg_position1 = sum_position1 / num_instances\n",
        "    avg_position2 = sum_position2 / num_instances\n",
        "    avg_position3 = sum_position3 / num_instances\n",
        "\n",
        "    return round(avg_position1,2), round(avg_position2,2), round(avg_position3,2)\n",
        "\n"
      ]
    },
    {
      "cell_type": "code",
      "execution_count": 66,
      "metadata": {
        "colab": {
          "base_uri": "https://localhost:8080/"
        },
        "id": "DTMZnV7_vjUG",
        "outputId": "a7809c75-dde0-4e59-f6b8-9c997d88016b"
      },
      "outputs": [
        {
          "output_type": "execute_result",
          "data": {
            "text/plain": [
              "(1.0, 1.0, 1.0)"
            ]
          },
          "metadata": {},
          "execution_count": 66
        }
      ],
      "source": [
        "#percision, recall, f1\n",
        "calculate_average_for_each_position([x['base_scores']['PER'] for x in predictions])"
      ]
    },
    {
      "cell_type": "code",
      "execution_count": 67,
      "metadata": {
        "colab": {
          "base_uri": "https://localhost:8080/"
        },
        "id": "5Ry6rGF46rPk",
        "outputId": "a40b80d8-95f1-4e66-ef4f-528f6a06cce0"
      },
      "outputs": [
        {
          "output_type": "execute_result",
          "data": {
            "text/plain": [
              "(0.5, 0.5, 0.5)"
            ]
          },
          "metadata": {},
          "execution_count": 67
        }
      ],
      "source": [
        "calculate_average_for_each_position([x['base_scores']['ORG'] for x in predictions])"
      ]
    },
    {
      "cell_type": "code",
      "execution_count": 69,
      "metadata": {
        "colab": {
          "base_uri": "https://localhost:8080/"
        },
        "id": "QJUNyCvM7izl",
        "outputId": "35bf07d1-07d2-46c9-d26e-9139667af101"
      },
      "outputs": [
        {
          "output_type": "execute_result",
          "data": {
            "text/plain": [
              "(1.0, 1.0, 1.0)"
            ]
          },
          "metadata": {},
          "execution_count": 69
        }
      ],
      "source": [
        "calculate_average_for_each_position([x['base_scores']['LOC'] for x in predictions])"
      ]
    },
    {
      "cell_type": "code",
      "execution_count": 68,
      "metadata": {
        "colab": {
          "base_uri": "https://localhost:8080/"
        },
        "id": "NL0D22c87kGC",
        "outputId": "60108f2e-9132-4237-c4cd-7241c6dc8331"
      },
      "outputs": [
        {
          "output_type": "execute_result",
          "data": {
            "text/plain": [
              "(1.0, 1.0, 1.0)"
            ]
          },
          "metadata": {},
          "execution_count": 68
        }
      ],
      "source": [
        "calculate_average_for_each_position([x['base_scores']['MISC'] for x in predictions])"
      ]
    },
    {
      "cell_type": "markdown",
      "metadata": {
        "id": "p37EJ8wJmMUa"
      },
      "source": [
        "## Fine-tuning with QLoRA"
      ]
    },
    {
      "cell_type": "markdown",
      "source": [
        "From https://huggingface.co/docs/transformers/en/llm_tutorial#wrong-padding-side\n",
        "\n",
        "> LLMs are decoder-only architectures, meaning they continue to iterate on your input prompt. If your inputs do not have the same length, they need to be padded. Since LLMs are not trained to continue from pad tokens, your input needs to be left-padded. Make sure you also don’t forget to pass the attention mask to generate!\n",
        "\n",
        "> set tokenizer.pad_token = tokenizer.eos_token  since most LLMs don't have a pad token by default\n"
      ],
      "metadata": {
        "id": "PZmqIOa6tn9V"
      }
    },
    {
      "cell_type": "markdown",
      "source": [
        "https://colab.research.google.com/drive/1VoYNfYDKcKRQRor98Zbf2-9VQTtGJ24k?usp=sharing"
      ],
      "metadata": {
        "id": "-G1Sag1hA77U"
      }
    },
    {
      "cell_type": "code",
      "execution_count": 70,
      "metadata": {
        "id": "ELGyt4x24F5e"
      },
      "outputs": [],
      "source": [
        "# fine-tuning tokenizer, adds padding to left side\n",
        "tokenizer = AutoTokenizer.from_pretrained(model_id,\n",
        "                                        padding_side=\"left\") # padding on left\n",
        "tokenizer.pad_token = tokenizer.eos_token"
      ]
    },
    {
      "cell_type": "code",
      "execution_count": 71,
      "metadata": {
        "id": "Vp4AYNlzoEZN"
      },
      "outputs": [],
      "source": [
        "max_length = 512 # This was an appropriate max length for my dataset\n",
        "\n",
        "def generate_and_tokenize_prompt(prompt):\n",
        "    result = tokenizer(\n",
        "        formatting_func(prompt),\n",
        "        truncation=True,\n",
        "        max_length=max_length,\n",
        "        padding=\"max_length\",\n",
        "    )\n",
        "    result[\"labels\"] = result[\"input_ids\"].copy()\n",
        "    return result"
      ]
    },
    {
      "cell_type": "code",
      "execution_count": 73,
      "metadata": {
        "colab": {
          "base_uri": "https://localhost:8080/",
          "height": 176
        },
        "id": "JbUwd-THy8AC",
        "outputId": "6de149db-c5e3-49ad-8664-d0a688a1a10f"
      },
      "outputs": [
        {
          "output_type": "error",
          "ename": "AttributeError",
          "evalue": "'list' object has no attribute 'map'",
          "traceback": [
            "\u001b[0;31m---------------------------------------------------------------------------\u001b[0m",
            "\u001b[0;31mAttributeError\u001b[0m                            Traceback (most recent call last)",
            "\u001b[0;32m<ipython-input-73-dc471a2d686a>\u001b[0m in \u001b[0;36m<cell line: 1>\u001b[0;34m()\u001b[0m\n\u001b[0;32m----> 1\u001b[0;31m \u001b[0mtokenized_train_dataset\u001b[0m \u001b[0;34m=\u001b[0m \u001b[0mtrain_sample\u001b[0m\u001b[0;34m.\u001b[0m\u001b[0mmap\u001b[0m\u001b[0;34m(\u001b[0m\u001b[0mgenerate_and_tokenize_prompt\u001b[0m\u001b[0;34m)\u001b[0m\u001b[0;34m\u001b[0m\u001b[0;34m\u001b[0m\u001b[0m\n\u001b[0m\u001b[1;32m      2\u001b[0m \u001b[0mtokenized_test_dataset\u001b[0m \u001b[0;34m=\u001b[0m \u001b[0mtest_sample\u001b[0m\u001b[0;34m.\u001b[0m\u001b[0mjson\u001b[0m\u001b[0;34m.\u001b[0m\u001b[0mmap\u001b[0m\u001b[0;34m(\u001b[0m\u001b[0mgenerate_and_tokenize_prompt\u001b[0m\u001b[0;34m)\u001b[0m\u001b[0;34m\u001b[0m\u001b[0;34m\u001b[0m\u001b[0m\n\u001b[1;32m      3\u001b[0m \u001b[0;34m\u001b[0m\u001b[0m\n",
            "\u001b[0;31mAttributeError\u001b[0m: 'list' object has no attribute 'map'"
          ]
        }
      ],
      "source": [
        "tokenized_train_dataset = train_sample.map(generate_and_tokenize_prompt)\n",
        "tokenized_test_dataset = test_sample.json.map(generate_and_tokenize_prompt)\n",
        "\n"
      ]
    },
    {
      "cell_type": "code",
      "execution_count": null,
      "metadata": {
        "colab": {
          "base_uri": "https://localhost:8080/"
        },
        "id": "BGtgaTr72wZs",
        "outputId": "5acb5c38-4555-4958-ac04-c3f3edd515bc"
      },
      "outputs": [
        {
          "data": {
            "text/plain": [
              "dict_keys(['id', 'tokens', 'pos_tags', 'chunk_tags', 'ner_tags', 'ner_labels', 'sentence', 'entities', 'input_ids', 'attention_mask', 'labels'])"
            ]
          },
          "execution_count": 58,
          "metadata": {},
          "output_type": "execute_result"
        }
      ],
      "source": [
        "tokenized_train_dataset[0].keys()"
      ]
    },
    {
      "cell_type": "code",
      "execution_count": null,
      "metadata": {
        "colab": {
          "base_uri": "https://localhost:8080/",
          "height": 226
        },
        "id": "TaDehxJsDiUv",
        "outputId": "90f76cbb-001a-4a2a-fbb5-b3afdd5080a0"
      },
      "outputs": [
        {
          "data": {
            "application/vnd.google.colaboratory.intrinsic+json": {
              "type": "string"
            },
            "text/plain": [
              "'</s></s></s></s></s></s></s></s></s></s></s></s></s></s></s></s></s></s></s></s></s></s></s></s></s></s></s></s></s></s></s></s></s></s></s></s></s></s></s></s></s></s></s></s></s></s></s></s></s></s></s></s></s></s></s></s></s></s></s></s></s></s></s></s></s></s></s></s></s></s></s></s></s></s></s></s></s></s></s></s></s></s></s></s></s></s></s></s></s></s></s></s></s></s></s></s></s></s></s></s></s></s></s></s></s></s></s></s></s></s></s></s></s></s></s></s></s></s></s></s></s></s></s></s></s></s></s></s></s></s></s></s></s></s></s></s></s></s></s></s></s></s></s></s></s></s></s></s></s></s></s></s></s></s></s></s></s></s></s></s></s></s></s></s></s></s></s></s></s></s></s></s></s></s></s></s></s></s></s></s></s></s></s></s></s></s></s></s></s></s></s></s></s></s></s></s></s></s></s></s></s></s></s></s></s></s></s></s></s></s></s></s></s></s></s></s></s></s></s></s></s></s></s></s></s></s></s></s></s></s></s></s></s></s></s></s></s></s></s></s></s></s></s></s></s></s></s></s></s></s></s></s></s></s></s></s></s></s></s></s></s></s></s></s></s></s></s></s></s></s></s></s></s></s></s></s></s></s></s></s></s></s></s></s></s></s></s></s></s></s></s></s></s></s></s></s></s></s></s></s></s></s></s></s></s></s></s></s><s> [INST] You are an NLP expert tasked with Named Entity Extraction. Identify entities of the type Person (PER), Organization (ORG), Location (LOC) and Miscellaneous (MISC) in the following sentence: \\'\" Neither the National Socialists ( Nazis ) nor the communists dared to kidnap an American citizen , \" he shouted , in an oblique reference to his extradition to Germany from Denmark . \"\\'\\nYour answer must be in the form of a dict {\\'PER\\':[\\'person entity 1\\', \\'person entity 2\\', \\'...\\'], \\'ORG\\': [], \\'LOC\\': [], \\'MISC\\': []} \\nTake care, your answer is only valid if it follows the correct format! [/INST]\\n{\\'LOC\\': [\\'Germany\\', \\'Denmark\\'], \\'MISC\\': [\\'National Socialists\\', \\'Nazis\\', \\'American\\'], \\'ORG\\': [], \\'PER\\': []}</s>'"
            ]
          },
          "execution_count": 59,
          "metadata": {},
          "output_type": "execute_result"
        }
      ],
      "source": [
        "tokenizer.decode(tokenized_train_dataset[0]['input_ids'])"
      ]
    },
    {
      "cell_type": "markdown",
      "source": [
        "https://huggingface.co/docs/peft/en/developer_guides/quantization\n",
        "\n",
        "\n",
        "> Next, you should call the prepare_model_for_kbit_training() function to preprocess the quantized model for training."
      ],
      "metadata": {
        "id": "3FLFcVj4uZq4"
      }
    },
    {
      "cell_type": "code",
      "execution_count": null,
      "metadata": {
        "id": "-qTScSsax4Au"
      },
      "outputs": [],
      "source": [
        "from peft import prepare_model_for_kbit_training\n",
        "\n",
        "#model.gradient_checkpointing_enable()\n",
        "model = prepare_model_for_kbit_training(model)"
      ]
    },
    {
      "cell_type": "markdown",
      "source": [
        "Create a LoraConfig with the following parameters (or choose your own):\n",
        "\n",
        ">QLoRA adds trainable weights to all the linear layers in the transformer architecture. Since the attribute names for these linear layers can vary across architectures, set target_modules to \"all-linear\" to add LoRA to all the linear layers\n",
        "\n",
        "\n"
      ],
      "metadata": {
        "id": "hS8bIrr3u6a7"
      }
    },
    {
      "cell_type": "code",
      "execution_count": null,
      "metadata": {
        "id": "vZ5uBIrVoS6K"
      },
      "outputs": [],
      "source": [
        "from peft import LoraConfig, get_peft_model\n",
        "\n",
        "config = LoraConfig(\n",
        "    r=16,\n",
        "    lora_alpha=32,\n",
        "    target_modules=\"all-linear\",\n",
        "    lora_dropout=0.05,\n",
        "    bias=\"none\",\n",
        "    task_type=\"CAUSAL_LM\"\n",
        ")\n"
      ]
    },
    {
      "cell_type": "code",
      "execution_count": null,
      "metadata": {
        "id": "AusBIoB4x58l"
      },
      "outputs": [],
      "source": [
        "def print_trainable_parameters(model):\n",
        "    \"\"\"\n",
        "    Prints the number of trainable parameters in the model.\n",
        "    \"\"\"\n",
        "    trainable_params = 0\n",
        "    all_param = 0\n",
        "    for _, param in model.named_parameters():\n",
        "        all_param += param.numel()\n",
        "        if param.requires_grad:\n",
        "            trainable_params += param.numel()\n",
        "    print(\n",
        "        f\"trainable params: {trainable_params} || all params: {all_param} || trainable%: {100 * trainable_params / all_param}\"\n",
        "    )"
      ]
    },
    {
      "cell_type": "code",
      "execution_count": null,
      "metadata": {
        "id": "aHNV3CA3x-g_"
      },
      "outputs": [],
      "source": [
        "model = get_peft_model(model, config)"
      ]
    },
    {
      "cell_type": "code",
      "execution_count": null,
      "metadata": {
        "colab": {
          "base_uri": "https://localhost:8080/"
        },
        "id": "28AR8PiHyAtL",
        "outputId": "555112c0-3e00-476a-a707-91772db144c1"
      },
      "outputs": [
        {
          "name": "stdout",
          "output_type": "stream",
          "text": [
            "trainable params: 41943040 || all params: 3794014208 || trainable%: 1.1055056122762943\n"
          ]
        }
      ],
      "source": [
        "print_trainable_parameters(model)"
      ]
    },
    {
      "cell_type": "code",
      "execution_count": null,
      "metadata": {
        "colab": {
          "base_uri": "https://localhost:8080/",
          "height": 173
        },
        "id": "4EVANgElyCm7",
        "outputId": "7a64803e-f64d-4f5b-e9af-95db416a0e81"
      },
      "outputs": [
        {
          "name": "stdout",
          "output_type": "stream",
          "text": [
            "\u001b[2K     \u001b[90m━━━━━━━━━━━━━━━━━━━━━━━━━━━━━━━━━━━━━━━━\u001b[0m \u001b[32m2.2/2.2 MB\u001b[0m \u001b[31m10.7 MB/s\u001b[0m eta \u001b[36m0:00:00\u001b[0m\n",
            "\u001b[2K     \u001b[90m━━━━━━━━━━━━━━━━━━━━━━━━━━━━━━━━━━━━━━━━\u001b[0m \u001b[32m195.4/195.4 kB\u001b[0m \u001b[31m22.3 MB/s\u001b[0m eta \u001b[36m0:00:00\u001b[0m\n",
            "\u001b[2K     \u001b[90m━━━━━━━━━━━━━━━━━━━━━━━━━━━━━━━━━━━━━━━━\u001b[0m \u001b[32m258.5/258.5 kB\u001b[0m \u001b[31m26.0 MB/s\u001b[0m eta \u001b[36m0:00:00\u001b[0m\n",
            "\u001b[2K     \u001b[90m━━━━━━━━━━━━━━━━━━━━━━━━━━━━━━━━━━━━━━━━\u001b[0m \u001b[32m62.7/62.7 kB\u001b[0m \u001b[31m8.2 MB/s\u001b[0m eta \u001b[36m0:00:00\u001b[0m\n",
            "\u001b[?25h"
          ]
        },
        {
          "data": {
            "application/javascript": [
              "\n",
              "        window._wandbApiKey = new Promise((resolve, reject) => {\n",
              "            function loadScript(url) {\n",
              "            return new Promise(function(resolve, reject) {\n",
              "                let newScript = document.createElement(\"script\");\n",
              "                newScript.onerror = reject;\n",
              "                newScript.onload = resolve;\n",
              "                document.body.appendChild(newScript);\n",
              "                newScript.src = url;\n",
              "            });\n",
              "            }\n",
              "            loadScript(\"https://cdn.jsdelivr.net/npm/postmate/build/postmate.min.js\").then(() => {\n",
              "            const iframe = document.createElement('iframe')\n",
              "            iframe.style.cssText = \"width:0;height:0;border:none\"\n",
              "            document.body.appendChild(iframe)\n",
              "            const handshake = new Postmate({\n",
              "                container: iframe,\n",
              "                url: 'https://wandb.ai/authorize'\n",
              "            });\n",
              "            const timeout = setTimeout(() => reject(\"Couldn't auto authenticate\"), 5000)\n",
              "            handshake.then(function(child) {\n",
              "                child.on('authorize', data => {\n",
              "                    clearTimeout(timeout)\n",
              "                    resolve(data)\n",
              "                });\n",
              "            });\n",
              "            })\n",
              "        });\n",
              "    "
            ],
            "text/plain": [
              "<IPython.core.display.Javascript object>"
            ]
          },
          "metadata": {},
          "output_type": "display_data"
        },
        {
          "name": "stderr",
          "output_type": "stream",
          "text": [
            "\u001b[34m\u001b[1mwandb\u001b[0m: Logging into wandb.ai. (Learn how to deploy a W&B server locally: https://wandb.me/wandb-server)\n",
            "\u001b[34m\u001b[1mwandb\u001b[0m: You can find your API key in your browser here: https://wandb.ai/authorize\n",
            "wandb: Paste an API key from your profile and hit enter, or press ctrl+c to quit:"
          ]
        },
        {
          "name": "stdout",
          "output_type": "stream",
          "text": [
            " ··········\n"
          ]
        },
        {
          "name": "stderr",
          "output_type": "stream",
          "text": [
            "\u001b[34m\u001b[1mwandb\u001b[0m: Appending key for api.wandb.ai to your netrc file: /root/.netrc\n"
          ]
        }
      ],
      "source": [
        "!pip install -q wandb -U\n",
        "\n",
        "import wandb, os\n",
        "wandb.login()\n",
        "\n",
        "wandb_project = \"ner-finetune\"\n",
        "if len(wandb_project) > 0:\n",
        "    os.environ[\"WANDB_PROJECT\"] = wandb_project"
      ]
    },
    {
      "cell_type": "code",
      "execution_count": null,
      "metadata": {
        "id": "LdFffiDXyKc7"
      },
      "outputs": [],
      "source": [
        "\n",
        "project = \"ner-finetune\"\n",
        "base_model_name = \"mistral7b\"\n",
        "run_name = base_model_name + \"-\" + project+\"-\"+ \"run2\"\n",
        "output_dir = \"drive/MyDrive/ner-finetuning/runs/\" + run_name"
      ]
    },
    {
      "cell_type": "code",
      "execution_count": null,
      "metadata": {
        "colab": {
          "base_uri": "https://localhost:8080/"
        },
        "id": "U7VA-qiOFTQu",
        "outputId": "6affe7bd-5ec0-4d81-d85b-fe73d1aa4811"
      },
      "outputs": [
        {
          "name": "stdout",
          "output_type": "stream",
          "text": [
            "checkpoint-450\tcheckpoint-450-20240301T110956Z-001.zip  test_sample_basepreds.json\n"
          ]
        }
      ],
      "source": [
        "!ls drive/MyDrive/ner-finetuning/"
      ]
    },
    {
      "cell_type": "code",
      "execution_count": null,
      "metadata": {
        "colab": {
          "base_uri": "https://localhost:8080/",
          "height": 35
        },
        "id": "lJRlq0Wwyn7c",
        "outputId": "f6171085-157a-4967-88e7-a8ead69b8f67"
      },
      "outputs": [
        {
          "data": {
            "application/vnd.google.colaboratory.intrinsic+json": {
              "type": "string"
            },
            "text/plain": [
              "'drive/MyDrive/ner-finetuning/runs/mistral7b-ner-finetune-run2'"
            ]
          },
          "execution_count": 70,
          "metadata": {},
          "output_type": "execute_result"
        }
      ],
      "source": [
        "output_dir"
      ]
    },
    {
      "cell_type": "markdown",
      "metadata": {
        "id": "CVDmWwAR5DOa"
      },
      "source": []
    },
    {
      "cell_type": "code",
      "execution_count": null,
      "metadata": {
        "colab": {
          "base_uri": "https://localhost:8080/",
          "height": 1000
        },
        "id": "W1JmUzPuypH0",
        "outputId": "4f7ede98-d6b2-4a5f-ef88-384359865847"
      },
      "outputs": [
        {
          "name": "stderr",
          "output_type": "stream",
          "text": [
            "/usr/local/lib/python3.10/dist-packages/accelerate/accelerator.py:432: FutureWarning: Passing the following arguments to `Accelerator` is deprecated and will be removed in version 1.0 of Accelerate: dict_keys(['dispatch_batches', 'split_batches', 'even_batches', 'use_seedable_sampler']). Please pass an `accelerate.DataLoaderConfiguration` instead: \n",
            "dataloader_config = DataLoaderConfiguration(dispatch_batches=None, split_batches=False, even_batches=True, use_seedable_sampler=True)\n",
            "  warnings.warn(\n"
          ]
        },
        {
          "data": {
            "text/html": [
              "Changes to your `wandb` environment variables will be ignored because your `wandb` session has already started. For more information on how to modify your settings with `wandb.init()` arguments, please refer to <a href='https://wandb.me/wandb-init' target=\"_blank\">the W&B docs</a>."
            ],
            "text/plain": [
              "<IPython.core.display.HTML object>"
            ]
          },
          "metadata": {},
          "output_type": "display_data"
        },
        {
          "name": "stderr",
          "output_type": "stream",
          "text": [
            "\u001b[34m\u001b[1mwandb\u001b[0m: Currently logged in as: \u001b[33maareias\u001b[0m. Use \u001b[1m`wandb login --relogin`\u001b[0m to force relogin\n"
          ]
        },
        {
          "data": {
            "text/html": [
              "Tracking run with wandb version 0.16.3"
            ],
            "text/plain": [
              "<IPython.core.display.HTML object>"
            ]
          },
          "metadata": {},
          "output_type": "display_data"
        },
        {
          "data": {
            "text/html": [
              "Run data is saved locally in <code>/content/wandb/run-20240301_125543-umu6kekg</code>"
            ],
            "text/plain": [
              "<IPython.core.display.HTML object>"
            ]
          },
          "metadata": {},
          "output_type": "display_data"
        },
        {
          "data": {
            "text/html": [
              "Syncing run <strong><a href='https://wandb.ai/aareias/ner-finetune/runs/umu6kekg' target=\"_blank\">mistral7b-ner-finetune-run2-2024-03-01-12-55</a></strong> to <a href='https://wandb.ai/aareias/ner-finetune' target=\"_blank\">Weights & Biases</a> (<a href='https://wandb.me/run' target=\"_blank\">docs</a>)<br/>"
            ],
            "text/plain": [
              "<IPython.core.display.HTML object>"
            ]
          },
          "metadata": {},
          "output_type": "display_data"
        },
        {
          "data": {
            "text/html": [
              " View project at <a href='https://wandb.ai/aareias/ner-finetune' target=\"_blank\">https://wandb.ai/aareias/ner-finetune</a>"
            ],
            "text/plain": [
              "<IPython.core.display.HTML object>"
            ]
          },
          "metadata": {},
          "output_type": "display_data"
        },
        {
          "data": {
            "text/html": [
              " View run at <a href='https://wandb.ai/aareias/ner-finetune/runs/umu6kekg' target=\"_blank\">https://wandb.ai/aareias/ner-finetune/runs/umu6kekg</a>"
            ],
            "text/plain": [
              "<IPython.core.display.HTML object>"
            ]
          },
          "metadata": {},
          "output_type": "display_data"
        },
        {
          "name": "stderr",
          "output_type": "stream",
          "text": [
            "/usr/local/lib/python3.10/dist-packages/torch/utils/checkpoint.py:429: UserWarning: torch.utils.checkpoint: please pass in use_reentrant=True or use_reentrant=False explicitly. The default value of use_reentrant will be updated to be False in the future. To maintain current behavior, pass use_reentrant=True. It is recommended that you use use_reentrant=False. Refer to docs for more details on the differences between the two variants.\n",
            "  warnings.warn(\n"
          ]
        },
        {
          "data": {
            "text/html": [
              "\n",
              "    <div>\n",
              "      \n",
              "      <progress value='347' max='500' style='width:300px; height:20px; vertical-align: middle;'></progress>\n",
              "      [347/500 52:32 < 23:18, 0.11 it/s, Epoch 0.69/1]\n",
              "    </div>\n",
              "    <table border=\"1\" class=\"dataframe\">\n",
              "  <thead>\n",
              " <tr style=\"text-align: left;\">\n",
              "      <th>Step</th>\n",
              "      <th>Training Loss</th>\n",
              "      <th>Validation Loss</th>\n",
              "    </tr>\n",
              "  </thead>\n",
              "  <tbody>\n",
              "    <tr>\n",
              "      <td>25</td>\n",
              "      <td>1.593600</td>\n",
              "      <td>0.675418</td>\n",
              "    </tr>\n",
              "    <tr>\n",
              "      <td>50</td>\n",
              "      <td>0.475100</td>\n",
              "      <td>0.474684</td>\n",
              "    </tr>\n",
              "    <tr>\n",
              "      <td>75</td>\n",
              "      <td>0.419600</td>\n",
              "      <td>0.442876</td>\n",
              "    </tr>\n",
              "    <tr>\n",
              "      <td>100</td>\n",
              "      <td>0.459800</td>\n",
              "      <td>0.407857</td>\n",
              "    </tr>\n",
              "    <tr>\n",
              "      <td>125</td>\n",
              "      <td>0.427900</td>\n",
              "      <td>0.390319</td>\n",
              "    </tr>\n",
              "    <tr>\n",
              "      <td>150</td>\n",
              "      <td>0.389900</td>\n",
              "      <td>0.373656</td>\n",
              "    </tr>\n",
              "    <tr>\n",
              "      <td>175</td>\n",
              "      <td>0.342200</td>\n",
              "      <td>0.363928</td>\n",
              "    </tr>\n",
              "    <tr>\n",
              "      <td>200</td>\n",
              "      <td>0.341800</td>\n",
              "      <td>0.359690</td>\n",
              "    </tr>\n",
              "    <tr>\n",
              "      <td>225</td>\n",
              "      <td>0.306900</td>\n",
              "      <td>0.355298</td>\n",
              "    </tr>\n",
              "    <tr>\n",
              "      <td>250</td>\n",
              "      <td>0.357000</td>\n",
              "      <td>0.352663</td>\n",
              "    </tr>\n",
              "    <tr>\n",
              "      <td>275</td>\n",
              "      <td>0.344000</td>\n",
              "      <td>0.351712</td>\n",
              "    </tr>\n",
              "    <tr>\n",
              "      <td>300</td>\n",
              "      <td>0.361800</td>\n",
              "      <td>0.348397</td>\n",
              "    </tr>\n",
              "    <tr>\n",
              "      <td>325</td>\n",
              "      <td>0.297500</td>\n",
              "      <td>0.347815</td>\n",
              "    </tr>\n",
              "  </tbody>\n",
              "</table><p>"
            ],
            "text/plain": [
              "<IPython.core.display.HTML object>"
            ]
          },
          "metadata": {},
          "output_type": "display_data"
        },
        {
          "name": "stderr",
          "output_type": "stream",
          "text": [
            "/usr/local/lib/python3.10/dist-packages/torch/utils/checkpoint.py:429: UserWarning: torch.utils.checkpoint: please pass in use_reentrant=True or use_reentrant=False explicitly. The default value of use_reentrant will be updated to be False in the future. To maintain current behavior, pass use_reentrant=True. It is recommended that you use use_reentrant=False. Refer to docs for more details on the differences between the two variants.\n",
            "  warnings.warn(\n",
            "/usr/local/lib/python3.10/dist-packages/torch/utils/checkpoint.py:429: UserWarning: torch.utils.checkpoint: please pass in use_reentrant=True or use_reentrant=False explicitly. The default value of use_reentrant will be updated to be False in the future. To maintain current behavior, pass use_reentrant=True. It is recommended that you use use_reentrant=False. Refer to docs for more details on the differences between the two variants.\n",
            "  warnings.warn(\n",
            "/usr/local/lib/python3.10/dist-packages/torch/utils/checkpoint.py:429: UserWarning: torch.utils.checkpoint: please pass in use_reentrant=True or use_reentrant=False explicitly. The default value of use_reentrant will be updated to be False in the future. To maintain current behavior, pass use_reentrant=True. It is recommended that you use use_reentrant=False. Refer to docs for more details on the differences between the two variants.\n",
            "  warnings.warn(\n",
            "/usr/local/lib/python3.10/dist-packages/torch/utils/checkpoint.py:429: UserWarning: torch.utils.checkpoint: please pass in use_reentrant=True or use_reentrant=False explicitly. The default value of use_reentrant will be updated to be False in the future. To maintain current behavior, pass use_reentrant=True. It is recommended that you use use_reentrant=False. Refer to docs for more details on the differences between the two variants.\n",
            "  warnings.warn(\n",
            "/usr/local/lib/python3.10/dist-packages/torch/utils/checkpoint.py:429: UserWarning: torch.utils.checkpoint: please pass in use_reentrant=True or use_reentrant=False explicitly. The default value of use_reentrant will be updated to be False in the future. To maintain current behavior, pass use_reentrant=True. It is recommended that you use use_reentrant=False. Refer to docs for more details on the differences between the two variants.\n",
            "  warnings.warn(\n",
            "/usr/local/lib/python3.10/dist-packages/torch/utils/checkpoint.py:429: UserWarning: torch.utils.checkpoint: please pass in use_reentrant=True or use_reentrant=False explicitly. The default value of use_reentrant will be updated to be False in the future. To maintain current behavior, pass use_reentrant=True. It is recommended that you use use_reentrant=False. Refer to docs for more details on the differences between the two variants.\n",
            "  warnings.warn(\n",
            "/usr/local/lib/python3.10/dist-packages/torch/utils/checkpoint.py:429: UserWarning: torch.utils.checkpoint: please pass in use_reentrant=True or use_reentrant=False explicitly. The default value of use_reentrant will be updated to be False in the future. To maintain current behavior, pass use_reentrant=True. It is recommended that you use use_reentrant=False. Refer to docs for more details on the differences between the two variants.\n",
            "  warnings.warn(\n",
            "/usr/local/lib/python3.10/dist-packages/torch/utils/checkpoint.py:429: UserWarning: torch.utils.checkpoint: please pass in use_reentrant=True or use_reentrant=False explicitly. The default value of use_reentrant will be updated to be False in the future. To maintain current behavior, pass use_reentrant=True. It is recommended that you use use_reentrant=False. Refer to docs for more details on the differences between the two variants.\n",
            "  warnings.warn(\n",
            "/usr/local/lib/python3.10/dist-packages/torch/utils/checkpoint.py:429: UserWarning: torch.utils.checkpoint: please pass in use_reentrant=True or use_reentrant=False explicitly. The default value of use_reentrant will be updated to be False in the future. To maintain current behavior, pass use_reentrant=True. It is recommended that you use use_reentrant=False. Refer to docs for more details on the differences between the two variants.\n",
            "  warnings.warn(\n",
            "/usr/local/lib/python3.10/dist-packages/torch/utils/checkpoint.py:429: UserWarning: torch.utils.checkpoint: please pass in use_reentrant=True or use_reentrant=False explicitly. The default value of use_reentrant will be updated to be False in the future. To maintain current behavior, pass use_reentrant=True. It is recommended that you use use_reentrant=False. Refer to docs for more details on the differences between the two variants.\n",
            "  warnings.warn(\n",
            "/usr/local/lib/python3.10/dist-packages/torch/utils/checkpoint.py:429: UserWarning: torch.utils.checkpoint: please pass in use_reentrant=True or use_reentrant=False explicitly. The default value of use_reentrant will be updated to be False in the future. To maintain current behavior, pass use_reentrant=True. It is recommended that you use use_reentrant=False. Refer to docs for more details on the differences between the two variants.\n",
            "  warnings.warn(\n",
            "/usr/local/lib/python3.10/dist-packages/torch/utils/checkpoint.py:429: UserWarning: torch.utils.checkpoint: please pass in use_reentrant=True or use_reentrant=False explicitly. The default value of use_reentrant will be updated to be False in the future. To maintain current behavior, pass use_reentrant=True. It is recommended that you use use_reentrant=False. Refer to docs for more details on the differences between the two variants.\n",
            "  warnings.warn(\n",
            "/usr/local/lib/python3.10/dist-packages/torch/utils/checkpoint.py:429: UserWarning: torch.utils.checkpoint: please pass in use_reentrant=True or use_reentrant=False explicitly. The default value of use_reentrant will be updated to be False in the future. To maintain current behavior, pass use_reentrant=True. It is recommended that you use use_reentrant=False. Refer to docs for more details on the differences between the two variants.\n",
            "  warnings.warn(\n"
          ]
        },
        {
          "data": {
            "text/html": [
              "\n",
              "    <div>\n",
              "      \n",
              "      <progress value='500' max='500' style='width:300px; height:20px; vertical-align: middle;'></progress>\n",
              "      [500/500 1:18:17, Epoch 1/1]\n",
              "    </div>\n",
              "    <table border=\"1\" class=\"dataframe\">\n",
              "  <thead>\n",
              " <tr style=\"text-align: left;\">\n",
              "      <th>Step</th>\n",
              "      <th>Training Loss</th>\n",
              "      <th>Validation Loss</th>\n",
              "    </tr>\n",
              "  </thead>\n",
              "  <tbody>\n",
              "    <tr>\n",
              "      <td>25</td>\n",
              "      <td>1.593600</td>\n",
              "      <td>0.675418</td>\n",
              "    </tr>\n",
              "    <tr>\n",
              "      <td>50</td>\n",
              "      <td>0.475100</td>\n",
              "      <td>0.474684</td>\n",
              "    </tr>\n",
              "    <tr>\n",
              "      <td>75</td>\n",
              "      <td>0.419600</td>\n",
              "      <td>0.442876</td>\n",
              "    </tr>\n",
              "    <tr>\n",
              "      <td>100</td>\n",
              "      <td>0.459800</td>\n",
              "      <td>0.407857</td>\n",
              "    </tr>\n",
              "    <tr>\n",
              "      <td>125</td>\n",
              "      <td>0.427900</td>\n",
              "      <td>0.390319</td>\n",
              "    </tr>\n",
              "    <tr>\n",
              "      <td>150</td>\n",
              "      <td>0.389900</td>\n",
              "      <td>0.373656</td>\n",
              "    </tr>\n",
              "    <tr>\n",
              "      <td>175</td>\n",
              "      <td>0.342200</td>\n",
              "      <td>0.363928</td>\n",
              "    </tr>\n",
              "    <tr>\n",
              "      <td>200</td>\n",
              "      <td>0.341800</td>\n",
              "      <td>0.359690</td>\n",
              "    </tr>\n",
              "    <tr>\n",
              "      <td>225</td>\n",
              "      <td>0.306900</td>\n",
              "      <td>0.355298</td>\n",
              "    </tr>\n",
              "    <tr>\n",
              "      <td>250</td>\n",
              "      <td>0.357000</td>\n",
              "      <td>0.352663</td>\n",
              "    </tr>\n",
              "    <tr>\n",
              "      <td>275</td>\n",
              "      <td>0.344000</td>\n",
              "      <td>0.351712</td>\n",
              "    </tr>\n",
              "    <tr>\n",
              "      <td>300</td>\n",
              "      <td>0.361800</td>\n",
              "      <td>0.348397</td>\n",
              "    </tr>\n",
              "    <tr>\n",
              "      <td>325</td>\n",
              "      <td>0.297500</td>\n",
              "      <td>0.347815</td>\n",
              "    </tr>\n",
              "    <tr>\n",
              "      <td>350</td>\n",
              "      <td>0.279900</td>\n",
              "      <td>0.348372</td>\n",
              "    </tr>\n",
              "    <tr>\n",
              "      <td>375</td>\n",
              "      <td>0.298000</td>\n",
              "      <td>0.346344</td>\n",
              "    </tr>\n",
              "    <tr>\n",
              "      <td>400</td>\n",
              "      <td>0.308000</td>\n",
              "      <td>0.345287</td>\n",
              "    </tr>\n",
              "    <tr>\n",
              "      <td>425</td>\n",
              "      <td>0.343900</td>\n",
              "      <td>0.344264</td>\n",
              "    </tr>\n",
              "    <tr>\n",
              "      <td>450</td>\n",
              "      <td>0.327100</td>\n",
              "      <td>0.342666</td>\n",
              "    </tr>\n",
              "    <tr>\n",
              "      <td>475</td>\n",
              "      <td>0.301500</td>\n",
              "      <td>0.341983</td>\n",
              "    </tr>\n",
              "    <tr>\n",
              "      <td>500</td>\n",
              "      <td>0.346400</td>\n",
              "      <td>0.341786</td>\n",
              "    </tr>\n",
              "  </tbody>\n",
              "</table><p>"
            ],
            "text/plain": [
              "<IPython.core.display.HTML object>"
            ]
          },
          "metadata": {},
          "output_type": "display_data"
        },
        {
          "name": "stderr",
          "output_type": "stream",
          "text": [
            "/usr/local/lib/python3.10/dist-packages/torch/utils/checkpoint.py:429: UserWarning: torch.utils.checkpoint: please pass in use_reentrant=True or use_reentrant=False explicitly. The default value of use_reentrant will be updated to be False in the future. To maintain current behavior, pass use_reentrant=True. It is recommended that you use use_reentrant=False. Refer to docs for more details on the differences between the two variants.\n",
            "  warnings.warn(\n",
            "/usr/local/lib/python3.10/dist-packages/torch/utils/checkpoint.py:429: UserWarning: torch.utils.checkpoint: please pass in use_reentrant=True or use_reentrant=False explicitly. The default value of use_reentrant will be updated to be False in the future. To maintain current behavior, pass use_reentrant=True. It is recommended that you use use_reentrant=False. Refer to docs for more details on the differences between the two variants.\n",
            "  warnings.warn(\n",
            "/usr/local/lib/python3.10/dist-packages/torch/utils/checkpoint.py:429: UserWarning: torch.utils.checkpoint: please pass in use_reentrant=True or use_reentrant=False explicitly. The default value of use_reentrant will be updated to be False in the future. To maintain current behavior, pass use_reentrant=True. It is recommended that you use use_reentrant=False. Refer to docs for more details on the differences between the two variants.\n",
            "  warnings.warn(\n",
            "/usr/local/lib/python3.10/dist-packages/torch/utils/checkpoint.py:429: UserWarning: torch.utils.checkpoint: please pass in use_reentrant=True or use_reentrant=False explicitly. The default value of use_reentrant will be updated to be False in the future. To maintain current behavior, pass use_reentrant=True. It is recommended that you use use_reentrant=False. Refer to docs for more details on the differences between the two variants.\n",
            "  warnings.warn(\n",
            "/usr/local/lib/python3.10/dist-packages/torch/utils/checkpoint.py:429: UserWarning: torch.utils.checkpoint: please pass in use_reentrant=True or use_reentrant=False explicitly. The default value of use_reentrant will be updated to be False in the future. To maintain current behavior, pass use_reentrant=True. It is recommended that you use use_reentrant=False. Refer to docs for more details on the differences between the two variants.\n",
            "  warnings.warn(\n",
            "/usr/local/lib/python3.10/dist-packages/torch/utils/checkpoint.py:429: UserWarning: torch.utils.checkpoint: please pass in use_reentrant=True or use_reentrant=False explicitly. The default value of use_reentrant will be updated to be False in the future. To maintain current behavior, pass use_reentrant=True. It is recommended that you use use_reentrant=False. Refer to docs for more details on the differences between the two variants.\n",
            "  warnings.warn(\n"
          ]
        },
        {
          "data": {
            "text/plain": [
              "TrainOutput(global_step=500, training_loss=0.41609223747253415, metrics={'train_runtime': 4706.3189, 'train_samples_per_second': 0.212, 'train_steps_per_second': 0.106, 'total_flos': 2.1972796833792e+16, 'train_loss': 0.41609223747253415, 'epoch': 1.0})"
            ]
          },
          "execution_count": 71,
          "metadata": {},
          "output_type": "execute_result"
        }
      ],
      "source": [
        "from datetime import datetime\n",
        "import transformers\n",
        "\n",
        "trainer = transformers.Trainer(\n",
        "    model=model,\n",
        "    train_dataset=tokenized_train_dataset,\n",
        "    eval_dataset=tokenized_test_dataset,\n",
        "    args=transformers.TrainingArguments(\n",
        "        output_dir=output_dir,\n",
        "        warmup_steps=1,\n",
        "        per_device_train_batch_size=2,\n",
        "        gradient_accumulation_steps=1,\n",
        "        gradient_checkpointing=True,\n",
        "        max_steps=500,\n",
        "        learning_rate=2.5e-5, # Want a small lr for finetuning\n",
        "        fp16=True,\n",
        "        logging_steps=25,\n",
        "        optim=\"paged_adamw_8bit\",\n",
        "        logging_dir=\"drive/MyDrive/ner-finetuning/runs/logs\",        # Directory for storing logs\n",
        "        save_strategy=\"steps\",       # Save the model checkpoint every logging step\n",
        "        save_steps=25,                # Save checkpoints every 50 steps\n",
        "        evaluation_strategy=\"steps\", # Evaluate the model every logging step\n",
        "        eval_steps=25,               # Evaluate and save checkpoints every 50 steps\n",
        "        do_eval=True,                # Perform evaluation at the end of training\n",
        "        report_to=\"wandb\",           # Comment this out if you don't want to use weights & baises\n",
        "        run_name=f\"{run_name}-{datetime.now().strftime('%Y-%m-%d-%H-%M')}\"          # Name of the W&B run (optional)\n",
        "    ),\n",
        "    data_collator=transformers.DataCollatorForLanguageModeling(tokenizer, mlm=False),\n",
        ")\n",
        "model.config.use_cache = False  # silence the warnings. Please re-enable for inference!\n",
        "trainer.train()\n",
        "\n"
      ]
    },
    {
      "cell_type": "markdown",
      "metadata": {
        "id": "4-oW0Szco9aA"
      },
      "source": [
        "## Load fine-tuned model"
      ]
    },
    {
      "cell_type": "code",
      "execution_count": null,
      "metadata": {
        "colab": {
          "base_uri": "https://localhost:8080/"
        },
        "id": "aREBkpd2vB4f",
        "outputId": "6ee77905-a68e-4901-a9c8-2cdd9bb3bdf9"
      },
      "outputs": [
        {
          "name": "stdout",
          "output_type": "stream",
          "text": [
            "/content/drive/MyDrive/mistral-finetune/runs\n"
          ]
        }
      ],
      "source": [
        "cd drive/MyDrive/mistral-finetune/runs"
      ]
    },
    {
      "cell_type": "code",
      "execution_count": null,
      "metadata": {
        "colab": {
          "base_uri": "https://localhost:8080/"
        },
        "id": "pUTtlCUSfSQS",
        "outputId": "98688599-a34d-490f-b42f-1b7b341b9361"
      },
      "outputs": [
        {
          "name": "stdout",
          "output_type": "stream",
          "text": [
            "Archive:  checkpoint-500-20240301T143939Z-001.zip\n",
            "  inflating: checkpoint-500/training_args.bin  \n",
            "  inflating: checkpoint-500/scheduler.pt  \n",
            "  inflating: checkpoint-500/adapter_config.json  \n",
            "  inflating: checkpoint-500/trainer_state.json  \n",
            "  inflating: checkpoint-500/README.md  \n",
            "  inflating: checkpoint-500/rng_state.pth  \n",
            "  inflating: checkpoint-500/adapter_model.safetensors  \n",
            "  inflating: checkpoint-500/optimizer.pt  \n"
          ]
        }
      ],
      "source": [
        "!unzip checkpoint-500-20240301T143939Z-001.zip"
      ]
    },
    {
      "cell_type": "code",
      "execution_count": null,
      "metadata": {
        "colab": {
          "base_uri": "https://localhost:8080/"
        },
        "id": "44XotpF8fX1I",
        "outputId": "c4c3aba7-8813-407c-cb33-7b46c5f99648"
      },
      "outputs": [
        {
          "name": "stdout",
          "output_type": "stream",
          "text": [
            "\u001b[0m\u001b[01;34mcheckpoint-500\u001b[0m/  checkpoint-500-20240301T143939Z-001.zip\n"
          ]
        }
      ],
      "source": [
        "ls"
      ]
    },
    {
      "cell_type": "code",
      "execution_count": null,
      "metadata": {
        "colab": {
          "base_uri": "https://localhost:8080/"
        },
        "id": "nrWmi_xX5IWM",
        "outputId": "a030b653-7e5c-40d8-8000-e42d8536e209"
      },
      "outputs": [
        {
          "name": "stdout",
          "output_type": "stream",
          "text": [
            "checkpoint-100\tcheckpoint-175\tcheckpoint-25\tcheckpoint-300\tcheckpoint-375\tcheckpoint-450\n",
            "checkpoint-125\tcheckpoint-200\tcheckpoint-250\tcheckpoint-325\tcheckpoint-400\tcheckpoint-50\n",
            "checkpoint-150\tcheckpoint-225\tcheckpoint-275\tcheckpoint-350\tcheckpoint-425\tcheckpoint-75\n"
          ]
        }
      ],
      "source": [
        "#a! ls drive/MyDrive/mistral-finetune/runs/mistral7b-ner-finetune-run1"
      ]
    },
    {
      "cell_type": "code",
      "execution_count": null,
      "metadata": {
        "id": "LrvaYW-6sato"
      },
      "outputs": [],
      "source": [
        "from peft import PeftModel\n",
        "\n",
        "ft_model = PeftModel.from_pretrained(model, \"checkpoint-500\")\n"
      ]
    },
    {
      "cell_type": "code",
      "execution_count": null,
      "metadata": {
        "colab": {
          "base_uri": "https://localhost:8080/"
        },
        "id": "8HlEIAJkgSNC",
        "outputId": "898b4e30-84a1-4ac2-91c5-d6afcb3dd978"
      },
      "outputs": [
        {
          "name": "stdout",
          "output_type": "stream",
          "text": [
            "data\t\t\t\t\t mistral-finetuning-data-r128alpha128batch2.json\n",
            "helper_functions.py\t\t\t mistral-finetuning-data-r128alpha64batch8.json\n",
            "mistral-finetuning-data2.json\t\t mistral-finetuning-data-r128alphasqrt128batch8.json\n",
            "mistral-finetuning-data3.json\t\t mistral-finetuning-data-r32alpha16.json\n",
            "mistral-finetuning-data-balanced.json\t mistral-finetuning-data-r8alpha16.json\n",
            "mistral-finetuning-data.json\t\t __pycache__\n",
            "mistral-finetuning-data-loweralpha.json  runs\n",
            "mistral-finetuning-data-nonegative.json\n"
          ]
        }
      ],
      "source": [
        "! ls  .."
      ]
    },
    {
      "cell_type": "code",
      "execution_count": null,
      "metadata": {
        "id": "wvPqZV4-f7Fx"
      },
      "outputs": [],
      "source": [
        "import json\n",
        "with open(\"../data/test_sample_basepreds.json\", \"r\") as json_file:\n",
        "    test_sample =json.load(json_file)"
      ]
    },
    {
      "cell_type": "code",
      "execution_count": null,
      "metadata": {
        "id": "x1J7xEfHxdBJ"
      },
      "outputs": [],
      "source": [
        "\"\"\"import json\n",
        "with open(\"drive/MyDrive/ner-finetuning//test_sample_basepreds.json\", \"r\") as json_file:\n",
        "    test_sample = json.load(json_file)\"\"\""
      ]
    },
    {
      "cell_type": "code",
      "execution_count": null,
      "metadata": {
        "colab": {
          "base_uri": "https://localhost:8080/"
        },
        "id": "6YP3nUVvxvfB",
        "outputId": "0b59c83e-3f5f-4603-c9c5-81bf2e1cf4c8"
      },
      "outputs": [
        {
          "data": {
            "text/plain": [
              "{'id': '2619',\n",
              " 'tokens': ['(', '52.76', '/', '53.18', ')'],\n",
              " 'pos_tags': [4, 11, 34, 11, 5],\n",
              " 'chunk_tags': [9, 11, 0, 11, 0],\n",
              " 'ner_tags': [0, 0, 0, 0, 0],\n",
              " 'labels': ['O', 'O', 'O', 'O', 'O'],\n",
              " 'sentence': '( 52.76 / 53.18 )',\n",
              " 'entities': {'PER': [], 'ORG': [], 'LOC': [], 'MISC': []},\n",
              " 'base_model': {'response': \" Based on the given input, there is no identifiable named entity present in the sentence. Therefore, the output will be: {'PER':[], 'ORG':[], 'LOC':[], 'MISC':[]}\",\n",
              "  'response_dict': {'PER': [], 'ORG': [], 'LOC': [], 'MISC': []},\n",
              "  'metrics': {'PER': [1.0, 1.0, 1.0],\n",
              "   'ORG': [1.0, 1.0, 1.0],\n",
              "   'LOC': [1.0, 1.0, 1.0],\n",
              "   'MISC': [1.0, 1.0, 1.0]}}}"
            ]
          },
          "execution_count": 30,
          "metadata": {},
          "output_type": "execute_result"
        }
      ],
      "source": [
        "test_sample[0]"
      ]
    },
    {
      "cell_type": "code",
      "execution_count": null,
      "metadata": {
        "colab": {
          "base_uri": "https://localhost:8080/",
          "height": 70
        },
        "id": "Gz6CYo_63awx",
        "outputId": "399aeb99-524c-45b5-bad2-5cc666c4564a"
      },
      "outputs": [
        {
          "data": {
            "application/vnd.google.colaboratory.intrinsic+json": {
              "type": "string"
            },
            "text/plain": [
              "\"[INST] You are an NLP expert tasked with Named Entity Extraction. Identify entities of the type Person (PER), Organization (ORG), Location (LOC) and Miscellaneous (MISC) in the following sentence: 'SOCCER - LEADING SCOTTISH PREMIER DIVISION SCORERS .'\\nYour answer must be in the form of a dict {'PER':['person entity 1', 'person entity 2', '...'], 'ORG': [], 'LOC': [], 'MISC': []} \\nTake care, your answer is only valid if it follows the correct format! [/INST]\""
            ]
          },
          "execution_count": 34,
          "metadata": {},
          "output_type": "execute_result"
        }
      ],
      "source": [
        "idx=10\n",
        "eval_formatting_func(test_sample[idx])"
      ]
    },
    {
      "cell_type": "code",
      "execution_count": null,
      "metadata": {
        "colab": {
          "base_uri": "https://localhost:8080/",
          "height": 70
        },
        "id": "1j1QXprRguYh",
        "outputId": "a6fc82dc-f679-45b6-8a26-41b1db24b4a4"
      },
      "outputs": [
        {
          "data": {
            "application/vnd.google.colaboratory.intrinsic+json": {
              "type": "string"
            },
            "text/plain": [
              "\"<s> [INST] You are an NLP expert tasked with Named Entity Extraction. Identify entities of the type Person (PER), Organization (ORG), Location (LOC) and Miscellaneous (MISC) in the following sentence: 'SOCCER - LEADING SCOTTISH PREMIER DIVISION SCORERS .'\\nYour answer must be in the form of a dict {'PER':['person entity 1', 'person entity 2', '...'], 'ORG': [], 'LOC': [], 'MISC': []} \\nTake care, your answer is only valid if it follows the correct format! [/INST]\""
            ]
          },
          "execution_count": 37,
          "metadata": {},
          "output_type": "execute_result"
        }
      ],
      "source": [
        "eval_tokenizer.decode(eval_tokenizer(eval_formatting_func(test_sample[idx]))['input_ids'])"
      ]
    },
    {
      "cell_type": "code",
      "execution_count": null,
      "metadata": {
        "colab": {
          "base_uri": "https://localhost:8080/"
        },
        "id": "TJJ_bXw5xxUo",
        "outputId": "d38d29f3-0a0b-4ddd-fc95-e6f444c715b2"
      },
      "outputs": [
        {
          "name": "stderr",
          "output_type": "stream",
          "text": [
            "100%|██████████| 100/100 [09:46<00:00,  5.87s/it]\n"
          ]
        }
      ],
      "source": [
        "from tqdm import tqdm\n",
        "\n",
        "for idx in tqdm(range(len(test_sample))):\n",
        "\n",
        "    eval_prompt = eval_formatting_func(test_sample[idx])\n",
        "\n",
        "    model_input = eval_tokenizer(eval_prompt, return_tensors=\"pt\").to(\"cuda\")\n",
        "\n",
        "    model.eval()\n",
        "    with torch.no_grad():\n",
        "        response  = eval_tokenizer.decode(ft_model.generate(**model_input,\n",
        "                        max_new_tokens=256, repetition_penalty=1.15,\n",
        "                        pad_token_id=eval_tokenizer.eos_token_id)[0], skip_special_tokens=True)\n",
        "        response = response.replace(eval_prompt, \"\")\n",
        "\n",
        "    response_dict = parse_response(response)\n",
        "\n",
        "    test_sample[idx].update({'ft_model': {'response': response,\n",
        "                                 'response_dict': response_dict}})"
      ]
    },
    {
      "cell_type": "code",
      "execution_count": null,
      "metadata": {
        "colab": {
          "base_uri": "https://localhost:8080/"
        },
        "id": "tOO766FY2ZcI",
        "outputId": "c5c60812-d878-4eac-c3cd-d2ae5ef42843"
      },
      "outputs": [
        {
          "output_type": "execute_result",
          "data": {
            "text/plain": [
              "[{'response': \"\\n{'LOC': [], 'MISC': [], 'ORG': [], 'PER': []}\",\n",
              "  'response_dict': {'LOC': [], 'MISC': [], 'ORG': [], 'PER': []}},\n",
              " {'response': \"\\n{'LOC': ['WESTERN CONFERENCE'], 'MISC': [], 'ORG': [], 'PER': []}\",\n",
              "  'response_dict': {'LOC': ['WESTERN CONFERENCE'],\n",
              "   'MISC': [],\n",
              "   'ORG': [],\n",
              "   'PER': []}},\n",
              " {'response': \"\\n{'LOC': [], 'MISC': [], 'ORG': [], 'PER': ['Wasim Akram', 'Harris']}\",\n",
              "  'response_dict': {'LOC': [],\n",
              "   'MISC': [],\n",
              "   'ORG': [],\n",
              "   'PER': ['Wasim Akram', 'Harris']}},\n",
              " {'response': \"\\n{'LOC': [], 'MISC': [], 'ORG': ['Mansfield'], 'PER': []}\",\n",
              "  'response_dict': {'LOC': [], 'MISC': [], 'ORG': ['Mansfield'], 'PER': []}},\n",
              " {'response': \"\\n{'LOC': ['New York'], 'MISC': [], 'ORG': [], 'PER': []}\",\n",
              "  'response_dict': {'LOC': ['New York'], 'MISC': [], 'ORG': [], 'PER': []}},\n",
              " {'response': \"\\n{'LOC': [], 'MISC': ['terrorism'], 'ORG': [], 'PER': []}\",\n",
              "  'response_dict': {'LOC': [], 'MISC': ['terrorism'], 'ORG': [], 'PER': []}},\n",
              " {'response': \"\\n{'LOC': ['Bucharest'], 'MISC': [], 'ORG': [], 'PER': []}\",\n",
              "  'response_dict': {'LOC': ['Bucharest'], 'MISC': [], 'ORG': [], 'PER': []}},\n",
              " {'response': \"\\n{'LOC': [], 'MISC': [], 'ORG': [], 'PER': []}\",\n",
              "  'response_dict': {'LOC': [], 'MISC': [], 'ORG': [], 'PER': []}},\n",
              " {'response': \"\\n{'LOC': [], 'MISC': [], 'ORG': ['Wycombe'], 'PER': []}\",\n",
              "  'response_dict': {'LOC': [], 'MISC': [], 'ORG': ['Wycombe'], 'PER': []}},\n",
              " {'response': \"\\n{'LOC': ['Kansas City', 'Cincinnati'], 'MISC': [], 'ORG': ['Indianapolis'], 'PER': []}\",\n",
              "  'response_dict': {'LOC': ['Kansas City', 'Cincinnati'],\n",
              "   'MISC': [],\n",
              "   'ORG': ['Indianapolis'],\n",
              "   'PER': []}},\n",
              " {'response': \"\\n{'LOC': [], 'MISC': ['SCOTTISH'], 'ORG': [], 'PER': []}\",\n",
              "  'response_dict': {'LOC': [], 'MISC': ['SCOTTISH'], 'ORG': [], 'PER': []}},\n",
              " {'response': \"\\n{'LOC': [], 'MISC': [], 'ORG': ['Torquay'], 'PER': []}\",\n",
              "  'response_dict': {'LOC': [], 'MISC': [], 'ORG': ['Torquay'], 'PER': []}},\n",
              " {'response': \"\\n{'LOC': ['New Zealand'], 'MISC': ['National', 'NZ First'], 'ORG': [], 'PER': ['Jim Bolger']}\",\n",
              "  'response_dict': {'LOC': ['New Zealand'],\n",
              "   'MISC': ['National', 'NZ First'],\n",
              "   'ORG': [],\n",
              "   'PER': ['Jim Bolger']}},\n",
              " {'response': \"\\n{'LOC': [], 'MISC': ['League'], 'ORG': [], 'PER': []}\",\n",
              "  'response_dict': {'LOC': [], 'MISC': ['League'], 'ORG': [], 'PER': []}},\n",
              " {'response': \"\\n{'LOC': ['U.S.'], 'MISC': [], 'ORG': [], 'PER': ['Shannon Nobis']}\",\n",
              "  'response_dict': {'LOC': ['U.S.'],\n",
              "   'MISC': [],\n",
              "   'ORG': [],\n",
              "   'PER': ['Shannon Nobis']}},\n",
              " {'response': \"\\n{'LOC': [], 'MISC': ['Canola'], 'ORG': [], 'PER': []}\",\n",
              "  'response_dict': {'LOC': [], 'MISC': ['Canola'], 'ORG': [], 'PER': []}},\n",
              " {'response': \"\\n{'LOC': [], 'MISC': [], 'ORG': [], 'PER': []}\",\n",
              "  'response_dict': {'LOC': [], 'MISC': [], 'ORG': [], 'PER': []}},\n",
              " {'response': \"\\n{'LOC': [], 'MISC': ['Wasim'], 'ORG': [], 'PER': ['C. Harris']}\",\n",
              "  'response_dict': {'LOC': [],\n",
              "   'MISC': ['Wasim'],\n",
              "   'ORG': [],\n",
              "   'PER': ['C. Harris']}},\n",
              " {'response': \"\\n{'LOC': ['TORONTO'], 'MISC': [], 'ORG': [], 'PER': []}\",\n",
              "  'response_dict': {'LOC': ['TORONTO'], 'MISC': [], 'ORG': [], 'PER': []}},\n",
              " {'response': \"\\n{'LOC': ['United States'], 'MISC': [], 'ORG': [], 'PER': []}\",\n",
              "  'response_dict': {'LOC': ['United States'],\n",
              "   'MISC': [],\n",
              "   'ORG': [],\n",
              "   'PER': []}},\n",
              " {'response': \"\\n{'LOC': [], 'MISC': [], 'ORG': [], 'PER': []}\",\n",
              "  'response_dict': {'LOC': [], 'MISC': [], 'ORG': [], 'PER': []}},\n",
              " {'response': \"\\n{'LOC': [], 'MISC': [], 'ORG': [], 'PER': []}\",\n",
              "  'response_dict': {'LOC': [], 'MISC': [], 'ORG': [], 'PER': []}},\n",
              " {'response': \"\\n{'LOC': ['France'], 'MISC': [], 'ORG': [], 'PER': ['Florence Masnada']}\",\n",
              "  'response_dict': {'LOC': ['France'],\n",
              "   'MISC': [],\n",
              "   'ORG': [],\n",
              "   'PER': ['Florence Masnada']}},\n",
              " {'response': \"\\n{'LOC': [], 'MISC': [], 'ORG': [], 'PER': ['Salim Malik']}\",\n",
              "  'response_dict': {'LOC': [], 'MISC': [], 'ORG': [], 'PER': ['Salim Malik']}},\n",
              " {'response': \"\\n{'LOC': ['Japan'], 'MISC': [], 'ORG': ['Economic Planning Agency'], 'PER': ['Shimpei Nukaya']}\",\n",
              "  'response_dict': {'LOC': ['Japan'],\n",
              "   'MISC': [],\n",
              "   'ORG': ['Economic Planning Agency'],\n",
              "   'PER': ['Shimpei Nukaya']}},\n",
              " {'response': \"\\n{'LOC': [], 'MISC': [], 'ORG': [], 'PER': []}\",\n",
              "  'response_dict': {'LOC': [], 'MISC': [], 'ORG': [], 'PER': []}},\n",
              " {'response': \"\\n{'LOC': [], 'MISC': [], 'ORG': ['Montrose'], 'PER': []}\",\n",
              "  'response_dict': {'LOC': [], 'MISC': [], 'ORG': ['Montrose'], 'PER': []}},\n",
              " {'response': \"\\n{'LOC': ['U.S'], 'MISC': [], 'ORG': [], 'PER': ['Eric Bergoust']}\",\n",
              "  'response_dict': {'LOC': ['U.S'],\n",
              "   'MISC': [],\n",
              "   'ORG': [],\n",
              "   'PER': ['Eric Bergoust']}},\n",
              " {'response': \"\\n{'LOC': [], 'MISC': [], 'ORG': [], 'PER': ['Kanchelskis']}\",\n",
              "  'response_dict': {'LOC': [], 'MISC': [], 'ORG': [], 'PER': ['Kanchelskis']}},\n",
              " {'response': \"\\n{'LOC': ['WELLINGTON'], 'MISC': [], 'ORG': [], 'PER': []}\",\n",
              "  'response_dict': {'LOC': ['WELLINGTON'], 'MISC': [], 'ORG': [], 'PER': []}},\n",
              " {'response': \"\\n{'LOC': [], 'MISC': [], 'ORG': [], 'PER': []}\",\n",
              "  'response_dict': {'LOC': [], 'MISC': [], 'ORG': [], 'PER': []}},\n",
              " {'response': \"\\n{'LOC': [], 'MISC': [], 'ORG': [], 'PER': []}\",\n",
              "  'response_dict': {'LOC': [], 'MISC': [], 'ORG': [], 'PER': []}},\n",
              " {'response': \"\\n{'LOC': ['UNITED NATIONS'], 'MISC': [], 'ORG': [], 'PER': []}\",\n",
              "  'response_dict': {'LOC': ['UNITED NATIONS'],\n",
              "   'MISC': [],\n",
              "   'ORG': [],\n",
              "   'PER': []}},\n",
              " {'response': \"\\n{'LOC': ['France'], 'MISC': [], 'ORG': [], 'PER': ['Leatitia Dalloz']}\",\n",
              "  'response_dict': {'LOC': ['France'],\n",
              "   'MISC': [],\n",
              "   'ORG': [],\n",
              "   'PER': ['Leatitia Dalloz']}},\n",
              " {'response': \"\\n{'LOC': [], 'MISC': ['Goldman , Sachs'], 'ORG': [], 'PER': []}\",\n",
              "  'response_dict': {'LOC': [],\n",
              "   'MISC': ['Goldman , Sachs'],\n",
              "   'ORG': [],\n",
              "   'PER': []}},\n",
              " {'response': \"\\n{'LOC': [], 'MISC': [], 'ORG': ['Indiana', 'GOLDEN STATE'], 'PER': []}\",\n",
              "  'response_dict': {'LOC': [],\n",
              "   'MISC': [],\n",
              "   'ORG': ['Indiana', 'GOLDEN STATE'],\n",
              "   'PER': []}},\n",
              " {'response': \"\\n{'LOC': ['Twickenham'], 'MISC': [], 'ORG': [], 'PER': ['Cuttitta', 'George Coste']}\",\n",
              "  'response_dict': {'LOC': ['Twickenham'],\n",
              "   'MISC': [],\n",
              "   'ORG': [],\n",
              "   'PER': ['Cuttitta', 'George Coste']}},\n",
              " {'response': \"\\n{'LOC': [], 'MISC': [], 'ORG': ['Chester', 'Boston'], 'PER': []}\",\n",
              "  'response_dict': {'LOC': [],\n",
              "   'MISC': [],\n",
              "   'ORG': ['Chester', 'Boston'],\n",
              "   'PER': []}},\n",
              " {'response': \"\\n{'LOC': ['DALLAS'], 'MISC': [], 'ORG': ['VANCOUVER'], 'PER': []}\",\n",
              "  'response_dict': {'LOC': ['DALLAS'],\n",
              "   'MISC': [],\n",
              "   'ORG': ['VANCOUVER'],\n",
              "   'PER': []}},\n",
              " {'response': \"\\n{'LOC': [], 'MISC': [], 'ORG': ['Lille'], 'PER': []}\",\n",
              "  'response_dict': {'LOC': [], 'MISC': [], 'ORG': ['Lille'], 'PER': []}},\n",
              " {'response': \"\\n{'LOC': [], 'MISC': [], 'ORG': [], 'PER': []}\",\n",
              "  'response_dict': {'LOC': [], 'MISC': [], 'ORG': [], 'PER': []}},\n",
              " {'response': \"\\n{'LOC': ['U.S.'], 'MISC': [], 'ORG': [], 'PER': []}\",\n",
              "  'response_dict': {'LOC': ['U.S.'], 'MISC': [], 'ORG': [], 'PER': []}},\n",
              " {'response': \"\\n{'LOC': [], 'MISC': [], 'ORG': [], 'PER': []}\",\n",
              "  'response_dict': {'LOC': [], 'MISC': [], 'ORG': [], 'PER': []}},\n",
              " {'response': \"\\n{'LOC': ['European'], 'MISC': [], 'ORG': ['New York City'], 'PER': []}\",\n",
              "  'response_dict': {'LOC': ['European'],\n",
              "   'MISC': [],\n",
              "   'ORG': ['New York City'],\n",
              "   'PER': []}},\n",
              " {'response': \"\\n{'LOC': [], 'MISC': [], 'ORG': [], 'PER': ['Van der Vegt']}\",\n",
              "  'response_dict': {'LOC': [],\n",
              "   'MISC': [],\n",
              "   'ORG': [],\n",
              "   'PER': ['Van der Vegt']}},\n",
              " {'response': \"\\n{'LOC': ['Izingolweni', 'KwaZulu-Natal'], 'MISC': ['ANC'], 'ORG': [], 'PER': []}\",\n",
              "  'response_dict': {'LOC': ['Izingolweni', 'KwaZulu-Natal'],\n",
              "   'MISC': ['ANC'],\n",
              "   'ORG': [],\n",
              "   'PER': []}},\n",
              " {'response': \"\\n{'LOC': [], 'MISC': [], 'ORG': [], 'PER': []}\",\n",
              "  'response_dict': {'LOC': [], 'MISC': [], 'ORG': [], 'PER': []}},\n",
              " {'response': \"\\n{'LOC': [], 'MISC': [], 'ORG': [], 'PER': []}\",\n",
              "  'response_dict': {'LOC': [], 'MISC': [], 'ORG': [], 'PER': []}},\n",
              " {'response': \"\\n{'LOC': ['Colts'], 'MISC': [], 'ORG': [], 'PER': ['Jim Harbaugh', 'Paul Justin']}\",\n",
              "  'response_dict': {'LOC': ['Colts'],\n",
              "   'MISC': [],\n",
              "   'ORG': [],\n",
              "   'PER': ['Jim Harbaugh', 'Paul Justin']}},\n",
              " {'response': \"\\n{'LOC': [], 'MISC': [], 'ORG': ['DETROIT'], 'PER': []}\",\n",
              "  'response_dict': {'LOC': [], 'MISC': [], 'ORG': ['DETROIT'], 'PER': []}},\n",
              " {'response': \"\\n{'LOC': [], 'MISC': [], 'ORG': [], 'PER': []}\",\n",
              "  'response_dict': {'LOC': [], 'MISC': [], 'ORG': [], 'PER': []}},\n",
              " {'response': \"\\n{'LOC': ['NY RANGERS'], 'MISC': [], 'ORG': ['TORONTO'], 'PER': []}\",\n",
              "  'response_dict': {'LOC': ['NY RANGERS'],\n",
              "   'MISC': [],\n",
              "   'ORG': ['TORONTO'],\n",
              "   'PER': []}},\n",
              " {'response': \"\\n{'LOC': [], 'MISC': [], 'ORG': [], 'PER': []}\",\n",
              "  'response_dict': {'LOC': [], 'MISC': [], 'ORG': [], 'PER': []}},\n",
              " {'response': \"\\n{'LOC': ['Brazilian'], 'MISC': [], 'ORG': [], 'PER': []}\",\n",
              "  'response_dict': {'LOC': ['Brazilian'], 'MISC': [], 'ORG': [], 'PER': []}},\n",
              " {'response': \"\\n{'LOC': ['Canada'], 'MISC': [], 'ORG': [], 'PER': ['Kate Pace Lindsay']}\",\n",
              "  'response_dict': {'LOC': ['Canada'],\n",
              "   'MISC': [],\n",
              "   'ORG': [],\n",
              "   'PER': ['Kate Pace Lindsay']}},\n",
              " {'response': \"\\n{'LOC': ['WINNIPEG'], 'MISC': [], 'ORG': [], 'PER': []}\",\n",
              "  'response_dict': {'LOC': ['WINNIPEG'], 'MISC': [], 'ORG': [], 'PER': []}},\n",
              " {'response': \"\\n{'LOC': ['NEW YORK'], 'MISC': [], 'ORG': [], 'PER': []}\",\n",
              "  'response_dict': {'LOC': ['NEW YORK'], 'MISC': [], 'ORG': [], 'PER': []}},\n",
              " {'response': \"\\n{'LOC': ['Slovenia'], 'MISC': [], 'ORG': [], 'PER': []}\",\n",
              "  'response_dict': {'LOC': ['Slovenia'], 'MISC': [], 'ORG': [], 'PER': []}},\n",
              " {'response': \"\\n{'LOC': [], 'MISC': [], 'ORG': ['West Bromwich'], 'PER': []}\",\n",
              "  'response_dict': {'LOC': [],\n",
              "   'MISC': [],\n",
              "   'ORG': ['West Bromwich'],\n",
              "   'PER': []}},\n",
              " {'response': \"\\n{'LOC': ['Polish'], 'MISC': [], 'ORG': [], 'PER': []}\",\n",
              "  'response_dict': {'LOC': ['Polish'], 'MISC': [], 'ORG': [], 'PER': []}},\n",
              " {'response': \"\\n{'LOC': ['LONDON'], 'MISC': [], 'ORG': [], 'PER': []}\",\n",
              "  'response_dict': {'LOC': ['LONDON'], 'MISC': [], 'ORG': [], 'PER': []}},\n",
              " {'response': \"\\n{'LOC': ['SEATTLE'], 'MISC': [], 'ORG': [], 'PER': []}\",\n",
              "  'response_dict': {'LOC': ['SEATTLE'], 'MISC': [], 'ORG': [], 'PER': []}},\n",
              " {'response': \"\\n{'LOC': ['India'], 'MISC': ['Asia Rubber Markets'], 'ORG': [], 'PER': ['K.J. Matthew']}\",\n",
              "  'response_dict': {'LOC': ['India'],\n",
              "   'MISC': ['Asia Rubber Markets'],\n",
              "   'ORG': [],\n",
              "   'PER': ['K.J. Matthew']}},\n",
              " {'response': \"\\n{'LOC': [], 'MISC': ['World Grand Prix'], 'ORG': [], 'PER': []}\",\n",
              "  'response_dict': {'LOC': [],\n",
              "   'MISC': ['World Grand Prix'],\n",
              "   'ORG': [],\n",
              "   'PER': []}},\n",
              " {'response': \"\\n{'LOC': ['Thai'], 'MISC': [], 'ORG': [], 'PER': []}\",\n",
              "  'response_dict': {'LOC': ['Thai'], 'MISC': [], 'ORG': [], 'PER': []}},\n",
              " {'response': \"\\n{'LOC': [], 'MISC': ['humanitarian agencies'], 'ORG': [], 'PER': []}\",\n",
              "  'response_dict': {'LOC': [],\n",
              "   'MISC': ['humanitarian agencies'],\n",
              "   'ORG': [],\n",
              "   'PER': []}},\n",
              " {'response': \"\\n{'LOC': ['BALKAN'], 'MISC': ['OLD FIRM'], 'ORG': ['REAL'], 'PER': []}\",\n",
              "  'response_dict': {'LOC': ['BALKAN'],\n",
              "   'MISC': ['OLD FIRM'],\n",
              "   'ORG': ['REAL'],\n",
              "   'PER': []}},\n",
              " {'response': \"\\n{'LOC': ['Germany'], 'MISC': [], 'ORG': [], 'PER': ['Ricco Gross']}\",\n",
              "  'response_dict': {'LOC': ['Germany'],\n",
              "   'MISC': [],\n",
              "   'ORG': [],\n",
              "   'PER': ['Ricco Gross']}},\n",
              " {'response': \"\\n{'LOC': ['Austria'], 'MISC': [], 'ORG': [], 'PER': ['Renate Goetschl']}\",\n",
              "  'response_dict': {'LOC': ['Austria'],\n",
              "   'MISC': [],\n",
              "   'ORG': [],\n",
              "   'PER': ['Renate Goetschl']}},\n",
              " {'response': \"\\n{'LOC': ['Jakarta'], 'MISC': ['OIC'], 'ORG': [], 'PER': []}\",\n",
              "  'response_dict': {'LOC': ['Jakarta'],\n",
              "   'MISC': ['OIC'],\n",
              "   'ORG': [],\n",
              "   'PER': []}},\n",
              " {'response': \"\\n{'LOC': ['Singapore'], 'MISC': [], 'ORG': [], 'PER': []}\",\n",
              "  'response_dict': {'LOC': ['Singapore'], 'MISC': [], 'ORG': [], 'PER': []}},\n",
              " {'response': \"\\n{'LOC': [], 'MISC': [], 'ORG': ['Sevilla'], 'PER': []}\",\n",
              "  'response_dict': {'LOC': [], 'MISC': [], 'ORG': ['Sevilla'], 'PER': []}},\n",
              " {'response': \"\\n{'LOC': [], 'MISC': [], 'ORG': [], 'PER': []}\",\n",
              "  'response_dict': {'LOC': [], 'MISC': [], 'ORG': [], 'PER': []}},\n",
              " {'response': \"\\n{'LOC': [], 'MISC': [], 'ORG': [], 'PER': ['Benjamin', 'Hooper', 'McLean']}\",\n",
              "  'response_dict': {'LOC': [],\n",
              "   'MISC': [],\n",
              "   'ORG': [],\n",
              "   'PER': ['Benjamin', 'Hooper', 'McLean']}},\n",
              " {'response': \"\\n{'LOC': ['Sevilla', 'Spain'], 'MISC': [], 'ORG': [], 'PER': []}\",\n",
              "  'response_dict': {'LOC': ['Sevilla', 'Spain'],\n",
              "   'MISC': [],\n",
              "   'ORG': [],\n",
              "   'PER': []}},\n",
              " {'response': \"\\n{'LOC': [], 'MISC': ['World Grand Prix finals'], 'ORG': [], 'PER': []}\",\n",
              "  'response_dict': {'LOC': [],\n",
              "   'MISC': ['World Grand Prix finals'],\n",
              "   'ORG': [],\n",
              "   'PER': []}},\n",
              " {'response': \"\\n{'LOC': ['Switzerland'], 'MISC': [], 'ORG': [], 'PER': []}\",\n",
              "  'response_dict': {'LOC': ['Switzerland'], 'MISC': [], 'ORG': [], 'PER': []}},\n",
              " {'response': \"\\n{'LOC': ['Belfast'], 'MISC': [], 'ORG': [], 'PER': ['Artur Lekbello', 'Hafizi']}\",\n",
              "  'response_dict': {'LOC': ['Belfast'],\n",
              "   'MISC': [],\n",
              "   'ORG': [],\n",
              "   'PER': ['Artur Lekbello', 'Hafizi']}},\n",
              " {'response': \"\\n{'LOC': [], 'MISC': [], 'ORG': [], 'PER': ['Piniel Sindiso Ncube']}\",\n",
              "  'response_dict': {'LOC': [],\n",
              "   'MISC': [],\n",
              "   'ORG': [],\n",
              "   'PER': ['Piniel Sindiso Ncube']}},\n",
              " {'response': \"\\n{'LOC': ['China', 'Denmark'], 'MISC': [], 'ORG': [], 'PER': ['Dong Jiong', 'Thomas Stuer-Lauridsen']}\",\n",
              "  'response_dict': {'LOC': ['China', 'Denmark'],\n",
              "   'MISC': [],\n",
              "   'ORG': [],\n",
              "   'PER': ['Dong Jiong', 'Thomas Stuer-Lauridsen']}},\n",
              " {'response': \"\\n{'LOC': ['Poland'], 'MISC': [], 'ORG': [], 'PER': ['Van Boxmeer']}\",\n",
              "  'response_dict': {'LOC': ['Poland'],\n",
              "   'MISC': [],\n",
              "   'ORG': [],\n",
              "   'PER': ['Van Boxmeer']}},\n",
              " {'response': \"\\n{'LOC': ['LOS ANGELES'], 'MISC': [], 'ORG': ['Tampa Bay'], 'PER': []}\",\n",
              "  'response_dict': {'LOC': ['LOS ANGELES'],\n",
              "   'MISC': [],\n",
              "   'ORG': ['Tampa Bay'],\n",
              "   'PER': []}},\n",
              " {'response': \"\\n{'LOC': ['ROME'], 'MISC': [], 'ORG': [], 'PER': []}\",\n",
              "  'response_dict': {'LOC': ['ROME'], 'MISC': [], 'ORG': [], 'PER': []}},\n",
              " {'response': \"\\n{'LOC': ['Tignes'], 'MISC': ['French'], 'ORG': ['China'], 'PER': []}\",\n",
              "  'response_dict': {'LOC': ['Tignes'],\n",
              "   'MISC': ['French'],\n",
              "   'ORG': ['China'],\n",
              "   'PER': []}},\n",
              " {'response': \"\\n{'LOC': [], 'MISC': [], 'ORG': [], 'PER': []}\",\n",
              "  'response_dict': {'LOC': [], 'MISC': [], 'ORG': [], 'PER': []}},\n",
              " {'response': \"\\n{'LOC': [], 'MISC': [], 'ORG': [], 'PER': []}\",\n",
              "  'response_dict': {'LOC': [], 'MISC': [], 'ORG': [], 'PER': []}},\n",
              " {'response': \"\\n{'LOC': [], 'MISC': ['French'], 'ORG': [], 'PER': []}\",\n",
              "  'response_dict': {'LOC': [], 'MISC': ['French'], 'ORG': [], 'PER': []}},\n",
              " {'response': \"\\n{'LOC': [], 'MISC': ['Aung San Suu Kyi'], 'ORG': [], 'PER': []}\",\n",
              "  'response_dict': {'LOC': [],\n",
              "   'MISC': ['Aung San Suu Kyi'],\n",
              "   'ORG': [],\n",
              "   'PER': []}},\n",
              " {'response': \"\\n{'LOC': ['Mexico City'], 'MISC': [], 'ORG': [], 'PER': ['Chris Aspin']}\",\n",
              "  'response_dict': {'LOC': ['Mexico City'],\n",
              "   'MISC': [],\n",
              "   'ORG': [],\n",
              "   'PER': ['Chris Aspin']}},\n",
              " {'response': \"\\n{'LOC': [], 'MISC': [], 'ORG': ['Charleroi'], 'PER': ['Eric Cleymans', 'Ron Ellis', 'Jacques Stas']}\",\n",
              "  'response_dict': {'LOC': [],\n",
              "   'MISC': [],\n",
              "   'ORG': ['Charleroi'],\n",
              "   'PER': ['Eric Cleymans', 'Ron Ellis', 'Jacques Stas']}},\n",
              " {'response': \"\\n{'LOC': ['Norway'], 'MISC': [], 'ORG': [], 'PER': ['Grunde Njos']}\",\n",
              "  'response_dict': {'LOC': ['Norway'],\n",
              "   'MISC': [],\n",
              "   'ORG': [],\n",
              "   'PER': ['Grunde Njos']}},\n",
              " {'response': \"\\n{'LOC': [], 'MISC': [], 'ORG': [], 'PER': []}\",\n",
              "  'response_dict': {'LOC': [], 'MISC': [], 'ORG': [], 'PER': []}},\n",
              " {'response': \"\\n{'LOC': [], 'MISC': [], 'ORG': [], 'PER': []}\",\n",
              "  'response_dict': {'LOC': [], 'MISC': [], 'ORG': [], 'PER': []}},\n",
              " {'response': \"\\n{'LOC': ['NORTHERN IRELAND'], 'MISC': [], 'ORG': [], 'PER': []}\",\n",
              "  'response_dict': {'LOC': ['NORTHERN IRELAND'],\n",
              "   'MISC': [],\n",
              "   'ORG': [],\n",
              "   'PER': []}},\n",
              " {'response': \"\\n{'LOC': ['TIGNES', 'France'], 'MISC': [], 'ORG': [], 'PER': []}\",\n",
              "  'response_dict': {'LOC': ['TIGNES', 'France'],\n",
              "   'MISC': [],\n",
              "   'ORG': [],\n",
              "   'PER': []}},\n",
              " {'response': \"\\n{'LOC': ['MELBOURNE'], 'MISC': [], 'ORG': [], 'PER': []}\",\n",
              "  'response_dict': {'LOC': ['MELBOURNE'], 'MISC': [], 'ORG': [], 'PER': []}},\n",
              " {'response': \"\\n{'LOC': ['Austria'], 'MISC': [], 'ORG': [], 'PER': ['Stefanie Schuster']}\",\n",
              "  'response_dict': {'LOC': ['Austria'],\n",
              "   'MISC': [],\n",
              "   'ORG': [],\n",
              "   'PER': ['Stefanie Schuster']}},\n",
              " {'response': \"\\n{'LOC': ['USA I'], 'MISC': [], 'ORG': [], 'PER': ['Jim Herberich', 'Garrett Hines']}\",\n",
              "  'response_dict': {'LOC': ['USA I'],\n",
              "   'MISC': [],\n",
              "   'ORG': [],\n",
              "   'PER': ['Jim Herberich', 'Garrett Hines']}},\n",
              " {'response': \"\\n{'LOC': [], 'MISC': ['REAL MADRID', 'BARCELONA'], 'ORG': [], 'PER': []}\",\n",
              "  'response_dict': {'LOC': [],\n",
              "   'MISC': ['REAL MADRID', 'BARCELONA'],\n",
              "   'ORG': [],\n",
              "   'PER': []}},\n",
              " {'response': \"\\n{'LOC': ['London'], 'MISC': [], 'ORG': [], 'PER': ['Rosemary Bennett']}\",\n",
              "  'response_dict': {'LOC': ['London'],\n",
              "   'MISC': [],\n",
              "   'ORG': [],\n",
              "   'PER': ['Rosemary Bennett']}}]"
            ]
          },
          "metadata": {},
          "execution_count": 44
        }
      ],
      "source": [
        "[x['ft_model'] for x in test_sample]"
      ]
    },
    {
      "cell_type": "code",
      "source": [
        "test_sample[1]['base_model']"
      ],
      "metadata": {
        "colab": {
          "base_uri": "https://localhost:8080/"
        },
        "id": "HkynyDDPkG8T",
        "outputId": "cf308f08-12ec-40d3-ecef-a46e4f9f2e7e"
      },
      "execution_count": null,
      "outputs": [
        {
          "output_type": "execute_result",
          "data": {
            "text/plain": [
              "{'response': \" Based on the given sentence, there are no identifiable PER, ORG, LOC or MISC entities present. Therefore, the output will be: {'PER':[], 'ORG': ['WESTERN CONFERENCE'], 'LOC': [], 'MISC':[]} \\nPlease note that WESTERN CONFERENCE is identified as an ORG entity.\",\n",
              " 'response_dict': {'PER': [],\n",
              "  'ORG': ['WESTERN CONFERENCE'],\n",
              "  'LOC': [],\n",
              "  'MISC': []},\n",
              " 'metrics': {'PER': [1.0, 1.0, 1.0],\n",
              "  'ORG': [0.0, 0, 0],\n",
              "  'LOC': [1.0, 1.0, 1.0],\n",
              "  'MISC': [1.0, 1.0, 1.0]}}"
            ]
          },
          "metadata": {},
          "execution_count": 47
        }
      ]
    },
    {
      "cell_type": "code",
      "source": [
        "{'metrics': {label: (p,r,f)}}"
      ],
      "metadata": {
        "colab": {
          "base_uri": "https://localhost:8080/"
        },
        "id": "Log2h_-2j-Qf",
        "outputId": "53990e4f-10f7-4843-dd71-57509f2e7792"
      },
      "execution_count": null,
      "outputs": [
        {
          "output_type": "execute_result",
          "data": {
            "text/plain": [
              "{'metrics': {'PER': (1.0, 1.0, 1.0)}}"
            ]
          },
          "metadata": {},
          "execution_count": 48
        }
      ]
    },
    {
      "cell_type": "code",
      "source": [
        "entry=test_sample[0]"
      ],
      "metadata": {
        "id": "mNdMH-z5lPTy"
      },
      "execution_count": null,
      "outputs": []
    },
    {
      "cell_type": "code",
      "source": [
        "entry['entities']"
      ],
      "metadata": {
        "colab": {
          "base_uri": "https://localhost:8080/"
        },
        "id": "hMvj2SAClTUS",
        "outputId": "969443e8-ce6c-4128-c085-8870da422ceb"
      },
      "execution_count": null,
      "outputs": [
        {
          "output_type": "execute_result",
          "data": {
            "text/plain": [
              "{'PER': [], 'ORG': [], 'LOC': [], 'MISC': []}"
            ]
          },
          "metadata": {},
          "execution_count": 58
        }
      ]
    },
    {
      "cell_type": "code",
      "source": [
        "entry['ft_model']['response_dict']"
      ],
      "metadata": {
        "colab": {
          "base_uri": "https://localhost:8080/"
        },
        "id": "3-emS9ZOljQe",
        "outputId": "837898f6-da77-45bf-c0b2-40586f9d0760"
      },
      "execution_count": null,
      "outputs": [
        {
          "output_type": "execute_result",
          "data": {
            "text/plain": [
              "{'LOC': [], 'MISC': [], 'ORG': [], 'PER': []}"
            ]
          },
          "metadata": {},
          "execution_count": 60
        }
      ]
    },
    {
      "cell_type": "code",
      "source": [
        "test_sample[0]"
      ],
      "metadata": {
        "colab": {
          "base_uri": "https://localhost:8080/"
        },
        "id": "DAk-kFUjllBW",
        "outputId": "d5f464b7-a298-497b-8518-8ddb76a41eb0"
      },
      "execution_count": null,
      "outputs": [
        {
          "output_type": "execute_result",
          "data": {
            "text/plain": [
              "{'id': '2619',\n",
              " 'tokens': ['(', '52.76', '/', '53.18', ')'],\n",
              " 'pos_tags': [4, 11, 34, 11, 5],\n",
              " 'chunk_tags': [9, 11, 0, 11, 0],\n",
              " 'ner_tags': [0, 0, 0, 0, 0],\n",
              " 'labels': ['O', 'O', 'O', 'O', 'O'],\n",
              " 'sentence': '( 52.76 / 53.18 )',\n",
              " 'entities': {'PER': [], 'ORG': [], 'LOC': [], 'MISC': []},\n",
              " 'base_model': {'response': \" Based on the given input, there is no identifiable named entity present in the sentence. Therefore, the output will be: {'PER':[], 'ORG':[], 'LOC':[], 'MISC':[]}\",\n",
              "  'response_dict': {'PER': [], 'ORG': [], 'LOC': [], 'MISC': []},\n",
              "  'metrics': {'PER': [1.0, 1.0, 1.0],\n",
              "   'ORG': [1.0, 1.0, 1.0],\n",
              "   'LOC': [1.0, 1.0, 1.0],\n",
              "   'MISC': [1.0, 1.0, 1.0]}},\n",
              " 'ft_model': {'response': \"\\n{'LOC': [], 'MISC': [], 'ORG': [], 'PER': []}\",\n",
              "  'response_dict': {'LOC': [], 'MISC': [], 'ORG': [], 'PER': []}}}"
            ]
          },
          "metadata": {},
          "execution_count": 65
        }
      ]
    },
    {
      "cell_type": "code",
      "source": [],
      "metadata": {
        "id": "wT6XnyS7lk8S"
      },
      "execution_count": null,
      "outputs": []
    },
    {
      "cell_type": "code",
      "source": [],
      "metadata": {
        "id": "qSrBeYvhlk02"
      },
      "execution_count": null,
      "outputs": []
    },
    {
      "cell_type": "code",
      "execution_count": null,
      "metadata": {
        "id": "SlJWAcT2ymud",
        "colab": {
          "base_uri": "https://localhost:8080/"
        },
        "outputId": "be94108a-d955-45a4-eaa3-74ff3a0f3c2c"
      },
      "outputs": [
        {
          "output_type": "stream",
          "name": "stdout",
          "text": [
            "PER [] [] 1.0 1.0 1.0\n",
            "ORG [] [] 1.0 1.0 1.0\n",
            "LOC [] [] 1.0 1.0 1.0\n",
            "MISC [] [] 1.0 1.0 1.0\n",
            "PER [] [] 1.0 1.0 1.0\n",
            "ORG [] [] 1.0 1.0 1.0\n",
            "LOC [] ['WESTERN CONFERENCE'] 0.0 0 0\n",
            "MISC [] [] 1.0 1.0 1.0\n",
            "PER ['Wasim Akram', 'Harris'] ['Wasim Akram', 'Harris'] 1.0 1.0 1.0\n",
            "ORG [] [] 1.0 1.0 1.0\n",
            "LOC [] [] 1.0 1.0 1.0\n",
            "MISC [] [] 1.0 1.0 1.0\n",
            "PER [] [] 1.0 1.0 1.0\n",
            "ORG ['Mansfield'] ['Mansfield'] 1.0 1.0 1.0\n",
            "LOC [] [] 1.0 1.0 1.0\n",
            "MISC [] [] 1.0 1.0 1.0\n",
            "PER [] [] 1.0 1.0 1.0\n",
            "ORG ['New York Commodities'] [] 0 0.0 0\n",
            "LOC [] ['New York'] 0.0 0 0\n",
            "MISC [] [] 1.0 1.0 1.0\n",
            "PER [] [] 1.0 1.0 1.0\n",
            "ORG [] [] 1.0 1.0 1.0\n",
            "LOC [] [] 1.0 1.0 1.0\n",
            "MISC [] ['terrorism'] 0.0 0 0\n",
            "PER [] [] 1.0 1.0 1.0\n",
            "ORG ['Bucharest Newsroom'] [] 0 0.0 0\n",
            "LOC [] ['Bucharest'] 0.0 0 0\n",
            "MISC [] [] 1.0 1.0 1.0\n",
            "PER [] [] 1.0 1.0 1.0\n",
            "ORG [] [] 1.0 1.0 1.0\n",
            "LOC [] [] 1.0 1.0 1.0\n",
            "MISC [] [] 1.0 1.0 1.0\n",
            "PER [] [] 1.0 1.0 1.0\n",
            "ORG ['Wycombe'] ['Wycombe'] 1.0 1.0 1.0\n",
            "LOC [] [] 1.0 1.0 1.0\n",
            "MISC [] [] 1.0 1.0 1.0\n",
            "PER [] [] 1.0 1.0 1.0\n",
            "ORG [] ['Indianapolis'] 0.0 0 0\n",
            "LOC ['Indianapolis', 'Kansas City', 'Cincinnati'] ['Kansas City', 'Cincinnati'] 1.0 0.6666666666666666 0.8\n",
            "MISC [] [] 1.0 1.0 1.0\n",
            "PER [] [] 1.0 1.0 1.0\n",
            "ORG [] [] 1.0 1.0 1.0\n",
            "LOC [] [] 1.0 1.0 1.0\n",
            "MISC ['SCOTTISH PREMIER DIVISION'] ['SCOTTISH'] 0.0 0.0 0\n",
            "PER [] [] 1.0 1.0 1.0\n",
            "ORG ['Torquay'] ['Torquay'] 1.0 1.0 1.0\n",
            "LOC [] [] 1.0 1.0 1.0\n",
            "MISC [] [] 1.0 1.0 1.0\n",
            "PER ['Jim Bolger'] ['Jim Bolger'] 1.0 1.0 1.0\n",
            "ORG ['New Zealand First', 'National', 'NZ First'] [] 0 0.0 0\n",
            "LOC ['New Zealand'] ['New Zealand'] 1.0 1.0 1.0\n",
            "MISC [] ['National', 'NZ First'] 0.0 0 0\n",
            "PER [] [] 1.0 1.0 1.0\n",
            "ORG ['League'] [] 0 0.0 0\n",
            "LOC [] [] 1.0 1.0 1.0\n",
            "MISC [] ['League'] 0.0 0 0\n",
            "PER ['Shannon Nobis'] ['Shannon Nobis'] 1.0 1.0 1.0\n",
            "ORG [] [] 1.0 1.0 1.0\n",
            "LOC ['U.S.'] ['U.S.'] 1.0 1.0 1.0\n",
            "MISC [] [] 1.0 1.0 1.0\n",
            "PER [] [] 1.0 1.0 1.0\n",
            "ORG [] [] 1.0 1.0 1.0\n",
            "LOC [] [] 1.0 1.0 1.0\n",
            "MISC [] ['Canola'] 0.0 0 0\n",
            "PER [] [] 1.0 1.0 1.0\n",
            "ORG [] [] 1.0 1.0 1.0\n",
            "LOC [] [] 1.0 1.0 1.0\n",
            "MISC [] [] 1.0 1.0 1.0\n",
            "PER ['C. Harris', 'Wasim'] ['C. Harris'] 1.0 0.5 0.6666666666666666\n",
            "ORG [] [] 1.0 1.0 1.0\n",
            "LOC [] [] 1.0 1.0 1.0\n",
            "MISC [] ['Wasim'] 0.0 0 0\n",
            "PER [] [] 1.0 1.0 1.0\n",
            "ORG ['TORONTO'] [] 0 0.0 0\n",
            "LOC [] ['TORONTO'] 0.0 0 0\n",
            "MISC [] [] 1.0 1.0 1.0\n",
            "PER [] [] 1.0 1.0 1.0\n",
            "ORG [] [] 1.0 1.0 1.0\n",
            "LOC ['United States'] ['United States'] 1.0 1.0 1.0\n",
            "MISC [] [] 1.0 1.0 1.0\n",
            "PER [] [] 1.0 1.0 1.0\n",
            "ORG [] [] 1.0 1.0 1.0\n",
            "LOC [] [] 1.0 1.0 1.0\n",
            "MISC [] [] 1.0 1.0 1.0\n",
            "PER [] [] 1.0 1.0 1.0\n",
            "ORG [] [] 1.0 1.0 1.0\n",
            "LOC [] [] 1.0 1.0 1.0\n",
            "MISC [] [] 1.0 1.0 1.0\n",
            "PER ['Masnada'] ['Florence Masnada'] 0.0 0.0 0\n",
            "ORG [] [] 1.0 1.0 1.0\n",
            "LOC ['Florence', 'France'] ['France'] 1.0 0.5 0.6666666666666666\n",
            "MISC [] [] 1.0 1.0 1.0\n",
            "PER ['Salim Malik'] ['Salim Malik'] 1.0 1.0 1.0\n",
            "ORG [] [] 1.0 1.0 1.0\n",
            "LOC [] [] 1.0 1.0 1.0\n",
            "MISC [] [] 1.0 1.0 1.0\n",
            "PER ['Shimpei Nukaya'] ['Shimpei Nukaya'] 1.0 1.0 1.0\n",
            "ORG ['Economic Planning Agency', 'EPA'] ['Economic Planning Agency'] 1.0 0.5 0.6666666666666666\n",
            "LOC ['Japan'] ['Japan'] 1.0 1.0 1.0\n",
            "MISC [] [] 1.0 1.0 1.0\n",
            "PER [] [] 1.0 1.0 1.0\n",
            "ORG [] [] 1.0 1.0 1.0\n",
            "LOC [] [] 1.0 1.0 1.0\n",
            "MISC [] [] 1.0 1.0 1.0\n",
            "PER [] [] 1.0 1.0 1.0\n",
            "ORG ['Montrose'] ['Montrose'] 1.0 1.0 1.0\n",
            "LOC [] [] 1.0 1.0 1.0\n",
            "MISC [] [] 1.0 1.0 1.0\n",
            "PER ['Eric Bergoust'] ['Eric Bergoust'] 1.0 1.0 1.0\n",
            "ORG [] [] 1.0 1.0 1.0\n",
            "LOC ['U.S'] ['U.S'] 1.0 1.0 1.0\n",
            "MISC [] [] 1.0 1.0 1.0\n",
            "PER ['Kanchelskis'] ['Kanchelskis'] 1.0 1.0 1.0\n",
            "ORG [] [] 1.0 1.0 1.0\n",
            "LOC [] [] 1.0 1.0 1.0\n",
            "MISC [] [] 1.0 1.0 1.0\n",
            "PER [] [] 1.0 1.0 1.0\n",
            "ORG [] [] 1.0 1.0 1.0\n",
            "LOC ['WELLINGTON'] ['WELLINGTON'] 1.0 1.0 1.0\n",
            "MISC [] [] 1.0 1.0 1.0\n",
            "PER [] [] 1.0 1.0 1.0\n",
            "ORG [] [] 1.0 1.0 1.0\n",
            "LOC [] [] 1.0 1.0 1.0\n",
            "MISC [] [] 1.0 1.0 1.0\n",
            "PER [] [] 1.0 1.0 1.0\n",
            "ORG [] [] 1.0 1.0 1.0\n",
            "LOC [] [] 1.0 1.0 1.0\n",
            "MISC [] [] 1.0 1.0 1.0\n",
            "PER [] [] 1.0 1.0 1.0\n",
            "ORG ['UNITED NATIONS'] [] 0 0.0 0\n",
            "LOC [] ['UNITED NATIONS'] 0.0 0 0\n",
            "MISC [] [] 1.0 1.0 1.0\n",
            "PER ['Leatitia Dalloz'] ['Leatitia Dalloz'] 1.0 1.0 1.0\n",
            "ORG [] [] 1.0 1.0 1.0\n",
            "LOC ['France'] ['France'] 1.0 1.0 1.0\n",
            "MISC [] [] 1.0 1.0 1.0\n",
            "PER [] [] 1.0 1.0 1.0\n",
            "ORG ['Goldman , Sachs'] [] 0 0.0 0\n",
            "LOC [] [] 1.0 1.0 1.0\n",
            "MISC [] ['Goldman , Sachs'] 0.0 0 0\n",
            "PER [] [] 1.0 1.0 1.0\n",
            "ORG ['Indiana', 'GOLDEN STATE'] ['Indiana', 'GOLDEN STATE'] 1.0 1.0 1.0\n",
            "LOC [] [] 1.0 1.0 1.0\n",
            "MISC [] [] 1.0 1.0 1.0\n",
            "PER ['Cuttitta', 'George Coste'] ['Cuttitta', 'George Coste'] 1.0 1.0 1.0\n",
            "ORG [] [] 1.0 1.0 1.0\n",
            "LOC ['England', 'Twickenham'] ['Twickenham'] 1.0 0.5 0.6666666666666666\n",
            "MISC [] [] 1.0 1.0 1.0\n",
            "PER [] [] 1.0 1.0 1.0\n",
            "ORG ['Chester', 'Boston'] ['Chester', 'Boston'] 1.0 1.0 1.0\n",
            "LOC [] [] 1.0 1.0 1.0\n",
            "MISC [] [] 1.0 1.0 1.0\n",
            "PER [] [] 1.0 1.0 1.0\n",
            "ORG ['VANCOUVER'] ['VANCOUVER'] 1.0 1.0 1.0\n",
            "LOC ['DALLAS'] ['DALLAS'] 1.0 1.0 1.0\n",
            "MISC [] [] 1.0 1.0 1.0\n",
            "PER [] [] 1.0 1.0 1.0\n",
            "ORG ['Lille'] ['Lille'] 1.0 1.0 1.0\n",
            "LOC [] [] 1.0 1.0 1.0\n",
            "MISC [] [] 1.0 1.0 1.0\n",
            "PER [] [] 1.0 1.0 1.0\n",
            "ORG [] [] 1.0 1.0 1.0\n",
            "LOC [] [] 1.0 1.0 1.0\n",
            "MISC [] [] 1.0 1.0 1.0\n",
            "PER [] [] 1.0 1.0 1.0\n",
            "ORG ['Statistics Canada'] [] 0 0.0 0\n",
            "LOC ['U.S.'] ['U.S.'] 1.0 1.0 1.0\n",
            "MISC [] [] 1.0 1.0 1.0\n",
            "PER [] [] 1.0 1.0 1.0\n",
            "ORG [] [] 1.0 1.0 1.0\n",
            "LOC [] [] 1.0 1.0 1.0\n",
            "MISC [] [] 1.0 1.0 1.0\n",
            "PER [] [] 1.0 1.0 1.0\n",
            "ORG [] ['New York City'] 0.0 0 0\n",
            "LOC ['New York City'] ['European'] 0.0 0.0 0\n",
            "MISC ['European'] [] 0 0.0 0\n",
            "PER ['Van der Vegt'] ['Van der Vegt'] 1.0 1.0 1.0\n",
            "ORG [] [] 1.0 1.0 1.0\n",
            "LOC [] [] 1.0 1.0 1.0\n",
            "MISC [] [] 1.0 1.0 1.0\n",
            "PER ['Nelson Mandela'] [] 0 0.0 0\n",
            "ORG ['African National Congress', 'ANC'] [] 0 0.0 0\n",
            "LOC ['Izingolweni', 'KwaZulu-Natal'] ['Izingolweni', 'KwaZulu-Natal'] 1.0 1.0 1.0\n",
            "MISC [] ['ANC'] 0.0 0 0\n",
            "PER [] [] 1.0 1.0 1.0\n",
            "ORG [] [] 1.0 1.0 1.0\n",
            "LOC [] [] 1.0 1.0 1.0\n",
            "MISC [] [] 1.0 1.0 1.0\n",
            "PER [] [] 1.0 1.0 1.0\n",
            "ORG [] [] 1.0 1.0 1.0\n",
            "LOC [] [] 1.0 1.0 1.0\n",
            "MISC [] [] 1.0 1.0 1.0\n",
            "PER ['Paul Justin', 'Jim Harbaugh'] ['Jim Harbaugh', 'Paul Justin'] 1.0 1.0 1.0\n",
            "ORG ['Colts'] [] 0 0.0 0\n",
            "LOC [] ['Colts'] 0.0 0 0\n",
            "MISC [] [] 1.0 1.0 1.0\n",
            "PER [] [] 1.0 1.0 1.0\n",
            "ORG ['DETROIT'] ['DETROIT'] 1.0 1.0 1.0\n",
            "LOC [] [] 1.0 1.0 1.0\n",
            "MISC [] [] 1.0 1.0 1.0\n",
            "PER [] [] 1.0 1.0 1.0\n",
            "ORG [] [] 1.0 1.0 1.0\n",
            "LOC [] [] 1.0 1.0 1.0\n",
            "MISC [] [] 1.0 1.0 1.0\n",
            "PER [] [] 1.0 1.0 1.0\n",
            "ORG ['TORONTO', 'NY RANGERS'] ['TORONTO'] 1.0 0.5 0.6666666666666666\n",
            "LOC [] ['NY RANGERS'] 0.0 0 0\n",
            "MISC [] [] 1.0 1.0 1.0\n",
            "PER [] [] 1.0 1.0 1.0\n",
            "ORG [] [] 1.0 1.0 1.0\n",
            "LOC [] [] 1.0 1.0 1.0\n",
            "MISC [] [] 1.0 1.0 1.0\n",
            "PER [] [] 1.0 1.0 1.0\n",
            "ORG [] [] 1.0 1.0 1.0\n",
            "LOC [] ['Brazilian'] 0.0 0 0\n",
            "MISC ['Brazilians'] [] 0 0.0 0\n",
            "PER ['Kate Pace Lindsay'] ['Kate Pace Lindsay'] 1.0 1.0 1.0\n",
            "ORG [] [] 1.0 1.0 1.0\n",
            "LOC ['Canada'] ['Canada'] 1.0 1.0 1.0\n",
            "MISC [] [] 1.0 1.0 1.0\n",
            "PER [] [] 1.0 1.0 1.0\n",
            "ORG [] [] 1.0 1.0 1.0\n",
            "LOC ['WINNIPEG'] ['WINNIPEG'] 1.0 1.0 1.0\n",
            "MISC [] [] 1.0 1.0 1.0\n",
            "PER [] [] 1.0 1.0 1.0\n",
            "ORG [] [] 1.0 1.0 1.0\n",
            "LOC ['NEW YORK'] ['NEW YORK'] 1.0 1.0 1.0\n",
            "MISC [] [] 1.0 1.0 1.0\n",
            "PER [] [] 1.0 1.0 1.0\n",
            "ORG ['Ljubljana'] [] 0 0.0 0\n",
            "LOC ['Slovenia'] ['Slovenia'] 1.0 1.0 1.0\n",
            "MISC [] [] 1.0 1.0 1.0\n",
            "PER [] [] 1.0 1.0 1.0\n",
            "ORG ['West Bromwich'] ['West Bromwich'] 1.0 1.0 1.0\n",
            "LOC [] [] 1.0 1.0 1.0\n",
            "MISC [] [] 1.0 1.0 1.0\n",
            "PER [] [] 1.0 1.0 1.0\n",
            "ORG [] [] 1.0 1.0 1.0\n",
            "LOC [] ['Polish'] 0.0 0 0\n",
            "MISC ['Polish'] [] 0 0.0 0\n",
            "PER [] [] 1.0 1.0 1.0\n",
            "ORG [] [] 1.0 1.0 1.0\n",
            "LOC ['LONDON'] ['LONDON'] 1.0 1.0 1.0\n",
            "MISC [] [] 1.0 1.0 1.0\n",
            "PER [] [] 1.0 1.0 1.0\n",
            "ORG ['SEATTLE'] [] 0 0.0 0\n",
            "LOC [] ['SEATTLE'] 0.0 0 0\n",
            "MISC [] [] 1.0 1.0 1.0\n",
            "PER ['K.J. Matthew'] ['K.J. Matthew'] 1.0 1.0 1.0\n",
            "ORG [] [] 1.0 1.0 1.0\n",
            "LOC [] ['India'] 0.0 0 0\n",
            "MISC ['Asia Rubber Markets meeting', 'Indian'] ['Asia Rubber Markets'] 0.0 0.0 0\n",
            "PER [] [] 1.0 1.0 1.0\n",
            "ORG [] [] 1.0 1.0 1.0\n",
            "LOC [] [] 1.0 1.0 1.0\n",
            "MISC ['World Grand Prix'] ['World Grand Prix'] 1.0 1.0 1.0\n",
            "PER [] [] 1.0 1.0 1.0\n",
            "ORG [] [] 1.0 1.0 1.0\n",
            "LOC [] ['Thai'] 0.0 0 0\n",
            "MISC ['Thai'] [] 0 0.0 0\n",
            "PER [] [] 1.0 1.0 1.0\n",
            "ORG [] [] 1.0 1.0 1.0\n",
            "LOC [] [] 1.0 1.0 1.0\n",
            "MISC [] ['humanitarian agencies'] 0.0 0 0\n",
            "PER [] [] 1.0 1.0 1.0\n",
            "ORG ['REAL'] ['REAL'] 1.0 1.0 1.0\n",
            "LOC ['BALKAN'] ['BALKAN'] 1.0 1.0 1.0\n",
            "MISC [] ['OLD FIRM'] 0.0 0 0\n",
            "PER ['Ricco Gross'] ['Ricco Gross'] 1.0 1.0 1.0\n",
            "ORG [] [] 1.0 1.0 1.0\n",
            "LOC ['Germany'] ['Germany'] 1.0 1.0 1.0\n",
            "MISC [] [] 1.0 1.0 1.0\n",
            "PER ['Renate Goetschl'] ['Renate Goetschl'] 1.0 1.0 1.0\n",
            "ORG [] [] 1.0 1.0 1.0\n",
            "LOC ['Austria'] ['Austria'] 1.0 1.0 1.0\n",
            "MISC [] [] 1.0 1.0 1.0\n",
            "PER [] [] 1.0 1.0 1.0\n",
            "ORG ['Organisation of the Islamic Conference', 'OIC'] [] 0 0.0 0\n",
            "LOC ['Jakarta'] ['Jakarta'] 1.0 1.0 1.0\n",
            "MISC [] ['OIC'] 0.0 0 0\n",
            "PER [] [] 1.0 1.0 1.0\n",
            "ORG [] [] 1.0 1.0 1.0\n",
            "LOC ['Singapore'] ['Singapore'] 1.0 1.0 1.0\n",
            "MISC [] [] 1.0 1.0 1.0\n",
            "PER [] [] 1.0 1.0 1.0\n",
            "ORG ['Sevilla'] ['Sevilla'] 1.0 1.0 1.0\n",
            "LOC [] [] 1.0 1.0 1.0\n",
            "MISC [] [] 1.0 1.0 1.0\n",
            "PER [] [] 1.0 1.0 1.0\n",
            "ORG [] [] 1.0 1.0 1.0\n",
            "LOC [] [] 1.0 1.0 1.0\n",
            "MISC [] [] 1.0 1.0 1.0\n",
            "PER ['Benjamin', 'Hooper', 'McLean'] ['Benjamin', 'Hooper', 'McLean'] 1.0 1.0 1.0\n",
            "ORG [] [] 1.0 1.0 1.0\n",
            "LOC [] [] 1.0 1.0 1.0\n",
            "MISC [] [] 1.0 1.0 1.0\n",
            "PER [] [] 1.0 1.0 1.0\n",
            "ORG ['Sevilla'] [] 0 0.0 0\n",
            "LOC ['Spain'] ['Sevilla', 'Spain'] 0.5 1.0 0.6666666666666666\n",
            "MISC [] [] 1.0 1.0 1.0\n",
            "PER [] [] 1.0 1.0 1.0\n",
            "ORG [] [] 1.0 1.0 1.0\n",
            "LOC [] [] 1.0 1.0 1.0\n",
            "MISC ['World Grand Prix'] ['World Grand Prix finals'] 0.0 0.0 0\n",
            "PER [] [] 1.0 1.0 1.0\n",
            "ORG [] [] 1.0 1.0 1.0\n",
            "LOC ['Poland', 'Switzerland'] ['Switzerland'] 1.0 0.5 0.6666666666666666\n",
            "MISC [] [] 1.0 1.0 1.0\n",
            "PER ['Artur Lekbello', 'Hafizi'] ['Artur Lekbello', 'Hafizi'] 1.0 1.0 1.0\n",
            "ORG [] [] 1.0 1.0 1.0\n",
            "LOC ['Belfast'] ['Belfast'] 1.0 1.0 1.0\n",
            "MISC [] [] 1.0 1.0 1.0\n",
            "PER ['Piniel Sindiso Ncube'] ['Piniel Sindiso Ncube'] 1.0 1.0 1.0\n",
            "ORG [] [] 1.0 1.0 1.0\n",
            "LOC [] [] 1.0 1.0 1.0\n",
            "MISC [] [] 1.0 1.0 1.0\n",
            "PER ['Dong Jiong', 'Thomas Stuer-Lauridsen'] ['Dong Jiong', 'Thomas Stuer-Lauridsen'] 1.0 1.0 1.0\n",
            "ORG [] [] 1.0 1.0 1.0\n",
            "LOC ['China', 'Denmark'] ['China', 'Denmark'] 1.0 1.0 1.0\n",
            "MISC [] [] 1.0 1.0 1.0\n",
            "PER ['Van Boxmeer'] ['Van Boxmeer'] 1.0 1.0 1.0\n",
            "ORG [] [] 1.0 1.0 1.0\n",
            "LOC [] ['Poland'] 0.0 0 0\n",
            "MISC ['Polish'] [] 0 0.0 0\n",
            "PER [] [] 1.0 1.0 1.0\n",
            "ORG ['Tampa Bay', 'LOS ANGELES'] ['Tampa Bay'] 1.0 0.5 0.6666666666666666\n",
            "LOC [] ['LOS ANGELES'] 0.0 0 0\n",
            "MISC [] [] 1.0 1.0 1.0\n",
            "PER [] [] 1.0 1.0 1.0\n",
            "ORG [] [] 1.0 1.0 1.0\n",
            "LOC ['ROME'] ['ROME'] 1.0 1.0 1.0\n",
            "MISC [] [] 1.0 1.0 1.0\n",
            "PER [] [] 1.0 1.0 1.0\n",
            "ORG [] ['China'] 0.0 0 0\n",
            "LOC ['China', 'Tignes'] ['Tignes'] 1.0 0.5 0.6666666666666666\n",
            "MISC ['French'] ['French'] 1.0 1.0 1.0\n",
            "PER [] [] 1.0 1.0 1.0\n",
            "ORG [] [] 1.0 1.0 1.0\n",
            "LOC [] [] 1.0 1.0 1.0\n",
            "MISC [] [] 1.0 1.0 1.0\n",
            "PER [] [] 1.0 1.0 1.0\n",
            "ORG [] [] 1.0 1.0 1.0\n",
            "LOC [] [] 1.0 1.0 1.0\n",
            "MISC [] [] 1.0 1.0 1.0\n",
            "PER [] [] 1.0 1.0 1.0\n",
            "ORG [] [] 1.0 1.0 1.0\n",
            "LOC [] [] 1.0 1.0 1.0\n",
            "MISC ['French'] ['French'] 1.0 1.0 1.0\n",
            "PER ['Aung San Suu Kyi'] [] 0 0.0 0\n",
            "ORG [] [] 1.0 1.0 1.0\n",
            "LOC [] [] 1.0 1.0 1.0\n",
            "MISC [] ['Aung San Suu Kyi'] 0.0 0 0\n",
            "PER ['Chris Aspin'] ['Chris Aspin'] 1.0 1.0 1.0\n",
            "ORG [] [] 1.0 1.0 1.0\n",
            "LOC ['Mexico City'] ['Mexico City'] 1.0 1.0 1.0\n",
            "MISC [] [] 1.0 1.0 1.0\n",
            "PER ['Eric Cleymans', 'Ron Ellis', 'Jacques Stas'] ['Eric Cleymans', 'Ron Ellis', 'Jacques Stas'] 1.0 1.0 1.0\n",
            "ORG ['Charleroi'] ['Charleroi'] 1.0 1.0 1.0\n",
            "LOC [] [] 1.0 1.0 1.0\n",
            "MISC [] [] 1.0 1.0 1.0\n",
            "PER ['Grunde Njos'] ['Grunde Njos'] 1.0 1.0 1.0\n",
            "ORG [] [] 1.0 1.0 1.0\n",
            "LOC ['Norway'] ['Norway'] 1.0 1.0 1.0\n",
            "MISC [] [] 1.0 1.0 1.0\n",
            "PER [] [] 1.0 1.0 1.0\n",
            "ORG [] [] 1.0 1.0 1.0\n",
            "LOC [] [] 1.0 1.0 1.0\n",
            "MISC [] [] 1.0 1.0 1.0\n",
            "PER [] [] 1.0 1.0 1.0\n",
            "ORG [] [] 1.0 1.0 1.0\n",
            "LOC [] [] 1.0 1.0 1.0\n",
            "MISC [] [] 1.0 1.0 1.0\n",
            "PER [] [] 1.0 1.0 1.0\n",
            "ORG [] [] 1.0 1.0 1.0\n",
            "LOC ['NORTHERN IRELAND'] ['NORTHERN IRELAND'] 1.0 1.0 1.0\n",
            "MISC [] [] 1.0 1.0 1.0\n",
            "PER [] [] 1.0 1.0 1.0\n",
            "ORG [] [] 1.0 1.0 1.0\n",
            "LOC ['TIGNES', 'France'] ['TIGNES', 'France'] 1.0 1.0 1.0\n",
            "MISC [] [] 1.0 1.0 1.0\n",
            "PER [] [] 1.0 1.0 1.0\n",
            "ORG [] [] 1.0 1.0 1.0\n",
            "LOC ['MELBOURNE'] ['MELBOURNE'] 1.0 1.0 1.0\n",
            "MISC [] [] 1.0 1.0 1.0\n",
            "PER ['Stefanie Schuster'] ['Stefanie Schuster'] 1.0 1.0 1.0\n",
            "ORG [] [] 1.0 1.0 1.0\n",
            "LOC ['Austria'] ['Austria'] 1.0 1.0 1.0\n",
            "MISC [] [] 1.0 1.0 1.0\n",
            "PER ['Jim Herberich', 'Garrett Hines'] ['Jim Herberich', 'Garrett Hines'] 1.0 1.0 1.0\n",
            "ORG ['USA I'] [] 0 0.0 0\n",
            "LOC [] ['USA I'] 0.0 0 0\n",
            "MISC [] [] 1.0 1.0 1.0\n",
            "PER [] [] 1.0 1.0 1.0\n",
            "ORG ['REAL MADRID', 'BARCELONA'] [] 0 0.0 0\n",
            "LOC [] [] 1.0 1.0 1.0\n",
            "MISC [] ['REAL MADRID', 'BARCELONA'] 0.0 0 0\n",
            "PER ['Rosemary Bennett'] ['Rosemary Bennett'] 1.0 1.0 1.0\n",
            "ORG ['London Newsroom'] [] 0 0.0 0\n",
            "LOC [] ['London'] 0.0 0 0\n",
            "MISC [] [] 1.0 1.0 1.0\n"
          ]
        }
      ],
      "source": [
        "for idx, entry in enumerate(test_sample):\n",
        "    if 'metrics' not in entry['ft_model']:\n",
        "    # If not, create the 'metrics' key with an empty dictionary\n",
        "        entry['ft_model']['metrics'] = {}\n",
        "    for label in entry['entities'].keys():\n",
        "        try:\n",
        "            p = precision(entry['entities'][label], entry['ft_model']['response_dict'][label])\n",
        "            r = recall(entry['entities'][label], entry['ft_model']['response_dict'][label])\n",
        "            f = f1_score(entry['entities'][label], entry['ft_model']['response_dict'][label])\n",
        "\n",
        "            entry['ft_model']['metrics'][label] = [p,r,f]\n",
        "            print(label, entry['entities'][label], entry['ft_model']['response_dict'][label], p, r, f)\n",
        "        except: # answer dict doesnt have this label\n",
        "            if entry['entities'][label]==[]: # if there is no entity for that label, then is correct\n",
        "                entry['ft_model']['metrics'][label] = [1,1,1]\n",
        "            else:\n",
        "                entry['ft_model']['metrics'][label] = [0,0,0] # else it is wrong\n",
        "            print(idx)"
      ]
    },
    {
      "cell_type": "code",
      "source": [
        "test_sample[0]['ft_model']['metrics'].items()"
      ],
      "metadata": {
        "colab": {
          "base_uri": "https://localhost:8080/"
        },
        "id": "ZUNPuaIhk_g3",
        "outputId": "8004b588-d3df-4585-e0d3-d254037433e6"
      },
      "execution_count": null,
      "outputs": [
        {
          "output_type": "execute_result",
          "data": {
            "text/plain": [
              "dict_items([('PER', [1.0, 1.0, 1.0]), ('ORG', [1.0, 1.0, 1.0]), ('LOC', [1.0, 1.0, 1.0]), ('MISC', [1.0, 1.0, 1.0])])"
            ]
          },
          "metadata": {},
          "execution_count": 75
        }
      ]
    },
    {
      "cell_type": "code",
      "source": [
        "def calculate_average_metrics(data):\n",
        "    # Initialize variables to store sum of precision, recall, and f1_score for each entity type\n",
        "    sum_precision = {'PER': 0, 'ORG': 0, 'LOC': 0, 'MISC': 0}\n",
        "    sum_recall = {'PER': 0, 'ORG': 0, 'LOC': 0, 'MISC': 0}\n",
        "    sum_f1_score = {'PER': 0, 'ORG': 0, 'LOC': 0, 'MISC': 0}\n",
        "    num_instances = len(data)\n",
        "\n",
        "    # Iterate over the list of dictionaries\n",
        "    for entry in data:\n",
        "        metrics = entry['ft_model']['metrics']\n",
        "        for entity_type, (precision, recall, f1_score) in metrics.items():\n",
        "            sum_precision[entity_type] += precision\n",
        "            sum_recall[entity_type] += recall\n",
        "            sum_f1_score[entity_type] += f1_score\n",
        "\n",
        "    # Calculate average precision, recall, and f1_score for each entity type\n",
        "    avg_precision = {entity_type: sum_precision[entity_type] / num_instances for entity_type in sum_precision}\n",
        "    avg_recall = {entity_type: sum_recall[entity_type] / num_instances for entity_type in sum_recall}\n",
        "    avg_f1_score = {entity_type: sum_f1_score[entity_type] / num_instances for entity_type in sum_f1_score}\n",
        "\n",
        "    return avg_precision, avg_recall, avg_f1_score\n"
      ],
      "metadata": {
        "id": "8TTDcjttjsKr"
      },
      "execution_count": null,
      "outputs": []
    },
    {
      "cell_type": "code",
      "source": [
        "# Calculate average precision, recall, and f1_score\n",
        "avg_precision, avg_recall, avg_f1_score = calculate_average_metrics(test_sample)\n",
        "\n",
        "# Print the results\n",
        "print(\"Average Precision:\", avg_precision)\n",
        "print(\"Average Recall:\", avg_recall)\n",
        "print(\"Average F1-score:\", avg_f1_score)"
      ],
      "metadata": {
        "colab": {
          "base_uri": "https://localhost:8080/"
        },
        "id": "MFXV3UfWk1c9",
        "outputId": "e78cd722-2180-44a7-f982-672985b423cf"
      },
      "execution_count": null,
      "outputs": [
        {
          "output_type": "stream",
          "name": "stdout",
          "text": [
            "Average Precision: {'PER': 0.97, 'ORG': 0.8, 'LOC': 0.825, 'MISC': 0.8}\n",
            "Average Recall: {'PER': 0.965, 'ORG': 0.785, 'LOC': 0.8066666666666668, 'MISC': 0.8}\n",
            "Average F1-score: {'PER': 0.9666666666666667, 'ORG': 0.7900000000000001, 'LOC': 0.8113333333333334, 'MISC': 0.8}\n"
          ]
        }
      ]
    },
    {
      "cell_type": "code",
      "source": [
        "\"\"\"compare to before fine tuning\n",
        "\n",
        "Average Precision: {'PER': 0.88, 'ORG': 0.67, 'LOC': 0.76, 'MISC': 0.77}\n",
        "Average Recall: {'PER': 0.87, 'ORG': 0.665, 'LOC': 0.755, 'MISC': 0.77}\n",
        "Average F1-score: {'PER': 0.8733333333333334, 'ORG': 0.6666666666666665, 'LOC': 0.755, 'MISC': 0.77}\n",
        "\n",
        "\n",
        "\"\"\""
      ],
      "metadata": {
        "colab": {
          "base_uri": "https://localhost:8080/",
          "height": 70
        },
        "id": "YB3SherZk2oV",
        "outputId": "6d64c739-540c-4017-bcaf-d27d26583439"
      },
      "execution_count": null,
      "outputs": [
        {
          "output_type": "execute_result",
          "data": {
            "text/plain": [
              "\"compare to \\n\\nAverage Precision: {'PER': 0.88, 'ORG': 0.67, 'LOC': 0.76, 'MISC': 0.77}\\nAverage Recall: {'PER': 0.87, 'ORG': 0.665, 'LOC': 0.755, 'MISC': 0.77}\\nAverage F1-score: {'PER': 0.8733333333333334, 'ORG': 0.6666666666666665, 'LOC': 0.755, 'MISC': 0.77}\\n\\n\\n\""
            ],
            "application/vnd.google.colaboratory.intrinsic+json": {
              "type": "string"
            }
          },
          "metadata": {},
          "execution_count": 86
        }
      ]
    },
    {
      "cell_type": "code",
      "source": [],
      "metadata": {
        "id": "pa_YvWOFocHN"
      },
      "execution_count": null,
      "outputs": []
    }
  ],
  "metadata": {
    "accelerator": "GPU",
    "colab": {
      "gpuType": "T4",
      "provenance": [],
      "include_colab_link": true
    },
    "kernelspec": {
      "display_name": "Python 3",
      "name": "python3"
    },
    "language_info": {
      "name": "python"
    },
    "widgets": {
      "application/vnd.jupyter.widget-state+json": {
        "838cf694a3d84ea3a9fdaadbc5ae52ae": {
          "model_module": "@jupyter-widgets/controls",
          "model_name": "HBoxModel",
          "model_module_version": "1.5.0",
          "state": {
            "_dom_classes": [],
            "_model_module": "@jupyter-widgets/controls",
            "_model_module_version": "1.5.0",
            "_model_name": "HBoxModel",
            "_view_count": null,
            "_view_module": "@jupyter-widgets/controls",
            "_view_module_version": "1.5.0",
            "_view_name": "HBoxView",
            "box_style": "",
            "children": [
              "IPY_MODEL_538d86328fbb44858f91ac3b64818fab",
              "IPY_MODEL_df96831e46b147b38d4a7a81d107ec01",
              "IPY_MODEL_811fe675880f4d3bab7857984067a6f8"
            ],
            "layout": "IPY_MODEL_3075a65909ca48e3a8c1829ac5391e2c"
          }
        },
        "538d86328fbb44858f91ac3b64818fab": {
          "model_module": "@jupyter-widgets/controls",
          "model_name": "HTMLModel",
          "model_module_version": "1.5.0",
          "state": {
            "_dom_classes": [],
            "_model_module": "@jupyter-widgets/controls",
            "_model_module_version": "1.5.0",
            "_model_name": "HTMLModel",
            "_view_count": null,
            "_view_module": "@jupyter-widgets/controls",
            "_view_module_version": "1.5.0",
            "_view_name": "HTMLView",
            "description": "",
            "description_tooltip": null,
            "layout": "IPY_MODEL_a662073db4b846d7a0c7ed92818b742d",
            "placeholder": "​",
            "style": "IPY_MODEL_f0c6bb405cd34d438cca987cb171aee4",
            "value": "Downloading data: 100%"
          }
        },
        "df96831e46b147b38d4a7a81d107ec01": {
          "model_module": "@jupyter-widgets/controls",
          "model_name": "FloatProgressModel",
          "model_module_version": "1.5.0",
          "state": {
            "_dom_classes": [],
            "_model_module": "@jupyter-widgets/controls",
            "_model_module_version": "1.5.0",
            "_model_name": "FloatProgressModel",
            "_view_count": null,
            "_view_module": "@jupyter-widgets/controls",
            "_view_module_version": "1.5.0",
            "_view_name": "ProgressView",
            "bar_style": "success",
            "description": "",
            "description_tooltip": null,
            "layout": "IPY_MODEL_c514834585c34d7fa79a7cde6399021d",
            "max": 1227788,
            "min": 0,
            "orientation": "horizontal",
            "style": "IPY_MODEL_b7862382cd7c420e97e611ecafe40486",
            "value": 1227788
          }
        },
        "811fe675880f4d3bab7857984067a6f8": {
          "model_module": "@jupyter-widgets/controls",
          "model_name": "HTMLModel",
          "model_module_version": "1.5.0",
          "state": {
            "_dom_classes": [],
            "_model_module": "@jupyter-widgets/controls",
            "_model_module_version": "1.5.0",
            "_model_name": "HTMLModel",
            "_view_count": null,
            "_view_module": "@jupyter-widgets/controls",
            "_view_module_version": "1.5.0",
            "_view_name": "HTMLView",
            "description": "",
            "description_tooltip": null,
            "layout": "IPY_MODEL_b16479defa774cc3a12dd82582fca609",
            "placeholder": "​",
            "style": "IPY_MODEL_40d62274d47145d099bc27c83897c6ff",
            "value": " 1.23M/1.23M [00:00&lt;00:00, 3.73MB/s]"
          }
        },
        "3075a65909ca48e3a8c1829ac5391e2c": {
          "model_module": "@jupyter-widgets/base",
          "model_name": "LayoutModel",
          "model_module_version": "1.2.0",
          "state": {
            "_model_module": "@jupyter-widgets/base",
            "_model_module_version": "1.2.0",
            "_model_name": "LayoutModel",
            "_view_count": null,
            "_view_module": "@jupyter-widgets/base",
            "_view_module_version": "1.2.0",
            "_view_name": "LayoutView",
            "align_content": null,
            "align_items": null,
            "align_self": null,
            "border": null,
            "bottom": null,
            "display": null,
            "flex": null,
            "flex_flow": null,
            "grid_area": null,
            "grid_auto_columns": null,
            "grid_auto_flow": null,
            "grid_auto_rows": null,
            "grid_column": null,
            "grid_gap": null,
            "grid_row": null,
            "grid_template_areas": null,
            "grid_template_columns": null,
            "grid_template_rows": null,
            "height": null,
            "justify_content": null,
            "justify_items": null,
            "left": null,
            "margin": null,
            "max_height": null,
            "max_width": null,
            "min_height": null,
            "min_width": null,
            "object_fit": null,
            "object_position": null,
            "order": null,
            "overflow": null,
            "overflow_x": null,
            "overflow_y": null,
            "padding": null,
            "right": null,
            "top": null,
            "visibility": null,
            "width": null
          }
        },
        "a662073db4b846d7a0c7ed92818b742d": {
          "model_module": "@jupyter-widgets/base",
          "model_name": "LayoutModel",
          "model_module_version": "1.2.0",
          "state": {
            "_model_module": "@jupyter-widgets/base",
            "_model_module_version": "1.2.0",
            "_model_name": "LayoutModel",
            "_view_count": null,
            "_view_module": "@jupyter-widgets/base",
            "_view_module_version": "1.2.0",
            "_view_name": "LayoutView",
            "align_content": null,
            "align_items": null,
            "align_self": null,
            "border": null,
            "bottom": null,
            "display": null,
            "flex": null,
            "flex_flow": null,
            "grid_area": null,
            "grid_auto_columns": null,
            "grid_auto_flow": null,
            "grid_auto_rows": null,
            "grid_column": null,
            "grid_gap": null,
            "grid_row": null,
            "grid_template_areas": null,
            "grid_template_columns": null,
            "grid_template_rows": null,
            "height": null,
            "justify_content": null,
            "justify_items": null,
            "left": null,
            "margin": null,
            "max_height": null,
            "max_width": null,
            "min_height": null,
            "min_width": null,
            "object_fit": null,
            "object_position": null,
            "order": null,
            "overflow": null,
            "overflow_x": null,
            "overflow_y": null,
            "padding": null,
            "right": null,
            "top": null,
            "visibility": null,
            "width": null
          }
        },
        "f0c6bb405cd34d438cca987cb171aee4": {
          "model_module": "@jupyter-widgets/controls",
          "model_name": "DescriptionStyleModel",
          "model_module_version": "1.5.0",
          "state": {
            "_model_module": "@jupyter-widgets/controls",
            "_model_module_version": "1.5.0",
            "_model_name": "DescriptionStyleModel",
            "_view_count": null,
            "_view_module": "@jupyter-widgets/base",
            "_view_module_version": "1.2.0",
            "_view_name": "StyleView",
            "description_width": ""
          }
        },
        "c514834585c34d7fa79a7cde6399021d": {
          "model_module": "@jupyter-widgets/base",
          "model_name": "LayoutModel",
          "model_module_version": "1.2.0",
          "state": {
            "_model_module": "@jupyter-widgets/base",
            "_model_module_version": "1.2.0",
            "_model_name": "LayoutModel",
            "_view_count": null,
            "_view_module": "@jupyter-widgets/base",
            "_view_module_version": "1.2.0",
            "_view_name": "LayoutView",
            "align_content": null,
            "align_items": null,
            "align_self": null,
            "border": null,
            "bottom": null,
            "display": null,
            "flex": null,
            "flex_flow": null,
            "grid_area": null,
            "grid_auto_columns": null,
            "grid_auto_flow": null,
            "grid_auto_rows": null,
            "grid_column": null,
            "grid_gap": null,
            "grid_row": null,
            "grid_template_areas": null,
            "grid_template_columns": null,
            "grid_template_rows": null,
            "height": null,
            "justify_content": null,
            "justify_items": null,
            "left": null,
            "margin": null,
            "max_height": null,
            "max_width": null,
            "min_height": null,
            "min_width": null,
            "object_fit": null,
            "object_position": null,
            "order": null,
            "overflow": null,
            "overflow_x": null,
            "overflow_y": null,
            "padding": null,
            "right": null,
            "top": null,
            "visibility": null,
            "width": null
          }
        },
        "b7862382cd7c420e97e611ecafe40486": {
          "model_module": "@jupyter-widgets/controls",
          "model_name": "ProgressStyleModel",
          "model_module_version": "1.5.0",
          "state": {
            "_model_module": "@jupyter-widgets/controls",
            "_model_module_version": "1.5.0",
            "_model_name": "ProgressStyleModel",
            "_view_count": null,
            "_view_module": "@jupyter-widgets/base",
            "_view_module_version": "1.2.0",
            "_view_name": "StyleView",
            "bar_color": null,
            "description_width": ""
          }
        },
        "b16479defa774cc3a12dd82582fca609": {
          "model_module": "@jupyter-widgets/base",
          "model_name": "LayoutModel",
          "model_module_version": "1.2.0",
          "state": {
            "_model_module": "@jupyter-widgets/base",
            "_model_module_version": "1.2.0",
            "_model_name": "LayoutModel",
            "_view_count": null,
            "_view_module": "@jupyter-widgets/base",
            "_view_module_version": "1.2.0",
            "_view_name": "LayoutView",
            "align_content": null,
            "align_items": null,
            "align_self": null,
            "border": null,
            "bottom": null,
            "display": null,
            "flex": null,
            "flex_flow": null,
            "grid_area": null,
            "grid_auto_columns": null,
            "grid_auto_flow": null,
            "grid_auto_rows": null,
            "grid_column": null,
            "grid_gap": null,
            "grid_row": null,
            "grid_template_areas": null,
            "grid_template_columns": null,
            "grid_template_rows": null,
            "height": null,
            "justify_content": null,
            "justify_items": null,
            "left": null,
            "margin": null,
            "max_height": null,
            "max_width": null,
            "min_height": null,
            "min_width": null,
            "object_fit": null,
            "object_position": null,
            "order": null,
            "overflow": null,
            "overflow_x": null,
            "overflow_y": null,
            "padding": null,
            "right": null,
            "top": null,
            "visibility": null,
            "width": null
          }
        },
        "40d62274d47145d099bc27c83897c6ff": {
          "model_module": "@jupyter-widgets/controls",
          "model_name": "DescriptionStyleModel",
          "model_module_version": "1.5.0",
          "state": {
            "_model_module": "@jupyter-widgets/controls",
            "_model_module_version": "1.5.0",
            "_model_name": "DescriptionStyleModel",
            "_view_count": null,
            "_view_module": "@jupyter-widgets/base",
            "_view_module_version": "1.2.0",
            "_view_name": "StyleView",
            "description_width": ""
          }
        },
        "a61045a20d964d5184da5939c7809680": {
          "model_module": "@jupyter-widgets/controls",
          "model_name": "HBoxModel",
          "model_module_version": "1.5.0",
          "state": {
            "_dom_classes": [],
            "_model_module": "@jupyter-widgets/controls",
            "_model_module_version": "1.5.0",
            "_model_name": "HBoxModel",
            "_view_count": null,
            "_view_module": "@jupyter-widgets/controls",
            "_view_module_version": "1.5.0",
            "_view_name": "HBoxView",
            "box_style": "",
            "children": [
              "IPY_MODEL_ced8b3f7d1e24b4cb052c5dff4859610",
              "IPY_MODEL_882482631fad4545bbcd84b6b1ac497e",
              "IPY_MODEL_32f21f16bfaf46a7b64f5bf67c5a8a1d"
            ],
            "layout": "IPY_MODEL_aebd7499d42e4f6f80fda6f0e77987e9"
          }
        },
        "ced8b3f7d1e24b4cb052c5dff4859610": {
          "model_module": "@jupyter-widgets/controls",
          "model_name": "HTMLModel",
          "model_module_version": "1.5.0",
          "state": {
            "_dom_classes": [],
            "_model_module": "@jupyter-widgets/controls",
            "_model_module_version": "1.5.0",
            "_model_name": "HTMLModel",
            "_view_count": null,
            "_view_module": "@jupyter-widgets/controls",
            "_view_module_version": "1.5.0",
            "_view_name": "HTMLView",
            "description": "",
            "description_tooltip": null,
            "layout": "IPY_MODEL_9ef28563dd6842cb904ceefa68688895",
            "placeholder": "​",
            "style": "IPY_MODEL_8f84183f322e487bad4e8b45f415ae21",
            "value": "Downloading data: 100%"
          }
        },
        "882482631fad4545bbcd84b6b1ac497e": {
          "model_module": "@jupyter-widgets/controls",
          "model_name": "FloatProgressModel",
          "model_module_version": "1.5.0",
          "state": {
            "_dom_classes": [],
            "_model_module": "@jupyter-widgets/controls",
            "_model_module_version": "1.5.0",
            "_model_name": "FloatProgressModel",
            "_view_count": null,
            "_view_module": "@jupyter-widgets/controls",
            "_view_module_version": "1.5.0",
            "_view_name": "ProgressView",
            "bar_style": "success",
            "description": "",
            "description_tooltip": null,
            "layout": "IPY_MODEL_b3b3814a42f34eed950b3b9c5f8c97c4",
            "max": 311883,
            "min": 0,
            "orientation": "horizontal",
            "style": "IPY_MODEL_4b63b8c8511f406f8c787e72c205b208",
            "value": 311883
          }
        },
        "32f21f16bfaf46a7b64f5bf67c5a8a1d": {
          "model_module": "@jupyter-widgets/controls",
          "model_name": "HTMLModel",
          "model_module_version": "1.5.0",
          "state": {
            "_dom_classes": [],
            "_model_module": "@jupyter-widgets/controls",
            "_model_module_version": "1.5.0",
            "_model_name": "HTMLModel",
            "_view_count": null,
            "_view_module": "@jupyter-widgets/controls",
            "_view_module_version": "1.5.0",
            "_view_name": "HTMLView",
            "description": "",
            "description_tooltip": null,
            "layout": "IPY_MODEL_9085f412fc3a4177910d92f244a9a8fc",
            "placeholder": "​",
            "style": "IPY_MODEL_282bbad1d83b42e28c1f893673597f49",
            "value": " 312k/312k [00:00&lt;00:00, 1.47MB/s]"
          }
        },
        "aebd7499d42e4f6f80fda6f0e77987e9": {
          "model_module": "@jupyter-widgets/base",
          "model_name": "LayoutModel",
          "model_module_version": "1.2.0",
          "state": {
            "_model_module": "@jupyter-widgets/base",
            "_model_module_version": "1.2.0",
            "_model_name": "LayoutModel",
            "_view_count": null,
            "_view_module": "@jupyter-widgets/base",
            "_view_module_version": "1.2.0",
            "_view_name": "LayoutView",
            "align_content": null,
            "align_items": null,
            "align_self": null,
            "border": null,
            "bottom": null,
            "display": null,
            "flex": null,
            "flex_flow": null,
            "grid_area": null,
            "grid_auto_columns": null,
            "grid_auto_flow": null,
            "grid_auto_rows": null,
            "grid_column": null,
            "grid_gap": null,
            "grid_row": null,
            "grid_template_areas": null,
            "grid_template_columns": null,
            "grid_template_rows": null,
            "height": null,
            "justify_content": null,
            "justify_items": null,
            "left": null,
            "margin": null,
            "max_height": null,
            "max_width": null,
            "min_height": null,
            "min_width": null,
            "object_fit": null,
            "object_position": null,
            "order": null,
            "overflow": null,
            "overflow_x": null,
            "overflow_y": null,
            "padding": null,
            "right": null,
            "top": null,
            "visibility": null,
            "width": null
          }
        },
        "9ef28563dd6842cb904ceefa68688895": {
          "model_module": "@jupyter-widgets/base",
          "model_name": "LayoutModel",
          "model_module_version": "1.2.0",
          "state": {
            "_model_module": "@jupyter-widgets/base",
            "_model_module_version": "1.2.0",
            "_model_name": "LayoutModel",
            "_view_count": null,
            "_view_module": "@jupyter-widgets/base",
            "_view_module_version": "1.2.0",
            "_view_name": "LayoutView",
            "align_content": null,
            "align_items": null,
            "align_self": null,
            "border": null,
            "bottom": null,
            "display": null,
            "flex": null,
            "flex_flow": null,
            "grid_area": null,
            "grid_auto_columns": null,
            "grid_auto_flow": null,
            "grid_auto_rows": null,
            "grid_column": null,
            "grid_gap": null,
            "grid_row": null,
            "grid_template_areas": null,
            "grid_template_columns": null,
            "grid_template_rows": null,
            "height": null,
            "justify_content": null,
            "justify_items": null,
            "left": null,
            "margin": null,
            "max_height": null,
            "max_width": null,
            "min_height": null,
            "min_width": null,
            "object_fit": null,
            "object_position": null,
            "order": null,
            "overflow": null,
            "overflow_x": null,
            "overflow_y": null,
            "padding": null,
            "right": null,
            "top": null,
            "visibility": null,
            "width": null
          }
        },
        "8f84183f322e487bad4e8b45f415ae21": {
          "model_module": "@jupyter-widgets/controls",
          "model_name": "DescriptionStyleModel",
          "model_module_version": "1.5.0",
          "state": {
            "_model_module": "@jupyter-widgets/controls",
            "_model_module_version": "1.5.0",
            "_model_name": "DescriptionStyleModel",
            "_view_count": null,
            "_view_module": "@jupyter-widgets/base",
            "_view_module_version": "1.2.0",
            "_view_name": "StyleView",
            "description_width": ""
          }
        },
        "b3b3814a42f34eed950b3b9c5f8c97c4": {
          "model_module": "@jupyter-widgets/base",
          "model_name": "LayoutModel",
          "model_module_version": "1.2.0",
          "state": {
            "_model_module": "@jupyter-widgets/base",
            "_model_module_version": "1.2.0",
            "_model_name": "LayoutModel",
            "_view_count": null,
            "_view_module": "@jupyter-widgets/base",
            "_view_module_version": "1.2.0",
            "_view_name": "LayoutView",
            "align_content": null,
            "align_items": null,
            "align_self": null,
            "border": null,
            "bottom": null,
            "display": null,
            "flex": null,
            "flex_flow": null,
            "grid_area": null,
            "grid_auto_columns": null,
            "grid_auto_flow": null,
            "grid_auto_rows": null,
            "grid_column": null,
            "grid_gap": null,
            "grid_row": null,
            "grid_template_areas": null,
            "grid_template_columns": null,
            "grid_template_rows": null,
            "height": null,
            "justify_content": null,
            "justify_items": null,
            "left": null,
            "margin": null,
            "max_height": null,
            "max_width": null,
            "min_height": null,
            "min_width": null,
            "object_fit": null,
            "object_position": null,
            "order": null,
            "overflow": null,
            "overflow_x": null,
            "overflow_y": null,
            "padding": null,
            "right": null,
            "top": null,
            "visibility": null,
            "width": null
          }
        },
        "4b63b8c8511f406f8c787e72c205b208": {
          "model_module": "@jupyter-widgets/controls",
          "model_name": "ProgressStyleModel",
          "model_module_version": "1.5.0",
          "state": {
            "_model_module": "@jupyter-widgets/controls",
            "_model_module_version": "1.5.0",
            "_model_name": "ProgressStyleModel",
            "_view_count": null,
            "_view_module": "@jupyter-widgets/base",
            "_view_module_version": "1.2.0",
            "_view_name": "StyleView",
            "bar_color": null,
            "description_width": ""
          }
        },
        "9085f412fc3a4177910d92f244a9a8fc": {
          "model_module": "@jupyter-widgets/base",
          "model_name": "LayoutModel",
          "model_module_version": "1.2.0",
          "state": {
            "_model_module": "@jupyter-widgets/base",
            "_model_module_version": "1.2.0",
            "_model_name": "LayoutModel",
            "_view_count": null,
            "_view_module": "@jupyter-widgets/base",
            "_view_module_version": "1.2.0",
            "_view_name": "LayoutView",
            "align_content": null,
            "align_items": null,
            "align_self": null,
            "border": null,
            "bottom": null,
            "display": null,
            "flex": null,
            "flex_flow": null,
            "grid_area": null,
            "grid_auto_columns": null,
            "grid_auto_flow": null,
            "grid_auto_rows": null,
            "grid_column": null,
            "grid_gap": null,
            "grid_row": null,
            "grid_template_areas": null,
            "grid_template_columns": null,
            "grid_template_rows": null,
            "height": null,
            "justify_content": null,
            "justify_items": null,
            "left": null,
            "margin": null,
            "max_height": null,
            "max_width": null,
            "min_height": null,
            "min_width": null,
            "object_fit": null,
            "object_position": null,
            "order": null,
            "overflow": null,
            "overflow_x": null,
            "overflow_y": null,
            "padding": null,
            "right": null,
            "top": null,
            "visibility": null,
            "width": null
          }
        },
        "282bbad1d83b42e28c1f893673597f49": {
          "model_module": "@jupyter-widgets/controls",
          "model_name": "DescriptionStyleModel",
          "model_module_version": "1.5.0",
          "state": {
            "_model_module": "@jupyter-widgets/controls",
            "_model_module_version": "1.5.0",
            "_model_name": "DescriptionStyleModel",
            "_view_count": null,
            "_view_module": "@jupyter-widgets/base",
            "_view_module_version": "1.2.0",
            "_view_name": "StyleView",
            "description_width": ""
          }
        },
        "f2da8c3d8be843bb807d93b0a0edd85c": {
          "model_module": "@jupyter-widgets/controls",
          "model_name": "HBoxModel",
          "model_module_version": "1.5.0",
          "state": {
            "_dom_classes": [],
            "_model_module": "@jupyter-widgets/controls",
            "_model_module_version": "1.5.0",
            "_model_name": "HBoxModel",
            "_view_count": null,
            "_view_module": "@jupyter-widgets/controls",
            "_view_module_version": "1.5.0",
            "_view_name": "HBoxView",
            "box_style": "",
            "children": [
              "IPY_MODEL_fde44a37f63542be8bf339abe1f5dc18",
              "IPY_MODEL_284951321d264e8187834c3d5d89b351",
              "IPY_MODEL_2fa46302d3874d38bc3357f7eae4d4ee"
            ],
            "layout": "IPY_MODEL_418a6c4c18784b7490cd2bc88b8a9cbe"
          }
        },
        "fde44a37f63542be8bf339abe1f5dc18": {
          "model_module": "@jupyter-widgets/controls",
          "model_name": "HTMLModel",
          "model_module_version": "1.5.0",
          "state": {
            "_dom_classes": [],
            "_model_module": "@jupyter-widgets/controls",
            "_model_module_version": "1.5.0",
            "_model_name": "HTMLModel",
            "_view_count": null,
            "_view_module": "@jupyter-widgets/controls",
            "_view_module_version": "1.5.0",
            "_view_name": "HTMLView",
            "description": "",
            "description_tooltip": null,
            "layout": "IPY_MODEL_81683c17cee2459eb5405dcbd87c0a10",
            "placeholder": "​",
            "style": "IPY_MODEL_5bdef548941040c098a20e1621b11574",
            "value": "Downloading data: 100%"
          }
        },
        "284951321d264e8187834c3d5d89b351": {
          "model_module": "@jupyter-widgets/controls",
          "model_name": "FloatProgressModel",
          "model_module_version": "1.5.0",
          "state": {
            "_dom_classes": [],
            "_model_module": "@jupyter-widgets/controls",
            "_model_module_version": "1.5.0",
            "_model_name": "FloatProgressModel",
            "_view_count": null,
            "_view_module": "@jupyter-widgets/controls",
            "_view_module_version": "1.5.0",
            "_view_name": "ProgressView",
            "bar_style": "success",
            "description": "",
            "description_tooltip": null,
            "layout": "IPY_MODEL_e6eaa698bc1a4ad2afcf5c657dc3c606",
            "max": 283307,
            "min": 0,
            "orientation": "horizontal",
            "style": "IPY_MODEL_863dd9fb70174e43b1c8395c88179791",
            "value": 283307
          }
        },
        "2fa46302d3874d38bc3357f7eae4d4ee": {
          "model_module": "@jupyter-widgets/controls",
          "model_name": "HTMLModel",
          "model_module_version": "1.5.0",
          "state": {
            "_dom_classes": [],
            "_model_module": "@jupyter-widgets/controls",
            "_model_module_version": "1.5.0",
            "_model_name": "HTMLModel",
            "_view_count": null,
            "_view_module": "@jupyter-widgets/controls",
            "_view_module_version": "1.5.0",
            "_view_name": "HTMLView",
            "description": "",
            "description_tooltip": null,
            "layout": "IPY_MODEL_7773c270dd9848ba8246bf993c17bc71",
            "placeholder": "​",
            "style": "IPY_MODEL_f9742d5eeb194d6f87479228a4aeea84",
            "value": " 283k/283k [00:00&lt;00:00, 1.33MB/s]"
          }
        },
        "418a6c4c18784b7490cd2bc88b8a9cbe": {
          "model_module": "@jupyter-widgets/base",
          "model_name": "LayoutModel",
          "model_module_version": "1.2.0",
          "state": {
            "_model_module": "@jupyter-widgets/base",
            "_model_module_version": "1.2.0",
            "_model_name": "LayoutModel",
            "_view_count": null,
            "_view_module": "@jupyter-widgets/base",
            "_view_module_version": "1.2.0",
            "_view_name": "LayoutView",
            "align_content": null,
            "align_items": null,
            "align_self": null,
            "border": null,
            "bottom": null,
            "display": null,
            "flex": null,
            "flex_flow": null,
            "grid_area": null,
            "grid_auto_columns": null,
            "grid_auto_flow": null,
            "grid_auto_rows": null,
            "grid_column": null,
            "grid_gap": null,
            "grid_row": null,
            "grid_template_areas": null,
            "grid_template_columns": null,
            "grid_template_rows": null,
            "height": null,
            "justify_content": null,
            "justify_items": null,
            "left": null,
            "margin": null,
            "max_height": null,
            "max_width": null,
            "min_height": null,
            "min_width": null,
            "object_fit": null,
            "object_position": null,
            "order": null,
            "overflow": null,
            "overflow_x": null,
            "overflow_y": null,
            "padding": null,
            "right": null,
            "top": null,
            "visibility": null,
            "width": null
          }
        },
        "81683c17cee2459eb5405dcbd87c0a10": {
          "model_module": "@jupyter-widgets/base",
          "model_name": "LayoutModel",
          "model_module_version": "1.2.0",
          "state": {
            "_model_module": "@jupyter-widgets/base",
            "_model_module_version": "1.2.0",
            "_model_name": "LayoutModel",
            "_view_count": null,
            "_view_module": "@jupyter-widgets/base",
            "_view_module_version": "1.2.0",
            "_view_name": "LayoutView",
            "align_content": null,
            "align_items": null,
            "align_self": null,
            "border": null,
            "bottom": null,
            "display": null,
            "flex": null,
            "flex_flow": null,
            "grid_area": null,
            "grid_auto_columns": null,
            "grid_auto_flow": null,
            "grid_auto_rows": null,
            "grid_column": null,
            "grid_gap": null,
            "grid_row": null,
            "grid_template_areas": null,
            "grid_template_columns": null,
            "grid_template_rows": null,
            "height": null,
            "justify_content": null,
            "justify_items": null,
            "left": null,
            "margin": null,
            "max_height": null,
            "max_width": null,
            "min_height": null,
            "min_width": null,
            "object_fit": null,
            "object_position": null,
            "order": null,
            "overflow": null,
            "overflow_x": null,
            "overflow_y": null,
            "padding": null,
            "right": null,
            "top": null,
            "visibility": null,
            "width": null
          }
        },
        "5bdef548941040c098a20e1621b11574": {
          "model_module": "@jupyter-widgets/controls",
          "model_name": "DescriptionStyleModel",
          "model_module_version": "1.5.0",
          "state": {
            "_model_module": "@jupyter-widgets/controls",
            "_model_module_version": "1.5.0",
            "_model_name": "DescriptionStyleModel",
            "_view_count": null,
            "_view_module": "@jupyter-widgets/base",
            "_view_module_version": "1.2.0",
            "_view_name": "StyleView",
            "description_width": ""
          }
        },
        "e6eaa698bc1a4ad2afcf5c657dc3c606": {
          "model_module": "@jupyter-widgets/base",
          "model_name": "LayoutModel",
          "model_module_version": "1.2.0",
          "state": {
            "_model_module": "@jupyter-widgets/base",
            "_model_module_version": "1.2.0",
            "_model_name": "LayoutModel",
            "_view_count": null,
            "_view_module": "@jupyter-widgets/base",
            "_view_module_version": "1.2.0",
            "_view_name": "LayoutView",
            "align_content": null,
            "align_items": null,
            "align_self": null,
            "border": null,
            "bottom": null,
            "display": null,
            "flex": null,
            "flex_flow": null,
            "grid_area": null,
            "grid_auto_columns": null,
            "grid_auto_flow": null,
            "grid_auto_rows": null,
            "grid_column": null,
            "grid_gap": null,
            "grid_row": null,
            "grid_template_areas": null,
            "grid_template_columns": null,
            "grid_template_rows": null,
            "height": null,
            "justify_content": null,
            "justify_items": null,
            "left": null,
            "margin": null,
            "max_height": null,
            "max_width": null,
            "min_height": null,
            "min_width": null,
            "object_fit": null,
            "object_position": null,
            "order": null,
            "overflow": null,
            "overflow_x": null,
            "overflow_y": null,
            "padding": null,
            "right": null,
            "top": null,
            "visibility": null,
            "width": null
          }
        },
        "863dd9fb70174e43b1c8395c88179791": {
          "model_module": "@jupyter-widgets/controls",
          "model_name": "ProgressStyleModel",
          "model_module_version": "1.5.0",
          "state": {
            "_model_module": "@jupyter-widgets/controls",
            "_model_module_version": "1.5.0",
            "_model_name": "ProgressStyleModel",
            "_view_count": null,
            "_view_module": "@jupyter-widgets/base",
            "_view_module_version": "1.2.0",
            "_view_name": "StyleView",
            "bar_color": null,
            "description_width": ""
          }
        },
        "7773c270dd9848ba8246bf993c17bc71": {
          "model_module": "@jupyter-widgets/base",
          "model_name": "LayoutModel",
          "model_module_version": "1.2.0",
          "state": {
            "_model_module": "@jupyter-widgets/base",
            "_model_module_version": "1.2.0",
            "_model_name": "LayoutModel",
            "_view_count": null,
            "_view_module": "@jupyter-widgets/base",
            "_view_module_version": "1.2.0",
            "_view_name": "LayoutView",
            "align_content": null,
            "align_items": null,
            "align_self": null,
            "border": null,
            "bottom": null,
            "display": null,
            "flex": null,
            "flex_flow": null,
            "grid_area": null,
            "grid_auto_columns": null,
            "grid_auto_flow": null,
            "grid_auto_rows": null,
            "grid_column": null,
            "grid_gap": null,
            "grid_row": null,
            "grid_template_areas": null,
            "grid_template_columns": null,
            "grid_template_rows": null,
            "height": null,
            "justify_content": null,
            "justify_items": null,
            "left": null,
            "margin": null,
            "max_height": null,
            "max_width": null,
            "min_height": null,
            "min_width": null,
            "object_fit": null,
            "object_position": null,
            "order": null,
            "overflow": null,
            "overflow_x": null,
            "overflow_y": null,
            "padding": null,
            "right": null,
            "top": null,
            "visibility": null,
            "width": null
          }
        },
        "f9742d5eeb194d6f87479228a4aeea84": {
          "model_module": "@jupyter-widgets/controls",
          "model_name": "DescriptionStyleModel",
          "model_module_version": "1.5.0",
          "state": {
            "_model_module": "@jupyter-widgets/controls",
            "_model_module_version": "1.5.0",
            "_model_name": "DescriptionStyleModel",
            "_view_count": null,
            "_view_module": "@jupyter-widgets/base",
            "_view_module_version": "1.2.0",
            "_view_name": "StyleView",
            "description_width": ""
          }
        },
        "36438a6c36494afeb8fddecfc957be3f": {
          "model_module": "@jupyter-widgets/controls",
          "model_name": "HBoxModel",
          "model_module_version": "1.5.0",
          "state": {
            "_dom_classes": [],
            "_model_module": "@jupyter-widgets/controls",
            "_model_module_version": "1.5.0",
            "_model_name": "HBoxModel",
            "_view_count": null,
            "_view_module": "@jupyter-widgets/controls",
            "_view_module_version": "1.5.0",
            "_view_name": "HBoxView",
            "box_style": "",
            "children": [
              "IPY_MODEL_6e2dbf2b8bbf4010b2dbab854e9f92e7",
              "IPY_MODEL_b2d458bb789c40869e724fb9efa4ec7c",
              "IPY_MODEL_703e1ef80bf949048527e3fb9b81883b"
            ],
            "layout": "IPY_MODEL_e9a7a65bf2434323a181361aaef914ec"
          }
        },
        "6e2dbf2b8bbf4010b2dbab854e9f92e7": {
          "model_module": "@jupyter-widgets/controls",
          "model_name": "HTMLModel",
          "model_module_version": "1.5.0",
          "state": {
            "_dom_classes": [],
            "_model_module": "@jupyter-widgets/controls",
            "_model_module_version": "1.5.0",
            "_model_name": "HTMLModel",
            "_view_count": null,
            "_view_module": "@jupyter-widgets/controls",
            "_view_module_version": "1.5.0",
            "_view_name": "HTMLView",
            "description": "",
            "description_tooltip": null,
            "layout": "IPY_MODEL_6ba538b22ab74777a9418d8c7c657eae",
            "placeholder": "​",
            "style": "IPY_MODEL_32104ad6298346e7a695753092b07fac",
            "value": "Generating train split: 100%"
          }
        },
        "b2d458bb789c40869e724fb9efa4ec7c": {
          "model_module": "@jupyter-widgets/controls",
          "model_name": "FloatProgressModel",
          "model_module_version": "1.5.0",
          "state": {
            "_dom_classes": [],
            "_model_module": "@jupyter-widgets/controls",
            "_model_module_version": "1.5.0",
            "_model_name": "FloatProgressModel",
            "_view_count": null,
            "_view_module": "@jupyter-widgets/controls",
            "_view_module_version": "1.5.0",
            "_view_name": "ProgressView",
            "bar_style": "success",
            "description": "",
            "description_tooltip": null,
            "layout": "IPY_MODEL_50911ec4d5b942dca4ce90557ff7a999",
            "max": 14041,
            "min": 0,
            "orientation": "horizontal",
            "style": "IPY_MODEL_bd3ebc726b3d40bcb700c20545de2618",
            "value": 14041
          }
        },
        "703e1ef80bf949048527e3fb9b81883b": {
          "model_module": "@jupyter-widgets/controls",
          "model_name": "HTMLModel",
          "model_module_version": "1.5.0",
          "state": {
            "_dom_classes": [],
            "_model_module": "@jupyter-widgets/controls",
            "_model_module_version": "1.5.0",
            "_model_name": "HTMLModel",
            "_view_count": null,
            "_view_module": "@jupyter-widgets/controls",
            "_view_module_version": "1.5.0",
            "_view_name": "HTMLView",
            "description": "",
            "description_tooltip": null,
            "layout": "IPY_MODEL_141f774db3464c7494e1c819ab8466aa",
            "placeholder": "​",
            "style": "IPY_MODEL_92f66bbce42541e3aae48a58ded6d013",
            "value": " 14041/14041 [00:00&lt;00:00, 107746.16 examples/s]"
          }
        },
        "e9a7a65bf2434323a181361aaef914ec": {
          "model_module": "@jupyter-widgets/base",
          "model_name": "LayoutModel",
          "model_module_version": "1.2.0",
          "state": {
            "_model_module": "@jupyter-widgets/base",
            "_model_module_version": "1.2.0",
            "_model_name": "LayoutModel",
            "_view_count": null,
            "_view_module": "@jupyter-widgets/base",
            "_view_module_version": "1.2.0",
            "_view_name": "LayoutView",
            "align_content": null,
            "align_items": null,
            "align_self": null,
            "border": null,
            "bottom": null,
            "display": null,
            "flex": null,
            "flex_flow": null,
            "grid_area": null,
            "grid_auto_columns": null,
            "grid_auto_flow": null,
            "grid_auto_rows": null,
            "grid_column": null,
            "grid_gap": null,
            "grid_row": null,
            "grid_template_areas": null,
            "grid_template_columns": null,
            "grid_template_rows": null,
            "height": null,
            "justify_content": null,
            "justify_items": null,
            "left": null,
            "margin": null,
            "max_height": null,
            "max_width": null,
            "min_height": null,
            "min_width": null,
            "object_fit": null,
            "object_position": null,
            "order": null,
            "overflow": null,
            "overflow_x": null,
            "overflow_y": null,
            "padding": null,
            "right": null,
            "top": null,
            "visibility": null,
            "width": null
          }
        },
        "6ba538b22ab74777a9418d8c7c657eae": {
          "model_module": "@jupyter-widgets/base",
          "model_name": "LayoutModel",
          "model_module_version": "1.2.0",
          "state": {
            "_model_module": "@jupyter-widgets/base",
            "_model_module_version": "1.2.0",
            "_model_name": "LayoutModel",
            "_view_count": null,
            "_view_module": "@jupyter-widgets/base",
            "_view_module_version": "1.2.0",
            "_view_name": "LayoutView",
            "align_content": null,
            "align_items": null,
            "align_self": null,
            "border": null,
            "bottom": null,
            "display": null,
            "flex": null,
            "flex_flow": null,
            "grid_area": null,
            "grid_auto_columns": null,
            "grid_auto_flow": null,
            "grid_auto_rows": null,
            "grid_column": null,
            "grid_gap": null,
            "grid_row": null,
            "grid_template_areas": null,
            "grid_template_columns": null,
            "grid_template_rows": null,
            "height": null,
            "justify_content": null,
            "justify_items": null,
            "left": null,
            "margin": null,
            "max_height": null,
            "max_width": null,
            "min_height": null,
            "min_width": null,
            "object_fit": null,
            "object_position": null,
            "order": null,
            "overflow": null,
            "overflow_x": null,
            "overflow_y": null,
            "padding": null,
            "right": null,
            "top": null,
            "visibility": null,
            "width": null
          }
        },
        "32104ad6298346e7a695753092b07fac": {
          "model_module": "@jupyter-widgets/controls",
          "model_name": "DescriptionStyleModel",
          "model_module_version": "1.5.0",
          "state": {
            "_model_module": "@jupyter-widgets/controls",
            "_model_module_version": "1.5.0",
            "_model_name": "DescriptionStyleModel",
            "_view_count": null,
            "_view_module": "@jupyter-widgets/base",
            "_view_module_version": "1.2.0",
            "_view_name": "StyleView",
            "description_width": ""
          }
        },
        "50911ec4d5b942dca4ce90557ff7a999": {
          "model_module": "@jupyter-widgets/base",
          "model_name": "LayoutModel",
          "model_module_version": "1.2.0",
          "state": {
            "_model_module": "@jupyter-widgets/base",
            "_model_module_version": "1.2.0",
            "_model_name": "LayoutModel",
            "_view_count": null,
            "_view_module": "@jupyter-widgets/base",
            "_view_module_version": "1.2.0",
            "_view_name": "LayoutView",
            "align_content": null,
            "align_items": null,
            "align_self": null,
            "border": null,
            "bottom": null,
            "display": null,
            "flex": null,
            "flex_flow": null,
            "grid_area": null,
            "grid_auto_columns": null,
            "grid_auto_flow": null,
            "grid_auto_rows": null,
            "grid_column": null,
            "grid_gap": null,
            "grid_row": null,
            "grid_template_areas": null,
            "grid_template_columns": null,
            "grid_template_rows": null,
            "height": null,
            "justify_content": null,
            "justify_items": null,
            "left": null,
            "margin": null,
            "max_height": null,
            "max_width": null,
            "min_height": null,
            "min_width": null,
            "object_fit": null,
            "object_position": null,
            "order": null,
            "overflow": null,
            "overflow_x": null,
            "overflow_y": null,
            "padding": null,
            "right": null,
            "top": null,
            "visibility": null,
            "width": null
          }
        },
        "bd3ebc726b3d40bcb700c20545de2618": {
          "model_module": "@jupyter-widgets/controls",
          "model_name": "ProgressStyleModel",
          "model_module_version": "1.5.0",
          "state": {
            "_model_module": "@jupyter-widgets/controls",
            "_model_module_version": "1.5.0",
            "_model_name": "ProgressStyleModel",
            "_view_count": null,
            "_view_module": "@jupyter-widgets/base",
            "_view_module_version": "1.2.0",
            "_view_name": "StyleView",
            "bar_color": null,
            "description_width": ""
          }
        },
        "141f774db3464c7494e1c819ab8466aa": {
          "model_module": "@jupyter-widgets/base",
          "model_name": "LayoutModel",
          "model_module_version": "1.2.0",
          "state": {
            "_model_module": "@jupyter-widgets/base",
            "_model_module_version": "1.2.0",
            "_model_name": "LayoutModel",
            "_view_count": null,
            "_view_module": "@jupyter-widgets/base",
            "_view_module_version": "1.2.0",
            "_view_name": "LayoutView",
            "align_content": null,
            "align_items": null,
            "align_self": null,
            "border": null,
            "bottom": null,
            "display": null,
            "flex": null,
            "flex_flow": null,
            "grid_area": null,
            "grid_auto_columns": null,
            "grid_auto_flow": null,
            "grid_auto_rows": null,
            "grid_column": null,
            "grid_gap": null,
            "grid_row": null,
            "grid_template_areas": null,
            "grid_template_columns": null,
            "grid_template_rows": null,
            "height": null,
            "justify_content": null,
            "justify_items": null,
            "left": null,
            "margin": null,
            "max_height": null,
            "max_width": null,
            "min_height": null,
            "min_width": null,
            "object_fit": null,
            "object_position": null,
            "order": null,
            "overflow": null,
            "overflow_x": null,
            "overflow_y": null,
            "padding": null,
            "right": null,
            "top": null,
            "visibility": null,
            "width": null
          }
        },
        "92f66bbce42541e3aae48a58ded6d013": {
          "model_module": "@jupyter-widgets/controls",
          "model_name": "DescriptionStyleModel",
          "model_module_version": "1.5.0",
          "state": {
            "_model_module": "@jupyter-widgets/controls",
            "_model_module_version": "1.5.0",
            "_model_name": "DescriptionStyleModel",
            "_view_count": null,
            "_view_module": "@jupyter-widgets/base",
            "_view_module_version": "1.2.0",
            "_view_name": "StyleView",
            "description_width": ""
          }
        },
        "b41b2fc8a89f4433ab86a6401fb30950": {
          "model_module": "@jupyter-widgets/controls",
          "model_name": "HBoxModel",
          "model_module_version": "1.5.0",
          "state": {
            "_dom_classes": [],
            "_model_module": "@jupyter-widgets/controls",
            "_model_module_version": "1.5.0",
            "_model_name": "HBoxModel",
            "_view_count": null,
            "_view_module": "@jupyter-widgets/controls",
            "_view_module_version": "1.5.0",
            "_view_name": "HBoxView",
            "box_style": "",
            "children": [
              "IPY_MODEL_3a4d0bd386f24824914594ec6d3b22d3",
              "IPY_MODEL_43b89e33b102442ba8f642bc391ee22f",
              "IPY_MODEL_5e4b986ffefc40bfa9c4390c922b0706"
            ],
            "layout": "IPY_MODEL_ef8bf6cec0954f709e83458dd31a9653"
          }
        },
        "3a4d0bd386f24824914594ec6d3b22d3": {
          "model_module": "@jupyter-widgets/controls",
          "model_name": "HTMLModel",
          "model_module_version": "1.5.0",
          "state": {
            "_dom_classes": [],
            "_model_module": "@jupyter-widgets/controls",
            "_model_module_version": "1.5.0",
            "_model_name": "HTMLModel",
            "_view_count": null,
            "_view_module": "@jupyter-widgets/controls",
            "_view_module_version": "1.5.0",
            "_view_name": "HTMLView",
            "description": "",
            "description_tooltip": null,
            "layout": "IPY_MODEL_7fe4570a86dc450082398c4dac562450",
            "placeholder": "​",
            "style": "IPY_MODEL_bb2fdfc5aec94a7fb7a8a74ec0360f84",
            "value": "Generating validation split: 100%"
          }
        },
        "43b89e33b102442ba8f642bc391ee22f": {
          "model_module": "@jupyter-widgets/controls",
          "model_name": "FloatProgressModel",
          "model_module_version": "1.5.0",
          "state": {
            "_dom_classes": [],
            "_model_module": "@jupyter-widgets/controls",
            "_model_module_version": "1.5.0",
            "_model_name": "FloatProgressModel",
            "_view_count": null,
            "_view_module": "@jupyter-widgets/controls",
            "_view_module_version": "1.5.0",
            "_view_name": "ProgressView",
            "bar_style": "success",
            "description": "",
            "description_tooltip": null,
            "layout": "IPY_MODEL_431e70bf3a5b4cd3b6a6d9f97698a67c",
            "max": 3250,
            "min": 0,
            "orientation": "horizontal",
            "style": "IPY_MODEL_f8537095b56744a988642b9f086b4be6",
            "value": 3250
          }
        },
        "5e4b986ffefc40bfa9c4390c922b0706": {
          "model_module": "@jupyter-widgets/controls",
          "model_name": "HTMLModel",
          "model_module_version": "1.5.0",
          "state": {
            "_dom_classes": [],
            "_model_module": "@jupyter-widgets/controls",
            "_model_module_version": "1.5.0",
            "_model_name": "HTMLModel",
            "_view_count": null,
            "_view_module": "@jupyter-widgets/controls",
            "_view_module_version": "1.5.0",
            "_view_name": "HTMLView",
            "description": "",
            "description_tooltip": null,
            "layout": "IPY_MODEL_52b40d2182c34604aac7e60a1a29ded5",
            "placeholder": "​",
            "style": "IPY_MODEL_c5231331b99e4c4e8b96b61507142ebe",
            "value": " 3250/3250 [00:00&lt;00:00, 50291.23 examples/s]"
          }
        },
        "ef8bf6cec0954f709e83458dd31a9653": {
          "model_module": "@jupyter-widgets/base",
          "model_name": "LayoutModel",
          "model_module_version": "1.2.0",
          "state": {
            "_model_module": "@jupyter-widgets/base",
            "_model_module_version": "1.2.0",
            "_model_name": "LayoutModel",
            "_view_count": null,
            "_view_module": "@jupyter-widgets/base",
            "_view_module_version": "1.2.0",
            "_view_name": "LayoutView",
            "align_content": null,
            "align_items": null,
            "align_self": null,
            "border": null,
            "bottom": null,
            "display": null,
            "flex": null,
            "flex_flow": null,
            "grid_area": null,
            "grid_auto_columns": null,
            "grid_auto_flow": null,
            "grid_auto_rows": null,
            "grid_column": null,
            "grid_gap": null,
            "grid_row": null,
            "grid_template_areas": null,
            "grid_template_columns": null,
            "grid_template_rows": null,
            "height": null,
            "justify_content": null,
            "justify_items": null,
            "left": null,
            "margin": null,
            "max_height": null,
            "max_width": null,
            "min_height": null,
            "min_width": null,
            "object_fit": null,
            "object_position": null,
            "order": null,
            "overflow": null,
            "overflow_x": null,
            "overflow_y": null,
            "padding": null,
            "right": null,
            "top": null,
            "visibility": null,
            "width": null
          }
        },
        "7fe4570a86dc450082398c4dac562450": {
          "model_module": "@jupyter-widgets/base",
          "model_name": "LayoutModel",
          "model_module_version": "1.2.0",
          "state": {
            "_model_module": "@jupyter-widgets/base",
            "_model_module_version": "1.2.0",
            "_model_name": "LayoutModel",
            "_view_count": null,
            "_view_module": "@jupyter-widgets/base",
            "_view_module_version": "1.2.0",
            "_view_name": "LayoutView",
            "align_content": null,
            "align_items": null,
            "align_self": null,
            "border": null,
            "bottom": null,
            "display": null,
            "flex": null,
            "flex_flow": null,
            "grid_area": null,
            "grid_auto_columns": null,
            "grid_auto_flow": null,
            "grid_auto_rows": null,
            "grid_column": null,
            "grid_gap": null,
            "grid_row": null,
            "grid_template_areas": null,
            "grid_template_columns": null,
            "grid_template_rows": null,
            "height": null,
            "justify_content": null,
            "justify_items": null,
            "left": null,
            "margin": null,
            "max_height": null,
            "max_width": null,
            "min_height": null,
            "min_width": null,
            "object_fit": null,
            "object_position": null,
            "order": null,
            "overflow": null,
            "overflow_x": null,
            "overflow_y": null,
            "padding": null,
            "right": null,
            "top": null,
            "visibility": null,
            "width": null
          }
        },
        "bb2fdfc5aec94a7fb7a8a74ec0360f84": {
          "model_module": "@jupyter-widgets/controls",
          "model_name": "DescriptionStyleModel",
          "model_module_version": "1.5.0",
          "state": {
            "_model_module": "@jupyter-widgets/controls",
            "_model_module_version": "1.5.0",
            "_model_name": "DescriptionStyleModel",
            "_view_count": null,
            "_view_module": "@jupyter-widgets/base",
            "_view_module_version": "1.2.0",
            "_view_name": "StyleView",
            "description_width": ""
          }
        },
        "431e70bf3a5b4cd3b6a6d9f97698a67c": {
          "model_module": "@jupyter-widgets/base",
          "model_name": "LayoutModel",
          "model_module_version": "1.2.0",
          "state": {
            "_model_module": "@jupyter-widgets/base",
            "_model_module_version": "1.2.0",
            "_model_name": "LayoutModel",
            "_view_count": null,
            "_view_module": "@jupyter-widgets/base",
            "_view_module_version": "1.2.0",
            "_view_name": "LayoutView",
            "align_content": null,
            "align_items": null,
            "align_self": null,
            "border": null,
            "bottom": null,
            "display": null,
            "flex": null,
            "flex_flow": null,
            "grid_area": null,
            "grid_auto_columns": null,
            "grid_auto_flow": null,
            "grid_auto_rows": null,
            "grid_column": null,
            "grid_gap": null,
            "grid_row": null,
            "grid_template_areas": null,
            "grid_template_columns": null,
            "grid_template_rows": null,
            "height": null,
            "justify_content": null,
            "justify_items": null,
            "left": null,
            "margin": null,
            "max_height": null,
            "max_width": null,
            "min_height": null,
            "min_width": null,
            "object_fit": null,
            "object_position": null,
            "order": null,
            "overflow": null,
            "overflow_x": null,
            "overflow_y": null,
            "padding": null,
            "right": null,
            "top": null,
            "visibility": null,
            "width": null
          }
        },
        "f8537095b56744a988642b9f086b4be6": {
          "model_module": "@jupyter-widgets/controls",
          "model_name": "ProgressStyleModel",
          "model_module_version": "1.5.0",
          "state": {
            "_model_module": "@jupyter-widgets/controls",
            "_model_module_version": "1.5.0",
            "_model_name": "ProgressStyleModel",
            "_view_count": null,
            "_view_module": "@jupyter-widgets/base",
            "_view_module_version": "1.2.0",
            "_view_name": "StyleView",
            "bar_color": null,
            "description_width": ""
          }
        },
        "52b40d2182c34604aac7e60a1a29ded5": {
          "model_module": "@jupyter-widgets/base",
          "model_name": "LayoutModel",
          "model_module_version": "1.2.0",
          "state": {
            "_model_module": "@jupyter-widgets/base",
            "_model_module_version": "1.2.0",
            "_model_name": "LayoutModel",
            "_view_count": null,
            "_view_module": "@jupyter-widgets/base",
            "_view_module_version": "1.2.0",
            "_view_name": "LayoutView",
            "align_content": null,
            "align_items": null,
            "align_self": null,
            "border": null,
            "bottom": null,
            "display": null,
            "flex": null,
            "flex_flow": null,
            "grid_area": null,
            "grid_auto_columns": null,
            "grid_auto_flow": null,
            "grid_auto_rows": null,
            "grid_column": null,
            "grid_gap": null,
            "grid_row": null,
            "grid_template_areas": null,
            "grid_template_columns": null,
            "grid_template_rows": null,
            "height": null,
            "justify_content": null,
            "justify_items": null,
            "left": null,
            "margin": null,
            "max_height": null,
            "max_width": null,
            "min_height": null,
            "min_width": null,
            "object_fit": null,
            "object_position": null,
            "order": null,
            "overflow": null,
            "overflow_x": null,
            "overflow_y": null,
            "padding": null,
            "right": null,
            "top": null,
            "visibility": null,
            "width": null
          }
        },
        "c5231331b99e4c4e8b96b61507142ebe": {
          "model_module": "@jupyter-widgets/controls",
          "model_name": "DescriptionStyleModel",
          "model_module_version": "1.5.0",
          "state": {
            "_model_module": "@jupyter-widgets/controls",
            "_model_module_version": "1.5.0",
            "_model_name": "DescriptionStyleModel",
            "_view_count": null,
            "_view_module": "@jupyter-widgets/base",
            "_view_module_version": "1.2.0",
            "_view_name": "StyleView",
            "description_width": ""
          }
        },
        "cb526db9a58b4c18b138c826b765c983": {
          "model_module": "@jupyter-widgets/controls",
          "model_name": "HBoxModel",
          "model_module_version": "1.5.0",
          "state": {
            "_dom_classes": [],
            "_model_module": "@jupyter-widgets/controls",
            "_model_module_version": "1.5.0",
            "_model_name": "HBoxModel",
            "_view_count": null,
            "_view_module": "@jupyter-widgets/controls",
            "_view_module_version": "1.5.0",
            "_view_name": "HBoxView",
            "box_style": "",
            "children": [
              "IPY_MODEL_4423a5658de14c63b403d39636e1b452",
              "IPY_MODEL_7b4f414bf37345d78e42663fe9ecbf5d",
              "IPY_MODEL_e0f78e8ac27c466f9d46102e22a4246e"
            ],
            "layout": "IPY_MODEL_97c7d7e44d1543d8a08f5092adff666f"
          }
        },
        "4423a5658de14c63b403d39636e1b452": {
          "model_module": "@jupyter-widgets/controls",
          "model_name": "HTMLModel",
          "model_module_version": "1.5.0",
          "state": {
            "_dom_classes": [],
            "_model_module": "@jupyter-widgets/controls",
            "_model_module_version": "1.5.0",
            "_model_name": "HTMLModel",
            "_view_count": null,
            "_view_module": "@jupyter-widgets/controls",
            "_view_module_version": "1.5.0",
            "_view_name": "HTMLView",
            "description": "",
            "description_tooltip": null,
            "layout": "IPY_MODEL_1461ada8ffc249919fc386e8f927c9ae",
            "placeholder": "​",
            "style": "IPY_MODEL_fea3263516db43e3a1caa8ff135ccf2e",
            "value": "Generating test split: 100%"
          }
        },
        "7b4f414bf37345d78e42663fe9ecbf5d": {
          "model_module": "@jupyter-widgets/controls",
          "model_name": "FloatProgressModel",
          "model_module_version": "1.5.0",
          "state": {
            "_dom_classes": [],
            "_model_module": "@jupyter-widgets/controls",
            "_model_module_version": "1.5.0",
            "_model_name": "FloatProgressModel",
            "_view_count": null,
            "_view_module": "@jupyter-widgets/controls",
            "_view_module_version": "1.5.0",
            "_view_name": "ProgressView",
            "bar_style": "success",
            "description": "",
            "description_tooltip": null,
            "layout": "IPY_MODEL_ea155591831f42c098bc18c234e132b0",
            "max": 3453,
            "min": 0,
            "orientation": "horizontal",
            "style": "IPY_MODEL_a69be7a142294d70ba96c21695be944c",
            "value": 3453
          }
        },
        "e0f78e8ac27c466f9d46102e22a4246e": {
          "model_module": "@jupyter-widgets/controls",
          "model_name": "HTMLModel",
          "model_module_version": "1.5.0",
          "state": {
            "_dom_classes": [],
            "_model_module": "@jupyter-widgets/controls",
            "_model_module_version": "1.5.0",
            "_model_name": "HTMLModel",
            "_view_count": null,
            "_view_module": "@jupyter-widgets/controls",
            "_view_module_version": "1.5.0",
            "_view_name": "HTMLView",
            "description": "",
            "description_tooltip": null,
            "layout": "IPY_MODEL_d3d21c59c6544204af8eb9c829f42d69",
            "placeholder": "​",
            "style": "IPY_MODEL_0809161a39cc457393735f0896ef1a7b",
            "value": " 3453/3453 [00:00&lt;00:00, 51095.73 examples/s]"
          }
        },
        "97c7d7e44d1543d8a08f5092adff666f": {
          "model_module": "@jupyter-widgets/base",
          "model_name": "LayoutModel",
          "model_module_version": "1.2.0",
          "state": {
            "_model_module": "@jupyter-widgets/base",
            "_model_module_version": "1.2.0",
            "_model_name": "LayoutModel",
            "_view_count": null,
            "_view_module": "@jupyter-widgets/base",
            "_view_module_version": "1.2.0",
            "_view_name": "LayoutView",
            "align_content": null,
            "align_items": null,
            "align_self": null,
            "border": null,
            "bottom": null,
            "display": null,
            "flex": null,
            "flex_flow": null,
            "grid_area": null,
            "grid_auto_columns": null,
            "grid_auto_flow": null,
            "grid_auto_rows": null,
            "grid_column": null,
            "grid_gap": null,
            "grid_row": null,
            "grid_template_areas": null,
            "grid_template_columns": null,
            "grid_template_rows": null,
            "height": null,
            "justify_content": null,
            "justify_items": null,
            "left": null,
            "margin": null,
            "max_height": null,
            "max_width": null,
            "min_height": null,
            "min_width": null,
            "object_fit": null,
            "object_position": null,
            "order": null,
            "overflow": null,
            "overflow_x": null,
            "overflow_y": null,
            "padding": null,
            "right": null,
            "top": null,
            "visibility": null,
            "width": null
          }
        },
        "1461ada8ffc249919fc386e8f927c9ae": {
          "model_module": "@jupyter-widgets/base",
          "model_name": "LayoutModel",
          "model_module_version": "1.2.0",
          "state": {
            "_model_module": "@jupyter-widgets/base",
            "_model_module_version": "1.2.0",
            "_model_name": "LayoutModel",
            "_view_count": null,
            "_view_module": "@jupyter-widgets/base",
            "_view_module_version": "1.2.0",
            "_view_name": "LayoutView",
            "align_content": null,
            "align_items": null,
            "align_self": null,
            "border": null,
            "bottom": null,
            "display": null,
            "flex": null,
            "flex_flow": null,
            "grid_area": null,
            "grid_auto_columns": null,
            "grid_auto_flow": null,
            "grid_auto_rows": null,
            "grid_column": null,
            "grid_gap": null,
            "grid_row": null,
            "grid_template_areas": null,
            "grid_template_columns": null,
            "grid_template_rows": null,
            "height": null,
            "justify_content": null,
            "justify_items": null,
            "left": null,
            "margin": null,
            "max_height": null,
            "max_width": null,
            "min_height": null,
            "min_width": null,
            "object_fit": null,
            "object_position": null,
            "order": null,
            "overflow": null,
            "overflow_x": null,
            "overflow_y": null,
            "padding": null,
            "right": null,
            "top": null,
            "visibility": null,
            "width": null
          }
        },
        "fea3263516db43e3a1caa8ff135ccf2e": {
          "model_module": "@jupyter-widgets/controls",
          "model_name": "DescriptionStyleModel",
          "model_module_version": "1.5.0",
          "state": {
            "_model_module": "@jupyter-widgets/controls",
            "_model_module_version": "1.5.0",
            "_model_name": "DescriptionStyleModel",
            "_view_count": null,
            "_view_module": "@jupyter-widgets/base",
            "_view_module_version": "1.2.0",
            "_view_name": "StyleView",
            "description_width": ""
          }
        },
        "ea155591831f42c098bc18c234e132b0": {
          "model_module": "@jupyter-widgets/base",
          "model_name": "LayoutModel",
          "model_module_version": "1.2.0",
          "state": {
            "_model_module": "@jupyter-widgets/base",
            "_model_module_version": "1.2.0",
            "_model_name": "LayoutModel",
            "_view_count": null,
            "_view_module": "@jupyter-widgets/base",
            "_view_module_version": "1.2.0",
            "_view_name": "LayoutView",
            "align_content": null,
            "align_items": null,
            "align_self": null,
            "border": null,
            "bottom": null,
            "display": null,
            "flex": null,
            "flex_flow": null,
            "grid_area": null,
            "grid_auto_columns": null,
            "grid_auto_flow": null,
            "grid_auto_rows": null,
            "grid_column": null,
            "grid_gap": null,
            "grid_row": null,
            "grid_template_areas": null,
            "grid_template_columns": null,
            "grid_template_rows": null,
            "height": null,
            "justify_content": null,
            "justify_items": null,
            "left": null,
            "margin": null,
            "max_height": null,
            "max_width": null,
            "min_height": null,
            "min_width": null,
            "object_fit": null,
            "object_position": null,
            "order": null,
            "overflow": null,
            "overflow_x": null,
            "overflow_y": null,
            "padding": null,
            "right": null,
            "top": null,
            "visibility": null,
            "width": null
          }
        },
        "a69be7a142294d70ba96c21695be944c": {
          "model_module": "@jupyter-widgets/controls",
          "model_name": "ProgressStyleModel",
          "model_module_version": "1.5.0",
          "state": {
            "_model_module": "@jupyter-widgets/controls",
            "_model_module_version": "1.5.0",
            "_model_name": "ProgressStyleModel",
            "_view_count": null,
            "_view_module": "@jupyter-widgets/base",
            "_view_module_version": "1.2.0",
            "_view_name": "StyleView",
            "bar_color": null,
            "description_width": ""
          }
        },
        "d3d21c59c6544204af8eb9c829f42d69": {
          "model_module": "@jupyter-widgets/base",
          "model_name": "LayoutModel",
          "model_module_version": "1.2.0",
          "state": {
            "_model_module": "@jupyter-widgets/base",
            "_model_module_version": "1.2.0",
            "_model_name": "LayoutModel",
            "_view_count": null,
            "_view_module": "@jupyter-widgets/base",
            "_view_module_version": "1.2.0",
            "_view_name": "LayoutView",
            "align_content": null,
            "align_items": null,
            "align_self": null,
            "border": null,
            "bottom": null,
            "display": null,
            "flex": null,
            "flex_flow": null,
            "grid_area": null,
            "grid_auto_columns": null,
            "grid_auto_flow": null,
            "grid_auto_rows": null,
            "grid_column": null,
            "grid_gap": null,
            "grid_row": null,
            "grid_template_areas": null,
            "grid_template_columns": null,
            "grid_template_rows": null,
            "height": null,
            "justify_content": null,
            "justify_items": null,
            "left": null,
            "margin": null,
            "max_height": null,
            "max_width": null,
            "min_height": null,
            "min_width": null,
            "object_fit": null,
            "object_position": null,
            "order": null,
            "overflow": null,
            "overflow_x": null,
            "overflow_y": null,
            "padding": null,
            "right": null,
            "top": null,
            "visibility": null,
            "width": null
          }
        },
        "0809161a39cc457393735f0896ef1a7b": {
          "model_module": "@jupyter-widgets/controls",
          "model_name": "DescriptionStyleModel",
          "model_module_version": "1.5.0",
          "state": {
            "_model_module": "@jupyter-widgets/controls",
            "_model_module_version": "1.5.0",
            "_model_name": "DescriptionStyleModel",
            "_view_count": null,
            "_view_module": "@jupyter-widgets/base",
            "_view_module_version": "1.2.0",
            "_view_name": "StyleView",
            "description_width": ""
          }
        },
        "6a5bd569666f4206821e66d48fc23ccb": {
          "model_module": "@jupyter-widgets/controls",
          "model_name": "HBoxModel",
          "model_module_version": "1.5.0",
          "state": {
            "_dom_classes": [],
            "_model_module": "@jupyter-widgets/controls",
            "_model_module_version": "1.5.0",
            "_model_name": "HBoxModel",
            "_view_count": null,
            "_view_module": "@jupyter-widgets/controls",
            "_view_module_version": "1.5.0",
            "_view_name": "HBoxView",
            "box_style": "",
            "children": [
              "IPY_MODEL_18d4fc4d0bea48109a2fe8361fa369a0",
              "IPY_MODEL_cd8dce8104764d24aed4b0e540af3b7d",
              "IPY_MODEL_dc370843edc24f3080f938d3a205aeed"
            ],
            "layout": "IPY_MODEL_f8405f21709a49dd864e405a01360af1"
          }
        },
        "18d4fc4d0bea48109a2fe8361fa369a0": {
          "model_module": "@jupyter-widgets/controls",
          "model_name": "HTMLModel",
          "model_module_version": "1.5.0",
          "state": {
            "_dom_classes": [],
            "_model_module": "@jupyter-widgets/controls",
            "_model_module_version": "1.5.0",
            "_model_name": "HTMLModel",
            "_view_count": null,
            "_view_module": "@jupyter-widgets/controls",
            "_view_module_version": "1.5.0",
            "_view_name": "HTMLView",
            "description": "",
            "description_tooltip": null,
            "layout": "IPY_MODEL_81d69d52b0044d4ebc490662518e25d9",
            "placeholder": "​",
            "style": "IPY_MODEL_1901991835d345e89e31d7439c5b269e",
            "value": "Map: 100%"
          }
        },
        "cd8dce8104764d24aed4b0e540af3b7d": {
          "model_module": "@jupyter-widgets/controls",
          "model_name": "FloatProgressModel",
          "model_module_version": "1.5.0",
          "state": {
            "_dom_classes": [],
            "_model_module": "@jupyter-widgets/controls",
            "_model_module_version": "1.5.0",
            "_model_name": "FloatProgressModel",
            "_view_count": null,
            "_view_module": "@jupyter-widgets/controls",
            "_view_module_version": "1.5.0",
            "_view_name": "ProgressView",
            "bar_style": "success",
            "description": "",
            "description_tooltip": null,
            "layout": "IPY_MODEL_270013ccb355481e9ce4fd0dda81ca4d",
            "max": 14041,
            "min": 0,
            "orientation": "horizontal",
            "style": "IPY_MODEL_604a936744aa43b88c823b2adeb9dcc8",
            "value": 14041
          }
        },
        "dc370843edc24f3080f938d3a205aeed": {
          "model_module": "@jupyter-widgets/controls",
          "model_name": "HTMLModel",
          "model_module_version": "1.5.0",
          "state": {
            "_dom_classes": [],
            "_model_module": "@jupyter-widgets/controls",
            "_model_module_version": "1.5.0",
            "_model_name": "HTMLModel",
            "_view_count": null,
            "_view_module": "@jupyter-widgets/controls",
            "_view_module_version": "1.5.0",
            "_view_name": "HTMLView",
            "description": "",
            "description_tooltip": null,
            "layout": "IPY_MODEL_e984c6528c5642728db268645434bcce",
            "placeholder": "​",
            "style": "IPY_MODEL_1fe5ed1b8d3e411685b79fd519512c30",
            "value": " 14041/14041 [00:02&lt;00:00, 4653.75 examples/s]"
          }
        },
        "f8405f21709a49dd864e405a01360af1": {
          "model_module": "@jupyter-widgets/base",
          "model_name": "LayoutModel",
          "model_module_version": "1.2.0",
          "state": {
            "_model_module": "@jupyter-widgets/base",
            "_model_module_version": "1.2.0",
            "_model_name": "LayoutModel",
            "_view_count": null,
            "_view_module": "@jupyter-widgets/base",
            "_view_module_version": "1.2.0",
            "_view_name": "LayoutView",
            "align_content": null,
            "align_items": null,
            "align_self": null,
            "border": null,
            "bottom": null,
            "display": null,
            "flex": null,
            "flex_flow": null,
            "grid_area": null,
            "grid_auto_columns": null,
            "grid_auto_flow": null,
            "grid_auto_rows": null,
            "grid_column": null,
            "grid_gap": null,
            "grid_row": null,
            "grid_template_areas": null,
            "grid_template_columns": null,
            "grid_template_rows": null,
            "height": null,
            "justify_content": null,
            "justify_items": null,
            "left": null,
            "margin": null,
            "max_height": null,
            "max_width": null,
            "min_height": null,
            "min_width": null,
            "object_fit": null,
            "object_position": null,
            "order": null,
            "overflow": null,
            "overflow_x": null,
            "overflow_y": null,
            "padding": null,
            "right": null,
            "top": null,
            "visibility": null,
            "width": null
          }
        },
        "81d69d52b0044d4ebc490662518e25d9": {
          "model_module": "@jupyter-widgets/base",
          "model_name": "LayoutModel",
          "model_module_version": "1.2.0",
          "state": {
            "_model_module": "@jupyter-widgets/base",
            "_model_module_version": "1.2.0",
            "_model_name": "LayoutModel",
            "_view_count": null,
            "_view_module": "@jupyter-widgets/base",
            "_view_module_version": "1.2.0",
            "_view_name": "LayoutView",
            "align_content": null,
            "align_items": null,
            "align_self": null,
            "border": null,
            "bottom": null,
            "display": null,
            "flex": null,
            "flex_flow": null,
            "grid_area": null,
            "grid_auto_columns": null,
            "grid_auto_flow": null,
            "grid_auto_rows": null,
            "grid_column": null,
            "grid_gap": null,
            "grid_row": null,
            "grid_template_areas": null,
            "grid_template_columns": null,
            "grid_template_rows": null,
            "height": null,
            "justify_content": null,
            "justify_items": null,
            "left": null,
            "margin": null,
            "max_height": null,
            "max_width": null,
            "min_height": null,
            "min_width": null,
            "object_fit": null,
            "object_position": null,
            "order": null,
            "overflow": null,
            "overflow_x": null,
            "overflow_y": null,
            "padding": null,
            "right": null,
            "top": null,
            "visibility": null,
            "width": null
          }
        },
        "1901991835d345e89e31d7439c5b269e": {
          "model_module": "@jupyter-widgets/controls",
          "model_name": "DescriptionStyleModel",
          "model_module_version": "1.5.0",
          "state": {
            "_model_module": "@jupyter-widgets/controls",
            "_model_module_version": "1.5.0",
            "_model_name": "DescriptionStyleModel",
            "_view_count": null,
            "_view_module": "@jupyter-widgets/base",
            "_view_module_version": "1.2.0",
            "_view_name": "StyleView",
            "description_width": ""
          }
        },
        "270013ccb355481e9ce4fd0dda81ca4d": {
          "model_module": "@jupyter-widgets/base",
          "model_name": "LayoutModel",
          "model_module_version": "1.2.0",
          "state": {
            "_model_module": "@jupyter-widgets/base",
            "_model_module_version": "1.2.0",
            "_model_name": "LayoutModel",
            "_view_count": null,
            "_view_module": "@jupyter-widgets/base",
            "_view_module_version": "1.2.0",
            "_view_name": "LayoutView",
            "align_content": null,
            "align_items": null,
            "align_self": null,
            "border": null,
            "bottom": null,
            "display": null,
            "flex": null,
            "flex_flow": null,
            "grid_area": null,
            "grid_auto_columns": null,
            "grid_auto_flow": null,
            "grid_auto_rows": null,
            "grid_column": null,
            "grid_gap": null,
            "grid_row": null,
            "grid_template_areas": null,
            "grid_template_columns": null,
            "grid_template_rows": null,
            "height": null,
            "justify_content": null,
            "justify_items": null,
            "left": null,
            "margin": null,
            "max_height": null,
            "max_width": null,
            "min_height": null,
            "min_width": null,
            "object_fit": null,
            "object_position": null,
            "order": null,
            "overflow": null,
            "overflow_x": null,
            "overflow_y": null,
            "padding": null,
            "right": null,
            "top": null,
            "visibility": null,
            "width": null
          }
        },
        "604a936744aa43b88c823b2adeb9dcc8": {
          "model_module": "@jupyter-widgets/controls",
          "model_name": "ProgressStyleModel",
          "model_module_version": "1.5.0",
          "state": {
            "_model_module": "@jupyter-widgets/controls",
            "_model_module_version": "1.5.0",
            "_model_name": "ProgressStyleModel",
            "_view_count": null,
            "_view_module": "@jupyter-widgets/base",
            "_view_module_version": "1.2.0",
            "_view_name": "StyleView",
            "bar_color": null,
            "description_width": ""
          }
        },
        "e984c6528c5642728db268645434bcce": {
          "model_module": "@jupyter-widgets/base",
          "model_name": "LayoutModel",
          "model_module_version": "1.2.0",
          "state": {
            "_model_module": "@jupyter-widgets/base",
            "_model_module_version": "1.2.0",
            "_model_name": "LayoutModel",
            "_view_count": null,
            "_view_module": "@jupyter-widgets/base",
            "_view_module_version": "1.2.0",
            "_view_name": "LayoutView",
            "align_content": null,
            "align_items": null,
            "align_self": null,
            "border": null,
            "bottom": null,
            "display": null,
            "flex": null,
            "flex_flow": null,
            "grid_area": null,
            "grid_auto_columns": null,
            "grid_auto_flow": null,
            "grid_auto_rows": null,
            "grid_column": null,
            "grid_gap": null,
            "grid_row": null,
            "grid_template_areas": null,
            "grid_template_columns": null,
            "grid_template_rows": null,
            "height": null,
            "justify_content": null,
            "justify_items": null,
            "left": null,
            "margin": null,
            "max_height": null,
            "max_width": null,
            "min_height": null,
            "min_width": null,
            "object_fit": null,
            "object_position": null,
            "order": null,
            "overflow": null,
            "overflow_x": null,
            "overflow_y": null,
            "padding": null,
            "right": null,
            "top": null,
            "visibility": null,
            "width": null
          }
        },
        "1fe5ed1b8d3e411685b79fd519512c30": {
          "model_module": "@jupyter-widgets/controls",
          "model_name": "DescriptionStyleModel",
          "model_module_version": "1.5.0",
          "state": {
            "_model_module": "@jupyter-widgets/controls",
            "_model_module_version": "1.5.0",
            "_model_name": "DescriptionStyleModel",
            "_view_count": null,
            "_view_module": "@jupyter-widgets/base",
            "_view_module_version": "1.2.0",
            "_view_name": "StyleView",
            "description_width": ""
          }
        },
        "537e4d808adc4725aa41e7fbe5e17b54": {
          "model_module": "@jupyter-widgets/controls",
          "model_name": "HBoxModel",
          "model_module_version": "1.5.0",
          "state": {
            "_dom_classes": [],
            "_model_module": "@jupyter-widgets/controls",
            "_model_module_version": "1.5.0",
            "_model_name": "HBoxModel",
            "_view_count": null,
            "_view_module": "@jupyter-widgets/controls",
            "_view_module_version": "1.5.0",
            "_view_name": "HBoxView",
            "box_style": "",
            "children": [
              "IPY_MODEL_6eb96915b0b6405ba8cef8e9984724d7",
              "IPY_MODEL_a303a4e90f9847728c74c913d02f7964",
              "IPY_MODEL_8b1373476c1e4bebae0a6c1587ea29e6"
            ],
            "layout": "IPY_MODEL_d5b6e52fe5b34e6b944e78d8d4fd2c11"
          }
        },
        "6eb96915b0b6405ba8cef8e9984724d7": {
          "model_module": "@jupyter-widgets/controls",
          "model_name": "HTMLModel",
          "model_module_version": "1.5.0",
          "state": {
            "_dom_classes": [],
            "_model_module": "@jupyter-widgets/controls",
            "_model_module_version": "1.5.0",
            "_model_name": "HTMLModel",
            "_view_count": null,
            "_view_module": "@jupyter-widgets/controls",
            "_view_module_version": "1.5.0",
            "_view_name": "HTMLView",
            "description": "",
            "description_tooltip": null,
            "layout": "IPY_MODEL_54a523d7baa5477095c592865a7f840f",
            "placeholder": "​",
            "style": "IPY_MODEL_77227b95539f474d9b3de4f23ee1e03d",
            "value": "Map: 100%"
          }
        },
        "a303a4e90f9847728c74c913d02f7964": {
          "model_module": "@jupyter-widgets/controls",
          "model_name": "FloatProgressModel",
          "model_module_version": "1.5.0",
          "state": {
            "_dom_classes": [],
            "_model_module": "@jupyter-widgets/controls",
            "_model_module_version": "1.5.0",
            "_model_name": "FloatProgressModel",
            "_view_count": null,
            "_view_module": "@jupyter-widgets/controls",
            "_view_module_version": "1.5.0",
            "_view_name": "ProgressView",
            "bar_style": "success",
            "description": "",
            "description_tooltip": null,
            "layout": "IPY_MODEL_7d0460549f9449e2a16c5e8b6100101d",
            "max": 3453,
            "min": 0,
            "orientation": "horizontal",
            "style": "IPY_MODEL_f5c2fb3b4e5f437eba824b7e5d121b6f",
            "value": 3453
          }
        },
        "8b1373476c1e4bebae0a6c1587ea29e6": {
          "model_module": "@jupyter-widgets/controls",
          "model_name": "HTMLModel",
          "model_module_version": "1.5.0",
          "state": {
            "_dom_classes": [],
            "_model_module": "@jupyter-widgets/controls",
            "_model_module_version": "1.5.0",
            "_model_name": "HTMLModel",
            "_view_count": null,
            "_view_module": "@jupyter-widgets/controls",
            "_view_module_version": "1.5.0",
            "_view_name": "HTMLView",
            "description": "",
            "description_tooltip": null,
            "layout": "IPY_MODEL_2e7028b71b014637a97b84641e4d34c9",
            "placeholder": "​",
            "style": "IPY_MODEL_33a6661021a14ec2929c8d1bab43b0ea",
            "value": " 3453/3453 [00:00&lt;00:00, 7374.60 examples/s]"
          }
        },
        "d5b6e52fe5b34e6b944e78d8d4fd2c11": {
          "model_module": "@jupyter-widgets/base",
          "model_name": "LayoutModel",
          "model_module_version": "1.2.0",
          "state": {
            "_model_module": "@jupyter-widgets/base",
            "_model_module_version": "1.2.0",
            "_model_name": "LayoutModel",
            "_view_count": null,
            "_view_module": "@jupyter-widgets/base",
            "_view_module_version": "1.2.0",
            "_view_name": "LayoutView",
            "align_content": null,
            "align_items": null,
            "align_self": null,
            "border": null,
            "bottom": null,
            "display": null,
            "flex": null,
            "flex_flow": null,
            "grid_area": null,
            "grid_auto_columns": null,
            "grid_auto_flow": null,
            "grid_auto_rows": null,
            "grid_column": null,
            "grid_gap": null,
            "grid_row": null,
            "grid_template_areas": null,
            "grid_template_columns": null,
            "grid_template_rows": null,
            "height": null,
            "justify_content": null,
            "justify_items": null,
            "left": null,
            "margin": null,
            "max_height": null,
            "max_width": null,
            "min_height": null,
            "min_width": null,
            "object_fit": null,
            "object_position": null,
            "order": null,
            "overflow": null,
            "overflow_x": null,
            "overflow_y": null,
            "padding": null,
            "right": null,
            "top": null,
            "visibility": null,
            "width": null
          }
        },
        "54a523d7baa5477095c592865a7f840f": {
          "model_module": "@jupyter-widgets/base",
          "model_name": "LayoutModel",
          "model_module_version": "1.2.0",
          "state": {
            "_model_module": "@jupyter-widgets/base",
            "_model_module_version": "1.2.0",
            "_model_name": "LayoutModel",
            "_view_count": null,
            "_view_module": "@jupyter-widgets/base",
            "_view_module_version": "1.2.0",
            "_view_name": "LayoutView",
            "align_content": null,
            "align_items": null,
            "align_self": null,
            "border": null,
            "bottom": null,
            "display": null,
            "flex": null,
            "flex_flow": null,
            "grid_area": null,
            "grid_auto_columns": null,
            "grid_auto_flow": null,
            "grid_auto_rows": null,
            "grid_column": null,
            "grid_gap": null,
            "grid_row": null,
            "grid_template_areas": null,
            "grid_template_columns": null,
            "grid_template_rows": null,
            "height": null,
            "justify_content": null,
            "justify_items": null,
            "left": null,
            "margin": null,
            "max_height": null,
            "max_width": null,
            "min_height": null,
            "min_width": null,
            "object_fit": null,
            "object_position": null,
            "order": null,
            "overflow": null,
            "overflow_x": null,
            "overflow_y": null,
            "padding": null,
            "right": null,
            "top": null,
            "visibility": null,
            "width": null
          }
        },
        "77227b95539f474d9b3de4f23ee1e03d": {
          "model_module": "@jupyter-widgets/controls",
          "model_name": "DescriptionStyleModel",
          "model_module_version": "1.5.0",
          "state": {
            "_model_module": "@jupyter-widgets/controls",
            "_model_module_version": "1.5.0",
            "_model_name": "DescriptionStyleModel",
            "_view_count": null,
            "_view_module": "@jupyter-widgets/base",
            "_view_module_version": "1.2.0",
            "_view_name": "StyleView",
            "description_width": ""
          }
        },
        "7d0460549f9449e2a16c5e8b6100101d": {
          "model_module": "@jupyter-widgets/base",
          "model_name": "LayoutModel",
          "model_module_version": "1.2.0",
          "state": {
            "_model_module": "@jupyter-widgets/base",
            "_model_module_version": "1.2.0",
            "_model_name": "LayoutModel",
            "_view_count": null,
            "_view_module": "@jupyter-widgets/base",
            "_view_module_version": "1.2.0",
            "_view_name": "LayoutView",
            "align_content": null,
            "align_items": null,
            "align_self": null,
            "border": null,
            "bottom": null,
            "display": null,
            "flex": null,
            "flex_flow": null,
            "grid_area": null,
            "grid_auto_columns": null,
            "grid_auto_flow": null,
            "grid_auto_rows": null,
            "grid_column": null,
            "grid_gap": null,
            "grid_row": null,
            "grid_template_areas": null,
            "grid_template_columns": null,
            "grid_template_rows": null,
            "height": null,
            "justify_content": null,
            "justify_items": null,
            "left": null,
            "margin": null,
            "max_height": null,
            "max_width": null,
            "min_height": null,
            "min_width": null,
            "object_fit": null,
            "object_position": null,
            "order": null,
            "overflow": null,
            "overflow_x": null,
            "overflow_y": null,
            "padding": null,
            "right": null,
            "top": null,
            "visibility": null,
            "width": null
          }
        },
        "f5c2fb3b4e5f437eba824b7e5d121b6f": {
          "model_module": "@jupyter-widgets/controls",
          "model_name": "ProgressStyleModel",
          "model_module_version": "1.5.0",
          "state": {
            "_model_module": "@jupyter-widgets/controls",
            "_model_module_version": "1.5.0",
            "_model_name": "ProgressStyleModel",
            "_view_count": null,
            "_view_module": "@jupyter-widgets/base",
            "_view_module_version": "1.2.0",
            "_view_name": "StyleView",
            "bar_color": null,
            "description_width": ""
          }
        },
        "2e7028b71b014637a97b84641e4d34c9": {
          "model_module": "@jupyter-widgets/base",
          "model_name": "LayoutModel",
          "model_module_version": "1.2.0",
          "state": {
            "_model_module": "@jupyter-widgets/base",
            "_model_module_version": "1.2.0",
            "_model_name": "LayoutModel",
            "_view_count": null,
            "_view_module": "@jupyter-widgets/base",
            "_view_module_version": "1.2.0",
            "_view_name": "LayoutView",
            "align_content": null,
            "align_items": null,
            "align_self": null,
            "border": null,
            "bottom": null,
            "display": null,
            "flex": null,
            "flex_flow": null,
            "grid_area": null,
            "grid_auto_columns": null,
            "grid_auto_flow": null,
            "grid_auto_rows": null,
            "grid_column": null,
            "grid_gap": null,
            "grid_row": null,
            "grid_template_areas": null,
            "grid_template_columns": null,
            "grid_template_rows": null,
            "height": null,
            "justify_content": null,
            "justify_items": null,
            "left": null,
            "margin": null,
            "max_height": null,
            "max_width": null,
            "min_height": null,
            "min_width": null,
            "object_fit": null,
            "object_position": null,
            "order": null,
            "overflow": null,
            "overflow_x": null,
            "overflow_y": null,
            "padding": null,
            "right": null,
            "top": null,
            "visibility": null,
            "width": null
          }
        },
        "33a6661021a14ec2929c8d1bab43b0ea": {
          "model_module": "@jupyter-widgets/controls",
          "model_name": "DescriptionStyleModel",
          "model_module_version": "1.5.0",
          "state": {
            "_model_module": "@jupyter-widgets/controls",
            "_model_module_version": "1.5.0",
            "_model_name": "DescriptionStyleModel",
            "_view_count": null,
            "_view_module": "@jupyter-widgets/base",
            "_view_module_version": "1.2.0",
            "_view_name": "StyleView",
            "description_width": ""
          }
        },
        "13315560c513474faa034292d6401ed6": {
          "model_module": "@jupyter-widgets/controls",
          "model_name": "HBoxModel",
          "model_module_version": "1.5.0",
          "state": {
            "_dom_classes": [],
            "_model_module": "@jupyter-widgets/controls",
            "_model_module_version": "1.5.0",
            "_model_name": "HBoxModel",
            "_view_count": null,
            "_view_module": "@jupyter-widgets/controls",
            "_view_module_version": "1.5.0",
            "_view_name": "HBoxView",
            "box_style": "",
            "children": [
              "IPY_MODEL_7e1952f36a3e43298a7dcc70344ca7b2",
              "IPY_MODEL_9a9b5f9889614b69948e373919205461",
              "IPY_MODEL_767ee7033d4e4095a88f19d078d0a055"
            ],
            "layout": "IPY_MODEL_3e2980f3d81d465188254feba578d999"
          }
        },
        "7e1952f36a3e43298a7dcc70344ca7b2": {
          "model_module": "@jupyter-widgets/controls",
          "model_name": "HTMLModel",
          "model_module_version": "1.5.0",
          "state": {
            "_dom_classes": [],
            "_model_module": "@jupyter-widgets/controls",
            "_model_module_version": "1.5.0",
            "_model_name": "HTMLModel",
            "_view_count": null,
            "_view_module": "@jupyter-widgets/controls",
            "_view_module_version": "1.5.0",
            "_view_name": "HTMLView",
            "description": "",
            "description_tooltip": null,
            "layout": "IPY_MODEL_1bfd87cd225d41738e0d94be49f10c04",
            "placeholder": "​",
            "style": "IPY_MODEL_7d60c64f1f8d41ac8f91b9d8d331e47c",
            "value": "Map: 100%"
          }
        },
        "9a9b5f9889614b69948e373919205461": {
          "model_module": "@jupyter-widgets/controls",
          "model_name": "FloatProgressModel",
          "model_module_version": "1.5.0",
          "state": {
            "_dom_classes": [],
            "_model_module": "@jupyter-widgets/controls",
            "_model_module_version": "1.5.0",
            "_model_name": "FloatProgressModel",
            "_view_count": null,
            "_view_module": "@jupyter-widgets/controls",
            "_view_module_version": "1.5.0",
            "_view_name": "ProgressView",
            "bar_style": "success",
            "description": "",
            "description_tooltip": null,
            "layout": "IPY_MODEL_e3a5d0ea7b194c76a66a50adefbfe870",
            "max": 3250,
            "min": 0,
            "orientation": "horizontal",
            "style": "IPY_MODEL_9ec168f724b241489082cdbbe14c9bf4",
            "value": 3250
          }
        },
        "767ee7033d4e4095a88f19d078d0a055": {
          "model_module": "@jupyter-widgets/controls",
          "model_name": "HTMLModel",
          "model_module_version": "1.5.0",
          "state": {
            "_dom_classes": [],
            "_model_module": "@jupyter-widgets/controls",
            "_model_module_version": "1.5.0",
            "_model_name": "HTMLModel",
            "_view_count": null,
            "_view_module": "@jupyter-widgets/controls",
            "_view_module_version": "1.5.0",
            "_view_name": "HTMLView",
            "description": "",
            "description_tooltip": null,
            "layout": "IPY_MODEL_134f784cb89341f583907bb9577cbe10",
            "placeholder": "​",
            "style": "IPY_MODEL_33cbceccf7e04d3f8af625caf13b7d04",
            "value": " 3250/3250 [00:00&lt;00:00, 11199.04 examples/s]"
          }
        },
        "3e2980f3d81d465188254feba578d999": {
          "model_module": "@jupyter-widgets/base",
          "model_name": "LayoutModel",
          "model_module_version": "1.2.0",
          "state": {
            "_model_module": "@jupyter-widgets/base",
            "_model_module_version": "1.2.0",
            "_model_name": "LayoutModel",
            "_view_count": null,
            "_view_module": "@jupyter-widgets/base",
            "_view_module_version": "1.2.0",
            "_view_name": "LayoutView",
            "align_content": null,
            "align_items": null,
            "align_self": null,
            "border": null,
            "bottom": null,
            "display": null,
            "flex": null,
            "flex_flow": null,
            "grid_area": null,
            "grid_auto_columns": null,
            "grid_auto_flow": null,
            "grid_auto_rows": null,
            "grid_column": null,
            "grid_gap": null,
            "grid_row": null,
            "grid_template_areas": null,
            "grid_template_columns": null,
            "grid_template_rows": null,
            "height": null,
            "justify_content": null,
            "justify_items": null,
            "left": null,
            "margin": null,
            "max_height": null,
            "max_width": null,
            "min_height": null,
            "min_width": null,
            "object_fit": null,
            "object_position": null,
            "order": null,
            "overflow": null,
            "overflow_x": null,
            "overflow_y": null,
            "padding": null,
            "right": null,
            "top": null,
            "visibility": null,
            "width": null
          }
        },
        "1bfd87cd225d41738e0d94be49f10c04": {
          "model_module": "@jupyter-widgets/base",
          "model_name": "LayoutModel",
          "model_module_version": "1.2.0",
          "state": {
            "_model_module": "@jupyter-widgets/base",
            "_model_module_version": "1.2.0",
            "_model_name": "LayoutModel",
            "_view_count": null,
            "_view_module": "@jupyter-widgets/base",
            "_view_module_version": "1.2.0",
            "_view_name": "LayoutView",
            "align_content": null,
            "align_items": null,
            "align_self": null,
            "border": null,
            "bottom": null,
            "display": null,
            "flex": null,
            "flex_flow": null,
            "grid_area": null,
            "grid_auto_columns": null,
            "grid_auto_flow": null,
            "grid_auto_rows": null,
            "grid_column": null,
            "grid_gap": null,
            "grid_row": null,
            "grid_template_areas": null,
            "grid_template_columns": null,
            "grid_template_rows": null,
            "height": null,
            "justify_content": null,
            "justify_items": null,
            "left": null,
            "margin": null,
            "max_height": null,
            "max_width": null,
            "min_height": null,
            "min_width": null,
            "object_fit": null,
            "object_position": null,
            "order": null,
            "overflow": null,
            "overflow_x": null,
            "overflow_y": null,
            "padding": null,
            "right": null,
            "top": null,
            "visibility": null,
            "width": null
          }
        },
        "7d60c64f1f8d41ac8f91b9d8d331e47c": {
          "model_module": "@jupyter-widgets/controls",
          "model_name": "DescriptionStyleModel",
          "model_module_version": "1.5.0",
          "state": {
            "_model_module": "@jupyter-widgets/controls",
            "_model_module_version": "1.5.0",
            "_model_name": "DescriptionStyleModel",
            "_view_count": null,
            "_view_module": "@jupyter-widgets/base",
            "_view_module_version": "1.2.0",
            "_view_name": "StyleView",
            "description_width": ""
          }
        },
        "e3a5d0ea7b194c76a66a50adefbfe870": {
          "model_module": "@jupyter-widgets/base",
          "model_name": "LayoutModel",
          "model_module_version": "1.2.0",
          "state": {
            "_model_module": "@jupyter-widgets/base",
            "_model_module_version": "1.2.0",
            "_model_name": "LayoutModel",
            "_view_count": null,
            "_view_module": "@jupyter-widgets/base",
            "_view_module_version": "1.2.0",
            "_view_name": "LayoutView",
            "align_content": null,
            "align_items": null,
            "align_self": null,
            "border": null,
            "bottom": null,
            "display": null,
            "flex": null,
            "flex_flow": null,
            "grid_area": null,
            "grid_auto_columns": null,
            "grid_auto_flow": null,
            "grid_auto_rows": null,
            "grid_column": null,
            "grid_gap": null,
            "grid_row": null,
            "grid_template_areas": null,
            "grid_template_columns": null,
            "grid_template_rows": null,
            "height": null,
            "justify_content": null,
            "justify_items": null,
            "left": null,
            "margin": null,
            "max_height": null,
            "max_width": null,
            "min_height": null,
            "min_width": null,
            "object_fit": null,
            "object_position": null,
            "order": null,
            "overflow": null,
            "overflow_x": null,
            "overflow_y": null,
            "padding": null,
            "right": null,
            "top": null,
            "visibility": null,
            "width": null
          }
        },
        "9ec168f724b241489082cdbbe14c9bf4": {
          "model_module": "@jupyter-widgets/controls",
          "model_name": "ProgressStyleModel",
          "model_module_version": "1.5.0",
          "state": {
            "_model_module": "@jupyter-widgets/controls",
            "_model_module_version": "1.5.0",
            "_model_name": "ProgressStyleModel",
            "_view_count": null,
            "_view_module": "@jupyter-widgets/base",
            "_view_module_version": "1.2.0",
            "_view_name": "StyleView",
            "bar_color": null,
            "description_width": ""
          }
        },
        "134f784cb89341f583907bb9577cbe10": {
          "model_module": "@jupyter-widgets/base",
          "model_name": "LayoutModel",
          "model_module_version": "1.2.0",
          "state": {
            "_model_module": "@jupyter-widgets/base",
            "_model_module_version": "1.2.0",
            "_model_name": "LayoutModel",
            "_view_count": null,
            "_view_module": "@jupyter-widgets/base",
            "_view_module_version": "1.2.0",
            "_view_name": "LayoutView",
            "align_content": null,
            "align_items": null,
            "align_self": null,
            "border": null,
            "bottom": null,
            "display": null,
            "flex": null,
            "flex_flow": null,
            "grid_area": null,
            "grid_auto_columns": null,
            "grid_auto_flow": null,
            "grid_auto_rows": null,
            "grid_column": null,
            "grid_gap": null,
            "grid_row": null,
            "grid_template_areas": null,
            "grid_template_columns": null,
            "grid_template_rows": null,
            "height": null,
            "justify_content": null,
            "justify_items": null,
            "left": null,
            "margin": null,
            "max_height": null,
            "max_width": null,
            "min_height": null,
            "min_width": null,
            "object_fit": null,
            "object_position": null,
            "order": null,
            "overflow": null,
            "overflow_x": null,
            "overflow_y": null,
            "padding": null,
            "right": null,
            "top": null,
            "visibility": null,
            "width": null
          }
        },
        "33cbceccf7e04d3f8af625caf13b7d04": {
          "model_module": "@jupyter-widgets/controls",
          "model_name": "DescriptionStyleModel",
          "model_module_version": "1.5.0",
          "state": {
            "_model_module": "@jupyter-widgets/controls",
            "_model_module_version": "1.5.0",
            "_model_name": "DescriptionStyleModel",
            "_view_count": null,
            "_view_module": "@jupyter-widgets/base",
            "_view_module_version": "1.2.0",
            "_view_name": "StyleView",
            "description_width": ""
          }
        },
        "e7598d2c4ade4e2784f1486018d98cda": {
          "model_module": "@jupyter-widgets/controls",
          "model_name": "HBoxModel",
          "model_module_version": "1.5.0",
          "state": {
            "_dom_classes": [],
            "_model_module": "@jupyter-widgets/controls",
            "_model_module_version": "1.5.0",
            "_model_name": "HBoxModel",
            "_view_count": null,
            "_view_module": "@jupyter-widgets/controls",
            "_view_module_version": "1.5.0",
            "_view_name": "HBoxView",
            "box_style": "",
            "children": [
              "IPY_MODEL_7062ddd4c3c34c938abbccb7cda55d87",
              "IPY_MODEL_c8af198f85da4018b48797eccece8f0d",
              "IPY_MODEL_aa56ace7f0fa4dbaaec61abe7081b4bb"
            ],
            "layout": "IPY_MODEL_c8f62f3fe62d4620b0476a284ee25296"
          }
        },
        "7062ddd4c3c34c938abbccb7cda55d87": {
          "model_module": "@jupyter-widgets/controls",
          "model_name": "HTMLModel",
          "model_module_version": "1.5.0",
          "state": {
            "_dom_classes": [],
            "_model_module": "@jupyter-widgets/controls",
            "_model_module_version": "1.5.0",
            "_model_name": "HTMLModel",
            "_view_count": null,
            "_view_module": "@jupyter-widgets/controls",
            "_view_module_version": "1.5.0",
            "_view_name": "HTMLView",
            "description": "",
            "description_tooltip": null,
            "layout": "IPY_MODEL_a4c53e1a7a7e434eac51a2b1b2dd0311",
            "placeholder": "​",
            "style": "IPY_MODEL_7b7ee339d00e4163a9f2f4920913ce9c",
            "value": "Map: 100%"
          }
        },
        "c8af198f85da4018b48797eccece8f0d": {
          "model_module": "@jupyter-widgets/controls",
          "model_name": "FloatProgressModel",
          "model_module_version": "1.5.0",
          "state": {
            "_dom_classes": [],
            "_model_module": "@jupyter-widgets/controls",
            "_model_module_version": "1.5.0",
            "_model_name": "FloatProgressModel",
            "_view_count": null,
            "_view_module": "@jupyter-widgets/controls",
            "_view_module_version": "1.5.0",
            "_view_name": "ProgressView",
            "bar_style": "success",
            "description": "",
            "description_tooltip": null,
            "layout": "IPY_MODEL_282b7751e5f14244b861215b7c97bdce",
            "max": 14041,
            "min": 0,
            "orientation": "horizontal",
            "style": "IPY_MODEL_f6f8e41b8e174b9aa641a59bfc401c91",
            "value": 14041
          }
        },
        "aa56ace7f0fa4dbaaec61abe7081b4bb": {
          "model_module": "@jupyter-widgets/controls",
          "model_name": "HTMLModel",
          "model_module_version": "1.5.0",
          "state": {
            "_dom_classes": [],
            "_model_module": "@jupyter-widgets/controls",
            "_model_module_version": "1.5.0",
            "_model_name": "HTMLModel",
            "_view_count": null,
            "_view_module": "@jupyter-widgets/controls",
            "_view_module_version": "1.5.0",
            "_view_name": "HTMLView",
            "description": "",
            "description_tooltip": null,
            "layout": "IPY_MODEL_379ce748f3184743ae9c5d3ab797ec68",
            "placeholder": "​",
            "style": "IPY_MODEL_4a55d56730f64ff78101a58e5c0c18e8",
            "value": " 14041/14041 [00:01&lt;00:00, 6523.36 examples/s]"
          }
        },
        "c8f62f3fe62d4620b0476a284ee25296": {
          "model_module": "@jupyter-widgets/base",
          "model_name": "LayoutModel",
          "model_module_version": "1.2.0",
          "state": {
            "_model_module": "@jupyter-widgets/base",
            "_model_module_version": "1.2.0",
            "_model_name": "LayoutModel",
            "_view_count": null,
            "_view_module": "@jupyter-widgets/base",
            "_view_module_version": "1.2.0",
            "_view_name": "LayoutView",
            "align_content": null,
            "align_items": null,
            "align_self": null,
            "border": null,
            "bottom": null,
            "display": null,
            "flex": null,
            "flex_flow": null,
            "grid_area": null,
            "grid_auto_columns": null,
            "grid_auto_flow": null,
            "grid_auto_rows": null,
            "grid_column": null,
            "grid_gap": null,
            "grid_row": null,
            "grid_template_areas": null,
            "grid_template_columns": null,
            "grid_template_rows": null,
            "height": null,
            "justify_content": null,
            "justify_items": null,
            "left": null,
            "margin": null,
            "max_height": null,
            "max_width": null,
            "min_height": null,
            "min_width": null,
            "object_fit": null,
            "object_position": null,
            "order": null,
            "overflow": null,
            "overflow_x": null,
            "overflow_y": null,
            "padding": null,
            "right": null,
            "top": null,
            "visibility": null,
            "width": null
          }
        },
        "a4c53e1a7a7e434eac51a2b1b2dd0311": {
          "model_module": "@jupyter-widgets/base",
          "model_name": "LayoutModel",
          "model_module_version": "1.2.0",
          "state": {
            "_model_module": "@jupyter-widgets/base",
            "_model_module_version": "1.2.0",
            "_model_name": "LayoutModel",
            "_view_count": null,
            "_view_module": "@jupyter-widgets/base",
            "_view_module_version": "1.2.0",
            "_view_name": "LayoutView",
            "align_content": null,
            "align_items": null,
            "align_self": null,
            "border": null,
            "bottom": null,
            "display": null,
            "flex": null,
            "flex_flow": null,
            "grid_area": null,
            "grid_auto_columns": null,
            "grid_auto_flow": null,
            "grid_auto_rows": null,
            "grid_column": null,
            "grid_gap": null,
            "grid_row": null,
            "grid_template_areas": null,
            "grid_template_columns": null,
            "grid_template_rows": null,
            "height": null,
            "justify_content": null,
            "justify_items": null,
            "left": null,
            "margin": null,
            "max_height": null,
            "max_width": null,
            "min_height": null,
            "min_width": null,
            "object_fit": null,
            "object_position": null,
            "order": null,
            "overflow": null,
            "overflow_x": null,
            "overflow_y": null,
            "padding": null,
            "right": null,
            "top": null,
            "visibility": null,
            "width": null
          }
        },
        "7b7ee339d00e4163a9f2f4920913ce9c": {
          "model_module": "@jupyter-widgets/controls",
          "model_name": "DescriptionStyleModel",
          "model_module_version": "1.5.0",
          "state": {
            "_model_module": "@jupyter-widgets/controls",
            "_model_module_version": "1.5.0",
            "_model_name": "DescriptionStyleModel",
            "_view_count": null,
            "_view_module": "@jupyter-widgets/base",
            "_view_module_version": "1.2.0",
            "_view_name": "StyleView",
            "description_width": ""
          }
        },
        "282b7751e5f14244b861215b7c97bdce": {
          "model_module": "@jupyter-widgets/base",
          "model_name": "LayoutModel",
          "model_module_version": "1.2.0",
          "state": {
            "_model_module": "@jupyter-widgets/base",
            "_model_module_version": "1.2.0",
            "_model_name": "LayoutModel",
            "_view_count": null,
            "_view_module": "@jupyter-widgets/base",
            "_view_module_version": "1.2.0",
            "_view_name": "LayoutView",
            "align_content": null,
            "align_items": null,
            "align_self": null,
            "border": null,
            "bottom": null,
            "display": null,
            "flex": null,
            "flex_flow": null,
            "grid_area": null,
            "grid_auto_columns": null,
            "grid_auto_flow": null,
            "grid_auto_rows": null,
            "grid_column": null,
            "grid_gap": null,
            "grid_row": null,
            "grid_template_areas": null,
            "grid_template_columns": null,
            "grid_template_rows": null,
            "height": null,
            "justify_content": null,
            "justify_items": null,
            "left": null,
            "margin": null,
            "max_height": null,
            "max_width": null,
            "min_height": null,
            "min_width": null,
            "object_fit": null,
            "object_position": null,
            "order": null,
            "overflow": null,
            "overflow_x": null,
            "overflow_y": null,
            "padding": null,
            "right": null,
            "top": null,
            "visibility": null,
            "width": null
          }
        },
        "f6f8e41b8e174b9aa641a59bfc401c91": {
          "model_module": "@jupyter-widgets/controls",
          "model_name": "ProgressStyleModel",
          "model_module_version": "1.5.0",
          "state": {
            "_model_module": "@jupyter-widgets/controls",
            "_model_module_version": "1.5.0",
            "_model_name": "ProgressStyleModel",
            "_view_count": null,
            "_view_module": "@jupyter-widgets/base",
            "_view_module_version": "1.2.0",
            "_view_name": "StyleView",
            "bar_color": null,
            "description_width": ""
          }
        },
        "379ce748f3184743ae9c5d3ab797ec68": {
          "model_module": "@jupyter-widgets/base",
          "model_name": "LayoutModel",
          "model_module_version": "1.2.0",
          "state": {
            "_model_module": "@jupyter-widgets/base",
            "_model_module_version": "1.2.0",
            "_model_name": "LayoutModel",
            "_view_count": null,
            "_view_module": "@jupyter-widgets/base",
            "_view_module_version": "1.2.0",
            "_view_name": "LayoutView",
            "align_content": null,
            "align_items": null,
            "align_self": null,
            "border": null,
            "bottom": null,
            "display": null,
            "flex": null,
            "flex_flow": null,
            "grid_area": null,
            "grid_auto_columns": null,
            "grid_auto_flow": null,
            "grid_auto_rows": null,
            "grid_column": null,
            "grid_gap": null,
            "grid_row": null,
            "grid_template_areas": null,
            "grid_template_columns": null,
            "grid_template_rows": null,
            "height": null,
            "justify_content": null,
            "justify_items": null,
            "left": null,
            "margin": null,
            "max_height": null,
            "max_width": null,
            "min_height": null,
            "min_width": null,
            "object_fit": null,
            "object_position": null,
            "order": null,
            "overflow": null,
            "overflow_x": null,
            "overflow_y": null,
            "padding": null,
            "right": null,
            "top": null,
            "visibility": null,
            "width": null
          }
        },
        "4a55d56730f64ff78101a58e5c0c18e8": {
          "model_module": "@jupyter-widgets/controls",
          "model_name": "DescriptionStyleModel",
          "model_module_version": "1.5.0",
          "state": {
            "_model_module": "@jupyter-widgets/controls",
            "_model_module_version": "1.5.0",
            "_model_name": "DescriptionStyleModel",
            "_view_count": null,
            "_view_module": "@jupyter-widgets/base",
            "_view_module_version": "1.2.0",
            "_view_name": "StyleView",
            "description_width": ""
          }
        },
        "a1262f30448947ad93d6673364a9a581": {
          "model_module": "@jupyter-widgets/controls",
          "model_name": "HBoxModel",
          "model_module_version": "1.5.0",
          "state": {
            "_dom_classes": [],
            "_model_module": "@jupyter-widgets/controls",
            "_model_module_version": "1.5.0",
            "_model_name": "HBoxModel",
            "_view_count": null,
            "_view_module": "@jupyter-widgets/controls",
            "_view_module_version": "1.5.0",
            "_view_name": "HBoxView",
            "box_style": "",
            "children": [
              "IPY_MODEL_4c77ce7bbf134f1ca8dc35d6b3b89232",
              "IPY_MODEL_6b45e923bde74f0996e00035acda0a53",
              "IPY_MODEL_d5681bf86a044df4a413fd08b6bc10f6"
            ],
            "layout": "IPY_MODEL_3c16ecbeea6648d8bb051d70e16cda39"
          }
        },
        "4c77ce7bbf134f1ca8dc35d6b3b89232": {
          "model_module": "@jupyter-widgets/controls",
          "model_name": "HTMLModel",
          "model_module_version": "1.5.0",
          "state": {
            "_dom_classes": [],
            "_model_module": "@jupyter-widgets/controls",
            "_model_module_version": "1.5.0",
            "_model_name": "HTMLModel",
            "_view_count": null,
            "_view_module": "@jupyter-widgets/controls",
            "_view_module_version": "1.5.0",
            "_view_name": "HTMLView",
            "description": "",
            "description_tooltip": null,
            "layout": "IPY_MODEL_1c93fe41ec7249cb8578f2bc65f1c9cd",
            "placeholder": "​",
            "style": "IPY_MODEL_14102b874562428883ee48b68a10d891",
            "value": "Map: 100%"
          }
        },
        "6b45e923bde74f0996e00035acda0a53": {
          "model_module": "@jupyter-widgets/controls",
          "model_name": "FloatProgressModel",
          "model_module_version": "1.5.0",
          "state": {
            "_dom_classes": [],
            "_model_module": "@jupyter-widgets/controls",
            "_model_module_version": "1.5.0",
            "_model_name": "FloatProgressModel",
            "_view_count": null,
            "_view_module": "@jupyter-widgets/controls",
            "_view_module_version": "1.5.0",
            "_view_name": "ProgressView",
            "bar_style": "success",
            "description": "",
            "description_tooltip": null,
            "layout": "IPY_MODEL_c7e64a5a50784843a5b6e31d3d4da2c2",
            "max": 3453,
            "min": 0,
            "orientation": "horizontal",
            "style": "IPY_MODEL_bdd76be54b5949a2bcd659b2d2868505",
            "value": 3453
          }
        },
        "d5681bf86a044df4a413fd08b6bc10f6": {
          "model_module": "@jupyter-widgets/controls",
          "model_name": "HTMLModel",
          "model_module_version": "1.5.0",
          "state": {
            "_dom_classes": [],
            "_model_module": "@jupyter-widgets/controls",
            "_model_module_version": "1.5.0",
            "_model_name": "HTMLModel",
            "_view_count": null,
            "_view_module": "@jupyter-widgets/controls",
            "_view_module_version": "1.5.0",
            "_view_name": "HTMLView",
            "description": "",
            "description_tooltip": null,
            "layout": "IPY_MODEL_0aa4bfe2e339460cb1e9c765febcafab",
            "placeholder": "​",
            "style": "IPY_MODEL_a229044b5bc2425db75de60018c68492",
            "value": " 3453/3453 [00:00&lt;00:00, 5130.12 examples/s]"
          }
        },
        "3c16ecbeea6648d8bb051d70e16cda39": {
          "model_module": "@jupyter-widgets/base",
          "model_name": "LayoutModel",
          "model_module_version": "1.2.0",
          "state": {
            "_model_module": "@jupyter-widgets/base",
            "_model_module_version": "1.2.0",
            "_model_name": "LayoutModel",
            "_view_count": null,
            "_view_module": "@jupyter-widgets/base",
            "_view_module_version": "1.2.0",
            "_view_name": "LayoutView",
            "align_content": null,
            "align_items": null,
            "align_self": null,
            "border": null,
            "bottom": null,
            "display": null,
            "flex": null,
            "flex_flow": null,
            "grid_area": null,
            "grid_auto_columns": null,
            "grid_auto_flow": null,
            "grid_auto_rows": null,
            "grid_column": null,
            "grid_gap": null,
            "grid_row": null,
            "grid_template_areas": null,
            "grid_template_columns": null,
            "grid_template_rows": null,
            "height": null,
            "justify_content": null,
            "justify_items": null,
            "left": null,
            "margin": null,
            "max_height": null,
            "max_width": null,
            "min_height": null,
            "min_width": null,
            "object_fit": null,
            "object_position": null,
            "order": null,
            "overflow": null,
            "overflow_x": null,
            "overflow_y": null,
            "padding": null,
            "right": null,
            "top": null,
            "visibility": null,
            "width": null
          }
        },
        "1c93fe41ec7249cb8578f2bc65f1c9cd": {
          "model_module": "@jupyter-widgets/base",
          "model_name": "LayoutModel",
          "model_module_version": "1.2.0",
          "state": {
            "_model_module": "@jupyter-widgets/base",
            "_model_module_version": "1.2.0",
            "_model_name": "LayoutModel",
            "_view_count": null,
            "_view_module": "@jupyter-widgets/base",
            "_view_module_version": "1.2.0",
            "_view_name": "LayoutView",
            "align_content": null,
            "align_items": null,
            "align_self": null,
            "border": null,
            "bottom": null,
            "display": null,
            "flex": null,
            "flex_flow": null,
            "grid_area": null,
            "grid_auto_columns": null,
            "grid_auto_flow": null,
            "grid_auto_rows": null,
            "grid_column": null,
            "grid_gap": null,
            "grid_row": null,
            "grid_template_areas": null,
            "grid_template_columns": null,
            "grid_template_rows": null,
            "height": null,
            "justify_content": null,
            "justify_items": null,
            "left": null,
            "margin": null,
            "max_height": null,
            "max_width": null,
            "min_height": null,
            "min_width": null,
            "object_fit": null,
            "object_position": null,
            "order": null,
            "overflow": null,
            "overflow_x": null,
            "overflow_y": null,
            "padding": null,
            "right": null,
            "top": null,
            "visibility": null,
            "width": null
          }
        },
        "14102b874562428883ee48b68a10d891": {
          "model_module": "@jupyter-widgets/controls",
          "model_name": "DescriptionStyleModel",
          "model_module_version": "1.5.0",
          "state": {
            "_model_module": "@jupyter-widgets/controls",
            "_model_module_version": "1.5.0",
            "_model_name": "DescriptionStyleModel",
            "_view_count": null,
            "_view_module": "@jupyter-widgets/base",
            "_view_module_version": "1.2.0",
            "_view_name": "StyleView",
            "description_width": ""
          }
        },
        "c7e64a5a50784843a5b6e31d3d4da2c2": {
          "model_module": "@jupyter-widgets/base",
          "model_name": "LayoutModel",
          "model_module_version": "1.2.0",
          "state": {
            "_model_module": "@jupyter-widgets/base",
            "_model_module_version": "1.2.0",
            "_model_name": "LayoutModel",
            "_view_count": null,
            "_view_module": "@jupyter-widgets/base",
            "_view_module_version": "1.2.0",
            "_view_name": "LayoutView",
            "align_content": null,
            "align_items": null,
            "align_self": null,
            "border": null,
            "bottom": null,
            "display": null,
            "flex": null,
            "flex_flow": null,
            "grid_area": null,
            "grid_auto_columns": null,
            "grid_auto_flow": null,
            "grid_auto_rows": null,
            "grid_column": null,
            "grid_gap": null,
            "grid_row": null,
            "grid_template_areas": null,
            "grid_template_columns": null,
            "grid_template_rows": null,
            "height": null,
            "justify_content": null,
            "justify_items": null,
            "left": null,
            "margin": null,
            "max_height": null,
            "max_width": null,
            "min_height": null,
            "min_width": null,
            "object_fit": null,
            "object_position": null,
            "order": null,
            "overflow": null,
            "overflow_x": null,
            "overflow_y": null,
            "padding": null,
            "right": null,
            "top": null,
            "visibility": null,
            "width": null
          }
        },
        "bdd76be54b5949a2bcd659b2d2868505": {
          "model_module": "@jupyter-widgets/controls",
          "model_name": "ProgressStyleModel",
          "model_module_version": "1.5.0",
          "state": {
            "_model_module": "@jupyter-widgets/controls",
            "_model_module_version": "1.5.0",
            "_model_name": "ProgressStyleModel",
            "_view_count": null,
            "_view_module": "@jupyter-widgets/base",
            "_view_module_version": "1.2.0",
            "_view_name": "StyleView",
            "bar_color": null,
            "description_width": ""
          }
        },
        "0aa4bfe2e339460cb1e9c765febcafab": {
          "model_module": "@jupyter-widgets/base",
          "model_name": "LayoutModel",
          "model_module_version": "1.2.0",
          "state": {
            "_model_module": "@jupyter-widgets/base",
            "_model_module_version": "1.2.0",
            "_model_name": "LayoutModel",
            "_view_count": null,
            "_view_module": "@jupyter-widgets/base",
            "_view_module_version": "1.2.0",
            "_view_name": "LayoutView",
            "align_content": null,
            "align_items": null,
            "align_self": null,
            "border": null,
            "bottom": null,
            "display": null,
            "flex": null,
            "flex_flow": null,
            "grid_area": null,
            "grid_auto_columns": null,
            "grid_auto_flow": null,
            "grid_auto_rows": null,
            "grid_column": null,
            "grid_gap": null,
            "grid_row": null,
            "grid_template_areas": null,
            "grid_template_columns": null,
            "grid_template_rows": null,
            "height": null,
            "justify_content": null,
            "justify_items": null,
            "left": null,
            "margin": null,
            "max_height": null,
            "max_width": null,
            "min_height": null,
            "min_width": null,
            "object_fit": null,
            "object_position": null,
            "order": null,
            "overflow": null,
            "overflow_x": null,
            "overflow_y": null,
            "padding": null,
            "right": null,
            "top": null,
            "visibility": null,
            "width": null
          }
        },
        "a229044b5bc2425db75de60018c68492": {
          "model_module": "@jupyter-widgets/controls",
          "model_name": "DescriptionStyleModel",
          "model_module_version": "1.5.0",
          "state": {
            "_model_module": "@jupyter-widgets/controls",
            "_model_module_version": "1.5.0",
            "_model_name": "DescriptionStyleModel",
            "_view_count": null,
            "_view_module": "@jupyter-widgets/base",
            "_view_module_version": "1.2.0",
            "_view_name": "StyleView",
            "description_width": ""
          }
        },
        "2b6d49ab56c040e6979c1f6e10328d9b": {
          "model_module": "@jupyter-widgets/controls",
          "model_name": "HBoxModel",
          "model_module_version": "1.5.0",
          "state": {
            "_dom_classes": [],
            "_model_module": "@jupyter-widgets/controls",
            "_model_module_version": "1.5.0",
            "_model_name": "HBoxModel",
            "_view_count": null,
            "_view_module": "@jupyter-widgets/controls",
            "_view_module_version": "1.5.0",
            "_view_name": "HBoxView",
            "box_style": "",
            "children": [
              "IPY_MODEL_97b8fce0313845d4bbfbaa20444fd0d1",
              "IPY_MODEL_cb58fce9eaa64610a307c6494143303c",
              "IPY_MODEL_58f52b7801a54db19fd616d2a35c00a2"
            ],
            "layout": "IPY_MODEL_245c6084d0a0429c8b59a72d89530a94"
          }
        },
        "97b8fce0313845d4bbfbaa20444fd0d1": {
          "model_module": "@jupyter-widgets/controls",
          "model_name": "HTMLModel",
          "model_module_version": "1.5.0",
          "state": {
            "_dom_classes": [],
            "_model_module": "@jupyter-widgets/controls",
            "_model_module_version": "1.5.0",
            "_model_name": "HTMLModel",
            "_view_count": null,
            "_view_module": "@jupyter-widgets/controls",
            "_view_module_version": "1.5.0",
            "_view_name": "HTMLView",
            "description": "",
            "description_tooltip": null,
            "layout": "IPY_MODEL_f8a70b037da847f39feb0936673b864c",
            "placeholder": "​",
            "style": "IPY_MODEL_c9612eff04974c6c9c3a2fe58d00ddc3",
            "value": "Map: 100%"
          }
        },
        "cb58fce9eaa64610a307c6494143303c": {
          "model_module": "@jupyter-widgets/controls",
          "model_name": "FloatProgressModel",
          "model_module_version": "1.5.0",
          "state": {
            "_dom_classes": [],
            "_model_module": "@jupyter-widgets/controls",
            "_model_module_version": "1.5.0",
            "_model_name": "FloatProgressModel",
            "_view_count": null,
            "_view_module": "@jupyter-widgets/controls",
            "_view_module_version": "1.5.0",
            "_view_name": "ProgressView",
            "bar_style": "success",
            "description": "",
            "description_tooltip": null,
            "layout": "IPY_MODEL_618c79d18a35424b9d96520c237cde11",
            "max": 3250,
            "min": 0,
            "orientation": "horizontal",
            "style": "IPY_MODEL_08ac9e76d56f433c876fd209b69845ee",
            "value": 3250
          }
        },
        "58f52b7801a54db19fd616d2a35c00a2": {
          "model_module": "@jupyter-widgets/controls",
          "model_name": "HTMLModel",
          "model_module_version": "1.5.0",
          "state": {
            "_dom_classes": [],
            "_model_module": "@jupyter-widgets/controls",
            "_model_module_version": "1.5.0",
            "_model_name": "HTMLModel",
            "_view_count": null,
            "_view_module": "@jupyter-widgets/controls",
            "_view_module_version": "1.5.0",
            "_view_name": "HTMLView",
            "description": "",
            "description_tooltip": null,
            "layout": "IPY_MODEL_ea14585da3b243739d14012a60905dc7",
            "placeholder": "​",
            "style": "IPY_MODEL_bd3c5262d8224efc829d4cff0e736c44",
            "value": " 3250/3250 [00:00&lt;00:00, 4065.72 examples/s]"
          }
        },
        "245c6084d0a0429c8b59a72d89530a94": {
          "model_module": "@jupyter-widgets/base",
          "model_name": "LayoutModel",
          "model_module_version": "1.2.0",
          "state": {
            "_model_module": "@jupyter-widgets/base",
            "_model_module_version": "1.2.0",
            "_model_name": "LayoutModel",
            "_view_count": null,
            "_view_module": "@jupyter-widgets/base",
            "_view_module_version": "1.2.0",
            "_view_name": "LayoutView",
            "align_content": null,
            "align_items": null,
            "align_self": null,
            "border": null,
            "bottom": null,
            "display": null,
            "flex": null,
            "flex_flow": null,
            "grid_area": null,
            "grid_auto_columns": null,
            "grid_auto_flow": null,
            "grid_auto_rows": null,
            "grid_column": null,
            "grid_gap": null,
            "grid_row": null,
            "grid_template_areas": null,
            "grid_template_columns": null,
            "grid_template_rows": null,
            "height": null,
            "justify_content": null,
            "justify_items": null,
            "left": null,
            "margin": null,
            "max_height": null,
            "max_width": null,
            "min_height": null,
            "min_width": null,
            "object_fit": null,
            "object_position": null,
            "order": null,
            "overflow": null,
            "overflow_x": null,
            "overflow_y": null,
            "padding": null,
            "right": null,
            "top": null,
            "visibility": null,
            "width": null
          }
        },
        "f8a70b037da847f39feb0936673b864c": {
          "model_module": "@jupyter-widgets/base",
          "model_name": "LayoutModel",
          "model_module_version": "1.2.0",
          "state": {
            "_model_module": "@jupyter-widgets/base",
            "_model_module_version": "1.2.0",
            "_model_name": "LayoutModel",
            "_view_count": null,
            "_view_module": "@jupyter-widgets/base",
            "_view_module_version": "1.2.0",
            "_view_name": "LayoutView",
            "align_content": null,
            "align_items": null,
            "align_self": null,
            "border": null,
            "bottom": null,
            "display": null,
            "flex": null,
            "flex_flow": null,
            "grid_area": null,
            "grid_auto_columns": null,
            "grid_auto_flow": null,
            "grid_auto_rows": null,
            "grid_column": null,
            "grid_gap": null,
            "grid_row": null,
            "grid_template_areas": null,
            "grid_template_columns": null,
            "grid_template_rows": null,
            "height": null,
            "justify_content": null,
            "justify_items": null,
            "left": null,
            "margin": null,
            "max_height": null,
            "max_width": null,
            "min_height": null,
            "min_width": null,
            "object_fit": null,
            "object_position": null,
            "order": null,
            "overflow": null,
            "overflow_x": null,
            "overflow_y": null,
            "padding": null,
            "right": null,
            "top": null,
            "visibility": null,
            "width": null
          }
        },
        "c9612eff04974c6c9c3a2fe58d00ddc3": {
          "model_module": "@jupyter-widgets/controls",
          "model_name": "DescriptionStyleModel",
          "model_module_version": "1.5.0",
          "state": {
            "_model_module": "@jupyter-widgets/controls",
            "_model_module_version": "1.5.0",
            "_model_name": "DescriptionStyleModel",
            "_view_count": null,
            "_view_module": "@jupyter-widgets/base",
            "_view_module_version": "1.2.0",
            "_view_name": "StyleView",
            "description_width": ""
          }
        },
        "618c79d18a35424b9d96520c237cde11": {
          "model_module": "@jupyter-widgets/base",
          "model_name": "LayoutModel",
          "model_module_version": "1.2.0",
          "state": {
            "_model_module": "@jupyter-widgets/base",
            "_model_module_version": "1.2.0",
            "_model_name": "LayoutModel",
            "_view_count": null,
            "_view_module": "@jupyter-widgets/base",
            "_view_module_version": "1.2.0",
            "_view_name": "LayoutView",
            "align_content": null,
            "align_items": null,
            "align_self": null,
            "border": null,
            "bottom": null,
            "display": null,
            "flex": null,
            "flex_flow": null,
            "grid_area": null,
            "grid_auto_columns": null,
            "grid_auto_flow": null,
            "grid_auto_rows": null,
            "grid_column": null,
            "grid_gap": null,
            "grid_row": null,
            "grid_template_areas": null,
            "grid_template_columns": null,
            "grid_template_rows": null,
            "height": null,
            "justify_content": null,
            "justify_items": null,
            "left": null,
            "margin": null,
            "max_height": null,
            "max_width": null,
            "min_height": null,
            "min_width": null,
            "object_fit": null,
            "object_position": null,
            "order": null,
            "overflow": null,
            "overflow_x": null,
            "overflow_y": null,
            "padding": null,
            "right": null,
            "top": null,
            "visibility": null,
            "width": null
          }
        },
        "08ac9e76d56f433c876fd209b69845ee": {
          "model_module": "@jupyter-widgets/controls",
          "model_name": "ProgressStyleModel",
          "model_module_version": "1.5.0",
          "state": {
            "_model_module": "@jupyter-widgets/controls",
            "_model_module_version": "1.5.0",
            "_model_name": "ProgressStyleModel",
            "_view_count": null,
            "_view_module": "@jupyter-widgets/base",
            "_view_module_version": "1.2.0",
            "_view_name": "StyleView",
            "bar_color": null,
            "description_width": ""
          }
        },
        "ea14585da3b243739d14012a60905dc7": {
          "model_module": "@jupyter-widgets/base",
          "model_name": "LayoutModel",
          "model_module_version": "1.2.0",
          "state": {
            "_model_module": "@jupyter-widgets/base",
            "_model_module_version": "1.2.0",
            "_model_name": "LayoutModel",
            "_view_count": null,
            "_view_module": "@jupyter-widgets/base",
            "_view_module_version": "1.2.0",
            "_view_name": "LayoutView",
            "align_content": null,
            "align_items": null,
            "align_self": null,
            "border": null,
            "bottom": null,
            "display": null,
            "flex": null,
            "flex_flow": null,
            "grid_area": null,
            "grid_auto_columns": null,
            "grid_auto_flow": null,
            "grid_auto_rows": null,
            "grid_column": null,
            "grid_gap": null,
            "grid_row": null,
            "grid_template_areas": null,
            "grid_template_columns": null,
            "grid_template_rows": null,
            "height": null,
            "justify_content": null,
            "justify_items": null,
            "left": null,
            "margin": null,
            "max_height": null,
            "max_width": null,
            "min_height": null,
            "min_width": null,
            "object_fit": null,
            "object_position": null,
            "order": null,
            "overflow": null,
            "overflow_x": null,
            "overflow_y": null,
            "padding": null,
            "right": null,
            "top": null,
            "visibility": null,
            "width": null
          }
        },
        "bd3c5262d8224efc829d4cff0e736c44": {
          "model_module": "@jupyter-widgets/controls",
          "model_name": "DescriptionStyleModel",
          "model_module_version": "1.5.0",
          "state": {
            "_model_module": "@jupyter-widgets/controls",
            "_model_module_version": "1.5.0",
            "_model_name": "DescriptionStyleModel",
            "_view_count": null,
            "_view_module": "@jupyter-widgets/base",
            "_view_module_version": "1.2.0",
            "_view_name": "StyleView",
            "description_width": ""
          }
        },
        "1e1b17372b624def821b12cfd78eccf1": {
          "model_module": "@jupyter-widgets/controls",
          "model_name": "HBoxModel",
          "model_module_version": "1.5.0",
          "state": {
            "_dom_classes": [],
            "_model_module": "@jupyter-widgets/controls",
            "_model_module_version": "1.5.0",
            "_model_name": "HBoxModel",
            "_view_count": null,
            "_view_module": "@jupyter-widgets/controls",
            "_view_module_version": "1.5.0",
            "_view_name": "HBoxView",
            "box_style": "",
            "children": [
              "IPY_MODEL_88c68f839cef4e0ebcfdbb89005dffed",
              "IPY_MODEL_04e147f472034c67aea41781902eac7f",
              "IPY_MODEL_b0c1b14e2a1f4c9c9a84b5054694c495"
            ],
            "layout": "IPY_MODEL_cd6fdd107a1a4b9c87e32f07f808a129"
          }
        },
        "88c68f839cef4e0ebcfdbb89005dffed": {
          "model_module": "@jupyter-widgets/controls",
          "model_name": "HTMLModel",
          "model_module_version": "1.5.0",
          "state": {
            "_dom_classes": [],
            "_model_module": "@jupyter-widgets/controls",
            "_model_module_version": "1.5.0",
            "_model_name": "HTMLModel",
            "_view_count": null,
            "_view_module": "@jupyter-widgets/controls",
            "_view_module_version": "1.5.0",
            "_view_name": "HTMLView",
            "description": "",
            "description_tooltip": null,
            "layout": "IPY_MODEL_63087a950c9344e6bd8cfba738b9ec7c",
            "placeholder": "​",
            "style": "IPY_MODEL_03d2fb24fb424526999dc938d83edef5",
            "value": "Map: 100%"
          }
        },
        "04e147f472034c67aea41781902eac7f": {
          "model_module": "@jupyter-widgets/controls",
          "model_name": "FloatProgressModel",
          "model_module_version": "1.5.0",
          "state": {
            "_dom_classes": [],
            "_model_module": "@jupyter-widgets/controls",
            "_model_module_version": "1.5.0",
            "_model_name": "FloatProgressModel",
            "_view_count": null,
            "_view_module": "@jupyter-widgets/controls",
            "_view_module_version": "1.5.0",
            "_view_name": "ProgressView",
            "bar_style": "success",
            "description": "",
            "description_tooltip": null,
            "layout": "IPY_MODEL_42c889e5be0043e7bc704996f79334e8",
            "max": 14041,
            "min": 0,
            "orientation": "horizontal",
            "style": "IPY_MODEL_4a1c8e255bd74a65ba17c96831f10129",
            "value": 14041
          }
        },
        "b0c1b14e2a1f4c9c9a84b5054694c495": {
          "model_module": "@jupyter-widgets/controls",
          "model_name": "HTMLModel",
          "model_module_version": "1.5.0",
          "state": {
            "_dom_classes": [],
            "_model_module": "@jupyter-widgets/controls",
            "_model_module_version": "1.5.0",
            "_model_name": "HTMLModel",
            "_view_count": null,
            "_view_module": "@jupyter-widgets/controls",
            "_view_module_version": "1.5.0",
            "_view_name": "HTMLView",
            "description": "",
            "description_tooltip": null,
            "layout": "IPY_MODEL_8c31fc70fc9f4bc0a3497f04f971cc12",
            "placeholder": "​",
            "style": "IPY_MODEL_9915b66ddb6b4c99b50a39f48a109018",
            "value": " 14041/14041 [00:04&lt;00:00, 2294.12 examples/s]"
          }
        },
        "cd6fdd107a1a4b9c87e32f07f808a129": {
          "model_module": "@jupyter-widgets/base",
          "model_name": "LayoutModel",
          "model_module_version": "1.2.0",
          "state": {
            "_model_module": "@jupyter-widgets/base",
            "_model_module_version": "1.2.0",
            "_model_name": "LayoutModel",
            "_view_count": null,
            "_view_module": "@jupyter-widgets/base",
            "_view_module_version": "1.2.0",
            "_view_name": "LayoutView",
            "align_content": null,
            "align_items": null,
            "align_self": null,
            "border": null,
            "bottom": null,
            "display": null,
            "flex": null,
            "flex_flow": null,
            "grid_area": null,
            "grid_auto_columns": null,
            "grid_auto_flow": null,
            "grid_auto_rows": null,
            "grid_column": null,
            "grid_gap": null,
            "grid_row": null,
            "grid_template_areas": null,
            "grid_template_columns": null,
            "grid_template_rows": null,
            "height": null,
            "justify_content": null,
            "justify_items": null,
            "left": null,
            "margin": null,
            "max_height": null,
            "max_width": null,
            "min_height": null,
            "min_width": null,
            "object_fit": null,
            "object_position": null,
            "order": null,
            "overflow": null,
            "overflow_x": null,
            "overflow_y": null,
            "padding": null,
            "right": null,
            "top": null,
            "visibility": null,
            "width": null
          }
        },
        "63087a950c9344e6bd8cfba738b9ec7c": {
          "model_module": "@jupyter-widgets/base",
          "model_name": "LayoutModel",
          "model_module_version": "1.2.0",
          "state": {
            "_model_module": "@jupyter-widgets/base",
            "_model_module_version": "1.2.0",
            "_model_name": "LayoutModel",
            "_view_count": null,
            "_view_module": "@jupyter-widgets/base",
            "_view_module_version": "1.2.0",
            "_view_name": "LayoutView",
            "align_content": null,
            "align_items": null,
            "align_self": null,
            "border": null,
            "bottom": null,
            "display": null,
            "flex": null,
            "flex_flow": null,
            "grid_area": null,
            "grid_auto_columns": null,
            "grid_auto_flow": null,
            "grid_auto_rows": null,
            "grid_column": null,
            "grid_gap": null,
            "grid_row": null,
            "grid_template_areas": null,
            "grid_template_columns": null,
            "grid_template_rows": null,
            "height": null,
            "justify_content": null,
            "justify_items": null,
            "left": null,
            "margin": null,
            "max_height": null,
            "max_width": null,
            "min_height": null,
            "min_width": null,
            "object_fit": null,
            "object_position": null,
            "order": null,
            "overflow": null,
            "overflow_x": null,
            "overflow_y": null,
            "padding": null,
            "right": null,
            "top": null,
            "visibility": null,
            "width": null
          }
        },
        "03d2fb24fb424526999dc938d83edef5": {
          "model_module": "@jupyter-widgets/controls",
          "model_name": "DescriptionStyleModel",
          "model_module_version": "1.5.0",
          "state": {
            "_model_module": "@jupyter-widgets/controls",
            "_model_module_version": "1.5.0",
            "_model_name": "DescriptionStyleModel",
            "_view_count": null,
            "_view_module": "@jupyter-widgets/base",
            "_view_module_version": "1.2.0",
            "_view_name": "StyleView",
            "description_width": ""
          }
        },
        "42c889e5be0043e7bc704996f79334e8": {
          "model_module": "@jupyter-widgets/base",
          "model_name": "LayoutModel",
          "model_module_version": "1.2.0",
          "state": {
            "_model_module": "@jupyter-widgets/base",
            "_model_module_version": "1.2.0",
            "_model_name": "LayoutModel",
            "_view_count": null,
            "_view_module": "@jupyter-widgets/base",
            "_view_module_version": "1.2.0",
            "_view_name": "LayoutView",
            "align_content": null,
            "align_items": null,
            "align_self": null,
            "border": null,
            "bottom": null,
            "display": null,
            "flex": null,
            "flex_flow": null,
            "grid_area": null,
            "grid_auto_columns": null,
            "grid_auto_flow": null,
            "grid_auto_rows": null,
            "grid_column": null,
            "grid_gap": null,
            "grid_row": null,
            "grid_template_areas": null,
            "grid_template_columns": null,
            "grid_template_rows": null,
            "height": null,
            "justify_content": null,
            "justify_items": null,
            "left": null,
            "margin": null,
            "max_height": null,
            "max_width": null,
            "min_height": null,
            "min_width": null,
            "object_fit": null,
            "object_position": null,
            "order": null,
            "overflow": null,
            "overflow_x": null,
            "overflow_y": null,
            "padding": null,
            "right": null,
            "top": null,
            "visibility": null,
            "width": null
          }
        },
        "4a1c8e255bd74a65ba17c96831f10129": {
          "model_module": "@jupyter-widgets/controls",
          "model_name": "ProgressStyleModel",
          "model_module_version": "1.5.0",
          "state": {
            "_model_module": "@jupyter-widgets/controls",
            "_model_module_version": "1.5.0",
            "_model_name": "ProgressStyleModel",
            "_view_count": null,
            "_view_module": "@jupyter-widgets/base",
            "_view_module_version": "1.2.0",
            "_view_name": "StyleView",
            "bar_color": null,
            "description_width": ""
          }
        },
        "8c31fc70fc9f4bc0a3497f04f971cc12": {
          "model_module": "@jupyter-widgets/base",
          "model_name": "LayoutModel",
          "model_module_version": "1.2.0",
          "state": {
            "_model_module": "@jupyter-widgets/base",
            "_model_module_version": "1.2.0",
            "_model_name": "LayoutModel",
            "_view_count": null,
            "_view_module": "@jupyter-widgets/base",
            "_view_module_version": "1.2.0",
            "_view_name": "LayoutView",
            "align_content": null,
            "align_items": null,
            "align_self": null,
            "border": null,
            "bottom": null,
            "display": null,
            "flex": null,
            "flex_flow": null,
            "grid_area": null,
            "grid_auto_columns": null,
            "grid_auto_flow": null,
            "grid_auto_rows": null,
            "grid_column": null,
            "grid_gap": null,
            "grid_row": null,
            "grid_template_areas": null,
            "grid_template_columns": null,
            "grid_template_rows": null,
            "height": null,
            "justify_content": null,
            "justify_items": null,
            "left": null,
            "margin": null,
            "max_height": null,
            "max_width": null,
            "min_height": null,
            "min_width": null,
            "object_fit": null,
            "object_position": null,
            "order": null,
            "overflow": null,
            "overflow_x": null,
            "overflow_y": null,
            "padding": null,
            "right": null,
            "top": null,
            "visibility": null,
            "width": null
          }
        },
        "9915b66ddb6b4c99b50a39f48a109018": {
          "model_module": "@jupyter-widgets/controls",
          "model_name": "DescriptionStyleModel",
          "model_module_version": "1.5.0",
          "state": {
            "_model_module": "@jupyter-widgets/controls",
            "_model_module_version": "1.5.0",
            "_model_name": "DescriptionStyleModel",
            "_view_count": null,
            "_view_module": "@jupyter-widgets/base",
            "_view_module_version": "1.2.0",
            "_view_name": "StyleView",
            "description_width": ""
          }
        },
        "7cb973bbeffb4fb2a7a5fbf380bd4948": {
          "model_module": "@jupyter-widgets/controls",
          "model_name": "HBoxModel",
          "model_module_version": "1.5.0",
          "state": {
            "_dom_classes": [],
            "_model_module": "@jupyter-widgets/controls",
            "_model_module_version": "1.5.0",
            "_model_name": "HBoxModel",
            "_view_count": null,
            "_view_module": "@jupyter-widgets/controls",
            "_view_module_version": "1.5.0",
            "_view_name": "HBoxView",
            "box_style": "",
            "children": [
              "IPY_MODEL_d9eacdf2878a47f684e68ed0c3eb0bd4",
              "IPY_MODEL_c8a034f0066544e3bf07e31f230b4a68",
              "IPY_MODEL_0fb681220821421395f615fc4c1f6a19"
            ],
            "layout": "IPY_MODEL_0a2d1c004eaf4d168ccc51bb9917acc1"
          }
        },
        "d9eacdf2878a47f684e68ed0c3eb0bd4": {
          "model_module": "@jupyter-widgets/controls",
          "model_name": "HTMLModel",
          "model_module_version": "1.5.0",
          "state": {
            "_dom_classes": [],
            "_model_module": "@jupyter-widgets/controls",
            "_model_module_version": "1.5.0",
            "_model_name": "HTMLModel",
            "_view_count": null,
            "_view_module": "@jupyter-widgets/controls",
            "_view_module_version": "1.5.0",
            "_view_name": "HTMLView",
            "description": "",
            "description_tooltip": null,
            "layout": "IPY_MODEL_29e172bad7624fad9a4a0083400de649",
            "placeholder": "​",
            "style": "IPY_MODEL_d77ff882406a4049a0220b1b6fa34e4f",
            "value": "Map: 100%"
          }
        },
        "c8a034f0066544e3bf07e31f230b4a68": {
          "model_module": "@jupyter-widgets/controls",
          "model_name": "FloatProgressModel",
          "model_module_version": "1.5.0",
          "state": {
            "_dom_classes": [],
            "_model_module": "@jupyter-widgets/controls",
            "_model_module_version": "1.5.0",
            "_model_name": "FloatProgressModel",
            "_view_count": null,
            "_view_module": "@jupyter-widgets/controls",
            "_view_module_version": "1.5.0",
            "_view_name": "ProgressView",
            "bar_style": "success",
            "description": "",
            "description_tooltip": null,
            "layout": "IPY_MODEL_f06e560d33ee4a2ea4b829351bd589f2",
            "max": 3453,
            "min": 0,
            "orientation": "horizontal",
            "style": "IPY_MODEL_060ea086931b4fa5b6574e1606b27f53",
            "value": 3453
          }
        },
        "0fb681220821421395f615fc4c1f6a19": {
          "model_module": "@jupyter-widgets/controls",
          "model_name": "HTMLModel",
          "model_module_version": "1.5.0",
          "state": {
            "_dom_classes": [],
            "_model_module": "@jupyter-widgets/controls",
            "_model_module_version": "1.5.0",
            "_model_name": "HTMLModel",
            "_view_count": null,
            "_view_module": "@jupyter-widgets/controls",
            "_view_module_version": "1.5.0",
            "_view_name": "HTMLView",
            "description": "",
            "description_tooltip": null,
            "layout": "IPY_MODEL_571a2f2c2b3b4f1490c583a7f207400c",
            "placeholder": "​",
            "style": "IPY_MODEL_031322a941824bfb823451cbf41919a8",
            "value": " 3453/3453 [00:01&lt;00:00, 3689.69 examples/s]"
          }
        },
        "0a2d1c004eaf4d168ccc51bb9917acc1": {
          "model_module": "@jupyter-widgets/base",
          "model_name": "LayoutModel",
          "model_module_version": "1.2.0",
          "state": {
            "_model_module": "@jupyter-widgets/base",
            "_model_module_version": "1.2.0",
            "_model_name": "LayoutModel",
            "_view_count": null,
            "_view_module": "@jupyter-widgets/base",
            "_view_module_version": "1.2.0",
            "_view_name": "LayoutView",
            "align_content": null,
            "align_items": null,
            "align_self": null,
            "border": null,
            "bottom": null,
            "display": null,
            "flex": null,
            "flex_flow": null,
            "grid_area": null,
            "grid_auto_columns": null,
            "grid_auto_flow": null,
            "grid_auto_rows": null,
            "grid_column": null,
            "grid_gap": null,
            "grid_row": null,
            "grid_template_areas": null,
            "grid_template_columns": null,
            "grid_template_rows": null,
            "height": null,
            "justify_content": null,
            "justify_items": null,
            "left": null,
            "margin": null,
            "max_height": null,
            "max_width": null,
            "min_height": null,
            "min_width": null,
            "object_fit": null,
            "object_position": null,
            "order": null,
            "overflow": null,
            "overflow_x": null,
            "overflow_y": null,
            "padding": null,
            "right": null,
            "top": null,
            "visibility": null,
            "width": null
          }
        },
        "29e172bad7624fad9a4a0083400de649": {
          "model_module": "@jupyter-widgets/base",
          "model_name": "LayoutModel",
          "model_module_version": "1.2.0",
          "state": {
            "_model_module": "@jupyter-widgets/base",
            "_model_module_version": "1.2.0",
            "_model_name": "LayoutModel",
            "_view_count": null,
            "_view_module": "@jupyter-widgets/base",
            "_view_module_version": "1.2.0",
            "_view_name": "LayoutView",
            "align_content": null,
            "align_items": null,
            "align_self": null,
            "border": null,
            "bottom": null,
            "display": null,
            "flex": null,
            "flex_flow": null,
            "grid_area": null,
            "grid_auto_columns": null,
            "grid_auto_flow": null,
            "grid_auto_rows": null,
            "grid_column": null,
            "grid_gap": null,
            "grid_row": null,
            "grid_template_areas": null,
            "grid_template_columns": null,
            "grid_template_rows": null,
            "height": null,
            "justify_content": null,
            "justify_items": null,
            "left": null,
            "margin": null,
            "max_height": null,
            "max_width": null,
            "min_height": null,
            "min_width": null,
            "object_fit": null,
            "object_position": null,
            "order": null,
            "overflow": null,
            "overflow_x": null,
            "overflow_y": null,
            "padding": null,
            "right": null,
            "top": null,
            "visibility": null,
            "width": null
          }
        },
        "d77ff882406a4049a0220b1b6fa34e4f": {
          "model_module": "@jupyter-widgets/controls",
          "model_name": "DescriptionStyleModel",
          "model_module_version": "1.5.0",
          "state": {
            "_model_module": "@jupyter-widgets/controls",
            "_model_module_version": "1.5.0",
            "_model_name": "DescriptionStyleModel",
            "_view_count": null,
            "_view_module": "@jupyter-widgets/base",
            "_view_module_version": "1.2.0",
            "_view_name": "StyleView",
            "description_width": ""
          }
        },
        "f06e560d33ee4a2ea4b829351bd589f2": {
          "model_module": "@jupyter-widgets/base",
          "model_name": "LayoutModel",
          "model_module_version": "1.2.0",
          "state": {
            "_model_module": "@jupyter-widgets/base",
            "_model_module_version": "1.2.0",
            "_model_name": "LayoutModel",
            "_view_count": null,
            "_view_module": "@jupyter-widgets/base",
            "_view_module_version": "1.2.0",
            "_view_name": "LayoutView",
            "align_content": null,
            "align_items": null,
            "align_self": null,
            "border": null,
            "bottom": null,
            "display": null,
            "flex": null,
            "flex_flow": null,
            "grid_area": null,
            "grid_auto_columns": null,
            "grid_auto_flow": null,
            "grid_auto_rows": null,
            "grid_column": null,
            "grid_gap": null,
            "grid_row": null,
            "grid_template_areas": null,
            "grid_template_columns": null,
            "grid_template_rows": null,
            "height": null,
            "justify_content": null,
            "justify_items": null,
            "left": null,
            "margin": null,
            "max_height": null,
            "max_width": null,
            "min_height": null,
            "min_width": null,
            "object_fit": null,
            "object_position": null,
            "order": null,
            "overflow": null,
            "overflow_x": null,
            "overflow_y": null,
            "padding": null,
            "right": null,
            "top": null,
            "visibility": null,
            "width": null
          }
        },
        "060ea086931b4fa5b6574e1606b27f53": {
          "model_module": "@jupyter-widgets/controls",
          "model_name": "ProgressStyleModel",
          "model_module_version": "1.5.0",
          "state": {
            "_model_module": "@jupyter-widgets/controls",
            "_model_module_version": "1.5.0",
            "_model_name": "ProgressStyleModel",
            "_view_count": null,
            "_view_module": "@jupyter-widgets/base",
            "_view_module_version": "1.2.0",
            "_view_name": "StyleView",
            "bar_color": null,
            "description_width": ""
          }
        },
        "571a2f2c2b3b4f1490c583a7f207400c": {
          "model_module": "@jupyter-widgets/base",
          "model_name": "LayoutModel",
          "model_module_version": "1.2.0",
          "state": {
            "_model_module": "@jupyter-widgets/base",
            "_model_module_version": "1.2.0",
            "_model_name": "LayoutModel",
            "_view_count": null,
            "_view_module": "@jupyter-widgets/base",
            "_view_module_version": "1.2.0",
            "_view_name": "LayoutView",
            "align_content": null,
            "align_items": null,
            "align_self": null,
            "border": null,
            "bottom": null,
            "display": null,
            "flex": null,
            "flex_flow": null,
            "grid_area": null,
            "grid_auto_columns": null,
            "grid_auto_flow": null,
            "grid_auto_rows": null,
            "grid_column": null,
            "grid_gap": null,
            "grid_row": null,
            "grid_template_areas": null,
            "grid_template_columns": null,
            "grid_template_rows": null,
            "height": null,
            "justify_content": null,
            "justify_items": null,
            "left": null,
            "margin": null,
            "max_height": null,
            "max_width": null,
            "min_height": null,
            "min_width": null,
            "object_fit": null,
            "object_position": null,
            "order": null,
            "overflow": null,
            "overflow_x": null,
            "overflow_y": null,
            "padding": null,
            "right": null,
            "top": null,
            "visibility": null,
            "width": null
          }
        },
        "031322a941824bfb823451cbf41919a8": {
          "model_module": "@jupyter-widgets/controls",
          "model_name": "DescriptionStyleModel",
          "model_module_version": "1.5.0",
          "state": {
            "_model_module": "@jupyter-widgets/controls",
            "_model_module_version": "1.5.0",
            "_model_name": "DescriptionStyleModel",
            "_view_count": null,
            "_view_module": "@jupyter-widgets/base",
            "_view_module_version": "1.2.0",
            "_view_name": "StyleView",
            "description_width": ""
          }
        },
        "8244d074a731453bb8e071b0cfb9ca0e": {
          "model_module": "@jupyter-widgets/controls",
          "model_name": "HBoxModel",
          "model_module_version": "1.5.0",
          "state": {
            "_dom_classes": [],
            "_model_module": "@jupyter-widgets/controls",
            "_model_module_version": "1.5.0",
            "_model_name": "HBoxModel",
            "_view_count": null,
            "_view_module": "@jupyter-widgets/controls",
            "_view_module_version": "1.5.0",
            "_view_name": "HBoxView",
            "box_style": "",
            "children": [
              "IPY_MODEL_99e37fed0716400c971e391740ad3316",
              "IPY_MODEL_417c367c4cc945a5a291123bb0431776",
              "IPY_MODEL_b16cddc59b0a4334aa893852e16ce64d"
            ],
            "layout": "IPY_MODEL_5da8f3e450ee4dcdb7c5a2476d07e71e"
          }
        },
        "99e37fed0716400c971e391740ad3316": {
          "model_module": "@jupyter-widgets/controls",
          "model_name": "HTMLModel",
          "model_module_version": "1.5.0",
          "state": {
            "_dom_classes": [],
            "_model_module": "@jupyter-widgets/controls",
            "_model_module_version": "1.5.0",
            "_model_name": "HTMLModel",
            "_view_count": null,
            "_view_module": "@jupyter-widgets/controls",
            "_view_module_version": "1.5.0",
            "_view_name": "HTMLView",
            "description": "",
            "description_tooltip": null,
            "layout": "IPY_MODEL_b6983f0cd2fe46fca137e0b33d0f86ba",
            "placeholder": "​",
            "style": "IPY_MODEL_9e14cc700e7e4c32bb16e5612cc715e7",
            "value": "Map: 100%"
          }
        },
        "417c367c4cc945a5a291123bb0431776": {
          "model_module": "@jupyter-widgets/controls",
          "model_name": "FloatProgressModel",
          "model_module_version": "1.5.0",
          "state": {
            "_dom_classes": [],
            "_model_module": "@jupyter-widgets/controls",
            "_model_module_version": "1.5.0",
            "_model_name": "FloatProgressModel",
            "_view_count": null,
            "_view_module": "@jupyter-widgets/controls",
            "_view_module_version": "1.5.0",
            "_view_name": "ProgressView",
            "bar_style": "success",
            "description": "",
            "description_tooltip": null,
            "layout": "IPY_MODEL_c03646bc87654f299b19f61d6074cbe5",
            "max": 3250,
            "min": 0,
            "orientation": "horizontal",
            "style": "IPY_MODEL_807094e84b03438c94da451788b06a38",
            "value": 3250
          }
        },
        "b16cddc59b0a4334aa893852e16ce64d": {
          "model_module": "@jupyter-widgets/controls",
          "model_name": "HTMLModel",
          "model_module_version": "1.5.0",
          "state": {
            "_dom_classes": [],
            "_model_module": "@jupyter-widgets/controls",
            "_model_module_version": "1.5.0",
            "_model_name": "HTMLModel",
            "_view_count": null,
            "_view_module": "@jupyter-widgets/controls",
            "_view_module_version": "1.5.0",
            "_view_name": "HTMLView",
            "description": "",
            "description_tooltip": null,
            "layout": "IPY_MODEL_7f6aae0026134c79994bc6664cf928f4",
            "placeholder": "​",
            "style": "IPY_MODEL_4519c6365fa949f9aa9d46702b0178ed",
            "value": " 3250/3250 [00:02&lt;00:00, 1380.11 examples/s]"
          }
        },
        "5da8f3e450ee4dcdb7c5a2476d07e71e": {
          "model_module": "@jupyter-widgets/base",
          "model_name": "LayoutModel",
          "model_module_version": "1.2.0",
          "state": {
            "_model_module": "@jupyter-widgets/base",
            "_model_module_version": "1.2.0",
            "_model_name": "LayoutModel",
            "_view_count": null,
            "_view_module": "@jupyter-widgets/base",
            "_view_module_version": "1.2.0",
            "_view_name": "LayoutView",
            "align_content": null,
            "align_items": null,
            "align_self": null,
            "border": null,
            "bottom": null,
            "display": null,
            "flex": null,
            "flex_flow": null,
            "grid_area": null,
            "grid_auto_columns": null,
            "grid_auto_flow": null,
            "grid_auto_rows": null,
            "grid_column": null,
            "grid_gap": null,
            "grid_row": null,
            "grid_template_areas": null,
            "grid_template_columns": null,
            "grid_template_rows": null,
            "height": null,
            "justify_content": null,
            "justify_items": null,
            "left": null,
            "margin": null,
            "max_height": null,
            "max_width": null,
            "min_height": null,
            "min_width": null,
            "object_fit": null,
            "object_position": null,
            "order": null,
            "overflow": null,
            "overflow_x": null,
            "overflow_y": null,
            "padding": null,
            "right": null,
            "top": null,
            "visibility": null,
            "width": null
          }
        },
        "b6983f0cd2fe46fca137e0b33d0f86ba": {
          "model_module": "@jupyter-widgets/base",
          "model_name": "LayoutModel",
          "model_module_version": "1.2.0",
          "state": {
            "_model_module": "@jupyter-widgets/base",
            "_model_module_version": "1.2.0",
            "_model_name": "LayoutModel",
            "_view_count": null,
            "_view_module": "@jupyter-widgets/base",
            "_view_module_version": "1.2.0",
            "_view_name": "LayoutView",
            "align_content": null,
            "align_items": null,
            "align_self": null,
            "border": null,
            "bottom": null,
            "display": null,
            "flex": null,
            "flex_flow": null,
            "grid_area": null,
            "grid_auto_columns": null,
            "grid_auto_flow": null,
            "grid_auto_rows": null,
            "grid_column": null,
            "grid_gap": null,
            "grid_row": null,
            "grid_template_areas": null,
            "grid_template_columns": null,
            "grid_template_rows": null,
            "height": null,
            "justify_content": null,
            "justify_items": null,
            "left": null,
            "margin": null,
            "max_height": null,
            "max_width": null,
            "min_height": null,
            "min_width": null,
            "object_fit": null,
            "object_position": null,
            "order": null,
            "overflow": null,
            "overflow_x": null,
            "overflow_y": null,
            "padding": null,
            "right": null,
            "top": null,
            "visibility": null,
            "width": null
          }
        },
        "9e14cc700e7e4c32bb16e5612cc715e7": {
          "model_module": "@jupyter-widgets/controls",
          "model_name": "DescriptionStyleModel",
          "model_module_version": "1.5.0",
          "state": {
            "_model_module": "@jupyter-widgets/controls",
            "_model_module_version": "1.5.0",
            "_model_name": "DescriptionStyleModel",
            "_view_count": null,
            "_view_module": "@jupyter-widgets/base",
            "_view_module_version": "1.2.0",
            "_view_name": "StyleView",
            "description_width": ""
          }
        },
        "c03646bc87654f299b19f61d6074cbe5": {
          "model_module": "@jupyter-widgets/base",
          "model_name": "LayoutModel",
          "model_module_version": "1.2.0",
          "state": {
            "_model_module": "@jupyter-widgets/base",
            "_model_module_version": "1.2.0",
            "_model_name": "LayoutModel",
            "_view_count": null,
            "_view_module": "@jupyter-widgets/base",
            "_view_module_version": "1.2.0",
            "_view_name": "LayoutView",
            "align_content": null,
            "align_items": null,
            "align_self": null,
            "border": null,
            "bottom": null,
            "display": null,
            "flex": null,
            "flex_flow": null,
            "grid_area": null,
            "grid_auto_columns": null,
            "grid_auto_flow": null,
            "grid_auto_rows": null,
            "grid_column": null,
            "grid_gap": null,
            "grid_row": null,
            "grid_template_areas": null,
            "grid_template_columns": null,
            "grid_template_rows": null,
            "height": null,
            "justify_content": null,
            "justify_items": null,
            "left": null,
            "margin": null,
            "max_height": null,
            "max_width": null,
            "min_height": null,
            "min_width": null,
            "object_fit": null,
            "object_position": null,
            "order": null,
            "overflow": null,
            "overflow_x": null,
            "overflow_y": null,
            "padding": null,
            "right": null,
            "top": null,
            "visibility": null,
            "width": null
          }
        },
        "807094e84b03438c94da451788b06a38": {
          "model_module": "@jupyter-widgets/controls",
          "model_name": "ProgressStyleModel",
          "model_module_version": "1.5.0",
          "state": {
            "_model_module": "@jupyter-widgets/controls",
            "_model_module_version": "1.5.0",
            "_model_name": "ProgressStyleModel",
            "_view_count": null,
            "_view_module": "@jupyter-widgets/base",
            "_view_module_version": "1.2.0",
            "_view_name": "StyleView",
            "bar_color": null,
            "description_width": ""
          }
        },
        "7f6aae0026134c79994bc6664cf928f4": {
          "model_module": "@jupyter-widgets/base",
          "model_name": "LayoutModel",
          "model_module_version": "1.2.0",
          "state": {
            "_model_module": "@jupyter-widgets/base",
            "_model_module_version": "1.2.0",
            "_model_name": "LayoutModel",
            "_view_count": null,
            "_view_module": "@jupyter-widgets/base",
            "_view_module_version": "1.2.0",
            "_view_name": "LayoutView",
            "align_content": null,
            "align_items": null,
            "align_self": null,
            "border": null,
            "bottom": null,
            "display": null,
            "flex": null,
            "flex_flow": null,
            "grid_area": null,
            "grid_auto_columns": null,
            "grid_auto_flow": null,
            "grid_auto_rows": null,
            "grid_column": null,
            "grid_gap": null,
            "grid_row": null,
            "grid_template_areas": null,
            "grid_template_columns": null,
            "grid_template_rows": null,
            "height": null,
            "justify_content": null,
            "justify_items": null,
            "left": null,
            "margin": null,
            "max_height": null,
            "max_width": null,
            "min_height": null,
            "min_width": null,
            "object_fit": null,
            "object_position": null,
            "order": null,
            "overflow": null,
            "overflow_x": null,
            "overflow_y": null,
            "padding": null,
            "right": null,
            "top": null,
            "visibility": null,
            "width": null
          }
        },
        "4519c6365fa949f9aa9d46702b0178ed": {
          "model_module": "@jupyter-widgets/controls",
          "model_name": "DescriptionStyleModel",
          "model_module_version": "1.5.0",
          "state": {
            "_model_module": "@jupyter-widgets/controls",
            "_model_module_version": "1.5.0",
            "_model_name": "DescriptionStyleModel",
            "_view_count": null,
            "_view_module": "@jupyter-widgets/base",
            "_view_module_version": "1.2.0",
            "_view_name": "StyleView",
            "description_width": ""
          }
        },
        "6edd8955d1ab4b2282a557cc87bd4169": {
          "model_module": "@jupyter-widgets/controls",
          "model_name": "HBoxModel",
          "model_module_version": "1.5.0",
          "state": {
            "_dom_classes": [],
            "_model_module": "@jupyter-widgets/controls",
            "_model_module_version": "1.5.0",
            "_model_name": "HBoxModel",
            "_view_count": null,
            "_view_module": "@jupyter-widgets/controls",
            "_view_module_version": "1.5.0",
            "_view_name": "HBoxView",
            "box_style": "",
            "children": [
              "IPY_MODEL_cd12447de73e4de79ee93bc3c9a33c91",
              "IPY_MODEL_3b4ea0dd06ef4709b2ecb26011ee8e95",
              "IPY_MODEL_b2e36c9c585e4b20a64747327998440e"
            ],
            "layout": "IPY_MODEL_8cdff18316de4a10b52f30c650119377"
          }
        },
        "cd12447de73e4de79ee93bc3c9a33c91": {
          "model_module": "@jupyter-widgets/controls",
          "model_name": "HTMLModel",
          "model_module_version": "1.5.0",
          "state": {
            "_dom_classes": [],
            "_model_module": "@jupyter-widgets/controls",
            "_model_module_version": "1.5.0",
            "_model_name": "HTMLModel",
            "_view_count": null,
            "_view_module": "@jupyter-widgets/controls",
            "_view_module_version": "1.5.0",
            "_view_name": "HTMLView",
            "description": "",
            "description_tooltip": null,
            "layout": "IPY_MODEL_b8e1177b69ef455f9f1b41e15b76f72f",
            "placeholder": "​",
            "style": "IPY_MODEL_6eefec44676f4b1d963d32849e0c7f8c",
            "value": "config.json: 100%"
          }
        },
        "3b4ea0dd06ef4709b2ecb26011ee8e95": {
          "model_module": "@jupyter-widgets/controls",
          "model_name": "FloatProgressModel",
          "model_module_version": "1.5.0",
          "state": {
            "_dom_classes": [],
            "_model_module": "@jupyter-widgets/controls",
            "_model_module_version": "1.5.0",
            "_model_name": "FloatProgressModel",
            "_view_count": null,
            "_view_module": "@jupyter-widgets/controls",
            "_view_module_version": "1.5.0",
            "_view_name": "ProgressView",
            "bar_style": "success",
            "description": "",
            "description_tooltip": null,
            "layout": "IPY_MODEL_f9c21b38d1ac43fbb04c531cea88beca",
            "max": 596,
            "min": 0,
            "orientation": "horizontal",
            "style": "IPY_MODEL_18e2e63696cf4d069e3b36f7de1e05cc",
            "value": 596
          }
        },
        "b2e36c9c585e4b20a64747327998440e": {
          "model_module": "@jupyter-widgets/controls",
          "model_name": "HTMLModel",
          "model_module_version": "1.5.0",
          "state": {
            "_dom_classes": [],
            "_model_module": "@jupyter-widgets/controls",
            "_model_module_version": "1.5.0",
            "_model_name": "HTMLModel",
            "_view_count": null,
            "_view_module": "@jupyter-widgets/controls",
            "_view_module_version": "1.5.0",
            "_view_name": "HTMLView",
            "description": "",
            "description_tooltip": null,
            "layout": "IPY_MODEL_869139eef2a54d77aba6c9c7bdf933a1",
            "placeholder": "​",
            "style": "IPY_MODEL_54bc5ed68afe43d28fd3f091ddebf0ad",
            "value": " 596/596 [00:00&lt;00:00, 39.7kB/s]"
          }
        },
        "8cdff18316de4a10b52f30c650119377": {
          "model_module": "@jupyter-widgets/base",
          "model_name": "LayoutModel",
          "model_module_version": "1.2.0",
          "state": {
            "_model_module": "@jupyter-widgets/base",
            "_model_module_version": "1.2.0",
            "_model_name": "LayoutModel",
            "_view_count": null,
            "_view_module": "@jupyter-widgets/base",
            "_view_module_version": "1.2.0",
            "_view_name": "LayoutView",
            "align_content": null,
            "align_items": null,
            "align_self": null,
            "border": null,
            "bottom": null,
            "display": null,
            "flex": null,
            "flex_flow": null,
            "grid_area": null,
            "grid_auto_columns": null,
            "grid_auto_flow": null,
            "grid_auto_rows": null,
            "grid_column": null,
            "grid_gap": null,
            "grid_row": null,
            "grid_template_areas": null,
            "grid_template_columns": null,
            "grid_template_rows": null,
            "height": null,
            "justify_content": null,
            "justify_items": null,
            "left": null,
            "margin": null,
            "max_height": null,
            "max_width": null,
            "min_height": null,
            "min_width": null,
            "object_fit": null,
            "object_position": null,
            "order": null,
            "overflow": null,
            "overflow_x": null,
            "overflow_y": null,
            "padding": null,
            "right": null,
            "top": null,
            "visibility": null,
            "width": null
          }
        },
        "b8e1177b69ef455f9f1b41e15b76f72f": {
          "model_module": "@jupyter-widgets/base",
          "model_name": "LayoutModel",
          "model_module_version": "1.2.0",
          "state": {
            "_model_module": "@jupyter-widgets/base",
            "_model_module_version": "1.2.0",
            "_model_name": "LayoutModel",
            "_view_count": null,
            "_view_module": "@jupyter-widgets/base",
            "_view_module_version": "1.2.0",
            "_view_name": "LayoutView",
            "align_content": null,
            "align_items": null,
            "align_self": null,
            "border": null,
            "bottom": null,
            "display": null,
            "flex": null,
            "flex_flow": null,
            "grid_area": null,
            "grid_auto_columns": null,
            "grid_auto_flow": null,
            "grid_auto_rows": null,
            "grid_column": null,
            "grid_gap": null,
            "grid_row": null,
            "grid_template_areas": null,
            "grid_template_columns": null,
            "grid_template_rows": null,
            "height": null,
            "justify_content": null,
            "justify_items": null,
            "left": null,
            "margin": null,
            "max_height": null,
            "max_width": null,
            "min_height": null,
            "min_width": null,
            "object_fit": null,
            "object_position": null,
            "order": null,
            "overflow": null,
            "overflow_x": null,
            "overflow_y": null,
            "padding": null,
            "right": null,
            "top": null,
            "visibility": null,
            "width": null
          }
        },
        "6eefec44676f4b1d963d32849e0c7f8c": {
          "model_module": "@jupyter-widgets/controls",
          "model_name": "DescriptionStyleModel",
          "model_module_version": "1.5.0",
          "state": {
            "_model_module": "@jupyter-widgets/controls",
            "_model_module_version": "1.5.0",
            "_model_name": "DescriptionStyleModel",
            "_view_count": null,
            "_view_module": "@jupyter-widgets/base",
            "_view_module_version": "1.2.0",
            "_view_name": "StyleView",
            "description_width": ""
          }
        },
        "f9c21b38d1ac43fbb04c531cea88beca": {
          "model_module": "@jupyter-widgets/base",
          "model_name": "LayoutModel",
          "model_module_version": "1.2.0",
          "state": {
            "_model_module": "@jupyter-widgets/base",
            "_model_module_version": "1.2.0",
            "_model_name": "LayoutModel",
            "_view_count": null,
            "_view_module": "@jupyter-widgets/base",
            "_view_module_version": "1.2.0",
            "_view_name": "LayoutView",
            "align_content": null,
            "align_items": null,
            "align_self": null,
            "border": null,
            "bottom": null,
            "display": null,
            "flex": null,
            "flex_flow": null,
            "grid_area": null,
            "grid_auto_columns": null,
            "grid_auto_flow": null,
            "grid_auto_rows": null,
            "grid_column": null,
            "grid_gap": null,
            "grid_row": null,
            "grid_template_areas": null,
            "grid_template_columns": null,
            "grid_template_rows": null,
            "height": null,
            "justify_content": null,
            "justify_items": null,
            "left": null,
            "margin": null,
            "max_height": null,
            "max_width": null,
            "min_height": null,
            "min_width": null,
            "object_fit": null,
            "object_position": null,
            "order": null,
            "overflow": null,
            "overflow_x": null,
            "overflow_y": null,
            "padding": null,
            "right": null,
            "top": null,
            "visibility": null,
            "width": null
          }
        },
        "18e2e63696cf4d069e3b36f7de1e05cc": {
          "model_module": "@jupyter-widgets/controls",
          "model_name": "ProgressStyleModel",
          "model_module_version": "1.5.0",
          "state": {
            "_model_module": "@jupyter-widgets/controls",
            "_model_module_version": "1.5.0",
            "_model_name": "ProgressStyleModel",
            "_view_count": null,
            "_view_module": "@jupyter-widgets/base",
            "_view_module_version": "1.2.0",
            "_view_name": "StyleView",
            "bar_color": null,
            "description_width": ""
          }
        },
        "869139eef2a54d77aba6c9c7bdf933a1": {
          "model_module": "@jupyter-widgets/base",
          "model_name": "LayoutModel",
          "model_module_version": "1.2.0",
          "state": {
            "_model_module": "@jupyter-widgets/base",
            "_model_module_version": "1.2.0",
            "_model_name": "LayoutModel",
            "_view_count": null,
            "_view_module": "@jupyter-widgets/base",
            "_view_module_version": "1.2.0",
            "_view_name": "LayoutView",
            "align_content": null,
            "align_items": null,
            "align_self": null,
            "border": null,
            "bottom": null,
            "display": null,
            "flex": null,
            "flex_flow": null,
            "grid_area": null,
            "grid_auto_columns": null,
            "grid_auto_flow": null,
            "grid_auto_rows": null,
            "grid_column": null,
            "grid_gap": null,
            "grid_row": null,
            "grid_template_areas": null,
            "grid_template_columns": null,
            "grid_template_rows": null,
            "height": null,
            "justify_content": null,
            "justify_items": null,
            "left": null,
            "margin": null,
            "max_height": null,
            "max_width": null,
            "min_height": null,
            "min_width": null,
            "object_fit": null,
            "object_position": null,
            "order": null,
            "overflow": null,
            "overflow_x": null,
            "overflow_y": null,
            "padding": null,
            "right": null,
            "top": null,
            "visibility": null,
            "width": null
          }
        },
        "54bc5ed68afe43d28fd3f091ddebf0ad": {
          "model_module": "@jupyter-widgets/controls",
          "model_name": "DescriptionStyleModel",
          "model_module_version": "1.5.0",
          "state": {
            "_model_module": "@jupyter-widgets/controls",
            "_model_module_version": "1.5.0",
            "_model_name": "DescriptionStyleModel",
            "_view_count": null,
            "_view_module": "@jupyter-widgets/base",
            "_view_module_version": "1.2.0",
            "_view_name": "StyleView",
            "description_width": ""
          }
        },
        "c3f06a55d62d4074b104b91887921e91": {
          "model_module": "@jupyter-widgets/controls",
          "model_name": "HBoxModel",
          "model_module_version": "1.5.0",
          "state": {
            "_dom_classes": [],
            "_model_module": "@jupyter-widgets/controls",
            "_model_module_version": "1.5.0",
            "_model_name": "HBoxModel",
            "_view_count": null,
            "_view_module": "@jupyter-widgets/controls",
            "_view_module_version": "1.5.0",
            "_view_name": "HBoxView",
            "box_style": "",
            "children": [
              "IPY_MODEL_2d98764ba15b4ab79f8b87a4c07b77be",
              "IPY_MODEL_b2ac6deed2fc42319d6d4d6b10c72b63",
              "IPY_MODEL_d3c5dba7578a412e8346560516fbde88"
            ],
            "layout": "IPY_MODEL_15c05680d72546849f41c1161084a535"
          }
        },
        "2d98764ba15b4ab79f8b87a4c07b77be": {
          "model_module": "@jupyter-widgets/controls",
          "model_name": "HTMLModel",
          "model_module_version": "1.5.0",
          "state": {
            "_dom_classes": [],
            "_model_module": "@jupyter-widgets/controls",
            "_model_module_version": "1.5.0",
            "_model_name": "HTMLModel",
            "_view_count": null,
            "_view_module": "@jupyter-widgets/controls",
            "_view_module_version": "1.5.0",
            "_view_name": "HTMLView",
            "description": "",
            "description_tooltip": null,
            "layout": "IPY_MODEL_956ed339d63b4544ac40603285914a8d",
            "placeholder": "​",
            "style": "IPY_MODEL_2d3d28ed4fd24bb6a6e0de30b4426b17",
            "value": "model.safetensors.index.json: 100%"
          }
        },
        "b2ac6deed2fc42319d6d4d6b10c72b63": {
          "model_module": "@jupyter-widgets/controls",
          "model_name": "FloatProgressModel",
          "model_module_version": "1.5.0",
          "state": {
            "_dom_classes": [],
            "_model_module": "@jupyter-widgets/controls",
            "_model_module_version": "1.5.0",
            "_model_name": "FloatProgressModel",
            "_view_count": null,
            "_view_module": "@jupyter-widgets/controls",
            "_view_module_version": "1.5.0",
            "_view_name": "ProgressView",
            "bar_style": "success",
            "description": "",
            "description_tooltip": null,
            "layout": "IPY_MODEL_49c04bef512444c2aa43680441cfc1b9",
            "max": 25125,
            "min": 0,
            "orientation": "horizontal",
            "style": "IPY_MODEL_c6d2f1079bd84f61b7abd7898e9004f7",
            "value": 25125
          }
        },
        "d3c5dba7578a412e8346560516fbde88": {
          "model_module": "@jupyter-widgets/controls",
          "model_name": "HTMLModel",
          "model_module_version": "1.5.0",
          "state": {
            "_dom_classes": [],
            "_model_module": "@jupyter-widgets/controls",
            "_model_module_version": "1.5.0",
            "_model_name": "HTMLModel",
            "_view_count": null,
            "_view_module": "@jupyter-widgets/controls",
            "_view_module_version": "1.5.0",
            "_view_name": "HTMLView",
            "description": "",
            "description_tooltip": null,
            "layout": "IPY_MODEL_5f600edef833464c955ef64f57833e1e",
            "placeholder": "​",
            "style": "IPY_MODEL_6e3935fd43af4ccca0b827f72c15520f",
            "value": " 25.1k/25.1k [00:00&lt;00:00, 1.15MB/s]"
          }
        },
        "15c05680d72546849f41c1161084a535": {
          "model_module": "@jupyter-widgets/base",
          "model_name": "LayoutModel",
          "model_module_version": "1.2.0",
          "state": {
            "_model_module": "@jupyter-widgets/base",
            "_model_module_version": "1.2.0",
            "_model_name": "LayoutModel",
            "_view_count": null,
            "_view_module": "@jupyter-widgets/base",
            "_view_module_version": "1.2.0",
            "_view_name": "LayoutView",
            "align_content": null,
            "align_items": null,
            "align_self": null,
            "border": null,
            "bottom": null,
            "display": null,
            "flex": null,
            "flex_flow": null,
            "grid_area": null,
            "grid_auto_columns": null,
            "grid_auto_flow": null,
            "grid_auto_rows": null,
            "grid_column": null,
            "grid_gap": null,
            "grid_row": null,
            "grid_template_areas": null,
            "grid_template_columns": null,
            "grid_template_rows": null,
            "height": null,
            "justify_content": null,
            "justify_items": null,
            "left": null,
            "margin": null,
            "max_height": null,
            "max_width": null,
            "min_height": null,
            "min_width": null,
            "object_fit": null,
            "object_position": null,
            "order": null,
            "overflow": null,
            "overflow_x": null,
            "overflow_y": null,
            "padding": null,
            "right": null,
            "top": null,
            "visibility": null,
            "width": null
          }
        },
        "956ed339d63b4544ac40603285914a8d": {
          "model_module": "@jupyter-widgets/base",
          "model_name": "LayoutModel",
          "model_module_version": "1.2.0",
          "state": {
            "_model_module": "@jupyter-widgets/base",
            "_model_module_version": "1.2.0",
            "_model_name": "LayoutModel",
            "_view_count": null,
            "_view_module": "@jupyter-widgets/base",
            "_view_module_version": "1.2.0",
            "_view_name": "LayoutView",
            "align_content": null,
            "align_items": null,
            "align_self": null,
            "border": null,
            "bottom": null,
            "display": null,
            "flex": null,
            "flex_flow": null,
            "grid_area": null,
            "grid_auto_columns": null,
            "grid_auto_flow": null,
            "grid_auto_rows": null,
            "grid_column": null,
            "grid_gap": null,
            "grid_row": null,
            "grid_template_areas": null,
            "grid_template_columns": null,
            "grid_template_rows": null,
            "height": null,
            "justify_content": null,
            "justify_items": null,
            "left": null,
            "margin": null,
            "max_height": null,
            "max_width": null,
            "min_height": null,
            "min_width": null,
            "object_fit": null,
            "object_position": null,
            "order": null,
            "overflow": null,
            "overflow_x": null,
            "overflow_y": null,
            "padding": null,
            "right": null,
            "top": null,
            "visibility": null,
            "width": null
          }
        },
        "2d3d28ed4fd24bb6a6e0de30b4426b17": {
          "model_module": "@jupyter-widgets/controls",
          "model_name": "DescriptionStyleModel",
          "model_module_version": "1.5.0",
          "state": {
            "_model_module": "@jupyter-widgets/controls",
            "_model_module_version": "1.5.0",
            "_model_name": "DescriptionStyleModel",
            "_view_count": null,
            "_view_module": "@jupyter-widgets/base",
            "_view_module_version": "1.2.0",
            "_view_name": "StyleView",
            "description_width": ""
          }
        },
        "49c04bef512444c2aa43680441cfc1b9": {
          "model_module": "@jupyter-widgets/base",
          "model_name": "LayoutModel",
          "model_module_version": "1.2.0",
          "state": {
            "_model_module": "@jupyter-widgets/base",
            "_model_module_version": "1.2.0",
            "_model_name": "LayoutModel",
            "_view_count": null,
            "_view_module": "@jupyter-widgets/base",
            "_view_module_version": "1.2.0",
            "_view_name": "LayoutView",
            "align_content": null,
            "align_items": null,
            "align_self": null,
            "border": null,
            "bottom": null,
            "display": null,
            "flex": null,
            "flex_flow": null,
            "grid_area": null,
            "grid_auto_columns": null,
            "grid_auto_flow": null,
            "grid_auto_rows": null,
            "grid_column": null,
            "grid_gap": null,
            "grid_row": null,
            "grid_template_areas": null,
            "grid_template_columns": null,
            "grid_template_rows": null,
            "height": null,
            "justify_content": null,
            "justify_items": null,
            "left": null,
            "margin": null,
            "max_height": null,
            "max_width": null,
            "min_height": null,
            "min_width": null,
            "object_fit": null,
            "object_position": null,
            "order": null,
            "overflow": null,
            "overflow_x": null,
            "overflow_y": null,
            "padding": null,
            "right": null,
            "top": null,
            "visibility": null,
            "width": null
          }
        },
        "c6d2f1079bd84f61b7abd7898e9004f7": {
          "model_module": "@jupyter-widgets/controls",
          "model_name": "ProgressStyleModel",
          "model_module_version": "1.5.0",
          "state": {
            "_model_module": "@jupyter-widgets/controls",
            "_model_module_version": "1.5.0",
            "_model_name": "ProgressStyleModel",
            "_view_count": null,
            "_view_module": "@jupyter-widgets/base",
            "_view_module_version": "1.2.0",
            "_view_name": "StyleView",
            "bar_color": null,
            "description_width": ""
          }
        },
        "5f600edef833464c955ef64f57833e1e": {
          "model_module": "@jupyter-widgets/base",
          "model_name": "LayoutModel",
          "model_module_version": "1.2.0",
          "state": {
            "_model_module": "@jupyter-widgets/base",
            "_model_module_version": "1.2.0",
            "_model_name": "LayoutModel",
            "_view_count": null,
            "_view_module": "@jupyter-widgets/base",
            "_view_module_version": "1.2.0",
            "_view_name": "LayoutView",
            "align_content": null,
            "align_items": null,
            "align_self": null,
            "border": null,
            "bottom": null,
            "display": null,
            "flex": null,
            "flex_flow": null,
            "grid_area": null,
            "grid_auto_columns": null,
            "grid_auto_flow": null,
            "grid_auto_rows": null,
            "grid_column": null,
            "grid_gap": null,
            "grid_row": null,
            "grid_template_areas": null,
            "grid_template_columns": null,
            "grid_template_rows": null,
            "height": null,
            "justify_content": null,
            "justify_items": null,
            "left": null,
            "margin": null,
            "max_height": null,
            "max_width": null,
            "min_height": null,
            "min_width": null,
            "object_fit": null,
            "object_position": null,
            "order": null,
            "overflow": null,
            "overflow_x": null,
            "overflow_y": null,
            "padding": null,
            "right": null,
            "top": null,
            "visibility": null,
            "width": null
          }
        },
        "6e3935fd43af4ccca0b827f72c15520f": {
          "model_module": "@jupyter-widgets/controls",
          "model_name": "DescriptionStyleModel",
          "model_module_version": "1.5.0",
          "state": {
            "_model_module": "@jupyter-widgets/controls",
            "_model_module_version": "1.5.0",
            "_model_name": "DescriptionStyleModel",
            "_view_count": null,
            "_view_module": "@jupyter-widgets/base",
            "_view_module_version": "1.2.0",
            "_view_name": "StyleView",
            "description_width": ""
          }
        },
        "dfcabb583dc14e379db71e50dac9708e": {
          "model_module": "@jupyter-widgets/controls",
          "model_name": "HBoxModel",
          "model_module_version": "1.5.0",
          "state": {
            "_dom_classes": [],
            "_model_module": "@jupyter-widgets/controls",
            "_model_module_version": "1.5.0",
            "_model_name": "HBoxModel",
            "_view_count": null,
            "_view_module": "@jupyter-widgets/controls",
            "_view_module_version": "1.5.0",
            "_view_name": "HBoxView",
            "box_style": "",
            "children": [
              "IPY_MODEL_afec8718f6d4456dbd07eaf9537c5bd0",
              "IPY_MODEL_e4bb456965c048729df3a093b5de0860",
              "IPY_MODEL_8ab2829599224a0cbeaea6f96195e805"
            ],
            "layout": "IPY_MODEL_c6b8c45935d84888aaba5eb421987b7e"
          }
        },
        "afec8718f6d4456dbd07eaf9537c5bd0": {
          "model_module": "@jupyter-widgets/controls",
          "model_name": "HTMLModel",
          "model_module_version": "1.5.0",
          "state": {
            "_dom_classes": [],
            "_model_module": "@jupyter-widgets/controls",
            "_model_module_version": "1.5.0",
            "_model_name": "HTMLModel",
            "_view_count": null,
            "_view_module": "@jupyter-widgets/controls",
            "_view_module_version": "1.5.0",
            "_view_name": "HTMLView",
            "description": "",
            "description_tooltip": null,
            "layout": "IPY_MODEL_f1540081b891458694710b9bd146ece4",
            "placeholder": "​",
            "style": "IPY_MODEL_ddde464c29f3436a9ae9ed68c39a8277",
            "value": "Downloading shards: 100%"
          }
        },
        "e4bb456965c048729df3a093b5de0860": {
          "model_module": "@jupyter-widgets/controls",
          "model_name": "FloatProgressModel",
          "model_module_version": "1.5.0",
          "state": {
            "_dom_classes": [],
            "_model_module": "@jupyter-widgets/controls",
            "_model_module_version": "1.5.0",
            "_model_name": "FloatProgressModel",
            "_view_count": null,
            "_view_module": "@jupyter-widgets/controls",
            "_view_module_version": "1.5.0",
            "_view_name": "ProgressView",
            "bar_style": "success",
            "description": "",
            "description_tooltip": null,
            "layout": "IPY_MODEL_4990a6afdd5e4b2f9edded399b9bc0ca",
            "max": 3,
            "min": 0,
            "orientation": "horizontal",
            "style": "IPY_MODEL_cf56b937e754428c9443cf1bf91c8586",
            "value": 3
          }
        },
        "8ab2829599224a0cbeaea6f96195e805": {
          "model_module": "@jupyter-widgets/controls",
          "model_name": "HTMLModel",
          "model_module_version": "1.5.0",
          "state": {
            "_dom_classes": [],
            "_model_module": "@jupyter-widgets/controls",
            "_model_module_version": "1.5.0",
            "_model_name": "HTMLModel",
            "_view_count": null,
            "_view_module": "@jupyter-widgets/controls",
            "_view_module_version": "1.5.0",
            "_view_name": "HTMLView",
            "description": "",
            "description_tooltip": null,
            "layout": "IPY_MODEL_aa650ba79291486489c87673de7a013a",
            "placeholder": "​",
            "style": "IPY_MODEL_bfbeda534dfc46439d97fe787b04a12c",
            "value": " 3/3 [02:40&lt;00:00, 52.88s/it]"
          }
        },
        "c6b8c45935d84888aaba5eb421987b7e": {
          "model_module": "@jupyter-widgets/base",
          "model_name": "LayoutModel",
          "model_module_version": "1.2.0",
          "state": {
            "_model_module": "@jupyter-widgets/base",
            "_model_module_version": "1.2.0",
            "_model_name": "LayoutModel",
            "_view_count": null,
            "_view_module": "@jupyter-widgets/base",
            "_view_module_version": "1.2.0",
            "_view_name": "LayoutView",
            "align_content": null,
            "align_items": null,
            "align_self": null,
            "border": null,
            "bottom": null,
            "display": null,
            "flex": null,
            "flex_flow": null,
            "grid_area": null,
            "grid_auto_columns": null,
            "grid_auto_flow": null,
            "grid_auto_rows": null,
            "grid_column": null,
            "grid_gap": null,
            "grid_row": null,
            "grid_template_areas": null,
            "grid_template_columns": null,
            "grid_template_rows": null,
            "height": null,
            "justify_content": null,
            "justify_items": null,
            "left": null,
            "margin": null,
            "max_height": null,
            "max_width": null,
            "min_height": null,
            "min_width": null,
            "object_fit": null,
            "object_position": null,
            "order": null,
            "overflow": null,
            "overflow_x": null,
            "overflow_y": null,
            "padding": null,
            "right": null,
            "top": null,
            "visibility": null,
            "width": null
          }
        },
        "f1540081b891458694710b9bd146ece4": {
          "model_module": "@jupyter-widgets/base",
          "model_name": "LayoutModel",
          "model_module_version": "1.2.0",
          "state": {
            "_model_module": "@jupyter-widgets/base",
            "_model_module_version": "1.2.0",
            "_model_name": "LayoutModel",
            "_view_count": null,
            "_view_module": "@jupyter-widgets/base",
            "_view_module_version": "1.2.0",
            "_view_name": "LayoutView",
            "align_content": null,
            "align_items": null,
            "align_self": null,
            "border": null,
            "bottom": null,
            "display": null,
            "flex": null,
            "flex_flow": null,
            "grid_area": null,
            "grid_auto_columns": null,
            "grid_auto_flow": null,
            "grid_auto_rows": null,
            "grid_column": null,
            "grid_gap": null,
            "grid_row": null,
            "grid_template_areas": null,
            "grid_template_columns": null,
            "grid_template_rows": null,
            "height": null,
            "justify_content": null,
            "justify_items": null,
            "left": null,
            "margin": null,
            "max_height": null,
            "max_width": null,
            "min_height": null,
            "min_width": null,
            "object_fit": null,
            "object_position": null,
            "order": null,
            "overflow": null,
            "overflow_x": null,
            "overflow_y": null,
            "padding": null,
            "right": null,
            "top": null,
            "visibility": null,
            "width": null
          }
        },
        "ddde464c29f3436a9ae9ed68c39a8277": {
          "model_module": "@jupyter-widgets/controls",
          "model_name": "DescriptionStyleModel",
          "model_module_version": "1.5.0",
          "state": {
            "_model_module": "@jupyter-widgets/controls",
            "_model_module_version": "1.5.0",
            "_model_name": "DescriptionStyleModel",
            "_view_count": null,
            "_view_module": "@jupyter-widgets/base",
            "_view_module_version": "1.2.0",
            "_view_name": "StyleView",
            "description_width": ""
          }
        },
        "4990a6afdd5e4b2f9edded399b9bc0ca": {
          "model_module": "@jupyter-widgets/base",
          "model_name": "LayoutModel",
          "model_module_version": "1.2.0",
          "state": {
            "_model_module": "@jupyter-widgets/base",
            "_model_module_version": "1.2.0",
            "_model_name": "LayoutModel",
            "_view_count": null,
            "_view_module": "@jupyter-widgets/base",
            "_view_module_version": "1.2.0",
            "_view_name": "LayoutView",
            "align_content": null,
            "align_items": null,
            "align_self": null,
            "border": null,
            "bottom": null,
            "display": null,
            "flex": null,
            "flex_flow": null,
            "grid_area": null,
            "grid_auto_columns": null,
            "grid_auto_flow": null,
            "grid_auto_rows": null,
            "grid_column": null,
            "grid_gap": null,
            "grid_row": null,
            "grid_template_areas": null,
            "grid_template_columns": null,
            "grid_template_rows": null,
            "height": null,
            "justify_content": null,
            "justify_items": null,
            "left": null,
            "margin": null,
            "max_height": null,
            "max_width": null,
            "min_height": null,
            "min_width": null,
            "object_fit": null,
            "object_position": null,
            "order": null,
            "overflow": null,
            "overflow_x": null,
            "overflow_y": null,
            "padding": null,
            "right": null,
            "top": null,
            "visibility": null,
            "width": null
          }
        },
        "cf56b937e754428c9443cf1bf91c8586": {
          "model_module": "@jupyter-widgets/controls",
          "model_name": "ProgressStyleModel",
          "model_module_version": "1.5.0",
          "state": {
            "_model_module": "@jupyter-widgets/controls",
            "_model_module_version": "1.5.0",
            "_model_name": "ProgressStyleModel",
            "_view_count": null,
            "_view_module": "@jupyter-widgets/base",
            "_view_module_version": "1.2.0",
            "_view_name": "StyleView",
            "bar_color": null,
            "description_width": ""
          }
        },
        "aa650ba79291486489c87673de7a013a": {
          "model_module": "@jupyter-widgets/base",
          "model_name": "LayoutModel",
          "model_module_version": "1.2.0",
          "state": {
            "_model_module": "@jupyter-widgets/base",
            "_model_module_version": "1.2.0",
            "_model_name": "LayoutModel",
            "_view_count": null,
            "_view_module": "@jupyter-widgets/base",
            "_view_module_version": "1.2.0",
            "_view_name": "LayoutView",
            "align_content": null,
            "align_items": null,
            "align_self": null,
            "border": null,
            "bottom": null,
            "display": null,
            "flex": null,
            "flex_flow": null,
            "grid_area": null,
            "grid_auto_columns": null,
            "grid_auto_flow": null,
            "grid_auto_rows": null,
            "grid_column": null,
            "grid_gap": null,
            "grid_row": null,
            "grid_template_areas": null,
            "grid_template_columns": null,
            "grid_template_rows": null,
            "height": null,
            "justify_content": null,
            "justify_items": null,
            "left": null,
            "margin": null,
            "max_height": null,
            "max_width": null,
            "min_height": null,
            "min_width": null,
            "object_fit": null,
            "object_position": null,
            "order": null,
            "overflow": null,
            "overflow_x": null,
            "overflow_y": null,
            "padding": null,
            "right": null,
            "top": null,
            "visibility": null,
            "width": null
          }
        },
        "bfbeda534dfc46439d97fe787b04a12c": {
          "model_module": "@jupyter-widgets/controls",
          "model_name": "DescriptionStyleModel",
          "model_module_version": "1.5.0",
          "state": {
            "_model_module": "@jupyter-widgets/controls",
            "_model_module_version": "1.5.0",
            "_model_name": "DescriptionStyleModel",
            "_view_count": null,
            "_view_module": "@jupyter-widgets/base",
            "_view_module_version": "1.2.0",
            "_view_name": "StyleView",
            "description_width": ""
          }
        },
        "0268811d4182427b83f3b4a716e0b366": {
          "model_module": "@jupyter-widgets/controls",
          "model_name": "HBoxModel",
          "model_module_version": "1.5.0",
          "state": {
            "_dom_classes": [],
            "_model_module": "@jupyter-widgets/controls",
            "_model_module_version": "1.5.0",
            "_model_name": "HBoxModel",
            "_view_count": null,
            "_view_module": "@jupyter-widgets/controls",
            "_view_module_version": "1.5.0",
            "_view_name": "HBoxView",
            "box_style": "",
            "children": [
              "IPY_MODEL_2e133da9f17d4b6b8f41c15985b1b865",
              "IPY_MODEL_2fcad7c2c86c46988668d6e8dcc7dbd6",
              "IPY_MODEL_5930c22f9fcf438ea52d15f4c594e3e2"
            ],
            "layout": "IPY_MODEL_df94a994f71842a5984161f0349745b9"
          }
        },
        "2e133da9f17d4b6b8f41c15985b1b865": {
          "model_module": "@jupyter-widgets/controls",
          "model_name": "HTMLModel",
          "model_module_version": "1.5.0",
          "state": {
            "_dom_classes": [],
            "_model_module": "@jupyter-widgets/controls",
            "_model_module_version": "1.5.0",
            "_model_name": "HTMLModel",
            "_view_count": null,
            "_view_module": "@jupyter-widgets/controls",
            "_view_module_version": "1.5.0",
            "_view_name": "HTMLView",
            "description": "",
            "description_tooltip": null,
            "layout": "IPY_MODEL_74d389791a894b7ea0c02007ee8a1fc0",
            "placeholder": "​",
            "style": "IPY_MODEL_81143113d1b94fa8994c04d34baba47a",
            "value": "model-00001-of-00003.safetensors: 100%"
          }
        },
        "2fcad7c2c86c46988668d6e8dcc7dbd6": {
          "model_module": "@jupyter-widgets/controls",
          "model_name": "FloatProgressModel",
          "model_module_version": "1.5.0",
          "state": {
            "_dom_classes": [],
            "_model_module": "@jupyter-widgets/controls",
            "_model_module_version": "1.5.0",
            "_model_name": "FloatProgressModel",
            "_view_count": null,
            "_view_module": "@jupyter-widgets/controls",
            "_view_module_version": "1.5.0",
            "_view_name": "ProgressView",
            "bar_style": "success",
            "description": "",
            "description_tooltip": null,
            "layout": "IPY_MODEL_29e0551d283b49e89930b106041d4c1a",
            "max": 4943162336,
            "min": 0,
            "orientation": "horizontal",
            "style": "IPY_MODEL_e929727f5b7f4fe2a626c7f6a18fa8bd",
            "value": 4943162336
          }
        },
        "5930c22f9fcf438ea52d15f4c594e3e2": {
          "model_module": "@jupyter-widgets/controls",
          "model_name": "HTMLModel",
          "model_module_version": "1.5.0",
          "state": {
            "_dom_classes": [],
            "_model_module": "@jupyter-widgets/controls",
            "_model_module_version": "1.5.0",
            "_model_name": "HTMLModel",
            "_view_count": null,
            "_view_module": "@jupyter-widgets/controls",
            "_view_module_version": "1.5.0",
            "_view_name": "HTMLView",
            "description": "",
            "description_tooltip": null,
            "layout": "IPY_MODEL_9e80b6c0bf6a46e19d9a03973bf1da76",
            "placeholder": "​",
            "style": "IPY_MODEL_2e2cd27d509c487dbbc4df261d3d82e2",
            "value": " 4.94G/4.94G [00:55&lt;00:00, 113MB/s]"
          }
        },
        "df94a994f71842a5984161f0349745b9": {
          "model_module": "@jupyter-widgets/base",
          "model_name": "LayoutModel",
          "model_module_version": "1.2.0",
          "state": {
            "_model_module": "@jupyter-widgets/base",
            "_model_module_version": "1.2.0",
            "_model_name": "LayoutModel",
            "_view_count": null,
            "_view_module": "@jupyter-widgets/base",
            "_view_module_version": "1.2.0",
            "_view_name": "LayoutView",
            "align_content": null,
            "align_items": null,
            "align_self": null,
            "border": null,
            "bottom": null,
            "display": null,
            "flex": null,
            "flex_flow": null,
            "grid_area": null,
            "grid_auto_columns": null,
            "grid_auto_flow": null,
            "grid_auto_rows": null,
            "grid_column": null,
            "grid_gap": null,
            "grid_row": null,
            "grid_template_areas": null,
            "grid_template_columns": null,
            "grid_template_rows": null,
            "height": null,
            "justify_content": null,
            "justify_items": null,
            "left": null,
            "margin": null,
            "max_height": null,
            "max_width": null,
            "min_height": null,
            "min_width": null,
            "object_fit": null,
            "object_position": null,
            "order": null,
            "overflow": null,
            "overflow_x": null,
            "overflow_y": null,
            "padding": null,
            "right": null,
            "top": null,
            "visibility": null,
            "width": null
          }
        },
        "74d389791a894b7ea0c02007ee8a1fc0": {
          "model_module": "@jupyter-widgets/base",
          "model_name": "LayoutModel",
          "model_module_version": "1.2.0",
          "state": {
            "_model_module": "@jupyter-widgets/base",
            "_model_module_version": "1.2.0",
            "_model_name": "LayoutModel",
            "_view_count": null,
            "_view_module": "@jupyter-widgets/base",
            "_view_module_version": "1.2.0",
            "_view_name": "LayoutView",
            "align_content": null,
            "align_items": null,
            "align_self": null,
            "border": null,
            "bottom": null,
            "display": null,
            "flex": null,
            "flex_flow": null,
            "grid_area": null,
            "grid_auto_columns": null,
            "grid_auto_flow": null,
            "grid_auto_rows": null,
            "grid_column": null,
            "grid_gap": null,
            "grid_row": null,
            "grid_template_areas": null,
            "grid_template_columns": null,
            "grid_template_rows": null,
            "height": null,
            "justify_content": null,
            "justify_items": null,
            "left": null,
            "margin": null,
            "max_height": null,
            "max_width": null,
            "min_height": null,
            "min_width": null,
            "object_fit": null,
            "object_position": null,
            "order": null,
            "overflow": null,
            "overflow_x": null,
            "overflow_y": null,
            "padding": null,
            "right": null,
            "top": null,
            "visibility": null,
            "width": null
          }
        },
        "81143113d1b94fa8994c04d34baba47a": {
          "model_module": "@jupyter-widgets/controls",
          "model_name": "DescriptionStyleModel",
          "model_module_version": "1.5.0",
          "state": {
            "_model_module": "@jupyter-widgets/controls",
            "_model_module_version": "1.5.0",
            "_model_name": "DescriptionStyleModel",
            "_view_count": null,
            "_view_module": "@jupyter-widgets/base",
            "_view_module_version": "1.2.0",
            "_view_name": "StyleView",
            "description_width": ""
          }
        },
        "29e0551d283b49e89930b106041d4c1a": {
          "model_module": "@jupyter-widgets/base",
          "model_name": "LayoutModel",
          "model_module_version": "1.2.0",
          "state": {
            "_model_module": "@jupyter-widgets/base",
            "_model_module_version": "1.2.0",
            "_model_name": "LayoutModel",
            "_view_count": null,
            "_view_module": "@jupyter-widgets/base",
            "_view_module_version": "1.2.0",
            "_view_name": "LayoutView",
            "align_content": null,
            "align_items": null,
            "align_self": null,
            "border": null,
            "bottom": null,
            "display": null,
            "flex": null,
            "flex_flow": null,
            "grid_area": null,
            "grid_auto_columns": null,
            "grid_auto_flow": null,
            "grid_auto_rows": null,
            "grid_column": null,
            "grid_gap": null,
            "grid_row": null,
            "grid_template_areas": null,
            "grid_template_columns": null,
            "grid_template_rows": null,
            "height": null,
            "justify_content": null,
            "justify_items": null,
            "left": null,
            "margin": null,
            "max_height": null,
            "max_width": null,
            "min_height": null,
            "min_width": null,
            "object_fit": null,
            "object_position": null,
            "order": null,
            "overflow": null,
            "overflow_x": null,
            "overflow_y": null,
            "padding": null,
            "right": null,
            "top": null,
            "visibility": null,
            "width": null
          }
        },
        "e929727f5b7f4fe2a626c7f6a18fa8bd": {
          "model_module": "@jupyter-widgets/controls",
          "model_name": "ProgressStyleModel",
          "model_module_version": "1.5.0",
          "state": {
            "_model_module": "@jupyter-widgets/controls",
            "_model_module_version": "1.5.0",
            "_model_name": "ProgressStyleModel",
            "_view_count": null,
            "_view_module": "@jupyter-widgets/base",
            "_view_module_version": "1.2.0",
            "_view_name": "StyleView",
            "bar_color": null,
            "description_width": ""
          }
        },
        "9e80b6c0bf6a46e19d9a03973bf1da76": {
          "model_module": "@jupyter-widgets/base",
          "model_name": "LayoutModel",
          "model_module_version": "1.2.0",
          "state": {
            "_model_module": "@jupyter-widgets/base",
            "_model_module_version": "1.2.0",
            "_model_name": "LayoutModel",
            "_view_count": null,
            "_view_module": "@jupyter-widgets/base",
            "_view_module_version": "1.2.0",
            "_view_name": "LayoutView",
            "align_content": null,
            "align_items": null,
            "align_self": null,
            "border": null,
            "bottom": null,
            "display": null,
            "flex": null,
            "flex_flow": null,
            "grid_area": null,
            "grid_auto_columns": null,
            "grid_auto_flow": null,
            "grid_auto_rows": null,
            "grid_column": null,
            "grid_gap": null,
            "grid_row": null,
            "grid_template_areas": null,
            "grid_template_columns": null,
            "grid_template_rows": null,
            "height": null,
            "justify_content": null,
            "justify_items": null,
            "left": null,
            "margin": null,
            "max_height": null,
            "max_width": null,
            "min_height": null,
            "min_width": null,
            "object_fit": null,
            "object_position": null,
            "order": null,
            "overflow": null,
            "overflow_x": null,
            "overflow_y": null,
            "padding": null,
            "right": null,
            "top": null,
            "visibility": null,
            "width": null
          }
        },
        "2e2cd27d509c487dbbc4df261d3d82e2": {
          "model_module": "@jupyter-widgets/controls",
          "model_name": "DescriptionStyleModel",
          "model_module_version": "1.5.0",
          "state": {
            "_model_module": "@jupyter-widgets/controls",
            "_model_module_version": "1.5.0",
            "_model_name": "DescriptionStyleModel",
            "_view_count": null,
            "_view_module": "@jupyter-widgets/base",
            "_view_module_version": "1.2.0",
            "_view_name": "StyleView",
            "description_width": ""
          }
        },
        "79e9fb4f78ba436aa2750ae9c4649001": {
          "model_module": "@jupyter-widgets/controls",
          "model_name": "HBoxModel",
          "model_module_version": "1.5.0",
          "state": {
            "_dom_classes": [],
            "_model_module": "@jupyter-widgets/controls",
            "_model_module_version": "1.5.0",
            "_model_name": "HBoxModel",
            "_view_count": null,
            "_view_module": "@jupyter-widgets/controls",
            "_view_module_version": "1.5.0",
            "_view_name": "HBoxView",
            "box_style": "",
            "children": [
              "IPY_MODEL_b3936787ec37458c9a797be80581a7fe",
              "IPY_MODEL_034fdda5646d4f8798ad10222afed9b6",
              "IPY_MODEL_5af1095dbc2e44ec9017979ab20c800a"
            ],
            "layout": "IPY_MODEL_14c186bfe4da42aa8a0b52ff4ebe4ea8"
          }
        },
        "b3936787ec37458c9a797be80581a7fe": {
          "model_module": "@jupyter-widgets/controls",
          "model_name": "HTMLModel",
          "model_module_version": "1.5.0",
          "state": {
            "_dom_classes": [],
            "_model_module": "@jupyter-widgets/controls",
            "_model_module_version": "1.5.0",
            "_model_name": "HTMLModel",
            "_view_count": null,
            "_view_module": "@jupyter-widgets/controls",
            "_view_module_version": "1.5.0",
            "_view_name": "HTMLView",
            "description": "",
            "description_tooltip": null,
            "layout": "IPY_MODEL_671d9c162f6c41c0b42abd7fe815f1c9",
            "placeholder": "​",
            "style": "IPY_MODEL_e0e41cc0533742d5b40fd9dd39c6944b",
            "value": "model-00002-of-00003.safetensors: 100%"
          }
        },
        "034fdda5646d4f8798ad10222afed9b6": {
          "model_module": "@jupyter-widgets/controls",
          "model_name": "FloatProgressModel",
          "model_module_version": "1.5.0",
          "state": {
            "_dom_classes": [],
            "_model_module": "@jupyter-widgets/controls",
            "_model_module_version": "1.5.0",
            "_model_name": "FloatProgressModel",
            "_view_count": null,
            "_view_module": "@jupyter-widgets/controls",
            "_view_module_version": "1.5.0",
            "_view_name": "ProgressView",
            "bar_style": "success",
            "description": "",
            "description_tooltip": null,
            "layout": "IPY_MODEL_4c31970767514767ad67c7af786ce14f",
            "max": 4999819336,
            "min": 0,
            "orientation": "horizontal",
            "style": "IPY_MODEL_a07aed32ddf54e91a03bda6e022571af",
            "value": 4999819336
          }
        },
        "5af1095dbc2e44ec9017979ab20c800a": {
          "model_module": "@jupyter-widgets/controls",
          "model_name": "HTMLModel",
          "model_module_version": "1.5.0",
          "state": {
            "_dom_classes": [],
            "_model_module": "@jupyter-widgets/controls",
            "_model_module_version": "1.5.0",
            "_model_name": "HTMLModel",
            "_view_count": null,
            "_view_module": "@jupyter-widgets/controls",
            "_view_module_version": "1.5.0",
            "_view_name": "HTMLView",
            "description": "",
            "description_tooltip": null,
            "layout": "IPY_MODEL_d094d45953ae49f5bcbcfe117449e716",
            "placeholder": "​",
            "style": "IPY_MODEL_4a6107e5dfb74042b4f985960db3893c",
            "value": " 5.00G/5.00G [00:53&lt;00:00, 108MB/s]"
          }
        },
        "14c186bfe4da42aa8a0b52ff4ebe4ea8": {
          "model_module": "@jupyter-widgets/base",
          "model_name": "LayoutModel",
          "model_module_version": "1.2.0",
          "state": {
            "_model_module": "@jupyter-widgets/base",
            "_model_module_version": "1.2.0",
            "_model_name": "LayoutModel",
            "_view_count": null,
            "_view_module": "@jupyter-widgets/base",
            "_view_module_version": "1.2.0",
            "_view_name": "LayoutView",
            "align_content": null,
            "align_items": null,
            "align_self": null,
            "border": null,
            "bottom": null,
            "display": null,
            "flex": null,
            "flex_flow": null,
            "grid_area": null,
            "grid_auto_columns": null,
            "grid_auto_flow": null,
            "grid_auto_rows": null,
            "grid_column": null,
            "grid_gap": null,
            "grid_row": null,
            "grid_template_areas": null,
            "grid_template_columns": null,
            "grid_template_rows": null,
            "height": null,
            "justify_content": null,
            "justify_items": null,
            "left": null,
            "margin": null,
            "max_height": null,
            "max_width": null,
            "min_height": null,
            "min_width": null,
            "object_fit": null,
            "object_position": null,
            "order": null,
            "overflow": null,
            "overflow_x": null,
            "overflow_y": null,
            "padding": null,
            "right": null,
            "top": null,
            "visibility": null,
            "width": null
          }
        },
        "671d9c162f6c41c0b42abd7fe815f1c9": {
          "model_module": "@jupyter-widgets/base",
          "model_name": "LayoutModel",
          "model_module_version": "1.2.0",
          "state": {
            "_model_module": "@jupyter-widgets/base",
            "_model_module_version": "1.2.0",
            "_model_name": "LayoutModel",
            "_view_count": null,
            "_view_module": "@jupyter-widgets/base",
            "_view_module_version": "1.2.0",
            "_view_name": "LayoutView",
            "align_content": null,
            "align_items": null,
            "align_self": null,
            "border": null,
            "bottom": null,
            "display": null,
            "flex": null,
            "flex_flow": null,
            "grid_area": null,
            "grid_auto_columns": null,
            "grid_auto_flow": null,
            "grid_auto_rows": null,
            "grid_column": null,
            "grid_gap": null,
            "grid_row": null,
            "grid_template_areas": null,
            "grid_template_columns": null,
            "grid_template_rows": null,
            "height": null,
            "justify_content": null,
            "justify_items": null,
            "left": null,
            "margin": null,
            "max_height": null,
            "max_width": null,
            "min_height": null,
            "min_width": null,
            "object_fit": null,
            "object_position": null,
            "order": null,
            "overflow": null,
            "overflow_x": null,
            "overflow_y": null,
            "padding": null,
            "right": null,
            "top": null,
            "visibility": null,
            "width": null
          }
        },
        "e0e41cc0533742d5b40fd9dd39c6944b": {
          "model_module": "@jupyter-widgets/controls",
          "model_name": "DescriptionStyleModel",
          "model_module_version": "1.5.0",
          "state": {
            "_model_module": "@jupyter-widgets/controls",
            "_model_module_version": "1.5.0",
            "_model_name": "DescriptionStyleModel",
            "_view_count": null,
            "_view_module": "@jupyter-widgets/base",
            "_view_module_version": "1.2.0",
            "_view_name": "StyleView",
            "description_width": ""
          }
        },
        "4c31970767514767ad67c7af786ce14f": {
          "model_module": "@jupyter-widgets/base",
          "model_name": "LayoutModel",
          "model_module_version": "1.2.0",
          "state": {
            "_model_module": "@jupyter-widgets/base",
            "_model_module_version": "1.2.0",
            "_model_name": "LayoutModel",
            "_view_count": null,
            "_view_module": "@jupyter-widgets/base",
            "_view_module_version": "1.2.0",
            "_view_name": "LayoutView",
            "align_content": null,
            "align_items": null,
            "align_self": null,
            "border": null,
            "bottom": null,
            "display": null,
            "flex": null,
            "flex_flow": null,
            "grid_area": null,
            "grid_auto_columns": null,
            "grid_auto_flow": null,
            "grid_auto_rows": null,
            "grid_column": null,
            "grid_gap": null,
            "grid_row": null,
            "grid_template_areas": null,
            "grid_template_columns": null,
            "grid_template_rows": null,
            "height": null,
            "justify_content": null,
            "justify_items": null,
            "left": null,
            "margin": null,
            "max_height": null,
            "max_width": null,
            "min_height": null,
            "min_width": null,
            "object_fit": null,
            "object_position": null,
            "order": null,
            "overflow": null,
            "overflow_x": null,
            "overflow_y": null,
            "padding": null,
            "right": null,
            "top": null,
            "visibility": null,
            "width": null
          }
        },
        "a07aed32ddf54e91a03bda6e022571af": {
          "model_module": "@jupyter-widgets/controls",
          "model_name": "ProgressStyleModel",
          "model_module_version": "1.5.0",
          "state": {
            "_model_module": "@jupyter-widgets/controls",
            "_model_module_version": "1.5.0",
            "_model_name": "ProgressStyleModel",
            "_view_count": null,
            "_view_module": "@jupyter-widgets/base",
            "_view_module_version": "1.2.0",
            "_view_name": "StyleView",
            "bar_color": null,
            "description_width": ""
          }
        },
        "d094d45953ae49f5bcbcfe117449e716": {
          "model_module": "@jupyter-widgets/base",
          "model_name": "LayoutModel",
          "model_module_version": "1.2.0",
          "state": {
            "_model_module": "@jupyter-widgets/base",
            "_model_module_version": "1.2.0",
            "_model_name": "LayoutModel",
            "_view_count": null,
            "_view_module": "@jupyter-widgets/base",
            "_view_module_version": "1.2.0",
            "_view_name": "LayoutView",
            "align_content": null,
            "align_items": null,
            "align_self": null,
            "border": null,
            "bottom": null,
            "display": null,
            "flex": null,
            "flex_flow": null,
            "grid_area": null,
            "grid_auto_columns": null,
            "grid_auto_flow": null,
            "grid_auto_rows": null,
            "grid_column": null,
            "grid_gap": null,
            "grid_row": null,
            "grid_template_areas": null,
            "grid_template_columns": null,
            "grid_template_rows": null,
            "height": null,
            "justify_content": null,
            "justify_items": null,
            "left": null,
            "margin": null,
            "max_height": null,
            "max_width": null,
            "min_height": null,
            "min_width": null,
            "object_fit": null,
            "object_position": null,
            "order": null,
            "overflow": null,
            "overflow_x": null,
            "overflow_y": null,
            "padding": null,
            "right": null,
            "top": null,
            "visibility": null,
            "width": null
          }
        },
        "4a6107e5dfb74042b4f985960db3893c": {
          "model_module": "@jupyter-widgets/controls",
          "model_name": "DescriptionStyleModel",
          "model_module_version": "1.5.0",
          "state": {
            "_model_module": "@jupyter-widgets/controls",
            "_model_module_version": "1.5.0",
            "_model_name": "DescriptionStyleModel",
            "_view_count": null,
            "_view_module": "@jupyter-widgets/base",
            "_view_module_version": "1.2.0",
            "_view_name": "StyleView",
            "description_width": ""
          }
        },
        "55a4122faa8746c78ca2a3018168f19d": {
          "model_module": "@jupyter-widgets/controls",
          "model_name": "HBoxModel",
          "model_module_version": "1.5.0",
          "state": {
            "_dom_classes": [],
            "_model_module": "@jupyter-widgets/controls",
            "_model_module_version": "1.5.0",
            "_model_name": "HBoxModel",
            "_view_count": null,
            "_view_module": "@jupyter-widgets/controls",
            "_view_module_version": "1.5.0",
            "_view_name": "HBoxView",
            "box_style": "",
            "children": [
              "IPY_MODEL_f3dae34f871043ad8d60d8cf4b7cc252",
              "IPY_MODEL_bee102332a2d43a0837542c3a30c8d88",
              "IPY_MODEL_9ec73d71076f443c9ffb08eb7e71cf48"
            ],
            "layout": "IPY_MODEL_487ae9d8588e4e559b6d5771d549f710"
          }
        },
        "f3dae34f871043ad8d60d8cf4b7cc252": {
          "model_module": "@jupyter-widgets/controls",
          "model_name": "HTMLModel",
          "model_module_version": "1.5.0",
          "state": {
            "_dom_classes": [],
            "_model_module": "@jupyter-widgets/controls",
            "_model_module_version": "1.5.0",
            "_model_name": "HTMLModel",
            "_view_count": null,
            "_view_module": "@jupyter-widgets/controls",
            "_view_module_version": "1.5.0",
            "_view_name": "HTMLView",
            "description": "",
            "description_tooltip": null,
            "layout": "IPY_MODEL_00930c5286a24da982f3bbe7beb5ce5f",
            "placeholder": "​",
            "style": "IPY_MODEL_796512272be84ea5807cea2ffd74eb2b",
            "value": "model-00003-of-00003.safetensors: 100%"
          }
        },
        "bee102332a2d43a0837542c3a30c8d88": {
          "model_module": "@jupyter-widgets/controls",
          "model_name": "FloatProgressModel",
          "model_module_version": "1.5.0",
          "state": {
            "_dom_classes": [],
            "_model_module": "@jupyter-widgets/controls",
            "_model_module_version": "1.5.0",
            "_model_name": "FloatProgressModel",
            "_view_count": null,
            "_view_module": "@jupyter-widgets/controls",
            "_view_module_version": "1.5.0",
            "_view_name": "ProgressView",
            "bar_style": "success",
            "description": "",
            "description_tooltip": null,
            "layout": "IPY_MODEL_d447c43b2a924f319a43b726fd6a1977",
            "max": 4540516344,
            "min": 0,
            "orientation": "horizontal",
            "style": "IPY_MODEL_a83ee346a5e947e7a4aed21fdb0d8566",
            "value": 4540516344
          }
        },
        "9ec73d71076f443c9ffb08eb7e71cf48": {
          "model_module": "@jupyter-widgets/controls",
          "model_name": "HTMLModel",
          "model_module_version": "1.5.0",
          "state": {
            "_dom_classes": [],
            "_model_module": "@jupyter-widgets/controls",
            "_model_module_version": "1.5.0",
            "_model_name": "HTMLModel",
            "_view_count": null,
            "_view_module": "@jupyter-widgets/controls",
            "_view_module_version": "1.5.0",
            "_view_name": "HTMLView",
            "description": "",
            "description_tooltip": null,
            "layout": "IPY_MODEL_7884589b8e814cad83769e7b8535553e",
            "placeholder": "​",
            "style": "IPY_MODEL_7fe8f984fb9b4ff985011dba0de68939",
            "value": " 4.54G/4.54G [00:50&lt;00:00, 95.7MB/s]"
          }
        },
        "487ae9d8588e4e559b6d5771d549f710": {
          "model_module": "@jupyter-widgets/base",
          "model_name": "LayoutModel",
          "model_module_version": "1.2.0",
          "state": {
            "_model_module": "@jupyter-widgets/base",
            "_model_module_version": "1.2.0",
            "_model_name": "LayoutModel",
            "_view_count": null,
            "_view_module": "@jupyter-widgets/base",
            "_view_module_version": "1.2.0",
            "_view_name": "LayoutView",
            "align_content": null,
            "align_items": null,
            "align_self": null,
            "border": null,
            "bottom": null,
            "display": null,
            "flex": null,
            "flex_flow": null,
            "grid_area": null,
            "grid_auto_columns": null,
            "grid_auto_flow": null,
            "grid_auto_rows": null,
            "grid_column": null,
            "grid_gap": null,
            "grid_row": null,
            "grid_template_areas": null,
            "grid_template_columns": null,
            "grid_template_rows": null,
            "height": null,
            "justify_content": null,
            "justify_items": null,
            "left": null,
            "margin": null,
            "max_height": null,
            "max_width": null,
            "min_height": null,
            "min_width": null,
            "object_fit": null,
            "object_position": null,
            "order": null,
            "overflow": null,
            "overflow_x": null,
            "overflow_y": null,
            "padding": null,
            "right": null,
            "top": null,
            "visibility": null,
            "width": null
          }
        },
        "00930c5286a24da982f3bbe7beb5ce5f": {
          "model_module": "@jupyter-widgets/base",
          "model_name": "LayoutModel",
          "model_module_version": "1.2.0",
          "state": {
            "_model_module": "@jupyter-widgets/base",
            "_model_module_version": "1.2.0",
            "_model_name": "LayoutModel",
            "_view_count": null,
            "_view_module": "@jupyter-widgets/base",
            "_view_module_version": "1.2.0",
            "_view_name": "LayoutView",
            "align_content": null,
            "align_items": null,
            "align_self": null,
            "border": null,
            "bottom": null,
            "display": null,
            "flex": null,
            "flex_flow": null,
            "grid_area": null,
            "grid_auto_columns": null,
            "grid_auto_flow": null,
            "grid_auto_rows": null,
            "grid_column": null,
            "grid_gap": null,
            "grid_row": null,
            "grid_template_areas": null,
            "grid_template_columns": null,
            "grid_template_rows": null,
            "height": null,
            "justify_content": null,
            "justify_items": null,
            "left": null,
            "margin": null,
            "max_height": null,
            "max_width": null,
            "min_height": null,
            "min_width": null,
            "object_fit": null,
            "object_position": null,
            "order": null,
            "overflow": null,
            "overflow_x": null,
            "overflow_y": null,
            "padding": null,
            "right": null,
            "top": null,
            "visibility": null,
            "width": null
          }
        },
        "796512272be84ea5807cea2ffd74eb2b": {
          "model_module": "@jupyter-widgets/controls",
          "model_name": "DescriptionStyleModel",
          "model_module_version": "1.5.0",
          "state": {
            "_model_module": "@jupyter-widgets/controls",
            "_model_module_version": "1.5.0",
            "_model_name": "DescriptionStyleModel",
            "_view_count": null,
            "_view_module": "@jupyter-widgets/base",
            "_view_module_version": "1.2.0",
            "_view_name": "StyleView",
            "description_width": ""
          }
        },
        "d447c43b2a924f319a43b726fd6a1977": {
          "model_module": "@jupyter-widgets/base",
          "model_name": "LayoutModel",
          "model_module_version": "1.2.0",
          "state": {
            "_model_module": "@jupyter-widgets/base",
            "_model_module_version": "1.2.0",
            "_model_name": "LayoutModel",
            "_view_count": null,
            "_view_module": "@jupyter-widgets/base",
            "_view_module_version": "1.2.0",
            "_view_name": "LayoutView",
            "align_content": null,
            "align_items": null,
            "align_self": null,
            "border": null,
            "bottom": null,
            "display": null,
            "flex": null,
            "flex_flow": null,
            "grid_area": null,
            "grid_auto_columns": null,
            "grid_auto_flow": null,
            "grid_auto_rows": null,
            "grid_column": null,
            "grid_gap": null,
            "grid_row": null,
            "grid_template_areas": null,
            "grid_template_columns": null,
            "grid_template_rows": null,
            "height": null,
            "justify_content": null,
            "justify_items": null,
            "left": null,
            "margin": null,
            "max_height": null,
            "max_width": null,
            "min_height": null,
            "min_width": null,
            "object_fit": null,
            "object_position": null,
            "order": null,
            "overflow": null,
            "overflow_x": null,
            "overflow_y": null,
            "padding": null,
            "right": null,
            "top": null,
            "visibility": null,
            "width": null
          }
        },
        "a83ee346a5e947e7a4aed21fdb0d8566": {
          "model_module": "@jupyter-widgets/controls",
          "model_name": "ProgressStyleModel",
          "model_module_version": "1.5.0",
          "state": {
            "_model_module": "@jupyter-widgets/controls",
            "_model_module_version": "1.5.0",
            "_model_name": "ProgressStyleModel",
            "_view_count": null,
            "_view_module": "@jupyter-widgets/base",
            "_view_module_version": "1.2.0",
            "_view_name": "StyleView",
            "bar_color": null,
            "description_width": ""
          }
        },
        "7884589b8e814cad83769e7b8535553e": {
          "model_module": "@jupyter-widgets/base",
          "model_name": "LayoutModel",
          "model_module_version": "1.2.0",
          "state": {
            "_model_module": "@jupyter-widgets/base",
            "_model_module_version": "1.2.0",
            "_model_name": "LayoutModel",
            "_view_count": null,
            "_view_module": "@jupyter-widgets/base",
            "_view_module_version": "1.2.0",
            "_view_name": "LayoutView",
            "align_content": null,
            "align_items": null,
            "align_self": null,
            "border": null,
            "bottom": null,
            "display": null,
            "flex": null,
            "flex_flow": null,
            "grid_area": null,
            "grid_auto_columns": null,
            "grid_auto_flow": null,
            "grid_auto_rows": null,
            "grid_column": null,
            "grid_gap": null,
            "grid_row": null,
            "grid_template_areas": null,
            "grid_template_columns": null,
            "grid_template_rows": null,
            "height": null,
            "justify_content": null,
            "justify_items": null,
            "left": null,
            "margin": null,
            "max_height": null,
            "max_width": null,
            "min_height": null,
            "min_width": null,
            "object_fit": null,
            "object_position": null,
            "order": null,
            "overflow": null,
            "overflow_x": null,
            "overflow_y": null,
            "padding": null,
            "right": null,
            "top": null,
            "visibility": null,
            "width": null
          }
        },
        "7fe8f984fb9b4ff985011dba0de68939": {
          "model_module": "@jupyter-widgets/controls",
          "model_name": "DescriptionStyleModel",
          "model_module_version": "1.5.0",
          "state": {
            "_model_module": "@jupyter-widgets/controls",
            "_model_module_version": "1.5.0",
            "_model_name": "DescriptionStyleModel",
            "_view_count": null,
            "_view_module": "@jupyter-widgets/base",
            "_view_module_version": "1.2.0",
            "_view_name": "StyleView",
            "description_width": ""
          }
        },
        "814f81a36a2a47298d26c787d27cb8b9": {
          "model_module": "@jupyter-widgets/controls",
          "model_name": "HBoxModel",
          "model_module_version": "1.5.0",
          "state": {
            "_dom_classes": [],
            "_model_module": "@jupyter-widgets/controls",
            "_model_module_version": "1.5.0",
            "_model_name": "HBoxModel",
            "_view_count": null,
            "_view_module": "@jupyter-widgets/controls",
            "_view_module_version": "1.5.0",
            "_view_name": "HBoxView",
            "box_style": "",
            "children": [
              "IPY_MODEL_8a58c5b346bb4486a68cd6e0cdbe1455",
              "IPY_MODEL_b3a745f3b9174cd18015295006fba0fa",
              "IPY_MODEL_04422373319347f284a5afdd3bc26f8b"
            ],
            "layout": "IPY_MODEL_a7e9a7367ed54af586b5ad5102d837bf"
          }
        },
        "8a58c5b346bb4486a68cd6e0cdbe1455": {
          "model_module": "@jupyter-widgets/controls",
          "model_name": "HTMLModel",
          "model_module_version": "1.5.0",
          "state": {
            "_dom_classes": [],
            "_model_module": "@jupyter-widgets/controls",
            "_model_module_version": "1.5.0",
            "_model_name": "HTMLModel",
            "_view_count": null,
            "_view_module": "@jupyter-widgets/controls",
            "_view_module_version": "1.5.0",
            "_view_name": "HTMLView",
            "description": "",
            "description_tooltip": null,
            "layout": "IPY_MODEL_141ccb9dc8f44e4ab4b370810ec3bacf",
            "placeholder": "​",
            "style": "IPY_MODEL_ec045b645d5f4704a6a2bdf73eabc871",
            "value": "Loading checkpoint shards: 100%"
          }
        },
        "b3a745f3b9174cd18015295006fba0fa": {
          "model_module": "@jupyter-widgets/controls",
          "model_name": "FloatProgressModel",
          "model_module_version": "1.5.0",
          "state": {
            "_dom_classes": [],
            "_model_module": "@jupyter-widgets/controls",
            "_model_module_version": "1.5.0",
            "_model_name": "FloatProgressModel",
            "_view_count": null,
            "_view_module": "@jupyter-widgets/controls",
            "_view_module_version": "1.5.0",
            "_view_name": "ProgressView",
            "bar_style": "success",
            "description": "",
            "description_tooltip": null,
            "layout": "IPY_MODEL_4f2cc7fba2664c5faa184e4ff2df56d8",
            "max": 3,
            "min": 0,
            "orientation": "horizontal",
            "style": "IPY_MODEL_455c34c04fa6416d9279da58f3076734",
            "value": 3
          }
        },
        "04422373319347f284a5afdd3bc26f8b": {
          "model_module": "@jupyter-widgets/controls",
          "model_name": "HTMLModel",
          "model_module_version": "1.5.0",
          "state": {
            "_dom_classes": [],
            "_model_module": "@jupyter-widgets/controls",
            "_model_module_version": "1.5.0",
            "_model_name": "HTMLModel",
            "_view_count": null,
            "_view_module": "@jupyter-widgets/controls",
            "_view_module_version": "1.5.0",
            "_view_name": "HTMLView",
            "description": "",
            "description_tooltip": null,
            "layout": "IPY_MODEL_e90344b099cd42af9b1c8d14bed0f8df",
            "placeholder": "​",
            "style": "IPY_MODEL_e02750b8806a4582b6fcf7448479b8b9",
            "value": " 3/3 [01:14&lt;00:00, 24.47s/it]"
          }
        },
        "a7e9a7367ed54af586b5ad5102d837bf": {
          "model_module": "@jupyter-widgets/base",
          "model_name": "LayoutModel",
          "model_module_version": "1.2.0",
          "state": {
            "_model_module": "@jupyter-widgets/base",
            "_model_module_version": "1.2.0",
            "_model_name": "LayoutModel",
            "_view_count": null,
            "_view_module": "@jupyter-widgets/base",
            "_view_module_version": "1.2.0",
            "_view_name": "LayoutView",
            "align_content": null,
            "align_items": null,
            "align_self": null,
            "border": null,
            "bottom": null,
            "display": null,
            "flex": null,
            "flex_flow": null,
            "grid_area": null,
            "grid_auto_columns": null,
            "grid_auto_flow": null,
            "grid_auto_rows": null,
            "grid_column": null,
            "grid_gap": null,
            "grid_row": null,
            "grid_template_areas": null,
            "grid_template_columns": null,
            "grid_template_rows": null,
            "height": null,
            "justify_content": null,
            "justify_items": null,
            "left": null,
            "margin": null,
            "max_height": null,
            "max_width": null,
            "min_height": null,
            "min_width": null,
            "object_fit": null,
            "object_position": null,
            "order": null,
            "overflow": null,
            "overflow_x": null,
            "overflow_y": null,
            "padding": null,
            "right": null,
            "top": null,
            "visibility": null,
            "width": null
          }
        },
        "141ccb9dc8f44e4ab4b370810ec3bacf": {
          "model_module": "@jupyter-widgets/base",
          "model_name": "LayoutModel",
          "model_module_version": "1.2.0",
          "state": {
            "_model_module": "@jupyter-widgets/base",
            "_model_module_version": "1.2.0",
            "_model_name": "LayoutModel",
            "_view_count": null,
            "_view_module": "@jupyter-widgets/base",
            "_view_module_version": "1.2.0",
            "_view_name": "LayoutView",
            "align_content": null,
            "align_items": null,
            "align_self": null,
            "border": null,
            "bottom": null,
            "display": null,
            "flex": null,
            "flex_flow": null,
            "grid_area": null,
            "grid_auto_columns": null,
            "grid_auto_flow": null,
            "grid_auto_rows": null,
            "grid_column": null,
            "grid_gap": null,
            "grid_row": null,
            "grid_template_areas": null,
            "grid_template_columns": null,
            "grid_template_rows": null,
            "height": null,
            "justify_content": null,
            "justify_items": null,
            "left": null,
            "margin": null,
            "max_height": null,
            "max_width": null,
            "min_height": null,
            "min_width": null,
            "object_fit": null,
            "object_position": null,
            "order": null,
            "overflow": null,
            "overflow_x": null,
            "overflow_y": null,
            "padding": null,
            "right": null,
            "top": null,
            "visibility": null,
            "width": null
          }
        },
        "ec045b645d5f4704a6a2bdf73eabc871": {
          "model_module": "@jupyter-widgets/controls",
          "model_name": "DescriptionStyleModel",
          "model_module_version": "1.5.0",
          "state": {
            "_model_module": "@jupyter-widgets/controls",
            "_model_module_version": "1.5.0",
            "_model_name": "DescriptionStyleModel",
            "_view_count": null,
            "_view_module": "@jupyter-widgets/base",
            "_view_module_version": "1.2.0",
            "_view_name": "StyleView",
            "description_width": ""
          }
        },
        "4f2cc7fba2664c5faa184e4ff2df56d8": {
          "model_module": "@jupyter-widgets/base",
          "model_name": "LayoutModel",
          "model_module_version": "1.2.0",
          "state": {
            "_model_module": "@jupyter-widgets/base",
            "_model_module_version": "1.2.0",
            "_model_name": "LayoutModel",
            "_view_count": null,
            "_view_module": "@jupyter-widgets/base",
            "_view_module_version": "1.2.0",
            "_view_name": "LayoutView",
            "align_content": null,
            "align_items": null,
            "align_self": null,
            "border": null,
            "bottom": null,
            "display": null,
            "flex": null,
            "flex_flow": null,
            "grid_area": null,
            "grid_auto_columns": null,
            "grid_auto_flow": null,
            "grid_auto_rows": null,
            "grid_column": null,
            "grid_gap": null,
            "grid_row": null,
            "grid_template_areas": null,
            "grid_template_columns": null,
            "grid_template_rows": null,
            "height": null,
            "justify_content": null,
            "justify_items": null,
            "left": null,
            "margin": null,
            "max_height": null,
            "max_width": null,
            "min_height": null,
            "min_width": null,
            "object_fit": null,
            "object_position": null,
            "order": null,
            "overflow": null,
            "overflow_x": null,
            "overflow_y": null,
            "padding": null,
            "right": null,
            "top": null,
            "visibility": null,
            "width": null
          }
        },
        "455c34c04fa6416d9279da58f3076734": {
          "model_module": "@jupyter-widgets/controls",
          "model_name": "ProgressStyleModel",
          "model_module_version": "1.5.0",
          "state": {
            "_model_module": "@jupyter-widgets/controls",
            "_model_module_version": "1.5.0",
            "_model_name": "ProgressStyleModel",
            "_view_count": null,
            "_view_module": "@jupyter-widgets/base",
            "_view_module_version": "1.2.0",
            "_view_name": "StyleView",
            "bar_color": null,
            "description_width": ""
          }
        },
        "e90344b099cd42af9b1c8d14bed0f8df": {
          "model_module": "@jupyter-widgets/base",
          "model_name": "LayoutModel",
          "model_module_version": "1.2.0",
          "state": {
            "_model_module": "@jupyter-widgets/base",
            "_model_module_version": "1.2.0",
            "_model_name": "LayoutModel",
            "_view_count": null,
            "_view_module": "@jupyter-widgets/base",
            "_view_module_version": "1.2.0",
            "_view_name": "LayoutView",
            "align_content": null,
            "align_items": null,
            "align_self": null,
            "border": null,
            "bottom": null,
            "display": null,
            "flex": null,
            "flex_flow": null,
            "grid_area": null,
            "grid_auto_columns": null,
            "grid_auto_flow": null,
            "grid_auto_rows": null,
            "grid_column": null,
            "grid_gap": null,
            "grid_row": null,
            "grid_template_areas": null,
            "grid_template_columns": null,
            "grid_template_rows": null,
            "height": null,
            "justify_content": null,
            "justify_items": null,
            "left": null,
            "margin": null,
            "max_height": null,
            "max_width": null,
            "min_height": null,
            "min_width": null,
            "object_fit": null,
            "object_position": null,
            "order": null,
            "overflow": null,
            "overflow_x": null,
            "overflow_y": null,
            "padding": null,
            "right": null,
            "top": null,
            "visibility": null,
            "width": null
          }
        },
        "e02750b8806a4582b6fcf7448479b8b9": {
          "model_module": "@jupyter-widgets/controls",
          "model_name": "DescriptionStyleModel",
          "model_module_version": "1.5.0",
          "state": {
            "_model_module": "@jupyter-widgets/controls",
            "_model_module_version": "1.5.0",
            "_model_name": "DescriptionStyleModel",
            "_view_count": null,
            "_view_module": "@jupyter-widgets/base",
            "_view_module_version": "1.2.0",
            "_view_name": "StyleView",
            "description_width": ""
          }
        },
        "4647bd82e4c740e78e796a1f5977926b": {
          "model_module": "@jupyter-widgets/controls",
          "model_name": "HBoxModel",
          "model_module_version": "1.5.0",
          "state": {
            "_dom_classes": [],
            "_model_module": "@jupyter-widgets/controls",
            "_model_module_version": "1.5.0",
            "_model_name": "HBoxModel",
            "_view_count": null,
            "_view_module": "@jupyter-widgets/controls",
            "_view_module_version": "1.5.0",
            "_view_name": "HBoxView",
            "box_style": "",
            "children": [
              "IPY_MODEL_503ffa3174174fcfacc1e44264a00cd2",
              "IPY_MODEL_4896219e39d24ebba7a8b02f4946561e",
              "IPY_MODEL_601e89435451438d859e979ae5e94682"
            ],
            "layout": "IPY_MODEL_16a84acb73d8448987b900ddef6b7050"
          }
        },
        "503ffa3174174fcfacc1e44264a00cd2": {
          "model_module": "@jupyter-widgets/controls",
          "model_name": "HTMLModel",
          "model_module_version": "1.5.0",
          "state": {
            "_dom_classes": [],
            "_model_module": "@jupyter-widgets/controls",
            "_model_module_version": "1.5.0",
            "_model_name": "HTMLModel",
            "_view_count": null,
            "_view_module": "@jupyter-widgets/controls",
            "_view_module_version": "1.5.0",
            "_view_name": "HTMLView",
            "description": "",
            "description_tooltip": null,
            "layout": "IPY_MODEL_3ad2c0983bb24f2eaf300692bc550679",
            "placeholder": "​",
            "style": "IPY_MODEL_d670d3902e274dc38428af6f3ed709c2",
            "value": "generation_config.json: 100%"
          }
        },
        "4896219e39d24ebba7a8b02f4946561e": {
          "model_module": "@jupyter-widgets/controls",
          "model_name": "FloatProgressModel",
          "model_module_version": "1.5.0",
          "state": {
            "_dom_classes": [],
            "_model_module": "@jupyter-widgets/controls",
            "_model_module_version": "1.5.0",
            "_model_name": "FloatProgressModel",
            "_view_count": null,
            "_view_module": "@jupyter-widgets/controls",
            "_view_module_version": "1.5.0",
            "_view_name": "ProgressView",
            "bar_style": "success",
            "description": "",
            "description_tooltip": null,
            "layout": "IPY_MODEL_2840be60febe499b82f6d55613761889",
            "max": 111,
            "min": 0,
            "orientation": "horizontal",
            "style": "IPY_MODEL_733e36d561a24b1f9496c9daf56e674f",
            "value": 111
          }
        },
        "601e89435451438d859e979ae5e94682": {
          "model_module": "@jupyter-widgets/controls",
          "model_name": "HTMLModel",
          "model_module_version": "1.5.0",
          "state": {
            "_dom_classes": [],
            "_model_module": "@jupyter-widgets/controls",
            "_model_module_version": "1.5.0",
            "_model_name": "HTMLModel",
            "_view_count": null,
            "_view_module": "@jupyter-widgets/controls",
            "_view_module_version": "1.5.0",
            "_view_name": "HTMLView",
            "description": "",
            "description_tooltip": null,
            "layout": "IPY_MODEL_93b6cb5132cd4687b75e0f2d974517b5",
            "placeholder": "​",
            "style": "IPY_MODEL_4be28623a7e541b29c472f48eb5e4cc5",
            "value": " 111/111 [00:00&lt;00:00, 8.36kB/s]"
          }
        },
        "16a84acb73d8448987b900ddef6b7050": {
          "model_module": "@jupyter-widgets/base",
          "model_name": "LayoutModel",
          "model_module_version": "1.2.0",
          "state": {
            "_model_module": "@jupyter-widgets/base",
            "_model_module_version": "1.2.0",
            "_model_name": "LayoutModel",
            "_view_count": null,
            "_view_module": "@jupyter-widgets/base",
            "_view_module_version": "1.2.0",
            "_view_name": "LayoutView",
            "align_content": null,
            "align_items": null,
            "align_self": null,
            "border": null,
            "bottom": null,
            "display": null,
            "flex": null,
            "flex_flow": null,
            "grid_area": null,
            "grid_auto_columns": null,
            "grid_auto_flow": null,
            "grid_auto_rows": null,
            "grid_column": null,
            "grid_gap": null,
            "grid_row": null,
            "grid_template_areas": null,
            "grid_template_columns": null,
            "grid_template_rows": null,
            "height": null,
            "justify_content": null,
            "justify_items": null,
            "left": null,
            "margin": null,
            "max_height": null,
            "max_width": null,
            "min_height": null,
            "min_width": null,
            "object_fit": null,
            "object_position": null,
            "order": null,
            "overflow": null,
            "overflow_x": null,
            "overflow_y": null,
            "padding": null,
            "right": null,
            "top": null,
            "visibility": null,
            "width": null
          }
        },
        "3ad2c0983bb24f2eaf300692bc550679": {
          "model_module": "@jupyter-widgets/base",
          "model_name": "LayoutModel",
          "model_module_version": "1.2.0",
          "state": {
            "_model_module": "@jupyter-widgets/base",
            "_model_module_version": "1.2.0",
            "_model_name": "LayoutModel",
            "_view_count": null,
            "_view_module": "@jupyter-widgets/base",
            "_view_module_version": "1.2.0",
            "_view_name": "LayoutView",
            "align_content": null,
            "align_items": null,
            "align_self": null,
            "border": null,
            "bottom": null,
            "display": null,
            "flex": null,
            "flex_flow": null,
            "grid_area": null,
            "grid_auto_columns": null,
            "grid_auto_flow": null,
            "grid_auto_rows": null,
            "grid_column": null,
            "grid_gap": null,
            "grid_row": null,
            "grid_template_areas": null,
            "grid_template_columns": null,
            "grid_template_rows": null,
            "height": null,
            "justify_content": null,
            "justify_items": null,
            "left": null,
            "margin": null,
            "max_height": null,
            "max_width": null,
            "min_height": null,
            "min_width": null,
            "object_fit": null,
            "object_position": null,
            "order": null,
            "overflow": null,
            "overflow_x": null,
            "overflow_y": null,
            "padding": null,
            "right": null,
            "top": null,
            "visibility": null,
            "width": null
          }
        },
        "d670d3902e274dc38428af6f3ed709c2": {
          "model_module": "@jupyter-widgets/controls",
          "model_name": "DescriptionStyleModel",
          "model_module_version": "1.5.0",
          "state": {
            "_model_module": "@jupyter-widgets/controls",
            "_model_module_version": "1.5.0",
            "_model_name": "DescriptionStyleModel",
            "_view_count": null,
            "_view_module": "@jupyter-widgets/base",
            "_view_module_version": "1.2.0",
            "_view_name": "StyleView",
            "description_width": ""
          }
        },
        "2840be60febe499b82f6d55613761889": {
          "model_module": "@jupyter-widgets/base",
          "model_name": "LayoutModel",
          "model_module_version": "1.2.0",
          "state": {
            "_model_module": "@jupyter-widgets/base",
            "_model_module_version": "1.2.0",
            "_model_name": "LayoutModel",
            "_view_count": null,
            "_view_module": "@jupyter-widgets/base",
            "_view_module_version": "1.2.0",
            "_view_name": "LayoutView",
            "align_content": null,
            "align_items": null,
            "align_self": null,
            "border": null,
            "bottom": null,
            "display": null,
            "flex": null,
            "flex_flow": null,
            "grid_area": null,
            "grid_auto_columns": null,
            "grid_auto_flow": null,
            "grid_auto_rows": null,
            "grid_column": null,
            "grid_gap": null,
            "grid_row": null,
            "grid_template_areas": null,
            "grid_template_columns": null,
            "grid_template_rows": null,
            "height": null,
            "justify_content": null,
            "justify_items": null,
            "left": null,
            "margin": null,
            "max_height": null,
            "max_width": null,
            "min_height": null,
            "min_width": null,
            "object_fit": null,
            "object_position": null,
            "order": null,
            "overflow": null,
            "overflow_x": null,
            "overflow_y": null,
            "padding": null,
            "right": null,
            "top": null,
            "visibility": null,
            "width": null
          }
        },
        "733e36d561a24b1f9496c9daf56e674f": {
          "model_module": "@jupyter-widgets/controls",
          "model_name": "ProgressStyleModel",
          "model_module_version": "1.5.0",
          "state": {
            "_model_module": "@jupyter-widgets/controls",
            "_model_module_version": "1.5.0",
            "_model_name": "ProgressStyleModel",
            "_view_count": null,
            "_view_module": "@jupyter-widgets/base",
            "_view_module_version": "1.2.0",
            "_view_name": "StyleView",
            "bar_color": null,
            "description_width": ""
          }
        },
        "93b6cb5132cd4687b75e0f2d974517b5": {
          "model_module": "@jupyter-widgets/base",
          "model_name": "LayoutModel",
          "model_module_version": "1.2.0",
          "state": {
            "_model_module": "@jupyter-widgets/base",
            "_model_module_version": "1.2.0",
            "_model_name": "LayoutModel",
            "_view_count": null,
            "_view_module": "@jupyter-widgets/base",
            "_view_module_version": "1.2.0",
            "_view_name": "LayoutView",
            "align_content": null,
            "align_items": null,
            "align_self": null,
            "border": null,
            "bottom": null,
            "display": null,
            "flex": null,
            "flex_flow": null,
            "grid_area": null,
            "grid_auto_columns": null,
            "grid_auto_flow": null,
            "grid_auto_rows": null,
            "grid_column": null,
            "grid_gap": null,
            "grid_row": null,
            "grid_template_areas": null,
            "grid_template_columns": null,
            "grid_template_rows": null,
            "height": null,
            "justify_content": null,
            "justify_items": null,
            "left": null,
            "margin": null,
            "max_height": null,
            "max_width": null,
            "min_height": null,
            "min_width": null,
            "object_fit": null,
            "object_position": null,
            "order": null,
            "overflow": null,
            "overflow_x": null,
            "overflow_y": null,
            "padding": null,
            "right": null,
            "top": null,
            "visibility": null,
            "width": null
          }
        },
        "4be28623a7e541b29c472f48eb5e4cc5": {
          "model_module": "@jupyter-widgets/controls",
          "model_name": "DescriptionStyleModel",
          "model_module_version": "1.5.0",
          "state": {
            "_model_module": "@jupyter-widgets/controls",
            "_model_module_version": "1.5.0",
            "_model_name": "DescriptionStyleModel",
            "_view_count": null,
            "_view_module": "@jupyter-widgets/base",
            "_view_module_version": "1.2.0",
            "_view_name": "StyleView",
            "description_width": ""
          }
        },
        "cb9748be53bb4ec5a104cebc4efe942c": {
          "model_module": "@jupyter-widgets/controls",
          "model_name": "HBoxModel",
          "model_module_version": "1.5.0",
          "state": {
            "_dom_classes": [],
            "_model_module": "@jupyter-widgets/controls",
            "_model_module_version": "1.5.0",
            "_model_name": "HBoxModel",
            "_view_count": null,
            "_view_module": "@jupyter-widgets/controls",
            "_view_module_version": "1.5.0",
            "_view_name": "HBoxView",
            "box_style": "",
            "children": [
              "IPY_MODEL_62772c8233a649ad8ff8436394f8850f",
              "IPY_MODEL_7bb8032ed3c348adbc4ee848d503eeb3",
              "IPY_MODEL_f33f73d9bb5a48eebcbed6cdb7934a5a"
            ],
            "layout": "IPY_MODEL_c4b05ab700ce4488915340420b8fbbb4"
          }
        },
        "62772c8233a649ad8ff8436394f8850f": {
          "model_module": "@jupyter-widgets/controls",
          "model_name": "HTMLModel",
          "model_module_version": "1.5.0",
          "state": {
            "_dom_classes": [],
            "_model_module": "@jupyter-widgets/controls",
            "_model_module_version": "1.5.0",
            "_model_name": "HTMLModel",
            "_view_count": null,
            "_view_module": "@jupyter-widgets/controls",
            "_view_module_version": "1.5.0",
            "_view_name": "HTMLView",
            "description": "",
            "description_tooltip": null,
            "layout": "IPY_MODEL_23822bf8bf9c4c3abc8a48bcc4ea9a47",
            "placeholder": "​",
            "style": "IPY_MODEL_21f52e7f04ff48d38bdff923be9124d3",
            "value": "tokenizer_config.json: 100%"
          }
        },
        "7bb8032ed3c348adbc4ee848d503eeb3": {
          "model_module": "@jupyter-widgets/controls",
          "model_name": "FloatProgressModel",
          "model_module_version": "1.5.0",
          "state": {
            "_dom_classes": [],
            "_model_module": "@jupyter-widgets/controls",
            "_model_module_version": "1.5.0",
            "_model_name": "FloatProgressModel",
            "_view_count": null,
            "_view_module": "@jupyter-widgets/controls",
            "_view_module_version": "1.5.0",
            "_view_name": "ProgressView",
            "bar_style": "success",
            "description": "",
            "description_tooltip": null,
            "layout": "IPY_MODEL_716a08df0c8c43ecbb1199b8c7c534bb",
            "max": 1460,
            "min": 0,
            "orientation": "horizontal",
            "style": "IPY_MODEL_43119fe33a874976a268ac7bde626be7",
            "value": 1460
          }
        },
        "f33f73d9bb5a48eebcbed6cdb7934a5a": {
          "model_module": "@jupyter-widgets/controls",
          "model_name": "HTMLModel",
          "model_module_version": "1.5.0",
          "state": {
            "_dom_classes": [],
            "_model_module": "@jupyter-widgets/controls",
            "_model_module_version": "1.5.0",
            "_model_name": "HTMLModel",
            "_view_count": null,
            "_view_module": "@jupyter-widgets/controls",
            "_view_module_version": "1.5.0",
            "_view_name": "HTMLView",
            "description": "",
            "description_tooltip": null,
            "layout": "IPY_MODEL_2003856cb1e446418894721b296e7b69",
            "placeholder": "​",
            "style": "IPY_MODEL_d96d6b87c2ad4958af4767780e3a03e0",
            "value": " 1.46k/1.46k [00:00&lt;00:00, 94.2kB/s]"
          }
        },
        "c4b05ab700ce4488915340420b8fbbb4": {
          "model_module": "@jupyter-widgets/base",
          "model_name": "LayoutModel",
          "model_module_version": "1.2.0",
          "state": {
            "_model_module": "@jupyter-widgets/base",
            "_model_module_version": "1.2.0",
            "_model_name": "LayoutModel",
            "_view_count": null,
            "_view_module": "@jupyter-widgets/base",
            "_view_module_version": "1.2.0",
            "_view_name": "LayoutView",
            "align_content": null,
            "align_items": null,
            "align_self": null,
            "border": null,
            "bottom": null,
            "display": null,
            "flex": null,
            "flex_flow": null,
            "grid_area": null,
            "grid_auto_columns": null,
            "grid_auto_flow": null,
            "grid_auto_rows": null,
            "grid_column": null,
            "grid_gap": null,
            "grid_row": null,
            "grid_template_areas": null,
            "grid_template_columns": null,
            "grid_template_rows": null,
            "height": null,
            "justify_content": null,
            "justify_items": null,
            "left": null,
            "margin": null,
            "max_height": null,
            "max_width": null,
            "min_height": null,
            "min_width": null,
            "object_fit": null,
            "object_position": null,
            "order": null,
            "overflow": null,
            "overflow_x": null,
            "overflow_y": null,
            "padding": null,
            "right": null,
            "top": null,
            "visibility": null,
            "width": null
          }
        },
        "23822bf8bf9c4c3abc8a48bcc4ea9a47": {
          "model_module": "@jupyter-widgets/base",
          "model_name": "LayoutModel",
          "model_module_version": "1.2.0",
          "state": {
            "_model_module": "@jupyter-widgets/base",
            "_model_module_version": "1.2.0",
            "_model_name": "LayoutModel",
            "_view_count": null,
            "_view_module": "@jupyter-widgets/base",
            "_view_module_version": "1.2.0",
            "_view_name": "LayoutView",
            "align_content": null,
            "align_items": null,
            "align_self": null,
            "border": null,
            "bottom": null,
            "display": null,
            "flex": null,
            "flex_flow": null,
            "grid_area": null,
            "grid_auto_columns": null,
            "grid_auto_flow": null,
            "grid_auto_rows": null,
            "grid_column": null,
            "grid_gap": null,
            "grid_row": null,
            "grid_template_areas": null,
            "grid_template_columns": null,
            "grid_template_rows": null,
            "height": null,
            "justify_content": null,
            "justify_items": null,
            "left": null,
            "margin": null,
            "max_height": null,
            "max_width": null,
            "min_height": null,
            "min_width": null,
            "object_fit": null,
            "object_position": null,
            "order": null,
            "overflow": null,
            "overflow_x": null,
            "overflow_y": null,
            "padding": null,
            "right": null,
            "top": null,
            "visibility": null,
            "width": null
          }
        },
        "21f52e7f04ff48d38bdff923be9124d3": {
          "model_module": "@jupyter-widgets/controls",
          "model_name": "DescriptionStyleModel",
          "model_module_version": "1.5.0",
          "state": {
            "_model_module": "@jupyter-widgets/controls",
            "_model_module_version": "1.5.0",
            "_model_name": "DescriptionStyleModel",
            "_view_count": null,
            "_view_module": "@jupyter-widgets/base",
            "_view_module_version": "1.2.0",
            "_view_name": "StyleView",
            "description_width": ""
          }
        },
        "716a08df0c8c43ecbb1199b8c7c534bb": {
          "model_module": "@jupyter-widgets/base",
          "model_name": "LayoutModel",
          "model_module_version": "1.2.0",
          "state": {
            "_model_module": "@jupyter-widgets/base",
            "_model_module_version": "1.2.0",
            "_model_name": "LayoutModel",
            "_view_count": null,
            "_view_module": "@jupyter-widgets/base",
            "_view_module_version": "1.2.0",
            "_view_name": "LayoutView",
            "align_content": null,
            "align_items": null,
            "align_self": null,
            "border": null,
            "bottom": null,
            "display": null,
            "flex": null,
            "flex_flow": null,
            "grid_area": null,
            "grid_auto_columns": null,
            "grid_auto_flow": null,
            "grid_auto_rows": null,
            "grid_column": null,
            "grid_gap": null,
            "grid_row": null,
            "grid_template_areas": null,
            "grid_template_columns": null,
            "grid_template_rows": null,
            "height": null,
            "justify_content": null,
            "justify_items": null,
            "left": null,
            "margin": null,
            "max_height": null,
            "max_width": null,
            "min_height": null,
            "min_width": null,
            "object_fit": null,
            "object_position": null,
            "order": null,
            "overflow": null,
            "overflow_x": null,
            "overflow_y": null,
            "padding": null,
            "right": null,
            "top": null,
            "visibility": null,
            "width": null
          }
        },
        "43119fe33a874976a268ac7bde626be7": {
          "model_module": "@jupyter-widgets/controls",
          "model_name": "ProgressStyleModel",
          "model_module_version": "1.5.0",
          "state": {
            "_model_module": "@jupyter-widgets/controls",
            "_model_module_version": "1.5.0",
            "_model_name": "ProgressStyleModel",
            "_view_count": null,
            "_view_module": "@jupyter-widgets/base",
            "_view_module_version": "1.2.0",
            "_view_name": "StyleView",
            "bar_color": null,
            "description_width": ""
          }
        },
        "2003856cb1e446418894721b296e7b69": {
          "model_module": "@jupyter-widgets/base",
          "model_name": "LayoutModel",
          "model_module_version": "1.2.0",
          "state": {
            "_model_module": "@jupyter-widgets/base",
            "_model_module_version": "1.2.0",
            "_model_name": "LayoutModel",
            "_view_count": null,
            "_view_module": "@jupyter-widgets/base",
            "_view_module_version": "1.2.0",
            "_view_name": "LayoutView",
            "align_content": null,
            "align_items": null,
            "align_self": null,
            "border": null,
            "bottom": null,
            "display": null,
            "flex": null,
            "flex_flow": null,
            "grid_area": null,
            "grid_auto_columns": null,
            "grid_auto_flow": null,
            "grid_auto_rows": null,
            "grid_column": null,
            "grid_gap": null,
            "grid_row": null,
            "grid_template_areas": null,
            "grid_template_columns": null,
            "grid_template_rows": null,
            "height": null,
            "justify_content": null,
            "justify_items": null,
            "left": null,
            "margin": null,
            "max_height": null,
            "max_width": null,
            "min_height": null,
            "min_width": null,
            "object_fit": null,
            "object_position": null,
            "order": null,
            "overflow": null,
            "overflow_x": null,
            "overflow_y": null,
            "padding": null,
            "right": null,
            "top": null,
            "visibility": null,
            "width": null
          }
        },
        "d96d6b87c2ad4958af4767780e3a03e0": {
          "model_module": "@jupyter-widgets/controls",
          "model_name": "DescriptionStyleModel",
          "model_module_version": "1.5.0",
          "state": {
            "_model_module": "@jupyter-widgets/controls",
            "_model_module_version": "1.5.0",
            "_model_name": "DescriptionStyleModel",
            "_view_count": null,
            "_view_module": "@jupyter-widgets/base",
            "_view_module_version": "1.2.0",
            "_view_name": "StyleView",
            "description_width": ""
          }
        },
        "451bc431b3e940bb87de70ac026cc056": {
          "model_module": "@jupyter-widgets/controls",
          "model_name": "HBoxModel",
          "model_module_version": "1.5.0",
          "state": {
            "_dom_classes": [],
            "_model_module": "@jupyter-widgets/controls",
            "_model_module_version": "1.5.0",
            "_model_name": "HBoxModel",
            "_view_count": null,
            "_view_module": "@jupyter-widgets/controls",
            "_view_module_version": "1.5.0",
            "_view_name": "HBoxView",
            "box_style": "",
            "children": [
              "IPY_MODEL_80517d300b824035859790f55bf6dbb0",
              "IPY_MODEL_5ddd6e8ba27d41aeb6c0e4feaf731844",
              "IPY_MODEL_60b1a3540a68413cbdfd53234d2dfb96"
            ],
            "layout": "IPY_MODEL_a8b64c9905634dd1b500b901ac553280"
          }
        },
        "80517d300b824035859790f55bf6dbb0": {
          "model_module": "@jupyter-widgets/controls",
          "model_name": "HTMLModel",
          "model_module_version": "1.5.0",
          "state": {
            "_dom_classes": [],
            "_model_module": "@jupyter-widgets/controls",
            "_model_module_version": "1.5.0",
            "_model_name": "HTMLModel",
            "_view_count": null,
            "_view_module": "@jupyter-widgets/controls",
            "_view_module_version": "1.5.0",
            "_view_name": "HTMLView",
            "description": "",
            "description_tooltip": null,
            "layout": "IPY_MODEL_fedeecaff79a410db02a3c745da77c68",
            "placeholder": "​",
            "style": "IPY_MODEL_c166cfe10f3c4412881226aa35162369",
            "value": "tokenizer.model: 100%"
          }
        },
        "5ddd6e8ba27d41aeb6c0e4feaf731844": {
          "model_module": "@jupyter-widgets/controls",
          "model_name": "FloatProgressModel",
          "model_module_version": "1.5.0",
          "state": {
            "_dom_classes": [],
            "_model_module": "@jupyter-widgets/controls",
            "_model_module_version": "1.5.0",
            "_model_name": "FloatProgressModel",
            "_view_count": null,
            "_view_module": "@jupyter-widgets/controls",
            "_view_module_version": "1.5.0",
            "_view_name": "ProgressView",
            "bar_style": "success",
            "description": "",
            "description_tooltip": null,
            "layout": "IPY_MODEL_aac622fd8524434581ed785f54c50e70",
            "max": 493443,
            "min": 0,
            "orientation": "horizontal",
            "style": "IPY_MODEL_4207803d3f544eeebaa1decc69c5d424",
            "value": 493443
          }
        },
        "60b1a3540a68413cbdfd53234d2dfb96": {
          "model_module": "@jupyter-widgets/controls",
          "model_name": "HTMLModel",
          "model_module_version": "1.5.0",
          "state": {
            "_dom_classes": [],
            "_model_module": "@jupyter-widgets/controls",
            "_model_module_version": "1.5.0",
            "_model_name": "HTMLModel",
            "_view_count": null,
            "_view_module": "@jupyter-widgets/controls",
            "_view_module_version": "1.5.0",
            "_view_name": "HTMLView",
            "description": "",
            "description_tooltip": null,
            "layout": "IPY_MODEL_aaad1c458e014355b4f14fcb1d553e7d",
            "placeholder": "​",
            "style": "IPY_MODEL_8c0dfa6c82334d749024efd046bed2ad",
            "value": " 493k/493k [00:00&lt;00:00, 24.2MB/s]"
          }
        },
        "a8b64c9905634dd1b500b901ac553280": {
          "model_module": "@jupyter-widgets/base",
          "model_name": "LayoutModel",
          "model_module_version": "1.2.0",
          "state": {
            "_model_module": "@jupyter-widgets/base",
            "_model_module_version": "1.2.0",
            "_model_name": "LayoutModel",
            "_view_count": null,
            "_view_module": "@jupyter-widgets/base",
            "_view_module_version": "1.2.0",
            "_view_name": "LayoutView",
            "align_content": null,
            "align_items": null,
            "align_self": null,
            "border": null,
            "bottom": null,
            "display": null,
            "flex": null,
            "flex_flow": null,
            "grid_area": null,
            "grid_auto_columns": null,
            "grid_auto_flow": null,
            "grid_auto_rows": null,
            "grid_column": null,
            "grid_gap": null,
            "grid_row": null,
            "grid_template_areas": null,
            "grid_template_columns": null,
            "grid_template_rows": null,
            "height": null,
            "justify_content": null,
            "justify_items": null,
            "left": null,
            "margin": null,
            "max_height": null,
            "max_width": null,
            "min_height": null,
            "min_width": null,
            "object_fit": null,
            "object_position": null,
            "order": null,
            "overflow": null,
            "overflow_x": null,
            "overflow_y": null,
            "padding": null,
            "right": null,
            "top": null,
            "visibility": null,
            "width": null
          }
        },
        "fedeecaff79a410db02a3c745da77c68": {
          "model_module": "@jupyter-widgets/base",
          "model_name": "LayoutModel",
          "model_module_version": "1.2.0",
          "state": {
            "_model_module": "@jupyter-widgets/base",
            "_model_module_version": "1.2.0",
            "_model_name": "LayoutModel",
            "_view_count": null,
            "_view_module": "@jupyter-widgets/base",
            "_view_module_version": "1.2.0",
            "_view_name": "LayoutView",
            "align_content": null,
            "align_items": null,
            "align_self": null,
            "border": null,
            "bottom": null,
            "display": null,
            "flex": null,
            "flex_flow": null,
            "grid_area": null,
            "grid_auto_columns": null,
            "grid_auto_flow": null,
            "grid_auto_rows": null,
            "grid_column": null,
            "grid_gap": null,
            "grid_row": null,
            "grid_template_areas": null,
            "grid_template_columns": null,
            "grid_template_rows": null,
            "height": null,
            "justify_content": null,
            "justify_items": null,
            "left": null,
            "margin": null,
            "max_height": null,
            "max_width": null,
            "min_height": null,
            "min_width": null,
            "object_fit": null,
            "object_position": null,
            "order": null,
            "overflow": null,
            "overflow_x": null,
            "overflow_y": null,
            "padding": null,
            "right": null,
            "top": null,
            "visibility": null,
            "width": null
          }
        },
        "c166cfe10f3c4412881226aa35162369": {
          "model_module": "@jupyter-widgets/controls",
          "model_name": "DescriptionStyleModel",
          "model_module_version": "1.5.0",
          "state": {
            "_model_module": "@jupyter-widgets/controls",
            "_model_module_version": "1.5.0",
            "_model_name": "DescriptionStyleModel",
            "_view_count": null,
            "_view_module": "@jupyter-widgets/base",
            "_view_module_version": "1.2.0",
            "_view_name": "StyleView",
            "description_width": ""
          }
        },
        "aac622fd8524434581ed785f54c50e70": {
          "model_module": "@jupyter-widgets/base",
          "model_name": "LayoutModel",
          "model_module_version": "1.2.0",
          "state": {
            "_model_module": "@jupyter-widgets/base",
            "_model_module_version": "1.2.0",
            "_model_name": "LayoutModel",
            "_view_count": null,
            "_view_module": "@jupyter-widgets/base",
            "_view_module_version": "1.2.0",
            "_view_name": "LayoutView",
            "align_content": null,
            "align_items": null,
            "align_self": null,
            "border": null,
            "bottom": null,
            "display": null,
            "flex": null,
            "flex_flow": null,
            "grid_area": null,
            "grid_auto_columns": null,
            "grid_auto_flow": null,
            "grid_auto_rows": null,
            "grid_column": null,
            "grid_gap": null,
            "grid_row": null,
            "grid_template_areas": null,
            "grid_template_columns": null,
            "grid_template_rows": null,
            "height": null,
            "justify_content": null,
            "justify_items": null,
            "left": null,
            "margin": null,
            "max_height": null,
            "max_width": null,
            "min_height": null,
            "min_width": null,
            "object_fit": null,
            "object_position": null,
            "order": null,
            "overflow": null,
            "overflow_x": null,
            "overflow_y": null,
            "padding": null,
            "right": null,
            "top": null,
            "visibility": null,
            "width": null
          }
        },
        "4207803d3f544eeebaa1decc69c5d424": {
          "model_module": "@jupyter-widgets/controls",
          "model_name": "ProgressStyleModel",
          "model_module_version": "1.5.0",
          "state": {
            "_model_module": "@jupyter-widgets/controls",
            "_model_module_version": "1.5.0",
            "_model_name": "ProgressStyleModel",
            "_view_count": null,
            "_view_module": "@jupyter-widgets/base",
            "_view_module_version": "1.2.0",
            "_view_name": "StyleView",
            "bar_color": null,
            "description_width": ""
          }
        },
        "aaad1c458e014355b4f14fcb1d553e7d": {
          "model_module": "@jupyter-widgets/base",
          "model_name": "LayoutModel",
          "model_module_version": "1.2.0",
          "state": {
            "_model_module": "@jupyter-widgets/base",
            "_model_module_version": "1.2.0",
            "_model_name": "LayoutModel",
            "_view_count": null,
            "_view_module": "@jupyter-widgets/base",
            "_view_module_version": "1.2.0",
            "_view_name": "LayoutView",
            "align_content": null,
            "align_items": null,
            "align_self": null,
            "border": null,
            "bottom": null,
            "display": null,
            "flex": null,
            "flex_flow": null,
            "grid_area": null,
            "grid_auto_columns": null,
            "grid_auto_flow": null,
            "grid_auto_rows": null,
            "grid_column": null,
            "grid_gap": null,
            "grid_row": null,
            "grid_template_areas": null,
            "grid_template_columns": null,
            "grid_template_rows": null,
            "height": null,
            "justify_content": null,
            "justify_items": null,
            "left": null,
            "margin": null,
            "max_height": null,
            "max_width": null,
            "min_height": null,
            "min_width": null,
            "object_fit": null,
            "object_position": null,
            "order": null,
            "overflow": null,
            "overflow_x": null,
            "overflow_y": null,
            "padding": null,
            "right": null,
            "top": null,
            "visibility": null,
            "width": null
          }
        },
        "8c0dfa6c82334d749024efd046bed2ad": {
          "model_module": "@jupyter-widgets/controls",
          "model_name": "DescriptionStyleModel",
          "model_module_version": "1.5.0",
          "state": {
            "_model_module": "@jupyter-widgets/controls",
            "_model_module_version": "1.5.0",
            "_model_name": "DescriptionStyleModel",
            "_view_count": null,
            "_view_module": "@jupyter-widgets/base",
            "_view_module_version": "1.2.0",
            "_view_name": "StyleView",
            "description_width": ""
          }
        },
        "08e9faa39f5840e29df13800c127c777": {
          "model_module": "@jupyter-widgets/controls",
          "model_name": "HBoxModel",
          "model_module_version": "1.5.0",
          "state": {
            "_dom_classes": [],
            "_model_module": "@jupyter-widgets/controls",
            "_model_module_version": "1.5.0",
            "_model_name": "HBoxModel",
            "_view_count": null,
            "_view_module": "@jupyter-widgets/controls",
            "_view_module_version": "1.5.0",
            "_view_name": "HBoxView",
            "box_style": "",
            "children": [
              "IPY_MODEL_5868d1e58ad244d19903eae920306fc4",
              "IPY_MODEL_367ad291c0c2438e8b458f3c6a8cd4af",
              "IPY_MODEL_38f838aa5d3041318ce8addddf8ab4d9"
            ],
            "layout": "IPY_MODEL_275e11272cb849989203c24658f64843"
          }
        },
        "5868d1e58ad244d19903eae920306fc4": {
          "model_module": "@jupyter-widgets/controls",
          "model_name": "HTMLModel",
          "model_module_version": "1.5.0",
          "state": {
            "_dom_classes": [],
            "_model_module": "@jupyter-widgets/controls",
            "_model_module_version": "1.5.0",
            "_model_name": "HTMLModel",
            "_view_count": null,
            "_view_module": "@jupyter-widgets/controls",
            "_view_module_version": "1.5.0",
            "_view_name": "HTMLView",
            "description": "",
            "description_tooltip": null,
            "layout": "IPY_MODEL_664058e8a1e44495b55d4bc69e1d73b3",
            "placeholder": "​",
            "style": "IPY_MODEL_febd5098e5574dd1ab9e729509c79d4b",
            "value": "tokenizer.json: 100%"
          }
        },
        "367ad291c0c2438e8b458f3c6a8cd4af": {
          "model_module": "@jupyter-widgets/controls",
          "model_name": "FloatProgressModel",
          "model_module_version": "1.5.0",
          "state": {
            "_dom_classes": [],
            "_model_module": "@jupyter-widgets/controls",
            "_model_module_version": "1.5.0",
            "_model_name": "FloatProgressModel",
            "_view_count": null,
            "_view_module": "@jupyter-widgets/controls",
            "_view_module_version": "1.5.0",
            "_view_name": "ProgressView",
            "bar_style": "success",
            "description": "",
            "description_tooltip": null,
            "layout": "IPY_MODEL_9519665690134ee4a9d7ba4d37538c87",
            "max": 1795303,
            "min": 0,
            "orientation": "horizontal",
            "style": "IPY_MODEL_b5286b89bf4749799af02f39540b300d",
            "value": 1795303
          }
        },
        "38f838aa5d3041318ce8addddf8ab4d9": {
          "model_module": "@jupyter-widgets/controls",
          "model_name": "HTMLModel",
          "model_module_version": "1.5.0",
          "state": {
            "_dom_classes": [],
            "_model_module": "@jupyter-widgets/controls",
            "_model_module_version": "1.5.0",
            "_model_name": "HTMLModel",
            "_view_count": null,
            "_view_module": "@jupyter-widgets/controls",
            "_view_module_version": "1.5.0",
            "_view_name": "HTMLView",
            "description": "",
            "description_tooltip": null,
            "layout": "IPY_MODEL_513c5636638c4313bbcb3183455c31d4",
            "placeholder": "​",
            "style": "IPY_MODEL_8aae865ec20d4566a83f409b1e0d1cb5",
            "value": " 1.80M/1.80M [00:00&lt;00:00, 14.9MB/s]"
          }
        },
        "275e11272cb849989203c24658f64843": {
          "model_module": "@jupyter-widgets/base",
          "model_name": "LayoutModel",
          "model_module_version": "1.2.0",
          "state": {
            "_model_module": "@jupyter-widgets/base",
            "_model_module_version": "1.2.0",
            "_model_name": "LayoutModel",
            "_view_count": null,
            "_view_module": "@jupyter-widgets/base",
            "_view_module_version": "1.2.0",
            "_view_name": "LayoutView",
            "align_content": null,
            "align_items": null,
            "align_self": null,
            "border": null,
            "bottom": null,
            "display": null,
            "flex": null,
            "flex_flow": null,
            "grid_area": null,
            "grid_auto_columns": null,
            "grid_auto_flow": null,
            "grid_auto_rows": null,
            "grid_column": null,
            "grid_gap": null,
            "grid_row": null,
            "grid_template_areas": null,
            "grid_template_columns": null,
            "grid_template_rows": null,
            "height": null,
            "justify_content": null,
            "justify_items": null,
            "left": null,
            "margin": null,
            "max_height": null,
            "max_width": null,
            "min_height": null,
            "min_width": null,
            "object_fit": null,
            "object_position": null,
            "order": null,
            "overflow": null,
            "overflow_x": null,
            "overflow_y": null,
            "padding": null,
            "right": null,
            "top": null,
            "visibility": null,
            "width": null
          }
        },
        "664058e8a1e44495b55d4bc69e1d73b3": {
          "model_module": "@jupyter-widgets/base",
          "model_name": "LayoutModel",
          "model_module_version": "1.2.0",
          "state": {
            "_model_module": "@jupyter-widgets/base",
            "_model_module_version": "1.2.0",
            "_model_name": "LayoutModel",
            "_view_count": null,
            "_view_module": "@jupyter-widgets/base",
            "_view_module_version": "1.2.0",
            "_view_name": "LayoutView",
            "align_content": null,
            "align_items": null,
            "align_self": null,
            "border": null,
            "bottom": null,
            "display": null,
            "flex": null,
            "flex_flow": null,
            "grid_area": null,
            "grid_auto_columns": null,
            "grid_auto_flow": null,
            "grid_auto_rows": null,
            "grid_column": null,
            "grid_gap": null,
            "grid_row": null,
            "grid_template_areas": null,
            "grid_template_columns": null,
            "grid_template_rows": null,
            "height": null,
            "justify_content": null,
            "justify_items": null,
            "left": null,
            "margin": null,
            "max_height": null,
            "max_width": null,
            "min_height": null,
            "min_width": null,
            "object_fit": null,
            "object_position": null,
            "order": null,
            "overflow": null,
            "overflow_x": null,
            "overflow_y": null,
            "padding": null,
            "right": null,
            "top": null,
            "visibility": null,
            "width": null
          }
        },
        "febd5098e5574dd1ab9e729509c79d4b": {
          "model_module": "@jupyter-widgets/controls",
          "model_name": "DescriptionStyleModel",
          "model_module_version": "1.5.0",
          "state": {
            "_model_module": "@jupyter-widgets/controls",
            "_model_module_version": "1.5.0",
            "_model_name": "DescriptionStyleModel",
            "_view_count": null,
            "_view_module": "@jupyter-widgets/base",
            "_view_module_version": "1.2.0",
            "_view_name": "StyleView",
            "description_width": ""
          }
        },
        "9519665690134ee4a9d7ba4d37538c87": {
          "model_module": "@jupyter-widgets/base",
          "model_name": "LayoutModel",
          "model_module_version": "1.2.0",
          "state": {
            "_model_module": "@jupyter-widgets/base",
            "_model_module_version": "1.2.0",
            "_model_name": "LayoutModel",
            "_view_count": null,
            "_view_module": "@jupyter-widgets/base",
            "_view_module_version": "1.2.0",
            "_view_name": "LayoutView",
            "align_content": null,
            "align_items": null,
            "align_self": null,
            "border": null,
            "bottom": null,
            "display": null,
            "flex": null,
            "flex_flow": null,
            "grid_area": null,
            "grid_auto_columns": null,
            "grid_auto_flow": null,
            "grid_auto_rows": null,
            "grid_column": null,
            "grid_gap": null,
            "grid_row": null,
            "grid_template_areas": null,
            "grid_template_columns": null,
            "grid_template_rows": null,
            "height": null,
            "justify_content": null,
            "justify_items": null,
            "left": null,
            "margin": null,
            "max_height": null,
            "max_width": null,
            "min_height": null,
            "min_width": null,
            "object_fit": null,
            "object_position": null,
            "order": null,
            "overflow": null,
            "overflow_x": null,
            "overflow_y": null,
            "padding": null,
            "right": null,
            "top": null,
            "visibility": null,
            "width": null
          }
        },
        "b5286b89bf4749799af02f39540b300d": {
          "model_module": "@jupyter-widgets/controls",
          "model_name": "ProgressStyleModel",
          "model_module_version": "1.5.0",
          "state": {
            "_model_module": "@jupyter-widgets/controls",
            "_model_module_version": "1.5.0",
            "_model_name": "ProgressStyleModel",
            "_view_count": null,
            "_view_module": "@jupyter-widgets/base",
            "_view_module_version": "1.2.0",
            "_view_name": "StyleView",
            "bar_color": null,
            "description_width": ""
          }
        },
        "513c5636638c4313bbcb3183455c31d4": {
          "model_module": "@jupyter-widgets/base",
          "model_name": "LayoutModel",
          "model_module_version": "1.2.0",
          "state": {
            "_model_module": "@jupyter-widgets/base",
            "_model_module_version": "1.2.0",
            "_model_name": "LayoutModel",
            "_view_count": null,
            "_view_module": "@jupyter-widgets/base",
            "_view_module_version": "1.2.0",
            "_view_name": "LayoutView",
            "align_content": null,
            "align_items": null,
            "align_self": null,
            "border": null,
            "bottom": null,
            "display": null,
            "flex": null,
            "flex_flow": null,
            "grid_area": null,
            "grid_auto_columns": null,
            "grid_auto_flow": null,
            "grid_auto_rows": null,
            "grid_column": null,
            "grid_gap": null,
            "grid_row": null,
            "grid_template_areas": null,
            "grid_template_columns": null,
            "grid_template_rows": null,
            "height": null,
            "justify_content": null,
            "justify_items": null,
            "left": null,
            "margin": null,
            "max_height": null,
            "max_width": null,
            "min_height": null,
            "min_width": null,
            "object_fit": null,
            "object_position": null,
            "order": null,
            "overflow": null,
            "overflow_x": null,
            "overflow_y": null,
            "padding": null,
            "right": null,
            "top": null,
            "visibility": null,
            "width": null
          }
        },
        "8aae865ec20d4566a83f409b1e0d1cb5": {
          "model_module": "@jupyter-widgets/controls",
          "model_name": "DescriptionStyleModel",
          "model_module_version": "1.5.0",
          "state": {
            "_model_module": "@jupyter-widgets/controls",
            "_model_module_version": "1.5.0",
            "_model_name": "DescriptionStyleModel",
            "_view_count": null,
            "_view_module": "@jupyter-widgets/base",
            "_view_module_version": "1.2.0",
            "_view_name": "StyleView",
            "description_width": ""
          }
        },
        "c8b9959989fc414cab538a8491c27736": {
          "model_module": "@jupyter-widgets/controls",
          "model_name": "HBoxModel",
          "model_module_version": "1.5.0",
          "state": {
            "_dom_classes": [],
            "_model_module": "@jupyter-widgets/controls",
            "_model_module_version": "1.5.0",
            "_model_name": "HBoxModel",
            "_view_count": null,
            "_view_module": "@jupyter-widgets/controls",
            "_view_module_version": "1.5.0",
            "_view_name": "HBoxView",
            "box_style": "",
            "children": [
              "IPY_MODEL_a862f0b3e0b247ca9c2c6fa9ef5232e4",
              "IPY_MODEL_79aaf42ec2cb47f69b0d7e3844acb3c2",
              "IPY_MODEL_b66de7bc1eda480a967f79e51c1b0b87"
            ],
            "layout": "IPY_MODEL_95b12a57abea4484853cbb165810e074"
          }
        },
        "a862f0b3e0b247ca9c2c6fa9ef5232e4": {
          "model_module": "@jupyter-widgets/controls",
          "model_name": "HTMLModel",
          "model_module_version": "1.5.0",
          "state": {
            "_dom_classes": [],
            "_model_module": "@jupyter-widgets/controls",
            "_model_module_version": "1.5.0",
            "_model_name": "HTMLModel",
            "_view_count": null,
            "_view_module": "@jupyter-widgets/controls",
            "_view_module_version": "1.5.0",
            "_view_name": "HTMLView",
            "description": "",
            "description_tooltip": null,
            "layout": "IPY_MODEL_931397a9464e417586ec7ca8a8dc294f",
            "placeholder": "​",
            "style": "IPY_MODEL_c5412f921ee04d478eaf43845ae917b1",
            "value": "special_tokens_map.json: 100%"
          }
        },
        "79aaf42ec2cb47f69b0d7e3844acb3c2": {
          "model_module": "@jupyter-widgets/controls",
          "model_name": "FloatProgressModel",
          "model_module_version": "1.5.0",
          "state": {
            "_dom_classes": [],
            "_model_module": "@jupyter-widgets/controls",
            "_model_module_version": "1.5.0",
            "_model_name": "FloatProgressModel",
            "_view_count": null,
            "_view_module": "@jupyter-widgets/controls",
            "_view_module_version": "1.5.0",
            "_view_name": "ProgressView",
            "bar_style": "success",
            "description": "",
            "description_tooltip": null,
            "layout": "IPY_MODEL_11d1f91c50cb476ca91b529fd02a3bb8",
            "max": 72,
            "min": 0,
            "orientation": "horizontal",
            "style": "IPY_MODEL_39bdbfd69e6043f0999821a117849760",
            "value": 72
          }
        },
        "b66de7bc1eda480a967f79e51c1b0b87": {
          "model_module": "@jupyter-widgets/controls",
          "model_name": "HTMLModel",
          "model_module_version": "1.5.0",
          "state": {
            "_dom_classes": [],
            "_model_module": "@jupyter-widgets/controls",
            "_model_module_version": "1.5.0",
            "_model_name": "HTMLModel",
            "_view_count": null,
            "_view_module": "@jupyter-widgets/controls",
            "_view_module_version": "1.5.0",
            "_view_name": "HTMLView",
            "description": "",
            "description_tooltip": null,
            "layout": "IPY_MODEL_d3ae084717f848d3b952ac7c88a93e6a",
            "placeholder": "​",
            "style": "IPY_MODEL_0d0c632f718b4f11ab8e9dbbcb8fc761",
            "value": " 72.0/72.0 [00:00&lt;00:00, 4.66kB/s]"
          }
        },
        "95b12a57abea4484853cbb165810e074": {
          "model_module": "@jupyter-widgets/base",
          "model_name": "LayoutModel",
          "model_module_version": "1.2.0",
          "state": {
            "_model_module": "@jupyter-widgets/base",
            "_model_module_version": "1.2.0",
            "_model_name": "LayoutModel",
            "_view_count": null,
            "_view_module": "@jupyter-widgets/base",
            "_view_module_version": "1.2.0",
            "_view_name": "LayoutView",
            "align_content": null,
            "align_items": null,
            "align_self": null,
            "border": null,
            "bottom": null,
            "display": null,
            "flex": null,
            "flex_flow": null,
            "grid_area": null,
            "grid_auto_columns": null,
            "grid_auto_flow": null,
            "grid_auto_rows": null,
            "grid_column": null,
            "grid_gap": null,
            "grid_row": null,
            "grid_template_areas": null,
            "grid_template_columns": null,
            "grid_template_rows": null,
            "height": null,
            "justify_content": null,
            "justify_items": null,
            "left": null,
            "margin": null,
            "max_height": null,
            "max_width": null,
            "min_height": null,
            "min_width": null,
            "object_fit": null,
            "object_position": null,
            "order": null,
            "overflow": null,
            "overflow_x": null,
            "overflow_y": null,
            "padding": null,
            "right": null,
            "top": null,
            "visibility": null,
            "width": null
          }
        },
        "931397a9464e417586ec7ca8a8dc294f": {
          "model_module": "@jupyter-widgets/base",
          "model_name": "LayoutModel",
          "model_module_version": "1.2.0",
          "state": {
            "_model_module": "@jupyter-widgets/base",
            "_model_module_version": "1.2.0",
            "_model_name": "LayoutModel",
            "_view_count": null,
            "_view_module": "@jupyter-widgets/base",
            "_view_module_version": "1.2.0",
            "_view_name": "LayoutView",
            "align_content": null,
            "align_items": null,
            "align_self": null,
            "border": null,
            "bottom": null,
            "display": null,
            "flex": null,
            "flex_flow": null,
            "grid_area": null,
            "grid_auto_columns": null,
            "grid_auto_flow": null,
            "grid_auto_rows": null,
            "grid_column": null,
            "grid_gap": null,
            "grid_row": null,
            "grid_template_areas": null,
            "grid_template_columns": null,
            "grid_template_rows": null,
            "height": null,
            "justify_content": null,
            "justify_items": null,
            "left": null,
            "margin": null,
            "max_height": null,
            "max_width": null,
            "min_height": null,
            "min_width": null,
            "object_fit": null,
            "object_position": null,
            "order": null,
            "overflow": null,
            "overflow_x": null,
            "overflow_y": null,
            "padding": null,
            "right": null,
            "top": null,
            "visibility": null,
            "width": null
          }
        },
        "c5412f921ee04d478eaf43845ae917b1": {
          "model_module": "@jupyter-widgets/controls",
          "model_name": "DescriptionStyleModel",
          "model_module_version": "1.5.0",
          "state": {
            "_model_module": "@jupyter-widgets/controls",
            "_model_module_version": "1.5.0",
            "_model_name": "DescriptionStyleModel",
            "_view_count": null,
            "_view_module": "@jupyter-widgets/base",
            "_view_module_version": "1.2.0",
            "_view_name": "StyleView",
            "description_width": ""
          }
        },
        "11d1f91c50cb476ca91b529fd02a3bb8": {
          "model_module": "@jupyter-widgets/base",
          "model_name": "LayoutModel",
          "model_module_version": "1.2.0",
          "state": {
            "_model_module": "@jupyter-widgets/base",
            "_model_module_version": "1.2.0",
            "_model_name": "LayoutModel",
            "_view_count": null,
            "_view_module": "@jupyter-widgets/base",
            "_view_module_version": "1.2.0",
            "_view_name": "LayoutView",
            "align_content": null,
            "align_items": null,
            "align_self": null,
            "border": null,
            "bottom": null,
            "display": null,
            "flex": null,
            "flex_flow": null,
            "grid_area": null,
            "grid_auto_columns": null,
            "grid_auto_flow": null,
            "grid_auto_rows": null,
            "grid_column": null,
            "grid_gap": null,
            "grid_row": null,
            "grid_template_areas": null,
            "grid_template_columns": null,
            "grid_template_rows": null,
            "height": null,
            "justify_content": null,
            "justify_items": null,
            "left": null,
            "margin": null,
            "max_height": null,
            "max_width": null,
            "min_height": null,
            "min_width": null,
            "object_fit": null,
            "object_position": null,
            "order": null,
            "overflow": null,
            "overflow_x": null,
            "overflow_y": null,
            "padding": null,
            "right": null,
            "top": null,
            "visibility": null,
            "width": null
          }
        },
        "39bdbfd69e6043f0999821a117849760": {
          "model_module": "@jupyter-widgets/controls",
          "model_name": "ProgressStyleModel",
          "model_module_version": "1.5.0",
          "state": {
            "_model_module": "@jupyter-widgets/controls",
            "_model_module_version": "1.5.0",
            "_model_name": "ProgressStyleModel",
            "_view_count": null,
            "_view_module": "@jupyter-widgets/base",
            "_view_module_version": "1.2.0",
            "_view_name": "StyleView",
            "bar_color": null,
            "description_width": ""
          }
        },
        "d3ae084717f848d3b952ac7c88a93e6a": {
          "model_module": "@jupyter-widgets/base",
          "model_name": "LayoutModel",
          "model_module_version": "1.2.0",
          "state": {
            "_model_module": "@jupyter-widgets/base",
            "_model_module_version": "1.2.0",
            "_model_name": "LayoutModel",
            "_view_count": null,
            "_view_module": "@jupyter-widgets/base",
            "_view_module_version": "1.2.0",
            "_view_name": "LayoutView",
            "align_content": null,
            "align_items": null,
            "align_self": null,
            "border": null,
            "bottom": null,
            "display": null,
            "flex": null,
            "flex_flow": null,
            "grid_area": null,
            "grid_auto_columns": null,
            "grid_auto_flow": null,
            "grid_auto_rows": null,
            "grid_column": null,
            "grid_gap": null,
            "grid_row": null,
            "grid_template_areas": null,
            "grid_template_columns": null,
            "grid_template_rows": null,
            "height": null,
            "justify_content": null,
            "justify_items": null,
            "left": null,
            "margin": null,
            "max_height": null,
            "max_width": null,
            "min_height": null,
            "min_width": null,
            "object_fit": null,
            "object_position": null,
            "order": null,
            "overflow": null,
            "overflow_x": null,
            "overflow_y": null,
            "padding": null,
            "right": null,
            "top": null,
            "visibility": null,
            "width": null
          }
        },
        "0d0c632f718b4f11ab8e9dbbcb8fc761": {
          "model_module": "@jupyter-widgets/controls",
          "model_name": "DescriptionStyleModel",
          "model_module_version": "1.5.0",
          "state": {
            "_model_module": "@jupyter-widgets/controls",
            "_model_module_version": "1.5.0",
            "_model_name": "DescriptionStyleModel",
            "_view_count": null,
            "_view_module": "@jupyter-widgets/base",
            "_view_module_version": "1.2.0",
            "_view_name": "StyleView",
            "description_width": ""
          }
        }
      }
    }
  },
  "nbformat": 4,
  "nbformat_minor": 0
}