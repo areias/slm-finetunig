{
  "nbformat": 4,
  "nbformat_minor": 0,
  "metadata": {
    "colab": {
      "provenance": [],
      "gpuType": "T4",
      "authorship_tag": "ABX9TyOsr93sQRRfeNpT4/oyuOOw",
      "include_colab_link": true
    },
    "kernelspec": {
      "name": "python3",
      "display_name": "Python 3"
    },
    "language_info": {
      "name": "python"
    },
    "widgets": {
      "application/vnd.jupyter.widget-state+json": {
        "d33a310859384153b8c6953e25212298": {
          "model_module": "@jupyter-widgets/controls",
          "model_name": "HBoxModel",
          "model_module_version": "1.5.0",
          "state": {
            "_dom_classes": [],
            "_model_module": "@jupyter-widgets/controls",
            "_model_module_version": "1.5.0",
            "_model_name": "HBoxModel",
            "_view_count": null,
            "_view_module": "@jupyter-widgets/controls",
            "_view_module_version": "1.5.0",
            "_view_name": "HBoxView",
            "box_style": "",
            "children": [
              "IPY_MODEL_41ea72e513174224974f530cb206baa4",
              "IPY_MODEL_38877cfc79434091a4542b206483c185",
              "IPY_MODEL_436c392520d941b9a626c10b05264ef7"
            ],
            "layout": "IPY_MODEL_87684da8fde642a78d963f69f9248d34"
          }
        },
        "41ea72e513174224974f530cb206baa4": {
          "model_module": "@jupyter-widgets/controls",
          "model_name": "HTMLModel",
          "model_module_version": "1.5.0",
          "state": {
            "_dom_classes": [],
            "_model_module": "@jupyter-widgets/controls",
            "_model_module_version": "1.5.0",
            "_model_name": "HTMLModel",
            "_view_count": null,
            "_view_module": "@jupyter-widgets/controls",
            "_view_module_version": "1.5.0",
            "_view_name": "HTMLView",
            "description": "",
            "description_tooltip": null,
            "layout": "IPY_MODEL_3f4ea4f41f334cf6b8837ee548d751c2",
            "placeholder": "​",
            "style": "IPY_MODEL_2c1440ca42a64dc2a8648f212f1322cc",
            "value": "Loading checkpoint shards: 100%"
          }
        },
        "38877cfc79434091a4542b206483c185": {
          "model_module": "@jupyter-widgets/controls",
          "model_name": "FloatProgressModel",
          "model_module_version": "1.5.0",
          "state": {
            "_dom_classes": [],
            "_model_module": "@jupyter-widgets/controls",
            "_model_module_version": "1.5.0",
            "_model_name": "FloatProgressModel",
            "_view_count": null,
            "_view_module": "@jupyter-widgets/controls",
            "_view_module_version": "1.5.0",
            "_view_name": "ProgressView",
            "bar_style": "success",
            "description": "",
            "description_tooltip": null,
            "layout": "IPY_MODEL_abd1af48bf57491dac07a48fb3d4621f",
            "max": 3,
            "min": 0,
            "orientation": "horizontal",
            "style": "IPY_MODEL_a288bb15b61044e581f1af4903c4e43c",
            "value": 3
          }
        },
        "436c392520d941b9a626c10b05264ef7": {
          "model_module": "@jupyter-widgets/controls",
          "model_name": "HTMLModel",
          "model_module_version": "1.5.0",
          "state": {
            "_dom_classes": [],
            "_model_module": "@jupyter-widgets/controls",
            "_model_module_version": "1.5.0",
            "_model_name": "HTMLModel",
            "_view_count": null,
            "_view_module": "@jupyter-widgets/controls",
            "_view_module_version": "1.5.0",
            "_view_name": "HTMLView",
            "description": "",
            "description_tooltip": null,
            "layout": "IPY_MODEL_d6fee649227148e383b5acc6694536f0",
            "placeholder": "​",
            "style": "IPY_MODEL_4f0ca5cdd790422993fd5842ebc5d2b6",
            "value": " 3/3 [01:27&lt;00:00, 28.97s/it]"
          }
        },
        "87684da8fde642a78d963f69f9248d34": {
          "model_module": "@jupyter-widgets/base",
          "model_name": "LayoutModel",
          "model_module_version": "1.2.0",
          "state": {
            "_model_module": "@jupyter-widgets/base",
            "_model_module_version": "1.2.0",
            "_model_name": "LayoutModel",
            "_view_count": null,
            "_view_module": "@jupyter-widgets/base",
            "_view_module_version": "1.2.0",
            "_view_name": "LayoutView",
            "align_content": null,
            "align_items": null,
            "align_self": null,
            "border": null,
            "bottom": null,
            "display": null,
            "flex": null,
            "flex_flow": null,
            "grid_area": null,
            "grid_auto_columns": null,
            "grid_auto_flow": null,
            "grid_auto_rows": null,
            "grid_column": null,
            "grid_gap": null,
            "grid_row": null,
            "grid_template_areas": null,
            "grid_template_columns": null,
            "grid_template_rows": null,
            "height": null,
            "justify_content": null,
            "justify_items": null,
            "left": null,
            "margin": null,
            "max_height": null,
            "max_width": null,
            "min_height": null,
            "min_width": null,
            "object_fit": null,
            "object_position": null,
            "order": null,
            "overflow": null,
            "overflow_x": null,
            "overflow_y": null,
            "padding": null,
            "right": null,
            "top": null,
            "visibility": null,
            "width": null
          }
        },
        "3f4ea4f41f334cf6b8837ee548d751c2": {
          "model_module": "@jupyter-widgets/base",
          "model_name": "LayoutModel",
          "model_module_version": "1.2.0",
          "state": {
            "_model_module": "@jupyter-widgets/base",
            "_model_module_version": "1.2.0",
            "_model_name": "LayoutModel",
            "_view_count": null,
            "_view_module": "@jupyter-widgets/base",
            "_view_module_version": "1.2.0",
            "_view_name": "LayoutView",
            "align_content": null,
            "align_items": null,
            "align_self": null,
            "border": null,
            "bottom": null,
            "display": null,
            "flex": null,
            "flex_flow": null,
            "grid_area": null,
            "grid_auto_columns": null,
            "grid_auto_flow": null,
            "grid_auto_rows": null,
            "grid_column": null,
            "grid_gap": null,
            "grid_row": null,
            "grid_template_areas": null,
            "grid_template_columns": null,
            "grid_template_rows": null,
            "height": null,
            "justify_content": null,
            "justify_items": null,
            "left": null,
            "margin": null,
            "max_height": null,
            "max_width": null,
            "min_height": null,
            "min_width": null,
            "object_fit": null,
            "object_position": null,
            "order": null,
            "overflow": null,
            "overflow_x": null,
            "overflow_y": null,
            "padding": null,
            "right": null,
            "top": null,
            "visibility": null,
            "width": null
          }
        },
        "2c1440ca42a64dc2a8648f212f1322cc": {
          "model_module": "@jupyter-widgets/controls",
          "model_name": "DescriptionStyleModel",
          "model_module_version": "1.5.0",
          "state": {
            "_model_module": "@jupyter-widgets/controls",
            "_model_module_version": "1.5.0",
            "_model_name": "DescriptionStyleModel",
            "_view_count": null,
            "_view_module": "@jupyter-widgets/base",
            "_view_module_version": "1.2.0",
            "_view_name": "StyleView",
            "description_width": ""
          }
        },
        "abd1af48bf57491dac07a48fb3d4621f": {
          "model_module": "@jupyter-widgets/base",
          "model_name": "LayoutModel",
          "model_module_version": "1.2.0",
          "state": {
            "_model_module": "@jupyter-widgets/base",
            "_model_module_version": "1.2.0",
            "_model_name": "LayoutModel",
            "_view_count": null,
            "_view_module": "@jupyter-widgets/base",
            "_view_module_version": "1.2.0",
            "_view_name": "LayoutView",
            "align_content": null,
            "align_items": null,
            "align_self": null,
            "border": null,
            "bottom": null,
            "display": null,
            "flex": null,
            "flex_flow": null,
            "grid_area": null,
            "grid_auto_columns": null,
            "grid_auto_flow": null,
            "grid_auto_rows": null,
            "grid_column": null,
            "grid_gap": null,
            "grid_row": null,
            "grid_template_areas": null,
            "grid_template_columns": null,
            "grid_template_rows": null,
            "height": null,
            "justify_content": null,
            "justify_items": null,
            "left": null,
            "margin": null,
            "max_height": null,
            "max_width": null,
            "min_height": null,
            "min_width": null,
            "object_fit": null,
            "object_position": null,
            "order": null,
            "overflow": null,
            "overflow_x": null,
            "overflow_y": null,
            "padding": null,
            "right": null,
            "top": null,
            "visibility": null,
            "width": null
          }
        },
        "a288bb15b61044e581f1af4903c4e43c": {
          "model_module": "@jupyter-widgets/controls",
          "model_name": "ProgressStyleModel",
          "model_module_version": "1.5.0",
          "state": {
            "_model_module": "@jupyter-widgets/controls",
            "_model_module_version": "1.5.0",
            "_model_name": "ProgressStyleModel",
            "_view_count": null,
            "_view_module": "@jupyter-widgets/base",
            "_view_module_version": "1.2.0",
            "_view_name": "StyleView",
            "bar_color": null,
            "description_width": ""
          }
        },
        "d6fee649227148e383b5acc6694536f0": {
          "model_module": "@jupyter-widgets/base",
          "model_name": "LayoutModel",
          "model_module_version": "1.2.0",
          "state": {
            "_model_module": "@jupyter-widgets/base",
            "_model_module_version": "1.2.0",
            "_model_name": "LayoutModel",
            "_view_count": null,
            "_view_module": "@jupyter-widgets/base",
            "_view_module_version": "1.2.0",
            "_view_name": "LayoutView",
            "align_content": null,
            "align_items": null,
            "align_self": null,
            "border": null,
            "bottom": null,
            "display": null,
            "flex": null,
            "flex_flow": null,
            "grid_area": null,
            "grid_auto_columns": null,
            "grid_auto_flow": null,
            "grid_auto_rows": null,
            "grid_column": null,
            "grid_gap": null,
            "grid_row": null,
            "grid_template_areas": null,
            "grid_template_columns": null,
            "grid_template_rows": null,
            "height": null,
            "justify_content": null,
            "justify_items": null,
            "left": null,
            "margin": null,
            "max_height": null,
            "max_width": null,
            "min_height": null,
            "min_width": null,
            "object_fit": null,
            "object_position": null,
            "order": null,
            "overflow": null,
            "overflow_x": null,
            "overflow_y": null,
            "padding": null,
            "right": null,
            "top": null,
            "visibility": null,
            "width": null
          }
        },
        "4f0ca5cdd790422993fd5842ebc5d2b6": {
          "model_module": "@jupyter-widgets/controls",
          "model_name": "DescriptionStyleModel",
          "model_module_version": "1.5.0",
          "state": {
            "_model_module": "@jupyter-widgets/controls",
            "_model_module_version": "1.5.0",
            "_model_name": "DescriptionStyleModel",
            "_view_count": null,
            "_view_module": "@jupyter-widgets/base",
            "_view_module_version": "1.2.0",
            "_view_name": "StyleView",
            "description_width": ""
          }
        }
      }
    },
    "accelerator": "GPU"
  },
  "cells": [
    {
      "cell_type": "markdown",
      "metadata": {
        "id": "view-in-github",
        "colab_type": "text"
      },
      "source": [
        "<a href=\"https://colab.research.google.com/github/areias/slm-finetunig/blob/main/medical_ner.ipynb\" target=\"_parent\"><img src=\"https://colab.research.google.com/assets/colab-badge.svg\" alt=\"Open In Colab\"/></a>"
      ]
    },
    {
      "cell_type": "markdown",
      "source": [
        "## Domain specific NER and finetuing\n",
        "\n",
        "\n",
        "## Medical\n",
        "\n",
        "\n",
        "* https://huggingface.co/datasets/ncbi_disease\n",
        "\n",
        "\n",
        "\n",
        "* https://github.com/JHnlp/BioCreative-V-CDR-Corpus  - BC5CDR corpus consists of 1500 PubMed articles with 4409 annotated chemicals, 5818 diseases and 3116 chemical-disease interactions.\n",
        "\n",
        "* https://paperswithcode.com/dataset/radgraph\n",
        "\n",
        "\n",
        "\n",
        "* https://huggingface.co/datasets/tner/bionlp2004\n",
        "\n",
        " Dataset Card for \"tner/bionlp2004\"\n",
        "Dataset Summary\n",
        "\n",
        "BioNLP2004 NER dataset formatted in a part of TNER project. BioNLP2004 dataset contains training and test only, so we randomly sample a half size of test instances from the training set to create validation set.\n",
        "\n",
        "    Entity Types: DNA, protein, cell_type, cell_line, RNA\n",
        "\n",
        "\n",
        "\n",
        "## Other\n",
        "\n",
        "\n",
        "https://huggingface.co/datasets/sofc_materials_articles\n",
        "\n",
        "\n"
      ],
      "metadata": {
        "id": "eNfJRtzlglQQ"
      }
    },
    {
      "cell_type": "code",
      "source": [
        "from google.colab import drive\n",
        "drive.mount('/content/drive')"
      ],
      "metadata": {
        "colab": {
          "base_uri": "https://localhost:8080/"
        },
        "id": "I8GAn6ZlXwpW",
        "outputId": "c9482b23-1558-4033-c632-2167bece5bd2"
      },
      "execution_count": 58,
      "outputs": [
        {
          "output_type": "stream",
          "name": "stdout",
          "text": [
            "Mounted at /content/drive\n"
          ]
        }
      ]
    },
    {
      "cell_type": "code",
      "source": [
        " ! pip install -q datasets"
      ],
      "metadata": {
        "colab": {
          "base_uri": "https://localhost:8080/"
        },
        "id": "lvgGJk8QNkKd",
        "outputId": "31890ff9-d29e-4117-deaf-0e4cfc02120d"
      },
      "execution_count": 1,
      "outputs": [
        {
          "output_type": "stream",
          "name": "stdout",
          "text": [
            "\u001b[2K     \u001b[90m━━━━━━━━━━━━━━━━━━━━━━━━━━━━━━━━━━━━━━━━\u001b[0m \u001b[32m510.5/510.5 kB\u001b[0m \u001b[31m7.8 MB/s\u001b[0m eta \u001b[36m0:00:00\u001b[0m\n",
            "\u001b[2K     \u001b[90m━━━━━━━━━━━━━━━━━━━━━━━━━━━━━━━━━━━━━━━━\u001b[0m \u001b[32m116.3/116.3 kB\u001b[0m \u001b[31m10.7 MB/s\u001b[0m eta \u001b[36m0:00:00\u001b[0m\n",
            "\u001b[2K     \u001b[90m━━━━━━━━━━━━━━━━━━━━━━━━━━━━━━━━━━━━━━━━\u001b[0m \u001b[32m134.8/134.8 kB\u001b[0m \u001b[31m11.4 MB/s\u001b[0m eta \u001b[36m0:00:00\u001b[0m\n",
            "\u001b[?25h"
          ]
        }
      ]
    },
    {
      "cell_type": "code",
      "source": [
        "label2id = {\n",
        "    \"O\": 0,\n",
        "    \"B-DNA\": 1,\n",
        "    \"I-DNA\": 2,\n",
        "    \"B-protein\": 3,\n",
        "    \"I-protein\": 4,\n",
        "    \"B-cell_type\": 5,\n",
        "    \"I-cell_type\": 6,\n",
        "    \"B-cell_line\": 7,\n",
        "    \"I-cell_line\": 8,\n",
        "    \"B-RNA\": 9,\n",
        "    \"I-RNA\": 10\n",
        "}"
      ],
      "metadata": {
        "id": "PyvBV1z4HaN0"
      },
      "execution_count": 2,
      "outputs": []
    },
    {
      "cell_type": "code",
      "source": [
        "from datasets import load_dataset\n",
        "\n",
        "dataset = load_dataset(\"tner/bionlp2004\")"
      ],
      "metadata": {
        "colab": {
          "base_uri": "https://localhost:8080/"
        },
        "id": "nZXUJjFENgjs",
        "outputId": "ff1b6f82-d752-4125-a846-8a7b346df6e0"
      },
      "execution_count": 3,
      "outputs": [
        {
          "output_type": "stream",
          "name": "stderr",
          "text": [
            "/usr/local/lib/python3.10/dist-packages/huggingface_hub/utils/_token.py:88: UserWarning: \n",
            "The secret `HF_TOKEN` does not exist in your Colab secrets.\n",
            "To authenticate with the Hugging Face Hub, create a token in your settings tab (https://huggingface.co/settings/tokens), set it as secret in your Google Colab and restart your session.\n",
            "You will be able to reuse this secret in all of your notebooks.\n",
            "Please note that authentication is recommended but still optional to access public models or datasets.\n",
            "  warnings.warn(\n"
          ]
        }
      ]
    },
    {
      "cell_type": "code",
      "execution_count": 4,
      "metadata": {
        "id": "b0hwkSZcgkPy",
        "colab": {
          "base_uri": "https://localhost:8080/"
        },
        "outputId": "51cf8f5c-f63d-40f6-de66-c0e7fc8552b9"
      },
      "outputs": [
        {
          "output_type": "execute_result",
          "data": {
            "text/plain": [
              "dict_keys(['train', 'validation', 'test'])"
            ]
          },
          "metadata": {},
          "execution_count": 4
        }
      ],
      "source": [
        "dataset.keys()"
      ]
    },
    {
      "cell_type": "code",
      "source": [
        "dataset['train'][0]"
      ],
      "metadata": {
        "colab": {
          "base_uri": "https://localhost:8080/"
        },
        "id": "rKIf_E49HLr3",
        "outputId": "7784a4fe-e036-451e-9f21-4891a9915c74"
      },
      "execution_count": 5,
      "outputs": [
        {
          "output_type": "execute_result",
          "data": {
            "text/plain": [
              "{'tokens': ['Since',\n",
              "  'HUVECs',\n",
              "  'released',\n",
              "  'superoxide',\n",
              "  'anions',\n",
              "  'in',\n",
              "  'response',\n",
              "  'to',\n",
              "  'TNF',\n",
              "  ',',\n",
              "  'and',\n",
              "  'H2O2',\n",
              "  'induces',\n",
              "  'VCAM-1',\n",
              "  ',',\n",
              "  'PDTC',\n",
              "  'may',\n",
              "  'act',\n",
              "  'as',\n",
              "  'a',\n",
              "  'radical',\n",
              "  'scavenger',\n",
              "  '.'],\n",
              " 'tags': [0, 7, 0, 0, 0, 0, 0, 0, 0, 0, 0, 0, 0, 3, 0, 0, 0, 0, 0, 0, 0, 0, 0]}"
            ]
          },
          "metadata": {},
          "execution_count": 5
        }
      ]
    },
    {
      "cell_type": "code",
      "source": [
        "# join sentences\n",
        "# replace tags\n",
        "# structure into input/ output\n",
        "# Swap keys and values using dictionary comprehension\n",
        "swapped_dict = {v: k for k, v in label2id.items()}\n",
        "\n",
        "# Print the swapped dictionary\n",
        "print(swapped_dict)\n"
      ],
      "metadata": {
        "colab": {
          "base_uri": "https://localhost:8080/"
        },
        "id": "guuEITSCHQyd",
        "outputId": "f30064c5-797b-4ccc-87d2-1ffb89cc3d3d"
      },
      "execution_count": 6,
      "outputs": [
        {
          "output_type": "stream",
          "name": "stdout",
          "text": [
            "{0: 'O', 1: 'B-DNA', 2: 'I-DNA', 3: 'B-protein', 4: 'I-protein', 5: 'B-cell_type', 6: 'I-cell_type', 7: 'B-cell_line', 8: 'I-cell_line', 9: 'B-RNA', 10: 'I-RNA'}\n"
          ]
        }
      ]
    },
    {
      "cell_type": "code",
      "source": [
        "def label_tokens(entry):\n",
        "    entry['ner_labels'] = [swapped_dict[x] for x in entry['tags']]\n",
        "    return entry\n"
      ],
      "metadata": {
        "id": "LImgtIF8JTDY"
      },
      "execution_count": 7,
      "outputs": []
    },
    {
      "cell_type": "code",
      "source": [
        "dataset['train'] = dataset[\"train\"].map(label_tokens)\n",
        "dataset['test'] = dataset[\"test\"].map(label_tokens)\n"
      ],
      "metadata": {
        "id": "Gu9uGZ4pJY2w"
      },
      "execution_count": 8,
      "outputs": []
    },
    {
      "cell_type": "code",
      "source": [
        "def tokens_to_sentence(entry):\n",
        "    entry['sentence'] = ' '.join(entry['tokens'])\n",
        "    return entry\n",
        "\n",
        "dataset['train'] = dataset[\"train\"].map(tokens_to_sentence)\n",
        "dataset['test'] = dataset[\"test\"].map(tokens_to_sentence)\n"
      ],
      "metadata": {
        "id": "NPHMZ202JnP5"
      },
      "execution_count": 9,
      "outputs": []
    },
    {
      "cell_type": "code",
      "source": [],
      "metadata": {
        "id": "VQNq2isrKfhY"
      },
      "execution_count": 9,
      "outputs": []
    },
    {
      "cell_type": "code",
      "source": [
        "def extract_entities(entry):\n",
        "    entities = {'DNA': [], 'protein': [], 'cell_type': [], 'cell_line':[], 'RNA': []}\n",
        "    current_entity = {\"type\": None, \"words\": []}\n",
        "    for word, label in zip(entry['tokens'], entry['ner_labels']):\n",
        "        if label.startswith('B-'):\n",
        "            entity_type = label.split('-')[1]\n",
        "            if current_entity[\"type\"] == entity_type:\n",
        "                entities[entity_type].append(' '.join(current_entity[\"words\"]))\n",
        "                current_entity[\"words\"] = [word]\n",
        "            else:\n",
        "                if current_entity[\"type\"] is not None:\n",
        "                    entities[current_entity[\"type\"]].append(' '.join(current_entity[\"words\"]))\n",
        "                current_entity = {\"type\": entity_type, \"words\": [word]}\n",
        "        elif label.startswith('I-'):\n",
        "            if current_entity[\"type\"] is not None:\n",
        "                current_entity[\"words\"].append(word)\n",
        "        else:\n",
        "            if current_entity[\"type\"] is not None:\n",
        "                entities[current_entity[\"type\"]].append(' '.join(current_entity[\"words\"]))\n",
        "            current_entity = {\"type\": None, \"words\": []}\n",
        "    if current_entity[\"type\"] is not None:\n",
        "        entities[current_entity[\"type\"]].append(' '.join(current_entity[\"words\"]))\n",
        "\n",
        "    entry['entities'] = entities\n",
        "    return entry\n"
      ],
      "metadata": {
        "id": "cQElwVShJcbm"
      },
      "execution_count": 10,
      "outputs": []
    },
    {
      "cell_type": "code",
      "source": [
        "dataset['train'] = dataset[\"train\"].map(extract_entities)\n",
        "dataset['test'] = dataset[\"test\"].map(extract_entities)\n"
      ],
      "metadata": {
        "id": "R4s7SrYJJ7KY"
      },
      "execution_count": 11,
      "outputs": []
    },
    {
      "cell_type": "code",
      "source": [
        "dataset['train'][0]['entities']"
      ],
      "metadata": {
        "colab": {
          "base_uri": "https://localhost:8080/"
        },
        "id": "RujpCsQfitxL",
        "outputId": "ffa4fc2f-3fe7-4137-8e30-bffa5b6c64a4"
      },
      "execution_count": 12,
      "outputs": [
        {
          "output_type": "execute_result",
          "data": {
            "text/plain": [
              "{'DNA': [],\n",
              " 'RNA': [],\n",
              " 'cell_line': ['HUVECs'],\n",
              " 'cell_type': [],\n",
              " 'protein': ['VCAM-1']}"
            ]
          },
          "metadata": {},
          "execution_count": 12
        }
      ]
    },
    {
      "cell_type": "code",
      "source": [
        "def eval_formatting_func(entry):\n",
        "    #tokenizer add bos token\n",
        "    text = (f\"[INST] You are an NLP expert tasked with Bio-entity Entity Extraction. \"\n",
        "        f\"Identify entities of the type DNA, RNA, cell_line, cell_type, and protein in the following sentence: '{entry['sentence']}'\\n\"\n",
        "        \"Your answer must be in the form of a dict {'DNA':['DNA entity 1', 'DNA entity 2', '...'], 'RNA': [], 'cell_line': [], 'cell_type': [],\"\n",
        "        \"'protein': []}\\n\"\n",
        "        \"Take care, your answer is only valid if it follows the correct format! [/INST]\")\n",
        "\n",
        "    return text"
      ],
      "metadata": {
        "id": "ePDZ5AOeg8_n"
      },
      "execution_count": 13,
      "outputs": []
    },
    {
      "cell_type": "code",
      "source": [
        "def formatting_func(entry):\n",
        "    #tokenizer add bos token\n",
        "    text = (f\"[INST] You are an NLP expert tasked with Bio-entity Entity Extraction. \"\n",
        "        f\"Identify entities of the type DNA, RNA, cell_line, cell_type, and protein in the following sentence: '{entry['sentence']}'\\n\"\n",
        "        \"Your answer must be in the form of a dict {'DNA':['DNA entity 1', 'DNA entity 2', '...'], 'RNA': [], 'cell_line': [], 'cell_type': [],\"\n",
        "        \"'protein': []}\\n\"\n",
        "        \"Take care, your answer is only valid if it follows the correct format! [/INST]\\n\"\n",
        "        f\"{entry['entities']}</s>\")\n",
        "    return text"
      ],
      "metadata": {
        "id": "yIYBu9YPJ9Jz"
      },
      "execution_count": 14,
      "outputs": []
    },
    {
      "cell_type": "code",
      "source": [
        "print(formatting_func(dataset['train'][9]))"
      ],
      "metadata": {
        "colab": {
          "base_uri": "https://localhost:8080/"
        },
        "id": "fE1erk8HMLcJ",
        "outputId": "a887d2a9-a1d0-462e-d038-73fc10601575"
      },
      "execution_count": 15,
      "outputs": [
        {
          "output_type": "stream",
          "name": "stdout",
          "text": [
            "[INST] You are an NLP expert tasked with Bio-entity Entity Extraction. Identify entities of the type DNA, RNA, cell_line, cell_type, and protein in the following sentence: 'By employing a derivative E box that binds ZEB but not E2A , we have shown that the repressor is active in B cells and the IgH enhancer is silenced in the absence of binding competition by bHLH proteins .'\n",
            "Your answer must be in the form of a dict {'DNA':['DNA entity 1', 'DNA entity 2', '...'], 'RNA': [], 'cell_line': [], 'cell_type': [],'protein': []}\n",
            "Take care, your answer is only valid if it follows the correct format! [/INST]\n",
            "{'DNA': ['E box', 'IgH enhancer'], 'RNA': [], 'cell_line': [], 'cell_type': ['B cells'], 'protein': ['ZEB', 'E2A', 'repressor', 'bHLH proteins']}</s>\n"
          ]
        }
      ]
    },
    {
      "cell_type": "code",
      "source": [
        "len(dataset['train']), len(dataset['test']), len(dataset['validation'])"
      ],
      "metadata": {
        "colab": {
          "base_uri": "https://localhost:8080/"
        },
        "id": "F6sdxF_uPbZf",
        "outputId": "782df149-0c7c-4673-da99-14c84d210075"
      },
      "execution_count": 16,
      "outputs": [
        {
          "output_type": "execute_result",
          "data": {
            "text/plain": [
              "(16619, 3856, 1927)"
            ]
          },
          "metadata": {},
          "execution_count": 16
        }
      ]
    },
    {
      "cell_type": "code",
      "source": [
        "def count_entities(dataset):\n",
        "    # Initialize counters\n",
        "    entity_counts = {\n",
        "        'DNA': 0,\n",
        "        'RNA': 0,\n",
        "        'cell_line': 0,\n",
        "        'cell_type': 0,\n",
        "        'protein': 0\n",
        "    }\n",
        "\n",
        "    # Count entities\n",
        "    for entry in dataset:\n",
        "        for entity, values in entry['entities'].items():\n",
        "            if values:\n",
        "                entity_counts[entity] += len(values)\n",
        "\n",
        "    # Print counts\n",
        "    for entity, count in entity_counts.items():\n",
        "        print(f\"{entity}: {count}\")\n",
        ""
      ],
      "metadata": {
        "id": "_5JzJDyrMOvX"
      },
      "execution_count": 17,
      "outputs": []
    },
    {
      "cell_type": "code",
      "source": [
        "count_entities(dataset['train'])"
      ],
      "metadata": {
        "colab": {
          "base_uri": "https://localhost:8080/"
        },
        "id": "WUF3aMJFTID3",
        "outputId": "e4215535-f14a-40e6-e4c5-406cd716acd6"
      },
      "execution_count": 18,
      "outputs": [
        {
          "output_type": "stream",
          "name": "stdout",
          "text": [
            "DNA: 8273\n",
            "RNA: 820\n",
            "cell_line: 3325\n",
            "cell_type: 6090\n",
            "protein: 27240\n"
          ]
        }
      ]
    },
    {
      "cell_type": "code",
      "source": [
        "count_entities(dataset['test'])"
      ],
      "metadata": {
        "colab": {
          "base_uri": "https://localhost:8080/"
        },
        "id": "J97YJAR_TK_N",
        "outputId": "3ab0805b-7ddc-4a32-d311-d3616f148db9"
      },
      "execution_count": 19,
      "outputs": [
        {
          "output_type": "stream",
          "name": "stdout",
          "text": [
            "DNA: 1056\n",
            "RNA: 118\n",
            "cell_line: 500\n",
            "cell_type: 1921\n",
            "protein: 5067\n"
          ]
        }
      ]
    },
    {
      "cell_type": "code",
      "source": [
        "train_sample = dataset[\"train\"].shuffle(seed=42).select(range(1000))\n",
        "test_sample = dataset[\"test\"].shuffle(seed=42).select(range(100))\n"
      ],
      "metadata": {
        "id": "VT19pjPQTsPq"
      },
      "execution_count": 142,
      "outputs": []
    },
    {
      "cell_type": "code",
      "source": [
        "test_sample"
      ],
      "metadata": {
        "colab": {
          "base_uri": "https://localhost:8080/"
        },
        "id": "MVC_XSugDbMp",
        "outputId": "35ef5d26-b232-4d4c-b276-7dafddacedce"
      },
      "execution_count": 143,
      "outputs": [
        {
          "output_type": "execute_result",
          "data": {
            "text/plain": [
              "Dataset({\n",
              "    features: ['tokens', 'tags', 'ner_labels', 'sentence', 'entities'],\n",
              "    num_rows: 100\n",
              "})"
            ]
          },
          "metadata": {},
          "execution_count": 143
        }
      ]
    },
    {
      "cell_type": "code",
      "source": [
        "count_entities(train_sample)"
      ],
      "metadata": {
        "colab": {
          "base_uri": "https://localhost:8080/"
        },
        "id": "arLzrLOlUBqQ",
        "outputId": "43b74bab-3eff-42fd-c8ca-d9e8db97f321"
      },
      "execution_count": 144,
      "outputs": [
        {
          "output_type": "stream",
          "name": "stdout",
          "text": [
            "DNA: 506\n",
            "RNA: 48\n",
            "cell_line: 193\n",
            "cell_type: 326\n",
            "protein: 1609\n"
          ]
        }
      ]
    },
    {
      "cell_type": "code",
      "source": [
        "count_entities(test_sample)"
      ],
      "metadata": {
        "colab": {
          "base_uri": "https://localhost:8080/"
        },
        "id": "6leYEUr5UFtq",
        "outputId": "1b57db0e-87ed-400c-86f6-de5a5c82f5d8"
      },
      "execution_count": 145,
      "outputs": [
        {
          "output_type": "stream",
          "name": "stdout",
          "text": [
            "DNA: 31\n",
            "RNA: 1\n",
            "cell_line: 8\n",
            "cell_type: 56\n",
            "protein: 120\n"
          ]
        }
      ]
    },
    {
      "cell_type": "code",
      "source": [
        "dataset['test'][0]"
      ],
      "metadata": {
        "colab": {
          "base_uri": "https://localhost:8080/"
        },
        "id": "ZSN9qQs2y1i8",
        "outputId": "e8fa3b10-3bc3-40eb-aa7f-f59b3e18cb70"
      },
      "execution_count": 168,
      "outputs": [
        {
          "output_type": "execute_result",
          "data": {
            "text/plain": [
              "{'tokens': ['Number',\n",
              "  'of',\n",
              "  'glucocorticoid',\n",
              "  'receptors',\n",
              "  'in',\n",
              "  'lymphocytes',\n",
              "  'and',\n",
              "  'their',\n",
              "  'sensitivity',\n",
              "  'to',\n",
              "  'hormone',\n",
              "  'action',\n",
              "  '.'],\n",
              " 'tags': [0, 0, 3, 4, 0, 5, 0, 0, 0, 0, 0, 0, 0],\n",
              " 'ner_labels': ['O',\n",
              "  'O',\n",
              "  'B-protein',\n",
              "  'I-protein',\n",
              "  'O',\n",
              "  'B-cell_type',\n",
              "  'O',\n",
              "  'O',\n",
              "  'O',\n",
              "  'O',\n",
              "  'O',\n",
              "  'O',\n",
              "  'O'],\n",
              " 'sentence': 'Number of glucocorticoid receptors in lymphocytes and their sensitivity to hormone action .',\n",
              " 'entities': {'DNA': [],\n",
              "  'RNA': [],\n",
              "  'cell_line': [],\n",
              "  'cell_type': ['lymphocytes'],\n",
              "  'protein': ['glucocorticoid receptors']}}"
            ]
          },
          "metadata": {},
          "execution_count": 168
        }
      ]
    },
    {
      "cell_type": "code",
      "source": [
        "# Initialize counters for each category\n",
        "count_rna = 0\n",
        "count_cell_line = 0\n",
        "count_cell_type = 0\n",
        "\n",
        "\n",
        "# Iterate through the list\n",
        "balanced_sample= []\n",
        "for entry in dataset['test']:\n",
        "    # Check if 'RNA' is not empty and we haven't collected 50 RNA examples yet\n",
        "    if entry['entities']['RNA'] and count_rna < 50:\n",
        "        balanced_sample.append(entry)\n",
        "        count_rna += 1\n",
        "        pass\n",
        "    # Check if 'cell_line' is not empty and we haven't collected 50 cell line examples yet\n",
        "    elif entry['entities']['cell_line'] and count_cell_line < 50:\n",
        "        balanced_sample.append(entry)\n",
        "        count_cell_line += 1\n",
        "        pass\n",
        "    # Check if 'cell_type' is not empty and we haven't collected 50 cell type examples yet\n",
        "    elif entry['entities']['cell_type'] and count_cell_type < 50:\n",
        "        balanced_sample.append(entry)\n",
        "        count_cell_type += 1\n",
        "\n",
        "    # Break the loop if we have found 50 examples for each category\n",
        "    if count_rna == 50 and count_cell_line == 50 and count_cell_type == 50:\n",
        "        break\n"
      ],
      "metadata": {
        "id": "u8tm4cs4r8eq"
      },
      "execution_count": 169,
      "outputs": []
    },
    {
      "cell_type": "code",
      "source": [
        "count_entities(balanced_sample)"
      ],
      "metadata": {
        "colab": {
          "base_uri": "https://localhost:8080/"
        },
        "id": "vcn6k1Lpsxu5",
        "outputId": "5d1a3089-72a2-4fad-9ac0-b56fe404aa43"
      },
      "execution_count": 170,
      "outputs": [
        {
          "output_type": "stream",
          "name": "stdout",
          "text": [
            "DNA: 60\n",
            "RNA: 54\n",
            "cell_line: 86\n",
            "cell_type: 97\n",
            "protein: 154\n"
          ]
        }
      ]
    },
    {
      "cell_type": "markdown",
      "source": [
        "## Load model\n"
      ],
      "metadata": {
        "id": "wVlGbfqHUUK8"
      }
    },
    {
      "cell_type": "code",
      "source": [
        "! pip install -q peft\n",
        "! pip install -q git+https://github.com/huggingface/accelerate.git\n",
        "! pip install -q bitsandbytes\n",
        "! pip install -q transformers"
      ],
      "metadata": {
        "colab": {
          "base_uri": "https://localhost:8080/"
        },
        "id": "kjOsDKqwUTgx",
        "outputId": "ed504623-82e6-4412-e5ad-31710f960a81"
      },
      "execution_count": 21,
      "outputs": [
        {
          "output_type": "stream",
          "name": "stdout",
          "text": [
            "\u001b[2K     \u001b[90m━━━━━━━━━━━━━━━━━━━━━━━━━━━━━━━━━━━━━━━━\u001b[0m \u001b[32m190.9/190.9 kB\u001b[0m \u001b[31m3.3 MB/s\u001b[0m eta \u001b[36m0:00:00\u001b[0m\n",
            "\u001b[2K     \u001b[90m━━━━━━━━━━━━━━━━━━━━━━━━━━━━━━━━━━━━━━━━\u001b[0m \u001b[32m280.0/280.0 kB\u001b[0m \u001b[31m22.6 MB/s\u001b[0m eta \u001b[36m0:00:00\u001b[0m\n",
            "\u001b[?25h  Installing build dependencies ... \u001b[?25l\u001b[?25hdone\n",
            "  Getting requirements to build wheel ... \u001b[?25l\u001b[?25hdone\n",
            "  Preparing metadata (pyproject.toml) ... \u001b[?25l\u001b[?25hdone\n",
            "  Building wheel for accelerate (pyproject.toml) ... \u001b[?25l\u001b[?25hdone\n",
            "\u001b[2K     \u001b[90m━━━━━━━━━━━━━━━━━━━━━━━━━━━━━━━━━━━━━━━━\u001b[0m \u001b[32m102.2/102.2 MB\u001b[0m \u001b[31m7.8 MB/s\u001b[0m eta \u001b[36m0:00:00\u001b[0m\n",
            "\u001b[?25h"
          ]
        }
      ]
    },
    {
      "cell_type": "code",
      "source": [
        "from transformers import AutoTokenizer, AutoModelForCausalLM, BitsAndBytesConfig\n",
        "import torch"
      ],
      "metadata": {
        "id": "ER2NHL0bUImL"
      },
      "execution_count": 25,
      "outputs": []
    },
    {
      "cell_type": "code",
      "source": [
        "model_id = \"mistralai/Mistral-7B-Instruct-v0.2\"\n",
        "\n",
        "bnb_config = BitsAndBytesConfig(\n",
        "    load_in_4bit=True,\n",
        "    bnb_4bit_use_double_quant=True,\n",
        "    bnb_4bit_quant_type=\"nf4\",\n",
        "    bnb_4bit_compute_dtype=torch.bfloat16\n",
        ")"
      ],
      "metadata": {
        "id": "I_3AiJ5MZLqW"
      },
      "execution_count": 26,
      "outputs": []
    },
    {
      "cell_type": "code",
      "source": [
        "model = AutoModelForCausalLM.from_pretrained(model_id, quantization_config=bnb_config, device_map=\"auto\")"
      ],
      "metadata": {
        "colab": {
          "base_uri": "https://localhost:8080/",
          "height": 49,
          "referenced_widgets": [
            "d33a310859384153b8c6953e25212298",
            "41ea72e513174224974f530cb206baa4",
            "38877cfc79434091a4542b206483c185",
            "436c392520d941b9a626c10b05264ef7",
            "87684da8fde642a78d963f69f9248d34",
            "3f4ea4f41f334cf6b8837ee548d751c2",
            "2c1440ca42a64dc2a8648f212f1322cc",
            "abd1af48bf57491dac07a48fb3d4621f",
            "a288bb15b61044e581f1af4903c4e43c",
            "d6fee649227148e383b5acc6694536f0",
            "4f0ca5cdd790422993fd5842ebc5d2b6"
          ]
        },
        "id": "PxV9uA9WZNev",
        "outputId": "8ae02b54-7930-4535-d3a5-ae46d294f7f3"
      },
      "execution_count": 27,
      "outputs": [
        {
          "output_type": "display_data",
          "data": {
            "text/plain": [
              "Loading checkpoint shards:   0%|          | 0/3 [00:00<?, ?it/s]"
            ],
            "application/vnd.jupyter.widget-view+json": {
              "version_major": 2,
              "version_minor": 0,
              "model_id": "d33a310859384153b8c6953e25212298"
            }
          },
          "metadata": {}
        }
      ]
    },
    {
      "cell_type": "code",
      "source": [
        "# Init an eval tokenizer that doesn't add padding or eos token\n",
        "eval_tokenizer = AutoTokenizer.from_pretrained(\n",
        "    model_id,\n",
        "    add_bos_token=True,\n",
        ")"
      ],
      "metadata": {
        "id": "Po9fMCKRZPLI"
      },
      "execution_count": 28,
      "outputs": []
    },
    {
      "cell_type": "code",
      "source": [
        "idx=45\n",
        "eval_prompt = eval_formatting_func(test_sample[idx])\n",
        "print(eval_prompt)"
      ],
      "metadata": {
        "colab": {
          "base_uri": "https://localhost:8080/"
        },
        "id": "Chh-QFRDZ4E2",
        "outputId": "b6d53fe1-d3bc-4fa9-b2d8-d41f02c32115"
      },
      "execution_count": 40,
      "outputs": [
        {
          "output_type": "stream",
          "name": "stdout",
          "text": [
            "[INST] You are an NLP expert tasked with Bio-entity Entity Extraction. Identify entities of the type DNA, RNA, cell_line, cell_type, and protein in the following sentence: 'All clinical specimens from patients with lymphatic leukemia have some measurable level of glucocorticoid receptors ; therefore , the resistance seen in vivo can not be explained by the lack of receptors .'\n",
            "Your answer must be in the form of a dict {'DNA':['DNA entity 1', 'DNA entity 2', '...'], 'RNA': [], 'cell_line': [], 'cell_type': [],'protein': []}\n",
            "Take care, your answer is only valid if it follows the correct format! [/INST]\n"
          ]
        }
      ]
    },
    {
      "cell_type": "code",
      "source": [
        "ground_truth = test_sample[idx]['entities']\n",
        "ground_truth"
      ],
      "metadata": {
        "colab": {
          "base_uri": "https://localhost:8080/"
        },
        "id": "z2VV2N4Niium",
        "outputId": "d046287c-a5d2-4d0b-d0e2-2a821233136a"
      },
      "execution_count": 41,
      "outputs": [
        {
          "output_type": "execute_result",
          "data": {
            "text/plain": [
              "{'DNA': [],\n",
              " 'RNA': [],\n",
              " 'cell_line': [],\n",
              " 'cell_type': [],\n",
              " 'protein': ['glucocorticoid receptors']}"
            ]
          },
          "metadata": {},
          "execution_count": 41
        }
      ]
    },
    {
      "cell_type": "code",
      "source": [
        "def get_prediction(entry):\n",
        "\n",
        "    eval_prompt = eval_formatting_func(entry)\n",
        "\n",
        "    model_input = eval_tokenizer(eval_prompt, return_tensors=\"pt\").to(\"cuda\")\n",
        "\n",
        "    model.eval()\n",
        "    with torch.no_grad():\n",
        "        response  = eval_tokenizer.decode(model.generate(**model_input,\n",
        "                        max_new_tokens=256, repetition_penalty=1.15,\n",
        "                        pad_token_id=eval_tokenizer.eos_token_id)[0], skip_special_tokens=True)\n",
        "        response = response.replace(eval_prompt, \"\")\n",
        "    return response"
      ],
      "metadata": {
        "id": "VdkRmXKUg6M8"
      },
      "execution_count": 40,
      "outputs": []
    },
    {
      "cell_type": "code",
      "source": [
        "from tqdm import tqdm\n",
        "\n",
        "predictions = []\n",
        "for sample in tqdm(balanced_sample):\n",
        "    response = get_prediction(sample)\n",
        "    predictions.append({\"sentence\":sample['sentence'],\n",
        "                       \"entities\":sample['entities'],\n",
        "                        \"base_response\": response})"
      ],
      "metadata": {
        "colab": {
          "base_uri": "https://localhost:8080/"
        },
        "id": "dC6Kq2T2CT5Q",
        "outputId": "53da8cf1-4a3a-403e-906a-24b760aa2fe0"
      },
      "execution_count": 173,
      "outputs": [
        {
          "output_type": "stream",
          "name": "stderr",
          "text": [
            "100%|██████████| 150/150 [32:20<00:00, 12.94s/it]\n"
          ]
        }
      ]
    },
    {
      "cell_type": "code",
      "source": [
        "%cd /content/drive/My Drive"
      ],
      "metadata": {
        "colab": {
          "base_uri": "https://localhost:8080/"
        },
        "id": "wmI8TgvwUC6n",
        "outputId": "c81ec999-fcfd-47d0-d4fa-841a3ddcdbc2"
      },
      "execution_count": 63,
      "outputs": [
        {
          "output_type": "stream",
          "name": "stdout",
          "text": [
            "/content/drive/My Drive\n"
          ]
        }
      ]
    },
    {
      "cell_type": "code",
      "source": [
        "ls mistral-finetune/data"
      ],
      "metadata": {
        "colab": {
          "base_uri": "https://localhost:8080/"
        },
        "id": "J0d3ekLaUS4t",
        "outputId": "1ead6e7e-8535-4385-e753-e5987e2397aa"
      },
      "execution_count": 70,
      "outputs": [
        {
          "output_type": "stream",
          "name": "stdout",
          "text": [
            "med-ner-predictions.json        nyt10m_test.csv             test_sample.json\n",
            "nyt10m_finetuning-balanced.csv  rel-ext-train.jsonl         train.jsonl\n",
            "nyt10m_finetuning.csv           test_sample_basepreds.json  train_sample.json\n"
          ]
        }
      ]
    },
    {
      "cell_type": "code",
      "source": [
        "len(predictions)"
      ],
      "metadata": {
        "colab": {
          "base_uri": "https://localhost:8080/"
        },
        "id": "G23LDMdF-dF6",
        "outputId": "d8e1f84a-be6c-4ab2-927e-fc34dc1c1771"
      },
      "execution_count": 51,
      "outputs": [
        {
          "output_type": "execute_result",
          "data": {
            "text/plain": [
              "100"
            ]
          },
          "metadata": {},
          "execution_count": 51
        }
      ]
    },
    {
      "cell_type": "code",
      "source": [
        "\n",
        "# Save the list of items to a JSON file\n",
        "with open(\"mistral-finetune/data/med-ner-predictions_balanced.json\", 'w') as f:\n",
        "    json.dump(predictions, f, indent=4)"
      ],
      "metadata": {
        "id": "kcSPs5ynzM_g"
      },
      "execution_count": 174,
      "outputs": []
    },
    {
      "cell_type": "code",
      "source": [
        "import json\n",
        "\n",
        "# Save the list of items to a JSON file\n",
        "with open(\"mistral-finetune/data/med-ner-predictions.json\", 'w') as f:\n",
        "    json.dump(predictions, f, indent=4)"
      ],
      "metadata": {
        "id": "z8eOeQa3T4Od"
      },
      "execution_count": null,
      "outputs": []
    },
    {
      "cell_type": "code",
      "source": [],
      "metadata": {
        "id": "PY_aYqu_zMge"
      },
      "execution_count": null,
      "outputs": []
    },
    {
      "cell_type": "code",
      "source": [
        "import re\n",
        "\n",
        "def parse_response(sentence):\n",
        "    # Find the text between curly braces\n",
        "    match = re.search(r'\\{[^{}]+\\}', sentence)  # Changed 'response' to 'sentence'\n",
        "    # If a match is found, evaluate it as a dictionary using eval\n",
        "\n",
        "    if match:\n",
        "        entities_str = match.group(0)\n",
        "        try:\n",
        "            entities_dict = eval(entities_str)\n",
        "            # List of keys to check\n",
        "            expected_keys = ['DNA', 'RNA', 'cell_line', 'cell_type', 'protein']\n",
        "            # Check each key and add it if missing\n",
        "            for key in expected_keys:\n",
        "                if key not in entities_dict:\n",
        "                    entities_dict[key] = []  # Add key with an empty list as value\n",
        "            return entities_dict\n",
        "        except:\n",
        "            return {'DNA':[], 'RNA':[], 'cell_line':[], 'cell_type':[], 'protein': []}\n",
        "    else:\n",
        "        # If no match is found, return an empty dictionary\n",
        "        return {'DNA':[], 'RNA':[], 'cell_line':[], 'cell_type':[], 'protein': []}\n"
      ],
      "metadata": {
        "id": "poo50MnghqZ8"
      },
      "execution_count": 72,
      "outputs": []
    },
    {
      "cell_type": "code",
      "source": [
        "for sample in tqdm(predictions):\n",
        "    response_dict = parse_response(sample['base_response'])\n",
        "    sample['base_response_dict'] = response_dict\n"
      ],
      "metadata": {
        "colab": {
          "base_uri": "https://localhost:8080/"
        },
        "id": "czC-E6950Bx1",
        "outputId": "c04a6449-adb4-410a-a2a4-326673938e32"
      },
      "execution_count": 176,
      "outputs": [
        {
          "output_type": "stream",
          "name": "stderr",
          "text": [
            "100%|██████████| 150/150 [00:00<00:00, 17211.40it/s]\n"
          ]
        }
      ]
    },
    {
      "cell_type": "code",
      "source": [
        "predictions[0]"
      ],
      "metadata": {
        "colab": {
          "base_uri": "https://localhost:8080/"
        },
        "id": "7Z0oW_ii9XSC",
        "outputId": "65ba9816-3ede-4592-e7de-8c433aee6f61"
      },
      "execution_count": 175,
      "outputs": [
        {
          "output_type": "execute_result",
          "data": {
            "text/plain": [
              "{'sentence': 'Number of glucocorticoid receptors in lymphocytes and their sensitivity to hormone action .',\n",
              " 'entities': {'DNA': [],\n",
              "  'RNA': [],\n",
              "  'cell_line': [],\n",
              "  'cell_type': ['lymphocytes'],\n",
              "  'protein': ['glucocorticoid receptors']},\n",
              " 'base_response': \" Based on the given sentence, there are no explicit mentions of DNA, RNA, cell\\\\_line, cell\\\\_type, or protein entities. Therefore, all lists should be empty for this input.\\n\\n```python\\n{'DNA':[], 'RNA':[], 'cell_line':[], 'cell_type':[], 'protein':[]}\\n```\"}"
            ]
          },
          "metadata": {},
          "execution_count": 175
        }
      ]
    },
    {
      "cell_type": "code",
      "source": [
        "def precision(actual, predicted):\n",
        "    actual_lower = [word.lower() for word in actual]\n",
        "    predicted_lower = [word.lower() for word in predicted]\n",
        "\n",
        "    if not actual_lower and not predicted_lower:\n",
        "        return 1.0  # Both lists are empty, so precision is 1 (correct prediction)\n",
        "\n",
        "    true_positives = sum(1 for p in predicted_lower if p in actual_lower)\n",
        "    predicted_positives = len(predicted_lower)\n",
        "    if predicted_positives == 0:\n",
        "        return 0  # Handle case where there are no predicted positives to avoid division by zero\n",
        "    return true_positives / predicted_positives"
      ],
      "metadata": {
        "id": "Qwvf-G5cxBHL"
      },
      "execution_count": 75,
      "outputs": []
    },
    {
      "cell_type": "code",
      "source": [
        "def recall(actual, predicted):\n",
        "    actual_lower = [word.lower() for word in actual]\n",
        "    predicted_lower = [word.lower() for word in predicted]\n",
        "\n",
        "    if not actual_lower and not predicted_lower:\n",
        "        return 1.0  # Both lists are empty, so recall is 1 (correct prediction)\n",
        "\n",
        "    true_positives = sum(1 for p in predicted_lower if p in actual_lower)\n",
        "    actual_positives = len(actual_lower)\n",
        "    if actual_positives == 0:\n",
        "        return 0  # Handle case where there are no actual positives to avoid division by zero\n",
        "    return true_positives / actual_positives"
      ],
      "metadata": {
        "id": "eDT9E3PuxBfM"
      },
      "execution_count": 76,
      "outputs": []
    },
    {
      "cell_type": "code",
      "source": [
        "def f1_score(actual, predicted):\n",
        "    prec = precision(actual, predicted)\n",
        "    rec = recall(actual, predicted)\n",
        "    if prec + rec == 0:\n",
        "        return 0  # Handle case where precision + recall is zero to avoid division by zero\n",
        "    return 2 * (prec * rec) / (prec + rec)"
      ],
      "metadata": {
        "id": "1O_LmmcBxJzc"
      },
      "execution_count": 77,
      "outputs": []
    },
    {
      "cell_type": "code",
      "source": [
        "for idx, entry in enumerate(predictions):\n",
        "    scores = {}\n",
        "    for label in entry['entities'].keys():\n",
        "        p = precision(entry['entities'][label], entry['base_response_dict'][label])\n",
        "        r = recall(entry['entities'][label],  entry['base_response_dict'][label])\n",
        "        f = f1_score(entry['entities'][label], entry['base_response_dict'][label])\n",
        "        scores[label] =(p,r,f)\n",
        "    predictions[idx]['base_scores'] = scores"
      ],
      "metadata": {
        "id": "Y34yXKr5z0pq"
      },
      "execution_count": 177,
      "outputs": []
    },
    {
      "cell_type": "code",
      "source": [
        "predictions[0]"
      ],
      "metadata": {
        "colab": {
          "base_uri": "https://localhost:8080/"
        },
        "id": "f4TZh_jJiGEi",
        "outputId": "2e04c638-c08a-4505-b30a-06810ca84035"
      },
      "execution_count": 179,
      "outputs": [
        {
          "output_type": "execute_result",
          "data": {
            "text/plain": [
              "{'sentence': 'Number of glucocorticoid receptors in lymphocytes and their sensitivity to hormone action .',\n",
              " 'entities': {'DNA': [],\n",
              "  'RNA': [],\n",
              "  'cell_line': [],\n",
              "  'cell_type': ['lymphocytes'],\n",
              "  'protein': ['glucocorticoid receptors']},\n",
              " 'base_response': \" Based on the given sentence, there are no explicit mentions of DNA, RNA, cell\\\\_line, cell\\\\_type, or protein entities. Therefore, all lists should be empty for this input.\\n\\n```python\\n{'DNA':[], 'RNA':[], 'cell_line':[], 'cell_type':[], 'protein':[]}\\n```\",\n",
              " 'base_response_dict': {'DNA': [],\n",
              "  'RNA': [],\n",
              "  'cell_line': [],\n",
              "  'cell_type': [],\n",
              "  'protein': []},\n",
              " 'base_scores': {'DNA': (1.0, 1.0, 1.0),\n",
              "  'RNA': (1.0, 1.0, 1.0),\n",
              "  'cell_line': (1.0, 1.0, 1.0),\n",
              "  'cell_type': (0, 0.0, 0),\n",
              "  'protein': (0, 0.0, 0)}}"
            ]
          },
          "metadata": {},
          "execution_count": 179
        }
      ]
    },
    {
      "cell_type": "code",
      "source": [
        "def calculate_average_metrics(data):\n",
        "    # Initialize variables to store sum of precision, recall, and f1_score for each entity type\n",
        "    sum_precision = {'DNA': 0, 'RNA': 0, 'cell_line': 0, 'cell_type': 0, 'protein': 0}\n",
        "    sum_recall = {'DNA': 0, 'RNA': 0, 'cell_line': 0, 'cell_type': 0, 'protein': 0}\n",
        "    sum_f1_score = {'DNA': 0, 'RNA': 0, 'cell_line': 0, 'cell_type': 0, 'protein': 0}\n",
        "    num_instances = len(data)\n",
        "\n",
        "    # Iterate over the list of dictionaries\n",
        "    for entry in data:\n",
        "        metrics = entry['base_scores']\n",
        "        for entity_type, (precision, recall, f1_score) in metrics.items():\n",
        "            sum_precision[entity_type] += precision\n",
        "            sum_recall[entity_type] += recall\n",
        "            sum_f1_score[entity_type] += f1_score\n",
        "\n",
        "    # Calculate average precision, recall, and f1_score for each entity type\n",
        "    avg_precision = {entity_type: sum_precision[entity_type] / num_instances for entity_type in sum_precision}\n",
        "    avg_recall = {entity_type: sum_recall[entity_type] / num_instances for entity_type in sum_recall}\n",
        "    avg_f1_score = {entity_type: sum_f1_score[entity_type] / num_instances for entity_type in sum_f1_score}\n",
        "\n",
        "    return avg_precision, avg_recall, avg_f1_score"
      ],
      "metadata": {
        "id": "da8DJaQqZm4O"
      },
      "execution_count": 180,
      "outputs": []
    },
    {
      "cell_type": "code",
      "source": [
        "calculate_average_metrics(predictions)"
      ],
      "metadata": {
        "colab": {
          "base_uri": "https://localhost:8080/"
        },
        "id": "w0dAiuEYZ8ow",
        "outputId": "fbf51471-9374-4e90-89ab-a3d39a0695cb"
      },
      "execution_count": 181,
      "outputs": [
        {
          "output_type": "execute_result",
          "data": {
            "text/plain": [
              "({'DNA': 0.6605555555555557,\n",
              "  'RNA': 0.7866666666666666,\n",
              "  'cell_line': 0.685,\n",
              "  'cell_type': 0.48444444444444446,\n",
              "  'protein': 0.516},\n",
              " {'DNA': 0.6473333333333333,\n",
              "  'RNA': 0.7788888888888889,\n",
              "  'cell_line': 0.6665079365079365,\n",
              "  'cell_type': 0.5033333333333333,\n",
              "  'protein': 0.47855555555555557},\n",
              " {'DNA': 0.6511111111111111,\n",
              "  'RNA': 0.7811111111111111,\n",
              "  'cell_line': 0.6723232323232323,\n",
              "  'cell_type': 0.4866666666666667,\n",
              "  'protein': 0.484162393162393})"
            ]
          },
          "metadata": {},
          "execution_count": 181
        }
      ]
    },
    {
      "cell_type": "code",
      "source": [
        "count_entities(balanced_sample)"
      ],
      "metadata": {
        "colab": {
          "base_uri": "https://localhost:8080/"
        },
        "id": "-RJP7LEhZ_SZ",
        "outputId": "cbc42e59-55e2-4eb8-bc7a-58b5811decb8"
      },
      "execution_count": 182,
      "outputs": [
        {
          "output_type": "stream",
          "name": "stdout",
          "text": [
            "DNA: 60\n",
            "RNA: 54\n",
            "cell_line: 86\n",
            "cell_type: 97\n",
            "protein: 154\n"
          ]
        }
      ]
    },
    {
      "cell_type": "code",
      "source": [],
      "metadata": {
        "id": "riUamIEokCvQ"
      },
      "execution_count": null,
      "outputs": []
    }
  ]
}